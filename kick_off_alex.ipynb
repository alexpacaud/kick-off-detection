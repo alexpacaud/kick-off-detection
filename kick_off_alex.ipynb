{
 "cells": [
  {
   "cell_type": "code",
   "execution_count": 6,
   "metadata": {},
   "outputs": [],
   "source": [
    "import time\n",
    "import pickle\n",
    "import numpy as np\n",
    "import pprint\n",
    "import matplotlib.pyplot as plt\n",
    "from tqdm import tqdm \n",
    "import json\n",
    "from dateutil.parser import parse"
   ]
  },
  {
   "cell_type": "code",
   "execution_count": 7,
   "metadata": {},
   "outputs": [],
   "source": [
    "from rdbtools import RdbParser, RdbCallback\n",
    "from rdbtools.encodehelpers import bytes_to_unicode\n",
    "\n",
    "class PublishCallback(RdbCallback):\n",
    "\n",
    "    def __init__(self, is_unicode=False, start_ts=float('-inf'), stop_ts=float('+inf')):\n",
    "        super(PublishCallback, self).__init__(string_escape=None)\n",
    "        self.ranges = {}\n",
    "        self.start = start_ts\n",
    "        self.stop = stop_ts\n",
    "        self.is_unicode = is_unicode\n",
    "\n",
    "    def encode_key(self, key):\n",
    "        return bytes_to_unicode(key, self._escape, skip_printable=True)\n",
    "\n",
    "    def encode_value(self, val):\n",
    "        if self.is_unicode:\n",
    "            return bytes_to_unicode(val, self._escape)\n",
    "        return val\n",
    "\n",
    "    def start_sorted_set(self, key, length, expiry, info):\n",
    "        self.ranges[self.encode_key(key)] = []\n",
    "\n",
    "    def zadd(self, key, score, member):\n",
    "        if self.start <= score <= self.stop:\n",
    "            self.ranges[self.encode_key(key)].append((self.encode_value(member), round(score)))\n",
    "\n",
    "    def end_sorted_set(self, key):\n",
    "        encoded_key = self.encode_key(key)\n",
    "        self.ranges[encoded_key] = list(reversed(self.ranges[encoded_key]))\n",
    "\n",
    "\n",
    "def parse_dump_file(dump_file, start_ts=float(\"-inf\"), stop_ts=float(\"+inf\")):\n",
    "    \"\"\"Parse a redis dump file (rdb) and return the data within.\n",
    "\n",
    "    Only supports SortedSet.\n",
    "\n",
    "    Args:\n",
    "        dump_file (str): Rdb path\n",
    "        start_ts (float): timestamp of the first value to publish\n",
    "        stop_ts (float): timestamp of the last value to publish\n",
    "\n",
    "    Returns:\n",
    "        ranges (dict): {\n",
    "                'keyA': [(FrameDataDump1A, Score1A), ..., (FrameDataDumpNA, ScoreNA)],\n",
    "                'keyB': [(FrameDataDump1B, Score1B), ..., (FrameDataDumpNB, ScoreNB)],\n",
    "                ...\n",
    "            }\n",
    "    \"\"\"\n",
    "    t0 = time.time()\n",
    "\n",
    "    callback = PublishCallback(start_ts=start_ts, stop_ts=stop_ts)\n",
    "    rdb_parser = RdbParser(callback)\n",
    "    rdb_parser.parse(dump_file)\n",
    "    print(\"Parsed {} in {:.2f} s.\".format(dump_file, time.time() - t0))\n",
    "    print(\"Contains keys:\", callback.ranges.keys())\n",
    "    for k in callback.ranges.keys():\n",
    "        print(\n",
    "            \"[{}] start_ts: {} | stop_ts: {}\".format(\n",
    "                k, callback.ranges[k][0][1], callback.ranges[k][-1][1]\n",
    "            )\n",
    "        )\n",
    "    return callback.ranges"
   ]
  },
  {
   "cell_type": "code",
   "execution_count": 8,
   "metadata": {},
   "outputs": [],
   "source": [
    "from ipywidgets import interact\n",
    "import ipywidgets as widgets"
   ]
  },
  {
   "cell_type": "code",
   "execution_count": 93,
   "metadata": {},
   "outputs": [
    {
     "name": "stdout",
     "output_type": "stream",
     "text": [
      "Parsed cd6d495b-8fe4-4586-8861-ba579cf3a6e9.1.kickoff.rdb in 0.53 s.\n",
      "Contains keys: dict_keys(['right', 'left'])\n",
      "[right] start_ts: 1523797351317 | stop_ts: 1523797585837\n",
      "[left] start_ts: 1523797351725 | stop_ts: 1523797586045\n"
     ]
    }
   ],
   "source": [
    "tracks = parse_dump_file('cd6d495b-8fe4-4586-8861-ba579cf3a6e9.1.kickoff.rdb')\n",
    "config = json.load(open('cd6d495b-8fe4-4586-8861-ba579cf3a6e9.json', 'r'))"
   ]
  },
  {
   "cell_type": "code",
   "execution_count": 94,
   "metadata": {},
   "outputs": [
    {
     "name": "stdout",
     "output_type": "stream",
     "text": [
      "dict_keys(['top_view_player_positions', 'valid_frame', 'phase_state', 'mapping', 'packed_rects', 'bboxes', 'last', 'top_view_ball_positions', 'ts', 'player_detections', 'stream_ts', 'embeddings', 'features', 'ball_detections'])\n"
     ]
    }
   ],
   "source": [
    "fd, ts = tracks['left'][0]\n",
    "\n",
    "\n",
    "fd = pickle.loads(fd)\n",
    "pprint.pprint(fd.__dict__.keys())"
   ]
  },
  {
   "cell_type": "code",
   "execution_count": 95,
   "metadata": {},
   "outputs": [],
   "source": [
    "kickoff_1 = config['phase_events'][0]['ts']\n",
    "kickoff_time = int(parse(kickoff_1).timestamp()*1000)"
   ]
  },
  {
   "cell_type": "code",
   "execution_count": 97,
   "metadata": {},
   "outputs": [],
   "source": [
    "pitch_size=config['pitch_size']"
   ]
  },
  {
   "cell_type": "code",
   "execution_count": 98,
   "metadata": {
    "scrolled": false
   },
   "outputs": [
    {
     "name": "stderr",
     "output_type": "stream",
     "text": [
      "5860it [00:02, 2565.99it/s]\n"
     ]
    }
   ],
   "source": [
    "detections = {'ball':{'left':{}, 'right':{}}, 'players':{'left':{}, 'right':{}}}\n",
    "\n",
    "timestamps = set()\n",
    "\n",
    "def ball_ok(ball_pos, ball_det):\n",
    "    if ball_pos[0] < 0 or ball_pos[1] < 0:\n",
    "        return False\n",
    "    if ball_det.confidence < 0.7:\n",
    "        return False\n",
    "    return True\n",
    "\n",
    "for (fd_left, ts_left), (fd_right, ts_right) in tqdm(zip(tracks['left'], tracks['right'])):\n",
    "    fd_left = pickle.loads(fd_left)\n",
    "    fd_right = pickle.loads(fd_right)\n",
    "    if np.abs(ts_left - ts_right) < 100:\n",
    "        ts_left = ts_right\n",
    "    timestamps.update({ts_left, ts_right})\n",
    "\n",
    "    detections['players']['left'][ts_left] = fd_left.top_view_player_positions\n",
    "    detections['players']['right'][ts_right] = fd_right.top_view_player_positions\n",
    "    detections['ball']['left'][ts_left] = np.array([bp for bp, bd in zip(fd_left.top_view_ball_positions, fd_left.ball_detections) if ball_ok(bp, bd)])\n",
    "    detections['ball']['right'][ts_right] = np.array([bp for bp, bd in zip(fd_right.top_view_ball_positions, fd_right.ball_detections) if ball_ok(bp, bd)])\n",
    "    "
   ]
  },
  {
   "cell_type": "code",
   "execution_count": 99,
   "metadata": {
    "scrolled": false
   },
   "outputs": [
    {
     "name": "stdout",
     "output_type": "stream",
     "text": [
      "1523797286995 1523797351317\n"
     ]
    },
    {
     "data": {
      "application/javascript": [
       "/* Put everything inside the global mpl namespace */\n",
       "window.mpl = {};\n",
       "\n",
       "\n",
       "mpl.get_websocket_type = function() {\n",
       "    if (typeof(WebSocket) !== 'undefined') {\n",
       "        return WebSocket;\n",
       "    } else if (typeof(MozWebSocket) !== 'undefined') {\n",
       "        return MozWebSocket;\n",
       "    } else {\n",
       "        alert('Your browser does not have WebSocket support.' +\n",
       "              'Please try Chrome, Safari or Firefox ≥ 6. ' +\n",
       "              'Firefox 4 and 5 are also supported but you ' +\n",
       "              'have to enable WebSockets in about:config.');\n",
       "    };\n",
       "}\n",
       "\n",
       "mpl.figure = function(figure_id, websocket, ondownload, parent_element) {\n",
       "    this.id = figure_id;\n",
       "\n",
       "    this.ws = websocket;\n",
       "\n",
       "    this.supports_binary = (this.ws.binaryType != undefined);\n",
       "\n",
       "    if (!this.supports_binary) {\n",
       "        var warnings = document.getElementById(\"mpl-warnings\");\n",
       "        if (warnings) {\n",
       "            warnings.style.display = 'block';\n",
       "            warnings.textContent = (\n",
       "                \"This browser does not support binary websocket messages. \" +\n",
       "                    \"Performance may be slow.\");\n",
       "        }\n",
       "    }\n",
       "\n",
       "    this.imageObj = new Image();\n",
       "\n",
       "    this.context = undefined;\n",
       "    this.message = undefined;\n",
       "    this.canvas = undefined;\n",
       "    this.rubberband_canvas = undefined;\n",
       "    this.rubberband_context = undefined;\n",
       "    this.format_dropdown = undefined;\n",
       "\n",
       "    this.image_mode = 'full';\n",
       "\n",
       "    this.root = $('<div/>');\n",
       "    this._root_extra_style(this.root)\n",
       "    this.root.attr('style', 'display: inline-block');\n",
       "\n",
       "    $(parent_element).append(this.root);\n",
       "\n",
       "    this._init_header(this);\n",
       "    this._init_canvas(this);\n",
       "    this._init_toolbar(this);\n",
       "\n",
       "    var fig = this;\n",
       "\n",
       "    this.waiting = false;\n",
       "\n",
       "    this.ws.onopen =  function () {\n",
       "            fig.send_message(\"supports_binary\", {value: fig.supports_binary});\n",
       "            fig.send_message(\"send_image_mode\", {});\n",
       "            if (mpl.ratio != 1) {\n",
       "                fig.send_message(\"set_dpi_ratio\", {'dpi_ratio': mpl.ratio});\n",
       "            }\n",
       "            fig.send_message(\"refresh\", {});\n",
       "        }\n",
       "\n",
       "    this.imageObj.onload = function() {\n",
       "            if (fig.image_mode == 'full') {\n",
       "                // Full images could contain transparency (where diff images\n",
       "                // almost always do), so we need to clear the canvas so that\n",
       "                // there is no ghosting.\n",
       "                fig.context.clearRect(0, 0, fig.canvas.width, fig.canvas.height);\n",
       "            }\n",
       "            fig.context.drawImage(fig.imageObj, 0, 0);\n",
       "        };\n",
       "\n",
       "    this.imageObj.onunload = function() {\n",
       "        fig.ws.close();\n",
       "    }\n",
       "\n",
       "    this.ws.onmessage = this._make_on_message_function(this);\n",
       "\n",
       "    this.ondownload = ondownload;\n",
       "}\n",
       "\n",
       "mpl.figure.prototype._init_header = function() {\n",
       "    var titlebar = $(\n",
       "        '<div class=\"ui-dialog-titlebar ui-widget-header ui-corner-all ' +\n",
       "        'ui-helper-clearfix\"/>');\n",
       "    var titletext = $(\n",
       "        '<div class=\"ui-dialog-title\" style=\"width: 100%; ' +\n",
       "        'text-align: center; padding: 3px;\"/>');\n",
       "    titlebar.append(titletext)\n",
       "    this.root.append(titlebar);\n",
       "    this.header = titletext[0];\n",
       "}\n",
       "\n",
       "\n",
       "\n",
       "mpl.figure.prototype._canvas_extra_style = function(canvas_div) {\n",
       "\n",
       "}\n",
       "\n",
       "\n",
       "mpl.figure.prototype._root_extra_style = function(canvas_div) {\n",
       "\n",
       "}\n",
       "\n",
       "mpl.figure.prototype._init_canvas = function() {\n",
       "    var fig = this;\n",
       "\n",
       "    var canvas_div = $('<div/>');\n",
       "\n",
       "    canvas_div.attr('style', 'position: relative; clear: both; outline: 0');\n",
       "\n",
       "    function canvas_keyboard_event(event) {\n",
       "        return fig.key_event(event, event['data']);\n",
       "    }\n",
       "\n",
       "    canvas_div.keydown('key_press', canvas_keyboard_event);\n",
       "    canvas_div.keyup('key_release', canvas_keyboard_event);\n",
       "    this.canvas_div = canvas_div\n",
       "    this._canvas_extra_style(canvas_div)\n",
       "    this.root.append(canvas_div);\n",
       "\n",
       "    var canvas = $('<canvas/>');\n",
       "    canvas.addClass('mpl-canvas');\n",
       "    canvas.attr('style', \"left: 0; top: 0; z-index: 0; outline: 0\")\n",
       "\n",
       "    this.canvas = canvas[0];\n",
       "    this.context = canvas[0].getContext(\"2d\");\n",
       "\n",
       "    var backingStore = this.context.backingStorePixelRatio ||\n",
       "\tthis.context.webkitBackingStorePixelRatio ||\n",
       "\tthis.context.mozBackingStorePixelRatio ||\n",
       "\tthis.context.msBackingStorePixelRatio ||\n",
       "\tthis.context.oBackingStorePixelRatio ||\n",
       "\tthis.context.backingStorePixelRatio || 1;\n",
       "\n",
       "    mpl.ratio = (window.devicePixelRatio || 1) / backingStore;\n",
       "\n",
       "    var rubberband = $('<canvas/>');\n",
       "    rubberband.attr('style', \"position: absolute; left: 0; top: 0; z-index: 1;\")\n",
       "\n",
       "    var pass_mouse_events = true;\n",
       "\n",
       "    canvas_div.resizable({\n",
       "        start: function(event, ui) {\n",
       "            pass_mouse_events = false;\n",
       "        },\n",
       "        resize: function(event, ui) {\n",
       "            fig.request_resize(ui.size.width, ui.size.height);\n",
       "        },\n",
       "        stop: function(event, ui) {\n",
       "            pass_mouse_events = true;\n",
       "            fig.request_resize(ui.size.width, ui.size.height);\n",
       "        },\n",
       "    });\n",
       "\n",
       "    function mouse_event_fn(event) {\n",
       "        if (pass_mouse_events)\n",
       "            return fig.mouse_event(event, event['data']);\n",
       "    }\n",
       "\n",
       "    rubberband.mousedown('button_press', mouse_event_fn);\n",
       "    rubberband.mouseup('button_release', mouse_event_fn);\n",
       "    // Throttle sequential mouse events to 1 every 20ms.\n",
       "    rubberband.mousemove('motion_notify', mouse_event_fn);\n",
       "\n",
       "    rubberband.mouseenter('figure_enter', mouse_event_fn);\n",
       "    rubberband.mouseleave('figure_leave', mouse_event_fn);\n",
       "\n",
       "    canvas_div.on(\"wheel\", function (event) {\n",
       "        event = event.originalEvent;\n",
       "        event['data'] = 'scroll'\n",
       "        if (event.deltaY < 0) {\n",
       "            event.step = 1;\n",
       "        } else {\n",
       "            event.step = -1;\n",
       "        }\n",
       "        mouse_event_fn(event);\n",
       "    });\n",
       "\n",
       "    canvas_div.append(canvas);\n",
       "    canvas_div.append(rubberband);\n",
       "\n",
       "    this.rubberband = rubberband;\n",
       "    this.rubberband_canvas = rubberband[0];\n",
       "    this.rubberband_context = rubberband[0].getContext(\"2d\");\n",
       "    this.rubberband_context.strokeStyle = \"#000000\";\n",
       "\n",
       "    this._resize_canvas = function(width, height) {\n",
       "        // Keep the size of the canvas, canvas container, and rubber band\n",
       "        // canvas in synch.\n",
       "        canvas_div.css('width', width)\n",
       "        canvas_div.css('height', height)\n",
       "\n",
       "        canvas.attr('width', width * mpl.ratio);\n",
       "        canvas.attr('height', height * mpl.ratio);\n",
       "        canvas.attr('style', 'width: ' + width + 'px; height: ' + height + 'px;');\n",
       "\n",
       "        rubberband.attr('width', width);\n",
       "        rubberband.attr('height', height);\n",
       "    }\n",
       "\n",
       "    // Set the figure to an initial 600x600px, this will subsequently be updated\n",
       "    // upon first draw.\n",
       "    this._resize_canvas(600, 600);\n",
       "\n",
       "    // Disable right mouse context menu.\n",
       "    $(this.rubberband_canvas).bind(\"contextmenu\",function(e){\n",
       "        return false;\n",
       "    });\n",
       "\n",
       "    function set_focus () {\n",
       "        canvas.focus();\n",
       "        canvas_div.focus();\n",
       "    }\n",
       "\n",
       "    window.setTimeout(set_focus, 100);\n",
       "}\n",
       "\n",
       "mpl.figure.prototype._init_toolbar = function() {\n",
       "    var fig = this;\n",
       "\n",
       "    var nav_element = $('<div/>')\n",
       "    nav_element.attr('style', 'width: 100%');\n",
       "    this.root.append(nav_element);\n",
       "\n",
       "    // Define a callback function for later on.\n",
       "    function toolbar_event(event) {\n",
       "        return fig.toolbar_button_onclick(event['data']);\n",
       "    }\n",
       "    function toolbar_mouse_event(event) {\n",
       "        return fig.toolbar_button_onmouseover(event['data']);\n",
       "    }\n",
       "\n",
       "    for(var toolbar_ind in mpl.toolbar_items) {\n",
       "        var name = mpl.toolbar_items[toolbar_ind][0];\n",
       "        var tooltip = mpl.toolbar_items[toolbar_ind][1];\n",
       "        var image = mpl.toolbar_items[toolbar_ind][2];\n",
       "        var method_name = mpl.toolbar_items[toolbar_ind][3];\n",
       "\n",
       "        if (!name) {\n",
       "            // put a spacer in here.\n",
       "            continue;\n",
       "        }\n",
       "        var button = $('<button/>');\n",
       "        button.addClass('ui-button ui-widget ui-state-default ui-corner-all ' +\n",
       "                        'ui-button-icon-only');\n",
       "        button.attr('role', 'button');\n",
       "        button.attr('aria-disabled', 'false');\n",
       "        button.click(method_name, toolbar_event);\n",
       "        button.mouseover(tooltip, toolbar_mouse_event);\n",
       "\n",
       "        var icon_img = $('<span/>');\n",
       "        icon_img.addClass('ui-button-icon-primary ui-icon');\n",
       "        icon_img.addClass(image);\n",
       "        icon_img.addClass('ui-corner-all');\n",
       "\n",
       "        var tooltip_span = $('<span/>');\n",
       "        tooltip_span.addClass('ui-button-text');\n",
       "        tooltip_span.html(tooltip);\n",
       "\n",
       "        button.append(icon_img);\n",
       "        button.append(tooltip_span);\n",
       "\n",
       "        nav_element.append(button);\n",
       "    }\n",
       "\n",
       "    var fmt_picker_span = $('<span/>');\n",
       "\n",
       "    var fmt_picker = $('<select/>');\n",
       "    fmt_picker.addClass('mpl-toolbar-option ui-widget ui-widget-content');\n",
       "    fmt_picker_span.append(fmt_picker);\n",
       "    nav_element.append(fmt_picker_span);\n",
       "    this.format_dropdown = fmt_picker[0];\n",
       "\n",
       "    for (var ind in mpl.extensions) {\n",
       "        var fmt = mpl.extensions[ind];\n",
       "        var option = $(\n",
       "            '<option/>', {selected: fmt === mpl.default_extension}).html(fmt);\n",
       "        fmt_picker.append(option)\n",
       "    }\n",
       "\n",
       "    // Add hover states to the ui-buttons\n",
       "    $( \".ui-button\" ).hover(\n",
       "        function() { $(this).addClass(\"ui-state-hover\");},\n",
       "        function() { $(this).removeClass(\"ui-state-hover\");}\n",
       "    );\n",
       "\n",
       "    var status_bar = $('<span class=\"mpl-message\"/>');\n",
       "    nav_element.append(status_bar);\n",
       "    this.message = status_bar[0];\n",
       "}\n",
       "\n",
       "mpl.figure.prototype.request_resize = function(x_pixels, y_pixels) {\n",
       "    // Request matplotlib to resize the figure. Matplotlib will then trigger a resize in the client,\n",
       "    // which will in turn request a refresh of the image.\n",
       "    this.send_message('resize', {'width': x_pixels, 'height': y_pixels});\n",
       "}\n",
       "\n",
       "mpl.figure.prototype.send_message = function(type, properties) {\n",
       "    properties['type'] = type;\n",
       "    properties['figure_id'] = this.id;\n",
       "    this.ws.send(JSON.stringify(properties));\n",
       "}\n",
       "\n",
       "mpl.figure.prototype.send_draw_message = function() {\n",
       "    if (!this.waiting) {\n",
       "        this.waiting = true;\n",
       "        this.ws.send(JSON.stringify({type: \"draw\", figure_id: this.id}));\n",
       "    }\n",
       "}\n",
       "\n",
       "\n",
       "mpl.figure.prototype.handle_save = function(fig, msg) {\n",
       "    var format_dropdown = fig.format_dropdown;\n",
       "    var format = format_dropdown.options[format_dropdown.selectedIndex].value;\n",
       "    fig.ondownload(fig, format);\n",
       "}\n",
       "\n",
       "\n",
       "mpl.figure.prototype.handle_resize = function(fig, msg) {\n",
       "    var size = msg['size'];\n",
       "    if (size[0] != fig.canvas.width || size[1] != fig.canvas.height) {\n",
       "        fig._resize_canvas(size[0], size[1]);\n",
       "        fig.send_message(\"refresh\", {});\n",
       "    };\n",
       "}\n",
       "\n",
       "mpl.figure.prototype.handle_rubberband = function(fig, msg) {\n",
       "    var x0 = msg['x0'] / mpl.ratio;\n",
       "    var y0 = (fig.canvas.height - msg['y0']) / mpl.ratio;\n",
       "    var x1 = msg['x1'] / mpl.ratio;\n",
       "    var y1 = (fig.canvas.height - msg['y1']) / mpl.ratio;\n",
       "    x0 = Math.floor(x0) + 0.5;\n",
       "    y0 = Math.floor(y0) + 0.5;\n",
       "    x1 = Math.floor(x1) + 0.5;\n",
       "    y1 = Math.floor(y1) + 0.5;\n",
       "    var min_x = Math.min(x0, x1);\n",
       "    var min_y = Math.min(y0, y1);\n",
       "    var width = Math.abs(x1 - x0);\n",
       "    var height = Math.abs(y1 - y0);\n",
       "\n",
       "    fig.rubberband_context.clearRect(\n",
       "        0, 0, fig.canvas.width, fig.canvas.height);\n",
       "\n",
       "    fig.rubberband_context.strokeRect(min_x, min_y, width, height);\n",
       "}\n",
       "\n",
       "mpl.figure.prototype.handle_figure_label = function(fig, msg) {\n",
       "    // Updates the figure title.\n",
       "    fig.header.textContent = msg['label'];\n",
       "}\n",
       "\n",
       "mpl.figure.prototype.handle_cursor = function(fig, msg) {\n",
       "    var cursor = msg['cursor'];\n",
       "    switch(cursor)\n",
       "    {\n",
       "    case 0:\n",
       "        cursor = 'pointer';\n",
       "        break;\n",
       "    case 1:\n",
       "        cursor = 'default';\n",
       "        break;\n",
       "    case 2:\n",
       "        cursor = 'crosshair';\n",
       "        break;\n",
       "    case 3:\n",
       "        cursor = 'move';\n",
       "        break;\n",
       "    }\n",
       "    fig.rubberband_canvas.style.cursor = cursor;\n",
       "}\n",
       "\n",
       "mpl.figure.prototype.handle_message = function(fig, msg) {\n",
       "    fig.message.textContent = msg['message'];\n",
       "}\n",
       "\n",
       "mpl.figure.prototype.handle_draw = function(fig, msg) {\n",
       "    // Request the server to send over a new figure.\n",
       "    fig.send_draw_message();\n",
       "}\n",
       "\n",
       "mpl.figure.prototype.handle_image_mode = function(fig, msg) {\n",
       "    fig.image_mode = msg['mode'];\n",
       "}\n",
       "\n",
       "mpl.figure.prototype.updated_canvas_event = function() {\n",
       "    // Called whenever the canvas gets updated.\n",
       "    this.send_message(\"ack\", {});\n",
       "}\n",
       "\n",
       "// A function to construct a web socket function for onmessage handling.\n",
       "// Called in the figure constructor.\n",
       "mpl.figure.prototype._make_on_message_function = function(fig) {\n",
       "    return function socket_on_message(evt) {\n",
       "        if (evt.data instanceof Blob) {\n",
       "            /* FIXME: We get \"Resource interpreted as Image but\n",
       "             * transferred with MIME type text/plain:\" errors on\n",
       "             * Chrome.  But how to set the MIME type?  It doesn't seem\n",
       "             * to be part of the websocket stream */\n",
       "            evt.data.type = \"image/png\";\n",
       "\n",
       "            /* Free the memory for the previous frames */\n",
       "            if (fig.imageObj.src) {\n",
       "                (window.URL || window.webkitURL).revokeObjectURL(\n",
       "                    fig.imageObj.src);\n",
       "            }\n",
       "\n",
       "            fig.imageObj.src = (window.URL || window.webkitURL).createObjectURL(\n",
       "                evt.data);\n",
       "            fig.updated_canvas_event();\n",
       "            fig.waiting = false;\n",
       "            return;\n",
       "        }\n",
       "        else if (typeof evt.data === 'string' && evt.data.slice(0, 21) == \"data:image/png;base64\") {\n",
       "            fig.imageObj.src = evt.data;\n",
       "            fig.updated_canvas_event();\n",
       "            fig.waiting = false;\n",
       "            return;\n",
       "        }\n",
       "\n",
       "        var msg = JSON.parse(evt.data);\n",
       "        var msg_type = msg['type'];\n",
       "\n",
       "        // Call the  \"handle_{type}\" callback, which takes\n",
       "        // the figure and JSON message as its only arguments.\n",
       "        try {\n",
       "            var callback = fig[\"handle_\" + msg_type];\n",
       "        } catch (e) {\n",
       "            console.log(\"No handler for the '\" + msg_type + \"' message type: \", msg);\n",
       "            return;\n",
       "        }\n",
       "\n",
       "        if (callback) {\n",
       "            try {\n",
       "                // console.log(\"Handling '\" + msg_type + \"' message: \", msg);\n",
       "                callback(fig, msg);\n",
       "            } catch (e) {\n",
       "                console.log(\"Exception inside the 'handler_\" + msg_type + \"' callback:\", e, e.stack, msg);\n",
       "            }\n",
       "        }\n",
       "    };\n",
       "}\n",
       "\n",
       "// from http://stackoverflow.com/questions/1114465/getting-mouse-location-in-canvas\n",
       "mpl.findpos = function(e) {\n",
       "    //this section is from http://www.quirksmode.org/js/events_properties.html\n",
       "    var targ;\n",
       "    if (!e)\n",
       "        e = window.event;\n",
       "    if (e.target)\n",
       "        targ = e.target;\n",
       "    else if (e.srcElement)\n",
       "        targ = e.srcElement;\n",
       "    if (targ.nodeType == 3) // defeat Safari bug\n",
       "        targ = targ.parentNode;\n",
       "\n",
       "    // jQuery normalizes the pageX and pageY\n",
       "    // pageX,Y are the mouse positions relative to the document\n",
       "    // offset() returns the position of the element relative to the document\n",
       "    var x = e.pageX - $(targ).offset().left;\n",
       "    var y = e.pageY - $(targ).offset().top;\n",
       "\n",
       "    return {\"x\": x, \"y\": y};\n",
       "};\n",
       "\n",
       "/*\n",
       " * return a copy of an object with only non-object keys\n",
       " * we need this to avoid circular references\n",
       " * http://stackoverflow.com/a/24161582/3208463\n",
       " */\n",
       "function simpleKeys (original) {\n",
       "  return Object.keys(original).reduce(function (obj, key) {\n",
       "    if (typeof original[key] !== 'object')\n",
       "        obj[key] = original[key]\n",
       "    return obj;\n",
       "  }, {});\n",
       "}\n",
       "\n",
       "mpl.figure.prototype.mouse_event = function(event, name) {\n",
       "    var canvas_pos = mpl.findpos(event)\n",
       "\n",
       "    if (name === 'button_press')\n",
       "    {\n",
       "        this.canvas.focus();\n",
       "        this.canvas_div.focus();\n",
       "    }\n",
       "\n",
       "    var x = canvas_pos.x * mpl.ratio;\n",
       "    var y = canvas_pos.y * mpl.ratio;\n",
       "\n",
       "    this.send_message(name, {x: x, y: y, button: event.button,\n",
       "                             step: event.step,\n",
       "                             guiEvent: simpleKeys(event)});\n",
       "\n",
       "    /* This prevents the web browser from automatically changing to\n",
       "     * the text insertion cursor when the button is pressed.  We want\n",
       "     * to control all of the cursor setting manually through the\n",
       "     * 'cursor' event from matplotlib */\n",
       "    event.preventDefault();\n",
       "    return false;\n",
       "}\n",
       "\n",
       "mpl.figure.prototype._key_event_extra = function(event, name) {\n",
       "    // Handle any extra behaviour associated with a key event\n",
       "}\n",
       "\n",
       "mpl.figure.prototype.key_event = function(event, name) {\n",
       "\n",
       "    // Prevent repeat events\n",
       "    if (name == 'key_press')\n",
       "    {\n",
       "        if (event.which === this._key)\n",
       "            return;\n",
       "        else\n",
       "            this._key = event.which;\n",
       "    }\n",
       "    if (name == 'key_release')\n",
       "        this._key = null;\n",
       "\n",
       "    var value = '';\n",
       "    if (event.ctrlKey && event.which != 17)\n",
       "        value += \"ctrl+\";\n",
       "    if (event.altKey && event.which != 18)\n",
       "        value += \"alt+\";\n",
       "    if (event.shiftKey && event.which != 16)\n",
       "        value += \"shift+\";\n",
       "\n",
       "    value += 'k';\n",
       "    value += event.which.toString();\n",
       "\n",
       "    this._key_event_extra(event, name);\n",
       "\n",
       "    this.send_message(name, {key: value,\n",
       "                             guiEvent: simpleKeys(event)});\n",
       "    return false;\n",
       "}\n",
       "\n",
       "mpl.figure.prototype.toolbar_button_onclick = function(name) {\n",
       "    if (name == 'download') {\n",
       "        this.handle_save(this, null);\n",
       "    } else {\n",
       "        this.send_message(\"toolbar_button\", {name: name});\n",
       "    }\n",
       "};\n",
       "\n",
       "mpl.figure.prototype.toolbar_button_onmouseover = function(tooltip) {\n",
       "    this.message.textContent = tooltip;\n",
       "};\n",
       "mpl.toolbar_items = [[\"Home\", \"Reset original view\", \"fa fa-home icon-home\", \"home\"], [\"Back\", \"Back to  previous view\", \"fa fa-arrow-left icon-arrow-left\", \"back\"], [\"Forward\", \"Forward to next view\", \"fa fa-arrow-right icon-arrow-right\", \"forward\"], [\"\", \"\", \"\", \"\"], [\"Pan\", \"Pan axes with left mouse, zoom with right\", \"fa fa-arrows icon-move\", \"pan\"], [\"Zoom\", \"Zoom to rectangle\", \"fa fa-square-o icon-check-empty\", \"zoom\"], [\"\", \"\", \"\", \"\"], [\"Download\", \"Download plot\", \"fa fa-floppy-o icon-save\", \"download\"]];\n",
       "\n",
       "mpl.extensions = [\"eps\", \"jpeg\", \"pdf\", \"png\", \"ps\", \"raw\", \"svg\", \"tif\"];\n",
       "\n",
       "mpl.default_extension = \"png\";var comm_websocket_adapter = function(comm) {\n",
       "    // Create a \"websocket\"-like object which calls the given IPython comm\n",
       "    // object with the appropriate methods. Currently this is a non binary\n",
       "    // socket, so there is still some room for performance tuning.\n",
       "    var ws = {};\n",
       "\n",
       "    ws.close = function() {\n",
       "        comm.close()\n",
       "    };\n",
       "    ws.send = function(m) {\n",
       "        //console.log('sending', m);\n",
       "        comm.send(m);\n",
       "    };\n",
       "    // Register the callback with on_msg.\n",
       "    comm.on_msg(function(msg) {\n",
       "        //console.log('receiving', msg['content']['data'], msg);\n",
       "        // Pass the mpl event to the overridden (by mpl) onmessage function.\n",
       "        ws.onmessage(msg['content']['data'])\n",
       "    });\n",
       "    return ws;\n",
       "}\n",
       "\n",
       "mpl.mpl_figure_comm = function(comm, msg) {\n",
       "    // This is the function which gets called when the mpl process\n",
       "    // starts-up an IPython Comm through the \"matplotlib\" channel.\n",
       "\n",
       "    var id = msg.content.data.id;\n",
       "    // Get hold of the div created by the display call when the Comm\n",
       "    // socket was opened in Python.\n",
       "    var element = $(\"#\" + id);\n",
       "    var ws_proxy = comm_websocket_adapter(comm)\n",
       "\n",
       "    function ondownload(figure, format) {\n",
       "        window.open(figure.imageObj.src);\n",
       "    }\n",
       "\n",
       "    var fig = new mpl.figure(id, ws_proxy,\n",
       "                           ondownload,\n",
       "                           element.get(0));\n",
       "\n",
       "    // Call onopen now - mpl needs it, as it is assuming we've passed it a real\n",
       "    // web socket which is closed, not our websocket->open comm proxy.\n",
       "    ws_proxy.onopen();\n",
       "\n",
       "    fig.parent_element = element.get(0);\n",
       "    fig.cell_info = mpl.find_output_cell(\"<div id='\" + id + \"'></div>\");\n",
       "    if (!fig.cell_info) {\n",
       "        console.error(\"Failed to find cell for figure\", id, fig);\n",
       "        return;\n",
       "    }\n",
       "\n",
       "    var output_index = fig.cell_info[2]\n",
       "    var cell = fig.cell_info[0];\n",
       "\n",
       "};\n",
       "\n",
       "mpl.figure.prototype.handle_close = function(fig, msg) {\n",
       "    var width = fig.canvas.width/mpl.ratio\n",
       "    fig.root.unbind('remove')\n",
       "\n",
       "    // Update the output cell to use the data from the current canvas.\n",
       "    fig.push_to_output();\n",
       "    var dataURL = fig.canvas.toDataURL();\n",
       "    // Re-enable the keyboard manager in IPython - without this line, in FF,\n",
       "    // the notebook keyboard shortcuts fail.\n",
       "    IPython.keyboard_manager.enable()\n",
       "    $(fig.parent_element).html('<img src=\"' + dataURL + '\" width=\"' + width + '\">');\n",
       "    fig.close_ws(fig, msg);\n",
       "}\n",
       "\n",
       "mpl.figure.prototype.close_ws = function(fig, msg){\n",
       "    fig.send_message('closing', msg);\n",
       "    // fig.ws.close()\n",
       "}\n",
       "\n",
       "mpl.figure.prototype.push_to_output = function(remove_interactive) {\n",
       "    // Turn the data on the canvas into data in the output cell.\n",
       "    var width = this.canvas.width/mpl.ratio\n",
       "    var dataURL = this.canvas.toDataURL();\n",
       "    this.cell_info[1]['text/html'] = '<img src=\"' + dataURL + '\" width=\"' + width + '\">';\n",
       "}\n",
       "\n",
       "mpl.figure.prototype.updated_canvas_event = function() {\n",
       "    // Tell IPython that the notebook contents must change.\n",
       "    IPython.notebook.set_dirty(true);\n",
       "    this.send_message(\"ack\", {});\n",
       "    var fig = this;\n",
       "    // Wait a second, then push the new image to the DOM so\n",
       "    // that it is saved nicely (might be nice to debounce this).\n",
       "    setTimeout(function () { fig.push_to_output() }, 1000);\n",
       "}\n",
       "\n",
       "mpl.figure.prototype._init_toolbar = function() {\n",
       "    var fig = this;\n",
       "\n",
       "    var nav_element = $('<div/>')\n",
       "    nav_element.attr('style', 'width: 100%');\n",
       "    this.root.append(nav_element);\n",
       "\n",
       "    // Define a callback function for later on.\n",
       "    function toolbar_event(event) {\n",
       "        return fig.toolbar_button_onclick(event['data']);\n",
       "    }\n",
       "    function toolbar_mouse_event(event) {\n",
       "        return fig.toolbar_button_onmouseover(event['data']);\n",
       "    }\n",
       "\n",
       "    for(var toolbar_ind in mpl.toolbar_items){\n",
       "        var name = mpl.toolbar_items[toolbar_ind][0];\n",
       "        var tooltip = mpl.toolbar_items[toolbar_ind][1];\n",
       "        var image = mpl.toolbar_items[toolbar_ind][2];\n",
       "        var method_name = mpl.toolbar_items[toolbar_ind][3];\n",
       "\n",
       "        if (!name) { continue; };\n",
       "\n",
       "        var button = $('<button class=\"btn btn-default\" href=\"#\" title=\"' + name + '\"><i class=\"fa ' + image + ' fa-lg\"></i></button>');\n",
       "        button.click(method_name, toolbar_event);\n",
       "        button.mouseover(tooltip, toolbar_mouse_event);\n",
       "        nav_element.append(button);\n",
       "    }\n",
       "\n",
       "    // Add the status bar.\n",
       "    var status_bar = $('<span class=\"mpl-message\" style=\"text-align:right; float: right;\"/>');\n",
       "    nav_element.append(status_bar);\n",
       "    this.message = status_bar[0];\n",
       "\n",
       "    // Add the close button to the window.\n",
       "    var buttongrp = $('<div class=\"btn-group inline pull-right\"></div>');\n",
       "    var button = $('<button class=\"btn btn-mini btn-primary\" href=\"#\" title=\"Stop Interaction\"><i class=\"fa fa-power-off icon-remove icon-large\"></i></button>');\n",
       "    button.click(function (evt) { fig.handle_close(fig, {}); } );\n",
       "    button.mouseover('Stop Interaction', toolbar_mouse_event);\n",
       "    buttongrp.append(button);\n",
       "    var titlebar = this.root.find($('.ui-dialog-titlebar'));\n",
       "    titlebar.prepend(buttongrp);\n",
       "}\n",
       "\n",
       "mpl.figure.prototype._root_extra_style = function(el){\n",
       "    var fig = this\n",
       "    el.on(\"remove\", function(){\n",
       "\tfig.close_ws(fig, {});\n",
       "    });\n",
       "}\n",
       "\n",
       "mpl.figure.prototype._canvas_extra_style = function(el){\n",
       "    // this is important to make the div 'focusable\n",
       "    el.attr('tabindex', 0)\n",
       "    // reach out to IPython and tell the keyboard manager to turn it's self\n",
       "    // off when our div gets focus\n",
       "\n",
       "    // location in version 3\n",
       "    if (IPython.notebook.keyboard_manager) {\n",
       "        IPython.notebook.keyboard_manager.register_events(el);\n",
       "    }\n",
       "    else {\n",
       "        // location in version 2\n",
       "        IPython.keyboard_manager.register_events(el);\n",
       "    }\n",
       "\n",
       "}\n",
       "\n",
       "mpl.figure.prototype._key_event_extra = function(event, name) {\n",
       "    var manager = IPython.notebook.keyboard_manager;\n",
       "    if (!manager)\n",
       "        manager = IPython.keyboard_manager;\n",
       "\n",
       "    // Check for shift+enter\n",
       "    if (event.shiftKey && event.which == 13) {\n",
       "        this.canvas_div.blur();\n",
       "        event.shiftKey = false;\n",
       "        // Send a \"J\" for go to next cell\n",
       "        event.which = 74;\n",
       "        event.keyCode = 74;\n",
       "        manager.command_mode();\n",
       "        manager.handle_keydown(event);\n",
       "    }\n",
       "}\n",
       "\n",
       "mpl.figure.prototype.handle_save = function(fig, msg) {\n",
       "    fig.ondownload(fig, null);\n",
       "}\n",
       "\n",
       "\n",
       "mpl.find_output_cell = function(html_output) {\n",
       "    // Return the cell and output element which can be found *uniquely* in the notebook.\n",
       "    // Note - this is a bit hacky, but it is done because the \"notebook_saving.Notebook\"\n",
       "    // IPython event is triggered only after the cells have been serialised, which for\n",
       "    // our purposes (turning an active figure into a static one), is too late.\n",
       "    var cells = IPython.notebook.get_cells();\n",
       "    var ncells = cells.length;\n",
       "    for (var i=0; i<ncells; i++) {\n",
       "        var cell = cells[i];\n",
       "        if (cell.cell_type === 'code'){\n",
       "            for (var j=0; j<cell.output_area.outputs.length; j++) {\n",
       "                var data = cell.output_area.outputs[j];\n",
       "                if (data.data) {\n",
       "                    // IPython >= 3 moved mimebundle to data attribute of output\n",
       "                    data = data.data;\n",
       "                }\n",
       "                if (data['text/html'] == html_output) {\n",
       "                    return [cell, data, j];\n",
       "                }\n",
       "            }\n",
       "        }\n",
       "    }\n",
       "}\n",
       "\n",
       "// Register the function which deals with the matplotlib target/channel.\n",
       "// The kernel may be null if the page has been refreshed.\n",
       "if (IPython.notebook.kernel != null) {\n",
       "    IPython.notebook.kernel.comm_manager.register_target('matplotlib', mpl.mpl_figure_comm);\n",
       "}\n"
      ],
      "text/plain": [
       "<IPython.core.display.Javascript object>"
      ]
     },
     "metadata": {},
     "output_type": "display_data"
    },
    {
     "data": {
      "text/html": [
       "<img src=\"data:image/png;base64,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\" width=\"1000\">"
      ],
      "text/plain": [
       "<IPython.core.display.HTML object>"
      ]
     },
     "metadata": {},
     "output_type": "display_data"
    },
    {
     "data": {
      "application/vnd.jupyter.widget-view+json": {
       "model_id": "fb4d655d3b394c2d8960047e16312a53",
       "version_major": 2,
       "version_minor": 0
      },
      "text/plain": [
       "interactive(children=(SelectionSlider(description='ts', options=(1523797351317, 1523797351357, 1523797351397, …"
      ]
     },
     "metadata": {},
     "output_type": "display_data"
    }
   ],
   "source": [
    "timestamps_list = sorted(list(timestamps))\n",
    "kickoff_time_ind = np.argmin(np.abs(np.subtract(timestamps_list, kickoff_time)))\n",
    "kickoff_time_matched = timestamps_list[kickoff_time_ind]\n",
    "print(kickoff_time, kickoff_time_matched)\n",
    "\n",
    "%matplotlib notebook\n",
    "\n",
    "fig = plt.figure(figsize=(10,6))\n",
    "ax = fig.add_subplot(1, 1, 1)\n",
    "left, = plt.plot([], '*r')\n",
    "right, = plt.plot([], '*r')\n",
    "\n",
    "left_b, = plt.plot([], 'ob')\n",
    "right_b, = plt.plot([], 'ob')\n",
    "\n",
    "plt.xlim([0, 105])\n",
    "plt.ylim([0, 68])\n",
    "\n",
    "def update(ts=kickoff_time_matched):\n",
    "    if ts in detections['players']['left']:\n",
    "        left.set_ydata(detections['players']['left'][ts][:, 1])\n",
    "        left.set_xdata(detections['players']['left'][ts][:, 0])\n",
    "    else:\n",
    "        left.set_ydata([])\n",
    "        left.set_xdata([])\n",
    "        \n",
    "    if ts in detections['players']['right']:\n",
    "        right.set_ydata(detections['players']['right'][ts][:, 1])\n",
    "        right.set_xdata(detections['players']['right'][ts][:, 0])\n",
    "    else:\n",
    "        right.set_ydata([])\n",
    "        right.set_xdata([])\n",
    "\n",
    "    if ts in detections['ball']['left'] and len(detections['ball']['left'][ts]):\n",
    "        left_b.set_ydata(detections['ball']['left'][ts][:, 1])\n",
    "        left_b.set_xdata(detections['ball']['left'][ts][:, 0])\n",
    "    else:\n",
    "        left_b.set_ydata([])\n",
    "        left_b.set_xdata([])        \n",
    "    if ts in detections['ball']['right'] and len(detections['ball']['right'][ts]):\n",
    "        right_b.set_ydata(detections['ball']['right'][ts][:, 1])\n",
    "        right_b.set_xdata(detections['ball']['right'][ts][:, 0])\n",
    "    else:\n",
    "        right_b.set_ydata([])\n",
    "        right_b.set_xdata([])\n",
    "    \n",
    "    \n",
    "wid = widgets.SelectionSlider(\n",
    "    options=timestamps_list,\n",
    "    value=kickoff_time_matched,\n",
    "    continuous_update=True,\n",
    "    orientation='horizontal',\n",
    "    readout=True\n",
    ")\n",
    "    \n",
    "interact(update, ts = wid);"
   ]
  },
  {
   "cell_type": "code",
   "execution_count": 16,
   "metadata": {},
   "outputs": [],
   "source": [
    "# {'id': 'd1a98e08-0f21-46fe-8457-01ff183ddbeb', 'calibration': {'views': ['left', 'right'], 'reference_landmarks': {'object': 'calibrations/tele2_landmarks.json', 'bucket': 'signality.ironfist.models'}}, 'replay_urls': ['//liveplay.signality.com/data/d1a98e08-0f21-46fe-8457-01ff183ddbeb_phase1.data', '//liveplay.signality.com/data/d1a98e08-0f21-46fe-8457-01ff183ddbeb_phase2.data'], 'camera_mode': 'static', 'away_team': {'colors': {'team': '#000000', 'goalkeeper': '#ffff00'}, 'logo_url': 'http://images.signality.com/team-logos/orebro.png', 'name': 'Örebro SK'}, 'phase_events': [{'type': 'start_phase', 'ts': datetime.datetime(2018, 5, 17, 17, 0, 2, 362000, tzinfo=<rethinkdb.ast.RqlTzinfo object at 0x7f4d1c61e4e0>), 'kickoff_team_id': 12, 'phase': 1}, {'type': 'end_phase', 'ts': datetime.datetime(2018, 5, 17, 17, 47, 7, 92000, tzinfo=<rethinkdb.ast.RqlTzinfo object at 0x7f4d1c61e518>), 'phase': 1}, {'type': 'start_phase', 'ts': datetime.datetime(2018, 5, 17, 18, 4, 2, 891000, tzinfo=<rethinkdb.ast.RqlTzinfo object at 0x7f4d1c61e630>), 'kickoff_team_id': 11, 'phase': 2}, {'type': 'end_phase', 'ts': datetime.datetime(2018, 5, 17, 18, 52, 6, 565000, tzinfo=<rethinkdb.ast.RqlTzinfo object at 0x7f4d1c61e6a0>), 'phase': 2}], 'start_time': datetime.datetime(2018, 5, 17, 19, 0, tzinfo=<rethinkdb.ast.RqlTzinfo object at 0x7f4d1c61e780>), 'state': 'Destroyed', 'external_data': {'smc': {'match_id': 3704, 'home_team_id': 11, 'league_id': 12, 'away_team_id': 12}}, 'streams': {'left': {'url': 'https://d35u71x3nb8v2y.cloudfront.net/f75295bb-c143-4472-a151-d849f9916e75/ca074983-09a2-451f-8730-90efa6701dc8/playlist.m3u8', 'utc': datetime.datetime(2018, 5, 17, 16, 45, 41, 197000, tzinfo=<rethinkdb.ast.RqlTzinfo object at 0x7f4d1c61e9e8>)}, 'autofollow_render_segments': {'url': 'https://d35u71x3nb8v2y.cloudfront.net/f75295bb-c143-4472-a151-d849f9916e75/d890161e-59fa-4f39-9758-b9d5b10357af/playlist.m3u8', 'utc': datetime.datetime(2018, 5, 17, 16, 45, 41, 197000, tzinfo=<rethinkdb.ast.RqlTzinfo object at 0x7f4d1c61e9b0>)}, 'virtual_panorama_segments': {'url': 'https://d35u71x3nb8v2y.cloudfront.net/f75295bb-c143-4472-a151-d849f9916e75/b5e093f3-f8e7-4643-a87a-d9a76256a735/playlist.m3u8', 'utc': datetime.datetime(2018, 5, 17, 16, 45, 41, 197000, tzinfo=<rethinkdb.ast.RqlTzinfo object at 0x7f4d1c61ec88>)}, 'goal_south_segments': {'url': 'https://d35u71x3nb8v2y.cloudfront.net/f75295bb-c143-4472-a151-d849f9916e75/c841f705-de34-4428-b56e-7c9803ab4eca/playlist.m3u8', 'utc': datetime.datetime(2018, 5, 17, 16, 45, 41, 143000, tzinfo=<rethinkdb.ast.RqlTzinfo object at 0x7f4d1c61eac8>)}, 'right': {'url': 'https://d35u71x3nb8v2y.cloudfront.net/f75295bb-c143-4472-a151-d849f9916e75/d8112841-7cf8-48ae-89ce-f327c282916c/playlist.m3u8', 'utc': datetime.datetime(2018, 5, 17, 16, 45, 41, 124000, tzinfo=<rethinkdb.ast.RqlTzinfo object at 0x7f4d1c61ea20>)}, 'goal_north_segments': {'url': 'https://d35u71x3nb8v2y.cloudfront.net/f75295bb-c143-4472-a151-d849f9916e75/9a7b8e83-dbc0-436b-a116-7f8d085057c2/playlist.m3u8', 'utc': datetime.datetime(2018, 5, 17, 16, 45, 41, 141000, tzinfo=<rethinkdb.ast.RqlTzinfo object at 0x7f4d1c61ea58>)}}, 'pitch_size': [105, 68], 'home_team': {'colors': {'team': '#5a9dde', 'goalkeeper': '#ffffff'}, 'logo_url': 'http://images.signality.com/team-logos/djurgarden.png', 'name': 'Djurgårdens IF'}, 'referees': {'colors': '#000000'}, 'competition': 'Allsvenskan', 'redis': {'host': 'redis', 'port': 6379}, 'rethinkdb': {'host': 'db.signality.com', 'user': 'game_viewer', 'db': 'livetrack', 'ssl': {'ca_certs': '/home/ubuntu/workspace/ironfist/ironfist/utils/../applications/livetrack/config/db.signality.cert.pem'}, 'password': 'MmPHrqmXaVeu', 'port': 28015}, 'nchan': {'url': 'http://nchan:8080'}, 'arena': 'Tele2 Arena', 'stats': [{'home_team': {'failed_passes': 163, 'possessing_team': 0, 'passes': 181, 'distance': 62777.64480394193, 'possession': 25067, 'packing': 260}, 'source': 'signality', 'phase': 1, 'away_team': {'failed_passes': 163, 'possessing_team': 1, 'passes': 191, 'distance': 60097.76136929008, 'possession': 23934, 'packing': 252}, 'utc_time': 1526579225125, 'match_time': 2822763}, {'home_team': {'failed_passes': 157, 'possessing_team': 0, 'passes': 147, 'distance': 62576.815733754884, 'possession': 20009, 'packing': 196}, 'source': 'signality', 'phase': 2, 'away_team': {'failed_passes': 158, 'possessing_team': 1, 'passes': 206, 'distance': 57684.92804763888, 'possession': 28384, 'packing': 240}, 'utc_time': 1526583124565, 'match_time': 2881674}], 'video_shape': [2160, 3840, 3], 'rdb': [{'key': '20180517.djurgårdens-if-örebro-sk.2.rdb', 'bucket': 'signality.soccer.backup', 'phase': 2}]}"
   ]
  },
  {
   "cell_type": "code",
   "execution_count": 17,
   "metadata": {},
   "outputs": [],
   "source": [
    "def select_time(time_list,detections):\n",
    "    l=list()\n",
    "    truth_list=list()\n",
    "    for i in range(len(time_list)):\n",
    "        truth_list.append(True)\n",
    "        if time_list[i] in detections['players']['left'] and time_list[i] in detections['players']['right']:\n",
    "            l.append([time_list[i],time_list[i]])\n",
    "            truth_list[i]=False\n",
    "        if i>0:\n",
    "            if time_list[i-1] in detections['players']['left'] and time_list[i] in detections['players']['right'] and truth_list[i] and truth_list[i-1] and time_list[i]-time_list[i-1]<=20:\n",
    "                l.append([time_list[i-1],time_list[i]])\n",
    "                truth_list[i]=False\n",
    "            if time_list[i] in detections['players']['left'] and time_list[i-1] in detections['players']['right'] and truth_list[i] and truth_list[i-1] and time_list[i]-time_list[i-1]<=20:\n",
    "                l.append([time_list[i],time_list[i-1]])\n",
    "                truth_list[i]=False\n",
    "    return l\n",
    "\n",
    "l=select_time(timestamps_list,detections)"
   ]
  },
  {
   "cell_type": "code",
   "execution_count": 18,
   "metadata": {},
   "outputs": [],
   "source": [
    "def players_grid(pitch_size,players):\n",
    "    grid=[0 for i in range(18)]\n",
    "    length=pitch_size[0]\n",
    "    width=pitch_size[1]\n",
    "    length_edge=length/6\n",
    "    width_edge=width/3\n",
    "    for i in range(len(players)):\n",
    "        k=0\n",
    "        j=0\n",
    "        if players[i][0]<=length and players[i][1]<=width:\n",
    "            while players[i][0]>(k+1)*length_edge:\n",
    "                k+=1\n",
    "            while players[i][1]>(j+1)*width_edge:\n",
    "                j+=1\n",
    "            grid[6*j+k]+=1\n",
    "    return grid\n",
    "\n",
    "def ball_grid(pitch_size,ball):\n",
    "    grid=[0 for i in range(35)]\n",
    "    length=pitch_size[0]\n",
    "    width=pitch_size[1]\n",
    "    length_edge=length/7\n",
    "    width_edge=width/5\n",
    "    for i in range(len(ball)):\n",
    "        k=0\n",
    "        j=0\n",
    "        if ball[i][0]<=length and ball[i][1]<=width:\n",
    "            while ball[i][0]>(k+1)*length_edge:\n",
    "                k+=1\n",
    "            while ball[i][1]>(j+1)*width_edge:\n",
    "                j+=1\n",
    "            grid[7*j+k]+=1\n",
    "    return grid"
   ]
  },
  {
   "cell_type": "code",
   "execution_count": 19,
   "metadata": {},
   "outputs": [],
   "source": [
    "def pitch_composition_t(time,detections,pitch_size):\n",
    "    compo=list()\n",
    "    if isinstance(detections['ball']['left'][time[0]],list):\n",
    "        compo=compo+ball_grid(pitch_size,detections['ball']['left'][time[0]])\n",
    "    if isinstance(detections['ball']['left'][time[0]],np.ndarray):\n",
    "        compo=compo+ball_grid(pitch_size,detections['ball']['left'][time[0]].tolist())\n",
    "        \n",
    "    if isinstance(detections['ball']['right'][time[1]],list):\n",
    "        compo=compo+ball_grid(pitch_size,detections['ball']['right'][time[1]])\n",
    "    if isinstance(detections['ball']['right'][time[1]],np.ndarray):\n",
    "        compo=compo+ball_grid(pitch_size,detections['ball']['right'][time[1]].tolist())\n",
    "    \n",
    "    if isinstance(detections['players']['left'][time[0]],list):\n",
    "        compo=compo+players_grid(pitch_size,detections['players']['left'][time[0]])\n",
    "    if isinstance(detections['players']['left'][time[0]],np.ndarray):\n",
    "        compo=compo+players_grid(pitch_size,detections['players']['left'][time[0]].tolist())\n",
    "        \n",
    "    if isinstance(detections['players']['right'][time[1]],list):\n",
    "        compo=compo+players_grid(pitch_size,detections['players']['right'][time[1]])\n",
    "    if isinstance(detections['players']['right'][time[1]],np.ndarray):\n",
    "        compo=compo+players_grid(pitch_size,detections['players']['right'][time[1]].tolist())\n",
    "    return compo\n",
    "    \n",
    "def pitch_composition(time_list,detections,pitch_size):\n",
    "    l=select_time(time_list,detections)\n",
    "    seq=list()\n",
    "    for i in range(len(l)):\n",
    "        seq.append(pitch_composition_t(l[i],detections,pitch_size))\n",
    "    return seq\n"
   ]
  },
  {
   "cell_type": "code",
   "execution_count": 20,
   "metadata": {},
   "outputs": [
    {
     "data": {
      "text/plain": [
       "587"
      ]
     },
     "execution_count": 20,
     "metadata": {},
     "output_type": "execute_result"
    }
   ],
   "source": [
    "def sequence_composition(time_list,detections,pitch_size,size_sequence,diminish_size):\n",
    "    sequences=list()\n",
    "    pitch_compo=pitch_composition(time_list,detections,pitch_size)\n",
    "    for i in range(0,len(pitch_compo)-size_sequence+1,diminish_size):\n",
    "        seq_t=list()\n",
    "        for j in range(0,size_sequence,diminish_size):\n",
    "            seq_t=seq_t+pitch_compo[i+j]\n",
    "        sequences.append(seq_t)\n",
    "    return sequences\n",
    "\n",
    "len(sequence_composition(timestamps_list,detections,pitch_size,250,25))"
   ]
  },
  {
   "cell_type": "code",
   "execution_count": 90,
   "metadata": {},
   "outputs": [],
   "source": [
    "def labels(time_list,detections,pitch_size,size_sequence,diminish_size,kickoff_time):\n",
    "    l=select_time(time_list,detections)\n",
    "    y=list()\n",
    "    for i in range(0,len(l)-size_sequence+1,diminish_size):\n",
    "        if max(l[i][0],l[i][1])+3000<=kickoff_time and kickoff_time+3000<=min(l[i+size_sequence-1][0],l[i+size_sequence-1][1]):\n",
    "            y.append(1)\n",
    "        else:\n",
    "            y.append(-1)\n",
    "    return y\n",
    "\n",
    "def reduce_size(X,Y,reduc_size):\n",
    "    compteur=0\n",
    "    new_X=list()\n",
    "    new_Y=list()\n",
    "    for i in range(len(X)):\n",
    "        if Y[i]==1:\n",
    "            new_Y.append(1)\n",
    "            new_X.append(X[i])\n",
    "            compteur=0\n",
    "        if Y[i]==-1:\n",
    "            compteur+=1\n",
    "        if compteur>=reduc_size:\n",
    "            compteur=0\n",
    "            new_Y.append(Y[i])\n",
    "            new_X.append(X[i])\n",
    "    return new_X,new_Y\n",
    "X=sequence_composition(timestamps_list,detections,pitch_size,250,25)\n",
    "Y=labels(timestamps_list,detections,pitch_size,250,25,kickoff_time_matched)\n",
    "X,Y=reduce_size(X,Y,10)"
   ]
  },
  {
   "cell_type": "code",
   "execution_count": 22,
   "metadata": {},
   "outputs": [],
   "source": [
    "tracks_name=['0281a840-f977-4e8a-86e2-eaf67845b528.1.kickoff.rdb','0d9e9e30-9d13-4af0-8e41-fe1669e9eeff.1.kickoff.rdb',\n",
    "            '19bebd81-3b61-492b-85ed-74ff887cbc45.1.kickoff.rdb','2281c504-baac-4d0b-8cb6-a95c23e3ac87.1.kickoff.rdb',\n",
    "            '27bea627-3caa-47ee-93c3-67f0e26f3034.1.kickoff.rdb','2b8bcfd6-5f57-46de-aacd-e932ac8e1697.1.kickoff.rdb',\n",
    "            '2dc12819-d486-4925-a0e2-b8ae9ff1aed5.1.kickoff.rdb','314f4989-398c-45a3-a74f-9f1adac71bf1.1.kickoff.rdb',\n",
    "            '3382a9d0-02ff-4f23-9748-1b715d85b731.1.kickoff.rdb','3c7f617c-c839-4e5a-9e80-52017fa85d93.1.kickoff.rdb',\n",
    "             '4be6ef54-2541-42d0-a334-e513a535029c.1.kickoff.rdb','57bf9b24-5c68-464f-9e74-20d0b2508bba.1.kickoff.rdb',\n",
    "            '58bc418b-cf05-415e-9dd1-6f4808535976.1.kickoff.rdb','5dcb4696-281c-4bff-9ec7-02322c1b4a67.1.kickoff.rdb',\n",
    "            '6e26f66b-a921-4919-9d7d-1bd59f935e78.1.kickoff.rdb','76d4b783-ae63-4c60-815f-6a81beef6451.1.kickoff.rdb',\n",
    "            '84e8b33c-d912-495e-9e21-84bdd18e0e04.1.kickoff.rdb','9e627901-09e2-4c84-bf77-6f0ec289fa5f.1.kickoff.rdb',\n",
    "             'a185c6c8-7383-4d19-927f-dc8f70726c34.1.kickoff.rdb','a5857e03-10b8-454a-89fb-c201985b04cb.1.kickoff.rdb',\n",
    "            'af42c9ca-ae8f-4d69-a671-15950883ecac.1.kickoff.rdb','b0cbf7ed-a9ce-4434-9e4d-072065ee61bc.1.kickoff.rdb',\n",
    "            'b4dbea7c-c72f-4dd6-b57c-8fb7b8b38eb5.1.kickoff.rdb','ba34fc2e-bdba-40d8-8cc8-a679c6eecd5a.1.kickoff.rdb',\n",
    "            'bff5f37c-be85-4f08-b6d4-a01e6c22fe0e.1.kickoff.rdb','c79d79f1-5f51-4595-b931-4719f91a4575.1.kickoff.rdb',\n",
    "            'cbcca433-ff77-4927-a5a3-36ff293c12fd.1.kickoff.rdb','cd6d495b-8fe4-4586-8861-ba579cf3a6e9.1.kickoff.rdb',\n",
    "            'cf16ebf4-49fc-4991-a9b8-b9a055dcf2b8.1.kickoff.rdb','f9f01fbf-6871-4303-b43f-29c2dd16909d.1.kickoff.rdb']        \n",
    "\n",
    "config_name=['0281a840-f977-4e8a-86e2-eaf67845b528.json','0d9e9e30-9d13-4af0-8e41-fe1669e9eeff.json',\n",
    "             '19bebd81-3b61-492b-85ed-74ff887cbc45.json','2281c504-baac-4d0b-8cb6-a95c23e3ac87.json',\n",
    "            '27bea627-3caa-47ee-93c3-67f0e26f3034.json','2b8bcfd6-5f57-46de-aacd-e932ac8e1697.json',\n",
    "             '2dc12819-d486-4925-a0e2-b8ae9ff1aed5.json','314f4989-398c-45a3-a74f-9f1adac71bf1.json',\n",
    "            '3382a9d0-02ff-4f23-9748-1b715d85b731.json','3c7f617c-c839-4e5a-9e80-52017fa85d93.json',\n",
    "            '4be6ef54-2541-42d0-a334-e513a535029c.json','57bf9b24-5c68-464f-9e74-20d0b2508bba.json',\n",
    "            '58bc418b-cf05-415e-9dd1-6f4808535976.json','5dcb4696-281c-4bff-9ec7-02322c1b4a67.json',\n",
    "            '6e26f66b-a921-4919-9d7d-1bd59f935e78.json','76d4b783-ae63-4c60-815f-6a81beef6451.json',\n",
    "            '84e8b33c-d912-495e-9e21-84bdd18e0e04.json','9e627901-09e2-4c84-bf77-6f0ec289fa5f.json',\n",
    "            'a185c6c8-7383-4d19-927f-dc8f70726c34.json','a5857e03-10b8-454a-89fb-c201985b04cb.json',\n",
    "            'af42c9ca-ae8f-4d69-a671-15950883ecac.json','b0cbf7ed-a9ce-4434-9e4d-072065ee61bc.json',\n",
    "            'b4dbea7c-c72f-4dd6-b57c-8fb7b8b38eb5.json','ba34fc2e-bdba-40d8-8cc8-a679c6eecd5a.json',\n",
    "            'bff5f37c-be85-4f08-b6d4-a01e6c22fe0e.json','c79d79f1-5f51-4595-b931-4719f91a4575.json',\n",
    "            'cbcca433-ff77-4927-a5a3-36ff293c12fd.json','cd6d495b-8fe4-4586-8861-ba579cf3a6e9.json',\n",
    "            'cf16ebf4-49fc-4991-a9b8-b9a055dcf2b8.json','f9f01fbf-6871-4303-b43f-29c2dd16909d.json']          "
   ]
  },
  {
   "cell_type": "code",
   "execution_count": 23,
   "metadata": {},
   "outputs": [],
   "source": [
    "import pickle"
   ]
  },
  {
   "cell_type": "code",
   "execution_count": 91,
   "metadata": {},
   "outputs": [],
   "source": [
    "def create_dataset(tracks_name,config_name,file_name,reduc_size):\n",
    "    for i in range(len(tracks_name)):\n",
    "        tracks = parse_dump_file(tracks_name[i])\n",
    "        config = json.load(open(config_name[i], 'r'))\n",
    "        fd, ts = tracks['left'][0]\n",
    "        fd = pickle.loads(fd)\n",
    "        kickoff_1 = config['phase_events'][0]['ts']\n",
    "        kickoff_time = int(parse(kickoff_1).timestamp()*1000)\n",
    "        pitch_size=config['pitch_size']\n",
    "        detections = {'ball':{'left':{}, 'right':{}}, 'players':{'left':{}, 'right':{}}}\n",
    "        timestamps = set()\n",
    "        for (fd_left, ts_left), (fd_right, ts_right) in tqdm(zip(tracks['left'], tracks['right'])):\n",
    "            fd_left = pickle.loads(fd_left)\n",
    "            fd_right = pickle.loads(fd_right)\n",
    "            if np.abs(ts_left - ts_right) < 100:\n",
    "                ts_left = ts_right\n",
    "            timestamps.update({ts_left, ts_right})\n",
    "            detections['players']['left'][ts_left] = fd_left.top_view_player_positions\n",
    "            detections['players']['right'][ts_right] = fd_right.top_view_player_positions\n",
    "            detections['ball']['left'][ts_left] = np.array([bp for bp, bd in zip(fd_left.top_view_ball_positions, fd_left.ball_detections) if ball_ok(bp, bd)])\n",
    "            detections['ball']['right'][ts_right] = np.array([bp for bp, bd in zip(fd_right.top_view_ball_positions, fd_right.ball_detections) if ball_ok(bp, bd)])\n",
    "        timestamps_list = sorted(list(timestamps))\n",
    "        kickoff_time_ind = np.argmin(np.abs(np.subtract(timestamps_list, kickoff_time)))\n",
    "        kickoff_time_matched = timestamps_list[kickoff_time_ind]\n",
    "        \n",
    "        #Create inputs\n",
    "        X=sequence_composition(timestamps_list,detections,pitch_size,500,25)\n",
    "        Y=labels(timestamps_list,detections,pitch_size,500,25,kickoff_time_matched)\n",
    "        X,Y=reduce_size(X,Y,reduc_size)\n",
    "        print(len(X),len(Y))\n",
    "        print(Y.count(1))\n",
    "        \n",
    "        #Create file\n",
    "        if i==0:\n",
    "            with open(file_name, 'wb') as f:\n",
    "                # Pickle the 'data' dictionary using the highest protocol available.\n",
    "                pickle.dump([X,Y], f)\n",
    "        if i>0:\n",
    "            with open(file_name, 'ab') as f:\n",
    "                # Pickle the 'data' dictionary using the highest protocol available.\n",
    "                pickle.dump([X,Y], f)\n",
    "            \n",
    "        "
   ]
  },
  {
   "cell_type": "code",
   "execution_count": 92,
   "metadata": {},
   "outputs": [
    {
     "name": "stderr",
     "output_type": "stream",
     "text": [
      "237it [00:00, 1171.68it/s]"
     ]
    },
    {
     "name": "stdout",
     "output_type": "stream",
     "text": [
      "Parsed 0281a840-f977-4e8a-86e2-eaf67845b528.1.kickoff.rdb in 1.98 s.\n",
      "Contains keys: dict_keys(['right', 'left'])\n",
      "[right] start_ts: 1525015525634 | stop_ts: 1525016123474\n",
      "[left] start_ts: 1525015525720 | stop_ts: 1525016123520\n"
     ]
    },
    {
     "name": "stderr",
     "output_type": "stream",
     "text": [
      "14947it [00:08, 1692.91it/s]\n"
     ]
    },
    {
     "name": "stdout",
     "output_type": "stream",
     "text": [
      "578 578\n",
      "14\n"
     ]
    },
    {
     "name": "stderr",
     "output_type": "stream",
     "text": [
      "510it [00:00, 2632.10it/s]"
     ]
    },
    {
     "name": "stdout",
     "output_type": "stream",
     "text": [
      "Parsed 0d9e9e30-9d13-4af0-8e41-fe1669e9eeff.1.kickoff.rdb in 2.12 s.\n",
      "Contains keys: dict_keys(['right', 'left'])\n",
      "[right] start_ts: 1523192129071 | stop_ts: 1523192727911\n",
      "[left] start_ts: 1523192129517 | stop_ts: 1523192728157\n"
     ]
    },
    {
     "name": "stderr",
     "output_type": "stream",
     "text": [
      "14966it [00:08, 1772.44it/s]\n"
     ]
    },
    {
     "name": "stdout",
     "output_type": "stream",
     "text": [
      "578 578\n",
      "14\n"
     ]
    },
    {
     "name": "stderr",
     "output_type": "stream",
     "text": [
      "397it [00:00, 2059.51it/s]"
     ]
    },
    {
     "name": "stdout",
     "output_type": "stream",
     "text": [
      "Parsed 19bebd81-3b61-492b-85ed-74ff887cbc45.1.kickoff.rdb in 1.87 s.\n",
      "Contains keys: dict_keys(['right', 'left'])\n",
      "[right] start_ts: 1522587371411 | stop_ts: 1522587968931\n",
      "[left] start_ts: 1522587371575 | stop_ts: 1522587969015\n"
     ]
    },
    {
     "name": "stderr",
     "output_type": "stream",
     "text": [
      "14937it [00:09, 1658.18it/s]\n"
     ]
    },
    {
     "name": "stdout",
     "output_type": "stream",
     "text": [
      "577 577\n",
      "14\n"
     ]
    },
    {
     "name": "stderr",
     "output_type": "stream",
     "text": [
      "438it [00:00, 4377.79it/s]"
     ]
    },
    {
     "name": "stdout",
     "output_type": "stream",
     "text": [
      "Parsed 2281c504-baac-4d0b-8cb6-a95c23e3ac87.1.kickoff.rdb in 1.27 s.\n",
      "Contains keys: dict_keys(['right', 'left'])\n",
      "[right] start_ts: 1525096495413 | stop_ts: 1525097093933\n",
      "[left] start_ts: 1525096495433 | stop_ts: 1525097093953\n"
     ]
    },
    {
     "name": "stderr",
     "output_type": "stream",
     "text": [
      "14964it [00:05, 2623.00it/s]\n"
     ]
    },
    {
     "name": "stdout",
     "output_type": "stream",
     "text": [
      "579 579\n",
      "14\n"
     ]
    },
    {
     "name": "stderr",
     "output_type": "stream",
     "text": [
      "463it [00:00, 2284.30it/s]"
     ]
    },
    {
     "name": "stdout",
     "output_type": "stream",
     "text": [
      "Parsed 27bea627-3caa-47ee-93c3-67f0e26f3034.1.kickoff.rdb in 1.90 s.\n",
      "Contains keys: dict_keys(['right', 'left'])\n",
      "[right] start_ts: 1523796957851 | stop_ts: 1523797557411\n",
      "[left] start_ts: 1523796958381 | stop_ts: 1523797557661\n"
     ]
    },
    {
     "name": "stderr",
     "output_type": "stream",
     "text": [
      "14984it [00:08, 1809.26it/s]\n"
     ]
    },
    {
     "name": "stdout",
     "output_type": "stream",
     "text": [
      "579 579\n",
      "14\n"
     ]
    },
    {
     "name": "stderr",
     "output_type": "stream",
     "text": [
      "824it [00:00, 4084.30it/s]"
     ]
    },
    {
     "name": "stdout",
     "output_type": "stream",
     "text": [
      "Parsed 2b8bcfd6-5f57-46de-aacd-e932ac8e1697.1.kickoff.rdb in 1.58 s.\n",
      "Contains keys: dict_keys(['right', 'left'])\n",
      "[right] start_ts: 1523201094061 | stop_ts: 1523201692981\n",
      "[left] start_ts: 1523201092829 | stop_ts: 1523201692349\n"
     ]
    },
    {
     "name": "stderr",
     "output_type": "stream",
     "text": [
      "14951it [00:07, 1885.70it/s]\n"
     ]
    },
    {
     "name": "stdout",
     "output_type": "stream",
     "text": [
      "575 575\n",
      "14\n"
     ]
    },
    {
     "name": "stderr",
     "output_type": "stream",
     "text": [
      "125it [00:00, 1245.32it/s]"
     ]
    },
    {
     "name": "stdout",
     "output_type": "stream",
     "text": [
      "Parsed 2dc12819-d486-4925-a0e2-b8ae9ff1aed5.1.kickoff.rdb in 1.82 s.\n",
      "Contains keys: dict_keys(['right', 'left'])\n",
      "[right] start_ts: 1523192332775 | stop_ts: 1523192929695\n",
      "[left] start_ts: 1523192332019 | stop_ts: 1523192929339\n"
     ]
    },
    {
     "name": "stderr",
     "output_type": "stream",
     "text": [
      "14925it [00:08, 1670.52it/s]\n"
     ]
    },
    {
     "name": "stdout",
     "output_type": "stream",
     "text": [
      "576 576\n",
      "14\n"
     ]
    },
    {
     "name": "stderr",
     "output_type": "stream",
     "text": [
      "253it [00:00, 1296.91it/s]"
     ]
    },
    {
     "name": "stdout",
     "output_type": "stream",
     "text": [
      "Parsed 314f4989-398c-45a3-a74f-9f1adac71bf1.1.kickoff.rdb in 1.62 s.\n",
      "Contains keys: dict_keys(['right', 'left'])\n",
      "[right] start_ts: 1522587361602 | stop_ts: 1522587961442\n",
      "[left] start_ts: 1522587361524 | stop_ts: 1522587961404\n"
     ]
    },
    {
     "name": "stderr",
     "output_type": "stream",
     "text": [
      "14908it [00:07, 1863.90it/s]\n"
     ]
    },
    {
     "name": "stdout",
     "output_type": "stream",
     "text": [
      "573 573\n",
      "14\n"
     ]
    },
    {
     "name": "stderr",
     "output_type": "stream",
     "text": [
      "285it [00:00, 1447.59it/s]"
     ]
    },
    {
     "name": "stdout",
     "output_type": "stream",
     "text": [
      "Parsed 3382a9d0-02ff-4f23-9748-1b715d85b731.1.kickoff.rdb in 2.58 s.\n",
      "Contains keys: dict_keys(['right', 'left'])\n",
      "[right] start_ts: 1523805900650 | stop_ts: 1523806499170\n",
      "[left] start_ts: 1523805900082 | stop_ts: 1523806498882\n"
     ]
    },
    {
     "name": "stderr",
     "output_type": "stream",
     "text": [
      "14963it [00:10, 1424.74it/s]\n"
     ]
    },
    {
     "name": "stdout",
     "output_type": "stream",
     "text": [
      "578 578\n",
      "14\n"
     ]
    },
    {
     "name": "stderr",
     "output_type": "stream",
     "text": [
      "580it [00:00, 5794.87it/s]"
     ]
    },
    {
     "name": "stdout",
     "output_type": "stream",
     "text": [
      "Parsed 3c7f617c-c839-4e5a-9e80-52017fa85d93.1.kickoff.rdb in 1.58 s.\n",
      "Contains keys: dict_keys(['right', 'left'])\n",
      "[right] start_ts: 1525006516933 | stop_ts: 1525007115773\n",
      "[left] start_ts: 1525006516949 | stop_ts: 1525007115789\n"
     ]
    },
    {
     "name": "stderr",
     "output_type": "stream",
     "text": [
      "14972it [00:07, 2018.39it/s]\n"
     ]
    },
    {
     "name": "stdout",
     "output_type": "stream",
     "text": [
      "579 579\n",
      "14\n"
     ]
    },
    {
     "name": "stderr",
     "output_type": "stream",
     "text": [
      "620it [00:00, 3123.91it/s]"
     ]
    },
    {
     "name": "stdout",
     "output_type": "stream",
     "text": [
      "Parsed 4be6ef54-2541-42d0-a334-e513a535029c.1.kickoff.rdb in 1.63 s.\n",
      "Contains keys: dict_keys(['right', 'left'])\n",
      "[right] start_ts: 1523714121038 | stop_ts: 1523714720678\n",
      "[left] start_ts: 1523714121022 | stop_ts: 1523714720662\n"
     ]
    },
    {
     "name": "stderr",
     "output_type": "stream",
     "text": [
      "14991it [00:08, 1802.63it/s]\n"
     ]
    },
    {
     "name": "stdout",
     "output_type": "stream",
     "text": [
      "580 580\n",
      "14\n"
     ]
    },
    {
     "name": "stderr",
     "output_type": "stream",
     "text": [
      "117it [00:00, 1164.25it/s]"
     ]
    },
    {
     "name": "stdout",
     "output_type": "stream",
     "text": [
      "Parsed 57bf9b24-5c68-464f-9e74-20d0b2508bba.1.kickoff.rdb in 1.87 s.\n",
      "Contains keys: dict_keys(['right', 'left'])\n",
      "[right] start_ts: 1524070530793 | stop_ts: 1524071128313\n",
      "[left] start_ts: 1524070530135 | stop_ts: 1524071127975\n"
     ]
    },
    {
     "name": "stderr",
     "output_type": "stream",
     "text": [
      "14939it [00:08, 1664.71it/s]\n"
     ]
    },
    {
     "name": "stdout",
     "output_type": "stream",
     "text": [
      "577 577\n",
      "14\n"
     ]
    },
    {
     "name": "stderr",
     "output_type": "stream",
     "text": [
      "133it [00:00, 1324.53it/s]"
     ]
    },
    {
     "name": "stdout",
     "output_type": "stream",
     "text": [
      "Parsed 58bc418b-cf05-415e-9dd1-6f4808535976.1.kickoff.rdb in 1.61 s.\n",
      "Contains keys: dict_keys(['right', 'left'])\n",
      "[right] start_ts: 1523292957288 | stop_ts: 1523293556968\n",
      "[left] start_ts: 1523292956846 | stop_ts: 1523293556726\n"
     ]
    },
    {
     "name": "stderr",
     "output_type": "stream",
     "text": [
      "14992it [00:07, 1927.96it/s]\n"
     ]
    },
    {
     "name": "stdout",
     "output_type": "stream",
     "text": [
      "579 579\n",
      "14\n"
     ]
    },
    {
     "name": "stderr",
     "output_type": "stream",
     "text": [
      "430it [00:00, 2162.02it/s]"
     ]
    },
    {
     "name": "stdout",
     "output_type": "stream",
     "text": [
      "Parsed 5dcb4696-281c-4bff-9ec7-02322c1b4a67.1.kickoff.rdb in 2.03 s.\n",
      "Contains keys: dict_keys(['right', 'left'])\n",
      "[right] start_ts: 1525015503710 | stop_ts: 1525016102510\n",
      "[left] start_ts: 1525015503674 | stop_ts: 1525016102514\n"
     ]
    },
    {
     "name": "stderr",
     "output_type": "stream",
     "text": [
      "14971it [00:08, 1756.93it/s]\n"
     ]
    },
    {
     "name": "stdout",
     "output_type": "stream",
     "text": [
      "579 579\n",
      "14\n"
     ]
    },
    {
     "name": "stderr",
     "output_type": "stream",
     "text": [
      "243it [00:00, 1205.55it/s]"
     ]
    },
    {
     "name": "stdout",
     "output_type": "stream",
     "text": [
      "Parsed 6e26f66b-a921-4919-9d7d-1bd59f935e78.1.kickoff.rdb in 1.68 s.\n",
      "Contains keys: dict_keys(['right', 'left'])\n",
      "[right] start_ts: 1523638586979 | stop_ts: 1523639185819\n",
      "[left] start_ts: 1523638587613 | stop_ts: 1523639186133\n"
     ]
    },
    {
     "name": "stderr",
     "output_type": "stream",
     "text": [
      "14963it [00:08, 1813.53it/s]\n"
     ]
    },
    {
     "name": "stdout",
     "output_type": "stream",
     "text": [
      "578 578\n",
      "14\n"
     ]
    },
    {
     "name": "stderr",
     "output_type": "stream",
     "text": [
      "92it [00:00, 918.36it/s]"
     ]
    },
    {
     "name": "stdout",
     "output_type": "stream",
     "text": [
      "Parsed 76d4b783-ae63-4c60-815f-6a81beef6451.1.kickoff.rdb in 1.92 s.\n",
      "Contains keys: dict_keys(['right', 'left'])\n",
      "[right] start_ts: 1523109442628 | stop_ts: 1523110041148\n",
      "[left] start_ts: 1523109442596 | stop_ts: 1523110041116\n"
     ]
    },
    {
     "name": "stderr",
     "output_type": "stream",
     "text": [
      "14963it [00:09, 1574.62it/s]\n"
     ]
    },
    {
     "name": "stdout",
     "output_type": "stream",
     "text": [
      "579 579\n",
      "14\n"
     ]
    },
    {
     "name": "stderr",
     "output_type": "stream",
     "text": [
      "566it [00:00, 2907.86it/s]"
     ]
    },
    {
     "name": "stdout",
     "output_type": "stream",
     "text": [
      "Parsed 84e8b33c-d912-495e-9e21-84bdd18e0e04.1.kickoff.rdb in 1.61 s.\n",
      "Contains keys: dict_keys(['right', 'left'])\n",
      "[right] start_ts: 1523638502169 | stop_ts: 1523639099769\n",
      "[left] start_ts: 1523638501659 | stop_ts: 1523639099539\n"
     ]
    },
    {
     "name": "stderr",
     "output_type": "stream",
     "text": [
      "14940it [00:07, 1983.60it/s]\n"
     ]
    },
    {
     "name": "stdout",
     "output_type": "stream",
     "text": [
      "577 577\n",
      "14\n"
     ]
    },
    {
     "name": "stderr",
     "output_type": "stream",
     "text": [
      "542it [00:00, 2620.44it/s]"
     ]
    },
    {
     "name": "stdout",
     "output_type": "stream",
     "text": [
      "Parsed 9e627901-09e2-4c84-bf77-6f0ec289fa5f.1.kickoff.rdb in 1.66 s.\n",
      "Contains keys: dict_keys(['right', 'left'])\n",
      "[right] start_ts: 1522682845973 | stop_ts: 1522683445853\n",
      "[left] start_ts: 1522682846069 | stop_ts: 1522683445869\n"
     ]
    },
    {
     "name": "stderr",
     "output_type": "stream",
     "text": [
      "14997it [00:06, 2454.25it/s]\n"
     ]
    },
    {
     "name": "stdout",
     "output_type": "stream",
     "text": [
      "580 580\n",
      "14\n"
     ]
    },
    {
     "name": "stderr",
     "output_type": "stream",
     "text": [
      "256it [00:00, 1293.59it/s]"
     ]
    },
    {
     "name": "stdout",
     "output_type": "stream",
     "text": [
      "Parsed a185c6c8-7383-4d19-927f-dc8f70726c34.1.kickoff.rdb in 2.32 s.\n",
      "Contains keys: dict_keys(['right', 'left'])\n",
      "[right] start_ts: 1523897795697 | stop_ts: 1523898395297\n",
      "[left] start_ts: 1523897795243 | stop_ts: 1523898395043\n"
     ]
    },
    {
     "name": "stderr",
     "output_type": "stream",
     "text": [
      "14991it [00:10, 1394.73it/s]\n"
     ]
    },
    {
     "name": "stdout",
     "output_type": "stream",
     "text": [
      "579 579\n",
      "14\n"
     ]
    },
    {
     "name": "stderr",
     "output_type": "stream",
     "text": [
      "93it [00:00, 923.49it/s]"
     ]
    },
    {
     "name": "stdout",
     "output_type": "stream",
     "text": [
      "Parsed a5857e03-10b8-454a-89fb-c201985b04cb.1.kickoff.rdb in 1.40 s.\n",
      "Contains keys: dict_keys(['right', 'left'])\n",
      "[right] start_ts: 1523379375326 | stop_ts: 1523379973846\n",
      "[left] start_ts: 1523379375938 | stop_ts: 1523379974138\n"
     ]
    },
    {
     "name": "stderr",
     "output_type": "stream",
     "text": [
      "14955it [00:06, 2157.46it/s]\n"
     ]
    },
    {
     "name": "stdout",
     "output_type": "stream",
     "text": [
      "578 578\n",
      "14\n"
     ]
    },
    {
     "name": "stderr",
     "output_type": "stream",
     "text": [
      "269it [00:00, 1342.27it/s]"
     ]
    },
    {
     "name": "stdout",
     "output_type": "stream",
     "text": [
      "Parsed af42c9ca-ae8f-4d69-a671-15950883ecac.1.kickoff.rdb in 2.20 s.\n",
      "Contains keys: dict_keys(['right', 'left'])\n",
      "[right] start_ts: 1524923719612 | stop_ts: 1524924319452\n",
      "[left] start_ts: 1524923719596 | stop_ts: 1524924319436\n"
     ]
    },
    {
     "name": "stderr",
     "output_type": "stream",
     "text": [
      "14997it [00:10, 1485.00it/s]\n"
     ]
    },
    {
     "name": "stdout",
     "output_type": "stream",
     "text": [
      "580 580\n",
      "14\n"
     ]
    },
    {
     "name": "stderr",
     "output_type": "stream",
     "text": [
      "776it [00:00, 4039.08it/s]"
     ]
    },
    {
     "name": "stdout",
     "output_type": "stream",
     "text": [
      "Parsed b0cbf7ed-a9ce-4434-9e4d-072065ee61bc.1.kickoff.rdb in 1.41 s.\n",
      "Contains keys: dict_keys(['right', 'left'])\n",
      "[right] start_ts: 1523706912088 | stop_ts: 1523707510928\n",
      "[left] start_ts: 1523706904558 | stop_ts: 1523707503158\n"
     ]
    },
    {
     "name": "stderr",
     "output_type": "stream",
     "text": [
      "14966it [00:06, 2492.11it/s]\n"
     ]
    },
    {
     "name": "stdout",
     "output_type": "stream",
     "text": [
      "571 571\n",
      "14\n"
     ]
    },
    {
     "name": "stderr",
     "output_type": "stream",
     "text": [
      "375it [00:00, 1803.63it/s]"
     ]
    },
    {
     "name": "stdout",
     "output_type": "stream",
     "text": [
      "Parsed b4dbea7c-c72f-4dd6-b57c-8fb7b8b38eb5.1.kickoff.rdb in 2.12 s.\n",
      "Contains keys: dict_keys(['right', 'left'])\n",
      "[right] start_ts: 1524070510889 | stop_ts: 1524071110729\n",
      "[left] start_ts: 1524070510939 | stop_ts: 1524071110739\n"
     ]
    },
    {
     "name": "stderr",
     "output_type": "stream",
     "text": [
      "14996it [00:10, 1495.49it/s]\n"
     ]
    },
    {
     "name": "stdout",
     "output_type": "stream",
     "text": [
      "580 580\n",
      "14\n"
     ]
    },
    {
     "name": "stderr",
     "output_type": "stream",
     "text": [
      "81it [00:00, 801.87it/s]"
     ]
    },
    {
     "name": "stdout",
     "output_type": "stream",
     "text": [
      "Parsed ba34fc2e-bdba-40d8-8cc8-a679c6eecd5a.1.kickoff.rdb in 2.52 s.\n",
      "Contains keys: dict_keys(['right', 'left'])\n",
      "[right] start_ts: 1522596366671 | stop_ts: 1522596965511\n",
      "[left] start_ts: 1522596366681 | stop_ts: 1522596965521\n"
     ]
    },
    {
     "name": "stderr",
     "output_type": "stream",
     "text": [
      "14972it [00:06, 2233.15it/s]\n"
     ]
    },
    {
     "name": "stdout",
     "output_type": "stream",
     "text": [
      "579 579\n",
      "14\n"
     ]
    },
    {
     "name": "stderr",
     "output_type": "stream",
     "text": [
      "754it [00:00, 3856.67it/s]"
     ]
    },
    {
     "name": "stdout",
     "output_type": "stream",
     "text": [
      "Parsed bff5f37c-be85-4f08-b6d4-a01e6c22fe0e.1.kickoff.rdb in 1.64 s.\n",
      "Contains keys: dict_keys(['right', 'left'])\n",
      "[right] start_ts: 1523984147529 | stop_ts: 1523984746449\n",
      "[left] start_ts: 1523984148353 | stop_ts: 1523984746873\n"
     ]
    },
    {
     "name": "stderr",
     "output_type": "stream",
     "text": [
      "14964it [00:07, 1874.54it/s]\n"
     ]
    },
    {
     "name": "stdout",
     "output_type": "stream",
     "text": [
      "578 578\n",
      "14\n"
     ]
    },
    {
     "name": "stderr",
     "output_type": "stream",
     "text": [
      "134it [00:00, 1335.74it/s]"
     ]
    },
    {
     "name": "stdout",
     "output_type": "stream",
     "text": [
      "Parsed c79d79f1-5f51-4595-b931-4719f91a4575.1.kickoff.rdb in 1.72 s.\n",
      "Contains keys: dict_keys(['right', 'left'])\n",
      "[right] start_ts: 1525103808005 | stop_ts: 1525104404845\n",
      "[left] start_ts: 1525103807965 | stop_ts: 1525104404805\n"
     ]
    },
    {
     "name": "stderr",
     "output_type": "stream",
     "text": [
      "14922it [00:07, 1885.25it/s]\n"
     ]
    },
    {
     "name": "stdout",
     "output_type": "stream",
     "text": [
      "576 576\n",
      "14\n"
     ]
    },
    {
     "name": "stderr",
     "output_type": "stream",
     "text": [
      "819it [00:00, 4097.83it/s]"
     ]
    },
    {
     "name": "stdout",
     "output_type": "stream",
     "text": [
      "Parsed cbcca433-ff77-4927-a5a3-36ff293c12fd.1.kickoff.rdb in 1.34 s.\n",
      "Contains keys: dict_keys(['right', 'left'])\n",
      "[right] start_ts: 1523292936370 | stop_ts: 1523293534370\n",
      "[left] start_ts: 1523292948088 | stop_ts: 1523293544248\n"
     ]
    },
    {
     "name": "stderr",
     "output_type": "stream",
     "text": [
      "14861it [00:06, 2454.28it/s]\n"
     ]
    },
    {
     "name": "stdout",
     "output_type": "stream",
     "text": [
      "562 562\n",
      "14\n"
     ]
    },
    {
     "name": "stderr",
     "output_type": "stream",
     "text": [
      "642it [00:00, 3228.28it/s]"
     ]
    },
    {
     "name": "stdout",
     "output_type": "stream",
     "text": [
      "Parsed cd6d495b-8fe4-4586-8861-ba579cf3a6e9.1.kickoff.rdb in 0.59 s.\n",
      "Contains keys: dict_keys(['right', 'left'])\n",
      "[right] start_ts: 1523797351317 | stop_ts: 1523797585837\n",
      "[left] start_ts: 1523797351725 | stop_ts: 1523797586045\n"
     ]
    },
    {
     "name": "stderr",
     "output_type": "stream",
     "text": [
      "5860it [00:02, 2506.26it/s]\n"
     ]
    },
    {
     "name": "stdout",
     "output_type": "stream",
     "text": [
      "214 214\n",
      "0\n"
     ]
    },
    {
     "name": "stderr",
     "output_type": "stream",
     "text": [
      "260it [00:00, 1298.99it/s]"
     ]
    },
    {
     "name": "stdout",
     "output_type": "stream",
     "text": [
      "Parsed cf16ebf4-49fc-4991-a9b8-b9a055dcf2b8.1.kickoff.rdb in 1.62 s.\n",
      "Contains keys: dict_keys(['right', 'left'])\n",
      "[right] start_ts: 1525006796888 | stop_ts: 1525007393688\n",
      "[left] start_ts: 1525006796874 | stop_ts: 1525007393674\n"
     ]
    },
    {
     "name": "stderr",
     "output_type": "stream",
     "text": [
      "14921it [00:08, 1850.88it/s]\n"
     ]
    },
    {
     "name": "stdout",
     "output_type": "stream",
     "text": [
      "577 577\n",
      "14\n"
     ]
    },
    {
     "name": "stderr",
     "output_type": "stream",
     "text": [
      "442it [00:00, 2196.77it/s]"
     ]
    },
    {
     "name": "stdout",
     "output_type": "stream",
     "text": [
      "Parsed f9f01fbf-6871-4303-b43f-29c2dd16909d.1.kickoff.rdb in 1.98 s.\n",
      "Contains keys: dict_keys(['right', 'left'])\n",
      "[right] start_ts: 1522673702216 | stop_ts: 1522674302096\n",
      "[left] start_ts: 1522673702294 | stop_ts: 1522674302134\n"
     ]
    },
    {
     "name": "stderr",
     "output_type": "stream",
     "text": [
      "14996it [00:08, 1797.53it/s]\n"
     ]
    },
    {
     "name": "stdout",
     "output_type": "stream",
     "text": [
      "579 579\n",
      "14\n"
     ]
    }
   ],
   "source": [
    "create_dataset(tracks_name,config_name,'data.pickle',1)"
   ]
  },
  {
   "cell_type": "code",
   "execution_count": 69,
   "metadata": {},
   "outputs": [
    {
     "data": {
      "text/plain": [
       "[[0, 1], [3], [5, 6, 7, 8], [10]]"
      ]
     },
     "execution_count": 69,
     "metadata": {},
     "output_type": "execute_result"
    }
   ],
   "source": [
    "import random\n",
    "\n",
    "def shuffle_data(X,Y):\n",
    "    shuffle_list=list()\n",
    "    shuffle_X=list()\n",
    "    shuffle_Y=list()\n",
    "    for i in range(len(Y)):\n",
    "        shuffle_list.append([X[i],Y[i]])\n",
    "    random.shuffle(shuffle_list)\n",
    "    for i in range(len(Y)):\n",
    "        shuffle_X.append(shuffle_list[i][0])\n",
    "        shuffle_Y.append(shuffle_list[i][1])\n",
    "    return shuffle_X,shuffle_Y\n",
    "\n",
    "def sequence_kickoff_time(Y):\n",
    "    kickoff_match_i=list()\n",
    "    kickoff_periods=list()\n",
    "    for i in range(len(Y)):\n",
    "        if Y[i]==-1 and len(kickoff_match_i)>0:\n",
    "            kickoff_periods.append(kickoff_match_i)\n",
    "            kickoff_match_i=list()\n",
    "        if Y[i]==1:\n",
    "            kickoff_match_i.append(i)\n",
    "    if len(kickoff_match_i)>0:\n",
    "        kickoff_periods.append(kickoff_match_i)\n",
    "    return kickoff_periods\n",
    "\n"
   ]
  },
  {
   "cell_type": "code",
   "execution_count": 88,
   "metadata": {},
   "outputs": [],
   "source": [
    "from sklearn.ensemble import AdaBoostClassifier, GradientBoostingClassifier, RandomForestClassifier\n",
    "from sklearn.svm import SVC, LinearSVC\n",
    "from sklearn.neighbors import NearestNeighbors\n",
    "from sklearn.tree import DecisionTreeClassifier\n",
    "from datetime import datetime\n",
    "def cross_validation(X,Y,name_classifier,percentage_train,nbre_matches,indices,type_cross):\n",
    "    score=0\n",
    "    start=datetime.now()\n",
    "    for i in range(nbre_matches):\n",
    "        start_i=datetime.now()\n",
    "        #Create training and test datasets\n",
    "        x_train1=X[indices[i]:indices[min(i+int(nbre_matches*percentage_train),nbre_matches)]]+X[:indices[max(0,i+int(nbre_matches*percentage_train)-nbre_matches)]]\n",
    "        y_train1=Y[indices[i]:indices[min(i+int(nbre_matches*percentage_train),nbre_matches)]]+Y[:indices[max(0,i+int(nbre_matches*percentage_train)-nbre_matches)]]\n",
    "        x_test1=X[indices[min(i+int(nbre_matches*percentage_train),nbre_matches)]:]+X[indices[max(0,i+int(nbre_matches*percentage_train)-nbre_matches)]:indices[i]]\n",
    "        y_test1=Y[indices[min(i+int(nbre_matches*percentage_train),nbre_matches)]:]+Y[indices[max(0,i+int(nbre_matches*percentage_train)-nbre_matches)]:indices[i]]\n",
    "        \n",
    "        #Cross_validation kickoff\n",
    "        if type_cross==\"kickoff\":\n",
    "            kickoff_indices=sequence_kickoff_time(y_test1)\n",
    "            x_test2=list()\n",
    "            y_test2=list()\n",
    "            for i in range(len(kickoff_indices)):\n",
    "                y_test2=y_test2+y_test1[kickoff_indices[i][0]:kickoff_indices[i][-1]+1]\n",
    "                x_test2=x_test2+x_test1[kickoff_indices[i][0]:kickoff_indices[i][-1]+1]\n",
    "            y_test1=y_test2\n",
    "            x_test1=x_test2\n",
    "            print(y_test1)\n",
    "            \n",
    "        #Shuffle data\n",
    "        x_train,y_train=shuffle_data(x_train1,y_train1)\n",
    "        x_test,y_test=shuffle_data(x_test1,y_test1)\n",
    "        \n",
    "        #Training classifier\n",
    "        if name_classifier=='adaboost':\n",
    "            clf=AdaBoostClassifier()\n",
    "            clf.fit(x_train,y_train)\n",
    "        if name_classifier=='gradaboost':\n",
    "            clf=GradientBoostingClassifier()\n",
    "            clf.fit(x_train,y_train)\n",
    "        if name_classifier=='svm':\n",
    "            clf=SVC()\n",
    "            clf.fit(x_train,y_train)\n",
    "        if name_classifier=='linear_svm':\n",
    "            clf=LinearSVC()\n",
    "            clf.fit(x_train,y_train)\n",
    "        if name_classifier=='knn':\n",
    "            clf=NearestNeighbors()\n",
    "            clf.fit(x_train,y_train)\n",
    "        if name_classifier=='tree':\n",
    "            clf=DecisionTreeClassifier()\n",
    "            clf.fit(x_train,y_train)\n",
    "        if name_classifier=='forest':\n",
    "            clf=RandomForestClassifier(n_estimators=nbre_matches)\n",
    "            clf.fit(x_train,y_train)\n",
    "        end_i=datetime.now()\n",
    "        #Test\n",
    "        print(clf.predict(x_test).tolist().count(1))\n",
    "        score+=clf.score(x_test,y_test)\n",
    "        print(\"Score for iteration {0} is {1}\".format(i,clf.score(x_test,y_test)))\n",
    "        print(\"Training time: {0}\".format(end_i-start_i))\n",
    "        print(\"\\n\")\n",
    "    \n",
    "    end=datetime.now()\n",
    "    print(\"Final Score: {0}\".format(score/nbre_matches))\n",
    "    print(\"Cross validation time: {0}\".format(end-start))\n",
    "        \n",
    "        \n",
    "        \n",
    "def Classification(dataset,percentage_train,name_classifier,nbre_matches,type_cross=\"no kickoff\"):\n",
    "    #Create inputs\n",
    "    X=list()\n",
    "    Y=list()\n",
    "    indices=[0]\n",
    "    with open(dataset, 'rb') as f:\n",
    "        for i in range(nbre_matches):\n",
    "            data = pickle.load(f)\n",
    "            X=X+data[0]\n",
    "            Y=Y+data[1]\n",
    "            indices.append(len(Y))\n",
    "    cross_validation(X,Y,name_classifier,percentage_train,nbre_matches,indices,type_cross)\n",
    "\n",
    "    \n",
    "\n"
   ]
  },
  {
   "cell_type": "code",
   "execution_count": 89,
   "metadata": {},
   "outputs": [
    {
     "name": "stdout",
     "output_type": "stream",
     "text": [
      "0\n",
      "Score for iteration 0 is 0.9888747616020344\n",
      "Training time: 0:00:02.230481\n",
      "\n",
      "\n",
      "0\n",
      "Score for iteration 1 is 0.9888747616020344\n",
      "Training time: 0:00:02.590061\n",
      "\n",
      "\n",
      "0\n",
      "Score for iteration 2 is 0.988881829733164\n",
      "Training time: 0:00:02.250194\n",
      "\n",
      "\n",
      "0\n",
      "Score for iteration 3 is 0.9889345558014543\n",
      "Training time: 0:00:02.217452\n",
      "\n",
      "\n",
      "0\n",
      "Score for iteration 4 is 0.9880952380952381\n",
      "Training time: 0:00:02.131930\n",
      "\n",
      "\n",
      "0\n",
      "Score for iteration 5 is 0.9881019830028328\n",
      "Training time: 0:00:02.229024\n",
      "\n",
      "\n",
      "0\n",
      "Score for iteration 6 is 0.9880884855360181\n",
      "Training time: 0:00:02.431993\n",
      "\n",
      "\n",
      "0\n",
      "Score for iteration 7 is 0.9880817253121453\n",
      "Training time: 0:00:02.111690\n",
      "\n",
      "\n",
      "3\n",
      "Score for iteration 8 is 0.9877806194941745\n",
      "Training time: 0:00:02.168255\n",
      "\n",
      "\n",
      "0\n",
      "Score for iteration 9 is 0.9880681818181818\n",
      "Training time: 0:00:02.131223\n",
      "\n",
      "\n",
      "0\n",
      "Score for iteration 10 is 0.9880681818181818\n",
      "Training time: 0:00:02.170344\n",
      "\n",
      "\n",
      "1\n",
      "Score for iteration 11 is 0.9883555808009088\n",
      "Training time: 0:00:02.183647\n",
      "\n",
      "\n",
      "0\n",
      "Score for iteration 12 is 0.9880783423218847\n",
      "Training time: 0:00:02.460928\n",
      "\n",
      "\n",
      "0\n",
      "Score for iteration 13 is 0.9880884855360181\n",
      "Training time: 0:00:02.161451\n",
      "\n",
      "\n",
      "0\n",
      "Score for iteration 14 is 0.9881087202718006\n",
      "Training time: 0:00:02.160476\n",
      "\n",
      "\n",
      "0\n",
      "Score for iteration 15 is 0.9881087202718006\n",
      "Training time: 0:00:02.136194\n",
      "\n",
      "\n",
      "0\n",
      "Score for iteration 16 is 0.9881087202718006\n",
      "Training time: 0:00:02.107233\n",
      "\n",
      "\n",
      "0\n",
      "Score for iteration 17 is 0.9880986115046756\n",
      "Training time: 0:00:02.206652\n",
      "\n",
      "\n",
      "0\n",
      "Score for iteration 18 is 0.9881087202718006\n",
      "Training time: 0:00:02.464775\n",
      "\n",
      "\n",
      "0\n",
      "Score for iteration 19 is 0.9881087202718006\n",
      "Training time: 0:00:02.125183\n",
      "\n",
      "\n",
      "0\n",
      "Score for iteration 20 is 0.9881053525913339\n",
      "Training time: 0:00:02.175557\n",
      "\n",
      "\n",
      "0\n",
      "Score for iteration 21 is 0.9881120860458534\n",
      "Training time: 0:00:02.264714\n",
      "\n",
      "\n",
      "0\n",
      "Score for iteration 22 is 0.9880851063829788\n",
      "Training time: 0:00:02.186322\n",
      "\n",
      "\n",
      "0\n",
      "Score for iteration 23 is 0.9880952380952381\n",
      "Training time: 0:00:02.173746\n",
      "\n",
      "\n",
      "0\n",
      "Score for iteration 24 is 0.9880918627728948\n",
      "Training time: 0:00:02.433964\n",
      "\n",
      "\n",
      "0\n",
      "Score for iteration 25 is 0.9880884855360181\n",
      "Training time: 0:00:02.128782\n",
      "\n",
      "\n",
      "0\n",
      "Score for iteration 26 is 0.9880817253121453\n",
      "Training time: 0:00:02.083979\n",
      "\n",
      "\n",
      "0\n",
      "Score for iteration 27 is 0.9880205362236166\n",
      "Training time: 0:00:02.167334\n",
      "\n",
      "\n",
      "0\n",
      "Score for iteration 28 is 0.9888853604318831\n",
      "Training time: 0:00:02.284667\n",
      "\n",
      "\n",
      "0\n",
      "Score for iteration 29 is 0.9888747616020344\n",
      "Training time: 0:00:02.489828\n",
      "\n",
      "\n",
      "Final Score: 0.988248515344398\n",
      "Cross validation time: 0:01:32.189800\n"
     ]
    }
   ],
   "source": [
    "Classification('data.pickle',0.8,'forest',30,\"no kickoff\")"
   ]
  },
  {
   "cell_type": "code",
   "execution_count": 66,
   "metadata": {},
   "outputs": [
    {
     "data": {
      "text/plain": [
       "0.010714285714285714"
      ]
     },
     "execution_count": 66,
     "metadata": {},
     "output_type": "execute_result"
    }
   ],
   "source": []
  },
  {
   "cell_type": "code",
   "execution_count": 26,
   "metadata": {},
   "outputs": [
    {
     "data": {
      "text/plain": [
       "[]"
      ]
     },
     "execution_count": 26,
     "metadata": {},
     "output_type": "execute_result"
    }
   ],
   "source": [
    "a[:0]"
   ]
  }
 ],
 "metadata": {
  "kernelspec": {
   "display_name": "Python 3",
   "language": "python",
   "name": "python3"
  },
  "language_info": {
   "codemirror_mode": {
    "name": "ipython",
    "version": 3
   },
   "file_extension": ".py",
   "mimetype": "text/x-python",
   "name": "python",
   "nbconvert_exporter": "python",
   "pygments_lexer": "ipython3",
   "version": "3.5.2"
  }
 },
 "nbformat": 4,
 "nbformat_minor": 2
}
