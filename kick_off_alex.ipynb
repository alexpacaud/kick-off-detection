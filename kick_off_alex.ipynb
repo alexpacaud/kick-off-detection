{
 "cells": [
  {
   "cell_type": "code",
   "execution_count": 1,
   "metadata": {},
   "outputs": [],
   "source": [
    "import time\n",
    "import pickle\n",
    "import numpy as np\n",
    "import pprint\n",
    "import matplotlib.pyplot as plt\n",
    "from tqdm import tqdm \n",
    "import json\n",
    "from dateutil.parser import parse"
   ]
  },
  {
   "cell_type": "code",
   "execution_count": 2,
   "metadata": {},
   "outputs": [],
   "source": [
    "from rdbtools import RdbParser, RdbCallback\n",
    "from rdbtools.encodehelpers import bytes_to_unicode\n",
    "\n",
    "class PublishCallback(RdbCallback):\n",
    "\n",
    "    def __init__(self, is_unicode=False, start_ts=float('-inf'), stop_ts=float('+inf')):\n",
    "        super(PublishCallback, self).__init__(string_escape=None)\n",
    "        self.ranges = {}\n",
    "        self.start = start_ts\n",
    "        self.stop = stop_ts\n",
    "        self.is_unicode = is_unicode\n",
    "\n",
    "    def encode_key(self, key):\n",
    "        return bytes_to_unicode(key, self._escape, skip_printable=True)\n",
    "\n",
    "    def encode_value(self, val):\n",
    "        if self.is_unicode:\n",
    "            return bytes_to_unicode(val, self._escape)\n",
    "        return val\n",
    "\n",
    "    def start_sorted_set(self, key, length, expiry, info):\n",
    "        self.ranges[self.encode_key(key)] = []\n",
    "\n",
    "    def zadd(self, key, score, member):\n",
    "        if self.start <= score <= self.stop:\n",
    "            self.ranges[self.encode_key(key)].append((self.encode_value(member), round(score)))\n",
    "\n",
    "    def end_sorted_set(self, key):\n",
    "        encoded_key = self.encode_key(key)\n",
    "        self.ranges[encoded_key] = list(reversed(self.ranges[encoded_key]))\n",
    "\n",
    "\n",
    "def parse_dump_file(dump_file, start_ts=float(\"-inf\"), stop_ts=float(\"+inf\")):\n",
    "    \"\"\"Parse a redis dump file (rdb) and return the data within.\n",
    "\n",
    "    Only supports SortedSet.\n",
    "\n",
    "    Args:\n",
    "        dump_file (str): Rdb path\n",
    "        start_ts (float): timestamp of the first value to publish\n",
    "        stop_ts (float): timestamp of the last value to publish\n",
    "\n",
    "    Returns:\n",
    "        ranges (dict): {\n",
    "                'keyA': [(FrameDataDump1A, Score1A), ..., (FrameDataDumpNA, ScoreNA)],\n",
    "                'keyB': [(FrameDataDump1B, Score1B), ..., (FrameDataDumpNB, ScoreNB)],\n",
    "                ...\n",
    "            }\n",
    "    \"\"\"\n",
    "    t0 = time.time()\n",
    "\n",
    "    callback = PublishCallback(start_ts=start_ts, stop_ts=stop_ts)\n",
    "    rdb_parser = RdbParser(callback)\n",
    "    rdb_parser.parse(dump_file)\n",
    "    print(\"Parsed {} in {:.2f} s.\".format(dump_file, time.time() - t0))\n",
    "    print(\"Contains keys:\", callback.ranges.keys())\n",
    "    for k in callback.ranges.keys():\n",
    "        print(\n",
    "            \"[{}] start_ts: {} | stop_ts: {}\".format(\n",
    "                k, callback.ranges[k][0][1], callback.ranges[k][-1][1]\n",
    "            )\n",
    "        )\n",
    "    return callback.ranges"
   ]
  },
  {
   "cell_type": "code",
   "execution_count": 3,
   "metadata": {},
   "outputs": [],
   "source": [
    "from ipywidgets import interact\n",
    "import ipywidgets as widgets"
   ]
  },
  {
   "cell_type": "code",
   "execution_count": 4,
   "metadata": {},
   "outputs": [
    {
     "name": "stdout",
     "output_type": "stream",
     "text": [
      "Parsed ../kickoff-data-corrected/4b949eae-068b-4b0a-bc88-f5ef0a97b2ba.1.kickoff.rdb in 4.57 s.\n",
      "Contains keys: dict_keys(['right', 'left'])\n",
      "[right] start_ts: 1524318935116 | stop_ts: 1524319532636\n",
      "[left] start_ts: 1524318934512 | stop_ts: 1524319532312\n"
     ]
    }
   ],
   "source": [
    "tracks = parse_dump_file('../kickoff-data-corrected/4b949eae-068b-4b0a-bc88-f5ef0a97b2ba.1.kickoff.rdb')\n",
    "config = json.load(open('../kickoff-data-corrected/4b949eae-068b-4b0a-bc88-f5ef0a97b2ba.json', 'r'))"
   ]
  },
  {
   "cell_type": "code",
   "execution_count": 5,
   "metadata": {},
   "outputs": [
    {
     "name": "stdout",
     "output_type": "stream",
     "text": [
      "dict_keys(['player_detections', 'features', 'stream_ts', 'embeddings', 'packed_rects', 'mapping', 'last', 'ts', 'valid_frame', 'top_view_player_positions', 'bboxes', 'phase_state', 'ball_detections', 'top_view_ball_positions'])\n",
      "[0, 0, 0, 0, 0, 0, 0, 0, 0, 0, 0, 0, 0, 0, 0, 0, 0, 0, 0, 0, 0, 0, 0, 0, 0, 0, 0, 0, 0, 0, 0, 0, 0, 0, 0, 0, 0, 0, 0, 0, 0, 0, 0, 0, 0, 0]\n"
     ]
    }
   ],
   "source": [
    "\n",
    "fd, ts = tracks['left'][4000]\n",
    "\n",
    "\n",
    "fd = pickle.loads(fd)\n",
    "pprint.pprint(fd.__dict__.keys())\n",
    "print([fd.player_detections[i].confidence for i in range(len(fd.player_detections))])"
   ]
  },
  {
   "cell_type": "code",
   "execution_count": 6,
   "metadata": {},
   "outputs": [],
   "source": [
    "kickoff_1 = config['phase_events'][0]['ts']\n",
    "kickoff_time = int(parse(kickoff_1).timestamp()*1000)"
   ]
  },
  {
   "cell_type": "code",
   "execution_count": 7,
   "metadata": {},
   "outputs": [
    {
     "data": {
      "text/plain": [
       "[{'kickoff_team_id': 13,\n",
       "  'phase': 1,\n",
       "  'ts': '2018-04-21T14:00:33.996000',\n",
       "  'type': 'start_phase'},\n",
       " {'phase': 1, 'ts': '2018-04-21T14:45:33.074Z', 'type': 'end_phase'},\n",
       " {'kickoff_team_id': 12,\n",
       "  'phase': 2,\n",
       "  'ts': '2018-04-21T15:02:23.876000',\n",
       "  'type': 'start_phase'},\n",
       " {'phase': 2, 'ts': '2018-04-21T15:50:24.649Z', 'type': 'end_phase'}]"
      ]
     },
     "execution_count": 7,
     "metadata": {},
     "output_type": "execute_result"
    }
   ],
   "source": [
    "config['phase_events'] "
   ]
  },
  {
   "cell_type": "code",
   "execution_count": 8,
   "metadata": {},
   "outputs": [
    {
     "name": "stdout",
     "output_type": "stream",
     "text": [
      "[105, 68]\n"
     ]
    }
   ],
   "source": [
    "pitch_size=config['pitch_size']\n",
    "print(pitch_size)"
   ]
  },
  {
   "cell_type": "code",
   "execution_count": 9,
   "metadata": {
    "scrolled": false
   },
   "outputs": [
    {
     "name": "stderr",
     "output_type": "stream",
     "text": [
      "14940it [00:11, 1336.30it/s]\n"
     ]
    }
   ],
   "source": [
    "detections = {'ball':{'left':{}, 'right':{}}, 'players':{'left':{}, 'right':{}}}\n",
    "\n",
    "timestamps = set()\n",
    "\n",
    "def ball_ok(ball_pos, ball_det):\n",
    "    if ball_pos[0] < 0 or ball_pos[1] < 0:\n",
    "        return False\n",
    "    if ball_det.confidence < 0.7:\n",
    "        return False\n",
    "    return True\n",
    "\n",
    "for (fd_left, ts_left), (fd_right, ts_right) in tqdm(zip(tracks['left'], tracks['right'])):\n",
    "    fd_left = pickle.loads(fd_left)\n",
    "    fd_right = pickle.loads(fd_right)\n",
    "    if np.abs(ts_left - ts_right) < 100:\n",
    "        ts_left = ts_right\n",
    "    timestamps.update({ts_left, ts_right})\n",
    "\n",
    "    detections['players']['left'][ts_left] = fd_left.top_view_player_positions\n",
    "    detections['players']['right'][ts_right] = fd_right.top_view_player_positions\n",
    "    detections['ball']['left'][ts_left] = np.array([bp for bp, bd in zip(fd_left.top_view_ball_positions, fd_left.ball_detections) if ball_ok(bp, bd)])\n",
    "    detections['ball']['right'][ts_right] = np.array([bp for bp, bd in zip(fd_right.top_view_ball_positions, fd_right.ball_detections) if ball_ok(bp, bd)])\n",
    "    "
   ]
  },
  {
   "cell_type": "code",
   "execution_count": 147,
   "metadata": {},
   "outputs": [
    {
     "ename": "KeyError",
     "evalue": "1527429925546",
     "output_type": "error",
     "traceback": [
      "\u001b[0;31m---------------------------------------------------------------------------\u001b[0m",
      "\u001b[0;31mKeyError\u001b[0m                                  Traceback (most recent call last)",
      "\u001b[0;32m<ipython-input-147-53a3f20a03c9>\u001b[0m in \u001b[0;36m<module>\u001b[0;34m()\u001b[0m\n\u001b[0;32m----> 1\u001b[0;31m \u001b[0mprint\u001b[0m\u001b[0;34m(\u001b[0m\u001b[0mdetections\u001b[0m\u001b[0;34m[\u001b[0m\u001b[0;34m'players'\u001b[0m\u001b[0;34m]\u001b[0m\u001b[0;34m[\u001b[0m\u001b[0;34m'left'\u001b[0m\u001b[0;34m]\u001b[0m\u001b[0;34m[\u001b[0m\u001b[0;36m1527429925546\u001b[0m\u001b[0;34m]\u001b[0m\u001b[0;34m)\u001b[0m\u001b[0;34m\u001b[0m\u001b[0m\n\u001b[0m",
      "\u001b[0;31mKeyError\u001b[0m: 1527429925546"
     ]
    }
   ],
   "source": [
    "print(detections['players']['left'][1527429925546])"
   ]
  },
  {
   "cell_type": "code",
   "execution_count": 10,
   "metadata": {
    "scrolled": false
   },
   "outputs": [
    {
     "name": "stdout",
     "output_type": "stream",
     "text": [
      "1524319233996 1524319233996\n"
     ]
    },
    {
     "data": {
      "application/javascript": [
       "/* Put everything inside the global mpl namespace */\n",
       "window.mpl = {};\n",
       "\n",
       "\n",
       "mpl.get_websocket_type = function() {\n",
       "    if (typeof(WebSocket) !== 'undefined') {\n",
       "        return WebSocket;\n",
       "    } else if (typeof(MozWebSocket) !== 'undefined') {\n",
       "        return MozWebSocket;\n",
       "    } else {\n",
       "        alert('Your browser does not have WebSocket support.' +\n",
       "              'Please try Chrome, Safari or Firefox ≥ 6. ' +\n",
       "              'Firefox 4 and 5 are also supported but you ' +\n",
       "              'have to enable WebSockets in about:config.');\n",
       "    };\n",
       "}\n",
       "\n",
       "mpl.figure = function(figure_id, websocket, ondownload, parent_element) {\n",
       "    this.id = figure_id;\n",
       "\n",
       "    this.ws = websocket;\n",
       "\n",
       "    this.supports_binary = (this.ws.binaryType != undefined);\n",
       "\n",
       "    if (!this.supports_binary) {\n",
       "        var warnings = document.getElementById(\"mpl-warnings\");\n",
       "        if (warnings) {\n",
       "            warnings.style.display = 'block';\n",
       "            warnings.textContent = (\n",
       "                \"This browser does not support binary websocket messages. \" +\n",
       "                    \"Performance may be slow.\");\n",
       "        }\n",
       "    }\n",
       "\n",
       "    this.imageObj = new Image();\n",
       "\n",
       "    this.context = undefined;\n",
       "    this.message = undefined;\n",
       "    this.canvas = undefined;\n",
       "    this.rubberband_canvas = undefined;\n",
       "    this.rubberband_context = undefined;\n",
       "    this.format_dropdown = undefined;\n",
       "\n",
       "    this.image_mode = 'full';\n",
       "\n",
       "    this.root = $('<div/>');\n",
       "    this._root_extra_style(this.root)\n",
       "    this.root.attr('style', 'display: inline-block');\n",
       "\n",
       "    $(parent_element).append(this.root);\n",
       "\n",
       "    this._init_header(this);\n",
       "    this._init_canvas(this);\n",
       "    this._init_toolbar(this);\n",
       "\n",
       "    var fig = this;\n",
       "\n",
       "    this.waiting = false;\n",
       "\n",
       "    this.ws.onopen =  function () {\n",
       "            fig.send_message(\"supports_binary\", {value: fig.supports_binary});\n",
       "            fig.send_message(\"send_image_mode\", {});\n",
       "            if (mpl.ratio != 1) {\n",
       "                fig.send_message(\"set_dpi_ratio\", {'dpi_ratio': mpl.ratio});\n",
       "            }\n",
       "            fig.send_message(\"refresh\", {});\n",
       "        }\n",
       "\n",
       "    this.imageObj.onload = function() {\n",
       "            if (fig.image_mode == 'full') {\n",
       "                // Full images could contain transparency (where diff images\n",
       "                // almost always do), so we need to clear the canvas so that\n",
       "                // there is no ghosting.\n",
       "                fig.context.clearRect(0, 0, fig.canvas.width, fig.canvas.height);\n",
       "            }\n",
       "            fig.context.drawImage(fig.imageObj, 0, 0);\n",
       "        };\n",
       "\n",
       "    this.imageObj.onunload = function() {\n",
       "        fig.ws.close();\n",
       "    }\n",
       "\n",
       "    this.ws.onmessage = this._make_on_message_function(this);\n",
       "\n",
       "    this.ondownload = ondownload;\n",
       "}\n",
       "\n",
       "mpl.figure.prototype._init_header = function() {\n",
       "    var titlebar = $(\n",
       "        '<div class=\"ui-dialog-titlebar ui-widget-header ui-corner-all ' +\n",
       "        'ui-helper-clearfix\"/>');\n",
       "    var titletext = $(\n",
       "        '<div class=\"ui-dialog-title\" style=\"width: 100%; ' +\n",
       "        'text-align: center; padding: 3px;\"/>');\n",
       "    titlebar.append(titletext)\n",
       "    this.root.append(titlebar);\n",
       "    this.header = titletext[0];\n",
       "}\n",
       "\n",
       "\n",
       "\n",
       "mpl.figure.prototype._canvas_extra_style = function(canvas_div) {\n",
       "\n",
       "}\n",
       "\n",
       "\n",
       "mpl.figure.prototype._root_extra_style = function(canvas_div) {\n",
       "\n",
       "}\n",
       "\n",
       "mpl.figure.prototype._init_canvas = function() {\n",
       "    var fig = this;\n",
       "\n",
       "    var canvas_div = $('<div/>');\n",
       "\n",
       "    canvas_div.attr('style', 'position: relative; clear: both; outline: 0');\n",
       "\n",
       "    function canvas_keyboard_event(event) {\n",
       "        return fig.key_event(event, event['data']);\n",
       "    }\n",
       "\n",
       "    canvas_div.keydown('key_press', canvas_keyboard_event);\n",
       "    canvas_div.keyup('key_release', canvas_keyboard_event);\n",
       "    this.canvas_div = canvas_div\n",
       "    this._canvas_extra_style(canvas_div)\n",
       "    this.root.append(canvas_div);\n",
       "\n",
       "    var canvas = $('<canvas/>');\n",
       "    canvas.addClass('mpl-canvas');\n",
       "    canvas.attr('style', \"left: 0; top: 0; z-index: 0; outline: 0\")\n",
       "\n",
       "    this.canvas = canvas[0];\n",
       "    this.context = canvas[0].getContext(\"2d\");\n",
       "\n",
       "    var backingStore = this.context.backingStorePixelRatio ||\n",
       "\tthis.context.webkitBackingStorePixelRatio ||\n",
       "\tthis.context.mozBackingStorePixelRatio ||\n",
       "\tthis.context.msBackingStorePixelRatio ||\n",
       "\tthis.context.oBackingStorePixelRatio ||\n",
       "\tthis.context.backingStorePixelRatio || 1;\n",
       "\n",
       "    mpl.ratio = (window.devicePixelRatio || 1) / backingStore;\n",
       "\n",
       "    var rubberband = $('<canvas/>');\n",
       "    rubberband.attr('style', \"position: absolute; left: 0; top: 0; z-index: 1;\")\n",
       "\n",
       "    var pass_mouse_events = true;\n",
       "\n",
       "    canvas_div.resizable({\n",
       "        start: function(event, ui) {\n",
       "            pass_mouse_events = false;\n",
       "        },\n",
       "        resize: function(event, ui) {\n",
       "            fig.request_resize(ui.size.width, ui.size.height);\n",
       "        },\n",
       "        stop: function(event, ui) {\n",
       "            pass_mouse_events = true;\n",
       "            fig.request_resize(ui.size.width, ui.size.height);\n",
       "        },\n",
       "    });\n",
       "\n",
       "    function mouse_event_fn(event) {\n",
       "        if (pass_mouse_events)\n",
       "            return fig.mouse_event(event, event['data']);\n",
       "    }\n",
       "\n",
       "    rubberband.mousedown('button_press', mouse_event_fn);\n",
       "    rubberband.mouseup('button_release', mouse_event_fn);\n",
       "    // Throttle sequential mouse events to 1 every 20ms.\n",
       "    rubberband.mousemove('motion_notify', mouse_event_fn);\n",
       "\n",
       "    rubberband.mouseenter('figure_enter', mouse_event_fn);\n",
       "    rubberband.mouseleave('figure_leave', mouse_event_fn);\n",
       "\n",
       "    canvas_div.on(\"wheel\", function (event) {\n",
       "        event = event.originalEvent;\n",
       "        event['data'] = 'scroll'\n",
       "        if (event.deltaY < 0) {\n",
       "            event.step = 1;\n",
       "        } else {\n",
       "            event.step = -1;\n",
       "        }\n",
       "        mouse_event_fn(event);\n",
       "    });\n",
       "\n",
       "    canvas_div.append(canvas);\n",
       "    canvas_div.append(rubberband);\n",
       "\n",
       "    this.rubberband = rubberband;\n",
       "    this.rubberband_canvas = rubberband[0];\n",
       "    this.rubberband_context = rubberband[0].getContext(\"2d\");\n",
       "    this.rubberband_context.strokeStyle = \"#000000\";\n",
       "\n",
       "    this._resize_canvas = function(width, height) {\n",
       "        // Keep the size of the canvas, canvas container, and rubber band\n",
       "        // canvas in synch.\n",
       "        canvas_div.css('width', width)\n",
       "        canvas_div.css('height', height)\n",
       "\n",
       "        canvas.attr('width', width * mpl.ratio);\n",
       "        canvas.attr('height', height * mpl.ratio);\n",
       "        canvas.attr('style', 'width: ' + width + 'px; height: ' + height + 'px;');\n",
       "\n",
       "        rubberband.attr('width', width);\n",
       "        rubberband.attr('height', height);\n",
       "    }\n",
       "\n",
       "    // Set the figure to an initial 600x600px, this will subsequently be updated\n",
       "    // upon first draw.\n",
       "    this._resize_canvas(600, 600);\n",
       "\n",
       "    // Disable right mouse context menu.\n",
       "    $(this.rubberband_canvas).bind(\"contextmenu\",function(e){\n",
       "        return false;\n",
       "    });\n",
       "\n",
       "    function set_focus () {\n",
       "        canvas.focus();\n",
       "        canvas_div.focus();\n",
       "    }\n",
       "\n",
       "    window.setTimeout(set_focus, 100);\n",
       "}\n",
       "\n",
       "mpl.figure.prototype._init_toolbar = function() {\n",
       "    var fig = this;\n",
       "\n",
       "    var nav_element = $('<div/>')\n",
       "    nav_element.attr('style', 'width: 100%');\n",
       "    this.root.append(nav_element);\n",
       "\n",
       "    // Define a callback function for later on.\n",
       "    function toolbar_event(event) {\n",
       "        return fig.toolbar_button_onclick(event['data']);\n",
       "    }\n",
       "    function toolbar_mouse_event(event) {\n",
       "        return fig.toolbar_button_onmouseover(event['data']);\n",
       "    }\n",
       "\n",
       "    for(var toolbar_ind in mpl.toolbar_items) {\n",
       "        var name = mpl.toolbar_items[toolbar_ind][0];\n",
       "        var tooltip = mpl.toolbar_items[toolbar_ind][1];\n",
       "        var image = mpl.toolbar_items[toolbar_ind][2];\n",
       "        var method_name = mpl.toolbar_items[toolbar_ind][3];\n",
       "\n",
       "        if (!name) {\n",
       "            // put a spacer in here.\n",
       "            continue;\n",
       "        }\n",
       "        var button = $('<button/>');\n",
       "        button.addClass('ui-button ui-widget ui-state-default ui-corner-all ' +\n",
       "                        'ui-button-icon-only');\n",
       "        button.attr('role', 'button');\n",
       "        button.attr('aria-disabled', 'false');\n",
       "        button.click(method_name, toolbar_event);\n",
       "        button.mouseover(tooltip, toolbar_mouse_event);\n",
       "\n",
       "        var icon_img = $('<span/>');\n",
       "        icon_img.addClass('ui-button-icon-primary ui-icon');\n",
       "        icon_img.addClass(image);\n",
       "        icon_img.addClass('ui-corner-all');\n",
       "\n",
       "        var tooltip_span = $('<span/>');\n",
       "        tooltip_span.addClass('ui-button-text');\n",
       "        tooltip_span.html(tooltip);\n",
       "\n",
       "        button.append(icon_img);\n",
       "        button.append(tooltip_span);\n",
       "\n",
       "        nav_element.append(button);\n",
       "    }\n",
       "\n",
       "    var fmt_picker_span = $('<span/>');\n",
       "\n",
       "    var fmt_picker = $('<select/>');\n",
       "    fmt_picker.addClass('mpl-toolbar-option ui-widget ui-widget-content');\n",
       "    fmt_picker_span.append(fmt_picker);\n",
       "    nav_element.append(fmt_picker_span);\n",
       "    this.format_dropdown = fmt_picker[0];\n",
       "\n",
       "    for (var ind in mpl.extensions) {\n",
       "        var fmt = mpl.extensions[ind];\n",
       "        var option = $(\n",
       "            '<option/>', {selected: fmt === mpl.default_extension}).html(fmt);\n",
       "        fmt_picker.append(option)\n",
       "    }\n",
       "\n",
       "    // Add hover states to the ui-buttons\n",
       "    $( \".ui-button\" ).hover(\n",
       "        function() { $(this).addClass(\"ui-state-hover\");},\n",
       "        function() { $(this).removeClass(\"ui-state-hover\");}\n",
       "    );\n",
       "\n",
       "    var status_bar = $('<span class=\"mpl-message\"/>');\n",
       "    nav_element.append(status_bar);\n",
       "    this.message = status_bar[0];\n",
       "}\n",
       "\n",
       "mpl.figure.prototype.request_resize = function(x_pixels, y_pixels) {\n",
       "    // Request matplotlib to resize the figure. Matplotlib will then trigger a resize in the client,\n",
       "    // which will in turn request a refresh of the image.\n",
       "    this.send_message('resize', {'width': x_pixels, 'height': y_pixels});\n",
       "}\n",
       "\n",
       "mpl.figure.prototype.send_message = function(type, properties) {\n",
       "    properties['type'] = type;\n",
       "    properties['figure_id'] = this.id;\n",
       "    this.ws.send(JSON.stringify(properties));\n",
       "}\n",
       "\n",
       "mpl.figure.prototype.send_draw_message = function() {\n",
       "    if (!this.waiting) {\n",
       "        this.waiting = true;\n",
       "        this.ws.send(JSON.stringify({type: \"draw\", figure_id: this.id}));\n",
       "    }\n",
       "}\n",
       "\n",
       "\n",
       "mpl.figure.prototype.handle_save = function(fig, msg) {\n",
       "    var format_dropdown = fig.format_dropdown;\n",
       "    var format = format_dropdown.options[format_dropdown.selectedIndex].value;\n",
       "    fig.ondownload(fig, format);\n",
       "}\n",
       "\n",
       "\n",
       "mpl.figure.prototype.handle_resize = function(fig, msg) {\n",
       "    var size = msg['size'];\n",
       "    if (size[0] != fig.canvas.width || size[1] != fig.canvas.height) {\n",
       "        fig._resize_canvas(size[0], size[1]);\n",
       "        fig.send_message(\"refresh\", {});\n",
       "    };\n",
       "}\n",
       "\n",
       "mpl.figure.prototype.handle_rubberband = function(fig, msg) {\n",
       "    var x0 = msg['x0'] / mpl.ratio;\n",
       "    var y0 = (fig.canvas.height - msg['y0']) / mpl.ratio;\n",
       "    var x1 = msg['x1'] / mpl.ratio;\n",
       "    var y1 = (fig.canvas.height - msg['y1']) / mpl.ratio;\n",
       "    x0 = Math.floor(x0) + 0.5;\n",
       "    y0 = Math.floor(y0) + 0.5;\n",
       "    x1 = Math.floor(x1) + 0.5;\n",
       "    y1 = Math.floor(y1) + 0.5;\n",
       "    var min_x = Math.min(x0, x1);\n",
       "    var min_y = Math.min(y0, y1);\n",
       "    var width = Math.abs(x1 - x0);\n",
       "    var height = Math.abs(y1 - y0);\n",
       "\n",
       "    fig.rubberband_context.clearRect(\n",
       "        0, 0, fig.canvas.width, fig.canvas.height);\n",
       "\n",
       "    fig.rubberband_context.strokeRect(min_x, min_y, width, height);\n",
       "}\n",
       "\n",
       "mpl.figure.prototype.handle_figure_label = function(fig, msg) {\n",
       "    // Updates the figure title.\n",
       "    fig.header.textContent = msg['label'];\n",
       "}\n",
       "\n",
       "mpl.figure.prototype.handle_cursor = function(fig, msg) {\n",
       "    var cursor = msg['cursor'];\n",
       "    switch(cursor)\n",
       "    {\n",
       "    case 0:\n",
       "        cursor = 'pointer';\n",
       "        break;\n",
       "    case 1:\n",
       "        cursor = 'default';\n",
       "        break;\n",
       "    case 2:\n",
       "        cursor = 'crosshair';\n",
       "        break;\n",
       "    case 3:\n",
       "        cursor = 'move';\n",
       "        break;\n",
       "    }\n",
       "    fig.rubberband_canvas.style.cursor = cursor;\n",
       "}\n",
       "\n",
       "mpl.figure.prototype.handle_message = function(fig, msg) {\n",
       "    fig.message.textContent = msg['message'];\n",
       "}\n",
       "\n",
       "mpl.figure.prototype.handle_draw = function(fig, msg) {\n",
       "    // Request the server to send over a new figure.\n",
       "    fig.send_draw_message();\n",
       "}\n",
       "\n",
       "mpl.figure.prototype.handle_image_mode = function(fig, msg) {\n",
       "    fig.image_mode = msg['mode'];\n",
       "}\n",
       "\n",
       "mpl.figure.prototype.updated_canvas_event = function() {\n",
       "    // Called whenever the canvas gets updated.\n",
       "    this.send_message(\"ack\", {});\n",
       "}\n",
       "\n",
       "// A function to construct a web socket function for onmessage handling.\n",
       "// Called in the figure constructor.\n",
       "mpl.figure.prototype._make_on_message_function = function(fig) {\n",
       "    return function socket_on_message(evt) {\n",
       "        if (evt.data instanceof Blob) {\n",
       "            /* FIXME: We get \"Resource interpreted as Image but\n",
       "             * transferred with MIME type text/plain:\" errors on\n",
       "             * Chrome.  But how to set the MIME type?  It doesn't seem\n",
       "             * to be part of the websocket stream */\n",
       "            evt.data.type = \"image/png\";\n",
       "\n",
       "            /* Free the memory for the previous frames */\n",
       "            if (fig.imageObj.src) {\n",
       "                (window.URL || window.webkitURL).revokeObjectURL(\n",
       "                    fig.imageObj.src);\n",
       "            }\n",
       "\n",
       "            fig.imageObj.src = (window.URL || window.webkitURL).createObjectURL(\n",
       "                evt.data);\n",
       "            fig.updated_canvas_event();\n",
       "            fig.waiting = false;\n",
       "            return;\n",
       "        }\n",
       "        else if (typeof evt.data === 'string' && evt.data.slice(0, 21) == \"data:image/png;base64\") {\n",
       "            fig.imageObj.src = evt.data;\n",
       "            fig.updated_canvas_event();\n",
       "            fig.waiting = false;\n",
       "            return;\n",
       "        }\n",
       "\n",
       "        var msg = JSON.parse(evt.data);\n",
       "        var msg_type = msg['type'];\n",
       "\n",
       "        // Call the  \"handle_{type}\" callback, which takes\n",
       "        // the figure and JSON message as its only arguments.\n",
       "        try {\n",
       "            var callback = fig[\"handle_\" + msg_type];\n",
       "        } catch (e) {\n",
       "            console.log(\"No handler for the '\" + msg_type + \"' message type: \", msg);\n",
       "            return;\n",
       "        }\n",
       "\n",
       "        if (callback) {\n",
       "            try {\n",
       "                // console.log(\"Handling '\" + msg_type + \"' message: \", msg);\n",
       "                callback(fig, msg);\n",
       "            } catch (e) {\n",
       "                console.log(\"Exception inside the 'handler_\" + msg_type + \"' callback:\", e, e.stack, msg);\n",
       "            }\n",
       "        }\n",
       "    };\n",
       "}\n",
       "\n",
       "// from http://stackoverflow.com/questions/1114465/getting-mouse-location-in-canvas\n",
       "mpl.findpos = function(e) {\n",
       "    //this section is from http://www.quirksmode.org/js/events_properties.html\n",
       "    var targ;\n",
       "    if (!e)\n",
       "        e = window.event;\n",
       "    if (e.target)\n",
       "        targ = e.target;\n",
       "    else if (e.srcElement)\n",
       "        targ = e.srcElement;\n",
       "    if (targ.nodeType == 3) // defeat Safari bug\n",
       "        targ = targ.parentNode;\n",
       "\n",
       "    // jQuery normalizes the pageX and pageY\n",
       "    // pageX,Y are the mouse positions relative to the document\n",
       "    // offset() returns the position of the element relative to the document\n",
       "    var x = e.pageX - $(targ).offset().left;\n",
       "    var y = e.pageY - $(targ).offset().top;\n",
       "\n",
       "    return {\"x\": x, \"y\": y};\n",
       "};\n",
       "\n",
       "/*\n",
       " * return a copy of an object with only non-object keys\n",
       " * we need this to avoid circular references\n",
       " * http://stackoverflow.com/a/24161582/3208463\n",
       " */\n",
       "function simpleKeys (original) {\n",
       "  return Object.keys(original).reduce(function (obj, key) {\n",
       "    if (typeof original[key] !== 'object')\n",
       "        obj[key] = original[key]\n",
       "    return obj;\n",
       "  }, {});\n",
       "}\n",
       "\n",
       "mpl.figure.prototype.mouse_event = function(event, name) {\n",
       "    var canvas_pos = mpl.findpos(event)\n",
       "\n",
       "    if (name === 'button_press')\n",
       "    {\n",
       "        this.canvas.focus();\n",
       "        this.canvas_div.focus();\n",
       "    }\n",
       "\n",
       "    var x = canvas_pos.x * mpl.ratio;\n",
       "    var y = canvas_pos.y * mpl.ratio;\n",
       "\n",
       "    this.send_message(name, {x: x, y: y, button: event.button,\n",
       "                             step: event.step,\n",
       "                             guiEvent: simpleKeys(event)});\n",
       "\n",
       "    /* This prevents the web browser from automatically changing to\n",
       "     * the text insertion cursor when the button is pressed.  We want\n",
       "     * to control all of the cursor setting manually through the\n",
       "     * 'cursor' event from matplotlib */\n",
       "    event.preventDefault();\n",
       "    return false;\n",
       "}\n",
       "\n",
       "mpl.figure.prototype._key_event_extra = function(event, name) {\n",
       "    // Handle any extra behaviour associated with a key event\n",
       "}\n",
       "\n",
       "mpl.figure.prototype.key_event = function(event, name) {\n",
       "\n",
       "    // Prevent repeat events\n",
       "    if (name == 'key_press')\n",
       "    {\n",
       "        if (event.which === this._key)\n",
       "            return;\n",
       "        else\n",
       "            this._key = event.which;\n",
       "    }\n",
       "    if (name == 'key_release')\n",
       "        this._key = null;\n",
       "\n",
       "    var value = '';\n",
       "    if (event.ctrlKey && event.which != 17)\n",
       "        value += \"ctrl+\";\n",
       "    if (event.altKey && event.which != 18)\n",
       "        value += \"alt+\";\n",
       "    if (event.shiftKey && event.which != 16)\n",
       "        value += \"shift+\";\n",
       "\n",
       "    value += 'k';\n",
       "    value += event.which.toString();\n",
       "\n",
       "    this._key_event_extra(event, name);\n",
       "\n",
       "    this.send_message(name, {key: value,\n",
       "                             guiEvent: simpleKeys(event)});\n",
       "    return false;\n",
       "}\n",
       "\n",
       "mpl.figure.prototype.toolbar_button_onclick = function(name) {\n",
       "    if (name == 'download') {\n",
       "        this.handle_save(this, null);\n",
       "    } else {\n",
       "        this.send_message(\"toolbar_button\", {name: name});\n",
       "    }\n",
       "};\n",
       "\n",
       "mpl.figure.prototype.toolbar_button_onmouseover = function(tooltip) {\n",
       "    this.message.textContent = tooltip;\n",
       "};\n",
       "mpl.toolbar_items = [[\"Home\", \"Reset original view\", \"fa fa-home icon-home\", \"home\"], [\"Back\", \"Back to  previous view\", \"fa fa-arrow-left icon-arrow-left\", \"back\"], [\"Forward\", \"Forward to next view\", \"fa fa-arrow-right icon-arrow-right\", \"forward\"], [\"\", \"\", \"\", \"\"], [\"Pan\", \"Pan axes with left mouse, zoom with right\", \"fa fa-arrows icon-move\", \"pan\"], [\"Zoom\", \"Zoom to rectangle\", \"fa fa-square-o icon-check-empty\", \"zoom\"], [\"\", \"\", \"\", \"\"], [\"Download\", \"Download plot\", \"fa fa-floppy-o icon-save\", \"download\"]];\n",
       "\n",
       "mpl.extensions = [\"eps\", \"jpeg\", \"pdf\", \"png\", \"ps\", \"raw\", \"svg\", \"tif\"];\n",
       "\n",
       "mpl.default_extension = \"png\";var comm_websocket_adapter = function(comm) {\n",
       "    // Create a \"websocket\"-like object which calls the given IPython comm\n",
       "    // object with the appropriate methods. Currently this is a non binary\n",
       "    // socket, so there is still some room for performance tuning.\n",
       "    var ws = {};\n",
       "\n",
       "    ws.close = function() {\n",
       "        comm.close()\n",
       "    };\n",
       "    ws.send = function(m) {\n",
       "        //console.log('sending', m);\n",
       "        comm.send(m);\n",
       "    };\n",
       "    // Register the callback with on_msg.\n",
       "    comm.on_msg(function(msg) {\n",
       "        //console.log('receiving', msg['content']['data'], msg);\n",
       "        // Pass the mpl event to the overridden (by mpl) onmessage function.\n",
       "        ws.onmessage(msg['content']['data'])\n",
       "    });\n",
       "    return ws;\n",
       "}\n",
       "\n",
       "mpl.mpl_figure_comm = function(comm, msg) {\n",
       "    // This is the function which gets called when the mpl process\n",
       "    // starts-up an IPython Comm through the \"matplotlib\" channel.\n",
       "\n",
       "    var id = msg.content.data.id;\n",
       "    // Get hold of the div created by the display call when the Comm\n",
       "    // socket was opened in Python.\n",
       "    var element = $(\"#\" + id);\n",
       "    var ws_proxy = comm_websocket_adapter(comm)\n",
       "\n",
       "    function ondownload(figure, format) {\n",
       "        window.open(figure.imageObj.src);\n",
       "    }\n",
       "\n",
       "    var fig = new mpl.figure(id, ws_proxy,\n",
       "                           ondownload,\n",
       "                           element.get(0));\n",
       "\n",
       "    // Call onopen now - mpl needs it, as it is assuming we've passed it a real\n",
       "    // web socket which is closed, not our websocket->open comm proxy.\n",
       "    ws_proxy.onopen();\n",
       "\n",
       "    fig.parent_element = element.get(0);\n",
       "    fig.cell_info = mpl.find_output_cell(\"<div id='\" + id + \"'></div>\");\n",
       "    if (!fig.cell_info) {\n",
       "        console.error(\"Failed to find cell for figure\", id, fig);\n",
       "        return;\n",
       "    }\n",
       "\n",
       "    var output_index = fig.cell_info[2]\n",
       "    var cell = fig.cell_info[0];\n",
       "\n",
       "};\n",
       "\n",
       "mpl.figure.prototype.handle_close = function(fig, msg) {\n",
       "    var width = fig.canvas.width/mpl.ratio\n",
       "    fig.root.unbind('remove')\n",
       "\n",
       "    // Update the output cell to use the data from the current canvas.\n",
       "    fig.push_to_output();\n",
       "    var dataURL = fig.canvas.toDataURL();\n",
       "    // Re-enable the keyboard manager in IPython - without this line, in FF,\n",
       "    // the notebook keyboard shortcuts fail.\n",
       "    IPython.keyboard_manager.enable()\n",
       "    $(fig.parent_element).html('<img src=\"' + dataURL + '\" width=\"' + width + '\">');\n",
       "    fig.close_ws(fig, msg);\n",
       "}\n",
       "\n",
       "mpl.figure.prototype.close_ws = function(fig, msg){\n",
       "    fig.send_message('closing', msg);\n",
       "    // fig.ws.close()\n",
       "}\n",
       "\n",
       "mpl.figure.prototype.push_to_output = function(remove_interactive) {\n",
       "    // Turn the data on the canvas into data in the output cell.\n",
       "    var width = this.canvas.width/mpl.ratio\n",
       "    var dataURL = this.canvas.toDataURL();\n",
       "    this.cell_info[1]['text/html'] = '<img src=\"' + dataURL + '\" width=\"' + width + '\">';\n",
       "}\n",
       "\n",
       "mpl.figure.prototype.updated_canvas_event = function() {\n",
       "    // Tell IPython that the notebook contents must change.\n",
       "    IPython.notebook.set_dirty(true);\n",
       "    this.send_message(\"ack\", {});\n",
       "    var fig = this;\n",
       "    // Wait a second, then push the new image to the DOM so\n",
       "    // that it is saved nicely (might be nice to debounce this).\n",
       "    setTimeout(function () { fig.push_to_output() }, 1000);\n",
       "}\n",
       "\n",
       "mpl.figure.prototype._init_toolbar = function() {\n",
       "    var fig = this;\n",
       "\n",
       "    var nav_element = $('<div/>')\n",
       "    nav_element.attr('style', 'width: 100%');\n",
       "    this.root.append(nav_element);\n",
       "\n",
       "    // Define a callback function for later on.\n",
       "    function toolbar_event(event) {\n",
       "        return fig.toolbar_button_onclick(event['data']);\n",
       "    }\n",
       "    function toolbar_mouse_event(event) {\n",
       "        return fig.toolbar_button_onmouseover(event['data']);\n",
       "    }\n",
       "\n",
       "    for(var toolbar_ind in mpl.toolbar_items){\n",
       "        var name = mpl.toolbar_items[toolbar_ind][0];\n",
       "        var tooltip = mpl.toolbar_items[toolbar_ind][1];\n",
       "        var image = mpl.toolbar_items[toolbar_ind][2];\n",
       "        var method_name = mpl.toolbar_items[toolbar_ind][3];\n",
       "\n",
       "        if (!name) { continue; };\n",
       "\n",
       "        var button = $('<button class=\"btn btn-default\" href=\"#\" title=\"' + name + '\"><i class=\"fa ' + image + ' fa-lg\"></i></button>');\n",
       "        button.click(method_name, toolbar_event);\n",
       "        button.mouseover(tooltip, toolbar_mouse_event);\n",
       "        nav_element.append(button);\n",
       "    }\n",
       "\n",
       "    // Add the status bar.\n",
       "    var status_bar = $('<span class=\"mpl-message\" style=\"text-align:right; float: right;\"/>');\n",
       "    nav_element.append(status_bar);\n",
       "    this.message = status_bar[0];\n",
       "\n",
       "    // Add the close button to the window.\n",
       "    var buttongrp = $('<div class=\"btn-group inline pull-right\"></div>');\n",
       "    var button = $('<button class=\"btn btn-mini btn-primary\" href=\"#\" title=\"Stop Interaction\"><i class=\"fa fa-power-off icon-remove icon-large\"></i></button>');\n",
       "    button.click(function (evt) { fig.handle_close(fig, {}); } );\n",
       "    button.mouseover('Stop Interaction', toolbar_mouse_event);\n",
       "    buttongrp.append(button);\n",
       "    var titlebar = this.root.find($('.ui-dialog-titlebar'));\n",
       "    titlebar.prepend(buttongrp);\n",
       "}\n",
       "\n",
       "mpl.figure.prototype._root_extra_style = function(el){\n",
       "    var fig = this\n",
       "    el.on(\"remove\", function(){\n",
       "\tfig.close_ws(fig, {});\n",
       "    });\n",
       "}\n",
       "\n",
       "mpl.figure.prototype._canvas_extra_style = function(el){\n",
       "    // this is important to make the div 'focusable\n",
       "    el.attr('tabindex', 0)\n",
       "    // reach out to IPython and tell the keyboard manager to turn it's self\n",
       "    // off when our div gets focus\n",
       "\n",
       "    // location in version 3\n",
       "    if (IPython.notebook.keyboard_manager) {\n",
       "        IPython.notebook.keyboard_manager.register_events(el);\n",
       "    }\n",
       "    else {\n",
       "        // location in version 2\n",
       "        IPython.keyboard_manager.register_events(el);\n",
       "    }\n",
       "\n",
       "}\n",
       "\n",
       "mpl.figure.prototype._key_event_extra = function(event, name) {\n",
       "    var manager = IPython.notebook.keyboard_manager;\n",
       "    if (!manager)\n",
       "        manager = IPython.keyboard_manager;\n",
       "\n",
       "    // Check for shift+enter\n",
       "    if (event.shiftKey && event.which == 13) {\n",
       "        this.canvas_div.blur();\n",
       "        event.shiftKey = false;\n",
       "        // Send a \"J\" for go to next cell\n",
       "        event.which = 74;\n",
       "        event.keyCode = 74;\n",
       "        manager.command_mode();\n",
       "        manager.handle_keydown(event);\n",
       "    }\n",
       "}\n",
       "\n",
       "mpl.figure.prototype.handle_save = function(fig, msg) {\n",
       "    fig.ondownload(fig, null);\n",
       "}\n",
       "\n",
       "\n",
       "mpl.find_output_cell = function(html_output) {\n",
       "    // Return the cell and output element which can be found *uniquely* in the notebook.\n",
       "    // Note - this is a bit hacky, but it is done because the \"notebook_saving.Notebook\"\n",
       "    // IPython event is triggered only after the cells have been serialised, which for\n",
       "    // our purposes (turning an active figure into a static one), is too late.\n",
       "    var cells = IPython.notebook.get_cells();\n",
       "    var ncells = cells.length;\n",
       "    for (var i=0; i<ncells; i++) {\n",
       "        var cell = cells[i];\n",
       "        if (cell.cell_type === 'code'){\n",
       "            for (var j=0; j<cell.output_area.outputs.length; j++) {\n",
       "                var data = cell.output_area.outputs[j];\n",
       "                if (data.data) {\n",
       "                    // IPython >= 3 moved mimebundle to data attribute of output\n",
       "                    data = data.data;\n",
       "                }\n",
       "                if (data['text/html'] == html_output) {\n",
       "                    return [cell, data, j];\n",
       "                }\n",
       "            }\n",
       "        }\n",
       "    }\n",
       "}\n",
       "\n",
       "// Register the function which deals with the matplotlib target/channel.\n",
       "// The kernel may be null if the page has been refreshed.\n",
       "if (IPython.notebook.kernel != null) {\n",
       "    IPython.notebook.kernel.comm_manager.register_target('matplotlib', mpl.mpl_figure_comm);\n",
       "}\n"
      ],
      "text/plain": [
       "<IPython.core.display.Javascript object>"
      ]
     },
     "metadata": {},
     "output_type": "display_data"
    },
    {
     "data": {
      "text/html": [
       "<img src=\"data:image/png;base64,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\" width=\"1000\">"
      ],
      "text/plain": [
       "<IPython.core.display.HTML object>"
      ]
     },
     "metadata": {},
     "output_type": "display_data"
    },
    {
     "data": {
      "application/vnd.jupyter.widget-view+json": {
       "model_id": "da05c23b2fbd4c439499a8c8b36db175",
       "version_major": 2,
       "version_minor": 0
      },
      "text/plain": [
       "interactive(children=(SelectionSlider(description='ts', index=14956, options=(1524318934512, 1524318934552, 15…"
      ]
     },
     "metadata": {},
     "output_type": "display_data"
    }
   ],
   "source": [
    "timestamps_list = sorted(list(timestamps))\n",
    "kickoff_time_ind = np.argmin(np.abs(np.subtract(timestamps_list, kickoff_time)))\n",
    "kickoff_time_matched = timestamps_list[kickoff_time_ind]\n",
    "print(kickoff_time, kickoff_time_matched)\n",
    "\n",
    "%matplotlib notebook\n",
    "\n",
    "fig = plt.figure(figsize=(10,6))\n",
    "ax = fig.add_subplot(1, 1, 1)\n",
    "left, = plt.plot([], '*r')\n",
    "right, = plt.plot([], '*r')\n",
    "\n",
    "left_b, = plt.plot([], 'ob')\n",
    "right_b, = plt.plot([], 'ob')\n",
    "\n",
    "plt.xlim([0, 105])\n",
    "plt.ylim([0, 68])\n",
    "\n",
    "def update(ts=kickoff_time_matched):\n",
    "    if ts in detections['players']['left']:\n",
    "        left.set_ydata(detections['players']['left'][ts][:, 1])\n",
    "        left.set_xdata(detections['players']['left'][ts][:, 0])\n",
    "    else:\n",
    "        left.set_ydata([])\n",
    "        left.set_xdata([])\n",
    "        \n",
    "    if ts in detections['players']['right']:\n",
    "        right.set_ydata(detections['players']['right'][ts][:, 1])\n",
    "        right.set_xdata(detections['players']['right'][ts][:, 0])\n",
    "    else:\n",
    "        right.set_ydata([])\n",
    "        right.set_xdata([])\n",
    "\n",
    "    if ts in detections['ball']['left'] and len(detections['ball']['left'][ts]):\n",
    "        left_b.set_ydata(detections['ball']['left'][ts][:, 1])\n",
    "        left_b.set_xdata(detections['ball']['left'][ts][:, 0])\n",
    "    else:\n",
    "        left_b.set_ydata([])\n",
    "        left_b.set_xdata([])        \n",
    "    if ts in detections['ball']['right'] and len(detections['ball']['right'][ts]):\n",
    "        right_b.set_ydata(detections['ball']['right'][ts][:, 1])\n",
    "        right_b.set_xdata(detections['ball']['right'][ts][:, 0])\n",
    "    else:\n",
    "        right_b.set_ydata([])\n",
    "        right_b.set_xdata([])\n",
    "    \n",
    "    \n",
    "wid = widgets.SelectionSlider(\n",
    "    options=timestamps_list,\n",
    "    value=kickoff_time_matched,\n",
    "    continuous_update=True,\n",
    "    orientation='horizontal',\n",
    "    readout=True\n",
    ")\n",
    "    \n",
    "interact(update, ts = wid);"
   ]
  },
  {
   "cell_type": "code",
   "execution_count": null,
   "metadata": {},
   "outputs": [],
   "source": [
    "# {'id': 'd1a98e08-0f21-46fe-8457-01ff183ddbeb', 'calibration': {'views': ['left', 'right'], 'reference_landmarks': {'object': 'calibrations/tele2_landmarks.json', 'bucket': 'signality.ironfist.models'}}, 'replay_urls': ['//liveplay.signality.com/data/d1a98e08-0f21-46fe-8457-01ff183ddbeb_phase1.data', '//liveplay.signality.com/data/d1a98e08-0f21-46fe-8457-01ff183ddbeb_phase2.data'], 'camera_mode': 'static', 'away_team': {'colors': {'team': '#000000', 'goalkeeper': '#ffff00'}, 'logo_url': 'http://images.signality.com/team-logos/orebro.png', 'name': 'Örebro SK'}, 'phase_events': [{'type': 'start_phase', 'ts': datetime.datetime(2018, 5, 17, 17, 0, 2, 362000, tzinfo=<rethinkdb.ast.RqlTzinfo object at 0x7f4d1c61e4e0>), 'kickoff_team_id': 12, 'phase': 1}, {'type': 'end_phase', 'ts': datetime.datetime(2018, 5, 17, 17, 47, 7, 92000, tzinfo=<rethinkdb.ast.RqlTzinfo object at 0x7f4d1c61e518>), 'phase': 1}, {'type': 'start_phase', 'ts': datetime.datetime(2018, 5, 17, 18, 4, 2, 891000, tzinfo=<rethinkdb.ast.RqlTzinfo object at 0x7f4d1c61e630>), 'kickoff_team_id': 11, 'phase': 2}, {'type': 'end_phase', 'ts': datetime.datetime(2018, 5, 17, 18, 52, 6, 565000, tzinfo=<rethinkdb.ast.RqlTzinfo object at 0x7f4d1c61e6a0>), 'phase': 2}], 'start_time': datetime.datetime(2018, 5, 17, 19, 0, tzinfo=<rethinkdb.ast.RqlTzinfo object at 0x7f4d1c61e780>), 'state': 'Destroyed', 'external_data': {'smc': {'match_id': 3704, 'home_team_id': 11, 'league_id': 12, 'away_team_id': 12}}, 'streams': {'left': {'url': 'https://d35u71x3nb8v2y.cloudfront.net/f75295bb-c143-4472-a151-d849f9916e75/ca074983-09a2-451f-8730-90efa6701dc8/playlist.m3u8', 'utc': datetime.datetime(2018, 5, 17, 16, 45, 41, 197000, tzinfo=<rethinkdb.ast.RqlTzinfo object at 0x7f4d1c61e9e8>)}, 'autofollow_render_segments': {'url': 'https://d35u71x3nb8v2y.cloudfront.net/f75295bb-c143-4472-a151-d849f9916e75/d890161e-59fa-4f39-9758-b9d5b10357af/playlist.m3u8', 'utc': datetime.datetime(2018, 5, 17, 16, 45, 41, 197000, tzinfo=<rethinkdb.ast.RqlTzinfo object at 0x7f4d1c61e9b0>)}, 'virtual_panorama_segments': {'url': 'https://d35u71x3nb8v2y.cloudfront.net/f75295bb-c143-4472-a151-d849f9916e75/b5e093f3-f8e7-4643-a87a-d9a76256a735/playlist.m3u8', 'utc': datetime.datetime(2018, 5, 17, 16, 45, 41, 197000, tzinfo=<rethinkdb.ast.RqlTzinfo object at 0x7f4d1c61ec88>)}, 'goal_south_segments': {'url': 'https://d35u71x3nb8v2y.cloudfront.net/f75295bb-c143-4472-a151-d849f9916e75/c841f705-de34-4428-b56e-7c9803ab4eca/playlist.m3u8', 'utc': datetime.datetime(2018, 5, 17, 16, 45, 41, 143000, tzinfo=<rethinkdb.ast.RqlTzinfo object at 0x7f4d1c61eac8>)}, 'right': {'url': 'https://d35u71x3nb8v2y.cloudfront.net/f75295bb-c143-4472-a151-d849f9916e75/d8112841-7cf8-48ae-89ce-f327c282916c/playlist.m3u8', 'utc': datetime.datetime(2018, 5, 17, 16, 45, 41, 124000, tzinfo=<rethinkdb.ast.RqlTzinfo object at 0x7f4d1c61ea20>)}, 'goal_north_segments': {'url': 'https://d35u71x3nb8v2y.cloudfront.net/f75295bb-c143-4472-a151-d849f9916e75/9a7b8e83-dbc0-436b-a116-7f8d085057c2/playlist.m3u8', 'utc': datetime.datetime(2018, 5, 17, 16, 45, 41, 141000, tzinfo=<rethinkdb.ast.RqlTzinfo object at 0x7f4d1c61ea58>)}}, 'pitch_size': [105, 68], 'home_team': {'colors': {'team': '#5a9dde', 'goalkeeper': '#ffffff'}, 'logo_url': 'http://images.signality.com/team-logos/djurgarden.png', 'name': 'Djurgårdens IF'}, 'referees': {'colors': '#000000'}, 'competition': 'Allsvenskan', 'redis': {'host': 'redis', 'port': 6379}, 'rethinkdb': {'host': 'db.signality.com', 'user': 'game_viewer', 'db': 'livetrack', 'ssl': {'ca_certs': '/home/ubuntu/workspace/ironfist/ironfist/utils/../applications/livetrack/config/db.signality.cert.pem'}, 'password': 'MmPHrqmXaVeu', 'port': 28015}, 'nchan': {'url': 'http://nchan:8080'}, 'arena': 'Tele2 Arena', 'stats': [{'home_team': {'failed_passes': 163, 'possessing_team': 0, 'passes': 181, 'distance': 62777.64480394193, 'possession': 25067, 'packing': 260}, 'source': 'signality', 'phase': 1, 'away_team': {'failed_passes': 163, 'possessing_team': 1, 'passes': 191, 'distance': 60097.76136929008, 'possession': 23934, 'packing': 252}, 'utc_time': 1526579225125, 'match_time': 2822763}, {'home_team': {'failed_passes': 157, 'possessing_team': 0, 'passes': 147, 'distance': 62576.815733754884, 'possession': 20009, 'packing': 196}, 'source': 'signality', 'phase': 2, 'away_team': {'failed_passes': 158, 'possessing_team': 1, 'passes': 206, 'distance': 57684.92804763888, 'possession': 28384, 'packing': 240}, 'utc_time': 1526583124565, 'match_time': 2881674}], 'video_shape': [2160, 3840, 3], 'rdb': [{'key': '20180517.djurgårdens-if-örebro-sk.2.rdb', 'bucket': 'signality.soccer.backup', 'phase': 2}]}"
   ]
  },
  {
   "cell_type": "code",
   "execution_count": 11,
   "metadata": {},
   "outputs": [],
   "source": [
    "def select_time(time_list,detections):\n",
    "    l=list()\n",
    "    truth_list=list()\n",
    "    for i in range(len(time_list)):\n",
    "        truth_list.append(True)\n",
    "        if time_list[i] in detections['players']['left'] and time_list[i] in detections['players']['right']:\n",
    "            l.append([time_list[i],time_list[i]])\n",
    "            truth_list[i]=False\n",
    "        if i>0:\n",
    "            if time_list[i-1] in detections['players']['left'] and time_list[i] in detections['players']['right'] and truth_list[i] and truth_list[i-1] and time_list[i]-time_list[i-1]<=20:\n",
    "                l.append([time_list[i-1],time_list[i]])\n",
    "                truth_list[i]=False\n",
    "            if time_list[i] in detections['players']['left'] and time_list[i-1] in detections['players']['right'] and truth_list[i] and truth_list[i-1] and time_list[i]-time_list[i-1]<=20:\n",
    "                l.append([time_list[i],time_list[i-1]])\n",
    "                truth_list[i]=False\n",
    "    return l\n",
    "\n",
    "#l=select_time(timestamps_list,detections)"
   ]
  },
  {
   "cell_type": "code",
   "execution_count": 12,
   "metadata": {},
   "outputs": [],
   "source": [
    "def players_grid(pitch_size,players):\n",
    "    compteur=0\n",
    "    grid=[0 for i in range(32)]\n",
    "    length=pitch_size[0]\n",
    "    width=pitch_size[1]\n",
    "    length_edge=length/8\n",
    "    width_edge=width/4\n",
    "    for i in range(len(players)):\n",
    "        k=0\n",
    "        j=0\n",
    "        if players[i][0]<=length and players[i][1]<=width and players[i][0]>=0 and players[i][1]>=0 :\n",
    "            compteur+=1\n",
    "            while players[i][0]>(k+1)*length_edge:\n",
    "                k+=1\n",
    "            while players[i][1]>(j+1)*width_edge:\n",
    "                j+=1\n",
    "            grid[8*j+k]+=1\n",
    "    if compteur>0:\n",
    "        new_grid=[float(grid[i])/float(compteur) for i in range(32)]\n",
    "    else:\n",
    "        new_grid=grid\n",
    "    return new_grid\n",
    "\n",
    "def ball_grid(pitch_size,ball):\n",
    "    grid=[0 for i in range(35)]\n",
    "    length=pitch_size[0]\n",
    "    width=pitch_size[1]\n",
    "    length_edge=length/7\n",
    "    width_edge=width/5\n",
    "    for i in range(len(ball)):\n",
    "        k=0\n",
    "        j=0\n",
    "        if ball[i][0]<=length and ball[i][1]<=width and ball[i][0]>=0 and ball[i][1]>=0:\n",
    "            while ball[i][0]>(k+1)*length_edge:\n",
    "                k+=1\n",
    "            while ball[i][1]>(j+1)*width_edge:\n",
    "                j+=1\n",
    "            grid[7*j+k]+=1\n",
    "    return grid"
   ]
  },
  {
   "cell_type": "code",
   "execution_count": 13,
   "metadata": {},
   "outputs": [],
   "source": [
    "def pitch_composition_t(time,detections,pitch_size):\n",
    "    compo=list()\n",
    "    if isinstance(detections['ball']['left'][time[0]],list):\n",
    "        compo=compo+ball_grid(pitch_size,detections['ball']['left'][time[0]])\n",
    "    if isinstance(detections['ball']['left'][time[0]],np.ndarray):\n",
    "        compo=compo+ball_grid(pitch_size,detections['ball']['left'][time[0]].tolist())\n",
    "        \n",
    "    if isinstance(detections['ball']['right'][time[1]],list):\n",
    "        compo=compo+ball_grid(pitch_size,detections['ball']['right'][time[1]])\n",
    "    if isinstance(detections['ball']['right'][time[1]],np.ndarray):\n",
    "        compo=compo+ball_grid(pitch_size,detections['ball']['right'][time[1]].tolist())\n",
    "    \n",
    "    if isinstance(detections['players']['left'][time[0]],list):\n",
    "        compo=compo+players_grid(pitch_size,detections['players']['left'][time[0]])\n",
    "    if isinstance(detections['players']['left'][time[0]],np.ndarray):\n",
    "        compo=compo+players_grid(pitch_size,detections['players']['left'][time[0]].tolist())\n",
    "        \n",
    "    if isinstance(detections['players']['right'][time[1]],list):\n",
    "        compo=compo+players_grid(pitch_size,detections['players']['right'][time[1]])\n",
    "    if isinstance(detections['players']['right'][time[1]],np.ndarray):\n",
    "        compo=compo+players_grid(pitch_size,detections['players']['right'][time[1]].tolist())\n",
    "    return compo\n",
    "    \n",
    "def pitch_composition(time_list,detections,pitch_size):\n",
    "    l=select_time(time_list,detections)\n",
    "    seq=list()\n",
    "    for i in range(len(l)):\n",
    "        seq.append(pitch_composition_t(l[i],detections,pitch_size))\n",
    "    return seq\n"
   ]
  },
  {
   "cell_type": "code",
   "execution_count": 14,
   "metadata": {},
   "outputs": [],
   "source": [
    "def flip_player_pitch(pitch_grid):\n",
    "    new_pitch_grid=[0 for i in range(32)]\n",
    "    for j in range(4):\n",
    "        for i in range(8):\n",
    "            new_pitch_grid[8*j+i]=pitch_grid[8*j+7-i]\n",
    "    return new_pitch_grid\n",
    "\n",
    "def flip_ball_pitch(pitch_grid):\n",
    "    new_pitch_grid=[0 for i in range(35)]\n",
    "    for j in range(5):\n",
    "        for i in range(7):\n",
    "            new_pitch_grid[7*j+i]=pitch_grid[7*j+6-i]\n",
    "    return new_pitch_grid"
   ]
  },
  {
   "cell_type": "code",
   "execution_count": 15,
   "metadata": {},
   "outputs": [],
   "source": [
    "def flip_inputs(X):\n",
    "    new_X=list()\n",
    "    n=len(X)\n",
    "    m=int(n/134)\n",
    "    for i in range(m):\n",
    "        new_X=new_X+flip_ball_pitch(X[35+i*134:70+i*134])\n",
    "        new_X=new_X+flip_ball_pitch(X[i*134:35+i*134])\n",
    "        new_X=new_X+flip_player_pitch(X[i*134+102:(i+1)*134])\n",
    "        new_X=new_X+flip_player_pitch(X[i*134+70:i*134+102])\n",
    "    return new_X\n",
    "\n",
    "def flip_sequences(X):\n",
    "    new_X=list()\n",
    "    for j in range(len(X)):\n",
    "        new_X.append(flip_inputs(X[j]))\n",
    "    return new_X"
   ]
  },
  {
   "cell_type": "code",
   "execution_count": 17,
   "metadata": {},
   "outputs": [
    {
     "ename": "NameError",
     "evalue": "name 'sequence_composition' is not defined",
     "output_type": "error",
     "traceback": [
      "\u001b[0;31m---------------------------------------------------------------------------\u001b[0m",
      "\u001b[0;31mNameError\u001b[0m                                 Traceback (most recent call last)",
      "\u001b[0;32m<ipython-input-17-7dfc2e922fec>\u001b[0m in \u001b[0;36m<module>\u001b[0;34m()\u001b[0m\n\u001b[0;32m----> 1\u001b[0;31m \u001b[0mX\u001b[0m\u001b[0;34m=\u001b[0m\u001b[0msequence_composition\u001b[0m\u001b[0;34m(\u001b[0m\u001b[0mtimestamps_list\u001b[0m\u001b[0;34m,\u001b[0m\u001b[0mdetections\u001b[0m\u001b[0;34m,\u001b[0m\u001b[0mpitch_size\u001b[0m\u001b[0;34m,\u001b[0m\u001b[0;36m1\u001b[0m\u001b[0;34m,\u001b[0m\u001b[0;36m1\u001b[0m\u001b[0;34m)\u001b[0m\u001b[0;34m\u001b[0m\u001b[0m\n\u001b[0m\u001b[1;32m      2\u001b[0m \u001b[0mX\u001b[0m\u001b[0;34m[\u001b[0m\u001b[0;36m1100\u001b[0m\u001b[0;34m]\u001b[0m\u001b[0;34m[\u001b[0m\u001b[0;36m86\u001b[0m\u001b[0;34m:\u001b[0m\u001b[0;36m94\u001b[0m\u001b[0;34m]\u001b[0m\u001b[0;34m\u001b[0m\u001b[0m\n",
      "\u001b[0;31mNameError\u001b[0m: name 'sequence_composition' is not defined"
     ]
    }
   ],
   "source": [
    "X=sequence_composition(timestamps_list,detections,pitch_size,1,1)\n",
    "X[1100][86:94]"
   ]
  },
  {
   "cell_type": "code",
   "execution_count": 18,
   "metadata": {},
   "outputs": [
    {
     "ename": "NameError",
     "evalue": "name 'X' is not defined",
     "output_type": "error",
     "traceback": [
      "\u001b[0;31m---------------------------------------------------------------------------\u001b[0m",
      "\u001b[0;31mNameError\u001b[0m                                 Traceback (most recent call last)",
      "\u001b[0;32m<ipython-input-18-b668f8aec5ce>\u001b[0m in \u001b[0;36m<module>\u001b[0;34m()\u001b[0m\n\u001b[0;32m----> 1\u001b[0;31m \u001b[0mflip_sequences\u001b[0m\u001b[0;34m(\u001b[0m\u001b[0mX\u001b[0m\u001b[0;34m)\u001b[0m\u001b[0;34m[\u001b[0m\u001b[0;36m1100\u001b[0m\u001b[0;34m]\u001b[0m\u001b[0;34m[\u001b[0m\u001b[0;36m118\u001b[0m\u001b[0;34m:\u001b[0m\u001b[0;36m126\u001b[0m\u001b[0;34m]\u001b[0m\u001b[0;34m\u001b[0m\u001b[0m\n\u001b[0m",
      "\u001b[0;31mNameError\u001b[0m: name 'X' is not defined"
     ]
    }
   ],
   "source": [
    "flip_sequences(X)[1100][118:126]"
   ]
  },
  {
   "cell_type": "code",
   "execution_count": 17,
   "metadata": {},
   "outputs": [],
   "source": [
    "def movement_sequences(inputs,outputs,regression_output=[]):\n",
    "    inputs=np.array(inputs)\n",
    "    new_inputs=list()\n",
    "    new_outputs=list()\n",
    "    new_regression_output=list()\n",
    "    for i in range(len(outputs)-2):\n",
    "        new_inputs.append(inputs[i+1].tolist()+(inputs[i+2]-inputs[i]).tolist()+(inputs[i+1]-inputs[i]).tolist())\n",
    "        new_outputs.append(outputs[i+1])\n",
    "        if len(regression_output)>0:\n",
    "            new_regression_output.append(regression_output[i+1])\n",
    "    if len(regression_output)>0:\n",
    "        return new_inputs,new_outputs,new_regression_output\n",
    "    return new_inputs,new_outputs\n",
    "\n",
    "def sequence_composition(time_list,detections,pitch_size,size_sequence,diminish_size):\n",
    "    sequences=list()\n",
    "    pitch_compo=pitch_composition(time_list,detections,pitch_size)\n",
    "    for i in range(0,len(pitch_compo)-size_sequence+1,diminish_size):\n",
    "        seq_t=list()\n",
    "        for j in range(0,size_sequence,diminish_size):\n",
    "            seq_t=seq_t+pitch_compo[i+j]\n",
    "        sequences.append(seq_t)\n",
    "    return sequences\n",
    "\n"
   ]
  },
  {
   "cell_type": "code",
   "execution_count": 18,
   "metadata": {},
   "outputs": [],
   "source": [
    "def labels_seq_regression(time_list,detections,pitch_size,diminish_size,kickoff_time):\n",
    "    l=select_time(time_list,detections)\n",
    "    y=list()\n",
    "    for i in range(0,len(l)-diminish_size+1):\n",
    "        if l[i][0]<=kickoff_time and kickoff_time<=l[i+diminish_size][0]:\n",
    "            y.append(1)\n",
    "        else:\n",
    "            y.append(0)\n",
    "    return y\n",
    "\n",
    "def labels_regression(time_list,detections,pitch_size,size_sequence,diminish_size,kickoff_time):\n",
    "    label_seq=labels_seq_regression(time_list,detections,pitch_size,diminish_size,kickoff_time)\n",
    "    sequences=list()\n",
    "    for i in range(0,len(label_seq)-size_sequence+1,diminish_size):\n",
    "        seq_t=list()\n",
    "        for j in range(0,size_sequence,diminish_size):\n",
    "            seq_t.append(label_seq[i+j])\n",
    "        sequences.append(seq_t)\n",
    "    return sequences\n",
    "\n",
    "def select_kickoff_sequences(time_list,detections,pitch_size,size_sequence,diminish_size,kickoff_time):\n",
    "    X=sequence_composition(time_list,detections,pitch_size,size_sequence,diminish_size)\n",
    "    Y=labels(time_list,detections,pitch_size,size_sequence,diminish_size,kickoff_time)\n",
    "    y=labels_regression(time_list,detections,pitch_size,size_sequence,diminish_size,kickoff_time)\n",
    "    #X,Y,y=movement_sequences(X,Y,y)\n",
    "    new_X=list()\n",
    "    new_y=list()\n",
    "    print(Y.count(1))\n",
    "    if Y.count(1)>0:\n",
    "        print(len(y),len(X))\n",
    "        print(Y.index(1))\n",
    "        print(Y.count(1))\n",
    "        new_y=y[Y.index(1):Y.index(1)+Y.count(1)]\n",
    "        new_X=X[Y.index(1):Y.index(1)+Y.count(1)]\n",
    "    return new_X,new_y\n",
    "    \n",
    "def detect_kickofftime(outputs):\n",
    "    new_outputs=list()\n",
    "    for i in range(len(outputs)):\n",
    "        new_outputs.append(len(outputs[i])-1-outputs[i].index(1))\n",
    "    return new_outputs\n",
    "\n",
    "#X=sequence_composition(timestamps_list,detections,pitch_size,100,1)\n",
    "#Y=labels(timestamps_list,detections,pitch_size,100,1,kickoff_time_matched)\n",
    "#y=labels_regression(timestamps_list,detections,pitch_size,100,1,kickoff_time_matched)\n",
    "#y=detect_kickofftime(y)\n",
    "#X,y=select_kickoff_sequences(timestamps_list,detections,pitch_size,100,1,kickoff_time_matched)\n",
    "#print(y)"
   ]
  },
  {
   "cell_type": "code",
   "execution_count": 19,
   "metadata": {},
   "outputs": [
    {
     "ename": "NameError",
     "evalue": "name 'y' is not defined",
     "output_type": "error",
     "traceback": [
      "\u001b[0;31m---------------------------------------------------------------------------\u001b[0m",
      "\u001b[0;31mNameError\u001b[0m                                 Traceback (most recent call last)",
      "\u001b[0;32m<ipython-input-19-511fd3fe7fc4>\u001b[0m in \u001b[0;36m<module>\u001b[0;34m()\u001b[0m\n\u001b[0;32m----> 1\u001b[0;31m \u001b[0my\u001b[0m\u001b[0;34m=\u001b[0m\u001b[0mdetect_kickofftime\u001b[0m\u001b[0;34m(\u001b[0m\u001b[0my\u001b[0m\u001b[0;34m)\u001b[0m\u001b[0;34m\u001b[0m\u001b[0m\n\u001b[0m\u001b[1;32m      2\u001b[0m \u001b[0mprint\u001b[0m\u001b[0;34m(\u001b[0m\u001b[0my\u001b[0m\u001b[0;34m)\u001b[0m\u001b[0;34m\u001b[0m\u001b[0m\n",
      "\u001b[0;31mNameError\u001b[0m: name 'y' is not defined"
     ]
    }
   ],
   "source": [
    "y=detect_kickofftime(y)\n",
    "print(y)"
   ]
  },
  {
   "cell_type": "code",
   "execution_count": null,
   "metadata": {},
   "outputs": [],
   "source": [
    "len(y[0])"
   ]
  },
  {
   "cell_type": "code",
   "execution_count": 20,
   "metadata": {},
   "outputs": [],
   "source": [
    "def labels(time_list,detections,pitch_size,size_sequence,diminish_size,kickoff_time):\n",
    "    l=select_time(time_list,detections)\n",
    "    y=list()\n",
    "    for i in range(0,len(l)-size_sequence+1,diminish_size):\n",
    "        if max(l[i][0],l[i][1])+1000<=kickoff_time and kickoff_time+1500<=min(l[i+size_sequence-1][0],l[i+size_sequence-1][1]):\n",
    "            y.append(1)\n",
    "        else:\n",
    "            y.append(-1)\n",
    "    return y\n",
    "\n",
    "def reduce_size(X,Y,reduc_size):\n",
    "    compteur=0\n",
    "    new_X=list()\n",
    "    new_Y=list()\n",
    "    for i in range(len(X)):\n",
    "        if Y[i]==1:\n",
    "            new_Y.append(1)\n",
    "            new_X.append(X[i])\n",
    "            compteur=0\n",
    "        if Y[i]==-1:\n",
    "            compteur+=1\n",
    "        if compteur>=reduc_size:\n",
    "            compteur=0\n",
    "            new_Y.append(Y[i])\n",
    "            new_X.append(X[i])\n",
    "    return new_X,new_Y\n",
    "#X=sequence_composition(timestamps_list,detections,pitch_size,500,25)\n",
    "#Y=labels(timestamps_list,detections,pitch_size,500,25,kickoff_time_matched)\n",
    "#print(Y.count(1))\n",
    "#X,Y=movement_sequences(X,Y)\n",
    "#X,Y=reduce_size(X,Y,10)\n",
    "#Y.index(1)\n"
   ]
  },
  {
   "cell_type": "code",
   "execution_count": 21,
   "metadata": {},
   "outputs": [],
   "source": [
    "import pickle\n",
    "import glob"
   ]
  },
  {
   "cell_type": "code",
   "execution_count": 22,
   "metadata": {},
   "outputs": [],
   "source": [
    "import datetime \n",
    "\n",
    "wrong_kickofftimes=dict()\n",
    "wrong_kickofftimes['../kickoff-data-corrected/2739587b-312a-4d40-ba1a-9b5e3ebf5c9c.2']=1527429926306\n",
    "wrong_kickofftimes['../kickoff-data-corrected/0d9e9e30-9d13-4af0-8e41-fe1669e9eeff.1']=1523192430151\n",
    "wrong_kickofftimes['../kickoff-data-corrected/b0cbf7ed-a9ce-4434-9e4d-072065ee61bc.2']=0\n",
    "wrong_kickofftimes['../kickoff-data-corrected/58bc418b-cf05-415e-9dd1-6f4808535976.2']=0\n",
    "wrong_kickofftimes['../kickoff-data-corrected/314f4989-398c-45a3-a74f-9f1adac71bf1.2']=0\n",
    "wrong_kickofftimes['../kickoff-data-corrected/19bebd81-3b61-492b-85ed-74ff887cbc45.1']=0\n",
    "wrong_kickofftimes['../kickoff-data-corrected/41c3f1b3-a868-459b-9766-760be49947b2.1']=0\n",
    "wrong_kickofftimes['../kickoff-data-corrected/a5857e03-10b8-454a-89fb-c201985b04cb.1']=0\n",
    "wrong_kickofftimes['../kickoff-data-corrected/2b8bcfd6-5f57-46de-aacd-e932ac8e1697.1']=0\n",
    "wrong_kickofftimes['../kickoff-data-corrected/3382a9d0-02ff-4f23-9748-1b715d85b731.1']=0\n",
    "wrong_kickofftimes['../kickoff-data-corrected/cbcca433-ff77-4927-a5a3-36ff293c12fd.1']=0\n",
    "wrong_kickofftimes['../kickoff-data-corrected/3382a9d0-02ff-4f23-9748-1b715d85b731.2']=0\n",
    "\n",
    "#Kickoff dataset 1\n",
    "wrong_kickofftimes['../kickoff-data-corrected/f9f01fbf-6871-4303-b43f-29c2dd16909d.1']=1522674004376\n",
    "wrong_kickofftimes['../kickoff-data-corrected/6e26f66b-a921-4919-9d7d-1bd59f935e78.2']=1523642663619\n",
    "wrong_kickofftimes['../kickoff-data-corrected/27bea627-3caa-47ee-93c3-67f0e26f3034.2']=1523800915381\n",
    "wrong_kickofftimes['../kickoff-data-corrected/050a1fae-5d48-4048-8f66-a3f12eca843d.1']=1526225401862\n",
    "wrong_kickofftimes['../kickoff-data-corrected/57bf9b24-5c68-464f-9e74-20d0b2508bba.2']=1524074585473\n",
    "wrong_kickofftimes['../kickoff-data-corrected/4be6ef54-2541-42d0-a334-e513a535029c.1']=1523714421598\n",
    "wrong_kickofftimes['../kickoff-data-corrected/57bf9b24-5c68-464f-9e74-20d0b2508bba.1']=1524070829775\n",
    "wrong_kickofftimes['../kickoff-data-corrected/2b8bcfd6-5f57-46de-aacd-e932ac8e1697.2']=1523205262301\n",
    "wrong_kickofftimes['../kickoff-data-corrected/b4dbea7c-c72f-4dd6-b57c-8fb7b8b38eb5.1']=1524070811969\n",
    "wrong_kickofftimes['../kickoff-data-corrected/314f4989-398c-45a3-a74f-9f1adac71bf1.1']=1522587657284\n",
    "wrong_kickofftimes['../kickoff-data-corrected/03d0ac1b-8adb-457d-9519-b6c879a92df3.2']=1526825556446\n",
    "wrong_kickofftimes['../kickoff-data-corrected/cbcca433-ff77-4927-a5a3-36ff293c12fd.2']=1523297060408\n",
    "wrong_kickofftimes['../kickoff-data-corrected/a185c6c8-7383-4d19-927f-dc8f70726c34.1']=1523898097097\n",
    "wrong_kickofftimes['../kickoff-data-corrected/a5857e03-10b8-454a-89fb-c201985b04cb.2']=1523383385406\n",
    "wrong_kickofftimes['../kickoff-data-corrected/2dc12819-d486-4925-a0e2-b8ae9ff1aed5.1']=1523192632775\n",
    "wrong_kickofftimes['../kickoff-data-corrected/84e8b33c-d912-495e-9e21-84bdd18e0e04.1']=1523638801059\n",
    "wrong_kickofftimes['../kickoff-data-corrected/9e627901-09e2-4c84-bf77-6f0ec289fa5f.2']=1522686812893\n",
    "wrong_kickofftimes['../kickoff-data-corrected/0d9e9e30-9d13-4af0-8e41-fe1669e9eeff.2']=1523196155117\n",
    "wrong_kickofftimes['../kickoff-data-corrected/19bebd81-3b61-492b-85ed-74ff887cbc45.2']=1522591530455\n",
    "wrong_kickofftimes['../kickoff-data-corrected/cd6d495b-8fe4-4586-8861-ba579cf3a6e9.2']=1523801069565\n",
    "wrong_kickofftimes['../kickoff-data-corrected/2739587b-312a-4d40-ba1a-9b5e3ebf5c9c.1']=1527426007786\n",
    "wrong_kickofftimes['../kickoff-data-corrected/b4dbea7c-c72f-4dd6-b57c-8fb7b8b38eb5.2']=1524074540169\n",
    "wrong_kickofftimes['../kickoff-data-corrected/76d4b783-ae63-4c60-815f-6a81beef6451.1']=1523109744428\n",
    "wrong_kickofftimes['../kickoff-data-corrected/4be6ef54-2541-42d0-a334-e513a535029c.2']=1523718158518\n",
    "wrong_kickofftimes['../kickoff-data-corrected/27bea627-3caa-47ee-93c3-67f0e26f3034.1']=1523797259341\n",
    "wrong_kickofftimes['../kickoff-data-corrected/a185c6c8-7383-4d19-927f-dc8f70726c34.2']=1523901771643\n",
    "wrong_kickofftimes['../kickoff-data-corrected/9e627901-09e2-4c84-bf77-6f0ec289fa5f.1']=1522683146973\n",
    "wrong_kickofftimes['../kickoff-data-corrected/84e8b33c-d912-495e-9e21-84bdd18e0e04.2']=1523642441739\n",
    "wrong_kickofftimes['../kickoff-data-corrected/2dc12819-d486-4925-a0e2-b8ae9ff1aed5.2']=1523196316815\n",
    "wrong_kickofftimes['../kickoff-data-corrected/76d4b783-ae63-4c60-815f-6a81beef6451.2']=1523113379828\n",
    "wrong_kickofftimes['../kickoff-data-corrected/f9f01fbf-6871-4303-b43f-29c2dd16909d.2']=1522677722696\n",
    "wrong_kickofftimes['../kickoff-data-corrected/bff5f37c-be85-4f08-b6d4-a01e6c22fe0e.1']=1523984448769\n",
    "\n",
    "#Kickoff dataset2\n",
    "wrong_kickofftimes['../kickoff-data-corrected/050a1fae-5d48-4048-8f66-a3f12eca843d.2']=1526229123932\n",
    "wrong_kickofftimes['../kickoff-data-corrected/23fb8811-638e-4be8-a01d-76cad0f5a5bf.1']=1526133604221\n",
    "wrong_kickofftimes['../kickoff-data-corrected/23fb8811-638e-4be8-a01d-76cad0f5a5bf.2']=1526137284821\n",
    "wrong_kickofftimes['../kickoff-data-corrected/24978380-482e-4ba4-a124-5142d43f8c91.1']=1527181201496\n",
    "wrong_kickofftimes['../kickoff-data-corrected/24978380-482e-4ba4-a124-5142d43f8c91.2']=1527184865776\n",
    "wrong_kickofftimes['../kickoff-data-corrected/3c7f617c-c839-4e5a-9e80-52017fa85d93.1']=1525006817173\n",
    "wrong_kickofftimes['../kickoff-data-corrected/3c7f617c-c839-4e5a-9e80-52017fa85d93.2']=1525010524413\n",
    "wrong_kickofftimes['../kickoff-data-corrected/3d29af74-d98c-415b-a1dc-6b034671d831.1']=0\n",
    "wrong_kickofftimes['../kickoff-data-corrected/3d29af74-d98c-415b-a1dc-6b034671d831.2']=0\n",
    "wrong_kickofftimes['../kickoff-data-corrected/4176c56a-b0df-4e64-aaeb-09150829ba15.1']=1526738424152\n",
    "wrong_kickofftimes['../kickoff-data-corrected/4176c56a-b0df-4e64-aaeb-09150829ba15.2']=1526742292912\n",
    "wrong_kickofftimes['../kickoff-data-corrected/41c3f1b3-a868-459b-9766-760be49947b2.2']=1526320888841\n",
    "wrong_kickofftimes['../kickoff-data-corrected/4501652f-d7e6-4e3e-9ad2-e01198278688.1']=1526216401726\n",
    "wrong_kickofftimes['../kickoff-data-corrected/4501652f-d7e6-4e3e-9ad2-e01198278688.2']=1526220162006\n",
    "wrong_kickofftimes['../kickoff-data-corrected/456910d1-b523-4ff2-b60c-fcd1f016b96d.1']=0\n",
    "wrong_kickofftimes['../kickoff-data-corrected/456910d1-b523-4ff2-b60c-fcd1f016b96d.2']=0\n",
    "wrong_kickofftimes['../kickoff-data-corrected/47ed3e3a-56d1-4eb1-b5d3-9e5f9658fda7.1']=0\n",
    "wrong_kickofftimes['../kickoff-data-corrected/47ed3e3a-56d1-4eb1-b5d3-9e5f9658fda7.2']=0\n",
    "wrong_kickofftimes['../kickoff-data-corrected/4903143c-68be-45f0-9746-e29547b7fa94.1']=1525528805565\n",
    "wrong_kickofftimes['../kickoff-data-corrected/4903143c-68be-45f0-9746-e29547b7fa94.2']=1525532445205\n",
    "wrong_kickofftimes['../kickoff-data-corrected/4b5dc786-7219-46eb-bc5f-722a77011092.1']=0\n",
    "wrong_kickofftimes['../kickoff-data-corrected/4b5dc786-7219-46eb-bc5f-722a77011092.2']=0\n",
    "wrong_kickofftimes['../kickoff-data-corrected/4b949eae-068b-4b0a-bc88-f5ef0a97b2ba.1']=1524319233996\n",
    "wrong_kickofftimes['../kickoff-data-corrected/4b949eae-068b-4b0a-bc88-f5ef0a97b2ba.2']=1524322943876\n",
    "wrong_kickofftimes['../kickoff-data-corrected/536b68b9-507f-408a-9a91-f994667b1d16.1']=1526830215853\n",
    "wrong_kickofftimes['../kickoff-data-corrected/536b68b9-507f-408a-9a91-f994667b1d16.2']=1526833845173\n",
    "wrong_kickofftimes['../kickoff-data-corrected/5dcb4696-281c-4bff-9ec7-02322c1b4a67.1']=1525015804870\n",
    "wrong_kickofftimes['../kickoff-data-corrected/5dcb4696-281c-4bff-9ec7-02322c1b4a67.2']=0\n",
    "wrong_kickofftimes['../kickoff-data-corrected/66b6caf7-e5c0-45dd-874f-de8ac2e3c9ff.1']=1526922010970\n",
    "wrong_kickofftimes['../kickoff-data-corrected/66b6caf7-e5c0-45dd-874f-de8ac2e3c9ff.2']=1526925714690\n",
    "wrong_kickofftimes['../kickoff-data-corrected/6e26f66b-a921-4919-9d7d-1bd59f935e78.1']=0\n",
    "wrong_kickofftimes['../kickoff-data-corrected/6e26f66b-a921-4919-9d7d-1bd59f935e78.2']=0\n",
    "wrong_kickofftimes['../kickoff-data-corrected/70593a9a-5258-4f89-a402-b555c8ee3514.1']=1525521648555\n",
    "wrong_kickofftimes['../kickoff-data-corrected/70593a9a-5258-4f89-a402-b555c8ee3514.2']=1525525430875\n",
    "wrong_kickofftimes['../kickoff-data-corrected/723fa378-2b05-42e0-9631-a05bb1ed5e70.1']=0\n",
    "wrong_kickofftimes['../kickoff-data-corrected/723fa378-2b05-42e0-9631-a05bb1ed5e70.2']=1524506478280\n",
    "wrong_kickofftimes['../kickoff-data-corrected/75366863-8063-4ece-8aca-1dcf75d22448.1']=0\n",
    "wrong_kickofftimes['../kickoff-data-corrected/75366863-8063-4ece-8aca-1dcf75d22448.2']=0\n",
    "wrong_kickofftimes['../kickoff-data-corrected/8d6fc150-9f6b-4e5c-8a99-d2ca96b5ffa5.1']=1524157247522\n",
    "wrong_kickofftimes['../kickoff-data-corrected/8d6fc150-9f6b-4e5c-8a99-d2ca96b5ffa5.2']=1524160897282\n",
    "wrong_kickofftimes['../kickoff-data-corrected/916abbb2-57b9-4700-8cc5-3fc01de1a6f8.1']=0\n",
    "wrong_kickofftimes['../kickoff-data-corrected/916abbb2-57b9-4700-8cc5-3fc01de1a6f8.2']=1526749376859\n",
    "wrong_kickofftimes['../kickoff-data-corrected/9ab7ccfb-75cb-4756-9eb5-fe8c29de8fcc.1']=0\n",
    "wrong_kickofftimes['../kickoff-data-corrected/9ab7ccfb-75cb-4756-9eb5-fe8c29de8fcc.2']=1525624327130\n",
    "wrong_kickofftimes['../kickoff-data-corrected/9acafc14-55f4-499e-90d9-4db2f121801b.1']=1526226336695\n",
    "wrong_kickofftimes['../kickoff-data-corrected/9acafc14-55f4-499e-90d9-4db2f121801b.2']=1526230179615\n",
    "wrong_kickofftimes['../kickoff-data-corrected/9d1b40c0-efb0-4eb5-9ff4-bd13a55c0820.1']=1525712399329\n",
    "wrong_kickofftimes['../kickoff-data-corrected/9d1b40c0-efb0-4eb5-9ff4-bd13a55c0820.2']=1525716236609\n",
    "wrong_kickofftimes['../kickoff-data-corrected/a01d4b8a-cffb-4778-99c6-d0a53016e129.1']=1526490130605\n",
    "wrong_kickofftimes['../kickoff-data-corrected/a01d4b8a-cffb-4778-99c6-d0a53016e129.2']=1526493873725\n",
    "wrong_kickofftimes['../kickoff-data-corrected/a5763b80-c4a7-4b45-9c78-4f1c8f72bf60.1']=1525366842629\n",
    "wrong_kickofftimes['../kickoff-data-corrected/a5763b80-c4a7-4b45-9c78-4f1c8f72bf60.2']=1525370589789\n",
    "wrong_kickofftimes['../kickoff-data-corrected/a881fc70-93e4-43d9-b0c5-036f72eaa980.1']=1527094802848\n",
    "wrong_kickofftimes['../kickoff-data-corrected/a881fc70-93e4-43d9-b0c5-036f72eaa980.2']=1527098444168\n",
    "wrong_kickofftimes['../kickoff-data-corrected/aadecf3a-0d92-4ace-b643-ced44474e157.1']=1524157203859\n",
    "wrong_kickofftimes['../kickoff-data-corrected/aadecf3a-0d92-4ace-b643-ced44474e157.2']=0\n",
    "wrong_kickofftimes['../kickoff-data-corrected/adffa69d-f1aa-4aa1-9b15-fab3aa629e4f.1']=1526216410785\n",
    "wrong_kickofftimes['../kickoff-data-corrected/adffa69d-f1aa-4aa1-9b15-fab3aa629e4f.2']=1526220251863\n",
    "wrong_kickofftimes['../kickoff-data-corrected/af42c9ca-ae8f-4d69-a671-15950883ecac.1']=1524924021412\n",
    "wrong_kickofftimes['../kickoff-data-corrected/af42c9ca-ae8f-4d69-a671-15950883ecac.2']=1524927695852\n",
    "wrong_kickofftimes['../kickoff-data-corrected/ba34fc2e-bdba-40d8-8cc8-a679c6eecd5a.1']=1522596662151\n",
    "wrong_kickofftimes['../kickoff-data-corrected/ba34fc2e-bdba-40d8-8cc8-a679c6eecd5a.2']=0\n",
    "wrong_kickofftimes['../kickoff-data-corrected/bd6faac0-e5f3-4b84-82a9-400c019ac08d.1']=1526317231615\n",
    "wrong_kickofftimes['../kickoff-data-corrected/bd6faac0-e5f3-4b84-82a9-400c019ac08d.2']=1526320942775\n",
    "wrong_kickofftimes['../kickoff-data-corrected/bff5f37c-be85-4f08-b6d4-a01e6c22fe0e.2']=1523988054313\n",
    "wrong_kickofftimes['../kickoff-data-corrected/c0b1883d-4420-48aa-9805-9318a20e56ae.1']=1527350404565\n",
    "wrong_kickofftimes['../kickoff-data-corrected/c0b1883d-4420-48aa-9805-9318a20e56ae.2']=1527354087885\n",
    "wrong_kickofftimes['../kickoff-data-corrected/c4b2214b-4e3c-4dfb-a691-a5b008b9d778.1']=0\n",
    "wrong_kickofftimes['../kickoff-data-corrected/c4b2214b-4e3c-4dfb-a691-a5b008b9d778.2']=0\n",
    "wrong_kickofftimes['../kickoff-data-corrected/c79d79f1-5f51-4595-b931-4719f91a4575.1']=1525104106885\n",
    "wrong_kickofftimes['../kickoff-data-corrected/c79d79f1-5f51-4595-b931-4719f91a4575.2']=1525107884725\n",
    "wrong_kickofftimes['../kickoff-data-corrected/cd6d495b-8fe4-4586-8861-ba579cf3a6e9.1']=0\n",
    "wrong_kickofftimes['../kickoff-data-corrected/cec6034a-7fbf-483f-8d74-3e24fd6c0bcf.1']=1524402008860\n",
    "wrong_kickofftimes['../kickoff-data-corrected/cec6034a-7fbf-483f-8d74-3e24fd6c0bcf.2']=1524405674220\n",
    "wrong_kickofftimes['../kickoff-data-corrected/cf16ebf4-49fc-4991-a9b8-b9a055dcf2b8.1']=1525007095088\n",
    "wrong_kickofftimes['../kickoff-data-corrected/cf16ebf4-49fc-4991-a9b8-b9a055dcf2b8.2']=1525010977368\n",
    "wrong_kickofftimes['../kickoff-data-corrected/d092d84a-bfe1-4638-bd6e-7f516a90553a.1']=0\n",
    "wrong_kickofftimes['../kickoff-data-corrected/d092d84a-bfe1-4638-bd6e-7f516a90553a.2']=1527346901702\n",
    "wrong_kickofftimes['../kickoff-data-corrected/d1a98e08-0f21-46fe-8457-01ff183ddbeb.1']=1526576404205\n",
    "wrong_kickofftimes['../kickoff-data-corrected/d1a98e08-0f21-46fe-8457-01ff183ddbeb.2']=1526580244725\n",
    "wrong_kickofftimes['../kickoff-data-corrected/da82a1ce-2e4c-4337-8ba8-3f2525399e31.1']=1525620656823\n",
    "wrong_kickofftimes['../kickoff-data-corrected/da82a1ce-2e4c-4337-8ba8-3f2525399e31.2']=1525624323343\n",
    "wrong_kickofftimes['../kickoff-data-corrected/e0646790-9750-47eb-85ac-a7065fbcd4dd.1']=1524410993064\n",
    "wrong_kickofftimes['../kickoff-data-corrected/e0646790-9750-47eb-85ac-a7065fbcd4dd.2']=1524414876848\n",
    "wrong_kickofftimes['../kickoff-data-corrected/e40014f3-5c63-4869-94af-75c4e0547de4.1']=1527094804764\n",
    "wrong_kickofftimes['../kickoff-data-corrected/e40014f3-5c63-4869-94af-75c4e0547de4.2']=1527098524404\n",
    "wrong_kickofftimes['../kickoff-data-corrected/e4a4d658-8d02-4336-9fa6-b0b1dfcc95ee.1']=0\n",
    "wrong_kickofftimes['../kickoff-data-corrected/e4a4d658-8d02-4336-9fa6-b0b1dfcc95ee.2']=0\n",
    "wrong_kickofftimes['../kickoff-data-corrected/e773ac8c-dd65-419c-a734-3bd077a165b6.1']=1524502806520\n",
    "wrong_kickofftimes['../kickoff-data-corrected/e773ac8c-dd65-419c-a734-3bd077a165b6.2']=1524506429680\n",
    "\n",
    "\n",
    "\n",
    "def correct_kickoff_time(name_file,right_kickoff_time,phase):\n",
    "    jsonFile = open(name_file, \"r\") # Open the JSON file for reading\n",
    "    config = json.load(jsonFile) # Read the JSON into the buffer\n",
    "    k=[i for i in range(4) if config['phase_events'][i]['type'] == 'start_phase' and config['phase_events'][i]['phase'] == int(phase)][0]\n",
    "    jsonFile.close() # Close the JSON file\n",
    "\n",
    "    ## Working with buffered content\n",
    "    tmp = config[\"phase_events\"][k][\"ts\"]\n",
    "    config[\"phase_events\"][k][\"ts\"]=datetime.datetime.fromtimestamp(right_kickoff_time/1000).isoformat()\n",
    "    print(\"Json file edited\")\n",
    "\n",
    "    ## Save our changes to JSON file\n",
    "    jsonFile = open(name_file, \"w+\")\n",
    "    jsonFile.write(json.dumps(config))\n",
    "    jsonFile.close()\n",
    "    \n",
    "def correct_json_files(name_file_rdb):\n",
    "    if name_file_rdb in wrong_kickofftimes.keys():\n",
    "        name_file_json=('..{}.json'.format(name_file_rdb.split('.')[-2]))\n",
    "        phase=name_file_rdb.split('.')[-1]\n",
    "        correct_kickoff_time(name_file_json,wrong_kickofftimes[name_file_rdb],phase)"
   ]
  },
  {
   "cell_type": "code",
   "execution_count": 23,
   "metadata": {},
   "outputs": [],
   "source": [
    "def create_dataset(file_name,reduc_size,problem=\"classification\"):\n",
    "    compteur=0\n",
    "    path_to_rdbs = '../kickoff-data-corrected/*.rdb'\n",
    "    for rdb_file in glob.glob(path_to_rdbs):\n",
    "        #Edit json file\n",
    "        game_half = rdb_file.rstrip('.kickoff.rdb')\n",
    "        phase = game_half.split('.')[-1]\n",
    "        correct_json_files(game_half)\n",
    "        \n",
    "        #Import correct data\n",
    "        tracks = parse_dump_file('{}.kickoff.rdb'.format(game_half))\n",
    "        config = json.load(open('..{}.json'.format(game_half.split('.')[-2]), 'r'))\n",
    "        print('..{}.json'.format(game_half.split('.')[-2]))\n",
    "        print(config['phase_events'])\n",
    "        kickoff_1 = [p_e['ts'] for p_e in config['phase_events'] if p_e['type'] == 'start_phase' and p_e['phase'] == int(phase)][0]\n",
    "        kickoff_time = int(parse(kickoff_1).timestamp()*1000)\n",
    "        print(kickoff_time)\n",
    "        if kickoff_time>0:\n",
    "            pitch_size=config['pitch_size']\n",
    "            detections = {'ball':{'left':{}, 'right':{}}, 'players':{'left':{}, 'right':{}}}\n",
    "            timestamps = set()\n",
    "            for (fd_left, ts_left), (fd_right, ts_right) in tqdm(zip(tracks['left'], tracks['right'])):\n",
    "                fd_left = pickle.loads(fd_left)\n",
    "                fd_right = pickle.loads(fd_right)\n",
    "                if np.abs(ts_left - ts_right) < 100:\n",
    "                    ts_left = ts_right\n",
    "                timestamps.update({ts_left, ts_right})\n",
    "                detections['players']['left'][ts_left] = fd_left.top_view_player_positions\n",
    "                detections['players']['right'][ts_right] = fd_right.top_view_player_positions\n",
    "                detections['ball']['left'][ts_left] = np.array([bp for bp, bd in zip(fd_left.top_view_ball_positions, fd_left.ball_detections) if ball_ok(bp, bd)])\n",
    "                detections['ball']['right'][ts_right] = np.array([bp for bp, bd in zip(fd_right.top_view_ball_positions, fd_right.ball_detections) if ball_ok(bp, bd)])\n",
    "            timestamps_list = sorted(list(timestamps))\n",
    "            kickoff_time_ind = np.argmin(np.abs(np.subtract(timestamps_list, kickoff_time)))\n",
    "            kickoff_time_matched = timestamps_list[kickoff_time_ind]\n",
    "        \n",
    "            #Create inputs\n",
    "        \n",
    "            #Classification\n",
    "            if problem==\"classification\":\n",
    "                X=sequence_composition(timestamps_list,detections,pitch_size,200,1)\n",
    "                Y=labels(timestamps_list,detections,pitch_size,200,1,kickoff_time_matched)\n",
    "                print(len(X[0]))\n",
    "                #X,Y=movement_sequences(X,Y)\n",
    "                print(Y.count(1))\n",
    "                X,Y=reduce_size(X,Y,reduc_size)\n",
    "                print(len(X[0]),len(Y))\n",
    "                print(Y.count(1))\n",
    "            \n",
    "                #Create file\n",
    "                add_data=True\n",
    "                if Y.count(1)>0 and compteur==0:\n",
    "                    with open(file_name, 'wb') as f:\n",
    "                        # Pickle the 'data' dictionary using the highest protocol available.\n",
    "                        pickle.dump([X,Y], f)\n",
    "                        compteur+=1\n",
    "                        add_data=False\n",
    "                    with open(file_name, 'ab') as f:\n",
    "                        # Pickle the 'data' dictionary using the highest protocol available.\n",
    "                        pickle.dump([flip_sequences(X),Y], f)\n",
    "                        compteur+=1\n",
    "                        add_data=False\n",
    "                if Y.count(1)>0 and add_data:\n",
    "                    with open(file_name, 'ab') as f:\n",
    "                        # Pickle the 'data' dictionary using the highest protocol available.\n",
    "                        pickle.dump([X,Y], f)\n",
    "                        compteur+=1\n",
    "                        print(compteur)\n",
    "                    with open(file_name, 'ab') as f:\n",
    "                        # Pickle the 'data' dictionary using the highest protocol available.\n",
    "                        pickle.dump([flip_sequences(X),Y], f)\n",
    "                        compteur+=1\n",
    "                        print(compteur)\n",
    "         \n",
    "            #Regression\n",
    "            if problem==\"regression\":\n",
    "                X,y=select_kickoff_sequences(timestamps_list,detections,pitch_size,100,1,kickoff_time_matched)\n",
    "                print(len(X),len(y))\n",
    "                y=detect_kickofftime(y)\n",
    "                print(y)\n",
    "            #Create file\n",
    "                add_data=True\n",
    "                if len(y)>0 and compteur==0:\n",
    "                    with open(file_name, 'wb') as f:\n",
    "                        # Pickle the 'data' dictionary using the highest protocol available.\n",
    "                        pickle.dump([X,y], f)\n",
    "                        compteur+=1\n",
    "                        add_data=False\n",
    "                    with open(file_name, 'ab') as f:\n",
    "                        # Pickle the 'data' dictionary using the highest protocol available.\n",
    "                        pickle.dump([flip_sequences(X),y], f)\n",
    "                        compteur+=1\n",
    "                if len(y)>0 and add_data:\n",
    "                    with open(file_name, 'ab') as f:\n",
    "                        # Pickle the 'data' dictionary using the highest protocol available.\n",
    "                        pickle.dump([X,y], f)\n",
    "                        compteur+=1\n",
    "                        print(compteur)\n",
    "                    with open(file_name, 'ab') as f:\n",
    "                        # Pickle the 'data' dictionary using the highest protocol available.\n",
    "                        pickle.dump([flip_sequences(X),y], f)\n",
    "                        compteur+=1\n",
    "#bff5f37c-be85-4f08-b6d4-a01e6c22fe0e.1.kickoff.rdb/f9f01fbf-6871-4303-b43f-29c2dd16909d.2.kickoff.rdb/b4dbea7c-c72f-4dd6-b57c-8fb7b8b38eb5.2.kickoff.rdb"
   ]
  },
  {
   "cell_type": "code",
   "execution_count": 35,
   "metadata": {},
   "outputs": [
    {
     "name": "stdout",
     "output_type": "stream",
     "text": [
      "Json file edited\n"
     ]
    },
    {
     "name": "stderr",
     "output_type": "stream",
     "text": [
      "768it [00:00, 3880.57it/s]"
     ]
    },
    {
     "name": "stdout",
     "output_type": "stream",
     "text": [
      "Parsed ../kickoff-data-corrected/24978380-482e-4ba4-a124-5142d43f8c91.2.kickoff.rdb in 2.72 s.\n",
      "Contains keys: dict_keys(['left', 'right'])\n",
      "[left] start_ts: 1527184568814 | stop_ts: 1527185164734\n",
      "[right] start_ts: 1527184564976 | stop_ts: 1527185164816\n",
      "../kickoff-data-corrected/24978380-482e-4ba4-a124-5142d43f8c91.json\n",
      "[{'type': 'start_phase', 'ts': '2018-05-24T17:00:01.496000', 'kickoff_team_id': 14, 'phase': 1}, {'type': 'end_phase', 'ts': '2018-05-24T17:45:58.124Z', 'phase': 1}, {'type': 'start_phase', 'ts': '2018-05-24T18:01:05.776000', 'kickoff_team_id': 15, 'phase': 2}, {'type': 'end_phase', 'ts': '2018-05-24T18:49:34.388Z', 'phase': 2}]\n",
      "1527184865776\n"
     ]
    },
    {
     "name": "stderr",
     "output_type": "stream",
     "text": [
      "14898it [00:05, 2837.46it/s]\n"
     ]
    },
    {
     "name": "stdout",
     "output_type": "stream",
     "text": [
      "26800\n",
      "137\n",
      "26800 194\n",
      "137\n",
      "Json file edited\n"
     ]
    },
    {
     "name": "stderr",
     "output_type": "stream",
     "text": [
      "725it [00:00, 3581.02it/s]"
     ]
    },
    {
     "name": "stdout",
     "output_type": "stream",
     "text": [
      "Parsed ../kickoff-data-corrected/e0646790-9750-47eb-85ac-a7065fbcd4dd.2.kickoff.rdb in 1.69 s.\n",
      "Contains keys: dict_keys(['left', 'right'])\n",
      "[left] start_ts: 1524414578448 | stop_ts: 1524415174608\n",
      "[right] start_ts: 1524414577904 | stop_ts: 1524415174304\n",
      "../kickoff-data-corrected/e0646790-9750-47eb-85ac-a7065fbcd4dd.json\n",
      "[{'type': 'start_phase', 'ts': '2018-04-22T15:29:53.064000', 'kickoff_team_id': 6, 'phase': 1}, {'type': 'end_phase', 'ts': '2018-04-22T16:18:51.239Z', 'phase': 1}, {'type': 'start_phase', 'ts': '2018-04-22T16:34:36.848000', 'kickoff_team_id': 10, 'phase': 2}, {'type': 'end_phase', 'ts': '2018-04-22T17:22:35.491Z', 'phase': 2}]\n",
      "1524414876848\n"
     ]
    },
    {
     "name": "stderr",
     "output_type": "stream",
     "text": [
      "14905it [00:06, 2463.78it/s]\n"
     ]
    },
    {
     "name": "stdout",
     "output_type": "stream",
     "text": [
      "26800\n",
      "136\n",
      "26800 193\n",
      "136\n",
      "3\n",
      "4\n",
      "Json file edited\n"
     ]
    },
    {
     "name": "stderr",
     "output_type": "stream",
     "text": [
      "413it [00:00, 4121.18it/s]"
     ]
    },
    {
     "name": "stdout",
     "output_type": "stream",
     "text": [
      "Parsed ../kickoff-data-corrected/bff5f37c-be85-4f08-b6d4-a01e6c22fe0e.1.kickoff.rdb in 2.16 s.\n",
      "Contains keys: dict_keys(['left', 'right'])\n",
      "[left] start_ts: 1523984148353 | stop_ts: 1523984746873\n",
      "[right] start_ts: 1523984147529 | stop_ts: 1523984746449\n",
      "../kickoff-data-corrected/bff5f37c-be85-4f08-b6d4-a01e6c22fe0e.json\n",
      "[{'type': 'start_phase', 'ts': '2018-04-17T17:00:48.769000', 'kickoff_team_id': 14, 'phase': 1}, {'type': 'end_phase', 'ts': '2018-04-17T17:45:52.314Z', 'phase': 1}, {'type': 'start_phase', 'ts': '2018-04-17T18:00:54.313000', 'kickoff_team_id': 3, 'phase': 2}, {'type': 'end_phase', 'ts': '2018-04-17T18:51:00.072Z', 'phase': 2}]\n",
      "1523984448769\n"
     ]
    },
    {
     "name": "stderr",
     "output_type": "stream",
     "text": [
      "14964it [00:07, 2014.86it/s]\n"
     ]
    },
    {
     "name": "stdout",
     "output_type": "stream",
     "text": [
      "26800\n",
      "137\n",
      "26800 195\n",
      "137\n",
      "5\n",
      "6\n",
      "Json file edited\n",
      "Parsed ../kickoff-data-corrected/41c3f1b3-a868-459b-9766-760be49947b2.1.kickoff.rdb in 2.46 s.\n",
      "Contains keys: dict_keys(['left', 'right'])\n",
      "[left] start_ts: 1526316922655 | stop_ts: 1526317521455\n",
      "[right] start_ts: 1526316922561 | stop_ts: 1526317521441\n",
      "../kickoff-data-corrected/41c3f1b3-a868-459b-9766-760be49947b2.json\n",
      "[{'type': 'start_phase', 'ts': '1970-01-01T00:00:00', 'kickoff_team_id': 9, 'phase': 1}, {'type': 'end_phase', 'ts': '2018-05-14T17:46:22.241Z', 'phase': 1}, {'type': 'start_phase', 'ts': '2018-05-14T18:01:28.841000', 'kickoff_team_id': 1, 'phase': 2}, {'type': 'end_phase', 'ts': '2018-05-14T18:49:29.553Z', 'phase': 2}]\n",
      "0\n",
      "Json file edited\n",
      "Parsed ../kickoff-data-corrected/aadecf3a-0d92-4ace-b643-ced44474e157.2.kickoff.rdb in 2.51 s.\n",
      "Contains keys: dict_keys(['left', 'right'])\n",
      "[left] start_ts: 1524160591139 | stop_ts: 1524161189179\n",
      "[right] start_ts: 1524160591665 | stop_ts: 1524161189465\n",
      "../kickoff-data-corrected/aadecf3a-0d92-4ace-b643-ced44474e157.json\n",
      "[{'type': 'start_phase', 'ts': '2018-04-19T17:00:03.859000', 'kickoff_team_id': 15, 'phase': 1}, {'type': 'end_phase', 'ts': '2018-04-19T17:46:04.420Z', 'phase': 1}, {'type': 'start_phase', 'ts': '1970-01-01T00:00:00', 'kickoff_team_id': 7, 'phase': 2}, {'type': 'end_phase', 'ts': '2018-04-19T18:49:42.844Z', 'phase': 2}]\n",
      "0\n",
      "Json file edited\n"
     ]
    },
    {
     "name": "stderr",
     "output_type": "stream",
     "text": [
      "484it [00:00, 2507.48it/s]"
     ]
    },
    {
     "name": "stdout",
     "output_type": "stream",
     "text": [
      "Parsed ../kickoff-data-corrected/24978380-482e-4ba4-a124-5142d43f8c91.1.kickoff.rdb in 2.32 s.\n",
      "Contains keys: dict_keys(['left', 'right'])\n",
      "[left] start_ts: 1527180904814 | stop_ts: 1527181500734\n",
      "[right] start_ts: 1527180900976 | stop_ts: 1527181500816\n",
      "../kickoff-data-corrected/24978380-482e-4ba4-a124-5142d43f8c91.json\n",
      "[{'type': 'start_phase', 'ts': '2018-05-24T17:00:01.496000', 'kickoff_team_id': 14, 'phase': 1}, {'type': 'end_phase', 'ts': '2018-05-24T17:45:58.124Z', 'phase': 1}, {'type': 'start_phase', 'ts': '2018-05-24T18:01:05.776000', 'kickoff_team_id': 15, 'phase': 2}, {'type': 'end_phase', 'ts': '2018-05-24T18:49:34.388Z', 'phase': 2}]\n",
      "1527181201496\n"
     ]
    },
    {
     "name": "stderr",
     "output_type": "stream",
     "text": [
      "14898it [00:07, 2050.17it/s]\n"
     ]
    },
    {
     "name": "stdout",
     "output_type": "stream",
     "text": [
      "26800\n",
      "137\n",
      "26800 194\n",
      "137\n",
      "7\n",
      "8\n",
      "Json file edited\n"
     ]
    },
    {
     "name": "stderr",
     "output_type": "stream",
     "text": [
      "445it [00:00, 2213.37it/s]"
     ]
    },
    {
     "name": "stdout",
     "output_type": "stream",
     "text": [
      "Parsed ../kickoff-data-corrected/f9f01fbf-6871-4303-b43f-29c2dd16909d.1.kickoff.rdb in 2.66 s.\n",
      "Contains keys: dict_keys(['left', 'right'])\n",
      "[left] start_ts: 1522673702294 | stop_ts: 1522674302134\n",
      "[right] start_ts: 1522673702216 | stop_ts: 1522674302096\n",
      "../kickoff-data-corrected/f9f01fbf-6871-4303-b43f-29c2dd16909d.json\n",
      "[{'type': 'start_phase', 'ts': '2018-04-02T13:00:04.376000', 'kickoff_team_id': 15, 'phase': 1}, {'type': 'end_phase', 'ts': '2018-04-02T13:47:02.983Z', 'phase': 1}, {'type': 'start_phase', 'ts': '2018-04-02T14:02:02.696000', 'kickoff_team_id': 4, 'phase': 2}, {'type': 'end_phase', 'ts': '2018-04-02T14:50:07.639Z', 'phase': 2}]\n",
      "1522674004376\n"
     ]
    },
    {
     "name": "stderr",
     "output_type": "stream",
     "text": [
      "14996it [00:07, 1898.16it/s]\n"
     ]
    },
    {
     "name": "stdout",
     "output_type": "stream",
     "text": [
      "26800\n",
      "137\n",
      "26800 195\n",
      "137\n",
      "9\n",
      "10\n",
      "Json file edited\n"
     ]
    },
    {
     "name": "stderr",
     "output_type": "stream",
     "text": [
      "217it [00:00, 1077.61it/s]"
     ]
    },
    {
     "name": "stdout",
     "output_type": "stream",
     "text": [
      "Parsed ../kickoff-data-corrected/c0b1883d-4420-48aa-9805-9318a20e56ae.1.kickoff.rdb in 4.35 s.\n",
      "Contains keys: dict_keys(['left', 'right'])\n",
      "[left] start_ts: 1527350105211 | stop_ts: 1527350703091\n",
      "[right] start_ts: 1527350105245 | stop_ts: 1527350703085\n",
      "../kickoff-data-corrected/c0b1883d-4420-48aa-9805-9318a20e56ae.json\n",
      "[{'type': 'start_phase', 'ts': '2018-05-26T16:00:04.565000', 'kickoff_team_id': 5, 'phase': 1}, {'type': 'end_phase', 'ts': '2018-05-26T16:46:00.357Z', 'phase': 1}, {'type': 'start_phase', 'ts': '2018-05-26T17:01:27.885000', 'kickoff_team_id': 13, 'phase': 2}, {'type': 'end_phase', 'ts': '2018-05-26T17:49:27.835Z', 'phase': 2}]\n",
      "1527350404565\n"
     ]
    },
    {
     "name": "stderr",
     "output_type": "stream",
     "text": [
      "14947it [00:10, 1394.26it/s]\n"
     ]
    },
    {
     "name": "stdout",
     "output_type": "stream",
     "text": [
      "26800\n",
      "137\n",
      "26800 195\n",
      "137\n",
      "11\n",
      "12\n",
      "Json file edited\n",
      "Parsed ../kickoff-data-corrected/9ab7ccfb-75cb-4756-9eb5-fe8c29de8fcc.1.kickoff.rdb in 1.84 s.\n",
      "Contains keys: dict_keys(['left', 'right'])\n",
      "[left] start_ts: 1525620373398 | stop_ts: 1525620970238\n",
      "[right] start_ts: 1525620373530 | stop_ts: 1525620970290\n",
      "../kickoff-data-corrected/9ab7ccfb-75cb-4756-9eb5-fe8c29de8fcc.json\n",
      "[{'type': 'start_phase', 'ts': '1970-01-01T00:00:00', 'kickoff_team_id': 10, 'phase': 1}, {'type': 'end_phase', 'ts': '2018-05-06T16:16:18.200Z', 'phase': 1}, {'type': 'start_phase', 'ts': '2018-05-06T16:32:07.130000', 'kickoff_team_id': 7, 'phase': 2}, {'type': 'end_phase', 'ts': '2018-05-06T17:20:08.236Z', 'phase': 2}]\n",
      "0\n",
      "Json file edited\n",
      "Parsed ../kickoff-data-corrected/6e26f66b-a921-4919-9d7d-1bd59f935e78.2.kickoff.rdb in 1.76 s.\n",
      "Contains keys: dict_keys(['left', 'right'])\n",
      "[left] start_ts: 1523642363613 | stop_ts: 1523642962133\n",
      "[right] start_ts: 1523642362979 | stop_ts: 1523642961819\n",
      "../kickoff-data-corrected/6e26f66b-a921-4919-9d7d-1bd59f935e78.json\n",
      "[{'type': 'start_phase', 'ts': '1970-01-01T00:00:00', 'kickoff_team_id': 3, 'phase': 1}, {'type': 'end_phase', 'ts': '2018-04-13T17:48:25.115Z', 'phase': 1}, {'type': 'start_phase', 'ts': '1970-01-01T00:00:00', 'kickoff_team_id': 8, 'phase': 2}, {'type': 'end_phase', 'ts': '2018-04-13T18:52:23.632Z', 'phase': 2}]\n",
      "0\n",
      "Json file edited\n"
     ]
    },
    {
     "name": "stderr",
     "output_type": "stream",
     "text": [
      "166it [00:00, 1652.50it/s]"
     ]
    },
    {
     "name": "stdout",
     "output_type": "stream",
     "text": [
      "Parsed ../kickoff-data-corrected/27bea627-3caa-47ee-93c3-67f0e26f3034.2.kickoff.rdb in 2.35 s.\n",
      "Contains keys: dict_keys(['left', 'right'])\n",
      "[left] start_ts: 1523800614341 | stop_ts: 1523801213661\n",
      "[right] start_ts: 1523800613851 | stop_ts: 1523801213411\n",
      "../kickoff-data-corrected/27bea627-3caa-47ee-93c3-67f0e26f3034.json\n",
      "[{'type': 'start_phase', 'ts': '2018-04-15T13:00:59.341000', 'kickoff_team_id': 4, 'phase': 1}, {'type': 'end_phase', 'ts': '2018-04-15T13:46:01.064Z', 'phase': 1}, {'type': 'start_phase', 'ts': '2018-04-15T14:01:55.381000', 'kickoff_team_id': 9, 'phase': 2}, {'type': 'end_phase', 'ts': '2018-04-15T14:50:42.654Z', 'phase': 2}]\n",
      "1523800915381\n"
     ]
    },
    {
     "name": "stderr",
     "output_type": "stream",
     "text": [
      "14983it [00:06, 2150.91it/s]\n"
     ]
    },
    {
     "name": "stdout",
     "output_type": "stream",
     "text": [
      "26800\n",
      "137\n",
      "26800 195\n",
      "137\n",
      "13\n",
      "14\n",
      "Json file edited\n"
     ]
    },
    {
     "name": "stderr",
     "output_type": "stream",
     "text": [
      "437it [00:00, 2190.40it/s]"
     ]
    },
    {
     "name": "stdout",
     "output_type": "stream",
     "text": [
      "Parsed ../kickoff-data-corrected/e40014f3-5c63-4869-94af-75c4e0547de4.1.kickoff.rdb in 2.82 s.\n",
      "Contains keys: dict_keys(['left', 'right'])\n",
      "[left] start_ts: 1527094503678 | stop_ts: 1527095102558\n",
      "[right] start_ts: 1527094503764 | stop_ts: 1527095102564\n",
      "../kickoff-data-corrected/e40014f3-5c63-4869-94af-75c4e0547de4.json\n",
      "[{'type': 'start_phase', 'ts': '2018-05-23T17:00:04.764000', 'kickoff_team_id': 4, 'phase': 1}, {'type': 'end_phase', 'ts': '2018-05-23T17:45:05.284Z', 'phase': 1}, {'type': 'start_phase', 'ts': '2018-05-23T18:02:04.404000', 'kickoff_team_id': 3, 'phase': 2}, {'type': 'end_phase', 'ts': '2018-05-23T18:51:09.847Z', 'phase': 2}]\n",
      "1527094804764\n"
     ]
    },
    {
     "name": "stderr",
     "output_type": "stream",
     "text": [
      "14972it [00:07, 1876.36it/s]\n"
     ]
    },
    {
     "name": "stdout",
     "output_type": "stream",
     "text": [
      "26800\n",
      "137\n",
      "26800 195\n",
      "137\n",
      "15\n",
      "16\n",
      "Json file edited\n"
     ]
    },
    {
     "name": "stderr",
     "output_type": "stream",
     "text": [
      "172it [00:00, 1715.65it/s]"
     ]
    },
    {
     "name": "stdout",
     "output_type": "stream",
     "text": [
      "Parsed ../kickoff-data-corrected/536b68b9-507f-408a-9a91-f994667b1d16.2.kickoff.rdb in 1.78 s.\n",
      "Contains keys: dict_keys(['left', 'right'])\n",
      "[left] start_ts: 1526833546311 | stop_ts: 1526834143111\n",
      "[right] start_ts: 1526833546293 | stop_ts: 1526834143133\n",
      "../kickoff-data-corrected/536b68b9-507f-408a-9a91-f994667b1d16.json\n",
      "[{'type': 'start_phase', 'ts': '2018-05-20T15:30:15.853000', 'kickoff_team_id': 8, 'phase': 1}, {'type': 'end_phase', 'ts': '2018-05-20T16:15:14.598Z', 'phase': 1}, {'type': 'start_phase', 'ts': '2018-05-20T16:30:45.173000', 'kickoff_team_id': 5, 'phase': 2}, {'type': 'end_phase', 'ts': '2018-05-20T17:19:46.634Z', 'phase': 2}]\n",
      "1526833845173\n"
     ]
    },
    {
     "name": "stderr",
     "output_type": "stream",
     "text": [
      "14921it [00:06, 2418.29it/s]\n"
     ]
    },
    {
     "name": "stdout",
     "output_type": "stream",
     "text": [
      "26800\n",
      "137\n",
      "26800 195\n",
      "137\n",
      "17\n",
      "18\n"
     ]
    },
    {
     "name": "stderr",
     "output_type": "stream",
     "text": [
      "867it [00:00, 4513.32it/s]"
     ]
    },
    {
     "name": "stdout",
     "output_type": "stream",
     "text": [
      "Parsed ../kickoff-data-corrected/b0cbf7ed-a9ce-4434-9e4d-072065ee61bc.1.kickoff.rdb in 1.67 s.\n",
      "Contains keys: dict_keys(['left', 'right'])\n",
      "[left] start_ts: 1523706904558 | stop_ts: 1523707503158\n",
      "[right] start_ts: 1523706912088 | stop_ts: 1523707510928\n",
      "../kickoff-data-corrected/b0cbf7ed-a9ce-4434-9e4d-072065ee61bc.json\n",
      "[{'type': 'start_phase', 'ts': '2018-04-14T12:00:03.074Z', 'kickoff_team_id': 1, 'phase': 1}, {'type': 'end_phase', 'ts': '2018-04-14T12:45:30.997Z', 'phase': 1}, {'type': 'start_phase', 'ts': '1970-01-01T00:00:00', 'kickoff_team_id': 7, 'phase': 2}, {'type': 'end_phase', 'ts': '2018-04-14T13:50:58.493Z', 'phase': 2}]\n",
      "1523707203074\n"
     ]
    },
    {
     "name": "stderr",
     "output_type": "stream",
     "text": [
      "14966it [00:05, 2584.59it/s]\n"
     ]
    },
    {
     "name": "stdout",
     "output_type": "stream",
     "text": [
      "26800\n",
      "136\n",
      "26800 193\n",
      "136\n",
      "19\n",
      "20\n",
      "Json file edited\n",
      "Parsed ../kickoff-data-corrected/75366863-8063-4ece-8aca-1dcf75d22448.1.kickoff.rdb in 0.84 s.\n",
      "Contains keys: dict_keys(['left', 'right'])\n",
      "[left] start_ts: 1527181308818 | stop_ts: 1527181905738\n",
      "[right] start_ts: 1527181308926 | stop_ts: 1527181905806\n",
      "../kickoff-data-corrected/75366863-8063-4ece-8aca-1dcf75d22448.json\n",
      "[{'type': 'start_phase', 'ts': '1970-01-01T00:00:00', 'kickoff_team_id': 6, 'phase': 1}, {'type': 'end_phase', 'ts': '2018-05-24T17:52:47.009Z', 'phase': 1}, {'type': 'start_phase', 'ts': '1970-01-01T00:00:00', 'kickoff_team_id': 11, 'phase': 2}, {'type': 'end_phase', 'ts': '2018-05-24T19:02:55.588Z', 'phase': 2}]\n",
      "0\n",
      "Json file edited\n",
      "Parsed ../kickoff-data-corrected/456910d1-b523-4ff2-b60c-fcd1f016b96d.2.kickoff.rdb in 1.63 s.\n",
      "Contains keys: dict_keys(['left', 'right'])\n",
      "[left] start_ts: 1524506251416 | stop_ts: 1524506851016\n",
      "[right] start_ts: 1524506250924 | stop_ts: 1524506850764\n",
      "../kickoff-data-corrected/456910d1-b523-4ff2-b60c-fcd1f016b96d.json\n",
      "[{'type': 'start_phase', 'ts': '1970-01-01T00:00:00', 'kickoff_team_id': 7, 'phase': 1}, {'type': 'end_phase', 'ts': '2018-04-23T17:47:08.130Z', 'phase': 1}, {'type': 'start_phase', 'ts': '1970-01-01T00:00:00', 'kickoff_team_id': 11, 'phase': 2}, {'type': 'end_phase', 'ts': '2018-04-23T18:50:33.464Z', 'phase': 2}]\n",
      "0\n",
      "Json file edited\n"
     ]
    },
    {
     "name": "stderr",
     "output_type": "stream",
     "text": [
      "531it [00:00, 2746.88it/s]"
     ]
    },
    {
     "name": "stdout",
     "output_type": "stream",
     "text": [
      "Parsed ../kickoff-data-corrected/0d9e9e30-9d13-4af0-8e41-fe1669e9eeff.1.kickoff.rdb in 2.45 s.\n",
      "Contains keys: dict_keys(['left', 'right'])\n",
      "[left] start_ts: 1523192129517 | stop_ts: 1523192728157\n",
      "[right] start_ts: 1523192129071 | stop_ts: 1523192727911\n",
      "../kickoff-data-corrected/0d9e9e30-9d13-4af0-8e41-fe1669e9eeff.json\n",
      "[{'type': 'start_phase', 'ts': '2018-04-08T13:00:30.151000', 'kickoff_team_id': 7, 'phase': 1}, {'type': 'end_phase', 'ts': '2018-04-08T13:47:27.898Z', 'phase': 1}, {'type': 'start_phase', 'ts': '2018-04-08T14:02:35.117000', 'kickoff_team_id': 9, 'phase': 2}, {'type': 'end_phase', 'ts': '2018-04-08T14:51:34.402Z', 'phase': 2}]\n",
      "1523192430151\n"
     ]
    },
    {
     "name": "stderr",
     "output_type": "stream",
     "text": [
      "14966it [00:08, 1825.33it/s]\n"
     ]
    },
    {
     "name": "stdout",
     "output_type": "stream",
     "text": [
      "26800\n",
      "136\n",
      "26800 194\n",
      "136\n",
      "21\n",
      "22\n",
      "Json file edited\n",
      "Parsed ../kickoff-data-corrected/b0cbf7ed-a9ce-4434-9e4d-072065ee61bc.2.kickoff.rdb in 1.69 s.\n",
      "Contains keys: dict_keys(['left', 'right'])\n",
      "[left] start_ts: 1523710552598 | stop_ts: 1523711150158\n",
      "[right] start_ts: 1523710560128 | stop_ts: 1523711157928\n",
      "../kickoff-data-corrected/b0cbf7ed-a9ce-4434-9e4d-072065ee61bc.json\n",
      "[{'type': 'start_phase', 'ts': '2018-04-14T12:00:03.074Z', 'kickoff_team_id': 1, 'phase': 1}, {'type': 'end_phase', 'ts': '2018-04-14T12:45:30.997Z', 'phase': 1}, {'type': 'start_phase', 'ts': '1970-01-01T00:00:00', 'kickoff_team_id': 7, 'phase': 2}, {'type': 'end_phase', 'ts': '2018-04-14T13:50:58.493Z', 'phase': 2}]\n",
      "0\n",
      "Json file edited\n"
     ]
    },
    {
     "name": "stderr",
     "output_type": "stream",
     "text": [
      "305it [00:00, 1521.02it/s]"
     ]
    },
    {
     "name": "stdout",
     "output_type": "stream",
     "text": [
      "Parsed ../kickoff-data-corrected/d1a98e08-0f21-46fe-8457-01ff183ddbeb.1.kickoff.rdb in 3.81 s.\n",
      "Contains keys: dict_keys(['left', 'right'])\n",
      "[left] start_ts: 1526576105405 | stop_ts: 1526576702165\n",
      "[right] start_ts: 1526576105219 | stop_ts: 1526576702099\n",
      "../kickoff-data-corrected/d1a98e08-0f21-46fe-8457-01ff183ddbeb.json\n",
      "[{'type': 'start_phase', 'ts': '2018-05-17T17:00:04.205000', 'kickoff_team_id': 12, 'phase': 1}, {'type': 'end_phase', 'ts': '2018-05-17T17:47:07.092Z', 'phase': 1}, {'type': 'start_phase', 'ts': '2018-05-17T18:04:04.725000', 'kickoff_team_id': 11, 'phase': 2}, {'type': 'end_phase', 'ts': '2018-05-17T18:52:06.565Z', 'phase': 2}]\n",
      "1526576404205\n"
     ]
    },
    {
     "name": "stderr",
     "output_type": "stream",
     "text": [
      "14921it [00:09, 1577.91it/s]\n"
     ]
    },
    {
     "name": "stdout",
     "output_type": "stream",
     "text": [
      "26800\n",
      "136\n",
      "26800 194\n",
      "136\n",
      "23\n",
      "24\n",
      "Json file edited\n"
     ]
    },
    {
     "name": "stderr",
     "output_type": "stream",
     "text": [
      "357it [00:00, 3566.06it/s]"
     ]
    },
    {
     "name": "stdout",
     "output_type": "stream",
     "text": [
      "Parsed ../kickoff-data-corrected/9acafc14-55f4-499e-90d9-4db2f121801b.2.kickoff.rdb in 2.59 s.\n",
      "Contains keys: dict_keys(['left', 'right'])\n",
      "[left] start_ts: 1526229880539 | stop_ts: 1526230477379\n",
      "[right] start_ts: 1526229880495 | stop_ts: 1526230477335\n",
      "../kickoff-data-corrected/9acafc14-55f4-499e-90d9-4db2f121801b.json\n",
      "[{'type': 'start_phase', 'ts': '2018-05-13T15:45:36.695000', 'kickoff_team_id': 12, 'phase': 1}, {'type': 'end_phase', 'ts': '2018-05-13T16:33:39.123Z', 'phase': 1}, {'type': 'start_phase', 'ts': '2018-05-13T16:49:39.615000', 'kickoff_team_id': 2, 'phase': 2}, {'type': 'end_phase', 'ts': '2018-05-13T17:39:37.349Z', 'phase': 2}]\n",
      "1526230179615\n"
     ]
    },
    {
     "name": "stderr",
     "output_type": "stream",
     "text": [
      "14922it [00:06, 2352.58it/s]\n"
     ]
    },
    {
     "name": "stdout",
     "output_type": "stream",
     "text": [
      "26800\n",
      "137\n",
      "26800 195\n",
      "137\n",
      "25\n",
      "26\n",
      "Json file edited\n",
      "Parsed ../kickoff-data-corrected/3d29af74-d98c-415b-a1dc-6b034671d831.2.kickoff.rdb in 1.62 s.\n",
      "Contains keys: dict_keys(['left', 'right'])\n",
      "[left] start_ts: 1527098333205 | stop_ts: 1527098931045\n",
      "[right] start_ts: 1527098333133 | stop_ts: 1527098931013\n",
      "../kickoff-data-corrected/3d29af74-d98c-415b-a1dc-6b034671d831.json\n",
      "[{'type': 'start_phase', 'ts': '1970-01-01T00:00:00', 'kickoff_team_id': 10, 'phase': 1}, {'type': 'end_phase', 'ts': '2018-05-23T17:48:32.142Z', 'phase': 1}, {'type': 'start_phase', 'ts': '1970-01-01T00:00:00', 'kickoff_team_id': 5, 'phase': 2}, {'type': 'end_phase', 'ts': '2018-05-23T18:54:13.202Z', 'phase': 2}]\n",
      "0\n",
      "Json file edited\n",
      "Parsed ../kickoff-data-corrected/2b8bcfd6-5f57-46de-aacd-e932ac8e1697.1.kickoff.rdb in 2.81 s.\n",
      "Contains keys: dict_keys(['left', 'right'])\n",
      "[left] start_ts: 1523201092829 | stop_ts: 1523201692349\n",
      "[right] start_ts: 1523201094061 | stop_ts: 1523201692981\n",
      "../kickoff-data-corrected/2b8bcfd6-5f57-46de-aacd-e932ac8e1697.json\n",
      "[{'type': 'start_phase', 'ts': '1970-01-01T00:00:00', 'kickoff_team_id': 13, 'phase': 1}, {'type': 'end_phase', 'ts': '2018-04-08T16:17:54.242Z', 'phase': 1}, {'type': 'start_phase', 'ts': '2018-04-08T16:34:22.301000', 'kickoff_team_id': 16, 'phase': 2}, {'type': 'end_phase', 'ts': '2018-04-08T17:23:20.816Z', 'phase': 2}]\n",
      "0\n",
      "Json file edited\n"
     ]
    },
    {
     "name": "stderr",
     "output_type": "stream",
     "text": [
      "408it [00:00, 4071.96it/s]"
     ]
    },
    {
     "name": "stdout",
     "output_type": "stream",
     "text": [
      "Parsed ../kickoff-data-corrected/da82a1ce-2e4c-4337-8ba8-3f2525399e31.2.kickoff.rdb in 1.90 s.\n",
      "Contains keys: dict_keys(['left', 'right'])\n",
      "[left] start_ts: 1525624022661 | stop_ts: 1525624619501\n",
      "[right] start_ts: 1525624022583 | stop_ts: 1525624619463\n",
      "../kickoff-data-corrected/da82a1ce-2e4c-4337-8ba8-3f2525399e31.json\n",
      "[{'type': 'start_phase', 'ts': '2018-05-06T15:30:56.823000', 'kickoff_team_id': 14, 'phase': 1}, {'type': 'end_phase', 'ts': '2018-05-06T16:16:55.775Z', 'phase': 1}, {'type': 'start_phase', 'ts': '2018-05-06T16:32:03.343000', 'kickoff_team_id': 5, 'phase': 2}, {'type': 'end_phase', 'ts': '2018-05-06T17:19:59.649Z', 'phase': 2}]\n",
      "1525624323343\n"
     ]
    },
    {
     "name": "stderr",
     "output_type": "stream",
     "text": [
      "14923it [00:06, 2417.87it/s]\n"
     ]
    },
    {
     "name": "stdout",
     "output_type": "stream",
     "text": [
      "26800\n",
      "137\n",
      "26800 194\n",
      "137\n",
      "27\n",
      "28\n",
      "Json file edited\n"
     ]
    },
    {
     "name": "stderr",
     "output_type": "stream",
     "text": [
      "443it [00:00, 2183.88it/s]"
     ]
    },
    {
     "name": "stdout",
     "output_type": "stream",
     "text": [
      "Parsed ../kickoff-data-corrected/4b949eae-068b-4b0a-bc88-f5ef0a97b2ba.2.kickoff.rdb in 2.26 s.\n",
      "Contains keys: dict_keys(['left', 'right'])\n",
      "[left] start_ts: 1524322642512 | stop_ts: 1524323242312\n",
      "[right] start_ts: 1524322643076 | stop_ts: 1524323242636\n",
      "../kickoff-data-corrected/4b949eae-068b-4b0a-bc88-f5ef0a97b2ba.json\n",
      "[{'type': 'start_phase', 'ts': '2018-04-21T14:00:33.996000', 'kickoff_team_id': 13, 'phase': 1}, {'type': 'end_phase', 'ts': '2018-04-21T14:45:33.074Z', 'phase': 1}, {'type': 'start_phase', 'ts': '2018-04-21T15:02:23.876000', 'kickoff_team_id': 12, 'phase': 2}, {'type': 'end_phase', 'ts': '2018-04-21T15:50:24.649Z', 'phase': 2}]\n",
      "1524322943876\n"
     ]
    },
    {
     "name": "stderr",
     "output_type": "stream",
     "text": [
      "14989it [00:07, 1934.53it/s]\n"
     ]
    },
    {
     "name": "stdout",
     "output_type": "stream",
     "text": [
      "26800\n",
      "137\n",
      "26800 195\n",
      "137\n",
      "29\n",
      "30\n",
      "Json file edited\n"
     ]
    },
    {
     "name": "stderr",
     "output_type": "stream",
     "text": [
      "147it [00:00, 1464.80it/s]"
     ]
    },
    {
     "name": "stdout",
     "output_type": "stream",
     "text": [
      "Parsed ../kickoff-data-corrected/70593a9a-5258-4f89-a402-b555c8ee3514.1.kickoff.rdb in 2.73 s.\n",
      "Contains keys: dict_keys(['left', 'right'])\n",
      "[left] start_ts: 1525521349217 | stop_ts: 1525521946057\n",
      "[right] start_ts: 1525521349195 | stop_ts: 1525521946035\n",
      "../kickoff-data-corrected/70593a9a-5258-4f89-a402-b555c8ee3514.json\n",
      "[{'type': 'start_phase', 'ts': '2018-05-05T12:00:48.555000', 'kickoff_team_id': 3, 'phase': 1}, {'type': 'end_phase', 'ts': '2018-05-05T12:47:24.013Z', 'phase': 1}, {'type': 'start_phase', 'ts': '2018-05-05T13:03:50.875000', 'kickoff_team_id': 2, 'phase': 2}, {'type': 'end_phase', 'ts': '2018-05-05T13:51:49.753Z', 'phase': 2}]\n",
      "1525521648555\n"
     ]
    },
    {
     "name": "stderr",
     "output_type": "stream",
     "text": [
      "14921it [00:08, 1832.86it/s]\n"
     ]
    },
    {
     "name": "stdout",
     "output_type": "stream",
     "text": [
      "26800\n",
      "137\n",
      "26800 195\n",
      "137\n",
      "31\n",
      "32\n",
      "Json file edited\n"
     ]
    },
    {
     "name": "stderr",
     "output_type": "stream",
     "text": [
      "468it [00:00, 2439.15it/s]"
     ]
    },
    {
     "name": "stdout",
     "output_type": "stream",
     "text": [
      "Parsed ../kickoff-data-corrected/050a1fae-5d48-4048-8f66-a3f12eca843d.1.kickoff.rdb in 2.48 s.\n",
      "Contains keys: dict_keys(['left', 'right'])\n",
      "[left] start_ts: 1526225101102 | stop_ts: 1526225700022\n",
      "[right] start_ts: 1526225101172 | stop_ts: 1526225700052\n",
      "../kickoff-data-corrected/050a1fae-5d48-4048-8f66-a3f12eca843d.json\n",
      "[{'type': 'start_phase', 'ts': '2018-05-13T15:30:01.862000', 'kickoff_team_id': 14, 'phase': 1}, {'type': 'end_phase', 'ts': '2018-05-13T16:16:59.553Z', 'phase': 1}, {'type': 'start_phase', 'ts': '2018-05-13T16:32:03.932000', 'kickoff_team_id': 8, 'phase': 2}, {'type': 'end_phase', 'ts': '2018-05-13T17:20:33.812Z', 'phase': 2}]\n",
      "1526225401862\n"
     ]
    },
    {
     "name": "stderr",
     "output_type": "stream",
     "text": [
      "14972it [00:07, 2038.43it/s]\n"
     ]
    },
    {
     "name": "stdout",
     "output_type": "stream",
     "text": [
      "26800\n",
      "137\n",
      "26800 195\n",
      "137\n",
      "33\n",
      "34\n",
      "Json file edited\n",
      "Parsed ../kickoff-data-corrected/c4b2214b-4e3c-4dfb-a691-a5b008b9d778.1.kickoff.rdb in 1.77 s.\n",
      "Contains keys: dict_keys(['left', 'right'])\n",
      "[left] start_ts: 1525611301214 | stop_ts: 1525611898494\n",
      "[right] start_ts: 1525611300264 | stop_ts: 1525611897984\n",
      "../kickoff-data-corrected/c4b2214b-4e3c-4dfb-a691-a5b008b9d778.json\n",
      "[{'type': 'start_phase', 'ts': '1970-01-01T00:00:00', 'kickoff_team_id': 16, 'phase': 1}, {'type': 'end_phase', 'ts': '2018-05-06T13:45:00.746Z', 'phase': 1}, {'type': 'start_phase', 'ts': '1970-01-01T00:00:00', 'kickoff_team_id': 9, 'phase': 2}, {'type': 'end_phase', 'ts': '2018-05-06T14:48:47.422Z', 'phase': 2}]\n",
      "0\n",
      "Json file edited\n"
     ]
    },
    {
     "name": "stderr",
     "output_type": "stream",
     "text": [
      "203it [00:00, 2022.28it/s]"
     ]
    },
    {
     "name": "stdout",
     "output_type": "stream",
     "text": [
      "Parsed ../kickoff-data-corrected/57bf9b24-5c68-464f-9e74-20d0b2508bba.2.kickoff.rdb in 2.17 s.\n",
      "Contains keys: dict_keys(['left', 'right'])\n",
      "[left] start_ts: 1524074286135 | stop_ts: 1524074882975\n",
      "[right] start_ts: 1524074286793 | stop_ts: 1524074883313\n",
      "../kickoff-data-corrected/57bf9b24-5c68-464f-9e74-20d0b2508bba.json\n",
      "[{'type': 'start_phase', 'ts': '2018-04-18T17:00:29.775000', 'kickoff_team_id': 11, 'phase': 1}, {'type': 'end_phase', 'ts': '2018-04-18T17:46:35.647Z', 'phase': 1}, {'type': 'start_phase', 'ts': '2018-04-18T18:03:05.473000', 'kickoff_team_id': 8, 'phase': 2}, {'type': 'end_phase', 'ts': '2018-04-18T18:52:04.739Z', 'phase': 2}]\n",
      "1524074585473\n"
     ]
    },
    {
     "name": "stderr",
     "output_type": "stream",
     "text": [
      "14914it [00:07, 1974.78it/s]\n"
     ]
    },
    {
     "name": "stdout",
     "output_type": "stream",
     "text": [
      "26800\n",
      "137\n",
      "26800 195\n",
      "137\n",
      "35\n",
      "36\n",
      "Json file edited\n"
     ]
    },
    {
     "name": "stderr",
     "output_type": "stream",
     "text": [
      "318it [00:00, 3178.46it/s]"
     ]
    },
    {
     "name": "stdout",
     "output_type": "stream",
     "text": [
      "Parsed ../kickoff-data-corrected/4be6ef54-2541-42d0-a334-e513a535029c.1.kickoff.rdb in 2.04 s.\n",
      "Contains keys: dict_keys(['left', 'right'])\n",
      "[left] start_ts: 1523714121022 | stop_ts: 1523714720662\n",
      "[right] start_ts: 1523714121038 | stop_ts: 1523714720678\n",
      "../kickoff-data-corrected/4be6ef54-2541-42d0-a334-e513a535029c.json\n",
      "[{'type': 'start_phase', 'ts': '2018-04-14T14:00:21.598000', 'kickoff_team_id': 16, 'phase': 1}, {'type': 'end_phase', 'ts': '2018-04-14T14:46:37.899Z', 'phase': 1}, {'type': 'start_phase', 'ts': '2018-04-14T15:02:38.518000', 'kickoff_team_id': 5, 'phase': 2}, {'type': 'end_phase', 'ts': '2018-04-14T15:51:35.702Z', 'phase': 2}]\n",
      "1523714421598\n"
     ]
    },
    {
     "name": "stderr",
     "output_type": "stream",
     "text": [
      "14991it [00:07, 1885.22it/s]\n"
     ]
    },
    {
     "name": "stdout",
     "output_type": "stream",
     "text": [
      "26800\n",
      "137\n",
      "26800 195\n",
      "137\n",
      "37\n",
      "38\n",
      "Json file edited\n"
     ]
    },
    {
     "name": "stderr",
     "output_type": "stream",
     "text": [
      "270it [00:00, 2697.98it/s]"
     ]
    },
    {
     "name": "stdout",
     "output_type": "stream",
     "text": [
      "Parsed ../kickoff-data-corrected/9ab7ccfb-75cb-4756-9eb5-fe8c29de8fcc.2.kickoff.rdb in 1.74 s.\n",
      "Contains keys: dict_keys(['left', 'right'])\n",
      "[left] start_ts: 1525624025358 | stop_ts: 1525624625238\n",
      "[right] start_ts: 1525624025530 | stop_ts: 1525624625290\n",
      "../kickoff-data-corrected/9ab7ccfb-75cb-4756-9eb5-fe8c29de8fcc.json\n",
      "[{'type': 'start_phase', 'ts': '1970-01-01T00:00:00', 'kickoff_team_id': 10, 'phase': 1}, {'type': 'end_phase', 'ts': '2018-05-06T16:16:18.200Z', 'phase': 1}, {'type': 'start_phase', 'ts': '2018-05-06T16:32:07.130000', 'kickoff_team_id': 7, 'phase': 2}, {'type': 'end_phase', 'ts': '2018-05-06T17:20:08.236Z', 'phase': 2}]\n",
      "1525624327130\n"
     ]
    },
    {
     "name": "stderr",
     "output_type": "stream",
     "text": [
      "14996it [00:05, 2520.53it/s]\n"
     ]
    },
    {
     "name": "stdout",
     "output_type": "stream",
     "text": [
      "26800\n",
      "137\n",
      "26800 195\n",
      "137\n",
      "39\n",
      "40\n",
      "Json file edited\n",
      "Parsed ../kickoff-data-corrected/6e26f66b-a921-4919-9d7d-1bd59f935e78.1.kickoff.rdb in 2.31 s.\n",
      "Contains keys: dict_keys(['left', 'right'])\n",
      "[left] start_ts: 1523638587613 | stop_ts: 1523639186133\n",
      "[right] start_ts: 1523638586979 | stop_ts: 1523639185819\n",
      "../kickoff-data-corrected/6e26f66b-a921-4919-9d7d-1bd59f935e78.json\n",
      "[{'type': 'start_phase', 'ts': '1970-01-01T00:00:00', 'kickoff_team_id': 3, 'phase': 1}, {'type': 'end_phase', 'ts': '2018-04-13T17:48:25.115Z', 'phase': 1}, {'type': 'start_phase', 'ts': '1970-01-01T00:00:00', 'kickoff_team_id': 8, 'phase': 2}, {'type': 'end_phase', 'ts': '2018-04-13T18:52:23.632Z', 'phase': 2}]\n",
      "0\n",
      "Json file edited\n"
     ]
    },
    {
     "name": "stderr",
     "output_type": "stream",
     "text": [
      "234it [00:00, 1158.37it/s]"
     ]
    },
    {
     "name": "stdout",
     "output_type": "stream",
     "text": [
      "Parsed ../kickoff-data-corrected/57bf9b24-5c68-464f-9e74-20d0b2508bba.1.kickoff.rdb in 2.89 s.\n",
      "Contains keys: dict_keys(['left', 'right'])\n",
      "[left] start_ts: 1524070530135 | stop_ts: 1524071127975\n",
      "[right] start_ts: 1524070530793 | stop_ts: 1524071128313\n",
      "../kickoff-data-corrected/57bf9b24-5c68-464f-9e74-20d0b2508bba.json\n",
      "[{'type': 'start_phase', 'ts': '2018-04-18T17:00:29.775000', 'kickoff_team_id': 11, 'phase': 1}, {'type': 'end_phase', 'ts': '2018-04-18T17:46:35.647Z', 'phase': 1}, {'type': 'start_phase', 'ts': '2018-04-18T18:03:05.473000', 'kickoff_team_id': 8, 'phase': 2}, {'type': 'end_phase', 'ts': '2018-04-18T18:52:04.739Z', 'phase': 2}]\n",
      "1524070829775\n"
     ]
    },
    {
     "name": "stderr",
     "output_type": "stream",
     "text": [
      "14939it [00:09, 1636.58it/s]\n"
     ]
    },
    {
     "name": "stdout",
     "output_type": "stream",
     "text": [
      "26800\n",
      "136\n",
      "26800 194\n",
      "136\n",
      "41\n",
      "42\n",
      "Json file edited\n"
     ]
    },
    {
     "name": "stderr",
     "output_type": "stream",
     "text": [
      "370it [00:00, 3687.92it/s]"
     ]
    },
    {
     "name": "stdout",
     "output_type": "stream",
     "text": [
      "Parsed ../kickoff-data-corrected/66b6caf7-e5c0-45dd-874f-de8ac2e3c9ff.1.kickoff.rdb in 2.11 s.\n",
      "Contains keys: dict_keys(['left', 'right'])\n",
      "[left] start_ts: 1526921712782 | stop_ts: 1526922309662\n",
      "[right] start_ts: 1526921712730 | stop_ts: 1526922309650\n",
      "../kickoff-data-corrected/66b6caf7-e5c0-45dd-874f-de8ac2e3c9ff.json\n",
      "[{'type': 'start_phase', 'ts': '2018-05-21T17:00:10.970000', 'kickoff_team_id': 6, 'phase': 1}, {'type': 'end_phase', 'ts': '2018-05-21T17:46:11.855Z', 'phase': 1}, {'type': 'start_phase', 'ts': '2018-05-21T18:01:54.690000', 'kickoff_team_id': 7, 'phase': 2}, {'type': 'end_phase', 'ts': '2018-05-21T18:51:25.546Z', 'phase': 2}]\n",
      "1526922010970\n"
     ]
    },
    {
     "name": "stderr",
     "output_type": "stream",
     "text": [
      "14922it [00:06, 2464.27it/s]\n"
     ]
    },
    {
     "name": "stdout",
     "output_type": "stream",
     "text": [
      "26800\n",
      "137\n",
      "26800 195\n",
      "137\n",
      "43\n",
      "44\n",
      "Json file edited\n"
     ]
    },
    {
     "name": "stderr",
     "output_type": "stream",
     "text": [
      "243it [00:00, 2428.38it/s]"
     ]
    },
    {
     "name": "stdout",
     "output_type": "stream",
     "text": [
      "Parsed ../kickoff-data-corrected/2b8bcfd6-5f57-46de-aacd-e932ac8e1697.2.kickoff.rdb in 2.03 s.\n",
      "Contains keys: dict_keys(['left', 'right'])\n",
      "[left] start_ts: 1523204960829 | stop_ts: 1523205559349\n",
      "[right] start_ts: 1523204962061 | stop_ts: 1523205559981\n",
      "../kickoff-data-corrected/2b8bcfd6-5f57-46de-aacd-e932ac8e1697.json\n",
      "[{'type': 'start_phase', 'ts': '1970-01-01T00:00:00', 'kickoff_team_id': 13, 'phase': 1}, {'type': 'end_phase', 'ts': '2018-04-08T16:17:54.242Z', 'phase': 1}, {'type': 'start_phase', 'ts': '2018-04-08T16:34:22.301000', 'kickoff_team_id': 16, 'phase': 2}, {'type': 'end_phase', 'ts': '2018-04-08T17:23:20.816Z', 'phase': 2}]\n",
      "1523205262301\n"
     ]
    },
    {
     "name": "stderr",
     "output_type": "stream",
     "text": [
      "14949it [00:07, 1872.96it/s]\n"
     ]
    },
    {
     "name": "stdout",
     "output_type": "stream",
     "text": [
      "26800\n",
      "136\n",
      "26800 193\n",
      "136\n",
      "45\n",
      "46\n",
      "Json file edited\n"
     ]
    },
    {
     "name": "stderr",
     "output_type": "stream",
     "text": [
      "754it [00:00, 3693.24it/s]"
     ]
    },
    {
     "name": "stdout",
     "output_type": "stream",
     "text": [
      "Parsed ../kickoff-data-corrected/23fb8811-638e-4be8-a01d-76cad0f5a5bf.1.kickoff.rdb in 1.96 s.\n",
      "Contains keys: dict_keys(['left', 'right'])\n",
      "[left] start_ts: 1526133303595 | stop_ts: 1526133902435\n",
      "[right] start_ts: 1526133303581 | stop_ts: 1526133902461\n",
      "../kickoff-data-corrected/23fb8811-638e-4be8-a01d-76cad0f5a5bf.json\n",
      "[{'type': 'start_phase', 'ts': '2018-05-12T14:00:04.221000', 'kickoff_team_id': 3, 'phase': 1}, {'type': 'end_phase', 'ts': '2018-05-12T14:46:02.666Z', 'phase': 1}, {'type': 'start_phase', 'ts': '2018-05-12T15:01:24.821000', 'kickoff_team_id': 15, 'phase': 2}, {'type': 'end_phase', 'ts': '2018-05-12T15:48:40.504Z', 'phase': 2}]\n",
      "1526133604221\n"
     ]
    },
    {
     "name": "stderr",
     "output_type": "stream",
     "text": [
      "14971it [00:06, 2364.36it/s]\n"
     ]
    },
    {
     "name": "stdout",
     "output_type": "stream",
     "text": [
      "26800\n",
      "137\n",
      "26800 195\n",
      "137\n",
      "47\n",
      "48\n",
      "Json file edited\n"
     ]
    },
    {
     "name": "stderr",
     "output_type": "stream",
     "text": [
      "403it [00:00, 1951.88it/s]"
     ]
    },
    {
     "name": "stdout",
     "output_type": "stream",
     "text": [
      "Parsed ../kickoff-data-corrected/b4dbea7c-c72f-4dd6-b57c-8fb7b8b38eb5.1.kickoff.rdb in 2.63 s.\n",
      "Contains keys: dict_keys(['left', 'right'])\n",
      "[left] start_ts: 1524070510939 | stop_ts: 1524071110739\n",
      "[right] start_ts: 1524070510889 | stop_ts: 1524071110729\n",
      "../kickoff-data-corrected/b4dbea7c-c72f-4dd6-b57c-8fb7b8b38eb5.json\n",
      "[{'type': 'start_phase', 'ts': '2018-04-18T17:00:11.969000', 'kickoff_team_id': 13, 'phase': 1}, {'type': 'end_phase', 'ts': '2018-04-18T17:47:10.874Z', 'phase': 1}, {'type': 'start_phase', 'ts': '2018-04-18T18:02:20.169000', 'kickoff_team_id': 9, 'phase': 2}, {'type': 'end_phase', 'ts': '2018-04-18T18:49:19.022Z', 'phase': 2}]\n",
      "1524070811969\n"
     ]
    },
    {
     "name": "stderr",
     "output_type": "stream",
     "text": [
      "14996it [00:09, 1552.99it/s]\n"
     ]
    },
    {
     "name": "stdout",
     "output_type": "stream",
     "text": [
      "26800\n",
      "137\n",
      "26800 195\n",
      "137\n",
      "49\n",
      "50\n",
      "Json file edited\n"
     ]
    },
    {
     "name": "stderr",
     "output_type": "stream",
     "text": [
      "183it [00:00, 1821.86it/s]"
     ]
    },
    {
     "name": "stdout",
     "output_type": "stream",
     "text": [
      "Parsed ../kickoff-data-corrected/8d6fc150-9f6b-4e5c-8a99-d2ca96b5ffa5.1.kickoff.rdb in 2.92 s.\n",
      "Contains keys: dict_keys(['left', 'right'])\n",
      "[left] start_ts: 1524156948162 | stop_ts: 1524157546082\n",
      "[right] start_ts: 1524156948802 | stop_ts: 1524157546362\n",
      "../kickoff-data-corrected/8d6fc150-9f6b-4e5c-8a99-d2ca96b5ffa5.json\n",
      "[{'type': 'start_phase', 'ts': '2018-04-19T17:00:47.522000', 'kickoff_team_id': 4, 'phase': 1}, {'type': 'end_phase', 'ts': '2018-04-19T17:45:47.791Z', 'phase': 1}, {'type': 'start_phase', 'ts': '2018-04-19T18:01:37.282000', 'kickoff_team_id': 2, 'phase': 2}, {'type': 'end_phase', 'ts': '2018-04-19T18:51:07.597Z', 'phase': 2}]\n",
      "1524157247522\n"
     ]
    },
    {
     "name": "stderr",
     "output_type": "stream",
     "text": [
      "14940it [00:09, 1640.17it/s]\n"
     ]
    },
    {
     "name": "stdout",
     "output_type": "stream",
     "text": [
      "26800\n",
      "137\n",
      "26800 195\n",
      "137\n",
      "51\n",
      "52\n",
      "Json file edited\n"
     ]
    },
    {
     "name": "stderr",
     "output_type": "stream",
     "text": [
      "130it [00:00, 1293.54it/s]"
     ]
    },
    {
     "name": "stdout",
     "output_type": "stream",
     "text": [
      "Parsed ../kickoff-data-corrected/cf16ebf4-49fc-4991-a9b8-b9a055dcf2b8.1.kickoff.rdb in 2.16 s.\n",
      "Contains keys: dict_keys(['left', 'right'])\n",
      "[left] start_ts: 1525006796874 | stop_ts: 1525007393674\n",
      "[right] start_ts: 1525006796888 | stop_ts: 1525007393688\n",
      "../kickoff-data-corrected/cf16ebf4-49fc-4991-a9b8-b9a055dcf2b8.json\n",
      "[{'type': 'start_phase', 'ts': '2018-04-29T13:04:55.088000', 'kickoff_team_id': 2, 'phase': 1}, {'type': 'end_phase', 'ts': '2018-04-29T13:51:58.173Z', 'phase': 1}, {'type': 'start_phase', 'ts': '2018-04-29T14:09:37.368000', 'kickoff_team_id': 11, 'phase': 2}, {'type': 'end_phase', 'ts': '2018-04-29T14:57:43.997Z', 'phase': 2}]\n",
      "1525007095088\n"
     ]
    },
    {
     "name": "stderr",
     "output_type": "stream",
     "text": [
      "14921it [00:07, 1866.13it/s]\n"
     ]
    },
    {
     "name": "stdout",
     "output_type": "stream",
     "text": [
      "26800\n",
      "137\n",
      "26800 195\n",
      "137\n",
      "53\n",
      "54\n",
      "Json file edited\n"
     ]
    },
    {
     "name": "stderr",
     "output_type": "stream",
     "text": [
      "\r",
      "0it [00:00, ?it/s]"
     ]
    },
    {
     "name": "stdout",
     "output_type": "stream",
     "text": [
      "Parsed ../kickoff-data-corrected/d092d84a-bfe1-4638-bd6e-7f516a90553a.2.kickoff.rdb in 2.04 s.\n",
      "Contains keys: dict_keys(['left', 'right'])\n",
      "[left] start_ts: 1527346602172 | stop_ts: 1527347199012\n",
      "[right] start_ts: 1527346602142 | stop_ts: 1527347199022\n",
      "../kickoff-data-corrected/d092d84a-bfe1-4638-bd6e-7f516a90553a.json\n",
      "[{'type': 'start_phase', 'ts': '1970-01-01T00:00:00', 'kickoff_team_id': 10, 'phase': 1}, {'type': 'end_phase', 'ts': '2018-05-26T14:46:31.767Z', 'phase': 1}, {'type': 'start_phase', 'ts': '2018-05-26T15:01:41.702000', 'kickoff_team_id': 4, 'phase': 2}, {'type': 'end_phase', 'ts': '2018-05-26T15:49:43.350Z', 'phase': 2}]\n",
      "1527346901702\n"
     ]
    },
    {
     "name": "stderr",
     "output_type": "stream",
     "text": [
      "14922it [00:07, 2087.85it/s]\n"
     ]
    },
    {
     "name": "stdout",
     "output_type": "stream",
     "text": [
      "26800\n",
      "137\n",
      "26800 195\n",
      "137\n",
      "55\n",
      "56\n",
      "Json file edited\n"
     ]
    },
    {
     "name": "stderr",
     "output_type": "stream",
     "text": [
      "259it [00:00, 1329.31it/s]"
     ]
    },
    {
     "name": "stdout",
     "output_type": "stream",
     "text": [
      "Parsed ../kickoff-data-corrected/314f4989-398c-45a3-a74f-9f1adac71bf1.1.kickoff.rdb in 2.12 s.\n",
      "Contains keys: dict_keys(['left', 'right'])\n",
      "[left] start_ts: 1522587361524 | stop_ts: 1522587961404\n",
      "[right] start_ts: 1522587361602 | stop_ts: 1522587961442\n",
      "../kickoff-data-corrected/314f4989-398c-45a3-a74f-9f1adac71bf1.json\n",
      "[{'type': 'start_phase', 'ts': '2018-04-01T13:00:57.284000', 'kickoff_team_id': 9, 'phase': 1}, {'type': 'end_phase', 'ts': '2018-04-01T13:47:08.486Z', 'phase': 1}, {'type': 'start_phase', 'ts': '1970-01-01T00:00:00', 'kickoff_team_id': 5, 'phase': 2}, {'type': 'end_phase', 'ts': '2018-04-01T14:50:51.103Z', 'phase': 2}]\n",
      "1522587657284\n"
     ]
    },
    {
     "name": "stderr",
     "output_type": "stream",
     "text": [
      "14908it [00:07, 1966.46it/s]\n"
     ]
    },
    {
     "name": "stdout",
     "output_type": "stream",
     "text": [
      "26800\n",
      "137\n",
      "26800 193\n",
      "137\n",
      "57\n",
      "58\n",
      "Json file edited\n"
     ]
    },
    {
     "name": "stderr",
     "output_type": "stream",
     "text": [
      "852it [00:00, 4140.57it/s]"
     ]
    },
    {
     "name": "stdout",
     "output_type": "stream",
     "text": [
      "Parsed ../kickoff-data-corrected/03d0ac1b-8adb-457d-9519-b6c879a92df3.2.kickoff.rdb in 2.75 s.\n",
      "Contains keys: dict_keys(['left', 'right'])\n",
      "[left] start_ts: 1526825255686 | stop_ts: 1526825853606\n",
      "[right] start_ts: 1526825255814 | stop_ts: 1526825853694\n",
      "../kickoff-data-corrected/03d0ac1b-8adb-457d-9519-b6c879a92df3.json\n",
      "[{'type': 'start_phase', 'ts': '2018-05-20T13:10:06.054Z', 'kickoff_team_id': 10, 'phase': 1}, {'type': 'end_phase', 'ts': '2018-05-20T13:55:08.940Z', 'phase': 1}, {'type': 'start_phase', 'ts': '2018-05-20T14:12:36.446000', 'kickoff_team_id': 2, 'phase': 2}, {'type': 'end_phase', 'ts': '2018-05-20T15:02:18.183Z', 'phase': 2}]\n",
      "1526825556446\n"
     ]
    },
    {
     "name": "stderr",
     "output_type": "stream",
     "text": [
      "14948it [00:06, 2466.51it/s]\n"
     ]
    },
    {
     "name": "stdout",
     "output_type": "stream",
     "text": [
      "26800\n",
      "136\n",
      "26800 193\n",
      "136\n",
      "59\n",
      "60\n",
      "Json file edited\n"
     ]
    },
    {
     "name": "stderr",
     "output_type": "stream",
     "text": [
      "1669it [00:00, 7545.72it/s]"
     ]
    },
    {
     "name": "stdout",
     "output_type": "stream",
     "text": [
      "Parsed ../kickoff-data-corrected/8d6fc150-9f6b-4e5c-8a99-d2ca96b5ffa5.2.kickoff.rdb in 2.59 s.\n",
      "Contains keys: dict_keys(['left', 'right'])\n",
      "[left] start_ts: 1524160596162 | stop_ts: 1524161195082\n",
      "[right] start_ts: 1524160596802 | stop_ts: 1524161195362\n",
      "../kickoff-data-corrected/8d6fc150-9f6b-4e5c-8a99-d2ca96b5ffa5.json\n",
      "[{'type': 'start_phase', 'ts': '2018-04-19T17:00:47.522000', 'kickoff_team_id': 4, 'phase': 1}, {'type': 'end_phase', 'ts': '2018-04-19T17:45:47.791Z', 'phase': 1}, {'type': 'start_phase', 'ts': '2018-04-19T18:01:37.282000', 'kickoff_team_id': 2, 'phase': 2}, {'type': 'end_phase', 'ts': '2018-04-19T18:51:07.597Z', 'phase': 2}]\n",
      "1524160897282\n"
     ]
    },
    {
     "name": "stderr",
     "output_type": "stream",
     "text": [
      "14965it [00:06, 2275.54it/s]\n"
     ]
    },
    {
     "name": "stdout",
     "output_type": "stream",
     "text": [
      "26800\n",
      "137\n",
      "26800 195\n",
      "137\n",
      "61\n",
      "62\n",
      "Json file edited\n",
      "Parsed ../kickoff-data-corrected/47ed3e3a-56d1-4eb1-b5d3-9e5f9658fda7.2.kickoff.rdb in 2.62 s.\n",
      "Contains keys: dict_keys(['left', 'right'])\n",
      "[left] start_ts: 1526320594327 | stop_ts: 1526321192167\n",
      "[right] start_ts: 1526320594243 | stop_ts: 1526321192163\n",
      "../kickoff-data-corrected/47ed3e3a-56d1-4eb1-b5d3-9e5f9658fda7.json\n",
      "[{'type': 'start_phase', 'ts': '1970-01-01T00:00:00', 'kickoff_team_id': 10, 'phase': 1}, {'type': 'end_phase', 'ts': '2018-05-14T17:46:28.806Z', 'phase': 1}, {'type': 'start_phase', 'ts': '1970-01-01T00:00:00', 'kickoff_team_id': 13, 'phase': 2}, {'type': 'end_phase', 'ts': '2018-05-14T18:49:37.209Z', 'phase': 2}]\n",
      "0\n",
      "Json file edited\n",
      "Parsed ../kickoff-data-corrected/916abbb2-57b9-4700-8cc5-3fc01de1a6f8.1.kickoff.rdb in 2.36 s.\n",
      "Contains keys: dict_keys(['left', 'right'])\n",
      "[left] start_ts: 1526745302179 | stop_ts: 1526745901059\n",
      "[right] start_ts: 1526745302339 | stop_ts: 1526745901139\n",
      "../kickoff-data-corrected/916abbb2-57b9-4700-8cc5-3fc01de1a6f8.json\n",
      "[{'type': 'start_phase', 'ts': '1970-01-01T00:00:00', 'kickoff_team_id': 16, 'phase': 1}, {'type': 'end_phase', 'ts': '2018-05-19T16:46:01.609Z', 'phase': 1}, {'type': 'start_phase', 'ts': '2018-05-19T17:02:56.859000', 'kickoff_team_id': 4, 'phase': 2}, {'type': 'end_phase', 'ts': '2018-05-19T17:51:06.302Z', 'phase': 2}]\n",
      "0\n",
      "Json file edited\n",
      "Parsed ../kickoff-data-corrected/d092d84a-bfe1-4638-bd6e-7f516a90553a.1.kickoff.rdb in 2.83 s.\n",
      "Contains keys: dict_keys(['left', 'right'])\n",
      "[left] start_ts: 1527342934172 | stop_ts: 1527343533012\n",
      "[right] start_ts: 1527342934142 | stop_ts: 1527343533022\n",
      "../kickoff-data-corrected/d092d84a-bfe1-4638-bd6e-7f516a90553a.json\n",
      "[{'type': 'start_phase', 'ts': '1970-01-01T00:00:00', 'kickoff_team_id': 10, 'phase': 1}, {'type': 'end_phase', 'ts': '2018-05-26T14:46:31.767Z', 'phase': 1}, {'type': 'start_phase', 'ts': '2018-05-26T15:01:41.702000', 'kickoff_team_id': 4, 'phase': 2}, {'type': 'end_phase', 'ts': '2018-05-26T15:49:43.350Z', 'phase': 2}]\n",
      "0\n",
      "Json file edited\n"
     ]
    },
    {
     "name": "stderr",
     "output_type": "stream",
     "text": [
      "158it [00:00, 781.84it/s]"
     ]
    },
    {
     "name": "stdout",
     "output_type": "stream",
     "text": [
      "Parsed ../kickoff-data-corrected/ba34fc2e-bdba-40d8-8cc8-a679c6eecd5a.1.kickoff.rdb in 1.92 s.\n",
      "Contains keys: dict_keys(['left', 'right'])\n",
      "[left] start_ts: 1522596366681 | stop_ts: 1522596965521\n",
      "[right] start_ts: 1522596366671 | stop_ts: 1522596965511\n",
      "../kickoff-data-corrected/ba34fc2e-bdba-40d8-8cc8-a679c6eecd5a.json\n",
      "[{'type': 'start_phase', 'ts': '2018-04-01T15:31:02.151000', 'kickoff_team_id': 11, 'phase': 1}, {'type': 'end_phase', 'ts': '2018-04-01T16:16:08.759Z', 'phase': 1}, {'type': 'start_phase', 'ts': '1970-01-01T00:00:00', 'kickoff_team_id': 13, 'phase': 2}, {'type': 'end_phase', 'ts': '2018-04-01T17:20:20.880Z', 'phase': 2}]\n",
      "1522596662151\n"
     ]
    },
    {
     "name": "stderr",
     "output_type": "stream",
     "text": [
      "14972it [00:06, 2232.71it/s]\n"
     ]
    },
    {
     "name": "stdout",
     "output_type": "stream",
     "text": [
      "26800\n",
      "137\n",
      "26800 194\n",
      "137\n",
      "63\n",
      "64\n",
      "Json file edited\n",
      "Parsed ../kickoff-data-corrected/c4b2214b-4e3c-4dfb-a691-a5b008b9d778.2.kickoff.rdb in 1.84 s.\n",
      "Contains keys: dict_keys(['left', 'right'])\n",
      "[left] start_ts: 1525614945214 | stop_ts: 1525615542494\n",
      "[right] start_ts: 1525614944224 | stop_ts: 1525615541984\n",
      "../kickoff-data-corrected/c4b2214b-4e3c-4dfb-a691-a5b008b9d778.json\n",
      "[{'type': 'start_phase', 'ts': '1970-01-01T00:00:00', 'kickoff_team_id': 16, 'phase': 1}, {'type': 'end_phase', 'ts': '2018-05-06T13:45:00.746Z', 'phase': 1}, {'type': 'start_phase', 'ts': '1970-01-01T00:00:00', 'kickoff_team_id': 9, 'phase': 2}, {'type': 'end_phase', 'ts': '2018-05-06T14:48:47.422Z', 'phase': 2}]\n",
      "0\n",
      "Json file edited\n"
     ]
    },
    {
     "name": "stderr",
     "output_type": "stream",
     "text": [
      "342it [00:00, 3417.88it/s]"
     ]
    },
    {
     "name": "stdout",
     "output_type": "stream",
     "text": [
      "Parsed ../kickoff-data-corrected/cbcca433-ff77-4927-a5a3-36ff293c12fd.2.kickoff.rdb in 1.56 s.\n",
      "Contains keys: dict_keys(['left', 'right'])\n",
      "[left] start_ts: 1523296760048 | stop_ts: 1523297356248\n",
      "[right] start_ts: 1523296748330 | stop_ts: 1523297346370\n",
      "../kickoff-data-corrected/cbcca433-ff77-4927-a5a3-36ff293c12fd.json\n",
      "[{'type': 'start_phase', 'ts': '1970-01-01T00:00:00', 'kickoff_team_id': 15, 'phase': 1}, {'type': 'end_phase', 'ts': '2018-04-09T17:47:46.113Z', 'phase': 1}, {'type': 'start_phase', 'ts': '2018-04-09T18:04:20.408000', 'kickoff_team_id': 5, 'phase': 2}, {'type': 'end_phase', 'ts': '2018-04-09T18:53:12.188Z', 'phase': 2}]\n",
      "1523297060408\n"
     ]
    },
    {
     "name": "stderr",
     "output_type": "stream",
     "text": [
      "14906it [00:05, 2552.67it/s]\n"
     ]
    },
    {
     "name": "stdout",
     "output_type": "stream",
     "text": [
      "26800\n",
      "136\n",
      "26800 192\n",
      "136\n",
      "65\n",
      "66\n",
      "Json file edited\n"
     ]
    },
    {
     "name": "stderr",
     "output_type": "stream",
     "text": [
      "175it [00:00, 847.90it/s]"
     ]
    },
    {
     "name": "stdout",
     "output_type": "stream",
     "text": [
      "Parsed ../kickoff-data-corrected/4b949eae-068b-4b0a-bc88-f5ef0a97b2ba.1.kickoff.rdb in 2.63 s.\n",
      "Contains keys: dict_keys(['left', 'right'])\n",
      "[left] start_ts: 1524318934512 | stop_ts: 1524319532312\n",
      "[right] start_ts: 1524318935116 | stop_ts: 1524319532636\n",
      "../kickoff-data-corrected/4b949eae-068b-4b0a-bc88-f5ef0a97b2ba.json\n",
      "[{'type': 'start_phase', 'ts': '2018-04-21T14:00:33.996000', 'kickoff_team_id': 13, 'phase': 1}, {'type': 'end_phase', 'ts': '2018-04-21T14:45:33.074Z', 'phase': 1}, {'type': 'start_phase', 'ts': '2018-04-21T15:02:23.876000', 'kickoff_team_id': 12, 'phase': 2}, {'type': 'end_phase', 'ts': '2018-04-21T15:50:24.649Z', 'phase': 2}]\n",
      "1524319233996\n"
     ]
    },
    {
     "name": "stderr",
     "output_type": "stream",
     "text": [
      "14940it [00:13, 1146.19it/s]\n"
     ]
    },
    {
     "name": "stdout",
     "output_type": "stream",
     "text": [
      "26800\n",
      "137\n",
      "26800 195\n",
      "137\n",
      "67\n",
      "68\n",
      "Json file edited\n"
     ]
    },
    {
     "name": "stderr",
     "output_type": "stream",
     "text": [
      "135it [00:00, 1341.35it/s]"
     ]
    },
    {
     "name": "stdout",
     "output_type": "stream",
     "text": [
      "Parsed ../kickoff-data-corrected/a185c6c8-7383-4d19-927f-dc8f70726c34.1.kickoff.rdb in 3.43 s.\n",
      "Contains keys: dict_keys(['left', 'right'])\n",
      "[left] start_ts: 1523897795243 | stop_ts: 1523898395043\n",
      "[right] start_ts: 1523897795697 | stop_ts: 1523898395297\n",
      "../kickoff-data-corrected/a185c6c8-7383-4d19-927f-dc8f70726c34.json\n",
      "[{'type': 'start_phase', 'ts': '2018-04-16T17:01:37.097000', 'kickoff_team_id': 15, 'phase': 1}, {'type': 'end_phase', 'ts': '2018-04-16T17:46:39.313Z', 'phase': 1}, {'type': 'start_phase', 'ts': '2018-04-16T18:02:51.643000', 'kickoff_team_id': 2, 'phase': 2}, {'type': 'end_phase', 'ts': '2018-04-16T18:49:49.424Z', 'phase': 2}]\n",
      "1523898097097\n"
     ]
    },
    {
     "name": "stderr",
     "output_type": "stream",
     "text": [
      "14991it [00:10, 1407.08it/s]\n"
     ]
    },
    {
     "name": "stdout",
     "output_type": "stream",
     "text": [
      "26800\n",
      "137\n",
      "26800 195\n",
      "137\n",
      "69\n",
      "70\n",
      "Json file edited\n"
     ]
    },
    {
     "name": "stderr",
     "output_type": "stream",
     "text": [
      "178it [00:00, 1778.74it/s]"
     ]
    },
    {
     "name": "stdout",
     "output_type": "stream",
     "text": [
      "Parsed ../kickoff-data-corrected/a5857e03-10b8-454a-89fb-c201985b04cb.2.kickoff.rdb in 2.10 s.\n",
      "Contains keys: dict_keys(['left', 'right'])\n",
      "[left] start_ts: 1523383083898 | stop_ts: 1523383683138\n",
      "[right] start_ts: 1523383083286 | stop_ts: 1523383682846\n",
      "../kickoff-data-corrected/a5857e03-10b8-454a-89fb-c201985b04cb.json\n",
      "[{'type': 'start_phase', 'ts': '1970-01-01T00:00:00', 'kickoff_team_id': 6, 'phase': 1}, {'type': 'end_phase', 'ts': '2018-04-10T17:47:16.674Z', 'phase': 1}, {'type': 'start_phase', 'ts': '2018-04-10T18:03:05.406000', 'kickoff_team_id': 2, 'phase': 2}, {'type': 'end_phase', 'ts': '2018-04-10T18:51:05.058Z', 'phase': 2}]\n",
      "1523383385406\n"
     ]
    },
    {
     "name": "stderr",
     "output_type": "stream",
     "text": [
      "14982it [00:06, 2161.29it/s]\n"
     ]
    },
    {
     "name": "stdout",
     "output_type": "stream",
     "text": [
      "26800\n",
      "136\n",
      "26800 193\n",
      "136\n",
      "71\n",
      "72\n",
      "Json file edited\n",
      "Parsed ../kickoff-data-corrected/75366863-8063-4ece-8aca-1dcf75d22448.2.kickoff.rdb in 1.61 s.\n",
      "Contains keys: dict_keys(['left', 'right'])\n",
      "[left] start_ts: 1527185280818 | stop_ts: 1527185876738\n",
      "[right] start_ts: 1527185276926 | stop_ts: 1527185876806\n",
      "../kickoff-data-corrected/75366863-8063-4ece-8aca-1dcf75d22448.json\n",
      "[{'type': 'start_phase', 'ts': '1970-01-01T00:00:00', 'kickoff_team_id': 6, 'phase': 1}, {'type': 'end_phase', 'ts': '2018-05-24T17:52:47.009Z', 'phase': 1}, {'type': 'start_phase', 'ts': '1970-01-01T00:00:00', 'kickoff_team_id': 11, 'phase': 2}, {'type': 'end_phase', 'ts': '2018-05-24T19:02:55.588Z', 'phase': 2}]\n",
      "0\n",
      "Json file edited\n",
      "Parsed ../kickoff-data-corrected/3382a9d0-02ff-4f23-9748-1b715d85b731.1.kickoff.rdb in 4.06 s.\n",
      "Contains keys: dict_keys(['left', 'right'])\n",
      "[left] start_ts: 1523805900082 | stop_ts: 1523806498882\n",
      "[right] start_ts: 1523805900650 | stop_ts: 1523806499170\n",
      "../kickoff-data-corrected/3382a9d0-02ff-4f23-9748-1b715d85b731.json\n",
      "[{'type': 'start_phase', 'ts': '1970-01-01T00:00:00', 'kickoff_team_id': 6, 'phase': 1}, {'type': 'end_phase', 'ts': '2018-04-15T16:16:00.459Z', 'phase': 1}, {'type': 'start_phase', 'ts': '1970-01-01T00:00:00', 'kickoff_team_id': 13, 'phase': 2}, {'type': 'end_phase', 'ts': '2018-04-15T17:19:35.565Z', 'phase': 2}]\n",
      "0\n",
      "Json file edited\n"
     ]
    },
    {
     "name": "stderr",
     "output_type": "stream",
     "text": [
      "305it [00:00, 1479.17it/s]"
     ]
    },
    {
     "name": "stdout",
     "output_type": "stream",
     "text": [
      "Parsed ../kickoff-data-corrected/9d1b40c0-efb0-4eb5-9ff4-bd13a55c0820.2.kickoff.rdb in 1.95 s.\n",
      "Contains keys: dict_keys(['left', 'right'])\n",
      "[left] start_ts: 1525715936459 | stop_ts: 1525716534259\n",
      "[right] start_ts: 1525715936409 | stop_ts: 1525716534249\n",
      "../kickoff-data-corrected/9d1b40c0-efb0-4eb5-9ff4-bd13a55c0820.json\n",
      "[{'type': 'start_phase', 'ts': '2018-05-07T16:59:59.329000', 'kickoff_team_id': 6, 'phase': 1}, {'type': 'end_phase', 'ts': '2018-05-07T17:45:00.886Z', 'phase': 1}, {'type': 'start_phase', 'ts': '2018-05-07T18:03:56.609000', 'kickoff_team_id': 6, 'phase': 2}, {'type': 'end_phase', 'ts': '2018-05-07T18:53:43.859Z', 'phase': 2}]\n",
      "1525716236609\n"
     ]
    },
    {
     "name": "stderr",
     "output_type": "stream",
     "text": [
      "14946it [00:07, 2054.10it/s]\n"
     ]
    },
    {
     "name": "stdout",
     "output_type": "stream",
     "text": [
      "26800\n",
      "137\n",
      "26800 195\n",
      "137\n",
      "73\n",
      "74\n",
      "Json file edited\n",
      "Parsed ../kickoff-data-corrected/19bebd81-3b61-492b-85ed-74ff887cbc45.1.kickoff.rdb in 2.84 s.\n",
      "Contains keys: dict_keys(['left', 'right'])\n",
      "[left] start_ts: 1522587371575 | stop_ts: 1522587969015\n",
      "[right] start_ts: 1522587371411 | stop_ts: 1522587968931\n",
      "../kickoff-data-corrected/19bebd81-3b61-492b-85ed-74ff887cbc45.json\n",
      "[{'type': 'start_phase', 'ts': '1970-01-01T00:00:00', 'kickoff_team_id': 1, 'phase': 1}, {'type': 'end_phase', 'ts': '2018-04-01T13:47:53.692Z', 'phase': 1}, {'type': 'start_phase', 'ts': '2018-04-01T14:05:30.455000', 'kickoff_team_id': 2, 'phase': 2}, {'type': 'end_phase', 'ts': '2018-04-01T14:53:51.954Z', 'phase': 2}]\n",
      "0\n",
      "Json file edited\n",
      "Parsed ../kickoff-data-corrected/ba34fc2e-bdba-40d8-8cc8-a679c6eecd5a.2.kickoff.rdb in 2.69 s.\n",
      "Contains keys: dict_keys(['left', 'right'])\n",
      "[left] start_ts: 1522600030721 | stop_ts: 1522600628521\n",
      "[right] start_ts: 1522600030671 | stop_ts: 1522600628511\n",
      "../kickoff-data-corrected/ba34fc2e-bdba-40d8-8cc8-a679c6eecd5a.json\n",
      "[{'type': 'start_phase', 'ts': '2018-04-01T15:31:02.151000', 'kickoff_team_id': 11, 'phase': 1}, {'type': 'end_phase', 'ts': '2018-04-01T16:16:08.759Z', 'phase': 1}, {'type': 'start_phase', 'ts': '1970-01-01T00:00:00', 'kickoff_team_id': 13, 'phase': 2}, {'type': 'end_phase', 'ts': '2018-04-01T17:20:20.880Z', 'phase': 2}]\n",
      "0\n",
      "Json file edited\n"
     ]
    },
    {
     "name": "stderr",
     "output_type": "stream",
     "text": [
      "124it [00:00, 1237.78it/s]"
     ]
    },
    {
     "name": "stdout",
     "output_type": "stream",
     "text": [
      "Parsed ../kickoff-data-corrected/2dc12819-d486-4925-a0e2-b8ae9ff1aed5.1.kickoff.rdb in 2.66 s.\n",
      "Contains keys: dict_keys(['left', 'right'])\n",
      "[left] start_ts: 1523192332019 | stop_ts: 1523192929339\n",
      "[right] start_ts: 1523192332775 | stop_ts: 1523192929695\n",
      "../kickoff-data-corrected/2dc12819-d486-4925-a0e2-b8ae9ff1aed5.json\n",
      "[{'type': 'start_phase', 'ts': '2018-04-08T13:03:52.775000', 'kickoff_team_id': 11, 'phase': 1}, {'type': 'end_phase', 'ts': '2018-04-08T13:48:52.077Z', 'phase': 1}, {'type': 'start_phase', 'ts': '2018-04-08T14:05:16.815000', 'kickoff_team_id': 14, 'phase': 2}, {'type': 'end_phase', 'ts': '2018-04-08T14:53:40.200Z', 'phase': 2}]\n",
      "1523192632775\n"
     ]
    },
    {
     "name": "stderr",
     "output_type": "stream",
     "text": [
      "14925it [00:08, 1688.44it/s]\n"
     ]
    },
    {
     "name": "stdout",
     "output_type": "stream",
     "text": [
      "26800\n",
      "136\n",
      "26800 193\n",
      "136\n",
      "75\n",
      "76\n",
      "Json file edited\n",
      "Parsed ../kickoff-data-corrected/3382a9d0-02ff-4f23-9748-1b715d85b731.2.kickoff.rdb in 1.97 s.\n",
      "Contains keys: dict_keys(['left', 'right'])\n",
      "[left] start_ts: 1523809596082 | stop_ts: 1523810193882\n",
      "[right] start_ts: 1523809596650 | stop_ts: 1523810194170\n",
      "../kickoff-data-corrected/3382a9d0-02ff-4f23-9748-1b715d85b731.json\n",
      "[{'type': 'start_phase', 'ts': '1970-01-01T00:00:00', 'kickoff_team_id': 6, 'phase': 1}, {'type': 'end_phase', 'ts': '2018-04-15T16:16:00.459Z', 'phase': 1}, {'type': 'start_phase', 'ts': '1970-01-01T00:00:00', 'kickoff_team_id': 13, 'phase': 2}, {'type': 'end_phase', 'ts': '2018-04-15T17:19:35.565Z', 'phase': 2}]\n",
      "0\n",
      "Json file edited\n"
     ]
    },
    {
     "name": "stderr",
     "output_type": "stream",
     "text": [
      "567it [00:00, 2929.99it/s]"
     ]
    },
    {
     "name": "stdout",
     "output_type": "stream",
     "text": [
      "Parsed ../kickoff-data-corrected/84e8b33c-d912-495e-9e21-84bdd18e0e04.1.kickoff.rdb in 2.24 s.\n",
      "Contains keys: dict_keys(['left', 'right'])\n",
      "[left] start_ts: 1523638501659 | stop_ts: 1523639099539\n",
      "[right] start_ts: 1523638502169 | stop_ts: 1523639099769\n",
      "../kickoff-data-corrected/84e8b33c-d912-495e-9e21-84bdd18e0e04.json\n",
      "[{'type': 'start_phase', 'ts': '2018-04-13T17:00:01.059000', 'kickoff_team_id': 12, 'phase': 1}, {'type': 'end_phase', 'ts': '2018-04-13T17:45:38.365Z', 'phase': 1}, {'type': 'start_phase', 'ts': '2018-04-13T18:00:41.739000', 'kickoff_team_id': 14, 'phase': 2}, {'type': 'end_phase', 'ts': '2018-04-13T18:47:41.972Z', 'phase': 2}]\n",
      "1523638801059\n"
     ]
    },
    {
     "name": "stderr",
     "output_type": "stream",
     "text": [
      "14940it [00:07, 2110.90it/s]\n"
     ]
    },
    {
     "name": "stdout",
     "output_type": "stream",
     "text": [
      "26800\n",
      "137\n",
      "26800 195\n",
      "137\n",
      "77\n",
      "78\n",
      "Json file edited\n"
     ]
    },
    {
     "name": "stderr",
     "output_type": "stream",
     "text": [
      "251it [00:00, 2504.73it/s]"
     ]
    },
    {
     "name": "stdout",
     "output_type": "stream",
     "text": [
      "Parsed ../kickoff-data-corrected/9e627901-09e2-4c84-bf77-6f0ec289fa5f.2.kickoff.rdb in 1.82 s.\n",
      "Contains keys: dict_keys(['left', 'right'])\n",
      "[left] start_ts: 1522686514029 | stop_ts: 1522687111869\n",
      "[right] start_ts: 1522686513973 | stop_ts: 1522687111853\n",
      "../kickoff-data-corrected/9e627901-09e2-4c84-bf77-6f0ec289fa5f.json\n",
      "[{'type': 'start_phase', 'ts': '2018-04-02T15:32:26.973000', 'kickoff_team_id': 7, 'phase': 1}, {'type': 'end_phase', 'ts': '2018-04-02T16:17:34.362Z', 'phase': 1}, {'type': 'start_phase', 'ts': '2018-04-02T16:33:32.893000', 'kickoff_team_id': 8, 'phase': 2}, {'type': 'end_phase', 'ts': '2018-04-02T17:22:39.373Z', 'phase': 2}]\n",
      "1522686812893\n"
     ]
    },
    {
     "name": "stderr",
     "output_type": "stream",
     "text": [
      "14946it [00:06, 2315.66it/s]\n"
     ]
    },
    {
     "name": "stdout",
     "output_type": "stream",
     "text": [
      "26800\n",
      "137\n",
      "26800 195\n",
      "137\n",
      "79\n",
      "80\n",
      "Json file edited\n",
      "Parsed ../kickoff-data-corrected/723fa378-2b05-42e0-9631-a05bb1ed5e70.1.kickoff.rdb in 2.67 s.\n",
      "Contains keys: dict_keys(['left', 'right'])\n",
      "[left] start_ts: 1524502497320 | stop_ts: 1524503096600\n",
      "[right] start_ts: 1524502496828 | stop_ts: 1524503096348\n",
      "../kickoff-data-corrected/723fa378-2b05-42e0-9631-a05bb1ed5e70.json\n",
      "[{'type': 'start_phase', 'ts': '1970-01-01T00:00:00', 'kickoff_team_id': 4, 'phase': 1}, {'type': 'end_phase', 'ts': '2018-04-23T17:45:26.980Z', 'phase': 1}, {'type': 'start_phase', 'ts': '2018-04-23T18:01:18.280000', 'kickoff_team_id': 1, 'phase': 2}, {'type': 'end_phase', 'ts': '2018-04-23T18:51:18.989Z', 'phase': 2}]\n",
      "0\n",
      "Json file edited\n"
     ]
    },
    {
     "name": "stderr",
     "output_type": "stream",
     "text": [
      "276it [00:00, 2758.95it/s]"
     ]
    },
    {
     "name": "stdout",
     "output_type": "stream",
     "text": [
      "Parsed ../kickoff-data-corrected/4176c56a-b0df-4e64-aaeb-09150829ba15.2.kickoff.rdb in 1.60 s.\n",
      "Contains keys: dict_keys(['left', 'right'])\n",
      "[left] start_ts: 1526741990412 | stop_ts: 1526742590252\n",
      "[right] start_ts: 1526741990392 | stop_ts: 1526742590232\n",
      "../kickoff-data-corrected/4176c56a-b0df-4e64-aaeb-09150829ba15.json\n",
      "[{'type': 'start_phase', 'ts': '2018-05-19T14:00:24.152000', 'kickoff_team_id': 3, 'phase': 1}, {'type': 'end_phase', 'ts': '2018-05-19T14:48:34.080Z', 'phase': 1}, {'type': 'start_phase', 'ts': '2018-05-19T15:04:52.912000', 'kickoff_team_id': 13, 'phase': 2}, {'type': 'end_phase', 'ts': '2018-05-19T15:53:26.441Z', 'phase': 2}]\n",
      "1526742292912\n"
     ]
    },
    {
     "name": "stderr",
     "output_type": "stream",
     "text": [
      "14996it [00:06, 2441.44it/s]\n"
     ]
    },
    {
     "name": "stdout",
     "output_type": "stream",
     "text": [
      "26800\n",
      "137\n",
      "26800 195\n",
      "137\n",
      "81\n",
      "82\n",
      "Json file edited\n"
     ]
    },
    {
     "name": "stderr",
     "output_type": "stream",
     "text": [
      "278it [00:00, 2774.74it/s]"
     ]
    },
    {
     "name": "stdout",
     "output_type": "stream",
     "text": [
      "Parsed ../kickoff-data-corrected/bd6faac0-e5f3-4b84-82a9-400c019ac08d.2.kickoff.rdb in 1.60 s.\n",
      "Contains keys: dict_keys(['left', 'right'])\n",
      "[left] start_ts: 1526320642105 | stop_ts: 1526321241985\n",
      "[right] start_ts: 1526320642055 | stop_ts: 1526321241935\n",
      "../kickoff-data-corrected/bd6faac0-e5f3-4b84-82a9-400c019ac08d.json\n",
      "[{'type': 'start_phase', 'ts': '2018-05-14T17:00:31.615000', 'kickoff_team_id': 7, 'phase': 1}, {'type': 'end_phase', 'ts': '2018-05-14T17:46:31.340Z', 'phase': 1}, {'type': 'start_phase', 'ts': '2018-05-14T18:02:22.775000', 'kickoff_team_id': 5, 'phase': 2}, {'type': 'end_phase', 'ts': '2018-05-14T18:49:16.627Z', 'phase': 2}]\n",
      "1526320942775\n"
     ]
    },
    {
     "name": "stderr",
     "output_type": "stream",
     "text": [
      "14997it [00:05, 2591.45it/s]\n"
     ]
    },
    {
     "name": "stdout",
     "output_type": "stream",
     "text": [
      "26800\n",
      "137\n",
      "26800 195\n",
      "137\n",
      "83\n",
      "84\n",
      "Json file edited\n"
     ]
    },
    {
     "name": "stderr",
     "output_type": "stream",
     "text": [
      "620it [00:00, 2773.00it/s]"
     ]
    },
    {
     "name": "stdout",
     "output_type": "stream",
     "text": [
      "Parsed ../kickoff-data-corrected/0d9e9e30-9d13-4af0-8e41-fe1669e9eeff.2.kickoff.rdb in 2.14 s.\n",
      "Contains keys: dict_keys(['left', 'right'])\n",
      "[left] start_ts: 1523195853517 | stop_ts: 1523196453157\n",
      "[right] start_ts: 1523195853031 | stop_ts: 1523196452911\n",
      "../kickoff-data-corrected/0d9e9e30-9d13-4af0-8e41-fe1669e9eeff.json\n",
      "[{'type': 'start_phase', 'ts': '2018-04-08T13:00:30.151000', 'kickoff_team_id': 7, 'phase': 1}, {'type': 'end_phase', 'ts': '2018-04-08T13:47:27.898Z', 'phase': 1}, {'type': 'start_phase', 'ts': '2018-04-08T14:02:35.117000', 'kickoff_team_id': 9, 'phase': 2}, {'type': 'end_phase', 'ts': '2018-04-08T14:51:34.402Z', 'phase': 2}]\n",
      "1523196155117\n"
     ]
    },
    {
     "name": "stderr",
     "output_type": "stream",
     "text": [
      "14992it [00:07, 1941.62it/s]\n"
     ]
    },
    {
     "name": "stdout",
     "output_type": "stream",
     "text": [
      "26800\n",
      "137\n",
      "26800 195\n",
      "137\n",
      "85\n",
      "86\n",
      "Json file edited\n"
     ]
    },
    {
     "name": "stderr",
     "output_type": "stream",
     "text": [
      "\r",
      "0it [00:00, ?it/s]"
     ]
    },
    {
     "name": "stdout",
     "output_type": "stream",
     "text": [
      "Parsed ../kickoff-data-corrected/af42c9ca-ae8f-4d69-a671-15950883ecac.2.kickoff.rdb in 2.20 s.\n",
      "Contains keys: dict_keys(['left', 'right'])\n",
      "[left] start_ts: 1524927395556 | stop_ts: 1524927994436\n",
      "[right] start_ts: 1524927395612 | stop_ts: 1524927994452\n",
      "../kickoff-data-corrected/af42c9ca-ae8f-4d69-a671-15950883ecac.json\n",
      "[{'type': 'start_phase', 'ts': '2018-04-28T14:00:21.412000', 'kickoff_team_id': 6, 'phase': 1}, {'type': 'end_phase', 'ts': '2018-04-28T14:45:26.494Z', 'phase': 1}, {'type': 'start_phase', 'ts': '2018-04-28T15:01:35.852000', 'kickoff_team_id': 5, 'phase': 2}, {'type': 'end_phase', 'ts': '2018-04-28T15:49:36.913Z', 'phase': 2}]\n",
      "1524927695852\n"
     ]
    },
    {
     "name": "stderr",
     "output_type": "stream",
     "text": [
      "14973it [00:07, 2005.97it/s]\n"
     ]
    },
    {
     "name": "stdout",
     "output_type": "stream",
     "text": [
      "26800\n",
      "137\n",
      "26800 195\n",
      "137\n",
      "87\n",
      "88\n",
      "Json file edited\n"
     ]
    },
    {
     "name": "stderr",
     "output_type": "stream",
     "text": [
      "281it [00:00, 1374.10it/s]"
     ]
    },
    {
     "name": "stdout",
     "output_type": "stream",
     "text": [
      "Parsed ../kickoff-data-corrected/da82a1ce-2e4c-4337-8ba8-3f2525399e31.1.kickoff.rdb in 2.33 s.\n",
      "Contains keys: dict_keys(['left', 'right'])\n",
      "[left] start_ts: 1525620358621 | stop_ts: 1525620955501\n",
      "[right] start_ts: 1525620358583 | stop_ts: 1525620955463\n",
      "../kickoff-data-corrected/da82a1ce-2e4c-4337-8ba8-3f2525399e31.json\n",
      "[{'type': 'start_phase', 'ts': '2018-05-06T15:30:56.823000', 'kickoff_team_id': 14, 'phase': 1}, {'type': 'end_phase', 'ts': '2018-05-06T16:16:55.775Z', 'phase': 1}, {'type': 'start_phase', 'ts': '2018-05-06T16:32:03.343000', 'kickoff_team_id': 5, 'phase': 2}, {'type': 'end_phase', 'ts': '2018-05-06T17:19:59.649Z', 'phase': 2}]\n",
      "1525620656823\n"
     ]
    },
    {
     "name": "stderr",
     "output_type": "stream",
     "text": [
      "14922it [00:06, 2146.09it/s]\n"
     ]
    },
    {
     "name": "stdout",
     "output_type": "stream",
     "text": [
      "26800\n",
      "137\n",
      "26800 195\n",
      "137\n",
      "89\n",
      "90\n",
      "Json file edited\n"
     ]
    },
    {
     "name": "stderr",
     "output_type": "stream",
     "text": [
      "521it [00:00, 2592.17it/s]"
     ]
    },
    {
     "name": "stdout",
     "output_type": "stream",
     "text": [
      "Parsed ../kickoff-data-corrected/19bebd81-3b61-492b-85ed-74ff887cbc45.2.kickoff.rdb in 1.74 s.\n",
      "Contains keys: dict_keys(['left', 'right'])\n",
      "[left] start_ts: 1522591235535 | stop_ts: 1522591832015\n",
      "[right] start_ts: 1522591235411 | stop_ts: 1522591831931\n",
      "../kickoff-data-corrected/19bebd81-3b61-492b-85ed-74ff887cbc45.json\n",
      "[{'type': 'start_phase', 'ts': '1970-01-01T00:00:00', 'kickoff_team_id': 1, 'phase': 1}, {'type': 'end_phase', 'ts': '2018-04-01T13:47:53.692Z', 'phase': 1}, {'type': 'start_phase', 'ts': '2018-04-01T14:05:30.455000', 'kickoff_team_id': 2, 'phase': 2}, {'type': 'end_phase', 'ts': '2018-04-01T14:53:51.954Z', 'phase': 2}]\n",
      "1522591530455\n"
     ]
    },
    {
     "name": "stderr",
     "output_type": "stream",
     "text": [
      "14913it [00:06, 2303.99it/s]\n"
     ]
    },
    {
     "name": "stdout",
     "output_type": "stream",
     "text": [
      "26800\n",
      "137\n",
      "26800 194\n",
      "137\n",
      "91\n",
      "92\n",
      "Json file edited\n"
     ]
    },
    {
     "name": "stderr",
     "output_type": "stream",
     "text": [
      "323it [00:00, 3223.29it/s]"
     ]
    },
    {
     "name": "stdout",
     "output_type": "stream",
     "text": [
      "Parsed ../kickoff-data-corrected/d1a98e08-0f21-46fe-8457-01ff183ddbeb.2.kickoff.rdb in 1.97 s.\n",
      "Contains keys: dict_keys(['left', 'right'])\n",
      "[left] start_ts: 1526579945405 | stop_ts: 1526580542165\n",
      "[right] start_ts: 1526579945259 | stop_ts: 1526580542099\n",
      "../kickoff-data-corrected/d1a98e08-0f21-46fe-8457-01ff183ddbeb.json\n",
      "[{'type': 'start_phase', 'ts': '2018-05-17T17:00:04.205000', 'kickoff_team_id': 12, 'phase': 1}, {'type': 'end_phase', 'ts': '2018-05-17T17:47:07.092Z', 'phase': 1}, {'type': 'start_phase', 'ts': '2018-05-17T18:04:04.725000', 'kickoff_team_id': 11, 'phase': 2}, {'type': 'end_phase', 'ts': '2018-05-17T18:52:06.565Z', 'phase': 2}]\n",
      "1526580244725\n"
     ]
    },
    {
     "name": "stderr",
     "output_type": "stream",
     "text": [
      "14921it [00:07, 2123.95it/s]\n"
     ]
    },
    {
     "name": "stdout",
     "output_type": "stream",
     "text": [
      "26800\n",
      "136\n",
      "26800 194\n",
      "136\n",
      "93\n",
      "94\n",
      "Json file edited\n"
     ]
    },
    {
     "name": "stderr",
     "output_type": "stream",
     "text": [
      "264it [00:00, 2632.70it/s]"
     ]
    },
    {
     "name": "stdout",
     "output_type": "stream",
     "text": [
      "Parsed ../kickoff-data-corrected/a881fc70-93e4-43d9-b0c5-036f72eaa980.2.kickoff.rdb in 1.78 s.\n",
      "Contains keys: dict_keys(['left', 'right'])\n",
      "[left] start_ts: 1527098145982 | stop_ts: 1527098742822\n",
      "[right] start_ts: 1527098146008 | stop_ts: 1527098742848\n",
      "../kickoff-data-corrected/a881fc70-93e4-43d9-b0c5-036f72eaa980.json\n",
      "[{'type': 'start_phase', 'ts': '2018-05-23T17:00:02.848000', 'kickoff_team_id': 1, 'phase': 1}, {'type': 'end_phase', 'ts': '2018-05-23T17:45:22.894Z', 'phase': 1}, {'type': 'start_phase', 'ts': '2018-05-23T18:00:44.168000', 'kickoff_team_id': 13, 'phase': 2}, {'type': 'end_phase', 'ts': '2018-05-23T18:48:45.517Z', 'phase': 2}]\n",
      "1527098444168\n"
     ]
    },
    {
     "name": "stderr",
     "output_type": "stream",
     "text": [
      "14921it [00:07, 2119.97it/s]\n"
     ]
    },
    {
     "name": "stdout",
     "output_type": "stream",
     "text": [
      "26800\n",
      "137\n",
      "26800 195\n",
      "137\n",
      "95\n",
      "96\n",
      "Json file edited\n"
     ]
    },
    {
     "name": "stderr",
     "output_type": "stream",
     "text": [
      "244it [00:00, 2436.52it/s]"
     ]
    },
    {
     "name": "stdout",
     "output_type": "stream",
     "text": [
      "Parsed ../kickoff-data-corrected/3c7f617c-c839-4e5a-9e80-52017fa85d93.2.kickoff.rdb in 1.80 s.\n",
      "Contains keys: dict_keys(['left', 'right'])\n",
      "[left] start_ts: 1525010224949 | stop_ts: 1525010823789\n",
      "[right] start_ts: 1525010224933 | stop_ts: 1525010823773\n",
      "../kickoff-data-corrected/3c7f617c-c839-4e5a-9e80-52017fa85d93.json\n",
      "[{'type': 'start_phase', 'ts': '2018-04-29T13:00:17.173000', 'kickoff_team_id': 3, 'phase': 1}, {'type': 'end_phase', 'ts': '2018-04-29T13:46:17.178Z', 'phase': 1}, {'type': 'start_phase', 'ts': '2018-04-29T14:02:04.413000', 'kickoff_team_id': 7, 'phase': 2}, {'type': 'end_phase', 'ts': '2018-04-29T14:51:28.061Z', 'phase': 2}]\n",
      "1525010524413\n"
     ]
    },
    {
     "name": "stderr",
     "output_type": "stream",
     "text": [
      "14973it [00:06, 2307.41it/s]\n"
     ]
    },
    {
     "name": "stdout",
     "output_type": "stream",
     "text": [
      "26800\n",
      "137\n",
      "26800 195\n",
      "137\n",
      "97\n",
      "98\n",
      "Json file edited\n",
      "Parsed ../kickoff-data-corrected/4b5dc786-7219-46eb-bc5f-722a77011092.1.kickoff.rdb in 3.37 s.\n",
      "Contains keys: dict_keys(['left', 'right'])\n",
      "[left] start_ts: 1524848141035 | stop_ts: 1524848738915\n",
      "[right] start_ts: 1524848141057 | stop_ts: 1524848738937\n",
      "../kickoff-data-corrected/4b5dc786-7219-46eb-bc5f-722a77011092.json\n",
      "[{'type': 'start_phase', 'ts': '1970-01-01T00:00:00', 'kickoff_team_id': 1, 'phase': 1}, {'type': 'end_phase', 'ts': '2018-04-27T17:48:39.186Z', 'phase': 1}, {'type': 'start_phase', 'ts': '1970-01-01T00:00:00', 'kickoff_team_id': 10, 'phase': 2}, {'type': 'end_phase', 'ts': '2018-04-27T18:53:12.757Z', 'phase': 2}]\n",
      "0\n",
      "Json file edited\n"
     ]
    },
    {
     "name": "stderr",
     "output_type": "stream",
     "text": [
      "502it [00:00, 2441.49it/s]"
     ]
    },
    {
     "name": "stdout",
     "output_type": "stream",
     "text": [
      "Parsed ../kickoff-data-corrected/cd6d495b-8fe4-4586-8861-ba579cf3a6e9.2.kickoff.rdb in 1.83 s.\n",
      "Contains keys: dict_keys(['left', 'right'])\n",
      "[left] start_ts: 1523800767685 | stop_ts: 1523801367045\n",
      "[right] start_ts: 1523800767317 | stop_ts: 1523801366837\n",
      "../kickoff-data-corrected/cd6d495b-8fe4-4586-8861-ba579cf3a6e9.json\n",
      "[{'type': 'start_phase', 'ts': '1970-01-01T00:00:00', 'kickoff_team_id': None, 'phase': 1}, {'type': 'end_phase', 'ts': '2018-04-15T13:48:30.166Z', 'phase': 1}, {'type': 'start_phase', 'ts': '2018-04-15T14:04:29.565000', 'kickoff_team_id': None, 'phase': 2}, {'type': 'end_phase', 'ts': '2018-04-15T14:54:33.364Z', 'phase': 2}]\n",
      "1523801069565\n"
     ]
    },
    {
     "name": "stderr",
     "output_type": "stream",
     "text": [
      "14984it [00:06, 2190.62it/s]\n"
     ]
    },
    {
     "name": "stdout",
     "output_type": "stream",
     "text": [
      "26800\n",
      "137\n",
      "26800 194\n",
      "137\n",
      "99\n",
      "100\n",
      "Json file edited\n"
     ]
    },
    {
     "name": "stderr",
     "output_type": "stream",
     "text": [
      "305it [00:00, 3048.77it/s]"
     ]
    },
    {
     "name": "stdout",
     "output_type": "stream",
     "text": [
      "Parsed ../kickoff-data-corrected/4903143c-68be-45f0-9746-e29547b7fa94.2.kickoff.rdb in 2.13 s.\n",
      "Contains keys: dict_keys(['left', 'right'])\n",
      "[left] start_ts: 1525532144705 | stop_ts: 1525532743545\n",
      "[right] start_ts: 1525532144685 | stop_ts: 1525532743525\n",
      "../kickoff-data-corrected/4903143c-68be-45f0-9746-e29547b7fa94.json\n",
      "[{'type': 'start_phase', 'ts': '2018-05-05T14:00:05.565000', 'kickoff_team_id': 13, 'phase': 1}, {'type': 'end_phase', 'ts': '2018-05-05T14:45:11.669Z', 'phase': 1}, {'type': 'start_phase', 'ts': '2018-05-05T15:00:45.205000', 'kickoff_team_id': 4, 'phase': 2}, {'type': 'end_phase', 'ts': '2018-05-05T15:50:08.057Z', 'phase': 2}]\n",
      "1525532445205\n"
     ]
    },
    {
     "name": "stderr",
     "output_type": "stream",
     "text": [
      "14972it [00:07, 2041.57it/s]\n"
     ]
    },
    {
     "name": "stdout",
     "output_type": "stream",
     "text": [
      "26800\n",
      "137\n",
      "26800 195\n",
      "137\n",
      "101\n",
      "102\n",
      "Json file edited\n",
      "Parsed ../kickoff-data-corrected/5dcb4696-281c-4bff-9ec7-02322c1b4a67.2.kickoff.rdb in 1.75 s.\n",
      "Contains keys: dict_keys(['left', 'right'])\n",
      "[left] start_ts: 1525019311714 | stop_ts: 1525019910514\n",
      "[right] start_ts: 1525019311670 | stop_ts: 1525019910510\n",
      "../kickoff-data-corrected/5dcb4696-281c-4bff-9ec7-02322c1b4a67.json\n",
      "[{'type': 'start_phase', 'ts': '2018-04-29T15:30:04.870000', 'kickoff_team_id': 14, 'phase': 1}, {'type': 'end_phase', 'ts': '2018-04-29T16:17:03.667Z', 'phase': 1}, {'type': 'start_phase', 'ts': '1970-01-01T00:00:00', 'kickoff_team_id': 4, 'phase': 2}, {'type': 'end_phase', 'ts': '2018-04-29T17:24:05.565Z', 'phase': 2}]\n",
      "0\n",
      "Json file edited\n",
      "Parsed ../kickoff-data-corrected/456910d1-b523-4ff2-b60c-fcd1f016b96d.1.kickoff.rdb in 1.65 s.\n",
      "Contains keys: dict_keys(['left', 'right'])\n",
      "[left] start_ts: 1524502503416 | stop_ts: 1524503101016\n",
      "[right] start_ts: 1524502502884 | stop_ts: 1524503100764\n",
      "../kickoff-data-corrected/456910d1-b523-4ff2-b60c-fcd1f016b96d.json\n",
      "[{'type': 'start_phase', 'ts': '1970-01-01T00:00:00', 'kickoff_team_id': 7, 'phase': 1}, {'type': 'end_phase', 'ts': '2018-04-23T17:47:08.130Z', 'phase': 1}, {'type': 'start_phase', 'ts': '1970-01-01T00:00:00', 'kickoff_team_id': 11, 'phase': 2}, {'type': 'end_phase', 'ts': '2018-04-23T18:50:33.464Z', 'phase': 2}]\n",
      "0\n",
      "Json file edited\n"
     ]
    },
    {
     "name": "stderr",
     "output_type": "stream",
     "text": [
      "262it [00:00, 1326.38it/s]"
     ]
    },
    {
     "name": "stdout",
     "output_type": "stream",
     "text": [
      "Parsed ../kickoff-data-corrected/af42c9ca-ae8f-4d69-a671-15950883ecac.1.kickoff.rdb in 3.50 s.\n",
      "Contains keys: dict_keys(['left', 'right'])\n",
      "[left] start_ts: 1524923719596 | stop_ts: 1524924319436\n",
      "[right] start_ts: 1524923719612 | stop_ts: 1524924319452\n",
      "../kickoff-data-corrected/af42c9ca-ae8f-4d69-a671-15950883ecac.json\n",
      "[{'type': 'start_phase', 'ts': '2018-04-28T14:00:21.412000', 'kickoff_team_id': 6, 'phase': 1}, {'type': 'end_phase', 'ts': '2018-04-28T14:45:26.494Z', 'phase': 1}, {'type': 'start_phase', 'ts': '2018-04-28T15:01:35.852000', 'kickoff_team_id': 5, 'phase': 2}, {'type': 'end_phase', 'ts': '2018-04-28T15:49:36.913Z', 'phase': 2}]\n",
      "1524924021412\n"
     ]
    },
    {
     "name": "stderr",
     "output_type": "stream",
     "text": [
      "14997it [00:10, 1484.95it/s]\n"
     ]
    },
    {
     "name": "stdout",
     "output_type": "stream",
     "text": [
      "26800\n",
      "137\n",
      "26800 195\n",
      "137\n",
      "103\n",
      "104\n",
      "Json file edited\n"
     ]
    },
    {
     "name": "stderr",
     "output_type": "stream",
     "text": [
      "208it [00:00, 2078.78it/s]"
     ]
    },
    {
     "name": "stdout",
     "output_type": "stream",
     "text": [
      "Parsed ../kickoff-data-corrected/c79d79f1-5f51-4595-b931-4719f91a4575.2.kickoff.rdb in 1.94 s.\n",
      "Contains keys: dict_keys(['left', 'right'])\n",
      "[left] start_ts: 1525107583965 | stop_ts: 1525108183805\n",
      "[right] start_ts: 1525107584005 | stop_ts: 1525108183845\n",
      "../kickoff-data-corrected/c79d79f1-5f51-4595-b931-4719f91a4575.json\n",
      "[{'type': 'start_phase', 'ts': '2018-04-30T16:01:46.885000', 'kickoff_team_id': 12, 'phase': 1}, {'type': 'end_phase', 'ts': '2018-04-30T16:48:14.773Z', 'phase': 1}, {'type': 'start_phase', 'ts': '2018-04-30T17:04:44.725000', 'kickoff_team_id': 16, 'phase': 2}, {'type': 'end_phase', 'ts': '2018-04-30T17:54:48.605Z', 'phase': 2}]\n",
      "1525107884725\n"
     ]
    },
    {
     "name": "stderr",
     "output_type": "stream",
     "text": [
      "14997it [00:07, 2065.46it/s]\n"
     ]
    },
    {
     "name": "stdout",
     "output_type": "stream",
     "text": [
      "26800\n",
      "137\n",
      "26800 195\n",
      "137\n",
      "105\n",
      "106\n",
      "Json file edited\n"
     ]
    },
    {
     "name": "stderr",
     "output_type": "stream",
     "text": [
      "146it [00:00, 1451.22it/s]"
     ]
    },
    {
     "name": "stdout",
     "output_type": "stream",
     "text": [
      "Parsed ../kickoff-data-corrected/2739587b-312a-4d40-ba1a-9b5e3ebf5c9c.1.kickoff.rdb in 2.90 s.\n",
      "Contains keys: dict_keys(['left', 'right'])\n",
      "[left] start_ts: 1527425706666 | stop_ts: 1527426305466\n",
      "[right] start_ts: 1527425706526 | stop_ts: 1527426305406\n",
      "../kickoff-data-corrected/2739587b-312a-4d40-ba1a-9b5e3ebf5c9c.json\n",
      "[{'type': 'start_phase', 'ts': '2018-05-27T13:00:07.786000', 'kickoff_team_id': 2, 'phase': 1}, {'type': 'end_phase', 'ts': '2018-05-27T13:48:06.407Z', 'phase': 1}, {'type': 'start_phase', 'ts': '2018-05-27T14:05:26.306000', 'kickoff_team_id': 9, 'phase': 2}, {'type': 'end_phase', 'ts': '2018-05-27T14:54:05.123Z', 'phase': 2}]\n",
      "1527426007786\n"
     ]
    },
    {
     "name": "stderr",
     "output_type": "stream",
     "text": [
      "14971it [00:10, 1377.73it/s]\n"
     ]
    },
    {
     "name": "stdout",
     "output_type": "stream",
     "text": [
      "26800\n",
      "137\n",
      "26800 195\n",
      "137\n",
      "107\n",
      "108\n",
      "Json file edited\n"
     ]
    },
    {
     "name": "stderr",
     "output_type": "stream",
     "text": [
      "190it [00:00, 947.66it/s]"
     ]
    },
    {
     "name": "stdout",
     "output_type": "stream",
     "text": [
      "Parsed ../kickoff-data-corrected/a881fc70-93e4-43d9-b0c5-036f72eaa980.1.kickoff.rdb in 4.37 s.\n",
      "Contains keys: dict_keys(['left', 'right'])\n",
      "[left] start_ts: 1527094501982 | stop_ts: 1527095100822\n",
      "[right] start_ts: 1527094502008 | stop_ts: 1527095100848\n",
      "../kickoff-data-corrected/a881fc70-93e4-43d9-b0c5-036f72eaa980.json\n",
      "[{'type': 'start_phase', 'ts': '2018-05-23T17:00:02.848000', 'kickoff_team_id': 1, 'phase': 1}, {'type': 'end_phase', 'ts': '2018-05-23T17:45:22.894Z', 'phase': 1}, {'type': 'start_phase', 'ts': '2018-05-23T18:00:44.168000', 'kickoff_team_id': 13, 'phase': 2}, {'type': 'end_phase', 'ts': '2018-05-23T18:48:45.517Z', 'phase': 2}]\n",
      "1527094802848\n"
     ]
    },
    {
     "name": "stderr",
     "output_type": "stream",
     "text": [
      "14972it [00:13, 1120.85it/s]\n"
     ]
    },
    {
     "name": "stdout",
     "output_type": "stream",
     "text": [
      "26800\n",
      "137\n",
      "26800 195\n",
      "137\n",
      "109\n",
      "110\n",
      "Json file edited\n",
      "Parsed ../kickoff-data-corrected/cd6d495b-8fe4-4586-8861-ba579cf3a6e9.1.kickoff.rdb in 0.64 s.\n",
      "Contains keys: dict_keys(['left', 'right'])\n",
      "[left] start_ts: 1523797351725 | stop_ts: 1523797586045\n",
      "[right] start_ts: 1523797351317 | stop_ts: 1523797585837\n",
      "../kickoff-data-corrected/cd6d495b-8fe4-4586-8861-ba579cf3a6e9.json\n",
      "[{'type': 'start_phase', 'ts': '1970-01-01T00:00:00', 'kickoff_team_id': None, 'phase': 1}, {'type': 'end_phase', 'ts': '2018-04-15T13:48:30.166Z', 'phase': 1}, {'type': 'start_phase', 'ts': '2018-04-15T14:04:29.565000', 'kickoff_team_id': None, 'phase': 2}, {'type': 'end_phase', 'ts': '2018-04-15T14:54:33.364Z', 'phase': 2}]\n",
      "0\n",
      "Json file edited\n"
     ]
    },
    {
     "name": "stderr",
     "output_type": "stream",
     "text": [
      "436it [00:00, 4358.55it/s]"
     ]
    },
    {
     "name": "stdout",
     "output_type": "stream",
     "text": [
      "Parsed ../kickoff-data-corrected/23fb8811-638e-4be8-a01d-76cad0f5a5bf.2.kickoff.rdb in 1.58 s.\n",
      "Contains keys: dict_keys(['left', 'right'])\n",
      "[left] start_ts: 1526136983595 | stop_ts: 1526137583435\n",
      "[right] start_ts: 1526136983581 | stop_ts: 1526137583461\n",
      "../kickoff-data-corrected/23fb8811-638e-4be8-a01d-76cad0f5a5bf.json\n",
      "[{'type': 'start_phase', 'ts': '2018-05-12T14:00:04.221000', 'kickoff_team_id': 3, 'phase': 1}, {'type': 'end_phase', 'ts': '2018-05-12T14:46:02.666Z', 'phase': 1}, {'type': 'start_phase', 'ts': '2018-05-12T15:01:24.821000', 'kickoff_team_id': 15, 'phase': 2}, {'type': 'end_phase', 'ts': '2018-05-12T15:48:40.504Z', 'phase': 2}]\n",
      "1526137284821\n"
     ]
    },
    {
     "name": "stderr",
     "output_type": "stream",
     "text": [
      "14996it [00:06, 2464.72it/s]\n"
     ]
    },
    {
     "name": "stdout",
     "output_type": "stream",
     "text": [
      "26800\n",
      "137\n",
      "26800 195\n",
      "137\n",
      "111\n",
      "112\n",
      "Json file edited\n"
     ]
    },
    {
     "name": "stderr",
     "output_type": "stream",
     "text": [
      "262it [00:00, 1355.65it/s]"
     ]
    },
    {
     "name": "stdout",
     "output_type": "stream",
     "text": [
      "Parsed ../kickoff-data-corrected/adffa69d-f1aa-4aa1-9b15-fab3aa629e4f.1.kickoff.rdb in 3.22 s.\n",
      "Contains keys: dict_keys(['left', 'right'])\n",
      "[left] start_ts: 1526216111023 | stop_ts: 1526216708903\n",
      "[right] start_ts: 1526216111185 | stop_ts: 1526216708985\n",
      "../kickoff-data-corrected/adffa69d-f1aa-4aa1-9b15-fab3aa629e4f.json\n",
      "[{'type': 'start_phase', 'ts': '2018-05-13T13:00:10.785000', 'kickoff_team_id': 11, 'phase': 1}, {'type': 'end_phase', 'ts': '2018-05-13T13:47:11.419Z', 'phase': 1}, {'type': 'start_phase', 'ts': '2018-05-13T14:04:11.863000', 'kickoff_team_id': 16, 'phase': 2}, {'type': 'end_phase', 'ts': '2018-05-13T14:54:45.215Z', 'phase': 2}]\n",
      "1526216410785\n"
     ]
    },
    {
     "name": "stderr",
     "output_type": "stream",
     "text": [
      "14946it [00:09, 1648.83it/s]\n"
     ]
    },
    {
     "name": "stdout",
     "output_type": "stream",
     "text": [
      "26800\n",
      "137\n",
      "26800 195\n",
      "137\n",
      "113\n",
      "114\n",
      "Json file edited\n"
     ]
    },
    {
     "name": "stderr",
     "output_type": "stream",
     "text": [
      "108it [00:00, 1074.24it/s]"
     ]
    },
    {
     "name": "stdout",
     "output_type": "stream",
     "text": [
      "Parsed ../kickoff-data-corrected/a01d4b8a-cffb-4778-99c6-d0a53016e129.1.kickoff.rdb in 2.93 s.\n",
      "Contains keys: dict_keys(['left', 'right'])\n",
      "[left] start_ts: 1526489830965 | stop_ts: 1526490429805\n",
      "[right] start_ts: 1526489830925 | stop_ts: 1526490429805\n",
      "../kickoff-data-corrected/a01d4b8a-cffb-4778-99c6-d0a53016e129.json\n",
      "[{'type': 'start_phase', 'ts': '2018-05-16T17:02:10.605000', 'kickoff_team_id': 2, 'phase': 1}, {'type': 'end_phase', 'ts': '2018-05-16T17:48:11.998Z', 'phase': 1}, {'type': 'start_phase', 'ts': '2018-05-16T18:04:33.725000', 'kickoff_team_id': 8, 'phase': 2}, {'type': 'end_phase', 'ts': '2018-05-16T18:53:55.743Z', 'phase': 2}]\n",
      "1526490130605\n"
     ]
    },
    {
     "name": "stderr",
     "output_type": "stream",
     "text": [
      "14972it [00:09, 1628.05it/s]\n"
     ]
    },
    {
     "name": "stdout",
     "output_type": "stream",
     "text": [
      "26800\n",
      "137\n",
      "26800 195\n",
      "137\n",
      "115\n",
      "116\n",
      "Json file edited\n",
      "Parsed ../kickoff-data-corrected/314f4989-398c-45a3-a74f-9f1adac71bf1.2.kickoff.rdb in 1.68 s.\n",
      "Contains keys: dict_keys(['left', 'right'])\n",
      "[left] start_ts: 1522591069484 | stop_ts: 1522591667404\n",
      "[right] start_ts: 1522591069602 | stop_ts: 1522591667442\n",
      "../kickoff-data-corrected/314f4989-398c-45a3-a74f-9f1adac71bf1.json\n",
      "[{'type': 'start_phase', 'ts': '2018-04-01T13:00:57.284000', 'kickoff_team_id': 9, 'phase': 1}, {'type': 'end_phase', 'ts': '2018-04-01T13:47:08.486Z', 'phase': 1}, {'type': 'start_phase', 'ts': '1970-01-01T00:00:00', 'kickoff_team_id': 5, 'phase': 2}, {'type': 'end_phase', 'ts': '2018-04-01T14:50:51.103Z', 'phase': 2}]\n",
      "0\n",
      "Json file edited\n"
     ]
    },
    {
     "name": "stderr",
     "output_type": "stream",
     "text": [
      "172it [00:00, 1718.98it/s]"
     ]
    },
    {
     "name": "stdout",
     "output_type": "stream",
     "text": [
      "Parsed ../kickoff-data-corrected/b4dbea7c-c72f-4dd6-b57c-8fb7b8b38eb5.2.kickoff.rdb in 3.10 s.\n",
      "Contains keys: dict_keys(['left', 'right'])\n",
      "[left] start_ts: 1524074238899 | stop_ts: 1524074838739\n",
      "[right] start_ts: 1524074238929 | stop_ts: 1524074838729\n",
      "../kickoff-data-corrected/b4dbea7c-c72f-4dd6-b57c-8fb7b8b38eb5.json\n",
      "[{'type': 'start_phase', 'ts': '2018-04-18T17:00:11.969000', 'kickoff_team_id': 13, 'phase': 1}, {'type': 'end_phase', 'ts': '2018-04-18T17:47:10.874Z', 'phase': 1}, {'type': 'start_phase', 'ts': '2018-04-18T18:02:20.169000', 'kickoff_team_id': 9, 'phase': 2}, {'type': 'end_phase', 'ts': '2018-04-18T18:49:19.022Z', 'phase': 2}]\n",
      "1524074540169\n"
     ]
    },
    {
     "name": "stderr",
     "output_type": "stream",
     "text": [
      "14996it [00:09, 1628.66it/s]\n"
     ]
    },
    {
     "name": "stdout",
     "output_type": "stream",
     "text": [
      "26800\n",
      "137\n",
      "26800 195\n",
      "137\n",
      "117\n",
      "118\n",
      "Json file edited\n",
      "Parsed ../kickoff-data-corrected/3d29af74-d98c-415b-a1dc-6b034671d831.1.kickoff.rdb in 2.98 s.\n",
      "Contains keys: dict_keys(['left', 'right'])\n",
      "[left] start_ts: 1527094529245 | stop_ts: 1527095129045\n",
      "[right] start_ts: 1527094529133 | stop_ts: 1527095129013\n",
      "../kickoff-data-corrected/3d29af74-d98c-415b-a1dc-6b034671d831.json\n",
      "[{'type': 'start_phase', 'ts': '1970-01-01T00:00:00', 'kickoff_team_id': 10, 'phase': 1}, {'type': 'end_phase', 'ts': '2018-05-23T17:48:32.142Z', 'phase': 1}, {'type': 'start_phase', 'ts': '1970-01-01T00:00:00', 'kickoff_team_id': 5, 'phase': 2}, {'type': 'end_phase', 'ts': '2018-05-23T18:54:13.202Z', 'phase': 2}]\n",
      "0\n",
      "Json file edited\n"
     ]
    },
    {
     "name": "stderr",
     "output_type": "stream",
     "text": [
      "244it [00:00, 1005.00it/s]"
     ]
    },
    {
     "name": "stdout",
     "output_type": "stream",
     "text": [
      "Parsed ../kickoff-data-corrected/cec6034a-7fbf-483f-8d74-3e24fd6c0bcf.1.kickoff.rdb in 2.20 s.\n",
      "Contains keys: dict_keys(['left', 'right'])\n",
      "[left] start_ts: 1524401707700 | stop_ts: 1524402307540\n",
      "[right] start_ts: 1524401708282 | stop_ts: 1524402307842\n",
      "../kickoff-data-corrected/cec6034a-7fbf-483f-8d74-3e24fd6c0bcf.json\n",
      "[{'type': 'start_phase', 'ts': '2018-04-22T13:00:08.860000', 'kickoff_team_id': 5, 'phase': 1}, {'type': 'end_phase', 'ts': '2018-04-22T13:45:17.115Z', 'phase': 1}, {'type': 'start_phase', 'ts': '2018-04-22T14:01:14.220000', 'kickoff_team_id': 2, 'phase': 2}, {'type': 'end_phase', 'ts': '2018-04-22T14:51:12.617Z', 'phase': 2}]\n",
      "1524402008860\n"
     ]
    },
    {
     "name": "stderr",
     "output_type": "stream",
     "text": [
      "14989it [00:08, 1871.94it/s]\n"
     ]
    },
    {
     "name": "stdout",
     "output_type": "stream",
     "text": [
      "26800\n",
      "138\n",
      "26800 196\n",
      "138\n",
      "119\n",
      "120\n",
      "Json file edited\n"
     ]
    },
    {
     "name": "stderr",
     "output_type": "stream",
     "text": [
      "\r",
      "0it [00:00, ?it/s]"
     ]
    },
    {
     "name": "stdout",
     "output_type": "stream",
     "text": [
      "Parsed ../kickoff-data-corrected/bd6faac0-e5f3-4b84-82a9-400c019ac08d.1.kickoff.rdb in 2.81 s.\n",
      "Contains keys: dict_keys(['left', 'right'])\n",
      "[left] start_ts: 1526316934105 | stop_ts: 1526317530985\n",
      "[right] start_ts: 1526316934055 | stop_ts: 1526317530935\n",
      "../kickoff-data-corrected/bd6faac0-e5f3-4b84-82a9-400c019ac08d.json\n",
      "[{'type': 'start_phase', 'ts': '2018-05-14T17:00:31.615000', 'kickoff_team_id': 7, 'phase': 1}, {'type': 'end_phase', 'ts': '2018-05-14T17:46:31.340Z', 'phase': 1}, {'type': 'start_phase', 'ts': '2018-05-14T18:02:22.775000', 'kickoff_team_id': 5, 'phase': 2}, {'type': 'end_phase', 'ts': '2018-05-14T18:49:16.627Z', 'phase': 2}]\n",
      "1526317231615\n"
     ]
    },
    {
     "name": "stderr",
     "output_type": "stream",
     "text": [
      "14922it [00:08, 1797.94it/s]\n"
     ]
    },
    {
     "name": "stdout",
     "output_type": "stream",
     "text": [
      "26800\n",
      "137\n",
      "26800 195\n",
      "137\n",
      "121\n",
      "122\n",
      "Json file edited\n"
     ]
    },
    {
     "name": "stderr",
     "output_type": "stream",
     "text": [
      "91it [00:00, 905.03it/s]"
     ]
    },
    {
     "name": "stdout",
     "output_type": "stream",
     "text": [
      "Parsed ../kickoff-data-corrected/76d4b783-ae63-4c60-815f-6a81beef6451.1.kickoff.rdb in 3.51 s.\n",
      "Contains keys: dict_keys(['left', 'right'])\n",
      "[left] start_ts: 1523109442596 | stop_ts: 1523110041116\n",
      "[right] start_ts: 1523109442628 | stop_ts: 1523110041148\n",
      "../kickoff-data-corrected/76d4b783-ae63-4c60-815f-6a81beef6451.json\n",
      "[{'type': 'start_phase', 'ts': '2018-04-07T14:02:24.428000', 'kickoff_team_id': 12, 'phase': 1}, {'type': 'end_phase', 'ts': '2018-04-07T14:47:22.773Z', 'phase': 1}, {'type': 'start_phase', 'ts': '2018-04-07T15:02:59.828000', 'kickoff_team_id': 4, 'phase': 2}, {'type': 'end_phase', 'ts': '2018-04-07T15:50:52.908Z', 'phase': 2}]\n",
      "1523109744428\n"
     ]
    },
    {
     "name": "stderr",
     "output_type": "stream",
     "text": [
      "14963it [00:09, 1646.35it/s]\n"
     ]
    },
    {
     "name": "stdout",
     "output_type": "stream",
     "text": [
      "26800\n",
      "137\n",
      "26800 194\n",
      "137\n",
      "123\n",
      "124\n",
      "Json file edited\n"
     ]
    },
    {
     "name": "stderr",
     "output_type": "stream",
     "text": [
      "153it [00:00, 1525.77it/s]"
     ]
    },
    {
     "name": "stdout",
     "output_type": "stream",
     "text": [
      "Parsed ../kickoff-data-corrected/9d1b40c0-efb0-4eb5-9ff4-bd13a55c0820.1.kickoff.rdb in 2.73 s.\n",
      "Contains keys: dict_keys(['left', 'right'])\n",
      "[left] start_ts: 1525712100459 | stop_ts: 1525712697259\n",
      "[right] start_ts: 1525712100409 | stop_ts: 1525712697249\n",
      "../kickoff-data-corrected/9d1b40c0-efb0-4eb5-9ff4-bd13a55c0820.json\n",
      "[{'type': 'start_phase', 'ts': '2018-05-07T16:59:59.329000', 'kickoff_team_id': 6, 'phase': 1}, {'type': 'end_phase', 'ts': '2018-05-07T17:45:00.886Z', 'phase': 1}, {'type': 'start_phase', 'ts': '2018-05-07T18:03:56.609000', 'kickoff_team_id': 6, 'phase': 2}, {'type': 'end_phase', 'ts': '2018-05-07T18:53:43.859Z', 'phase': 2}]\n",
      "1525712399329\n"
     ]
    },
    {
     "name": "stderr",
     "output_type": "stream",
     "text": [
      "14922it [00:06, 2361.69it/s]\n"
     ]
    },
    {
     "name": "stdout",
     "output_type": "stream",
     "text": [
      "26800\n",
      "137\n",
      "26800 195\n",
      "137\n",
      "125\n",
      "126\n",
      "Json file edited\n"
     ]
    },
    {
     "name": "stderr",
     "output_type": "stream",
     "text": [
      "\r",
      "0it [00:00, ?it/s]"
     ]
    },
    {
     "name": "stdout",
     "output_type": "stream",
     "text": [
      "Parsed ../kickoff-data-corrected/4be6ef54-2541-42d0-a334-e513a535029c.2.kickoff.rdb in 2.50 s.\n",
      "Contains keys: dict_keys(['left', 'right'])\n",
      "[left] start_ts: 1523717857062 | stop_ts: 1523718456662\n",
      "[right] start_ts: 1523717857078 | stop_ts: 1523718456678\n",
      "../kickoff-data-corrected/4be6ef54-2541-42d0-a334-e513a535029c.json\n",
      "[{'type': 'start_phase', 'ts': '2018-04-14T14:00:21.598000', 'kickoff_team_id': 16, 'phase': 1}, {'type': 'end_phase', 'ts': '2018-04-14T14:46:37.899Z', 'phase': 1}, {'type': 'start_phase', 'ts': '2018-04-14T15:02:38.518000', 'kickoff_team_id': 5, 'phase': 2}, {'type': 'end_phase', 'ts': '2018-04-14T15:51:35.702Z', 'phase': 2}]\n",
      "1523718158518\n"
     ]
    },
    {
     "name": "stderr",
     "output_type": "stream",
     "text": [
      "14991it [00:06, 2290.31it/s]\n"
     ]
    },
    {
     "name": "stdout",
     "output_type": "stream",
     "text": [
      "26800\n",
      "138\n",
      "26800 196\n",
      "138\n",
      "127\n",
      "128\n",
      "Json file edited\n"
     ]
    },
    {
     "name": "stderr",
     "output_type": "stream",
     "text": [
      "777it [00:00, 4034.13it/s]"
     ]
    },
    {
     "name": "stdout",
     "output_type": "stream",
     "text": [
      "Parsed ../kickoff-data-corrected/536b68b9-507f-408a-9a91-f994667b1d16.1.kickoff.rdb in 2.67 s.\n",
      "Contains keys: dict_keys(['left', 'right'])\n",
      "[left] start_ts: 1526829914271 | stop_ts: 1526830513111\n",
      "[right] start_ts: 1526829914293 | stop_ts: 1526830513133\n",
      "../kickoff-data-corrected/536b68b9-507f-408a-9a91-f994667b1d16.json\n",
      "[{'type': 'start_phase', 'ts': '2018-05-20T15:30:15.853000', 'kickoff_team_id': 8, 'phase': 1}, {'type': 'end_phase', 'ts': '2018-05-20T16:15:14.598Z', 'phase': 1}, {'type': 'start_phase', 'ts': '2018-05-20T16:30:45.173000', 'kickoff_team_id': 5, 'phase': 2}, {'type': 'end_phase', 'ts': '2018-05-20T17:19:46.634Z', 'phase': 2}]\n",
      "1526830215853\n"
     ]
    },
    {
     "name": "stderr",
     "output_type": "stream",
     "text": [
      "14971it [00:06, 2454.63it/s]\n"
     ]
    },
    {
     "name": "stdout",
     "output_type": "stream",
     "text": [
      "26800\n",
      "137\n",
      "26800 195\n",
      "137\n",
      "129\n",
      "130\n",
      "Json file edited\n"
     ]
    },
    {
     "name": "stderr",
     "output_type": "stream",
     "text": [
      "124it [00:00, 1239.31it/s]"
     ]
    },
    {
     "name": "stdout",
     "output_type": "stream",
     "text": [
      "Parsed ../kickoff-data-corrected/a5763b80-c4a7-4b45-9c78-4f1c8f72bf60.1.kickoff.rdb in 2.34 s.\n",
      "Contains keys: dict_keys(['left', 'right'])\n",
      "[left] start_ts: 1525366542119 | stop_ts: 1525367140959\n",
      "[right] start_ts: 1525366542109 | stop_ts: 1525367140949\n",
      "../kickoff-data-corrected/a5763b80-c4a7-4b45-9c78-4f1c8f72bf60.json\n",
      "[{'type': 'start_phase', 'ts': '2018-05-03T17:00:42.629000', 'kickoff_team_id': 8, 'phase': 1}, {'type': 'end_phase', 'ts': '2018-05-03T17:45:43.538Z', 'phase': 1}, {'type': 'start_phase', 'ts': '2018-05-03T18:03:09.789000', 'kickoff_team_id': 11, 'phase': 2}, {'type': 'end_phase', 'ts': '2018-05-03T18:54:18.463Z', 'phase': 2}]\n",
      "1525366842629\n"
     ]
    },
    {
     "name": "stderr",
     "output_type": "stream",
     "text": [
      "14971it [00:07, 1992.27it/s]\n"
     ]
    },
    {
     "name": "stdout",
     "output_type": "stream",
     "text": [
      "26800\n",
      "137\n",
      "26800 195\n",
      "137\n",
      "131\n",
      "132\n",
      "Json file edited\n",
      "Parsed ../kickoff-data-corrected/e4a4d658-8d02-4336-9fa6-b0b1dfcc95ee.1.kickoff.rdb in 1.41 s.\n",
      "Contains keys: dict_keys(['left', 'right'])\n",
      "[left] start_ts: 1525611307047 | stop_ts: 1525611905607\n",
      "[right] start_ts: 1525611307081 | stop_ts: 1525611905601\n",
      "../kickoff-data-corrected/e4a4d658-8d02-4336-9fa6-b0b1dfcc95ee.json\n",
      "[{'type': 'start_phase', 'ts': '1970-01-01T00:00:00', 'kickoff_team_id': 15, 'phase': 1}, {'type': 'end_phase', 'ts': '2018-05-06T14:10:37.292Z', 'phase': 1}, {'type': 'start_phase', 'ts': '1970-01-01T00:00:00', 'kickoff_team_id': 11, 'phase': 2}, {'type': 'end_phase', 'ts': '2018-05-06T15:14:11.682Z', 'phase': 2}]\n",
      "0\n",
      "Json file edited\n"
     ]
    },
    {
     "name": "stderr",
     "output_type": "stream",
     "text": [
      "834it [00:00, 4323.26it/s]"
     ]
    },
    {
     "name": "stdout",
     "output_type": "stream",
     "text": [
      "Parsed ../kickoff-data-corrected/3c7f617c-c839-4e5a-9e80-52017fa85d93.1.kickoff.rdb in 2.75 s.\n",
      "Contains keys: dict_keys(['left', 'right'])\n",
      "[left] start_ts: 1525006516949 | stop_ts: 1525007115789\n",
      "[right] start_ts: 1525006516933 | stop_ts: 1525007115773\n",
      "../kickoff-data-corrected/3c7f617c-c839-4e5a-9e80-52017fa85d93.json\n",
      "[{'type': 'start_phase', 'ts': '2018-04-29T13:00:17.173000', 'kickoff_team_id': 3, 'phase': 1}, {'type': 'end_phase', 'ts': '2018-04-29T13:46:17.178Z', 'phase': 1}, {'type': 'start_phase', 'ts': '2018-04-29T14:02:04.413000', 'kickoff_team_id': 7, 'phase': 2}, {'type': 'end_phase', 'ts': '2018-04-29T14:51:28.061Z', 'phase': 2}]\n",
      "1525006817173\n"
     ]
    },
    {
     "name": "stderr",
     "output_type": "stream",
     "text": [
      "14972it [00:07, 2094.79it/s]\n"
     ]
    },
    {
     "name": "stdout",
     "output_type": "stream",
     "text": [
      "26800\n",
      "137\n",
      "26800 195\n",
      "137\n",
      "133\n",
      "134\n",
      "Json file edited\n"
     ]
    },
    {
     "name": "stderr",
     "output_type": "stream",
     "text": [
      "442it [00:00, 2191.90it/s]"
     ]
    },
    {
     "name": "stdout",
     "output_type": "stream",
     "text": [
      "Parsed ../kickoff-data-corrected/c0b1883d-4420-48aa-9805-9318a20e56ae.2.kickoff.rdb in 2.85 s.\n",
      "Contains keys: dict_keys(['left', 'right'])\n",
      "[left] start_ts: 1527353785251 | stop_ts: 1527354385091\n",
      "[right] start_ts: 1527353785285 | stop_ts: 1527354385085\n",
      "../kickoff-data-corrected/c0b1883d-4420-48aa-9805-9318a20e56ae.json\n",
      "[{'type': 'start_phase', 'ts': '2018-05-26T16:00:04.565000', 'kickoff_team_id': 5, 'phase': 1}, {'type': 'end_phase', 'ts': '2018-05-26T16:46:00.357Z', 'phase': 1}, {'type': 'start_phase', 'ts': '2018-05-26T17:01:27.885000', 'kickoff_team_id': 13, 'phase': 2}, {'type': 'end_phase', 'ts': '2018-05-26T17:49:27.835Z', 'phase': 2}]\n",
      "1527354087885\n"
     ]
    },
    {
     "name": "stderr",
     "output_type": "stream",
     "text": [
      "14997it [00:06, 2318.45it/s]\n"
     ]
    },
    {
     "name": "stdout",
     "output_type": "stream",
     "text": [
      "26800\n",
      "137\n",
      "26800 195\n",
      "137\n",
      "135\n",
      "136\n",
      "Json file edited\n"
     ]
    },
    {
     "name": "stderr",
     "output_type": "stream",
     "text": [
      "478it [00:00, 4769.23it/s]"
     ]
    },
    {
     "name": "stdout",
     "output_type": "stream",
     "text": [
      "Parsed ../kickoff-data-corrected/70593a9a-5258-4f89-a402-b555c8ee3514.2.kickoff.rdb in 2.56 s.\n",
      "Contains keys: dict_keys(['left', 'right'])\n",
      "[left] start_ts: 1525525129257 | stop_ts: 1525525729057\n",
      "[right] start_ts: 1525525129235 | stop_ts: 1525525729035\n",
      "../kickoff-data-corrected/70593a9a-5258-4f89-a402-b555c8ee3514.json\n",
      "[{'type': 'start_phase', 'ts': '2018-05-05T12:00:48.555000', 'kickoff_team_id': 3, 'phase': 1}, {'type': 'end_phase', 'ts': '2018-05-05T12:47:24.013Z', 'phase': 1}, {'type': 'start_phase', 'ts': '2018-05-05T13:03:50.875000', 'kickoff_team_id': 2, 'phase': 2}, {'type': 'end_phase', 'ts': '2018-05-05T13:51:49.753Z', 'phase': 2}]\n",
      "1525525430875\n"
     ]
    },
    {
     "name": "stderr",
     "output_type": "stream",
     "text": [
      "14996it [00:06, 2496.36it/s]\n"
     ]
    },
    {
     "name": "stdout",
     "output_type": "stream",
     "text": [
      "26800\n",
      "137\n",
      "26800 195\n",
      "137\n",
      "137\n",
      "138\n",
      "Json file edited\n",
      "Parsed ../kickoff-data-corrected/47ed3e3a-56d1-4eb1-b5d3-9e5f9658fda7.1.kickoff.rdb in 3.48 s.\n",
      "Contains keys: dict_keys(['left', 'right'])\n",
      "[left] start_ts: 1526316926287 | stop_ts: 1526317525167\n",
      "[right] start_ts: 1526316926243 | stop_ts: 1526317525163\n",
      "../kickoff-data-corrected/47ed3e3a-56d1-4eb1-b5d3-9e5f9658fda7.json\n",
      "[{'type': 'start_phase', 'ts': '1970-01-01T00:00:00', 'kickoff_team_id': 10, 'phase': 1}, {'type': 'end_phase', 'ts': '2018-05-14T17:46:28.806Z', 'phase': 1}, {'type': 'start_phase', 'ts': '1970-01-01T00:00:00', 'kickoff_team_id': 13, 'phase': 2}, {'type': 'end_phase', 'ts': '2018-05-14T18:49:37.209Z', 'phase': 2}]\n",
      "0\n",
      "Json file edited\n"
     ]
    },
    {
     "name": "stderr",
     "output_type": "stream",
     "text": [
      "288it [00:00, 2875.38it/s]"
     ]
    },
    {
     "name": "stdout",
     "output_type": "stream",
     "text": [
      "Parsed ../kickoff-data-corrected/e773ac8c-dd65-419c-a734-3bd077a165b6.2.kickoff.rdb in 1.73 s.\n",
      "Contains keys: dict_keys(['left', 'right'])\n",
      "[left] start_ts: 1524506128932 | stop_ts: 1524506727732\n",
      "[right] start_ts: 1524506129560 | stop_ts: 1524506728040\n",
      "../kickoff-data-corrected/e773ac8c-dd65-419c-a734-3bd077a165b6.json\n",
      "[{'type': 'start_phase', 'ts': '2018-04-23T17:00:06.520000', 'kickoff_team_id': 15, 'phase': 1}, {'type': 'end_phase', 'ts': '2018-04-23T17:45:08.015Z', 'phase': 1}, {'type': 'start_phase', 'ts': '2018-04-23T18:00:29.680000', 'kickoff_team_id': 8, 'phase': 2}, {'type': 'end_phase', 'ts': '2018-04-23T18:49:31.614Z', 'phase': 2}]\n",
      "1524506429680\n"
     ]
    },
    {
     "name": "stderr",
     "output_type": "stream",
     "text": [
      "14964it [00:06, 2278.28it/s]\n"
     ]
    },
    {
     "name": "stdout",
     "output_type": "stream",
     "text": [
      "26800\n",
      "136\n",
      "26800 194\n",
      "136\n",
      "139\n",
      "140\n",
      "Json file edited\n"
     ]
    },
    {
     "name": "stderr",
     "output_type": "stream",
     "text": [
      "480it [00:00, 2366.78it/s]"
     ]
    },
    {
     "name": "stdout",
     "output_type": "stream",
     "text": [
      "Parsed ../kickoff-data-corrected/27bea627-3caa-47ee-93c3-67f0e26f3034.1.kickoff.rdb in 2.80 s.\n",
      "Contains keys: dict_keys(['left', 'right'])\n",
      "[left] start_ts: 1523796958381 | stop_ts: 1523797557661\n",
      "[right] start_ts: 1523796957851 | stop_ts: 1523797557411\n",
      "../kickoff-data-corrected/27bea627-3caa-47ee-93c3-67f0e26f3034.json\n",
      "[{'type': 'start_phase', 'ts': '2018-04-15T13:00:59.341000', 'kickoff_team_id': 4, 'phase': 1}, {'type': 'end_phase', 'ts': '2018-04-15T13:46:01.064Z', 'phase': 1}, {'type': 'start_phase', 'ts': '2018-04-15T14:01:55.381000', 'kickoff_team_id': 9, 'phase': 2}, {'type': 'end_phase', 'ts': '2018-04-15T14:50:42.654Z', 'phase': 2}]\n",
      "1523797259341\n"
     ]
    },
    {
     "name": "stderr",
     "output_type": "stream",
     "text": [
      "14984it [00:07, 1956.29it/s]\n"
     ]
    },
    {
     "name": "stdout",
     "output_type": "stream",
     "text": [
      "26800\n",
      "137\n",
      "26800 195\n",
      "137\n",
      "141\n",
      "142\n",
      "Json file edited\n"
     ]
    },
    {
     "name": "stderr",
     "output_type": "stream",
     "text": [
      "264it [00:00, 2633.98it/s]"
     ]
    },
    {
     "name": "stdout",
     "output_type": "stream",
     "text": [
      "Parsed ../kickoff-data-corrected/916abbb2-57b9-4700-8cc5-3fc01de1a6f8.2.kickoff.rdb in 1.89 s.\n",
      "Contains keys: dict_keys(['left', 'right'])\n",
      "[left] start_ts: 1526749078219 | stop_ts: 1526749675059\n",
      "[right] start_ts: 1526749078339 | stop_ts: 1526749675139\n",
      "../kickoff-data-corrected/916abbb2-57b9-4700-8cc5-3fc01de1a6f8.json\n",
      "[{'type': 'start_phase', 'ts': '1970-01-01T00:00:00', 'kickoff_team_id': 16, 'phase': 1}, {'type': 'end_phase', 'ts': '2018-05-19T16:46:01.609Z', 'phase': 1}, {'type': 'start_phase', 'ts': '2018-05-19T17:02:56.859000', 'kickoff_team_id': 4, 'phase': 2}, {'type': 'end_phase', 'ts': '2018-05-19T17:51:06.302Z', 'phase': 2}]\n",
      "1526749376859\n"
     ]
    },
    {
     "name": "stderr",
     "output_type": "stream",
     "text": [
      "14920it [00:06, 2483.99it/s]\n"
     ]
    },
    {
     "name": "stdout",
     "output_type": "stream",
     "text": [
      "26800\n",
      "137\n",
      "26800 195\n",
      "137\n",
      "143\n",
      "144\n",
      "Json file edited\n"
     ]
    },
    {
     "name": "stderr",
     "output_type": "stream",
     "text": [
      "570it [00:00, 2743.97it/s]"
     ]
    },
    {
     "name": "stdout",
     "output_type": "stream",
     "text": [
      "Parsed ../kickoff-data-corrected/a01d4b8a-cffb-4778-99c6-d0a53016e129.2.kickoff.rdb in 2.65 s.\n",
      "Contains keys: dict_keys(['left', 'right'])\n",
      "[left] start_ts: 1526493574965 | stop_ts: 1526494171805\n",
      "[right] start_ts: 1526493574965 | stop_ts: 1526494171805\n",
      "../kickoff-data-corrected/a01d4b8a-cffb-4778-99c6-d0a53016e129.json\n",
      "[{'type': 'start_phase', 'ts': '2018-05-16T17:02:10.605000', 'kickoff_team_id': 2, 'phase': 1}, {'type': 'end_phase', 'ts': '2018-05-16T17:48:11.998Z', 'phase': 1}, {'type': 'start_phase', 'ts': '2018-05-16T18:04:33.725000', 'kickoff_team_id': 8, 'phase': 2}, {'type': 'end_phase', 'ts': '2018-05-16T18:53:55.743Z', 'phase': 2}]\n",
      "1526493873725\n"
     ]
    },
    {
     "name": "stderr",
     "output_type": "stream",
     "text": [
      "14922it [00:06, 2154.24it/s]\n"
     ]
    },
    {
     "name": "stdout",
     "output_type": "stream",
     "text": [
      "26800\n",
      "137\n",
      "26800 195\n",
      "137\n",
      "145\n",
      "146\n",
      "Json file edited\n"
     ]
    },
    {
     "name": "stderr",
     "output_type": "stream",
     "text": [
      "346it [00:00, 1765.18it/s]"
     ]
    },
    {
     "name": "stdout",
     "output_type": "stream",
     "text": [
      "Parsed ../kickoff-data-corrected/e0646790-9750-47eb-85ac-a7065fbcd4dd.1.kickoff.rdb in 3.17 s.\n",
      "Contains keys: dict_keys(['left', 'right'])\n",
      "[left] start_ts: 1524410694448 | stop_ts: 1524411291608\n",
      "[right] start_ts: 1524410693864 | stop_ts: 1524411291304\n",
      "../kickoff-data-corrected/e0646790-9750-47eb-85ac-a7065fbcd4dd.json\n",
      "[{'type': 'start_phase', 'ts': '2018-04-22T15:29:53.064000', 'kickoff_team_id': 6, 'phase': 1}, {'type': 'end_phase', 'ts': '2018-04-22T16:18:51.239Z', 'phase': 1}, {'type': 'start_phase', 'ts': '2018-04-22T16:34:36.848000', 'kickoff_team_id': 10, 'phase': 2}, {'type': 'end_phase', 'ts': '2018-04-22T17:22:35.491Z', 'phase': 2}]\n",
      "1524410993064\n"
     ]
    },
    {
     "name": "stderr",
     "output_type": "stream",
     "text": [
      "14930it [00:07, 1887.59it/s]\n"
     ]
    },
    {
     "name": "stdout",
     "output_type": "stream",
     "text": [
      "26800\n",
      "137\n",
      "26800 195\n",
      "137\n",
      "147\n",
      "148\n",
      "Json file edited\n"
     ]
    },
    {
     "name": "stderr",
     "output_type": "stream",
     "text": [
      "166it [00:00, 1656.81it/s]"
     ]
    },
    {
     "name": "stdout",
     "output_type": "stream",
     "text": [
      "Parsed ../kickoff-data-corrected/2739587b-312a-4d40-ba1a-9b5e3ebf5c9c.2.kickoff.rdb in 3.02 s.\n",
      "Contains keys: dict_keys(['left', 'right'])\n",
      "[left] start_ts: 1527429626666 | stop_ts: 1527430225466\n",
      "[right] start_ts: 1527429626566 | stop_ts: 1527430225406\n",
      "../kickoff-data-corrected/2739587b-312a-4d40-ba1a-9b5e3ebf5c9c.json\n",
      "[{'type': 'start_phase', 'ts': '2018-05-27T13:00:07.786000', 'kickoff_team_id': 2, 'phase': 1}, {'type': 'end_phase', 'ts': '2018-05-27T13:48:06.407Z', 'phase': 1}, {'type': 'start_phase', 'ts': '2018-05-27T14:05:26.306000', 'kickoff_team_id': 9, 'phase': 2}, {'type': 'end_phase', 'ts': '2018-05-27T14:54:05.123Z', 'phase': 2}]\n",
      "1527429926306\n"
     ]
    },
    {
     "name": "stderr",
     "output_type": "stream",
     "text": [
      "14971it [00:08, 1764.75it/s]\n"
     ]
    },
    {
     "name": "stdout",
     "output_type": "stream",
     "text": [
      "26800\n",
      "137\n",
      "26800 195\n",
      "137\n",
      "149\n",
      "150\n",
      "Json file edited\n"
     ]
    },
    {
     "name": "stderr",
     "output_type": "stream",
     "text": [
      "311it [00:00, 3105.63it/s]"
     ]
    },
    {
     "name": "stdout",
     "output_type": "stream",
     "text": [
      "Parsed ../kickoff-data-corrected/cec6034a-7fbf-483f-8d74-3e24fd6c0bcf.2.kickoff.rdb in 2.44 s.\n",
      "Contains keys: dict_keys(['left', 'right'])\n",
      "[left] start_ts: 1524405375740 | stop_ts: 1524405972540\n",
      "[right] start_ts: 1524405376322 | stop_ts: 1524405972842\n",
      "../kickoff-data-corrected/cec6034a-7fbf-483f-8d74-3e24fd6c0bcf.json\n",
      "[{'type': 'start_phase', 'ts': '2018-04-22T13:00:08.860000', 'kickoff_team_id': 5, 'phase': 1}, {'type': 'end_phase', 'ts': '2018-04-22T13:45:17.115Z', 'phase': 1}, {'type': 'start_phase', 'ts': '2018-04-22T14:01:14.220000', 'kickoff_team_id': 2, 'phase': 2}, {'type': 'end_phase', 'ts': '2018-04-22T14:51:12.617Z', 'phase': 2}]\n",
      "1524405674220\n"
     ]
    },
    {
     "name": "stderr",
     "output_type": "stream",
     "text": [
      "14914it [00:06, 2430.60it/s]\n"
     ]
    },
    {
     "name": "stdout",
     "output_type": "stream",
     "text": [
      "26800\n",
      "137\n",
      "26800 195\n",
      "137\n",
      "151\n",
      "152\n",
      "Json file edited\n"
     ]
    },
    {
     "name": "stderr",
     "output_type": "stream",
     "text": [
      "377it [00:00, 3769.34it/s]"
     ]
    },
    {
     "name": "stdout",
     "output_type": "stream",
     "text": [
      "Parsed ../kickoff-data-corrected/aadecf3a-0d92-4ace-b643-ced44474e157.1.kickoff.rdb in 2.55 s.\n",
      "Contains keys: dict_keys(['left', 'right'])\n",
      "[left] start_ts: 1524156903139 | stop_ts: 1524157501179\n",
      "[right] start_ts: 1524156903665 | stop_ts: 1524157501465\n",
      "../kickoff-data-corrected/aadecf3a-0d92-4ace-b643-ced44474e157.json\n",
      "[{'type': 'start_phase', 'ts': '2018-04-19T17:00:03.859000', 'kickoff_team_id': 15, 'phase': 1}, {'type': 'end_phase', 'ts': '2018-04-19T17:46:04.420Z', 'phase': 1}, {'type': 'start_phase', 'ts': '1970-01-01T00:00:00', 'kickoff_team_id': 7, 'phase': 2}, {'type': 'end_phase', 'ts': '2018-04-19T18:49:42.844Z', 'phase': 2}]\n",
      "1524157203859\n"
     ]
    },
    {
     "name": "stderr",
     "output_type": "stream",
     "text": [
      "14945it [00:05, 2542.47it/s]\n"
     ]
    },
    {
     "name": "stdout",
     "output_type": "stream",
     "text": [
      "26800\n",
      "136\n",
      "26800 193\n",
      "136\n",
      "153\n",
      "154\n",
      "Json file edited\n"
     ]
    },
    {
     "name": "stderr",
     "output_type": "stream",
     "text": [
      "653it [00:00, 3220.39it/s]"
     ]
    },
    {
     "name": "stdout",
     "output_type": "stream",
     "text": [
      "Parsed ../kickoff-data-corrected/4501652f-d7e6-4e3e-9ad2-e01198278688.2.kickoff.rdb in 2.07 s.\n",
      "Contains keys: dict_keys(['left', 'right'])\n",
      "[left] start_ts: 1526219862518 | stop_ts: 1526220459398\n",
      "[right] start_ts: 1526219862566 | stop_ts: 1526220459406\n",
      "../kickoff-data-corrected/4501652f-d7e6-4e3e-9ad2-e01198278688.json\n",
      "[{'type': 'start_phase', 'ts': '2018-05-13T13:00:01.726000', 'kickoff_team_id': 6, 'phase': 1}, {'type': 'end_phase', 'ts': '2018-05-13T13:46:56.480Z', 'phase': 1}, {'type': 'start_phase', 'ts': '2018-05-13T14:02:42.006000', 'kickoff_team_id': 4, 'phase': 2}, {'type': 'end_phase', 'ts': '2018-05-13T14:52:58.982Z', 'phase': 2}]\n",
      "1526220162006\n"
     ]
    },
    {
     "name": "stderr",
     "output_type": "stream",
     "text": [
      "14922it [00:07, 2131.52it/s]\n"
     ]
    },
    {
     "name": "stdout",
     "output_type": "stream",
     "text": [
      "26800\n",
      "137\n",
      "26800 195\n",
      "137\n",
      "155\n",
      "156\n",
      "Json file edited\n"
     ]
    },
    {
     "name": "stderr",
     "output_type": "stream",
     "text": [
      "262it [00:00, 2614.73it/s]"
     ]
    },
    {
     "name": "stdout",
     "output_type": "stream",
     "text": [
      "Parsed ../kickoff-data-corrected/723fa378-2b05-42e0-9631-a05bb1ed5e70.2.kickoff.rdb in 2.00 s.\n",
      "Contains keys: dict_keys(['left', 'right'])\n",
      "[left] start_ts: 1524506177320 | stop_ts: 1524506776600\n",
      "[right] start_ts: 1524506176788 | stop_ts: 1524506776348\n",
      "../kickoff-data-corrected/723fa378-2b05-42e0-9631-a05bb1ed5e70.json\n",
      "[{'type': 'start_phase', 'ts': '1970-01-01T00:00:00', 'kickoff_team_id': 4, 'phase': 1}, {'type': 'end_phase', 'ts': '2018-04-23T17:45:26.980Z', 'phase': 1}, {'type': 'start_phase', 'ts': '2018-04-23T18:01:18.280000', 'kickoff_team_id': 1, 'phase': 2}, {'type': 'end_phase', 'ts': '2018-04-23T18:51:18.989Z', 'phase': 2}]\n",
      "1524506478280\n"
     ]
    },
    {
     "name": "stderr",
     "output_type": "stream",
     "text": [
      "14982it [00:06, 2324.60it/s]\n"
     ]
    },
    {
     "name": "stdout",
     "output_type": "stream",
     "text": [
      "26800\n",
      "137\n",
      "26800 195\n",
      "137\n",
      "157\n",
      "158\n",
      "Json file edited\n"
     ]
    },
    {
     "name": "stderr",
     "output_type": "stream",
     "text": [
      "\r",
      "0it [00:00, ?it/s]"
     ]
    },
    {
     "name": "stdout",
     "output_type": "stream",
     "text": [
      "Parsed ../kickoff-data-corrected/5dcb4696-281c-4bff-9ec7-02322c1b4a67.1.kickoff.rdb in 2.87 s.\n",
      "Contains keys: dict_keys(['left', 'right'])\n",
      "[left] start_ts: 1525015503674 | stop_ts: 1525016102514\n",
      "[right] start_ts: 1525015503710 | stop_ts: 1525016102510\n",
      "../kickoff-data-corrected/5dcb4696-281c-4bff-9ec7-02322c1b4a67.json\n",
      "[{'type': 'start_phase', 'ts': '2018-04-29T15:30:04.870000', 'kickoff_team_id': 14, 'phase': 1}, {'type': 'end_phase', 'ts': '2018-04-29T16:17:03.667Z', 'phase': 1}, {'type': 'start_phase', 'ts': '1970-01-01T00:00:00', 'kickoff_team_id': 4, 'phase': 2}, {'type': 'end_phase', 'ts': '2018-04-29T17:24:05.565Z', 'phase': 2}]\n",
      "1525015804870\n"
     ]
    },
    {
     "name": "stderr",
     "output_type": "stream",
     "text": [
      "14971it [00:08, 1763.84it/s]\n"
     ]
    },
    {
     "name": "stdout",
     "output_type": "stream",
     "text": [
      "26800\n",
      "137\n",
      "26800 195\n",
      "137\n",
      "159\n",
      "160\n",
      "Json file edited\n"
     ]
    },
    {
     "name": "stderr",
     "output_type": "stream",
     "text": [
      "182it [00:00, 1817.58it/s]"
     ]
    },
    {
     "name": "stdout",
     "output_type": "stream",
     "text": [
      "Parsed ../kickoff-data-corrected/9acafc14-55f4-499e-90d9-4db2f121801b.1.kickoff.rdb in 2.60 s.\n",
      "Contains keys: dict_keys(['left', 'right'])\n",
      "[left] start_ts: 1526226036499 | stop_ts: 1526226634379\n",
      "[right] start_ts: 1526226036455 | stop_ts: 1526226634335\n",
      "../kickoff-data-corrected/9acafc14-55f4-499e-90d9-4db2f121801b.json\n",
      "[{'type': 'start_phase', 'ts': '2018-05-13T15:45:36.695000', 'kickoff_team_id': 12, 'phase': 1}, {'type': 'end_phase', 'ts': '2018-05-13T16:33:39.123Z', 'phase': 1}, {'type': 'start_phase', 'ts': '2018-05-13T16:49:39.615000', 'kickoff_team_id': 2, 'phase': 2}, {'type': 'end_phase', 'ts': '2018-05-13T17:39:37.349Z', 'phase': 2}]\n",
      "1526226336695\n"
     ]
    },
    {
     "name": "stderr",
     "output_type": "stream",
     "text": [
      "14948it [00:08, 1721.08it/s]\n"
     ]
    },
    {
     "name": "stdout",
     "output_type": "stream",
     "text": [
      "26800\n",
      "137\n",
      "26800 195\n",
      "137\n",
      "161\n",
      "162\n",
      "Json file edited\n"
     ]
    },
    {
     "name": "stderr",
     "output_type": "stream",
     "text": [
      "354it [00:00, 3537.41it/s]"
     ]
    },
    {
     "name": "stdout",
     "output_type": "stream",
     "text": [
      "Parsed ../kickoff-data-corrected/e40014f3-5c63-4869-94af-75c4e0547de4.2.kickoff.rdb in 1.75 s.\n",
      "Contains keys: dict_keys(['left', 'right'])\n",
      "[left] start_ts: 1527098223718 | stop_ts: 1527098822558\n",
      "[right] start_ts: 1527098223764 | stop_ts: 1527098822564\n",
      "../kickoff-data-corrected/e40014f3-5c63-4869-94af-75c4e0547de4.json\n",
      "[{'type': 'start_phase', 'ts': '2018-05-23T17:00:04.764000', 'kickoff_team_id': 4, 'phase': 1}, {'type': 'end_phase', 'ts': '2018-05-23T17:45:05.284Z', 'phase': 1}, {'type': 'start_phase', 'ts': '2018-05-23T18:02:04.404000', 'kickoff_team_id': 3, 'phase': 2}, {'type': 'end_phase', 'ts': '2018-05-23T18:51:09.847Z', 'phase': 2}]\n",
      "1527098524404\n"
     ]
    },
    {
     "name": "stderr",
     "output_type": "stream",
     "text": [
      "14946it [00:05, 2560.70it/s]\n"
     ]
    },
    {
     "name": "stdout",
     "output_type": "stream",
     "text": [
      "26800\n",
      "137\n",
      "26800 194\n",
      "137\n",
      "163\n",
      "164\n",
      "Json file edited\n"
     ]
    },
    {
     "name": "stderr",
     "output_type": "stream",
     "text": [
      "130it [00:00, 1290.96it/s]"
     ]
    },
    {
     "name": "stdout",
     "output_type": "stream",
     "text": [
      "Parsed ../kickoff-data-corrected/e773ac8c-dd65-419c-a734-3bd077a165b6.1.kickoff.rdb in 2.43 s.\n",
      "Contains keys: dict_keys(['left', 'right'])\n",
      "[left] start_ts: 1524502504892 | stop_ts: 1524503104732\n",
      "[right] start_ts: 1524502505560 | stop_ts: 1524503105040\n",
      "../kickoff-data-corrected/e773ac8c-dd65-419c-a734-3bd077a165b6.json\n",
      "[{'type': 'start_phase', 'ts': '2018-04-23T17:00:06.520000', 'kickoff_team_id': 15, 'phase': 1}, {'type': 'end_phase', 'ts': '2018-04-23T17:45:08.015Z', 'phase': 1}, {'type': 'start_phase', 'ts': '2018-04-23T18:00:29.680000', 'kickoff_team_id': 8, 'phase': 2}, {'type': 'end_phase', 'ts': '2018-04-23T18:49:31.614Z', 'phase': 2}]\n",
      "1524502806520\n"
     ]
    },
    {
     "name": "stderr",
     "output_type": "stream",
     "text": [
      "14988it [00:07, 2045.43it/s]\n"
     ]
    },
    {
     "name": "stdout",
     "output_type": "stream",
     "text": [
      "26800\n",
      "136\n",
      "26800 194\n",
      "136\n",
      "165\n",
      "166\n",
      "Json file edited\n"
     ]
    },
    {
     "name": "stderr",
     "output_type": "stream",
     "text": [
      "\r",
      "0it [00:00, ?it/s]"
     ]
    },
    {
     "name": "stdout",
     "output_type": "stream",
     "text": [
      "Parsed ../kickoff-data-corrected/66b6caf7-e5c0-45dd-874f-de8ac2e3c9ff.2.kickoff.rdb in 1.70 s.\n",
      "Contains keys: dict_keys(['left', 'right'])\n",
      "[left] start_ts: 1526925412782 | stop_ts: 1526926012662\n",
      "[right] start_ts: 1526925412770 | stop_ts: 1526926012650\n",
      "../kickoff-data-corrected/66b6caf7-e5c0-45dd-874f-de8ac2e3c9ff.json\n",
      "[{'type': 'start_phase', 'ts': '2018-05-21T17:00:10.970000', 'kickoff_team_id': 6, 'phase': 1}, {'type': 'end_phase', 'ts': '2018-05-21T17:46:11.855Z', 'phase': 1}, {'type': 'start_phase', 'ts': '2018-05-21T18:01:54.690000', 'kickoff_team_id': 7, 'phase': 2}, {'type': 'end_phase', 'ts': '2018-05-21T18:51:25.546Z', 'phase': 2}]\n",
      "1526925714690\n"
     ]
    },
    {
     "name": "stderr",
     "output_type": "stream",
     "text": [
      "14997it [00:05, 2506.77it/s]\n"
     ]
    },
    {
     "name": "stdout",
     "output_type": "stream",
     "text": [
      "26800\n",
      "138\n",
      "26800 196\n",
      "138\n",
      "167\n",
      "168\n",
      "Json file edited\n"
     ]
    },
    {
     "name": "stderr",
     "output_type": "stream",
     "text": [
      "641it [00:00, 3156.65it/s]"
     ]
    },
    {
     "name": "stdout",
     "output_type": "stream",
     "text": [
      "Parsed ../kickoff-data-corrected/bff5f37c-be85-4f08-b6d4-a01e6c22fe0e.2.kickoff.rdb in 1.82 s.\n",
      "Contains keys: dict_keys(['left', 'right'])\n",
      "[left] start_ts: 1523987756393 | stop_ts: 1523988353873\n",
      "[right] start_ts: 1523987755569 | stop_ts: 1523988353449\n",
      "../kickoff-data-corrected/bff5f37c-be85-4f08-b6d4-a01e6c22fe0e.json\n",
      "[{'type': 'start_phase', 'ts': '2018-04-17T17:00:48.769000', 'kickoff_team_id': 14, 'phase': 1}, {'type': 'end_phase', 'ts': '2018-04-17T17:45:52.314Z', 'phase': 1}, {'type': 'start_phase', 'ts': '2018-04-17T18:00:54.313000', 'kickoff_team_id': 3, 'phase': 2}, {'type': 'end_phase', 'ts': '2018-04-17T18:51:00.072Z', 'phase': 2}]\n",
      "1523988054313\n"
     ]
    },
    {
     "name": "stderr",
     "output_type": "stream",
     "text": [
      "14938it [00:06, 2246.55it/s]\n"
     ]
    },
    {
     "name": "stdout",
     "output_type": "stream",
     "text": [
      "26800\n",
      "136\n",
      "26800 194\n",
      "136\n",
      "169\n",
      "170\n",
      "Json file edited\n"
     ]
    },
    {
     "name": "stderr",
     "output_type": "stream",
     "text": [
      "433it [00:00, 2141.62it/s]"
     ]
    },
    {
     "name": "stdout",
     "output_type": "stream",
     "text": [
      "Parsed ../kickoff-data-corrected/a5763b80-c4a7-4b45-9c78-4f1c8f72bf60.2.kickoff.rdb in 1.83 s.\n",
      "Contains keys: dict_keys(['left', 'right'])\n",
      "[left] start_ts: 1525370290159 | stop_ts: 1525370887959\n",
      "[right] start_ts: 1525370290109 | stop_ts: 1525370887949\n",
      "../kickoff-data-corrected/a5763b80-c4a7-4b45-9c78-4f1c8f72bf60.json\n",
      "[{'type': 'start_phase', 'ts': '2018-05-03T17:00:42.629000', 'kickoff_team_id': 8, 'phase': 1}, {'type': 'end_phase', 'ts': '2018-05-03T17:45:43.538Z', 'phase': 1}, {'type': 'start_phase', 'ts': '2018-05-03T18:03:09.789000', 'kickoff_team_id': 11, 'phase': 2}, {'type': 'end_phase', 'ts': '2018-05-03T18:54:18.463Z', 'phase': 2}]\n",
      "1525370589789\n"
     ]
    },
    {
     "name": "stderr",
     "output_type": "stream",
     "text": [
      "14946it [00:07, 2109.13it/s]\n"
     ]
    },
    {
     "name": "stdout",
     "output_type": "stream",
     "text": [
      "26800\n",
      "137\n",
      "26800 195\n",
      "137\n",
      "171\n",
      "172\n",
      "Json file edited\n"
     ]
    },
    {
     "name": "stderr",
     "output_type": "stream",
     "text": [
      "317it [00:00, 3163.43it/s]"
     ]
    },
    {
     "name": "stdout",
     "output_type": "stream",
     "text": [
      "Parsed ../kickoff-data-corrected/a185c6c8-7383-4d19-927f-dc8f70726c34.2.kickoff.rdb in 1.64 s.\n",
      "Contains keys: dict_keys(['left', 'right'])\n",
      "[left] start_ts: 1523901471243 | stop_ts: 1523902070043\n",
      "[right] start_ts: 1523901471657 | stop_ts: 1523902070297\n",
      "../kickoff-data-corrected/a185c6c8-7383-4d19-927f-dc8f70726c34.json\n",
      "[{'type': 'start_phase', 'ts': '2018-04-16T17:01:37.097000', 'kickoff_team_id': 15, 'phase': 1}, {'type': 'end_phase', 'ts': '2018-04-16T17:46:39.313Z', 'phase': 1}, {'type': 'start_phase', 'ts': '2018-04-16T18:02:51.643000', 'kickoff_team_id': 2, 'phase': 2}, {'type': 'end_phase', 'ts': '2018-04-16T18:49:49.424Z', 'phase': 2}]\n",
      "1523901771643\n"
     ]
    },
    {
     "name": "stderr",
     "output_type": "stream",
     "text": [
      "14967it [00:05, 2506.50it/s]\n"
     ]
    },
    {
     "name": "stdout",
     "output_type": "stream",
     "text": [
      "26800\n",
      "136\n",
      "26800 194\n",
      "136\n",
      "173\n",
      "174\n",
      "Json file edited\n",
      "Parsed ../kickoff-data-corrected/e4a4d658-8d02-4336-9fa6-b0b1dfcc95ee.2.kickoff.rdb in 1.55 s.\n",
      "Contains keys: dict_keys(['left', 'right'])\n",
      "[left] start_ts: 1525616443047 | stop_ts: 1525617042607\n",
      "[right] start_ts: 1525616443081 | stop_ts: 1525617042601\n",
      "../kickoff-data-corrected/e4a4d658-8d02-4336-9fa6-b0b1dfcc95ee.json\n",
      "[{'type': 'start_phase', 'ts': '1970-01-01T00:00:00', 'kickoff_team_id': 15, 'phase': 1}, {'type': 'end_phase', 'ts': '2018-05-06T14:10:37.292Z', 'phase': 1}, {'type': 'start_phase', 'ts': '1970-01-01T00:00:00', 'kickoff_team_id': 11, 'phase': 2}, {'type': 'end_phase', 'ts': '2018-05-06T15:14:11.682Z', 'phase': 2}]\n",
      "0\n",
      "Json file edited\n"
     ]
    },
    {
     "name": "stderr",
     "output_type": "stream",
     "text": [
      "574it [00:00, 2790.19it/s]"
     ]
    },
    {
     "name": "stdout",
     "output_type": "stream",
     "text": [
      "Parsed ../kickoff-data-corrected/9e627901-09e2-4c84-bf77-6f0ec289fa5f.1.kickoff.rdb in 1.96 s.\n",
      "Contains keys: dict_keys(['left', 'right'])\n",
      "[left] start_ts: 1522682846069 | stop_ts: 1522683445869\n",
      "[right] start_ts: 1522682845973 | stop_ts: 1522683445853\n",
      "../kickoff-data-corrected/9e627901-09e2-4c84-bf77-6f0ec289fa5f.json\n",
      "[{'type': 'start_phase', 'ts': '2018-04-02T15:32:26.973000', 'kickoff_team_id': 7, 'phase': 1}, {'type': 'end_phase', 'ts': '2018-04-02T16:17:34.362Z', 'phase': 1}, {'type': 'start_phase', 'ts': '2018-04-02T16:33:32.893000', 'kickoff_team_id': 8, 'phase': 2}, {'type': 'end_phase', 'ts': '2018-04-02T17:22:39.373Z', 'phase': 2}]\n",
      "1522683146973\n"
     ]
    },
    {
     "name": "stderr",
     "output_type": "stream",
     "text": [
      "14997it [00:05, 2574.93it/s]\n"
     ]
    },
    {
     "name": "stdout",
     "output_type": "stream",
     "text": [
      "26800\n",
      "137\n",
      "26800 195\n",
      "137\n",
      "175\n",
      "176\n",
      "Json file edited\n"
     ]
    },
    {
     "name": "stderr",
     "output_type": "stream",
     "text": [
      "566it [00:00, 5657.73it/s]"
     ]
    },
    {
     "name": "stdout",
     "output_type": "stream",
     "text": [
      "Parsed ../kickoff-data-corrected/050a1fae-5d48-4048-8f66-a3f12eca843d.2.kickoff.rdb in 1.67 s.\n",
      "Contains keys: dict_keys(['left', 'right'])\n",
      "[left] start_ts: 1526228825102 | stop_ts: 1526229422022\n",
      "[right] start_ts: 1526228825172 | stop_ts: 1526229422052\n",
      "../kickoff-data-corrected/050a1fae-5d48-4048-8f66-a3f12eca843d.json\n",
      "[{'type': 'start_phase', 'ts': '2018-05-13T15:30:01.862000', 'kickoff_team_id': 14, 'phase': 1}, {'type': 'end_phase', 'ts': '2018-05-13T16:16:59.553Z', 'phase': 1}, {'type': 'start_phase', 'ts': '2018-05-13T16:32:03.932000', 'kickoff_team_id': 8, 'phase': 2}, {'type': 'end_phase', 'ts': '2018-05-13T17:20:33.812Z', 'phase': 2}]\n",
      "1526229123932\n"
     ]
    },
    {
     "name": "stderr",
     "output_type": "stream",
     "text": [
      "14922it [00:05, 2770.93it/s]\n"
     ]
    },
    {
     "name": "stdout",
     "output_type": "stream",
     "text": [
      "26800\n",
      "137\n",
      "26800 195\n",
      "137\n",
      "177\n",
      "178\n",
      "Json file edited\n"
     ]
    },
    {
     "name": "stderr",
     "output_type": "stream",
     "text": [
      "748it [00:00, 3849.17it/s]"
     ]
    },
    {
     "name": "stdout",
     "output_type": "stream",
     "text": [
      "Parsed ../kickoff-data-corrected/4176c56a-b0df-4e64-aaeb-09150829ba15.1.kickoff.rdb in 2.08 s.\n",
      "Contains keys: dict_keys(['left', 'right'])\n",
      "[left] start_ts: 1526738122412 | stop_ts: 1526738722252\n",
      "[right] start_ts: 1526738122432 | stop_ts: 1526738722232\n",
      "../kickoff-data-corrected/4176c56a-b0df-4e64-aaeb-09150829ba15.json\n",
      "[{'type': 'start_phase', 'ts': '2018-05-19T14:00:24.152000', 'kickoff_team_id': 3, 'phase': 1}, {'type': 'end_phase', 'ts': '2018-05-19T14:48:34.080Z', 'phase': 1}, {'type': 'start_phase', 'ts': '2018-05-19T15:04:52.912000', 'kickoff_team_id': 13, 'phase': 2}, {'type': 'end_phase', 'ts': '2018-05-19T15:53:26.441Z', 'phase': 2}]\n",
      "1526738424152\n"
     ]
    },
    {
     "name": "stderr",
     "output_type": "stream",
     "text": [
      "14996it [00:07, 2040.25it/s]\n"
     ]
    },
    {
     "name": "stdout",
     "output_type": "stream",
     "text": [
      "26800\n",
      "137\n",
      "26800 195\n",
      "137\n",
      "179\n",
      "180\n",
      "Json file edited\n",
      "Parsed ../kickoff-data-corrected/4b5dc786-7219-46eb-bc5f-722a77011092.2.kickoff.rdb in 1.69 s.\n",
      "Contains keys: dict_keys(['left', 'right'])\n",
      "[left] start_ts: 1524852013035 | stop_ts: 1524852612915\n",
      "[right] start_ts: 1524852013097 | stop_ts: 1524852612937\n",
      "../kickoff-data-corrected/4b5dc786-7219-46eb-bc5f-722a77011092.json\n",
      "[{'type': 'start_phase', 'ts': '1970-01-01T00:00:00', 'kickoff_team_id': 1, 'phase': 1}, {'type': 'end_phase', 'ts': '2018-04-27T17:48:39.186Z', 'phase': 1}, {'type': 'start_phase', 'ts': '1970-01-01T00:00:00', 'kickoff_team_id': 10, 'phase': 2}, {'type': 'end_phase', 'ts': '2018-04-27T18:53:12.757Z', 'phase': 2}]\n",
      "0\n",
      "Json file edited\n"
     ]
    },
    {
     "name": "stderr",
     "output_type": "stream",
     "text": [
      "992it [00:00, 4822.61it/s]"
     ]
    },
    {
     "name": "stdout",
     "output_type": "stream",
     "text": [
      "Parsed ../kickoff-data-corrected/84e8b33c-d912-495e-9e21-84bdd18e0e04.2.kickoff.rdb in 1.61 s.\n",
      "Contains keys: dict_keys(['left', 'right'])\n",
      "[left] start_ts: 1523642141699 | stop_ts: 1523642740539\n",
      "[right] start_ts: 1523642142209 | stop_ts: 1523642740769\n",
      "../kickoff-data-corrected/84e8b33c-d912-495e-9e21-84bdd18e0e04.json\n",
      "[{'type': 'start_phase', 'ts': '2018-04-13T17:00:01.059000', 'kickoff_team_id': 12, 'phase': 1}, {'type': 'end_phase', 'ts': '2018-04-13T17:45:38.365Z', 'phase': 1}, {'type': 'start_phase', 'ts': '2018-04-13T18:00:41.739000', 'kickoff_team_id': 14, 'phase': 2}, {'type': 'end_phase', 'ts': '2018-04-13T18:47:41.972Z', 'phase': 2}]\n",
      "1523642441739\n"
     ]
    },
    {
     "name": "stderr",
     "output_type": "stream",
     "text": [
      "14965it [00:05, 2874.89it/s]\n"
     ]
    },
    {
     "name": "stdout",
     "output_type": "stream",
     "text": [
      "26800\n",
      "137\n",
      "26800 195\n",
      "137\n",
      "181\n",
      "182\n",
      "Json file edited\n",
      "Parsed ../kickoff-data-corrected/a5857e03-10b8-454a-89fb-c201985b04cb.1.kickoff.rdb in 1.65 s.\n",
      "Contains keys: dict_keys(['left', 'right'])\n",
      "[left] start_ts: 1523379375938 | stop_ts: 1523379974138\n",
      "[right] start_ts: 1523379375326 | stop_ts: 1523379973846\n",
      "../kickoff-data-corrected/a5857e03-10b8-454a-89fb-c201985b04cb.json\n",
      "[{'type': 'start_phase', 'ts': '1970-01-01T00:00:00', 'kickoff_team_id': 6, 'phase': 1}, {'type': 'end_phase', 'ts': '2018-04-10T17:47:16.674Z', 'phase': 1}, {'type': 'start_phase', 'ts': '2018-04-10T18:03:05.406000', 'kickoff_team_id': 2, 'phase': 2}, {'type': 'end_phase', 'ts': '2018-04-10T18:51:05.058Z', 'phase': 2}]\n",
      "0\n",
      "Json file edited\n"
     ]
    },
    {
     "name": "stderr",
     "output_type": "stream",
     "text": [
      "562it [00:00, 2796.92it/s]"
     ]
    },
    {
     "name": "stdout",
     "output_type": "stream",
     "text": [
      "Parsed ../kickoff-data-corrected/2dc12819-d486-4925-a0e2-b8ae9ff1aed5.2.kickoff.rdb in 2.87 s.\n",
      "Contains keys: dict_keys(['left', 'right'])\n",
      "[left] start_ts: 1523196016019 | stop_ts: 1523196614339\n",
      "[right] start_ts: 1523196016735 | stop_ts: 1523196614695\n",
      "../kickoff-data-corrected/2dc12819-d486-4925-a0e2-b8ae9ff1aed5.json\n",
      "[{'type': 'start_phase', 'ts': '2018-04-08T13:03:52.775000', 'kickoff_team_id': 11, 'phase': 1}, {'type': 'end_phase', 'ts': '2018-04-08T13:48:52.077Z', 'phase': 1}, {'type': 'start_phase', 'ts': '2018-04-08T14:05:16.815000', 'kickoff_team_id': 14, 'phase': 2}, {'type': 'end_phase', 'ts': '2018-04-08T14:53:40.200Z', 'phase': 2}]\n",
      "1523196316815\n"
     ]
    },
    {
     "name": "stderr",
     "output_type": "stream",
     "text": [
      "14949it [00:07, 1952.82it/s]\n"
     ]
    },
    {
     "name": "stdout",
     "output_type": "stream",
     "text": [
      "26800\n",
      "136\n",
      "26800 194\n",
      "136\n",
      "183\n",
      "184\n",
      "Json file edited\n"
     ]
    },
    {
     "name": "stderr",
     "output_type": "stream",
     "text": [
      "219it [00:00, 2186.34it/s]"
     ]
    },
    {
     "name": "stdout",
     "output_type": "stream",
     "text": [
      "Parsed ../kickoff-data-corrected/76d4b783-ae63-4c60-815f-6a81beef6451.2.kickoff.rdb in 2.77 s.\n",
      "Contains keys: dict_keys(['left', 'right'])\n",
      "[left] start_ts: 1523113078596 | stop_ts: 1523113675116\n",
      "[right] start_ts: 1523113078628 | stop_ts: 1523113675148\n",
      "../kickoff-data-corrected/76d4b783-ae63-4c60-815f-6a81beef6451.json\n",
      "[{'type': 'start_phase', 'ts': '2018-04-07T14:02:24.428000', 'kickoff_team_id': 12, 'phase': 1}, {'type': 'end_phase', 'ts': '2018-04-07T14:47:22.773Z', 'phase': 1}, {'type': 'start_phase', 'ts': '2018-04-07T15:02:59.828000', 'kickoff_team_id': 4, 'phase': 2}, {'type': 'end_phase', 'ts': '2018-04-07T15:50:52.908Z', 'phase': 2}]\n",
      "1523113379828\n"
     ]
    },
    {
     "name": "stderr",
     "output_type": "stream",
     "text": [
      "14913it [00:07, 2009.55it/s]\n"
     ]
    },
    {
     "name": "stdout",
     "output_type": "stream",
     "text": [
      "26800\n",
      "137\n",
      "26800 194\n",
      "137\n",
      "185\n",
      "186\n",
      "Json file edited\n",
      "Parsed ../kickoff-data-corrected/cbcca433-ff77-4927-a5a3-36ff293c12fd.1.kickoff.rdb in 1.56 s.\n",
      "Contains keys: dict_keys(['left', 'right'])\n",
      "[left] start_ts: 1523292948088 | stop_ts: 1523293544248\n",
      "[right] start_ts: 1523292936370 | stop_ts: 1523293534370\n",
      "../kickoff-data-corrected/cbcca433-ff77-4927-a5a3-36ff293c12fd.json\n",
      "[{'type': 'start_phase', 'ts': '1970-01-01T00:00:00', 'kickoff_team_id': 15, 'phase': 1}, {'type': 'end_phase', 'ts': '2018-04-09T17:47:46.113Z', 'phase': 1}, {'type': 'start_phase', 'ts': '2018-04-09T18:04:20.408000', 'kickoff_team_id': 5, 'phase': 2}, {'type': 'end_phase', 'ts': '2018-04-09T18:53:12.188Z', 'phase': 2}]\n",
      "0\n",
      "Json file edited\n"
     ]
    },
    {
     "name": "stderr",
     "output_type": "stream",
     "text": [
      "599it [00:00, 2975.34it/s]"
     ]
    },
    {
     "name": "stdout",
     "output_type": "stream",
     "text": [
      "Parsed ../kickoff-data-corrected/adffa69d-f1aa-4aa1-9b15-fab3aa629e4f.2.kickoff.rdb in 2.67 s.\n",
      "Contains keys: dict_keys(['left', 'right'])\n",
      "[left] start_ts: 1526219951023 | stop_ts: 1526220548903\n",
      "[right] start_ts: 1526219951185 | stop_ts: 1526220548985\n",
      "../kickoff-data-corrected/adffa69d-f1aa-4aa1-9b15-fab3aa629e4f.json\n",
      "[{'type': 'start_phase', 'ts': '2018-05-13T13:00:10.785000', 'kickoff_team_id': 11, 'phase': 1}, {'type': 'end_phase', 'ts': '2018-05-13T13:47:11.419Z', 'phase': 1}, {'type': 'start_phase', 'ts': '2018-05-13T14:04:11.863000', 'kickoff_team_id': 16, 'phase': 2}, {'type': 'end_phase', 'ts': '2018-05-13T14:54:45.215Z', 'phase': 2}]\n",
      "1526220251863\n"
     ]
    },
    {
     "name": "stderr",
     "output_type": "stream",
     "text": [
      "14946it [00:06, 2339.14it/s]\n"
     ]
    },
    {
     "name": "stdout",
     "output_type": "stream",
     "text": [
      "26800\n",
      "136\n",
      "26800 193\n",
      "136\n",
      "187\n",
      "188\n",
      "Json file edited\n"
     ]
    },
    {
     "name": "stderr",
     "output_type": "stream",
     "text": [
      "\r",
      "0it [00:00, ?it/s]"
     ]
    },
    {
     "name": "stdout",
     "output_type": "stream",
     "text": [
      "Parsed ../kickoff-data-corrected/cf16ebf4-49fc-4991-a9b8-b9a055dcf2b8.2.kickoff.rdb in 2.74 s.\n",
      "Contains keys: dict_keys(['left', 'right'])\n",
      "[left] start_ts: 1525010676874 | stop_ts: 1525011275674\n",
      "[right] start_ts: 1525010676848 | stop_ts: 1525011275688\n",
      "../kickoff-data-corrected/cf16ebf4-49fc-4991-a9b8-b9a055dcf2b8.json\n",
      "[{'type': 'start_phase', 'ts': '2018-04-29T13:04:55.088000', 'kickoff_team_id': 2, 'phase': 1}, {'type': 'end_phase', 'ts': '2018-04-29T13:51:58.173Z', 'phase': 1}, {'type': 'start_phase', 'ts': '2018-04-29T14:09:37.368000', 'kickoff_team_id': 11, 'phase': 2}, {'type': 'end_phase', 'ts': '2018-04-29T14:57:43.997Z', 'phase': 2}]\n",
      "1525010977368\n"
     ]
    },
    {
     "name": "stderr",
     "output_type": "stream",
     "text": [
      "14971it [00:06, 2210.41it/s]\n"
     ]
    },
    {
     "name": "stdout",
     "output_type": "stream",
     "text": [
      "26800\n",
      "137\n",
      "26800 195\n",
      "137\n",
      "189\n",
      "190\n",
      "Json file edited\n"
     ]
    },
    {
     "name": "stderr",
     "output_type": "stream",
     "text": [
      "280it [00:00, 1384.30it/s]"
     ]
    },
    {
     "name": "stdout",
     "output_type": "stream",
     "text": [
      "Parsed ../kickoff-data-corrected/c79d79f1-5f51-4595-b931-4719f91a4575.1.kickoff.rdb in 3.22 s.\n",
      "Contains keys: dict_keys(['left', 'right'])\n",
      "[left] start_ts: 1525103807965 | stop_ts: 1525104404805\n",
      "[right] start_ts: 1525103808005 | stop_ts: 1525104404845\n",
      "../kickoff-data-corrected/c79d79f1-5f51-4595-b931-4719f91a4575.json\n",
      "[{'type': 'start_phase', 'ts': '2018-04-30T16:01:46.885000', 'kickoff_team_id': 12, 'phase': 1}, {'type': 'end_phase', 'ts': '2018-04-30T16:48:14.773Z', 'phase': 1}, {'type': 'start_phase', 'ts': '2018-04-30T17:04:44.725000', 'kickoff_team_id': 16, 'phase': 2}, {'type': 'end_phase', 'ts': '2018-04-30T17:54:48.605Z', 'phase': 2}]\n",
      "1525104106885\n"
     ]
    },
    {
     "name": "stderr",
     "output_type": "stream",
     "text": [
      "14922it [00:07, 1874.10it/s]\n"
     ]
    },
    {
     "name": "stdout",
     "output_type": "stream",
     "text": [
      "26800\n",
      "137\n",
      "26800 195\n",
      "137\n",
      "191\n",
      "192\n",
      "Json file edited\n"
     ]
    },
    {
     "name": "stderr",
     "output_type": "stream",
     "text": [
      "146it [00:00, 1452.01it/s]"
     ]
    },
    {
     "name": "stdout",
     "output_type": "stream",
     "text": [
      "Parsed ../kickoff-data-corrected/4501652f-d7e6-4e3e-9ad2-e01198278688.1.kickoff.rdb in 4.16 s.\n",
      "Contains keys: dict_keys(['left', 'right'])\n",
      "[left] start_ts: 1526216102558 | stop_ts: 1526216702398\n",
      "[right] start_ts: 1526216102566 | stop_ts: 1526216702406\n",
      "../kickoff-data-corrected/4501652f-d7e6-4e3e-9ad2-e01198278688.json\n",
      "[{'type': 'start_phase', 'ts': '2018-05-13T13:00:01.726000', 'kickoff_team_id': 6, 'phase': 1}, {'type': 'end_phase', 'ts': '2018-05-13T13:46:56.480Z', 'phase': 1}, {'type': 'start_phase', 'ts': '2018-05-13T14:02:42.006000', 'kickoff_team_id': 4, 'phase': 2}, {'type': 'end_phase', 'ts': '2018-05-13T14:52:58.982Z', 'phase': 2}]\n",
      "1526216401726\n"
     ]
    },
    {
     "name": "stderr",
     "output_type": "stream",
     "text": [
      "14997it [00:09, 1523.08it/s]\n"
     ]
    },
    {
     "name": "stdout",
     "output_type": "stream",
     "text": [
      "26800\n",
      "137\n",
      "26800 195\n",
      "137\n",
      "193\n",
      "194\n",
      "Json file edited\n"
     ]
    },
    {
     "name": "stderr",
     "output_type": "stream",
     "text": [
      "760it [00:00, 3643.77it/s]"
     ]
    },
    {
     "name": "stdout",
     "output_type": "stream",
     "text": [
      "Parsed ../kickoff-data-corrected/f9f01fbf-6871-4303-b43f-29c2dd16909d.2.kickoff.rdb in 2.58 s.\n",
      "Contains keys: dict_keys(['left', 'right'])\n",
      "[left] start_ts: 1522677422334 | stop_ts: 1522678021134\n",
      "[right] start_ts: 1522677422216 | stop_ts: 1522678021096\n",
      "../kickoff-data-corrected/f9f01fbf-6871-4303-b43f-29c2dd16909d.json\n",
      "[{'type': 'start_phase', 'ts': '2018-04-02T13:00:04.376000', 'kickoff_team_id': 15, 'phase': 1}, {'type': 'end_phase', 'ts': '2018-04-02T13:47:02.983Z', 'phase': 1}, {'type': 'start_phase', 'ts': '2018-04-02T14:02:02.696000', 'kickoff_team_id': 4, 'phase': 2}, {'type': 'end_phase', 'ts': '2018-04-02T14:50:07.639Z', 'phase': 2}]\n",
      "1522677722696\n"
     ]
    },
    {
     "name": "stderr",
     "output_type": "stream",
     "text": [
      "14971it [00:05, 2615.59it/s]\n"
     ]
    },
    {
     "name": "stdout",
     "output_type": "stream",
     "text": [
      "26800\n",
      "137\n",
      "26800 195\n",
      "137\n",
      "195\n",
      "196\n",
      "Json file edited\n"
     ]
    },
    {
     "name": "stderr",
     "output_type": "stream",
     "text": [
      "231it [00:00, 2304.41it/s]"
     ]
    },
    {
     "name": "stdout",
     "output_type": "stream",
     "text": [
      "Parsed ../kickoff-data-corrected/41c3f1b3-a868-459b-9766-760be49947b2.2.kickoff.rdb in 2.13 s.\n",
      "Contains keys: dict_keys(['left', 'right'])\n",
      "[left] start_ts: 1526320586615 | stop_ts: 1526321186455\n",
      "[right] start_ts: 1526320586601 | stop_ts: 1526321186441\n",
      "../kickoff-data-corrected/41c3f1b3-a868-459b-9766-760be49947b2.json\n",
      "[{'type': 'start_phase', 'ts': '1970-01-01T00:00:00', 'kickoff_team_id': 9, 'phase': 1}, {'type': 'end_phase', 'ts': '2018-05-14T17:46:22.241Z', 'phase': 1}, {'type': 'start_phase', 'ts': '2018-05-14T18:01:28.841000', 'kickoff_team_id': 1, 'phase': 2}, {'type': 'end_phase', 'ts': '2018-05-14T18:49:29.553Z', 'phase': 2}]\n",
      "1526320888841\n"
     ]
    },
    {
     "name": "stderr",
     "output_type": "stream",
     "text": [
      "14997it [00:07, 2097.92it/s]\n"
     ]
    },
    {
     "name": "stdout",
     "output_type": "stream",
     "text": [
      "26800\n",
      "137\n",
      "26800 195\n",
      "137\n",
      "197\n",
      "198\n",
      "Json file edited\n",
      "Parsed ../kickoff-data-corrected/58bc418b-cf05-415e-9dd1-6f4808535976.2.kickoff.rdb in 1.56 s.\n",
      "Contains keys: dict_keys(['left', 'right'])\n",
      "[left] start_ts: 1523297008806 | stop_ts: 1523297605726\n",
      "[right] start_ts: 1523297009328 | stop_ts: 1523297605968\n",
      "../kickoff-data-corrected/58bc418b-cf05-415e-9dd1-6f4808535976.json\n",
      "[{'type': 'start_phase', 'ts': '2018-04-09T17:00:56.973Z', 'kickoff_team_id': 8, 'phase': 1}, {'type': 'end_phase', 'ts': '2018-04-09T17:47:19.651Z', 'phase': 1}, {'type': 'start_phase', 'ts': '1970-01-01T00:00:00', 'kickoff_team_id': 10, 'phase': 2}, {'type': 'end_phase', 'ts': '2018-04-09T18:57:31.075Z', 'phase': 2}]\n",
      "0\n",
      "Json file edited\n"
     ]
    },
    {
     "name": "stderr",
     "output_type": "stream",
     "text": [
      "178it [00:00, 879.56it/s]"
     ]
    },
    {
     "name": "stdout",
     "output_type": "stream",
     "text": [
      "Parsed ../kickoff-data-corrected/4903143c-68be-45f0-9746-e29547b7fa94.1.kickoff.rdb in 5.26 s.\n",
      "Contains keys: dict_keys(['left', 'right'])\n",
      "[left] start_ts: 1525528504705 | stop_ts: 1525529102545\n",
      "[right] start_ts: 1525528504685 | stop_ts: 1525529102525\n",
      "../kickoff-data-corrected/4903143c-68be-45f0-9746-e29547b7fa94.json\n",
      "[{'type': 'start_phase', 'ts': '2018-05-05T14:00:05.565000', 'kickoff_team_id': 13, 'phase': 1}, {'type': 'end_phase', 'ts': '2018-05-05T14:45:11.669Z', 'phase': 1}, {'type': 'start_phase', 'ts': '2018-05-05T15:00:45.205000', 'kickoff_team_id': 4, 'phase': 2}, {'type': 'end_phase', 'ts': '2018-05-05T15:50:08.057Z', 'phase': 2}]\n",
      "1525528805565\n"
     ]
    },
    {
     "name": "stderr",
     "output_type": "stream",
     "text": [
      "14947it [00:11, 1256.53it/s]\n"
     ]
    },
    {
     "name": "stdout",
     "output_type": "stream",
     "text": [
      "26800\n",
      "137\n",
      "26800 194\n",
      "137\n",
      "199\n",
      "200\n"
     ]
    }
   ],
   "source": [
    "create_dataset('../kickoff-data-corrected/data.pickle.1.10.classif.1sym.8sec',250)"
   ]
  },
  {
   "cell_type": "code",
   "execution_count": 39,
   "metadata": {},
   "outputs": [
    {
     "name": "stdout",
     "output_type": "stream",
     "text": [
      "Json file edited\n"
     ]
    },
    {
     "name": "stderr",
     "output_type": "stream",
     "text": [
      "779it [00:00, 3933.68it/s]"
     ]
    },
    {
     "name": "stdout",
     "output_type": "stream",
     "text": [
      "Parsed ../kickoff-data-corrected/24978380-482e-4ba4-a124-5142d43f8c91.2.kickoff.rdb in 1.37 s.\n",
      "Contains keys: dict_keys(['left', 'right'])\n",
      "[left] start_ts: 1527184568814 | stop_ts: 1527185164734\n",
      "[right] start_ts: 1527184564976 | stop_ts: 1527185164816\n",
      "../kickoff-data-corrected/24978380-482e-4ba4-a124-5142d43f8c91.json\n",
      "[{'ts': '2018-05-24T17:00:01.496000', 'type': 'start_phase', 'phase': 1, 'kickoff_team_id': 14}, {'ts': '2018-05-24T17:45:58.124Z', 'type': 'end_phase', 'phase': 1}, {'ts': '2018-05-24T18:01:05.776000', 'type': 'start_phase', 'phase': 2, 'kickoff_team_id': 15}, {'ts': '2018-05-24T18:49:34.388Z', 'type': 'end_phase', 'phase': 2}]\n",
      "1527184865776\n"
     ]
    },
    {
     "name": "stderr",
     "output_type": "stream",
     "text": [
      "14898it [00:05, 2808.65it/s]\n"
     ]
    },
    {
     "name": "stdout",
     "output_type": "stream",
     "text": [
      "61\n",
      "14690 14690\n",
      "7344\n",
      "61\n",
      "61 61\n",
      "[26, 27, 28, 29, 30, 31, 32, 33, 34, 35, 36, 37, 38, 39, 40, 41, 42, 43, 44, 45, 46, 47, 48, 49, 50, 51, 52, 53, 54, 55, 56, 57, 58, 59, 60, 61, 62, 63, 64, 65, 66, 67, 68, 69, 70, 71, 72, 73, 74, 75, 76, 77, 78, 79, 80, 81, 82, 83, 84, 85, 86]\n",
      "Json file edited\n"
     ]
    },
    {
     "name": "stderr",
     "output_type": "stream",
     "text": [
      "742it [00:00, 3657.01it/s]"
     ]
    },
    {
     "name": "stdout",
     "output_type": "stream",
     "text": [
      "Parsed ../kickoff-data-corrected/e0646790-9750-47eb-85ac-a7065fbcd4dd.2.kickoff.rdb in 1.59 s.\n",
      "Contains keys: dict_keys(['left', 'right'])\n",
      "[left] start_ts: 1524414578448 | stop_ts: 1524415174608\n",
      "[right] start_ts: 1524414577904 | stop_ts: 1524415174304\n",
      "../kickoff-data-corrected/e0646790-9750-47eb-85ac-a7065fbcd4dd.json\n",
      "[{'ts': '2018-04-22T15:29:53.064000', 'type': 'start_phase', 'phase': 1, 'kickoff_team_id': 6}, {'ts': '2018-04-22T16:18:51.239Z', 'type': 'end_phase', 'phase': 1}, {'ts': '2018-04-22T16:34:36.848000', 'type': 'start_phase', 'phase': 2, 'kickoff_team_id': 10}, {'ts': '2018-04-22T17:22:35.491Z', 'type': 'end_phase', 'phase': 2}]\n",
      "1524414876848\n"
     ]
    },
    {
     "name": "stderr",
     "output_type": "stream",
     "text": [
      "14905it [00:06, 2310.45it/s]\n"
     ]
    },
    {
     "name": "stdout",
     "output_type": "stream",
     "text": [
      "62\n",
      "14780 14780\n",
      "7382\n",
      "62\n",
      "62 62\n",
      "[26, 27, 28, 29, 30, 31, 32, 33, 34, 35, 36, 37, 38, 39, 40, 41, 42, 43, 44, 45, 46, 47, 48, 49, 50, 51, 52, 53, 54, 55, 56, 57, 58, 59, 60, 61, 62, 63, 64, 65, 66, 67, 68, 69, 70, 71, 72, 73, 74, 75, 76, 77, 78, 79, 80, 81, 82, 83, 84, 85, 86, 87]\n",
      "2\n",
      "Json file edited\n"
     ]
    },
    {
     "name": "stderr",
     "output_type": "stream",
     "text": [
      "786it [00:00, 4063.55it/s]"
     ]
    },
    {
     "name": "stdout",
     "output_type": "stream",
     "text": [
      "Parsed ../kickoff-data-corrected/bff5f37c-be85-4f08-b6d4-a01e6c22fe0e.1.kickoff.rdb in 2.13 s.\n",
      "Contains keys: dict_keys(['left', 'right'])\n",
      "[left] start_ts: 1523984148353 | stop_ts: 1523984746873\n",
      "[right] start_ts: 1523984147529 | stop_ts: 1523984746449\n",
      "../kickoff-data-corrected/bff5f37c-be85-4f08-b6d4-a01e6c22fe0e.json\n",
      "[{'ts': '2018-04-17T17:00:48.769000', 'type': 'start_phase', 'phase': 1, 'kickoff_team_id': 14}, {'ts': '2018-04-17T17:45:52.314Z', 'type': 'end_phase', 'phase': 1}, {'ts': '2018-04-17T18:00:54.313000', 'type': 'start_phase', 'phase': 2, 'kickoff_team_id': 3}, {'ts': '2018-04-17T18:51:00.072Z', 'type': 'end_phase', 'phase': 2}]\n",
      "1523984448769\n"
     ]
    },
    {
     "name": "stderr",
     "output_type": "stream",
     "text": [
      "14964it [00:07, 1990.56it/s]\n"
     ]
    },
    {
     "name": "stdout",
     "output_type": "stream",
     "text": [
      "61\n",
      "14835 14835\n",
      "7431\n",
      "61\n",
      "61 61\n",
      "[26, 27, 28, 29, 30, 31, 32, 33, 34, 35, 36, 37, 38, 39, 40, 41, 42, 43, 44, 45, 46, 47, 48, 49, 50, 51, 52, 53, 54, 55, 56, 57, 58, 59, 60, 61, 62, 63, 64, 65, 66, 67, 68, 69, 70, 71, 72, 73, 74, 75, 76, 77, 78, 79, 80, 81, 82, 83, 84, 85, 86]\n",
      "3\n",
      "Json file edited\n",
      "Parsed ../kickoff-data-corrected/41c3f1b3-a868-459b-9766-760be49947b2.1.kickoff.rdb in 3.48 s.\n",
      "Contains keys: dict_keys(['left', 'right'])\n",
      "[left] start_ts: 1526316922655 | stop_ts: 1526317521455\n",
      "[right] start_ts: 1526316922561 | stop_ts: 1526317521441\n",
      "../kickoff-data-corrected/41c3f1b3-a868-459b-9766-760be49947b2.json\n",
      "[{'ts': '1970-01-01T00:00:00', 'type': 'start_phase', 'phase': 1, 'kickoff_team_id': 9}, {'ts': '2018-05-14T17:46:22.241Z', 'type': 'end_phase', 'phase': 1}, {'ts': '2018-05-14T18:01:28.841000', 'type': 'start_phase', 'phase': 2, 'kickoff_team_id': 1}, {'ts': '2018-05-14T18:49:29.553Z', 'type': 'end_phase', 'phase': 2}]\n",
      "0\n",
      "Json file edited\n",
      "Parsed ../kickoff-data-corrected/aadecf3a-0d92-4ace-b643-ced44474e157.2.kickoff.rdb in 1.77 s.\n",
      "Contains keys: dict_keys(['left', 'right'])\n",
      "[left] start_ts: 1524160591139 | stop_ts: 1524161189179\n",
      "[right] start_ts: 1524160591665 | stop_ts: 1524161189465\n",
      "../kickoff-data-corrected/aadecf3a-0d92-4ace-b643-ced44474e157.json\n",
      "[{'ts': '2018-04-19T17:00:03.859000', 'type': 'start_phase', 'phase': 1, 'kickoff_team_id': 15}, {'ts': '2018-04-19T17:46:04.420Z', 'type': 'end_phase', 'phase': 1}, {'ts': '1970-01-01T00:00:00', 'type': 'start_phase', 'phase': 2, 'kickoff_team_id': 7}, {'ts': '2018-04-19T18:49:42.844Z', 'type': 'end_phase', 'phase': 2}]\n",
      "0\n",
      "Json file edited\n"
     ]
    },
    {
     "name": "stderr",
     "output_type": "stream",
     "text": [
      "475it [00:00, 2441.55it/s]"
     ]
    },
    {
     "name": "stdout",
     "output_type": "stream",
     "text": [
      "Parsed ../kickoff-data-corrected/24978380-482e-4ba4-a124-5142d43f8c91.1.kickoff.rdb in 2.31 s.\n",
      "Contains keys: dict_keys(['left', 'right'])\n",
      "[left] start_ts: 1527180904814 | stop_ts: 1527181500734\n",
      "[right] start_ts: 1527180900976 | stop_ts: 1527181500816\n",
      "../kickoff-data-corrected/24978380-482e-4ba4-a124-5142d43f8c91.json\n",
      "[{'ts': '2018-05-24T17:00:01.496000', 'type': 'start_phase', 'phase': 1, 'kickoff_team_id': 14}, {'ts': '2018-05-24T17:45:58.124Z', 'type': 'end_phase', 'phase': 1}, {'ts': '2018-05-24T18:01:05.776000', 'type': 'start_phase', 'phase': 2, 'kickoff_team_id': 15}, {'ts': '2018-05-24T18:49:34.388Z', 'type': 'end_phase', 'phase': 2}]\n",
      "1527181201496\n"
     ]
    },
    {
     "name": "stderr",
     "output_type": "stream",
     "text": [
      "14898it [00:07, 2076.23it/s]\n"
     ]
    },
    {
     "name": "stdout",
     "output_type": "stream",
     "text": [
      "61\n",
      "14693 14693\n",
      "7339\n",
      "61\n",
      "61 61\n",
      "[26, 27, 28, 29, 30, 31, 32, 33, 34, 35, 36, 37, 38, 39, 40, 41, 42, 43, 44, 45, 46, 47, 48, 49, 50, 51, 52, 53, 54, 55, 56, 57, 58, 59, 60, 61, 62, 63, 64, 65, 66, 67, 68, 69, 70, 71, 72, 73, 74, 75, 76, 77, 78, 79, 80, 81, 82, 83, 84, 85, 86]\n",
      "4\n",
      "Json file edited\n"
     ]
    },
    {
     "name": "stderr",
     "output_type": "stream",
     "text": [
      "437it [00:00, 2165.68it/s]"
     ]
    },
    {
     "name": "stdout",
     "output_type": "stream",
     "text": [
      "Parsed ../kickoff-data-corrected/f9f01fbf-6871-4303-b43f-29c2dd16909d.1.kickoff.rdb in 2.65 s.\n",
      "Contains keys: dict_keys(['left', 'right'])\n",
      "[left] start_ts: 1522673702294 | stop_ts: 1522674302134\n",
      "[right] start_ts: 1522673702216 | stop_ts: 1522674302096\n",
      "../kickoff-data-corrected/f9f01fbf-6871-4303-b43f-29c2dd16909d.json\n",
      "[{'ts': '2018-04-02T13:00:04.376000', 'type': 'start_phase', 'phase': 1, 'kickoff_team_id': 15}, {'ts': '2018-04-02T13:47:02.983Z', 'type': 'end_phase', 'phase': 1}, {'ts': '2018-04-02T14:02:02.696000', 'type': 'start_phase', 'phase': 2, 'kickoff_team_id': 4}, {'ts': '2018-04-02T14:50:07.639Z', 'type': 'end_phase', 'phase': 2}]\n",
      "1522674004376\n"
     ]
    },
    {
     "name": "stderr",
     "output_type": "stream",
     "text": [
      "14996it [00:08, 1860.60it/s]\n"
     ]
    },
    {
     "name": "stdout",
     "output_type": "stream",
     "text": [
      "62\n",
      "14867 14867\n",
      "7459\n",
      "62\n",
      "62 62\n",
      "[26, 27, 28, 29, 30, 31, 32, 33, 34, 35, 36, 37, 38, 39, 40, 41, 42, 43, 44, 45, 46, 47, 48, 49, 50, 51, 52, 53, 54, 55, 56, 57, 58, 59, 60, 61, 62, 63, 64, 65, 66, 67, 68, 69, 70, 71, 72, 73, 74, 75, 76, 77, 78, 79, 80, 81, 82, 83, 84, 85, 86, 87]\n",
      "5\n",
      "Json file edited\n"
     ]
    },
    {
     "name": "stderr",
     "output_type": "stream",
     "text": [
      "220it [00:00, 1076.79it/s]"
     ]
    },
    {
     "name": "stdout",
     "output_type": "stream",
     "text": [
      "Parsed ../kickoff-data-corrected/c0b1883d-4420-48aa-9805-9318a20e56ae.1.kickoff.rdb in 7.51 s.\n",
      "Contains keys: dict_keys(['left', 'right'])\n",
      "[left] start_ts: 1527350105211 | stop_ts: 1527350703091\n",
      "[right] start_ts: 1527350105245 | stop_ts: 1527350703085\n",
      "../kickoff-data-corrected/c0b1883d-4420-48aa-9805-9318a20e56ae.json\n",
      "[{'ts': '2018-05-26T16:00:04.565000', 'type': 'start_phase', 'phase': 1, 'kickoff_team_id': 5}, {'ts': '2018-05-26T16:46:00.357Z', 'type': 'end_phase', 'phase': 1}, {'ts': '2018-05-26T17:01:27.885000', 'type': 'start_phase', 'phase': 2, 'kickoff_team_id': 13}, {'ts': '2018-05-26T17:49:27.835Z', 'type': 'end_phase', 'phase': 2}]\n",
      "1527350404565\n"
     ]
    },
    {
     "name": "stderr",
     "output_type": "stream",
     "text": [
      "14947it [00:10, 1433.72it/s]\n"
     ]
    },
    {
     "name": "stdout",
     "output_type": "stream",
     "text": [
      "62\n",
      "14841 14841\n",
      "7406\n",
      "62\n",
      "62 62\n",
      "[26, 27, 28, 29, 30, 31, 32, 33, 34, 35, 36, 37, 38, 39, 40, 41, 42, 43, 44, 45, 46, 47, 48, 49, 50, 51, 52, 53, 54, 55, 56, 57, 58, 59, 60, 61, 62, 63, 64, 65, 66, 67, 68, 69, 70, 71, 72, 73, 74, 75, 76, 77, 78, 79, 80, 81, 82, 83, 84, 85, 86, 87]\n",
      "6\n",
      "Json file edited\n",
      "Parsed ../kickoff-data-corrected/9ab7ccfb-75cb-4756-9eb5-fe8c29de8fcc.1.kickoff.rdb in 1.85 s.\n",
      "Contains keys: dict_keys(['left', 'right'])\n",
      "[left] start_ts: 1525620373398 | stop_ts: 1525620970238\n",
      "[right] start_ts: 1525620373530 | stop_ts: 1525620970290\n",
      "../kickoff-data-corrected/9ab7ccfb-75cb-4756-9eb5-fe8c29de8fcc.json\n",
      "[{'ts': '1970-01-01T00:00:00', 'type': 'start_phase', 'phase': 1, 'kickoff_team_id': 10}, {'ts': '2018-05-06T16:16:18.200Z', 'type': 'end_phase', 'phase': 1}, {'ts': '2018-05-06T16:32:07.130000', 'type': 'start_phase', 'phase': 2, 'kickoff_team_id': 7}, {'ts': '2018-05-06T17:20:08.236Z', 'type': 'end_phase', 'phase': 2}]\n",
      "0\n",
      "Json file edited\n",
      "Parsed ../kickoff-data-corrected/6e26f66b-a921-4919-9d7d-1bd59f935e78.2.kickoff.rdb in 1.76 s.\n",
      "Contains keys: dict_keys(['left', 'right'])\n",
      "[left] start_ts: 1523642363613 | stop_ts: 1523642962133\n",
      "[right] start_ts: 1523642362979 | stop_ts: 1523642961819\n",
      "../kickoff-data-corrected/6e26f66b-a921-4919-9d7d-1bd59f935e78.json\n",
      "[{'ts': '1970-01-01T00:00:00', 'type': 'start_phase', 'phase': 1, 'kickoff_team_id': 3}, {'ts': '2018-04-13T17:48:25.115Z', 'type': 'end_phase', 'phase': 1}, {'ts': '1970-01-01T00:00:00', 'type': 'start_phase', 'phase': 2, 'kickoff_team_id': 8}, {'ts': '2018-04-13T18:52:23.632Z', 'type': 'end_phase', 'phase': 2}]\n",
      "0\n",
      "Json file edited\n"
     ]
    },
    {
     "name": "stderr",
     "output_type": "stream",
     "text": [
      "163it [00:00, 1624.48it/s]"
     ]
    },
    {
     "name": "stdout",
     "output_type": "stream",
     "text": [
      "Parsed ../kickoff-data-corrected/27bea627-3caa-47ee-93c3-67f0e26f3034.2.kickoff.rdb in 4.16 s.\n",
      "Contains keys: dict_keys(['left', 'right'])\n",
      "[left] start_ts: 1523800614341 | stop_ts: 1523801213661\n",
      "[right] start_ts: 1523800613851 | stop_ts: 1523801213411\n",
      "../kickoff-data-corrected/27bea627-3caa-47ee-93c3-67f0e26f3034.json\n",
      "[{'ts': '2018-04-15T13:00:59.341000', 'type': 'start_phase', 'phase': 1, 'kickoff_team_id': 4}, {'ts': '2018-04-15T13:46:01.064Z', 'type': 'end_phase', 'phase': 1}, {'ts': '2018-04-15T14:01:55.381000', 'type': 'start_phase', 'phase': 2, 'kickoff_team_id': 9}, {'ts': '2018-04-15T14:50:42.654Z', 'type': 'end_phase', 'phase': 2}]\n",
      "1523800915381\n"
     ]
    },
    {
     "name": "stderr",
     "output_type": "stream",
     "text": [
      "14983it [00:07, 2090.75it/s]\n"
     ]
    },
    {
     "name": "stdout",
     "output_type": "stream",
     "text": [
      "61\n",
      "14859 14859\n",
      "7445\n",
      "61\n",
      "61 61\n",
      "[27, 28, 29, 30, 31, 32, 33, 34, 35, 36, 37, 38, 39, 40, 41, 42, 43, 44, 45, 46, 47, 48, 49, 50, 51, 52, 53, 54, 55, 56, 57, 58, 59, 60, 61, 62, 63, 64, 65, 66, 67, 68, 69, 70, 71, 72, 73, 74, 75, 76, 77, 78, 79, 80, 81, 82, 83, 84, 85, 86, 87]\n",
      "7\n",
      "Json file edited\n"
     ]
    },
    {
     "name": "stderr",
     "output_type": "stream",
     "text": [
      "216it [00:00, 2156.12it/s]"
     ]
    },
    {
     "name": "stdout",
     "output_type": "stream",
     "text": [
      "Parsed ../kickoff-data-corrected/e40014f3-5c63-4869-94af-75c4e0547de4.1.kickoff.rdb in 3.83 s.\n",
      "Contains keys: dict_keys(['left', 'right'])\n",
      "[left] start_ts: 1527094503678 | stop_ts: 1527095102558\n",
      "[right] start_ts: 1527094503764 | stop_ts: 1527095102564\n",
      "../kickoff-data-corrected/e40014f3-5c63-4869-94af-75c4e0547de4.json\n",
      "[{'ts': '2018-05-23T17:00:04.764000', 'type': 'start_phase', 'phase': 1, 'kickoff_team_id': 4}, {'ts': '2018-05-23T17:45:05.284Z', 'type': 'end_phase', 'phase': 1}, {'ts': '2018-05-23T18:02:04.404000', 'type': 'start_phase', 'phase': 2, 'kickoff_team_id': 3}, {'ts': '2018-05-23T18:51:09.847Z', 'type': 'end_phase', 'phase': 2}]\n",
      "1527094804764\n"
     ]
    },
    {
     "name": "stderr",
     "output_type": "stream",
     "text": [
      "14972it [00:07, 1925.73it/s]\n"
     ]
    },
    {
     "name": "stdout",
     "output_type": "stream",
     "text": [
      "62\n",
      "14864 14864\n",
      "7447\n",
      "62\n",
      "62 62\n",
      "[26, 27, 28, 29, 30, 31, 32, 33, 34, 35, 36, 37, 38, 39, 40, 41, 42, 43, 44, 45, 46, 47, 48, 49, 50, 51, 52, 53, 54, 55, 56, 57, 58, 59, 60, 61, 62, 63, 64, 65, 66, 67, 68, 69, 70, 71, 72, 73, 74, 75, 76, 77, 78, 79, 80, 81, 82, 83, 84, 85, 86, 87]\n",
      "8\n",
      "Json file edited\n"
     ]
    },
    {
     "name": "stderr",
     "output_type": "stream",
     "text": [
      "185it [00:00, 1840.33it/s]"
     ]
    },
    {
     "name": "stdout",
     "output_type": "stream",
     "text": [
      "Parsed ../kickoff-data-corrected/536b68b9-507f-408a-9a91-f994667b1d16.2.kickoff.rdb in 1.80 s.\n",
      "Contains keys: dict_keys(['left', 'right'])\n",
      "[left] start_ts: 1526833546311 | stop_ts: 1526834143111\n",
      "[right] start_ts: 1526833546293 | stop_ts: 1526834143133\n",
      "../kickoff-data-corrected/536b68b9-507f-408a-9a91-f994667b1d16.json\n",
      "[{'ts': '2018-05-20T15:30:15.853000', 'type': 'start_phase', 'phase': 1, 'kickoff_team_id': 8}, {'ts': '2018-05-20T16:15:14.598Z', 'type': 'end_phase', 'phase': 1}, {'ts': '2018-05-20T16:30:45.173000', 'type': 'start_phase', 'phase': 2, 'kickoff_team_id': 5}, {'ts': '2018-05-20T17:19:46.634Z', 'type': 'end_phase', 'phase': 2}]\n",
      "1526833845173\n"
     ]
    },
    {
     "name": "stderr",
     "output_type": "stream",
     "text": [
      "14921it [00:05, 2500.46it/s]\n"
     ]
    },
    {
     "name": "stdout",
     "output_type": "stream",
     "text": [
      "62\n",
      "14817 14817\n",
      "7395\n",
      "62\n",
      "62 62\n",
      "[26, 27, 28, 29, 30, 31, 32, 33, 34, 35, 36, 37, 38, 39, 40, 41, 42, 43, 44, 45, 46, 47, 48, 49, 50, 51, 52, 53, 54, 55, 56, 57, 58, 59, 60, 61, 62, 63, 64, 65, 66, 67, 68, 69, 70, 71, 72, 73, 74, 75, 76, 77, 78, 79, 80, 81, 82, 83, 84, 85, 86, 87]\n",
      "9\n"
     ]
    },
    {
     "name": "stderr",
     "output_type": "stream",
     "text": [
      "832it [00:00, 4332.70it/s]"
     ]
    },
    {
     "name": "stdout",
     "output_type": "stream",
     "text": [
      "Parsed ../kickoff-data-corrected/b0cbf7ed-a9ce-4434-9e4d-072065ee61bc.1.kickoff.rdb in 1.65 s.\n",
      "Contains keys: dict_keys(['left', 'right'])\n",
      "[left] start_ts: 1523706904558 | stop_ts: 1523707503158\n",
      "[right] start_ts: 1523706912088 | stop_ts: 1523707510928\n",
      "../kickoff-data-corrected/b0cbf7ed-a9ce-4434-9e4d-072065ee61bc.json\n",
      "[{'ts': '2018-04-14T12:00:03.074Z', 'type': 'start_phase', 'phase': 1, 'kickoff_team_id': 1}, {'ts': '2018-04-14T12:45:30.997Z', 'type': 'end_phase', 'phase': 1}, {'ts': '1970-01-01T00:00:00', 'type': 'start_phase', 'phase': 2, 'kickoff_team_id': 7}, {'ts': '2018-04-14T13:50:58.493Z', 'type': 'end_phase', 'phase': 2}]\n",
      "1523707203074\n"
     ]
    },
    {
     "name": "stderr",
     "output_type": "stream",
     "text": [
      "14966it [00:05, 2667.44it/s]\n"
     ]
    },
    {
     "name": "stdout",
     "output_type": "stream",
     "text": [
      "62\n",
      "14665 14665\n",
      "7196\n",
      "62\n",
      "62 62\n",
      "[26, 27, 28, 29, 30, 31, 32, 33, 34, 35, 36, 37, 38, 39, 40, 41, 42, 43, 44, 45, 46, 47, 48, 49, 50, 51, 52, 53, 54, 55, 56, 57, 58, 59, 60, 61, 62, 63, 64, 65, 66, 67, 68, 69, 70, 71, 72, 73, 74, 75, 76, 77, 78, 79, 80, 81, 82, 83, 84, 85, 86, 87]\n",
      "10\n",
      "Json file edited\n",
      "Parsed ../kickoff-data-corrected/75366863-8063-4ece-8aca-1dcf75d22448.1.kickoff.rdb in 0.83 s.\n",
      "Contains keys: dict_keys(['left', 'right'])\n",
      "[left] start_ts: 1527181308818 | stop_ts: 1527181905738\n",
      "[right] start_ts: 1527181308926 | stop_ts: 1527181905806\n",
      "../kickoff-data-corrected/75366863-8063-4ece-8aca-1dcf75d22448.json\n",
      "[{'ts': '1970-01-01T00:00:00', 'type': 'start_phase', 'phase': 1, 'kickoff_team_id': 6}, {'ts': '2018-05-24T17:52:47.009Z', 'type': 'end_phase', 'phase': 1}, {'ts': '1970-01-01T00:00:00', 'type': 'start_phase', 'phase': 2, 'kickoff_team_id': 11}, {'ts': '2018-05-24T19:02:55.588Z', 'type': 'end_phase', 'phase': 2}]\n",
      "0\n",
      "Json file edited\n",
      "Parsed ../kickoff-data-corrected/456910d1-b523-4ff2-b60c-fcd1f016b96d.2.kickoff.rdb in 2.69 s.\n",
      "Contains keys: dict_keys(['left', 'right'])\n",
      "[left] start_ts: 1524506251416 | stop_ts: 1524506851016\n",
      "[right] start_ts: 1524506250924 | stop_ts: 1524506850764\n",
      "../kickoff-data-corrected/456910d1-b523-4ff2-b60c-fcd1f016b96d.json\n",
      "[{'ts': '1970-01-01T00:00:00', 'type': 'start_phase', 'phase': 1, 'kickoff_team_id': 7}, {'ts': '2018-04-23T17:47:08.130Z', 'type': 'end_phase', 'phase': 1}, {'ts': '1970-01-01T00:00:00', 'type': 'start_phase', 'phase': 2, 'kickoff_team_id': 11}, {'ts': '2018-04-23T18:50:33.464Z', 'type': 'end_phase', 'phase': 2}]\n",
      "0\n",
      "Json file edited\n"
     ]
    },
    {
     "name": "stderr",
     "output_type": "stream",
     "text": [
      "518it [00:00, 2677.94it/s]"
     ]
    },
    {
     "name": "stdout",
     "output_type": "stream",
     "text": [
      "Parsed ../kickoff-data-corrected/0d9e9e30-9d13-4af0-8e41-fe1669e9eeff.1.kickoff.rdb in 2.46 s.\n",
      "Contains keys: dict_keys(['left', 'right'])\n",
      "[left] start_ts: 1523192129517 | stop_ts: 1523192728157\n",
      "[right] start_ts: 1523192129071 | stop_ts: 1523192727911\n",
      "../kickoff-data-corrected/0d9e9e30-9d13-4af0-8e41-fe1669e9eeff.json\n",
      "[{'ts': '2018-04-08T13:00:30.151000', 'type': 'start_phase', 'phase': 1, 'kickoff_team_id': 7}, {'ts': '2018-04-08T13:47:27.898Z', 'type': 'end_phase', 'phase': 1}, {'ts': '2018-04-08T14:02:35.117000', 'type': 'start_phase', 'phase': 2, 'kickoff_team_id': 9}, {'ts': '2018-04-08T14:51:34.402Z', 'type': 'end_phase', 'phase': 2}]\n",
      "1523192430151\n"
     ]
    },
    {
     "name": "stderr",
     "output_type": "stream",
     "text": [
      "14966it [00:08, 1832.78it/s]\n"
     ]
    },
    {
     "name": "stdout",
     "output_type": "stream",
     "text": [
      "62\n",
      "14844 14844\n",
      "7435\n",
      "62\n",
      "62 62\n",
      "[26, 27, 28, 29, 30, 31, 32, 33, 34, 35, 36, 37, 38, 39, 40, 41, 42, 43, 44, 45, 46, 47, 48, 49, 50, 51, 52, 53, 54, 55, 56, 57, 58, 59, 60, 61, 62, 63, 64, 65, 66, 67, 68, 69, 70, 71, 72, 73, 74, 75, 76, 77, 78, 79, 80, 81, 82, 83, 84, 85, 86, 87]\n",
      "11\n",
      "Json file edited\n",
      "Parsed ../kickoff-data-corrected/b0cbf7ed-a9ce-4434-9e4d-072065ee61bc.2.kickoff.rdb in 1.69 s.\n",
      "Contains keys: dict_keys(['left', 'right'])\n",
      "[left] start_ts: 1523710552598 | stop_ts: 1523711150158\n",
      "[right] start_ts: 1523710560128 | stop_ts: 1523711157928\n",
      "../kickoff-data-corrected/b0cbf7ed-a9ce-4434-9e4d-072065ee61bc.json\n",
      "[{'ts': '2018-04-14T12:00:03.074Z', 'type': 'start_phase', 'phase': 1, 'kickoff_team_id': 1}, {'ts': '2018-04-14T12:45:30.997Z', 'type': 'end_phase', 'phase': 1}, {'ts': '1970-01-01T00:00:00', 'type': 'start_phase', 'phase': 2, 'kickoff_team_id': 7}, {'ts': '2018-04-14T13:50:58.493Z', 'type': 'end_phase', 'phase': 2}]\n",
      "0\n",
      "Json file edited\n"
     ]
    },
    {
     "name": "stderr",
     "output_type": "stream",
     "text": [
      "308it [00:00, 1547.83it/s]"
     ]
    },
    {
     "name": "stdout",
     "output_type": "stream",
     "text": [
      "Parsed ../kickoff-data-corrected/d1a98e08-0f21-46fe-8457-01ff183ddbeb.1.kickoff.rdb in 4.20 s.\n",
      "Contains keys: dict_keys(['left', 'right'])\n",
      "[left] start_ts: 1526576105405 | stop_ts: 1526576702165\n",
      "[right] start_ts: 1526576105219 | stop_ts: 1526576702099\n",
      "../kickoff-data-corrected/d1a98e08-0f21-46fe-8457-01ff183ddbeb.json\n",
      "[{'ts': '2018-05-17T17:00:04.205000', 'type': 'start_phase', 'phase': 1, 'kickoff_team_id': 12}, {'ts': '2018-05-17T17:47:07.092Z', 'type': 'end_phase', 'phase': 1}, {'ts': '2018-05-17T18:04:04.725000', 'type': 'start_phase', 'phase': 2, 'kickoff_team_id': 11}, {'ts': '2018-05-17T18:52:06.565Z', 'type': 'end_phase', 'phase': 2}]\n",
      "1526576404205\n"
     ]
    },
    {
     "name": "stderr",
     "output_type": "stream",
     "text": [
      "14921it [00:09, 1628.42it/s]\n"
     ]
    },
    {
     "name": "stdout",
     "output_type": "stream",
     "text": [
      "62\n",
      "14801 14801\n",
      "7389\n",
      "62\n",
      "62 62\n",
      "[26, 27, 28, 29, 30, 31, 32, 33, 34, 35, 36, 37, 38, 39, 40, 41, 42, 43, 44, 45, 46, 47, 48, 49, 50, 51, 52, 53, 54, 55, 56, 57, 58, 59, 60, 61, 62, 63, 64, 65, 66, 67, 68, 69, 70, 71, 72, 73, 74, 75, 76, 77, 78, 79, 80, 81, 82, 83, 84, 85, 86, 87]\n",
      "12\n",
      "Json file edited\n"
     ]
    },
    {
     "name": "stderr",
     "output_type": "stream",
     "text": [
      "360it [00:00, 3593.48it/s]"
     ]
    },
    {
     "name": "stdout",
     "output_type": "stream",
     "text": [
      "Parsed ../kickoff-data-corrected/9acafc14-55f4-499e-90d9-4db2f121801b.2.kickoff.rdb in 1.79 s.\n",
      "Contains keys: dict_keys(['left', 'right'])\n",
      "[left] start_ts: 1526229880539 | stop_ts: 1526230477379\n",
      "[right] start_ts: 1526229880495 | stop_ts: 1526230477335\n",
      "../kickoff-data-corrected/9acafc14-55f4-499e-90d9-4db2f121801b.json\n",
      "[{'ts': '2018-05-13T15:45:36.695000', 'type': 'start_phase', 'phase': 1, 'kickoff_team_id': 12}, {'ts': '2018-05-13T16:33:39.123Z', 'type': 'end_phase', 'phase': 1}, {'ts': '2018-05-13T16:49:39.615000', 'type': 'start_phase', 'phase': 2, 'kickoff_team_id': 2}, {'ts': '2018-05-13T17:39:37.349Z', 'type': 'end_phase', 'phase': 2}]\n",
      "1526230179615\n"
     ]
    },
    {
     "name": "stderr",
     "output_type": "stream",
     "text": [
      "14922it [00:06, 2382.31it/s]\n"
     ]
    },
    {
     "name": "stdout",
     "output_type": "stream",
     "text": [
      "62\n",
      "14817 14817\n",
      "7401\n",
      "62\n",
      "62 62\n",
      "[26, 27, 28, 29, 30, 31, 32, 33, 34, 35, 36, 37, 38, 39, 40, 41, 42, 43, 44, 45, 46, 47, 48, 49, 50, 51, 52, 53, 54, 55, 56, 57, 58, 59, 60, 61, 62, 63, 64, 65, 66, 67, 68, 69, 70, 71, 72, 73, 74, 75, 76, 77, 78, 79, 80, 81, 82, 83, 84, 85, 86, 87]\n",
      "13\n",
      "Json file edited\n",
      "Parsed ../kickoff-data-corrected/3d29af74-d98c-415b-a1dc-6b034671d831.2.kickoff.rdb in 1.58 s.\n",
      "Contains keys: dict_keys(['left', 'right'])\n",
      "[left] start_ts: 1527098333205 | stop_ts: 1527098931045\n",
      "[right] start_ts: 1527098333133 | stop_ts: 1527098931013\n",
      "../kickoff-data-corrected/3d29af74-d98c-415b-a1dc-6b034671d831.json\n",
      "[{'ts': '1970-01-01T00:00:00', 'type': 'start_phase', 'phase': 1, 'kickoff_team_id': 10}, {'ts': '2018-05-23T17:48:32.142Z', 'type': 'end_phase', 'phase': 1}, {'ts': '1970-01-01T00:00:00', 'type': 'start_phase', 'phase': 2, 'kickoff_team_id': 5}, {'ts': '2018-05-23T18:54:13.202Z', 'type': 'end_phase', 'phase': 2}]\n",
      "0\n",
      "Json file edited\n",
      "Parsed ../kickoff-data-corrected/2b8bcfd6-5f57-46de-aacd-e932ac8e1697.1.kickoff.rdb in 2.01 s.\n",
      "Contains keys: dict_keys(['left', 'right'])\n",
      "[left] start_ts: 1523201092829 | stop_ts: 1523201692349\n",
      "[right] start_ts: 1523201094061 | stop_ts: 1523201692981\n",
      "../kickoff-data-corrected/2b8bcfd6-5f57-46de-aacd-e932ac8e1697.json\n",
      "[{'ts': '1970-01-01T00:00:00', 'type': 'start_phase', 'phase': 1, 'kickoff_team_id': 13}, {'ts': '2018-04-08T16:17:54.242Z', 'type': 'end_phase', 'phase': 1}, {'ts': '2018-04-08T16:34:22.301000', 'type': 'start_phase', 'phase': 2, 'kickoff_team_id': 16}, {'ts': '2018-04-08T17:23:20.816Z', 'type': 'end_phase', 'phase': 2}]\n",
      "0\n",
      "Json file edited\n"
     ]
    },
    {
     "name": "stderr",
     "output_type": "stream",
     "text": [
      "418it [00:00, 4174.14it/s]"
     ]
    },
    {
     "name": "stdout",
     "output_type": "stream",
     "text": [
      "Parsed ../kickoff-data-corrected/da82a1ce-2e4c-4337-8ba8-3f2525399e31.2.kickoff.rdb in 1.89 s.\n",
      "Contains keys: dict_keys(['left', 'right'])\n",
      "[left] start_ts: 1525624022661 | stop_ts: 1525624619501\n",
      "[right] start_ts: 1525624022583 | stop_ts: 1525624619463\n",
      "../kickoff-data-corrected/da82a1ce-2e4c-4337-8ba8-3f2525399e31.json\n",
      "[{'ts': '2018-05-06T15:30:56.823000', 'type': 'start_phase', 'phase': 1, 'kickoff_team_id': 14}, {'ts': '2018-05-06T16:16:55.775Z', 'type': 'end_phase', 'phase': 1}, {'ts': '2018-05-06T16:32:03.343000', 'type': 'start_phase', 'phase': 2, 'kickoff_team_id': 5}, {'ts': '2018-05-06T17:19:59.649Z', 'type': 'end_phase', 'phase': 2}]\n",
      "1525624323343\n"
     ]
    },
    {
     "name": "stderr",
     "output_type": "stream",
     "text": [
      "14923it [00:06, 2474.87it/s]\n"
     ]
    },
    {
     "name": "stdout",
     "output_type": "stream",
     "text": [
      "62\n",
      "14810 14810\n",
      "7438\n",
      "62\n",
      "62 62\n",
      "[26, 27, 28, 29, 30, 31, 32, 33, 34, 35, 36, 37, 38, 39, 40, 41, 42, 43, 44, 45, 46, 47, 48, 49, 50, 51, 52, 53, 54, 55, 56, 57, 58, 59, 60, 61, 62, 63, 64, 65, 66, 67, 68, 69, 70, 71, 72, 73, 74, 75, 76, 77, 78, 79, 80, 81, 82, 83, 84, 85, 86, 87]\n",
      "14\n",
      "Json file edited\n"
     ]
    },
    {
     "name": "stderr",
     "output_type": "stream",
     "text": [
      "203it [00:00, 2027.70it/s]"
     ]
    },
    {
     "name": "stdout",
     "output_type": "stream",
     "text": [
      "Parsed ../kickoff-data-corrected/4b949eae-068b-4b0a-bc88-f5ef0a97b2ba.2.kickoff.rdb in 3.39 s.\n",
      "Contains keys: dict_keys(['left', 'right'])\n",
      "[left] start_ts: 1524322642512 | stop_ts: 1524323242312\n",
      "[right] start_ts: 1524322643076 | stop_ts: 1524323242636\n",
      "../kickoff-data-corrected/4b949eae-068b-4b0a-bc88-f5ef0a97b2ba.json\n",
      "[{'ts': '2018-04-21T14:00:33.996000', 'type': 'start_phase', 'phase': 1, 'kickoff_team_id': 13}, {'ts': '2018-04-21T14:45:33.074Z', 'type': 'end_phase', 'phase': 1}, {'ts': '2018-04-21T15:02:23.876000', 'type': 'start_phase', 'phase': 2, 'kickoff_team_id': 12}, {'ts': '2018-04-21T15:50:24.649Z', 'type': 'end_phase', 'phase': 2}]\n",
      "1524322943876\n"
     ]
    },
    {
     "name": "stderr",
     "output_type": "stream",
     "text": [
      "14989it [00:07, 2030.51it/s]\n"
     ]
    },
    {
     "name": "stdout",
     "output_type": "stream",
     "text": [
      "61\n",
      "14860 14860\n",
      "7439\n",
      "61\n",
      "61 61\n",
      "[26, 27, 28, 29, 30, 31, 32, 33, 34, 35, 36, 37, 38, 39, 40, 41, 42, 43, 44, 45, 46, 47, 48, 49, 50, 51, 52, 53, 54, 55, 56, 57, 58, 59, 60, 61, 62, 63, 64, 65, 66, 67, 68, 69, 70, 71, 72, 73, 74, 75, 76, 77, 78, 79, 80, 81, 82, 83, 84, 85, 86]\n",
      "15\n",
      "Json file edited\n"
     ]
    },
    {
     "name": "stderr",
     "output_type": "stream",
     "text": [
      "145it [00:00, 1442.30it/s]"
     ]
    },
    {
     "name": "stdout",
     "output_type": "stream",
     "text": [
      "Parsed ../kickoff-data-corrected/70593a9a-5258-4f89-a402-b555c8ee3514.1.kickoff.rdb in 2.72 s.\n",
      "Contains keys: dict_keys(['left', 'right'])\n",
      "[left] start_ts: 1525521349217 | stop_ts: 1525521946057\n",
      "[right] start_ts: 1525521349195 | stop_ts: 1525521946035\n",
      "../kickoff-data-corrected/70593a9a-5258-4f89-a402-b555c8ee3514.json\n",
      "[{'ts': '2018-05-05T12:00:48.555000', 'type': 'start_phase', 'phase': 1, 'kickoff_team_id': 3}, {'ts': '2018-05-05T12:47:24.013Z', 'type': 'end_phase', 'phase': 1}, {'ts': '2018-05-05T13:03:50.875000', 'type': 'start_phase', 'phase': 2, 'kickoff_team_id': 2}, {'ts': '2018-05-05T13:51:49.753Z', 'type': 'end_phase', 'phase': 2}]\n",
      "1525521648555\n"
     ]
    },
    {
     "name": "stderr",
     "output_type": "stream",
     "text": [
      "14921it [00:07, 1879.34it/s]\n"
     ]
    },
    {
     "name": "stdout",
     "output_type": "stream",
     "text": [
      "62\n",
      "14816 14816\n",
      "7408\n",
      "62\n",
      "62 62\n",
      "[26, 27, 28, 29, 30, 31, 32, 33, 34, 35, 36, 37, 38, 39, 40, 41, 42, 43, 44, 45, 46, 47, 48, 49, 50, 51, 52, 53, 54, 55, 56, 57, 58, 59, 60, 61, 62, 63, 64, 65, 66, 67, 68, 69, 70, 71, 72, 73, 74, 75, 76, 77, 78, 79, 80, 81, 82, 83, 84, 85, 86, 87]\n",
      "16\n",
      "Json file edited\n"
     ]
    },
    {
     "name": "stderr",
     "output_type": "stream",
     "text": [
      "465it [00:00, 2417.22it/s]"
     ]
    },
    {
     "name": "stdout",
     "output_type": "stream",
     "text": [
      "Parsed ../kickoff-data-corrected/050a1fae-5d48-4048-8f66-a3f12eca843d.1.kickoff.rdb in 2.47 s.\n",
      "Contains keys: dict_keys(['left', 'right'])\n",
      "[left] start_ts: 1526225101102 | stop_ts: 1526225700022\n",
      "[right] start_ts: 1526225101172 | stop_ts: 1526225700052\n",
      "../kickoff-data-corrected/050a1fae-5d48-4048-8f66-a3f12eca843d.json\n",
      "[{'ts': '2018-05-13T15:30:01.862000', 'type': 'start_phase', 'phase': 1, 'kickoff_team_id': 14}, {'ts': '2018-05-13T16:16:59.553Z', 'type': 'end_phase', 'phase': 1}, {'ts': '2018-05-13T16:32:03.932000', 'type': 'start_phase', 'phase': 2, 'kickoff_team_id': 8}, {'ts': '2018-05-13T17:20:33.812Z', 'type': 'end_phase', 'phase': 2}]\n",
      "1526225401862\n"
     ]
    },
    {
     "name": "stderr",
     "output_type": "stream",
     "text": [
      "14972it [00:07, 2071.30it/s]\n"
     ]
    },
    {
     "name": "stdout",
     "output_type": "stream",
     "text": [
      "61\n",
      "14860 14860\n",
      "7437\n",
      "61\n",
      "61 61\n",
      "[27, 28, 29, 30, 31, 32, 33, 34, 35, 36, 37, 38, 39, 40, 41, 42, 43, 44, 45, 46, 47, 48, 49, 50, 51, 52, 53, 54, 55, 56, 57, 58, 59, 60, 61, 62, 63, 64, 65, 66, 67, 68, 69, 70, 71, 72, 73, 74, 75, 76, 77, 78, 79, 80, 81, 82, 83, 84, 85, 86, 87]\n",
      "17\n",
      "Json file edited\n",
      "Parsed ../kickoff-data-corrected/c4b2214b-4e3c-4dfb-a691-a5b008b9d778.1.kickoff.rdb in 1.75 s.\n",
      "Contains keys: dict_keys(['left', 'right'])\n",
      "[left] start_ts: 1525611301214 | stop_ts: 1525611898494\n",
      "[right] start_ts: 1525611300264 | stop_ts: 1525611897984\n",
      "../kickoff-data-corrected/c4b2214b-4e3c-4dfb-a691-a5b008b9d778.json\n",
      "[{'ts': '1970-01-01T00:00:00', 'type': 'start_phase', 'phase': 1, 'kickoff_team_id': 16}, {'ts': '2018-05-06T13:45:00.746Z', 'type': 'end_phase', 'phase': 1}, {'ts': '1970-01-01T00:00:00', 'type': 'start_phase', 'phase': 2, 'kickoff_team_id': 9}, {'ts': '2018-05-06T14:48:47.422Z', 'type': 'end_phase', 'phase': 2}]\n",
      "0\n",
      "Json file edited\n"
     ]
    },
    {
     "name": "stderr",
     "output_type": "stream",
     "text": [
      "419it [00:00, 2094.79it/s]"
     ]
    },
    {
     "name": "stdout",
     "output_type": "stream",
     "text": [
      "Parsed ../kickoff-data-corrected/57bf9b24-5c68-464f-9e74-20d0b2508bba.2.kickoff.rdb in 2.16 s.\n",
      "Contains keys: dict_keys(['left', 'right'])\n",
      "[left] start_ts: 1524074286135 | stop_ts: 1524074882975\n",
      "[right] start_ts: 1524074286793 | stop_ts: 1524074883313\n",
      "../kickoff-data-corrected/57bf9b24-5c68-464f-9e74-20d0b2508bba.json\n",
      "[{'ts': '2018-04-18T17:00:29.775000', 'type': 'start_phase', 'phase': 1, 'kickoff_team_id': 11}, {'ts': '2018-04-18T17:46:35.647Z', 'type': 'end_phase', 'phase': 1}, {'ts': '2018-04-18T18:03:05.473000', 'type': 'start_phase', 'phase': 2, 'kickoff_team_id': 8}, {'ts': '2018-04-18T18:52:04.739Z', 'type': 'end_phase', 'phase': 2}]\n",
      "1524074585473\n"
     ]
    },
    {
     "name": "stderr",
     "output_type": "stream",
     "text": [
      "14914it [00:07, 2051.36it/s]\n"
     ]
    },
    {
     "name": "stdout",
     "output_type": "stream",
     "text": [
      "61\n",
      "14787 14787\n",
      "7387\n",
      "61\n",
      "61 61\n",
      "[26, 27, 28, 29, 30, 31, 32, 33, 34, 35, 36, 37, 38, 39, 40, 41, 42, 43, 44, 45, 46, 47, 48, 49, 50, 51, 52, 53, 54, 55, 56, 57, 58, 59, 60, 61, 62, 63, 64, 65, 66, 67, 68, 69, 70, 71, 72, 73, 74, 75, 76, 77, 78, 79, 80, 81, 82, 83, 84, 85, 86]\n",
      "18\n",
      "Json file edited\n"
     ]
    },
    {
     "name": "stderr",
     "output_type": "stream",
     "text": [
      "292it [00:00, 2919.71it/s]"
     ]
    },
    {
     "name": "stdout",
     "output_type": "stream",
     "text": [
      "Parsed ../kickoff-data-corrected/4be6ef54-2541-42d0-a334-e513a535029c.1.kickoff.rdb in 2.99 s.\n",
      "Contains keys: dict_keys(['left', 'right'])\n",
      "[left] start_ts: 1523714121022 | stop_ts: 1523714720662\n",
      "[right] start_ts: 1523714121038 | stop_ts: 1523714720678\n",
      "../kickoff-data-corrected/4be6ef54-2541-42d0-a334-e513a535029c.json\n",
      "[{'ts': '2018-04-14T14:00:21.598000', 'type': 'start_phase', 'phase': 1, 'kickoff_team_id': 16}, {'ts': '2018-04-14T14:46:37.899Z', 'type': 'end_phase', 'phase': 1}, {'ts': '2018-04-14T15:02:38.518000', 'type': 'start_phase', 'phase': 2, 'kickoff_team_id': 5}, {'ts': '2018-04-14T15:51:35.702Z', 'type': 'end_phase', 'phase': 2}]\n",
      "1523714421598\n"
     ]
    },
    {
     "name": "stderr",
     "output_type": "stream",
     "text": [
      "14991it [00:07, 1918.80it/s]\n"
     ]
    },
    {
     "name": "stdout",
     "output_type": "stream",
     "text": [
      "62\n",
      "14887 14887\n",
      "7437\n",
      "62\n",
      "62 62\n",
      "[26, 27, 28, 29, 30, 31, 32, 33, 34, 35, 36, 37, 38, 39, 40, 41, 42, 43, 44, 45, 46, 47, 48, 49, 50, 51, 52, 53, 54, 55, 56, 57, 58, 59, 60, 61, 62, 63, 64, 65, 66, 67, 68, 69, 70, 71, 72, 73, 74, 75, 76, 77, 78, 79, 80, 81, 82, 83, 84, 85, 86, 87]\n",
      "19\n",
      "Json file edited\n"
     ]
    },
    {
     "name": "stderr",
     "output_type": "stream",
     "text": [
      "258it [00:00, 2578.77it/s]"
     ]
    },
    {
     "name": "stdout",
     "output_type": "stream",
     "text": [
      "Parsed ../kickoff-data-corrected/9ab7ccfb-75cb-4756-9eb5-fe8c29de8fcc.2.kickoff.rdb in 1.66 s.\n",
      "Contains keys: dict_keys(['left', 'right'])\n",
      "[left] start_ts: 1525624025358 | stop_ts: 1525624625238\n",
      "[right] start_ts: 1525624025530 | stop_ts: 1525624625290\n",
      "../kickoff-data-corrected/9ab7ccfb-75cb-4756-9eb5-fe8c29de8fcc.json\n",
      "[{'ts': '1970-01-01T00:00:00', 'type': 'start_phase', 'phase': 1, 'kickoff_team_id': 10}, {'ts': '2018-05-06T16:16:18.200Z', 'type': 'end_phase', 'phase': 1}, {'ts': '2018-05-06T16:32:07.130000', 'type': 'start_phase', 'phase': 2, 'kickoff_team_id': 7}, {'ts': '2018-05-06T17:20:08.236Z', 'type': 'end_phase', 'phase': 2}]\n",
      "1525624327130\n"
     ]
    },
    {
     "name": "stderr",
     "output_type": "stream",
     "text": [
      "14996it [00:05, 2575.95it/s]\n"
     ]
    },
    {
     "name": "stdout",
     "output_type": "stream",
     "text": [
      "61\n",
      "14875 14875\n",
      "7459\n",
      "61\n",
      "61 61\n",
      "[26, 27, 28, 29, 30, 31, 32, 33, 34, 35, 36, 37, 38, 39, 40, 41, 42, 43, 44, 45, 46, 47, 48, 49, 50, 51, 52, 53, 54, 55, 56, 57, 58, 59, 60, 61, 62, 63, 64, 65, 66, 67, 68, 69, 70, 71, 72, 73, 74, 75, 76, 77, 78, 79, 80, 81, 82, 83, 84, 85, 86]\n",
      "20\n",
      "Json file edited\n",
      "Parsed ../kickoff-data-corrected/6e26f66b-a921-4919-9d7d-1bd59f935e78.1.kickoff.rdb in 2.29 s.\n",
      "Contains keys: dict_keys(['left', 'right'])\n",
      "[left] start_ts: 1523638587613 | stop_ts: 1523639186133\n",
      "[right] start_ts: 1523638586979 | stop_ts: 1523639185819\n",
      "../kickoff-data-corrected/6e26f66b-a921-4919-9d7d-1bd59f935e78.json\n",
      "[{'ts': '1970-01-01T00:00:00', 'type': 'start_phase', 'phase': 1, 'kickoff_team_id': 3}, {'ts': '2018-04-13T17:48:25.115Z', 'type': 'end_phase', 'phase': 1}, {'ts': '1970-01-01T00:00:00', 'type': 'start_phase', 'phase': 2, 'kickoff_team_id': 8}, {'ts': '2018-04-13T18:52:23.632Z', 'type': 'end_phase', 'phase': 2}]\n",
      "0\n",
      "Json file edited\n"
     ]
    },
    {
     "name": "stderr",
     "output_type": "stream",
     "text": [
      "111it [00:00, 1109.23it/s]"
     ]
    },
    {
     "name": "stdout",
     "output_type": "stream",
     "text": [
      "Parsed ../kickoff-data-corrected/57bf9b24-5c68-464f-9e74-20d0b2508bba.1.kickoff.rdb in 2.91 s.\n",
      "Contains keys: dict_keys(['left', 'right'])\n",
      "[left] start_ts: 1524070530135 | stop_ts: 1524071127975\n",
      "[right] start_ts: 1524070530793 | stop_ts: 1524071128313\n",
      "../kickoff-data-corrected/57bf9b24-5c68-464f-9e74-20d0b2508bba.json\n",
      "[{'ts': '2018-04-18T17:00:29.775000', 'type': 'start_phase', 'phase': 1, 'kickoff_team_id': 11}, {'ts': '2018-04-18T17:46:35.647Z', 'type': 'end_phase', 'phase': 1}, {'ts': '2018-04-18T18:03:05.473000', 'type': 'start_phase', 'phase': 2, 'kickoff_team_id': 8}, {'ts': '2018-04-18T18:52:04.739Z', 'type': 'end_phase', 'phase': 2}]\n",
      "1524070829775\n"
     ]
    },
    {
     "name": "stderr",
     "output_type": "stream",
     "text": [
      "14939it [00:08, 1745.04it/s]\n"
     ]
    },
    {
     "name": "stdout",
     "output_type": "stream",
     "text": [
      "62\n",
      "14811 14811\n",
      "7394\n",
      "62\n",
      "62 62\n",
      "[26, 27, 28, 29, 30, 31, 32, 33, 34, 35, 36, 37, 38, 39, 40, 41, 42, 43, 44, 45, 46, 47, 48, 49, 50, 51, 52, 53, 54, 55, 56, 57, 58, 59, 60, 61, 62, 63, 64, 65, 66, 67, 68, 69, 70, 71, 72, 73, 74, 75, 76, 77, 78, 79, 80, 81, 82, 83, 84, 85, 86, 87]\n",
      "21\n",
      "Json file edited\n"
     ]
    },
    {
     "name": "stderr",
     "output_type": "stream",
     "text": [
      "601it [00:00, 3125.15it/s]"
     ]
    },
    {
     "name": "stdout",
     "output_type": "stream",
     "text": [
      "Parsed ../kickoff-data-corrected/66b6caf7-e5c0-45dd-874f-de8ac2e3c9ff.1.kickoff.rdb in 3.12 s.\n",
      "Contains keys: dict_keys(['left', 'right'])\n",
      "[left] start_ts: 1526921712782 | stop_ts: 1526922309662\n",
      "[right] start_ts: 1526921712730 | stop_ts: 1526922309650\n",
      "../kickoff-data-corrected/66b6caf7-e5c0-45dd-874f-de8ac2e3c9ff.json\n",
      "[{'ts': '2018-05-21T17:00:10.970000', 'type': 'start_phase', 'phase': 1, 'kickoff_team_id': 6}, {'ts': '2018-05-21T17:46:11.855Z', 'type': 'end_phase', 'phase': 1}, {'ts': '2018-05-21T18:01:54.690000', 'type': 'start_phase', 'phase': 2, 'kickoff_team_id': 7}, {'ts': '2018-05-21T18:51:25.546Z', 'type': 'end_phase', 'phase': 2}]\n",
      "1526922010970\n"
     ]
    },
    {
     "name": "stderr",
     "output_type": "stream",
     "text": [
      "14922it [00:05, 2580.47it/s]\n"
     ]
    },
    {
     "name": "stdout",
     "output_type": "stream",
     "text": [
      "62\n",
      "14818 14818\n",
      "7379\n",
      "62\n",
      "62 62\n",
      "[26, 27, 28, 29, 30, 31, 32, 33, 34, 35, 36, 37, 38, 39, 40, 41, 42, 43, 44, 45, 46, 47, 48, 49, 50, 51, 52, 53, 54, 55, 56, 57, 58, 59, 60, 61, 62, 63, 64, 65, 66, 67, 68, 69, 70, 71, 72, 73, 74, 75, 76, 77, 78, 79, 80, 81, 82, 83, 84, 85, 86, 87]\n",
      "22\n",
      "Json file edited\n"
     ]
    },
    {
     "name": "stderr",
     "output_type": "stream",
     "text": [
      "466it [00:00, 2305.37it/s]"
     ]
    },
    {
     "name": "stdout",
     "output_type": "stream",
     "text": [
      "Parsed ../kickoff-data-corrected/2b8bcfd6-5f57-46de-aacd-e932ac8e1697.2.kickoff.rdb in 2.02 s.\n",
      "Contains keys: dict_keys(['left', 'right'])\n",
      "[left] start_ts: 1523204960829 | stop_ts: 1523205559349\n",
      "[right] start_ts: 1523204962061 | stop_ts: 1523205559981\n",
      "../kickoff-data-corrected/2b8bcfd6-5f57-46de-aacd-e932ac8e1697.json\n",
      "[{'ts': '1970-01-01T00:00:00', 'type': 'start_phase', 'phase': 1, 'kickoff_team_id': 13}, {'ts': '2018-04-08T16:17:54.242Z', 'type': 'end_phase', 'phase': 1}, {'ts': '2018-04-08T16:34:22.301000', 'type': 'start_phase', 'phase': 2, 'kickoff_team_id': 16}, {'ts': '2018-04-08T17:23:20.816Z', 'type': 'end_phase', 'phase': 2}]\n",
      "1523205262301\n"
     ]
    },
    {
     "name": "stderr",
     "output_type": "stream",
     "text": [
      "14949it [00:07, 1920.55it/s]\n"
     ]
    },
    {
     "name": "stdout",
     "output_type": "stream",
     "text": [
      "62\n",
      "14816 14816\n",
      "7431\n",
      "62\n",
      "62 62\n",
      "[26, 27, 28, 29, 30, 31, 32, 33, 34, 35, 36, 37, 38, 39, 40, 41, 42, 43, 44, 45, 46, 47, 48, 49, 50, 51, 52, 53, 54, 55, 56, 57, 58, 59, 60, 61, 62, 63, 64, 65, 66, 67, 68, 69, 70, 71, 72, 73, 74, 75, 76, 77, 78, 79, 80, 81, 82, 83, 84, 85, 86, 87]\n",
      "23\n",
      "Json file edited\n"
     ]
    },
    {
     "name": "stderr",
     "output_type": "stream",
     "text": [
      "769it [00:00, 3712.30it/s]"
     ]
    },
    {
     "name": "stdout",
     "output_type": "stream",
     "text": [
      "Parsed ../kickoff-data-corrected/23fb8811-638e-4be8-a01d-76cad0f5a5bf.1.kickoff.rdb in 1.95 s.\n",
      "Contains keys: dict_keys(['left', 'right'])\n",
      "[left] start_ts: 1526133303595 | stop_ts: 1526133902435\n",
      "[right] start_ts: 1526133303581 | stop_ts: 1526133902461\n",
      "../kickoff-data-corrected/23fb8811-638e-4be8-a01d-76cad0f5a5bf.json\n",
      "[{'ts': '2018-05-12T14:00:04.221000', 'type': 'start_phase', 'phase': 1, 'kickoff_team_id': 3}, {'ts': '2018-05-12T14:46:02.666Z', 'type': 'end_phase', 'phase': 1}, {'ts': '2018-05-12T15:01:24.821000', 'type': 'start_phase', 'phase': 2, 'kickoff_team_id': 15}, {'ts': '2018-05-12T15:48:40.504Z', 'type': 'end_phase', 'phase': 2}]\n",
      "1526133604221\n"
     ]
    },
    {
     "name": "stderr",
     "output_type": "stream",
     "text": [
      "14971it [00:06, 2472.89it/s]\n"
     ]
    },
    {
     "name": "stdout",
     "output_type": "stream",
     "text": [
      "62\n",
      "14865 14865\n",
      "7438\n",
      "62\n",
      "62 62\n",
      "[26, 27, 28, 29, 30, 31, 32, 33, 34, 35, 36, 37, 38, 39, 40, 41, 42, 43, 44, 45, 46, 47, 48, 49, 50, 51, 52, 53, 54, 55, 56, 57, 58, 59, 60, 61, 62, 63, 64, 65, 66, 67, 68, 69, 70, 71, 72, 73, 74, 75, 76, 77, 78, 79, 80, 81, 82, 83, 84, 85, 86, 87]\n",
      "24\n",
      "Json file edited\n"
     ]
    },
    {
     "name": "stderr",
     "output_type": "stream",
     "text": [
      "394it [00:00, 1873.59it/s]"
     ]
    },
    {
     "name": "stdout",
     "output_type": "stream",
     "text": [
      "Parsed ../kickoff-data-corrected/b4dbea7c-c72f-4dd6-b57c-8fb7b8b38eb5.1.kickoff.rdb in 2.62 s.\n",
      "Contains keys: dict_keys(['left', 'right'])\n",
      "[left] start_ts: 1524070510939 | stop_ts: 1524071110739\n",
      "[right] start_ts: 1524070510889 | stop_ts: 1524071110729\n",
      "../kickoff-data-corrected/b4dbea7c-c72f-4dd6-b57c-8fb7b8b38eb5.json\n",
      "[{'ts': '2018-04-18T17:00:11.969000', 'type': 'start_phase', 'phase': 1, 'kickoff_team_id': 13}, {'ts': '2018-04-18T17:47:10.874Z', 'type': 'end_phase', 'phase': 1}, {'ts': '2018-04-18T18:02:20.169000', 'type': 'start_phase', 'phase': 2, 'kickoff_team_id': 9}, {'ts': '2018-04-18T18:49:19.022Z', 'type': 'end_phase', 'phase': 2}]\n",
      "1524070811969\n"
     ]
    },
    {
     "name": "stderr",
     "output_type": "stream",
     "text": [
      "14996it [00:09, 1637.97it/s]\n"
     ]
    },
    {
     "name": "stdout",
     "output_type": "stream",
     "text": [
      "62\n",
      "14892 14892\n",
      "7450\n",
      "62\n",
      "62 62\n",
      "[26, 27, 28, 29, 30, 31, 32, 33, 34, 35, 36, 37, 38, 39, 40, 41, 42, 43, 44, 45, 46, 47, 48, 49, 50, 51, 52, 53, 54, 55, 56, 57, 58, 59, 60, 61, 62, 63, 64, 65, 66, 67, 68, 69, 70, 71, 72, 73, 74, 75, 76, 77, 78, 79, 80, 81, 82, 83, 84, 85, 86, 87]\n",
      "25\n",
      "Json file edited\n"
     ]
    },
    {
     "name": "stderr",
     "output_type": "stream",
     "text": [
      "172it [00:00, 1712.29it/s]"
     ]
    },
    {
     "name": "stdout",
     "output_type": "stream",
     "text": [
      "Parsed ../kickoff-data-corrected/8d6fc150-9f6b-4e5c-8a99-d2ca96b5ffa5.1.kickoff.rdb in 3.90 s.\n",
      "Contains keys: dict_keys(['left', 'right'])\n",
      "[left] start_ts: 1524156948162 | stop_ts: 1524157546082\n",
      "[right] start_ts: 1524156948802 | stop_ts: 1524157546362\n",
      "../kickoff-data-corrected/8d6fc150-9f6b-4e5c-8a99-d2ca96b5ffa5.json\n",
      "[{'ts': '2018-04-19T17:00:47.522000', 'type': 'start_phase', 'phase': 1, 'kickoff_team_id': 4}, {'ts': '2018-04-19T17:45:47.791Z', 'type': 'end_phase', 'phase': 1}, {'ts': '2018-04-19T18:01:37.282000', 'type': 'start_phase', 'phase': 2, 'kickoff_team_id': 2}, {'ts': '2018-04-19T18:51:07.597Z', 'type': 'end_phase', 'phase': 2}]\n",
      "1524157247522\n"
     ]
    },
    {
     "name": "stderr",
     "output_type": "stream",
     "text": [
      "14940it [00:08, 1730.32it/s]\n"
     ]
    },
    {
     "name": "stdout",
     "output_type": "stream",
     "text": [
      "62\n",
      "14815 14815\n",
      "7389\n",
      "62\n",
      "62 62\n",
      "[26, 27, 28, 29, 30, 31, 32, 33, 34, 35, 36, 37, 38, 39, 40, 41, 42, 43, 44, 45, 46, 47, 48, 49, 50, 51, 52, 53, 54, 55, 56, 57, 58, 59, 60, 61, 62, 63, 64, 65, 66, 67, 68, 69, 70, 71, 72, 73, 74, 75, 76, 77, 78, 79, 80, 81, 82, 83, 84, 85, 86, 87]\n",
      "26\n",
      "Json file edited\n"
     ]
    },
    {
     "name": "stderr",
     "output_type": "stream",
     "text": [
      "272it [00:00, 1338.18it/s]"
     ]
    },
    {
     "name": "stdout",
     "output_type": "stream",
     "text": [
      "Parsed ../kickoff-data-corrected/cf16ebf4-49fc-4991-a9b8-b9a055dcf2b8.1.kickoff.rdb in 2.16 s.\n",
      "Contains keys: dict_keys(['left', 'right'])\n",
      "[left] start_ts: 1525006796874 | stop_ts: 1525007393674\n",
      "[right] start_ts: 1525006796888 | stop_ts: 1525007393688\n",
      "../kickoff-data-corrected/cf16ebf4-49fc-4991-a9b8-b9a055dcf2b8.json\n",
      "[{'ts': '2018-04-29T13:04:55.088000', 'type': 'start_phase', 'phase': 1, 'kickoff_team_id': 2}, {'ts': '2018-04-29T13:51:58.173Z', 'type': 'end_phase', 'phase': 1}, {'ts': '2018-04-29T14:09:37.368000', 'type': 'start_phase', 'phase': 2, 'kickoff_team_id': 11}, {'ts': '2018-04-29T14:57:43.997Z', 'type': 'end_phase', 'phase': 2}]\n",
      "1525007095088\n"
     ]
    },
    {
     "name": "stderr",
     "output_type": "stream",
     "text": [
      "14921it [00:07, 1981.61it/s]\n"
     ]
    },
    {
     "name": "stdout",
     "output_type": "stream",
     "text": [
      "62\n",
      "14818 14818\n",
      "7379\n",
      "62\n",
      "62 62\n",
      "[26, 27, 28, 29, 30, 31, 32, 33, 34, 35, 36, 37, 38, 39, 40, 41, 42, 43, 44, 45, 46, 47, 48, 49, 50, 51, 52, 53, 54, 55, 56, 57, 58, 59, 60, 61, 62, 63, 64, 65, 66, 67, 68, 69, 70, 71, 72, 73, 74, 75, 76, 77, 78, 79, 80, 81, 82, 83, 84, 85, 86, 87]\n",
      "27\n",
      "Json file edited\n"
     ]
    },
    {
     "name": "stderr",
     "output_type": "stream",
     "text": [
      "226it [00:00, 2256.13it/s]"
     ]
    },
    {
     "name": "stdout",
     "output_type": "stream",
     "text": [
      "Parsed ../kickoff-data-corrected/d092d84a-bfe1-4638-bd6e-7f516a90553a.2.kickoff.rdb in 1.91 s.\n",
      "Contains keys: dict_keys(['left', 'right'])\n",
      "[left] start_ts: 1527346602172 | stop_ts: 1527347199012\n",
      "[right] start_ts: 1527346602142 | stop_ts: 1527347199022\n",
      "../kickoff-data-corrected/d092d84a-bfe1-4638-bd6e-7f516a90553a.json\n",
      "[{'ts': '1970-01-01T00:00:00', 'type': 'start_phase', 'phase': 1, 'kickoff_team_id': 10}, {'ts': '2018-05-26T14:46:31.767Z', 'type': 'end_phase', 'phase': 1}, {'ts': '2018-05-26T15:01:41.702000', 'type': 'start_phase', 'phase': 2, 'kickoff_team_id': 4}, {'ts': '2018-05-26T15:49:43.350Z', 'type': 'end_phase', 'phase': 2}]\n",
      "1527346901702\n"
     ]
    },
    {
     "name": "stderr",
     "output_type": "stream",
     "text": [
      "14922it [00:06, 2182.28it/s]\n"
     ]
    },
    {
     "name": "stdout",
     "output_type": "stream",
     "text": [
      "62\n",
      "14817 14817\n",
      "7412\n",
      "62\n",
      "62 62\n",
      "[26, 27, 28, 29, 30, 31, 32, 33, 34, 35, 36, 37, 38, 39, 40, 41, 42, 43, 44, 45, 46, 47, 48, 49, 50, 51, 52, 53, 54, 55, 56, 57, 58, 59, 60, 61, 62, 63, 64, 65, 66, 67, 68, 69, 70, 71, 72, 73, 74, 75, 76, 77, 78, 79, 80, 81, 82, 83, 84, 85, 86, 87]\n",
      "28\n",
      "Json file edited\n"
     ]
    },
    {
     "name": "stderr",
     "output_type": "stream",
     "text": [
      "242it [00:00, 1242.25it/s]"
     ]
    },
    {
     "name": "stdout",
     "output_type": "stream",
     "text": [
      "Parsed ../kickoff-data-corrected/314f4989-398c-45a3-a74f-9f1adac71bf1.1.kickoff.rdb in 2.12 s.\n",
      "Contains keys: dict_keys(['left', 'right'])\n",
      "[left] start_ts: 1522587361524 | stop_ts: 1522587961404\n",
      "[right] start_ts: 1522587361602 | stop_ts: 1522587961442\n",
      "../kickoff-data-corrected/314f4989-398c-45a3-a74f-9f1adac71bf1.json\n",
      "[{'ts': '2018-04-01T13:00:57.284000', 'type': 'start_phase', 'phase': 1, 'kickoff_team_id': 9}, {'ts': '2018-04-01T13:47:08.486Z', 'type': 'end_phase', 'phase': 1}, {'ts': '1970-01-01T00:00:00', 'type': 'start_phase', 'phase': 2, 'kickoff_team_id': 5}, {'ts': '2018-04-01T14:50:51.103Z', 'type': 'end_phase', 'phase': 2}]\n",
      "1522587657284\n"
     ]
    },
    {
     "name": "stderr",
     "output_type": "stream",
     "text": [
      "14908it [00:07, 1966.26it/s]\n"
     ]
    },
    {
     "name": "stdout",
     "output_type": "stream",
     "text": [
      "61\n",
      "14701 14701\n",
      "7311\n",
      "61\n",
      "61 61\n",
      "[27, 28, 29, 30, 31, 32, 33, 34, 35, 36, 37, 38, 39, 40, 41, 42, 43, 44, 45, 46, 47, 48, 49, 50, 51, 52, 53, 54, 55, 56, 57, 58, 59, 60, 61, 62, 63, 64, 65, 66, 67, 68, 69, 70, 71, 72, 73, 74, 75, 76, 77, 78, 79, 80, 81, 82, 83, 84, 85, 86, 87]\n",
      "29\n",
      "Json file edited\n"
     ]
    },
    {
     "name": "stderr",
     "output_type": "stream",
     "text": [
      "419it [00:00, 4186.90it/s]"
     ]
    },
    {
     "name": "stdout",
     "output_type": "stream",
     "text": [
      "Parsed ../kickoff-data-corrected/03d0ac1b-8adb-457d-9519-b6c879a92df3.2.kickoff.rdb in 3.09 s.\n",
      "Contains keys: dict_keys(['left', 'right'])\n",
      "[left] start_ts: 1526825255686 | stop_ts: 1526825853606\n",
      "[right] start_ts: 1526825255814 | stop_ts: 1526825853694\n",
      "../kickoff-data-corrected/03d0ac1b-8adb-457d-9519-b6c879a92df3.json\n",
      "[{'ts': '2018-05-20T13:10:06.054Z', 'type': 'start_phase', 'phase': 1, 'kickoff_team_id': 10}, {'ts': '2018-05-20T13:55:08.940Z', 'type': 'end_phase', 'phase': 1}, {'ts': '2018-05-20T14:12:36.446000', 'type': 'start_phase', 'phase': 2, 'kickoff_team_id': 2}, {'ts': '2018-05-20T15:02:18.183Z', 'type': 'end_phase', 'phase': 2}]\n",
      "1526825556446\n"
     ]
    },
    {
     "name": "stderr",
     "output_type": "stream",
     "text": [
      "14948it [00:06, 2246.87it/s]\n"
     ]
    },
    {
     "name": "stdout",
     "output_type": "stream",
     "text": [
      "62\n",
      "14825 14825\n",
      "7432\n",
      "62\n",
      "62 62\n",
      "[26, 27, 28, 29, 30, 31, 32, 33, 34, 35, 36, 37, 38, 39, 40, 41, 42, 43, 44, 45, 46, 47, 48, 49, 50, 51, 52, 53, 54, 55, 56, 57, 58, 59, 60, 61, 62, 63, 64, 65, 66, 67, 68, 69, 70, 71, 72, 73, 74, 75, 76, 77, 78, 79, 80, 81, 82, 83, 84, 85, 86, 87]\n",
      "30\n",
      "Json file edited\n"
     ]
    },
    {
     "name": "stderr",
     "output_type": "stream",
     "text": [
      "1724it [00:00, 7812.54it/s]"
     ]
    },
    {
     "name": "stdout",
     "output_type": "stream",
     "text": [
      "Parsed ../kickoff-data-corrected/8d6fc150-9f6b-4e5c-8a99-d2ca96b5ffa5.2.kickoff.rdb in 1.81 s.\n",
      "Contains keys: dict_keys(['left', 'right'])\n",
      "[left] start_ts: 1524160596162 | stop_ts: 1524161195082\n",
      "[right] start_ts: 1524160596802 | stop_ts: 1524161195362\n",
      "../kickoff-data-corrected/8d6fc150-9f6b-4e5c-8a99-d2ca96b5ffa5.json\n",
      "[{'ts': '2018-04-19T17:00:47.522000', 'type': 'start_phase', 'phase': 1, 'kickoff_team_id': 4}, {'ts': '2018-04-19T17:45:47.791Z', 'type': 'end_phase', 'phase': 1}, {'ts': '2018-04-19T18:01:37.282000', 'type': 'start_phase', 'phase': 2, 'kickoff_team_id': 2}, {'ts': '2018-04-19T18:51:07.597Z', 'type': 'end_phase', 'phase': 2}]\n",
      "1524160897282\n"
     ]
    },
    {
     "name": "stderr",
     "output_type": "stream",
     "text": [
      "14965it [00:06, 2371.20it/s]\n"
     ]
    },
    {
     "name": "stdout",
     "output_type": "stream",
     "text": [
      "62\n",
      "14837 14837\n",
      "7432\n",
      "62\n",
      "62 62\n",
      "[26, 27, 28, 29, 30, 31, 32, 33, 34, 35, 36, 37, 38, 39, 40, 41, 42, 43, 44, 45, 46, 47, 48, 49, 50, 51, 52, 53, 54, 55, 56, 57, 58, 59, 60, 61, 62, 63, 64, 65, 66, 67, 68, 69, 70, 71, 72, 73, 74, 75, 76, 77, 78, 79, 80, 81, 82, 83, 84, 85, 86, 87]\n",
      "31\n",
      "Json file edited\n",
      "Parsed ../kickoff-data-corrected/47ed3e3a-56d1-4eb1-b5d3-9e5f9658fda7.2.kickoff.rdb in 1.89 s.\n",
      "Contains keys: dict_keys(['left', 'right'])\n",
      "[left] start_ts: 1526320594327 | stop_ts: 1526321192167\n",
      "[right] start_ts: 1526320594243 | stop_ts: 1526321192163\n",
      "../kickoff-data-corrected/47ed3e3a-56d1-4eb1-b5d3-9e5f9658fda7.json\n",
      "[{'ts': '1970-01-01T00:00:00', 'type': 'start_phase', 'phase': 1, 'kickoff_team_id': 10}, {'ts': '2018-05-14T17:46:28.806Z', 'type': 'end_phase', 'phase': 1}, {'ts': '1970-01-01T00:00:00', 'type': 'start_phase', 'phase': 2, 'kickoff_team_id': 13}, {'ts': '2018-05-14T18:49:37.209Z', 'type': 'end_phase', 'phase': 2}]\n",
      "0\n",
      "Json file edited\n",
      "Parsed ../kickoff-data-corrected/916abbb2-57b9-4700-8cc5-3fc01de1a6f8.1.kickoff.rdb in 2.36 s.\n",
      "Contains keys: dict_keys(['left', 'right'])\n",
      "[left] start_ts: 1526745302179 | stop_ts: 1526745901059\n",
      "[right] start_ts: 1526745302339 | stop_ts: 1526745901139\n",
      "../kickoff-data-corrected/916abbb2-57b9-4700-8cc5-3fc01de1a6f8.json\n",
      "[{'ts': '1970-01-01T00:00:00', 'type': 'start_phase', 'phase': 1, 'kickoff_team_id': 16}, {'ts': '2018-05-19T16:46:01.609Z', 'type': 'end_phase', 'phase': 1}, {'ts': '2018-05-19T17:02:56.859000', 'type': 'start_phase', 'phase': 2, 'kickoff_team_id': 4}, {'ts': '2018-05-19T17:51:06.302Z', 'type': 'end_phase', 'phase': 2}]\n",
      "0\n",
      "Json file edited\n",
      "Parsed ../kickoff-data-corrected/d092d84a-bfe1-4638-bd6e-7f516a90553a.1.kickoff.rdb in 2.83 s.\n",
      "Contains keys: dict_keys(['left', 'right'])\n",
      "[left] start_ts: 1527342934172 | stop_ts: 1527343533012\n",
      "[right] start_ts: 1527342934142 | stop_ts: 1527343533022\n",
      "../kickoff-data-corrected/d092d84a-bfe1-4638-bd6e-7f516a90553a.json\n",
      "[{'ts': '1970-01-01T00:00:00', 'type': 'start_phase', 'phase': 1, 'kickoff_team_id': 10}, {'ts': '2018-05-26T14:46:31.767Z', 'type': 'end_phase', 'phase': 1}, {'ts': '2018-05-26T15:01:41.702000', 'type': 'start_phase', 'phase': 2, 'kickoff_team_id': 4}, {'ts': '2018-05-26T15:49:43.350Z', 'type': 'end_phase', 'phase': 2}]\n",
      "0\n",
      "Json file edited\n"
     ]
    },
    {
     "name": "stderr",
     "output_type": "stream",
     "text": [
      "164it [00:00, 818.08it/s]"
     ]
    },
    {
     "name": "stdout",
     "output_type": "stream",
     "text": [
      "Parsed ../kickoff-data-corrected/ba34fc2e-bdba-40d8-8cc8-a679c6eecd5a.1.kickoff.rdb in 1.90 s.\n",
      "Contains keys: dict_keys(['left', 'right'])\n",
      "[left] start_ts: 1522596366681 | stop_ts: 1522596965521\n",
      "[right] start_ts: 1522596366671 | stop_ts: 1522596965511\n",
      "../kickoff-data-corrected/ba34fc2e-bdba-40d8-8cc8-a679c6eecd5a.json\n",
      "[{'ts': '2018-04-01T15:31:02.151000', 'type': 'start_phase', 'phase': 1, 'kickoff_team_id': 11}, {'ts': '2018-04-01T16:16:08.759Z', 'type': 'end_phase', 'phase': 1}, {'ts': '1970-01-01T00:00:00', 'type': 'start_phase', 'phase': 2, 'kickoff_team_id': 13}, {'ts': '2018-04-01T17:20:20.880Z', 'type': 'end_phase', 'phase': 2}]\n",
      "1522596662151\n"
     ]
    },
    {
     "name": "stderr",
     "output_type": "stream",
     "text": [
      "14972it [00:06, 2349.97it/s]\n"
     ]
    },
    {
     "name": "stdout",
     "output_type": "stream",
     "text": [
      "62\n",
      "14868 14868\n",
      "7310\n",
      "62\n",
      "62 62\n",
      "[26, 27, 28, 29, 30, 31, 32, 33, 34, 35, 36, 37, 38, 39, 40, 41, 42, 43, 44, 45, 46, 47, 48, 49, 50, 51, 52, 53, 54, 55, 56, 57, 58, 59, 60, 61, 62, 63, 64, 65, 66, 67, 68, 69, 70, 71, 72, 73, 74, 75, 76, 77, 78, 79, 80, 81, 82, 83, 84, 85, 86, 87]\n",
      "32\n",
      "Json file edited\n",
      "Parsed ../kickoff-data-corrected/c4b2214b-4e3c-4dfb-a691-a5b008b9d778.2.kickoff.rdb in 2.96 s.\n",
      "Contains keys: dict_keys(['left', 'right'])\n",
      "[left] start_ts: 1525614945214 | stop_ts: 1525615542494\n",
      "[right] start_ts: 1525614944224 | stop_ts: 1525615541984\n",
      "../kickoff-data-corrected/c4b2214b-4e3c-4dfb-a691-a5b008b9d778.json\n",
      "[{'ts': '1970-01-01T00:00:00', 'type': 'start_phase', 'phase': 1, 'kickoff_team_id': 16}, {'ts': '2018-05-06T13:45:00.746Z', 'type': 'end_phase', 'phase': 1}, {'ts': '1970-01-01T00:00:00', 'type': 'start_phase', 'phase': 2, 'kickoff_team_id': 9}, {'ts': '2018-05-06T14:48:47.422Z', 'type': 'end_phase', 'phase': 2}]\n",
      "0\n",
      "Json file edited\n"
     ]
    },
    {
     "name": "stderr",
     "output_type": "stream",
     "text": [
      "732it [00:00, 3659.15it/s]"
     ]
    },
    {
     "name": "stdout",
     "output_type": "stream",
     "text": [
      "Parsed ../kickoff-data-corrected/cbcca433-ff77-4927-a5a3-36ff293c12fd.2.kickoff.rdb in 1.51 s.\n",
      "Contains keys: dict_keys(['left', 'right'])\n",
      "[left] start_ts: 1523296760048 | stop_ts: 1523297356248\n",
      "[right] start_ts: 1523296748330 | stop_ts: 1523297346370\n",
      "../kickoff-data-corrected/cbcca433-ff77-4927-a5a3-36ff293c12fd.json\n",
      "[{'ts': '1970-01-01T00:00:00', 'type': 'start_phase', 'phase': 1, 'kickoff_team_id': 15}, {'ts': '2018-04-09T17:47:46.113Z', 'type': 'end_phase', 'phase': 1}, {'ts': '2018-04-09T18:04:20.408000', 'type': 'start_phase', 'phase': 2, 'kickoff_team_id': 5}, {'ts': '2018-04-09T18:53:12.188Z', 'type': 'end_phase', 'phase': 2}]\n",
      "1523297060408\n"
     ]
    },
    {
     "name": "stderr",
     "output_type": "stream",
     "text": [
      "14906it [00:05, 2530.59it/s]\n"
     ]
    },
    {
     "name": "stdout",
     "output_type": "stream",
     "text": [
      "62\n",
      "14514 14514\n",
      "7435\n",
      "62\n",
      "62 62\n",
      "[26, 27, 28, 29, 30, 31, 32, 33, 34, 35, 36, 37, 38, 39, 40, 41, 42, 43, 44, 45, 46, 47, 48, 49, 50, 51, 52, 53, 54, 55, 56, 57, 58, 59, 60, 61, 62, 63, 64, 65, 66, 67, 68, 69, 70, 71, 72, 73, 74, 75, 76, 77, 78, 79, 80, 81, 82, 83, 84, 85, 86, 87]\n",
      "33\n",
      "Json file edited\n"
     ]
    },
    {
     "name": "stderr",
     "output_type": "stream",
     "text": [
      "182it [00:00, 888.19it/s]"
     ]
    },
    {
     "name": "stdout",
     "output_type": "stream",
     "text": [
      "Parsed ../kickoff-data-corrected/4b949eae-068b-4b0a-bc88-f5ef0a97b2ba.1.kickoff.rdb in 4.56 s.\n",
      "Contains keys: dict_keys(['left', 'right'])\n",
      "[left] start_ts: 1524318934512 | stop_ts: 1524319532312\n",
      "[right] start_ts: 1524318935116 | stop_ts: 1524319532636\n",
      "../kickoff-data-corrected/4b949eae-068b-4b0a-bc88-f5ef0a97b2ba.json\n",
      "[{'ts': '2018-04-21T14:00:33.996000', 'type': 'start_phase', 'phase': 1, 'kickoff_team_id': 13}, {'ts': '2018-04-21T14:45:33.074Z', 'type': 'end_phase', 'phase': 1}, {'ts': '2018-04-21T15:02:23.876000', 'type': 'start_phase', 'phase': 2, 'kickoff_team_id': 12}, {'ts': '2018-04-21T15:50:24.649Z', 'type': 'end_phase', 'phase': 2}]\n",
      "1524319233996\n"
     ]
    },
    {
     "name": "stderr",
     "output_type": "stream",
     "text": [
      "14940it [00:11, 1279.64it/s]\n"
     ]
    },
    {
     "name": "stdout",
     "output_type": "stream",
     "text": [
      "61\n",
      "14818 14818\n",
      "7395\n",
      "61\n",
      "61 61\n",
      "[26, 27, 28, 29, 30, 31, 32, 33, 34, 35, 36, 37, 38, 39, 40, 41, 42, 43, 44, 45, 46, 47, 48, 49, 50, 51, 52, 53, 54, 55, 56, 57, 58, 59, 60, 61, 62, 63, 64, 65, 66, 67, 68, 69, 70, 71, 72, 73, 74, 75, 76, 77, 78, 79, 80, 81, 82, 83, 84, 85, 86]\n",
      "34\n",
      "Json file edited\n"
     ]
    },
    {
     "name": "stderr",
     "output_type": "stream",
     "text": [
      "246it [00:00, 1184.46it/s]"
     ]
    },
    {
     "name": "stdout",
     "output_type": "stream",
     "text": [
      "Parsed ../kickoff-data-corrected/a185c6c8-7383-4d19-927f-dc8f70726c34.1.kickoff.rdb in 4.41 s.\n",
      "Contains keys: dict_keys(['left', 'right'])\n",
      "[left] start_ts: 1523897795243 | stop_ts: 1523898395043\n",
      "[right] start_ts: 1523897795697 | stop_ts: 1523898395297\n",
      "../kickoff-data-corrected/a185c6c8-7383-4d19-927f-dc8f70726c34.json\n",
      "[{'ts': '2018-04-16T17:01:37.097000', 'type': 'start_phase', 'phase': 1, 'kickoff_team_id': 15}, {'ts': '2018-04-16T17:46:39.313Z', 'type': 'end_phase', 'phase': 1}, {'ts': '2018-04-16T18:02:51.643000', 'type': 'start_phase', 'phase': 2, 'kickoff_team_id': 2}, {'ts': '2018-04-16T18:49:49.424Z', 'type': 'end_phase', 'phase': 2}]\n",
      "1523898097097\n"
     ]
    },
    {
     "name": "stderr",
     "output_type": "stream",
     "text": [
      "14991it [00:10, 1432.36it/s]\n"
     ]
    },
    {
     "name": "stdout",
     "output_type": "stream",
     "text": [
      "61\n",
      "14866 14866\n",
      "7456\n",
      "61\n",
      "61 61\n",
      "[26, 27, 28, 29, 30, 31, 32, 33, 34, 35, 36, 37, 38, 39, 40, 41, 42, 43, 44, 45, 46, 47, 48, 49, 50, 51, 52, 53, 54, 55, 56, 57, 58, 59, 60, 61, 62, 63, 64, 65, 66, 67, 68, 69, 70, 71, 72, 73, 74, 75, 76, 77, 78, 79, 80, 81, 82, 83, 84, 85, 86]\n",
      "35\n",
      "Json file edited\n"
     ]
    },
    {
     "name": "stderr",
     "output_type": "stream",
     "text": [
      "390it [00:00, 1840.27it/s]"
     ]
    },
    {
     "name": "stdout",
     "output_type": "stream",
     "text": [
      "Parsed ../kickoff-data-corrected/a5857e03-10b8-454a-89fb-c201985b04cb.2.kickoff.rdb in 2.08 s.\n",
      "Contains keys: dict_keys(['left', 'right'])\n",
      "[left] start_ts: 1523383083898 | stop_ts: 1523383683138\n",
      "[right] start_ts: 1523383083286 | stop_ts: 1523383682846\n",
      "../kickoff-data-corrected/a5857e03-10b8-454a-89fb-c201985b04cb.json\n",
      "[{'ts': '1970-01-01T00:00:00', 'type': 'start_phase', 'phase': 1, 'kickoff_team_id': 6}, {'ts': '2018-04-10T17:47:16.674Z', 'type': 'end_phase', 'phase': 1}, {'ts': '2018-04-10T18:03:05.406000', 'type': 'start_phase', 'phase': 2, 'kickoff_team_id': 2}, {'ts': '2018-04-10T18:51:05.058Z', 'type': 'end_phase', 'phase': 2}]\n",
      "1523383385406\n"
     ]
    },
    {
     "name": "stderr",
     "output_type": "stream",
     "text": [
      "14982it [00:07, 2040.41it/s]\n"
     ]
    },
    {
     "name": "stdout",
     "output_type": "stream",
     "text": [
      "62\n",
      "14858 14858\n",
      "7460\n",
      "62\n",
      "62 62\n",
      "[26, 27, 28, 29, 30, 31, 32, 33, 34, 35, 36, 37, 38, 39, 40, 41, 42, 43, 44, 45, 46, 47, 48, 49, 50, 51, 52, 53, 54, 55, 56, 57, 58, 59, 60, 61, 62, 63, 64, 65, 66, 67, 68, 69, 70, 71, 72, 73, 74, 75, 76, 77, 78, 79, 80, 81, 82, 83, 84, 85, 86, 87]\n",
      "36\n",
      "Json file edited\n",
      "Parsed ../kickoff-data-corrected/75366863-8063-4ece-8aca-1dcf75d22448.2.kickoff.rdb in 1.55 s.\n",
      "Contains keys: dict_keys(['left', 'right'])\n",
      "[left] start_ts: 1527185280818 | stop_ts: 1527185876738\n",
      "[right] start_ts: 1527185276926 | stop_ts: 1527185876806\n",
      "../kickoff-data-corrected/75366863-8063-4ece-8aca-1dcf75d22448.json\n",
      "[{'ts': '1970-01-01T00:00:00', 'type': 'start_phase', 'phase': 1, 'kickoff_team_id': 6}, {'ts': '2018-05-24T17:52:47.009Z', 'type': 'end_phase', 'phase': 1}, {'ts': '1970-01-01T00:00:00', 'type': 'start_phase', 'phase': 2, 'kickoff_team_id': 11}, {'ts': '2018-05-24T19:02:55.588Z', 'type': 'end_phase', 'phase': 2}]\n",
      "0\n",
      "Json file edited\n",
      "Parsed ../kickoff-data-corrected/3382a9d0-02ff-4f23-9748-1b715d85b731.1.kickoff.rdb in 4.05 s.\n",
      "Contains keys: dict_keys(['left', 'right'])\n",
      "[left] start_ts: 1523805900082 | stop_ts: 1523806498882\n",
      "[right] start_ts: 1523805900650 | stop_ts: 1523806499170\n",
      "../kickoff-data-corrected/3382a9d0-02ff-4f23-9748-1b715d85b731.json\n",
      "[{'ts': '1970-01-01T00:00:00', 'type': 'start_phase', 'phase': 1, 'kickoff_team_id': 6}, {'ts': '2018-04-15T16:16:00.459Z', 'type': 'end_phase', 'phase': 1}, {'ts': '1970-01-01T00:00:00', 'type': 'start_phase', 'phase': 2, 'kickoff_team_id': 13}, {'ts': '2018-04-15T17:19:35.565Z', 'type': 'end_phase', 'phase': 2}]\n",
      "0\n",
      "Json file edited\n"
     ]
    },
    {
     "name": "stderr",
     "output_type": "stream",
     "text": [
      "149it [00:00, 1488.83it/s]"
     ]
    },
    {
     "name": "stdout",
     "output_type": "stream",
     "text": [
      "Parsed ../kickoff-data-corrected/9d1b40c0-efb0-4eb5-9ff4-bd13a55c0820.2.kickoff.rdb in 1.95 s.\n",
      "Contains keys: dict_keys(['left', 'right'])\n",
      "[left] start_ts: 1525715936459 | stop_ts: 1525716534259\n",
      "[right] start_ts: 1525715936409 | stop_ts: 1525716534249\n",
      "../kickoff-data-corrected/9d1b40c0-efb0-4eb5-9ff4-bd13a55c0820.json\n",
      "[{'ts': '2018-05-07T16:59:59.329000', 'type': 'start_phase', 'phase': 1, 'kickoff_team_id': 6}, {'ts': '2018-05-07T17:45:00.886Z', 'type': 'end_phase', 'phase': 1}, {'ts': '2018-05-07T18:03:56.609000', 'type': 'start_phase', 'phase': 2, 'kickoff_team_id': 6}, {'ts': '2018-05-07T18:53:43.859Z', 'type': 'end_phase', 'phase': 2}]\n",
      "1525716236609\n"
     ]
    },
    {
     "name": "stderr",
     "output_type": "stream",
     "text": [
      "14946it [00:06, 2181.39it/s]\n"
     ]
    },
    {
     "name": "stdout",
     "output_type": "stream",
     "text": [
      "62\n",
      "14842 14842\n",
      "7428\n",
      "62\n",
      "62 62\n",
      "[26, 27, 28, 29, 30, 31, 32, 33, 34, 35, 36, 37, 38, 39, 40, 41, 42, 43, 44, 45, 46, 47, 48, 49, 50, 51, 52, 53, 54, 55, 56, 57, 58, 59, 60, 61, 62, 63, 64, 65, 66, 67, 68, 69, 70, 71, 72, 73, 74, 75, 76, 77, 78, 79, 80, 81, 82, 83, 84, 85, 86, 87]\n",
      "37\n",
      "Json file edited\n",
      "Parsed ../kickoff-data-corrected/19bebd81-3b61-492b-85ed-74ff887cbc45.1.kickoff.rdb in 3.80 s.\n",
      "Contains keys: dict_keys(['left', 'right'])\n",
      "[left] start_ts: 1522587371575 | stop_ts: 1522587969015\n",
      "[right] start_ts: 1522587371411 | stop_ts: 1522587968931\n",
      "../kickoff-data-corrected/19bebd81-3b61-492b-85ed-74ff887cbc45.json\n",
      "[{'ts': '1970-01-01T00:00:00', 'type': 'start_phase', 'phase': 1, 'kickoff_team_id': 1}, {'ts': '2018-04-01T13:47:53.692Z', 'type': 'end_phase', 'phase': 1}, {'ts': '2018-04-01T14:05:30.455000', 'type': 'start_phase', 'phase': 2, 'kickoff_team_id': 2}, {'ts': '2018-04-01T14:53:51.954Z', 'type': 'end_phase', 'phase': 2}]\n",
      "0\n",
      "Json file edited\n",
      "Parsed ../kickoff-data-corrected/ba34fc2e-bdba-40d8-8cc8-a679c6eecd5a.2.kickoff.rdb in 1.88 s.\n",
      "Contains keys: dict_keys(['left', 'right'])\n",
      "[left] start_ts: 1522600030721 | stop_ts: 1522600628521\n",
      "[right] start_ts: 1522600030671 | stop_ts: 1522600628511\n",
      "../kickoff-data-corrected/ba34fc2e-bdba-40d8-8cc8-a679c6eecd5a.json\n",
      "[{'ts': '2018-04-01T15:31:02.151000', 'type': 'start_phase', 'phase': 1, 'kickoff_team_id': 11}, {'ts': '2018-04-01T16:16:08.759Z', 'type': 'end_phase', 'phase': 1}, {'ts': '1970-01-01T00:00:00', 'type': 'start_phase', 'phase': 2, 'kickoff_team_id': 13}, {'ts': '2018-04-01T17:20:20.880Z', 'type': 'end_phase', 'phase': 2}]\n",
      "0\n",
      "Json file edited\n"
     ]
    },
    {
     "name": "stderr",
     "output_type": "stream",
     "text": [
      "256it [00:00, 1226.31it/s]"
     ]
    },
    {
     "name": "stdout",
     "output_type": "stream",
     "text": [
      "Parsed ../kickoff-data-corrected/2dc12819-d486-4925-a0e2-b8ae9ff1aed5.1.kickoff.rdb in 2.68 s.\n",
      "Contains keys: dict_keys(['left', 'right'])\n",
      "[left] start_ts: 1523192332019 | stop_ts: 1523192929339\n",
      "[right] start_ts: 1523192332775 | stop_ts: 1523192929695\n",
      "../kickoff-data-corrected/2dc12819-d486-4925-a0e2-b8ae9ff1aed5.json\n",
      "[{'ts': '2018-04-08T13:03:52.775000', 'type': 'start_phase', 'phase': 1, 'kickoff_team_id': 11}, {'ts': '2018-04-08T13:48:52.077Z', 'type': 'end_phase', 'phase': 1}, {'ts': '2018-04-08T14:05:16.815000', 'type': 'start_phase', 'phase': 2, 'kickoff_team_id': 14}, {'ts': '2018-04-08T14:53:40.200Z', 'type': 'end_phase', 'phase': 2}]\n",
      "1523192632775\n"
     ]
    },
    {
     "name": "stderr",
     "output_type": "stream",
     "text": [
      "14925it [00:08, 1686.38it/s]\n"
     ]
    },
    {
     "name": "stdout",
     "output_type": "stream",
     "text": [
      "62\n",
      "14798 14798\n",
      "7420\n",
      "62\n",
      "62 62\n",
      "[26, 27, 28, 29, 30, 31, 32, 33, 34, 35, 36, 37, 38, 39, 40, 41, 42, 43, 44, 45, 46, 47, 48, 49, 50, 51, 52, 53, 54, 55, 56, 57, 58, 59, 60, 61, 62, 63, 64, 65, 66, 67, 68, 69, 70, 71, 72, 73, 74, 75, 76, 77, 78, 79, 80, 81, 82, 83, 84, 85, 86, 87]\n",
      "38\n",
      "Json file edited\n",
      "Parsed ../kickoff-data-corrected/3382a9d0-02ff-4f23-9748-1b715d85b731.2.kickoff.rdb in 1.96 s.\n",
      "Contains keys: dict_keys(['left', 'right'])\n",
      "[left] start_ts: 1523809596082 | stop_ts: 1523810193882\n",
      "[right] start_ts: 1523809596650 | stop_ts: 1523810194170\n",
      "../kickoff-data-corrected/3382a9d0-02ff-4f23-9748-1b715d85b731.json\n",
      "[{'ts': '1970-01-01T00:00:00', 'type': 'start_phase', 'phase': 1, 'kickoff_team_id': 6}, {'ts': '2018-04-15T16:16:00.459Z', 'type': 'end_phase', 'phase': 1}, {'ts': '1970-01-01T00:00:00', 'type': 'start_phase', 'phase': 2, 'kickoff_team_id': 13}, {'ts': '2018-04-15T17:19:35.565Z', 'type': 'end_phase', 'phase': 2}]\n",
      "0\n",
      "Json file edited\n"
     ]
    },
    {
     "name": "stderr",
     "output_type": "stream",
     "text": [
      "578it [00:00, 2979.31it/s]"
     ]
    },
    {
     "name": "stdout",
     "output_type": "stream",
     "text": [
      "Parsed ../kickoff-data-corrected/84e8b33c-d912-495e-9e21-84bdd18e0e04.1.kickoff.rdb in 2.22 s.\n",
      "Contains keys: dict_keys(['left', 'right'])\n",
      "[left] start_ts: 1523638501659 | stop_ts: 1523639099539\n",
      "[right] start_ts: 1523638502169 | stop_ts: 1523639099769\n",
      "../kickoff-data-corrected/84e8b33c-d912-495e-9e21-84bdd18e0e04.json\n",
      "[{'ts': '2018-04-13T17:00:01.059000', 'type': 'start_phase', 'phase': 1, 'kickoff_team_id': 12}, {'ts': '2018-04-13T17:45:38.365Z', 'type': 'end_phase', 'phase': 1}, {'ts': '2018-04-13T18:00:41.739000', 'type': 'start_phase', 'phase': 2, 'kickoff_team_id': 14}, {'ts': '2018-04-13T18:47:41.972Z', 'type': 'end_phase', 'phase': 2}]\n",
      "1523638801059\n"
     ]
    },
    {
     "name": "stderr",
     "output_type": "stream",
     "text": [
      "14940it [00:07, 2125.74it/s]\n"
     ]
    },
    {
     "name": "stdout",
     "output_type": "stream",
     "text": [
      "61\n",
      "14820 14820\n",
      "7394\n",
      "61\n",
      "61 61\n",
      "[27, 28, 29, 30, 31, 32, 33, 34, 35, 36, 37, 38, 39, 40, 41, 42, 43, 44, 45, 46, 47, 48, 49, 50, 51, 52, 53, 54, 55, 56, 57, 58, 59, 60, 61, 62, 63, 64, 65, 66, 67, 68, 69, 70, 71, 72, 73, 74, 75, 76, 77, 78, 79, 80, 81, 82, 83, 84, 85, 86, 87]\n",
      "39\n",
      "Json file edited\n"
     ]
    },
    {
     "name": "stderr",
     "output_type": "stream",
     "text": [
      "211it [00:00, 2106.40it/s]"
     ]
    },
    {
     "name": "stdout",
     "output_type": "stream",
     "text": [
      "Parsed ../kickoff-data-corrected/9e627901-09e2-4c84-bf77-6f0ec289fa5f.2.kickoff.rdb in 2.85 s.\n",
      "Contains keys: dict_keys(['left', 'right'])\n",
      "[left] start_ts: 1522686514029 | stop_ts: 1522687111869\n",
      "[right] start_ts: 1522686513973 | stop_ts: 1522687111853\n",
      "../kickoff-data-corrected/9e627901-09e2-4c84-bf77-6f0ec289fa5f.json\n",
      "[{'ts': '2018-04-02T15:32:26.973000', 'type': 'start_phase', 'phase': 1, 'kickoff_team_id': 7}, {'ts': '2018-04-02T16:17:34.362Z', 'type': 'end_phase', 'phase': 1}, {'ts': '2018-04-02T16:33:32.893000', 'type': 'start_phase', 'phase': 2, 'kickoff_team_id': 8}, {'ts': '2018-04-02T17:22:39.373Z', 'type': 'end_phase', 'phase': 2}]\n",
      "1522686812893\n"
     ]
    },
    {
     "name": "stderr",
     "output_type": "stream",
     "text": [
      "14946it [00:06, 2366.67it/s]\n"
     ]
    },
    {
     "name": "stdout",
     "output_type": "stream",
     "text": [
      "62\n",
      "14831 14831\n",
      "7392\n",
      "62\n",
      "62 62\n",
      "[26, 27, 28, 29, 30, 31, 32, 33, 34, 35, 36, 37, 38, 39, 40, 41, 42, 43, 44, 45, 46, 47, 48, 49, 50, 51, 52, 53, 54, 55, 56, 57, 58, 59, 60, 61, 62, 63, 64, 65, 66, 67, 68, 69, 70, 71, 72, 73, 74, 75, 76, 77, 78, 79, 80, 81, 82, 83, 84, 85, 86, 87]\n",
      "40\n",
      "Json file edited\n",
      "Parsed ../kickoff-data-corrected/723fa378-2b05-42e0-9631-a05bb1ed5e70.1.kickoff.rdb in 2.67 s.\n",
      "Contains keys: dict_keys(['left', 'right'])\n",
      "[left] start_ts: 1524502497320 | stop_ts: 1524503096600\n",
      "[right] start_ts: 1524502496828 | stop_ts: 1524503096348\n",
      "../kickoff-data-corrected/723fa378-2b05-42e0-9631-a05bb1ed5e70.json\n",
      "[{'ts': '1970-01-01T00:00:00', 'type': 'start_phase', 'phase': 1, 'kickoff_team_id': 4}, {'ts': '2018-04-23T17:45:26.980Z', 'type': 'end_phase', 'phase': 1}, {'ts': '2018-04-23T18:01:18.280000', 'type': 'start_phase', 'phase': 2, 'kickoff_team_id': 1}, {'ts': '2018-04-23T18:51:18.989Z', 'type': 'end_phase', 'phase': 2}]\n",
      "0\n",
      "Json file edited\n"
     ]
    },
    {
     "name": "stderr",
     "output_type": "stream",
     "text": [
      "598it [00:00, 2883.80it/s]"
     ]
    },
    {
     "name": "stdout",
     "output_type": "stream",
     "text": [
      "Parsed ../kickoff-data-corrected/4176c56a-b0df-4e64-aaeb-09150829ba15.2.kickoff.rdb in 1.60 s.\n",
      "Contains keys: dict_keys(['left', 'right'])\n",
      "[left] start_ts: 1526741990412 | stop_ts: 1526742590252\n",
      "[right] start_ts: 1526741990392 | stop_ts: 1526742590232\n",
      "../kickoff-data-corrected/4176c56a-b0df-4e64-aaeb-09150829ba15.json\n",
      "[{'ts': '2018-05-19T14:00:24.152000', 'type': 'start_phase', 'phase': 1, 'kickoff_team_id': 3}, {'ts': '2018-05-19T14:48:34.080Z', 'type': 'end_phase', 'phase': 1}, {'ts': '2018-05-19T15:04:52.912000', 'type': 'start_phase', 'phase': 2, 'kickoff_team_id': 13}, {'ts': '2018-05-19T15:53:26.441Z', 'type': 'end_phase', 'phase': 2}]\n",
      "1526742292912\n"
     ]
    },
    {
     "name": "stderr",
     "output_type": "stream",
     "text": [
      "14996it [00:06, 2465.20it/s]\n"
     ]
    },
    {
     "name": "stdout",
     "output_type": "stream",
     "text": [
      "62\n",
      "14893 14893\n",
      "7486\n",
      "62\n",
      "62 62\n",
      "[26, 27, 28, 29, 30, 31, 32, 33, 34, 35, 36, 37, 38, 39, 40, 41, 42, 43, 44, 45, 46, 47, 48, 49, 50, 51, 52, 53, 54, 55, 56, 57, 58, 59, 60, 61, 62, 63, 64, 65, 66, 67, 68, 69, 70, 71, 72, 73, 74, 75, 76, 77, 78, 79, 80, 81, 82, 83, 84, 85, 86, 87]\n",
      "41\n",
      "Json file edited\n"
     ]
    },
    {
     "name": "stderr",
     "output_type": "stream",
     "text": [
      "521it [00:00, 2537.03it/s]"
     ]
    },
    {
     "name": "stdout",
     "output_type": "stream",
     "text": [
      "Parsed ../kickoff-data-corrected/bd6faac0-e5f3-4b84-82a9-400c019ac08d.2.kickoff.rdb in 1.50 s.\n",
      "Contains keys: dict_keys(['left', 'right'])\n",
      "[left] start_ts: 1526320642105 | stop_ts: 1526321241985\n",
      "[right] start_ts: 1526320642055 | stop_ts: 1526321241935\n",
      "../kickoff-data-corrected/bd6faac0-e5f3-4b84-82a9-400c019ac08d.json\n",
      "[{'ts': '2018-05-14T17:00:31.615000', 'type': 'start_phase', 'phase': 1, 'kickoff_team_id': 7}, {'ts': '2018-05-14T17:46:31.340Z', 'type': 'end_phase', 'phase': 1}, {'ts': '2018-05-14T18:02:22.775000', 'type': 'start_phase', 'phase': 2, 'kickoff_team_id': 5}, {'ts': '2018-05-14T18:49:16.627Z', 'type': 'end_phase', 'phase': 2}]\n",
      "1526320942775\n"
     ]
    },
    {
     "name": "stderr",
     "output_type": "stream",
     "text": [
      "14997it [00:05, 2639.21it/s]\n"
     ]
    },
    {
     "name": "stdout",
     "output_type": "stream",
     "text": [
      "62\n",
      "14893 14893\n",
      "7441\n",
      "62\n",
      "62 62\n",
      "[26, 27, 28, 29, 30, 31, 32, 33, 34, 35, 36, 37, 38, 39, 40, 41, 42, 43, 44, 45, 46, 47, 48, 49, 50, 51, 52, 53, 54, 55, 56, 57, 58, 59, 60, 61, 62, 63, 64, 65, 66, 67, 68, 69, 70, 71, 72, 73, 74, 75, 76, 77, 78, 79, 80, 81, 82, 83, 84, 85, 86, 87]\n",
      "42\n",
      "Json file edited\n"
     ]
    },
    {
     "name": "stderr",
     "output_type": "stream",
     "text": [
      "256it [00:00, 2556.47it/s]"
     ]
    },
    {
     "name": "stdout",
     "output_type": "stream",
     "text": [
      "Parsed ../kickoff-data-corrected/0d9e9e30-9d13-4af0-8e41-fe1669e9eeff.2.kickoff.rdb in 3.25 s.\n",
      "Contains keys: dict_keys(['left', 'right'])\n",
      "[left] start_ts: 1523195853517 | stop_ts: 1523196453157\n",
      "[right] start_ts: 1523195853031 | stop_ts: 1523196452911\n",
      "../kickoff-data-corrected/0d9e9e30-9d13-4af0-8e41-fe1669e9eeff.json\n",
      "[{'ts': '2018-04-08T13:00:30.151000', 'type': 'start_phase', 'phase': 1, 'kickoff_team_id': 7}, {'ts': '2018-04-08T13:47:27.898Z', 'type': 'end_phase', 'phase': 1}, {'ts': '2018-04-08T14:02:35.117000', 'type': 'start_phase', 'phase': 2, 'kickoff_team_id': 9}, {'ts': '2018-04-08T14:51:34.402Z', 'type': 'end_phase', 'phase': 2}]\n",
      "1523196155117\n"
     ]
    },
    {
     "name": "stderr",
     "output_type": "stream",
     "text": [
      "14992it [00:07, 1931.88it/s]\n"
     ]
    },
    {
     "name": "stdout",
     "output_type": "stream",
     "text": [
      "61\n",
      "14872 14872\n",
      "7461\n",
      "61\n",
      "61 61\n",
      "[27, 28, 29, 30, 31, 32, 33, 34, 35, 36, 37, 38, 39, 40, 41, 42, 43, 44, 45, 46, 47, 48, 49, 50, 51, 52, 53, 54, 55, 56, 57, 58, 59, 60, 61, 62, 63, 64, 65, 66, 67, 68, 69, 70, 71, 72, 73, 74, 75, 76, 77, 78, 79, 80, 81, 82, 83, 84, 85, 86, 87]\n",
      "43\n",
      "Json file edited\n"
     ]
    },
    {
     "name": "stderr",
     "output_type": "stream",
     "text": [
      "205it [00:00, 2047.10it/s]"
     ]
    },
    {
     "name": "stdout",
     "output_type": "stream",
     "text": [
      "Parsed ../kickoff-data-corrected/af42c9ca-ae8f-4d69-a671-15950883ecac.2.kickoff.rdb in 2.19 s.\n",
      "Contains keys: dict_keys(['left', 'right'])\n",
      "[left] start_ts: 1524927395556 | stop_ts: 1524927994436\n",
      "[right] start_ts: 1524927395612 | stop_ts: 1524927994452\n",
      "../kickoff-data-corrected/af42c9ca-ae8f-4d69-a671-15950883ecac.json\n",
      "[{'ts': '2018-04-28T14:00:21.412000', 'type': 'start_phase', 'phase': 1, 'kickoff_team_id': 6}, {'ts': '2018-04-28T14:45:26.494Z', 'type': 'end_phase', 'phase': 1}, {'ts': '2018-04-28T15:01:35.852000', 'type': 'start_phase', 'phase': 2, 'kickoff_team_id': 5}, {'ts': '2018-04-28T15:49:36.913Z', 'type': 'end_phase', 'phase': 2}]\n",
      "1524927695852\n"
     ]
    },
    {
     "name": "stderr",
     "output_type": "stream",
     "text": [
      "14973it [00:07, 2028.50it/s]\n"
     ]
    },
    {
     "name": "stdout",
     "output_type": "stream",
     "text": [
      "62\n",
      "14865 14865\n",
      "7428\n",
      "62\n",
      "62 62\n",
      "[26, 27, 28, 29, 30, 31, 32, 33, 34, 35, 36, 37, 38, 39, 40, 41, 42, 43, 44, 45, 46, 47, 48, 49, 50, 51, 52, 53, 54, 55, 56, 57, 58, 59, 60, 61, 62, 63, 64, 65, 66, 67, 68, 69, 70, 71, 72, 73, 74, 75, 76, 77, 78, 79, 80, 81, 82, 83, 84, 85, 86, 87]\n",
      "44\n",
      "Json file edited\n"
     ]
    },
    {
     "name": "stderr",
     "output_type": "stream",
     "text": [
      "140it [00:00, 1396.03it/s]"
     ]
    },
    {
     "name": "stdout",
     "output_type": "stream",
     "text": [
      "Parsed ../kickoff-data-corrected/da82a1ce-2e4c-4337-8ba8-3f2525399e31.1.kickoff.rdb in 2.33 s.\n",
      "Contains keys: dict_keys(['left', 'right'])\n",
      "[left] start_ts: 1525620358621 | stop_ts: 1525620955501\n",
      "[right] start_ts: 1525620358583 | stop_ts: 1525620955463\n",
      "../kickoff-data-corrected/da82a1ce-2e4c-4337-8ba8-3f2525399e31.json\n",
      "[{'ts': '2018-05-06T15:30:56.823000', 'type': 'start_phase', 'phase': 1, 'kickoff_team_id': 14}, {'ts': '2018-05-06T16:16:55.775Z', 'type': 'end_phase', 'phase': 1}, {'ts': '2018-05-06T16:32:03.343000', 'type': 'start_phase', 'phase': 2, 'kickoff_team_id': 5}, {'ts': '2018-05-06T17:19:59.649Z', 'type': 'end_phase', 'phase': 2}]\n",
      "1525620656823\n"
     ]
    },
    {
     "name": "stderr",
     "output_type": "stream",
     "text": [
      "14922it [00:06, 2218.73it/s]\n"
     ]
    },
    {
     "name": "stdout",
     "output_type": "stream",
     "text": [
      "62\n",
      "14801 14801\n",
      "7368\n",
      "62\n",
      "62 62\n",
      "[26, 27, 28, 29, 30, 31, 32, 33, 34, 35, 36, 37, 38, 39, 40, 41, 42, 43, 44, 45, 46, 47, 48, 49, 50, 51, 52, 53, 54, 55, 56, 57, 58, 59, 60, 61, 62, 63, 64, 65, 66, 67, 68, 69, 70, 71, 72, 73, 74, 75, 76, 77, 78, 79, 80, 81, 82, 83, 84, 85, 86, 87]\n",
      "45\n",
      "Json file edited\n"
     ]
    },
    {
     "name": "stderr",
     "output_type": "stream",
     "text": [
      "243it [00:00, 2427.00it/s]"
     ]
    },
    {
     "name": "stdout",
     "output_type": "stream",
     "text": [
      "Parsed ../kickoff-data-corrected/19bebd81-3b61-492b-85ed-74ff887cbc45.2.kickoff.rdb in 1.72 s.\n",
      "Contains keys: dict_keys(['left', 'right'])\n",
      "[left] start_ts: 1522591235535 | stop_ts: 1522591832015\n",
      "[right] start_ts: 1522591235411 | stop_ts: 1522591831931\n",
      "../kickoff-data-corrected/19bebd81-3b61-492b-85ed-74ff887cbc45.json\n",
      "[{'ts': '1970-01-01T00:00:00', 'type': 'start_phase', 'phase': 1, 'kickoff_team_id': 1}, {'ts': '2018-04-01T13:47:53.692Z', 'type': 'end_phase', 'phase': 1}, {'ts': '2018-04-01T14:05:30.455000', 'type': 'start_phase', 'phase': 2, 'kickoff_team_id': 2}, {'ts': '2018-04-01T14:53:51.954Z', 'type': 'end_phase', 'phase': 2}]\n",
      "1522591530455\n"
     ]
    },
    {
     "name": "stderr",
     "output_type": "stream",
     "text": [
      "14913it [00:06, 2257.60it/s]\n"
     ]
    },
    {
     "name": "stdout",
     "output_type": "stream",
     "text": [
      "61\n",
      "14791 14791\n",
      "7292\n",
      "61\n",
      "61 61\n",
      "[27, 28, 29, 30, 31, 32, 33, 34, 35, 36, 37, 38, 39, 40, 41, 42, 43, 44, 45, 46, 47, 48, 49, 50, 51, 52, 53, 54, 55, 56, 57, 58, 59, 60, 61, 62, 63, 64, 65, 66, 67, 68, 69, 70, 71, 72, 73, 74, 75, 76, 77, 78, 79, 80, 81, 82, 83, 84, 85, 86, 87]\n",
      "46\n",
      "Json file edited\n"
     ]
    },
    {
     "name": "stderr",
     "output_type": "stream",
     "text": [
      "641it [00:00, 3115.71it/s]"
     ]
    },
    {
     "name": "stdout",
     "output_type": "stream",
     "text": [
      "Parsed ../kickoff-data-corrected/d1a98e08-0f21-46fe-8457-01ff183ddbeb.2.kickoff.rdb in 3.04 s.\n",
      "Contains keys: dict_keys(['left', 'right'])\n",
      "[left] start_ts: 1526579945405 | stop_ts: 1526580542165\n",
      "[right] start_ts: 1526579945259 | stop_ts: 1526580542099\n",
      "../kickoff-data-corrected/d1a98e08-0f21-46fe-8457-01ff183ddbeb.json\n",
      "[{'ts': '2018-05-17T17:00:04.205000', 'type': 'start_phase', 'phase': 1, 'kickoff_team_id': 12}, {'ts': '2018-05-17T17:47:07.092Z', 'type': 'end_phase', 'phase': 1}, {'ts': '2018-05-17T18:04:04.725000', 'type': 'start_phase', 'phase': 2, 'kickoff_team_id': 11}, {'ts': '2018-05-17T18:52:06.565Z', 'type': 'end_phase', 'phase': 2}]\n",
      "1526580244725\n"
     ]
    },
    {
     "name": "stderr",
     "output_type": "stream",
     "text": [
      "14921it [00:06, 2153.34it/s]\n"
     ]
    },
    {
     "name": "stdout",
     "output_type": "stream",
     "text": [
      "62\n",
      "14805 14805\n",
      "7403\n",
      "62\n",
      "62 62\n",
      "[26, 27, 28, 29, 30, 31, 32, 33, 34, 35, 36, 37, 38, 39, 40, 41, 42, 43, 44, 45, 46, 47, 48, 49, 50, 51, 52, 53, 54, 55, 56, 57, 58, 59, 60, 61, 62, 63, 64, 65, 66, 67, 68, 69, 70, 71, 72, 73, 74, 75, 76, 77, 78, 79, 80, 81, 82, 83, 84, 85, 86, 87]\n",
      "47\n",
      "Json file edited\n"
     ]
    },
    {
     "name": "stderr",
     "output_type": "stream",
     "text": [
      "270it [00:00, 2696.25it/s]"
     ]
    },
    {
     "name": "stdout",
     "output_type": "stream",
     "text": [
      "Parsed ../kickoff-data-corrected/a881fc70-93e4-43d9-b0c5-036f72eaa980.2.kickoff.rdb in 1.76 s.\n",
      "Contains keys: dict_keys(['left', 'right'])\n",
      "[left] start_ts: 1527098145982 | stop_ts: 1527098742822\n",
      "[right] start_ts: 1527098146008 | stop_ts: 1527098742848\n",
      "../kickoff-data-corrected/a881fc70-93e4-43d9-b0c5-036f72eaa980.json\n",
      "[{'ts': '2018-05-23T17:00:02.848000', 'type': 'start_phase', 'phase': 1, 'kickoff_team_id': 1}, {'ts': '2018-05-23T17:45:22.894Z', 'type': 'end_phase', 'phase': 1}, {'ts': '2018-05-23T18:00:44.168000', 'type': 'start_phase', 'phase': 2, 'kickoff_team_id': 13}, {'ts': '2018-05-23T18:48:45.517Z', 'type': 'end_phase', 'phase': 2}]\n",
      "1527098444168\n"
     ]
    },
    {
     "name": "stderr",
     "output_type": "stream",
     "text": [
      "14921it [00:06, 2209.90it/s]\n"
     ]
    },
    {
     "name": "stdout",
     "output_type": "stream",
     "text": [
      "62\n",
      "14792 14792\n",
      "7363\n",
      "62\n",
      "62 62\n",
      "[26, 27, 28, 29, 30, 31, 32, 33, 34, 35, 36, 37, 38, 39, 40, 41, 42, 43, 44, 45, 46, 47, 48, 49, 50, 51, 52, 53, 54, 55, 56, 57, 58, 59, 60, 61, 62, 63, 64, 65, 66, 67, 68, 69, 70, 71, 72, 73, 74, 75, 76, 77, 78, 79, 80, 81, 82, 83, 84, 85, 86, 87]\n",
      "48\n",
      "Json file edited\n"
     ]
    },
    {
     "name": "stderr",
     "output_type": "stream",
     "text": [
      "497it [00:00, 2413.09it/s]"
     ]
    },
    {
     "name": "stdout",
     "output_type": "stream",
     "text": [
      "Parsed ../kickoff-data-corrected/3c7f617c-c839-4e5a-9e80-52017fa85d93.2.kickoff.rdb in 1.80 s.\n",
      "Contains keys: dict_keys(['left', 'right'])\n",
      "[left] start_ts: 1525010224949 | stop_ts: 1525010823789\n",
      "[right] start_ts: 1525010224933 | stop_ts: 1525010823773\n",
      "../kickoff-data-corrected/3c7f617c-c839-4e5a-9e80-52017fa85d93.json\n",
      "[{'ts': '2018-04-29T13:00:17.173000', 'type': 'start_phase', 'phase': 1, 'kickoff_team_id': 3}, {'ts': '2018-04-29T13:46:17.178Z', 'type': 'end_phase', 'phase': 1}, {'ts': '2018-04-29T14:02:04.413000', 'type': 'start_phase', 'phase': 2, 'kickoff_team_id': 7}, {'ts': '2018-04-29T14:51:28.061Z', 'type': 'end_phase', 'phase': 2}]\n",
      "1525010524413\n"
     ]
    },
    {
     "name": "stderr",
     "output_type": "stream",
     "text": [
      "14973it [00:06, 2330.77it/s]\n"
     ]
    },
    {
     "name": "stdout",
     "output_type": "stream",
     "text": [
      "62\n",
      "14868 14868\n",
      "7412\n",
      "62\n",
      "62 62\n",
      "[26, 27, 28, 29, 30, 31, 32, 33, 34, 35, 36, 37, 38, 39, 40, 41, 42, 43, 44, 45, 46, 47, 48, 49, 50, 51, 52, 53, 54, 55, 56, 57, 58, 59, 60, 61, 62, 63, 64, 65, 66, 67, 68, 69, 70, 71, 72, 73, 74, 75, 76, 77, 78, 79, 80, 81, 82, 83, 84, 85, 86, 87]\n",
      "49\n",
      "Json file edited\n",
      "Parsed ../kickoff-data-corrected/4b5dc786-7219-46eb-bc5f-722a77011092.1.kickoff.rdb in 2.57 s.\n",
      "Contains keys: dict_keys(['left', 'right'])\n",
      "[left] start_ts: 1524848141035 | stop_ts: 1524848738915\n",
      "[right] start_ts: 1524848141057 | stop_ts: 1524848738937\n",
      "../kickoff-data-corrected/4b5dc786-7219-46eb-bc5f-722a77011092.json\n",
      "[{'ts': '1970-01-01T00:00:00', 'type': 'start_phase', 'phase': 1, 'kickoff_team_id': 1}, {'ts': '2018-04-27T17:48:39.186Z', 'type': 'end_phase', 'phase': 1}, {'ts': '1970-01-01T00:00:00', 'type': 'start_phase', 'phase': 2, 'kickoff_team_id': 10}, {'ts': '2018-04-27T18:53:12.757Z', 'type': 'end_phase', 'phase': 2}]\n",
      "0\n",
      "Json file edited\n"
     ]
    },
    {
     "name": "stderr",
     "output_type": "stream",
     "text": [
      "475it [00:00, 2313.95it/s]"
     ]
    },
    {
     "name": "stdout",
     "output_type": "stream",
     "text": [
      "Parsed ../kickoff-data-corrected/cd6d495b-8fe4-4586-8861-ba579cf3a6e9.2.kickoff.rdb in 2.92 s.\n",
      "Contains keys: dict_keys(['left', 'right'])\n",
      "[left] start_ts: 1523800767685 | stop_ts: 1523801367045\n",
      "[right] start_ts: 1523800767317 | stop_ts: 1523801366837\n",
      "../kickoff-data-corrected/cd6d495b-8fe4-4586-8861-ba579cf3a6e9.json\n",
      "[{'ts': '1970-01-01T00:00:00', 'type': 'start_phase', 'phase': 1, 'kickoff_team_id': None}, {'ts': '2018-04-15T13:48:30.166Z', 'type': 'end_phase', 'phase': 1}, {'ts': '2018-04-15T14:04:29.565000', 'type': 'start_phase', 'phase': 2, 'kickoff_team_id': None}, {'ts': '2018-04-15T14:54:33.364Z', 'type': 'end_phase', 'phase': 2}]\n",
      "1523801069565\n"
     ]
    },
    {
     "name": "stderr",
     "output_type": "stream",
     "text": [
      "14984it [00:06, 2189.66it/s]\n"
     ]
    },
    {
     "name": "stdout",
     "output_type": "stream",
     "text": [
      "61\n",
      "14865 14865\n",
      "7469\n",
      "61\n",
      "61 61\n",
      "[27, 28, 29, 30, 31, 32, 33, 34, 35, 36, 37, 38, 39, 40, 41, 42, 43, 44, 45, 46, 47, 48, 49, 50, 51, 52, 53, 54, 55, 56, 57, 58, 59, 60, 61, 62, 63, 64, 65, 66, 67, 68, 69, 70, 71, 72, 73, 74, 75, 76, 77, 78, 79, 80, 81, 82, 83, 84, 85, 86, 87]\n",
      "50\n",
      "Json file edited\n"
     ]
    },
    {
     "name": "stderr",
     "output_type": "stream",
     "text": [
      "278it [00:00, 2776.41it/s]"
     ]
    },
    {
     "name": "stdout",
     "output_type": "stream",
     "text": [
      "Parsed ../kickoff-data-corrected/4903143c-68be-45f0-9746-e29547b7fa94.2.kickoff.rdb in 2.12 s.\n",
      "Contains keys: dict_keys(['left', 'right'])\n",
      "[left] start_ts: 1525532144705 | stop_ts: 1525532743545\n",
      "[right] start_ts: 1525532144685 | stop_ts: 1525532743525\n",
      "../kickoff-data-corrected/4903143c-68be-45f0-9746-e29547b7fa94.json\n",
      "[{'ts': '2018-05-05T14:00:05.565000', 'type': 'start_phase', 'phase': 1, 'kickoff_team_id': 13}, {'ts': '2018-05-05T14:45:11.669Z', 'type': 'end_phase', 'phase': 1}, {'ts': '2018-05-05T15:00:45.205000', 'type': 'start_phase', 'phase': 2, 'kickoff_team_id': 4}, {'ts': '2018-05-05T15:50:08.057Z', 'type': 'end_phase', 'phase': 2}]\n",
      "1525532445205\n"
     ]
    },
    {
     "name": "stderr",
     "output_type": "stream",
     "text": [
      "14972it [00:07, 2100.76it/s]\n"
     ]
    },
    {
     "name": "stdout",
     "output_type": "stream",
     "text": [
      "62\n",
      "14867 14867\n",
      "7436\n",
      "62\n",
      "62 62\n",
      "[26, 27, 28, 29, 30, 31, 32, 33, 34, 35, 36, 37, 38, 39, 40, 41, 42, 43, 44, 45, 46, 47, 48, 49, 50, 51, 52, 53, 54, 55, 56, 57, 58, 59, 60, 61, 62, 63, 64, 65, 66, 67, 68, 69, 70, 71, 72, 73, 74, 75, 76, 77, 78, 79, 80, 81, 82, 83, 84, 85, 86, 87]\n",
      "51\n",
      "Json file edited\n",
      "Parsed ../kickoff-data-corrected/5dcb4696-281c-4bff-9ec7-02322c1b4a67.2.kickoff.rdb in 1.75 s.\n",
      "Contains keys: dict_keys(['left', 'right'])\n",
      "[left] start_ts: 1525019311714 | stop_ts: 1525019910514\n",
      "[right] start_ts: 1525019311670 | stop_ts: 1525019910510\n",
      "../kickoff-data-corrected/5dcb4696-281c-4bff-9ec7-02322c1b4a67.json\n",
      "[{'ts': '2018-04-29T15:30:04.870000', 'type': 'start_phase', 'phase': 1, 'kickoff_team_id': 14}, {'ts': '2018-04-29T16:17:03.667Z', 'type': 'end_phase', 'phase': 1}, {'ts': '1970-01-01T00:00:00', 'type': 'start_phase', 'phase': 2, 'kickoff_team_id': 4}, {'ts': '2018-04-29T17:24:05.565Z', 'type': 'end_phase', 'phase': 2}]\n",
      "0\n",
      "Json file edited\n",
      "Parsed ../kickoff-data-corrected/456910d1-b523-4ff2-b60c-fcd1f016b96d.1.kickoff.rdb in 1.63 s.\n",
      "Contains keys: dict_keys(['left', 'right'])\n",
      "[left] start_ts: 1524502503416 | stop_ts: 1524503101016\n",
      "[right] start_ts: 1524502502884 | stop_ts: 1524503100764\n",
      "../kickoff-data-corrected/456910d1-b523-4ff2-b60c-fcd1f016b96d.json\n",
      "[{'ts': '1970-01-01T00:00:00', 'type': 'start_phase', 'phase': 1, 'kickoff_team_id': 7}, {'ts': '2018-04-23T17:47:08.130Z', 'type': 'end_phase', 'phase': 1}, {'ts': '1970-01-01T00:00:00', 'type': 'start_phase', 'phase': 2, 'kickoff_team_id': 11}, {'ts': '2018-04-23T18:50:33.464Z', 'type': 'end_phase', 'phase': 2}]\n",
      "0\n",
      "Json file edited\n"
     ]
    },
    {
     "name": "stderr",
     "output_type": "stream",
     "text": [
      "126it [00:00, 1251.81it/s]"
     ]
    },
    {
     "name": "stdout",
     "output_type": "stream",
     "text": [
      "Parsed ../kickoff-data-corrected/af42c9ca-ae8f-4d69-a671-15950883ecac.1.kickoff.rdb in 3.50 s.\n",
      "Contains keys: dict_keys(['left', 'right'])\n",
      "[left] start_ts: 1524923719596 | stop_ts: 1524924319436\n",
      "[right] start_ts: 1524923719612 | stop_ts: 1524924319452\n",
      "../kickoff-data-corrected/af42c9ca-ae8f-4d69-a671-15950883ecac.json\n",
      "[{'ts': '2018-04-28T14:00:21.412000', 'type': 'start_phase', 'phase': 1, 'kickoff_team_id': 6}, {'ts': '2018-04-28T14:45:26.494Z', 'type': 'end_phase', 'phase': 1}, {'ts': '2018-04-28T15:01:35.852000', 'type': 'start_phase', 'phase': 2, 'kickoff_team_id': 5}, {'ts': '2018-04-28T15:49:36.913Z', 'type': 'end_phase', 'phase': 2}]\n",
      "1524924021412\n"
     ]
    },
    {
     "name": "stderr",
     "output_type": "stream",
     "text": [
      "14997it [00:09, 1520.74it/s]\n"
     ]
    },
    {
     "name": "stdout",
     "output_type": "stream",
     "text": [
      "62\n",
      "14891 14891\n",
      "7467\n",
      "62\n",
      "62 62\n",
      "[26, 27, 28, 29, 30, 31, 32, 33, 34, 35, 36, 37, 38, 39, 40, 41, 42, 43, 44, 45, 46, 47, 48, 49, 50, 51, 52, 53, 54, 55, 56, 57, 58, 59, 60, 61, 62, 63, 64, 65, 66, 67, 68, 69, 70, 71, 72, 73, 74, 75, 76, 77, 78, 79, 80, 81, 82, 83, 84, 85, 86, 87]\n",
      "52\n",
      "Json file edited\n"
     ]
    },
    {
     "name": "stderr",
     "output_type": "stream",
     "text": [
      "445it [00:00, 2159.99it/s]"
     ]
    },
    {
     "name": "stdout",
     "output_type": "stream",
     "text": [
      "Parsed ../kickoff-data-corrected/c79d79f1-5f51-4595-b931-4719f91a4575.2.kickoff.rdb in 2.99 s.\n",
      "Contains keys: dict_keys(['left', 'right'])\n",
      "[left] start_ts: 1525107583965 | stop_ts: 1525108183805\n",
      "[right] start_ts: 1525107584005 | stop_ts: 1525108183845\n",
      "../kickoff-data-corrected/c79d79f1-5f51-4595-b931-4719f91a4575.json\n",
      "[{'ts': '2018-04-30T16:01:46.885000', 'type': 'start_phase', 'phase': 1, 'kickoff_team_id': 12}, {'ts': '2018-04-30T16:48:14.773Z', 'type': 'end_phase', 'phase': 1}, {'ts': '2018-04-30T17:04:44.725000', 'type': 'start_phase', 'phase': 2, 'kickoff_team_id': 16}, {'ts': '2018-04-30T17:54:48.605Z', 'type': 'end_phase', 'phase': 2}]\n",
      "1525107884725\n"
     ]
    },
    {
     "name": "stderr",
     "output_type": "stream",
     "text": [
      "14997it [00:07, 2084.93it/s]\n"
     ]
    },
    {
     "name": "stdout",
     "output_type": "stream",
     "text": [
      "62\n",
      "14891 14891\n",
      "7441\n",
      "62\n",
      "62 62\n",
      "[26, 27, 28, 29, 30, 31, 32, 33, 34, 35, 36, 37, 38, 39, 40, 41, 42, 43, 44, 45, 46, 47, 48, 49, 50, 51, 52, 53, 54, 55, 56, 57, 58, 59, 60, 61, 62, 63, 64, 65, 66, 67, 68, 69, 70, 71, 72, 73, 74, 75, 76, 77, 78, 79, 80, 81, 82, 83, 84, 85, 86, 87]\n",
      "53\n",
      "Json file edited\n"
     ]
    },
    {
     "name": "stderr",
     "output_type": "stream",
     "text": [
      "\r",
      "0it [00:00, ?it/s]"
     ]
    },
    {
     "name": "stdout",
     "output_type": "stream",
     "text": [
      "Parsed ../kickoff-data-corrected/2739587b-312a-4d40-ba1a-9b5e3ebf5c9c.1.kickoff.rdb in 2.90 s.\n",
      "Contains keys: dict_keys(['left', 'right'])\n",
      "[left] start_ts: 1527425706666 | stop_ts: 1527426305466\n",
      "[right] start_ts: 1527425706526 | stop_ts: 1527426305406\n",
      "../kickoff-data-corrected/2739587b-312a-4d40-ba1a-9b5e3ebf5c9c.json\n",
      "[{'ts': '2018-05-27T13:00:07.786000', 'type': 'start_phase', 'phase': 1, 'kickoff_team_id': 2}, {'ts': '2018-05-27T13:48:06.407Z', 'type': 'end_phase', 'phase': 1}, {'ts': '2018-05-27T14:05:26.306000', 'type': 'start_phase', 'phase': 2, 'kickoff_team_id': 9}, {'ts': '2018-05-27T14:54:05.123Z', 'type': 'end_phase', 'phase': 2}]\n",
      "1527426007786\n"
     ]
    },
    {
     "name": "stderr",
     "output_type": "stream",
     "text": [
      "14971it [00:10, 1398.15it/s]\n"
     ]
    },
    {
     "name": "stdout",
     "output_type": "stream",
     "text": [
      "61\n",
      "14850 14850\n",
      "7445\n",
      "61\n",
      "61 61\n",
      "[27, 28, 29, 30, 31, 32, 33, 34, 35, 36, 37, 38, 39, 40, 41, 42, 43, 44, 45, 46, 47, 48, 49, 50, 51, 52, 53, 54, 55, 56, 57, 58, 59, 60, 61, 62, 63, 64, 65, 66, 67, 68, 69, 70, 71, 72, 73, 74, 75, 76, 77, 78, 79, 80, 81, 82, 83, 84, 85, 86, 87]\n",
      "54\n",
      "Json file edited\n"
     ]
    },
    {
     "name": "stderr",
     "output_type": "stream",
     "text": [
      "194it [00:00, 957.99it/s]"
     ]
    },
    {
     "name": "stdout",
     "output_type": "stream",
     "text": [
      "Parsed ../kickoff-data-corrected/a881fc70-93e4-43d9-b0c5-036f72eaa980.1.kickoff.rdb in 4.37 s.\n",
      "Contains keys: dict_keys(['left', 'right'])\n",
      "[left] start_ts: 1527094501982 | stop_ts: 1527095100822\n",
      "[right] start_ts: 1527094502008 | stop_ts: 1527095100848\n",
      "../kickoff-data-corrected/a881fc70-93e4-43d9-b0c5-036f72eaa980.json\n",
      "[{'ts': '2018-05-23T17:00:02.848000', 'type': 'start_phase', 'phase': 1, 'kickoff_team_id': 1}, {'ts': '2018-05-23T17:45:22.894Z', 'type': 'end_phase', 'phase': 1}, {'ts': '2018-05-23T18:00:44.168000', 'type': 'start_phase', 'phase': 2, 'kickoff_team_id': 13}, {'ts': '2018-05-23T18:48:45.517Z', 'type': 'end_phase', 'phase': 2}]\n",
      "1527094802848\n"
     ]
    },
    {
     "name": "stderr",
     "output_type": "stream",
     "text": [
      "14972it [00:13, 1116.53it/s]\n"
     ]
    },
    {
     "name": "stdout",
     "output_type": "stream",
     "text": [
      "62\n",
      "14857 14857\n",
      "7440\n",
      "62\n",
      "62 62\n",
      "[26, 27, 28, 29, 30, 31, 32, 33, 34, 35, 36, 37, 38, 39, 40, 41, 42, 43, 44, 45, 46, 47, 48, 49, 50, 51, 52, 53, 54, 55, 56, 57, 58, 59, 60, 61, 62, 63, 64, 65, 66, 67, 68, 69, 70, 71, 72, 73, 74, 75, 76, 77, 78, 79, 80, 81, 82, 83, 84, 85, 86, 87]\n",
      "55\n",
      "Json file edited\n",
      "Parsed ../kickoff-data-corrected/cd6d495b-8fe4-4586-8861-ba579cf3a6e9.1.kickoff.rdb in 0.65 s.\n",
      "Contains keys: dict_keys(['left', 'right'])\n",
      "[left] start_ts: 1523797351725 | stop_ts: 1523797586045\n",
      "[right] start_ts: 1523797351317 | stop_ts: 1523797585837\n",
      "../kickoff-data-corrected/cd6d495b-8fe4-4586-8861-ba579cf3a6e9.json\n",
      "[{'ts': '1970-01-01T00:00:00', 'type': 'start_phase', 'phase': 1, 'kickoff_team_id': None}, {'ts': '2018-04-15T13:48:30.166Z', 'type': 'end_phase', 'phase': 1}, {'ts': '2018-04-15T14:04:29.565000', 'type': 'start_phase', 'phase': 2, 'kickoff_team_id': None}, {'ts': '2018-04-15T14:54:33.364Z', 'type': 'end_phase', 'phase': 2}]\n",
      "0\n",
      "Json file edited\n"
     ]
    },
    {
     "name": "stderr",
     "output_type": "stream",
     "text": [
      "442it [00:00, 4419.87it/s]"
     ]
    },
    {
     "name": "stdout",
     "output_type": "stream",
     "text": [
      "Parsed ../kickoff-data-corrected/23fb8811-638e-4be8-a01d-76cad0f5a5bf.2.kickoff.rdb in 2.63 s.\n",
      "Contains keys: dict_keys(['left', 'right'])\n",
      "[left] start_ts: 1526136983595 | stop_ts: 1526137583435\n",
      "[right] start_ts: 1526136983581 | stop_ts: 1526137583461\n",
      "../kickoff-data-corrected/23fb8811-638e-4be8-a01d-76cad0f5a5bf.json\n",
      "[{'ts': '2018-05-12T14:00:04.221000', 'type': 'start_phase', 'phase': 1, 'kickoff_team_id': 3}, {'ts': '2018-05-12T14:46:02.666Z', 'type': 'end_phase', 'phase': 1}, {'ts': '2018-05-12T15:01:24.821000', 'type': 'start_phase', 'phase': 2, 'kickoff_team_id': 15}, {'ts': '2018-05-12T15:48:40.504Z', 'type': 'end_phase', 'phase': 2}]\n",
      "1526137284821\n"
     ]
    },
    {
     "name": "stderr",
     "output_type": "stream",
     "text": [
      "14996it [00:05, 2523.00it/s]\n"
     ]
    },
    {
     "name": "stdout",
     "output_type": "stream",
     "text": [
      "62\n",
      "14893 14893\n",
      "7454\n",
      "62\n",
      "62 62\n",
      "[26, 27, 28, 29, 30, 31, 32, 33, 34, 35, 36, 37, 38, 39, 40, 41, 42, 43, 44, 45, 46, 47, 48, 49, 50, 51, 52, 53, 54, 55, 56, 57, 58, 59, 60, 61, 62, 63, 64, 65, 66, 67, 68, 69, 70, 71, 72, 73, 74, 75, 76, 77, 78, 79, 80, 81, 82, 83, 84, 85, 86, 87]\n",
      "56\n",
      "Json file edited\n"
     ]
    },
    {
     "name": "stderr",
     "output_type": "stream",
     "text": [
      "271it [00:00, 1407.50it/s]"
     ]
    },
    {
     "name": "stdout",
     "output_type": "stream",
     "text": [
      "Parsed ../kickoff-data-corrected/adffa69d-f1aa-4aa1-9b15-fab3aa629e4f.1.kickoff.rdb in 3.21 s.\n",
      "Contains keys: dict_keys(['left', 'right'])\n",
      "[left] start_ts: 1526216111023 | stop_ts: 1526216708903\n",
      "[right] start_ts: 1526216111185 | stop_ts: 1526216708985\n",
      "../kickoff-data-corrected/adffa69d-f1aa-4aa1-9b15-fab3aa629e4f.json\n",
      "[{'ts': '2018-05-13T13:00:10.785000', 'type': 'start_phase', 'phase': 1, 'kickoff_team_id': 11}, {'ts': '2018-05-13T13:47:11.419Z', 'type': 'end_phase', 'phase': 1}, {'ts': '2018-05-13T14:04:11.863000', 'type': 'start_phase', 'phase': 2, 'kickoff_team_id': 16}, {'ts': '2018-05-13T14:54:45.215Z', 'type': 'end_phase', 'phase': 2}]\n",
      "1526216410785\n"
     ]
    },
    {
     "name": "stderr",
     "output_type": "stream",
     "text": [
      "14946it [00:08, 1678.77it/s]\n"
     ]
    },
    {
     "name": "stdout",
     "output_type": "stream",
     "text": [
      "61\n",
      "14831 14831\n",
      "7411\n",
      "61\n",
      "61 61\n",
      "[26, 27, 28, 29, 30, 31, 32, 33, 34, 35, 36, 37, 38, 39, 40, 41, 42, 43, 44, 45, 46, 47, 48, 49, 50, 51, 52, 53, 54, 55, 56, 57, 58, 59, 60, 61, 62, 63, 64, 65, 66, 67, 68, 69, 70, 71, 72, 73, 74, 75, 76, 77, 78, 79, 80, 81, 82, 83, 84, 85, 86]\n",
      "57\n",
      "Json file edited\n"
     ]
    },
    {
     "name": "stderr",
     "output_type": "stream",
     "text": [
      "226it [00:00, 1119.96it/s]"
     ]
    },
    {
     "name": "stdout",
     "output_type": "stream",
     "text": [
      "Parsed ../kickoff-data-corrected/a01d4b8a-cffb-4778-99c6-d0a53016e129.1.kickoff.rdb in 2.94 s.\n",
      "Contains keys: dict_keys(['left', 'right'])\n",
      "[left] start_ts: 1526489830965 | stop_ts: 1526490429805\n",
      "[right] start_ts: 1526489830925 | stop_ts: 1526490429805\n",
      "../kickoff-data-corrected/a01d4b8a-cffb-4778-99c6-d0a53016e129.json\n",
      "[{'ts': '2018-05-16T17:02:10.605000', 'type': 'start_phase', 'phase': 1, 'kickoff_team_id': 2}, {'ts': '2018-05-16T17:48:11.998Z', 'type': 'end_phase', 'phase': 1}, {'ts': '2018-05-16T18:04:33.725000', 'type': 'start_phase', 'phase': 2, 'kickoff_team_id': 8}, {'ts': '2018-05-16T18:53:55.743Z', 'type': 'end_phase', 'phase': 2}]\n",
      "1526490130605\n"
     ]
    },
    {
     "name": "stderr",
     "output_type": "stream",
     "text": [
      "14972it [00:09, 1660.24it/s]\n"
     ]
    },
    {
     "name": "stdout",
     "output_type": "stream",
     "text": [
      "62\n",
      "14867 14867\n",
      "7413\n",
      "62\n",
      "62 62\n",
      "[26, 27, 28, 29, 30, 31, 32, 33, 34, 35, 36, 37, 38, 39, 40, 41, 42, 43, 44, 45, 46, 47, 48, 49, 50, 51, 52, 53, 54, 55, 56, 57, 58, 59, 60, 61, 62, 63, 64, 65, 66, 67, 68, 69, 70, 71, 72, 73, 74, 75, 76, 77, 78, 79, 80, 81, 82, 83, 84, 85, 86, 87]\n",
      "58\n",
      "Json file edited\n",
      "Parsed ../kickoff-data-corrected/314f4989-398c-45a3-a74f-9f1adac71bf1.2.kickoff.rdb in 1.63 s.\n",
      "Contains keys: dict_keys(['left', 'right'])\n",
      "[left] start_ts: 1522591069484 | stop_ts: 1522591667404\n",
      "[right] start_ts: 1522591069602 | stop_ts: 1522591667442\n",
      "../kickoff-data-corrected/314f4989-398c-45a3-a74f-9f1adac71bf1.json\n",
      "[{'ts': '2018-04-01T13:00:57.284000', 'type': 'start_phase', 'phase': 1, 'kickoff_team_id': 9}, {'ts': '2018-04-01T13:47:08.486Z', 'type': 'end_phase', 'phase': 1}, {'ts': '1970-01-01T00:00:00', 'type': 'start_phase', 'phase': 2, 'kickoff_team_id': 5}, {'ts': '2018-04-01T14:50:51.103Z', 'type': 'end_phase', 'phase': 2}]\n",
      "0\n",
      "Json file edited\n"
     ]
    },
    {
     "name": "stderr",
     "output_type": "stream",
     "text": [
      "341it [00:00, 1687.53it/s]"
     ]
    },
    {
     "name": "stdout",
     "output_type": "stream",
     "text": [
      "Parsed ../kickoff-data-corrected/b4dbea7c-c72f-4dd6-b57c-8fb7b8b38eb5.2.kickoff.rdb in 3.40 s.\n",
      "Contains keys: dict_keys(['left', 'right'])\n",
      "[left] start_ts: 1524074238899 | stop_ts: 1524074838739\n",
      "[right] start_ts: 1524074238929 | stop_ts: 1524074838729\n",
      "../kickoff-data-corrected/b4dbea7c-c72f-4dd6-b57c-8fb7b8b38eb5.json\n",
      "[{'ts': '2018-04-18T17:00:11.969000', 'type': 'start_phase', 'phase': 1, 'kickoff_team_id': 13}, {'ts': '2018-04-18T17:47:10.874Z', 'type': 'end_phase', 'phase': 1}, {'ts': '2018-04-18T18:02:20.169000', 'type': 'start_phase', 'phase': 2, 'kickoff_team_id': 9}, {'ts': '2018-04-18T18:49:19.022Z', 'type': 'end_phase', 'phase': 2}]\n",
      "1524074540169\n"
     ]
    },
    {
     "name": "stderr",
     "output_type": "stream",
     "text": [
      "14996it [00:09, 1636.76it/s]\n"
     ]
    },
    {
     "name": "stdout",
     "output_type": "stream",
     "text": [
      "62\n",
      "14893 14893\n",
      "7455\n",
      "62\n",
      "62 62\n",
      "[26, 27, 28, 29, 30, 31, 32, 33, 34, 35, 36, 37, 38, 39, 40, 41, 42, 43, 44, 45, 46, 47, 48, 49, 50, 51, 52, 53, 54, 55, 56, 57, 58, 59, 60, 61, 62, 63, 64, 65, 66, 67, 68, 69, 70, 71, 72, 73, 74, 75, 76, 77, 78, 79, 80, 81, 82, 83, 84, 85, 86, 87]\n",
      "59\n",
      "Json file edited\n",
      "Parsed ../kickoff-data-corrected/3d29af74-d98c-415b-a1dc-6b034671d831.1.kickoff.rdb in 2.18 s.\n",
      "Contains keys: dict_keys(['left', 'right'])\n",
      "[left] start_ts: 1527094529245 | stop_ts: 1527095129045\n",
      "[right] start_ts: 1527094529133 | stop_ts: 1527095129013\n",
      "../kickoff-data-corrected/3d29af74-d98c-415b-a1dc-6b034671d831.json\n",
      "[{'ts': '1970-01-01T00:00:00', 'type': 'start_phase', 'phase': 1, 'kickoff_team_id': 10}, {'ts': '2018-05-23T17:48:32.142Z', 'type': 'end_phase', 'phase': 1}, {'ts': '1970-01-01T00:00:00', 'type': 'start_phase', 'phase': 2, 'kickoff_team_id': 5}, {'ts': '2018-05-23T18:54:13.202Z', 'type': 'end_phase', 'phase': 2}]\n",
      "0\n",
      "Json file edited\n"
     ]
    },
    {
     "name": "stderr",
     "output_type": "stream",
     "text": [
      "476it [00:00, 2425.80it/s]"
     ]
    },
    {
     "name": "stdout",
     "output_type": "stream",
     "text": [
      "Parsed ../kickoff-data-corrected/cec6034a-7fbf-483f-8d74-3e24fd6c0bcf.1.kickoff.rdb in 2.18 s.\n",
      "Contains keys: dict_keys(['left', 'right'])\n",
      "[left] start_ts: 1524401707700 | stop_ts: 1524402307540\n",
      "[right] start_ts: 1524401708282 | stop_ts: 1524402307842\n",
      "../kickoff-data-corrected/cec6034a-7fbf-483f-8d74-3e24fd6c0bcf.json\n",
      "[{'ts': '2018-04-22T13:00:08.860000', 'type': 'start_phase', 'phase': 1, 'kickoff_team_id': 5}, {'ts': '2018-04-22T13:45:17.115Z', 'type': 'end_phase', 'phase': 1}, {'ts': '2018-04-22T14:01:14.220000', 'type': 'start_phase', 'phase': 2, 'kickoff_team_id': 2}, {'ts': '2018-04-22T14:51:12.617Z', 'type': 'end_phase', 'phase': 2}]\n",
      "1524402008860\n"
     ]
    },
    {
     "name": "stderr",
     "output_type": "stream",
     "text": [
      "14989it [00:07, 2005.47it/s]\n"
     ]
    },
    {
     "name": "stdout",
     "output_type": "stream",
     "text": [
      "62\n",
      "14863 14863\n",
      "7435\n",
      "62\n",
      "62 62\n",
      "[27, 28, 29, 30, 31, 32, 33, 34, 35, 36, 37, 38, 39, 40, 41, 42, 43, 44, 45, 46, 47, 48, 49, 50, 51, 52, 53, 54, 55, 56, 57, 58, 59, 60, 61, 62, 63, 64, 65, 66, 67, 68, 69, 70, 71, 72, 73, 74, 75, 76, 77, 78, 79, 80, 81, 82, 83, 84, 85, 86, 87, 88]\n",
      "60\n",
      "Json file edited\n"
     ]
    },
    {
     "name": "stderr",
     "output_type": "stream",
     "text": [
      "767it [00:00, 3697.12it/s]"
     ]
    },
    {
     "name": "stdout",
     "output_type": "stream",
     "text": [
      "Parsed ../kickoff-data-corrected/bd6faac0-e5f3-4b84-82a9-400c019ac08d.1.kickoff.rdb in 2.07 s.\n",
      "Contains keys: dict_keys(['left', 'right'])\n",
      "[left] start_ts: 1526316934105 | stop_ts: 1526317530985\n",
      "[right] start_ts: 1526316934055 | stop_ts: 1526317530935\n",
      "../kickoff-data-corrected/bd6faac0-e5f3-4b84-82a9-400c019ac08d.json\n",
      "[{'ts': '2018-05-14T17:00:31.615000', 'type': 'start_phase', 'phase': 1, 'kickoff_team_id': 7}, {'ts': '2018-05-14T17:46:31.340Z', 'type': 'end_phase', 'phase': 1}, {'ts': '2018-05-14T18:02:22.775000', 'type': 'start_phase', 'phase': 2, 'kickoff_team_id': 5}, {'ts': '2018-05-14T18:49:16.627Z', 'type': 'end_phase', 'phase': 2}]\n",
      "1526317231615\n"
     ]
    },
    {
     "name": "stderr",
     "output_type": "stream",
     "text": [
      "14922it [00:07, 1866.14it/s]\n"
     ]
    },
    {
     "name": "stdout",
     "output_type": "stream",
     "text": [
      "62\n",
      "14817 14817\n",
      "7361\n",
      "62\n",
      "62 62\n",
      "[26, 27, 28, 29, 30, 31, 32, 33, 34, 35, 36, 37, 38, 39, 40, 41, 42, 43, 44, 45, 46, 47, 48, 49, 50, 51, 52, 53, 54, 55, 56, 57, 58, 59, 60, 61, 62, 63, 64, 65, 66, 67, 68, 69, 70, 71, 72, 73, 74, 75, 76, 77, 78, 79, 80, 81, 82, 83, 84, 85, 86, 87]\n",
      "61\n",
      "Json file edited\n"
     ]
    },
    {
     "name": "stderr",
     "output_type": "stream",
     "text": [
      "198it [00:00, 968.14it/s]"
     ]
    },
    {
     "name": "stdout",
     "output_type": "stream",
     "text": [
      "Parsed ../kickoff-data-corrected/76d4b783-ae63-4c60-815f-6a81beef6451.1.kickoff.rdb in 3.82 s.\n",
      "Contains keys: dict_keys(['left', 'right'])\n",
      "[left] start_ts: 1523109442596 | stop_ts: 1523110041116\n",
      "[right] start_ts: 1523109442628 | stop_ts: 1523110041148\n",
      "../kickoff-data-corrected/76d4b783-ae63-4c60-815f-6a81beef6451.json\n",
      "[{'ts': '2018-04-07T14:02:24.428000', 'type': 'start_phase', 'phase': 1, 'kickoff_team_id': 12}, {'ts': '2018-04-07T14:47:22.773Z', 'type': 'end_phase', 'phase': 1}, {'ts': '2018-04-07T15:02:59.828000', 'type': 'start_phase', 'phase': 2, 'kickoff_team_id': 4}, {'ts': '2018-04-07T15:50:52.908Z', 'type': 'end_phase', 'phase': 2}]\n",
      "1523109744428\n"
     ]
    },
    {
     "name": "stderr",
     "output_type": "stream",
     "text": [
      "14963it [00:08, 1711.28it/s]\n"
     ]
    },
    {
     "name": "stdout",
     "output_type": "stream",
     "text": [
      "62\n",
      "14861 14861\n",
      "7468\n",
      "62\n",
      "62 62\n",
      "[26, 27, 28, 29, 30, 31, 32, 33, 34, 35, 36, 37, 38, 39, 40, 41, 42, 43, 44, 45, 46, 47, 48, 49, 50, 51, 52, 53, 54, 55, 56, 57, 58, 59, 60, 61, 62, 63, 64, 65, 66, 67, 68, 69, 70, 71, 72, 73, 74, 75, 76, 77, 78, 79, 80, 81, 82, 83, 84, 85, 86, 87]\n",
      "62\n",
      "Json file edited\n"
     ]
    },
    {
     "name": "stderr",
     "output_type": "stream",
     "text": [
      "150it [00:00, 1488.14it/s]"
     ]
    },
    {
     "name": "stdout",
     "output_type": "stream",
     "text": [
      "Parsed ../kickoff-data-corrected/9d1b40c0-efb0-4eb5-9ff4-bd13a55c0820.1.kickoff.rdb in 1.99 s.\n",
      "Contains keys: dict_keys(['left', 'right'])\n",
      "[left] start_ts: 1525712100459 | stop_ts: 1525712697259\n",
      "[right] start_ts: 1525712100409 | stop_ts: 1525712697249\n",
      "../kickoff-data-corrected/9d1b40c0-efb0-4eb5-9ff4-bd13a55c0820.json\n",
      "[{'ts': '2018-05-07T16:59:59.329000', 'type': 'start_phase', 'phase': 1, 'kickoff_team_id': 6}, {'ts': '2018-05-07T17:45:00.886Z', 'type': 'end_phase', 'phase': 1}, {'ts': '2018-05-07T18:03:56.609000', 'type': 'start_phase', 'phase': 2, 'kickoff_team_id': 6}, {'ts': '2018-05-07T18:53:43.859Z', 'type': 'end_phase', 'phase': 2}]\n",
      "1525712399329\n"
     ]
    },
    {
     "name": "stderr",
     "output_type": "stream",
     "text": [
      "14922it [00:06, 2383.53it/s]\n"
     ]
    },
    {
     "name": "stdout",
     "output_type": "stream",
     "text": [
      "62\n",
      "14818 14818\n",
      "7396\n",
      "62\n",
      "62 62\n",
      "[26, 27, 28, 29, 30, 31, 32, 33, 34, 35, 36, 37, 38, 39, 40, 41, 42, 43, 44, 45, 46, 47, 48, 49, 50, 51, 52, 53, 54, 55, 56, 57, 58, 59, 60, 61, 62, 63, 64, 65, 66, 67, 68, 69, 70, 71, 72, 73, 74, 75, 76, 77, 78, 79, 80, 81, 82, 83, 84, 85, 86, 87]\n",
      "63\n",
      "Json file edited\n"
     ]
    },
    {
     "name": "stderr",
     "output_type": "stream",
     "text": [
      "\r",
      "0it [00:00, ?it/s]"
     ]
    },
    {
     "name": "stdout",
     "output_type": "stream",
     "text": [
      "Parsed ../kickoff-data-corrected/4be6ef54-2541-42d0-a334-e513a535029c.2.kickoff.rdb in 1.69 s.\n",
      "Contains keys: dict_keys(['left', 'right'])\n",
      "[left] start_ts: 1523717857062 | stop_ts: 1523718456662\n",
      "[right] start_ts: 1523717857078 | stop_ts: 1523718456678\n",
      "../kickoff-data-corrected/4be6ef54-2541-42d0-a334-e513a535029c.json\n",
      "[{'ts': '2018-04-14T14:00:21.598000', 'type': 'start_phase', 'phase': 1, 'kickoff_team_id': 16}, {'ts': '2018-04-14T14:46:37.899Z', 'type': 'end_phase', 'phase': 1}, {'ts': '2018-04-14T15:02:38.518000', 'type': 'start_phase', 'phase': 2, 'kickoff_team_id': 5}, {'ts': '2018-04-14T15:51:35.702Z', 'type': 'end_phase', 'phase': 2}]\n",
      "1523718158518\n"
     ]
    },
    {
     "name": "stderr",
     "output_type": "stream",
     "text": [
      "14991it [00:06, 2248.53it/s]\n"
     ]
    },
    {
     "name": "stdout",
     "output_type": "stream",
     "text": [
      "62\n",
      "14886 14886\n",
      "7458\n",
      "62\n",
      "62 62\n",
      "[26, 27, 28, 29, 30, 31, 32, 33, 34, 35, 36, 37, 38, 39, 40, 41, 42, 43, 44, 45, 46, 47, 48, 49, 50, 51, 52, 53, 54, 55, 56, 57, 58, 59, 60, 61, 62, 63, 64, 65, 66, 67, 68, 69, 70, 71, 72, 73, 74, 75, 76, 77, 78, 79, 80, 81, 82, 83, 84, 85, 86, 87]\n",
      "64\n",
      "Json file edited\n"
     ]
    },
    {
     "name": "stderr",
     "output_type": "stream",
     "text": [
      "418it [00:00, 4173.32it/s]"
     ]
    },
    {
     "name": "stdout",
     "output_type": "stream",
     "text": [
      "Parsed ../kickoff-data-corrected/536b68b9-507f-408a-9a91-f994667b1d16.1.kickoff.rdb in 1.93 s.\n",
      "Contains keys: dict_keys(['left', 'right'])\n",
      "[left] start_ts: 1526829914271 | stop_ts: 1526830513111\n",
      "[right] start_ts: 1526829914293 | stop_ts: 1526830513133\n",
      "../kickoff-data-corrected/536b68b9-507f-408a-9a91-f994667b1d16.json\n",
      "[{'ts': '2018-05-20T15:30:15.853000', 'type': 'start_phase', 'phase': 1, 'kickoff_team_id': 8}, {'ts': '2018-05-20T16:15:14.598Z', 'type': 'end_phase', 'phase': 1}, {'ts': '2018-05-20T16:30:45.173000', 'type': 'start_phase', 'phase': 2, 'kickoff_team_id': 5}, {'ts': '2018-05-20T17:19:46.634Z', 'type': 'end_phase', 'phase': 2}]\n",
      "1526830215853\n"
     ]
    },
    {
     "name": "stderr",
     "output_type": "stream",
     "text": [
      "14971it [00:06, 2354.62it/s]\n"
     ]
    },
    {
     "name": "stdout",
     "output_type": "stream",
     "text": [
      "62\n",
      "14868 14868\n",
      "7462\n",
      "62\n",
      "62 62\n",
      "[26, 27, 28, 29, 30, 31, 32, 33, 34, 35, 36, 37, 38, 39, 40, 41, 42, 43, 44, 45, 46, 47, 48, 49, 50, 51, 52, 53, 54, 55, 56, 57, 58, 59, 60, 61, 62, 63, 64, 65, 66, 67, 68, 69, 70, 71, 72, 73, 74, 75, 76, 77, 78, 79, 80, 81, 82, 83, 84, 85, 86, 87]\n",
      "65\n",
      "Json file edited\n"
     ]
    },
    {
     "name": "stderr",
     "output_type": "stream",
     "text": [
      "132it [00:00, 1313.01it/s]"
     ]
    },
    {
     "name": "stdout",
     "output_type": "stream",
     "text": [
      "Parsed ../kickoff-data-corrected/a5763b80-c4a7-4b45-9c78-4f1c8f72bf60.1.kickoff.rdb in 3.29 s.\n",
      "Contains keys: dict_keys(['left', 'right'])\n",
      "[left] start_ts: 1525366542119 | stop_ts: 1525367140959\n",
      "[right] start_ts: 1525366542109 | stop_ts: 1525367140949\n",
      "../kickoff-data-corrected/a5763b80-c4a7-4b45-9c78-4f1c8f72bf60.json\n",
      "[{'ts': '2018-05-03T17:00:42.629000', 'type': 'start_phase', 'phase': 1, 'kickoff_team_id': 8}, {'ts': '2018-05-03T17:45:43.538Z', 'type': 'end_phase', 'phase': 1}, {'ts': '2018-05-03T18:03:09.789000', 'type': 'start_phase', 'phase': 2, 'kickoff_team_id': 11}, {'ts': '2018-05-03T18:54:18.463Z', 'type': 'end_phase', 'phase': 2}]\n",
      "1525366842629\n"
     ]
    },
    {
     "name": "stderr",
     "output_type": "stream",
     "text": [
      "14971it [00:07, 2020.66it/s]\n"
     ]
    },
    {
     "name": "stdout",
     "output_type": "stream",
     "text": [
      "62\n",
      "14867 14867\n",
      "7436\n",
      "62\n",
      "62 62\n",
      "[26, 27, 28, 29, 30, 31, 32, 33, 34, 35, 36, 37, 38, 39, 40, 41, 42, 43, 44, 45, 46, 47, 48, 49, 50, 51, 52, 53, 54, 55, 56, 57, 58, 59, 60, 61, 62, 63, 64, 65, 66, 67, 68, 69, 70, 71, 72, 73, 74, 75, 76, 77, 78, 79, 80, 81, 82, 83, 84, 85, 86, 87]\n",
      "66\n",
      "Json file edited\n",
      "Parsed ../kickoff-data-corrected/e4a4d658-8d02-4336-9fa6-b0b1dfcc95ee.1.kickoff.rdb in 1.38 s.\n",
      "Contains keys: dict_keys(['left', 'right'])\n",
      "[left] start_ts: 1525611307047 | stop_ts: 1525611905607\n",
      "[right] start_ts: 1525611307081 | stop_ts: 1525611905601\n",
      "../kickoff-data-corrected/e4a4d658-8d02-4336-9fa6-b0b1dfcc95ee.json\n",
      "[{'ts': '1970-01-01T00:00:00', 'type': 'start_phase', 'phase': 1, 'kickoff_team_id': 15}, {'ts': '2018-05-06T14:10:37.292Z', 'type': 'end_phase', 'phase': 1}, {'ts': '1970-01-01T00:00:00', 'type': 'start_phase', 'phase': 2, 'kickoff_team_id': 11}, {'ts': '2018-05-06T15:14:11.682Z', 'type': 'end_phase', 'phase': 2}]\n",
      "0\n",
      "Json file edited\n"
     ]
    },
    {
     "name": "stderr",
     "output_type": "stream",
     "text": [
      "831it [00:00, 4302.82it/s]"
     ]
    },
    {
     "name": "stdout",
     "output_type": "stream",
     "text": [
      "Parsed ../kickoff-data-corrected/3c7f617c-c839-4e5a-9e80-52017fa85d93.1.kickoff.rdb in 2.01 s.\n",
      "Contains keys: dict_keys(['left', 'right'])\n",
      "[left] start_ts: 1525006516949 | stop_ts: 1525007115789\n",
      "[right] start_ts: 1525006516933 | stop_ts: 1525007115773\n",
      "../kickoff-data-corrected/3c7f617c-c839-4e5a-9e80-52017fa85d93.json\n",
      "[{'ts': '2018-04-29T13:00:17.173000', 'type': 'start_phase', 'phase': 1, 'kickoff_team_id': 3}, {'ts': '2018-04-29T13:46:17.178Z', 'type': 'end_phase', 'phase': 1}, {'ts': '2018-04-29T14:02:04.413000', 'type': 'start_phase', 'phase': 2, 'kickoff_team_id': 7}, {'ts': '2018-04-29T14:51:28.061Z', 'type': 'end_phase', 'phase': 2}]\n",
      "1525006817173\n"
     ]
    },
    {
     "name": "stderr",
     "output_type": "stream",
     "text": [
      "14972it [00:07, 2102.58it/s]\n"
     ]
    },
    {
     "name": "stdout",
     "output_type": "stream",
     "text": [
      "62\n",
      "14867 14867\n",
      "7428\n",
      "62\n",
      "62 62\n",
      "[26, 27, 28, 29, 30, 31, 32, 33, 34, 35, 36, 37, 38, 39, 40, 41, 42, 43, 44, 45, 46, 47, 48, 49, 50, 51, 52, 53, 54, 55, 56, 57, 58, 59, 60, 61, 62, 63, 64, 65, 66, 67, 68, 69, 70, 71, 72, 73, 74, 75, 76, 77, 78, 79, 80, 81, 82, 83, 84, 85, 86, 87]\n",
      "67\n",
      "Json file edited\n"
     ]
    },
    {
     "name": "stderr",
     "output_type": "stream",
     "text": [
      "416it [00:00, 2009.33it/s]"
     ]
    },
    {
     "name": "stdout",
     "output_type": "stream",
     "text": [
      "Parsed ../kickoff-data-corrected/c0b1883d-4420-48aa-9805-9318a20e56ae.2.kickoff.rdb in 2.08 s.\n",
      "Contains keys: dict_keys(['left', 'right'])\n",
      "[left] start_ts: 1527353785251 | stop_ts: 1527354385091\n",
      "[right] start_ts: 1527353785285 | stop_ts: 1527354385085\n",
      "../kickoff-data-corrected/c0b1883d-4420-48aa-9805-9318a20e56ae.json\n",
      "[{'ts': '2018-05-26T16:00:04.565000', 'type': 'start_phase', 'phase': 1, 'kickoff_team_id': 5}, {'ts': '2018-05-26T16:46:00.357Z', 'type': 'end_phase', 'phase': 1}, {'ts': '2018-05-26T17:01:27.885000', 'type': 'start_phase', 'phase': 2, 'kickoff_team_id': 13}, {'ts': '2018-05-26T17:49:27.835Z', 'type': 'end_phase', 'phase': 2}]\n",
      "1527354087885\n"
     ]
    },
    {
     "name": "stderr",
     "output_type": "stream",
     "text": [
      "14997it [00:06, 2369.95it/s]\n"
     ]
    },
    {
     "name": "stdout",
     "output_type": "stream",
     "text": [
      "62\n",
      "14893 14893\n",
      "7490\n",
      "62\n",
      "62 62\n",
      "[26, 27, 28, 29, 30, 31, 32, 33, 34, 35, 36, 37, 38, 39, 40, 41, 42, 43, 44, 45, 46, 47, 48, 49, 50, 51, 52, 53, 54, 55, 56, 57, 58, 59, 60, 61, 62, 63, 64, 65, 66, 67, 68, 69, 70, 71, 72, 73, 74, 75, 76, 77, 78, 79, 80, 81, 82, 83, 84, 85, 86, 87]\n",
      "68\n",
      "Json file edited\n"
     ]
    },
    {
     "name": "stderr",
     "output_type": "stream",
     "text": [
      "462it [00:00, 4612.61it/s]"
     ]
    },
    {
     "name": "stdout",
     "output_type": "stream",
     "text": [
      "Parsed ../kickoff-data-corrected/70593a9a-5258-4f89-a402-b555c8ee3514.2.kickoff.rdb in 2.89 s.\n",
      "Contains keys: dict_keys(['left', 'right'])\n",
      "[left] start_ts: 1525525129257 | stop_ts: 1525525729057\n",
      "[right] start_ts: 1525525129235 | stop_ts: 1525525729035\n",
      "../kickoff-data-corrected/70593a9a-5258-4f89-a402-b555c8ee3514.json\n",
      "[{'ts': '2018-05-05T12:00:48.555000', 'type': 'start_phase', 'phase': 1, 'kickoff_team_id': 3}, {'ts': '2018-05-05T12:47:24.013Z', 'type': 'end_phase', 'phase': 1}, {'ts': '2018-05-05T13:03:50.875000', 'type': 'start_phase', 'phase': 2, 'kickoff_team_id': 2}, {'ts': '2018-05-05T13:51:49.753Z', 'type': 'end_phase', 'phase': 2}]\n",
      "1525525430875\n"
     ]
    },
    {
     "name": "stderr",
     "output_type": "stream",
     "text": [
      "14996it [00:05, 2561.44it/s]\n"
     ]
    },
    {
     "name": "stdout",
     "output_type": "stream",
     "text": [
      "62\n",
      "14892 14892\n",
      "7464\n",
      "62\n",
      "62 62\n",
      "[26, 27, 28, 29, 30, 31, 32, 33, 34, 35, 36, 37, 38, 39, 40, 41, 42, 43, 44, 45, 46, 47, 48, 49, 50, 51, 52, 53, 54, 55, 56, 57, 58, 59, 60, 61, 62, 63, 64, 65, 66, 67, 68, 69, 70, 71, 72, 73, 74, 75, 76, 77, 78, 79, 80, 81, 82, 83, 84, 85, 86, 87]\n",
      "69\n",
      "Json file edited\n",
      "Parsed ../kickoff-data-corrected/47ed3e3a-56d1-4eb1-b5d3-9e5f9658fda7.1.kickoff.rdb in 2.71 s.\n",
      "Contains keys: dict_keys(['left', 'right'])\n",
      "[left] start_ts: 1526316926287 | stop_ts: 1526317525167\n",
      "[right] start_ts: 1526316926243 | stop_ts: 1526317525163\n",
      "../kickoff-data-corrected/47ed3e3a-56d1-4eb1-b5d3-9e5f9658fda7.json\n",
      "[{'ts': '1970-01-01T00:00:00', 'type': 'start_phase', 'phase': 1, 'kickoff_team_id': 10}, {'ts': '2018-05-14T17:46:28.806Z', 'type': 'end_phase', 'phase': 1}, {'ts': '1970-01-01T00:00:00', 'type': 'start_phase', 'phase': 2, 'kickoff_team_id': 13}, {'ts': '2018-05-14T18:49:37.209Z', 'type': 'end_phase', 'phase': 2}]\n",
      "0\n",
      "Json file edited\n"
     ]
    },
    {
     "name": "stderr",
     "output_type": "stream",
     "text": [
      "607it [00:00, 2990.85it/s]"
     ]
    },
    {
     "name": "stdout",
     "output_type": "stream",
     "text": [
      "Parsed ../kickoff-data-corrected/e773ac8c-dd65-419c-a734-3bd077a165b6.2.kickoff.rdb in 1.66 s.\n",
      "Contains keys: dict_keys(['left', 'right'])\n",
      "[left] start_ts: 1524506128932 | stop_ts: 1524506727732\n",
      "[right] start_ts: 1524506129560 | stop_ts: 1524506728040\n",
      "../kickoff-data-corrected/e773ac8c-dd65-419c-a734-3bd077a165b6.json\n",
      "[{'ts': '2018-04-23T17:00:06.520000', 'type': 'start_phase', 'phase': 1, 'kickoff_team_id': 15}, {'ts': '2018-04-23T17:45:08.015Z', 'type': 'end_phase', 'phase': 1}, {'ts': '2018-04-23T18:00:29.680000', 'type': 'start_phase', 'phase': 2, 'kickoff_team_id': 8}, {'ts': '2018-04-23T18:49:31.614Z', 'type': 'end_phase', 'phase': 2}]\n",
      "1524506429680\n"
     ]
    },
    {
     "name": "stderr",
     "output_type": "stream",
     "text": [
      "14964it [00:06, 2312.61it/s]\n"
     ]
    },
    {
     "name": "stdout",
     "output_type": "stream",
     "text": [
      "62\n",
      "14836 14836\n",
      "7423\n",
      "62\n",
      "62 62\n",
      "[26, 27, 28, 29, 30, 31, 32, 33, 34, 35, 36, 37, 38, 39, 40, 41, 42, 43, 44, 45, 46, 47, 48, 49, 50, 51, 52, 53, 54, 55, 56, 57, 58, 59, 60, 61, 62, 63, 64, 65, 66, 67, 68, 69, 70, 71, 72, 73, 74, 75, 76, 77, 78, 79, 80, 81, 82, 83, 84, 85, 86, 87]\n",
      "70\n",
      "Json file edited\n"
     ]
    },
    {
     "name": "stderr",
     "output_type": "stream",
     "text": [
      "452it [00:00, 2202.59it/s]"
     ]
    },
    {
     "name": "stdout",
     "output_type": "stream",
     "text": [
      "Parsed ../kickoff-data-corrected/27bea627-3caa-47ee-93c3-67f0e26f3034.1.kickoff.rdb in 2.79 s.\n",
      "Contains keys: dict_keys(['left', 'right'])\n",
      "[left] start_ts: 1523796958381 | stop_ts: 1523797557661\n",
      "[right] start_ts: 1523796957851 | stop_ts: 1523797557411\n",
      "../kickoff-data-corrected/27bea627-3caa-47ee-93c3-67f0e26f3034.json\n",
      "[{'ts': '2018-04-15T13:00:59.341000', 'type': 'start_phase', 'phase': 1, 'kickoff_team_id': 4}, {'ts': '2018-04-15T13:46:01.064Z', 'type': 'end_phase', 'phase': 1}, {'ts': '2018-04-15T14:01:55.381000', 'type': 'start_phase', 'phase': 2, 'kickoff_team_id': 9}, {'ts': '2018-04-15T14:50:42.654Z', 'type': 'end_phase', 'phase': 2}]\n",
      "1523797259341\n"
     ]
    },
    {
     "name": "stderr",
     "output_type": "stream",
     "text": [
      "14984it [00:08, 1822.59it/s]\n"
     ]
    },
    {
     "name": "stdout",
     "output_type": "stream",
     "text": [
      "61\n",
      "14863 14863\n",
      "7446\n",
      "61\n",
      "61 61\n",
      "[27, 28, 29, 30, 31, 32, 33, 34, 35, 36, 37, 38, 39, 40, 41, 42, 43, 44, 45, 46, 47, 48, 49, 50, 51, 52, 53, 54, 55, 56, 57, 58, 59, 60, 61, 62, 63, 64, 65, 66, 67, 68, 69, 70, 71, 72, 73, 74, 75, 76, 77, 78, 79, 80, 81, 82, 83, 84, 85, 86, 87]\n",
      "71\n",
      "Json file edited\n"
     ]
    },
    {
     "name": "stderr",
     "output_type": "stream",
     "text": [
      "217it [00:00, 2161.44it/s]"
     ]
    },
    {
     "name": "stdout",
     "output_type": "stream",
     "text": [
      "Parsed ../kickoff-data-corrected/916abbb2-57b9-4700-8cc5-3fc01de1a6f8.2.kickoff.rdb in 2.91 s.\n",
      "Contains keys: dict_keys(['left', 'right'])\n",
      "[left] start_ts: 1526749078219 | stop_ts: 1526749675059\n",
      "[right] start_ts: 1526749078339 | stop_ts: 1526749675139\n",
      "../kickoff-data-corrected/916abbb2-57b9-4700-8cc5-3fc01de1a6f8.json\n",
      "[{'ts': '1970-01-01T00:00:00', 'type': 'start_phase', 'phase': 1, 'kickoff_team_id': 16}, {'ts': '2018-05-19T16:46:01.609Z', 'type': 'end_phase', 'phase': 1}, {'ts': '2018-05-19T17:02:56.859000', 'type': 'start_phase', 'phase': 2, 'kickoff_team_id': 4}, {'ts': '2018-05-19T17:51:06.302Z', 'type': 'end_phase', 'phase': 2}]\n",
      "1526749376859\n"
     ]
    },
    {
     "name": "stderr",
     "output_type": "stream",
     "text": [
      "14920it [00:06, 2475.57it/s]\n"
     ]
    },
    {
     "name": "stdout",
     "output_type": "stream",
     "text": [
      "62\n",
      "14800 14800\n",
      "7380\n",
      "62\n",
      "62 62\n",
      "[26, 27, 28, 29, 30, 31, 32, 33, 34, 35, 36, 37, 38, 39, 40, 41, 42, 43, 44, 45, 46, 47, 48, 49, 50, 51, 52, 53, 54, 55, 56, 57, 58, 59, 60, 61, 62, 63, 64, 65, 66, 67, 68, 69, 70, 71, 72, 73, 74, 75, 76, 77, 78, 79, 80, 81, 82, 83, 84, 85, 86, 87]\n",
      "72\n",
      "Json file edited\n"
     ]
    },
    {
     "name": "stderr",
     "output_type": "stream",
     "text": [
      "257it [00:00, 2569.90it/s]"
     ]
    },
    {
     "name": "stdout",
     "output_type": "stream",
     "text": [
      "Parsed ../kickoff-data-corrected/a01d4b8a-cffb-4778-99c6-d0a53016e129.2.kickoff.rdb in 1.89 s.\n",
      "Contains keys: dict_keys(['left', 'right'])\n",
      "[left] start_ts: 1526493574965 | stop_ts: 1526494171805\n",
      "[right] start_ts: 1526493574965 | stop_ts: 1526494171805\n",
      "../kickoff-data-corrected/a01d4b8a-cffb-4778-99c6-d0a53016e129.json\n",
      "[{'ts': '2018-05-16T17:02:10.605000', 'type': 'start_phase', 'phase': 1, 'kickoff_team_id': 2}, {'ts': '2018-05-16T17:48:11.998Z', 'type': 'end_phase', 'phase': 1}, {'ts': '2018-05-16T18:04:33.725000', 'type': 'start_phase', 'phase': 2, 'kickoff_team_id': 8}, {'ts': '2018-05-16T18:53:55.743Z', 'type': 'end_phase', 'phase': 2}]\n",
      "1526493873725\n"
     ]
    },
    {
     "name": "stderr",
     "output_type": "stream",
     "text": [
      "14922it [00:06, 2210.85it/s]\n"
     ]
    },
    {
     "name": "stdout",
     "output_type": "stream",
     "text": [
      "62\n",
      "14815 14815\n",
      "7391\n",
      "62\n",
      "62 62\n",
      "[26, 27, 28, 29, 30, 31, 32, 33, 34, 35, 36, 37, 38, 39, 40, 41, 42, 43, 44, 45, 46, 47, 48, 49, 50, 51, 52, 53, 54, 55, 56, 57, 58, 59, 60, 61, 62, 63, 64, 65, 66, 67, 68, 69, 70, 71, 72, 73, 74, 75, 76, 77, 78, 79, 80, 81, 82, 83, 84, 85, 86, 87]\n",
      "73\n",
      "Json file edited\n"
     ]
    },
    {
     "name": "stderr",
     "output_type": "stream",
     "text": [
      "344it [00:00, 1742.62it/s]"
     ]
    },
    {
     "name": "stdout",
     "output_type": "stream",
     "text": [
      "Parsed ../kickoff-data-corrected/e0646790-9750-47eb-85ac-a7065fbcd4dd.1.kickoff.rdb in 2.47 s.\n",
      "Contains keys: dict_keys(['left', 'right'])\n",
      "[left] start_ts: 1524410694448 | stop_ts: 1524411291608\n",
      "[right] start_ts: 1524410693864 | stop_ts: 1524411291304\n",
      "../kickoff-data-corrected/e0646790-9750-47eb-85ac-a7065fbcd4dd.json\n",
      "[{'ts': '2018-04-22T15:29:53.064000', 'type': 'start_phase', 'phase': 1, 'kickoff_team_id': 6}, {'ts': '2018-04-22T16:18:51.239Z', 'type': 'end_phase', 'phase': 1}, {'ts': '2018-04-22T16:34:36.848000', 'type': 'start_phase', 'phase': 2, 'kickoff_team_id': 10}, {'ts': '2018-04-22T17:22:35.491Z', 'type': 'end_phase', 'phase': 2}]\n",
      "1524410993064\n"
     ]
    },
    {
     "name": "stderr",
     "output_type": "stream",
     "text": [
      "14930it [00:07, 1944.91it/s]\n"
     ]
    },
    {
     "name": "stdout",
     "output_type": "stream",
     "text": [
      "61\n",
      "14803 14803\n",
      "7385\n",
      "61\n",
      "61 61\n",
      "[26, 27, 28, 29, 30, 31, 32, 33, 34, 35, 36, 37, 38, 39, 40, 41, 42, 43, 44, 45, 46, 47, 48, 49, 50, 51, 52, 53, 54, 55, 56, 57, 58, 59, 60, 61, 62, 63, 64, 65, 66, 67, 68, 69, 70, 71, 72, 73, 74, 75, 76, 77, 78, 79, 80, 81, 82, 83, 84, 85, 86]\n",
      "74\n",
      "Json file edited\n"
     ]
    },
    {
     "name": "stderr",
     "output_type": "stream",
     "text": [
      "\r",
      "0it [00:00, ?it/s]"
     ]
    },
    {
     "name": "stdout",
     "output_type": "stream",
     "text": [
      "Parsed ../kickoff-data-corrected/2739587b-312a-4d40-ba1a-9b5e3ebf5c9c.2.kickoff.rdb in 2.28 s.\n",
      "Contains keys: dict_keys(['left', 'right'])\n",
      "[left] start_ts: 1527429626666 | stop_ts: 1527430225466\n",
      "[right] start_ts: 1527429626566 | stop_ts: 1527430225406\n",
      "../kickoff-data-corrected/2739587b-312a-4d40-ba1a-9b5e3ebf5c9c.json\n",
      "[{'ts': '2018-05-27T13:00:07.786000', 'type': 'start_phase', 'phase': 1, 'kickoff_team_id': 2}, {'ts': '2018-05-27T13:48:06.407Z', 'type': 'end_phase', 'phase': 1}, {'ts': '2018-05-27T14:05:26.306000', 'type': 'start_phase', 'phase': 2, 'kickoff_team_id': 9}, {'ts': '2018-05-27T14:54:05.123Z', 'type': 'end_phase', 'phase': 2}]\n",
      "1527429926306\n"
     ]
    },
    {
     "name": "stderr",
     "output_type": "stream",
     "text": [
      "14971it [00:08, 1747.87it/s]\n"
     ]
    },
    {
     "name": "stdout",
     "output_type": "stream",
     "text": [
      "61\n",
      "14852 14852\n",
      "7409\n",
      "61\n",
      "61 61\n",
      "[27, 28, 29, 30, 31, 32, 33, 34, 35, 36, 37, 38, 39, 40, 41, 42, 43, 44, 45, 46, 47, 48, 49, 50, 51, 52, 53, 54, 55, 56, 57, 58, 59, 60, 61, 62, 63, 64, 65, 66, 67, 68, 69, 70, 71, 72, 73, 74, 75, 76, 77, 78, 79, 80, 81, 82, 83, 84, 85, 86, 87]\n",
      "75\n",
      "Json file edited\n"
     ]
    },
    {
     "name": "stderr",
     "output_type": "stream",
     "text": [
      "256it [00:00, 2553.82it/s]"
     ]
    },
    {
     "name": "stdout",
     "output_type": "stream",
     "text": [
      "Parsed ../kickoff-data-corrected/cec6034a-7fbf-483f-8d74-3e24fd6c0bcf.2.kickoff.rdb in 2.81 s.\n",
      "Contains keys: dict_keys(['left', 'right'])\n",
      "[left] start_ts: 1524405375740 | stop_ts: 1524405972540\n",
      "[right] start_ts: 1524405376322 | stop_ts: 1524405972842\n",
      "../kickoff-data-corrected/cec6034a-7fbf-483f-8d74-3e24fd6c0bcf.json\n",
      "[{'ts': '2018-04-22T13:00:08.860000', 'type': 'start_phase', 'phase': 1, 'kickoff_team_id': 5}, {'ts': '2018-04-22T13:45:17.115Z', 'type': 'end_phase', 'phase': 1}, {'ts': '2018-04-22T14:01:14.220000', 'type': 'start_phase', 'phase': 2, 'kickoff_team_id': 2}, {'ts': '2018-04-22T14:51:12.617Z', 'type': 'end_phase', 'phase': 2}]\n",
      "1524405674220\n"
     ]
    },
    {
     "name": "stderr",
     "output_type": "stream",
     "text": [
      "14914it [00:06, 2433.39it/s]\n"
     ]
    },
    {
     "name": "stdout",
     "output_type": "stream",
     "text": [
      "61\n",
      "14785 14785\n",
      "7369\n",
      "61\n",
      "61 61\n",
      "[27, 28, 29, 30, 31, 32, 33, 34, 35, 36, 37, 38, 39, 40, 41, 42, 43, 44, 45, 46, 47, 48, 49, 50, 51, 52, 53, 54, 55, 56, 57, 58, 59, 60, 61, 62, 63, 64, 65, 66, 67, 68, 69, 70, 71, 72, 73, 74, 75, 76, 77, 78, 79, 80, 81, 82, 83, 84, 85, 86, 87]\n",
      "76\n",
      "Json file edited\n"
     ]
    },
    {
     "name": "stderr",
     "output_type": "stream",
     "text": [
      "296it [00:00, 2955.84it/s]"
     ]
    },
    {
     "name": "stdout",
     "output_type": "stream",
     "text": [
      "Parsed ../kickoff-data-corrected/aadecf3a-0d92-4ace-b643-ced44474e157.1.kickoff.rdb in 1.78 s.\n",
      "Contains keys: dict_keys(['left', 'right'])\n",
      "[left] start_ts: 1524156903139 | stop_ts: 1524157501179\n",
      "[right] start_ts: 1524156903665 | stop_ts: 1524157501465\n",
      "../kickoff-data-corrected/aadecf3a-0d92-4ace-b643-ced44474e157.json\n",
      "[{'ts': '2018-04-19T17:00:03.859000', 'type': 'start_phase', 'phase': 1, 'kickoff_team_id': 15}, {'ts': '2018-04-19T17:46:04.420Z', 'type': 'end_phase', 'phase': 1}, {'ts': '1970-01-01T00:00:00', 'type': 'start_phase', 'phase': 2, 'kickoff_team_id': 7}, {'ts': '2018-04-19T18:49:42.844Z', 'type': 'end_phase', 'phase': 2}]\n",
      "1524157203859\n"
     ]
    },
    {
     "name": "stderr",
     "output_type": "stream",
     "text": [
      "14945it [00:06, 2272.35it/s]\n"
     ]
    },
    {
     "name": "stdout",
     "output_type": "stream",
     "text": [
      "62\n",
      "14811 14811\n",
      "7419\n",
      "62\n",
      "62 62\n",
      "[26, 27, 28, 29, 30, 31, 32, 33, 34, 35, 36, 37, 38, 39, 40, 41, 42, 43, 44, 45, 46, 47, 48, 49, 50, 51, 52, 53, 54, 55, 56, 57, 58, 59, 60, 61, 62, 63, 64, 65, 66, 67, 68, 69, 70, 71, 72, 73, 74, 75, 76, 77, 78, 79, 80, 81, 82, 83, 84, 85, 86, 87]\n",
      "77\n",
      "Json file edited\n"
     ]
    },
    {
     "name": "stderr",
     "output_type": "stream",
     "text": [
      "631it [00:00, 3098.77it/s]"
     ]
    },
    {
     "name": "stdout",
     "output_type": "stream",
     "text": [
      "Parsed ../kickoff-data-corrected/4501652f-d7e6-4e3e-9ad2-e01198278688.2.kickoff.rdb in 2.06 s.\n",
      "Contains keys: dict_keys(['left', 'right'])\n",
      "[left] start_ts: 1526219862518 | stop_ts: 1526220459398\n",
      "[right] start_ts: 1526219862566 | stop_ts: 1526220459406\n",
      "../kickoff-data-corrected/4501652f-d7e6-4e3e-9ad2-e01198278688.json\n",
      "[{'ts': '2018-05-13T13:00:01.726000', 'type': 'start_phase', 'phase': 1, 'kickoff_team_id': 6}, {'ts': '2018-05-13T13:46:56.480Z', 'type': 'end_phase', 'phase': 1}, {'ts': '2018-05-13T14:02:42.006000', 'type': 'start_phase', 'phase': 2, 'kickoff_team_id': 4}, {'ts': '2018-05-13T14:52:58.982Z', 'type': 'end_phase', 'phase': 2}]\n",
      "1526220162006\n"
     ]
    },
    {
     "name": "stderr",
     "output_type": "stream",
     "text": [
      "14922it [00:07, 2111.93it/s]\n"
     ]
    },
    {
     "name": "stdout",
     "output_type": "stream",
     "text": [
      "62\n",
      "14817 14817\n",
      "7408\n",
      "62\n",
      "62 62\n",
      "[26, 27, 28, 29, 30, 31, 32, 33, 34, 35, 36, 37, 38, 39, 40, 41, 42, 43, 44, 45, 46, 47, 48, 49, 50, 51, 52, 53, 54, 55, 56, 57, 58, 59, 60, 61, 62, 63, 64, 65, 66, 67, 68, 69, 70, 71, 72, 73, 74, 75, 76, 77, 78, 79, 80, 81, 82, 83, 84, 85, 86, 87]\n",
      "78\n",
      "Json file edited\n"
     ]
    },
    {
     "name": "stderr",
     "output_type": "stream",
     "text": [
      "255it [00:00, 2547.15it/s]"
     ]
    },
    {
     "name": "stdout",
     "output_type": "stream",
     "text": [
      "Parsed ../kickoff-data-corrected/723fa378-2b05-42e0-9631-a05bb1ed5e70.2.kickoff.rdb in 3.07 s.\n",
      "Contains keys: dict_keys(['left', 'right'])\n",
      "[left] start_ts: 1524506177320 | stop_ts: 1524506776600\n",
      "[right] start_ts: 1524506176788 | stop_ts: 1524506776348\n",
      "../kickoff-data-corrected/723fa378-2b05-42e0-9631-a05bb1ed5e70.json\n",
      "[{'ts': '1970-01-01T00:00:00', 'type': 'start_phase', 'phase': 1, 'kickoff_team_id': 4}, {'ts': '2018-04-23T17:45:26.980Z', 'type': 'end_phase', 'phase': 1}, {'ts': '2018-04-23T18:01:18.280000', 'type': 'start_phase', 'phase': 2, 'kickoff_team_id': 1}, {'ts': '2018-04-23T18:51:18.989Z', 'type': 'end_phase', 'phase': 2}]\n",
      "1524506478280\n"
     ]
    },
    {
     "name": "stderr",
     "output_type": "stream",
     "text": [
      "14982it [00:05, 2581.71it/s]\n"
     ]
    },
    {
     "name": "stdout",
     "output_type": "stream",
     "text": [
      "61\n",
      "14857 14857\n",
      "7443\n",
      "61\n",
      "61 61\n",
      "[27, 28, 29, 30, 31, 32, 33, 34, 35, 36, 37, 38, 39, 40, 41, 42, 43, 44, 45, 46, 47, 48, 49, 50, 51, 52, 53, 54, 55, 56, 57, 58, 59, 60, 61, 62, 63, 64, 65, 66, 67, 68, 69, 70, 71, 72, 73, 74, 75, 76, 77, 78, 79, 80, 81, 82, 83, 84, 85, 86, 87]\n",
      "79\n",
      "Json file edited\n"
     ]
    },
    {
     "name": "stderr",
     "output_type": "stream",
     "text": [
      "406it [00:00, 1997.59it/s]"
     ]
    },
    {
     "name": "stdout",
     "output_type": "stream",
     "text": [
      "Parsed ../kickoff-data-corrected/5dcb4696-281c-4bff-9ec7-02322c1b4a67.1.kickoff.rdb in 4.08 s.\n",
      "Contains keys: dict_keys(['left', 'right'])\n",
      "[left] start_ts: 1525015503674 | stop_ts: 1525016102514\n",
      "[right] start_ts: 1525015503710 | stop_ts: 1525016102510\n",
      "../kickoff-data-corrected/5dcb4696-281c-4bff-9ec7-02322c1b4a67.json\n",
      "[{'ts': '2018-04-29T15:30:04.870000', 'type': 'start_phase', 'phase': 1, 'kickoff_team_id': 14}, {'ts': '2018-04-29T16:17:03.667Z', 'type': 'end_phase', 'phase': 1}, {'ts': '1970-01-01T00:00:00', 'type': 'start_phase', 'phase': 2, 'kickoff_team_id': 4}, {'ts': '2018-04-29T17:24:05.565Z', 'type': 'end_phase', 'phase': 2}]\n",
      "1525015804870\n"
     ]
    },
    {
     "name": "stderr",
     "output_type": "stream",
     "text": [
      "14971it [00:08, 1763.35it/s]\n"
     ]
    },
    {
     "name": "stdout",
     "output_type": "stream",
     "text": [
      "62\n",
      "14859 14859\n",
      "7451\n",
      "62\n",
      "62 62\n",
      "[26, 27, 28, 29, 30, 31, 32, 33, 34, 35, 36, 37, 38, 39, 40, 41, 42, 43, 44, 45, 46, 47, 48, 49, 50, 51, 52, 53, 54, 55, 56, 57, 58, 59, 60, 61, 62, 63, 64, 65, 66, 67, 68, 69, 70, 71, 72, 73, 74, 75, 76, 77, 78, 79, 80, 81, 82, 83, 84, 85, 86, 87]\n",
      "80\n",
      "Json file edited\n"
     ]
    },
    {
     "name": "stderr",
     "output_type": "stream",
     "text": [
      "177it [00:00, 1769.40it/s]"
     ]
    },
    {
     "name": "stdout",
     "output_type": "stream",
     "text": [
      "Parsed ../kickoff-data-corrected/9acafc14-55f4-499e-90d9-4db2f121801b.1.kickoff.rdb in 2.59 s.\n",
      "Contains keys: dict_keys(['left', 'right'])\n",
      "[left] start_ts: 1526226036499 | stop_ts: 1526226634379\n",
      "[right] start_ts: 1526226036455 | stop_ts: 1526226634335\n",
      "../kickoff-data-corrected/9acafc14-55f4-499e-90d9-4db2f121801b.json\n",
      "[{'ts': '2018-05-13T15:45:36.695000', 'type': 'start_phase', 'phase': 1, 'kickoff_team_id': 12}, {'ts': '2018-05-13T16:33:39.123Z', 'type': 'end_phase', 'phase': 1}, {'ts': '2018-05-13T16:49:39.615000', 'type': 'start_phase', 'phase': 2, 'kickoff_team_id': 2}, {'ts': '2018-05-13T17:39:37.349Z', 'type': 'end_phase', 'phase': 2}]\n",
      "1526226336695\n"
     ]
    },
    {
     "name": "stderr",
     "output_type": "stream",
     "text": [
      "14948it [00:08, 1753.12it/s]\n"
     ]
    },
    {
     "name": "stdout",
     "output_type": "stream",
     "text": [
      "62\n",
      "14842 14842\n",
      "7428\n",
      "62\n",
      "62 62\n",
      "[26, 27, 28, 29, 30, 31, 32, 33, 34, 35, 36, 37, 38, 39, 40, 41, 42, 43, 44, 45, 46, 47, 48, 49, 50, 51, 52, 53, 54, 55, 56, 57, 58, 59, 60, 61, 62, 63, 64, 65, 66, 67, 68, 69, 70, 71, 72, 73, 74, 75, 76, 77, 78, 79, 80, 81, 82, 83, 84, 85, 86, 87]\n",
      "81\n",
      "Json file edited\n"
     ]
    },
    {
     "name": "stderr",
     "output_type": "stream",
     "text": [
      "310it [00:00, 3098.61it/s]"
     ]
    },
    {
     "name": "stdout",
     "output_type": "stream",
     "text": [
      "Parsed ../kickoff-data-corrected/e40014f3-5c63-4869-94af-75c4e0547de4.2.kickoff.rdb in 1.73 s.\n",
      "Contains keys: dict_keys(['left', 'right'])\n",
      "[left] start_ts: 1527098223718 | stop_ts: 1527098822558\n",
      "[right] start_ts: 1527098223764 | stop_ts: 1527098822564\n",
      "../kickoff-data-corrected/e40014f3-5c63-4869-94af-75c4e0547de4.json\n",
      "[{'ts': '2018-05-23T17:00:04.764000', 'type': 'start_phase', 'phase': 1, 'kickoff_team_id': 4}, {'ts': '2018-05-23T17:45:05.284Z', 'type': 'end_phase', 'phase': 1}, {'ts': '2018-05-23T18:02:04.404000', 'type': 'start_phase', 'phase': 2, 'kickoff_team_id': 3}, {'ts': '2018-05-23T18:51:09.847Z', 'type': 'end_phase', 'phase': 2}]\n",
      "1527098524404\n"
     ]
    },
    {
     "name": "stderr",
     "output_type": "stream",
     "text": [
      "14946it [00:05, 2598.76it/s]\n"
     ]
    },
    {
     "name": "stdout",
     "output_type": "stream",
     "text": [
      "62\n",
      "14811 14811\n",
      "7437\n",
      "62\n",
      "62 62\n",
      "[26, 27, 28, 29, 30, 31, 32, 33, 34, 35, 36, 37, 38, 39, 40, 41, 42, 43, 44, 45, 46, 47, 48, 49, 50, 51, 52, 53, 54, 55, 56, 57, 58, 59, 60, 61, 62, 63, 64, 65, 66, 67, 68, 69, 70, 71, 72, 73, 74, 75, 76, 77, 78, 79, 80, 81, 82, 83, 84, 85, 86, 87]\n",
      "82\n",
      "Json file edited\n"
     ]
    },
    {
     "name": "stderr",
     "output_type": "stream",
     "text": [
      "276it [00:00, 1349.23it/s]"
     ]
    },
    {
     "name": "stdout",
     "output_type": "stream",
     "text": [
      "Parsed ../kickoff-data-corrected/e773ac8c-dd65-419c-a734-3bd077a165b6.1.kickoff.rdb in 3.40 s.\n",
      "Contains keys: dict_keys(['left', 'right'])\n",
      "[left] start_ts: 1524502504892 | stop_ts: 1524503104732\n",
      "[right] start_ts: 1524502505560 | stop_ts: 1524503105040\n",
      "../kickoff-data-corrected/e773ac8c-dd65-419c-a734-3bd077a165b6.json\n",
      "[{'ts': '2018-04-23T17:00:06.520000', 'type': 'start_phase', 'phase': 1, 'kickoff_team_id': 15}, {'ts': '2018-04-23T17:45:08.015Z', 'type': 'end_phase', 'phase': 1}, {'ts': '2018-04-23T18:00:29.680000', 'type': 'start_phase', 'phase': 2, 'kickoff_team_id': 8}, {'ts': '2018-04-23T18:49:31.614Z', 'type': 'end_phase', 'phase': 2}]\n",
      "1524502806520\n"
     ]
    },
    {
     "name": "stderr",
     "output_type": "stream",
     "text": [
      "14988it [00:07, 1924.59it/s]\n"
     ]
    },
    {
     "name": "stdout",
     "output_type": "stream",
     "text": [
      "62\n",
      "14860 14860\n",
      "7444\n",
      "62\n",
      "62 62\n",
      "[26, 27, 28, 29, 30, 31, 32, 33, 34, 35, 36, 37, 38, 39, 40, 41, 42, 43, 44, 45, 46, 47, 48, 49, 50, 51, 52, 53, 54, 55, 56, 57, 58, 59, 60, 61, 62, 63, 64, 65, 66, 67, 68, 69, 70, 71, 72, 73, 74, 75, 76, 77, 78, 79, 80, 81, 82, 83, 84, 85, 86, 87]\n",
      "83\n",
      "Json file edited\n"
     ]
    },
    {
     "name": "stderr",
     "output_type": "stream",
     "text": [
      "302it [00:00, 3013.07it/s]"
     ]
    },
    {
     "name": "stdout",
     "output_type": "stream",
     "text": [
      "Parsed ../kickoff-data-corrected/66b6caf7-e5c0-45dd-874f-de8ac2e3c9ff.2.kickoff.rdb in 1.64 s.\n",
      "Contains keys: dict_keys(['left', 'right'])\n",
      "[left] start_ts: 1526925412782 | stop_ts: 1526926012662\n",
      "[right] start_ts: 1526925412770 | stop_ts: 1526926012650\n",
      "../kickoff-data-corrected/66b6caf7-e5c0-45dd-874f-de8ac2e3c9ff.json\n",
      "[{'ts': '2018-05-21T17:00:10.970000', 'type': 'start_phase', 'phase': 1, 'kickoff_team_id': 6}, {'ts': '2018-05-21T17:46:11.855Z', 'type': 'end_phase', 'phase': 1}, {'ts': '2018-05-21T18:01:54.690000', 'type': 'start_phase', 'phase': 2, 'kickoff_team_id': 7}, {'ts': '2018-05-21T18:51:25.546Z', 'type': 'end_phase', 'phase': 2}]\n",
      "1526925714690\n"
     ]
    },
    {
     "name": "stderr",
     "output_type": "stream",
     "text": [
      "14997it [00:06, 2499.34it/s]\n"
     ]
    },
    {
     "name": "stdout",
     "output_type": "stream",
     "text": [
      "62\n",
      "14894 14894\n",
      "7473\n",
      "62\n",
      "62 62\n",
      "[26, 27, 28, 29, 30, 31, 32, 33, 34, 35, 36, 37, 38, 39, 40, 41, 42, 43, 44, 45, 46, 47, 48, 49, 50, 51, 52, 53, 54, 55, 56, 57, 58, 59, 60, 61, 62, 63, 64, 65, 66, 67, 68, 69, 70, 71, 72, 73, 74, 75, 76, 77, 78, 79, 80, 81, 82, 83, 84, 85, 86, 87]\n",
      "84\n",
      "Json file edited\n"
     ]
    },
    {
     "name": "stderr",
     "output_type": "stream",
     "text": [
      "624it [00:00, 3016.47it/s]"
     ]
    },
    {
     "name": "stdout",
     "output_type": "stream",
     "text": [
      "Parsed ../kickoff-data-corrected/bff5f37c-be85-4f08-b6d4-a01e6c22fe0e.2.kickoff.rdb in 1.83 s.\n",
      "Contains keys: dict_keys(['left', 'right'])\n",
      "[left] start_ts: 1523987756393 | stop_ts: 1523988353873\n",
      "[right] start_ts: 1523987755569 | stop_ts: 1523988353449\n",
      "../kickoff-data-corrected/bff5f37c-be85-4f08-b6d4-a01e6c22fe0e.json\n",
      "[{'ts': '2018-04-17T17:00:48.769000', 'type': 'start_phase', 'phase': 1, 'kickoff_team_id': 14}, {'ts': '2018-04-17T17:45:52.314Z', 'type': 'end_phase', 'phase': 1}, {'ts': '2018-04-17T18:00:54.313000', 'type': 'start_phase', 'phase': 2, 'kickoff_team_id': 3}, {'ts': '2018-04-17T18:51:00.072Z', 'type': 'end_phase', 'phase': 2}]\n",
      "1523988054313\n"
     ]
    },
    {
     "name": "stderr",
     "output_type": "stream",
     "text": [
      "14938it [00:06, 2226.49it/s]\n"
     ]
    },
    {
     "name": "stdout",
     "output_type": "stream",
     "text": [
      "62\n",
      "14806 14806\n",
      "7368\n",
      "62\n",
      "62 62\n",
      "[26, 27, 28, 29, 30, 31, 32, 33, 34, 35, 36, 37, 38, 39, 40, 41, 42, 43, 44, 45, 46, 47, 48, 49, 50, 51, 52, 53, 54, 55, 56, 57, 58, 59, 60, 61, 62, 63, 64, 65, 66, 67, 68, 69, 70, 71, 72, 73, 74, 75, 76, 77, 78, 79, 80, 81, 82, 83, 84, 85, 86, 87]\n",
      "85\n",
      "Json file edited\n"
     ]
    },
    {
     "name": "stderr",
     "output_type": "stream",
     "text": [
      "448it [00:00, 2210.75it/s]"
     ]
    },
    {
     "name": "stdout",
     "output_type": "stream",
     "text": [
      "Parsed ../kickoff-data-corrected/a5763b80-c4a7-4b45-9c78-4f1c8f72bf60.2.kickoff.rdb in 1.84 s.\n",
      "Contains keys: dict_keys(['left', 'right'])\n",
      "[left] start_ts: 1525370290159 | stop_ts: 1525370887959\n",
      "[right] start_ts: 1525370290109 | stop_ts: 1525370887949\n",
      "../kickoff-data-corrected/a5763b80-c4a7-4b45-9c78-4f1c8f72bf60.json\n",
      "[{'ts': '2018-05-03T17:00:42.629000', 'type': 'start_phase', 'phase': 1, 'kickoff_team_id': 8}, {'ts': '2018-05-03T17:45:43.538Z', 'type': 'end_phase', 'phase': 1}, {'ts': '2018-05-03T18:03:09.789000', 'type': 'start_phase', 'phase': 2, 'kickoff_team_id': 11}, {'ts': '2018-05-03T18:54:18.463Z', 'type': 'end_phase', 'phase': 2}]\n",
      "1525370589789\n"
     ]
    },
    {
     "name": "stderr",
     "output_type": "stream",
     "text": [
      "14946it [00:06, 2141.83it/s]\n"
     ]
    },
    {
     "name": "stdout",
     "output_type": "stream",
     "text": [
      "62\n",
      "14840 14840\n",
      "7414\n",
      "62\n",
      "62 62\n",
      "[26, 27, 28, 29, 30, 31, 32, 33, 34, 35, 36, 37, 38, 39, 40, 41, 42, 43, 44, 45, 46, 47, 48, 49, 50, 51, 52, 53, 54, 55, 56, 57, 58, 59, 60, 61, 62, 63, 64, 65, 66, 67, 68, 69, 70, 71, 72, 73, 74, 75, 76, 77, 78, 79, 80, 81, 82, 83, 84, 85, 86, 87]\n",
      "86\n",
      "Json file edited\n"
     ]
    },
    {
     "name": "stderr",
     "output_type": "stream",
     "text": [
      "293it [00:00, 2928.91it/s]"
     ]
    },
    {
     "name": "stdout",
     "output_type": "stream",
     "text": [
      "Parsed ../kickoff-data-corrected/a185c6c8-7383-4d19-927f-dc8f70726c34.2.kickoff.rdb in 2.68 s.\n",
      "Contains keys: dict_keys(['left', 'right'])\n",
      "[left] start_ts: 1523901471243 | stop_ts: 1523902070043\n",
      "[right] start_ts: 1523901471657 | stop_ts: 1523902070297\n",
      "../kickoff-data-corrected/a185c6c8-7383-4d19-927f-dc8f70726c34.json\n",
      "[{'ts': '2018-04-16T17:01:37.097000', 'type': 'start_phase', 'phase': 1, 'kickoff_team_id': 15}, {'ts': '2018-04-16T17:46:39.313Z', 'type': 'end_phase', 'phase': 1}, {'ts': '2018-04-16T18:02:51.643000', 'type': 'start_phase', 'phase': 2, 'kickoff_team_id': 2}, {'ts': '2018-04-16T18:49:49.424Z', 'type': 'end_phase', 'phase': 2}]\n",
      "1523901771643\n"
     ]
    },
    {
     "name": "stderr",
     "output_type": "stream",
     "text": [
      "14967it [00:05, 2555.88it/s]\n"
     ]
    },
    {
     "name": "stdout",
     "output_type": "stream",
     "text": [
      "62\n",
      "14843 14843\n",
      "7420\n",
      "62\n",
      "62 62\n",
      "[26, 27, 28, 29, 30, 31, 32, 33, 34, 35, 36, 37, 38, 39, 40, 41, 42, 43, 44, 45, 46, 47, 48, 49, 50, 51, 52, 53, 54, 55, 56, 57, 58, 59, 60, 61, 62, 63, 64, 65, 66, 67, 68, 69, 70, 71, 72, 73, 74, 75, 76, 77, 78, 79, 80, 81, 82, 83, 84, 85, 86, 87]\n",
      "87\n",
      "Json file edited\n",
      "Parsed ../kickoff-data-corrected/e4a4d658-8d02-4336-9fa6-b0b1dfcc95ee.2.kickoff.rdb in 1.52 s.\n",
      "Contains keys: dict_keys(['left', 'right'])\n",
      "[left] start_ts: 1525616443047 | stop_ts: 1525617042607\n",
      "[right] start_ts: 1525616443081 | stop_ts: 1525617042601\n",
      "../kickoff-data-corrected/e4a4d658-8d02-4336-9fa6-b0b1dfcc95ee.json\n",
      "[{'ts': '1970-01-01T00:00:00', 'type': 'start_phase', 'phase': 1, 'kickoff_team_id': 15}, {'ts': '2018-05-06T14:10:37.292Z', 'type': 'end_phase', 'phase': 1}, {'ts': '1970-01-01T00:00:00', 'type': 'start_phase', 'phase': 2, 'kickoff_team_id': 11}, {'ts': '2018-05-06T15:14:11.682Z', 'type': 'end_phase', 'phase': 2}]\n",
      "0\n",
      "Json file edited\n"
     ]
    },
    {
     "name": "stderr",
     "output_type": "stream",
     "text": [
      "571it [00:00, 2799.01it/s]"
     ]
    },
    {
     "name": "stdout",
     "output_type": "stream",
     "text": [
      "Parsed ../kickoff-data-corrected/9e627901-09e2-4c84-bf77-6f0ec289fa5f.1.kickoff.rdb in 1.94 s.\n",
      "Contains keys: dict_keys(['left', 'right'])\n",
      "[left] start_ts: 1522682846069 | stop_ts: 1522683445869\n",
      "[right] start_ts: 1522682845973 | stop_ts: 1522683445853\n",
      "../kickoff-data-corrected/9e627901-09e2-4c84-bf77-6f0ec289fa5f.json\n",
      "[{'ts': '2018-04-02T15:32:26.973000', 'type': 'start_phase', 'phase': 1, 'kickoff_team_id': 7}, {'ts': '2018-04-02T16:17:34.362Z', 'type': 'end_phase', 'phase': 1}, {'ts': '2018-04-02T16:33:32.893000', 'type': 'start_phase', 'phase': 2, 'kickoff_team_id': 8}, {'ts': '2018-04-02T17:22:39.373Z', 'type': 'end_phase', 'phase': 2}]\n",
      "1522683146973\n"
     ]
    },
    {
     "name": "stderr",
     "output_type": "stream",
     "text": [
      "14997it [00:05, 2649.20it/s]\n"
     ]
    },
    {
     "name": "stdout",
     "output_type": "stream",
     "text": [
      "62\n",
      "14882 14882\n",
      "7445\n",
      "62\n",
      "62 62\n",
      "[26, 27, 28, 29, 30, 31, 32, 33, 34, 35, 36, 37, 38, 39, 40, 41, 42, 43, 44, 45, 46, 47, 48, 49, 50, 51, 52, 53, 54, 55, 56, 57, 58, 59, 60, 61, 62, 63, 64, 65, 66, 67, 68, 69, 70, 71, 72, 73, 74, 75, 76, 77, 78, 79, 80, 81, 82, 83, 84, 85, 86, 87]\n",
      "88\n",
      "Json file edited\n"
     ]
    },
    {
     "name": "stderr",
     "output_type": "stream",
     "text": [
      "1038it [00:00, 5199.15it/s]"
     ]
    },
    {
     "name": "stdout",
     "output_type": "stream",
     "text": [
      "Parsed ../kickoff-data-corrected/050a1fae-5d48-4048-8f66-a3f12eca843d.2.kickoff.rdb in 1.67 s.\n",
      "Contains keys: dict_keys(['left', 'right'])\n",
      "[left] start_ts: 1526228825102 | stop_ts: 1526229422022\n",
      "[right] start_ts: 1526228825172 | stop_ts: 1526229422052\n",
      "../kickoff-data-corrected/050a1fae-5d48-4048-8f66-a3f12eca843d.json\n",
      "[{'ts': '2018-05-13T15:30:01.862000', 'type': 'start_phase', 'phase': 1, 'kickoff_team_id': 14}, {'ts': '2018-05-13T16:16:59.553Z', 'type': 'end_phase', 'phase': 1}, {'ts': '2018-05-13T16:32:03.932000', 'type': 'start_phase', 'phase': 2, 'kickoff_team_id': 8}, {'ts': '2018-05-13T17:20:33.812Z', 'type': 'end_phase', 'phase': 2}]\n",
      "1526229123932\n"
     ]
    },
    {
     "name": "stderr",
     "output_type": "stream",
     "text": [
      "14922it [00:05, 2733.93it/s]\n"
     ]
    },
    {
     "name": "stdout",
     "output_type": "stream",
     "text": [
      "62\n",
      "14812 14812\n",
      "7389\n",
      "62\n",
      "62 62\n",
      "[26, 27, 28, 29, 30, 31, 32, 33, 34, 35, 36, 37, 38, 39, 40, 41, 42, 43, 44, 45, 46, 47, 48, 49, 50, 51, 52, 53, 54, 55, 56, 57, 58, 59, 60, 61, 62, 63, 64, 65, 66, 67, 68, 69, 70, 71, 72, 73, 74, 75, 76, 77, 78, 79, 80, 81, 82, 83, 84, 85, 86, 87]\n",
      "89\n",
      "Json file edited\n"
     ]
    },
    {
     "name": "stderr",
     "output_type": "stream",
     "text": [
      "391it [00:00, 3904.12it/s]"
     ]
    },
    {
     "name": "stdout",
     "output_type": "stream",
     "text": [
      "Parsed ../kickoff-data-corrected/4176c56a-b0df-4e64-aaeb-09150829ba15.1.kickoff.rdb in 3.13 s.\n",
      "Contains keys: dict_keys(['left', 'right'])\n",
      "[left] start_ts: 1526738122412 | stop_ts: 1526738722252\n",
      "[right] start_ts: 1526738122432 | stop_ts: 1526738722232\n",
      "../kickoff-data-corrected/4176c56a-b0df-4e64-aaeb-09150829ba15.json\n",
      "[{'ts': '2018-05-19T14:00:24.152000', 'type': 'start_phase', 'phase': 1, 'kickoff_team_id': 3}, {'ts': '2018-05-19T14:48:34.080Z', 'type': 'end_phase', 'phase': 1}, {'ts': '2018-05-19T15:04:52.912000', 'type': 'start_phase', 'phase': 2, 'kickoff_team_id': 13}, {'ts': '2018-05-19T15:53:26.441Z', 'type': 'end_phase', 'phase': 2}]\n",
      "1526738424152\n"
     ]
    },
    {
     "name": "stderr",
     "output_type": "stream",
     "text": [
      "14996it [00:07, 2057.96it/s]\n"
     ]
    },
    {
     "name": "stdout",
     "output_type": "stream",
     "text": [
      "62\n",
      "14892 14892\n",
      "7467\n",
      "62\n",
      "62 62\n",
      "[26, 27, 28, 29, 30, 31, 32, 33, 34, 35, 36, 37, 38, 39, 40, 41, 42, 43, 44, 45, 46, 47, 48, 49, 50, 51, 52, 53, 54, 55, 56, 57, 58, 59, 60, 61, 62, 63, 64, 65, 66, 67, 68, 69, 70, 71, 72, 73, 74, 75, 76, 77, 78, 79, 80, 81, 82, 83, 84, 85, 86, 87]\n",
      "90\n",
      "Json file edited\n",
      "Parsed ../kickoff-data-corrected/4b5dc786-7219-46eb-bc5f-722a77011092.2.kickoff.rdb in 1.62 s.\n",
      "Contains keys: dict_keys(['left', 'right'])\n",
      "[left] start_ts: 1524852013035 | stop_ts: 1524852612915\n",
      "[right] start_ts: 1524852013097 | stop_ts: 1524852612937\n",
      "../kickoff-data-corrected/4b5dc786-7219-46eb-bc5f-722a77011092.json\n",
      "[{'ts': '1970-01-01T00:00:00', 'type': 'start_phase', 'phase': 1, 'kickoff_team_id': 1}, {'ts': '2018-04-27T17:48:39.186Z', 'type': 'end_phase', 'phase': 1}, {'ts': '1970-01-01T00:00:00', 'type': 'start_phase', 'phase': 2, 'kickoff_team_id': 10}, {'ts': '2018-04-27T18:53:12.757Z', 'type': 'end_phase', 'phase': 2}]\n",
      "0\n",
      "Json file edited\n"
     ]
    },
    {
     "name": "stderr",
     "output_type": "stream",
     "text": [
      "1020it [00:00, 5031.21it/s]"
     ]
    },
    {
     "name": "stdout",
     "output_type": "stream",
     "text": [
      "Parsed ../kickoff-data-corrected/84e8b33c-d912-495e-9e21-84bdd18e0e04.2.kickoff.rdb in 1.58 s.\n",
      "Contains keys: dict_keys(['left', 'right'])\n",
      "[left] start_ts: 1523642141699 | stop_ts: 1523642740539\n",
      "[right] start_ts: 1523642142209 | stop_ts: 1523642740769\n",
      "../kickoff-data-corrected/84e8b33c-d912-495e-9e21-84bdd18e0e04.json\n",
      "[{'ts': '2018-04-13T17:00:01.059000', 'type': 'start_phase', 'phase': 1, 'kickoff_team_id': 12}, {'ts': '2018-04-13T17:45:38.365Z', 'type': 'end_phase', 'phase': 1}, {'ts': '2018-04-13T18:00:41.739000', 'type': 'start_phase', 'phase': 2, 'kickoff_team_id': 14}, {'ts': '2018-04-13T18:47:41.972Z', 'type': 'end_phase', 'phase': 2}]\n",
      "1523642441739\n"
     ]
    },
    {
     "name": "stderr",
     "output_type": "stream",
     "text": [
      "14965it [00:05, 2874.09it/s]\n"
     ]
    },
    {
     "name": "stdout",
     "output_type": "stream",
     "text": [
      "61\n",
      "14844 14844\n",
      "7411\n",
      "61\n",
      "61 61\n",
      "[27, 28, 29, 30, 31, 32, 33, 34, 35, 36, 37, 38, 39, 40, 41, 42, 43, 44, 45, 46, 47, 48, 49, 50, 51, 52, 53, 54, 55, 56, 57, 58, 59, 60, 61, 62, 63, 64, 65, 66, 67, 68, 69, 70, 71, 72, 73, 74, 75, 76, 77, 78, 79, 80, 81, 82, 83, 84, 85, 86, 87]\n",
      "91\n",
      "Json file edited\n",
      "Parsed ../kickoff-data-corrected/a5857e03-10b8-454a-89fb-c201985b04cb.1.kickoff.rdb in 1.63 s.\n",
      "Contains keys: dict_keys(['left', 'right'])\n",
      "[left] start_ts: 1523379375938 | stop_ts: 1523379974138\n",
      "[right] start_ts: 1523379375326 | stop_ts: 1523379973846\n",
      "../kickoff-data-corrected/a5857e03-10b8-454a-89fb-c201985b04cb.json\n",
      "[{'ts': '1970-01-01T00:00:00', 'type': 'start_phase', 'phase': 1, 'kickoff_team_id': 6}, {'ts': '2018-04-10T17:47:16.674Z', 'type': 'end_phase', 'phase': 1}, {'ts': '2018-04-10T18:03:05.406000', 'type': 'start_phase', 'phase': 2, 'kickoff_team_id': 2}, {'ts': '2018-04-10T18:51:05.058Z', 'type': 'end_phase', 'phase': 2}]\n",
      "0\n",
      "Json file edited\n"
     ]
    },
    {
     "name": "stderr",
     "output_type": "stream",
     "text": [
      "565it [00:00, 2828.75it/s]"
     ]
    },
    {
     "name": "stdout",
     "output_type": "stream",
     "text": [
      "Parsed ../kickoff-data-corrected/2dc12819-d486-4925-a0e2-b8ae9ff1aed5.2.kickoff.rdb in 2.08 s.\n",
      "Contains keys: dict_keys(['left', 'right'])\n",
      "[left] start_ts: 1523196016019 | stop_ts: 1523196614339\n",
      "[right] start_ts: 1523196016735 | stop_ts: 1523196614695\n",
      "../kickoff-data-corrected/2dc12819-d486-4925-a0e2-b8ae9ff1aed5.json\n",
      "[{'ts': '2018-04-08T13:03:52.775000', 'type': 'start_phase', 'phase': 1, 'kickoff_team_id': 11}, {'ts': '2018-04-08T13:48:52.077Z', 'type': 'end_phase', 'phase': 1}, {'ts': '2018-04-08T14:05:16.815000', 'type': 'start_phase', 'phase': 2, 'kickoff_team_id': 14}, {'ts': '2018-04-08T14:53:40.200Z', 'type': 'end_phase', 'phase': 2}]\n",
      "1523196316815\n"
     ]
    },
    {
     "name": "stderr",
     "output_type": "stream",
     "text": [
      "14949it [00:07, 2090.82it/s]\n"
     ]
    },
    {
     "name": "stdout",
     "output_type": "stream",
     "text": [
      "62\n",
      "14821 14821\n",
      "7420\n",
      "62\n",
      "62 62\n",
      "[26, 27, 28, 29, 30, 31, 32, 33, 34, 35, 36, 37, 38, 39, 40, 41, 42, 43, 44, 45, 46, 47, 48, 49, 50, 51, 52, 53, 54, 55, 56, 57, 58, 59, 60, 61, 62, 63, 64, 65, 66, 67, 68, 69, 70, 71, 72, 73, 74, 75, 76, 77, 78, 79, 80, 81, 82, 83, 84, 85, 86, 87]\n",
      "92\n",
      "Json file edited\n"
     ]
    },
    {
     "name": "stderr",
     "output_type": "stream",
     "text": [
      "399it [00:00, 1935.32it/s]"
     ]
    },
    {
     "name": "stdout",
     "output_type": "stream",
     "text": [
      "Parsed ../kickoff-data-corrected/76d4b783-ae63-4c60-815f-6a81beef6451.2.kickoff.rdb in 3.03 s.\n",
      "Contains keys: dict_keys(['left', 'right'])\n",
      "[left] start_ts: 1523113078596 | stop_ts: 1523113675116\n",
      "[right] start_ts: 1523113078628 | stop_ts: 1523113675148\n",
      "../kickoff-data-corrected/76d4b783-ae63-4c60-815f-6a81beef6451.json\n",
      "[{'ts': '2018-04-07T14:02:24.428000', 'type': 'start_phase', 'phase': 1, 'kickoff_team_id': 12}, {'ts': '2018-04-07T14:47:22.773Z', 'type': 'end_phase', 'phase': 1}, {'ts': '2018-04-07T15:02:59.828000', 'type': 'start_phase', 'phase': 2, 'kickoff_team_id': 4}, {'ts': '2018-04-07T15:50:52.908Z', 'type': 'end_phase', 'phase': 2}]\n",
      "1523113379828\n"
     ]
    },
    {
     "name": "stderr",
     "output_type": "stream",
     "text": [
      "14913it [00:07, 2053.23it/s]\n"
     ]
    },
    {
     "name": "stdout",
     "output_type": "stream",
     "text": [
      "62\n",
      "14810 14810\n",
      "7454\n",
      "62\n",
      "62 62\n",
      "[26, 27, 28, 29, 30, 31, 32, 33, 34, 35, 36, 37, 38, 39, 40, 41, 42, 43, 44, 45, 46, 47, 48, 49, 50, 51, 52, 53, 54, 55, 56, 57, 58, 59, 60, 61, 62, 63, 64, 65, 66, 67, 68, 69, 70, 71, 72, 73, 74, 75, 76, 77, 78, 79, 80, 81, 82, 83, 84, 85, 86, 87]\n",
      "93\n",
      "Json file edited\n",
      "Parsed ../kickoff-data-corrected/cbcca433-ff77-4927-a5a3-36ff293c12fd.1.kickoff.rdb in 1.54 s.\n",
      "Contains keys: dict_keys(['left', 'right'])\n",
      "[left] start_ts: 1523292948088 | stop_ts: 1523293544248\n",
      "[right] start_ts: 1523292936370 | stop_ts: 1523293534370\n",
      "../kickoff-data-corrected/cbcca433-ff77-4927-a5a3-36ff293c12fd.json\n",
      "[{'ts': '1970-01-01T00:00:00', 'type': 'start_phase', 'phase': 1, 'kickoff_team_id': 15}, {'ts': '2018-04-09T17:47:46.113Z', 'type': 'end_phase', 'phase': 1}, {'ts': '2018-04-09T18:04:20.408000', 'type': 'start_phase', 'phase': 2, 'kickoff_team_id': 5}, {'ts': '2018-04-09T18:53:12.188Z', 'type': 'end_phase', 'phase': 2}]\n",
      "0\n",
      "Json file edited\n"
     ]
    },
    {
     "name": "stderr",
     "output_type": "stream",
     "text": [
      "623it [00:00, 3103.58it/s]"
     ]
    },
    {
     "name": "stdout",
     "output_type": "stream",
     "text": [
      "Parsed ../kickoff-data-corrected/adffa69d-f1aa-4aa1-9b15-fab3aa629e4f.2.kickoff.rdb in 1.92 s.\n",
      "Contains keys: dict_keys(['left', 'right'])\n",
      "[left] start_ts: 1526219951023 | stop_ts: 1526220548903\n",
      "[right] start_ts: 1526219951185 | stop_ts: 1526220548985\n",
      "../kickoff-data-corrected/adffa69d-f1aa-4aa1-9b15-fab3aa629e4f.json\n",
      "[{'ts': '2018-05-13T13:00:10.785000', 'type': 'start_phase', 'phase': 1, 'kickoff_team_id': 11}, {'ts': '2018-05-13T13:47:11.419Z', 'type': 'end_phase', 'phase': 1}, {'ts': '2018-05-13T14:04:11.863000', 'type': 'start_phase', 'phase': 2, 'kickoff_team_id': 16}, {'ts': '2018-05-13T14:54:45.215Z', 'type': 'end_phase', 'phase': 2}]\n",
      "1526220251863\n"
     ]
    },
    {
     "name": "stderr",
     "output_type": "stream",
     "text": [
      "14946it [00:06, 2419.23it/s]\n"
     ]
    },
    {
     "name": "stdout",
     "output_type": "stream",
     "text": [
      "62\n",
      "14832 14832\n",
      "7437\n",
      "62\n",
      "62 62\n",
      "[26, 27, 28, 29, 30, 31, 32, 33, 34, 35, 36, 37, 38, 39, 40, 41, 42, 43, 44, 45, 46, 47, 48, 49, 50, 51, 52, 53, 54, 55, 56, 57, 58, 59, 60, 61, 62, 63, 64, 65, 66, 67, 68, 69, 70, 71, 72, 73, 74, 75, 76, 77, 78, 79, 80, 81, 82, 83, 84, 85, 86, 87]\n",
      "94\n",
      "Json file edited\n"
     ]
    },
    {
     "name": "stderr",
     "output_type": "stream",
     "text": [
      "579it [00:00, 2826.51it/s]"
     ]
    },
    {
     "name": "stdout",
     "output_type": "stream",
     "text": [
      "Parsed ../kickoff-data-corrected/cf16ebf4-49fc-4991-a9b8-b9a055dcf2b8.2.kickoff.rdb in 2.02 s.\n",
      "Contains keys: dict_keys(['left', 'right'])\n",
      "[left] start_ts: 1525010676874 | stop_ts: 1525011275674\n",
      "[right] start_ts: 1525010676848 | stop_ts: 1525011275688\n",
      "../kickoff-data-corrected/cf16ebf4-49fc-4991-a9b8-b9a055dcf2b8.json\n",
      "[{'ts': '2018-04-29T13:04:55.088000', 'type': 'start_phase', 'phase': 1, 'kickoff_team_id': 2}, {'ts': '2018-04-29T13:51:58.173Z', 'type': 'end_phase', 'phase': 1}, {'ts': '2018-04-29T14:09:37.368000', 'type': 'start_phase', 'phase': 2, 'kickoff_team_id': 11}, {'ts': '2018-04-29T14:57:43.997Z', 'type': 'end_phase', 'phase': 2}]\n",
      "1525010977368\n"
     ]
    },
    {
     "name": "stderr",
     "output_type": "stream",
     "text": [
      "14971it [00:06, 2202.64it/s]\n"
     ]
    },
    {
     "name": "stdout",
     "output_type": "stream",
     "text": [
      "62\n",
      "14866 14866\n",
      "7436\n",
      "62\n",
      "62 62\n",
      "[26, 27, 28, 29, 30, 31, 32, 33, 34, 35, 36, 37, 38, 39, 40, 41, 42, 43, 44, 45, 46, 47, 48, 49, 50, 51, 52, 53, 54, 55, 56, 57, 58, 59, 60, 61, 62, 63, 64, 65, 66, 67, 68, 69, 70, 71, 72, 73, 74, 75, 76, 77, 78, 79, 80, 81, 82, 83, 84, 85, 86, 87]\n",
      "95\n",
      "Json file edited\n"
     ]
    },
    {
     "name": "stderr",
     "output_type": "stream",
     "text": [
      "134it [00:00, 1330.51it/s]"
     ]
    },
    {
     "name": "stdout",
     "output_type": "stream",
     "text": [
      "Parsed ../kickoff-data-corrected/c79d79f1-5f51-4595-b931-4719f91a4575.1.kickoff.rdb in 3.55 s.\n",
      "Contains keys: dict_keys(['left', 'right'])\n",
      "[left] start_ts: 1525103807965 | stop_ts: 1525104404805\n",
      "[right] start_ts: 1525103808005 | stop_ts: 1525104404845\n",
      "../kickoff-data-corrected/c79d79f1-5f51-4595-b931-4719f91a4575.json\n",
      "[{'ts': '2018-04-30T16:01:46.885000', 'type': 'start_phase', 'phase': 1, 'kickoff_team_id': 12}, {'ts': '2018-04-30T16:48:14.773Z', 'type': 'end_phase', 'phase': 1}, {'ts': '2018-04-30T17:04:44.725000', 'type': 'start_phase', 'phase': 2, 'kickoff_team_id': 16}, {'ts': '2018-04-30T17:54:48.605Z', 'type': 'end_phase', 'phase': 2}]\n",
      "1525104106885\n"
     ]
    },
    {
     "name": "stderr",
     "output_type": "stream",
     "text": [
      "14922it [00:07, 1868.63it/s]\n"
     ]
    },
    {
     "name": "stdout",
     "output_type": "stream",
     "text": [
      "62\n",
      "14800 14800\n",
      "7378\n",
      "62\n",
      "62 62\n",
      "[26, 27, 28, 29, 30, 31, 32, 33, 34, 35, 36, 37, 38, 39, 40, 41, 42, 43, 44, 45, 46, 47, 48, 49, 50, 51, 52, 53, 54, 55, 56, 57, 58, 59, 60, 61, 62, 63, 64, 65, 66, 67, 68, 69, 70, 71, 72, 73, 74, 75, 76, 77, 78, 79, 80, 81, 82, 83, 84, 85, 86, 87]\n",
      "96\n",
      "Json file edited\n"
     ]
    },
    {
     "name": "stderr",
     "output_type": "stream",
     "text": [
      "\r",
      "0it [00:00, ?it/s]"
     ]
    },
    {
     "name": "stdout",
     "output_type": "stream",
     "text": [
      "Parsed ../kickoff-data-corrected/4501652f-d7e6-4e3e-9ad2-e01198278688.1.kickoff.rdb in 3.43 s.\n",
      "Contains keys: dict_keys(['left', 'right'])\n",
      "[left] start_ts: 1526216102558 | stop_ts: 1526216702398\n",
      "[right] start_ts: 1526216102566 | stop_ts: 1526216702406\n",
      "../kickoff-data-corrected/4501652f-d7e6-4e3e-9ad2-e01198278688.json\n",
      "[{'ts': '2018-05-13T13:00:01.726000', 'type': 'start_phase', 'phase': 1, 'kickoff_team_id': 6}, {'ts': '2018-05-13T13:46:56.480Z', 'type': 'end_phase', 'phase': 1}, {'ts': '2018-05-13T14:02:42.006000', 'type': 'start_phase', 'phase': 2, 'kickoff_team_id': 4}, {'ts': '2018-05-13T14:52:58.982Z', 'type': 'end_phase', 'phase': 2}]\n",
      "1526216401726\n"
     ]
    },
    {
     "name": "stderr",
     "output_type": "stream",
     "text": [
      "14997it [00:09, 1535.15it/s]\n"
     ]
    },
    {
     "name": "stdout",
     "output_type": "stream",
     "text": [
      "62\n",
      "14891 14891\n",
      "7403\n",
      "62\n",
      "62 62\n",
      "[26, 27, 28, 29, 30, 31, 32, 33, 34, 35, 36, 37, 38, 39, 40, 41, 42, 43, 44, 45, 46, 47, 48, 49, 50, 51, 52, 53, 54, 55, 56, 57, 58, 59, 60, 61, 62, 63, 64, 65, 66, 67, 68, 69, 70, 71, 72, 73, 74, 75, 76, 77, 78, 79, 80, 81, 82, 83, 84, 85, 86, 87]\n",
      "97\n",
      "Json file edited\n"
     ]
    },
    {
     "name": "stderr",
     "output_type": "stream",
     "text": [
      "779it [00:00, 3677.55it/s]"
     ]
    },
    {
     "name": "stdout",
     "output_type": "stream",
     "text": [
      "Parsed ../kickoff-data-corrected/f9f01fbf-6871-4303-b43f-29c2dd16909d.2.kickoff.rdb in 1.80 s.\n",
      "Contains keys: dict_keys(['left', 'right'])\n",
      "[left] start_ts: 1522677422334 | stop_ts: 1522678021134\n",
      "[right] start_ts: 1522677422216 | stop_ts: 1522678021096\n",
      "../kickoff-data-corrected/f9f01fbf-6871-4303-b43f-29c2dd16909d.json\n",
      "[{'ts': '2018-04-02T13:00:04.376000', 'type': 'start_phase', 'phase': 1, 'kickoff_team_id': 15}, {'ts': '2018-04-02T13:47:02.983Z', 'type': 'end_phase', 'phase': 1}, {'ts': '2018-04-02T14:02:02.696000', 'type': 'start_phase', 'phase': 2, 'kickoff_team_id': 4}, {'ts': '2018-04-02T14:50:07.639Z', 'type': 'end_phase', 'phase': 2}]\n",
      "1522677722696\n"
     ]
    },
    {
     "name": "stderr",
     "output_type": "stream",
     "text": [
      "14971it [00:05, 2634.43it/s]\n"
     ]
    },
    {
     "name": "stdout",
     "output_type": "stream",
     "text": [
      "61\n",
      "14846 14846\n",
      "7428\n",
      "61\n",
      "61 61\n",
      "[26, 27, 28, 29, 30, 31, 32, 33, 34, 35, 36, 37, 38, 39, 40, 41, 42, 43, 44, 45, 46, 47, 48, 49, 50, 51, 52, 53, 54, 55, 56, 57, 58, 59, 60, 61, 62, 63, 64, 65, 66, 67, 68, 69, 70, 71, 72, 73, 74, 75, 76, 77, 78, 79, 80, 81, 82, 83, 84, 85, 86]\n",
      "98\n",
      "Json file edited\n"
     ]
    },
    {
     "name": "stderr",
     "output_type": "stream",
     "text": [
      "218it [00:00, 2177.10it/s]"
     ]
    },
    {
     "name": "stdout",
     "output_type": "stream",
     "text": [
      "Parsed ../kickoff-data-corrected/41c3f1b3-a868-459b-9766-760be49947b2.2.kickoff.rdb in 2.11 s.\n",
      "Contains keys: dict_keys(['left', 'right'])\n",
      "[left] start_ts: 1526320586615 | stop_ts: 1526321186455\n",
      "[right] start_ts: 1526320586601 | stop_ts: 1526321186441\n",
      "../kickoff-data-corrected/41c3f1b3-a868-459b-9766-760be49947b2.json\n",
      "[{'ts': '1970-01-01T00:00:00', 'type': 'start_phase', 'phase': 1, 'kickoff_team_id': 9}, {'ts': '2018-05-14T17:46:22.241Z', 'type': 'end_phase', 'phase': 1}, {'ts': '2018-05-14T18:01:28.841000', 'type': 'start_phase', 'phase': 2, 'kickoff_team_id': 1}, {'ts': '2018-05-14T18:49:29.553Z', 'type': 'end_phase', 'phase': 2}]\n",
      "1526320888841\n"
     ]
    },
    {
     "name": "stderr",
     "output_type": "stream",
     "text": [
      "14997it [00:07, 2099.20it/s]\n"
     ]
    },
    {
     "name": "stdout",
     "output_type": "stream",
     "text": [
      "62\n",
      "14892 14892\n",
      "7480\n",
      "62\n",
      "62 62\n",
      "[26, 27, 28, 29, 30, 31, 32, 33, 34, 35, 36, 37, 38, 39, 40, 41, 42, 43, 44, 45, 46, 47, 48, 49, 50, 51, 52, 53, 54, 55, 56, 57, 58, 59, 60, 61, 62, 63, 64, 65, 66, 67, 68, 69, 70, 71, 72, 73, 74, 75, 76, 77, 78, 79, 80, 81, 82, 83, 84, 85, 86, 87]\n",
      "99\n",
      "Json file edited\n",
      "Parsed ../kickoff-data-corrected/58bc418b-cf05-415e-9dd1-6f4808535976.2.kickoff.rdb in 2.71 s.\n",
      "Contains keys: dict_keys(['left', 'right'])\n",
      "[left] start_ts: 1523297008806 | stop_ts: 1523297605726\n",
      "[right] start_ts: 1523297009328 | stop_ts: 1523297605968\n",
      "../kickoff-data-corrected/58bc418b-cf05-415e-9dd1-6f4808535976.json\n",
      "[{'ts': '2018-04-09T17:00:56.973Z', 'type': 'start_phase', 'phase': 1, 'kickoff_team_id': 8}, {'ts': '2018-04-09T17:47:19.651Z', 'type': 'end_phase', 'phase': 1}, {'ts': '1970-01-01T00:00:00', 'type': 'start_phase', 'phase': 2, 'kickoff_team_id': 10}, {'ts': '2018-04-09T18:57:31.075Z', 'type': 'end_phase', 'phase': 2}]\n",
      "0\n",
      "Json file edited\n"
     ]
    },
    {
     "name": "stderr",
     "output_type": "stream",
     "text": [
      "178it [00:00, 883.30it/s]"
     ]
    },
    {
     "name": "stdout",
     "output_type": "stream",
     "text": [
      "Parsed ../kickoff-data-corrected/4903143c-68be-45f0-9746-e29547b7fa94.1.kickoff.rdb in 4.50 s.\n",
      "Contains keys: dict_keys(['left', 'right'])\n",
      "[left] start_ts: 1525528504705 | stop_ts: 1525529102545\n",
      "[right] start_ts: 1525528504685 | stop_ts: 1525529102525\n",
      "../kickoff-data-corrected/4903143c-68be-45f0-9746-e29547b7fa94.json\n",
      "[{'ts': '2018-05-05T14:00:05.565000', 'type': 'start_phase', 'phase': 1, 'kickoff_team_id': 13}, {'ts': '2018-05-05T14:45:11.669Z', 'type': 'end_phase', 'phase': 1}, {'ts': '2018-05-05T15:00:45.205000', 'type': 'start_phase', 'phase': 2, 'kickoff_team_id': 4}, {'ts': '2018-05-05T15:50:08.057Z', 'type': 'end_phase', 'phase': 2}]\n",
      "1525528805565\n"
     ]
    },
    {
     "name": "stderr",
     "output_type": "stream",
     "text": [
      "14947it [00:11, 1265.21it/s]\n"
     ]
    },
    {
     "name": "stdout",
     "output_type": "stream",
     "text": [
      "62\n",
      "14839 14839\n",
      "7443\n",
      "62\n",
      "62 62\n",
      "[26, 27, 28, 29, 30, 31, 32, 33, 34, 35, 36, 37, 38, 39, 40, 41, 42, 43, 44, 45, 46, 47, 48, 49, 50, 51, 52, 53, 54, 55, 56, 57, 58, 59, 60, 61, 62, 63, 64, 65, 66, 67, 68, 69, 70, 71, 72, 73, 74, 75, 76, 77, 78, 79, 80, 81, 82, 83, 84, 85, 86, 87]\n",
      "100\n"
     ]
    }
   ],
   "source": [
    "create_dataset('../kickoff-data-corrected/data.pickle.regression.1',250,\"regression\")"
   ]
  },
  {
   "cell_type": "code",
   "execution_count": 24,
   "metadata": {},
   "outputs": [],
   "source": [
    "import random\n",
    "\n",
    "def shuffle_data(X,Y):\n",
    "    shuffle_list=list()\n",
    "    shuffle_X=list()\n",
    "    shuffle_Y=list()\n",
    "    for i in range(len(Y)):\n",
    "        shuffle_list.append([X[i],Y[i]])\n",
    "    random.shuffle(shuffle_list)\n",
    "    for i in range(len(Y)):\n",
    "        shuffle_X.append(shuffle_list[i][0])\n",
    "        shuffle_Y.append(shuffle_list[i][1])\n",
    "    return shuffle_X,shuffle_Y\n",
    "\n",
    "def sequence_kickoff_time(Y):\n",
    "    kickoff_match_i=list()\n",
    "    kickoff_periods=list()\n",
    "    for i in range(len(Y)):\n",
    "        if Y[i]==-1 and len(kickoff_match_i)>0:\n",
    "            kickoff_periods.append(kickoff_match_i)\n",
    "            kickoff_match_i=list()\n",
    "        if Y[i]==1:\n",
    "            kickoff_match_i.append(i)\n",
    "    if len(kickoff_match_i)>0:\n",
    "        kickoff_periods.append(kickoff_match_i)\n",
    "    return kickoff_periods\n",
    "\n"
   ]
  },
  {
   "cell_type": "code",
   "execution_count": 25,
   "metadata": {},
   "outputs": [],
   "source": [
    "import sklearn\n",
    "def Roc_curves(clf,x_test,y_test,name_classifier,nbre_matches):    \n",
    "    %matplotlib inline\n",
    "    predict = clf.predict_proba(x_test)\n",
    "    fpr, tpr, thresholds= sklearn.metrics.roc_curve(y_test,predict[:, 1])\n",
    "    auc = sklearn.metrics.auc(fpr,tpr)\n",
    "    plt.plot(fpr, tpr, label=\"{1} classifier: area({0})\".format(auc,name_classifier))\n",
    "    plt.xlabel(\"False Positive rate\")\n",
    "    plt.ylabel(\"True Positive rate\")\n",
    "    plt.title(\"Receiver operating characteristic\")\n",
    "    plt.legend(bbox_to_anchor=(1.05, 1), loc=2, borderaxespad=0.)\n",
    "    plt.xlim([0,1])\n",
    "    plt.ylim([0,1])\n",
    "    plt.show()\n",
    "    "
   ]
  },
  {
   "cell_type": "code",
   "execution_count": 26,
   "metadata": {},
   "outputs": [],
   "source": [
    "from sklearn.ensemble import AdaBoostClassifier, GradientBoostingClassifier, RandomForestClassifier\n",
    "from sklearn.svm import SVC, LinearSVC\n",
    "from sklearn.neighbors import NearestNeighbors\n",
    "from sklearn.tree import DecisionTreeClassifier\n",
    "import datetime\n",
    "def cross_validation(X,Y,name_classifier,percentage_train,nbre_matches,indices,type_cross,roc_curve,nbre_trees,depth):\n",
    "    score_test=0\n",
    "    score_train=0\n",
    "    start=datetime.datetime.now()\n",
    "    for i in range(nbre_matches):\n",
    "        start_i=datetime.datetime.now()\n",
    "        #Create training and test datasets\n",
    "        x_train1=X[indices[i]:indices[min(i+int(nbre_matches*percentage_train),nbre_matches)]]+X[:indices[max(0,i+int(nbre_matches*percentage_train)-nbre_matches)]]\n",
    "        y_train1=Y[indices[i]:indices[min(i+int(nbre_matches*percentage_train),nbre_matches)]]+Y[:indices[max(0,i+int(nbre_matches*percentage_train)-nbre_matches)]]\n",
    "        x_test1=X[indices[min(i+int(nbre_matches*percentage_train),nbre_matches)]:]+X[indices[max(0,i+int(nbre_matches*percentage_train)-nbre_matches)]:indices[i]]\n",
    "        y_test1=Y[indices[min(i+int(nbre_matches*percentage_train),nbre_matches)]:]+Y[indices[max(0,i+int(nbre_matches*percentage_train)-nbre_matches)]:indices[i]]\n",
    "        \n",
    "        #Cross_validation kickoff\n",
    "        if type_cross==\"kickoff\":\n",
    "            kickoff_indices=sequence_kickoff_time(y_test1)\n",
    "            x_test2=list()\n",
    "            y_test2=list()\n",
    "            for j in range(len(kickoff_indices)):\n",
    "                y_test2=y_test2+y_test1[kickoff_indices[j][0]:kickoff_indices[j][-1]+1]\n",
    "                x_test2=x_test2+x_test1[kickoff_indices[j][0]:kickoff_indices[j][-1]+1]\n",
    "            y_test=y_test2\n",
    "            x_test=x_test2\n",
    "        \n",
    "        if type_cross==\"no kickoff\":\n",
    "            kickoff_indices=sequence_kickoff_time(y_test1)\n",
    "            x_test2=list()\n",
    "            y_test2=list()\n",
    "            for j in range(len(kickoff_indices)):\n",
    "                if j==0:\n",
    "                    y_test2=y_test1[:kickoff_indices[j][0]]\n",
    "                    x_test2=x_test1[:kickoff_indices[j][0]]\n",
    "                if j>0:\n",
    "                    y_test2=y_test2+y_test1[kickoff_indices[j-1][-1]+1:kickoff_indices[j][0]]\n",
    "                    x_test2=x_test2+x_test1[kickoff_indices[j-1][-1]+1:kickoff_indices[j][0]]\n",
    "                if j==len(kickoff_indices)-1:\n",
    "                    y_test2=y_test2+y_test1[kickoff_indices[j][-1]+1:]\n",
    "                    x_test2=x_test2+x_test1[kickoff_indices[j][-1]+1:]\n",
    "            y_test=y_test2\n",
    "            x_test=x_test2\n",
    "            \n",
    "        #Shuffle data\n",
    "        x_train,y_train=shuffle_data(x_train1,y_train1)\n",
    "        #x_test,y_test=shuffle_data(x_test1,y_test1)\n",
    "        \n",
    "        #Training classifier\n",
    "        if name_classifier=='adaboost':\n",
    "            clf=AdaBoostClassifier()\n",
    "            clf.fit(x_train,y_train)\n",
    "        if name_classifier=='gradaboost':\n",
    "            clf=GradientBoostingClassifier()\n",
    "            clf.fit(x_train,y_train)\n",
    "        if name_classifier=='svm':\n",
    "            clf=SVC()\n",
    "            clf.fit(x_train,y_train)\n",
    "        if name_classifier=='linear_svm':\n",
    "            clf=LinearSVC()\n",
    "            clf.fit(x_train,y_train)\n",
    "        if name_classifier=='knn':\n",
    "            clf=NearestNeighbors()\n",
    "            clf.fit(x_train,y_train)\n",
    "        if name_classifier=='tree':\n",
    "            clf=DecisionTreeClassifier(max_depth=3)\n",
    "            clf.fit(x_train,y_train)\n",
    "        if name_classifier=='forest':\n",
    "            clf=RandomForestClassifier(n_estimators=nbre_trees,max_depth=depth)\n",
    "            clf.fit(x_train,y_train)\n",
    "        end_i=datetime.datetime.now()\n",
    "        #Test\n",
    "        #print(clf.predict(x_test)*np.array(y_test))\n",
    "        if roc_curve==\"\":\n",
    "            score_test+=clf.score(x_test,y_test)\n",
    "            score_train+=clf.score(x_train,y_train)\n",
    "            print(\"Score for training for iteration {0} is {1}\".format(i,clf.score(x_train,y_train)))\n",
    "            print(\"Score for testing for iteration {0} is {1}\".format(i,clf.score(x_test,y_test)))\n",
    "            print(\"Training time: {0}\".format(end_i-start_i))\n",
    "            print(\"\\n\")\n",
    "        \n",
    "        #Roc_curves\n",
    "        if roc_curve==\"roc\":\n",
    "            print(\"Roc curve for testing for iteration {0}\".format(i))\n",
    "            Roc_curves(clf,x_test,y_test,name_classifier,nbre_matches)\n",
    "            print(\"Roc curve for training for iteration {0}\".format(i))\n",
    "            Roc_curves(clf,x_train,y_train,name_classifier,nbre_matches)\n",
    "            print(\"Training time: {0}\".format(end_i-start_i))\n",
    "            print(\"\\n\")\n",
    "    \n",
    "    end=datetime.datetime.now()\n",
    "    if roc_curve==\"\":\n",
    "        print(\"Final Score train: {0}\".format(score_train/nbre_matches))\n",
    "        print(\"Final Score test: {0}\".format(score_test/nbre_matches))\n",
    "    print(\"Cross validation time: {0}\".format(end-start))\n",
    "    return score_test/nbre_matches\n",
    "        \n",
    "        \n",
    "        \n",
    "def Classification(dataset,percentage_train,name_classifier,nbre_matches,nbre_trees,depth,type_cross=\"\",roc_curve=\"\"):\n",
    "    #Create inputs\n",
    "    X=list()\n",
    "    Y=list()\n",
    "    indices=[0]\n",
    "    with open(dataset, 'rb') as f:\n",
    "        for i in range(nbre_matches):\n",
    "            data = pickle.load(f)\n",
    "            X=X+data[0]\n",
    "            Y=Y+data[1]\n",
    "            indices.append(len(Y))\n",
    "    return cross_validation(X,Y,name_classifier,percentage_train,nbre_matches,indices,type_cross,roc_curve,nbre_trees,depth)\n",
    "\n",
    "    \n",
    "\n"
   ]
  },
  {
   "cell_type": "code",
   "execution_count": 58,
   "metadata": {},
   "outputs": [
    {
     "name": "stdout",
     "output_type": "stream",
     "text": [
      "Final Score train: 0.9626302500738453\n",
      "Final Score test: 0.573469387755102\n",
      "Cross validation time: 0:00:06.755823\n",
      "3 7 0.573469387755102\n",
      "Final Score train: 0.9690251891915238\n",
      "Final Score test: 0.6244897959183674\n",
      "Cross validation time: 0:00:06.823646\n",
      "3 8 0.6244897959183674\n",
      "Final Score train: 0.9735411005862153\n",
      "Final Score test: 0.6414965986394559\n",
      "Cross validation time: 0:00:06.654025\n",
      "3 9 0.6414965986394559\n",
      "Final Score train: 0.9780331126301284\n",
      "Final Score test: 0.5884353741496599\n",
      "Cross validation time: 0:00:06.702003\n",
      "3 10 0.5884353741496599\n",
      "Final Score train: 0.9811323499409288\n",
      "Final Score test: 0.5585034013605441\n",
      "Cross validation time: 0:00:06.586648\n",
      "3 11 0.5585034013605441\n",
      "Final Score train: 0.9817915867573549\n",
      "Final Score test: 0.6183673469387755\n",
      "Cross validation time: 0:00:06.755612\n",
      "3 12 0.6183673469387755\n",
      "Final Score train: 0.9815231118261112\n",
      "Final Score test: 0.6129251700680273\n",
      "Cross validation time: 0:00:06.794126\n",
      "3 13 0.6129251700680273\n",
      "Final Score train: 0.9832319091967943\n",
      "Final Score test: 0.6122448979591837\n",
      "Cross validation time: 0:00:06.902094\n",
      "3 14 0.6122448979591837\n",
      "Final Score train: 0.9835003208187353\n",
      "Final Score test: 0.535374149659864\n",
      "Cross validation time: 0:00:06.902081\n",
      "3 15 0.535374149659864\n",
      "Final Score train: 0.983988450062894\n",
      "Final Score test: 0.5068027210884353\n",
      "Cross validation time: 0:00:07.066223\n",
      "3 16 0.5068027210884353\n",
      "Final Score train: 0.9834021612927655\n",
      "Final Score test: 0.5149659863945578\n",
      "Cross validation time: 0:00:06.987291\n",
      "3 17 0.5149659863945578\n",
      "Final Score train: 0.9834025990130716\n",
      "Final Score test: 0.595918367346939\n",
      "Cross validation time: 0:00:06.800929\n",
      "3 18 0.595918367346939\n",
      "Final Score train: 0.9843541671224029\n",
      "Final Score test: 0.5537414965986395\n",
      "Cross validation time: 0:00:06.961757\n",
      "3 19 0.5537414965986395\n",
      "Final Score train: 0.9836952222974494\n",
      "Final Score test: 0.5748299319727891\n",
      "Cross validation time: 0:00:07.060637\n",
      "3 20 0.5748299319727891\n",
      "Final Score train: 0.9840371027816777\n",
      "Final Score test: 0.5585034013605442\n",
      "Cross validation time: 0:00:06.742806\n",
      "3 21 0.5585034013605442\n",
      "Final Score train: 0.9835980841900346\n",
      "Final Score test: 0.6333333333333334\n",
      "Cross validation time: 0:00:06.685602\n",
      "3 22 0.6333333333333334\n",
      "Final Score train: 0.9832805408124768\n",
      "Final Score test: 0.5700680272108843\n",
      "Cross validation time: 0:00:06.925685\n",
      "3 23 0.5700680272108843\n",
      "Final Score train: 0.9842807817828437\n",
      "Final Score test: 0.5999999999999999\n",
      "Cross validation time: 0:00:06.999871\n",
      "3 24 0.5999999999999999\n",
      "Final Score train: 0.9687569656469667\n",
      "Final Score test: 0.4387755102040816\n",
      "Cross validation time: 0:00:06.937647\n",
      "4 7 0.4387755102040816\n",
      "Final Score train: 0.9766413385327528\n",
      "Final Score test: 0.5367346938775511\n",
      "Cross validation time: 0:00:07.066546\n",
      "4 8 0.5367346938775511\n",
      "Final Score train: 0.9773498316593536\n",
      "Final Score test: 0.4768707482993196\n",
      "Cross validation time: 0:00:06.890624\n",
      "4 9 0.4768707482993196\n",
      "Final Score train: 0.9808877956414993\n",
      "Final Score test: 0.4850340136054421\n",
      "Cross validation time: 0:00:06.859464\n",
      "4 10 0.4850340136054421\n",
      "Final Score train: 0.9815475112812356\n",
      "Final Score test: 0.47551020408163275\n",
      "Cross validation time: 0:00:06.963895\n",
      "4 11 0.47551020408163275\n",
      "Final Score train: 0.9817183056521677\n",
      "Final Score test: 0.3843537414965987\n",
      "Cross validation time: 0:00:07.027257\n",
      "4 12 0.3843537414965987\n",
      "Final Score train: 0.9821335082022397\n",
      "Final Score test: 0.416326530612245\n",
      "Cross validation time: 0:00:06.902388\n",
      "4 13 0.416326530612245\n",
      "Final Score train: 0.9825722767239159\n",
      "Final Score test: 0.4061224489795918\n",
      "Cross validation time: 0:00:07.161175\n",
      "4 14 0.4061224489795918\n",
      "Final Score train: 0.9819868839992824\n",
      "Final Score test: 0.37210884353741486\n",
      "Cross validation time: 0:00:07.005925\n",
      "4 15 0.37210884353741486\n",
      "Final Score train: 0.9821574073394952\n",
      "Final Score test: 0.44489795918367353\n",
      "Cross validation time: 0:00:06.849816\n",
      "4 16 0.44489795918367353\n",
      "Final Score train: 0.9814743765454484\n",
      "Final Score test: 0.35850340136054426\n",
      "Cross validation time: 0:00:06.966382\n",
      "4 17 0.35850340136054426\n",
      "Final Score train: 0.9827919526737371\n",
      "Final Score test: 0.31972789115646266\n",
      "Cross validation time: 0:00:06.963086\n",
      "4 18 0.31972789115646266\n",
      "Final Score train: 0.9827918693289439\n",
      "Final Score test: 0.4904761904761906\n",
      "Cross validation time: 0:00:07.126044\n",
      "4 19 0.4904761904761906\n",
      "Final Score train: 0.9822060178876646\n",
      "Final Score test: 0.3870748299319729\n",
      "Cross validation time: 0:00:07.062514\n",
      "4 20 0.3870748299319729\n",
      "Final Score train: 0.9809620769553791\n",
      "Final Score test: 0.32517006802721077\n",
      "Cross validation time: 0:00:06.921054\n",
      "4 21 0.32517006802721077\n",
      "Final Score train: 0.9825232491314978\n",
      "Final Score test: 0.35578231292517004\n",
      "Cross validation time: 0:00:06.883612\n",
      "4 22 0.35578231292517004\n",
      "Final Score train: 0.9807908661451762\n",
      "Final Score test: 0.3238095238095238\n",
      "Cross validation time: 0:00:07.487372\n",
      "4 23 0.3238095238095238\n",
      "Final Score train: 0.9817427677048544\n",
      "Final Score test: 0.4666666666666666\n",
      "Cross validation time: 0:00:07.486679\n",
      "4 24 0.4666666666666666\n",
      "Final Score train: 0.9771059028729171\n",
      "Final Score test: 0.5591836734693876\n",
      "Cross validation time: 0:00:07.239207\n",
      "5 7 0.5591836734693876\n",
      "Final Score train: 0.9818894336157955\n",
      "Final Score test: 0.6156462585034014\n",
      "Cross validation time: 0:00:07.178212\n",
      "5 8 0.6156462585034014\n",
      "Final Score train: 0.9866004547444233\n",
      "Final Score test: 0.6428571428571428\n",
      "Cross validation time: 0:00:07.379543\n",
      "5 9 0.6428571428571428\n",
      "Final Score train: 0.988357758073033\n",
      "Final Score test: 0.5340136054421768\n",
      "Cross validation time: 0:00:07.487561\n",
      "5 10 0.5340136054421768\n",
      "Final Score train: 0.9896995666109898\n",
      "Final Score test: 0.6299319727891156\n",
      "Cross validation time: 0:00:07.281340\n",
      "5 11 0.6299319727891156\n",
      "Final Score train: 0.9910662745304823\n",
      "Final Score test: 0.5986394557823131\n",
      "Cross validation time: 0:00:07.373559\n",
      "5 12 0.5986394557823131\n",
      "Final Score train: 0.9925798993561445\n",
      "Final Score test: 0.5863945578231294\n",
      "Cross validation time: 0:00:07.421060\n",
      "5 13 0.5863945578231294\n",
      "Final Score train: 0.9918474860959478\n",
      "Final Score test: 0.5428571428571429\n",
      "Cross validation time: 0:00:07.347308\n",
      "5 14 0.5428571428571429\n",
      "Final Score train: 0.9920182385809618\n",
      "Final Score test: 0.5414965986394558\n",
      "Cross validation time: 0:00:07.167219\n",
      "5 15 0.5414965986394558\n",
      "Final Score train: 0.9936297306564255\n",
      "Final Score test: 0.5802721088435372\n",
      "Cross validation time: 0:00:07.289003\n",
      "5 16 0.5802721088435372\n",
      "Final Score train: 0.992823807608872\n",
      "Final Score test: 0.5292517006802722\n",
      "Cross validation time: 0:00:07.160255\n",
      "5 17 0.5292517006802722\n",
      "Final Score train: 0.9928484570272023\n",
      "Final Score test: 0.5564625850340136\n",
      "Cross validation time: 0:00:06.999947\n",
      "5 18 0.5564625850340136\n",
      "Final Score train: 0.9931905040230818\n",
      "Final Score test: 0.5598639455782314\n",
      "Cross validation time: 0:00:07.312507\n",
      "5 19 0.5598639455782314\n",
      "Final Score train: 0.9939226667862674\n",
      "Final Score test: 0.6149659863945579\n",
      "Cross validation time: 0:00:07.467057\n",
      "5 20 0.6149659863945579\n",
      "Final Score train: 0.993922416573953\n",
      "Final Score test: 0.553061224489796\n",
      "Cross validation time: 0:00:07.159420\n",
      "5 21 0.553061224489796\n",
      "Final Score train: 0.99336077679511\n",
      "Final Score test: 0.5319727891156462\n",
      "Cross validation time: 0:00:07.190024\n",
      "5 22 0.5319727891156462\n",
      "Final Score train: 0.9931169729902767\n",
      "Final Score test: 0.5918367346938774\n",
      "Cross validation time: 0:00:07.257871\n",
      "5 23 0.5918367346938774\n",
      "Final Score train: 0.9933854471030189\n",
      "Final Score test: 0.5360544217687075\n",
      "Cross validation time: 0:00:07.150025\n",
      "5 24 0.5360544217687075\n",
      "Final Score train: 0.9786428419988021\n",
      "Final Score test: 0.5687074829931973\n",
      "Cross validation time: 0:00:07.200782\n",
      "6 7 0.5687074829931973\n",
      "Final Score train: 0.9842320669647157\n",
      "Final Score test: 0.5142857142857143\n",
      "Cross validation time: 0:00:07.567165\n",
      "6 8 0.5142857142857143\n",
      "Final Score train: 0.9879673712038338\n",
      "Final Score test: 0.585034013605442\n",
      "Cross validation time: 0:00:07.406286\n",
      "6 9 0.585034013605442\n",
      "Final Score train: 0.9911151357535971\n",
      "Final Score test: 0.5095238095238095\n",
      "Cross validation time: 0:00:07.471553\n",
      "6 10 0.5095238095238095\n",
      "Final Score train: 0.9905783327943151\n",
      "Final Score test: 0.4727891156462585\n",
      "Cross validation time: 0:00:07.590238\n",
      "6 11 0.4727891156462585\n",
      "Final Score train: 0.9914813524548212\n",
      "Final Score test: 0.46530612244897956\n",
      "Cross validation time: 0:00:07.567619\n",
      "6 12 0.46530612244897956\n"
     ]
    },
    {
     "name": "stdout",
     "output_type": "stream",
     "text": [
      "Final Score train: 0.991993922826501\n",
      "Final Score test: 0.4727891156462585\n",
      "Cross validation time: 0:00:07.410378\n",
      "6 13 0.4727891156462585\n",
      "Final Score train: 0.9916765041814368\n",
      "Final Score test: 0.4272108843537414\n",
      "Cross validation time: 0:00:07.741947\n",
      "6 14 0.4272108843537414\n",
      "Final Score train: 0.9909930354891486\n",
      "Final Score test: 0.4741496598639456\n",
      "Cross validation time: 0:00:07.618854\n",
      "6 15 0.4741496598639456\n",
      "Final Score train: 0.9918232536862803\n",
      "Final Score test: 0.4591836734693878\n",
      "Cross validation time: 0:00:07.303271\n",
      "6 16 0.4591836734693878\n",
      "Final Score train: 0.9931412885668022\n",
      "Final Score test: 0.42925170068027213\n",
      "Cross validation time: 0:00:07.411159\n",
      "6 17 0.42925170068027213\n",
      "Final Score train: 0.9917746431025244\n",
      "Final Score test: 0.4734693877551021\n",
      "Cross validation time: 0:00:07.386417\n",
      "6 18 0.4734693877551021\n",
      "Final Score train: 0.99189632635831\n",
      "Final Score test: 0.44693877551020406\n",
      "Cross validation time: 0:00:07.599496\n",
      "6 19 0.44693877551020406\n",
      "Final Score train: 0.9920185930276487\n",
      "Final Score test: 0.4272108843537414\n",
      "Cross validation time: 0:00:07.278383\n",
      "6 20 0.4272108843537414\n",
      "Final Score train: 0.9920183013564594\n",
      "Final Score test: 0.3761904761904762\n",
      "Cross validation time: 0:00:07.393826\n",
      "6 21 0.3761904761904762\n",
      "Final Score train: 0.9919209339618957\n",
      "Final Score test: 0.4482993197278912\n",
      "Cross validation time: 0:00:07.518375\n",
      "6 22 0.4482993197278912\n",
      "Final Score train: 0.9921649672318131\n",
      "Final Score test: 0.4258503401360544\n",
      "Cross validation time: 0:00:07.640977\n",
      "6 23 0.4258503401360544\n",
      "Final Score train: 0.9917256984990293\n",
      "Final Score test: 0.4884353741496599\n",
      "Cross validation time: 0:00:07.429738\n",
      "6 24 0.4884353741496599\n",
      "Final Score train: 0.9837933822504636\n",
      "Final Score test: 0.6639455782312925\n",
      "Cross validation time: 0:00:07.460656\n",
      "7 7 0.6639455782312925\n",
      "Final Score train: 0.987893005904594\n",
      "Final Score test: 0.5455782312925168\n",
      "Cross validation time: 0:00:07.457535\n",
      "7 8 0.5455782312925168\n",
      "Final Score train: 0.9906765343841384\n",
      "Final Score test: 0.6557823129251701\n",
      "Cross validation time: 0:00:07.650265\n",
      "7 9 0.6557823129251701\n",
      "Final Score train: 0.9925557292949301\n",
      "Final Score test: 0.6551020408163265\n",
      "Cross validation time: 0:00:07.729599\n",
      "7 10 0.6551020408163265\n",
      "Final Score train: 0.9937515182533442\n",
      "Final Score test: 0.5755102040816327\n",
      "Cross validation time: 0:00:07.658283\n",
      "7 11 0.5755102040816327\n",
      "Final Score train: 0.9955573698528438\n",
      "Final Score test: 0.5775510204081633\n",
      "Cross validation time: 0:00:07.625204\n",
      "7 12 0.5775510204081633\n",
      "Final Score train: 0.9953382359288747\n",
      "Final Score test: 0.5163265306122449\n",
      "Cross validation time: 0:00:07.622988\n",
      "7 13 0.5163265306122449\n",
      "Final Score train: 0.9960457910528884\n",
      "Final Score test: 0.5455782312925169\n",
      "Cross validation time: 0:00:07.854476\n",
      "7 14 0.5455782312925169\n",
      "Final Score train: 0.9966561456498586\n",
      "Final Score test: 0.5115646258503401\n",
      "Cross validation time: 0:00:07.473742\n",
      "7 15 0.5115646258503401\n",
      "Final Score train: 0.9962897201951949\n",
      "Final Score test: 0.6149659863945579\n",
      "Cross validation time: 0:00:07.549161\n",
      "7 16 0.6149659863945579\n",
      "Final Score train: 0.9965586740209227\n",
      "Final Score test: 0.5782312925170068\n",
      "Cross validation time: 0:00:07.409936\n",
      "7 17 0.5782312925170068\n",
      "Final Score train: 0.9969734601317246\n",
      "Final Score test: 0.5585034013605441\n",
      "Cross validation time: 0:00:07.849767\n",
      "7 18 0.5585034013605441\n",
      "Final Score train: 0.9969004917652406\n",
      "Final Score test: 0.5612244897959184\n",
      "Cross validation time: 0:00:07.590038\n",
      "7 19 0.5612244897959184\n",
      "Final Score train: 0.9966314129579098\n",
      "Final Score test: 0.5537414965986395\n",
      "Cross validation time: 0:00:07.483220\n",
      "7 20 0.5537414965986395\n",
      "Final Score train: 0.9966071388402582\n",
      "Final Score test: 0.6183673469387757\n",
      "Cross validation time: 0:00:07.470709\n",
      "7 21 0.6183673469387757\n",
      "Final Score train: 0.9968756757284987\n",
      "Final Score test: 0.5952380952380952\n",
      "Cross validation time: 0:00:07.531284\n",
      "7 22 0.5952380952380952\n",
      "Final Score train: 0.9967537631499767\n",
      "Final Score test: 0.6319727891156464\n",
      "Cross validation time: 0:00:07.594417\n",
      "7 23 0.6319727891156464\n",
      "Final Score train: 0.9971441290940102\n",
      "Final Score test: 0.6034013605442178\n",
      "Cross validation time: 0:00:07.614248\n",
      "7 24 0.6034013605442178\n",
      "Final Score train: 0.9854771544039199\n",
      "Final Score test: 0.5714285714285714\n",
      "Cross validation time: 0:00:07.877671\n",
      "8 7 0.5714285714285714\n",
      "Final Score train: 0.9886986791668769\n",
      "Final Score test: 0.601360544217687\n",
      "Cross validation time: 0:00:07.738288\n",
      "8 8 0.601360544217687\n",
      "Final Score train: 0.9927995334556339\n",
      "Final Score test: 0.6312925170068028\n",
      "Cross validation time: 0:00:07.955905\n",
      "8 9 0.6312925170068028\n",
      "Final Score train: 0.9949229079345693\n",
      "Final Score test: 0.5108843537414965\n",
      "Cross validation time: 0:00:07.935975\n",
      "8 10 0.5108843537414965\n",
      "Final Score train: 0.9947521970507777\n",
      "Final Score test: 0.6210884353741497\n",
      "Cross validation time: 0:00:07.726946\n",
      "8 11 0.6210884353741497\n",
      "Final Score train: 0.994898821324909\n",
      "Final Score test: 0.5428571428571427\n",
      "Cross validation time: 0:00:07.858342\n",
      "8 12 0.5428571428571427\n",
      "Final Score train: 0.9956798450265136\n",
      "Final Score test: 0.49387755102040815\n",
      "Cross validation time: 0:00:07.817916\n",
      "8 13 0.49387755102040815\n",
      "Final Score train: 0.9961680162633522\n",
      "Final Score test: 0.4598639455782313\n",
      "Cross validation time: 0:00:07.937811\n",
      "8 14 0.4598639455782313\n",
      "Final Score train: 0.9959239620682686\n",
      "Final Score test: 0.46530612244897956\n",
      "Cross validation time: 0:00:07.915119\n",
      "8 15 0.46530612244897956\n",
      "Final Score train: 0.996533899656577\n",
      "Final Score test: 0.4782312925170068\n",
      "Cross validation time: 0:00:08.091245\n",
      "8 16 0.4782312925170068\n",
      "Final Score train: 0.9963145572994508\n",
      "Final Score test: 0.4591836734693877\n",
      "Cross validation time: 0:00:07.802917\n",
      "8 17 0.4591836734693877\n",
      "Final Score train: 0.9955821026159672\n",
      "Final Score test: 0.4952380952380951\n",
      "Cross validation time: 0:00:07.851871\n",
      "8 18 0.4952380952380951\n",
      "Final Score train: 0.9958504934550904\n",
      "Final Score test: 0.4578231292517007\n",
      "Cross validation time: 0:00:07.764944\n",
      "8 19 0.4578231292517007\n",
      "Final Score train: 0.9957042234497109\n",
      "Final Score test: 0.42040816326530606\n",
      "Cross validation time: 0:00:07.663775\n",
      "8 20 0.42040816326530606\n",
      "Final Score train: 0.9956066683692207\n",
      "Final Score test: 0.5061224489795918\n",
      "Cross validation time: 0:00:08.000337\n",
      "8 21 0.5061224489795918\n",
      "Final Score train: 0.996240942743917\n",
      "Final Score test: 0.491156462585034\n",
      "Cross validation time: 0:00:07.837695\n",
      "8 22 0.491156462585034\n",
      "Final Score train: 0.9962656964322063\n",
      "Final Score test: 0.3884353741496598\n",
      "Cross validation time: 0:00:07.947304\n",
      "8 23 0.3884353741496598\n",
      "Final Score train: 0.9967049023539057\n",
      "Final Score test: 0.3741496598639455\n",
      "Cross validation time: 0:00:07.788880\n",
      "8 24 0.3741496598639455\n",
      "Final Score train: 0.9855993795076229\n",
      "Final Score test: 0.5421768707482993\n",
      "Cross validation time: 0:00:07.771615\n",
      "9 7 0.5421768707482993\n",
      "Final Score train: 0.9908715605953463\n",
      "Final Score test: 0.5748299319727892\n",
      "Cross validation time: 0:00:07.646051\n",
      "9 8 0.5748299319727892\n",
      "Final Score train: 0.9934339119579414\n",
      "Final Score test: 0.6217687074829931\n",
      "Cross validation time: 0:00:07.704941\n",
      "9 9 0.6217687074829931\n",
      "Final Score train: 0.995630713128549\n",
      "Final Score test: 0.6142857142857142\n",
      "Cross validation time: 0:00:07.721439\n",
      "9 10 0.6142857142857142\n",
      "Final Score train: 0.9968024365092303\n",
      "Final Score test: 0.5877551020408163\n",
      "Cross validation time: 0:00:08.097373\n",
      "9 11 0.5877551020408163\n",
      "Final Score train: 0.9968024365092305\n",
      "Final Score test: 0.5993197278911566\n",
      "Cross validation time: 0:00:08.019356\n",
      "9 12 0.5993197278911566\n",
      "Final Score train: 0.9974615060310902\n",
      "Final Score test: 0.5972789115646261\n",
      "Cross validation time: 0:00:07.846497\n",
      "9 13 0.5972789115646261\n",
      "Final Score train: 0.9977058730716379\n",
      "Final Score test: 0.5734693877551021\n",
      "Cross validation time: 0:00:07.927777\n",
      "9 14 0.5734693877551021\n",
      "Final Score train: 0.9979742847647531\n",
      "Final Score test: 0.5693877551020406\n",
      "Cross validation time: 0:00:07.863151\n",
      "9 15 0.5693877551020406\n",
      "Final Score train: 0.9977543170013943\n",
      "Final Score test: 0.5462585034013605\n",
      "Cross validation time: 0:00:07.789248\n",
      "9 16 0.5462585034013605\n",
      "Final Score train: 0.9979496354887709\n",
      "Final Score test: 0.5455782312925171\n",
      "Cross validation time: 0:00:07.966839\n",
      "9 17 0.5455782312925171\n",
      "Final Score train: 0.9981694156729644\n",
      "Final Score test: 0.5482993197278911\n",
      "Cross validation time: 0:00:08.112759\n",
      "9 18 0.5482993197278911\n"
     ]
    },
    {
     "name": "stdout",
     "output_type": "stream",
     "text": [
      "Final Score train: 0.9979983921216439\n",
      "Final Score test: 0.5353741496598641\n",
      "Cross validation time: 0:00:08.165179\n",
      "9 19 0.5353741496598641\n",
      "Final Score train: 0.9984134282668252\n",
      "Final Score test: 0.5326530612244897\n",
      "Cross validation time: 0:00:08.085104\n",
      "9 20 0.5326530612244897\n",
      "Final Score train: 0.9985355909153136\n",
      "Final Score test: 0.5319727891156462\n",
      "Cross validation time: 0:00:08.120862\n",
      "9 21 0.5319727891156462\n",
      "Final Score train: 0.9983159149299053\n",
      "Final Score test: 0.5761904761904761\n",
      "Cross validation time: 0:00:07.911419\n",
      "9 22 0.5761904761904761\n",
      "Final Score train: 0.9980716104869203\n",
      "Final Score test: 0.5278911564625851\n",
      "Cross validation time: 0:00:07.932974\n",
      "9 23 0.5278911564625851\n",
      "Final Score train: 0.9980960722193237\n",
      "Final Score test: 0.5965986394557825\n",
      "Cross validation time: 0:00:07.849408\n",
      "9 24 0.5965986394557825\n"
     ]
    }
   ],
   "source": [
    "optimal_values=list()\n",
    "score_max=0\n",
    "for k in range(3,10):\n",
    "    for dep in range(7,25):\n",
    "        new_score=Classification('../kickoff-data-corrected/data.pickle.1.10.acc.classif3',0.99,'forest',35,k,dep,\"kickoff\")\n",
    "        print(k,dep,new_score)\n",
    "        if new_score>score_max:\n",
    "            score_max=new_score\n",
    "            optimal_values=[k,dep]\n",
    "            "
   ]
  },
  {
   "cell_type": "code",
   "execution_count": 60,
   "metadata": {},
   "outputs": [
    {
     "data": {
      "text/plain": [
       "0.6639455782312925"
      ]
     },
     "execution_count": 60,
     "metadata": {},
     "output_type": "execute_result"
    }
   ],
   "source": [
    "score_max\n"
   ]
  },
  {
   "cell_type": "code",
   "execution_count": 24,
   "metadata": {},
   "outputs": [
    {
     "ename": "FileNotFoundError",
     "evalue": "[Errno 2] No such file or directory: '../kickoff-data-corrected/data.pickle.1.10.classif.3'",
     "output_type": "error",
     "traceback": [
      "\u001b[0;31m---------------------------------------------------------------------------\u001b[0m",
      "\u001b[0;31mFileNotFoundError\u001b[0m                         Traceback (most recent call last)",
      "\u001b[0;32m<ipython-input-24-e5cbc2d7a7de>\u001b[0m in \u001b[0;36m<module>\u001b[0;34m()\u001b[0m\n\u001b[0;32m----> 1\u001b[0;31m \u001b[0mClassification\u001b[0m\u001b[0;34m(\u001b[0m\u001b[0;34m'../kickoff-data-corrected/data.pickle.1.10.classif.3'\u001b[0m\u001b[0;34m,\u001b[0m\u001b[0;36m0.99\u001b[0m\u001b[0;34m,\u001b[0m\u001b[0;34m'forest'\u001b[0m\u001b[0;34m,\u001b[0m\u001b[0;36m35\u001b[0m\u001b[0;34m,\u001b[0m\u001b[0;36m7\u001b[0m\u001b[0;34m,\u001b[0m\u001b[0;36m7\u001b[0m\u001b[0;34m,\u001b[0m\u001b[0;34m\"kickoff\"\u001b[0m\u001b[0;34m)\u001b[0m\u001b[0;34m\u001b[0m\u001b[0m\n\u001b[0m",
      "\u001b[0;32m<ipython-input-22-c40af008d95c>\u001b[0m in \u001b[0;36mClassification\u001b[0;34m(dataset, percentage_train, name_classifier, nbre_matches, nbre_trees, depth, type_cross, roc_curve)\u001b[0m\n\u001b[1;32m    104\u001b[0m     \u001b[0mY\u001b[0m\u001b[0;34m=\u001b[0m\u001b[0mlist\u001b[0m\u001b[0;34m(\u001b[0m\u001b[0;34m)\u001b[0m\u001b[0;34m\u001b[0m\u001b[0m\n\u001b[1;32m    105\u001b[0m     \u001b[0mindices\u001b[0m\u001b[0;34m=\u001b[0m\u001b[0;34m[\u001b[0m\u001b[0;36m0\u001b[0m\u001b[0;34m]\u001b[0m\u001b[0;34m\u001b[0m\u001b[0m\n\u001b[0;32m--> 106\u001b[0;31m     \u001b[0;32mwith\u001b[0m \u001b[0mopen\u001b[0m\u001b[0;34m(\u001b[0m\u001b[0mdataset\u001b[0m\u001b[0;34m,\u001b[0m \u001b[0;34m'rb'\u001b[0m\u001b[0;34m)\u001b[0m \u001b[0;32mas\u001b[0m \u001b[0mf\u001b[0m\u001b[0;34m:\u001b[0m\u001b[0;34m\u001b[0m\u001b[0m\n\u001b[0m\u001b[1;32m    107\u001b[0m         \u001b[0;32mfor\u001b[0m \u001b[0mi\u001b[0m \u001b[0;32min\u001b[0m \u001b[0mrange\u001b[0m\u001b[0;34m(\u001b[0m\u001b[0mnbre_matches\u001b[0m\u001b[0;34m)\u001b[0m\u001b[0;34m:\u001b[0m\u001b[0;34m\u001b[0m\u001b[0m\n\u001b[1;32m    108\u001b[0m             \u001b[0mdata\u001b[0m \u001b[0;34m=\u001b[0m \u001b[0mpickle\u001b[0m\u001b[0;34m.\u001b[0m\u001b[0mload\u001b[0m\u001b[0;34m(\u001b[0m\u001b[0mf\u001b[0m\u001b[0;34m)\u001b[0m\u001b[0;34m\u001b[0m\u001b[0m\n",
      "\u001b[0;31mFileNotFoundError\u001b[0m: [Errno 2] No such file or directory: '../kickoff-data-corrected/data.pickle.1.10.classif.3'"
     ]
    }
   ],
   "source": [
    "Classification'../kickoff-data-corrected/data.pickle.1.10.classif.1sym',0.998,'forest',,7,7,\"kickoff\")"
   ]
  },
  {
   "cell_type": "code",
   "execution_count": 33,
   "metadata": {},
   "outputs": [
    {
     "name": "stdout",
     "output_type": "stream",
     "text": [
      "Score for training for iteration 0 is 0.955514520731912\n",
      "Score for testing for iteration 0 is 1.0\n",
      "Training time: 0:00:21.966064\n",
      "\n",
      "\n",
      "Score for training for iteration 1 is 0.957908430903521\n",
      "Score for testing for iteration 1 is 1.0\n",
      "Training time: 0:00:22.063969\n",
      "\n",
      "\n",
      "Score for training for iteration 2 is 0.9557262159553486\n",
      "Score for testing for iteration 2 is 1.0\n",
      "Training time: 0:00:27.349971\n",
      "\n",
      "\n",
      "Score for training for iteration 3 is 0.9559341950646298\n",
      "Score for testing for iteration 3 is 1.0\n",
      "Training time: 0:00:22.015755\n",
      "\n",
      "\n"
     ]
    },
    {
     "ename": "KeyboardInterrupt",
     "evalue": "",
     "output_type": "error",
     "traceback": [
      "\u001b[0;31m---------------------------------------------------------------------------\u001b[0m",
      "\u001b[0;31mKeyboardInterrupt\u001b[0m                         Traceback (most recent call last)",
      "\u001b[0;32m<ipython-input-33-1e970c73372c>\u001b[0m in \u001b[0;36m<module>\u001b[0;34m()\u001b[0m\n\u001b[0;32m----> 1\u001b[0;31m \u001b[0mClassification\u001b[0m\u001b[0;34m(\u001b[0m\u001b[0;34m'../kickoff-data-corrected/data.pickle.1.10.classif.1sym'\u001b[0m\u001b[0;34m,\u001b[0m\u001b[0;36m0.998\u001b[0m\u001b[0;34m,\u001b[0m\u001b[0;34m'forest'\u001b[0m\u001b[0;34m,\u001b[0m\u001b[0;36m200\u001b[0m\u001b[0;34m,\u001b[0m\u001b[0;36m7\u001b[0m\u001b[0;34m,\u001b[0m\u001b[0;36m7\u001b[0m\u001b[0;34m,\u001b[0m\u001b[0;34m\"kickoff\"\u001b[0m\u001b[0;34m)\u001b[0m\u001b[0;34m\u001b[0m\u001b[0m\n\u001b[0m",
      "\u001b[0;32m<ipython-input-31-c40af008d95c>\u001b[0m in \u001b[0;36mClassification\u001b[0;34m(dataset, percentage_train, name_classifier, nbre_matches, nbre_trees, depth, type_cross, roc_curve)\u001b[0m\n\u001b[1;32m    110\u001b[0m             \u001b[0mY\u001b[0m\u001b[0;34m=\u001b[0m\u001b[0mY\u001b[0m\u001b[0;34m+\u001b[0m\u001b[0mdata\u001b[0m\u001b[0;34m[\u001b[0m\u001b[0;36m1\u001b[0m\u001b[0;34m]\u001b[0m\u001b[0;34m\u001b[0m\u001b[0m\n\u001b[1;32m    111\u001b[0m             \u001b[0mindices\u001b[0m\u001b[0;34m.\u001b[0m\u001b[0mappend\u001b[0m\u001b[0;34m(\u001b[0m\u001b[0mlen\u001b[0m\u001b[0;34m(\u001b[0m\u001b[0mY\u001b[0m\u001b[0;34m)\u001b[0m\u001b[0;34m)\u001b[0m\u001b[0;34m\u001b[0m\u001b[0m\n\u001b[0;32m--> 112\u001b[0;31m     \u001b[0;32mreturn\u001b[0m \u001b[0mcross_validation\u001b[0m\u001b[0;34m(\u001b[0m\u001b[0mX\u001b[0m\u001b[0;34m,\u001b[0m\u001b[0mY\u001b[0m\u001b[0;34m,\u001b[0m\u001b[0mname_classifier\u001b[0m\u001b[0;34m,\u001b[0m\u001b[0mpercentage_train\u001b[0m\u001b[0;34m,\u001b[0m\u001b[0mnbre_matches\u001b[0m\u001b[0;34m,\u001b[0m\u001b[0mindices\u001b[0m\u001b[0;34m,\u001b[0m\u001b[0mtype_cross\u001b[0m\u001b[0;34m,\u001b[0m\u001b[0mroc_curve\u001b[0m\u001b[0;34m,\u001b[0m\u001b[0mnbre_trees\u001b[0m\u001b[0;34m,\u001b[0m\u001b[0mdepth\u001b[0m\u001b[0;34m)\u001b[0m\u001b[0;34m\u001b[0m\u001b[0m\n\u001b[0m\u001b[1;32m    113\u001b[0m \u001b[0;34m\u001b[0m\u001b[0m\n\u001b[1;32m    114\u001b[0m \u001b[0;34m\u001b[0m\u001b[0m\n",
      "\u001b[0;32m<ipython-input-31-c40af008d95c>\u001b[0m in \u001b[0;36mcross_validation\u001b[0;34m(X, Y, name_classifier, percentage_train, nbre_matches, indices, type_cross, roc_curve, nbre_trees, depth)\u001b[0m\n\u001b[1;32m     75\u001b[0m         \u001b[0;32mif\u001b[0m \u001b[0mroc_curve\u001b[0m\u001b[0;34m==\u001b[0m\u001b[0;34m\"\"\u001b[0m\u001b[0;34m:\u001b[0m\u001b[0;34m\u001b[0m\u001b[0m\n\u001b[1;32m     76\u001b[0m             \u001b[0mscore_test\u001b[0m\u001b[0;34m+=\u001b[0m\u001b[0mclf\u001b[0m\u001b[0;34m.\u001b[0m\u001b[0mscore\u001b[0m\u001b[0;34m(\u001b[0m\u001b[0mx_test\u001b[0m\u001b[0;34m,\u001b[0m\u001b[0my_test\u001b[0m\u001b[0;34m)\u001b[0m\u001b[0;34m\u001b[0m\u001b[0m\n\u001b[0;32m---> 77\u001b[0;31m             \u001b[0mscore_train\u001b[0m\u001b[0;34m+=\u001b[0m\u001b[0mclf\u001b[0m\u001b[0;34m.\u001b[0m\u001b[0mscore\u001b[0m\u001b[0;34m(\u001b[0m\u001b[0mx_train\u001b[0m\u001b[0;34m,\u001b[0m\u001b[0my_train\u001b[0m\u001b[0;34m)\u001b[0m\u001b[0;34m\u001b[0m\u001b[0m\n\u001b[0m\u001b[1;32m     78\u001b[0m             \u001b[0mprint\u001b[0m\u001b[0;34m(\u001b[0m\u001b[0;34m\"Score for training for iteration {0} is {1}\"\u001b[0m\u001b[0;34m.\u001b[0m\u001b[0mformat\u001b[0m\u001b[0;34m(\u001b[0m\u001b[0mi\u001b[0m\u001b[0;34m,\u001b[0m\u001b[0mclf\u001b[0m\u001b[0;34m.\u001b[0m\u001b[0mscore\u001b[0m\u001b[0;34m(\u001b[0m\u001b[0mx_train\u001b[0m\u001b[0;34m,\u001b[0m\u001b[0my_train\u001b[0m\u001b[0;34m)\u001b[0m\u001b[0;34m)\u001b[0m\u001b[0;34m)\u001b[0m\u001b[0;34m\u001b[0m\u001b[0m\n\u001b[1;32m     79\u001b[0m             \u001b[0mprint\u001b[0m\u001b[0;34m(\u001b[0m\u001b[0;34m\"Score for testing for iteration {0} is {1}\"\u001b[0m\u001b[0;34m.\u001b[0m\u001b[0mformat\u001b[0m\u001b[0;34m(\u001b[0m\u001b[0mi\u001b[0m\u001b[0;34m,\u001b[0m\u001b[0mclf\u001b[0m\u001b[0;34m.\u001b[0m\u001b[0mscore\u001b[0m\u001b[0;34m(\u001b[0m\u001b[0mx_test\u001b[0m\u001b[0;34m,\u001b[0m\u001b[0my_test\u001b[0m\u001b[0;34m)\u001b[0m\u001b[0;34m)\u001b[0m\u001b[0;34m)\u001b[0m\u001b[0;34m\u001b[0m\u001b[0m\n",
      "\u001b[0;32m/usr/local/lib/python3.5/dist-packages/sklearn/base.py\u001b[0m in \u001b[0;36mscore\u001b[0;34m(self, X, y, sample_weight)\u001b[0m\n\u001b[1;32m    347\u001b[0m         \"\"\"\n\u001b[1;32m    348\u001b[0m         \u001b[0;32mfrom\u001b[0m \u001b[0;34m.\u001b[0m\u001b[0mmetrics\u001b[0m \u001b[0;32mimport\u001b[0m \u001b[0maccuracy_score\u001b[0m\u001b[0;34m\u001b[0m\u001b[0m\n\u001b[0;32m--> 349\u001b[0;31m         \u001b[0;32mreturn\u001b[0m \u001b[0maccuracy_score\u001b[0m\u001b[0;34m(\u001b[0m\u001b[0my\u001b[0m\u001b[0;34m,\u001b[0m \u001b[0mself\u001b[0m\u001b[0;34m.\u001b[0m\u001b[0mpredict\u001b[0m\u001b[0;34m(\u001b[0m\u001b[0mX\u001b[0m\u001b[0;34m)\u001b[0m\u001b[0;34m,\u001b[0m \u001b[0msample_weight\u001b[0m\u001b[0;34m=\u001b[0m\u001b[0msample_weight\u001b[0m\u001b[0;34m)\u001b[0m\u001b[0;34m\u001b[0m\u001b[0m\n\u001b[0m\u001b[1;32m    350\u001b[0m \u001b[0;34m\u001b[0m\u001b[0m\n\u001b[1;32m    351\u001b[0m \u001b[0;34m\u001b[0m\u001b[0m\n",
      "\u001b[0;32m/usr/local/lib/python3.5/dist-packages/sklearn/ensemble/forest.py\u001b[0m in \u001b[0;36mpredict\u001b[0;34m(self, X)\u001b[0m\n\u001b[1;32m    536\u001b[0m             \u001b[0mThe\u001b[0m \u001b[0mpredicted\u001b[0m \u001b[0mclasses\u001b[0m\u001b[0;34m.\u001b[0m\u001b[0;34m\u001b[0m\u001b[0m\n\u001b[1;32m    537\u001b[0m         \"\"\"\n\u001b[0;32m--> 538\u001b[0;31m         \u001b[0mproba\u001b[0m \u001b[0;34m=\u001b[0m \u001b[0mself\u001b[0m\u001b[0;34m.\u001b[0m\u001b[0mpredict_proba\u001b[0m\u001b[0;34m(\u001b[0m\u001b[0mX\u001b[0m\u001b[0;34m)\u001b[0m\u001b[0;34m\u001b[0m\u001b[0m\n\u001b[0m\u001b[1;32m    539\u001b[0m \u001b[0;34m\u001b[0m\u001b[0m\n\u001b[1;32m    540\u001b[0m         \u001b[0;32mif\u001b[0m \u001b[0mself\u001b[0m\u001b[0;34m.\u001b[0m\u001b[0mn_outputs_\u001b[0m \u001b[0;34m==\u001b[0m \u001b[0;36m1\u001b[0m\u001b[0;34m:\u001b[0m\u001b[0;34m\u001b[0m\u001b[0m\n",
      "\u001b[0;32m/usr/local/lib/python3.5/dist-packages/sklearn/ensemble/forest.py\u001b[0m in \u001b[0;36mpredict_proba\u001b[0;34m(self, X)\u001b[0m\n\u001b[1;32m    576\u001b[0m         \u001b[0mcheck_is_fitted\u001b[0m\u001b[0;34m(\u001b[0m\u001b[0mself\u001b[0m\u001b[0;34m,\u001b[0m \u001b[0;34m'estimators_'\u001b[0m\u001b[0;34m)\u001b[0m\u001b[0;34m\u001b[0m\u001b[0m\n\u001b[1;32m    577\u001b[0m         \u001b[0;31m# Check data\u001b[0m\u001b[0;34m\u001b[0m\u001b[0;34m\u001b[0m\u001b[0m\n\u001b[0;32m--> 578\u001b[0;31m         \u001b[0mX\u001b[0m \u001b[0;34m=\u001b[0m \u001b[0mself\u001b[0m\u001b[0;34m.\u001b[0m\u001b[0m_validate_X_predict\u001b[0m\u001b[0;34m(\u001b[0m\u001b[0mX\u001b[0m\u001b[0;34m)\u001b[0m\u001b[0;34m\u001b[0m\u001b[0m\n\u001b[0m\u001b[1;32m    579\u001b[0m \u001b[0;34m\u001b[0m\u001b[0m\n\u001b[1;32m    580\u001b[0m         \u001b[0;31m# Assign chunk of trees to jobs\u001b[0m\u001b[0;34m\u001b[0m\u001b[0;34m\u001b[0m\u001b[0m\n",
      "\u001b[0;32m/usr/local/lib/python3.5/dist-packages/sklearn/ensemble/forest.py\u001b[0m in \u001b[0;36m_validate_X_predict\u001b[0;34m(self, X)\u001b[0m\n\u001b[1;32m    355\u001b[0m                                  \"call `fit` before exploiting the model.\")\n\u001b[1;32m    356\u001b[0m \u001b[0;34m\u001b[0m\u001b[0m\n\u001b[0;32m--> 357\u001b[0;31m         \u001b[0;32mreturn\u001b[0m \u001b[0mself\u001b[0m\u001b[0;34m.\u001b[0m\u001b[0mestimators_\u001b[0m\u001b[0;34m[\u001b[0m\u001b[0;36m0\u001b[0m\u001b[0;34m]\u001b[0m\u001b[0;34m.\u001b[0m\u001b[0m_validate_X_predict\u001b[0m\u001b[0;34m(\u001b[0m\u001b[0mX\u001b[0m\u001b[0;34m,\u001b[0m \u001b[0mcheck_input\u001b[0m\u001b[0;34m=\u001b[0m\u001b[0;32mTrue\u001b[0m\u001b[0;34m)\u001b[0m\u001b[0;34m\u001b[0m\u001b[0m\n\u001b[0m\u001b[1;32m    358\u001b[0m \u001b[0;34m\u001b[0m\u001b[0m\n\u001b[1;32m    359\u001b[0m     \u001b[0;34m@\u001b[0m\u001b[0mproperty\u001b[0m\u001b[0;34m\u001b[0m\u001b[0m\n",
      "\u001b[0;32m/usr/local/lib/python3.5/dist-packages/sklearn/tree/tree.py\u001b[0m in \u001b[0;36m_validate_X_predict\u001b[0;34m(self, X, check_input)\u001b[0m\n\u001b[1;32m    371\u001b[0m         \u001b[0;34m\"\"\"Validate X whenever one tries to predict, apply, predict_proba\"\"\"\u001b[0m\u001b[0;34m\u001b[0m\u001b[0m\n\u001b[1;32m    372\u001b[0m         \u001b[0;32mif\u001b[0m \u001b[0mcheck_input\u001b[0m\u001b[0;34m:\u001b[0m\u001b[0;34m\u001b[0m\u001b[0m\n\u001b[0;32m--> 373\u001b[0;31m             \u001b[0mX\u001b[0m \u001b[0;34m=\u001b[0m \u001b[0mcheck_array\u001b[0m\u001b[0;34m(\u001b[0m\u001b[0mX\u001b[0m\u001b[0;34m,\u001b[0m \u001b[0mdtype\u001b[0m\u001b[0;34m=\u001b[0m\u001b[0mDTYPE\u001b[0m\u001b[0;34m,\u001b[0m \u001b[0maccept_sparse\u001b[0m\u001b[0;34m=\u001b[0m\u001b[0;34m\"csr\"\u001b[0m\u001b[0;34m)\u001b[0m\u001b[0;34m\u001b[0m\u001b[0m\n\u001b[0m\u001b[1;32m    374\u001b[0m             if issparse(X) and (X.indices.dtype != np.intc or\n\u001b[1;32m    375\u001b[0m                                 X.indptr.dtype != np.intc):\n",
      "\u001b[0;32m/usr/local/lib/python3.5/dist-packages/sklearn/utils/validation.py\u001b[0m in \u001b[0;36mcheck_array\u001b[0;34m(array, accept_sparse, dtype, order, copy, force_all_finite, ensure_2d, allow_nd, ensure_min_samples, ensure_min_features, warn_on_dtype, estimator)\u001b[0m\n\u001b[1;32m    431\u001b[0m                                       force_all_finite)\n\u001b[1;32m    432\u001b[0m     \u001b[0;32melse\u001b[0m\u001b[0;34m:\u001b[0m\u001b[0;34m\u001b[0m\u001b[0m\n\u001b[0;32m--> 433\u001b[0;31m         \u001b[0marray\u001b[0m \u001b[0;34m=\u001b[0m \u001b[0mnp\u001b[0m\u001b[0;34m.\u001b[0m\u001b[0marray\u001b[0m\u001b[0;34m(\u001b[0m\u001b[0marray\u001b[0m\u001b[0;34m,\u001b[0m \u001b[0mdtype\u001b[0m\u001b[0;34m=\u001b[0m\u001b[0mdtype\u001b[0m\u001b[0;34m,\u001b[0m \u001b[0morder\u001b[0m\u001b[0;34m=\u001b[0m\u001b[0morder\u001b[0m\u001b[0;34m,\u001b[0m \u001b[0mcopy\u001b[0m\u001b[0;34m=\u001b[0m\u001b[0mcopy\u001b[0m\u001b[0;34m)\u001b[0m\u001b[0;34m\u001b[0m\u001b[0m\n\u001b[0m\u001b[1;32m    434\u001b[0m \u001b[0;34m\u001b[0m\u001b[0m\n\u001b[1;32m    435\u001b[0m         \u001b[0;32mif\u001b[0m \u001b[0mensure_2d\u001b[0m\u001b[0;34m:\u001b[0m\u001b[0;34m\u001b[0m\u001b[0m\n",
      "\u001b[0;31mKeyboardInterrupt\u001b[0m: "
     ]
    }
   ],
   "source": [
    "Classification('../kickoff-data-corrected/data.pickle.1.10.classif.1sym',0.998,'forest',200,7,7,\"kickoff\")"
   ]
  },
  {
   "cell_type": "code",
   "execution_count": 42,
   "metadata": {},
   "outputs": [
    {
     "name": "stdout",
     "output_type": "stream",
     "text": [
      "Score for training for iteration 0 is 0.9862040133779264\n",
      "Score for testing for iteration 0 is 0.0\n",
      "Training time: 0:00:01.099293\n",
      "\n",
      "\n",
      "Score for training for iteration 1 is 0.9761705685618729\n",
      "Score for testing for iteration 1 is 0.3333333333333333\n",
      "Training time: 0:00:01.273504\n",
      "\n",
      "\n",
      "Score for training for iteration 2 is 0.9866164784608951\n",
      "Score for testing for iteration 2 is 0.8461538461538461\n",
      "Training time: 0:00:01.054933\n",
      "\n",
      "\n",
      "Score for training for iteration 3 is 0.9832775919732442\n",
      "Score for testing for iteration 3 is 1.0\n",
      "Training time: 0:00:01.129378\n",
      "\n",
      "\n",
      "Score for training for iteration 4 is 0.9828523630280217\n",
      "Score for testing for iteration 4 is 0.7692307692307693\n",
      "Training time: 0:00:01.131181\n",
      "\n",
      "\n",
      "Score for training for iteration 5 is 0.9874634350188048\n",
      "Score for testing for iteration 5 is 0.4166666666666667\n",
      "Training time: 0:00:01.032053\n",
      "\n",
      "\n",
      "Score for training for iteration 6 is 0.9845253032204099\n",
      "Score for testing for iteration 6 is 0.07692307692307693\n",
      "Training time: 0:00:01.024257\n",
      "\n",
      "\n",
      "Score for training for iteration 7 is 0.9895484949832776\n",
      "Score for testing for iteration 7 is 0.3333333333333333\n",
      "Training time: 0:00:01.034924\n",
      "\n",
      "\n",
      "Score for training for iteration 8 is 0.9811872909698997\n",
      "Score for testing for iteration 8 is 0.9166666666666666\n",
      "Training time: 0:00:01.120253\n",
      "\n",
      "\n",
      "Score for training for iteration 9 is 0.9795150501672241\n",
      "Score for testing for iteration 9 is 0.9166666666666666\n",
      "Training time: 0:00:01.043392\n",
      "\n",
      "\n",
      "Score for training for iteration 10 is 0.9845253032204099\n",
      "Score for testing for iteration 10 is 0.7692307692307693\n",
      "Training time: 0:00:01.099470\n",
      "\n",
      "\n",
      "Score for training for iteration 11 is 0.9828595317725752\n",
      "Score for testing for iteration 11 is 0.4166666666666667\n",
      "Training time: 0:00:01.039964\n",
      "\n",
      "\n",
      "Score for training for iteration 12 is 0.9870347135089921\n",
      "Score for testing for iteration 12 is 0.7692307692307693\n",
      "Training time: 0:00:01.031657\n",
      "\n",
      "\n",
      "Score for training for iteration 13 is 0.9866220735785953\n",
      "Score for testing for iteration 13 is 0.8333333333333334\n",
      "Training time: 0:00:01.042487\n",
      "\n",
      "\n",
      "Score for training for iteration 14 is 0.9862040133779264\n",
      "Score for testing for iteration 14 is 0.08333333333333333\n",
      "Training time: 0:00:01.110091\n",
      "\n",
      "\n",
      "Score for training for iteration 15 is 0.9870455495194317\n",
      "Score for testing for iteration 15 is 0.5384615384615384\n",
      "Training time: 0:00:01.047453\n",
      "\n",
      "\n",
      "Score for training for iteration 16 is 0.9836956521739131\n",
      "Score for testing for iteration 16 is 0.6666666666666666\n",
      "Training time: 0:00:01.028475\n",
      "\n",
      "\n",
      "Score for training for iteration 17 is 0.9749058971141782\n",
      "Score for testing for iteration 17 is 0.38461538461538464\n",
      "Training time: 0:00:01.086024\n",
      "\n",
      "\n",
      "Score for training for iteration 18 is 0.9841070681723129\n",
      "Score for testing for iteration 18 is 0.7692307692307693\n",
      "Training time: 0:00:01.049863\n",
      "\n",
      "\n",
      "Score for training for iteration 19 is 0.9862040133779264\n",
      "Score for testing for iteration 19 is 0.6666666666666666\n",
      "Training time: 0:00:01.039818\n",
      "\n",
      "\n",
      "Score for training for iteration 20 is 0.9820234113712375\n",
      "Score for testing for iteration 20 is 0.16666666666666666\n",
      "Training time: 0:00:01.079059\n",
      "\n",
      "\n",
      "Score for training for iteration 21 is 0.9803511705685619\n",
      "Score for testing for iteration 21 is 0.8333333333333334\n",
      "Training time: 0:00:01.054938\n",
      "\n",
      "\n",
      "Score for training for iteration 22 is 0.9811872909698997\n",
      "Score for testing for iteration 22 is 1.0\n",
      "Training time: 0:00:01.117482\n",
      "\n",
      "\n",
      "Score for training for iteration 23 is 0.9828595317725752\n",
      "Score for testing for iteration 23 is 0.4166666666666667\n",
      "Training time: 0:00:01.057311\n",
      "\n",
      "\n",
      "Score for training for iteration 24 is 0.9749058971141782\n",
      "Score for testing for iteration 24 is 0.0\n",
      "Training time: 0:00:01.047553\n",
      "\n",
      "\n",
      "Score for training for iteration 25 is 0.9853617733166039\n",
      "Score for testing for iteration 25 is 0.6923076923076923\n",
      "Training time: 0:00:01.030191\n",
      "\n",
      "\n",
      "Score for training for iteration 26 is 0.9862040133779264\n",
      "Score for testing for iteration 26 is 0.25\n",
      "Training time: 0:00:01.106839\n",
      "\n",
      "\n",
      "Score for training for iteration 27 is 0.9903805938937683\n",
      "Score for testing for iteration 27 is 0.8461538461538461\n",
      "Training time: 0:00:01.097755\n",
      "\n",
      "\n",
      "Score for training for iteration 28 is 0.9807692307692307\n",
      "Score for testing for iteration 28 is 0.4166666666666667\n",
      "Training time: 0:00:01.038891\n",
      "\n",
      "\n",
      "Score for training for iteration 29 is 0.9816053511705686\n",
      "Score for testing for iteration 29 is 0.3333333333333333\n",
      "Training time: 0:00:01.092110\n",
      "\n",
      "\n",
      "Score for training for iteration 30 is 0.9799247176913425\n",
      "Score for testing for iteration 30 is 0.9230769230769231\n",
      "Training time: 0:00:01.026595\n",
      "\n",
      "\n",
      "Score for training for iteration 31 is 0.9807611877875366\n",
      "Score for testing for iteration 31 is 0.6923076923076923\n",
      "Training time: 0:00:01.023910\n",
      "\n",
      "\n",
      "Score for training for iteration 32 is 0.9828595317725752\n",
      "Score for testing for iteration 32 is 0.08333333333333333\n",
      "Training time: 0:00:01.048655\n",
      "\n",
      "\n",
      "Score for training for iteration 33 is 0.9841070681723129\n",
      "Score for testing for iteration 33 is 0.38461538461538464\n",
      "Training time: 0:00:01.064367\n",
      "\n",
      "\n",
      "Score for training for iteration 34 is 0.9824341279799247\n",
      "Score for testing for iteration 34 is 0.07692307692307693\n",
      "Training time: 0:00:01.033607\n",
      "\n",
      "\n",
      "Final Score train: 0.9833228372373165\n",
      "Final Score test: 0.5320512820512819\n",
      "Cross validation time: 0:01:40.907927\n"
     ]
    },
    {
     "data": {
      "text/plain": [
       "0.5320512820512819"
      ]
     },
     "execution_count": 42,
     "metadata": {},
     "output_type": "execute_result"
    }
   ],
   "source": [
    "Classification('../kickoff-data-corrected/data.pickle.1.10.mov.classif.5',0.99,'forest',35,6,7,\"kickoff\")"
   ]
  },
  {
   "cell_type": "code",
   "execution_count": 27,
   "metadata": {},
   "outputs": [],
   "source": [
    "from sklearn.ensemble import RandomForestRegressor\n",
    "from sklearn.svm import SVR\n",
    "def cross_validation_regressor(X,Y,name_regressor,percentage_train,nbre_matches,indices,nbre_trees,depth):\n",
    "    score_test=0\n",
    "    score_train=0\n",
    "    start=datetime.datetime.now()\n",
    "    for i in range(nbre_matches):\n",
    "        start_i=datetime.datetime.now()\n",
    "        #Create training and test datasets\n",
    "        x_train1=X[indices[i]:indices[min(i+int(nbre_matches*percentage_train),nbre_matches)]]+X[:indices[max(0,i+int(nbre_matches*percentage_train)-nbre_matches)]]\n",
    "        y_train1=Y[indices[i]:indices[min(i+int(nbre_matches*percentage_train),nbre_matches)]]+Y[:indices[max(0,i+int(nbre_matches*percentage_train)-nbre_matches)]]\n",
    "        x_test1=X[indices[min(i+int(nbre_matches*percentage_train),nbre_matches)]:]+X[indices[max(0,i+int(nbre_matches*percentage_train)-nbre_matches)]:indices[i]]\n",
    "        y_test1=Y[indices[min(i+int(nbre_matches*percentage_train),nbre_matches)]:]+Y[indices[max(0,i+int(nbre_matches*percentage_train)-nbre_matches)]:indices[i]]\n",
    "        \n",
    "        #Shuffle data\n",
    "        x_train,y_train=shuffle_data(x_train1,y_train1)\n",
    "        x_test,y_test=shuffle_data(x_test1,y_test1)\n",
    "        \n",
    "        #Train regressor\n",
    "        if name_regressor==\"forest\":\n",
    "            regr=RandomForestRegressor(n_estimators=nbre_trees,max_depth=depth)\n",
    "        if name_regressor==\"svm\":\n",
    "            regr=SVR()\n",
    "        regr.fit(x_train,y_train)\n",
    "        end_i=datetime.datetime.now()\n",
    "        \n",
    "        #Test\n",
    "        score_test+=regr.score(x_test,y_test)\n",
    "        score_train+=regr.score(x_train,y_train)\n",
    "        print((np.array(regr.predict(x_test))-np.array(y_test))/25)\n",
    "        print(\"Score for training for iteration {0} is {1}\".format(i,regr.score(x_train,y_train)))\n",
    "        print(\"Score for testing for iteration {0} is {1}\".format(i,regr.score(x_test,y_test)))\n",
    "        print(\"Training time: {0}\".format(end_i-start_i))\n",
    "        print(\"\\n\")\n",
    "        \n",
    "    end=datetime.datetime.now()\n",
    "    print(\"Final Score train: {0}\".format(score_train/nbre_matches))\n",
    "    print(\"Final Score test: {0}\".format(score_test/nbre_matches))\n",
    "    print(\"Cross validation time: {0}\".format(end-start))\n",
    "    return score_test/nbre_matches\n",
    "        \n",
    "def Regression(dataset,percentage_train,name_regressor,nbre_matches,nbre_trees,depth):\n",
    "    #Create inputs\n",
    "    X=list()\n",
    "    Y=list()\n",
    "    indices=[0]\n",
    "    with open(dataset, 'rb') as f:\n",
    "        for i in range(nbre_matches):\n",
    "            data = pickle.load(f)\n",
    "            X=X+data[0]\n",
    "            Y=Y+data[1]\n",
    "            indices.append(len(Y))\n",
    "    return cross_validation_regressor(X,Y,name_regressor,percentage_train,nbre_matches,indices,nbre_trees,depth)"
   ]
  },
  {
   "cell_type": "code",
   "execution_count": 41,
   "metadata": {},
   "outputs": [
    {
     "data": {
      "text/plain": [
       "array([0.25, 0.5 , 0.75, 1.  ])"
      ]
     },
     "execution_count": 41,
     "metadata": {},
     "output_type": "execute_result"
    }
   ],
   "source": [
    "np.array([1,2,3,4])/4"
   ]
  },
  {
   "cell_type": "code",
   "execution_count": 45,
   "metadata": {},
   "outputs": [
    {
     "name": "stdout",
     "output_type": "stream",
     "text": [
      "[-0.13261442 -0.15543188 -0.6523949  -0.50863244 -0.92668061  0.04362275\n",
      " -0.58863244 -0.05479114 -0.12147259 -0.54863244 -0.9323949  -0.04132677\n",
      "  0.09681365  0.02979128 -1.05820118 -0.66863244 -0.65383332 -0.80440794\n",
      " -0.50839219 -0.62863244 -0.58839219 -0.46863244  0.23867323 -0.94353673\n",
      " -0.25119448 -0.25810771 -0.54839219 -0.7723949   0.31867323 -1.01820118\n",
      " -0.76935269 -0.18730503 -0.37972008 -0.08147259 -0.00396867 -0.8923949\n",
      " -0.6923949  -1.08149686 -0.70012053 -0.61985    -0.7323949   0.1128172\n",
      " -0.19619474 -0.42863244 -0.51346316 -0.89391072 -0.41765818 -0.04147259\n",
      "  0.13334327  0.27867323 -1.04900232 -0.2143547  -0.8523949  -0.65096805\n",
      "  0.08761478  0.19867323  0.0774088  -0.46898281  0.0551337   0.05564638\n",
      " -0.27271016 -0.43861057]\n",
      "Score for training for iteration 0 is 0.8620936171878331\n",
      "Score for testing for iteration 0 is 0.39712273291532907\n",
      "Training time: 0:00:52.829843\n",
      "\n",
      "\n",
      "[-0.25771436  0.1492418  -0.60680379 -1.11665368  0.21557724  0.14923904\n",
      "  0.1749476   0.1666013   0.07460075 -0.63785321 -0.14095478  0.42436636\n",
      " -0.09316122  0.02780612  0.04010509  0.05038069  0.11460075 -0.38790435\n",
      "  0.2026347  -0.07282568  0.20514251 -0.30307508 -0.79224084 -0.79270632\n",
      " -0.9429889   0.69889977 -0.04153664  0.33252919 -0.03246381 -0.3415886\n",
      " -0.05476047  0.2066013   0.07795312 -0.50726999  0.03903821 -0.65269282\n",
      " -0.12917429 -0.95498823 -0.12034009 -0.56332412  0.22670955 -0.24385223\n",
      " -0.07132472 -0.43971197 -0.10833852  0.11451801  0.12514251 -0.01723616\n",
      " -0.200556   -0.02902988 -0.15647397  0.14774734 -0.04595093 -0.06653654\n",
      " -0.30653234  0.02774734  0.20148459 -0.18457565 -0.32113057  0.09378475\n",
      " -1.06075581]\n",
      "Score for training for iteration 1 is 0.8467699770411133\n",
      "Score for testing for iteration 1 is 0.6856087668902322\n",
      "Training time: 0:00:52.941622\n",
      "\n",
      "\n",
      "[ 0.34179002 -0.44623248 -0.06099754 -0.0585899   0.29664008  0.18455116\n",
      "  0.02469289  0.00175405  0.39108953 -0.4184315   0.13471691 -0.25530711\n",
      "  0.35764101  0.18682583  0.0564166   0.09471691  0.21215087  0.10207243\n",
      "  0.21664008  0.51440446  0.41541352  0.04177847 -0.21695123  0.55945379\n",
      " -0.37530711 -0.02349813 -0.02528309  0.17804561 -0.41530711 -0.40652689\n",
      "  0.32156155 -0.06147811  0.31764101 -0.34208793  0.47601195  0.01650187\n",
      " -0.07555176  0.06207243  0.30725981  0.00537522  0.18763855 -0.10398855\n",
      " -0.02512719  0.16439294  0.17650187 -0.28238395  0.47440446  0.43440446\n",
      "  0.01603771  0.05650187  0.34305477  0.25643614  0.27764101  0.13650187\n",
      "  0.47037581  0.06362347  0.10192378  0.35779062  0.37541352  0.10519682\n",
      "  0.0260433  -0.09345076]\n",
      "Score for training for iteration 2 is 0.8553469328452667\n",
      "Score for testing for iteration 2 is 0.8581325940082682\n",
      "Training time: 0:00:51.875980\n",
      "\n",
      "\n",
      "[-0.22929043 -0.03685714  0.97617694  0.92879511  0.45034354  0.2800246\n",
      " -0.24520606  0.05838307 -0.32520606  1.0275259   0.12198658  0.71001754\n",
      "  0.46018239  0.7820193   0.70681784  0.32706998 -0.0925983   0.57510337\n",
      " -0.04802184  0.22194838  0.20248471  0.53250747  0.00394874  0.06057394\n",
      " -0.30909824 -0.0379039  -0.66515881 -0.54934706  0.0420961   0.19479394\n",
      " -0.14909824 -0.03512185 -0.07002937 -0.12343033 -0.46637478  0.08010049\n",
      " -0.05264752 -0.085658   -0.0525983   0.15251709  0.07479394 -0.06340414\n",
      "  0.29054725  0.26194838 -0.14298903 -0.00898557 -0.0779039   0.56846888\n",
      "  0.93617694  0.18806429  0.0020961   0.35496998  0.11954556 -0.57708625\n",
      " -0.04571212 -0.16520606  0.60547236  0.06442218 -0.04520606  0.15186242\n",
      "  0.15479394]\n",
      "Score for training for iteration 3 is 0.8582193007018248\n",
      "Score for testing for iteration 3 is 0.6835283812956918\n",
      "Training time: 0:00:52.585103\n",
      "\n",
      "\n",
      "[ 0.36811313 -0.12642589 -0.04129134 -0.30978224  0.06058771 -0.01622562\n",
      "  0.32365662  0.19633811  0.18615112 -0.19553921 -0.20962977  0.35633811\n",
      "  0.30675243 -0.17669255 -0.33617102 -0.28377507 -0.25370768 -0.13676164\n",
      " -0.12608964 -0.28737852  0.23633811  0.53823495 -0.26876079 -0.22931934\n",
      " -0.28638227  0.14385299 -0.34317728  0.27076092 -0.39701901  0.29079085\n",
      "  0.06330745 -0.2211362  -0.19042344 -0.09456086  0.06012486  0.15633811\n",
      " -0.20276349 -0.27472599 -0.32235225 -0.12389247 -0.17372472 -0.41564578\n",
      " -0.16486147  0.31342927  0.28648381  0.27633811  0.1657846  -0.15053134\n",
      " -0.12729179  0.14330745 -0.31953103 -0.01669255 -0.20382442 -0.07313468\n",
      " -0.41946833 -0.29870173 -0.36609709 -0.09458072 -0.03706975  0.56182718\n",
      "  0.31633811]\n",
      "Score for training for iteration 4 is 0.8647109835741748\n",
      "Score for testing for iteration 4 is 0.8659050923700973\n",
      "Training time: 0:00:52.387047\n",
      "\n",
      "\n",
      "[-0.08495779 -0.12495779 -0.25716733 -0.21108723 -0.04495779 -0.18261309\n",
      " -0.17915594 -0.09884516 -0.36968764 -0.24319577 -0.21908014 -0.2816664\n",
      " -0.18321095 -0.42256085 -0.150742   -0.41806381 -0.20319577 -0.14493344\n",
      " -0.02317298  0.15593523 -0.48075936 -0.14261309 -0.07982416  0.39305922\n",
      " -0.56881376 -0.34265346 -0.22024676 -0.03982416 -0.27117413 -0.14129622\n",
      " -0.04496433 -0.32717605 -0.6385453  -0.24784214 -0.21314342 -0.40734673\n",
      " -0.25638541 -0.02629864 -0.51918213 -0.22777527  1.11579633 -0.58177236\n",
      " -0.21055586 -0.14474323 -0.44472993 -0.53884619  0.05370136 -0.23117413\n",
      " -0.24255956 -0.01761582 -0.34062779 -0.18636726 -0.10922847 -0.22768413\n",
      " -0.26541571 -0.32455955  0.01370136 -0.14656408 -0.99951793 -0.38189593\n",
      " -0.35396854 -0.42189593]\n",
      "Score for training for iteration 5 is 0.8661542788323378\n",
      "Score for testing for iteration 5 is 0.7696630470226776\n",
      "Training time: 0:00:53.433923\n",
      "\n",
      "\n",
      "[-0.19375936 -0.14253001 -0.10419595 -0.06173252 -0.10320157 -0.22419595\n",
      " -0.34419595 -0.14419595 -0.05954495 -0.10933477  0.01580405 -0.18419595\n",
      " -0.1991593  -0.16341065 -0.09954495 -0.2438791  -0.27665966 -0.30419595\n",
      " -0.14632789 -0.19195236 -0.14986501 -0.15375936  0.0008407  -0.1191593\n",
      " -0.00743095 -0.12698495  0.0408407  -0.06320157 -0.02419595 -0.2791593\n",
      "  0.3946579  -0.15665966 -0.06419595 -0.24408923  0.2408407  -0.14814107\n",
      " -0.0391593   0.13475604  0.1608407  -0.18814107 -0.1591593   0.0808407\n",
      " -0.11181616  0.2008407   0.58106402 -0.42419595 -0.19665966 -0.11665966\n",
      " -0.18298135 -0.18632789 -0.1084837  -0.08209443 -0.23665966  0.1208407\n",
      " -0.16448113 -0.2391593  -0.26419595 -0.05066445 -0.09066445 -0.38419595\n",
      " -0.13990314  0.47554445]\n",
      "Score for training for iteration 6 is 0.8540831722215892\n",
      "Score for testing for iteration 6 is 0.9174951164233875\n",
      "Training time: 0:00:51.328401\n",
      "\n",
      "\n",
      "[-0.33468342  0.33201406 -0.0247508   0.01158502 -0.09468342  0.07641626\n",
      "  0.01396265 -0.41468342 -0.13468342  0.07122956  0.22160503 -0.01468342\n",
      " -0.07302011  0.04922475  0.24549573  0.18565158  0.09330193 -0.05306829\n",
      "  0.11182419  0.40834631 -0.00287593  0.00765473  0.10893032  0.11966374\n",
      "  0.10989616 -0.29468342 -0.05177022 -0.17468342  0.10531658 -0.02168907\n",
      " -0.04704384 -0.1047508  -0.21468342  0.28549573  0.09004269  0.0784634\n",
      "  0.27159597  0.16650344 -0.37468342  0.52945184  0.28549573  0.163061\n",
      "  0.12823004  0.07395443  0.13811473  0.25216969 -0.25468342  0.58071263\n",
      "  0.02531658 -0.07048132  0.13015116  0.11201303  0.10937165 -0.14332612\n",
      "  0.24602526  0.06531658  0.17015116  0.12309903  0.06816783 -0.09177022\n",
      " -0.05468342]\n",
      "Score for training for iteration 7 is 0.8607264853062091\n",
      "Score for testing for iteration 7 is 0.9196773136435015\n",
      "Training time: 0:00:50.294389\n",
      "\n",
      "\n",
      "[ 0.40172912 -0.07009628  0.21994834  0.28463292  0.64147583  0.48912882\n",
      "  0.31213418 -0.25069328 -0.21537311  0.26615389 -0.05069328  0.31348547\n",
      "  0.1012334  -0.21131627  0.45088385 -0.45094622  0.07975853  0.38349223\n",
      "  0.19776353  0.37854624  0.40602183  0.31688935  0.28972939  0.39699085\n",
      " -0.24314996 -0.01069328  0.17679254  0.52630264  0.25525425  0.51741345\n",
      "  0.38488716  0.24257349 -0.27688999 -0.37069328  0.26676586  0.20681728\n",
      "  0.33297563  0.51560949  0.22930672  0.32138296  0.08773979  0.10930672\n",
      "  0.3979245   0.37343305  0.30930672  0.28809496  0.34815942  0.32317553\n",
      "  0.17026273  0.02400293  0.02930672  0.05565262  0.47678031  0.25840315\n",
      "  0.38813423  0.55094888  0.23963315  0.28495921 -0.24995287  0.41923749\n",
      " -0.33069328 -0.29069328]\n",
      "Score for training for iteration 8 is 0.8707821723901725\n",
      "Score for testing for iteration 8 is 0.7963024652054542\n",
      "Training time: 0:00:51.223497\n",
      "\n",
      "\n",
      "[ 0.488512    0.27293733  0.19200089  0.69725602  0.02318949 -0.33681051\n",
      "  0.26693635  0.41181564  0.44114161 -0.09681051 -0.01681051 -0.13681051\n",
      "  0.74057466  0.34931262  0.64205242  0.18318949  0.52418938  0.50318949\n",
      "  0.3358718   0.03731913  0.49130635 -0.41681051 -0.25681051 -0.17681051\n",
      "  0.10318949  0.5113756   0.52295143  0.14318949  0.6951483   0.39904011\n",
      " -0.37681051  0.51239286 -0.05681051  0.56298916  0.19591126  0.53262093\n",
      "  0.29470995  0.6992324   0.20256944  0.19525176  0.56188111  0.06318949\n",
      "  0.55285899  0.55064945  0.58164512  0.37050876  0.2841403   0.32256944\n",
      "  0.59173673  0.40229681 -0.21681051  0.60849648  0.3145348  -0.29681051\n",
      "  0.32492127  0.22318949  0.49339209  0.34964907  0.4158718   0.56085244\n",
      "  0.48151204  0.26318949]\n",
      "Score for training for iteration 9 is 0.8581953857802017\n",
      "Score for testing for iteration 9 is 0.6660243782780781\n",
      "Training time: 0:00:51.354952\n",
      "\n",
      "\n"
     ]
    },
    {
     "name": "stdout",
     "output_type": "stream",
     "text": [
      "[-0.47990674 -0.43990674 -0.84311562  0.85236696 -2.01206171 -0.7622144\n",
      " -0.63990674 -0.35990674 -0.3067209  -1.66814026  0.68009326  0.660374\n",
      " -0.72897802 -0.51990674 -1.86105864  0.67816727  0.72009326 -0.95111719\n",
      " -1.11111719  0.65286986 -0.31990674 -0.64224875  0.60009326 -2.05206171\n",
      " -1.07111719  0.69482527 -0.59990674  0.77482527  0.24203174 -0.95269823\n",
      "  0.42174671  0.06168054 -0.99111719  0.64009326 -0.06407365  0.76008897\n",
      "  0.73922224 -1.90012204 -0.55990674 -0.05749526  0.08302335  0.0600995\n",
      " -1.18556846 -1.09140222 -1.15111719 -0.61483101 -0.39990674  0.46729544\n",
      "  0.73482527  0.20215964 -1.58243108 -0.87111719  0.68888281 -1.6356537\n",
      "  0.81482527 -1.03111719 -0.27990674 -2.06923915 -0.11746956 -0.91111719\n",
      " -1.97206171 -0.93669162]\n",
      "Score for training for iteration 10 is 0.8667680285986904\n",
      "Score for testing for iteration 10 is -0.8025765990238096\n",
      "Training time: 0:00:51.763742\n",
      "\n",
      "\n",
      "[-0.24772249 -0.31091139 -0.19920213 -0.27163775  0.0276758   0.46038712\n",
      " -0.27091139 -0.20772249 -0.16772249 -0.30276372  0.35963004  0.05495168\n",
      " -0.157668    0.11502128  0.28038683 -0.14005009 -0.05426746 -0.13736882\n",
      " -0.26276372  0.09783753 -0.1790633   0.01316116  0.96310364  0.03346578\n",
      "  0.66509121 -0.20469131  0.21551372 -0.2283532   0.0302514  -0.21389231\n",
      " -0.32445857 -0.09426746  0.35370597 -0.22303688  0.14561397 -0.03311624\n",
      "  0.0881296  -0.04355754 -0.20107149  0.31917718  1.22298996 -0.1390633\n",
      "  0.0702514   0.02841743 -0.35091139 -0.23091139 -0.01016291 -0.15503718\n",
      "  0.36661625 -0.18303688  0.60593305  0.5817779  -0.08562417 -0.20445857\n",
      " -0.03062574  0.45831626 -0.05539832 -0.43091139 -0.06925931 -0.23917953\n",
      " -0.25389231 -0.39091139]\n",
      "Score for training for iteration 11 is 0.8631831034438116\n",
      "Score for testing for iteration 11 is 0.7964529192940892\n",
      "Training time: 0:00:51.176935\n",
      "\n",
      "\n",
      "[ 0.14198759  0.06529317  0.19282826  0.11401802  0.411797    0.18041115\n",
      "  0.37488536 -0.01470683  0.15679949  0.59189208 -0.09470683  0.13855794\n",
      " -0.05470683  0.02079953 -0.37470683  0.01608133  0.02529317  0.39371254\n",
      " -0.00105074  0.11673183  0.01974891  0.12587019 -0.29470683  0.05603072\n",
      "  0.17195818 -0.21470683  0.09855794  0.12844007  0.39429064 -0.41470683\n",
      "  0.22591595  0.3596269   0.32572515  0.32045458  0.02837651  0.10529317\n",
      " -0.13470683  0.41573172  0.25623905  0.14634112  0.21005406  0.16287958\n",
      "  0.28246008  0.30154119 -0.17470683  0.1425049   0.26005978 -0.33470683\n",
      "  0.2736064   0.36219274  0.09296166  0.06837651  0.29521687 -0.25470683\n",
      "  0.01769114  0.03156188  0.14529317  0.12287958  0.18529317  0.27166363\n",
      "  0.19673183  0.36492919]\n",
      "Score for training for iteration 12 is 0.8614808811550666\n",
      "Score for testing for iteration 12 is 0.8895341001170928\n",
      "Training time: 0:00:51.429110\n",
      "\n",
      "\n",
      "[-0.33567194  0.43667476  0.22432806 -0.21567194  0.71342226  0.49396455\n",
      "  0.06018422  0.14417752  0.14432806  0.15392118  0.39388313  0.1992869\n",
      "  0.41210228  0.58030076  0.28422328 -0.05567194  0.41290728  0.21290728\n",
      "  0.34493793  0.06432806 -0.0358964   0.26948616 -0.01304242  0.4472658\n",
      " -0.02847311  0.37885713  0.07633666 -0.09567194 -0.25567194  0.12258059\n",
      "  0.22954318 -0.17567194  0.43633666 -0.05709988  0.08283728  0.18432806\n",
      "  0.34302745  0.076722    0.11210373  0.48147409 -0.41567194  0.18161851\n",
      "  0.26460017  0.46907101 -0.06508359  0.23615736  0.10432806 -0.13567194\n",
      "  0.34421418  0.29122144  0.25647832  0.24245887  0.14490349  0.44880864\n",
      "  0.45634819 -0.29567194  0.28245887  0.02432806  0.26432806 -0.01567194\n",
      " -0.37567194  0.37550089]\n",
      "Score for training for iteration 13 is 0.8647292603224607\n",
      "Score for testing for iteration 13 is 0.8297110192256851\n",
      "Training time: 0:00:51.854678\n",
      "\n",
      "\n",
      "[ 0.26351542 -0.0606822  -0.43616556  0.75806067  1.40925328  1.21596052\n",
      " -0.0275889   0.1929191   0.59994778  0.06363149 -0.03616556  0.04908415\n",
      " -0.31616556  0.03049601 -0.03091585  0.57164076 -0.11091585  0.24801906\n",
      "  0.71835743  0.33699624  0.04383444 -0.19616556 -0.0206822   0.58383971\n",
      " -0.07091585  0.0801492   1.02138135  0.41776342 -0.0675889   0.34106202\n",
      "  0.0401492   0.45033322  0.87670541 -0.06113114  0.61121617  0.96367341\n",
      " -0.11616556  0.49110454  0.339736    0.0412732   0.89596892 -0.07616556\n",
      " -0.23616556  0.73409529 -0.04102073  0.70666586  0.62426846 -0.15616556\n",
      " -0.35616556  0.05064103 -0.02666811  0.06759622  0.07250859  0.0193178\n",
      "  0.47313213  0.00908415 -0.27616556  0.14560185  0.00383444  0.92705159\n",
      " -0.39616556  0.49021263]\n",
      "Score for training for iteration 14 is 0.8507773828229265\n",
      "Score for testing for iteration 14 is 0.5511407946599014\n",
      "Training time: 0:00:52.460314\n",
      "\n",
      "\n",
      "[ 0.16630979  0.1299431   0.16894916  0.14391991  0.21963777  0.15940292\n",
      " -0.01467515  0.25963777  0.2571239   0.19346225 -0.17467515  0.15346225\n",
      "  0.1371239   0.35583206  0.2171239   0.27349066  0.12306261  0.18617777\n",
      "  0.06532485  0.14532485 -0.21467515  0.17194232  0.19940292  0.23346225\n",
      "  0.13653934  0.17932332  0.20630979 -0.09467515  0.11432286  0.18791494\n",
      "  0.3371239   0.11346225  0.3137872   0.217963   -0.13467515  0.10532485\n",
      " -0.33467515 -0.29467515  0.15432286  0.13242772  0.2166593   0.16647954\n",
      "  0.08630979  0.41976983 -0.25467515  0.1771239   0.23104784  0.40936853\n",
      "  0.12630979  0.2971239   0.27256251  0.12894916  0.14975949  0.11905744\n",
      "  0.1699431   0.02532485 -0.37467515  0.16262549  0.19432286  0.23256251\n",
      " -0.05467515]\n",
      "Score for training for iteration 15 is 0.8664155294489285\n",
      "Score for testing for iteration 15 is 0.9108860007419832\n",
      "Training time: 0:00:52.048472\n",
      "\n",
      "\n",
      "[-0.03285718 -0.21428121 -0.42675828 -0.14138654 -0.30682503 -0.14031954\n",
      " -0.14644306 -0.18495872 -0.34675828 -0.25869286 -0.08745469  0.06638993\n",
      " -0.00048227 -0.22532376 -0.18870903 -0.2030765  -0.28655304 -0.2430765\n",
      " -0.1630765   0.1869216  -0.10031954 -0.14841424 -0.06361251 -0.26577864\n",
      " -0.18675828 -0.32250146 -0.26675828 -0.12048227 -0.30675828 -0.2551216\n",
      " -0.29869286 -0.2830765  -0.16048227 -0.22031954 -0.22495872 -0.22675828\n",
      " -0.24250146 -0.20161674 -0.25382512 -0.26902038 -0.22902038 -0.1230765\n",
      " -0.06841424 -0.38675828 -0.26403545  0.29282506  0.13443029 -0.07611868\n",
      " -0.20048227  0.16744708 -0.18031954 -0.10841424 -0.28250146  0.36074056\n",
      " -0.14675828 -0.27342525 -0.10138654 -0.11068462 -0.0830765   0.20263198\n",
      "  0.27816851  0.0104344 ]\n",
      "Score for training for iteration 16 is 0.8574597362025882\n",
      "Score for testing for iteration 16 is 0.9059288725823221\n",
      "Training time: 0:00:52.291933\n",
      "\n",
      "\n",
      "[ 0.15977344  0.16221681  0.04704172 -0.13097158 -0.34141324 -0.1439586\n",
      "  0.08221681  1.03368662  0.01222719 -0.17097158 -0.37139541  0.06325117\n",
      "  0.19895711 -0.21097158  0.00521005  1.07368662 -0.21139541 -0.06141324\n",
      "  0.53858364 -0.16423519 -0.12084609 -0.10383937  0.21773859 -0.19136533\n",
      " -0.07223155 -0.14141324 -0.07651724  0.04221681 -0.24170568 -0.01762069\n",
      " -0.22141324 -0.29139541 -0.09097158 -0.03778319 -0.10088007  0.00221681\n",
      " -0.1840221   0.0206215  -0.25617126 -0.10141324 -0.17484529  0.13016212\n",
      "  0.14936376 -0.23136533 -0.39136533 -0.25353925 -0.31100167  0.08597718\n",
      "  0.56737863 -0.19111359  0.53615455  0.14159069  0.81629792 -0.1440221\n",
      " -0.21149023 -0.09380912  1.1694009   0.12221681 -0.07043847  0.95180772\n",
      "  1.13021723]\n",
      "Score for training for iteration 17 is 0.8561182660943314\n",
      "Score for testing for iteration 17 is 0.7043649615505334\n",
      "Training time: 0:00:51.458974\n",
      "\n",
      "\n",
      "[-0.62486894 -0.44170924 -0.45669205 -0.78371553 -0.95986911 -0.56621201\n",
      "  0.00271837  0.55816168  0.10054667 -0.41187053 -0.59199221 -0.09583749\n",
      " -0.13187053  0.14416251  0.30416251  0.47816168 -0.59274283  0.57224601\n",
      "  0.43993213 -0.29187053 -0.53187053 -0.83579669  0.09672768  0.35816168\n",
      " -0.63199221  0.04271837  0.43816168 -0.41675012  0.67816168 -0.70362\n",
      "  0.49139224 -0.09967729 -0.46704316  0.68557374 -0.91711483 -0.40319749\n",
      " -0.4538478  -0.1610924   0.38416251 -0.2810924  -0.05187053  0.63816168\n",
      " -0.4010924   0.59816168 -0.28319749 -0.53665052 -0.81349684 -0.36319749\n",
      "  0.39816168 -0.48975974 -0.45187053 -0.60868757 -0.31155756 -0.38347385\n",
      "  0.31063114 -0.15728163  0.53139224 -0.38253055 -0.41433348 -0.20683968\n",
      " -0.33187053]\n",
      "Score for training for iteration 18 is 0.8546237975066401\n",
      "Score for testing for iteration 18 is 0.5292495213728526\n",
      "Training time: 0:00:52.474145\n",
      "\n",
      "\n",
      "[ 4.23707592e-02  1.12271535e-01  1.11462489e-01 -3.38973236e-01\n",
      " -4.85375113e-02 -1.22983419e-01  3.14624887e-02 -1.62983419e-01\n",
      " -3.54329381e-02  7.48737144e-02  8.94529696e-02  3.12271535e-01\n",
      "  3.96340563e-02 -3.52849343e-02  2.72271535e-01  1.16759677e-01\n",
      "  7.62579764e-02  2.69937216e-02  3.52271535e-01  2.51469338e-02\n",
      "  4.47686562e-02 -3.78973236e-01 -2.52115439e-02  1.47884561e-02\n",
      " -1.27036478e-02  3.22715354e-02  5.78469492e-02 -1.31779297e-02\n",
      " -8.85375113e-02 -1.78973236e-01  3.48737144e-02  9.37524044e-02\n",
      "  6.51469338e-02 -1.99546047e-02 -1.28537511e-01  7.01227929e-02\n",
      " -3.05470304e-02  3.54137472e-02  3.86867608e-02  1.58719807e-02\n",
      "  9.45296961e-03  2.59891227e-02  2.62730561e-01  2.32271535e-01\n",
      " -7.21024677e-03  4.94529696e-02 -2.98973236e-01  2.00453953e-02\n",
      " -2.58973236e-01 -3.83508854e-02  8.04766295e-04 -3.65943689e-04\n",
      "  4.36857613e-02 -8.53751129e-03  6.18864170e-02  1.20661843e-01\n",
      "  1.52271535e-01  1.05105720e-01  8.75824123e-02 -2.18973236e-01\n",
      "  1.92271535e-01  7.14624887e-02]\n",
      "Score for training for iteration 19 is 0.8526058329715884\n",
      "Score for testing for iteration 19 is 0.9625749063044627\n",
      "Training time: 0:00:52.293834\n",
      "\n",
      "\n"
     ]
    },
    {
     "name": "stdout",
     "output_type": "stream",
     "text": [
      "[-0.67737431  0.12872491  0.31511625  0.08955506  0.0896873   0.18254371\n",
      "  0.17989952  0.04872245  0.25817078  0.18419113  0.14007387  0.04092454\n",
      "  0.11140128  0.14767858  0.50869113  0.71342981  0.05477263  0.41865649\n",
      "  0.40536565  0.17539812  0.65633821 -0.38555048 -0.46748224 -0.14039488\n",
      " -0.1709823   0.14254371  0.01945468 -0.53137929 -0.05520182  0.58257189\n",
      "  0.12908297  0.16006173 -0.18039488  0.41677454 -0.48838997  0.57006519\n",
      "  0.0123959   0.17733339  0.04970189  0.13989952  0.03714267  0.70395726\n",
      "  0.3220086   0.18007387 -0.85228898 -0.23767953  0.19007281  0.11854808\n",
      "  0.21989952  0.59979109  0.22218159  0.24453632  0.19678779  0.46163917\n",
      " -0.31767953  0.11558945  0.36425691  0.20957316  0.19418028 -0.20830657\n",
      "  0.12801023]\n",
      "Score for training for iteration 20 is 0.8505840645840982\n",
      "Score for testing for iteration 20 is 0.770699898999808\n",
      "Training time: 0:00:51.068537\n",
      "\n",
      "\n",
      "[-0.15341675 -0.09813636 -0.22640393 -0.34030608 -0.18640393 -0.05813636\n",
      " -0.30640393 -0.3332906  -0.26034854 -0.09850543 -0.22034854  0.30186364\n",
      " -0.28657884 -0.38034854 -0.2932906  -0.16434895  0.14186364 -0.34640393\n",
      " -0.22189842 -0.32030969 -0.19175919 -0.27175919 -0.30034854 -0.13813636\n",
      " -0.3518262   0.02186364 -0.40540095 -0.77352292  0.10186364 -0.25342117\n",
      " -0.13850543 -0.31362679 -0.13691895 -0.21342117 -0.32417979 -0.18034854\n",
      " -0.37354609 -0.36657884 -0.20434895 -0.01813636 -0.33354609  0.22186364\n",
      " -0.952511   -0.3118262  -0.23175919 -0.2132906  -0.2532906   0.06186364\n",
      " -0.40881507 -0.23518831 -0.13584733 -0.18189842  0.34186364 -0.42034854\n",
      " -0.32657884 -0.27079731 -0.34034854 -0.26640393  0.26186364  0.18186364\n",
      " -0.17691895 -0.17254961]\n",
      "Score for training for iteration 21 is 0.8564403243828748\n",
      "Score for testing for iteration 21 is 0.8256644405135287\n",
      "Training time: 0:00:53.750315\n",
      "\n",
      "\n",
      "[-1.29420112e+00 -2.15511733e-02 -7.94934317e-02 -6.37769165e-02\n",
      " -3.24507971e-01 -1.55480995e-02 -1.76562361e-02 -4.33637918e-02\n",
      " -5.39433060e-01 -1.94519305e-03 -1.41452314e-01  1.20313382e-01\n",
      "  8.03133823e-02 -4.72424988e-02  5.13952584e-02 -3.80506852e-03\n",
      " -4.39677424e-01  4.02737204e-02 -1.74874984e-01 -2.82350100e-02\n",
      " -5.99451065e-01 -1.81452314e-01 -1.04160331e+00 -6.71377620e-01\n",
      " -1.09444846e-02  5.84488267e-02 -1.22453991e+00 -2.76669772e-02\n",
      " -5.76562361e-02 -1.59982422e-01 -1.11843581e+00 -9.58300931e-01\n",
      "  1.75961254e-02  1.60313382e-01  2.00313382e-01 -8.02020361e-01\n",
      "  4.03133823e-02  4.07366951e-01 -6.01035217e-01 -8.00317946e-02\n",
      "  1.84488267e-02  4.07631213e-02  2.40313382e-01 -3.85134018e-02\n",
      " -4.96889102e-01 -2.25969954e-01 -3.96866177e-02 -7.24249881e-03\n",
      "  7.63121333e-04 -5.34458539e-01 -1.50796789e-01 -1.37047665e-01\n",
      "  2.80313382e-01 -6.15511733e-02  3.20313382e-01 -9.70476645e-02\n",
      " -1.26072747e-01 -7.96866177e-02 -4.72343807e-02 -3.94934317e-02\n",
      "  3.13382347e-04 -9.96995768e-02]\n",
      "Score for training for iteration 22 is 0.8511210696768672\n",
      "Score for testing for iteration 22 is 0.6805188898971964\n",
      "Training time: 0:00:51.933180\n",
      "\n",
      "\n",
      "[ 0.72152052 -0.42907592  0.70336705  0.21092408  0.45092408  0.59536158\n",
      "  1.12909705  0.81092408 -0.34907592  1.24214086 -0.02907592  0.57389326\n",
      "  0.17092408  1.28067342  0.57012373  0.13092408  0.05092408  0.49092408\n",
      " -0.06907592 -0.38907592  0.61092408  1.1009965   1.08892677  0.57092408\n",
      "  0.01092408  0.61012373  1.04154966  0.69410261  0.09092408  0.73092408\n",
      "  0.63149797  0.41342316  0.51536158  0.37092408 -0.26907592  0.77092408\n",
      " -0.30907592  0.55536158  0.66370082  0.71459115  0.7198244   0.76646126\n",
      "  0.87543329  0.53092408  1.01624809  0.65092408  0.5617624   0.25092408\n",
      "  0.29092408 -0.10907592  0.87007637 -0.22907592  0.83459115  0.33092408\n",
      "  0.41092408  0.76152052  0.80152052  0.93122073  0.69092408 -0.14907592\n",
      " -0.18907592  0.6647569 ]\n",
      "Score for training for iteration 23 is 0.8646877597493814\n",
      "Score for testing for iteration 23 is 0.19259337163496104\n",
      "Training time: 0:00:50.475543\n",
      "\n",
      "\n",
      "[-0.21553134 -0.57278005  0.84305923  0.69665322  0.01916947 -0.34877809\n",
      "  0.13907713 -0.65363448 -0.49851295  1.0275546  -0.26147209 -0.06179478\n",
      " -0.0099896   0.614126   -0.48519798 -0.50588068  0.39500941  0.49037363\n",
      " -0.57633945  0.47980936 -0.43915022  0.13758567  0.34809938  0.50238803\n",
      "  0.41744298 -0.05746928  0.33209256 -0.6448076   0.65963978 -0.14763334\n",
      " -0.64023715  0.26969492  0.66589569 -0.59468876 -0.57320745  0.56806826\n",
      "  0.55871429 -0.30756781 -0.51621276 -0.18539686 -0.61709672  0.67856567\n",
      " -0.19930762 -0.5026129   0.07145711  0.28186338  0.40385472 -0.25032681\n",
      " -0.56519798 -0.66216986 -0.75990187  0.60247067 -0.18171081  0.65727708\n",
      " -0.02507714 -0.13021971  0.62508791 -0.53040875  0.15068973 -0.64738808\n",
      "  0.72013422 -0.61633945]\n",
      "Score for training for iteration 24 is 0.8643763113698887\n",
      "Score for testing for iteration 24 is 0.516351095239844\n",
      "Training time: 0:00:51.070069\n",
      "\n",
      "\n",
      "[-1.16763965  0.03184993 -0.04815007 -1.26112696 -1.44357544 -1.44976482\n",
      " -1.40815007 -0.96589178 -1.05904299  0.31184993 -0.43657325 -0.2012165\n",
      "  0.15638847 -1.40357544 -1.30268672  0.04679065 -1.0329886  -0.08815007\n",
      " -0.2412165  -0.12815007  0.23485882 -0.75468512 -0.22174477 -1.30429052\n",
      "  0.12520961 -1.12763965 -1.18882212 -0.59240811 -0.65133959  0.52094859\n",
      "  0.27184993 -1.20999859 -1.36429052  0.11184993  0.08679065 -0.51527305\n",
      " -0.80522687 -0.1612165  -0.87278036 -0.20945418  0.40951685  0.16406504\n",
      " -0.67338961 -1.0244173  -1.1177198  -1.44815007 -1.5212165  -1.41545022\n",
      " -0.16815007 -1.20763965 -0.55527305  0.19184993 -0.20788945  0.63964838\n",
      "  0.15184993 -0.67240811  0.42124267 -1.28999859 -0.00815007  0.35184993\n",
      "  0.07184993 -1.04662598]\n",
      "Score for training for iteration 25 is 0.8595753932071385\n",
      "Score for testing for iteration 25 is -0.348040890941431\n",
      "Training time: 0:00:51.516259\n",
      "\n",
      "\n",
      "[-0.31300687  0.30971041  0.09087834 -0.43300687  0.24580964  0.05807428\n",
      "  0.14006057  0.15117955  0.11299438  0.11116219 -0.11300687 -0.23300687\n",
      "  0.30266133  0.11117345  0.10707979  0.14281366  0.0481072   0.25695055\n",
      "  0.09647162  0.08349195  0.19567755  0.06974421 -0.39300687  0.15854951\n",
      "  0.36513405  0.22062398  0.06119127  0.60302203 -0.35300687  0.03657336\n",
      "  0.22277978 -0.15300687 -0.03300687  0.0031784   0.32513405  0.17807428\n",
      " -0.07300687  0.05704261  0.05902261  0.1261658   0.18974421 -0.19300687\n",
      "  0.29146328  0.14567641  0.42745067  0.01667535  0.4050037  -0.27300687\n",
      "  0.0831784   0.08699313  0.10484153  0.16256262  0.09621672  0.16403213\n",
      "  0.21111319  0.13469231  0.13866507  0.06897776 -0.0368216   0.08542175\n",
      "  0.15150847  0.41609501]\n",
      "Score for training for iteration 26 is 0.8620446939128174\n",
      "Score for testing for iteration 26 is 0.9078763967713281\n",
      "Training time: 0:00:51.795828\n",
      "\n",
      "\n",
      "[-0.2359995  -0.28399419 -0.24740055 -0.02527687 -0.18643711 -0.1264086\n",
      " -0.37375363 -0.1959995  -0.20588945 -0.18527687 -0.39183958 -0.36838474\n",
      " -0.26953708 -0.21031198 -0.23987546 -0.56261126 -0.01350144 -0.1711043\n",
      " -0.20740055  0.29472313 -0.27183958 -0.28838474  0.01472313  0.25472313\n",
      "  0.17472313 -0.14856996 -0.14527687 -0.22222261 -0.32838474 -0.25254137\n",
      " -0.24399419 -0.2804694  -0.06527687 -0.18776791 -0.53550089  0.05472313\n",
      " -0.27106483 -0.26222261 -0.10856996 -0.07559675 -0.16895798 -0.07288862\n",
      " -0.11288862 -0.28740055  0.13472313 -0.14410492 -0.33995678 -0.26830666\n",
      " -0.35183958 -0.20576855 -0.19127765  0.21472313  0.33472313 -0.10527687\n",
      " -0.20955602 -0.29253033 -0.1559995   0.09472313 -0.18312848 -0.22527687\n",
      " -0.29254137 -0.32941502]\n",
      "Score for training for iteration 27 is 0.8546456121361643\n",
      "Score for testing for iteration 27 is 0.8817654472820771\n",
      "Training time: 0:00:52.034166\n",
      "\n",
      "\n",
      "[ 0.11964471 -0.00495815  0.06653709  0.36177143  0.20486066  0.20407152\n",
      " -0.04495815  0.32177143  0.17050265  0.11301484 -0.41834626  0.24396093\n",
      "  0.17930688  0.16407152  0.05601189  0.21585434  0.11917422  0.13585434\n",
      " -0.37834626  0.12407152  0.10165374  0.09965764  0.24177143  0.05442279\n",
      " -0.05834626  0.21050265  0.15366329  0.04593966  0.09231463  0.19366329\n",
      "  0.06227609  0.20396093  0.09585434  0.28177143  0.08753448  0.092212\n",
      "  0.02165374  0.08407152  0.11169559 -0.21834626  0.2395918  -0.13834626\n",
      "  0.25050265  0.02623016  0.09282894  0.02227609  0.06165374  0.19729366\n",
      "  0.17585434  0.28396093 -0.33834626 -0.09834626 -0.29834626  0.15823992\n",
      "  0.12434006  0.11366329  0.13930688 -0.01834626  0.02653709  0.27360766\n",
      " -0.25834626 -0.17834626]\n",
      "Score for training for iteration 28 is 0.8541755859716977\n",
      "Score for testing for iteration 28 is 0.933958120459973\n",
      "Training time: 0:00:52.642887\n",
      "\n",
      "\n"
     ]
    },
    {
     "name": "stdout",
     "output_type": "stream",
     "text": [
      "[-0.05124415 -0.17213391 -0.12610017 -0.05542709  0.0579534  -0.05840374\n",
      "  0.71945393 -0.1147615  -0.06876699 -0.04610017 -0.11206786  0.46185746\n",
      " -0.05826093 -0.08943277 -0.01826093 -0.24410704 -0.00670334 -0.02929752\n",
      " -0.06929752 -0.0362953  -0.10929752 -0.03031396 -0.38294656 -0.08610017\n",
      " -0.09542709 -0.25542709  0.06875585  0.43534581  0.36105967 -0.13542709\n",
      " -0.14496193 -0.08984122 -0.05586811 -0.02335986 -0.04780037 -0.04324798\n",
      " -0.32410704 -0.00780037 -0.013327   -0.09124415 -0.28410704 -0.11970027\n",
      " -0.01840374 -0.019524   -0.13826093  0.01070248 -0.16610017 -0.13586811\n",
      " -0.01124415  0.02875585  0.04267431 -0.21542709  0.38220571  0.02173907\n",
      " -0.06837832 -0.09784136 -0.41542709 -0.09586811  0.03329666 -0.09826093\n",
      " -0.17542709]\n",
      "Score for training for iteration 29 is 0.864752574122097\n",
      "Score for testing for iteration 29 is 0.9263307906092784\n",
      "Training time: 0:00:52.059982\n",
      "\n",
      "\n",
      "[-0.40043027 -0.24486941 -0.25909379 -0.36465335 -0.37764475 -0.05744152\n",
      "  0.33695221 -0.04511566 -0.11077978 -0.15176239 -0.28619648 -0.36043027\n",
      " -0.20044596 -0.20013361  0.18431439 -0.10297293 -0.3067987  -0.34099453\n",
      " -0.28920867  0.29900547 -0.39186554  0.41643367  0.02617845 -0.43709104\n",
      " -0.370846    0.36578998 -0.45764475 -0.30013993 -0.27135811 -0.38622258\n",
      " -0.42257843  0.11616904 -0.44121047  0.10416225 -0.06396095 -0.07497348\n",
      " -0.09555366 -0.48524896 -0.20713586 -0.09749927 -0.47763168 -0.40684998\n",
      " -0.41372265 -0.21764475 -0.36013862 -0.43787687  0.33603905  0.22255848\n",
      " -0.56814097  0.28707649  0.25900547 -0.35621351 -0.20715903 -0.0023799\n",
      " -0.25764475 -0.25879568 -0.43945699 -0.41147219 -0.21163735 -0.32243743\n",
      " -0.1611842  -0.33716688]\n",
      "Score for training for iteration 30 is 0.8527529385833266\n",
      "Score for testing for iteration 30 is 0.8118807683257909\n",
      "Training time: 0:00:50.938134\n",
      "\n",
      "\n",
      "[ 0.02953564 -0.10028657  0.18641985 -0.22311888 -0.20377385 -0.19033536\n",
      " -0.20619201 -0.03449288  0.06641985 -0.19973095 -0.07173183 -0.20107657\n",
      " -0.04248146 -0.11239022 -0.04876197  0.04084216 -0.10965689  0.26641985\n",
      " -0.12619201 -0.11230195  0.02879566 -0.04664615 -0.00248146 -0.15973095\n",
      "  0.00084216 -0.13861185 -0.16248146  0.10641985  0.41349891 -0.01358015\n",
      " -0.20834664 -0.23416393 -0.07239022 -0.23156974 -0.02402461 -0.07689725\n",
      " -0.03689725  0.22641985 -0.01120434 -0.00426688 -0.08664615 -0.02418355\n",
      " -0.07230195 -0.40619201 -0.10264543  0.02641985 -0.24619201 -0.08619201\n",
      " -0.32619201  0.16084216  0.00310275  0.00550712 -0.14939681  0.14641985\n",
      " -0.16619201 -0.36619201 -0.14028657  0.01581645 -0.14965689 -0.28619201\n",
      " -0.07070439 -0.05651878]\n",
      "Score for training for iteration 31 is 0.8559483962006101\n",
      "Score for testing for iteration 31 is 0.9484519303768674\n",
      "Training time: 0:00:51.406945\n",
      "\n",
      "\n",
      "[-1.08542241  0.36756712 -0.0263223   0.28495973 -0.36586282  0.36540987\n",
      " -0.40307251 -0.73987279 -0.98222085 -0.66279563 -0.06172099 -0.44928083\n",
      "  0.14004362 -0.85077114 -0.56566847 -1.14953973 -0.43386365  0.25405852\n",
      " -0.6534822   0.18775702  1.35983674 -0.29900165 -1.32936609 -1.22400859\n",
      " -0.26799542 -0.86564264 -0.23129111 -0.92926218 -0.34429819  0.76370668\n",
      " -0.16466209 -0.00220505  0.33508192 -1.05436663 -1.4912659  -0.72464338\n",
      " -1.19960748 -0.21533916 -0.95202083  0.45149759 -0.32586282 -0.94837306\n",
      " -1.32543938 -0.48129299  0.20408729 -0.44622219 -0.48878679 -0.75132574\n",
      " -0.96500979  0.62921543 -0.48640584  0.15070794 -0.81259228 -0.60650774\n",
      " -0.49640615  0.99952555 -1.36453178 -0.71658181  0.42818571 -1.46504004\n",
      " -0.69685638  0.60231981]\n",
      "Score for training for iteration 32 is 0.8734654846563366\n",
      "Score for testing for iteration 32 is -0.09457962287043942\n",
      "Training time: 0:00:51.738221\n",
      "\n",
      "\n",
      "[ 1.65684746  0.36143638 -0.59852484  1.20835461  0.01950117  0.50345749\n",
      "  1.09311419 -1.18199669  0.92521412  1.11285129  1.55295652  0.6572716\n",
      "  0.54877495  1.01837016  1.80451184  0.92306083  0.46345749  1.24835461\n",
      "  0.28143638  0.92792691 -0.28220779  1.58677063  0.40143638 -0.55409975\n",
      "  0.37165967  0.44143638  0.76876538 -0.38987744  1.42652093  0.8804113\n",
      " -1.30319631  0.67158372  0.97372012  1.14402596 -1.53374693 -1.33584804\n",
      "  0.97277511 -0.74293236 -0.56953048  0.32143638 -1.34264631 -1.57999659\n",
      "  0.65984303 -0.5457887   1.35192604  1.31192604 -1.07942443 -1.36766602\n",
      "  0.49775294 -0.49769944  0.46877495  1.02942077 -0.80936289 -1.54937175\n",
      "  0.54345749 -1.28239312 -0.68555411 -0.51419099  0.25361228 -1.43404259\n",
      " -1.23520924  1.19728406]\n",
      "Score for training for iteration 33 is 0.8656765745568448\n",
      "Score for testing for iteration 33 is -0.9598044659488842\n",
      "Training time: 0:00:53.099338\n",
      "\n",
      "\n",
      "[-1.39096485 -1.46538508 -0.14592947 -1.44731317 -0.22592947 -0.58592947\n",
      " -0.18592947 -1.36875537 -1.42024416 -0.06592947 -0.10592947  0.01407053\n",
      " -0.34592947 -1.5674881  -0.66592947 -1.58006479 -0.53137376 -0.90538508\n",
      " -0.42592947 -1.07457239 -0.54592947  0.25407053 -1.50625352 -0.74538508\n",
      " -1.47847999 -0.76379026 -0.02592947 -1.06538508 -1.57541277 -1.34826045\n",
      " -0.35356761 -0.88254926 -0.62592947  0.29407053 -1.63792015 -0.30592947\n",
      " -0.98538508 -1.02538508 -1.18362    -1.50362     0.13407053 -1.06001247\n",
      " -0.26592947  0.05407053 -1.50538508  0.21407053 -0.46592947 -1.18538508\n",
      " -0.70538508 -1.24420943 -0.50592947 -0.94538508 -1.56302538 -0.74892884\n",
      " -1.10001247 -1.11339121 -1.32960361  0.33407053  0.17407053  0.12872409\n",
      " -1.52591993]\n",
      "Score for training for iteration 34 is 0.8695937539646894\n",
      "Score for testing for iteration 34 is -0.9095734675362008\n",
      "Training time: 0:00:52.968186\n",
      "\n",
      "\n",
      "[ 0.14558277  0.45058319  0.08147986  0.18693195  0.17306803  0.16147986\n",
      "  0.37102137 -0.29306805  0.20644991  0.28475333 -0.17306805  0.28463554\n",
      "  0.15549696  0.16427801  0.13053293  0.32532104  0.11675751  0.3615745\n",
      " -0.25306805  0.08278132  0.03222046  0.18930549  0.21240844  0.18061618\n",
      "  0.0584842   0.21987291  0.05024983  0.02693195  0.14533152 -0.33306805\n",
      "  0.06396039  0.06171572  0.03785971  0.06693195  0.11972169  0.06625415\n",
      "  0.36532104  0.20791749  0.09104138 -0.05306805 -0.09306805  0.34615916\n",
      "  0.26106446  0.09306803  0.78302905  0.23897304 -0.21306805  0.15897304\n",
      "  0.10693195  0.19895858 -0.01306805  0.21306803  0.30693195  0.10880283\n",
      " -0.37306805  0.17127389 -0.13306805  0.09919145  0.28246951  0.14588069\n",
      "  0.24427801]\n",
      "Score for training for iteration 35 is 0.8433472433357114\n",
      "Score for testing for iteration 35 is 0.8943342454773767\n",
      "Training time: 0:00:53.240081\n",
      "\n",
      "\n",
      "[-0.09574054  0.09548479 -0.02044853  1.52895889 -0.01261063 -0.05958714\n",
      "  0.35576274 -0.070926   -0.06430442 -0.14777448 -0.03754017 -0.13889144\n",
      " -0.23420661 -0.13261063 -0.11280989 -0.11471921  0.78885095 -0.07812405\n",
      " -0.00996239 -0.07908161 -0.06682412 -0.05261063  0.05220568 -0.14682412\n",
      "  1.07288164 -0.08142167  0.57092301 -0.11614887 -0.05178081 -0.17261063\n",
      "  0.09458523 -0.12788314 -0.15280989 -0.07614887 -0.02055027  1.17283001\n",
      " -0.05316404 -0.31420661  0.02738937 -0.18777448 -0.13056227 -0.07252032\n",
      "  0.05548479 -0.19420661  0.43030819  0.06992851  0.06738937 -0.32529986\n",
      " -0.16447151 -0.16151739 -0.20151739 -0.09261063 -0.12353933 -0.01178081\n",
      "  0.03489578  1.58178765 -0.15677669 -0.09178081 -0.36970523  0.84193415\n",
      "  0.72927982 -0.37701601]\n",
      "Score for training for iteration 36 is 0.8616585958067566\n",
      "Score for testing for iteration 36 is 0.6557122650394904\n",
      "Training time: 0:00:53.239994\n",
      "\n",
      "\n",
      "[-0.40163697  0.3919151   0.30243967 -0.00163697 -0.16163697  0.35247679\n",
      "  0.23836303  0.32440885  0.19836303  0.11836303  0.23252136  0.16382442\n",
      "  0.41272997  0.18119452  0.36440885  0.1846142   0.1118014   0.31836303\n",
      "  0.19195091  0.45272997 -0.36163697  0.3482189  -0.08163697  0.25920558\n",
      "  0.22388603  0.27836303  0.28273123  0.26247422  0.33995084  0.11411813\n",
      "  0.25215153  0.4263299  -0.20163697  0.07836303 -0.24163697  0.35347362\n",
      "  0.34058012  0.39182131  0.30582195  0.31385089  0.44767275  0.11216485\n",
      "  0.3519151   0.35385089  0.03836303  0.19252136  0.29084947  0.19310729\n",
      "  0.08819487  0.23265951  0.38614777  0.15836303 -0.04163697  0.31885131\n",
      " -0.28163697  0.28141126  0.3110689   0.27282287  0.32103749 -0.12163697\n",
      " -0.32163697  0.18711274]\n",
      "Score for training for iteration 37 is 0.8662996025621255\n",
      "Score for testing for iteration 37 is 0.8490746636366524\n",
      "Training time: 0:00:52.016828\n",
      "\n",
      "\n",
      "[-0.42578445  0.21719995  0.07404579 -0.18831644  0.08050653 -0.17608685\n",
      " -0.15293793  0.09444001  0.11976588 -0.1275278   0.00706207  0.15958325\n",
      " -0.01617564  0.14626082  0.05498707  0.12957627  0.11416799 -0.08078646\n",
      " -0.04581023  0.15680424 -0.08980537  0.21061079  0.03181789  0.00299771\n",
      " -0.05617564 -0.05566931 -0.14578445  0.09562229  0.08974488  0.28023829\n",
      " -0.22578445 -0.03644753  0.14761859 -0.30578445  0.17745175 -0.12443656\n",
      "  0.15863814 -0.38578445 -0.01605759 -0.07463937 -0.26578445  0.17603304\n",
      " -0.08320377  0.24808351 -0.11293793 -0.34578445  0.09098466  0.17044987\n",
      "  0.33719995  0.29745175 -0.03293793  0.09057878  0.29719995 -0.03158709\n",
      "  0.05191016 -0.18578445 -0.06875647  0.04461676  0.14640566  0.00451404\n",
      " -0.07293793 -0.11072014]\n",
      "Score for training for iteration 38 is 0.8566212045606976\n",
      "Score for testing for iteration 38 is 0.9440444221872626\n",
      "Training time: 0:00:54.106583\n",
      "\n",
      "\n"
     ]
    },
    {
     "name": "stdout",
     "output_type": "stream",
     "text": [
      "[-1.12472201 -0.06628975 -0.67677218 -1.29825497 -1.62906124 -0.63677218\n",
      " -1.10117071 -0.60134544 -0.74682021  0.10738372 -1.55859293 -1.08472201\n",
      "  0.58391847 -0.48592824 -0.66875418 -0.85363018 -0.13076545 -0.26377929\n",
      " -1.51264832 -0.59426172  0.35527799 -0.47426172 -0.29698324 -0.69489184\n",
      "  0.50510816 -0.71677218 -0.43426172 -0.78060612  0.43418063 -0.01261628\n",
      " -0.89489184  0.05371025 -0.95699004 -0.74060612 -0.55426172 -0.88605394\n",
      " -1.04472201  0.3778106  -0.63426172 -0.83730796 -1.09371593 -1.06117071\n",
      " -0.22377929 -0.97442406 -0.39426172 -1.22949563 -0.54681588 -0.31426172\n",
      " -0.35426172 -0.68472201 -1.31390735 -1.172056   -0.73489184 -1.01371593\n",
      " -0.81363018 -0.77489184 -0.61283105 -0.51426172 -1.47264832 -0.05381338\n",
      " -0.33698324]\n",
      "Score for training for iteration 39 is 0.8607919317276709\n",
      "Score for testing for iteration 39 is -0.31922665263827543\n",
      "Training time: 0:00:52.267352\n",
      "\n",
      "\n",
      "[ 0.05616169 -0.08072531  0.10108011 -0.06991121 -0.42991121 -0.02991121\n",
      " -0.26991121 -0.03935585 -0.34991121 -0.11571034 -0.0875346   0.08226504\n",
      " -0.06496484  0.44433743  0.01485686 -0.04449721 -0.04977018 -0.10383831\n",
      " -0.05335514 -0.04242618  0.05008879 -0.15571034 -0.06124491  0.30121291\n",
      "  0.06967132  0.21917788 -0.06267889 -0.07935585 -0.03811242 -0.08549956\n",
      " -0.30991121  0.29819672 -0.02861614  0.01008879 -0.02204904 -0.38991121\n",
      "  0.09008879 -0.02383831  0.06108011  0.01616169 -0.00785984 -0.18991121\n",
      "  0.08835103  0.08174058 -0.08202228 -0.12202228 -0.07334035 -0.04736188\n",
      " -0.04085176 -0.14991121 -0.06294122  0.04273225 -0.09571156 -0.22991121\n",
      " -0.06383831  0.52735362 -0.10991121  0.09616169 -0.05571156 -0.02496484\n",
      " -0.01821502  0.13616169]\n",
      "Score for training for iteration 40 is 0.8521093961340743\n",
      "Score for testing for iteration 40 is 0.946519264062527\n",
      "Training time: 0:00:52.213342\n",
      "\n",
      "\n",
      "[ 0.30097055 -0.94054587 -1.13090987 -1.17104084 -0.57902945  0.06097055\n",
      " -0.21902945 -0.98907279 -0.17902945 -0.01902945  0.40717374 -1.29104084\n",
      "  0.31624353 -0.05902945 -1.37104084 -1.27176525 -1.1324187   0.10097055\n",
      " -1.21473922 -0.33902945 -1.09982521 -0.62961805 -1.03197081 -0.45902945\n",
      " -0.95130984  0.40869016 -1.41104084 -0.94826259 -1.16641652 -1.24763284\n",
      " -0.53902945 -1.39433798 -0.25902945 -0.33104084 -0.13902945  0.22097055\n",
      " -1.21104084 -0.29902945  0.41173741  0.02097055 -1.17902945 -0.61902945\n",
      "  0.34097055  0.3157488  -0.41902945 -1.05902945 -1.09902945 -0.39847933\n",
      " -1.01902945 -0.56590952 -0.99130984 -0.49902945 -1.31176525  0.26097055\n",
      " -1.33104084  0.18097055 -1.25104084  0.14097055 -1.13902945 -0.09902945\n",
      "  0.36869016 -1.21791516]\n",
      "Score for training for iteration 41 is 0.8636980946449733\n",
      "Score for testing for iteration 41 is -0.34264551111342745\n",
      "Training time: 0:00:52.192389\n",
      "\n",
      "\n",
      "[-0.12690882  0.01834153 -0.0136173  -0.19876834  0.76591713  0.25331021\n",
      " -0.09211545 -0.02210729 -0.64565731 -0.27064314 -0.00672551 -0.11271064\n",
      " -0.23064314 -0.05356437 -0.04162247 -0.11064314 -0.02768917  0.09353621\n",
      " -0.03064314  0.05405439 -0.04672551 -0.05597694  0.20959967 -0.09693817\n",
      " -0.02660163  0.18731828 -0.10855325  0.13720677 -0.15064314  0.17216014\n",
      "  0.01216014 -0.07064314 -0.00864921 -0.04464304  0.60180932 -0.03357499\n",
      "  0.21592271 -0.31064314 -0.13736838 -0.01003564 -0.35064314  0.09133259\n",
      "  0.0842472   0.50528221 -0.0953016   0.09186621  0.00218719  0.07480657\n",
      "  0.09329491  0.03615683 -0.15504459 -0.13399781  0.93806169  0.13844195\n",
      " -0.19064314 -0.07919464  0.80591713  0.55563142 -0.39064314 -0.14403469\n",
      " -0.06558042  0.54528221]\n",
      "Score for training for iteration 42 is 0.8668473269927421\n",
      "Score for testing for iteration 42 is 0.8471469913269987\n",
      "Training time: 0:00:51.980404\n",
      "\n",
      "\n",
      "[-0.15691261 -0.15677366  0.30442359  0.14464208 -0.14047748  0.63921867\n",
      " -0.33730371  0.67921867 -0.25693517  0.17396642  0.17177535 -0.13844634\n",
      "  0.39738613 -0.08203231  0.06937955  0.38859686  0.1871155   0.12909755\n",
      "  0.49178594  0.02221187  0.71921867  0.57312771 -0.00969664  0.29239019\n",
      "  0.33064566  0.27402668 -0.143411    0.25062476  0.39089144  0.66724205\n",
      " -0.05129355  0.18910121  0.17757148  0.25792141 -0.36087081  0.08223489\n",
      "  0.27403862  0.25914481  0.83972529  0.3483433   0.32229427  0.08537348\n",
      " -0.07951447 -0.15468389  0.36535065  0.21396642  0.30426081 -0.45281798\n",
      "  0.22839656  0.27338944 -0.33129355  0.12223489  0.16223489 -0.28287169\n",
      " -0.2035236   0.20122494  0.26442359 -0.61831115  0.27576015  0.37809209\n",
      " -0.29129355]\n",
      "Score for training for iteration 43 is 0.8697336510326062\n",
      "Score for testing for iteration 43 is 0.7759378985381403\n",
      "Training time: 0:00:52.068812\n",
      "\n",
      "\n",
      "[ 0.27057442  0.25965035 -0.27298235  0.17625679 -0.09863445  0.36698893\n",
      " -0.37752255  0.02338383 -0.01863445 -0.35258952  0.47638304 -0.23298235\n",
      " -0.31258952 -0.29752255  0.18565236 -0.29863445 -0.33752255 -0.25752255\n",
      "  0.09808959 -0.33863445 -0.03402406 -0.27258952 -0.33403579 -0.35298235\n",
      " -0.05863445 -0.10885041 -0.37863445  0.24680865  0.19081368  0.28680865\n",
      " -0.23264331 -0.26895433 -0.25863445 -0.05661617  0.14753773  0.10338383\n",
      "  0.57494671 -0.19402406 -0.21863445 -0.08856388 -0.17863445 -0.41752255\n",
      " -0.41863445  0.01808959 -0.13459847  0.18445481 -0.13863445 -0.33461804\n",
      " -0.25690224 -0.0919182  -0.0519182  -0.27238374 -0.23258952 -0.27264331\n",
      " -0.23238374 -0.31238374 -0.0099495  -0.31298235  0.10753773  0.05808959\n",
      " -0.32503403  0.12867559]\n",
      "Score for training for iteration 44 is 0.8546978410287551\n",
      "Score for testing for iteration 44 is 0.8713065107016718\n",
      "Training time: 0:00:52.247346\n",
      "\n",
      "\n",
      "[ 0.1412657  -0.3083539  -0.0958696  -0.25935887 -0.43668748 -0.18170842\n",
      " -0.16260672 -0.3126175  -0.2894651  -0.40874573 -0.01915138 -0.46415159\n",
      " -0.34698795 -0.15558328  0.0166058  -0.3926175   0.13133107 -0.41761188\n",
      " -0.27414582 -0.2410591  -0.10229351 -0.06283394 -0.44080659 -0.14229351\n",
      " -0.43675969 -0.29935887  0.59213193  0.43945388  0.0703995  -0.09187233\n",
      " -0.16682738  0.10140895 -0.13187233 -0.42664378 -0.4307728   0.29648557\n",
      " -0.40080659 -0.41105799 -0.39675969  0.02483331 -0.21935887 -0.2726175\n",
      " -0.3526175   0.12470643 -0.28866139 -0.46946247 -0.23501231 -0.42415159\n",
      " -0.41967842 -0.38415159 -0.00376168 -0.37105799 -0.38715257  0.60188733\n",
      " -0.22282836 -0.10864451 -0.08370118 -0.0524064  -0.42604919 -0.10418238\n",
      " -0.2010591  -0.38604919]\n",
      "Score for training for iteration 45 is 0.8660447443993049\n",
      "Score for testing for iteration 45 is 0.8135623110220231\n",
      "Training time: 0:00:52.226525\n",
      "\n",
      "\n",
      "[-0.19125129  0.00057687 -0.01154717 -0.04270329 -0.04049502  0.01994604\n",
      "  0.12874871 -0.39125129  0.02631134 -0.08270329  0.0144286   0.26296901\n",
      " -0.11125129  0.15416272  0.00874871  0.00682067  0.02944647  0.22296901\n",
      " -0.03469333 -0.35125129  0.10296901 -0.04968672 -0.27125129 -0.07515552\n",
      "  0.05212222 -0.02935451  0.04874871  0.04682067  0.18296901  0.00920989\n",
      " -0.06867556  0.04230848 -0.31125129  0.16874871  0.0544286  -0.05368866\n",
      " -0.03125129  0.34944647 -0.07125129 -0.02934481  0.06296901 -0.0408877\n",
      "  0.02296901  0.00776721  0.14296901 -0.01368866 -0.05977102 -0.43125129\n",
      "  0.05451337 -0.01594345  0.04288544  0.03226489 -0.15125129  0.08874871\n",
      " -0.00270329  0.02429776 -0.23125129  0.08971318 -0.03079011 -0.01570224\n",
      "  0.11107045]\n",
      "Score for training for iteration 46 is 0.8552927471604422\n",
      "Score for testing for iteration 46 is 0.9594062883592774\n",
      "Training time: 0:00:52.639578\n",
      "\n",
      "\n",
      "[-0.12121926 -0.12826817 -0.34440631 -0.26215327 -0.04201381 -0.21056195\n",
      " -0.28445889  0.66458386 -0.08617578  0.01942875 -0.0320127   0.01785294\n",
      " -0.13335973 -0.18215327 -0.10214706 -0.14214706 -0.0692405   0.89324576\n",
      "  0.47972295 -0.00201381 -0.05706854  0.09785294  0.05785294 -0.16445889\n",
      " -0.05459421 -0.01459421 -0.06214706 -0.20121926 -0.15086672 -0.12617578\n",
      " -0.06962698 -0.17981941 -0.18214706 -0.02057125 -0.20445889 -0.16826817\n",
      " -0.20826817 -0.16121926 -0.09459421 -0.24445889 -0.38440631 -0.08396253\n",
      " -0.08201381 -0.203176   -0.36617578 -0.07548759 -0.16030139 -0.02214706\n",
      " -0.19294837 -0.08121926  0.49446394 -0.24121926 -0.18628152 -0.1765392\n",
      " -0.25739925 -0.12445889  0.11463156  0.13760928 -0.22215327 -0.15120831\n",
      " -0.18910722 -0.16676173]\n",
      "Score for training for iteration 47 is 0.8499685872565937\n",
      "Score for testing for iteration 47 is 0.894552064341295\n",
      "Training time: 0:00:51.527369\n",
      "\n",
      "\n",
      "[ 0.09038051  0.02700483  0.12875151  0.24451504  1.06186408  0.94607447\n",
      " -0.01013103  0.17911002  0.68231035  0.04596349  0.77297865 -0.1737364\n",
      " -0.34961949 -0.56018971  1.11644703 -0.13161361 -0.20370092  0.39130682\n",
      "  0.6651961   0.96496649 -0.42961949 -0.10961949  0.35422573 -0.41807476\n",
      " -0.1739322  -0.05241394 -0.08008864 -0.02961949  0.00757547  0.20683131\n",
      "  0.38168756  0.12263997  1.34905421  0.27091941  0.45013714  0.16945939\n",
      " -0.23228393 -0.02233689  0.78811895 -0.09453673  0.69392334 -0.0937364\n",
      "  0.09125107 -0.18961949  0.76513617  0.11119143 -0.1233665   0.01038051\n",
      " -0.01799751  0.16465235  0.63362929  1.01321374  0.33734874 -0.00880857\n",
      " -0.13509697 -0.38961949 -0.2922945   0.28879116  1.17990889 -0.05145866\n",
      " -0.76223912 -0.06961949]\n",
      "Score for training for iteration 48 is 0.8575918257073538\n",
      "Score for testing for iteration 48 is 0.5250024872806003\n",
      "Training time: 0:00:51.640263\n",
      "\n",
      "\n"
     ]
    },
    {
     "name": "stdout",
     "output_type": "stream",
     "text": [
      "[ 0.30331921  0.0432618   0.03645576  0.10685784 -0.07585773 -0.23585773\n",
      "  0.09468829  0.31075627  0.678607    0.42331921  0.43860758  0.53209044\n",
      "  0.37702869  0.07645576  0.04414227  0.31107801  0.57209044  0.0032618\n",
      "  0.09514073  0.3787166   0.06685784  0.03568847  0.32410419  0.00449006\n",
      "  0.14685784  0.18685784  0.3049385  -0.43585773  0.00414227  0.46331921\n",
      "  0.37304571 -0.10400278 -0.0367382   0.47860758  0.49304571 -0.05680713\n",
      "  0.0323597   0.19514192 -0.15585773 -0.03585773  0.34331921  0.47811848\n",
      "  0.02685784 -0.27585773  0.08682626 -0.09680713 -0.31585773 -0.39585773\n",
      "  0.12682626 -0.00567559 -0.35585773  0.16171485 -0.19585773  0.23446088\n",
      " -0.11585773  0.56458726 -0.14400278  0.15849871  0.20171485  0.39498353\n",
      "  0.08414227  0.62697102]\n",
      "Score for training for iteration 49 is 0.8621915891763194\n",
      "Score for testing for iteration 49 is 0.8298519277623919\n",
      "Training time: 0:00:52.060522\n",
      "\n",
      "\n",
      "[ 0.16508101 -1.22124685  0.20508101  0.27834928  0.29438344  0.22389376\n",
      "  0.23834928  0.20837853 -0.00171223 -0.68120468 -0.02410176 -0.487106\n",
      " -0.09905904 -0.3201872   0.25499501  0.30681151  0.05575571  0.19834928\n",
      "  0.1248303   0.13946074 -1.52776895 -0.9663423   0.42893491  0.19117289\n",
      "  0.26681151  0.10364102  0.14546663  0.12576504 -0.33832882 -0.08095216\n",
      "  0.20525106 -1.56934293  0.21343292 -0.64886302  0.06132578  0.26490892\n",
      " -0.65573796  0.21664898  0.21758508 -0.07672667 -0.04648909  0.22900368\n",
      "  0.25438344 -1.46770052 -0.33167623  0.02296218 -1.65896399 -1.32906399\n",
      " -0.1014135  -0.35555604 -0.11736701  0.04109344  0.05561218  0.13758508\n",
      "  0.24837853 -0.06356782  0.08732204  0.13718993  0.26389376  0.12956638\n",
      "  0.14364102]\n",
      "Score for training for iteration 50 is 0.8505813505436444\n",
      "Score for testing for iteration 50 is 0.4214002702900379\n",
      "Training time: 0:00:52.407694\n",
      "\n",
      "\n",
      "[ 0.02088547 -0.21872258  0.47280961  0.02806336  0.06806336 -0.05872258\n",
      " -0.00453295  0.31049469  0.10088547  0.10781384 -0.08453295  0.10127742\n",
      " -0.09506797 -0.01193664  0.08035822  0.25318665  0.06781384  0.17022756\n",
      "  0.19483185  0.07427635 -0.01506797  0.12380087  0.21022756  0.1434229\n",
      "  0.08991094  0.14806336  0.02127742  0.22127742  0.23628324  0.21827235\n",
      " -0.09239614 -0.29872258 -0.04445717  0.18866755 -0.25872258  0.14088547\n",
      " -0.17872258  0.10806336  0.14781384  0.18127742  0.19433227 -0.33872258\n",
      " -0.05506797  0.06127742  0.60551322  0.26127742  0.06088547 -0.09872258\n",
      " -0.37872258  0.14127742 -0.00445717  0.43888845 -0.02555626 -0.01872258\n",
      "  0.03304506 -0.13872258  0.02493203  0.22109062  0.02781384 -0.04453295\n",
      " -0.41872258 -0.0433287 ]\n",
      "Score for training for iteration 51 is 0.8497758134693834\n",
      "Score for testing for iteration 51 is 0.9253581075795208\n",
      "Training time: 0:00:51.912408\n",
      "\n",
      "\n",
      "[ 0.06902194 -0.04206356 -0.20940414  0.28805669  0.20477499  0.05298512\n",
      " -0.1358029   0.17637507 -0.28940414  0.0677024  -0.31137665  0.00458459\n",
      "  0.07684699  0.00714988  0.0287147  -0.24940414  0.25302104  0.13494102\n",
      "  0.10179959 -0.01369127  0.09758153  0.02902194  0.14179959  0.0262485\n",
      "  0.20449814  0.14148092  0.07059586  0.01456753  0.06361795  0.02214099\n",
      " -0.08940414 -0.12940414 -0.03517416 -0.03028556  0.14110823  0.10950477\n",
      "  0.18642658  0.05828592  0.03059586  0.16449814  0.17022708  0.2405695\n",
      "  0.09659374 -0.27137665 -0.16940414  0.24805669  0.07203218  0.13717035\n",
      " -0.03541541  0.21637507 -0.37274368  0.2005695   0.32805669  0.00971444\n",
      "  0.05858671  0.09303144 -0.00940414  0.14902194  0.10902194 -0.35137665\n",
      " -0.04940414  0.18197355]\n",
      "Score for training for iteration 52 is 0.8550685910574081\n",
      "Score for testing for iteration 52 is 0.9487954515809895\n",
      "Training time: 0:00:52.019172\n",
      "\n",
      "\n",
      "[ 0.0025699  -0.34283496  0.28964276  0.0130891   0.11568584  0.18230547\n",
      " -0.38283496  0.07261424 -0.42283496  0.0087878   0.11702003  0.1189542\n",
      "  0.00658297 -0.15432776  0.02539652 -0.08388084  0.06322878 -0.22283496\n",
      " -0.02109662 -0.10616173 -0.06721129  0.34230547 -0.08874678  0.07833935\n",
      " -0.07481185  0.00766697 -0.0280547   0.07729859  0.00356806 -0.03114931\n",
      " -0.06283496 -0.11306087  0.07723705  0.04356806 -0.10520926 -0.27935737\n",
      "  0.12530965  0.31146291 -0.15446881 -0.26283496 -0.05132848 -0.14283496\n",
      "  0.35125322 -0.05029413  0.15889821  0.03257651  0.02853863  0.03153051\n",
      " -0.07205514  0.07903797 -0.18283496 -0.02177613 -0.15068729 -0.28354483\n",
      "  0.00791848  0.07069011 -0.10283496  0.07922576 -0.30283496 -0.05605868\n",
      " -0.04595722 -0.02283496]\n",
      "Score for training for iteration 53 is 0.8551233004370747\n",
      "Score for testing for iteration 53 is 0.9490994317945074\n",
      "Training time: 0:00:51.415237\n",
      "\n",
      "\n",
      "[ 0.27854371  0.24024608  0.27582072  0.13889572  0.05105261  0.01105261\n",
      "  0.25105261  0.24083617 -0.02894739  0.27418206  0.21889572  0.39818015\n",
      "  0.26435106 -0.42894739  0.13940848  0.45513286  0.23936866  0.17105261\n",
      "  0.20717651  0.0992557   0.38405411  0.15373178  0.40335849  0.21940848\n",
      " -0.18894739  0.15085779  0.15113093  0.11113093  0.41856433  0.35023462\n",
      "  0.03955678  0.17889572  0.12422273  0.32070368  0.0592557   0.28208368\n",
      " -0.34894739  0.36205629 -0.22894739  0.17940848  0.16927517 -0.14894739\n",
      "  0.32701155 -0.06894739  0.26078848  0.46741002  0.22435106  0.13755896\n",
      " -0.30894739  0.18417629  0.12927517  0.21105261 -0.10894739  0.11085779\n",
      " -0.26894739  0.14744598 -0.38894739  0.09105261  0.13105261  0.33028055\n",
      "  0.29105261]\n",
      "Score for training for iteration 54 is 0.8502254067325303\n",
      "Score for testing for iteration 54 is 0.874397489564819\n",
      "Training time: 0:00:51.491409\n",
      "\n",
      "\n",
      "[ 0.05961374  0.18526119 -0.00892798  0.22706368  0.12008298  0.56633451\n",
      "  0.19729753  0.10695058  0.49598321  0.22496124 -0.28892798  0.08267236\n",
      "  0.7712428   0.84871557 -0.40892798 -0.12892798  1.04216166  0.77084801\n",
      "  0.31129062  0.61158477  0.20806642  0.95972613  0.20103798  0.23414532\n",
      "  0.18621171  0.16810071  0.23642729  0.27965568  0.1153082  -0.24892798\n",
      " -0.16892798  0.70347456  0.23396647  0.02330255  0.26385543  0.14938263\n",
      " -0.08892798  0.23551547  0.47830653  1.30829249  0.03107202  0.19764457\n",
      "  0.81063239  0.27455681  0.07107202  0.10327185 -0.32892798  0.12784019\n",
      "  0.11107202 -0.36892798  0.39311253  0.59522357  0.7586586   0.30982849\n",
      "  0.02949039  0.47516395 -0.20892798  0.38450943 -0.04892798  0.11119542\n",
      "  0.021165    0.16057054]\n",
      "Score for training for iteration 55 is 0.8494414977627268\n",
      "Score for testing for iteration 55 is 0.6468468490401131\n",
      "Training time: 0:00:52.643736\n",
      "\n",
      "\n",
      "[-1.32382456  0.13931895  0.18796989 -0.97547315  0.39189601  0.41788313\n",
      "  0.02452685  0.27779816 -0.56746633 -1.33547315 -0.01547315  0.05846604\n",
      "  0.74770594  0.50061402  0.12045322  0.17846604  0.45092022 -0.14616132\n",
      "  0.08358104 -1.13547315  0.06950912  0.25802794 -0.00906695  0.41193972\n",
      " -0.85547315 -1.37547315 -1.09547315 -1.20140124 -0.04461372  0.00438164\n",
      " -0.03503614  0.12358104 -1.32647829  0.09846604  0.14857717 -1.29547315\n",
      " -1.05547315 -0.81547315 -1.41547315  0.185485   -1.25547315 -0.89547315\n",
      " -0.05547315  0.00609814 -1.23930204 -1.24140124 -1.42512099 -0.62771254\n",
      "  0.09967873 -0.09547315  0.00358104  0.13846604  0.26536075 -1.46872175\n",
      " -0.93547315 -1.20483613 -0.00284056 -1.01547315  0.01846604 -0.88558482\n",
      "  0.27100048 -0.02439626]\n",
      "Score for training for iteration 56 is 0.844527761132952\n",
      "Score for testing for iteration 56 is -0.09635581121430392\n",
      "Training time: 0:00:53.213266\n",
      "\n",
      "\n",
      "[ 0.04519328  0.14343269  0.02490719 -0.01509281  0.1663795   0.01961433\n",
      " -0.31846289  0.08462908  0.6212961   0.06490719  0.08004864  0.06316784\n",
      "  0.09238218  0.25186658  0.06891481  0.08519328 -0.39846289  0.00692042\n",
      "  0.04698297  0.01170815  0.03127082  0.09461258 -0.11480672  0.05067065\n",
      " -0.73928811  0.10490719  0.41767988  0.01453901 -1.37994973  0.08698297\n",
      "  0.21190776  0.46802875  0.2617524  -0.03480672  0.1747476   0.08263415\n",
      "  0.13238218  0.25604257  0.04257117 -0.07480672 -0.03301703 -0.35846289\n",
      "  0.28649277  0.16437054  0.09067065  0.13196642 -0.27480672  0.12004864\n",
      "  0.46511296  0.08050561  0.19679921  0.00519328  0.10343269  0.13011217\n",
      "  0.00747157  0.06602789  0.23648729  0.13067065  0.17878447  0.37785586\n",
      "  0.00698297]\n",
      "Score for training for iteration 57 is 0.8508447099087524\n",
      "Score for testing for iteration 57 is 0.840270180173245\n",
      "Training time: 0:00:52.193093\n",
      "\n",
      "\n",
      "[-1.64047190e+00 -1.77875242e+00 -2.13259226e-01  6.35235330e-01\n",
      " -9.39641521e-01 -1.76339799e+00 -8.66735927e-01 -1.54679029e+00\n",
      " -1.22756900e+00  7.95281043e-02 -1.57050838e+00 -5.47148294e-01\n",
      " -1.38756900e+00 -2.11515819e-01 -7.04813725e-01  7.32863461e-02\n",
      " -4.71895708e-04 -1.65944330e+00 -1.56047190e+00 -4.04718957e-02\n",
      " -2.52358984e-01  1.32301124e-01 -1.05964152e+00 -8.66935987e-01\n",
      " -1.60047190e+00 -1.17964152e+00 -1.99762880e-01 -1.92544418e-01\n",
      "  4.47916195e-01 -1.68622821e+00 -1.81614952e+00 -1.76389818e+00\n",
      " -1.58266155e+00 -4.26739878e-01 -1.48047190e+00  3.95281043e-02\n",
      " -1.13964152e+00 -8.40167547e-01 -2.91515819e-01 -1.52047190e+00\n",
      " -8.99641521e-01  3.01878501e-01 -1.73875242e+00  4.78502807e-01\n",
      " -2.51515819e-01 -5.35676169e-01 -1.30756900e+00 -1.21964152e+00\n",
      " -6.68557357e-01 -1.97071266e+00 -8.53067159e-01 -1.26756900e+00\n",
      " -1.40047190e+00 -1.44047190e+00  3.54623386e-01 -9.79641521e-01\n",
      " -1.20471896e-01 -8.04718957e-02 -1.34756900e+00 -1.09964152e+00\n",
      " -1.01964152e+00 -3.18584505e-01]\n",
      "Score for training for iteration 58 is 0.8669850349544475\n",
      "Score for testing for iteration 58 is -1.3223321305362261\n",
      "Training time: 0:00:52.900361\n",
      "\n",
      "\n"
     ]
    },
    {
     "name": "stdout",
     "output_type": "stream",
     "text": [
      "[-0.0576946  -0.00908568 -0.26253156 -0.0176946   0.06259426  0.01909008\n",
      " -0.0674333   0.12487873 -0.13045473  0.08787457  0.12787457  0.02999222\n",
      " -0.06047381 -0.01275858  0.73419717  0.09240612  0.42573172  0.02777323\n",
      " -0.02332798  0.02051318 -0.01045473  0.41673863  0.29270775 -0.01740574\n",
      " -0.04943773  0.02954527  0.00524151 -0.09785507 -0.01948682  0.06207091\n",
      "  0.10207091 -0.05045473  0.3872005  -0.09045473  0.29738928 -0.34253156\n",
      "  0.01667202 -0.05785507  0.41789028  0.09909008  0.04527952  0.11355281\n",
      " -0.14253156 -0.18253156  0.05240612  0.00106314  0.13240612 -0.38253156\n",
      "  0.60315798  0.20709719  0.00856005 -0.30253156  0.01240612  0.22180211\n",
      "  0.07355281 -0.22253156  0.04905768  0.05909008  0.22362163  0.03386501\n",
      " -0.02047381  0.02259426]\n",
      "Score for training for iteration 59 is 0.8546879733860094\n",
      "Score for testing for iteration 59 is 0.9178119321717179\n",
      "Training time: 0:00:52.959687\n",
      "\n",
      "\n",
      "[-0.26942815 -0.01799903 -0.08421686  0.20717049 -0.05546591 -0.01399162\n",
      "  0.34422404 -0.03253809  0.05983532 -0.05115851 -0.00692336 -0.09136219\n",
      " -0.17750695  0.37588638 -0.12819908 -0.00144509 -0.16802596  0.76400226\n",
      "  0.05710138  0.070475   -0.06955178 -0.56740894  0.51942294  0.16302752\n",
      "  0.04683277  0.25197554  0.00746191  0.2394074  -0.21115851  0.10223389\n",
      " -0.00786456  0.12920673 -0.61082503  0.62571215  0.06172131 -0.01115851\n",
      "  0.17753201 -0.25115851 -0.07949403 -0.2512233  -0.37115851  0.0285391\n",
      "  0.68688753  0.21214703 -0.01383724 -0.05154617 -0.46887316  0.07426439\n",
      " -0.49673939 -0.08208035  0.02512944 -0.10955178 -0.03013612  0.08134221\n",
      "  0.12134221  0.50704747  0.7680884   0.28584693 -0.17115851  0.03939151\n",
      "  0.52446217  0.02600838]\n",
      "Score for training for iteration 60 is 0.8629609004667644\n",
      "Score for testing for iteration 60 is 0.8354466143705052\n",
      "Training time: 0:00:53.243344\n",
      "\n",
      "\n",
      "[ 0.3302441   1.86749562  0.61232516  0.06045274  0.3498099  -0.1317267\n",
      "  0.00481131 -0.15518869  0.07197606  0.21175297  0.72440006 -0.42691053\n",
      "  0.6256449   0.54294004  0.05757157  0.920945    1.62993596 -0.14691053\n",
      "  0.47300447 -0.10691053  1.03947469  0.41502317  0.32708186  0.01308947\n",
      "  1.52272591  1.63120991  1.63003112  0.82787337  0.30891324  0.11197606\n",
      "  0.199146    0.39541817  0.3513478   0.50223508  0.40357774  0.74305055\n",
      "  0.21308947  0.04481131  0.12448139 -0.07905527 -0.27518869 -0.31518869\n",
      " -0.44728409  0.32304427  1.6667278   0.84240605  0.18455504  0.29863297\n",
      "  1.50924843 -0.38278245  0.57018633 -0.11518869  0.76816148  1.07591258\n",
      " -0.23518869  0.82651591 -0.05783948  0.76683434  0.20771538  0.3043817\n",
      "  0.23295083  0.08532172]\n",
      "Score for training for iteration 61 is 0.8603897707851584\n",
      "Score for testing for iteration 61 is 0.03613839795326845\n",
      "Training time: 0:00:52.833684\n",
      "\n",
      "\n",
      "[ 0.11347595  0.10736696  0.399085    0.37760675  0.09488532 -0.23832822\n",
      "  0.11445424  0.26614908  0.31234302  0.23731543  0.01187829  0.03105783\n",
      "  0.25406935  0.08167178  0.154363   -0.07832822  0.24421354  0.06165533\n",
      " -0.35832822  0.04167178  0.17491335  0.12167178  0.21491335 -0.15832822\n",
      "  0.16167178  0.19427598  0.31026258  0.10666445  0.27413913 -0.39832822\n",
      " -0.31832822  0.16463975  0.18498641  0.14275201  0.11105523  0.10177019\n",
      "  0.24167178  0.1599537  -0.11832822  0.40578185  0.20167178  0.09552535\n",
      "  0.22786715  0.11721196  0.23614249  0.23997409  0.28167178  0.38007623\n",
      "  0.23427598  0.03258615  0.00167178  0.03072627  0.04160194  0.39271588\n",
      "  0.32940986 -0.19832822 -0.03832822 -0.27832822  0.07105783  0.32422206\n",
      "  0.13828843  0.29133111]\n",
      "Score for training for iteration 62 is 0.8523948202085943\n",
      "Score for testing for iteration 62 is 0.9048588850085794\n",
      "Training time: 0:00:52.354156\n",
      "\n",
      "\n",
      "[-0.12309082  0.45011021  0.24049249  0.49598804  0.15168532  0.4300874\n",
      " -0.29641634  0.45953543 -0.25641634  0.30358366  0.04133095  0.32442337\n",
      "  0.29547545  0.4262564   0.26336989  0.51794593  0.29806282 -0.09641634\n",
      "  0.21820153  0.18358366  0.14358366  0.3575225   0.26026464 -0.21641634\n",
      "  0.08576521  0.22102713  0.41561107  0.4662564   0.18438579  0.35709573\n",
      "  0.34391672  0.53331847  0.38916044  0.34851467  0.37384719  0.34211232\n",
      "  0.49630125  0.40466919  0.39035835  0.25022895  0.26607522 -0.37641634\n",
      "  0.42916044 -0.05641634  0.32507136  0.00133095 -0.41641634  0.38650718\n",
      "  0.35889669 -0.33641634 -0.13641634  0.49409171  0.1537688   0.76924489\n",
      " -0.24309082  0.30395946  0.19749983 -0.17641634  0.3074134   0.39413966\n",
      "  0.41435727  0.17820153]\n",
      "Score for training for iteration 63 is 0.8677312477336507\n",
      "Score for testing for iteration 63 is 0.7755270480324267\n",
      "Training time: 0:00:52.679909\n",
      "\n",
      "\n",
      "[ 0.55123867  0.20783749 -0.38916534  0.17867085  0.09083466  0.07333685\n",
      "  0.05547083 -0.34916534  0.20506666  0.11273628  0.24165395  0.19078815\n",
      "  0.14888705  0.31816078  0.06051406  0.03008194  0.25725329  0.37075705\n",
      "  0.05083466 -0.22916534  0.14051406  0.08337152 -0.10916534  0.14697174\n",
      "  0.12845658  0.21083466 -0.18916534  0.16772202 -0.06916534  0.15516651\n",
      "  0.06356104  0.06697174  0.15324019  0.07220252  0.25083466  0.17735148\n",
      " -0.02916534  0.06021732  0.26999967  0.06217187  0.01083466 -0.42916534\n",
      "  0.24135067  0.08844687  0.17790371  0.50064947  0.10697174  0.04337152\n",
      "  0.06568252 -0.30916534 -0.26916534  0.06916099  0.09755357  0.07795172\n",
      "  0.32868186  0.13083466  0.38183315  0.3456813   0.09547083  0.17083466\n",
      " -0.14916534  0.2367308 ]\n",
      "Score for training for iteration 64 is 0.854987959033325\n",
      "Score for testing for iteration 64 is 0.9094128941557891\n",
      "Training time: 0:00:52.935450\n",
      "\n",
      "\n",
      "[ 0.00349071  0.4142061   0.57099028  0.60623814  0.53895351  0.36629951\n",
      "  0.34658196  0.64483103  0.37276109  0.56260394  0.16349071  0.38338878\n",
      "  0.35021746 -0.27650929  0.40833267  0.04349071  0.46291915  0.36349071\n",
      " -0.43650929 -0.1634246   0.08349071  0.46833033  0.26078361 -0.35650929\n",
      "  0.39500322  0.56143713  0.20349071  0.43285972  0.56349071 -0.2434246\n",
      "  0.32349071  0.54925786 -0.15650929 -0.39650929  0.43362042  0.47267193\n",
      "  0.23475623  0.12349071  0.5382144  -0.0434246   0.61835135  0.64527305\n",
      " -0.07650929  0.51569725  0.32159308  0.52612941 -0.19650929  0.49778583\n",
      "  0.38964906  0.56126944  0.41212434  0.19705505  0.51130743  0.33895351\n",
      "  0.45285606  0.44962906 -0.03650929  0.48882635  0.3276101   0.45410689\n",
      "  0.48929643  0.42183194]\n",
      "Score for training for iteration 65 is 0.8592731024089073\n",
      "Score for testing for iteration 65 is 0.6722141048497399\n",
      "Training time: 0:00:53.082005\n",
      "\n",
      "\n",
      "[ 0.3220869   0.15712005  0.34054448 -0.25867831 -0.41867831  0.31441799\n",
      " -0.13867831  0.32308034  0.28111247  0.20806762  0.1231015   0.0346495\n",
      " -0.37867831 -0.09867831  0.08825684 -0.03071637  0.32111247  0.04205686\n",
      "  0.06132169  0.00928363 -0.00888329  0.35441799  0.15290007  0.4088268\n",
      "  0.4020869   0.36111247 -0.05867831  0.19726092  0.04928363  0.2071525\n",
      "  0.4420869   0.04806762  0.35205412  0.39205412  0.02132169  0.19042952\n",
      "  0.24806762 -0.01867831  0.19712005  0.22608183  0.46302141  0.2471525\n",
      "  0.16806762 -0.21867831 -0.29867831  0.3620869   0.25355929 -0.33867831\n",
      "  0.33206712  0.43205412 -0.00655644  0.11042952  0.24111247  0.48045631\n",
      "  0.08806762  0.13766614  0.47205412  0.12806762  0.19344356  0.26695127\n",
      " -0.17867831  0.1146495 ]\n",
      "Score for training for iteration 66 is 0.8538477839908367\n",
      "Score for testing for iteration 66 is 0.8663155160916389\n",
      "Training time: 0:00:52.661908\n",
      "\n",
      "\n",
      "[-0.62669095 -0.61325865  0.2329557   0.3599221   0.29758911 -0.35759788\n",
      " -0.80013706  0.03421054 -0.28217349  0.41093051 -0.23700315  0.83383117\n",
      " -0.46085153  0.23066788 -0.21594596 -0.05064647 -0.24406097 -0.55255686\n",
      " -0.26724415  0.06728837 -0.42948371 -0.10445723 -0.25366068  0.2697155\n",
      "  0.29282721  0.51731177  0.63336143 -0.07003158  0.02752845  0.01638949\n",
      " -0.34075872 -0.07090623  0.08104261 -0.41999241 -0.12941629  1.14719094\n",
      "  0.44373726  0.41959504  0.1449001  -1.2286782   0.77583854 -0.10976176\n",
      " -0.24249596  0.81702767 -0.17888727 -1.23605488  0.25282721  0.81583854\n",
      "  0.4329557   0.82541508  0.1912932   0.27882401 -0.16066465 -0.45678202\n",
      "  0.29269307  0.19871769 -0.07704056 -0.15262244  0.13282721 -0.1162451\n",
      " -0.35774292 -0.14305213]\n",
      "Score for training for iteration 67 is 0.8568922783668556\n",
      "Score for testing for iteration 67 is 0.5788123406141126\n",
      "Training time: 0:00:54.173295\n",
      "\n",
      "\n",
      "[-0.21334257 -0.16357622  0.39027037  0.11257302 -0.10026949 -0.42410506\n",
      " -0.09579488 -0.34410506  0.15170354  0.26129092  0.67621063 -0.1318772\n",
      " -0.16560506  0.4020572  -0.16575249 -0.12108418  0.22129092 -0.00907115\n",
      "  0.45015957 -0.11264112 -0.14036057  0.35321211  0.04767651 -0.38410506\n",
      "  0.08603055 -0.13334257 -0.14410506 -0.18410506  0.03138972 -0.13454186\n",
      "  0.29334227 -0.03260475 -0.11092085 -0.16850252  0.33081603 -0.1718772\n",
      " -0.1906105   0.10501216 -0.01459123  0.69658814  0.03133591 -0.03264112\n",
      " -0.26410506  0.00735888 -0.06369906 -0.17264635  0.00257278  0.35968872\n",
      " -0.30410506 -0.1106105  -0.05043486 -0.13478216  0.07396949 -0.07264112\n",
      " -0.10410506 -0.0518772  -0.22410506  0.19184989  0.31246294  0.58969806\n",
      "  0.04257278  0.19991153]\n",
      "Score for training for iteration 68 is 0.8581261244428939\n",
      "Score for testing for iteration 68 is 0.8813906926328524\n",
      "Training time: 0:00:52.397589\n",
      "\n",
      "\n"
     ]
    },
    {
     "name": "stdout",
     "output_type": "stream",
     "text": [
      "[ 0.33332921 -0.10819976  0.13180024  0.03543553  0.37426179  0.57569064\n",
      "  0.52944052  0.48750933 -0.05717112 -0.06819976 -0.34819976  0.54914073\n",
      " -0.10468164  0.10445486  0.21820314  0.17128946 -0.42819976  0.03955719\n",
      " -0.02819976  0.35254168 -0.26819976  0.00815546  0.57081056  0.36485589\n",
      "  0.57857942 -0.38819976  0.22022922 -0.00990905  0.33228583  0.36494023\n",
      " -0.18819976  0.01180024  0.41378939  0.05180024  0.44377892  0.31995638\n",
      "  0.53434057  0.22619921 -0.13712937  0.10657283  0.09180024  0.09531836\n",
      "  0.54105439  0.01909574 -0.14090426  0.03579129  0.22351056 -0.03322676\n",
      " -0.14819976  0.20971324  0.54968625 -0.30819976  0.0681018   0.06649687\n",
      " -0.22819976  0.38338188  0.17249049  0.24483379  0.28886369  0.13749631\n",
      " -0.05143802  0.18468459]\n",
      "Score for training for iteration 69 is 0.8509842871023344\n",
      "Score for testing for iteration 69 is 0.8288423381116232\n",
      "Training time: 0:00:52.469520\n",
      "\n",
      "\n",
      "[ 0.37285669  0.68789807  0.11830322  0.30959524  0.28652159  0.31408778\n",
      " -0.28591222 -0.3861093   0.54537482  0.28645169 -0.12591222  0.44864711\n",
      "  0.39225998  0.38392571 -0.16591222  0.2055276  -0.32591222  0.45794469\n",
      "  0.2549308  -0.24591222  0.37956036  0.67819843  0.62061529  0.32636053\n",
      "  0.3578655   0.57013886  0.29956036  0.24946716  0.15408778 -0.04591222\n",
      "  0.58537482  0.19408778  0.11408778  0.07408778 -0.3061093  -0.08591222\n",
      "  0.27408778  0.30836484  0.28806439  0.90588637  0.4265638   0.39408778\n",
      " -0.00591222  0.60357422  0.03408778  0.41426632  0.37888052  0.16011781\n",
      "  0.50269329  0.52185308 -0.40591222  0.60618757 -0.1629223   0.6465245\n",
      "  0.23408778  0.19779175  0.69079079  0.25040306  0.29441648  0.90485161\n",
      "  0.34231918  0.47997818]\n",
      "Score for training for iteration 70 is 0.8627302827222109\n",
      "Score for testing for iteration 70 is 0.6765612707857429\n",
      "Training time: 0:00:52.345236\n",
      "\n",
      "\n",
      "[ 0.21342188  0.29192409  0.17713011  0.08635172  0.17384037  0.31842154\n",
      "  0.16635172  0.33304087  0.11944874  0.40687502 -0.06121268  0.17342188\n",
      "  0.33452912  0.22810122  0.29342188  0.28965495  0.23172847  0.23105642\n",
      "  0.3298642   0.26062    -0.18121268  0.23413116 -0.10121268 -0.42121268\n",
      "  0.3806411   0.38041575  0.05679181 -0.30121268  0.37622751  0.05878732\n",
      "  0.30439275 -0.38121268  0.34960502  0.19105642  0.17878732  0.49545563\n",
      "  0.27378315  0.39523691  0.01878732  0.56593323  0.13384037  0.04635172\n",
      "  0.08846194  0.09878732  0.13878732  0.3823126  -0.02121268  0.12635172\n",
      "  0.54937265  0.25342188 -0.14121268  0.30928573  0.18332258 -0.34121268\n",
      " -0.26121268 -0.22121268  0.26246037  0.18810122  0.20524448  0.33293777\n",
      "  0.26810122]\n",
      "Score for training for iteration 71 is 0.8629007922630852\n",
      "Score for testing for iteration 71 is 0.8480149487764836\n",
      "Training time: 0:00:52.745077\n",
      "\n",
      "\n",
      "[ 0.27280144  0.26567499 -0.27390411 -0.28101967 -0.15390411 -0.14840589\n",
      " -0.32101967  0.07709035 -0.16593664 -0.08461647  0.78065524 -0.1623729\n",
      " -0.15430566  0.12435281  0.36584434 -0.07930585 -0.15946951  0.00238449\n",
      " -0.2023729  -0.40101967 -0.03761551 -0.09297151 -0.1861087   0.02776846\n",
      " -0.00637898 -0.24101967  0.05218141  0.33799944 -0.14045211 -0.18295827\n",
      " -0.11430566 -0.17518768  0.04968665 -0.21876954 -0.11946951  0.085122\n",
      " -0.19390411 -0.01262934 -0.12461647  0.63136336  0.24312082 -0.23808195\n",
      "  0.38295416 -0.09262934 -0.04316831 -0.2227229  -0.16101967 -0.36101967\n",
      " -0.20101967 -0.02597381 -0.13118117 -0.1057805  -0.05262934 -0.1377939\n",
      " -0.01235904 -0.16046227  0.00097992 -0.12046227  0.40880919  0.57297142\n",
      "  0.05846831  0.07749157]\n",
      "Score for training for iteration 72 is 0.8575361182139379\n",
      "Score for testing for iteration 72 is 0.890227813458197\n",
      "Training time: 0:00:52.210196\n",
      "\n",
      "\n",
      "[ 0.31041895  0.01866932 -0.09909982  0.27264556 -0.02133068 -0.18122169\n",
      " -0.13699402  0.01218835 -0.15000656 -0.16417763 -0.06902527 -0.11413688\n",
      " -0.15928897 -0.17325193 -0.17135598 -0.18133068 -0.14795065  0.0241913\n",
      "  0.18686881  0.0015419  -0.08672405  0.35916198 -0.16296889  0.13549258\n",
      " -0.03500986 -0.13909982 -0.25325193 -0.07251134 -0.21325193 -0.16217259\n",
      " -0.12640113  0.16450146 -0.15413688 -0.29325193 -0.22122169 -0.00096628\n",
      " -0.15625705  0.27041895 -0.03747998 -0.15274041 -0.03598    -0.11312178\n",
      " -0.13325193 -0.05656902  0.40515578 -0.1142208  -0.01325193 -0.04984006\n",
      " -0.21135598 -0.11493317 -0.33325193 -0.04122437 -0.05325193  0.02674807\n",
      " -0.02225089 -0.09325193 -0.07493317 -0.17617866 -0.41325193 -0.15417212\n",
      " -0.37325193 -0.0384581 ]\n",
      "Score for training for iteration 73 is 0.8515197030463736\n",
      "Score for testing for iteration 73 is 0.9397891773324442\n",
      "Training time: 0:00:52.962668\n",
      "\n",
      "\n",
      "[ 0.11430088 -0.16816041  0.45252205  0.32761829 -0.1986065  -0.08560542\n",
      " -0.2386065   0.30884419  0.23854968 -0.1089803   0.33331163 -0.2543929\n",
      " -0.1489803  -0.12816041 -0.20816041  0.26667315  0.41482287  0.07555432\n",
      "  0.45302462 -0.1586065  -0.21877674 -0.27632583  0.02239789  0.19938904\n",
      "  0.31854968 -0.11748015 -0.36342306  0.32550809  0.23021137 -0.1186065\n",
      "  0.08195216  0.2417401  -0.33877674 -0.29877674 -0.12560542 -0.24916922\n",
      " -0.2943929   0.35854968 -0.0855443   0.12893018  0.16187647  0.27854968\n",
      " -0.32342306  0.15712714 -0.31030166  0.15430088  0.52591866  0.34059599\n",
      " -0.05946746  0.1032117   0.00855135  0.09673229  0.00702123 -0.2143929\n",
      " -0.2289803  -0.3343929  -0.2435159   0.37009902 -0.1889803  -0.25877674\n",
      " -0.08816041]\n",
      "Score for training for iteration 74 is 0.8524818852789023\n",
      "Score for testing for iteration 74 is 0.873881829771673\n",
      "Training time: 0:00:52.576339\n",
      "\n",
      "\n",
      "[ 0.10572112  0.0657338   0.07119126  0.03813674  0.09095231  0.01943188\n",
      " -0.36876604  0.05095231 -0.00186326  0.08907086 -0.04186326  0.07815825\n",
      " -0.20186326 -0.10910987 -0.06702542 -0.01490956  0.24907086  0.20907086\n",
      " -0.08186326  0.07813674 -0.1705627   0.07526426  0.00907086  0.28907086\n",
      "  0.03815825 -0.03092914  0.12907086 -0.24876604  0.18509044  0.04778737\n",
      "  0.07764588  0.01095231 -0.08166616  0.07168028 -0.017032   -0.10056812\n",
      "  0.10509044 -0.06056812  0.15168028  0.02509044 -0.32876604  0.04907086\n",
      "  0.19168028  0.07053214  0.20692361 -0.07092914  0.06873348  0.11168028\n",
      " -0.06910987 -0.28876604 -0.24186326 -0.01555448  0.06509044  0.06302311\n",
      " -0.16186326  0.16907086  0.14509044  0.02444552 -0.00184175 -0.00067907\n",
      " -0.02056812]\n",
      "Score for training for iteration 75 is 0.8596024215154672\n",
      "Score for testing for iteration 75 is 0.9632201515807872\n",
      "Training time: 0:00:53.076664\n",
      "\n",
      "\n",
      "[-0.23023713 -0.04222677 -0.35178475 -0.14014479 -0.15370307  0.26732606\n",
      " -0.17601489 -0.21028416 -0.16375245 -0.18817783 -0.1402567  -0.1390708\n",
      "  0.61653666 -0.33178502  0.30732606 -0.21422437  0.18732606 -0.1798942\n",
      " -0.17285001 -0.23500372 -0.28863438 -0.23388741 -0.37909803 -0.40208465\n",
      " -0.36525471 -0.28208465 -0.22994817 -0.19023713 -0.36208465  0.22732606\n",
      " -0.3690976   0.3100954  -0.34771369 -0.25198511 -0.24712957 -0.27023713\n",
      "  0.14732606  0.60331816 -0.26162783 -0.14726965 -0.20164401 -0.31026822\n",
      " -0.20712957 -0.35274031 -0.25414535 -0.19281456 -0.25200266 -0.14288721\n",
      " -0.25734468 -0.44208465 -0.23929873  0.03952898 -0.15682952 -0.16255646\n",
      " -0.23957197 -0.31312406 -0.31578565 -0.17620389 -0.16911762  0.57017698\n",
      " -0.18014479]\n",
      "Score for training for iteration 76 is 0.8543086602699224\n",
      "Score for testing for iteration 76 is 0.8432842504798054\n",
      "Training time: 0:00:50.481628\n",
      "\n",
      "\n",
      "[ 0.43644819  0.77858136  1.15140399  0.60793862  1.19812667  0.67757927\n",
      "  0.53247642  0.29858136  1.00044822  0.88495635  0.57247642  1.22444753\n",
      "  0.68871629  1.20916183  0.52969276  0.50971431  0.37858136  0.57053511\n",
      "  0.74050359  1.0661666   1.24933956  1.19140399  0.2161202  -0.33921731\n",
      "  1.18003357  0.22156416  0.78050359  0.0108999   1.01314339  0.49023447\n",
      "  0.96634409  0.86167628  1.16843754  0.21858136 -0.35813185 -0.20940268\n",
      " -0.24173271  0.33858136  0.04166359 -0.05921731  0.04260109 -0.46141864\n",
      "  0.02458937  1.32320888  0.05858136  0.25858136  0.45858136  0.93386975\n",
      "  1.15000799  1.33640536 -0.23519758  0.96994816  0.32152941  0.03066321\n",
      " -0.13385174  0.76280092  1.09885103  1.14692905 -0.23459149  0.53858136\n",
      "  0.71200545 -0.26806361]\n",
      "Score for training for iteration 77 is 0.8665509485255436\n",
      "Score for testing for iteration 77 is -0.07888786442679874\n",
      "Training time: 0:00:51.454403\n",
      "\n",
      "\n",
      "[ 0.32258005 -0.33620248  0.271744    0.48896276  0.06057917  0.23125605\n",
      " -0.29620248  0.37192389 -0.17620248 -0.01620248  0.311744    0.09336717\n",
      " -0.25620248  0.25542457  0.1439349   0.55598822  0.22779488  0.26379752\n",
      "  0.30930074  0.1720141   0.28464319  0.50058393  0.32236856  0.14379752\n",
      "  0.72490833  0.32464319  0.2678087   0.27965165  0.76628595 -0.09620248\n",
      "  0.06379752  0.51985043  0.36390348  0.08192233  0.68452698  0.26116636\n",
      "  0.02379752  0.87748893  0.50242018  0.19269524  0.22992148  0.11269524\n",
      "  0.22379752 -0.13620248  0.27116843  0.29346584  0.5997722   0.10379752\n",
      "  0.33192389 -0.05620248  0.30379752  0.89467866 -0.37620248  0.18379752\n",
      "  0.90427031  0.15269524  0.191744   -0.21620248 -0.41620248  0.54016094\n",
      "  0.21741558  0.54367184]\n",
      "Score for training for iteration 78 is 0.8568365729972899\n",
      "Score for testing for iteration 78 is 0.714190296119706\n",
      "Training time: 0:00:52.662139\n",
      "\n",
      "\n"
     ]
    },
    {
     "name": "stdout",
     "output_type": "stream",
     "text": [
      "[ 0.53567883 -1.03762928  0.00245628  0.62548281  0.18636066  0.48441233\n",
      " -0.90536652  0.77022147  0.60586324  0.64268572  0.20578506 -0.81759949\n",
      "  0.1953921   0.4395899  -0.88617625 -0.40125504  0.45595498  0.56999761\n",
      " -0.07133871  0.76247555 -0.74229796 -0.86402641 -0.86664124  1.11400189\n",
      "  0.05559441  0.40579981  0.36294134  0.73461641  0.48999761  0.44818525\n",
      " -0.7675635   0.19132305  0.68728033  0.26803124 -1.00660219  0.03286414\n",
      "  0.72827296 -0.50051233 -0.05923575 -0.96660219  0.43328013  0.39865757\n",
      " -0.86536652  0.92254017 -0.72388741 -0.20688753 -0.95762928 -0.52932445\n",
      "  0.18899151  0.6320489   0.52999761  0.59541536 -0.07589349 -0.97093554\n",
      " -0.9481979  -0.92660219 -0.63597686  0.03301583 -0.99762928 -1.04660219\n",
      " -0.69254088]\n",
      "Score for training for iteration 79 is 0.8527893026494248\n",
      "Score for testing for iteration 79 is 0.13534313669491072\n",
      "Training time: 0:00:52.684603\n",
      "\n",
      "\n",
      "[-0.19827293 -0.54689638 -0.0644634  -0.68802017 -0.45183251 -0.56975352\n",
      "  0.16172707 -0.98783436 -0.92802017 -0.94024066 -0.84802017 -1.04720821\n",
      " -0.41183251 -0.98007984 -1.02783436 -0.79827293 -0.49183251 -0.59827293\n",
      " -1.04992884 -1.0371584  -0.15802298 -0.67827293 -0.94140902 -1.02007984\n",
      "  0.00172707 -0.2244634  -0.85927342 -0.75745774 -0.63827293 -0.07827293\n",
      " -0.23827293  0.20172707 -0.27802298  0.04172707 -0.2644634  -0.03827293\n",
      " -0.96802017 -0.94783436 -0.55827293 -0.71604152  0.32172707  0.12172707\n",
      " -1.0771584  -0.861167   -0.9580771   0.24172707 -0.85534652 -1.08720821\n",
      " -0.94393373 -0.80802017 -0.11827293 -0.72802017  0.08172707 -0.99302559\n",
      " -0.83291748 -0.58808731 -0.92893916 -0.60303936 -0.84381106 -0.87651475\n",
      "  0.28172707 -0.56303936]\n",
      "Score for training for iteration 80 is 0.8684560249961139\n",
      "Score for testing for iteration 80 is 0.03242225126840148\n",
      "Training time: 0:00:52.475296\n",
      "\n",
      "\n",
      "[ 0.15147984  0.28269343  0.13863567  0.09655667  0.09202456  0.14130391\n",
      "  0.00507872  0.26384378  0.20652289  0.23147984  0.11147984 -0.40852016\n",
      "  0.05655667  0.19886557  0.06817188  0.06071848  0.19997909 -0.06340882\n",
      "  0.07390199 -0.12852016 -0.32852016 -0.36852016  0.04272523  0.08272523\n",
      " -0.08852016  0.0341248   0.12175287  0.07530069  0.07147984  0.11411866\n",
      "  0.04038767  0.12101468  0.11134387  0.05043071 -0.03299969  0.69035891\n",
      " -0.20852016  0.1326807  -0.16852016  0.03828014 -0.04852016  0.09863567\n",
      "  0.0665953   0.35478931  0.14261937  0.0690005   0.03147984  0.19147984\n",
      "  0.44148316  0.09196485  0.00700031 -0.00852016  0.06685958  0.11303583\n",
      " -0.24852016  0.05202456  0.05493088  0.03530069 -0.28852016  0.01655667\n",
      "  0.16652289  0.01202456]\n",
      "Score for training for iteration 81 is 0.868474169954591\n",
      "Score for testing for iteration 81 is 0.9330163720959539\n",
      "Training time: 0:00:52.413107\n",
      "\n",
      "\n",
      "[-0.14647208 -0.21090033 -0.24086003 -0.11100233 -0.11508805  0.26488243\n",
      "  0.10321988 -0.1912443   0.06717816  0.45710472 -0.20203558  0.58092002\n",
      " -0.13977126 -0.14845825 -0.07358685  0.03559549 -0.14034409 -0.12756153\n",
      " -0.31267741  0.14128857 -0.08756153 -0.16722131 -0.18034409 -0.0494527\n",
      "  0.67224651 -0.12665089  0.04093687 -0.16756153 -0.24203558 -0.18985359\n",
      " -0.34034409 -0.10620287 -0.24360606 -0.1233715  -0.29496396  0.19221657\n",
      "  0.11194076 -0.22034409 -0.15267741 -0.31142674 -0.43267741 -0.15390797\n",
      " -0.14243494 -0.30034409 -0.15401697 -0.1565034  -0.16203558 -0.28203558\n",
      " -0.30985359 -0.14097575 -0.17632556 -0.15682947 -0.04863377 -0.14011152\n",
      "  0.62828879 -0.42034409  0.17690107 -0.23437385 -0.0641215   0.42005119\n",
      "  0.75306768 -0.12463131]\n",
      "Score for training for iteration 82 is 0.8637589386587866\n",
      "Score for testing for iteration 82 is 0.8640056382093161\n",
      "Training time: 0:00:51.664820\n",
      "\n",
      "\n",
      "[ 0.13925739  0.12977961  0.35013241 -0.34074261  0.06574339  0.26264864\n",
      "  0.16667049  0.58688809 -0.4618965   0.26781349 -0.42074261  0.27304611\n",
      "  0.17354657  0.33362795  0.49620928  0.30264864  0.37620928  0.23346767\n",
      " -0.06074261  0.18781349 -0.18074261 -0.09329114 -0.10074261  0.25620928\n",
      " -0.66319596  0.29620928  0.39013241  0.02643296  0.53620928  0.22264864\n",
      "  0.10643296  0.12021189  0.15346767  0.19346767  0.12394331  0.14781349\n",
      "  0.29362795  0.12879132  0.06643296 -0.26074261  0.21620928  0.17925739\n",
      "  0.57620928  0.20977961 -0.42916149  0.27346767  0.33620928  0.40231389\n",
      "  0.31013241 -0.14074261  0.25362795  0.16977961 -0.22074261  0.41620928\n",
      "  0.05925739  0.09925739  0.14643296  0.45620928 -0.18064536  0.18643296\n",
      "  0.27399128  0.22781349]\n",
      "Score for training for iteration 83 is 0.8671502344384101\n",
      "Score for testing for iteration 83 is 0.8343526919861226\n",
      "Training time: 0:00:52.127856\n",
      "\n",
      "\n",
      "[ 0.31730942  0.15904031  0.27189682  0.07974956  0.07402225  0.20599163\n",
      "  0.04269528 -0.44269058  0.07730942  0.14748964 -0.12269058  0.18466627\n",
      "  0.06497661  0.11402225  0.07748068 -0.00269058  0.17617717  0.1247762\n",
      "  0.05653016 -0.36269058  0.1405107   0.23730942  0.27730942  0.35730942\n",
      "  0.20914248  0.15346484  0.00265987  0.12928646  0.03402225  0.36552945\n",
      "  0.08815134  0.11730942 -0.24269058  0.13617717  0.19346484  0.0507885\n",
      " -0.04269058  0.35962443  0.44199174  0.03730942  0.19730942 -0.32269058\n",
      "  0.07346484 -0.20269058  0.04930316  0.15402225  0.01653016 -0.08269058\n",
      "  0.03346484  0.11346484  0.22055346 -0.16269058  0.12088106 -0.40269058\n",
      "  0.15730942 -0.28269058  0.33166451  0.08199174  0.10497661  0.09617717\n",
      "  0.08967906  0.05543756]\n",
      "Score for training for iteration 84 is 0.8550935264421561\n",
      "Score for testing for iteration 84 is 0.9231575331396533\n",
      "Training time: 0:00:53.170455\n",
      "\n",
      "\n",
      "[ 3.90455979e-01 -1.13570909e+00 -4.67668320e-02 -3.08909879e-01\n",
      " -7.89039114e-01 -3.12083615e-01 -2.36614171e-01  5.00665443e-02\n",
      "  5.27000887e-01 -2.86978613e-01 -4.38888076e-01 -1.07118568e+00\n",
      " -3.39071763e-01 -5.34246256e-01 -5.57690602e-01 -5.25658964e-01\n",
      " -4.45526380e-01 -1.15337986e+00 -8.67668320e-02  6.05519759e-01\n",
      " -1.16490020e-01 -4.55176217e-01 -4.77534390e-01 -3.42548487e-01\n",
      " -6.74800521e-01 -9.49355589e-01 -1.74734933e-01  4.10374336e-01\n",
      " -5.34220385e-01 -1.34734933e-01 -1.47143139e-01 -8.90258625e-01\n",
      "  3.09234776e-01 -1.61364903e+00 -1.30140281e-01 -1.14366649e+00\n",
      " -5.55532101e-01 -1.14809602e-03  1.69880600e-01 -1.69364903e+00\n",
      " -1.47250947e+00 -1.28011456e+00 -9.31662854e-01 -7.38936740e-01\n",
      "  8.98806002e-02  8.56296833e-01 -1.07994375e-01 -1.19639981e+00\n",
      " -1.66766832e-01 -2.72076028e-02 -1.97901557e-01  8.16296833e-01\n",
      " -6.14939822e-01 -1.23278366e+00 -1.13443192e+00 -1.65364903e+00\n",
      " -1.41705052e+00 -1.26766832e-01 -1.31155867e+00 -2.40180732e-01\n",
      " -9.60279123e-01 -1.53364903e+00]\n",
      "Score for training for iteration 85 is 0.8586250310937602\n",
      "Score for testing for iteration 85 is -0.21232143854939503\n",
      "Training time: 0:00:53.317633\n",
      "\n",
      "\n",
      "[ 0.22441075  0.02602761  0.17975041  0.06930729  0.1356799   0.05192107\n",
      "  0.45895405  0.08031033  0.58379935  0.189275    0.08820239  0.25843132\n",
      "  0.20333424  0.06108624 -0.17397239  0.40034026 -0.37397239 -0.01397239\n",
      " -0.05397239  0.43608009  0.38150834  0.10428514  0.1756799   0.27011767\n",
      "  0.21813828  0.31059915 -0.13397239  0.08939217  0.10049191  0.08381711\n",
      "  0.01192107  0.14902202  0.52139718  0.57642371  0.29898964  0.0591623\n",
      "  0.02354848  0.03465194  0.18904374 -0.21397239  0.37228977  0.11560932\n",
      "  0.29843132  0.2897244  -0.29397239  0.0991623   0.2228335   0.30737397\n",
      " -0.25397239  0.21448051 -0.09397239 -0.33397239  0.49005998  0.1181942\n",
      "  0.24881489 -0.41397239  0.17754837  0.06848542  0.10902202  0.11471125\n",
      "  0.06602761  0.03041379]\n",
      "Score for training for iteration 86 is 0.8693451784707329\n",
      "Score for testing for iteration 86 is 0.8757745735518896\n",
      "Training time: 0:00:53.547297\n",
      "\n",
      "\n",
      "[-0.14627729 -0.15537909 -0.23355297 -0.266359   -0.20394114 -0.27549521\n",
      "  0.70475058 -0.03625524 -0.29510547 -0.31549521 -0.16191767 -0.18597926\n",
      " -0.19549521  0.10647437  0.27203813 -0.25510547 -0.12548112 -0.17533828\n",
      " -0.07625524 -0.20622964 -0.20024765 -0.19555488 -0.15827809  0.32110646\n",
      " -0.23549521 -0.19966912 -0.35549521 -0.16545937 -0.09533828  0.06647437\n",
      " -0.08755833 -0.22104458 -0.18482518 -0.22627729 -0.186359   -0.06029408\n",
      " -0.13533828 -0.24394114 -0.46152485  0.02647437 -0.18884909  0.23399963\n",
      " -0.20123086  0.14647437 -0.18627729 -0.16205605 -0.11890479 -0.26850946\n",
      " -0.17528061 -0.14486309 -0.11179213 -0.25792276 -0.18978953  0.16849037\n",
      " -0.226359   -0.16548112 -0.20780745 -0.20545937 -0.19820442 -0.20205605\n",
      " -0.11625524 -0.18486309]\n",
      "Score for training for iteration 87 is 0.8555770359904621\n",
      "Score for testing for iteration 87 is 0.9041570937216398\n",
      "Training time: 0:00:53.077539\n",
      "\n",
      "\n"
     ]
    },
    {
     "name": "stdout",
     "output_type": "stream",
     "text": [
      "[ 0.08146919 -0.07196747  0.10234738 -0.16978825 -0.33853497 -0.36786424\n",
      " -0.08660861 -0.68432364 -0.64627322  0.04146919 -0.05855603 -0.12339913\n",
      "  0.87827193 -0.25141614 -0.1796325  -0.04808456 -0.29872366 -0.06988556\n",
      " -0.15759909  0.57503384 -0.37270164 -0.02514654 -0.13645765 -0.15148394\n",
      " -0.0996325  -0.40456887 -0.16893954 -0.27955148 -0.1396325  -0.18607649\n",
      " -0.06405787  0.0873274   0.71636717 -0.31293512  0.0203675  -0.10988556\n",
      " -0.42030331 -0.58887156 -0.13241942  0.57809108 -0.09645765 -0.0196325\n",
      " -0.41009557 -0.16339913 -0.41155048 -0.51430689  0.58712602 -0.34423145\n",
      " -0.0596325  -0.14988556 -0.12554449 -0.22045077 -0.76767954 -0.0677335\n",
      " -0.60563945 -0.26680406 -0.15841423 -0.05645765 -0.11765475 -0.71823062\n",
      " -0.31458588 -0.49577208]\n",
      "Score for training for iteration 88 is 0.8513678267962398\n",
      "Score for testing for iteration 88 is 0.758053477280887\n",
      "Training time: 0:00:52.407582\n",
      "\n",
      "\n",
      "[ 0.00996747  0.12913152 -0.19955347  0.24913152 -0.15752423 -0.24626513\n",
      " -0.17811879 -0.32005311 -0.41384265  0.07471087 -0.54941967 -0.26630504\n",
      " -0.19991901 -0.20685378 -0.31387356 -0.33686426 -0.08405285  0.30517504\n",
      " -0.13811879 -0.29832453  0.18840983  0.11471087 -0.55950923 -0.17433862\n",
      " -0.41865519 -0.27199648  0.14840983  0.20913152  0.31558307 -0.22068963\n",
      " -0.24124397 -0.45865519 -0.26255013 -0.09811879  0.08996747  0.25479481\n",
      " -0.40452303 -0.19003253 -0.4416801  -0.46819001  0.16913152 -0.16685378\n",
      " -0.11003253 -0.42555659 -0.48983089  0.08913152 -0.15003253 -0.05159017\n",
      " -0.37580035  0.04996747 -0.424172   -0.22327528  0.23830684 -0.33178021\n",
      " -0.27890661 -0.10411307 -0.32673444 -0.11119592  0.27923451 -0.27467162\n",
      " -0.39282058  0.12905898]\n",
      "Score for training for iteration 89 is 0.8603735673970145\n",
      "Score for testing for iteration 89 is 0.8465251188633723\n",
      "Training time: 0:00:52.560062\n",
      "\n",
      "\n",
      "[ 0.25925939 -0.27357374 -0.02799244 -0.18996503  0.05200756  0.15807253\n",
      " -0.74152805 -0.66575922  0.01200756 -0.26208565 -0.74196557 -0.42236047\n",
      " -0.02539044 -1.49011994 -0.15890264 -1.65121662 -0.55629416  0.23807253\n",
      " -0.61431691 -0.68632801 -0.59748936 -0.14994707  0.21925939 -0.57623027\n",
      " -0.10799244 -0.48192747 -1.43339903 -0.22871237 -0.44647427 -0.53078553\n",
      "  0.50853391  0.2773526  -0.40440455  0.19807253  0.11807253 -1.55240099\n",
      "  0.21730476  0.25730476  0.10368005 -0.44781484 -1.10245479 -0.33215796\n",
      "  0.07807253 -0.22017048 -0.46799244 -0.50799244  0.09200756  0.45761958\n",
      " -0.26419368 -0.80156656 -0.56653455 -0.98170819 -0.22799244 -1.30766684\n",
      " -0.72758698 -0.19523876 -0.27833767  0.10210958 -0.30002068 -0.79539647\n",
      " -1.56651072  0.27807253]\n",
      "Score for training for iteration 90 is 0.8478355850042971\n",
      "Score for testing for iteration 90 is 0.21914167580990515\n",
      "Training time: 0:00:52.797003\n",
      "\n",
      "\n",
      "[ 0.0559436  -0.7182348  -0.42218785 -0.53898594 -0.25924898 -0.46797411\n",
      "  0.26201136 -0.72661353 -0.20313678 -0.14294258 -0.2597366   0.30201136\n",
      " -0.1797366  -0.45236723 -0.3325245  -0.2197366  -0.3797366  -0.3397366\n",
      " -0.74894603 -0.4525245  -0.63383482 -0.39352507 -0.77738975 -0.0997366\n",
      " -0.2525245  -0.4925245  -0.6782348  -0.02770692 -0.4125245  -0.68661353\n",
      " -0.59910013 -0.2925245  -0.82875496 -0.47032006 -0.41564703 -0.46218785\n",
      " -0.12815525 -0.43910013  0.0159436  -0.50509583 -0.1397366  -0.61164308\n",
      " -0.40376797  0.01229308 -0.6547662  -0.15224407  0.02571018 -0.47910013\n",
      " -0.55910013 -0.43352507 -0.7582348  -0.3725245  -0.43381828 -0.08815525\n",
      " -0.28313678 -0.2997366  -0.49898594 -0.57940625 -0.31153341 -0.3499663\n",
      " -0.8382348 ]\n",
      "Score for training for iteration 91 is 0.8497455556584899\n",
      "Score for testing for iteration 91 is 0.5828536871335134\n",
      "Training time: 0:00:52.699461\n",
      "\n",
      "\n",
      "[ 0.05050284 -0.007253   -0.07598247  0.04401753  0.09337695  0.3717317\n",
      "  0.01353434 -0.11598247 -0.047253    0.46687573  0.15730666 -0.23598247\n",
      "  0.50687573  0.47270832  0.08707878  0.04707878  0.18269154  0.06468646\n",
      "  0.00860797  0.42687573  0.27568774  0.39270832  0.43270832  0.08401753\n",
      "  0.08303498  0.58687573  0.390626   -0.03598247  0.04860797  0.07730666\n",
      "  0.35568774  0.03102968 -0.27598247 -0.15598247  0.04386477  0.00401753\n",
      " -0.31598247 -0.39598247  0.430626    0.00596977  0.54687573 -0.19598247\n",
      "  0.062459    0.04596977 -0.35598247  0.1171082   0.10269154 -0.00897032\n",
      "  0.12949387  0.1571082   0.05709729  0.12401753  0.15791215  0.48364664\n",
      "  0.14269154  0.04763289  0.06797321  0.31568774  0.10518985  0.48340722\n",
      "  0.11730666  0.22674619]\n",
      "Score for training for iteration 92 is 0.8683292771661686\n",
      "Score for testing for iteration 92 is 0.8727697314233733\n",
      "Training time: 0:00:52.277948\n",
      "\n",
      "\n",
      "[ 0.56349755  0.43651009  0.23659322  0.21131799  0.17805119  0.32853763\n",
      "  0.24925262  0.16958403  0.19279644 -0.06761492 -0.00720356  0.27350534\n",
      "  0.00958403  0.40958403 -0.26761492  0.32958403 -0.10761492  0.37131799\n",
      "  0.30775316  0.39651009  0.33485016  0.37017173  0.26488873  0.03279644\n",
      "  0.34611209  0.43541948  0.22470653  0.27817527  0.1651143   0.15058439\n",
      "  0.30292345 -0.16720356  0.35574582 -0.34761492  0.28981208 -0.22761492\n",
      "  0.30470653 -0.18761492  0.26470653  0.21249839 -0.38761492  0.36958403\n",
      "  0.33143471  0.30279918  0.30183976 -0.02761492  0.25696655  0.24372709\n",
      "  0.3133065   0.28958403  0.41261242 -0.30761492  0.25337545  0.35210147\n",
      "  0.20958403  0.11279644  0.34894643  0.37385594  0.15279644  0.24958403\n",
      "  0.36844331  0.26642489]\n",
      "Score for training for iteration 93 is 0.8565094100970673\n",
      "Score for testing for iteration 93 is 0.8359905696953158\n",
      "Training time: 0:00:52.585617\n",
      "\n",
      "\n",
      "[ 0.1419286  -0.1382239   0.44953547  0.0217761   0.4168431   0.30053285\n",
      "  0.25951711  0.2617761   0.30269622  0.1017761   0.25733326  0.4147878\n",
      "  0.19813227 -0.1782239   0.47258332  0.0617761   0.14494647  0.8082293\n",
      " -0.2582239   0.17694614  0.37287411  0.3802431   0.20050766  0.39090592\n",
      " -0.2182239   0.5895174   0.15872617  0.24033355  0.1417761   0.28033932\n",
      "  0.30473859  0.31263742  0.49374989  0.35857722  0.52929719 -0.2982239\n",
      "  0.53483122 -0.4182239  -0.3782239   0.1451891   0.19711623  0.35771022\n",
      "  0.35589648  0.34146957  0.58117039  0.42073733 -0.60755653  0.1817761\n",
      " -0.04897671  0.50616852  0.12433487  0.29503925 -0.0182239   0.33733326\n",
      "  0.25047302  0.22160609  0.29780029  0.2217761   0.18497778  0.58689312\n",
      " -0.0582239   0.18996024]\n",
      "Score for training for iteration 94 is 0.8638028067248904\n",
      "Score for testing for iteration 94 is 0.7754679836490104\n",
      "Training time: 0:00:53.239378\n",
      "\n",
      "\n",
      "[-0.06933371  0.08897165 -0.19056394 -0.00573329 -0.12757413 -0.07541096\n",
      "  0.09869924 -0.11541096 -0.08345955 -0.07249112  0.23723814  0.62995943\n",
      " -0.03541096 -0.09595826 -0.43056394 -0.07056394 -0.08757413 -0.23056394\n",
      " -0.09005634 -0.03249112  0.13869924 -0.08716601 -0.11056394  0.00458904\n",
      "  0.53787056 -0.09817257 -0.16757714 -0.14865076 -0.05005634 -0.10590289\n",
      " -0.11477472 -0.08941978  0.45942247 -0.02722594 -0.13240716 -0.06296414\n",
      " -0.13014008  0.44751178 -0.09854557 -0.15249112 -0.07696944 -0.05817257\n",
      "  0.43017396 -0.11249112 -0.05854557 -0.39056394 -0.12757714 -0.10296414\n",
      " -0.15056394  0.58899792 -0.35056394  0.46944595 -0.15085328 -0.31056394\n",
      "  0.42189436 -0.00544864 -0.12899352 -0.27056394 -0.1238935  -0.02296181\n",
      " -0.19249112 -0.13033782]\n",
      "Score for training for iteration 95 is 0.8509190322935071\n",
      "Score for testing for iteration 95 is 0.8962332004547197\n",
      "Training time: 0:00:53.449817\n",
      "\n",
      "\n",
      "[-0.22055325  0.09199366  0.13998111 -0.46055325  0.29969009 -0.18055325\n",
      "  0.17094489  0.06315129  0.14899959  0.07568891 -0.07270525  0.0900075\n",
      "  0.05852298  0.11750278  0.09039997  0.13973344  0.09685109 -0.26055325\n",
      "  0.05944675  0.13923768  0.14284083  0.23994364  0.06086534  0.04148389\n",
      "  0.00152057  0.01852298  0.05685109  0.05424151  0.31084651  0.12920638\n",
      "  0.07305635  0.05664202  0.16192155  0.15916427  0.09783957  0.14811839\n",
      "  0.18476469  0.17969009 -0.05684871  0.17125276 -0.01897911  0.1930429\n",
      "  0.18768821 -0.06055325  0.0471778   0.12930485  0.13378607 -0.23270525\n",
      "  0.13039997 -0.38055325  0.17039997 -0.02055325  0.21969009  0.02156333\n",
      "  0.08461589  0.04882667  0.0071778  -0.34055325  0.04834313  0.1394435\n",
      " -0.42055325  0.33969009]\n",
      "Score for training for iteration 96 is 0.8661976507339636\n",
      "Score for testing for iteration 96 is 0.9410792423331766\n",
      "Training time: 0:00:52.070429\n",
      "\n",
      "\n",
      "[ 0.10242301  0.07247902  0.32288542  0.51169697 -0.36752098  0.14877416\n",
      " -0.28752098  0.35871616  0.26135174  0.32039371  0.10877416  0.10519197\n",
      "  0.16254258  0.54651591 -0.08752098 -0.00752098 -0.32752098  0.34577662\n",
      " -0.12752098  0.08611045  0.11247902 -0.04752098  0.08550746 -0.16752098\n",
      "  0.46325463  0.19247902  0.15247902  0.12000967  0.32074472  0.42325463\n",
      "  0.28288542  0.15964472  0.49156466  0.16273682  0.13860628  0.3008171\n",
      "  0.55459856  0.40347158  0.42396123  0.12254258  0.31871616  0.32379469\n",
      "  1.04904468  0.23288808  0.19964472  0.17992896  0.28039371  0.08254258\n",
      "  0.1334319   0.76535204 -0.20752098  0.24288542  0.07717144  0.46322204\n",
      "  0.03247902 -0.24752098  0.30135174  0.29707777  0.71616483  0.12611045\n",
      " -0.40752098  0.09292265]\n",
      "Score for training for iteration 97 is 0.8552895335868632\n",
      "Score for testing for iteration 97 is 0.7894945722454798\n",
      "Training time: 0:00:51.716825\n",
      "\n",
      "\n"
     ]
    },
    {
     "name": "stdout",
     "output_type": "stream",
     "text": [
      "[-0.00899549 -0.14417802 -0.18634062 -0.22463069  0.13452358 -0.19124729\n",
      " -0.10634062  0.21911956 -0.06634062 -0.14634062  0.09452358  0.49359221\n",
      " -0.22417324  0.17452358 -0.10547642 -0.10556896  0.04403472 -0.55524102\n",
      " -0.30634062 -0.18265257  0.01365938  0.34641389 -0.24523457  0.19230841\n",
      "  0.21506598  0.64840997  0.01254546 -0.08152004 -0.12580455 -0.19807206\n",
      " -0.04769159  0.74099712 -0.02547642  0.13911956 -0.24826519 -0.2933055\n",
      "  0.06311619 -0.00769159  0.05734743 -0.26508417 -0.12769159  0.0178997\n",
      "  0.03230841  0.23759056  0.00875271  0.25506598 -0.09090506 -0.14463069\n",
      " -0.14547642  0.05365938  0.05452358  0.07230841 -0.15807206  0.11230841\n",
      "  0.00340396 -0.52406376  0.04317379 -0.1051132  -0.09059566 -0.03795555\n",
      "  0.02468646]\n",
      "Score for training for iteration 98 is 0.8522615847260903\n",
      "Score for testing for iteration 98 is 0.8969647182258002\n",
      "Training time: 0:00:50.833503\n",
      "\n",
      "\n",
      "[-0.18384042  0.2311549   0.16473223  0.22089312  0.41705028  0.01265691\n",
      " -0.08300669  0.07753916 -0.06384042 -0.12685522 -0.26384042  0.1511549\n",
      " -0.14761401  0.16980309  0.02092057 -0.22384042 -0.04664489  0.05332733\n",
      " -0.06119237 -0.25642978 -0.14203405 -0.4484791   0.3111549  -0.08561075\n",
      " -0.11770304  0.03880965  0.1111549   0.23166254  0.1911549  -0.04300669\n",
      "  0.3941244  -0.13543105 -0.03025599 -0.00300669 -0.30384042  0.03699331\n",
      " -0.05362381 -0.10384042  0.10219083  0.19166254 -0.50891809  0.35907817\n",
      "  0.07699331  0.13371563  0.05265691  0.17541307 -0.176659    0.09332733\n",
      " -0.09665595 -0.43814911 -0.14384042  0.2711549  -0.08664489 -0.03770304\n",
      "  0.42240775 -0.5996052  -0.14255874  0.1058469  -0.45765371  0.06092057\n",
      " -0.17870253  0.0658469 ]\n",
      "Score for training for iteration 99 is 0.8546395024380248\n",
      "Score for testing for iteration 99 is 0.9048943865238808\n",
      "Training time: 0:00:51.552753\n",
      "\n",
      "\n",
      "Final Score train: 0.8584383691712274\n",
      "Final Score test: 0.6373930695557545\n",
      "Cross validation time: 1:43:44.930060\n"
     ]
    },
    {
     "data": {
      "text/plain": [
       "0.6373930695557545"
      ]
     },
     "execution_count": 45,
     "metadata": {},
     "output_type": "execute_result"
    }
   ],
   "source": [
    "Regression('../kickoff-data-corrected/data.pickle.regression.1',0.995,\"forest\",100,7,7)"
   ]
  },
  {
   "cell_type": "code",
   "execution_count": 29,
   "metadata": {},
   "outputs": [],
   "source": [
    "def kickofftime_detection(regr,x):\n",
    "    n=len(x)\n",
    "    somme=0\n",
    "    y_predict=regr.predict(x)\n",
    "    for j in range(n):\n",
    "        somme+=y_predict[j]+(n-j-1)\n",
    "    return float(somme)/float(n)"
   ]
  },
  {
   "cell_type": "code",
   "execution_count": 28,
   "metadata": {},
   "outputs": [],
   "source": [
    "def cross_validation_kickoff_detector(X_classif,Y_classif,X_regr,Y_regr,percentage_train,nbre_matches,indices_classif,indices_regr,nbre_trees_class,depth_class,nbre_trees_regr,depth_regr):\n",
    "    score_test=0\n",
    "    score_train=0\n",
    "    start=datetime.datetime.now()\n",
    "    for i in range(nbre_matches):\n",
    "        start_i=datetime.datetime.now()\n",
    "        #Create training and test datasets classification\n",
    "        x_train1_classif=X_classif[indices_classif[i]:indices_classif[min(i+int(nbre_matches*percentage_train),nbre_matches)]]+X_classif[:indices_classif[max(0,i+int(nbre_matches*percentage_train)-nbre_matches)]]\n",
    "        y_train1_classif=Y_classif[indices_classif[i]:indices_classif[min(i+int(nbre_matches*percentage_train),nbre_matches)]]+Y_classif[:indices_classif[max(0,i+int(nbre_matches*percentage_train)-nbre_matches)]]\n",
    "        x_test_classif=X_classif[indices_classif[min(i+int(nbre_matches*percentage_train),nbre_matches)]:]+X_classif[indices_classif[max(0,i+int(nbre_matches*percentage_train)-nbre_matches)]:indices_classif[i]] \n",
    "        y_test1_classif=Y_classif[indices_classif[min(i+int(nbre_matches*percentage_train),nbre_matches)]:]+Y_classif[indices_classif[max(0,i+int(nbre_matches*percentage_train)-nbre_matches)]:indices_classif[i]]\n",
    "        \n",
    "        #Create training datasets regression\n",
    "        x_train1_regr=X_regr[indices_regr[i]:indices_regr[min(i+int(nbre_matches*percentage_train),nbre_matches)]]+X_regr[:indices_regr[max(0,i+int(nbre_matches*percentage_train)-nbre_matches)]]\n",
    "        y_train1_regr=Y_regr[indices_regr[i]:indices_regr[min(i+int(nbre_matches*percentage_train),nbre_matches)]]+Y_regr[:indices_regr[max(0,i+int(nbre_matches*percentage_train)-nbre_matches)]]\n",
    "        y_test_regr=Y_regr[indices_regr[min(i+int(nbre_matches*percentage_train),nbre_matches)]:]+Y_regr[indices_regr[max(0,i+int(nbre_matches*percentage_train)-nbre_matches)]:indices_regr[i]]\n",
    "        #Shuffle data\n",
    "        x_train_classif,y_train_classif=shuffle_data(x_train1_classif,y_train1_classif)\n",
    "        #x_test,y_test=shuffle_data(x_test1,y_test1)\n",
    "        \n",
    "        #Shuffle data\n",
    "        x_train_regr,y_train_regr=shuffle_data(x_train1_regr,y_train1_regr)\n",
    "        #x_test,y_test=shuffle_data(x_test1,y_test1)\n",
    "        \n",
    "        #Train classifier\n",
    "        clf=RandomForestClassifier(n_estimators=nbre_trees_class,max_depth=depth_class)\n",
    "        clf.fit(x_train_classif,y_train_classif)\n",
    "        \n",
    "        #Train regressor\n",
    "        regr=RandomForestRegressor(n_estimators=nbre_trees_regr,max_depth=depth_regr)\n",
    "        regr.fit(x_train_regr,y_train_regr)\n",
    "        end_i=datetime.datetime.now()\n",
    "        \n",
    "        #Classification\n",
    "        \n",
    "            #Predict\n",
    "        y_predict_classif=clf.predict(x_test_classif)\n",
    "        \n",
    "            #Find kickoff_sequence\n",
    "        i=0\n",
    "        kickoff_not_detected=True\n",
    "        indices_classif_list=[0 for j in range(100)]\n",
    "        while i<len(y_predict_classif) and kickoff_not_detected:\n",
    "            indices_classif_list=indices_classif_list[1:]\n",
    "            indices_classif_list.append(y_predict_classif[i])\n",
    "            if indices_classif_list.count(1)>=40:\n",
    "                kickoff_not_detected=False\n",
    "                i-=1\n",
    "            i+=1\n",
    "        kickoff_seq=x_test_classif[max(0,i-99):max(100,i+1)]\n",
    "        \n",
    "        #Regression\n",
    "        kickofftime=kickofftime_detection(regr,kickoff_seq)\n",
    "        print(i)\n",
    "        print(y_test1_classif.index(1))\n",
    "        print(\"Estimated kickoff time: {0}\".format(kickofftime))\n",
    "        print(\"Real kickoff time: {0}\".format(i-y_test1_classif.index(1)+y_test_regr[y_test1_classif.index(1)]))\n",
    "        #Test\n",
    "        #score_test+=regr.score(x_test,y_test)\n",
    "        #score_train+=regr.score(x_train,y_train)\n",
    "        #print(np.array(regr.predict(x_test))-np.array(y_test))\n",
    "        #print(\"Score for training for iteration {0} is {1}\".format(i,regr.score(x_train,y_train)))\n",
    "        #print(\"Score for testing for iteration {0} is {1}\".format(i,regr.score(x_test,y_test)))\n",
    "        #print(\"Training time: {0}\".format(end_i-start_i))\n",
    "        #print(\"\\n\")\n",
    "        \n",
    "    #end=datetime.datetime.now()\n",
    "    #print(\"Final Score train: {0}\".format(score_train/nbre_matches))\n",
    "    #print(\"Final Score test: {0}\".format(score_test/nbre_matches))\n",
    "    #print(\"Cross validation time: {0}\".format(end-start))\n",
    "    return score_test/nbre_matches\n",
    "\n",
    "def Kickoff_detector(dataset_classif,dataset_regr,percentage_train,nbre_matches,nbre_trees_class,depth_class,nbre_trees_regr,depth_regr):\n",
    "    #Create inputs\n",
    "    X_classif=list()\n",
    "    Y_classif=list()\n",
    "    indices_classif=[0]\n",
    "    X_regr=list()\n",
    "    Y_regr=list()\n",
    "    indices_regr=[0]\n",
    "    with open(dataset_classif, 'rb') as f:\n",
    "        for i in range(nbre_matches):\n",
    "            data = pickle.load(f)\n",
    "            X_classif=X_classif+data[0]\n",
    "            Y_classif=Y_classif+data[1]\n",
    "            indices_classif.append(len(Y_classif))\n",
    "    with open(dataset_regr, 'rb') as f:\n",
    "        for i in range(nbre_matches):\n",
    "            data = pickle.load(f)\n",
    "            X_regr=X_regr+data[0]\n",
    "            Y_regr=Y_regr+data[1]\n",
    "            indices_regr.append(len(Y_regr))\n",
    "    return cross_validation_kickoff_detector(X_classif,Y_classif,X_regr,Y_regr,percentage_train,nbre_matches,indices_classif,indices_regr,nbre_trees_class,depth_class,nbre_trees_regr,depth_regr)"
   ]
  },
  {
   "cell_type": "code",
   "execution_count": 50,
   "metadata": {},
   "outputs": [
    {
     "name": "stdout",
     "output_type": "stream",
     "text": [
      "70\n",
      "29\n",
      "Estimated kickoff time: 101.64114563629872\n",
      "Real kickoff time: 96\n",
      "69\n",
      "29\n",
      "Estimated kickoff time: 105.69352597338938\n",
      "Real kickoff time: 95\n",
      "70\n",
      "29\n",
      "Estimated kickoff time: 102.65268322742803\n",
      "Real kickoff time: 96\n",
      "69\n",
      "29\n",
      "Estimated kickoff time: 104.11549778738834\n",
      "Real kickoff time: 95\n",
      "69\n",
      "29\n",
      "Estimated kickoff time: 105.15531730144535\n",
      "Real kickoff time: 95\n",
      "70\n",
      "29\n",
      "Estimated kickoff time: 99.53477927564359\n",
      "Real kickoff time: 96\n",
      "70\n",
      "29\n",
      "Estimated kickoff time: 104.45585463349053\n",
      "Real kickoff time: 96\n",
      "69\n",
      "29\n",
      "Estimated kickoff time: 99.95616624626103\n",
      "Real kickoff time: 96\n",
      "70\n",
      "29\n",
      "Estimated kickoff time: 101.28022273113834\n",
      "Real kickoff time: 96\n",
      "70\n",
      "29\n",
      "Estimated kickoff time: 104.69193991298216\n",
      "Real kickoff time: 96\n",
      "69\n",
      "28\n",
      "Estimated kickoff time: 99.71971002453098\n",
      "Real kickoff time: 95\n",
      "70\n",
      "29\n",
      "Estimated kickoff time: 104.24021186100975\n",
      "Real kickoff time: 96\n",
      "70\n",
      "29\n",
      "Estimated kickoff time: 105.265406824117\n",
      "Real kickoff time: 96\n",
      "70\n",
      "29\n",
      "Estimated kickoff time: 105.42595444612637\n",
      "Real kickoff time: 96\n"
     ]
    },
    {
     "ename": "KeyboardInterrupt",
     "evalue": "",
     "output_type": "error",
     "traceback": [
      "\u001b[0;31m---------------------------------------------------------------------------\u001b[0m",
      "\u001b[0;31mKeyboardInterrupt\u001b[0m                         Traceback (most recent call last)",
      "\u001b[0;32m<ipython-input-50-2917b030291d>\u001b[0m in \u001b[0;36m<module>\u001b[0;34m()\u001b[0m\n\u001b[0;32m----> 1\u001b[0;31m \u001b[0mKickoff_detector\u001b[0m\u001b[0;34m(\u001b[0m\u001b[0;34m'../kickoff-data-corrected/data.pickle.1.10.classif.1'\u001b[0m\u001b[0;34m,\u001b[0m\u001b[0;34m'../kickoff-data-corrected/data.pickle.regression.1'\u001b[0m\u001b[0;34m,\u001b[0m\u001b[0;36m0.995\u001b[0m\u001b[0;34m,\u001b[0m\u001b[0;36m100\u001b[0m\u001b[0;34m,\u001b[0m\u001b[0;36m7\u001b[0m\u001b[0;34m,\u001b[0m\u001b[0;36m7\u001b[0m\u001b[0;34m,\u001b[0m\u001b[0;36m7\u001b[0m\u001b[0;34m,\u001b[0m\u001b[0;36m7\u001b[0m\u001b[0;34m)\u001b[0m\u001b[0;34m\u001b[0m\u001b[0m\n\u001b[0m",
      "\u001b[0;32m<ipython-input-49-4cf8acf8b5c4>\u001b[0m in \u001b[0;36mKickoff_detector\u001b[0;34m(dataset_classif, dataset_regr, percentage_train, nbre_matches, nbre_trees_class, depth_class, nbre_trees_regr, depth_regr)\u001b[0m\n\u001b[1;32m     91\u001b[0m             \u001b[0mY_regr\u001b[0m\u001b[0;34m=\u001b[0m\u001b[0mY_regr\u001b[0m\u001b[0;34m+\u001b[0m\u001b[0mdata\u001b[0m\u001b[0;34m[\u001b[0m\u001b[0;36m1\u001b[0m\u001b[0;34m]\u001b[0m\u001b[0;34m\u001b[0m\u001b[0m\n\u001b[1;32m     92\u001b[0m             \u001b[0mindices_regr\u001b[0m\u001b[0;34m.\u001b[0m\u001b[0mappend\u001b[0m\u001b[0;34m(\u001b[0m\u001b[0mlen\u001b[0m\u001b[0;34m(\u001b[0m\u001b[0mY_regr\u001b[0m\u001b[0;34m)\u001b[0m\u001b[0;34m)\u001b[0m\u001b[0;34m\u001b[0m\u001b[0m\n\u001b[0;32m---> 93\u001b[0;31m     \u001b[0;32mreturn\u001b[0m \u001b[0mcross_validation_kickoff_detector\u001b[0m\u001b[0;34m(\u001b[0m\u001b[0mX_classif\u001b[0m\u001b[0;34m,\u001b[0m\u001b[0mY_classif\u001b[0m\u001b[0;34m,\u001b[0m\u001b[0mX_regr\u001b[0m\u001b[0;34m,\u001b[0m\u001b[0mY_regr\u001b[0m\u001b[0;34m,\u001b[0m\u001b[0mpercentage_train\u001b[0m\u001b[0;34m,\u001b[0m\u001b[0mnbre_matches\u001b[0m\u001b[0;34m,\u001b[0m\u001b[0mindices_classif\u001b[0m\u001b[0;34m,\u001b[0m\u001b[0mindices_regr\u001b[0m\u001b[0;34m,\u001b[0m\u001b[0mnbre_trees_class\u001b[0m\u001b[0;34m,\u001b[0m\u001b[0mdepth_class\u001b[0m\u001b[0;34m,\u001b[0m\u001b[0mnbre_trees_regr\u001b[0m\u001b[0;34m,\u001b[0m\u001b[0mdepth_regr\u001b[0m\u001b[0;34m)\u001b[0m\u001b[0;34m\u001b[0m\u001b[0m\n\u001b[0m",
      "\u001b[0;32m<ipython-input-49-4cf8acf8b5c4>\u001b[0m in \u001b[0;36mcross_validation_kickoff_detector\u001b[0;34m(X_classif, Y_classif, X_regr, Y_regr, percentage_train, nbre_matches, indices_classif, indices_regr, nbre_trees_class, depth_class, nbre_trees_regr, depth_regr)\u001b[0m\n\u001b[1;32m     25\u001b[0m         \u001b[0;31m#Train classifier\u001b[0m\u001b[0;34m\u001b[0m\u001b[0;34m\u001b[0m\u001b[0m\n\u001b[1;32m     26\u001b[0m         \u001b[0mclf\u001b[0m\u001b[0;34m=\u001b[0m\u001b[0mRandomForestClassifier\u001b[0m\u001b[0;34m(\u001b[0m\u001b[0mn_estimators\u001b[0m\u001b[0;34m=\u001b[0m\u001b[0mnbre_trees_class\u001b[0m\u001b[0;34m,\u001b[0m\u001b[0mmax_depth\u001b[0m\u001b[0;34m=\u001b[0m\u001b[0mdepth_class\u001b[0m\u001b[0;34m)\u001b[0m\u001b[0;34m\u001b[0m\u001b[0m\n\u001b[0;32m---> 27\u001b[0;31m         \u001b[0mclf\u001b[0m\u001b[0;34m.\u001b[0m\u001b[0mfit\u001b[0m\u001b[0;34m(\u001b[0m\u001b[0mx_train_classif\u001b[0m\u001b[0;34m,\u001b[0m\u001b[0my_train_classif\u001b[0m\u001b[0;34m)\u001b[0m\u001b[0;34m\u001b[0m\u001b[0m\n\u001b[0m\u001b[1;32m     28\u001b[0m \u001b[0;34m\u001b[0m\u001b[0m\n\u001b[1;32m     29\u001b[0m         \u001b[0;31m#Train regressor\u001b[0m\u001b[0;34m\u001b[0m\u001b[0;34m\u001b[0m\u001b[0m\n",
      "\u001b[0;32m/usr/local/lib/python3.5/dist-packages/sklearn/ensemble/forest.py\u001b[0m in \u001b[0;36mfit\u001b[0;34m(self, X, y, sample_weight)\u001b[0m\n\u001b[1;32m    245\u001b[0m         \"\"\"\n\u001b[1;32m    246\u001b[0m         \u001b[0;31m# Validate or convert input data\u001b[0m\u001b[0;34m\u001b[0m\u001b[0;34m\u001b[0m\u001b[0m\n\u001b[0;32m--> 247\u001b[0;31m         \u001b[0mX\u001b[0m \u001b[0;34m=\u001b[0m \u001b[0mcheck_array\u001b[0m\u001b[0;34m(\u001b[0m\u001b[0mX\u001b[0m\u001b[0;34m,\u001b[0m \u001b[0maccept_sparse\u001b[0m\u001b[0;34m=\u001b[0m\u001b[0;34m\"csc\"\u001b[0m\u001b[0;34m,\u001b[0m \u001b[0mdtype\u001b[0m\u001b[0;34m=\u001b[0m\u001b[0mDTYPE\u001b[0m\u001b[0;34m)\u001b[0m\u001b[0;34m\u001b[0m\u001b[0m\n\u001b[0m\u001b[1;32m    248\u001b[0m         \u001b[0my\u001b[0m \u001b[0;34m=\u001b[0m \u001b[0mcheck_array\u001b[0m\u001b[0;34m(\u001b[0m\u001b[0my\u001b[0m\u001b[0;34m,\u001b[0m \u001b[0maccept_sparse\u001b[0m\u001b[0;34m=\u001b[0m\u001b[0;34m'csc'\u001b[0m\u001b[0;34m,\u001b[0m \u001b[0mensure_2d\u001b[0m\u001b[0;34m=\u001b[0m\u001b[0;32mFalse\u001b[0m\u001b[0;34m,\u001b[0m \u001b[0mdtype\u001b[0m\u001b[0;34m=\u001b[0m\u001b[0;32mNone\u001b[0m\u001b[0;34m)\u001b[0m\u001b[0;34m\u001b[0m\u001b[0m\n\u001b[1;32m    249\u001b[0m         \u001b[0;32mif\u001b[0m \u001b[0msample_weight\u001b[0m \u001b[0;32mis\u001b[0m \u001b[0;32mnot\u001b[0m \u001b[0;32mNone\u001b[0m\u001b[0;34m:\u001b[0m\u001b[0;34m\u001b[0m\u001b[0m\n",
      "\u001b[0;32m/usr/local/lib/python3.5/dist-packages/sklearn/utils/validation.py\u001b[0m in \u001b[0;36mcheck_array\u001b[0;34m(array, accept_sparse, dtype, order, copy, force_all_finite, ensure_2d, allow_nd, ensure_min_samples, ensure_min_features, warn_on_dtype, estimator)\u001b[0m\n\u001b[1;32m    431\u001b[0m                                       force_all_finite)\n\u001b[1;32m    432\u001b[0m     \u001b[0;32melse\u001b[0m\u001b[0;34m:\u001b[0m\u001b[0;34m\u001b[0m\u001b[0m\n\u001b[0;32m--> 433\u001b[0;31m         \u001b[0marray\u001b[0m \u001b[0;34m=\u001b[0m \u001b[0mnp\u001b[0m\u001b[0;34m.\u001b[0m\u001b[0marray\u001b[0m\u001b[0;34m(\u001b[0m\u001b[0marray\u001b[0m\u001b[0;34m,\u001b[0m \u001b[0mdtype\u001b[0m\u001b[0;34m=\u001b[0m\u001b[0mdtype\u001b[0m\u001b[0;34m,\u001b[0m \u001b[0morder\u001b[0m\u001b[0;34m=\u001b[0m\u001b[0morder\u001b[0m\u001b[0;34m,\u001b[0m \u001b[0mcopy\u001b[0m\u001b[0;34m=\u001b[0m\u001b[0mcopy\u001b[0m\u001b[0;34m)\u001b[0m\u001b[0;34m\u001b[0m\u001b[0m\n\u001b[0m\u001b[1;32m    434\u001b[0m \u001b[0;34m\u001b[0m\u001b[0m\n\u001b[1;32m    435\u001b[0m         \u001b[0;32mif\u001b[0m \u001b[0mensure_2d\u001b[0m\u001b[0;34m:\u001b[0m\u001b[0;34m\u001b[0m\u001b[0m\n",
      "\u001b[0;31mKeyboardInterrupt\u001b[0m: "
     ]
    }
   ],
   "source": [
    "Kickoff_detector('../kickoff-data-corrected/data.pickle.1.10.classif.1','../kickoff-data-corrected/data.pickle.regression.1',0.995,100,7,7,7,7)"
   ]
  },
  {
   "cell_type": "code",
   "execution_count": 58,
   "metadata": {},
   "outputs": [],
   "source": [
    "tracks_name=['23fb8811-638e-4be8-a01d-76cad0f5a5bf.1.kickoff.rdb','3c7f617c-c839-4e5a-9e80-52017fa85d93.1.kickoff.rdb',\n",
    "             '4176c56a-b0df-4e64-aaeb-09150829ba15.1.kickoff.rdb','4501652f-d7e6-4e3e-9ad2-e01198278688.1.kickoff.rdb',\n",
    "             '4903143c-68be-45f0-9746-e29547b7fa94.1.kickoff.rdb','4b949eae-068b-4b0a-bc88-f5ef0a97b2ba.1.kickoff.rdb',\n",
    "             '536b68b9-507f-408a-9a91-f994667b1d16.1.kickoff.rdb','66b6caf7-e5c0-45dd-874f-de8ac2e3c9ff.1.kickoff.rdb',\n",
    "             '8d6fc150-9f6b-4e5c-8a99-d2ca96b5ffa5.1.kickoff.rdb','9d1b40c0-efb0-4eb5-9ff4-bd13a55c0820.1.kickoff.rdb',\n",
    "             'af42c9ca-ae8f-4d69-a671-15950883ecac.1.kickoff.rdb']\n",
    "config_name=['23fb8811-638e-4be8-a01d-76cad0f5a5bf.json','3c7f617c-c839-4e5a-9e80-52017fa85d93.json',\n",
    "             '4176c56a-b0df-4e64-aaeb-09150829ba15.json','4501652f-d7e6-4e3e-9ad2-e01198278688.json',\n",
    "             '4903143c-68be-45f0-9746-e29547b7fa94.json','4b949eae-068b-4b0a-bc88-f5ef0a97b2ba.json',\n",
    "             '536b68b9-507f-408a-9a91-f994667b1d16.json','66b6caf7-e5c0-45dd-874f-de8ac2e3c9ff.json',\n",
    "             '8d6fc150-9f6b-4e5c-8a99-d2ca96b5ffa5.json','9d1b40c0-efb0-4eb5-9ff4-bd13a55c0820.json',\n",
    "             'af42c9ca-ae8f-4d69-a671-15950883ecac.json']"
   ]
  },
  {
   "cell_type": "code",
   "execution_count": 85,
   "metadata": {},
   "outputs": [
    {
     "name": "stderr",
     "output_type": "stream",
     "text": [
      "496it [00:00, 4950.13it/s]"
     ]
    },
    {
     "name": "stdout",
     "output_type": "stream",
     "text": [
      "Parsed ../kickoff-data-corrected/23fb8811-638e-4be8-a01d-76cad0f5a5bf.1.kickoff.rdb in 1.50 s.\n",
      "Contains keys: dict_keys(['right', 'left'])\n",
      "[right] start_ts: 1526133303581 | stop_ts: 1526133902461\n",
      "[left] start_ts: 1526133303595 | stop_ts: 1526133902435\n"
     ]
    },
    {
     "name": "stderr",
     "output_type": "stream",
     "text": [
      "14971it [00:06, 2384.68it/s]\n"
     ]
    },
    {
     "name": "stdout",
     "output_type": "stream",
     "text": [
      "7511\n"
     ]
    },
    {
     "data": {
      "image/png": "[encoded data removed]",
      "text/plain": [
       "<Figure size 432x288 with 1 Axes>"
      ]
     },
     "metadata": {},
     "output_type": "display_data"
    },
    {
     "name": "stdout",
     "output_type": "stream",
     "text": [
      "Distance between real kickoff time and estimated time: 60 \n"
     ]
    },
    {
     "name": "stderr",
     "output_type": "stream",
     "text": [
      "784it [00:00, 3983.99it/s]"
     ]
    },
    {
     "name": "stdout",
     "output_type": "stream",
     "text": [
      "Parsed ../kickoff-data-corrected/3c7f617c-c839-4e5a-9e80-52017fa85d93.1.kickoff.rdb in 1.48 s.\n",
      "Contains keys: dict_keys(['right', 'left'])\n",
      "[right] start_ts: 1525006516933 | stop_ts: 1525007115773\n",
      "[left] start_ts: 1525006516949 | stop_ts: 1525007115789\n"
     ]
    },
    {
     "name": "stderr",
     "output_type": "stream",
     "text": [
      "14972it [00:07, 2089.31it/s]\n"
     ]
    },
    {
     "name": "stdout",
     "output_type": "stream",
     "text": [
      "7501\n"
     ]
    },
    {
     "data": {
      "image/png": "[encoded data removed]",
      "text/plain": [
       "<Figure size 432x288 with 1 Axes>"
      ]
     },
     "metadata": {},
     "output_type": "display_data"
    },
    {
     "name": "stdout",
     "output_type": "stream",
     "text": [
      "Distance between real kickoff time and estimated time: 19 \n"
     ]
    },
    {
     "name": "stderr",
     "output_type": "stream",
     "text": [
      "667it [00:00, 3243.23it/s]"
     ]
    },
    {
     "name": "stdout",
     "output_type": "stream",
     "text": [
      "Parsed ../kickoff-data-corrected/4176c56a-b0df-4e64-aaeb-09150829ba15.1.kickoff.rdb in 1.53 s.\n",
      "Contains keys: dict_keys(['right', 'left'])\n",
      "[right] start_ts: 1526738122432 | stop_ts: 1526738722232\n",
      "[left] start_ts: 1526738122412 | stop_ts: 1526738722252\n"
     ]
    },
    {
     "name": "stderr",
     "output_type": "stream",
     "text": [
      "14996it [00:07, 2025.75it/s]\n"
     ]
    },
    {
     "name": "stdout",
     "output_type": "stream",
     "text": [
      "7540\n"
     ]
    },
    {
     "data": {
      "image/png": "[encoded data removed]",
      "text/plain": [
       "<Figure size 432x288 with 1 Axes>"
      ]
     },
     "metadata": {},
     "output_type": "display_data"
    },
    {
     "name": "stdout",
     "output_type": "stream",
     "text": [
      "Distance between real kickoff time and estimated time: 34 \n"
     ]
    },
    {
     "name": "stderr",
     "output_type": "stream",
     "text": [
      "124it [00:00, 1233.95it/s]"
     ]
    },
    {
     "name": "stdout",
     "output_type": "stream",
     "text": [
      "Parsed ../kickoff-data-corrected/4501652f-d7e6-4e3e-9ad2-e01198278688.1.kickoff.rdb in 2.13 s.\n",
      "Contains keys: dict_keys(['right', 'left'])\n",
      "[right] start_ts: 1526216102566 | stop_ts: 1526216702406\n",
      "[left] start_ts: 1526216102558 | stop_ts: 1526216702398\n"
     ]
    },
    {
     "name": "stderr",
     "output_type": "stream",
     "text": [
      "14997it [00:10, 1498.33it/s]\n"
     ]
    },
    {
     "name": "stdout",
     "output_type": "stream",
     "text": [
      "7476\n"
     ]
    },
    {
     "data": {
      "image/png": "[encoded data removed]",
      "text/plain": [
       "<Figure size 432x288 with 1 Axes>"
      ]
     },
     "metadata": {},
     "output_type": "display_data"
    },
    {
     "name": "stdout",
     "output_type": "stream",
     "text": [
      "Distance between real kickoff time and estimated time: 48 \n"
     ]
    },
    {
     "name": "stderr",
     "output_type": "stream",
     "text": [
      "156it [00:00, 695.20it/s]"
     ]
    },
    {
     "name": "stdout",
     "output_type": "stream",
     "text": [
      "Parsed ../kickoff-data-corrected/4903143c-68be-45f0-9746-e29547b7fa94.1.kickoff.rdb in 2.47 s.\n",
      "Contains keys: dict_keys(['right', 'left'])\n",
      "[right] start_ts: 1525528504685 | stop_ts: 1525529102525\n",
      "[left] start_ts: 1525528504705 | stop_ts: 1525529102545\n"
     ]
    },
    {
     "name": "stderr",
     "output_type": "stream",
     "text": [
      "14947it [00:12, 1236.40it/s]\n"
     ]
    },
    {
     "name": "stdout",
     "output_type": "stream",
     "text": [
      "7516\n"
     ]
    },
    {
     "data": {
      "image/png": "[encoded data removed]",
      "text/plain": [
       "<Figure size 432x288 with 1 Axes>"
      ]
     },
     "metadata": {},
     "output_type": "display_data"
    },
    {
     "name": "stdout",
     "output_type": "stream",
     "text": [
      "Distance between real kickoff time and estimated time: -20 \n"
     ]
    },
    {
     "name": "stderr",
     "output_type": "stream",
     "text": [
      "68it [00:00, 672.73it/s]"
     ]
    },
    {
     "name": "stdout",
     "output_type": "stream",
     "text": [
      "Parsed ../kickoff-data-corrected/4b949eae-068b-4b0a-bc88-f5ef0a97b2ba.1.kickoff.rdb in 2.50 s.\n",
      "Contains keys: dict_keys(['right', 'left'])\n",
      "[right] start_ts: 1524318935116 | stop_ts: 1524319532636\n",
      "[left] start_ts: 1524318934512 | stop_ts: 1524319532312\n"
     ]
    },
    {
     "name": "stderr",
     "output_type": "stream",
     "text": [
      "14940it [00:12, 1207.56it/s]\n"
     ]
    },
    {
     "name": "stdout",
     "output_type": "stream",
     "text": [
      "7468\n"
     ]
    },
    {
     "data": {
      "image/png": "[encoded data removed]",
      "text/plain": [
       "<Figure size 432x288 with 1 Axes>"
      ]
     },
     "metadata": {},
     "output_type": "display_data"
    },
    {
     "name": "stdout",
     "output_type": "stream",
     "text": [
      "Distance between real kickoff time and estimated time: -1 \n"
     ]
    },
    {
     "name": "stderr",
     "output_type": "stream",
     "text": [
      "\r",
      "0it [00:00, ?it/s]"
     ]
    },
    {
     "name": "stdout",
     "output_type": "stream",
     "text": [
      "Parsed ../kickoff-data-corrected/536b68b9-507f-408a-9a91-f994667b1d16.1.kickoff.rdb in 1.41 s.\n",
      "Contains keys: dict_keys(['right', 'left'])\n",
      "[right] start_ts: 1526829914293 | stop_ts: 1526830513133\n",
      "[left] start_ts: 1526829914271 | stop_ts: 1526830513111\n"
     ]
    },
    {
     "name": "stderr",
     "output_type": "stream",
     "text": [
      "14971it [00:06, 2330.42it/s]\n"
     ]
    },
    {
     "name": "stdout",
     "output_type": "stream",
     "text": [
      "7535\n"
     ]
    },
    {
     "data": {
      "image/png": "[encoded data removed]",
      "text/plain": [
       "<Figure size 432x288 with 1 Axes>"
      ]
     },
     "metadata": {},
     "output_type": "display_data"
    },
    {
     "name": "stdout",
     "output_type": "stream",
     "text": [
      "Distance between real kickoff time and estimated time: 78 \n"
     ]
    },
    {
     "name": "stderr",
     "output_type": "stream",
     "text": [
      "581it [00:00, 3026.81it/s]"
     ]
    },
    {
     "name": "stdout",
     "output_type": "stream",
     "text": [
      "Parsed ../kickoff-data-corrected/66b6caf7-e5c0-45dd-874f-de8ac2e3c9ff.1.kickoff.rdb in 1.54 s.\n",
      "Contains keys: dict_keys(['right', 'left'])\n",
      "[right] start_ts: 1526921712730 | stop_ts: 1526922309650\n",
      "[left] start_ts: 1526921712782 | stop_ts: 1526922309662\n"
     ]
    },
    {
     "name": "stderr",
     "output_type": "stream",
     "text": [
      "14922it [00:06, 2433.57it/s]\n"
     ]
    },
    {
     "name": "stdout",
     "output_type": "stream",
     "text": [
      "7452\n"
     ]
    },
    {
     "data": {
      "image/png": "[encoded data removed]",
      "text/plain": [
       "<Figure size 432x288 with 1 Axes>"
      ]
     },
     "metadata": {},
     "output_type": "display_data"
    },
    {
     "name": "stdout",
     "output_type": "stream",
     "text": [
      "Distance between real kickoff time and estimated time: -12 \n"
     ]
    },
    {
     "name": "stderr",
     "output_type": "stream",
     "text": [
      "331it [00:00, 1584.09it/s]"
     ]
    },
    {
     "name": "stdout",
     "output_type": "stream",
     "text": [
      "Parsed ../kickoff-data-corrected/8d6fc150-9f6b-4e5c-8a99-d2ca96b5ffa5.1.kickoff.rdb in 1.88 s.\n",
      "Contains keys: dict_keys(['right', 'left'])\n",
      "[right] start_ts: 1524156948802 | stop_ts: 1524157546362\n",
      "[left] start_ts: 1524156948162 | stop_ts: 1524157546082\n"
     ]
    },
    {
     "name": "stderr",
     "output_type": "stream",
     "text": [
      "14940it [00:09, 1614.40it/s]\n"
     ]
    },
    {
     "name": "stdout",
     "output_type": "stream",
     "text": [
      "7462\n"
     ]
    },
    {
     "data": {
      "image/png": "[encoded data removed]",
      "text/plain": [
       "<Figure size 432x288 with 1 Axes>"
      ]
     },
     "metadata": {},
     "output_type": "display_data"
    },
    {
     "name": "stdout",
     "output_type": "stream",
     "text": [
      "Distance between real kickoff time and estimated time: -4327 \n"
     ]
    },
    {
     "name": "stderr",
     "output_type": "stream",
     "text": [
      "149it [00:00, 1486.14it/s]"
     ]
    },
    {
     "name": "stdout",
     "output_type": "stream",
     "text": [
      "Parsed ../kickoff-data-corrected/9d1b40c0-efb0-4eb5-9ff4-bd13a55c0820.1.kickoff.rdb in 1.47 s.\n",
      "Contains keys: dict_keys(['right', 'left'])\n",
      "[right] start_ts: 1525712100409 | stop_ts: 1525712697249\n",
      "[left] start_ts: 1525712100459 | stop_ts: 1525712697259\n"
     ]
    },
    {
     "name": "stderr",
     "output_type": "stream",
     "text": [
      "14922it [00:06, 2330.99it/s]\n"
     ]
    },
    {
     "name": "stdout",
     "output_type": "stream",
     "text": [
      "7469\n"
     ]
    },
    {
     "data": {
      "image/png": "[encoded data removed]",
      "text/plain": [
       "<Figure size 432x288 with 1 Axes>"
      ]
     },
     "metadata": {},
     "output_type": "display_data"
    },
    {
     "name": "stdout",
     "output_type": "stream",
     "text": [
      "Distance between real kickoff time and estimated time: 55 \n"
     ]
    },
    {
     "name": "stderr",
     "output_type": "stream",
     "text": [
      "124it [00:00, 1233.01it/s]"
     ]
    },
    {
     "name": "stdout",
     "output_type": "stream",
     "text": [
      "Parsed ../kickoff-data-corrected/af42c9ca-ae8f-4d69-a671-15950883ecac.1.kickoff.rdb in 2.15 s.\n",
      "Contains keys: dict_keys(['right', 'left'])\n",
      "[right] start_ts: 1524923719612 | stop_ts: 1524924319452\n",
      "[left] start_ts: 1524923719596 | stop_ts: 1524924319436\n"
     ]
    },
    {
     "name": "stderr",
     "output_type": "stream",
     "text": [
      "14997it [00:10, 1482.54it/s]\n"
     ]
    },
    {
     "name": "stdout",
     "output_type": "stream",
     "text": [
      "7540\n"
     ]
    },
    {
     "data": {
      "image/png": "[encoded data removed]",
      "text/plain": [
       "<Figure size 432x288 with 1 Axes>"
      ]
     },
     "metadata": {},
     "output_type": "display_data"
    },
    {
     "name": "stdout",
     "output_type": "stream",
     "text": [
      "Distance between real kickoff time and estimated time: -63 \n"
     ]
    }
   ],
   "source": [
    "X=[]\n",
    "Y=[]\n",
    "for i in range(len(config_name)):\n",
    "    tracks = parse_dump_file('../kickoff-data-corrected/'+tracks_name[i])\n",
    "    config = json.load(open('../kickoff-data-corrected/'+config_name[i], 'r'))\n",
    "    kickoff_1 = config['phase_events'][0]['ts']\n",
    "    kickoff_time = int(parse(kickoff_1).timestamp()*1000)\n",
    "    pitch_size=config['pitch_size']\n",
    "    detections = {'ball':{'left':{}, 'right':{}}, 'players':{'left':{}, 'right':{}}}\n",
    "    timestamps = set()\n",
    "    for (fd_left, ts_left), (fd_right, ts_right) in tqdm(zip(tracks['left'], tracks['right'])):\n",
    "        fd_left = pickle.loads(fd_left)\n",
    "        fd_right = pickle.loads(fd_right)\n",
    "        if np.abs(ts_left - ts_right) < 100:\n",
    "            ts_left = ts_right\n",
    "        timestamps.update({ts_left, ts_right})\n",
    "\n",
    "        detections['players']['left'][ts_left] = fd_left.top_view_player_positions\n",
    "        detections['players']['right'][ts_right] = fd_right.top_view_player_positions\n",
    "        detections['ball']['left'][ts_left] = np.array([bp for bp, bd in zip(fd_left.top_view_ball_positions, fd_left.ball_detections) if ball_ok(bp, bd)])\n",
    "        detections['ball']['right'][ts_right] = np.array([bp for bp, bd in zip(fd_right.top_view_ball_positions, fd_right.ball_detections) if ball_ok(bp, bd)])\n",
    "    timestamps_list = sorted(list(timestamps))\n",
    "    kickoff_time_ind = np.argmin(np.abs(np.subtract(timestamps_list, kickoff_time)))\n",
    "    kickoff_time_matched = timestamps_list[kickoff_time_ind]    \n",
    "    X=sequence_composition(timestamps_list,detections,pitch_size,100,1)\n",
    "    Y=labels_seq_regression(timestamps_list,detections,pitch_size,1,kickoff_time_matched)\n",
    "    kickoff_indice=Y.index(1)\n",
    "    l_classif=list()\n",
    "    l_regr=list()\n",
    "    l_regr1=list()\n",
    "    inputs=list()\n",
    "    outputs=list()\n",
    "    kickoff_not_detected=True\n",
    "    indices_classif_list=[0 for j in range(100)]\n",
    "    #X=sequence_composition(timestamps_list,detections,pitch_size,100,1)\n",
    "    for j in range(len(X)):\n",
    "        X_test=X[j]\n",
    "        #Classification\n",
    "        y_predict_classif=clf.predict([X_test])[0]\n",
    "        if clf.predict([X_test])[0]>0:\n",
    "            l_classif=l_classif+[j+i for i in range(100)]\n",
    "        #Find kickoff_sequence\n",
    "        if l_classif.count(j)>=50:\n",
    "            l_regr1.append(j-50+int(regr1.predict([X[j-50]])[0]))\n",
    "            #l_regr1.append(j-50+int(regr1.predict([X[j-50]])[0]))\n",
    "    X=list()\n",
    "    Y=list()\n",
    "    x=[]\n",
    "    y=[]\n",
    "    y1=[]\n",
    "    for j in range(6000,14000):\n",
    "        x.append(j)\n",
    "        y.append(l_regr1.count(j))\n",
    "        #y1.append(l_regr1.count(j))\n",
    "    print(kickoff_indice)\n",
    "    #plt.subplot(211)\n",
    "    plt.plot([kickoff_indice,kickoff_indice-1],[12,0],'r')\n",
    "    plt.plot(x,y,'b')\n",
    "    #plt.subplot(212)\n",
    "    #plt.plot([kickoff_indice,kickoff_indice-1],[12,0],'r')\n",
    "    #plt.plot(x,y1,'b')\n",
    "    plt.show()\n",
    "    max_x=search_kickoff_time(x,y)\n",
    "    print(\"Distance between real kickoff time and estimated time: {0} \".format(kickoff_indice-max_x))"
   ]
  },
  {
   "cell_type": "code",
   "execution_count": 95,
   "metadata": {},
   "outputs": [
    {
     "name": "stderr",
     "output_type": "stream",
     "text": [
      "734it [00:00, 3615.12it/s]"
     ]
    },
    {
     "name": "stdout",
     "output_type": "stream",
     "text": [
      "Parsed ../kickoff-data-corrected/23fb8811-638e-4be8-a01d-76cad0f5a5bf.1.kickoff.rdb in 1.54 s.\n",
      "Contains keys: dict_keys(['right', 'left'])\n",
      "[right] start_ts: 1526133303581 | stop_ts: 1526133902461\n",
      "[left] start_ts: 1526133303595 | stop_ts: 1526133902435\n"
     ]
    },
    {
     "name": "stderr",
     "output_type": "stream",
     "text": [
      "14971it [00:06, 2403.49it/s]\n"
     ]
    },
    {
     "name": "stdout",
     "output_type": "stream",
     "text": [
      "7511\n"
     ]
    },
    {
     "data": {
      "image/png": "[encoded data removed]",
      "text/plain": [
       "<Figure size 432x288 with 1 Axes>"
      ]
     },
     "metadata": {},
     "output_type": "display_data"
    },
    {
     "name": "stdout",
     "output_type": "stream",
     "text": [
      "Distance between real kickoff time and estimated time: 55 \n"
     ]
    },
    {
     "name": "stderr",
     "output_type": "stream",
     "text": [
      "798it [00:00, 4148.73it/s]"
     ]
    },
    {
     "name": "stdout",
     "output_type": "stream",
     "text": [
      "Parsed ../kickoff-data-corrected/3c7f617c-c839-4e5a-9e80-52017fa85d93.1.kickoff.rdb in 1.54 s.\n",
      "Contains keys: dict_keys(['right', 'left'])\n",
      "[right] start_ts: 1525006516933 | stop_ts: 1525007115773\n",
      "[left] start_ts: 1525006516949 | stop_ts: 1525007115789\n"
     ]
    },
    {
     "name": "stderr",
     "output_type": "stream",
     "text": [
      "14972it [00:07, 2094.34it/s]\n"
     ]
    },
    {
     "name": "stdout",
     "output_type": "stream",
     "text": [
      "7501\n"
     ]
    },
    {
     "data": {
      "image/png": "[encoded data removed]",
      "text/plain": [
       "<Figure size 432x288 with 1 Axes>"
      ]
     },
     "metadata": {},
     "output_type": "display_data"
    },
    {
     "name": "stdout",
     "output_type": "stream",
     "text": [
      "Distance between real kickoff time and estimated time: 10 \n"
     ]
    },
    {
     "name": "stderr",
     "output_type": "stream",
     "text": [
      "342it [00:00, 3409.23it/s]"
     ]
    },
    {
     "name": "stdout",
     "output_type": "stream",
     "text": [
      "Parsed ../kickoff-data-corrected/4176c56a-b0df-4e64-aaeb-09150829ba15.1.kickoff.rdb in 2.08 s.\n",
      "Contains keys: dict_keys(['right', 'left'])\n",
      "[right] start_ts: 1526738122432 | stop_ts: 1526738722232\n",
      "[left] start_ts: 1526738122412 | stop_ts: 1526738722252\n"
     ]
    },
    {
     "name": "stderr",
     "output_type": "stream",
     "text": [
      "14996it [00:07, 2028.22it/s]\n"
     ]
    },
    {
     "name": "stdout",
     "output_type": "stream",
     "text": [
      "7540\n"
     ]
    },
    {
     "data": {
      "image/png": "[encoded data removed]",
      "text/plain": [
       "<Figure size 432x288 with 1 Axes>"
      ]
     },
     "metadata": {},
     "output_type": "display_data"
    },
    {
     "name": "stdout",
     "output_type": "stream",
     "text": [
      "Distance between real kickoff time and estimated time: 10 \n"
     ]
    },
    {
     "name": "stderr",
     "output_type": "stream",
     "text": [
      "260it [00:00, 1306.18it/s]"
     ]
    },
    {
     "name": "stdout",
     "output_type": "stream",
     "text": [
      "Parsed ../kickoff-data-corrected/4501652f-d7e6-4e3e-9ad2-e01198278688.1.kickoff.rdb in 2.13 s.\n",
      "Contains keys: dict_keys(['right', 'left'])\n",
      "[right] start_ts: 1526216102566 | stop_ts: 1526216702406\n",
      "[left] start_ts: 1526216102558 | stop_ts: 1526216702398\n"
     ]
    },
    {
     "name": "stderr",
     "output_type": "stream",
     "text": [
      "14997it [00:10, 1493.96it/s]\n"
     ]
    },
    {
     "name": "stdout",
     "output_type": "stream",
     "text": [
      "7476\n"
     ]
    },
    {
     "data": {
      "image/png": "[encoded data removed]",
      "text/plain": [
       "<Figure size 432x288 with 1 Axes>"
      ]
     },
     "metadata": {},
     "output_type": "display_data"
    },
    {
     "name": "stdout",
     "output_type": "stream",
     "text": [
      "Distance between real kickoff time and estimated time: 13 \n"
     ]
    },
    {
     "name": "stderr",
     "output_type": "stream",
     "text": [
      "163it [00:00, 746.96it/s]"
     ]
    },
    {
     "name": "stdout",
     "output_type": "stream",
     "text": [
      "Parsed ../kickoff-data-corrected/4903143c-68be-45f0-9746-e29547b7fa94.1.kickoff.rdb in 4.50 s.\n",
      "Contains keys: dict_keys(['right', 'left'])\n",
      "[right] start_ts: 1525528504685 | stop_ts: 1525529102525\n",
      "[left] start_ts: 1525528504705 | stop_ts: 1525529102545\n"
     ]
    },
    {
     "name": "stderr",
     "output_type": "stream",
     "text": [
      "14947it [00:12, 1231.72it/s]\n"
     ]
    },
    {
     "name": "stdout",
     "output_type": "stream",
     "text": [
      "7516\n"
     ]
    },
    {
     "data": {
      "image/png": "[encoded data removed]",
      "text/plain": [
       "<Figure size 432x288 with 1 Axes>"
      ]
     },
     "metadata": {},
     "output_type": "display_data"
    },
    {
     "name": "stdout",
     "output_type": "stream",
     "text": [
      "Distance between real kickoff time and estimated time: 710 \n"
     ]
    },
    {
     "name": "stderr",
     "output_type": "stream",
     "text": [
      "71it [00:00, 703.08it/s]"
     ]
    },
    {
     "name": "stdout",
     "output_type": "stream",
     "text": [
      "Parsed ../kickoff-data-corrected/4b949eae-068b-4b0a-bc88-f5ef0a97b2ba.1.kickoff.rdb in 4.57 s.\n",
      "Contains keys: dict_keys(['right', 'left'])\n",
      "[right] start_ts: 1524318935116 | stop_ts: 1524319532636\n",
      "[left] start_ts: 1524318934512 | stop_ts: 1524319532312\n"
     ]
    },
    {
     "name": "stderr",
     "output_type": "stream",
     "text": [
      "14940it [00:12, 1230.26it/s]\n"
     ]
    },
    {
     "name": "stdout",
     "output_type": "stream",
     "text": [
      "7468\n"
     ]
    },
    {
     "data": {
      "image/png": "[encoded data removed]",
      "text/plain": [
       "<Figure size 432x288 with 1 Axes>"
      ]
     },
     "metadata": {},
     "output_type": "display_data"
    },
    {
     "name": "stdout",
     "output_type": "stream",
     "text": [
      "Distance between real kickoff time and estimated time: 15 \n"
     ]
    },
    {
     "name": "stderr",
     "output_type": "stream",
     "text": [
      "672it [00:00, 2977.95it/s]"
     ]
    },
    {
     "name": "stdout",
     "output_type": "stream",
     "text": [
      "Parsed ../kickoff-data-corrected/536b68b9-507f-408a-9a91-f994667b1d16.1.kickoff.rdb in 1.93 s.\n",
      "Contains keys: dict_keys(['right', 'left'])\n",
      "[right] start_ts: 1526829914293 | stop_ts: 1526830513133\n",
      "[left] start_ts: 1526829914271 | stop_ts: 1526830513111\n"
     ]
    },
    {
     "name": "stderr",
     "output_type": "stream",
     "text": [
      "14971it [00:06, 2287.62it/s]\n"
     ]
    },
    {
     "name": "stdout",
     "output_type": "stream",
     "text": [
      "7535\n"
     ]
    },
    {
     "data": {
      "image/png": "[encoded data removed]",
      "text/plain": [
       "<Figure size 432x288 with 1 Axes>"
      ]
     },
     "metadata": {},
     "output_type": "display_data"
    },
    {
     "name": "stdout",
     "output_type": "stream",
     "text": [
      "Distance between real kickoff time and estimated time: 61 \n"
     ]
    },
    {
     "name": "stderr",
     "output_type": "stream",
     "text": [
      "557it [00:00, 2897.68it/s]"
     ]
    },
    {
     "name": "stdout",
     "output_type": "stream",
     "text": [
      "Parsed ../kickoff-data-corrected/66b6caf7-e5c0-45dd-874f-de8ac2e3c9ff.1.kickoff.rdb in 2.12 s.\n",
      "Contains keys: dict_keys(['right', 'left'])\n",
      "[right] start_ts: 1526921712730 | stop_ts: 1526922309650\n",
      "[left] start_ts: 1526921712782 | stop_ts: 1526922309662\n"
     ]
    },
    {
     "name": "stderr",
     "output_type": "stream",
     "text": [
      "14922it [00:06, 2370.98it/s]\n"
     ]
    },
    {
     "name": "stdout",
     "output_type": "stream",
     "text": [
      "7452\n"
     ]
    },
    {
     "data": {
      "image/png": "[encoded data removed]",
      "text/plain": [
       "<Figure size 432x288 with 1 Axes>"
      ]
     },
     "metadata": {},
     "output_type": "display_data"
    },
    {
     "name": "stdout",
     "output_type": "stream",
     "text": [
      "Distance between real kickoff time and estimated time: 49 \n"
     ]
    },
    {
     "name": "stderr",
     "output_type": "stream",
     "text": [
      "332it [00:00, 1555.55it/s]"
     ]
    },
    {
     "name": "stdout",
     "output_type": "stream",
     "text": [
      "Parsed ../kickoff-data-corrected/8d6fc150-9f6b-4e5c-8a99-d2ca96b5ffa5.1.kickoff.rdb in 2.92 s.\n",
      "Contains keys: dict_keys(['right', 'left'])\n",
      "[right] start_ts: 1524156948802 | stop_ts: 1524157546362\n",
      "[left] start_ts: 1524156948162 | stop_ts: 1524157546082\n"
     ]
    },
    {
     "name": "stderr",
     "output_type": "stream",
     "text": [
      "14940it [00:09, 1610.71it/s]\n"
     ]
    },
    {
     "name": "stdout",
     "output_type": "stream",
     "text": [
      "7462\n"
     ]
    },
    {
     "data": {
      "image/png": "[encoded data removed]",
      "text/plain": [
       "<Figure size 432x288 with 1 Axes>"
      ]
     },
     "metadata": {},
     "output_type": "display_data"
    },
    {
     "name": "stdout",
     "output_type": "stream",
     "text": [
      "Distance between real kickoff time and estimated time: 53 \n"
     ]
    },
    {
     "name": "stderr",
     "output_type": "stream",
     "text": [
      "299it [00:00, 1484.61it/s]"
     ]
    },
    {
     "name": "stdout",
     "output_type": "stream",
     "text": [
      "Parsed ../kickoff-data-corrected/9d1b40c0-efb0-4eb5-9ff4-bd13a55c0820.1.kickoff.rdb in 1.99 s.\n",
      "Contains keys: dict_keys(['right', 'left'])\n",
      "[right] start_ts: 1525712100409 | stop_ts: 1525712697249\n",
      "[left] start_ts: 1525712100459 | stop_ts: 1525712697259\n"
     ]
    },
    {
     "name": "stderr",
     "output_type": "stream",
     "text": [
      "14922it [00:06, 2286.06it/s]\n"
     ]
    },
    {
     "name": "stdout",
     "output_type": "stream",
     "text": [
      "7469\n"
     ]
    },
    {
     "data": {
      "image/png": "[encoded data removed]",
      "text/plain": [
       "<Figure size 432x288 with 1 Axes>"
      ]
     },
     "metadata": {},
     "output_type": "display_data"
    },
    {
     "name": "stdout",
     "output_type": "stream",
     "text": [
      "Distance between real kickoff time and estimated time: 58 \n"
     ]
    },
    {
     "name": "stderr",
     "output_type": "stream",
     "text": [
      "246it [00:00, 1192.73it/s]"
     ]
    },
    {
     "name": "stdout",
     "output_type": "stream",
     "text": [
      "Parsed ../kickoff-data-corrected/af42c9ca-ae8f-4d69-a671-15950883ecac.1.kickoff.rdb in 3.47 s.\n",
      "Contains keys: dict_keys(['right', 'left'])\n",
      "[right] start_ts: 1524923719612 | stop_ts: 1524924319452\n",
      "[left] start_ts: 1524923719596 | stop_ts: 1524924319436\n"
     ]
    },
    {
     "name": "stderr",
     "output_type": "stream",
     "text": [
      "14997it [00:10, 1481.49it/s]\n"
     ]
    },
    {
     "name": "stdout",
     "output_type": "stream",
     "text": [
      "7540\n"
     ]
    },
    {
     "data": {
      "image/png": "[encoded data removed]",
      "text/plain": [
       "<Figure size 432x288 with 1 Axes>"
      ]
     },
     "metadata": {},
     "output_type": "display_data"
    },
    {
     "name": "stdout",
     "output_type": "stream",
     "text": [
      "Distance between real kickoff time and estimated time: 203 \n"
     ]
    }
   ],
   "source": [
    "X=[]\n",
    "Y=[]\n",
    "for i in range(len(config_name)):\n",
    "    tracks = parse_dump_file('../kickoff-data-corrected/'+tracks_name[i])\n",
    "    config = json.load(open('../kickoff-data-corrected/'+config_name[i], 'r'))\n",
    "    kickoff_1 = config['phase_events'][0]['ts']\n",
    "    kickoff_time = int(parse(kickoff_1).timestamp()*1000)\n",
    "    pitch_size=config['pitch_size']\n",
    "    detections = {'ball':{'left':{}, 'right':{}}, 'players':{'left':{}, 'right':{}}}\n",
    "    timestamps = set()\n",
    "    for (fd_left, ts_left), (fd_right, ts_right) in tqdm(zip(tracks['left'], tracks['right'])):\n",
    "        fd_left = pickle.loads(fd_left)\n",
    "        fd_right = pickle.loads(fd_right)\n",
    "        if np.abs(ts_left - ts_right) < 100:\n",
    "            ts_left = ts_right\n",
    "        timestamps.update({ts_left, ts_right})\n",
    "\n",
    "        detections['players']['left'][ts_left] = fd_left.top_view_player_positions\n",
    "        detections['players']['right'][ts_right] = fd_right.top_view_player_positions\n",
    "        detections['ball']['left'][ts_left] = np.array([bp for bp, bd in zip(fd_left.top_view_ball_positions, fd_left.ball_detections) if ball_ok(bp, bd)])\n",
    "        detections['ball']['right'][ts_right] = np.array([bp for bp, bd in zip(fd_right.top_view_ball_positions, fd_right.ball_detections) if ball_ok(bp, bd)])\n",
    "    timestamps_list = sorted(list(timestamps))\n",
    "    kickoff_time_ind = np.argmin(np.abs(np.subtract(timestamps_list, kickoff_time)))\n",
    "    kickoff_time_matched = timestamps_list[kickoff_time_ind]    \n",
    "    X=sequence_composition(timestamps_list,detections,pitch_size,100,1)\n",
    "    Y=labels_seq_regression(timestamps_list,detections,pitch_size,1,kickoff_time_matched)\n",
    "    kickoff_indice=Y.index(1)\n",
    "    l_classif=list()\n",
    "    l_regr=list()\n",
    "    l_regr1=list()\n",
    "    inputs=list()\n",
    "    outputs=list()\n",
    "    kickoff_not_detected=True\n",
    "    indices_classif_list=[0 for j in range(100)]\n",
    "    #X=sequence_composition(timestamps_list,detections,pitch_size,100,1)\n",
    "    for j in range(len(X)):\n",
    "        X_test=X[j]\n",
    "        #Classification\n",
    "        y_predict_classif=clf.predict([X_test])[0]\n",
    "        if clf.predict([X_test])[0]>0:\n",
    "            l_classif=l_classif+[j+i for i in range(100)]\n",
    "        #Find kickoff_sequence\n",
    "        if l_classif.count(j)>=50:\n",
    "            l_regr1.append(j-50+int(regr1.predict([X[j-50]])[0]))\n",
    "            #l_regr1.append(j-50+int(regr1.predict([X[j-50]])[0]))\n",
    "    X=list()\n",
    "    Y=list()\n",
    "    x=[]\n",
    "    y=[]\n",
    "    y1=[]\n",
    "    for j in range(6000,14000):\n",
    "        x.append(j)\n",
    "        y.append(l_regr1.count(j))\n",
    "        #y1.append(l_regr1.count(j))\n",
    "    print(kickoff_indice)\n",
    "    #plt.subplot(211)\n",
    "    plt.plot([kickoff_indice,kickoff_indice-1],[12,0],'r')\n",
    "    plt.plot(x,y,'b')\n",
    "    #plt.subplot(212)\n",
    "    #plt.plot([kickoff_indice,kickoff_indice-1],[12,0],'r')\n",
    "    #plt.plot(x,y1,'b')\n",
    "    plt.show()\n",
    "    max_x=search_kickoff_time(x,y)\n",
    "    print(\"Distance between real kickoff time and estimated time: {0} \".format(kickoff_indice-max_x))"
   ]
  },
  {
   "cell_type": "code",
   "execution_count": 86,
   "metadata": {},
   "outputs": [
    {
     "data": {
      "text/plain": [
       "39.0"
      ]
     },
     "execution_count": 86,
     "metadata": {},
     "output_type": "execute_result"
    }
   ],
   "source": [
    "(60+19+34+48+20+1+78+12+55+63)/10"
   ]
  },
  {
   "cell_type": "code",
   "execution_count": 39,
   "metadata": {},
   "outputs": [
    {
     "name": "stdout",
     "output_type": "stream",
     "text": [
      "Training classification\n"
     ]
    }
   ],
   "source": [
    "#Create inputs\n",
    "dataset_classif='../kickoff-data-corrected/data.pickle.1.10.classif.1sym'\n",
    "nbre_matches=200\n",
    "X_classif=list()\n",
    "Y_classif=list()\n",
    "indices_classif=[0]\n",
    "with open(dataset_classif, 'rb') as f:\n",
    "    for i in range(nbre_matches):\n",
    "        data = pickle.load(f)\n",
    "        X_classif=X_classif+data[0]\n",
    "        Y_classif=Y_classif+data[1]\n",
    "#Training\n",
    "print(\"Training classification\")\n",
    "#Shuffle data\n",
    "X_classif1,Y_classif1=shuffle_data(X_classif,Y_classif)\n",
    "#x_test,y_test=shuffle_data(x_test1,y_test1)\n",
    "#Train classifier\n",
    "clf=RandomForestClassifier(n_estimators=7,max_depth=7)\n",
    "clf.fit(X_classif1,Y_classif1)\n",
    "X_classif=list()\n",
    "Y_classif=list()\n",
    "X_classif1=list()\n",
    "Y_classif1=list()\n",
    "\n"
   ]
  },
  {
   "cell_type": "code",
   "execution_count": 80,
   "metadata": {},
   "outputs": [
    {
     "name": "stdout",
     "output_type": "stream",
     "text": [
      "Training regression\n",
      "28942\n",
      "15302\n"
     ]
    }
   ],
   "source": [
    "dataset_regr='../kickoff-data-corrected/data.pickle.regression.1sym.class3'\n",
    "X_regr=list()\n",
    "Y_regr=list()\n",
    "indices_regr=[0]\n",
    "nbre_matches=200\n",
    "\n",
    "with open(dataset_regr, 'rb') as f:\n",
    "    for i in range(nbre_matches):\n",
    "        data = pickle.load(f)\n",
    "        #X_regr+=data[0]\n",
    "        X_regr+=takeoff_ball_prob(data[0],0.3)\n",
    "        #X_regr+=takeoff_players_prob(X_r,0.7)\n",
    "        Y_regr+=data[1]\n",
    "\n",
    "\n",
    "print(\"Training regression\")\n",
    "#Shuffle data\n",
    "X_regr1,Y_regr1=shuffle_data(X_regr,Y_regr)\n",
    "Y_regr1=change_data_regression(Y_regr1)\n",
    "#x_test,y_test=shuffle_data(x_test1,y_test1)\n",
    "                    \n",
    "#Train regressor\n",
    "regr=RandomForestRegressor(n_estimators=7,max_depth=7)\n",
    "regr.fit(X_regr1,Y_regr1)\n",
    "\n",
    "print(Y_regr1.count(50))\n",
    "print(Y_regr1.count(-50))\n",
    "X_regr=list()\n",
    "Y_regr=list()\n",
    "X_regr1=list()\n",
    "Y_regr1=list()\n"
   ]
  },
  {
   "cell_type": "code",
   "execution_count": 93,
   "metadata": {},
   "outputs": [
    {
     "name": "stdout",
     "output_type": "stream",
     "text": [
      "Training regression\n",
      "28942\n",
      "15302\n"
     ]
    }
   ],
   "source": [
    "dataset_regr='../kickoff-data-corrected/data.pickle.regression.1sym.class3'\n",
    "X_regr=list()\n",
    "Y_regr=list()\n",
    "indices_regr=[0]\n",
    "nbre_matches=200\n",
    "\n",
    "with open(dataset_regr, 'rb') as f:\n",
    "    for i in range(nbre_matches):\n",
    "        data = pickle.load(f)\n",
    "        X_r=takeoff_ball_prob(data[0],0.22)\n",
    "        X_regr+=takeoff_players_prob(X_r,0.66)\n",
    "        Y_regr+=data[1]\n",
    "\n",
    "\n",
    "print(\"Training regression\")\n",
    "#Shuffle data\n",
    "X_regr1,Y_regr1=shuffle_data(X_regr,Y_regr)\n",
    "Y_regr1=change_data_regression(Y_regr1)\n",
    "#x_test,y_test=shuffle_data(x_test1,y_test1)\n",
    "                    \n",
    "#Train regressor\n",
    "regr1=RandomForestRegressor(n_estimators=7,max_depth=7)\n",
    "regr1.fit(X_regr1,Y_regr1)\n",
    "\n",
    "print(Y_regr1.count(50))\n",
    "print(Y_regr1.count(-50))\n",
    "X_regr=list()\n",
    "Y_regr=list()\n",
    "X_regr1=list()\n",
    "Y_regr1=list()\n"
   ]
  },
  {
   "cell_type": "code",
   "execution_count": null,
   "metadata": {},
   "outputs": [],
   "source": []
  },
  {
   "cell_type": "code",
   "execution_count": null,
   "metadata": {},
   "outputs": [],
   "source": [
    "X=[]\n",
    "Y=[]"
   ]
  },
  {
   "cell_type": "code",
   "execution_count": 66,
   "metadata": {},
   "outputs": [],
   "source": [
    "X=[]\n",
    "Y=[]\n",
    "X=sequence_composition(timestamps_list,detections,pitch_size,100,1)\n",
    "Y=labels_seq_regression(timestamps_list,detections,pitch_size,1,kickoff_time_matched)\n",
    "kickoff_indice=Y.index(1)"
   ]
  },
  {
   "cell_type": "code",
   "execution_count": 67,
   "metadata": {},
   "outputs": [],
   "source": [
    "l_classif=list()\n",
    "l_regr=list()\n",
    "inputs=list()\n",
    "outputs=list()\n",
    "kickoff_not_detected=True\n",
    "indices_classif_list=[0 for j in range(100)]\n",
    "#X=sequence_composition(timestamps_list,detections,pitch_size,100,1)\n",
    "for j in range(len(X)):\n",
    "    X_test=X[j]\n",
    "    #Classification\n",
    "    y_predict_classif=clf.predict([X_test])[0]\n",
    "    if clf.predict([X_test])[0]>0:\n",
    "        l_classif=l_classif+[j+i for i in range(100)]\n",
    "    #Find kickoff_sequence\n",
    "    if l_classif.count(j)>=50:\n",
    "        l_regr.append(j-50+int(regr.predict([X[j-50]])[0]))\n"
   ]
  },
  {
   "cell_type": "code",
   "execution_count": 61,
   "metadata": {},
   "outputs": [
    {
     "name": "stdout",
     "output_type": "stream",
     "text": [
      "[6677, 6678, 6679, 6680, 6681, 6682, 6683, 6684, 6685, 6686, 6687, 6687, 6688, 6689, 6690, 6691, 6692, 6693, 6694, 6695, 6696, 6695, 6694, 6695, 6696, 6697, 6697, 6693, 6694, 6693, 6694, 6695, 6684, 6685, 6688, 6687, 6695, 6686, 6689, 6695, 6679, 6694, 6695, 6691, 6692, 6708, 6709, 6715, 6716, 6709, 6709, 6710, 6711, 6712, 6712, 6708, 6725, 6711, 6734, 6735, 6735, 6736, 6737, 6738, 6739, 6742, 6743, 6744, 6744, 6745, 6747, 6748, 6749, 6750, 6751, 6752, 6753, 6754, 6755, 6756, 6757, 6758, 6759, 6760, 6761, 6762, 6763, 6764, 6765, 6766, 6767, 6768, 6769, 6770, 6771, 6772, 6773, 6774, 6775, 6776, 6777, 6778, 6779, 6780, 6781, 6782, 6783, 6784, 6785, 6786, 6787, 6788, 6789, 6790, 6791, 6792, 6793, 6794, 6795, 6796, 6797, 6798, 6799, 6800, 6801, 6802, 6803, 6804, 6805, 6806, 6807, 6808, 6809, 6810, 6811, 6812, 6813, 6814, 6815, 6816, 6817, 6818, 6819, 6820, 6821, 6822, 6823, 6824, 6825, 6826, 6827, 6828, 6829, 6830, 6831, 6832, 6833, 6834, 6835, 6836, 6837, 6838, 6839, 6840, 6841, 6842, 6843, 6844, 6845, 6846, 6847, 6848, 6849, 6850, 6851, 6852, 6853, 6854, 6855, 6856, 6857, 6858, 6859, 6860, 6861, 6861, 6863, 6863, 6864, 6866, 6866, 6868, 6869, 6870, 6871, 6872, 6873, 6874, 6875, 6876, 6877, 6878, 6879, 6880, 6881, 6882, 6883, 6884, 6885, 6886, 6887, 6888, 6889, 6890, 6891, 6892, 6893, 6894, 6895, 6896, 6897, 6898, 6899, 6900, 6901, 6902, 6903, 6904, 6905, 6906, 6907, 6908, 6909, 6910, 6911, 6912, 6913, 6914, 6915, 6916, 6917, 6917, 6919, 6919, 6921, 6922, 6923, 6924, 6925, 6926, 6927, 6928, 6929, 6930, 6931, 6932, 6933, 6934, 6935, 6936, 6937, 6938, 6939, 6940, 6941, 6942, 6943, 6944, 6945, 6945, 6946, 6947, 6949, 6950, 6951, 6951, 6953, 6953, 6955, 6956, 6957, 6958, 6959, 6960, 6961, 6962, 6963, 6964, 6965, 6966, 6967, 6968, 6969, 6970, 6971, 6972, 6973, 6974, 6975, 6976, 6977, 6978, 6979, 6980, 6981, 6982, 6983, 6984, 6985, 6986, 6987, 6988, 6989, 6990, 6991, 6992, 6993, 6994, 6995, 6996, 6997, 6998, 6999, 7000, 7001, 7002, 7003, 7004, 7005, 7006, 7007, 7008, 7009, 7010, 7011, 7012, 7013, 7014, 7015, 7016, 7017, 7018, 7019, 7020, 7021, 7022, 7023, 7024, 7025, 7026, 7027, 7028, 7029, 7030, 7031, 7032, 7033, 7034, 7035, 7036, 7037, 7038, 7039, 7040, 7041, 7042, 7043, 7044, 7045, 7046, 7047, 7048, 7049, 7050, 7051, 7052, 7053, 7054, 7055, 7056, 7057, 7058, 7059, 7060, 7061, 7062, 7063, 7064, 7065, 7066, 7067, 7068, 7069, 7070, 7071, 7072, 7073, 7074, 7075, 7076, 7077, 7078, 7079, 7080, 7081, 7082, 7083, 7084, 7085, 7086, 7087, 7088, 7089, 7090, 7091, 7092, 7093, 7094, 7095, 7096, 7097, 7098, 7099, 7100, 7101, 7102, 7103, 7104, 7105, 7106, 7107, 7108, 7109, 7110, 7111, 7112, 7113, 7114, 7115, 7116, 7117, 7118, 7119, 7120, 7121, 7122, 7123, 7124, 7125, 7126, 7127, 7128, 7129, 7130, 7131, 7132, 7133, 7134, 7135, 7136, 7137, 7138, 7139, 7140, 7141, 7142, 7143, 7144, 7145, 7146, 7147, 7148, 7149, 7150, 7151, 7152, 7153, 7154, 7155, 7156, 7157, 7158, 7159, 7160, 7161, 7162, 7163, 7164, 7165, 7166, 7167, 7168, 7169, 7170, 7171, 7172, 7173, 7174, 7175, 7176, 7177, 7178, 7179, 7180, 7181, 7182, 7183, 7184, 7185, 7186, 7187, 7188, 7189, 7190, 7191, 7192, 7193, 7194, 7195, 7196, 7197, 7198, 7199, 7200, 7201, 7202, 7203, 7204, 7205, 7206, 7207, 7208, 7209, 7210, 7211, 7212, 7213, 7214, 7215, 7216, 7217, 7218, 7219, 7220, 7221, 7222, 7223, 7224, 7225, 7226, 7227, 7228, 7229, 7230, 7230, 7231, 7232, 7234, 7235, 7236, 7237, 7238, 7239, 7240, 7241, 7242, 7243, 7243, 7245, 7245, 7247, 7248, 7249, 7250, 7251, 7252, 7253, 7254, 7255, 7256, 7257, 7258, 7259, 7260, 7261, 7262, 7263, 7264, 7265, 7266, 7267, 7268, 7269, 7270, 7271, 7272, 7273, 7274, 7275, 7276, 7277, 7278, 7279, 7280, 7281, 7282, 7283, 7284, 7285, 7286, 7287, 7288, 7289, 7290, 7291, 7292, 7293, 7294, 7295, 7296, 7297, 7298, 7299, 7300, 7301, 7302, 7303, 7304, 7305, 7306, 7307, 7308, 7309, 7310, 7311, 7312, 7313, 7314, 7315, 7316, 7317, 7318, 7319, 7320, 7321, 7322, 7323, 7324, 7325, 7326, 7327, 7328, 7329, 7330, 7331, 7332, 7333, 7334, 7335, 7336, 7337, 7338, 7339, 7340, 7341, 7342, 7343, 7344, 7345, 7346, 7347, 7348, 7349, 7350, 7351, 7352, 7353, 7354, 7355, 7356, 7357, 7358, 7359, 7360, 7361, 7362, 7363, 7364, 7365, 7366, 7367, 7368, 7369, 7370, 7371, 7372, 7373, 7374, 7375, 7376, 7377, 7378, 7379, 7380, 7381, 7382, 7383, 7384, 7385, 7386, 7387, 7388, 7389, 7390, 7391, 7392, 7393, 7394, 7395, 7396, 7397, 7398, 7399, 7400, 7401, 7402, 7403, 7404, 7405, 7406, 7407, 7408, 7409, 7410, 7411, 7412, 7413, 7414, 7415, 7416, 7417, 7417, 7419, 7419, 7421, 7422, 7423, 7424, 7425, 7426, 7427, 7428, 7429, 7430, 7431, 7432, 7433, 7434, 7435, 7436, 7437, 7438, 7439, 7440, 7441, 7442, 7443, 7444, 7445, 7446, 7447, 7448, 7449, 7450, 7451, 7452, 7453, 7454, 7455, 7456, 7457, 7458, 7459, 7460, 7461, 7462, 7463, 7464, 7465, 7466, 7467, 7468, 7469, 7470, 7471, 7472, 7473, 7474, 7475, 7476, 7477, 7478, 7479, 7480, 7481, 7482, 7483, 7484, 7485, 7486, 7487, 7488, 7489, 7490, 7491, 7492, 7493, 7494, 7495, 7496, 7497, 7498, 7499, 7500, 7500, 7501, 7502, 7503, 7505, 7506, 7507, 7508, 7508, 7510, 7510, 7512, 7512, 7513, 7514, 7515, 7515, 7516, 7515, 7518, 7518, 7512, 7518, 7518, 7515, 7520, 7510, 7508, 7516, 7508, 7516, 7510, 7503, 7512, 7505, 7514, 7507, 7506, 7504, 7506, 7506, 7508, 7506, 7502, 7505, 7509, 7508, 7509, 7512, 7513, 7514, 7515, 7516, 7517, 7518, 7519, 7520, 7521, 7522, 7523, 7524, 7525, 7526, 7527, 7528, 7529, 7530, 7531, 7532, 7533, 7534, 7500, 7501, 7502, 7501, 7502, 7503, 7504, 7505, 7508, 7507, 7508, 7511, 7510, 7511, 7512, 7513, 7514, 7515, 7516, 7517, 7518, 7519, 7512, 7513, 7514, 7518, 7516, 7520, 7518, 7519, 7531, 7521, 7520, 7521, 7524, 7525, 7526, 7530, 7528, 7532, 7530, 7531, 7530, 7533, 7534, 7533, 7536, 7537, 7538, 7544, 7545, 7546, 7547, 7548, 7542, 7551, 7544, 7552, 7553, 7552, 7553, 7557, 7560, 7559, 7555, 7565, 7565, 7566, 7567, 7562, 7564, 12603, 12601, 12602, 12603, 12604, 12605, 12606, 12607, 12608, 12609, 12610, 12611, 12612, 12613, 12614, 12615, 12616, 12617, 12618, 12619, 12620, 12621, 12622, 12623, 12624, 12625, 12626, 12627, 12628, 12629, 12630, 12631, 12632, 12633, 12634, 12635, 12636, 12637, 12638, 12639, 12640, 12641, 12642, 12643, 12644, 12645, 12646, 12647, 12648, 12652, 12653, 12654, 12661, 12662, 12663, 12664, 12668, 12669, 12670, 12671, 12672, 12673, 12674, 12675, 12676, 12677, 12678, 12679, 12680, 12681, 12682, 12683, 12684, 12685, 12686, 12687, 12685, 12686, 12687, 12689, 12690, 12691, 12694, 12695, 12696, 12697, 12698, 12699, 12700, 12701, 12702, 12703, 12704, 12705, 12703, 12704, 12705, 12704, 12705, 12706, 12710, 12711, 12712, 12708, 12709, 12710, 12711, 12712, 12713, 12714, 12715, 12723, 12724, 12725, 12726, 12727, 12728, 12729, 12730, 12731, 12732, 12733, 12731, 12735, 12736, 12735, 12738, 12739, 12740, 12741, 12742, 12743, 12744, 12745, 12746, 12736, 12748, 12749, 12750, 12751, 12741, 12742, 12743, 12744, 12745, 12746, 12747, 13742, 13747, 13742, 13747, 13751, 13752, 13750, 13756, 13754, 13753, 13756, 13755, 13756, 13757, 13754, 13759, 13760, 13761, 13762, 13763, 13764, 13765, 13766, 13767, 13768, 13769, 13770, 13771, 13772, 13773, 13774, 13775, 13776, 13777, 13778, 13773, 13774, 13748, 13748, 13742, 13750, 13751, 13747, 13753, 13746, 13748, 13756, 13749, 13761, 13754, 13753, 13756, 13755, 13756, 13757, 13758, 13759, 13760, 13761, 13762, 13763, 13766, 13767, 13768, 13767, 13768, 13769, 13772, 13776, 13777, 13778, 13776, 13777, 13776, 13777, 13778, 13779, 13780, 13781, 13782, 13785, 13786, 13787, 13788, 13789, 13790, 13794, 13797, 13798, 13801, 13802, 13803, 13804, 13805, 13806, 13807, 13808, 13809, 13810]\n"
     ]
    }
   ],
   "source": [
    "print(l_regr)"
   ]
  },
  {
   "cell_type": "code",
   "execution_count": 44,
   "metadata": {},
   "outputs": [],
   "source": [
    "x=[]\n",
    "z=[]\n",
    "for j in range(7000,12000):\n",
    "    x.append(j+50)\n",
    "    z.append(regr.predict([X[j]]))"
   ]
  },
  {
   "cell_type": "code",
   "execution_count": 45,
   "metadata": {},
   "outputs": [
    {
     "data": {
      "image/png": "[encoded data removed]",
      "text/plain": [
       "<Figure size 432x288 with 1 Axes>"
      ]
     },
     "metadata": {},
     "output_type": "display_data"
    }
   ],
   "source": [
    "%matplotlib inline\n",
    "plt.plot(x,z)\n",
    "plt.show()"
   ]
  },
  {
   "cell_type": "code",
   "execution_count": 46,
   "metadata": {},
   "outputs": [
    {
     "data": {
      "image/png": "[encoded data removed]",
      "text/plain": [
       "<Figure size 432x288 with 1 Axes>"
      ]
     },
     "metadata": {},
     "output_type": "display_data"
    }
   ],
   "source": [
    "%matplotlib inline\n",
    "n, bins, patches = plt.hist(l_classif, 50, density=True, facecolor='g', alpha=0.75)\n",
    "n, bins, patches = plt.hist([kickoff_indice], 3, density=True, facecolor='r', alpha=0.75)\n",
    "plt.axis([0, 15000, 0, 0.001])\n",
    "plt.show()"
   ]
  },
  {
   "cell_type": "code",
   "execution_count": 47,
   "metadata": {},
   "outputs": [
    {
     "data": {
      "image/png": "[encoded data removed]",
      "text/plain": [
       "<Figure size 432x288 with 1 Axes>"
      ]
     },
     "metadata": {},
     "output_type": "display_data"
    }
   ],
   "source": [
    "n, bins, patches = plt.hist(l_regr, 50, density=True, facecolor='g', alpha=0.75)\n",
    "n, bins, patches = plt.hist([kickoff_indice], 1, density=False, facecolor='r', alpha=0.75)\n",
    "plt.axis([6000, 14000, 0, 0.002])\n",
    "plt.show()"
   ]
  },
  {
   "cell_type": "code",
   "execution_count": 74,
   "metadata": {},
   "outputs": [],
   "source": [
    "x=[]\n",
    "y=[]\n",
    "for j in range(7400,7600):\n",
    "    x.append(j)\n",
    "    y.append(l_regr.count(j))"
   ]
  },
  {
   "cell_type": "code",
   "execution_count": 75,
   "metadata": {},
   "outputs": [
    {
     "name": "stdout",
     "output_type": "stream",
     "text": [
      "52\n"
     ]
    },
    {
     "data": {
      "image/png": "[encoded data removed]",
      "text/plain": [
       "<Figure size 432x288 with 1 Axes>"
      ]
     },
     "metadata": {},
     "output_type": "display_data"
    }
   ],
   "source": [
    "plt.plot([kickoff_indice,kickoff_indice-1],[12,0],'r')\n",
    "plt.plot(x,y,'b')\n",
    "print(kickoff_indice-search_kickoff_time(x,y))\n",
    "plt.show()"
   ]
  },
  {
   "cell_type": "code",
   "execution_count": 94,
   "metadata": {},
   "outputs": [
    {
     "data": {
      "image/png": "[encoded data removed]",
      "text/plain": [
       "<Figure size 432x288 with 1 Axes>"
      ]
     },
     "metadata": {},
     "output_type": "display_data"
    }
   ],
   "source": [
    "l=[0 for i in range(134)]\n",
    "%matplotlib inline\n",
    "for i in range(len(regr.feature_importances_.tolist())):\n",
    "    l[i-134*int(i/134)]=regr1.feature_importances_[i]+l[i-134*int(i/134)]\n",
    "l=np.array(l)*10**5\n",
    "l=l.tolist()\n",
    "x=list()\n",
    "for i in range(len(l)):\n",
    "    x=x+[i for j in range(int(l[i]))]\n",
    "z=[80 for i in range(100)]\n",
    "n, bins, patches = plt.hist(x, 50, density=True, facecolor='g', alpha=0.75)\n",
    "n, bins, patches = plt.hist([80], 3, density=True, facecolor='r', alpha=0.75)\n",
    "plt.axis([0, 134, 0, 0.12])\n",
    "plt.show()"
   ]
  },
  {
   "cell_type": "code",
   "execution_count": 38,
   "metadata": {},
   "outputs": [],
   "source": [
    "def signal_classification(inputs,clf):\n",
    "    l=list()\n",
    "    %matplotlib inline\n",
    "    for j in range(len(inputs)):\n",
    "        if clf.predict(np.array([inputs[j]]))[0]>0:\n",
    "            l=l+[j+i for i in range(100)]\n",
    "    n, bins, patches = plt.hist(l, 50, density=True, facecolor='g', alpha=0.75)\n",
    "    plt.axis([0, 15000, 0, 0.001])\n",
    "    plt.show()\n",
    "    print(l.count(14400))"
   ]
  },
  {
   "cell_type": "code",
   "execution_count": 78,
   "metadata": {},
   "outputs": [],
   "source": []
  },
  {
   "cell_type": "code",
   "execution_count": 39,
   "metadata": {},
   "outputs": [
    {
     "data": {
      "image/png": "[encoded data removed]",
      "text/plain": [
       "<Figure size 432x288 with 1 Axes>"
      ]
     },
     "metadata": {},
     "output_type": "display_data"
    },
    {
     "name": "stdout",
     "output_type": "stream",
     "text": [
      "30\n"
     ]
    }
   ],
   "source": [
    "signal_classification(X,clf)\n"
   ]
  },
  {
   "cell_type": "code",
   "execution_count": 31,
   "metadata": {},
   "outputs": [],
   "source": [
    "def create_dataset_regression(file_name,clf):\n",
    "    compteur=0\n",
    "    path_to_rdbs = '../kickoff-data-corrected/*.rdb'\n",
    "    for rdb_file in glob.glob(path_to_rdbs):\n",
    "        #Edit json file\n",
    "        game_half = rdb_file.rstrip('.kickoff.rdb')\n",
    "        phase = game_half.split('.')[-1]\n",
    "        correct_json_files(game_half)\n",
    "        \n",
    "        #Import correct data\n",
    "        tracks = parse_dump_file('{}.kickoff.rdb'.format(game_half))\n",
    "        config = json.load(open('..{}.json'.format(game_half.split('.')[-2]), 'r'))\n",
    "        print('..{}.json'.format(game_half.split('.')[-2]))\n",
    "        print(config['phase_events'])\n",
    "        kickoff_1 = [p_e['ts'] for p_e in config['phase_events'] if p_e['type'] == 'start_phase' and p_e['phase'] == int(phase)][0]\n",
    "        kickoff_time = int(parse(kickoff_1).timestamp()*1000)\n",
    "        print(kickoff_time)\n",
    "        if kickoff_time>0:\n",
    "            pitch_size=config['pitch_size']\n",
    "            detections = {'ball':{'left':{}, 'right':{}}, 'players':{'left':{}, 'right':{}}}\n",
    "            timestamps = set()\n",
    "            for (fd_left, ts_left), (fd_right, ts_right) in tqdm(zip(tracks['left'], tracks['right'])):\n",
    "                fd_left = pickle.loads(fd_left)\n",
    "                fd_right = pickle.loads(fd_right)\n",
    "                if np.abs(ts_left - ts_right) < 100:\n",
    "                    ts_left = ts_right\n",
    "                timestamps.update({ts_left, ts_right})\n",
    "                detections['players']['left'][ts_left] = fd_left.top_view_player_positions\n",
    "                detections['players']['right'][ts_right] = fd_right.top_view_player_positions\n",
    "                detections['ball']['left'][ts_left] = np.array([bp for bp, bd in zip(fd_left.top_view_ball_positions, fd_left.ball_detections) if ball_ok(bp, bd)])\n",
    "                detections['ball']['right'][ts_right] = np.array([bp for bp, bd in zip(fd_right.top_view_ball_positions, fd_right.ball_detections) if ball_ok(bp, bd)])\n",
    "            timestamps_list = sorted(list(timestamps))\n",
    "            kickoff_time_ind = np.argmin(np.abs(np.subtract(timestamps_list, kickoff_time)))\n",
    "            kickoff_time_matched = timestamps_list[kickoff_time_ind]\n",
    "            \n",
    "            #Regression\n",
    "            X=sequence_composition(timestamps_list,detections,pitch_size,200,1)\n",
    "            Y=labels_seq_regression(timestamps_list,detections,pitch_size,1,kickoff_time_matched)\n",
    "            kickoff_indice=Y.index(1)\n",
    "            X,y=select_regression_data(X,clf,kickoff_indice)\n",
    "            print(len(X),len(y))\n",
    "            X,y=reduce_regression_data(X,y,10)\n",
    "            print(len(X),len(y))\n",
    "            print(y.count(50),y.count(-50))\n",
    "            #Create file\n",
    "            add_data=True\n",
    "            if len(y)>0 and compteur==0:\n",
    "                with open(file_name, 'wb') as f:\n",
    "                    # Pickle the 'data' dictionary using the highest protocol available.\n",
    "                    pickle.dump([X,y], f)\n",
    "                    compteur+=1\n",
    "                    add_data=False\n",
    "                with open(file_name, 'ab') as f:\n",
    "                    # Pickle the 'data' dictionary using the highest protocol available.\n",
    "                    pickle.dump([flip_sequences(X),y], f)\n",
    "                    compteur+=1\n",
    "            if len(y)>0 and add_data:\n",
    "                with open(file_name, 'ab') as f:\n",
    "                    # Pickle the 'data' dictionary using the highest protocol available.\n",
    "                    pickle.dump([X,y], f)\n",
    "                    compteur+=1\n",
    "                    print(compteur)\n",
    "                with open(file_name, 'ab') as f:\n",
    "                    # Pickle the 'data' dictionary using the highest protocol available.\n",
    "                    pickle.dump([flip_sequences(X),y], f)\n",
    "                    compteur+=1"
   ]
  },
  {
   "cell_type": "code",
   "execution_count": 32,
   "metadata": {},
   "outputs": [],
   "source": [
    "def select_regression_data(X,clf,kickoff_indice):\n",
    "    l=list()\n",
    "    new_X=list()\n",
    "    new_Y=list()\n",
    "    for j in range(len(X)):\n",
    "        if clf.predict(np.array([X[j]]))[0]>0:\n",
    "            l=l+[j+i for i in range(100)]\n",
    "    for j in range(len(X)):\n",
    "        if j>=50 and l.count(j)>=50:\n",
    "            new_X.append(X[j-50])\n",
    "            if kickoff_indice-j>50:\n",
    "                new_Y.append(50)\n",
    "            if j-kickoff_indice>50:\n",
    "                new_Y.append(-50)\n",
    "            if abs(j-kickoff_indice)<=50:\n",
    "                new_Y.append(kickoff_indice-j)\n",
    "    return new_X,new_Y"
   ]
  },
  {
   "cell_type": "code",
   "execution_count": 33,
   "metadata": {},
   "outputs": [],
   "source": [
    "def reduce_regression_data(X,y,reduc_size):\n",
    "    new_X=list()\n",
    "    new_y=list()\n",
    "    compteur=0\n",
    "    for i in range(len(y)):\n",
    "        if abs(y[i])>=50:\n",
    "            compteur+=1\n",
    "        if abs(y[i])<50:\n",
    "            compteur=0\n",
    "            new_y.append(y[i])\n",
    "            new_X.append(X[i])\n",
    "        if compteur>=reduc_size:\n",
    "            compteur=0\n",
    "            new_y.append(y[i])\n",
    "            new_X.append(X[i])\n",
    "    return new_X,new_y"
   ]
  },
  {
   "cell_type": "code",
   "execution_count": 34,
   "metadata": {},
   "outputs": [],
   "source": [
    "def change_data_regression(Y):\n",
    "    new_Y=list()\n",
    "    for i in range(len(Y)):\n",
    "        if Y[i]>50:\n",
    "            new_Y.append(50)\n",
    "        if Y[i]<-50:\n",
    "            new_Y.append(-50)\n",
    "        if Y[i]<=50 and Y[i]>=-50:\n",
    "            new_Y.append(Y[i])\n",
    "    return new_Y"
   ]
  },
  {
   "cell_type": "code",
   "execution_count": 35,
   "metadata": {},
   "outputs": [],
   "source": [
    "def change_size_inputs(X,size):\n",
    "    new_X=list()\n",
    "    for j in range(len(X)-size):\n",
    "        new_X.append(X[j:j+100]+X[j+100:j+100+size])\n",
    "    return new_X "
   ]
  },
  {
   "cell_type": "code",
   "execution_count": 37,
   "metadata": {},
   "outputs": [],
   "source": [
    "import random\n",
    "def takeoff_ball_prob(X,prob_ball):\n",
    "    new_X=list()\n",
    "    X1=[0 for i in range(70)]\n",
    "    for i in range(len(X)):\n",
    "        new_X2=list()\n",
    "        for j in range(0,len(X[0]),134):\n",
    "            if random.uniform(0,1)>prob_ball:\n",
    "                new_X2=new_X2+X1+X[i][j+70:j+134]\n",
    "            else:\n",
    "                new_X2+=X[i][j:j+134]\n",
    "        new_X.append(new_X2)\n",
    "    return new_X"
   ]
  },
  {
   "cell_type": "code",
   "execution_count": 92,
   "metadata": {},
   "outputs": [],
   "source": [
    "def takeoff_players_prob(X,prob_players):\n",
    "    new_X=list()\n",
    "    for i in range(len(X)):\n",
    "        new_X2=list()\n",
    "        for j in range(0,len(X[0]),134):\n",
    "            if random.uniform(0,1)>prob_players:\n",
    "                new_X2+=X[i][j:j+88]+[0,0,0,0]+X[i][j+92:j+120]+[0,0,0,0,0]+X[i][j+125:j+134]\n",
    "            else:\n",
    "                new_X2+=X[i][j:j+134]\n",
    "        new_X.append(new_X2)\n",
    "    return new_X"
   ]
  },
  {
   "cell_type": "code",
   "execution_count": 65,
   "metadata": {},
   "outputs": [],
   "source": [
    "def search_kickoff_time(x,y):\n",
    "    max_y=0\n",
    "    indice_max=0\n",
    "    for i in range(3000):\n",
    "        if y[i]>max_y:\n",
    "            max_y=y[i]\n",
    "            indice_max=x[i]\n",
    "    return indice_max"
   ]
  },
  {
   "cell_type": "code",
   "execution_count": null,
   "metadata": {},
   "outputs": [
    {
     "name": "stdout",
     "output_type": "stream",
     "text": [
      "Json file edited\n"
     ]
    },
    {
     "name": "stderr",
     "output_type": "stream",
     "text": [
      "748it [00:00, 3767.59it/s]"
     ]
    },
    {
     "name": "stdout",
     "output_type": "stream",
     "text": [
      "Parsed ../kickoff-data-corrected/24978380-482e-4ba4-a124-5142d43f8c91.2.kickoff.rdb in 1.38 s.\n",
      "Contains keys: dict_keys(['left', 'right'])\n",
      "[left] start_ts: 1527184568814 | stop_ts: 1527185164734\n",
      "[right] start_ts: 1527184564976 | stop_ts: 1527185164816\n",
      "../kickoff-data-corrected/24978380-482e-4ba4-a124-5142d43f8c91.json\n",
      "[{'type': 'start_phase', 'ts': '2018-05-24T17:00:01.496000', 'kickoff_team_id': 14, 'phase': 1}, {'type': 'end_phase', 'ts': '2018-05-24T17:45:58.124Z', 'phase': 1}, {'type': 'start_phase', 'ts': '2018-05-24T18:01:05.776000', 'kickoff_team_id': 15, 'phase': 2}, {'type': 'end_phase', 'ts': '2018-05-24T18:49:34.388Z', 'phase': 2}]\n",
      "1527184865776\n"
     ]
    },
    {
     "name": "stderr",
     "output_type": "stream",
     "text": [
      "14898it [00:05, 2716.95it/s]\n"
     ]
    },
    {
     "name": "stdout",
     "output_type": "stream",
     "text": [
      "2850 2850\n",
      "373 373\n",
      "200 74\n",
      "Json file edited\n"
     ]
    },
    {
     "name": "stderr",
     "output_type": "stream",
     "text": [
      "712it [00:00, 3500.60it/s]"
     ]
    },
    {
     "name": "stdout",
     "output_type": "stream",
     "text": [
      "Parsed ../kickoff-data-corrected/e0646790-9750-47eb-85ac-a7065fbcd4dd.2.kickoff.rdb in 1.42 s.\n",
      "Contains keys: dict_keys(['left', 'right'])\n",
      "[left] start_ts: 1524414578448 | stop_ts: 1524415174608\n",
      "[right] start_ts: 1524414577904 | stop_ts: 1524415174304\n",
      "../kickoff-data-corrected/e0646790-9750-47eb-85ac-a7065fbcd4dd.json\n",
      "[{'type': 'start_phase', 'ts': '2018-04-22T15:29:53.064000', 'kickoff_team_id': 6, 'phase': 1}, {'type': 'end_phase', 'ts': '2018-04-22T16:18:51.239Z', 'phase': 1}, {'type': 'start_phase', 'ts': '2018-04-22T16:34:36.848000', 'kickoff_team_id': 10, 'phase': 2}, {'type': 'end_phase', 'ts': '2018-04-22T17:22:35.491Z', 'phase': 2}]\n",
      "1524414876848\n"
     ]
    },
    {
     "name": "stderr",
     "output_type": "stream",
     "text": [
      "14905it [00:06, 2384.14it/s]\n"
     ]
    },
    {
     "name": "stdout",
     "output_type": "stream",
     "text": [
      "1518 1518\n",
      "240 240\n",
      "11 130\n",
      "3\n",
      "Json file edited\n"
     ]
    },
    {
     "name": "stderr",
     "output_type": "stream",
     "text": [
      "749it [00:00, 3848.41it/s]"
     ]
    },
    {
     "name": "stdout",
     "output_type": "stream",
     "text": [
      "Parsed ../kickoff-data-corrected/bff5f37c-be85-4f08-b6d4-a01e6c22fe0e.1.kickoff.rdb in 2.15 s.\n",
      "Contains keys: dict_keys(['left', 'right'])\n",
      "[left] start_ts: 1523984148353 | stop_ts: 1523984746873\n",
      "[right] start_ts: 1523984147529 | stop_ts: 1523984746449\n",
      "../kickoff-data-corrected/bff5f37c-be85-4f08-b6d4-a01e6c22fe0e.json\n",
      "[{'type': 'start_phase', 'ts': '2018-04-17T17:00:48.769000', 'kickoff_team_id': 14, 'phase': 1}, {'type': 'end_phase', 'ts': '2018-04-17T17:45:52.314Z', 'phase': 1}, {'type': 'start_phase', 'ts': '2018-04-17T18:00:54.313000', 'kickoff_team_id': 3, 'phase': 2}, {'type': 'end_phase', 'ts': '2018-04-17T18:51:00.072Z', 'phase': 2}]\n",
      "1523984448769\n"
     ]
    },
    {
     "name": "stderr",
     "output_type": "stream",
     "text": [
      "14964it [00:07, 1964.92it/s]\n"
     ]
    },
    {
     "name": "stdout",
     "output_type": "stream",
     "text": [
      "1605 1605\n",
      "248 248\n",
      "78 71\n",
      "5\n",
      "Json file edited\n",
      "Parsed ../kickoff-data-corrected/41c3f1b3-a868-459b-9766-760be49947b2.1.kickoff.rdb in 2.45 s.\n",
      "Contains keys: dict_keys(['left', 'right'])\n",
      "[left] start_ts: 1526316922655 | stop_ts: 1526317521455\n",
      "[right] start_ts: 1526316922561 | stop_ts: 1526317521441\n",
      "../kickoff-data-corrected/41c3f1b3-a868-459b-9766-760be49947b2.json\n",
      "[{'type': 'start_phase', 'ts': '1970-01-01T00:00:00', 'kickoff_team_id': 9, 'phase': 1}, {'type': 'end_phase', 'ts': '2018-05-14T17:46:22.241Z', 'phase': 1}, {'type': 'start_phase', 'ts': '2018-05-14T18:01:28.841000', 'kickoff_team_id': 1, 'phase': 2}, {'type': 'end_phase', 'ts': '2018-05-14T18:49:29.553Z', 'phase': 2}]\n",
      "0\n",
      "Json file edited\n",
      "Parsed ../kickoff-data-corrected/aadecf3a-0d92-4ace-b643-ced44474e157.2.kickoff.rdb in 1.77 s.\n",
      "Contains keys: dict_keys(['left', 'right'])\n",
      "[left] start_ts: 1524160591139 | stop_ts: 1524161189179\n",
      "[right] start_ts: 1524160591665 | stop_ts: 1524161189465\n",
      "../kickoff-data-corrected/aadecf3a-0d92-4ace-b643-ced44474e157.json\n",
      "[{'type': 'start_phase', 'ts': '2018-04-19T17:00:03.859000', 'kickoff_team_id': 15, 'phase': 1}, {'type': 'end_phase', 'ts': '2018-04-19T17:46:04.420Z', 'phase': 1}, {'type': 'start_phase', 'ts': '1970-01-01T00:00:00', 'kickoff_team_id': 7, 'phase': 2}, {'type': 'end_phase', 'ts': '2018-04-19T18:49:42.844Z', 'phase': 2}]\n",
      "0\n",
      "Json file edited\n"
     ]
    },
    {
     "name": "stderr",
     "output_type": "stream",
     "text": [
      "466it [00:00, 2400.88it/s]"
     ]
    },
    {
     "name": "stdout",
     "output_type": "stream",
     "text": [
      "Parsed ../kickoff-data-corrected/24978380-482e-4ba4-a124-5142d43f8c91.1.kickoff.rdb in 2.32 s.\n",
      "Contains keys: dict_keys(['left', 'right'])\n",
      "[left] start_ts: 1527180904814 | stop_ts: 1527181500734\n",
      "[right] start_ts: 1527180900976 | stop_ts: 1527181500816\n",
      "../kickoff-data-corrected/24978380-482e-4ba4-a124-5142d43f8c91.json\n",
      "[{'type': 'start_phase', 'ts': '2018-05-24T17:00:01.496000', 'kickoff_team_id': 14, 'phase': 1}, {'type': 'end_phase', 'ts': '2018-05-24T17:45:58.124Z', 'phase': 1}, {'type': 'start_phase', 'ts': '2018-05-24T18:01:05.776000', 'kickoff_team_id': 15, 'phase': 2}, {'type': 'end_phase', 'ts': '2018-05-24T18:49:34.388Z', 'phase': 2}]\n",
      "1527181201496\n"
     ]
    },
    {
     "name": "stderr",
     "output_type": "stream",
     "text": [
      "14898it [00:07, 2003.08it/s]\n"
     ]
    },
    {
     "name": "stdout",
     "output_type": "stream",
     "text": [
      "2529 2529\n",
      "341 341\n",
      "204 38\n",
      "7\n",
      "Json file edited\n"
     ]
    },
    {
     "name": "stderr",
     "output_type": "stream",
     "text": [
      "438it [00:00, 2163.65it/s]"
     ]
    },
    {
     "name": "stdout",
     "output_type": "stream",
     "text": [
      "Parsed ../kickoff-data-corrected/f9f01fbf-6871-4303-b43f-29c2dd16909d.1.kickoff.rdb in 2.65 s.\n",
      "Contains keys: dict_keys(['left', 'right'])\n",
      "[left] start_ts: 1522673702294 | stop_ts: 1522674302134\n",
      "[right] start_ts: 1522673702216 | stop_ts: 1522674302096\n",
      "../kickoff-data-corrected/f9f01fbf-6871-4303-b43f-29c2dd16909d.json\n",
      "[{'type': 'start_phase', 'ts': '2018-04-02T13:00:04.376000', 'kickoff_team_id': 15, 'phase': 1}, {'type': 'end_phase', 'ts': '2018-04-02T13:47:02.983Z', 'phase': 1}, {'type': 'start_phase', 'ts': '2018-04-02T14:02:02.696000', 'kickoff_team_id': 4, 'phase': 2}, {'type': 'end_phase', 'ts': '2018-04-02T14:50:07.639Z', 'phase': 2}]\n",
      "1522674004376\n"
     ]
    },
    {
     "name": "stderr",
     "output_type": "stream",
     "text": [
      "14996it [00:08, 1822.44it/s]\n"
     ]
    },
    {
     "name": "stdout",
     "output_type": "stream",
     "text": [
      "1893 1893\n",
      "278 278\n",
      "110 69\n",
      "9\n",
      "Json file edited\n"
     ]
    },
    {
     "name": "stderr",
     "output_type": "stream",
     "text": [
      "210it [00:00, 1036.34it/s]"
     ]
    },
    {
     "name": "stdout",
     "output_type": "stream",
     "text": [
      "Parsed ../kickoff-data-corrected/c0b1883d-4420-48aa-9805-9318a20e56ae.1.kickoff.rdb in 4.35 s.\n",
      "Contains keys: dict_keys(['left', 'right'])\n",
      "[left] start_ts: 1527350105211 | stop_ts: 1527350703091\n",
      "[right] start_ts: 1527350105245 | stop_ts: 1527350703085\n",
      "../kickoff-data-corrected/c0b1883d-4420-48aa-9805-9318a20e56ae.json\n",
      "[{'type': 'start_phase', 'ts': '2018-05-26T16:00:04.565000', 'kickoff_team_id': 5, 'phase': 1}, {'type': 'end_phase', 'ts': '2018-05-26T16:46:00.357Z', 'phase': 1}, {'type': 'start_phase', 'ts': '2018-05-26T17:01:27.885000', 'kickoff_team_id': 13, 'phase': 2}, {'type': 'end_phase', 'ts': '2018-05-26T17:49:27.835Z', 'phase': 2}]\n",
      "1527350404565\n"
     ]
    },
    {
     "name": "stderr",
     "output_type": "stream",
     "text": [
      "14947it [00:10, 1374.36it/s]\n"
     ]
    },
    {
     "name": "stdout",
     "output_type": "stream",
     "text": [
      "3107 3107\n",
      "399 399\n",
      "123 177\n",
      "11\n",
      "Json file edited\n",
      "Parsed ../kickoff-data-corrected/9ab7ccfb-75cb-4756-9eb5-fe8c29de8fcc.1.kickoff.rdb in 1.84 s.\n",
      "Contains keys: dict_keys(['left', 'right'])\n",
      "[left] start_ts: 1525620373398 | stop_ts: 1525620970238\n",
      "[right] start_ts: 1525620373530 | stop_ts: 1525620970290\n",
      "../kickoff-data-corrected/9ab7ccfb-75cb-4756-9eb5-fe8c29de8fcc.json\n",
      "[{'type': 'start_phase', 'ts': '1970-01-01T00:00:00', 'kickoff_team_id': 10, 'phase': 1}, {'type': 'end_phase', 'ts': '2018-05-06T16:16:18.200Z', 'phase': 1}, {'type': 'start_phase', 'ts': '2018-05-06T16:32:07.130000', 'kickoff_team_id': 7, 'phase': 2}, {'type': 'end_phase', 'ts': '2018-05-06T17:20:08.236Z', 'phase': 2}]\n",
      "0\n",
      "Json file edited\n",
      "Parsed ../kickoff-data-corrected/6e26f66b-a921-4919-9d7d-1bd59f935e78.2.kickoff.rdb in 1.76 s.\n",
      "Contains keys: dict_keys(['left', 'right'])\n",
      "[left] start_ts: 1523642363613 | stop_ts: 1523642962133\n",
      "[right] start_ts: 1523642362979 | stop_ts: 1523642961819\n",
      "../kickoff-data-corrected/6e26f66b-a921-4919-9d7d-1bd59f935e78.json\n",
      "[{'type': 'start_phase', 'ts': '1970-01-01T00:00:00', 'kickoff_team_id': 3, 'phase': 1}, {'type': 'end_phase', 'ts': '2018-04-13T17:48:25.115Z', 'phase': 1}, {'type': 'start_phase', 'ts': '1970-01-01T00:00:00', 'kickoff_team_id': 8, 'phase': 2}, {'type': 'end_phase', 'ts': '2018-04-13T18:52:23.632Z', 'phase': 2}]\n",
      "0\n",
      "Json file edited\n"
     ]
    },
    {
     "name": "stderr",
     "output_type": "stream",
     "text": [
      "339it [00:00, 1692.35it/s]"
     ]
    },
    {
     "name": "stdout",
     "output_type": "stream",
     "text": [
      "Parsed ../kickoff-data-corrected/27bea627-3caa-47ee-93c3-67f0e26f3034.2.kickoff.rdb in 2.35 s.\n",
      "Contains keys: dict_keys(['left', 'right'])\n",
      "[left] start_ts: 1523800614341 | stop_ts: 1523801213661\n",
      "[right] start_ts: 1523800613851 | stop_ts: 1523801213411\n",
      "../kickoff-data-corrected/27bea627-3caa-47ee-93c3-67f0e26f3034.json\n",
      "[{'type': 'start_phase', 'ts': '2018-04-15T13:00:59.341000', 'kickoff_team_id': 4, 'phase': 1}, {'type': 'end_phase', 'ts': '2018-04-15T13:46:01.064Z', 'phase': 1}, {'type': 'start_phase', 'ts': '2018-04-15T14:01:55.381000', 'kickoff_team_id': 9, 'phase': 2}, {'type': 'end_phase', 'ts': '2018-04-15T14:50:42.654Z', 'phase': 2}]\n",
      "1523800915381\n"
     ]
    },
    {
     "name": "stderr",
     "output_type": "stream",
     "text": [
      "14983it [00:07, 2028.70it/s]\n",
      "\n"
     ]
    },
    {
     "name": "stdout",
     "output_type": "stream",
     "text": [
      "2215 2215\n",
      "310 310\n",
      "128 83\n",
      "15\n",
      "Json file edited\n"
     ]
    },
    {
     "name": "stderr",
     "output_type": "stream",
     "text": [
      "173it [00:00, 1727.81it/s]"
     ]
    },
    {
     "name": "stdout",
     "output_type": "stream",
     "text": [
      "Parsed ../kickoff-data-corrected/536b68b9-507f-408a-9a91-f994667b1d16.2.kickoff.rdb in 1.79 s.\n",
      "Contains keys: dict_keys(['left', 'right'])\n",
      "[left] start_ts: 1526833546311 | stop_ts: 1526834143111\n",
      "[right] start_ts: 1526833546293 | stop_ts: 1526834143133\n",
      "../kickoff-data-corrected/536b68b9-507f-408a-9a91-f994667b1d16.json\n",
      "[{'type': 'start_phase', 'ts': '2018-05-20T15:30:15.853000', 'kickoff_team_id': 8, 'phase': 1}, {'type': 'end_phase', 'ts': '2018-05-20T16:15:14.598Z', 'phase': 1}, {'type': 'start_phase', 'ts': '2018-05-20T16:30:45.173000', 'kickoff_team_id': 5, 'phase': 2}, {'type': 'end_phase', 'ts': '2018-05-20T17:19:46.634Z', 'phase': 2}]\n",
      "1526833845173\n"
     ]
    },
    {
     "name": "stderr",
     "output_type": "stream",
     "text": [
      "14921it [00:06, 2340.11it/s]\n"
     ]
    },
    {
     "name": "stdout",
     "output_type": "stream",
     "text": [
      "1949 1949\n",
      "283 283\n",
      "45 139\n",
      "17\n"
     ]
    },
    {
     "name": "stderr",
     "output_type": "stream",
     "text": [
      "470it [00:00, 4690.50it/s]"
     ]
    },
    {
     "name": "stdout",
     "output_type": "stream",
     "text": [
      "Parsed ../kickoff-data-corrected/b0cbf7ed-a9ce-4434-9e4d-072065ee61bc.1.kickoff.rdb in 1.67 s.\n",
      "Contains keys: dict_keys(['left', 'right'])\n",
      "[left] start_ts: 1523706904558 | stop_ts: 1523707503158\n",
      "[right] start_ts: 1523706912088 | stop_ts: 1523707510928\n",
      "../kickoff-data-corrected/b0cbf7ed-a9ce-4434-9e4d-072065ee61bc.json\n",
      "[{'type': 'start_phase', 'ts': '2018-04-14T12:00:03.074Z', 'kickoff_team_id': 1, 'phase': 1}, {'type': 'end_phase', 'ts': '2018-04-14T12:45:30.997Z', 'phase': 1}, {'type': 'start_phase', 'ts': '1970-01-01T00:00:00', 'kickoff_team_id': 7, 'phase': 2}, {'type': 'end_phase', 'ts': '2018-04-14T13:50:58.493Z', 'phase': 2}]\n",
      "1523707203074\n"
     ]
    },
    {
     "name": "stderr",
     "output_type": "stream",
     "text": [
      "14966it [00:05, 2532.20it/s]\n"
     ]
    },
    {
     "name": "stdout",
     "output_type": "stream",
     "text": [
      "3592 3592\n",
      "447 447\n",
      "140 208\n",
      "19\n",
      "Json file edited\n",
      "Parsed ../kickoff-data-corrected/75366863-8063-4ece-8aca-1dcf75d22448.1.kickoff.rdb in 0.88 s.\n",
      "Contains keys: dict_keys(['left', 'right'])\n",
      "[left] start_ts: 1527181308818 | stop_ts: 1527181905738\n",
      "[right] start_ts: 1527181308926 | stop_ts: 1527181905806\n",
      "../kickoff-data-corrected/75366863-8063-4ece-8aca-1dcf75d22448.json\n",
      "[{'type': 'start_phase', 'ts': '1970-01-01T00:00:00', 'kickoff_team_id': 6, 'phase': 1}, {'type': 'end_phase', 'ts': '2018-05-24T17:52:47.009Z', 'phase': 1}, {'type': 'start_phase', 'ts': '1970-01-01T00:00:00', 'kickoff_team_id': 11, 'phase': 2}, {'type': 'end_phase', 'ts': '2018-05-24T19:02:55.588Z', 'phase': 2}]\n",
      "0\n",
      "Json file edited\n",
      "Parsed ../kickoff-data-corrected/456910d1-b523-4ff2-b60c-fcd1f016b96d.2.kickoff.rdb in 1.64 s.\n",
      "Contains keys: dict_keys(['left', 'right'])\n",
      "[left] start_ts: 1524506251416 | stop_ts: 1524506851016\n",
      "[right] start_ts: 1524506250924 | stop_ts: 1524506850764\n",
      "../kickoff-data-corrected/456910d1-b523-4ff2-b60c-fcd1f016b96d.json\n",
      "[{'type': 'start_phase', 'ts': '1970-01-01T00:00:00', 'kickoff_team_id': 7, 'phase': 1}, {'type': 'end_phase', 'ts': '2018-04-23T17:47:08.130Z', 'phase': 1}, {'type': 'start_phase', 'ts': '1970-01-01T00:00:00', 'kickoff_team_id': 11, 'phase': 2}, {'type': 'end_phase', 'ts': '2018-04-23T18:50:33.464Z', 'phase': 2}]\n",
      "0\n",
      "Json file edited\n"
     ]
    },
    {
     "name": "stderr",
     "output_type": "stream",
     "text": [
      "282it [00:00, 2809.94it/s]"
     ]
    },
    {
     "name": "stdout",
     "output_type": "stream",
     "text": [
      "Parsed ../kickoff-data-corrected/0d9e9e30-9d13-4af0-8e41-fe1669e9eeff.1.kickoff.rdb in 2.45 s.\n",
      "Contains keys: dict_keys(['left', 'right'])\n",
      "[left] start_ts: 1523192129517 | stop_ts: 1523192728157\n",
      "[right] start_ts: 1523192129071 | stop_ts: 1523192727911\n",
      "../kickoff-data-corrected/0d9e9e30-9d13-4af0-8e41-fe1669e9eeff.json\n",
      "[{'type': 'start_phase', 'ts': '2018-04-08T13:00:30.151000', 'kickoff_team_id': 7, 'phase': 1}, {'type': 'end_phase', 'ts': '2018-04-08T13:47:27.898Z', 'phase': 1}, {'type': 'start_phase', 'ts': '2018-04-08T14:02:35.117000', 'kickoff_team_id': 9, 'phase': 2}, {'type': 'end_phase', 'ts': '2018-04-08T14:51:34.402Z', 'phase': 2}]\n",
      "1523192430151\n"
     ]
    },
    {
     "name": "stderr",
     "output_type": "stream",
     "text": [
      "14966it [00:08, 1774.29it/s]\n"
     ]
    },
    {
     "name": "stdout",
     "output_type": "stream",
     "text": [
      "2110 2110\n",
      "299 299\n",
      "125 75\n",
      "21\n",
      "Json file edited\n",
      "Parsed ../kickoff-data-corrected/b0cbf7ed-a9ce-4434-9e4d-072065ee61bc.2.kickoff.rdb in 1.70 s.\n",
      "Contains keys: dict_keys(['left', 'right'])\n",
      "[left] start_ts: 1523710552598 | stop_ts: 1523711150158\n",
      "[right] start_ts: 1523710560128 | stop_ts: 1523711157928\n",
      "../kickoff-data-corrected/b0cbf7ed-a9ce-4434-9e4d-072065ee61bc.json\n",
      "[{'type': 'start_phase', 'ts': '2018-04-14T12:00:03.074Z', 'kickoff_team_id': 1, 'phase': 1}, {'type': 'end_phase', 'ts': '2018-04-14T12:45:30.997Z', 'phase': 1}, {'type': 'start_phase', 'ts': '1970-01-01T00:00:00', 'kickoff_team_id': 7, 'phase': 2}, {'type': 'end_phase', 'ts': '2018-04-14T13:50:58.493Z', 'phase': 2}]\n",
      "0\n",
      "Json file edited\n"
     ]
    },
    {
     "name": "stderr",
     "output_type": "stream",
     "text": [
      "306it [00:00, 1532.18it/s]"
     ]
    },
    {
     "name": "stdout",
     "output_type": "stream",
     "text": [
      "Parsed ../kickoff-data-corrected/d1a98e08-0f21-46fe-8457-01ff183ddbeb.1.kickoff.rdb in 3.12 s.\n",
      "Contains keys: dict_keys(['left', 'right'])\n",
      "[left] start_ts: 1526576105405 | stop_ts: 1526576702165\n",
      "[right] start_ts: 1526576105219 | stop_ts: 1526576702099\n",
      "../kickoff-data-corrected/d1a98e08-0f21-46fe-8457-01ff183ddbeb.json\n",
      "[{'type': 'start_phase', 'ts': '2018-05-17T17:00:04.205000', 'kickoff_team_id': 12, 'phase': 1}, {'type': 'end_phase', 'ts': '2018-05-17T17:47:07.092Z', 'phase': 1}, {'type': 'start_phase', 'ts': '2018-05-17T18:04:04.725000', 'kickoff_team_id': 11, 'phase': 2}, {'type': 'end_phase', 'ts': '2018-05-17T18:52:06.565Z', 'phase': 2}]\n",
      "1526576404205\n"
     ]
    },
    {
     "name": "stderr",
     "output_type": "stream",
     "text": [
      "14921it [00:09, 1543.16it/s]\n"
     ]
    },
    {
     "name": "stdout",
     "output_type": "stream",
     "text": [
      "1413 1413\n",
      "229 229\n",
      "45 85\n",
      "23\n",
      "Json file edited\n"
     ]
    },
    {
     "name": "stderr",
     "output_type": "stream",
     "text": [
      "354it [00:00, 3534.46it/s]"
     ]
    },
    {
     "name": "stdout",
     "output_type": "stream",
     "text": [
      "Parsed ../kickoff-data-corrected/9acafc14-55f4-499e-90d9-4db2f121801b.2.kickoff.rdb in 1.81 s.\n",
      "Contains keys: dict_keys(['left', 'right'])\n",
      "[left] start_ts: 1526229880539 | stop_ts: 1526230477379\n",
      "[right] start_ts: 1526229880495 | stop_ts: 1526230477335\n",
      "../kickoff-data-corrected/9acafc14-55f4-499e-90d9-4db2f121801b.json\n",
      "[{'type': 'start_phase', 'ts': '2018-05-13T15:45:36.695000', 'kickoff_team_id': 12, 'phase': 1}, {'type': 'end_phase', 'ts': '2018-05-13T16:33:39.123Z', 'phase': 1}, {'type': 'start_phase', 'ts': '2018-05-13T16:49:39.615000', 'kickoff_team_id': 2, 'phase': 2}, {'type': 'end_phase', 'ts': '2018-05-13T17:39:37.349Z', 'phase': 2}]\n",
      "1526230179615\n"
     ]
    },
    {
     "name": "stderr",
     "output_type": "stream",
     "text": [
      "14922it [00:06, 2266.89it/s]\n"
     ]
    },
    {
     "name": "stdout",
     "output_type": "stream",
     "text": [
      "1405 1405\n",
      "229 229\n",
      "81 49\n",
      "25\n",
      "Json file edited\n",
      "Parsed ../kickoff-data-corrected/3d29af74-d98c-415b-a1dc-6b034671d831.2.kickoff.rdb in 1.63 s.\n",
      "Contains keys: dict_keys(['left', 'right'])\n",
      "[left] start_ts: 1527098333205 | stop_ts: 1527098931045\n",
      "[right] start_ts: 1527098333133 | stop_ts: 1527098931013\n",
      "../kickoff-data-corrected/3d29af74-d98c-415b-a1dc-6b034671d831.json\n",
      "[{'type': 'start_phase', 'ts': '1970-01-01T00:00:00', 'kickoff_team_id': 10, 'phase': 1}, {'type': 'end_phase', 'ts': '2018-05-23T17:48:32.142Z', 'phase': 1}, {'type': 'start_phase', 'ts': '1970-01-01T00:00:00', 'kickoff_team_id': 5, 'phase': 2}, {'type': 'end_phase', 'ts': '2018-05-23T18:54:13.202Z', 'phase': 2}]\n",
      "0\n",
      "Json file edited\n",
      "Parsed ../kickoff-data-corrected/2b8bcfd6-5f57-46de-aacd-e932ac8e1697.1.kickoff.rdb in 2.02 s.\n",
      "Contains keys: dict_keys(['left', 'right'])\n",
      "[left] start_ts: 1523201092829 | stop_ts: 1523201692349\n",
      "[right] start_ts: 1523201094061 | stop_ts: 1523201692981\n",
      "../kickoff-data-corrected/2b8bcfd6-5f57-46de-aacd-e932ac8e1697.json\n",
      "[{'type': 'start_phase', 'ts': '1970-01-01T00:00:00', 'kickoff_team_id': 13, 'phase': 1}, {'type': 'end_phase', 'ts': '2018-04-08T16:17:54.242Z', 'phase': 1}, {'type': 'start_phase', 'ts': '2018-04-08T16:34:22.301000', 'kickoff_team_id': 16, 'phase': 2}, {'type': 'end_phase', 'ts': '2018-04-08T17:23:20.816Z', 'phase': 2}]\n",
      "0\n",
      "Json file edited\n"
     ]
    },
    {
     "name": "stderr",
     "output_type": "stream",
     "text": [
      "833it [00:00, 4064.18it/s]"
     ]
    },
    {
     "name": "stdout",
     "output_type": "stream",
     "text": [
      "Parsed ../kickoff-data-corrected/da82a1ce-2e4c-4337-8ba8-3f2525399e31.2.kickoff.rdb in 1.90 s.\n",
      "Contains keys: dict_keys(['left', 'right'])\n",
      "[left] start_ts: 1525624022661 | stop_ts: 1525624619501\n",
      "[right] start_ts: 1525624022583 | stop_ts: 1525624619463\n",
      "../kickoff-data-corrected/da82a1ce-2e4c-4337-8ba8-3f2525399e31.json\n",
      "[{'type': 'start_phase', 'ts': '2018-05-06T15:30:56.823000', 'kickoff_team_id': 14, 'phase': 1}, {'type': 'end_phase', 'ts': '2018-05-06T16:16:55.775Z', 'phase': 1}, {'type': 'start_phase', 'ts': '2018-05-06T16:32:03.343000', 'kickoff_team_id': 5, 'phase': 2}, {'type': 'end_phase', 'ts': '2018-05-06T17:19:59.649Z', 'phase': 2}]\n",
      "1525624323343\n"
     ]
    },
    {
     "name": "stderr",
     "output_type": "stream",
     "text": [
      "14923it [00:06, 2389.83it/s]\n"
     ]
    },
    {
     "name": "stdout",
     "output_type": "stream",
     "text": [
      "3590 3590\n",
      "448 448\n",
      "209 140\n",
      "27\n",
      "Json file edited\n"
     ]
    },
    {
     "name": "stderr",
     "output_type": "stream",
     "text": [
      "416it [00:00, 2049.95it/s]"
     ]
    },
    {
     "name": "stdout",
     "output_type": "stream",
     "text": [
      "Parsed ../kickoff-data-corrected/4b949eae-068b-4b0a-bc88-f5ef0a97b2ba.2.kickoff.rdb in 2.27 s.\n",
      "Contains keys: dict_keys(['left', 'right'])\n",
      "[left] start_ts: 1524322642512 | stop_ts: 1524323242312\n",
      "[right] start_ts: 1524322643076 | stop_ts: 1524323242636\n",
      "../kickoff-data-corrected/4b949eae-068b-4b0a-bc88-f5ef0a97b2ba.json\n",
      "[{'type': 'start_phase', 'ts': '2018-04-21T14:00:33.996000', 'kickoff_team_id': 13, 'phase': 1}, {'type': 'end_phase', 'ts': '2018-04-21T14:45:33.074Z', 'phase': 1}, {'type': 'start_phase', 'ts': '2018-04-21T15:02:23.876000', 'kickoff_team_id': 12, 'phase': 2}, {'type': 'end_phase', 'ts': '2018-04-21T15:50:24.649Z', 'phase': 2}]\n",
      "1524322943876\n"
     ]
    },
    {
     "name": "stderr",
     "output_type": "stream",
     "text": [
      "14989it [00:07, 1889.65it/s]\n"
     ]
    },
    {
     "name": "stdout",
     "output_type": "stream",
     "text": [
      "3027 3027\n",
      "391 391\n",
      "211 81\n",
      "29\n",
      "Json file edited\n"
     ]
    },
    {
     "name": "stderr",
     "output_type": "stream",
     "text": [
      "264it [00:00, 1349.56it/s]"
     ]
    },
    {
     "name": "stdout",
     "output_type": "stream",
     "text": [
      "Parsed ../kickoff-data-corrected/70593a9a-5258-4f89-a402-b555c8ee3514.1.kickoff.rdb in 2.74 s.\n",
      "Contains keys: dict_keys(['left', 'right'])\n",
      "[left] start_ts: 1525521349217 | stop_ts: 1525521946057\n",
      "[right] start_ts: 1525521349195 | stop_ts: 1525521946035\n",
      "../kickoff-data-corrected/70593a9a-5258-4f89-a402-b555c8ee3514.json\n",
      "[{'type': 'start_phase', 'ts': '2018-05-05T12:00:48.555000', 'kickoff_team_id': 3, 'phase': 1}, {'type': 'end_phase', 'ts': '2018-05-05T12:47:24.013Z', 'phase': 1}, {'type': 'start_phase', 'ts': '2018-05-05T13:03:50.875000', 'kickoff_team_id': 2, 'phase': 2}, {'type': 'end_phase', 'ts': '2018-05-05T13:51:49.753Z', 'phase': 2}]\n",
      "1525521648555\n"
     ]
    },
    {
     "name": "stderr",
     "output_type": "stream",
     "text": [
      "14921it [00:08, 1804.53it/s]\n"
     ]
    },
    {
     "name": "stdout",
     "output_type": "stream",
     "text": [
      "1530 1530\n",
      "241 241\n",
      "89 53\n",
      "31\n",
      "Json file edited\n"
     ]
    },
    {
     "name": "stderr",
     "output_type": "stream",
     "text": [
      "\r",
      "0it [00:00, ?it/s]"
     ]
    },
    {
     "name": "stdout",
     "output_type": "stream",
     "text": [
      "Parsed ../kickoff-data-corrected/050a1fae-5d48-4048-8f66-a3f12eca843d.1.kickoff.rdb in 2.48 s.\n",
      "Contains keys: dict_keys(['left', 'right'])\n",
      "[left] start_ts: 1526225101102 | stop_ts: 1526225700022\n",
      "[right] start_ts: 1526225101172 | stop_ts: 1526225700052\n",
      "../kickoff-data-corrected/050a1fae-5d48-4048-8f66-a3f12eca843d.json\n",
      "[{'type': 'start_phase', 'ts': '2018-05-13T15:30:01.862000', 'kickoff_team_id': 14, 'phase': 1}, {'type': 'end_phase', 'ts': '2018-05-13T16:16:59.553Z', 'phase': 1}, {'type': 'start_phase', 'ts': '2018-05-13T16:32:03.932000', 'kickoff_team_id': 8, 'phase': 2}, {'type': 'end_phase', 'ts': '2018-05-13T17:20:33.812Z', 'phase': 2}]\n",
      "1526225401862\n"
     ]
    },
    {
     "name": "stderr",
     "output_type": "stream",
     "text": [
      "14972it [00:07, 1967.91it/s]\n"
     ]
    },
    {
     "name": "stdout",
     "output_type": "stream",
     "text": [
      "1684 1684\n",
      "256 256\n",
      "107 50\n",
      "33\n",
      "Json file edited\n",
      "Parsed ../kickoff-data-corrected/c4b2214b-4e3c-4dfb-a691-a5b008b9d778.1.kickoff.rdb in 1.76 s.\n",
      "Contains keys: dict_keys(['left', 'right'])\n",
      "[left] start_ts: 1525611301214 | stop_ts: 1525611898494\n",
      "[right] start_ts: 1525611300264 | stop_ts: 1525611897984\n",
      "../kickoff-data-corrected/c4b2214b-4e3c-4dfb-a691-a5b008b9d778.json\n",
      "[{'type': 'start_phase', 'ts': '1970-01-01T00:00:00', 'kickoff_team_id': 16, 'phase': 1}, {'type': 'end_phase', 'ts': '2018-05-06T13:45:00.746Z', 'phase': 1}, {'type': 'start_phase', 'ts': '1970-01-01T00:00:00', 'kickoff_team_id': 9, 'phase': 2}, {'type': 'end_phase', 'ts': '2018-05-06T14:48:47.422Z', 'phase': 2}]\n",
      "0\n",
      "Json file edited\n"
     ]
    },
    {
     "name": "stderr",
     "output_type": "stream",
     "text": [
      "187it [00:00, 1867.10it/s]"
     ]
    },
    {
     "name": "stdout",
     "output_type": "stream",
     "text": [
      "Parsed ../kickoff-data-corrected/57bf9b24-5c68-464f-9e74-20d0b2508bba.2.kickoff.rdb in 2.15 s.\n",
      "Contains keys: dict_keys(['left', 'right'])\n",
      "[left] start_ts: 1524074286135 | stop_ts: 1524074882975\n",
      "[right] start_ts: 1524074286793 | stop_ts: 1524074883313\n",
      "../kickoff-data-corrected/57bf9b24-5c68-464f-9e74-20d0b2508bba.json\n",
      "[{'type': 'start_phase', 'ts': '2018-04-18T17:00:29.775000', 'kickoff_team_id': 11, 'phase': 1}, {'type': 'end_phase', 'ts': '2018-04-18T17:46:35.647Z', 'phase': 1}, {'type': 'start_phase', 'ts': '2018-04-18T18:03:05.473000', 'kickoff_team_id': 8, 'phase': 2}, {'type': 'end_phase', 'ts': '2018-04-18T18:52:04.739Z', 'phase': 2}]\n",
      "1524074585473\n"
     ]
    },
    {
     "name": "stderr",
     "output_type": "stream",
     "text": [
      "14914it [00:07, 1954.50it/s]\n"
     ]
    },
    {
     "name": "stdout",
     "output_type": "stream",
     "text": [
      "3079 3079\n",
      "396 396\n",
      "114 183\n",
      "35\n",
      "Json file edited\n"
     ]
    },
    {
     "name": "stderr",
     "output_type": "stream",
     "text": [
      "\r",
      "0it [00:00, ?it/s]"
     ]
    },
    {
     "name": "stdout",
     "output_type": "stream",
     "text": [
      "Parsed ../kickoff-data-corrected/4be6ef54-2541-42d0-a334-e513a535029c.1.kickoff.rdb in 2.03 s.\n",
      "Contains keys: dict_keys(['left', 'right'])\n",
      "[left] start_ts: 1523714121022 | stop_ts: 1523714720662\n",
      "[right] start_ts: 1523714121038 | stop_ts: 1523714720678\n",
      "../kickoff-data-corrected/4be6ef54-2541-42d0-a334-e513a535029c.json\n",
      "[{'type': 'start_phase', 'ts': '2018-04-14T14:00:21.598000', 'kickoff_team_id': 16, 'phase': 1}, {'type': 'end_phase', 'ts': '2018-04-14T14:46:37.899Z', 'phase': 1}, {'type': 'start_phase', 'ts': '2018-04-14T15:02:38.518000', 'kickoff_team_id': 5, 'phase': 2}, {'type': 'end_phase', 'ts': '2018-04-14T15:51:35.702Z', 'phase': 2}]\n",
      "1523714421598\n"
     ]
    },
    {
     "name": "stderr",
     "output_type": "stream",
     "text": [
      "14991it [00:08, 1831.28it/s]\n"
     ]
    },
    {
     "name": "stdout",
     "output_type": "stream",
     "text": [
      "1287 1287\n",
      "217 217\n",
      "9 109\n",
      "37\n",
      "Json file edited\n"
     ]
    },
    {
     "name": "stderr",
     "output_type": "stream",
     "text": [
      "249it [00:00, 2489.85it/s]"
     ]
    },
    {
     "name": "stdout",
     "output_type": "stream",
     "text": [
      "Parsed ../kickoff-data-corrected/9ab7ccfb-75cb-4756-9eb5-fe8c29de8fcc.2.kickoff.rdb in 1.75 s.\n",
      "Contains keys: dict_keys(['left', 'right'])\n",
      "[left] start_ts: 1525624025358 | stop_ts: 1525624625238\n",
      "[right] start_ts: 1525624025530 | stop_ts: 1525624625290\n",
      "../kickoff-data-corrected/9ab7ccfb-75cb-4756-9eb5-fe8c29de8fcc.json\n",
      "[{'type': 'start_phase', 'ts': '1970-01-01T00:00:00', 'kickoff_team_id': 10, 'phase': 1}, {'type': 'end_phase', 'ts': '2018-05-06T16:16:18.200Z', 'phase': 1}, {'type': 'start_phase', 'ts': '2018-05-06T16:32:07.130000', 'kickoff_team_id': 7, 'phase': 2}, {'type': 'end_phase', 'ts': '2018-05-06T17:20:08.236Z', 'phase': 2}]\n",
      "1525624327130\n"
     ]
    },
    {
     "name": "stderr",
     "output_type": "stream",
     "text": [
      "14996it [00:06, 2423.03it/s]\n"
     ]
    },
    {
     "name": "stdout",
     "output_type": "stream",
     "text": [
      "2819 2819\n",
      "371 371\n",
      "74 198\n",
      "39\n",
      "Json file edited\n",
      "Parsed ../kickoff-data-corrected/6e26f66b-a921-4919-9d7d-1bd59f935e78.1.kickoff.rdb in 2.32 s.\n",
      "Contains keys: dict_keys(['left', 'right'])\n",
      "[left] start_ts: 1523638587613 | stop_ts: 1523639186133\n",
      "[right] start_ts: 1523638586979 | stop_ts: 1523639185819\n",
      "../kickoff-data-corrected/6e26f66b-a921-4919-9d7d-1bd59f935e78.json\n",
      "[{'type': 'start_phase', 'ts': '1970-01-01T00:00:00', 'kickoff_team_id': 3, 'phase': 1}, {'type': 'end_phase', 'ts': '2018-04-13T17:48:25.115Z', 'phase': 1}, {'type': 'start_phase', 'ts': '1970-01-01T00:00:00', 'kickoff_team_id': 8, 'phase': 2}, {'type': 'end_phase', 'ts': '2018-04-13T18:52:23.632Z', 'phase': 2}]\n",
      "0\n",
      "Json file edited\n"
     ]
    },
    {
     "name": "stderr",
     "output_type": "stream",
     "text": [
      "113it [00:00, 1127.57it/s]"
     ]
    },
    {
     "name": "stdout",
     "output_type": "stream",
     "text": [
      "Parsed ../kickoff-data-corrected/57bf9b24-5c68-464f-9e74-20d0b2508bba.1.kickoff.rdb in 2.90 s.\n",
      "Contains keys: dict_keys(['left', 'right'])\n",
      "[left] start_ts: 1524070530135 | stop_ts: 1524071127975\n",
      "[right] start_ts: 1524070530793 | stop_ts: 1524071128313\n",
      "../kickoff-data-corrected/57bf9b24-5c68-464f-9e74-20d0b2508bba.json\n",
      "[{'type': 'start_phase', 'ts': '2018-04-18T17:00:29.775000', 'kickoff_team_id': 11, 'phase': 1}, {'type': 'end_phase', 'ts': '2018-04-18T17:46:35.647Z', 'phase': 1}, {'type': 'start_phase', 'ts': '2018-04-18T18:03:05.473000', 'kickoff_team_id': 8, 'phase': 2}, {'type': 'end_phase', 'ts': '2018-04-18T18:52:04.739Z', 'phase': 2}]\n",
      "1524070829775\n"
     ]
    },
    {
     "name": "stderr",
     "output_type": "stream",
     "text": [
      "14939it [00:09, 1596.77it/s]\n"
     ]
    },
    {
     "name": "stdout",
     "output_type": "stream",
     "text": [
      "2197 2197\n",
      "308 308\n",
      "31 178\n",
      "41\n",
      "Json file edited\n"
     ]
    },
    {
     "name": "stderr",
     "output_type": "stream",
     "text": [
      "591it [00:00, 3078.64it/s]"
     ]
    },
    {
     "name": "stdout",
     "output_type": "stream",
     "text": [
      "Parsed ../kickoff-data-corrected/66b6caf7-e5c0-45dd-874f-de8ac2e3c9ff.1.kickoff.rdb in 2.11 s.\n",
      "Contains keys: dict_keys(['left', 'right'])\n",
      "[left] start_ts: 1526921712782 | stop_ts: 1526922309662\n",
      "[right] start_ts: 1526921712730 | stop_ts: 1526922309650\n",
      "../kickoff-data-corrected/66b6caf7-e5c0-45dd-874f-de8ac2e3c9ff.json\n",
      "[{'type': 'start_phase', 'ts': '2018-05-21T17:00:10.970000', 'kickoff_team_id': 6, 'phase': 1}, {'type': 'end_phase', 'ts': '2018-05-21T17:46:11.855Z', 'phase': 1}, {'type': 'start_phase', 'ts': '2018-05-21T18:01:54.690000', 'kickoff_team_id': 7, 'phase': 2}, {'type': 'end_phase', 'ts': '2018-05-21T18:51:25.546Z', 'phase': 2}]\n",
      "1526922010970\n"
     ]
    },
    {
     "name": "stderr",
     "output_type": "stream",
     "text": [
      "14922it [00:06, 2389.35it/s]\n"
     ]
    },
    {
     "name": "stdout",
     "output_type": "stream",
     "text": [
      "1587 1587\n",
      "247 247\n",
      "62 86\n",
      "43\n",
      "Json file edited\n"
     ]
    },
    {
     "name": "stderr",
     "output_type": "stream",
     "text": [
      "\r",
      "0it [00:00, ?it/s]"
     ]
    },
    {
     "name": "stdout",
     "output_type": "stream",
     "text": [
      "Parsed ../kickoff-data-corrected/2b8bcfd6-5f57-46de-aacd-e932ac8e1697.2.kickoff.rdb in 2.04 s.\n",
      "Contains keys: dict_keys(['left', 'right'])\n",
      "[left] start_ts: 1523204960829 | stop_ts: 1523205559349\n",
      "[right] start_ts: 1523204962061 | stop_ts: 1523205559981\n",
      "../kickoff-data-corrected/2b8bcfd6-5f57-46de-aacd-e932ac8e1697.json\n",
      "[{'type': 'start_phase', 'ts': '1970-01-01T00:00:00', 'kickoff_team_id': 13, 'phase': 1}, {'type': 'end_phase', 'ts': '2018-04-08T16:17:54.242Z', 'phase': 1}, {'type': 'start_phase', 'ts': '2018-04-08T16:34:22.301000', 'kickoff_team_id': 16, 'phase': 2}, {'type': 'end_phase', 'ts': '2018-04-08T17:23:20.816Z', 'phase': 2}]\n",
      "1523205262301\n"
     ]
    },
    {
     "name": "stderr",
     "output_type": "stream",
     "text": [
      "14949it [00:08, 1823.77it/s]\n"
     ]
    },
    {
     "name": "stdout",
     "output_type": "stream",
     "text": [
      "3388 3388\n",
      "427 427\n",
      "271 57\n",
      "45\n",
      "Json file edited\n"
     ]
    },
    {
     "name": "stderr",
     "output_type": "stream",
     "text": [
      "770it [00:00, 3725.59it/s]"
     ]
    },
    {
     "name": "stdout",
     "output_type": "stream",
     "text": [
      "Parsed ../kickoff-data-corrected/23fb8811-638e-4be8-a01d-76cad0f5a5bf.1.kickoff.rdb in 1.97 s.\n",
      "Contains keys: dict_keys(['left', 'right'])\n",
      "[left] start_ts: 1526133303595 | stop_ts: 1526133902435\n",
      "[right] start_ts: 1526133303581 | stop_ts: 1526133902461\n",
      "../kickoff-data-corrected/23fb8811-638e-4be8-a01d-76cad0f5a5bf.json\n",
      "[{'type': 'start_phase', 'ts': '2018-05-12T14:00:04.221000', 'kickoff_team_id': 3, 'phase': 1}, {'type': 'end_phase', 'ts': '2018-05-12T14:46:02.666Z', 'phase': 1}, {'type': 'start_phase', 'ts': '2018-05-12T15:01:24.821000', 'kickoff_team_id': 15, 'phase': 2}, {'type': 'end_phase', 'ts': '2018-05-12T15:48:40.504Z', 'phase': 2}]\n",
      "1526133604221\n"
     ]
    },
    {
     "name": "stderr",
     "output_type": "stream",
     "text": [
      "14971it [00:05, 2517.23it/s]\n"
     ]
    },
    {
     "name": "stdout",
     "output_type": "stream",
     "text": [
      "1788 1788\n",
      "267 267\n",
      "102 66\n",
      "47\n",
      "Json file edited\n"
     ]
    },
    {
     "name": "stderr",
     "output_type": "stream",
     "text": [
      "381it [00:00, 1832.57it/s]"
     ]
    },
    {
     "name": "stdout",
     "output_type": "stream",
     "text": [
      "Parsed ../kickoff-data-corrected/b4dbea7c-c72f-4dd6-b57c-8fb7b8b38eb5.1.kickoff.rdb in 2.62 s.\n",
      "Contains keys: dict_keys(['left', 'right'])\n",
      "[left] start_ts: 1524070510939 | stop_ts: 1524071110739\n",
      "[right] start_ts: 1524070510889 | stop_ts: 1524071110729\n",
      "../kickoff-data-corrected/b4dbea7c-c72f-4dd6-b57c-8fb7b8b38eb5.json\n",
      "[{'type': 'start_phase', 'ts': '2018-04-18T17:00:11.969000', 'kickoff_team_id': 13, 'phase': 1}, {'type': 'end_phase', 'ts': '2018-04-18T17:47:10.874Z', 'phase': 1}, {'type': 'start_phase', 'ts': '2018-04-18T18:02:20.169000', 'kickoff_team_id': 9, 'phase': 2}, {'type': 'end_phase', 'ts': '2018-04-18T18:49:19.022Z', 'phase': 2}]\n",
      "1524070811969\n"
     ]
    },
    {
     "name": "stderr",
     "output_type": "stream",
     "text": [
      "14996it [00:09, 1559.81it/s]\n"
     ]
    },
    {
     "name": "stdout",
     "output_type": "stream",
     "text": [
      "1463 1463\n",
      "235 235\n",
      "8 128\n",
      "49\n",
      "Json file edited\n"
     ]
    },
    {
     "name": "stderr",
     "output_type": "stream",
     "text": [
      "336it [00:00, 1608.68it/s]"
     ]
    },
    {
     "name": "stdout",
     "output_type": "stream",
     "text": [
      "Parsed ../kickoff-data-corrected/8d6fc150-9f6b-4e5c-8a99-d2ca96b5ffa5.1.kickoff.rdb in 3.25 s.\n",
      "Contains keys: dict_keys(['left', 'right'])\n",
      "[left] start_ts: 1524156948162 | stop_ts: 1524157546082\n",
      "[right] start_ts: 1524156948802 | stop_ts: 1524157546362\n",
      "../kickoff-data-corrected/8d6fc150-9f6b-4e5c-8a99-d2ca96b5ffa5.json\n",
      "[{'type': 'start_phase', 'ts': '2018-04-19T17:00:47.522000', 'kickoff_team_id': 4, 'phase': 1}, {'type': 'end_phase', 'ts': '2018-04-19T17:45:47.791Z', 'phase': 1}, {'type': 'start_phase', 'ts': '2018-04-19T18:01:37.282000', 'kickoff_team_id': 2, 'phase': 2}, {'type': 'end_phase', 'ts': '2018-04-19T18:51:07.597Z', 'phase': 2}]\n",
      "1524157247522\n"
     ]
    },
    {
     "name": "stderr",
     "output_type": "stream",
     "text": [
      "14940it [00:09, 1633.24it/s]\n"
     ]
    },
    {
     "name": "stdout",
     "output_type": "stream",
     "text": [
      "1633 1633\n",
      "251 251\n",
      "47 105\n",
      "51\n",
      "Json file edited\n"
     ]
    },
    {
     "name": "stderr",
     "output_type": "stream",
     "text": [
      "119it [00:00, 1185.91it/s]"
     ]
    },
    {
     "name": "stdout",
     "output_type": "stream",
     "text": [
      "Parsed ../kickoff-data-corrected/cf16ebf4-49fc-4991-a9b8-b9a055dcf2b8.1.kickoff.rdb in 2.17 s.\n",
      "Contains keys: dict_keys(['left', 'right'])\n",
      "[left] start_ts: 1525006796874 | stop_ts: 1525007393674\n",
      "[right] start_ts: 1525006796888 | stop_ts: 1525007393688\n",
      "../kickoff-data-corrected/cf16ebf4-49fc-4991-a9b8-b9a055dcf2b8.json\n",
      "[{'type': 'start_phase', 'ts': '2018-04-29T13:04:55.088000', 'kickoff_team_id': 2, 'phase': 1}, {'type': 'end_phase', 'ts': '2018-04-29T13:51:58.173Z', 'phase': 1}, {'type': 'start_phase', 'ts': '2018-04-29T14:09:37.368000', 'kickoff_team_id': 11, 'phase': 2}, {'type': 'end_phase', 'ts': '2018-04-29T14:57:43.997Z', 'phase': 2}]\n",
      "1525007095088\n"
     ]
    },
    {
     "name": "stderr",
     "output_type": "stream",
     "text": [
      "14921it [00:08, 1832.17it/s]\n"
     ]
    },
    {
     "name": "stdout",
     "output_type": "stream",
     "text": [
      "1959 1959\n",
      "284 284\n",
      "140 45\n",
      "53\n",
      "Json file edited\n"
     ]
    },
    {
     "name": "stderr",
     "output_type": "stream",
     "text": [
      "221it [00:00, 2203.67it/s]"
     ]
    },
    {
     "name": "stdout",
     "output_type": "stream",
     "text": [
      "Parsed ../kickoff-data-corrected/d092d84a-bfe1-4638-bd6e-7f516a90553a.2.kickoff.rdb in 1.94 s.\n",
      "Contains keys: dict_keys(['left', 'right'])\n",
      "[left] start_ts: 1527346602172 | stop_ts: 1527347199012\n",
      "[right] start_ts: 1527346602142 | stop_ts: 1527347199022\n",
      "../kickoff-data-corrected/d092d84a-bfe1-4638-bd6e-7f516a90553a.json\n",
      "[{'type': 'start_phase', 'ts': '1970-01-01T00:00:00', 'kickoff_team_id': 10, 'phase': 1}, {'type': 'end_phase', 'ts': '2018-05-26T14:46:31.767Z', 'phase': 1}, {'type': 'start_phase', 'ts': '2018-05-26T15:01:41.702000', 'kickoff_team_id': 4, 'phase': 2}, {'type': 'end_phase', 'ts': '2018-05-26T15:49:43.350Z', 'phase': 2}]\n",
      "1527346901702\n"
     ]
    },
    {
     "name": "stderr",
     "output_type": "stream",
     "text": [
      "14922it [00:07, 2055.66it/s]\n"
     ]
    },
    {
     "name": "stdout",
     "output_type": "stream",
     "text": [
      "1823 1823\n",
      "271 271\n",
      "32 140\n",
      "55\n",
      "Json file edited\n"
     ]
    },
    {
     "name": "stderr",
     "output_type": "stream",
     "text": [
      "248it [00:00, 1277.22it/s]"
     ]
    },
    {
     "name": "stdout",
     "output_type": "stream",
     "text": [
      "Parsed ../kickoff-data-corrected/314f4989-398c-45a3-a74f-9f1adac71bf1.1.kickoff.rdb in 2.13 s.\n",
      "Contains keys: dict_keys(['left', 'right'])\n",
      "[left] start_ts: 1522587361524 | stop_ts: 1522587961404\n",
      "[right] start_ts: 1522587361602 | stop_ts: 1522587961442\n",
      "../kickoff-data-corrected/314f4989-398c-45a3-a74f-9f1adac71bf1.json\n",
      "[{'type': 'start_phase', 'ts': '2018-04-01T13:00:57.284000', 'kickoff_team_id': 9, 'phase': 1}, {'type': 'end_phase', 'ts': '2018-04-01T13:47:08.486Z', 'phase': 1}, {'type': 'start_phase', 'ts': '1970-01-01T00:00:00', 'kickoff_team_id': 5, 'phase': 2}, {'type': 'end_phase', 'ts': '2018-04-01T14:50:51.103Z', 'phase': 2}]\n",
      "1522587657284\n"
     ]
    },
    {
     "name": "stderr",
     "output_type": "stream",
     "text": [
      "14908it [00:07, 1904.76it/s]\n"
     ]
    },
    {
     "name": "stdout",
     "output_type": "stream",
     "text": [
      "1613 1613\n",
      "249 249\n",
      "113 37\n",
      "57\n",
      "Json file edited\n"
     ]
    },
    {
     "name": "stderr",
     "output_type": "stream",
     "text": [
      "\r",
      "0it [00:00, ?it/s]"
     ]
    },
    {
     "name": "stdout",
     "output_type": "stream",
     "text": [
      "Parsed ../kickoff-data-corrected/03d0ac1b-8adb-457d-9519-b6c879a92df3.2.kickoff.rdb in 2.00 s.\n",
      "Contains keys: dict_keys(['left', 'right'])\n",
      "[left] start_ts: 1526825255686 | stop_ts: 1526825853606\n",
      "[right] start_ts: 1526825255814 | stop_ts: 1526825853694\n",
      "../kickoff-data-corrected/03d0ac1b-8adb-457d-9519-b6c879a92df3.json\n",
      "[{'type': 'start_phase', 'ts': '2018-05-20T13:10:06.054Z', 'kickoff_team_id': 10, 'phase': 1}, {'type': 'end_phase', 'ts': '2018-05-20T13:55:08.940Z', 'phase': 1}, {'type': 'start_phase', 'ts': '2018-05-20T14:12:36.446000', 'kickoff_team_id': 2, 'phase': 2}, {'type': 'end_phase', 'ts': '2018-05-20T15:02:18.183Z', 'phase': 2}]\n",
      "1526825556446\n"
     ]
    },
    {
     "name": "stderr",
     "output_type": "stream",
     "text": [
      "14948it [00:07, 2132.18it/s]\n"
     ]
    },
    {
     "name": "stdout",
     "output_type": "stream",
     "text": [
      "1229 1229\n",
      "211 211\n",
      "40 72\n",
      "59\n",
      "Json file edited\n"
     ]
    },
    {
     "name": "stderr",
     "output_type": "stream",
     "text": [
      "739it [00:00, 7388.46it/s]"
     ]
    },
    {
     "name": "stdout",
     "output_type": "stream",
     "text": [
      "Parsed ../kickoff-data-corrected/8d6fc150-9f6b-4e5c-8a99-d2ca96b5ffa5.2.kickoff.rdb in 1.81 s.\n",
      "Contains keys: dict_keys(['left', 'right'])\n",
      "[left] start_ts: 1524160596162 | stop_ts: 1524161195082\n",
      "[right] start_ts: 1524160596802 | stop_ts: 1524161195362\n",
      "../kickoff-data-corrected/8d6fc150-9f6b-4e5c-8a99-d2ca96b5ffa5.json\n",
      "[{'type': 'start_phase', 'ts': '2018-04-19T17:00:47.522000', 'kickoff_team_id': 4, 'phase': 1}, {'type': 'end_phase', 'ts': '2018-04-19T17:45:47.791Z', 'phase': 1}, {'type': 'start_phase', 'ts': '2018-04-19T18:01:37.282000', 'kickoff_team_id': 2, 'phase': 2}, {'type': 'end_phase', 'ts': '2018-04-19T18:51:07.597Z', 'phase': 2}]\n",
      "1524160897282\n"
     ]
    },
    {
     "name": "stderr",
     "output_type": "stream",
     "text": [
      "14965it [00:06, 2259.89it/s]\n"
     ]
    },
    {
     "name": "stdout",
     "output_type": "stream",
     "text": [
      "2210 2210\n",
      "309 309\n",
      "110 100\n",
      "61\n",
      "Json file edited\n",
      "Parsed ../kickoff-data-corrected/47ed3e3a-56d1-4eb1-b5d3-9e5f9658fda7.2.kickoff.rdb in 1.89 s.\n",
      "Contains keys: dict_keys(['left', 'right'])\n",
      "[left] start_ts: 1526320594327 | stop_ts: 1526321192167\n",
      "[right] start_ts: 1526320594243 | stop_ts: 1526321192163\n",
      "../kickoff-data-corrected/47ed3e3a-56d1-4eb1-b5d3-9e5f9658fda7.json\n",
      "[{'type': 'start_phase', 'ts': '1970-01-01T00:00:00', 'kickoff_team_id': 10, 'phase': 1}, {'type': 'end_phase', 'ts': '2018-05-14T17:46:28.806Z', 'phase': 1}, {'type': 'start_phase', 'ts': '1970-01-01T00:00:00', 'kickoff_team_id': 13, 'phase': 2}, {'type': 'end_phase', 'ts': '2018-05-14T18:49:37.209Z', 'phase': 2}]\n",
      "0\n",
      "Json file edited\n",
      "Parsed ../kickoff-data-corrected/916abbb2-57b9-4700-8cc5-3fc01de1a6f8.1.kickoff.rdb in 2.37 s.\n",
      "Contains keys: dict_keys(['left', 'right'])\n",
      "[left] start_ts: 1526745302179 | stop_ts: 1526745901059\n",
      "[right] start_ts: 1526745302339 | stop_ts: 1526745901139\n",
      "../kickoff-data-corrected/916abbb2-57b9-4700-8cc5-3fc01de1a6f8.json\n",
      "[{'type': 'start_phase', 'ts': '1970-01-01T00:00:00', 'kickoff_team_id': 16, 'phase': 1}, {'type': 'end_phase', 'ts': '2018-05-19T16:46:01.609Z', 'phase': 1}, {'type': 'start_phase', 'ts': '2018-05-19T17:02:56.859000', 'kickoff_team_id': 4, 'phase': 2}, {'type': 'end_phase', 'ts': '2018-05-19T17:51:06.302Z', 'phase': 2}]\n",
      "0\n",
      "Json file edited\n",
      "Parsed ../kickoff-data-corrected/d092d84a-bfe1-4638-bd6e-7f516a90553a.1.kickoff.rdb in 2.83 s.\n",
      "Contains keys: dict_keys(['left', 'right'])\n",
      "[left] start_ts: 1527342934172 | stop_ts: 1527343533012\n",
      "[right] start_ts: 1527342934142 | stop_ts: 1527343533022\n",
      "../kickoff-data-corrected/d092d84a-bfe1-4638-bd6e-7f516a90553a.json\n",
      "[{'type': 'start_phase', 'ts': '1970-01-01T00:00:00', 'kickoff_team_id': 10, 'phase': 1}, {'type': 'end_phase', 'ts': '2018-05-26T14:46:31.767Z', 'phase': 1}, {'type': 'start_phase', 'ts': '2018-05-26T15:01:41.702000', 'kickoff_team_id': 4, 'phase': 2}, {'type': 'end_phase', 'ts': '2018-05-26T15:49:43.350Z', 'phase': 2}]\n",
      "0\n",
      "Json file edited\n"
     ]
    },
    {
     "name": "stderr",
     "output_type": "stream",
     "text": [
      "80it [00:00, 797.47it/s]"
     ]
    },
    {
     "name": "stdout",
     "output_type": "stream",
     "text": [
      "Parsed ../kickoff-data-corrected/ba34fc2e-bdba-40d8-8cc8-a679c6eecd5a.1.kickoff.rdb in 1.89 s.\n",
      "Contains keys: dict_keys(['left', 'right'])\n",
      "[left] start_ts: 1522596366681 | stop_ts: 1522596965521\n",
      "[right] start_ts: 1522596366671 | stop_ts: 1522596965511\n",
      "../kickoff-data-corrected/ba34fc2e-bdba-40d8-8cc8-a679c6eecd5a.json\n",
      "[{'type': 'start_phase', 'ts': '2018-04-01T15:31:02.151000', 'kickoff_team_id': 11, 'phase': 1}, {'type': 'end_phase', 'ts': '2018-04-01T16:16:08.759Z', 'phase': 1}, {'type': 'start_phase', 'ts': '1970-01-01T00:00:00', 'kickoff_team_id': 13, 'phase': 2}, {'type': 'end_phase', 'ts': '2018-04-01T17:20:20.880Z', 'phase': 2}]\n",
      "1522596662151\n"
     ]
    },
    {
     "name": "stderr",
     "output_type": "stream",
     "text": [
      "14972it [00:06, 2209.67it/s]\n"
     ]
    },
    {
     "name": "stdout",
     "output_type": "stream",
     "text": [
      "1150 1150\n",
      "203 203\n",
      "40 64\n",
      "63\n",
      "Json file edited\n",
      "Parsed ../kickoff-data-corrected/c4b2214b-4e3c-4dfb-a691-a5b008b9d778.2.kickoff.rdb in 1.82 s.\n",
      "Contains keys: dict_keys(['left', 'right'])\n",
      "[left] start_ts: 1525614945214 | stop_ts: 1525615542494\n",
      "[right] start_ts: 1525614944224 | stop_ts: 1525615541984\n",
      "../kickoff-data-corrected/c4b2214b-4e3c-4dfb-a691-a5b008b9d778.json\n",
      "[{'type': 'start_phase', 'ts': '1970-01-01T00:00:00', 'kickoff_team_id': 16, 'phase': 1}, {'type': 'end_phase', 'ts': '2018-05-06T13:45:00.746Z', 'phase': 1}, {'type': 'start_phase', 'ts': '1970-01-01T00:00:00', 'kickoff_team_id': 9, 'phase': 2}, {'type': 'end_phase', 'ts': '2018-05-06T14:48:47.422Z', 'phase': 2}]\n",
      "0\n",
      "Json file edited\n"
     ]
    },
    {
     "name": "stderr",
     "output_type": "stream",
     "text": [
      "298it [00:00, 2979.89it/s]"
     ]
    },
    {
     "name": "stdout",
     "output_type": "stream",
     "text": [
      "Parsed ../kickoff-data-corrected/cbcca433-ff77-4927-a5a3-36ff293c12fd.2.kickoff.rdb in 1.53 s.\n",
      "Contains keys: dict_keys(['left', 'right'])\n",
      "[left] start_ts: 1523296760048 | stop_ts: 1523297356248\n",
      "[right] start_ts: 1523296748330 | stop_ts: 1523297346370\n",
      "../kickoff-data-corrected/cbcca433-ff77-4927-a5a3-36ff293c12fd.json\n",
      "[{'type': 'start_phase', 'ts': '1970-01-01T00:00:00', 'kickoff_team_id': 15, 'phase': 1}, {'type': 'end_phase', 'ts': '2018-04-09T17:47:46.113Z', 'phase': 1}, {'type': 'start_phase', 'ts': '2018-04-09T18:04:20.408000', 'kickoff_team_id': 5, 'phase': 2}, {'type': 'end_phase', 'ts': '2018-04-09T18:53:12.188Z', 'phase': 2}]\n",
      "1523297060408\n"
     ]
    },
    {
     "name": "stderr",
     "output_type": "stream",
     "text": [
      "14906it [00:06, 2427.14it/s]\n"
     ]
    },
    {
     "name": "stdout",
     "output_type": "stream",
     "text": [
      "3169 3169\n",
      "405 405\n",
      "153 153\n",
      "65\n",
      "Json file edited\n"
     ]
    },
    {
     "name": "stderr",
     "output_type": "stream",
     "text": [
      "77it [00:00, 764.34it/s]"
     ]
    },
    {
     "name": "stdout",
     "output_type": "stream",
     "text": [
      "Parsed ../kickoff-data-corrected/4b949eae-068b-4b0a-bc88-f5ef0a97b2ba.1.kickoff.rdb in 2.70 s.\n",
      "Contains keys: dict_keys(['left', 'right'])\n",
      "[left] start_ts: 1524318934512 | stop_ts: 1524319532312\n",
      "[right] start_ts: 1524318935116 | stop_ts: 1524319532636\n",
      "../kickoff-data-corrected/4b949eae-068b-4b0a-bc88-f5ef0a97b2ba.json\n",
      "[{'type': 'start_phase', 'ts': '2018-04-21T14:00:33.996000', 'kickoff_team_id': 13, 'phase': 1}, {'type': 'end_phase', 'ts': '2018-04-21T14:45:33.074Z', 'phase': 1}, {'type': 'start_phase', 'ts': '2018-04-21T15:02:23.876000', 'kickoff_team_id': 12, 'phase': 2}, {'type': 'end_phase', 'ts': '2018-04-21T15:50:24.649Z', 'phase': 2}]\n",
      "1524319233996\n"
     ]
    },
    {
     "name": "stderr",
     "output_type": "stream",
     "text": [
      "14940it [00:12, 1174.24it/s]\n"
     ]
    },
    {
     "name": "stdout",
     "output_type": "stream",
     "text": [
      "1593 1593\n",
      "247 247\n",
      "75 73\n",
      "67\n",
      "Json file edited\n"
     ]
    },
    {
     "name": "stderr",
     "output_type": "stream",
     "text": [
      "97it [00:00, 966.64it/s]"
     ]
    },
    {
     "name": "stdout",
     "output_type": "stream",
     "text": [
      "Parsed ../kickoff-data-corrected/a185c6c8-7383-4d19-927f-dc8f70726c34.1.kickoff.rdb in 3.45 s.\n",
      "Contains keys: dict_keys(['left', 'right'])\n",
      "[left] start_ts: 1523897795243 | stop_ts: 1523898395043\n",
      "[right] start_ts: 1523897795697 | stop_ts: 1523898395297\n",
      "../kickoff-data-corrected/a185c6c8-7383-4d19-927f-dc8f70726c34.json\n",
      "[{'type': 'start_phase', 'ts': '2018-04-16T17:01:37.097000', 'kickoff_team_id': 15, 'phase': 1}, {'type': 'end_phase', 'ts': '2018-04-16T17:46:39.313Z', 'phase': 1}, {'type': 'start_phase', 'ts': '2018-04-16T18:02:51.643000', 'kickoff_team_id': 2, 'phase': 2}, {'type': 'end_phase', 'ts': '2018-04-16T18:49:49.424Z', 'phase': 2}]\n",
      "1523898097097\n"
     ]
    },
    {
     "name": "stderr",
     "output_type": "stream",
     "text": [
      "14991it [00:10, 1394.73it/s]\n"
     ]
    },
    {
     "name": "stdout",
     "output_type": "stream",
     "text": [
      "3857 3857\n",
      "474 474\n",
      "190 185\n",
      "69\n",
      "Json file edited\n"
     ]
    },
    {
     "name": "stderr",
     "output_type": "stream",
     "text": [
      "378it [00:00, 1792.31it/s]"
     ]
    },
    {
     "name": "stdout",
     "output_type": "stream",
     "text": [
      "Parsed ../kickoff-data-corrected/a5857e03-10b8-454a-89fb-c201985b04cb.2.kickoff.rdb in 2.08 s.\n",
      "Contains keys: dict_keys(['left', 'right'])\n",
      "[left] start_ts: 1523383083898 | stop_ts: 1523383683138\n",
      "[right] start_ts: 1523383083286 | stop_ts: 1523383682846\n",
      "../kickoff-data-corrected/a5857e03-10b8-454a-89fb-c201985b04cb.json\n",
      "[{'type': 'start_phase', 'ts': '1970-01-01T00:00:00', 'kickoff_team_id': 6, 'phase': 1}, {'type': 'end_phase', 'ts': '2018-04-10T17:47:16.674Z', 'phase': 1}, {'type': 'start_phase', 'ts': '2018-04-10T18:03:05.406000', 'kickoff_team_id': 2, 'phase': 2}, {'type': 'end_phase', 'ts': '2018-04-10T18:51:05.058Z', 'phase': 2}]\n",
      "1523383385406\n"
     ]
    },
    {
     "name": "stderr",
     "output_type": "stream",
     "text": [
      "14982it [00:07, 2003.38it/s]\n"
     ]
    },
    {
     "name": "stdout",
     "output_type": "stream",
     "text": [
      "1735 1735\n",
      "261 261\n",
      "118 44\n",
      "71\n",
      "Json file edited\n",
      "Parsed ../kickoff-data-corrected/75366863-8063-4ece-8aca-1dcf75d22448.2.kickoff.rdb in 1.58 s.\n",
      "Contains keys: dict_keys(['left', 'right'])\n",
      "[left] start_ts: 1527185280818 | stop_ts: 1527185876738\n",
      "[right] start_ts: 1527185276926 | stop_ts: 1527185876806\n",
      "../kickoff-data-corrected/75366863-8063-4ece-8aca-1dcf75d22448.json\n",
      "[{'type': 'start_phase', 'ts': '1970-01-01T00:00:00', 'kickoff_team_id': 6, 'phase': 1}, {'type': 'end_phase', 'ts': '2018-05-24T17:52:47.009Z', 'phase': 1}, {'type': 'start_phase', 'ts': '1970-01-01T00:00:00', 'kickoff_team_id': 11, 'phase': 2}, {'type': 'end_phase', 'ts': '2018-05-24T19:02:55.588Z', 'phase': 2}]\n",
      "0\n",
      "Json file edited\n",
      "Parsed ../kickoff-data-corrected/3382a9d0-02ff-4f23-9748-1b715d85b731.1.kickoff.rdb in 4.06 s.\n",
      "Contains keys: dict_keys(['left', 'right'])\n",
      "[left] start_ts: 1523805900082 | stop_ts: 1523806498882\n",
      "[right] start_ts: 1523805900650 | stop_ts: 1523806499170\n",
      "../kickoff-data-corrected/3382a9d0-02ff-4f23-9748-1b715d85b731.json\n",
      "[{'type': 'start_phase', 'ts': '1970-01-01T00:00:00', 'kickoff_team_id': 6, 'phase': 1}, {'type': 'end_phase', 'ts': '2018-04-15T16:16:00.459Z', 'phase': 1}, {'type': 'start_phase', 'ts': '1970-01-01T00:00:00', 'kickoff_team_id': 13, 'phase': 2}, {'type': 'end_phase', 'ts': '2018-04-15T17:19:35.565Z', 'phase': 2}]\n",
      "0\n",
      "Json file edited\n"
     ]
    },
    {
     "name": "stderr",
     "output_type": "stream",
     "text": [
      "145it [00:00, 1442.86it/s]"
     ]
    },
    {
     "name": "stdout",
     "output_type": "stream",
     "text": [
      "Parsed ../kickoff-data-corrected/9d1b40c0-efb0-4eb5-9ff4-bd13a55c0820.2.kickoff.rdb in 1.96 s.\n",
      "Contains keys: dict_keys(['left', 'right'])\n",
      "[left] start_ts: 1525715936459 | stop_ts: 1525716534259\n",
      "[right] start_ts: 1525715936409 | stop_ts: 1525716534249\n",
      "../kickoff-data-corrected/9d1b40c0-efb0-4eb5-9ff4-bd13a55c0820.json\n",
      "[{'type': 'start_phase', 'ts': '2018-05-07T16:59:59.329000', 'kickoff_team_id': 6, 'phase': 1}, {'type': 'end_phase', 'ts': '2018-05-07T17:45:00.886Z', 'phase': 1}, {'type': 'start_phase', 'ts': '2018-05-07T18:03:56.609000', 'kickoff_team_id': 6, 'phase': 2}, {'type': 'end_phase', 'ts': '2018-05-07T18:53:43.859Z', 'phase': 2}]\n",
      "1525716236609\n"
     ]
    },
    {
     "name": "stderr",
     "output_type": "stream",
     "text": [
      "14946it [00:07, 1992.88it/s]\n"
     ]
    },
    {
     "name": "stdout",
     "output_type": "stream",
     "text": [
      "4390 4390\n",
      "527 527\n",
      "415 13\n",
      "73\n",
      "Json file edited\n",
      "Parsed ../kickoff-data-corrected/19bebd81-3b61-492b-85ed-74ff887cbc45.1.kickoff.rdb in 2.85 s.\n",
      "Contains keys: dict_keys(['left', 'right'])\n",
      "[left] start_ts: 1522587371575 | stop_ts: 1522587969015\n",
      "[right] start_ts: 1522587371411 | stop_ts: 1522587968931\n",
      "../kickoff-data-corrected/19bebd81-3b61-492b-85ed-74ff887cbc45.json\n",
      "[{'type': 'start_phase', 'ts': '1970-01-01T00:00:00', 'kickoff_team_id': 1, 'phase': 1}, {'type': 'end_phase', 'ts': '2018-04-01T13:47:53.692Z', 'phase': 1}, {'type': 'start_phase', 'ts': '2018-04-01T14:05:30.455000', 'kickoff_team_id': 2, 'phase': 2}, {'type': 'end_phase', 'ts': '2018-04-01T14:53:51.954Z', 'phase': 2}]\n",
      "0\n",
      "Json file edited\n",
      "Parsed ../kickoff-data-corrected/ba34fc2e-bdba-40d8-8cc8-a679c6eecd5a.2.kickoff.rdb in 1.92 s.\n",
      "Contains keys: dict_keys(['left', 'right'])\n",
      "[left] start_ts: 1522600030721 | stop_ts: 1522600628521\n",
      "[right] start_ts: 1522600030671 | stop_ts: 1522600628511\n",
      "../kickoff-data-corrected/ba34fc2e-bdba-40d8-8cc8-a679c6eecd5a.json\n",
      "[{'type': 'start_phase', 'ts': '2018-04-01T15:31:02.151000', 'kickoff_team_id': 11, 'phase': 1}, {'type': 'end_phase', 'ts': '2018-04-01T16:16:08.759Z', 'phase': 1}, {'type': 'start_phase', 'ts': '1970-01-01T00:00:00', 'kickoff_team_id': 13, 'phase': 2}, {'type': 'end_phase', 'ts': '2018-04-01T17:20:20.880Z', 'phase': 2}]\n",
      "0\n",
      "Json file edited\n"
     ]
    },
    {
     "name": "stderr",
     "output_type": "stream",
     "text": [
      "255it [00:00, 1217.49it/s]"
     ]
    },
    {
     "name": "stdout",
     "output_type": "stream",
     "text": [
      "Parsed ../kickoff-data-corrected/2dc12819-d486-4925-a0e2-b8ae9ff1aed5.1.kickoff.rdb in 2.67 s.\n",
      "Contains keys: dict_keys(['left', 'right'])\n",
      "[left] start_ts: 1523192332019 | stop_ts: 1523192929339\n",
      "[right] start_ts: 1523192332775 | stop_ts: 1523192929695\n",
      "../kickoff-data-corrected/2dc12819-d486-4925-a0e2-b8ae9ff1aed5.json\n",
      "[{'type': 'start_phase', 'ts': '2018-04-08T13:03:52.775000', 'kickoff_team_id': 11, 'phase': 1}, {'type': 'end_phase', 'ts': '2018-04-08T13:48:52.077Z', 'phase': 1}, {'type': 'start_phase', 'ts': '2018-04-08T14:05:16.815000', 'kickoff_team_id': 14, 'phase': 2}, {'type': 'end_phase', 'ts': '2018-04-08T14:53:40.200Z', 'phase': 2}]\n",
      "1523192632775\n"
     ]
    },
    {
     "name": "stderr",
     "output_type": "stream",
     "text": [
      "14925it [00:08, 1662.29it/s]\n"
     ]
    },
    {
     "name": "stdout",
     "output_type": "stream",
     "text": [
      "6277 6277\n",
      "716 716\n",
      "480 137\n",
      "75\n",
      "Json file edited\n",
      "Parsed ../kickoff-data-corrected/3382a9d0-02ff-4f23-9748-1b715d85b731.2.kickoff.rdb in 1.99 s.\n",
      "Contains keys: dict_keys(['left', 'right'])\n",
      "[left] start_ts: 1523809596082 | stop_ts: 1523810193882\n",
      "[right] start_ts: 1523809596650 | stop_ts: 1523810194170\n",
      "../kickoff-data-corrected/3382a9d0-02ff-4f23-9748-1b715d85b731.json\n",
      "[{'type': 'start_phase', 'ts': '1970-01-01T00:00:00', 'kickoff_team_id': 6, 'phase': 1}, {'type': 'end_phase', 'ts': '2018-04-15T16:16:00.459Z', 'phase': 1}, {'type': 'start_phase', 'ts': '1970-01-01T00:00:00', 'kickoff_team_id': 13, 'phase': 2}, {'type': 'end_phase', 'ts': '2018-04-15T17:19:35.565Z', 'phase': 2}]\n",
      "0\n",
      "Json file edited\n"
     ]
    },
    {
     "name": "stderr",
     "output_type": "stream",
     "text": [
      "559it [00:00, 2901.97it/s]"
     ]
    },
    {
     "name": "stdout",
     "output_type": "stream",
     "text": [
      "Parsed ../kickoff-data-corrected/84e8b33c-d912-495e-9e21-84bdd18e0e04.1.kickoff.rdb in 2.24 s.\n",
      "Contains keys: dict_keys(['left', 'right'])\n",
      "[left] start_ts: 1523638501659 | stop_ts: 1523639099539\n",
      "[right] start_ts: 1523638502169 | stop_ts: 1523639099769\n",
      "../kickoff-data-corrected/84e8b33c-d912-495e-9e21-84bdd18e0e04.json\n",
      "[{'type': 'start_phase', 'ts': '2018-04-13T17:00:01.059000', 'kickoff_team_id': 12, 'phase': 1}, {'type': 'end_phase', 'ts': '2018-04-13T17:45:38.365Z', 'phase': 1}, {'type': 'start_phase', 'ts': '2018-04-13T18:00:41.739000', 'kickoff_team_id': 14, 'phase': 2}, {'type': 'end_phase', 'ts': '2018-04-13T18:47:41.972Z', 'phase': 2}]\n",
      "1523638801059\n"
     ]
    },
    {
     "name": "stderr",
     "output_type": "stream",
     "text": [
      "14940it [00:07, 1992.50it/s]\n"
     ]
    },
    {
     "name": "stdout",
     "output_type": "stream",
     "text": [
      "2147 2147\n",
      "303 303\n",
      "173 31\n",
      "77\n",
      "Json file edited\n"
     ]
    },
    {
     "name": "stderr",
     "output_type": "stream",
     "text": [
      "215it [00:00, 2143.96it/s]"
     ]
    },
    {
     "name": "stdout",
     "output_type": "stream",
     "text": [
      "Parsed ../kickoff-data-corrected/9e627901-09e2-4c84-bf77-6f0ec289fa5f.2.kickoff.rdb in 1.82 s.\n",
      "Contains keys: dict_keys(['left', 'right'])\n",
      "[left] start_ts: 1522686514029 | stop_ts: 1522687111869\n",
      "[right] start_ts: 1522686513973 | stop_ts: 1522687111853\n",
      "../kickoff-data-corrected/9e627901-09e2-4c84-bf77-6f0ec289fa5f.json\n",
      "[{'type': 'start_phase', 'ts': '2018-04-02T15:32:26.973000', 'kickoff_team_id': 7, 'phase': 1}, {'type': 'end_phase', 'ts': '2018-04-02T16:17:34.362Z', 'phase': 1}, {'type': 'start_phase', 'ts': '2018-04-02T16:33:32.893000', 'kickoff_team_id': 8, 'phase': 2}, {'type': 'end_phase', 'ts': '2018-04-02T17:22:39.373Z', 'phase': 2}]\n",
      "1522686812893\n"
     ]
    },
    {
     "name": "stderr",
     "output_type": "stream",
     "text": [
      "14946it [00:06, 2260.52it/s]\n"
     ]
    },
    {
     "name": "stdout",
     "output_type": "stream",
     "text": [
      "4619 4619\n",
      "551 551\n",
      "244 208\n",
      "79\n",
      "Json file edited\n",
      "Parsed ../kickoff-data-corrected/723fa378-2b05-42e0-9631-a05bb1ed5e70.1.kickoff.rdb in 2.67 s.\n",
      "Contains keys: dict_keys(['left', 'right'])\n",
      "[left] start_ts: 1524502497320 | stop_ts: 1524503096600\n",
      "[right] start_ts: 1524502496828 | stop_ts: 1524503096348\n",
      "../kickoff-data-corrected/723fa378-2b05-42e0-9631-a05bb1ed5e70.json\n",
      "[{'type': 'start_phase', 'ts': '1970-01-01T00:00:00', 'kickoff_team_id': 4, 'phase': 1}, {'type': 'end_phase', 'ts': '2018-04-23T17:45:26.980Z', 'phase': 1}, {'type': 'start_phase', 'ts': '2018-04-23T18:01:18.280000', 'kickoff_team_id': 1, 'phase': 2}, {'type': 'end_phase', 'ts': '2018-04-23T18:51:18.989Z', 'phase': 2}]\n",
      "0\n",
      "Json file edited\n"
     ]
    },
    {
     "name": "stderr",
     "output_type": "stream",
     "text": [
      "266it [00:00, 2652.26it/s]"
     ]
    },
    {
     "name": "stdout",
     "output_type": "stream",
     "text": [
      "Parsed ../kickoff-data-corrected/4176c56a-b0df-4e64-aaeb-09150829ba15.2.kickoff.rdb in 1.74 s.\n",
      "Contains keys: dict_keys(['left', 'right'])\n",
      "[left] start_ts: 1526741990412 | stop_ts: 1526742590252\n",
      "[right] start_ts: 1526741990392 | stop_ts: 1526742590232\n",
      "../kickoff-data-corrected/4176c56a-b0df-4e64-aaeb-09150829ba15.json\n",
      "[{'type': 'start_phase', 'ts': '2018-05-19T14:00:24.152000', 'kickoff_team_id': 3, 'phase': 1}, {'type': 'end_phase', 'ts': '2018-05-19T14:48:34.080Z', 'phase': 1}, {'type': 'start_phase', 'ts': '2018-05-19T15:04:52.912000', 'kickoff_team_id': 13, 'phase': 2}, {'type': 'end_phase', 'ts': '2018-05-19T15:53:26.441Z', 'phase': 2}]\n",
      "1526742292912\n"
     ]
    },
    {
     "name": "stderr",
     "output_type": "stream",
     "text": [
      "14996it [00:06, 2356.01it/s]\n"
     ]
    },
    {
     "name": "stdout",
     "output_type": "stream",
     "text": [
      "1192 1192\n",
      "207 207\n",
      "77 31\n",
      "81\n",
      "Json file edited\n"
     ]
    },
    {
     "name": "stderr",
     "output_type": "stream",
     "text": [
      "505it [00:00, 2489.69it/s]"
     ]
    },
    {
     "name": "stdout",
     "output_type": "stream",
     "text": [
      "Parsed ../kickoff-data-corrected/bd6faac0-e5f3-4b84-82a9-400c019ac08d.2.kickoff.rdb in 1.58 s.\n",
      "Contains keys: dict_keys(['left', 'right'])\n",
      "[left] start_ts: 1526320642105 | stop_ts: 1526321241985\n",
      "[right] start_ts: 1526320642055 | stop_ts: 1526321241935\n",
      "../kickoff-data-corrected/bd6faac0-e5f3-4b84-82a9-400c019ac08d.json\n",
      "[{'type': 'start_phase', 'ts': '2018-05-14T17:00:31.615000', 'kickoff_team_id': 7, 'phase': 1}, {'type': 'end_phase', 'ts': '2018-05-14T17:46:31.340Z', 'phase': 1}, {'type': 'start_phase', 'ts': '2018-05-14T18:02:22.775000', 'kickoff_team_id': 5, 'phase': 2}, {'type': 'end_phase', 'ts': '2018-05-14T18:49:16.627Z', 'phase': 2}]\n",
      "1526320942775\n"
     ]
    },
    {
     "name": "stderr",
     "output_type": "stream",
     "text": [
      "14997it [00:06, 2456.25it/s]\n"
     ]
    },
    {
     "name": "stdout",
     "output_type": "stream",
     "text": [
      "3032 3032\n",
      "392 392\n",
      "147 146\n",
      "83\n",
      "Json file edited\n"
     ]
    },
    {
     "name": "stderr",
     "output_type": "stream",
     "text": [
      "278it [00:00, 2778.09it/s]"
     ]
    },
    {
     "name": "stdout",
     "output_type": "stream",
     "text": [
      "Parsed ../kickoff-data-corrected/0d9e9e30-9d13-4af0-8e41-fe1669e9eeff.2.kickoff.rdb in 2.16 s.\n",
      "Contains keys: dict_keys(['left', 'right'])\n",
      "[left] start_ts: 1523195853517 | stop_ts: 1523196453157\n",
      "[right] start_ts: 1523195853031 | stop_ts: 1523196452911\n",
      "../kickoff-data-corrected/0d9e9e30-9d13-4af0-8e41-fe1669e9eeff.json\n",
      "[{'type': 'start_phase', 'ts': '2018-04-08T13:00:30.151000', 'kickoff_team_id': 7, 'phase': 1}, {'type': 'end_phase', 'ts': '2018-04-08T13:47:27.898Z', 'phase': 1}, {'type': 'start_phase', 'ts': '2018-04-08T14:02:35.117000', 'kickoff_team_id': 9, 'phase': 2}, {'type': 'end_phase', 'ts': '2018-04-08T14:51:34.402Z', 'phase': 2}]\n",
      "1523196155117\n"
     ]
    },
    {
     "name": "stderr",
     "output_type": "stream",
     "text": [
      "14992it [00:07, 1903.21it/s]\n"
     ]
    },
    {
     "name": "stdout",
     "output_type": "stream",
     "text": [
      "1169 1169\n",
      "205 205\n",
      "51 55\n",
      "85\n",
      "Json file edited\n"
     ]
    },
    {
     "name": "stderr",
     "output_type": "stream",
     "text": [
      "202it [00:00, 2015.26it/s]"
     ]
    },
    {
     "name": "stdout",
     "output_type": "stream",
     "text": [
      "Parsed ../kickoff-data-corrected/af42c9ca-ae8f-4d69-a671-15950883ecac.2.kickoff.rdb in 2.20 s.\n",
      "Contains keys: dict_keys(['left', 'right'])\n",
      "[left] start_ts: 1524927395556 | stop_ts: 1524927994436\n",
      "[right] start_ts: 1524927395612 | stop_ts: 1524927994452\n",
      "../kickoff-data-corrected/af42c9ca-ae8f-4d69-a671-15950883ecac.json\n",
      "[{'type': 'start_phase', 'ts': '2018-04-28T14:00:21.412000', 'kickoff_team_id': 6, 'phase': 1}, {'type': 'end_phase', 'ts': '2018-04-28T14:45:26.494Z', 'phase': 1}, {'type': 'start_phase', 'ts': '2018-04-28T15:01:35.852000', 'kickoff_team_id': 5, 'phase': 2}, {'type': 'end_phase', 'ts': '2018-04-28T15:49:36.913Z', 'phase': 2}]\n",
      "1524927695852\n"
     ]
    },
    {
     "name": "stderr",
     "output_type": "stream",
     "text": [
      "14973it [00:07, 1982.90it/s]\n"
     ]
    },
    {
     "name": "stdout",
     "output_type": "stream",
     "text": [
      "1260 1260\n",
      "214 214\n",
      "78 37\n",
      "87\n",
      "Json file edited\n"
     ]
    },
    {
     "name": "stderr",
     "output_type": "stream",
     "text": [
      "141it [00:00, 1402.75it/s]"
     ]
    },
    {
     "name": "stdout",
     "output_type": "stream",
     "text": [
      "Parsed ../kickoff-data-corrected/da82a1ce-2e4c-4337-8ba8-3f2525399e31.1.kickoff.rdb in 2.33 s.\n",
      "Contains keys: dict_keys(['left', 'right'])\n",
      "[left] start_ts: 1525620358621 | stop_ts: 1525620955501\n",
      "[right] start_ts: 1525620358583 | stop_ts: 1525620955463\n",
      "../kickoff-data-corrected/da82a1ce-2e4c-4337-8ba8-3f2525399e31.json\n",
      "[{'type': 'start_phase', 'ts': '2018-05-06T15:30:56.823000', 'kickoff_team_id': 14, 'phase': 1}, {'type': 'end_phase', 'ts': '2018-05-06T16:16:55.775Z', 'phase': 1}, {'type': 'start_phase', 'ts': '2018-05-06T16:32:03.343000', 'kickoff_team_id': 5, 'phase': 2}, {'type': 'end_phase', 'ts': '2018-05-06T17:19:59.649Z', 'phase': 2}]\n",
      "1525620656823\n"
     ]
    },
    {
     "name": "stderr",
     "output_type": "stream",
     "text": [
      "14922it [00:07, 2130.36it/s]\n"
     ]
    },
    {
     "name": "stdout",
     "output_type": "stream",
     "text": [
      "1553 1553\n",
      "244 244\n",
      "123 22\n",
      "89\n",
      "Json file edited\n"
     ]
    },
    {
     "name": "stderr",
     "output_type": "stream",
     "text": [
      "248it [00:00, 2475.32it/s]"
     ]
    },
    {
     "name": "stdout",
     "output_type": "stream",
     "text": [
      "Parsed ../kickoff-data-corrected/19bebd81-3b61-492b-85ed-74ff887cbc45.2.kickoff.rdb in 1.75 s.\n",
      "Contains keys: dict_keys(['left', 'right'])\n",
      "[left] start_ts: 1522591235535 | stop_ts: 1522591832015\n",
      "[right] start_ts: 1522591235411 | stop_ts: 1522591831931\n",
      "../kickoff-data-corrected/19bebd81-3b61-492b-85ed-74ff887cbc45.json\n",
      "[{'type': 'start_phase', 'ts': '1970-01-01T00:00:00', 'kickoff_team_id': 1, 'phase': 1}, {'type': 'end_phase', 'ts': '2018-04-01T13:47:53.692Z', 'phase': 1}, {'type': 'start_phase', 'ts': '2018-04-01T14:05:30.455000', 'kickoff_team_id': 2, 'phase': 2}, {'type': 'end_phase', 'ts': '2018-04-01T14:53:51.954Z', 'phase': 2}]\n",
      "1522591530455\n"
     ]
    },
    {
     "name": "stderr",
     "output_type": "stream",
     "text": [
      "14913it [00:06, 2256.84it/s]\n"
     ]
    },
    {
     "name": "stdout",
     "output_type": "stream",
     "text": [
      "2062 2062\n",
      "294 294\n",
      "106 89\n",
      "91\n",
      "Json file edited\n"
     ]
    },
    {
     "name": "stderr",
     "output_type": "stream",
     "text": [
      "286it [00:00, 2856.14it/s]"
     ]
    },
    {
     "name": "stdout",
     "output_type": "stream",
     "text": [
      "Parsed ../kickoff-data-corrected/d1a98e08-0f21-46fe-8457-01ff183ddbeb.2.kickoff.rdb in 2.03 s.\n",
      "Contains keys: dict_keys(['left', 'right'])\n",
      "[left] start_ts: 1526579945405 | stop_ts: 1526580542165\n",
      "[right] start_ts: 1526579945259 | stop_ts: 1526580542099\n",
      "../kickoff-data-corrected/d1a98e08-0f21-46fe-8457-01ff183ddbeb.json\n",
      "[{'type': 'start_phase', 'ts': '2018-05-17T17:00:04.205000', 'kickoff_team_id': 12, 'phase': 1}, {'type': 'end_phase', 'ts': '2018-05-17T17:47:07.092Z', 'phase': 1}, {'type': 'start_phase', 'ts': '2018-05-17T18:04:04.725000', 'kickoff_team_id': 11, 'phase': 2}, {'type': 'end_phase', 'ts': '2018-05-17T18:52:06.565Z', 'phase': 2}]\n",
      "1526580244725\n"
     ]
    },
    {
     "name": "stderr",
     "output_type": "stream",
     "text": [
      "14906it [00:07, 1788.11it/s]"
     ]
    }
   ],
   "source": [
    "create_dataset_regression('../kickoff-data-corrected/data.pickle.regression.1sym.8sec',clf)"
   ]
  },
  {
   "cell_type": "code",
   "execution_count": 47,
   "metadata": {},
   "outputs": [],
   "source": [
    "X=sequence_composition(timestamps_list,detections,pitch_size,100,1)\n",
    "Y=labels_seq_regression(timestamps_list,detections,pitch_size,1,kickoff_time_matched)\n",
    "kickoff_indice=Y.index(1)"
   ]
  },
  {
   "cell_type": "code",
   "execution_count": 48,
   "metadata": {},
   "outputs": [
    {
     "name": "stdout",
     "output_type": "stream",
     "text": [
      "7462\n",
      "1696\n",
      "1696 None\n"
     ]
    }
   ],
   "source": [
    "print(kickoff_indice)\n",
    "X,y=select_regression_data(X,clf,kickoff_indice)\n",
    "print(len(y),print(len(X)))"
   ]
  },
  {
   "cell_type": "code",
   "execution_count": 53,
   "metadata": {},
   "outputs": [
    {
     "name": "stdout",
     "output_type": "stream",
     "text": [
      "337 337\n",
      "[-1000, -1000, -1000, -1000, -1000, -1000, -1000, -1000, -1000, -1000, -1000, -1000, -1000, -1000, -1000, -1000, -1000, -1000, -1000, -1000, -1000, -1000, -1000, -1000, -1000, -1000, -1000, -1000, -1000, -1000, -1000, -1000, -1000, -1000, -1000, -1000, -1000, -1000, -1000, -1000, -1000, -1000, -1000, -1000, -1000, -1000, -1000, -1000, -1000, -1000, -1000, -1000, -1000, -1000, -1000, -1000, -1000, -1000, -1000, -1000, -1000, -1000, -1000, -1000, -1000, -1000, -1000, -1000, -1000, -1000, -1000, -1000, -1000, -1000, -1000, -1000, -1000, -1000, -1000, -1000, -1000, -1000, -1000, -1000, -1000, -1000, -1000, -1000, -1000, -1000, -1000, -1000, -1000, -1000, -1000, 100, 99, 98, 97, 96, 95, 94, 93, 92, 91, 90, 89, 88, 87, 86, 85, 84, 83, 82, 81, 80, 79, 78, 77, 76, 75, 74, 73, 72, 71, 70, 69, 68, 67, 66, 65, 64, 63, 62, 61, 60, 59, 58, 57, 56, 55, 54, 53, 52, 51, 50, 49, 48, 47, 46, 45, 44, 43, 42, 41, 40, 39, 38, 37, 36, 35, 34, 33, 32, 31, 30, 29, 28, 27, 26, 25, 24, 23, 22, 21, 20, 19, 18, 17, 16, 15, 14, 13, 12, 11, 10, 9, 8, 7, 6, 5, 4, 3, 2, 1, 0, -1, -2, -3, -4, -5, -6, -7, -8, -9, -10, -11, -12, -13, -14, -15, -16, -17, -18, -19, -20, -21, -22, -23, -24, -25, -26, -27, -28, -29, -30, -31, -32, -33, -34, -35, -36, -37, -38, -39, -40, -41, -42, -43, -44, -45, -46, -47, -48, -49, -50, -51, -52, -53, -54, -55, -56, -57, -58, -59, -60, -61, -62, -63, -64, -65, -66, -67, -68, -69, -70, -71, -72, -73, -74, -75, -76, -77, -78, -79, -80, -81, -82, -83, -84, -85, -86, 1000, 1000, 1000, 1000, 1000, 1000, 1000, 1000, 1000, 1000, 1000, 1000, 1000, 1000, 1000, 1000, 1000, 1000, 1000, 1000, 1000, 1000, 1000, 1000, 1000, 1000, 1000, 1000, 1000, 1000, 1000, 1000, 1000, 1000, 1000, 1000, 1000, 1000, 1000, 1000, 1000, 1000, 1000, 1000, 1000, 1000, 1000, 1000, 1000, 1000, 1000, 1000, 1000, 1000, 1000]\n"
     ]
    }
   ],
   "source": [
    "X,y=reduce_regression_data(X,y,10)\n",
    "print(len(X),len(y))\n",
    "print(y)"
   ]
  }
 ],
 "metadata": {
  "kernelspec": {
   "display_name": "Python 3",
   "language": "python",
   "name": "python3"
  },
  "language_info": {
   "codemirror_mode": {
    "name": "ipython",
    "version": 3
   },
   "file_extension": ".py",
   "mimetype": "text/x-python",
   "name": "python",
   "nbconvert_exporter": "python",
   "pygments_lexer": "ipython3",
   "version": "3.5.2"
  }
 },
 "nbformat": 4,
 "nbformat_minor": 2
}
