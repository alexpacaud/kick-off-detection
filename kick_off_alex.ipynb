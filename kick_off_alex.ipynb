{
 "cells": [
  {
   "cell_type": "code",
   "execution_count": 1,
   "metadata": {},
   "outputs": [],
   "source": [
    "import time\n",
    "import pickle\n",
    "import numpy as np\n",
    "import pprint\n",
    "import matplotlib.pyplot as plt\n",
    "from tqdm import tqdm \n",
    "import json\n",
    "from dateutil.parser import parse"
   ]
  },
  {
   "cell_type": "code",
   "execution_count": 2,
   "metadata": {},
   "outputs": [],
   "source": [
    "from rdbtools import RdbParser, RdbCallback\n",
    "from rdbtools.encodehelpers import bytes_to_unicode\n",
    "\n",
    "class PublishCallback(RdbCallback):\n",
    "\n",
    "    def __init__(self, is_unicode=False, start_ts=float('-inf'), stop_ts=float('+inf')):\n",
    "        super(PublishCallback, self).__init__(string_escape=None)\n",
    "        self.ranges = {}\n",
    "        self.start = start_ts\n",
    "        self.stop = stop_ts\n",
    "        self.is_unicode = is_unicode\n",
    "\n",
    "    def encode_key(self, key):\n",
    "        return bytes_to_unicode(key, self._escape, skip_printable=True)\n",
    "\n",
    "    def encode_value(self, val):\n",
    "        if self.is_unicode:\n",
    "            return bytes_to_unicode(val, self._escape)\n",
    "        return val\n",
    "\n",
    "    def start_sorted_set(self, key, length, expiry, info):\n",
    "        self.ranges[self.encode_key(key)] = []\n",
    "\n",
    "    def zadd(self, key, score, member):\n",
    "        if self.start <= score <= self.stop:\n",
    "            self.ranges[self.encode_key(key)].append((self.encode_value(member), round(score)))\n",
    "\n",
    "    def end_sorted_set(self, key):\n",
    "        encoded_key = self.encode_key(key)\n",
    "        self.ranges[encoded_key] = list(reversed(self.ranges[encoded_key]))\n",
    "\n",
    "\n",
    "def parse_dump_file(dump_file, start_ts=float(\"-inf\"), stop_ts=float(\"+inf\")):\n",
    "    \"\"\"Parse a redis dump file (rdb) and return the data within.\n",
    "\n",
    "    Only supports SortedSet.\n",
    "\n",
    "    Args:\n",
    "        dump_file (str): Rdb path\n",
    "        start_ts (float): timestamp of the first value to publish\n",
    "        stop_ts (float): timestamp of the last value to publish\n",
    "\n",
    "    Returns:\n",
    "        ranges (dict): {\n",
    "                'keyA': [(FrameDataDump1A, Score1A), ..., (FrameDataDumpNA, ScoreNA)],\n",
    "                'keyB': [(FrameDataDump1B, Score1B), ..., (FrameDataDumpNB, ScoreNB)],\n",
    "                ...\n",
    "            }\n",
    "    \"\"\"\n",
    "    t0 = time.time()\n",
    "\n",
    "    callback = PublishCallback(start_ts=start_ts, stop_ts=stop_ts)\n",
    "    rdb_parser = RdbParser(callback)\n",
    "    rdb_parser.parse(dump_file)\n",
    "    print(\"Parsed {} in {:.2f} s.\".format(dump_file, time.time() - t0))\n",
    "    print(\"Contains keys:\", callback.ranges.keys())\n",
    "    for k in callback.ranges.keys():\n",
    "        print(\n",
    "            \"[{}] start_ts: {} | stop_ts: {}\".format(\n",
    "                k, callback.ranges[k][0][1], callback.ranges[k][-1][1]\n",
    "            )\n",
    "        )\n",
    "    return callback.ranges"
   ]
  },
  {
   "cell_type": "code",
   "execution_count": 3,
   "metadata": {},
   "outputs": [],
   "source": [
    "from ipywidgets import interact\n",
    "import ipywidgets as widgets"
   ]
  },
  {
   "cell_type": "code",
   "execution_count": 4,
   "metadata": {},
   "outputs": [
    {
     "name": "stdout",
     "output_type": "stream",
     "text": [
      "Parsed ../kickoff-detection-data/cf16ebf4-49fc-4991-a9b8-b9a055dcf2b8.2.kickoff.rdb in 1.74 s.\n",
      "Contains keys: dict_keys(['left', 'right'])\n",
      "[left] start_ts: 1525010676874 | stop_ts: 1525011275674\n",
      "[right] start_ts: 1525010676848 | stop_ts: 1525011275688\n"
     ]
    }
   ],
   "source": [
    "tracks = parse_dump_file('../kickoff-detection-data/cf16ebf4-49fc-4991-a9b8-b9a055dcf2b8.2.kickoff.rdb')\n",
    "config = json.load(open('../kickoff-detection-data/cf16ebf4-49fc-4991-a9b8-b9a055dcf2b8.json', 'r'))"
   ]
  },
  {
   "cell_type": "code",
   "execution_count": 5,
   "metadata": {},
   "outputs": [
    {
     "name": "stdout",
     "output_type": "stream",
     "text": [
      "dict_keys(['ball_detections', 'bboxes', 'features', 'mapping', 'player_detections', 'stream_ts', 'ts', 'embeddings', 'phase_state', 'packed_rects', 'last', 'top_view_ball_positions', 'top_view_player_positions', 'valid_frame'])\n"
     ]
    }
   ],
   "source": [
    "fd, ts = tracks['left'][0]\n",
    "\n",
    "\n",
    "fd = pickle.loads(fd)\n",
    "pprint.pprint(fd.__dict__.keys())"
   ]
  },
  {
   "cell_type": "code",
   "execution_count": 6,
   "metadata": {},
   "outputs": [],
   "source": [
    "kickoff_1 = config['phase_events'][2]['ts']\n",
    "kickoff_time = int(parse(kickoff_1).timestamp()*1000)"
   ]
  },
  {
   "cell_type": "code",
   "execution_count": 7,
   "metadata": {},
   "outputs": [
    {
     "data": {
      "text/plain": [
       "[{'kickoff_team_id': 2,\n",
       "  'phase': 1,\n",
       "  'ts': '2018-04-29T13:04:53.610Z',\n",
       "  'type': 'start_phase'},\n",
       " {'phase': 1, 'ts': '2018-04-29T13:51:58.173Z', 'type': 'end_phase'},\n",
       " {'kickoff_team_id': 11,\n",
       "  'phase': 2,\n",
       "  'ts': '2018-04-29T14:09:35.826Z',\n",
       "  'type': 'start_phase'},\n",
       " {'phase': 2, 'ts': '2018-04-29T14:57:43.997Z', 'type': 'end_phase'}]"
      ]
     },
     "execution_count": 7,
     "metadata": {},
     "output_type": "execute_result"
    }
   ],
   "source": [
    "config['phase_events'] "
   ]
  },
  {
   "cell_type": "code",
   "execution_count": 8,
   "metadata": {},
   "outputs": [
    {
     "name": "stdout",
     "output_type": "stream",
     "text": [
      "[105, 68]\n"
     ]
    }
   ],
   "source": [
    "pitch_size=config['pitch_size']\n",
    "print(pitch_size)"
   ]
  },
  {
   "cell_type": "code",
   "execution_count": 9,
   "metadata": {
    "scrolled": false
   },
   "outputs": [
    {
     "name": "stderr",
     "output_type": "stream",
     "text": [
      "14971it [00:06, 2455.78it/s]\n"
     ]
    }
   ],
   "source": [
    "detections = {'ball':{'left':{}, 'right':{}}, 'players':{'left':{}, 'right':{}}}\n",
    "\n",
    "timestamps = set()\n",
    "\n",
    "def ball_ok(ball_pos, ball_det):\n",
    "    if ball_pos[0] < 0 or ball_pos[1] < 0:\n",
    "        return False\n",
    "    if ball_det.confidence < 0.7:\n",
    "        return False\n",
    "    return True\n",
    "\n",
    "for (fd_left, ts_left), (fd_right, ts_right) in tqdm(zip(tracks['left'], tracks['right'])):\n",
    "    fd_left = pickle.loads(fd_left)\n",
    "    fd_right = pickle.loads(fd_right)\n",
    "    if np.abs(ts_left - ts_right) < 100:\n",
    "        ts_left = ts_right\n",
    "    timestamps.update({ts_left, ts_right})\n",
    "\n",
    "    detections['players']['left'][ts_left] = fd_left.top_view_player_positions\n",
    "    detections['players']['right'][ts_right] = fd_right.top_view_player_positions\n",
    "    detections['ball']['left'][ts_left] = np.array([bp for bp, bd in zip(fd_left.top_view_ball_positions, fd_left.ball_detections) if ball_ok(bp, bd)])\n",
    "    detections['ball']['right'][ts_right] = np.array([bp for bp, bd in zip(fd_right.top_view_ball_positions, fd_right.ball_detections) if ball_ok(bp, bd)])\n",
    "    "
   ]
  },
  {
   "cell_type": "code",
   "execution_count": 10,
   "metadata": {},
   "outputs": [
    {
     "ename": "NameError",
     "evalue": "name 'players_grid' is not defined",
     "output_type": "error",
     "traceback": [
      "\u001b[0;31m---------------------------------------------------------------------------\u001b[0m",
      "\u001b[0;31mNameError\u001b[0m                                 Traceback (most recent call last)",
      "\u001b[0;32m<ipython-input-10-ab7fefa9c3e5>\u001b[0m in \u001b[0;36m<module>\u001b[0;34m()\u001b[0m\n\u001b[0;32m----> 1\u001b[0;31m \u001b[0mplayers_grid\u001b[0m\u001b[0;34m(\u001b[0m\u001b[0mpitch_size\u001b[0m\u001b[0;34m,\u001b[0m\u001b[0mdetections\u001b[0m\u001b[0;34m[\u001b[0m\u001b[0;34m'players'\u001b[0m\u001b[0;34m]\u001b[0m\u001b[0;34m[\u001b[0m\u001b[0;34m'right'\u001b[0m\u001b[0;34m]\u001b[0m\u001b[0;34m[\u001b[0m\u001b[0;36m1523379675006\u001b[0m\u001b[0;34m]\u001b[0m\u001b[0;34m.\u001b[0m\u001b[0mtolist\u001b[0m\u001b[0;34m(\u001b[0m\u001b[0;34m)\u001b[0m\u001b[0;34m)\u001b[0m\u001b[0;34m[\u001b[0m\u001b[0;36m8\u001b[0m\u001b[0;34m:\u001b[0m\u001b[0;36m16\u001b[0m\u001b[0;34m]\u001b[0m\u001b[0;34m\u001b[0m\u001b[0m\n\u001b[0m",
      "\u001b[0;31mNameError\u001b[0m: name 'players_grid' is not defined"
     ]
    }
   ],
   "source": [
    "players_grid(pitch_size,detections['players']['right'][1523379675006].tolist())[8:16]"
   ]
  },
  {
   "cell_type": "code",
   "execution_count": 396,
   "metadata": {},
   "outputs": [
    {
     "data": {
      "text/plain": [
       "array([[35.869896, 39.839733],\n",
       "       [45.50019 , 40.01243 ],\n",
       "       [ 6.853953, 33.988266],\n",
       "       [53.01462 , 53.54142 ],\n",
       "       [40.050587, 49.82017 ],\n",
       "       [43.766552, 30.60064 ],\n",
       "       [39.099667, 19.258064],\n",
       "       [55.27539 , 44.40779 ],\n",
       "       [36.22899 , 29.708479],\n",
       "       [52.027588, 32.58647 ],\n",
       "       [51.43261 , 54.058514],\n",
       "       [52.342396, 43.24447 ]], dtype=float32)"
      ]
     },
     "execution_count": 396,
     "metadata": {},
     "output_type": "execute_result"
    }
   ],
   "source": [
    "detections['players']['left'][1523379674978]"
   ]
  },
  {
   "cell_type": "code",
   "execution_count": 404,
   "metadata": {},
   "outputs": [
    {
     "data": {
      "text/plain": [
       "array([[29.307856  , 19.869595  ],\n",
       "       [40.606495  , 43.119297  ],\n",
       "       [53.044342  , 57.738834  ],\n",
       "       [37.22993   ,  5.8625274 ],\n",
       "       [39.583706  , 27.90396   ],\n",
       "       [42.19721   , 34.138653  ],\n",
       "       [26.420248  , 41.74202   ],\n",
       "       [52.68833   , 46.964577  ],\n",
       "       [ 3.0025127 , 35.921425  ],\n",
       "       [52.564396  , 24.943098  ],\n",
       "       [39.51419   , 63.42554   ],\n",
       "       [47.569134  , 24.835981  ],\n",
       "       [57.550606  , 50.933117  ],\n",
       "       [27.431013  ,  0.4102013 ],\n",
       "       [52.070854  ,  0.37799233],\n",
       "       [58.09974   , 16.02397   ],\n",
       "       [52.88431   , 34.19369   ]], dtype=float32)"
      ]
     },
     "execution_count": 404,
     "metadata": {},
     "output_type": "execute_result"
    }
   ],
   "source": [
    "detections['players']['left'][1525010977488]"
   ]
  },
  {
   "cell_type": "code",
   "execution_count": 11,
   "metadata": {
    "scrolled": false
   },
   "outputs": [
    {
     "name": "stdout",
     "output_type": "stream",
     "text": [
      "1525010975826 1525010975808\n"
     ]
    },
    {
     "data": {
      "application/javascript": [
       "/* Put everything inside the global mpl namespace */\n",
       "window.mpl = {};\n",
       "\n",
       "\n",
       "mpl.get_websocket_type = function() {\n",
       "    if (typeof(WebSocket) !== 'undefined') {\n",
       "        return WebSocket;\n",
       "    } else if (typeof(MozWebSocket) !== 'undefined') {\n",
       "        return MozWebSocket;\n",
       "    } else {\n",
       "        alert('Your browser does not have WebSocket support.' +\n",
       "              'Please try Chrome, Safari or Firefox ≥ 6. ' +\n",
       "              'Firefox 4 and 5 are also supported but you ' +\n",
       "              'have to enable WebSockets in about:config.');\n",
       "    };\n",
       "}\n",
       "\n",
       "mpl.figure = function(figure_id, websocket, ondownload, parent_element) {\n",
       "    this.id = figure_id;\n",
       "\n",
       "    this.ws = websocket;\n",
       "\n",
       "    this.supports_binary = (this.ws.binaryType != undefined);\n",
       "\n",
       "    if (!this.supports_binary) {\n",
       "        var warnings = document.getElementById(\"mpl-warnings\");\n",
       "        if (warnings) {\n",
       "            warnings.style.display = 'block';\n",
       "            warnings.textContent = (\n",
       "                \"This browser does not support binary websocket messages. \" +\n",
       "                    \"Performance may be slow.\");\n",
       "        }\n",
       "    }\n",
       "\n",
       "    this.imageObj = new Image();\n",
       "\n",
       "    this.context = undefined;\n",
       "    this.message = undefined;\n",
       "    this.canvas = undefined;\n",
       "    this.rubberband_canvas = undefined;\n",
       "    this.rubberband_context = undefined;\n",
       "    this.format_dropdown = undefined;\n",
       "\n",
       "    this.image_mode = 'full';\n",
       "\n",
       "    this.root = $('<div/>');\n",
       "    this._root_extra_style(this.root)\n",
       "    this.root.attr('style', 'display: inline-block');\n",
       "\n",
       "    $(parent_element).append(this.root);\n",
       "\n",
       "    this._init_header(this);\n",
       "    this._init_canvas(this);\n",
       "    this._init_toolbar(this);\n",
       "\n",
       "    var fig = this;\n",
       "\n",
       "    this.waiting = false;\n",
       "\n",
       "    this.ws.onopen =  function () {\n",
       "            fig.send_message(\"supports_binary\", {value: fig.supports_binary});\n",
       "            fig.send_message(\"send_image_mode\", {});\n",
       "            if (mpl.ratio != 1) {\n",
       "                fig.send_message(\"set_dpi_ratio\", {'dpi_ratio': mpl.ratio});\n",
       "            }\n",
       "            fig.send_message(\"refresh\", {});\n",
       "        }\n",
       "\n",
       "    this.imageObj.onload = function() {\n",
       "            if (fig.image_mode == 'full') {\n",
       "                // Full images could contain transparency (where diff images\n",
       "                // almost always do), so we need to clear the canvas so that\n",
       "                // there is no ghosting.\n",
       "                fig.context.clearRect(0, 0, fig.canvas.width, fig.canvas.height);\n",
       "            }\n",
       "            fig.context.drawImage(fig.imageObj, 0, 0);\n",
       "        };\n",
       "\n",
       "    this.imageObj.onunload = function() {\n",
       "        fig.ws.close();\n",
       "    }\n",
       "\n",
       "    this.ws.onmessage = this._make_on_message_function(this);\n",
       "\n",
       "    this.ondownload = ondownload;\n",
       "}\n",
       "\n",
       "mpl.figure.prototype._init_header = function() {\n",
       "    var titlebar = $(\n",
       "        '<div class=\"ui-dialog-titlebar ui-widget-header ui-corner-all ' +\n",
       "        'ui-helper-clearfix\"/>');\n",
       "    var titletext = $(\n",
       "        '<div class=\"ui-dialog-title\" style=\"width: 100%; ' +\n",
       "        'text-align: center; padding: 3px;\"/>');\n",
       "    titlebar.append(titletext)\n",
       "    this.root.append(titlebar);\n",
       "    this.header = titletext[0];\n",
       "}\n",
       "\n",
       "\n",
       "\n",
       "mpl.figure.prototype._canvas_extra_style = function(canvas_div) {\n",
       "\n",
       "}\n",
       "\n",
       "\n",
       "mpl.figure.prototype._root_extra_style = function(canvas_div) {\n",
       "\n",
       "}\n",
       "\n",
       "mpl.figure.prototype._init_canvas = function() {\n",
       "    var fig = this;\n",
       "\n",
       "    var canvas_div = $('<div/>');\n",
       "\n",
       "    canvas_div.attr('style', 'position: relative; clear: both; outline: 0');\n",
       "\n",
       "    function canvas_keyboard_event(event) {\n",
       "        return fig.key_event(event, event['data']);\n",
       "    }\n",
       "\n",
       "    canvas_div.keydown('key_press', canvas_keyboard_event);\n",
       "    canvas_div.keyup('key_release', canvas_keyboard_event);\n",
       "    this.canvas_div = canvas_div\n",
       "    this._canvas_extra_style(canvas_div)\n",
       "    this.root.append(canvas_div);\n",
       "\n",
       "    var canvas = $('<canvas/>');\n",
       "    canvas.addClass('mpl-canvas');\n",
       "    canvas.attr('style', \"left: 0; top: 0; z-index: 0; outline: 0\")\n",
       "\n",
       "    this.canvas = canvas[0];\n",
       "    this.context = canvas[0].getContext(\"2d\");\n",
       "\n",
       "    var backingStore = this.context.backingStorePixelRatio ||\n",
       "\tthis.context.webkitBackingStorePixelRatio ||\n",
       "\tthis.context.mozBackingStorePixelRatio ||\n",
       "\tthis.context.msBackingStorePixelRatio ||\n",
       "\tthis.context.oBackingStorePixelRatio ||\n",
       "\tthis.context.backingStorePixelRatio || 1;\n",
       "\n",
       "    mpl.ratio = (window.devicePixelRatio || 1) / backingStore;\n",
       "\n",
       "    var rubberband = $('<canvas/>');\n",
       "    rubberband.attr('style', \"position: absolute; left: 0; top: 0; z-index: 1;\")\n",
       "\n",
       "    var pass_mouse_events = true;\n",
       "\n",
       "    canvas_div.resizable({\n",
       "        start: function(event, ui) {\n",
       "            pass_mouse_events = false;\n",
       "        },\n",
       "        resize: function(event, ui) {\n",
       "            fig.request_resize(ui.size.width, ui.size.height);\n",
       "        },\n",
       "        stop: function(event, ui) {\n",
       "            pass_mouse_events = true;\n",
       "            fig.request_resize(ui.size.width, ui.size.height);\n",
       "        },\n",
       "    });\n",
       "\n",
       "    function mouse_event_fn(event) {\n",
       "        if (pass_mouse_events)\n",
       "            return fig.mouse_event(event, event['data']);\n",
       "    }\n",
       "\n",
       "    rubberband.mousedown('button_press', mouse_event_fn);\n",
       "    rubberband.mouseup('button_release', mouse_event_fn);\n",
       "    // Throttle sequential mouse events to 1 every 20ms.\n",
       "    rubberband.mousemove('motion_notify', mouse_event_fn);\n",
       "\n",
       "    rubberband.mouseenter('figure_enter', mouse_event_fn);\n",
       "    rubberband.mouseleave('figure_leave', mouse_event_fn);\n",
       "\n",
       "    canvas_div.on(\"wheel\", function (event) {\n",
       "        event = event.originalEvent;\n",
       "        event['data'] = 'scroll'\n",
       "        if (event.deltaY < 0) {\n",
       "            event.step = 1;\n",
       "        } else {\n",
       "            event.step = -1;\n",
       "        }\n",
       "        mouse_event_fn(event);\n",
       "    });\n",
       "\n",
       "    canvas_div.append(canvas);\n",
       "    canvas_div.append(rubberband);\n",
       "\n",
       "    this.rubberband = rubberband;\n",
       "    this.rubberband_canvas = rubberband[0];\n",
       "    this.rubberband_context = rubberband[0].getContext(\"2d\");\n",
       "    this.rubberband_context.strokeStyle = \"#000000\";\n",
       "\n",
       "    this._resize_canvas = function(width, height) {\n",
       "        // Keep the size of the canvas, canvas container, and rubber band\n",
       "        // canvas in synch.\n",
       "        canvas_div.css('width', width)\n",
       "        canvas_div.css('height', height)\n",
       "\n",
       "        canvas.attr('width', width * mpl.ratio);\n",
       "        canvas.attr('height', height * mpl.ratio);\n",
       "        canvas.attr('style', 'width: ' + width + 'px; height: ' + height + 'px;');\n",
       "\n",
       "        rubberband.attr('width', width);\n",
       "        rubberband.attr('height', height);\n",
       "    }\n",
       "\n",
       "    // Set the figure to an initial 600x600px, this will subsequently be updated\n",
       "    // upon first draw.\n",
       "    this._resize_canvas(600, 600);\n",
       "\n",
       "    // Disable right mouse context menu.\n",
       "    $(this.rubberband_canvas).bind(\"contextmenu\",function(e){\n",
       "        return false;\n",
       "    });\n",
       "\n",
       "    function set_focus () {\n",
       "        canvas.focus();\n",
       "        canvas_div.focus();\n",
       "    }\n",
       "\n",
       "    window.setTimeout(set_focus, 100);\n",
       "}\n",
       "\n",
       "mpl.figure.prototype._init_toolbar = function() {\n",
       "    var fig = this;\n",
       "\n",
       "    var nav_element = $('<div/>')\n",
       "    nav_element.attr('style', 'width: 100%');\n",
       "    this.root.append(nav_element);\n",
       "\n",
       "    // Define a callback function for later on.\n",
       "    function toolbar_event(event) {\n",
       "        return fig.toolbar_button_onclick(event['data']);\n",
       "    }\n",
       "    function toolbar_mouse_event(event) {\n",
       "        return fig.toolbar_button_onmouseover(event['data']);\n",
       "    }\n",
       "\n",
       "    for(var toolbar_ind in mpl.toolbar_items) {\n",
       "        var name = mpl.toolbar_items[toolbar_ind][0];\n",
       "        var tooltip = mpl.toolbar_items[toolbar_ind][1];\n",
       "        var image = mpl.toolbar_items[toolbar_ind][2];\n",
       "        var method_name = mpl.toolbar_items[toolbar_ind][3];\n",
       "\n",
       "        if (!name) {\n",
       "            // put a spacer in here.\n",
       "            continue;\n",
       "        }\n",
       "        var button = $('<button/>');\n",
       "        button.addClass('ui-button ui-widget ui-state-default ui-corner-all ' +\n",
       "                        'ui-button-icon-only');\n",
       "        button.attr('role', 'button');\n",
       "        button.attr('aria-disabled', 'false');\n",
       "        button.click(method_name, toolbar_event);\n",
       "        button.mouseover(tooltip, toolbar_mouse_event);\n",
       "\n",
       "        var icon_img = $('<span/>');\n",
       "        icon_img.addClass('ui-button-icon-primary ui-icon');\n",
       "        icon_img.addClass(image);\n",
       "        icon_img.addClass('ui-corner-all');\n",
       "\n",
       "        var tooltip_span = $('<span/>');\n",
       "        tooltip_span.addClass('ui-button-text');\n",
       "        tooltip_span.html(tooltip);\n",
       "\n",
       "        button.append(icon_img);\n",
       "        button.append(tooltip_span);\n",
       "\n",
       "        nav_element.append(button);\n",
       "    }\n",
       "\n",
       "    var fmt_picker_span = $('<span/>');\n",
       "\n",
       "    var fmt_picker = $('<select/>');\n",
       "    fmt_picker.addClass('mpl-toolbar-option ui-widget ui-widget-content');\n",
       "    fmt_picker_span.append(fmt_picker);\n",
       "    nav_element.append(fmt_picker_span);\n",
       "    this.format_dropdown = fmt_picker[0];\n",
       "\n",
       "    for (var ind in mpl.extensions) {\n",
       "        var fmt = mpl.extensions[ind];\n",
       "        var option = $(\n",
       "            '<option/>', {selected: fmt === mpl.default_extension}).html(fmt);\n",
       "        fmt_picker.append(option)\n",
       "    }\n",
       "\n",
       "    // Add hover states to the ui-buttons\n",
       "    $( \".ui-button\" ).hover(\n",
       "        function() { $(this).addClass(\"ui-state-hover\");},\n",
       "        function() { $(this).removeClass(\"ui-state-hover\");}\n",
       "    );\n",
       "\n",
       "    var status_bar = $('<span class=\"mpl-message\"/>');\n",
       "    nav_element.append(status_bar);\n",
       "    this.message = status_bar[0];\n",
       "}\n",
       "\n",
       "mpl.figure.prototype.request_resize = function(x_pixels, y_pixels) {\n",
       "    // Request matplotlib to resize the figure. Matplotlib will then trigger a resize in the client,\n",
       "    // which will in turn request a refresh of the image.\n",
       "    this.send_message('resize', {'width': x_pixels, 'height': y_pixels});\n",
       "}\n",
       "\n",
       "mpl.figure.prototype.send_message = function(type, properties) {\n",
       "    properties['type'] = type;\n",
       "    properties['figure_id'] = this.id;\n",
       "    this.ws.send(JSON.stringify(properties));\n",
       "}\n",
       "\n",
       "mpl.figure.prototype.send_draw_message = function() {\n",
       "    if (!this.waiting) {\n",
       "        this.waiting = true;\n",
       "        this.ws.send(JSON.stringify({type: \"draw\", figure_id: this.id}));\n",
       "    }\n",
       "}\n",
       "\n",
       "\n",
       "mpl.figure.prototype.handle_save = function(fig, msg) {\n",
       "    var format_dropdown = fig.format_dropdown;\n",
       "    var format = format_dropdown.options[format_dropdown.selectedIndex].value;\n",
       "    fig.ondownload(fig, format);\n",
       "}\n",
       "\n",
       "\n",
       "mpl.figure.prototype.handle_resize = function(fig, msg) {\n",
       "    var size = msg['size'];\n",
       "    if (size[0] != fig.canvas.width || size[1] != fig.canvas.height) {\n",
       "        fig._resize_canvas(size[0], size[1]);\n",
       "        fig.send_message(\"refresh\", {});\n",
       "    };\n",
       "}\n",
       "\n",
       "mpl.figure.prototype.handle_rubberband = function(fig, msg) {\n",
       "    var x0 = msg['x0'] / mpl.ratio;\n",
       "    var y0 = (fig.canvas.height - msg['y0']) / mpl.ratio;\n",
       "    var x1 = msg['x1'] / mpl.ratio;\n",
       "    var y1 = (fig.canvas.height - msg['y1']) / mpl.ratio;\n",
       "    x0 = Math.floor(x0) + 0.5;\n",
       "    y0 = Math.floor(y0) + 0.5;\n",
       "    x1 = Math.floor(x1) + 0.5;\n",
       "    y1 = Math.floor(y1) + 0.5;\n",
       "    var min_x = Math.min(x0, x1);\n",
       "    var min_y = Math.min(y0, y1);\n",
       "    var width = Math.abs(x1 - x0);\n",
       "    var height = Math.abs(y1 - y0);\n",
       "\n",
       "    fig.rubberband_context.clearRect(\n",
       "        0, 0, fig.canvas.width, fig.canvas.height);\n",
       "\n",
       "    fig.rubberband_context.strokeRect(min_x, min_y, width, height);\n",
       "}\n",
       "\n",
       "mpl.figure.prototype.handle_figure_label = function(fig, msg) {\n",
       "    // Updates the figure title.\n",
       "    fig.header.textContent = msg['label'];\n",
       "}\n",
       "\n",
       "mpl.figure.prototype.handle_cursor = function(fig, msg) {\n",
       "    var cursor = msg['cursor'];\n",
       "    switch(cursor)\n",
       "    {\n",
       "    case 0:\n",
       "        cursor = 'pointer';\n",
       "        break;\n",
       "    case 1:\n",
       "        cursor = 'default';\n",
       "        break;\n",
       "    case 2:\n",
       "        cursor = 'crosshair';\n",
       "        break;\n",
       "    case 3:\n",
       "        cursor = 'move';\n",
       "        break;\n",
       "    }\n",
       "    fig.rubberband_canvas.style.cursor = cursor;\n",
       "}\n",
       "\n",
       "mpl.figure.prototype.handle_message = function(fig, msg) {\n",
       "    fig.message.textContent = msg['message'];\n",
       "}\n",
       "\n",
       "mpl.figure.prototype.handle_draw = function(fig, msg) {\n",
       "    // Request the server to send over a new figure.\n",
       "    fig.send_draw_message();\n",
       "}\n",
       "\n",
       "mpl.figure.prototype.handle_image_mode = function(fig, msg) {\n",
       "    fig.image_mode = msg['mode'];\n",
       "}\n",
       "\n",
       "mpl.figure.prototype.updated_canvas_event = function() {\n",
       "    // Called whenever the canvas gets updated.\n",
       "    this.send_message(\"ack\", {});\n",
       "}\n",
       "\n",
       "// A function to construct a web socket function for onmessage handling.\n",
       "// Called in the figure constructor.\n",
       "mpl.figure.prototype._make_on_message_function = function(fig) {\n",
       "    return function socket_on_message(evt) {\n",
       "        if (evt.data instanceof Blob) {\n",
       "            /* FIXME: We get \"Resource interpreted as Image but\n",
       "             * transferred with MIME type text/plain:\" errors on\n",
       "             * Chrome.  But how to set the MIME type?  It doesn't seem\n",
       "             * to be part of the websocket stream */\n",
       "            evt.data.type = \"image/png\";\n",
       "\n",
       "            /* Free the memory for the previous frames */\n",
       "            if (fig.imageObj.src) {\n",
       "                (window.URL || window.webkitURL).revokeObjectURL(\n",
       "                    fig.imageObj.src);\n",
       "            }\n",
       "\n",
       "            fig.imageObj.src = (window.URL || window.webkitURL).createObjectURL(\n",
       "                evt.data);\n",
       "            fig.updated_canvas_event();\n",
       "            fig.waiting = false;\n",
       "            return;\n",
       "        }\n",
       "        else if (typeof evt.data === 'string' && evt.data.slice(0, 21) == \"data:image/png;base64\") {\n",
       "            fig.imageObj.src = evt.data;\n",
       "            fig.updated_canvas_event();\n",
       "            fig.waiting = false;\n",
       "            return;\n",
       "        }\n",
       "\n",
       "        var msg = JSON.parse(evt.data);\n",
       "        var msg_type = msg['type'];\n",
       "\n",
       "        // Call the  \"handle_{type}\" callback, which takes\n",
       "        // the figure and JSON message as its only arguments.\n",
       "        try {\n",
       "            var callback = fig[\"handle_\" + msg_type];\n",
       "        } catch (e) {\n",
       "            console.log(\"No handler for the '\" + msg_type + \"' message type: \", msg);\n",
       "            return;\n",
       "        }\n",
       "\n",
       "        if (callback) {\n",
       "            try {\n",
       "                // console.log(\"Handling '\" + msg_type + \"' message: \", msg);\n",
       "                callback(fig, msg);\n",
       "            } catch (e) {\n",
       "                console.log(\"Exception inside the 'handler_\" + msg_type + \"' callback:\", e, e.stack, msg);\n",
       "            }\n",
       "        }\n",
       "    };\n",
       "}\n",
       "\n",
       "// from http://stackoverflow.com/questions/1114465/getting-mouse-location-in-canvas\n",
       "mpl.findpos = function(e) {\n",
       "    //this section is from http://www.quirksmode.org/js/events_properties.html\n",
       "    var targ;\n",
       "    if (!e)\n",
       "        e = window.event;\n",
       "    if (e.target)\n",
       "        targ = e.target;\n",
       "    else if (e.srcElement)\n",
       "        targ = e.srcElement;\n",
       "    if (targ.nodeType == 3) // defeat Safari bug\n",
       "        targ = targ.parentNode;\n",
       "\n",
       "    // jQuery normalizes the pageX and pageY\n",
       "    // pageX,Y are the mouse positions relative to the document\n",
       "    // offset() returns the position of the element relative to the document\n",
       "    var x = e.pageX - $(targ).offset().left;\n",
       "    var y = e.pageY - $(targ).offset().top;\n",
       "\n",
       "    return {\"x\": x, \"y\": y};\n",
       "};\n",
       "\n",
       "/*\n",
       " * return a copy of an object with only non-object keys\n",
       " * we need this to avoid circular references\n",
       " * http://stackoverflow.com/a/24161582/3208463\n",
       " */\n",
       "function simpleKeys (original) {\n",
       "  return Object.keys(original).reduce(function (obj, key) {\n",
       "    if (typeof original[key] !== 'object')\n",
       "        obj[key] = original[key]\n",
       "    return obj;\n",
       "  }, {});\n",
       "}\n",
       "\n",
       "mpl.figure.prototype.mouse_event = function(event, name) {\n",
       "    var canvas_pos = mpl.findpos(event)\n",
       "\n",
       "    if (name === 'button_press')\n",
       "    {\n",
       "        this.canvas.focus();\n",
       "        this.canvas_div.focus();\n",
       "    }\n",
       "\n",
       "    var x = canvas_pos.x * mpl.ratio;\n",
       "    var y = canvas_pos.y * mpl.ratio;\n",
       "\n",
       "    this.send_message(name, {x: x, y: y, button: event.button,\n",
       "                             step: event.step,\n",
       "                             guiEvent: simpleKeys(event)});\n",
       "\n",
       "    /* This prevents the web browser from automatically changing to\n",
       "     * the text insertion cursor when the button is pressed.  We want\n",
       "     * to control all of the cursor setting manually through the\n",
       "     * 'cursor' event from matplotlib */\n",
       "    event.preventDefault();\n",
       "    return false;\n",
       "}\n",
       "\n",
       "mpl.figure.prototype._key_event_extra = function(event, name) {\n",
       "    // Handle any extra behaviour associated with a key event\n",
       "}\n",
       "\n",
       "mpl.figure.prototype.key_event = function(event, name) {\n",
       "\n",
       "    // Prevent repeat events\n",
       "    if (name == 'key_press')\n",
       "    {\n",
       "        if (event.which === this._key)\n",
       "            return;\n",
       "        else\n",
       "            this._key = event.which;\n",
       "    }\n",
       "    if (name == 'key_release')\n",
       "        this._key = null;\n",
       "\n",
       "    var value = '';\n",
       "    if (event.ctrlKey && event.which != 17)\n",
       "        value += \"ctrl+\";\n",
       "    if (event.altKey && event.which != 18)\n",
       "        value += \"alt+\";\n",
       "    if (event.shiftKey && event.which != 16)\n",
       "        value += \"shift+\";\n",
       "\n",
       "    value += 'k';\n",
       "    value += event.which.toString();\n",
       "\n",
       "    this._key_event_extra(event, name);\n",
       "\n",
       "    this.send_message(name, {key: value,\n",
       "                             guiEvent: simpleKeys(event)});\n",
       "    return false;\n",
       "}\n",
       "\n",
       "mpl.figure.prototype.toolbar_button_onclick = function(name) {\n",
       "    if (name == 'download') {\n",
       "        this.handle_save(this, null);\n",
       "    } else {\n",
       "        this.send_message(\"toolbar_button\", {name: name});\n",
       "    }\n",
       "};\n",
       "\n",
       "mpl.figure.prototype.toolbar_button_onmouseover = function(tooltip) {\n",
       "    this.message.textContent = tooltip;\n",
       "};\n",
       "mpl.toolbar_items = [[\"Home\", \"Reset original view\", \"fa fa-home icon-home\", \"home\"], [\"Back\", \"Back to  previous view\", \"fa fa-arrow-left icon-arrow-left\", \"back\"], [\"Forward\", \"Forward to next view\", \"fa fa-arrow-right icon-arrow-right\", \"forward\"], [\"\", \"\", \"\", \"\"], [\"Pan\", \"Pan axes with left mouse, zoom with right\", \"fa fa-arrows icon-move\", \"pan\"], [\"Zoom\", \"Zoom to rectangle\", \"fa fa-square-o icon-check-empty\", \"zoom\"], [\"\", \"\", \"\", \"\"], [\"Download\", \"Download plot\", \"fa fa-floppy-o icon-save\", \"download\"]];\n",
       "\n",
       "mpl.extensions = [\"eps\", \"jpeg\", \"pdf\", \"png\", \"ps\", \"raw\", \"svg\", \"tif\"];\n",
       "\n",
       "mpl.default_extension = \"png\";var comm_websocket_adapter = function(comm) {\n",
       "    // Create a \"websocket\"-like object which calls the given IPython comm\n",
       "    // object with the appropriate methods. Currently this is a non binary\n",
       "    // socket, so there is still some room for performance tuning.\n",
       "    var ws = {};\n",
       "\n",
       "    ws.close = function() {\n",
       "        comm.close()\n",
       "    };\n",
       "    ws.send = function(m) {\n",
       "        //console.log('sending', m);\n",
       "        comm.send(m);\n",
       "    };\n",
       "    // Register the callback with on_msg.\n",
       "    comm.on_msg(function(msg) {\n",
       "        //console.log('receiving', msg['content']['data'], msg);\n",
       "        // Pass the mpl event to the overridden (by mpl) onmessage function.\n",
       "        ws.onmessage(msg['content']['data'])\n",
       "    });\n",
       "    return ws;\n",
       "}\n",
       "\n",
       "mpl.mpl_figure_comm = function(comm, msg) {\n",
       "    // This is the function which gets called when the mpl process\n",
       "    // starts-up an IPython Comm through the \"matplotlib\" channel.\n",
       "\n",
       "    var id = msg.content.data.id;\n",
       "    // Get hold of the div created by the display call when the Comm\n",
       "    // socket was opened in Python.\n",
       "    var element = $(\"#\" + id);\n",
       "    var ws_proxy = comm_websocket_adapter(comm)\n",
       "\n",
       "    function ondownload(figure, format) {\n",
       "        window.open(figure.imageObj.src);\n",
       "    }\n",
       "\n",
       "    var fig = new mpl.figure(id, ws_proxy,\n",
       "                           ondownload,\n",
       "                           element.get(0));\n",
       "\n",
       "    // Call onopen now - mpl needs it, as it is assuming we've passed it a real\n",
       "    // web socket which is closed, not our websocket->open comm proxy.\n",
       "    ws_proxy.onopen();\n",
       "\n",
       "    fig.parent_element = element.get(0);\n",
       "    fig.cell_info = mpl.find_output_cell(\"<div id='\" + id + \"'></div>\");\n",
       "    if (!fig.cell_info) {\n",
       "        console.error(\"Failed to find cell for figure\", id, fig);\n",
       "        return;\n",
       "    }\n",
       "\n",
       "    var output_index = fig.cell_info[2]\n",
       "    var cell = fig.cell_info[0];\n",
       "\n",
       "};\n",
       "\n",
       "mpl.figure.prototype.handle_close = function(fig, msg) {\n",
       "    var width = fig.canvas.width/mpl.ratio\n",
       "    fig.root.unbind('remove')\n",
       "\n",
       "    // Update the output cell to use the data from the current canvas.\n",
       "    fig.push_to_output();\n",
       "    var dataURL = fig.canvas.toDataURL();\n",
       "    // Re-enable the keyboard manager in IPython - without this line, in FF,\n",
       "    // the notebook keyboard shortcuts fail.\n",
       "    IPython.keyboard_manager.enable()\n",
       "    $(fig.parent_element).html('<img src=\"' + dataURL + '\" width=\"' + width + '\">');\n",
       "    fig.close_ws(fig, msg);\n",
       "}\n",
       "\n",
       "mpl.figure.prototype.close_ws = function(fig, msg){\n",
       "    fig.send_message('closing', msg);\n",
       "    // fig.ws.close()\n",
       "}\n",
       "\n",
       "mpl.figure.prototype.push_to_output = function(remove_interactive) {\n",
       "    // Turn the data on the canvas into data in the output cell.\n",
       "    var width = this.canvas.width/mpl.ratio\n",
       "    var dataURL = this.canvas.toDataURL();\n",
       "    this.cell_info[1]['text/html'] = '<img src=\"' + dataURL + '\" width=\"' + width + '\">';\n",
       "}\n",
       "\n",
       "mpl.figure.prototype.updated_canvas_event = function() {\n",
       "    // Tell IPython that the notebook contents must change.\n",
       "    IPython.notebook.set_dirty(true);\n",
       "    this.send_message(\"ack\", {});\n",
       "    var fig = this;\n",
       "    // Wait a second, then push the new image to the DOM so\n",
       "    // that it is saved nicely (might be nice to debounce this).\n",
       "    setTimeout(function () { fig.push_to_output() }, 1000);\n",
       "}\n",
       "\n",
       "mpl.figure.prototype._init_toolbar = function() {\n",
       "    var fig = this;\n",
       "\n",
       "    var nav_element = $('<div/>')\n",
       "    nav_element.attr('style', 'width: 100%');\n",
       "    this.root.append(nav_element);\n",
       "\n",
       "    // Define a callback function for later on.\n",
       "    function toolbar_event(event) {\n",
       "        return fig.toolbar_button_onclick(event['data']);\n",
       "    }\n",
       "    function toolbar_mouse_event(event) {\n",
       "        return fig.toolbar_button_onmouseover(event['data']);\n",
       "    }\n",
       "\n",
       "    for(var toolbar_ind in mpl.toolbar_items){\n",
       "        var name = mpl.toolbar_items[toolbar_ind][0];\n",
       "        var tooltip = mpl.toolbar_items[toolbar_ind][1];\n",
       "        var image = mpl.toolbar_items[toolbar_ind][2];\n",
       "        var method_name = mpl.toolbar_items[toolbar_ind][3];\n",
       "\n",
       "        if (!name) { continue; };\n",
       "\n",
       "        var button = $('<button class=\"btn btn-default\" href=\"#\" title=\"' + name + '\"><i class=\"fa ' + image + ' fa-lg\"></i></button>');\n",
       "        button.click(method_name, toolbar_event);\n",
       "        button.mouseover(tooltip, toolbar_mouse_event);\n",
       "        nav_element.append(button);\n",
       "    }\n",
       "\n",
       "    // Add the status bar.\n",
       "    var status_bar = $('<span class=\"mpl-message\" style=\"text-align:right; float: right;\"/>');\n",
       "    nav_element.append(status_bar);\n",
       "    this.message = status_bar[0];\n",
       "\n",
       "    // Add the close button to the window.\n",
       "    var buttongrp = $('<div class=\"btn-group inline pull-right\"></div>');\n",
       "    var button = $('<button class=\"btn btn-mini btn-primary\" href=\"#\" title=\"Stop Interaction\"><i class=\"fa fa-power-off icon-remove icon-large\"></i></button>');\n",
       "    button.click(function (evt) { fig.handle_close(fig, {}); } );\n",
       "    button.mouseover('Stop Interaction', toolbar_mouse_event);\n",
       "    buttongrp.append(button);\n",
       "    var titlebar = this.root.find($('.ui-dialog-titlebar'));\n",
       "    titlebar.prepend(buttongrp);\n",
       "}\n",
       "\n",
       "mpl.figure.prototype._root_extra_style = function(el){\n",
       "    var fig = this\n",
       "    el.on(\"remove\", function(){\n",
       "\tfig.close_ws(fig, {});\n",
       "    });\n",
       "}\n",
       "\n",
       "mpl.figure.prototype._canvas_extra_style = function(el){\n",
       "    // this is important to make the div 'focusable\n",
       "    el.attr('tabindex', 0)\n",
       "    // reach out to IPython and tell the keyboard manager to turn it's self\n",
       "    // off when our div gets focus\n",
       "\n",
       "    // location in version 3\n",
       "    if (IPython.notebook.keyboard_manager) {\n",
       "        IPython.notebook.keyboard_manager.register_events(el);\n",
       "    }\n",
       "    else {\n",
       "        // location in version 2\n",
       "        IPython.keyboard_manager.register_events(el);\n",
       "    }\n",
       "\n",
       "}\n",
       "\n",
       "mpl.figure.prototype._key_event_extra = function(event, name) {\n",
       "    var manager = IPython.notebook.keyboard_manager;\n",
       "    if (!manager)\n",
       "        manager = IPython.keyboard_manager;\n",
       "\n",
       "    // Check for shift+enter\n",
       "    if (event.shiftKey && event.which == 13) {\n",
       "        this.canvas_div.blur();\n",
       "        event.shiftKey = false;\n",
       "        // Send a \"J\" for go to next cell\n",
       "        event.which = 74;\n",
       "        event.keyCode = 74;\n",
       "        manager.command_mode();\n",
       "        manager.handle_keydown(event);\n",
       "    }\n",
       "}\n",
       "\n",
       "mpl.figure.prototype.handle_save = function(fig, msg) {\n",
       "    fig.ondownload(fig, null);\n",
       "}\n",
       "\n",
       "\n",
       "mpl.find_output_cell = function(html_output) {\n",
       "    // Return the cell and output element which can be found *uniquely* in the notebook.\n",
       "    // Note - this is a bit hacky, but it is done because the \"notebook_saving.Notebook\"\n",
       "    // IPython event is triggered only after the cells have been serialised, which for\n",
       "    // our purposes (turning an active figure into a static one), is too late.\n",
       "    var cells = IPython.notebook.get_cells();\n",
       "    var ncells = cells.length;\n",
       "    for (var i=0; i<ncells; i++) {\n",
       "        var cell = cells[i];\n",
       "        if (cell.cell_type === 'code'){\n",
       "            for (var j=0; j<cell.output_area.outputs.length; j++) {\n",
       "                var data = cell.output_area.outputs[j];\n",
       "                if (data.data) {\n",
       "                    // IPython >= 3 moved mimebundle to data attribute of output\n",
       "                    data = data.data;\n",
       "                }\n",
       "                if (data['text/html'] == html_output) {\n",
       "                    return [cell, data, j];\n",
       "                }\n",
       "            }\n",
       "        }\n",
       "    }\n",
       "}\n",
       "\n",
       "// Register the function which deals with the matplotlib target/channel.\n",
       "// The kernel may be null if the page has been refreshed.\n",
       "if (IPython.notebook.kernel != null) {\n",
       "    IPython.notebook.kernel.comm_manager.register_target('matplotlib', mpl.mpl_figure_comm);\n",
       "}\n"
      ],
      "text/plain": [
       "<IPython.core.display.Javascript object>"
      ]
     },
     "metadata": {},
     "output_type": "display_data"
    },
    {
     "data": {
      "text/html": [
       "<img src=\"data:image/png;base64,iVBORw0KGgoAAAANSUhEUgAAA+gAAAJYCAYAAADxHswlAAAgAElEQVR4XuzdDZCd9XUf/rOLRsKxKxhXiBdr2XgINiQZB+uF4rcYFbuKMm3GMcTF1vyDqCadwQUBkSPbmTrAjF1AzDhW1MiObdXraQU4ZvwyBFQ3qQMmwDh6sWs8FBqPU0UCXEUNUvBkJFVo//O7zhUSK7x3ped39zx3P3eGWXm5e57zfM5zsL5734bGx8fHw40AAQIECBAgQIAAAQIECBCYVoEhAX1a/R2cAAECBAgQIECAAAECBAh0BAR0FwIBAgQIECBAgAABAgQIEEggIKAnGIIWCBAgQIAAAQIECBAgQICAgO4aIECAAAECBAgQIECAAAECCQQE9ARD0AIBAgQIECBAgAABAgQIEBDQXQMECBAgQIAAAQIECBAgQCCBgICeYAhaIECAAAECBAgQIECAAAECArprgAABAgQIECBAgAABAgQIJBAQ0BMMQQsECBAgQIAAAQIECBAgQEBAdw0QIECAAAECBAgQIECAAIEEAgJ6giFogQABAgQIECBAgAABAgQICOiuAQIECBAgQIAAAQIECBAgkEBAQE8wBC0QIECAAAECBAgQIECAAAEB3TVAgAABAgQIECBAgAABAgQSCAjoCYagBQIECBAgQIAAAQIECBAgIKC7BggQIECAAAECBAgQIECAQAIBAT3BELRAgAABAgQIECBAgAABAgQEdNcAAQIECBAgQIAAAQIECBBIICCgJxiCFggQIECAAAECBAgQIECAgIDuGiBAgAABAgQIECBAgAABAgkEBPQEQ9ACAQIECBAgQIAAAQIECBAQ0F0DBAgQIECAAAECBAgQIEAggYCAnmAIWiBAgAABAgQIECBAgAABAgK6a4AAAQIECBAgQIAAAQIECCQQENATDEELBAgQIECAAAECBAgQIEBAQHcNECBAgAABAgQIECBAgACBBAICeoIhaIEAAQIECBAgQIAAAQIECAjorgECBAgQIECAAAECBAgQIJBAQEBPMAQtECBAgAABAgQIECBAgAABAd01QIAAAQIECBAgQIAAAQIEEggI6AmGoAUCBAgQIECAAAECBAgQICCguwYIECBAgAABAgQIECBAgEACAQE9wRC0QIAAAQIECBAgQIAAAQIEBHTXAAECBAgQIECAAAECBAgQSCAgoCcYghYIECBAgAABAgQIECBAgICA7hogQIAAAQIECBAgQIAAAQIJBAT0BEPQAgECBAgQIECAAAECBAgQENBdAwQIECBAgAABAgQIECBAIIGAgJ5gCFogQIAAAQIECBAgQIAAAQICumuAAAECBAgQIECAAAECBAgkEBDQEwxBCwQIECBAgAABAgQIECBAQEB3DRAgQIAAAQIECBAgQIAAgQQCAnqCIWiBAAECBAgQIECAAAECBAgI6K4BAgQIECBAgAABAgQIECCQQEBATzAELRAgQIAAAQIECBAgQIAAAQHdNUCAAAECBAgQIECAAAECBBIICOgJhqAFAgQIECBAgAABAgQIECAgoLsGCBAgQIAAAQIECBAgQIBAAgEBPcEQtECAAAECBAgQIECAAAECBAR01wABAgQIECBAgAABAgQIEEggIKAnGIIWCBAgQIAAAQIECBAgQICAgO4aIECAAAECBAgQIECAAAECCQQE9ARD0AIBAgQIECBAgAABAgQIEBDQXQMECBAgQIAAAQIECBAgQCCBgICeYAhaIECAAAECBAgQIECAAAECArprgAABAgQIECBAgAABAgQIJBAQ0BMMQQsECBAgQIAAAQIECBAgQEBAdw0QIECAAAECBAgQIECAAIEEAgJ6giFogQABAgQIECBAgAABAgQICOiuAQIECBAgQIAAAQIECBAgkEBAQE8wBC0QIECAAAECBAgQIECAAAEB3TVAgAABAgQIECBAgAABAgQSCAjoCYagBQIECBAgQIAAAQIECBAgIKC7BggQIECAAAECBAgQIECAQAIBAT3BELRAgAABAgQIECBAgAABAgQEdNcAAQIECBAgQIAAAQIECBBIICCgJxiCFggQIECAAAECBAgQIECAgIDuGiBAgAABAgQIECBAgAABAgkEBPQEQ9ACAQIECBAgQIAAAQIECBAQ0F0DBAgQIECAAAECBAgQIEAggYCAnmAI/WzhyJEj8eyzz8Y/+Sf/JIaGhvp5aMciQIAAAQIECBAgQCCRwPj4eLzwwgtx3nnnxfDwcKLOZm4rAvoMm/3u3btjZGRkhp210yVAgAABAgQIECBA4JUEdu3aFQsWLACUQEBATzCEfrawf//+OPPMM6Ms4dy5c/t5aMciQIAAAQIECBAgQCCRwN///d93Hrzbt29fnHHGGYk6m7mtCOgzbPZlCcvylaAuoM+w4TtdAgQIECBAgAABAscIyAb5LgcBPd9MqnZkCavyKk6AAAECBAgQIECgNQKyQb5RCej5ZlK1I0tYlVdxAgQIECBAgAABAq0RkA3yjUpAzzeTqh1Zwqq8ihMgQIAAAQIECBBojYBskG9UAnq+mVTtyBJW5VWcAAECBAgQIECAQGsEZIN8oxLQ882kakeWsCqv4gQIECBAgAABAgRaIyAb5BuVgJ5vJlU7soRVeRUnQIAAAQIECBAg0BoB2SDfqAT0fDOp2pElrMqrOAECBAgQIECAAIHWCMgG+UYloOebSdWOLGFVXsUJECBAgAABAgQItEZANsg3KgE930yqdmQJq/IqToAAAQIECBAgQKA1ArJBvlEJ6PlmUrUjS1iVV3ECBAgQIECAAAECrRGQDfKNSkDPN5OqHVnCqryKEyBAgAABAgQIEGiNgGyQb1QCer6ZVO3IElblVZwAAQIECBAgQIBAawRkg3yjEtDzzaRqR5awKq/iBAgQIECAAAECBFojIBvkG5WAnm8mVTuyhFV5FSdAgAABAgQIECDQGgHZIN+oBPR8M6nakSWsyqs4AQIECBAgQIAAgdYIyAb5RiWg55tJ1Y4sYVVexQkQIECAAAECBAi0RkA2yDcqAT3fTKp2ZAmr8ipOgAABAgQIECBAoDUCskG+UQno+WZStSNLWJVXcQIECBAgQIAAAQKtEZAN8o1KQM83k6odWcKqvIoTIECAAAECBAgQaI2AbJBvVAJ6vplU7cgSVuVVnAABAgQIECBAgEBrBGSDfKMS0PPNpGpHlrAqr+IECBAgQIAAAQIEWiMgG+QblYCebyZVO7KEVXkVJ0CAAAECBAgQINAaAdkg36gE9HwzqdqRJazKqzgBAgQIECBAgACB1gjIBvlGJaDnm0nVjixhVV7FCRCoLbBtW8TatRHr1kUsXlz7aOoTIECAAIGBFpAN8o1XQM83k6odWcKqvIoTIFBbYPXqiA0bIsrX9etrH019AgQIECAw0AKyQb7xCuj5ZlK1I0tYlVdxAgRqCOzcGbF3b8TQUMTy5RF79kTMnx+xZUvE+HjEvHkRo6M1jqwmAQIECBAYaAHZIN94BfR8M6nakSWsyqs4AQI1BEow797Kn0so737tfr98z40AAQIECBCYkoBsMCWuvtxZQO8Lc56DWMI8s9AJAQI9CmzeHLFyZcThwxN/YNasiLGxiBUreizmbgQIECBAgEBXQDbIdy0I6PlmUrUjS1iVV3ECBGoJ7NgRsWjRxOrbt0csXFjrqOoSIECAAIGBFpAN8o1XQM83k6odWcKqvIoTIFBLoBvQh4cjjhyJ6H4V0GuJq0uAAAECM0BANsg3ZAE930yqdmQJq/IqToBALYHduyOWLIkYGYlYtSpi06aIXbsitm6NWLCg1lHVJUCAAAECAy0gG+Qbr4CebyZVO7KEVXkVJ0CgpsDBgxGzZ7/0BnGHDkXMmVPziGoTIECAAIGBFpAN8o1XQM83k6odWcKqvIoTIECAAAECBAgQaI2AbJBvVAJ6vplU7cgSVuVVnAABAgQIECBAgEBrBGSDfKMS0PPNpGpHlrAqr+IECBAgQIAAAQIEWiMgG+QblYCebyZVO7KEVXkVJ0CAAAECBAgQINAaAdkg36gE9HwzqdqRJazKqzgBAgQIECBAgACB1gjIBvlGJaDnm0nVjixhVV7FCRAgQIAAAQIECLRGQDbINyoBPd9MqnZkCavyKk6AAAECBAgQIECgNQKyQb5RCej5ZlK1I0tYlVdxAgQIECBAgAABAq0RkA3yjUpAzzeTqh1Zwqq8ihMgQIAAAQIECBBojYBskG9UAnq+mVTtyBJW5VWcAAECBAgQIECAQGsEZIN8oxLQ882kakeWsCqv4gQIECBAgAABAgRaIyAb5BuVgJ5vJlU7soRVeRUnQIAAAQIECBAg0BoB2SDfqAT0fDOp2pElrMqrOAECBAgQIECAAIHWCMgG+UYloOebSdWOLGFVXsUJECBAgAABAgQItEZANsg3KgE930yqdmQJq/IqToAAAQIECBAgQKA1ArJBvlEJ6Mlm8swzz8SHP/zh2LJlS/zDP/xD/NzP/Vx84QtfiMWLF3c6HR8fj1tuuSU+97nPxb59++Jtb3tbfPrTn44LL7ywpzOxhD0xuRMBAgQIECBAgACBgReQDfKNWEBPNJPnn38+3vzmN8fSpUvjuuuui7POOiv+6q/+Ki644ILOP+V25513xu233x5f/OIX4/Wvf3187GMfiyeeeCKefPLJOP300yc9G0s4KZE7ECBAgAABAgQIEJgRArJBvjEL6Ilm8pGPfCQeffTReOSRR07YVXn0/Lzzzos1a9bEhz70oc599u/fH2effXaMjY3F1VdfPenZWMJJidyBAAECBAgQIECAwIwQkA3yjVlATzSTn//5n49ly5bF7t274+GHH47Xve518cEPfjB+67d+q9PlD3/4w84j6d/5znfikksuOdr5O9/5zs7/Xr9+/YSzOXjwYJR/ureyhCMjI51gP3fu3ERnrxUCBAgQIECAAAECBPopIKD3U7u3YwnovTn15V7dp6j/9m//dvzGb/xGbN26NW688cb4zGc+E9dcc0089thjndecP/vss3Huuece7el973tfDA0NxZe+9KUJfd56661x2223Tfi+gN6XkToIAQIECBAgQIAAgbQCAnq+0QjoiWYye/bszpvBlSDeva1evboT1B9//PGTCugeQU80YK0QIECAAAECBAgQSCQgoCcaxj+2IqAnmsno6Gi8+93vjs9//vNHuyrv0P7xj388yru7n8xT3F9+epYw0cC1QoAAAQIECBAgQGAaBWSDacR/hUML6Ilm8oEPfCB27dp13JvE3XzzzfHtb3+78+h5903iyhvElTeKK7eyVPPnz/cmcYnmqBUCBAgQIECAAAECbRAQ0PNNSUBPNJPyVPa3vvWtndeMl9eV/+Vf/mXnDeI++9nPxooVKzqdlo9Zu+OOO477mLXvfe97PmYt0Ry1QoAAAQIECBAgQKANAgJ6vikJ6Mlm8id/8ifx0Y9+tPP55+VzzssbxnXfxb20Wh5Fv+WWWzqhfd++ffH2t789Nm7cGG94wxt6OhNL2BOTOxEgQIAAAQIECBAYeAHZIN+IBfR8M6nakSWsyqs4AQIECBAgQIAAgdYIyAb5RiWg55tJ1Y4sYVVexQkQIECAAAECBAi0RkA2yDcqAT3fTKp2ZAmr8ipOgAABAgQIECBAoDUCskG+UQno+WZStSNLWJVXcQIECBAgQIAAAQKtEZAN8o1KQM83k6odWcKqvIoTIECAAAECBAgQaI2AbJBvVAJ6vplU7cgSVuVVnAABAgQIECBAgEBrBGSDfKMS0PPNpGpHlrAqr+IECBAgQIAAAQIEWiMgG+QblYCebyZVO7KEVXkVJ0CAAAECBAgQINAaAdkg36gE9HwzqdqRJazKqzgBAgQIECBAgACB1gjIBvlGJaDnm0nVjixhVV7FCRAgQIAAAQIECLRGQDbINyoBPd9MqnZkCavyKk6AAAECBAgQIECgNQKyQb5RCej5ZlK1I0tYlVdxAgQIECBAgAABAq0RkA3yjUpAzzeTqh1Zwqq8ihMgQIAAAQIECBBojYBskG9UAnq+mVTtyBJW5VWcAAECBAgQIECAQGsEZIN8oxLQ882kakeWsCqv4gQIECBAgAABAgRaIyAb5BuVgJ5vJlU7soRVeRUnQIAAAQIECBAg0BoB2SDfqAT0fDOp2pElrMqrOAECBAgQIECAAIHWCMgG+UYloOebSdWOLGFVXsUJECBAgAABAgQItEZANsg3KgE930yqdmQJq/IqToAAAQIECBAgQKA1ArJBvlEJ6PlmUrUjS1iVV3ECBAgQIECAAAECrRGQDfKNSkDPN5OqHVnCqryKEyBAgAABAgQIEGiNgGyQb1QCer6ZVO3IElblVZwAAQIECBAgQIBAawRkg3yjEtDzzaRqR5awKq/iBAgQIECAAAECBFojIBvkG5WAnm8mVTtKu4TbtkWsXRuxbl3E4sVVDRQnQIAAAQIECBAgQCAibTaYwcMR0GfY8NMu4erVERs2RJSv69fPsKk4XQIECBAgQIAAAQL9F0ibDfpPkeaIAnqaUfSnkVRLuHNnxN69EUNDEcuXR+zZEzF/fsSWLRHj4xHz5kWMjvYHxlEIECBAgAABAgQIzDCBVNlghtm/0ukK6DPsQki1hCWYd2/lzyWUd792v1++5zaYAl7WMJhzdVY5BOxXjjnoggABAskFUmWD5Fb9ak9A75d0kuOkWsLNmyNWrow4fHiizqxZEWNjEStWJJHTRuMCXtbQOKmCBI4K2C8XAwECBAj0IJAqG/TQ70y4i4A+E6Z8zDmmW8IdOyIWLZo4he3bIxYunGHTmQGn62UNM2DITnHaBOzXtNE7MAECBNoqkC4btBWywb4F9AYx21Aq3RJ2A/rwcMSRIxHdrwJ6Gy6nqffoZQ1TN/MTBHoVsF+9SrkfAQIECPyjQLpsYDIhoM+wiyDdEu7eHbFkScTISMSqVRGbNkXs2hWxdWvEggUzbDoz4HS9rGEGDNkpTpuA/Zo2egcmQIBAWwXSZYO2QjbYt4DeIGYbSqVcwoMHI2bPfukN4g4dipgzpw2cejwZAS9rOBk1P0OgNwH71ZuTexEgQIBARyBlNpjhsxHQZ9gFYAln2MAznq6XNWScip4GRcB+DcoknQcBAgT6IiAb9IV5SgcR0KfE1f47W8L2z7D1Z+BlDa0foRNILGC/Eg9HawQIEMgnIBvkm4mAnm8mVTuyhFV5Fe9VwMsaepVyPwJTF7BfUzfzEwQIEJihArJBvsEL6PlmUrUjS1iVV3ECBAgQIECAAAECrRGQDfKNSkDPN5OqHVnCqryKEyBAgAABAgQIEGiNgGyQb1QCer6ZVO3IElblVZwAAQIECBAgQIBAawRkg3yjEtDzzaRqR5awKq/iBAgQIECAAAECBFojIBvkG5WAnm8mVTuyhFV5FSdAgAABAgQIECDQGgHZIN+oBPR8M6nakSWsyqs4AQIECBAgQIAAgdYIyAb5RiWg55tJ1Y4sYVVexQkQIECAAAECBAi0RkA2yDcqAT3fTKp2ZAmr8ipOgAABAgQIECBAoDUCskG+UQno+WZStSNLWJVXcQIECBAgQIAAAQKtEZAN8o1KQM83k6odWcKqvIoTIECAAAECBAgQaI2AbJBvVAJ6vplU7cgSVuVVnAABAgQIECBAgEBrBGSDfKMS0PPNpGpHlrAqr+IECBAgQIAAAQIEWiMgG+QblYCebyZVO7KEVXkVJ0CAAAECBAgQINAaAdkg36gE9HwzqdqRJazKqzgBAgQIECBAgACB1gjIBvlGJaDnm0nVjixhVV7FCRAgQIAAAQIECLRGQDbINyoBPd9MqnZkCavyKk6AAAECBAgQIECgNQKyQb5RCej5ZlK1I0tYlVdxAgQIECBAgAABAq0RkA3yjUpAzzeTqh1Zwqq8ihMgQIAAAQIECBBojYBskG9UAnq+mVTtyBJW5VWcAAECBAgQIECAQGsEZIN8oxLQ882kakeWsCqv4gQIECBAgAABAgRaIyAb5BuVgJ5vJlU7soRVeRUnQIAAAQIECBAg0BoB2SDfqAT0fDOp2pElrMqrOAECBAgQIECAAIHWCMgG+UYloOebSdWOLGFVXsUJECBAgAABAgQItEZANsg3KgE90UxuvfXWuO22247r6I1vfGM89dRTne8dOHAg1qxZE/fee28cPHgwli1bFhs3boyzzz6757OwhD1TuSMBAgQIZBDYti1i7dqIdesiFi/O0JEeCBAgMDACskG+UQroiWZSAvp9990Xf/Znf3a0q1mzZsW8efM6//u6666LBx54IMbGxuKMM86I66+/PoaHh+PRRx/t+SwsYc9U7kiAAAECGQRWr47YsCGifF2/PkNHeiBAgMDACMgG+UYpoCeaSQnoX/va1+K73/3uhK72798fZ511Vtx9991x1VVXdf59eWT94osvjscffzwuu+yyns7EEvbE5E4ECBAgMJ0CO3dG7N0bMTQUsXx5xJ49EfPnR2zZEjE+HlF+cT06Op0dOjYBAgQGQkA2yDdGAT3RTEpAv+uuuzqPjp9++unxlre8JW6//fY4//zz45vf/GZcccUV8fzzz8eZZ555tOvR0dG46aab4uabbz7hmZSnwpd/ureyhCMjI1EC/9y5cxOdvVYIECBAgMA/CpRg3r2VP5dQ3v3a/X75nhsBAgQInJKAgH5KfFV+WECvwnpyRbds2RI//vGPo7zu/Lnnnuu8Hv2ZZ56J73//+3H//ffHtddee1zYLke59NJLY+nSpXHnnXee8KAnel17uaOAfnIz8lMECBAg0AeBzZsjVq6MOHx44sFmzYoYG4tYsaIPjTgEAQIEBltAQM83XwE930yOdrRv374oj5B/8pOfjFe96lUnFdA9gp54wFojQIAAgVcW2LEjYtGiif9++/aIhQvJESBAgEADAgJ6A4gNlxDQGwZtutySJUviXe96V7z73e8+qae4v7wfS9j0hNQjQIAAgSoC3YA+PBxx5EhE96uAXoVbUQIEZqaAbJBv7gJ6vpkc7ag83b28/rw8Tf2aa67pvEncPffcE1deeWXnPk8//XRcdNFF3iQu8Qy1RoAAAQInKbB7d8SSJREjIxGrVkVs2hSxa1fE1q0RCxacZFE/RoAAAQLHCgjo+a4HAT3RTD70oQ/Fv/pX/6rztPZnn302brnlls47uj/55JOdcF4+Zu3BBx/sfMxaeYO3G264odP9Y4891vNZWMKeqdyRAAECBKZboLzJ6ezZL71B3KFDEXPmTHdXjk+AAIGBEZAN8o1SQE80k6uvvjq+9a1vxf/9v/+3E8jf/va3xyc+8Ym44IILOl0eOHAg1qxZ03kUvby2fNmyZbFx48Y455xzej4LS9gzlTsSIECAAAECBAgQGGgB2SDfeAX0fDOp2pElrMqrOAECBAgQIECAAIHWCMgG+UYloOebSdWOLGFVXsUJECBAgAABAgQItEZANsg3KgE930yqdmQJq/IqToAAAQIECBAgQKA1ArJBvlEJ6PlmUrUjS1iVV3ECBAgQIECAAAECrRGQDfKNSkDPN5OqHVnCqryKEyBAgAABAgQIEGiNgGyQb1QCer6ZVO3IElblVZwAAQIECBAgQIBAawRkg3yjEtDzzaRqR5awKq/iBAgQIECAAAECBFojIBvkG5WAnm8mVTuyhFV5FSdAgAABAgQIECDQGgHZIN+oBPR8M6nakSWsyqs4AQIECBAgQIAAgdYIyAb5RiWg55tJ1Y4sYVVexQkQIECAAAECBAi0RkA2yDcqAT3fTKp2ZAmr8ipOgAABAgQIECBAoDUCskG+UQno+WZStSNLWJVXcQIECBAgQIAAAQKtEZAN8o1KQM83k6odWcKqvIoTIECAAAECBAgQaI2AbJBvVAJ6vplU7cgSVuVVnAABAgQIECBAgEBrBGSDfKMS0PPNpGpHlrAqr+IECBAgQIAAAQIEWiMgG+QblYCebyZVO7KEVXkVJ0CAAAECBAgQINAaAdkg36gE9HwzqdqRJazKqzgBAgTaLbBtW8TatRHr1kUsXtzuc9E9AQIECEwqIBtMStT3OwjofSef3gNawun1d3QCBAikFli9OmLDhojydf361K1qjgABAgROXUA2OHXDpisI6E2LJq9nCZMPSHsECBDot8DOnRF790YMDUUsXx6xZ0/E/PkRW7ZEjI9HzJsXMTra764cjwABAgT6ICAb9AF5iocQ0KcI1va7W8K2T1D/BAgQaFigBPPurfy5hPLu1+73y/fcCBAgQGDgBGSDfCMV0PPNpGpHlrAqr+IECBBon8DmzRErV0YcPjyx91mzIsbGIlasaN956ZgAAQIEJhWQDSYl6vsdBPS+k0/vAS3h9Po7OgECBFIK7NgRsWjRxNa2b49YuDBly5oiQIAAgVMXkA1O3bDpCgJ606LJ61nC5APSHgECBKZDoBvQh4cjjhyJ6H4V0KdjGo5JgACBvgnIBn2j7vlAAnrPVINxR0s4GHN0FgQIEGhUYPfuiCVLIkZGIlatiti0KWLXroitWyMWLGj0UIoRIECAQB4B2SDPLLqdCOj5ZlK1I0tYlVdxAgQItFfg4MGI2bNfeoO4Q4ci5sxp7/nonAABAgQmFZANJiXq+x0E9L6TT+8BLeH0+js6AQIECBAgQIAAgSwCskGWSbzUh4CebyZVO7KEVXkVJ0CAAAECBAgQINAaAdkg36gE9HwzqdqRJazKqzgBAgQIECBAgACB1gjIBvlGJaDnm0nVjixhVV7FCRAgQIAAAQIECLRGQDbINyoBPd9MqnZkCavyKk6AAAECBAgQIECgNQKyQb5RCej5ZlK1I0tYlVdxAgQIECBAgAABAq0RkA3yjUpAzzeTqh1Zwqq8ihMgQIAAAQIECBBojYBskG9UAnq+mVTtyBJW5VWcAAECBAgQIECAQGsEZIN8oxLQ882kakeWsCqv4gQIECBAgAABAgRaIyAb5BuVgJ5vJlU7soRVeRUnQIAAAQIECBAg0BoB2fLwzvUAACAASURBVCDfqAT0fDOp2pElrMqrOAECBAgQIECAAIHWCMgG+UYloOebSdWOLGFVXsUJECBAgAABAgQItEZANsg3KgE930yqdmQJq/IqToAAAQIECBAgQKA1ArJBvlEJ6PlmUrUjS1iVV3ECBPopsG1bxNq1EevWRSxe3M8jOxYBAgQIEBgIAdkg3xgF9HwzqdqRJazKqzgBAv0UWL06YsOGiPJ1/fp+HtmxCBAgQIDAQAjIBvnGKKDnm0nVjixhVV7FCRCoLbBzZ8TevRFDQxHLl0fs2RMxf37Eli0R4+MR8+ZFjI7W7kJ9AgQIECAwEAKyQb4xCuj5ZlK1I0tYlVdxAgRqC5Rg3r2VP5dQ3v3a/X75nhsBAgQIECAwqYBsMClR3+8goPedfHoPaAmn19/RCRA4RYHNmyNWrow4fHhioVmzIsbGIlasOMWD+HECBAgQIDAzBGSDfHMW0PPNpGpHlrAqr+IECPRDYMeOiEWLJh5p+/aIhQv70YFjECBAgACBgRCQDfKNUUDPN5OqHVnCqryKEyDQD4FuQB8ejjhyJKL7VUDvh75jECBAgMAACcgG+YYpoOebSdWOLGFVXsUJEOiHwO7dEUuWRIyMRKxaFbFpU8SuXRFbt0YsWNCPDhyDAAECBAgMhIBskG+MAnq+mVTtyBJW5VWcAIF+CRw8GDF79ktvEHfoUMScOf06uuMQIECAAIGBEJAN8o1RQM83k6odWcKqvIq3SWDbtoi1ayPWrYtYvLhNneuVAAECBAgQINCIgGzQCGOjRQT0RjnzF7OE+Wekwz4JrF4dsWFDRPm6fn2fDuowBAgQIECAAIE8ArJBnll0OxHQ882kakeWsCqv4tkFdu6M2Lv3J0+LXr48Ys+eiPnzI7Zs+cnnac+bFzE6mv0s9EeAAAECBAgQaERANmiEsdEiAnqjnPmLWcL8M9JhRYESzI/+enLoJ6G8fK987d6O/XPFVpQmQIAAAQIECEy3gGww3ROYeHwBPd9MqnZkCavyKp5dYPPmiJUrIw4fntjprFkRY2MRK1ZkPwv9ESBAgAABAgQaEZANGmFstIiA3ihn/mKWMP+MdFhZoPsZ2i8/jM/QrgyvPAECBAgQIJBNQDbINpEIAT3fTKp2ZAmr8ireBoFuQB8ejjhyJKL7VUBvw/T0SIAAAQIECDQoIBs0iNlQKQG9Ici2lLGEbZmUPqsJ7N4dsWRJxMhIxKpVEZs2RezaFbF1a8SCBdUOq3DzAi++GPHIIxHPPRdx7rkR73hHxGmnNX8cFQkQIECAwKAKyAb5Jiug55tJ1Y4sYVVexdsicPBgxOzZL71B3KFDEXPmtKV7fUbEV74SceONEeX3Ld1b+f1K+cS8974XEQECBAgQINCLgGzQi1J/7yOg99d72o9mCad9BBogQOAUBUo4v+qq4998v5Tsvkn/ffcJ6adI7McJECBAYIYIyAb5Bi2g55tJ1Y4sYVVexQkQqCxQntb+sz97/CPnxx6yhPTySPpf/7Wnu1cehfIECBAgMAACskG+IQro+WbS6eiOO+6Ij370o3HjjTfGpz71qc73Dhw4EGvWrIl77703Dh48GMuWLYuNGzfG2Wef3fNZWMKeqdyRAIGEAg89FLF06eSN/fmfR1x++eT3cw8CBAgQIDCTBWSDfNMX0PPNJLZu3Rrve9/7Yu7cubF06dKjAf26666LBx54IMbGxuKMM86I66+/PoaHh+PRRx/t+SwsYc9U7kiAQEKBe+6J+MAHJm/s7rsj3v/+ye/nHgQIECBAYCYLyAb5pi+gJ5vJj3/841i4cGHnkfGPf/zjcckll3QC+v79++Oss86Ku+++O64qL76MiKeeeiouvvjiePzxx+Oyyy7r6UwsYU9M7kSAQFIBj6AnHYy2CBAgQKCVArJBvrEJ6Mlmcs0118RrX/va+P3f//24/PLLjwb0b37zm3HFFVfE888/H2eeeebRrkdHR+Omm26Km2+++YRnUp4KX/7p3soSjoyMdAJ/eYTejQABAm0S6L4G/ZlnJr5JXDkPr0Fv0zT1SoAAAQLTLSCgT/cEJh5fQE80k/La8k984hOdp7iffvrpxwX08sj5tddee1zYLq1feumlnafB33nnnSc8k1tvvTVuu+22Cf9OQE80eK0QIDAlge67uJcfGh9/6Ue9i/uUGN2ZAAECBAiEgJ7vIhDQk8xk165dsXjx4vjTP/3TeNOb3tTp6thH0E82oHsEPcmAtUGAQKMCJ/oc9JGRiPKemj4HvVFqxQgQIEBggAUE9HzDFdCTzORrX/ta/Pqv/3qcdtppRzt68cUXY2hoqPNGcN/4xjfiXe9615Sf4v7y07OESQauDQIETlmgPN39kUcinnsu4txzI97xDh+tdsqoChAgQIDAjBKQDfKNW0BPMpMXXnghdu7ceVw35SntF110UXz4wx/uvG68vEncPffcE1deeWXnfk8//XTn33uTuCRD1AYBAgQIECBAgACBFgkI6PmGJaDnm8nRjo59inv5ZvmYtQcffLDzMWvlDd5uuOGGzn0fe+yxns/CEvZM5Y4ECBAgQIAAAQIEBlpANsg3XgE930xeMaAfOHAg1qxZ03kUvby2fNmyZZ2PYzvnnHN6PgtL2DOVOxIgQIAAAQIECBAYaAHZIN94BfR8M6nakSWsyqs4AQIECBAgQIAAgdYIyAb5RiWg55tJ1Y4sYVVexQkQIECAAAECBAi0RkA2yDcqAT3fTKp2ZAmr8ipOgAABAgQIECBAoDUCskG+UQno+WZStSNLWJVXcQIECBAgQIAAAQKtEZAN8o1KQM83k6odWcKqvIoTIECAAAECBAgQaI2AbJBvVAJ6vplU7egVl3Dbtoi1ayPWrYtYvLhqD4oTIECAAAECBAgQIDD9AgL69M/g5R0I6PlmUrWjV1zC1asjNmyIKF/Xr6/ag+IECPRZwC/g+gzucAQIECBAoB0CAnq+OQno+WZStaPjlvD55yP27o0YGopYvjxiz56I+fMjtmyJGB+PmDcvYnS0aj+KEyDQBwG/gOsDskMQIECAAIH2CQjo+WYmoOebSdWOjlvCM8546VglpJdQ3v3a/Tfle24ECLRPYOdOv4Br39R0TIAAAQIE+iogoPeVu6eDCeg9MQ3OnY5bwvvvj1i5MuLw4YknOGtWxNhYxIoVuU/eU3dzz0d30ydQftnWvfkF3PTNwZEJECBAgEBiAQE933AE9HwzqdrRhCXcsSNi0aKJx9y+PWLhwqq9NFLcU3cbYVRkAAU2b27/L+AGcCxOiQABAgQIZBIQ0DNN4ye9COj5ZlK1o1cM6MPDEUeORHS/Zg7onrpb9RpRfIAE2v4LuAEahVMhQIAAAQIZBQT0fFMR0PPNpGpHE5Zw9+6IJUsiRkYiVq2K2LQpYteuiK1bIxYsqNrLSRf31N2TpvODM0ygG9Db9Au4GTYip0uAAAECBKZTQECfTv0TH1tAzzeTqh2dcAkPHoyYPfulN4g7dChizpyqfZxScU/dPSU+PzyDBNr4C7gZNB6nSoAAAQIEpltAQJ/uCUw8voCebyZVOxqYJfTU3arXieIDJNC2X8ANEL1TIUCAAAEC2QUGJhtkh55CfwL6FLAG4a4Ds4SeujsIl6NzIECAAAECBAgQmEaBgckG02jY9KEF9KZFk9cbmCX01N3kV5r2CBAgQIAAAQIEsgsMTDbIDj2F/gT0KWANwl0Hagk9dXcQLknnQIAAAQIECBAgME0CA5UNpsmw6cMK6E2LJq9nCZMPSHsECBAgQIAAAQIE+iQgG/QJegqHEdCngDUId7WEgzBF50CAAAECBAgQIEDg1AVkg1M3bLqCgN60aPJ6ljD5gLRHgAABAgQIECBAoE8CskGfoKdwGAF9CliDcFdLOAhTdA4ECBAgQIAAAQIETl1ANjh1w6YrCOhNiyavZwmTD0h7BAgQIECAAAECBPokIBv0CXoKhxHQp4A1CHe1hIMwRedAgAABAgQIECBA4NQFZINTN2y6goDetGjyepYw+YC0R4AAAQIECBAgQKBPArJBn6CncBgBfQpYg3BXSzgIU3QOBAgQIECAAAECBE5dQDY4dcOmKwjoTYsmr2cJkw9IewQIECBAgAABAgT6JCAb9Al6CocR0KeANQh3tYSDMEXnQIAAgUoC27ZFrF0bsW5dxOLFlQ6iLAECBAhkEZANskzipT4E9HwzqdqRJazKqzgBAgTaLbB6dcSGDRHl6/r17T4X3RMgQIDApAKywaREfb+DgN538uk9oCWcXn9HJ0CAQDqBnTsj9u6NGBqKWL48Ys+eiPnzI7ZsiRgfj5g3L2J0NF3bGiJAgACBUxeQDU7dsOkKAnrTosnrWcLkA9IeAQInL+Dp2SdnV4J591b+XEJ592v3++V7bgQIECAwcAKyQb6RCuj5ZlK1I0tYlVdxAgSmU8DTs09Of/PmiJUrIw4fnvjzs2ZFjI1FrFhxcrX9FAECBAikFpAN8o1HQM83k6odWcKqvIoTINBvAU/PPinxF1+MeOSRiOeeizj33Ih3vHpHnHbpoom1tm+PWLjwpI7hhwgQIEAgv4BskG9GAnq+mVTtyBJW5VWcAIF+C3h69pTFv/KViBtvjNi9+6UfXTD/UKzfc3W8d/jrEUeORAwP/+SrgD5lXz9AgACBNgnIBvmmJaDnm0nVjixhVV7FCRDot4CnZ09JvITzq676ycvMj70NDY13vnnfBR+J9/7OBRGbNkXs2hWxdWvEggVTOoY7EyBAgEB7BGSDfLMS0PPNpGpHlrAqr+IECEyHwI4dEYs8PXsy+vK09p/92eMfOX95SC9Z/K//eihOGx6POHQoYs6cycr69wQIECDQYgHZIN/wBPR8M6nakSWsyqs4AQLTIdAN6N2nZXt69gmn8NBDEUuXTj6gP//ziMsvn/x+7kGAAAEC7ReQDfLNUEDPN5OqHVnCqryKEyAwHQLlxdRLlkSMjESsWuXp2a8wg3vuifjAByYf0N13R7z//ZPfzz0IECBAoP0CskG+GQro+WZStSNLWJVXcQIEpkvg4MGI2bNf+vxuT8+eMAmPoE/Xxem4BAgQyCsgG+SbjYCebyZVO7KEVXkVJ0CAQFqB7mvQn3lm4pvElabLG+L/5DXoEaedlvY0NEaAAAECDQrIBg1iNlRKQG8Isi1lLGFbJqVPAgQINC/QfRf3UvnYd3LvflrdffdFvPe9zR9XRQIECBDIKSAb5JuLgJ5vJlU7soRVeRUnQIBAeoETfQ56efn+pz4lnKcfngYJECDQsIBs0DBoA+UE9AYQ21TCErZpWnolQIBAHYHydPdHHol47rmIc8+NeMc7PK29jrSqBAgQyC0gG+Sbj4CebyZVO7KEVXkVJ0CAAAECBAgQINAaAdkg36gE9HwzqdqRJazKqzgBAgQIECBAgACB1gjIBvlGJaDnm0nVjixhVV7FCRAgQIAAAQIECLRGQDbINyoBPd9MqnZkCavyKk6AAAECBAgQIECgNQKyQb5RCej5ZlK1I0tYlVdxAq0Q8AZhrRiTJgkQIECAQHUB2aA68ZQPIKBPmazdP2AJ2z0/3RM4VYETfcTWggUR69f7iK1TtfXzBAgQIECgbQKyQb6JCej5ZlK1I0tYlVdxAqkFSji/6qqI8fHj2xwa+sn/vu8+IT31ADVHgAABAgQaFpANGgZtoJyA3gBim0pYwjZNS68EmhMoT2v/2Z+N2L37xDVLSC+PpP/1X/s87ObUVSJAgAABArkFZIN88xHQ882kakeWsCqv4gTSCjz0UMTSpZO39+d/HnH55ZPfzz0IECBAgACB9gvIBvlmKKDnm0nVjixhVV7FCaQVuOeeiA98YPL27r474v3vn/x+7kGAAAECBAi0X0A2yDdDAT3fTKp2ZAmr8ipOIK2AR9DTjkZjBAgQIEBg2gRkg2mjf8UDC+j5ZlK1I0tYlVdxAmkFuq9Bf+aZiW8SV5r2GvS0o9MYAQIECBCoJiAbVKM96cIC+knTtfMHLWE756ZrAk0IdN/FvdQ69p3cvYt7E7pqECBAgACB9gnIBvlmJqDnm0nVjixhVV7FCaQXONHnoI+MRHzqUz5iLf3wNEiAAAECBBoWkA0aBm2gnIDeAGKbSljCNk1LrwTqCJSnuz/ySMRzz0Wce27EO97ho9XqSKtKgAABAgRyC8gG+eYjoCeayac//eko//zv//2/O139wi/8Qvze7/1eLF++vPO/Dxw4EGvWrIl77703Dh48GMuWLYuNGzfG2Wef3fNZWMKeqdyRAAECBAgQIECAwEALyAb5xiugJ5rJ/fffH6eddlpceOGFMT4+Hl/84hfjrrvuiu985zudsH7dddfFAw88EGNjY3HGGWfE9ddfH8PDw/Hoo4/2fBaWsGcqdyRAgAABAgQIECAw0AKyQb7xCuj5ZnJcR6997Ws7If2qq66Ks846K+6+++7On8vtqaeeiosvvjgef/zxuOyyy3o6E0vYE5M7ESBAgAABAgQIEBh4Adkg34gF9Hwz6XT04osvxpe//OW45pprOo+g/+hHP4orrrginn/++TjzzDOPdj06Oho33XRT3HzzzSc8k/JU+PJP91aWcGRkJPbv3x9z585NevbaIkCAAAECBAgQIECgtoCAXlt46vUF9KmbVf2JJ554It7ylrd0Xm/+mte8pvOI+a/+6q92vl577bXHhe3SyKWXXhpLly6NO++884R93XrrrXHbbbdN+HcCetUxKk6AAAECBAgQIEAgvYCAnm9EAnqymRw6dCj+5m/+pvMI93333Ref//zn4+GHH47vfve7JxXQT+oR9G3bItaujVi3LmLx4mRC2iFAgAABAgQIECBAoAkBAb0JxWZrCOjNejZe7V3veldccMEF8a//9b8+qae4v7yhnpZw9eqIDRsiytf16xs/JwUJECBAgAABAgQIEJh+gZ6ywfS3OaM6ENCTj/uf//N/Hueff36sX7++8yZx99xzT1x55ZWdrp9++um46KKLmnmTuJ07I/bujRgaiigf67ZnT8T8+RFbtkSMj0fMmxcxOppcS3sECBAgQIAAAQIECPQqIKD3KtW/+wno/bOe9Egf/ehHO595XgL5Cy+80HndeXlt+Te+8Y1497vf3fmYtQcffLDzMWvlDd5uuOGGTs3HHnts0trdO7ziEpZg3r2VP5dQ3v3a/X75nhsBAgQIECBAgAABAgMhIKDnG6OAnmgmq1ativ/+3/97PPfcc53POX/Tm94UH/7whzvhvNzKG8etWbOm8yh6eW35smXLYuPGjXHOOef0fBavuISbN0esXBlx+PDEWrNmRYyNRaxY0fNx3JEAAQIECBAgQIAAgdwCAnq++Qjo+WZStaOfuoQ7dkQsWjTx+Nu3RyxcWLUvxQkQIECAAAECBAgQ6K+AgN5f716OJqD3ojRA9+kpoA8PRxw5EtH9KqAP0BXgVAgQIECAAAECBAj8REBAz3clCOj5ZlK1o5+6hLt3RyxZEjEyErFqVcSmTRG7dkVs3RqxYEHVvhQnQIAAAQIECBAgQKC/AgJ6f717OZqA3ovSAN1n0iU8eDBi9uyX3iDu0KGIOXMGSMCpECCQSmDbtoi1ayPWrYtYvDhVa5ohQIAAAQKDLjBpNhh0gITnJ6AnHErNlixhTV21CRCYssDq1REbNkSUr+vXT/nH/QABAgQIECBw8gKywcnb1fpJAb2WbNK6ljDpYLRFYCYJ7NwZsXfvT56ps3x5xJ49EfPnR2zZ8pOPeJw3L2J0dCaJOFcCBAgQIDAtArLBtLD/1IMK6PlmUrUjS1iVV3ECBHoRKMG8eyt/LqG8+7X7/fI9NwIECBAgQKCqgGxQlfekigvoJ8XW3h+yhO2dnc4JDIzA5s0RK1dGHD488ZRmzYoYG4tYsWJgTteJECBAgACBrAKyQb7JCOj5ZlK1I0tYlVdxAgR6FdixI2LRoon39rGOvQq6HwECBAgQOGUB2eCUCRsvIKA3Tpq7oCXMPR/dEZgxAt2APjwcceRIRPergD5jLgEnSoAAAQLTLyAbTP8MXt6BgJ5vJlU7soRVeRUnQKBXgd27I5YsiRgZiVi1KmLTpohduyK2bo1YsKDXKu5HgAABAgQInIKAbHAKeJV+VECvBJu1rCXMOhl9EZiBAgcPRsye/dIbxB06FDFnzgyEcMoECBAgQGB6BGSD6XH/aUcV0PPNpGpHlrAqr+IECBAgQIAAAQIEWiMgG+QblYCebyZVO7KEVXkVJ0CAAAECBAgQINAaAdkg36gE9HwzqdqRJazKqzgBAgQIECBAgACB1gjIBvlGJaDnm0nVjixhVV7FCRAgQIAAAQIECLRGQDbINyoBPd9MqnZkCavyKk6AAAECBAgQIECgNQKyQb5RCej5ZlK1I0tYlVdxAgQIECBAgAABAq0RkA3yjUpAzzeTqh1Zwqq8ihMgQIAAAQIECBBojYBskG9UAnq+mVTtyBJW5VWcAAECBAgQIECAQGsEZIN8oxLQ882kakeWsCqv4gQIECBAgAABAgRaIyAb5BuVgJ5vJlU7soRVeRUnQIAAAQIECBAg0BoB2SDfqAT0fDOp2pElrMqrOAECBAgQIECAAIHWCMgG+UYloOebSdWOLGFVXsUJECBAgAABAgQItEZANsg3KgE930yqdmQJq/IqToAAAQIECBAgQKA1ArJBvlEJ6PlmUrUjS1iVV3ECBAgQIECAAAECrRGQDfKNSkDPN5OqHVnCqryKEyBAgAABAgQIEGiNgGyQb1QCer6ZVO3IElblVZwAgZkisG1bxNq1EevWRSxePFPO2nkSIECAwIAJyAb5Biqg55tJ1Y4sYVVexQkQmCkCq1dHbNgQUb6uXz9Tztp5EiBAgMCACcgG+QYqoOebSdWOLGFVXsUJEBhkgZ07I/bujRgaili+PGLPnoj58yO2bIkYH4+YNy9idHSQBZwbAQIECAyYgGyQb6ACer6ZVO3IElblVZwAgUEWKMG8eyt/LqG8+7X7/fK9tt08Xb9tE9MvAQIEGhOQDRqjbKyQgN4YZTsKWcJ2zEmXBAgkFNi8OWLlyojDhyc2N2tWxNhYxIoVCRufpCVP12/fzHRMgACBhgRkg4YgGywjoDeI2YZSlrANU9IjAQJpBXbsiFi0aGJ727dHLFyYtu0JjXm6fntmpVMCBAhUFJANKuKeZGkB/STh2vpjlrCtk9M3AQIpBLoBfXg44siRiO7XtgX0QX26foqLRBMECBBoj4BskG9WAnq+mVTtyBJW5VWcAIFBF9i9O2LJkoiRkYhVqyI2bYrYtSti69aIBQvac/aD+nT99kxApwQIEEghIBukGMNxTQjo+WZStSNLWJVXcQIEZoLAwYMRs2e/9AZxhw5FzJnTvjMflKfrt09exwQIEEgjIBukGcXRRgT0fDOp2pElrMqrOAECBNojMChP12+PuE4JECCQTkA2SDeSENDzzaRqR5awKq/iBAgQaI/AoDxdvz3iOiVAgEA6Adkg3UgE9HwjqduRJazrqzoBAgRaJTAoT9dvFbpmCRAgkEdANsgzi24nHkHPN5OqHVnCqryKEyBAgAABAgQIEGiNgGyQb1QCer6ZVO3IElblVZwAAQIECBAgQIBAawRkg3yjEtDzzaRqR5awKq/iBAgQIECAAAECBFojIBvkG5WAnm8mVTuyhFV5FSdAgAABAgQIECDQGgHZIN+oBPR8M6nakSWsyqs4AQIECBAgQIAAgdYIyAb5RiWg55tJ1Y4sYVVexQkQIECAAAECBAi0RkA2yDcqAT3fTKp2ZAmr8ipOgAABAgQIECBAoDUCskG+UQno+WZStSNLWJVXcQIECBAgQIAAAQKtEZAN8o1KQM83k6odWcKqvIoTIECAAAECBAgQaI2AbJBvVAJ6vplU7cgSVuVVnAABAgQIECBAgEBrBGSDfKMS0PPNpGpHlrAqr+IECBAgQIAAAQIEWiMgG+QblYCebyZVO7KEVXkVJ0CAAAECBAgQINAaAdkg36gE9HwzqdqRJazKqzgBAgQIECBAgACB1gjIBvlGJaDnm0nVjixhVV7FCRAgQIAAAQIECLRGQDbINyoBPd9MqnZkCavyKk6AAAECBAgQIECgNQKyQb5RCej5ZlK1I0tYlVdxAgQIECBAgAABAq0RkA3yjUpAzzeTqh1Zwqq8ihMgQIAAAQIECBBojYBskG9UAnq+mVTtyBJW5VWcAAECBAgQIECAQGsEZIN8oxLQ882kakeWsCqv4gReEti2LWLt2oh16yIWLyZDgAABAgQIEEgnIBukG0kI6Ilmcvvtt8dXvvKVeOqpp+JVr3pVvPWtb40777wz3vjGNx7t8sCBA7FmzZq499574+DBg7Fs2bLYuHFjnH322T2diSXsicmdCJy6wOrVERs2RJSv69efej0VCBAgQIAAAQINC8gGDYM2UE5AbwCxqRK/8iu/EldffXUsWbIkDh8+HL/7u78b3//+9+PJJ5+MV7/61Z3DXHfddfHAAw/E2NhYnHHGGXH99dfH8PBwPProoz21YQl7YnInAicnsHNnxN69EUNDEcuXR+zZEzF/fsSWLRHj4xHz5kWMjp5cbT9FgAABAgQIEGhYQDZoGLSBcgJ6A4i1Svzt3/5tzJ8/Px5++OH45V/+5di/f3+cddZZcffdd8dVV13VOWx5tP3iiy+Oxx9/PC677LJJW7GEkxK5A4GTFyjBvHsrfy6hvPu1+/3yPTcCBAgQIECAQAIB2SDBEF7WgoCebyZHO/rBD34QF154YTzxxBPxi7/4i/HNb34zrrjiinj++efjzDPPPHq/0dHRuOmmm+Lmm2+ecDblafDln+6tLOHIyEgn7M+dOzfx2WuNQAsFNm+OWLky4vDhic3PmhUxNhaxYkULT0zLBAgQIECAwCAKCOj5piqg55tJp6MjR47Er/3ar8W+ffviL/7iLzrfK4+cX3vttccF7vL9AJVT6QAAIABJREFUSy+9NJYuXdp5vfrLb7feemvcdtttE74voCcdvLbaL7BjR8SiRRPPY/v2iIUL239+zoAAAQIECBAYGAEBPd8oBfR8M+l0VF5rvmXLlk44X7BgwUkHdI+gJx2wtgZXoBvQh4fLb9oiul8F9MGduTMjQIAAAQItFRDQ8w1OQM83k84bv33961+Pb33rW/H617/+aIcn8xT3l5+eJUw4cC0NlsDu3RFLlkSMjESsWhWxaVPErl0RW7dG/OMv2wbrhJ0NAQIECBAg0FYB2SDf5AT0RDMZHx+PG264Ib761a/GQw891Hn9+bG37pvE3XPPPXHllVd2/tXTTz8dF110kTeJSzRHrRCI8r4Ps2e/9AZxhw5FzJkDhgABAgQIECCQSkBATzWOTjMCeqKZfPCDH+y8zrw8en7sZ5+Xj1Mrn4tebuWp7w8++GDnY9bKm7yVQF9ujz32WE9nYgl7YnInAgQIECBAgAABAgMvIBvkG7GAnmgmQ8d+RNMxfX3hC1+IleWdoSPiwIEDsWbNmiiPopfXly9btiw2btwY55xzTk9nYgl7YnInAgQIECBAgAABAgMvIBvkG7GAnm8mVTuyhFV5FSdAgAABAgQIECDQGgHZIN+oBPR8M6nakSWsyqs4AQIECBAgQIAAgdYIyAb5RiWg55tJ1Y4sYVVexQkQIECAAAECBAi0RkA2yDcqAT3fTKp2ZAmr8ipOgAABAgQIECBAoDUCskG+UQno+WZStSNLWJVXcQIECBAgQIAAAQKtEZAN8o1KQM83k6odWcKqvIoTIECAAAECBAgQaI2AbJBvVAJ6vplU7cgSVuVVnAABAgQIECBAgEBrBGSDfKMS0PPNpGpHlrAqr+IECBAgQIAAAQIEWiMgG+QblYCebyZVO7KEVXkVJ0CAAAECBAgQINAaAdkg36gE9HwzqdqRJazKqzgBAgQIECBAgACB1gjIBvlGJaDnm0nVjixhVV7FCRAgQIAAAQIECLRGQDbINyoBPd9MqnZkCavyKk6AAAECBAgQIECgNQKyQb5RCej5ZlK1I0tYlVdxAgQIECBAgAABAq0RkA3yjUpAzzeTqh1Zwqq8ihMgQIAAAQIECBBojYBskG9UAnq+mVTtyBJW5VWcAAECBAgQIECAQGsEZIN8oxLQ882kakeWsCqv4gQIECBQQ2Dbtoi1ayPWrYtYvLjGEdQkQIDAjBSQDfKNXUDPN5OqHVnCqryKEyBAgEANgdWrIzZsiChf16+vcQQ1CRAgMCMFZIN8YxfQ882kakeWsCqv4gQIECDQlMDOnRF790YMDUUsXx6xZ0/E/PkRW7ZEjI9HzJsXMTra1NHUIUCAwIwUkA3yjV1AzzeTqh1Zwqq8ihMgQIBAUwIlmHdv5c8llHe/dr9fvudGgAABAictIBucNF21HxTQq9HmLGwJc85FVwQIECDwMoHNmyNWrow4fHgizaxZEWNjEStWYCNAgACBUxCQDU4Br9KPCuiVYLOWtYRZJ6MvAgQIEJggsGNHxKJFE2G2b49YuBAYAQIECJyigGxwioAVflxAr4CauaQlzDwdvREgQIDAcQLdgD48HHHkSET3q4DuQiFAgEAjArJBI4yNFhHQG+XMX8wS5p+RDgkQIEDgHwV2745YsiRiZCRi1aqITZsidu2K2Lo1YsECTAQIECBwigKywSkCVvhxAb0CauaSljDzdPRGgAABAhMEDh6MmD37pTeIO3QoYs4cUAQIECDQgIBs0ABiwyUE9IZBs5ezhNknpD8CBAgQIECAAAEC/RGQDfrjPJWjCOhT0RqA+1rCARiiUyBAgAABAgQIECDQgIBs0ABiwyUE9IZBs5ezhNknpD8CBAgQIECAAAEC/RGQDfrjPJWjCOhT0RqA+1rCARiiUyBAgAABAgQIECDQgIBs0ABiwyUE9IZBs5ezhNknpD8CBAgQIECAAAEC/RGQDfrjPJWjCOhT0RqA+1rCARiiUyBAgAABAgQIECDQgIBs0ABiwyUE9IZBs5ezhNknpD8CBAgQIECAAAEC/RGQDfrjPJWjCOhT0RqA+1rCARiiUyBAgAABAgQIECDQgIBs0ABiwyUE9IZBs5ezhNknpD8CBAgQIECAAAEC/RGQDfrjPJWjCOhT0RqA+1rCARiiUyBAgAABAgQIECDQgIBs0ABiwyUE9IZBs5ezhNknpD8CBAgQIECAAAEC/RGQDfrjPJWjCOhT0RqA+1rCARiiUyBAgAABAgQIECDQgIBs0ABiwyUE9IZBs5ezhNknpD8CBAgQIECAAAEC/RGQDfrjPJWjCOhT0RqA+1rCARiiUyBAgAABAgQIECDQgIBs0ABiwyUE9IZBs5ezhNknpD8CBAgQIECAAAEC/RGQDfrjPJWjCOhT0RqA+1rCARiiUyBAgAABAgQIECDQgIBs0ABiwyUE9IZBs5ezhNknpD8CBAgQIECAAAEC/RGQDfrjPJWjCOhT0RqA+1rCARiiUyBAgAABAgQIECDQgIBs0ABiwyUE9IZBs5ezhNknpD8CBAgQIECAAAEC/RGQDfrjPJWjCOhT0RqA+1rCARiiUyBAgAABAgQIECDQgIBs0ABiwyUE9IZBs5ezhNknpD8CBAgQIECAAAEC/RGQDfrjPJWjCOhT0RqA+1rCARiiUyBAgAABAgQIECDQgIBs0ABiwyUE9IZBs5ezhNknpD8CBAgQIECAAAEC/RGQDfrjPJWjCOhT0RqA+1rCARiiUyBAgAABAgQIECDQgIBs0ABiwyUE9IZBs5ezhNknpD8CBAgQIECAAAEC/RGQDfrjPJWjCOhT0RqA+1rCARiiUyBAgAABAgQIECDQgIBs0ABiwyUE9IZBs5ezhNknpD8CBAgQIECAAAEC/RGQDfrjPJWjCOhT0RqA+1rCARiiUyBAgAABAgQIECDQgIBs0ABiwyUE9IZBs5ezhNknpD8CBAgQIECAAAEC/RGQDfrjPJWjCOhT0RqA+1rCARiiUyBAgAABAgQIECDQgIBs0ABiwyUE9IZBs5ezhNknpD8CBAgQIECAAAEC/RGQDfrjPJWjCOhT0RqA+1rCARiiUyBAgAABAgQIECDQgIBs0ABiwyUE9IZBs5ezhNknpD8CBAgQIECAAAEC/RGQDfrjPJWjCOhT0RqA+1rCARiiUyBAgAABAgQIECDQgIBs0ABiwyUE9IZBT6Xct771rbjrrrti+/bt8dxzz8VXv/rVeM973nO05Pj4eNxyyy3xuc99Lvbt2xdve9vb4tOf/nRceOGFPR/WEvZM5Y4ECBAgQIAAAQIEBlpANsg3XgE90Uy2bNkSjz76aCxatCje+973Tgjod955Z9x+++3xxS9+MV7/+tfHxz72sXjiiSfiySefjNNPP72nM7GEPTG5EwECBAgQIECAAIGBF5AN8o1YQM83k05HQ0NDxwX08uj5eeedF2vWrIkPfehDnfvs378/zj777BgbG4urr766pzOxhD0xuRMBAgQIECBAgACBgReQDfKNWEDPN5MTBvQf/vCHccEFF8R3vvOduOSSS452/c53vrPzv9evX3/CMzl48GCUf7q3soQjIyOdcD937tykZ68tAgQIECBAgAABAgRqCwjotYWnXl9An7pZX37i5Y+gP/bYY53XnD/77LNx7rnnHu3hfe97X+fR9i996Usn7OvWW2+N2267bcK/E9D7MkYHIUCAAAECBAgQIJBWQEDPNxoBPd9MOh01FdA9gp50wNoiQIAAAQIECBAgMM0CAvo0D+AEhxfQ883khAH9ZJ/i/vLTs4RJB64tAgQIECBAgAABAn0WkA36DN7D4QT0HpCm4y6v9CZx5Q3iyhvFlVtZqPnz53uTuOkYkGMSIECAAAECBAgQaLmAgJ5vgAJ6opn8+Mc/jh/84Aedjt785jfHJz/5yVi6dGm89rWvjfPPPz/Kx6zdcccdx33M2ve+9z0fs5ZohlohQIAAAQIECBAg0BYBAT3fpAT0RDN56KGHOoH85bdrrrmm8yh5+ai1W265JT772c/Gvn374u1vf3ts3Lgx3vCGN/R8FpawZyp3JECAAAECBAgQIDDQArJBvvEK6PlmUrUjS1iVV3ECBAgQIECAAAECrRGQDfKNSkDPN5OqHVnCqryKEyBAgAABAgQIEGiNgGyQb1QCer6ZVO3IElblVZwAAQIECBAgQIBAawRkg3yjEtDzzaRqR5awKq/iBAgQIECAAAECBFojIBvkG5WAnm8mVTuyhFV5FSdAgAABAgQIECDQGgHZIN+oBPR8M6nakSWsyqs4AQIECBAgQIAAgdYIyAb5RiWg55tJ1Y4sYVVexQkQIECAAAECBAi0RkA2yDcqAT3fTKp2ZAmr8ipOgAABAgQIECBAoDUCskG+UQno+WZStSNLWJVXcQIECBAgQIAAAQKtEZAN8o1KQM83k6odWcKqvIoTIECAAAECBAgQaI2AbJBvVAJ6vplU7cgSVuVVnAABAgQIECBAgEBrBGSDfKMS0PPNpGpHlrAqr+IECBAgQIAAAQIEWiMgG+QblYCebyZVO7KEVXkVJ0CAAAECBAgQINAaAdkg36gE9HwzqdqRJazKqzgBAgQIECBAgACB1gjIBvlGJaDnm0nVjixhVV7FCcwsgW3bItaujVi3LmLx4pl17s6WAAECBAgMgIBskG+IAnq+mVTtyBJW5VWcwMwSWL06YsOGiPJ1/fqZde7OlgABAgQIDICAbJBviAJ6vplU7cgSVuVVnMDgC+zcGbF3b8TQUMTy5RF79kTMnx+xZUvE+HjEvHkRo6OD7+AMCRAgQIDAAAjIBvmGKKDnm0nVjixhVV7FCQy+QAnm3Vv5cwnl3a/d75fvuREgQIAAAQLpBWSDfCMS0PPNpGpHlrAqr+IEBl9g8+aIlSsjDh+eeK6zZkWMjUWsWDH4Ds6QAAECBAgMgIBskG+IAnq+mVTtyBJW5VWcwMwQ2LEjYtGiiee6fXvEwoUzw8BZEiBAgACBARCQDfINUUDPN5OqHVnCqryKE5gZAt2APjwcceRIRPergD4z5u8sCRAgQGBgBGSDfKMU0PPNpGpHlrAqr+IEZobA7t0RS5ZEjIxErFoVsWlTxK5dEVu3RixYMDMMnCUBAgQIEBgAAdkg3xAF9HwzqdqRJazKqziBmSNw8GDE7NkvvUHcoUMRc+bMnPN3pgQIECBAYAAEZIN8QxTQ882kakeWsCqv4gQIECBAgAABAgRaIyAb5BuVgJ5vJlU7soRVeRUnQIAAAQIECBAg0BoB2SDfqAT0fDOp2pElrMqrOAECBAgQIECAAIHWCMgG+UYloOebSdWOLGFVXsUJECBAgAABAgQItEZANsg3KgE930yqdmQJq/IqToAAAQIECBAgQKA1ArJBvlEJ6PlmUrUjS1iVV3ECBAgQIECAAAECrRGQDfKNSkDPN5OqHVnCqryKEyBAgAABAgQIEGiNgGyQb1QCer6ZVO3IElblVZwAAQIECBAgQIBAawRkg3yjEtDzzaRqR5awKq/iBAgQIECAAAECBFojIBvkG5WAnm8mVTuyhFV5FSdAgAABAgQIECDQGgHZIN+oBPR8M6nakSWsyqs4AQIECBAgQIAAgdYIyAb5RiWg55tJ1Y4sYVVexQkQIECAAAECBAi0RkA2yDcqAT3fTKp2ZAmr8ipOgAABAgQIECBAoDUCskG+UQno+WZStSNLWJVXcQIECBAgQIAAAQKtEZAN8o1KQM83k6odWcKqvIoTIECAAAECBAgQaI2AbJBvVAJ6vplU7cgSVuVVnAABAgQIECBAgEBrBGSDfKMS0PPNpGpHlrAqr+IECBAgQIAAAQIEWiMgG+QblYCebyZVO7KEVXkVJ0CAAAECBAgQINAaAdkg36gE9HwzqdqRJazKqzgBAgQIECBAgACB1gjIBvlGJaDnm0nVjixhVV7FCRAgQIAAAQIECLRGQDbINyoBPd9MqnZkCavyKk6AAAECBAgQIECgNQKyQb5RCej5ZlK1I0tYlVdxAgQIECBAgAABAq0RkA3yjUpAzzeTqh1Zwqq8ihMgQIAAAQIECBBojYBskG9UAnq+mVTtyBJW5VWcAAECBAgQIECAQGsEZIN8oxLQ882kakeWsCqv4gQIECBAgAABAgRaIyAb5BuVgJ5vJlU7soRVeRUnQIAAAQIECBAg0BoB2SDfqAT0fDOp2pElrMqrOAECBAgQIECAAIHWCMgG+UYloOebSdWOLGFVXsUJECBAgAABAgQItEZANsg3KgE930yqdmQJq/IqToAAAQIECBAgQKA1ArJBvlEJ6PlmUrUjS1iVV3ECBAgQIECAAAECrRGQDfKNSkDPN5OqHVnCqryKEyBAgAABAgQIEGiNgGyQb1QCer6ZVO3IElblVbxNAtu2RaxdG7FuXcTixW3qXK8ECBAgQIAAgUYEZINGGBstIqA3ypm/mCXMPyMd9klg9eqIDRsiytf16/t0UIchQIAAAQIECOQRkA3yzKLbiYCebyZVO7KEVXkVzy6wc2fE3r0RQ0MRy5dH7NkTMX9+xJYtEePjEfPmRYyOZj8L/REgQIAAAQIEGhGQDRphbLSIgN4oZ/5iljD/jHRYUaAE86O/nhz6SSgv3ytfu7dj/1yxFaUJECBAgAABAtMtIBtM9wQmHl9AzzeTSTv6wz/8w7jrrrviRz/6UfzSL/1SbNiwIS699NJJf67cwRL2xOROgyqweXPEypURhw9PPMNZsyLGxiJWrBjUs3deBAgQIECAAIHjBGSDfBeEgJ5vJj+1oy996Uvxm7/5m/GZz3wm/tk/+2fxqU99Kr785S/H008/HfPLU3UnuVnCyYT8+4EX2LEjYtGiiae5fXvEwoUDf/pOkAABAgQIECDQFZAN8l0LAnq+mfzUjkooX7JkSfzH//gfO/c7cuRIjIyMxA033BAf+chHJj0bSzgpkTsMukA3oA8PlwWK6H4V0Ad98s6PAAECBAgQeJmAbJDvkhDQ883kFTs6dOhQ/MzP/Ezcd9998Z73vOfo/a655prYt29ffP3rX5/wswcPHozyT/e2f//+OP/882PXrl0xd+7cFp29Vgk0JPDMMxGXXx6xYEHE//f/Rfzn/xyxe3fEQw9FvO51DR1EGQIECBAgQIBAfoES0MuDfSVLnHHGGfkbngEdCugtGvKzzz4br3vd6+Kxxx6Lt7zlLUc7X7t2bTz88MPx7W9/e8LZ3HrrrXHbbbe16Cy1SoAAAQIECBAgQIBAPwXKg3cLyoMXbtMuIKBP+wh6b+BkAvrLH0Evvx0bHR2Nv/mbv/Fbst7p3fMVBLq/dfWMDJfIqQq4lk5V0M8fK+B6cj00JeBaakpSnSKQ8XoaHx+PF154Ic4777wYLi/7c5t2AQF92kfQewMn8xT3l1f3OpPevd1zcgHX0+RG7tGbgGupNyf36k3A9dSbk3tNLuBamtzIPXoXcD31bjWT7ymgt2z65U3iykeqlY9WK7fyJnHlNeXXX3+9N4lr2SwHoV3/RzMIU8xxDq6lHHMYlC5cT4Myyek/D9fS9M9gkDpwPQ3SNOudi4Bez7ZK5fIxa+VN4f7oj/6oE9TLx6z98R//cTz11FNx9tlnT3pM/2GYlMgdpiDgepoClrv+VAHXkgukSQHXU5OaM7uWa2lmz7/ps3c9NS06mPUE9BbOtXzE2l133RU/+tGP4pJLLok/+IM/6Hwmei+38pr022+/PT760Y/GnDlzevkR9yHwigKuJxdHUwKupaYk1SkCrifXQVMCrqWmJNXx3ybXQK8CAnqvUu5HgAABAgQIECBAgAABAgQqCgjoFXGVJkCAAAECBAgQIECAAAECvQoI6L1KuR8BAgQIECBAgAABAgQIEKgoIKBXxFWaAAECBAgQIECAAAECBAj0KiCg9yrlfgQIECBAgAABAgQIECBAoKKAgF4RN2PpP/zDPzz6DvC/9Eu/1Pk89fJxbW4EXkmgvOv/V77ylc5H+b3qVa+Kt771rXHnnXfGG9/4xqM/cuDAgVizZk3ce++9nXdPXrZsWWzcuLGnj/4jP3MF7rjjjs4nStx4442dj4wsN9fSzL0eTubMn3nmmfjwhz8cW7ZsiX/4h3+In/u5n4svfOELsXjx4k658fHxuOWWW+Jzn/tc7Nu3L972trfFpz/96bjwwgtP5nB+ZoAFXnzxxbj11lvjv/yX/9L5lJzzzjsvVq5cGf/+3//7GBoacj0N8OxP9dS+9a1vdf5uvX379njuuefiq1/9arznPe85WraX/w793d/9Xdxwww1x//33x/DwcFx55ZWxfv36eM1rXnOq7fn5FgoI6C0c2sm2XD5D/Td/8zfjM5/5TOdj2cpfiL/85S/H008/HfPnzz/Zsn5uwAV+5Vd+Ja6++upYsmRJHD58OH73d383vv/978eTTz4Zr371qztnf91118UDDzwQY2NjccYZZ8T111/f+T+YRx99dMB1nN7JCmzdujXe9773xdy5c2Pp0qVHA7pr6WRFZ97PPf/88/HmN7+5c/2U6+ass86Kv/qrv4oLLrig80+5lV8mll8yfvGLX4zXv/718bGPfSyeeOKJzn+/Tj/99JmH5oxfUeA//If/EJ/85Cc718ov/MIvxLZt2+Laa6+NT3ziE7F69WrXk2vnFQXKLwjL33cWLVoU733veycE9F7+O7R8+fJOuP+jP/qj+H//7/91rr3y9667776b/AwUENBn0NBLKC/LXj5HvdyOHDkSIyMjnd/YfeQjH5lBEk71VAT+9m//tvMLnYcffjh++Zd/Ofbv39/5i3H5P5GrrrqqU7o82n7xxRfH448/HpdddtmpHM7PDqDAj3/841i4cGHnWRYf//jH45JLLukEdNfSAA674imV/98qfyl+5JFHTniU8qhVeRS0PLvnQx/6UOc+5Ro7++yzO79MLL94dCPQFfiX//Jfdq6NTZs2HUUpj2KWZ46VR9VdT66VXgTKsy2OfQS9l+vmf/7P/xk///M/H+UX191n//zX//pf41d/9Vdj9+7dnf+Ouc0sAQF9hsz70KFD8TM/8zNx3333Hfe0m2uuuabztL+vf/3rM0TCaZ6qwA9+8IPO00PLo1C/+Iu/GN/85jfjiiuuiPJo1plnnnm0/OjoaNx0001x8803n+oh/fyACZT/7rz2ta+N3//934/LL7/8aEB3LQ3YoCufTvkLbXk5TfkLbPmF4ete97r44Ac/GL/1W7/VOfIPf/jDziPp3/nOdzrXWPf2zne+s/O/y9NH3Qh0Bcoj6J/97Gfjv/23/xZveMMb4n/8j/8R/+Jf/IvOo+orVqxwPblUehJ4eUDv5b9D/+k//afOLxLL36O6t/KMxfIsn/JM11//9V/v6djuNDgCAvrgzPKnnsmzzz7b+cvLY489Fm95y1uO3nft2rWdv9h8+9vfniESTvNUBMqzLn7t136t80udv/iLv+iUKo+cl6dildeeH3sr721QnnpantrlRqArUN6noDxltDxSUP7ycWxAdy25TqYi0H2K+m//9m/Hb/zGb3SuqfJ+BuVlXOWXQOX/78przsv//5177rlHS5eXVpS/RJeXfbkR6AqU/38rL+Fat25dnHbaaVFek17+W1XeJ6PcXE+ulV4EXh7Qe7luyi+HyksryktOj72VZyvedtttnZfwuM0sAQF9hsxbQJ8hg658muX/JMprrUo4X7BggYBe2XvQyu/atavz9L0//dM/jTe96U2d0xPQB23K/Tuf2bNnd66n8hfg7q28VrgE9fLyml7+Yty/bh0pu0D55eHv/M7vdN7sq7wG/bvf/W7nWWDlEXS/8Mk+vTz9Ceh5ZtHmTgT0Nk9vCr17ivsUsNz1hALljd/KSyHKu5WWN1vq3jwt2QXTq8DXvva1zlP1yqNT3Vt5lKr8haa8qeA3vvGNeNe73uXlEr2CzvD7lZfRvPvd747Pf/7zRyXKO7SX9zUo7+7ey1NLZzih0z9GoLwnT3lfg3/37/7d0e+Wa6m8/ry8r4rryeXSi4CnuPei5D6TCQjokwkN0L8vbxJXnnZcPlqt3MrTuc4///zOO257k7gBGnTDp1Le4KS8kWB505OHHnpowscTdd/Y65577ul8LEi5ladpXXTRRd4kruFZtL3cCy+8EDt37jzuNMrLI8q1Uj4qq/wFubzhoGup7ZPuT/8f+MAHojwr49g3iSvveVFeslUePe++OVN5g7jy+s5y+/u///vOm1x6k7j+zKhNR/mn//Sfdn65c+zTicsnAJSP7ftf/+t/uZ7aNMxp7PWV3iTup/13qPsmceWTA8o7wZdbeS+E8ik63iRuGoc5jYcW0KcRv9+HLq+3K0/TKh/hUIJ6edfkP/7jP+78Zri8c6kbgRMJlDddKq8NLo+eH/vZ5+Xj1Mq725Zb+QvNgw8+2PlLb/nYrBLoy+3Yp57SJXAigWOf4u5aco1MRaA8lf2tb31r5zWa5XXlf/mXf9l5g7jyRl/lTb3KrbwHxh133HHcx6x973vf8zFrU4GeIfctn3n+Z3/2Z52/I5WnuJc3F/y3//bfxr/5N//m6HupuJ5myMUwxdMsn0xS3kC33MpHP5aXRZT34ClvhloeCOvluikfs/Z//s//6byHRvdj1spLeHzM2hSHMSB3F9AHZJC9nkb5iLXy+qof/ehHnXex/YM/+IPOZ6K7EXglgfLb4BPdyqMK5S805XbgwIHOI1Tlkc/yZnHlnZXLR2idc845YAn8VIGXB3TXkgtmKgJ/8id/0nkTr/L55+WlN+UN47rv4l7qlEfRb7nllk5oL29u+fa3v73z36byLt1uBI4VKM/w+djHPtZ5ttiePXs6H231/ve/P37v934vyvsduJ5cL68kUJ5dWAL5y2/lQbHywEUv/x36u7/7u84zWu+///7OS77KMxLL39Ff85rXgJ+BAgL6DBy6UyZAgAABAgQIECBAgACBfAICer5ELR1bAAADqElEQVSZ6IgAAQIECBAgQIAAAQIEZqCAgD4Dh+6UCRAgQIAAAQIECBAgQCCfgICebyY6IkCAAAECBAgQIECAAIEZKCCgz8ChO2UCBAgQIECAAAECBAgQyCcgoOebiY4IECBAgAABAgQIECBAYAYKCOgzcOhOmQABAgQIECBA4P9vv45pAAAAEIb5d42NJdQBlAsCBAgQ6Ak46L1NJCJAgAABAgQIECBAgACBQwEH/XB0lQkQIECAAAECBAgQIECgJ+Cg9zaRiAABAgQIECBAgAABAgQOBRz0w9FVJkCAAAECBAgQIECAAIGegIPe20QiAgQIECBAgAABAgQIEDgUcNAPR1eZAAECBAgQIECAAAECBHoCDnpvE4kIECBAgAABAgQIECBA4FDAQT8cXWUCBAgQIECAAAECBAgQ6Ak46L1NJCJAgAABAgQIECBAgACBQwEH/XB0lQkQIECAAAECBAgQIECgJ+Cg9zaRiAABAgQIECBAgAABAgQOBRz0w9FVJkCAAAECBAgQIECAAIGegIPe20QiAgQIECBAgAABAgQIEDgUcNAPR1eZAAECBAgQIECAAAECBHoCDnpvE4kIECBAgAABAgQIECBA4FDAQT8cXWUCBAgQIECAAAECBAgQ6Ak46L1NJCJAgAABAgQIECBAgACBQwEH/XB0lQkQIECAAAECBAgQIECgJ+Cg9zaRiAABAgQIECBAgAABAgQOBRz0w9FVJkCAAAECBAgQIECAAIGegIPe20QiAgQIECBAgAABAgQIEDgUcNAPR1eZAAECBAgQIECAAAECBHoCDnpvE4kIECBAgAABAgQIECBA4FDAQT8cXWUCBAgQIECAAAECBAgQ6Ak46L1NJCJAgAABAgQIECBAgACBQwEH/XB0lQkQIECAAAECBAgQIECgJ+Cg9zaRiAABAgQIECBAgAABAgQOBRz0w9FVJkCAAAECBAgQIECAAIGegIPe20QiAgQIECBAgAABAgQIEDgUcNAPR1eZAAECBAgQIECAAAECBHoCDnpvE4kIECBAgAABAgQIECBA4FDAQT8cXWUCBAgQIECAAAECBAgQ6Ak46L1NJCJAgAABAgQIECBAgACBQwEH/XB0lQkQIECAAAECBAgQIECgJ+Cg9zaRiAABAgQIECBAgAABAgQOBRz0w9FVJkCAAAECBAgQIECAAIGegIPe20QiAgQIECBAgAABAgQIEDgUcNAPR1eZAAECBAgQIECAAAECBHoCA9wUXaseSSLuAAAAAElFTkSuQmCC\" width=\"1000\">"
      ],
      "text/plain": [
       "<IPython.core.display.HTML object>"
      ]
     },
     "metadata": {},
     "output_type": "display_data"
    },
    {
     "data": {
      "application/vnd.jupyter.widget-view+json": {
       "model_id": "b59518f1d06f461db67170bd56bb6775",
       "version_major": 2,
       "version_minor": 0
      },
      "text/plain": [
       "interactive(children=(SelectionSlider(description='ts', index=7471, options=(1525010676848, 1525010676888, 152…"
      ]
     },
     "metadata": {},
     "output_type": "display_data"
    }
   ],
   "source": [
    "timestamps_list = sorted(list(timestamps))\n",
    "kickoff_time_ind = np.argmin(np.abs(np.subtract(timestamps_list, kickoff_time)))\n",
    "kickoff_time_matched = timestamps_list[kickoff_time_ind]\n",
    "print(kickoff_time, kickoff_time_matched)\n",
    "\n",
    "%matplotlib notebook\n",
    "\n",
    "fig = plt.figure(figsize=(10,6))\n",
    "ax = fig.add_subplot(1, 1, 1)\n",
    "left, = plt.plot([], '*r')\n",
    "right, = plt.plot([], '*r')\n",
    "\n",
    "left_b, = plt.plot([], 'ob')\n",
    "right_b, = plt.plot([], 'ob')\n",
    "\n",
    "plt.xlim([0, 105])\n",
    "plt.ylim([0, 68])\n",
    "\n",
    "def update(ts=kickoff_time_matched):\n",
    "    if ts in detections['players']['left']:\n",
    "        left.set_ydata(detections['players']['left'][ts][:, 1])\n",
    "        left.set_xdata(detections['players']['left'][ts][:, 0])\n",
    "    else:\n",
    "        left.set_ydata([])\n",
    "        left.set_xdata([])\n",
    "        \n",
    "    if ts in detections['players']['right']:\n",
    "        right.set_ydata(detections['players']['right'][ts][:, 1])\n",
    "        right.set_xdata(detections['players']['right'][ts][:, 0])\n",
    "    else:\n",
    "        right.set_ydata([])\n",
    "        right.set_xdata([])\n",
    "\n",
    "    if ts in detections['ball']['left'] and len(detections['ball']['left'][ts]):\n",
    "        left_b.set_ydata(detections['ball']['left'][ts][:, 1])\n",
    "        left_b.set_xdata(detections['ball']['left'][ts][:, 0])\n",
    "    else:\n",
    "        left_b.set_ydata([])\n",
    "        left_b.set_xdata([])        \n",
    "    if ts in detections['ball']['right'] and len(detections['ball']['right'][ts]):\n",
    "        right_b.set_ydata(detections['ball']['right'][ts][:, 1])\n",
    "        right_b.set_xdata(detections['ball']['right'][ts][:, 0])\n",
    "    else:\n",
    "        right_b.set_ydata([])\n",
    "        right_b.set_xdata([])\n",
    "    \n",
    "    \n",
    "wid = widgets.SelectionSlider(\n",
    "    options=timestamps_list,\n",
    "    value=kickoff_time_matched,\n",
    "    continuous_update=True,\n",
    "    orientation='horizontal',\n",
    "    readout=True\n",
    ")\n",
    "    \n",
    "interact(update, ts = wid);"
   ]
  },
  {
   "cell_type": "code",
   "execution_count": 11,
   "metadata": {},
   "outputs": [],
   "source": [
    "# {'id': 'd1a98e08-0f21-46fe-8457-01ff183ddbeb', 'calibration': {'views': ['left', 'right'], 'reference_landmarks': {'object': 'calibrations/tele2_landmarks.json', 'bucket': 'signality.ironfist.models'}}, 'replay_urls': ['//liveplay.signality.com/data/d1a98e08-0f21-46fe-8457-01ff183ddbeb_phase1.data', '//liveplay.signality.com/data/d1a98e08-0f21-46fe-8457-01ff183ddbeb_phase2.data'], 'camera_mode': 'static', 'away_team': {'colors': {'team': '#000000', 'goalkeeper': '#ffff00'}, 'logo_url': 'http://images.signality.com/team-logos/orebro.png', 'name': 'Örebro SK'}, 'phase_events': [{'type': 'start_phase', 'ts': datetime.datetime(2018, 5, 17, 17, 0, 2, 362000, tzinfo=<rethinkdb.ast.RqlTzinfo object at 0x7f4d1c61e4e0>), 'kickoff_team_id': 12, 'phase': 1}, {'type': 'end_phase', 'ts': datetime.datetime(2018, 5, 17, 17, 47, 7, 92000, tzinfo=<rethinkdb.ast.RqlTzinfo object at 0x7f4d1c61e518>), 'phase': 1}, {'type': 'start_phase', 'ts': datetime.datetime(2018, 5, 17, 18, 4, 2, 891000, tzinfo=<rethinkdb.ast.RqlTzinfo object at 0x7f4d1c61e630>), 'kickoff_team_id': 11, 'phase': 2}, {'type': 'end_phase', 'ts': datetime.datetime(2018, 5, 17, 18, 52, 6, 565000, tzinfo=<rethinkdb.ast.RqlTzinfo object at 0x7f4d1c61e6a0>), 'phase': 2}], 'start_time': datetime.datetime(2018, 5, 17, 19, 0, tzinfo=<rethinkdb.ast.RqlTzinfo object at 0x7f4d1c61e780>), 'state': 'Destroyed', 'external_data': {'smc': {'match_id': 3704, 'home_team_id': 11, 'league_id': 12, 'away_team_id': 12}}, 'streams': {'left': {'url': 'https://d35u71x3nb8v2y.cloudfront.net/f75295bb-c143-4472-a151-d849f9916e75/ca074983-09a2-451f-8730-90efa6701dc8/playlist.m3u8', 'utc': datetime.datetime(2018, 5, 17, 16, 45, 41, 197000, tzinfo=<rethinkdb.ast.RqlTzinfo object at 0x7f4d1c61e9e8>)}, 'autofollow_render_segments': {'url': 'https://d35u71x3nb8v2y.cloudfront.net/f75295bb-c143-4472-a151-d849f9916e75/d890161e-59fa-4f39-9758-b9d5b10357af/playlist.m3u8', 'utc': datetime.datetime(2018, 5, 17, 16, 45, 41, 197000, tzinfo=<rethinkdb.ast.RqlTzinfo object at 0x7f4d1c61e9b0>)}, 'virtual_panorama_segments': {'url': 'https://d35u71x3nb8v2y.cloudfront.net/f75295bb-c143-4472-a151-d849f9916e75/b5e093f3-f8e7-4643-a87a-d9a76256a735/playlist.m3u8', 'utc': datetime.datetime(2018, 5, 17, 16, 45, 41, 197000, tzinfo=<rethinkdb.ast.RqlTzinfo object at 0x7f4d1c61ec88>)}, 'goal_south_segments': {'url': 'https://d35u71x3nb8v2y.cloudfront.net/f75295bb-c143-4472-a151-d849f9916e75/c841f705-de34-4428-b56e-7c9803ab4eca/playlist.m3u8', 'utc': datetime.datetime(2018, 5, 17, 16, 45, 41, 143000, tzinfo=<rethinkdb.ast.RqlTzinfo object at 0x7f4d1c61eac8>)}, 'right': {'url': 'https://d35u71x3nb8v2y.cloudfront.net/f75295bb-c143-4472-a151-d849f9916e75/d8112841-7cf8-48ae-89ce-f327c282916c/playlist.m3u8', 'utc': datetime.datetime(2018, 5, 17, 16, 45, 41, 124000, tzinfo=<rethinkdb.ast.RqlTzinfo object at 0x7f4d1c61ea20>)}, 'goal_north_segments': {'url': 'https://d35u71x3nb8v2y.cloudfront.net/f75295bb-c143-4472-a151-d849f9916e75/9a7b8e83-dbc0-436b-a116-7f8d085057c2/playlist.m3u8', 'utc': datetime.datetime(2018, 5, 17, 16, 45, 41, 141000, tzinfo=<rethinkdb.ast.RqlTzinfo object at 0x7f4d1c61ea58>)}}, 'pitch_size': [105, 68], 'home_team': {'colors': {'team': '#5a9dde', 'goalkeeper': '#ffffff'}, 'logo_url': 'http://images.signality.com/team-logos/djurgarden.png', 'name': 'Djurgårdens IF'}, 'referees': {'colors': '#000000'}, 'competition': 'Allsvenskan', 'redis': {'host': 'redis', 'port': 6379}, 'rethinkdb': {'host': 'db.signality.com', 'user': 'game_viewer', 'db': 'livetrack', 'ssl': {'ca_certs': '/home/ubuntu/workspace/ironfist/ironfist/utils/../applications/livetrack/config/db.signality.cert.pem'}, 'password': 'MmPHrqmXaVeu', 'port': 28015}, 'nchan': {'url': 'http://nchan:8080'}, 'arena': 'Tele2 Arena', 'stats': [{'home_team': {'failed_passes': 163, 'possessing_team': 0, 'passes': 181, 'distance': 62777.64480394193, 'possession': 25067, 'packing': 260}, 'source': 'signality', 'phase': 1, 'away_team': {'failed_passes': 163, 'possessing_team': 1, 'passes': 191, 'distance': 60097.76136929008, 'possession': 23934, 'packing': 252}, 'utc_time': 1526579225125, 'match_time': 2822763}, {'home_team': {'failed_passes': 157, 'possessing_team': 0, 'passes': 147, 'distance': 62576.815733754884, 'possession': 20009, 'packing': 196}, 'source': 'signality', 'phase': 2, 'away_team': {'failed_passes': 158, 'possessing_team': 1, 'passes': 206, 'distance': 57684.92804763888, 'possession': 28384, 'packing': 240}, 'utc_time': 1526583124565, 'match_time': 2881674}], 'video_shape': [2160, 3840, 3], 'rdb': [{'key': '20180517.djurgårdens-if-örebro-sk.2.rdb', 'bucket': 'signality.soccer.backup', 'phase': 2}]}"
   ]
  },
  {
   "cell_type": "code",
   "execution_count": 12,
   "metadata": {},
   "outputs": [],
   "source": [
    "def select_time(time_list,detections):\n",
    "    l=list()\n",
    "    truth_list=list()\n",
    "    for i in range(len(time_list)):\n",
    "        truth_list.append(True)\n",
    "        if time_list[i] in detections['players']['left'] and time_list[i] in detections['players']['right']:\n",
    "            l.append([time_list[i],time_list[i]])\n",
    "            truth_list[i]=False\n",
    "        if i>0:\n",
    "            if time_list[i-1] in detections['players']['left'] and time_list[i] in detections['players']['right'] and truth_list[i] and truth_list[i-1] and time_list[i]-time_list[i-1]<=20:\n",
    "                l.append([time_list[i-1],time_list[i]])\n",
    "                truth_list[i]=False\n",
    "            if time_list[i] in detections['players']['left'] and time_list[i-1] in detections['players']['right'] and truth_list[i] and truth_list[i-1] and time_list[i]-time_list[i-1]<=20:\n",
    "                l.append([time_list[i],time_list[i-1]])\n",
    "                truth_list[i]=False\n",
    "    return l\n",
    "\n",
    "l=select_time(timestamps_list,detections)"
   ]
  },
  {
   "cell_type": "code",
   "execution_count": 13,
   "metadata": {},
   "outputs": [],
   "source": [
    "def players_grid(pitch_size,players):\n",
    "    grid=[0 for i in range(32)]\n",
    "    length=pitch_size[0]\n",
    "    width=pitch_size[1]\n",
    "    length_edge=length/8\n",
    "    width_edge=width/4\n",
    "    for i in range(len(players)):\n",
    "        k=0\n",
    "        j=0\n",
    "        if players[i][0]<=length and players[i][1]<=width and players[i][0]>=0 and players[i][1]>=0 :\n",
    "            while players[i][0]>(k+1)*length_edge:\n",
    "                k+=1\n",
    "            while players[i][1]>(j+1)*width_edge:\n",
    "                j+=1\n",
    "            grid[8*j+k]+=1\n",
    "    return grid\n",
    "\n",
    "def ball_grid(pitch_size,ball):\n",
    "    grid=[0 for i in range(35)]\n",
    "    length=pitch_size[0]\n",
    "    width=pitch_size[1]\n",
    "    length_edge=length/7\n",
    "    width_edge=width/5\n",
    "    for i in range(len(ball)):\n",
    "        k=0\n",
    "        j=0\n",
    "        if ball[i][0]<=length and ball[i][1]<=width and ball[i][0]>=0 and ball[i][1]>=0:\n",
    "            while ball[i][0]>(k+1)*length_edge:\n",
    "                k+=1\n",
    "            while ball[i][1]>(j+1)*width_edge:\n",
    "                j+=1\n",
    "            grid[7*j+k]+=1\n",
    "    return grid"
   ]
  },
  {
   "cell_type": "code",
   "execution_count": 14,
   "metadata": {},
   "outputs": [],
   "source": [
    "def pitch_composition_t(time,detections,pitch_size):\n",
    "    compo=list()\n",
    "    if isinstance(detections['ball']['left'][time[0]],list):\n",
    "        compo=compo+ball_grid(pitch_size,detections['ball']['left'][time[0]])\n",
    "    if isinstance(detections['ball']['left'][time[0]],np.ndarray):\n",
    "        compo=compo+ball_grid(pitch_size,detections['ball']['left'][time[0]].tolist())\n",
    "        \n",
    "    if isinstance(detections['ball']['right'][time[1]],list):\n",
    "        compo=compo+ball_grid(pitch_size,detections['ball']['right'][time[1]])\n",
    "    if isinstance(detections['ball']['right'][time[1]],np.ndarray):\n",
    "        compo=compo+ball_grid(pitch_size,detections['ball']['right'][time[1]].tolist())\n",
    "    \n",
    "    if isinstance(detections['players']['left'][time[0]],list):\n",
    "        compo=compo+players_grid(pitch_size,detections['players']['left'][time[0]])\n",
    "    if isinstance(detections['players']['left'][time[0]],np.ndarray):\n",
    "        compo=compo+players_grid(pitch_size,detections['players']['left'][time[0]].tolist())\n",
    "        \n",
    "    if isinstance(detections['players']['right'][time[1]],list):\n",
    "        compo=compo+players_grid(pitch_size,detections['players']['right'][time[1]])\n",
    "    if isinstance(detections['players']['right'][time[1]],np.ndarray):\n",
    "        compo=compo+players_grid(pitch_size,detections['players']['right'][time[1]].tolist())\n",
    "    return compo\n",
    "    \n",
    "def pitch_composition(time_list,detections,pitch_size):\n",
    "    l=select_time(time_list,detections)\n",
    "    seq=list()\n",
    "    for i in range(len(l)):\n",
    "        seq.append(pitch_composition_t(l[i],detections,pitch_size))\n",
    "    return seq\n"
   ]
  },
  {
   "cell_type": "code",
   "execution_count": 15,
   "metadata": {},
   "outputs": [],
   "source": [
    "def movement_sequences(inputs,outputs):\n",
    "    inputs=np.array(inputs)\n",
    "    new_inputs=list()\n",
    "    new_outputs=list()\n",
    "    for i in range(len(outputs)-2):\n",
    "        new_inputs.append(inputs[i+1].tolist()+(inputs[i+2]-inputs[i]).tolist()+(inputs[i+1]-inputs[i]).tolist())\n",
    "        new_outputs.append(outputs[i+1])\n",
    "    return new_inputs,new_outputs\n",
    "\n",
    "def sequence_composition(time_list,detections,pitch_size,size_sequence,diminish_size):\n",
    "    sequences=list()\n",
    "    pitch_compo=pitch_composition(time_list,detections,pitch_size)\n",
    "    for i in range(0,len(pitch_compo)-size_sequence+1,diminish_size):\n",
    "        seq_t=list()\n",
    "        for j in range(0,size_sequence,diminish_size):\n",
    "            seq_t=seq_t+pitch_compo[i+j]\n",
    "        sequences.append(seq_t)\n",
    "    return sequences\n",
    "\n"
   ]
  },
  {
   "cell_type": "code",
   "execution_count": 16,
   "metadata": {},
   "outputs": [
    {
     "name": "stdout",
     "output_type": "stream",
     "text": [
      "17\n"
     ]
    },
    {
     "data": {
      "text/plain": [
       "17"
      ]
     },
     "execution_count": 16,
     "metadata": {},
     "output_type": "execute_result"
    }
   ],
   "source": [
    "def labels(time_list,detections,pitch_size,size_sequence,diminish_size,kickoff_time):\n",
    "    l=select_time(time_list,detections)\n",
    "    y=list()\n",
    "    for i in range(0,len(l)-size_sequence+1,diminish_size):\n",
    "        if max(l[i][0],l[i][1])+1500<=kickoff_time and kickoff_time+2000<=min(l[i+size_sequence-1][0],l[i+size_sequence-1][1]):\n",
    "            y.append(1)\n",
    "        else:\n",
    "            y.append(-1)\n",
    "    return y\n",
    "\n",
    "def reduce_size(X,Y,reduc_size):\n",
    "    compteur=0\n",
    "    new_X=list()\n",
    "    new_Y=list()\n",
    "    for i in range(len(X)):\n",
    "        if Y[i]==1:\n",
    "            new_Y.append(1)\n",
    "            new_X.append(X[i])\n",
    "            compteur=0\n",
    "        if Y[i]==-1:\n",
    "            compteur+=1\n",
    "        if compteur>=reduc_size:\n",
    "            compteur=0\n",
    "            new_Y.append(Y[i])\n",
    "            new_X.append(X[i])\n",
    "    return new_X,new_Y\n",
    "X=sequence_composition(timestamps_list,detections,pitch_size,500,25)\n",
    "Y=labels(timestamps_list,detections,pitch_size,500,25,kickoff_time_matched)\n",
    "print(Y.count(1))\n",
    "X,Y=movement_sequences(X,Y)\n",
    "X,Y=reduce_size(X,Y,10)\n",
    "Y.count(1)\n"
   ]
  },
  {
   "cell_type": "code",
   "execution_count": 18,
   "metadata": {},
   "outputs": [],
   "source": [
    "import pickle\n",
    "import glob"
   ]
  },
  {
   "cell_type": "code",
   "execution_count": 19,
   "metadata": {},
   "outputs": [],
   "source": [
    "def create_dataset(tracks_name,config_name,file_name,reduc_size,problem=1):\n",
    "    compteur=0\n",
    "    path_to_rdbs = '../kickoff-detection-data/*.rdb'\n",
    "    for rdb_file in glob.glob(path_to_rdbs):\n",
    "        #Import data\n",
    "        game_half = rdb_file.rstrip('.kickoff.rdb')\n",
    "        phase = game_half.split('.')[-1]\n",
    "        tracks = parse_dump_file('{}.kickoff.rdb'.format(game_half))\n",
    "        config = json.load(open('..{}.json'.format(game_half.split('.')[-2]), 'r'))\n",
    "        print('..{}.json'.format(game_half.split('.')[-2]))\n",
    "        print(config['phase_events'])\n",
    "        kickoff_1 = [p_e['ts'] for p_e in config['phase_events'] if p_e['type'] == 'start_phase' and p_e['phase'] == int(phase)][0]\n",
    "        kickoff_time = int(parse(kickoff_1).timestamp()*1000)\n",
    "        pitch_size=config['pitch_size']\n",
    "        detections = {'ball':{'left':{}, 'right':{}}, 'players':{'left':{}, 'right':{}}}\n",
    "        timestamps = set()\n",
    "        for (fd_left, ts_left), (fd_right, ts_right) in tqdm(zip(tracks['left'], tracks['right'])):\n",
    "            fd_left = pickle.loads(fd_left)\n",
    "            fd_right = pickle.loads(fd_right)\n",
    "            if np.abs(ts_left - ts_right) < 100:\n",
    "                ts_left = ts_right\n",
    "            timestamps.update({ts_left, ts_right})\n",
    "            detections['players']['left'][ts_left] = fd_left.top_view_player_positions\n",
    "            detections['players']['right'][ts_right] = fd_right.top_view_player_positions\n",
    "            detections['ball']['left'][ts_left] = np.array([bp for bp, bd in zip(fd_left.top_view_ball_positions, fd_left.ball_detections) if ball_ok(bp, bd)])\n",
    "            detections['ball']['right'][ts_right] = np.array([bp for bp, bd in zip(fd_right.top_view_ball_positions, fd_right.ball_detections) if ball_ok(bp, bd)])\n",
    "        timestamps_list = sorted(list(timestamps))\n",
    "        kickoff_time_ind = np.argmin(np.abs(np.subtract(timestamps_list, kickoff_time)))\n",
    "        kickoff_time_matched = timestamps_list[kickoff_time_ind]\n",
    "        \n",
    "        #Create inputs\n",
    "        X=sequence_composition(timestamps_list,detections,pitch_size,500,25)\n",
    "        Y=labels(timestamps_list,detections,pitch_size,500,25,kickoff_time_matched)\n",
    "        print(len(X[0]))\n",
    "        X,Y=movement_sequences(X,Y)\n",
    "        print(Y.count(1))\n",
    "        X,Y=reduce_size(X,Y,reduc_size)\n",
    "        if problem==2:\n",
    "            indices_kickoff=sequence_kickoff_time(Y)\n",
    "            X1=X[indices_kickoff[0]:indices_kickoff[-1]+1]\n",
    "            Y1=Y[indices_kickoff[0]:indices_kickoff[-1]+1]\n",
    "            X=X1\n",
    "            Y=Y1\n",
    "        print(len(X[0]),len(Y))\n",
    "        print(Y.count(1))\n",
    "        \n",
    "        #Create file\n",
    "        add_data=True\n",
    "        if Y.count(1)>0 and compteur==0:\n",
    "            with open(file_name, 'wb') as f:\n",
    "                # Pickle the 'data' dictionary using the highest protocol available.\n",
    "                pickle.dump([X,Y], f)\n",
    "                compteur+=1\n",
    "                add_data=False\n",
    "        if Y.count(1)>0 and add_data:\n",
    "            with open(file_name, 'ab') as f:\n",
    "                # Pickle the 'data' dictionary using the highest protocol available.\n",
    "                pickle.dump([X,Y], f)\n",
    "                compteur+=1\n",
    "                print(compteur)\n",
    "            \n",
    "        "
   ]
  },
  {
   "cell_type": "code",
   "execution_count": 412,
   "metadata": {},
   "outputs": [
    {
     "name": "stderr",
     "output_type": "stream",
     "text": [
      "774it [00:00, 3889.49it/s]"
     ]
    },
    {
     "name": "stdout",
     "output_type": "stream",
     "text": [
      "Parsed ../kickoff-detection-data/24978380-482e-4ba4-a124-5142d43f8c91.2.kickoff.rdb in 0.62 s.\n",
      "Contains keys: dict_keys(['right', 'left'])\n",
      "[right] start_ts: 1527184564976 | stop_ts: 1527184864816\n",
      "[left] start_ts: 1527184568814 | stop_ts: 1527184864734\n",
      "../kickoff-detection-data/24978380-482e-4ba4-a124-5142d43f8c91.json\n",
      "[{'phase': 1, 'type': 'start_phase', 'ts': '2018-05-24T17:00:00.628Z', 'kickoff_team_id': 14}, {'phase': 1, 'type': 'end_phase', 'ts': '2018-05-24T17:45:58.124Z'}, {'phase': 2, 'type': 'start_phase', 'ts': '2018-05-24T18:01:04.269Z', 'kickoff_team_id': 15}, {'phase': 2, 'type': 'end_phase', 'ts': '2018-05-24T18:49:34.388Z'}]\n"
     ]
    },
    {
     "name": "stderr",
     "output_type": "stream",
     "text": [
      "7398it [00:02, 3463.00it/s]\n"
     ]
    },
    {
     "name": "stdout",
     "output_type": "stream",
     "text": [
      "2680\n",
      "0\n",
      "8040 27\n",
      "0\n"
     ]
    },
    {
     "name": "stderr",
     "output_type": "stream",
     "text": [
      "787it [00:00, 3866.01it/s]"
     ]
    },
    {
     "name": "stdout",
     "output_type": "stream",
     "text": [
      "Parsed ../kickoff-detection-data/e0646790-9750-47eb-85ac-a7065fbcd4dd.2.kickoff.rdb in 0.60 s.\n",
      "Contains keys: dict_keys(['right', 'left'])\n",
      "[right] start_ts: 1524414577904 | stop_ts: 1524414874304\n",
      "[left] start_ts: 1524414578448 | stop_ts: 1524414874608\n",
      "../kickoff-detection-data/e0646790-9750-47eb-85ac-a7065fbcd4dd.json\n",
      "[{'phase': 1, 'type': 'start_phase', 'ts': '2018-04-22T15:29:51.323Z', 'kickoff_team_id': 6}, {'phase': 1, 'type': 'end_phase', 'ts': '2018-04-22T16:18:51.239Z'}, {'phase': 2, 'type': 'start_phase', 'ts': '2018-04-22T16:34:34.675Z', 'kickoff_team_id': 10}, {'phase': 2, 'type': 'end_phase', 'ts': '2018-04-22T17:22:35.491Z'}]\n"
     ]
    },
    {
     "name": "stderr",
     "output_type": "stream",
     "text": [
      "7405it [00:02, 2778.26it/s]\n"
     ]
    },
    {
     "name": "stdout",
     "output_type": "stream",
     "text": [
      "2680\n",
      "0\n",
      "8040 27\n",
      "0\n"
     ]
    },
    {
     "name": "stderr",
     "output_type": "stream",
     "text": [
      "792it [00:00, 4088.84it/s]"
     ]
    },
    {
     "name": "stdout",
     "output_type": "stream",
     "text": [
      "Parsed ../kickoff-detection-data/bff5f37c-be85-4f08-b6d4-a01e6c22fe0e.1.kickoff.rdb in 1.65 s.\n",
      "Contains keys: dict_keys(['right', 'left'])\n",
      "[right] start_ts: 1523984147529 | stop_ts: 1523984746449\n",
      "[left] start_ts: 1523984148353 | stop_ts: 1523984746873\n",
      "../kickoff-detection-data/bff5f37c-be85-4f08-b6d4-a01e6c22fe0e.json\n",
      "[{'phase': 1, 'type': 'start_phase', 'ts': '2018-04-17T17:00:46.604Z', 'kickoff_team_id': 14}, {'phase': 1, 'type': 'end_phase', 'ts': '2018-04-17T17:45:52.314Z'}, {'phase': 2, 'type': 'start_phase', 'ts': '2018-04-17T18:00:53.147Z', 'kickoff_team_id': 3}, {'phase': 2, 'type': 'end_phase', 'ts': '2018-04-17T18:51:00.072Z'}]\n"
     ]
    },
    {
     "name": "stderr",
     "output_type": "stream",
     "text": [
      "14964it [00:07, 1955.96it/s]\n"
     ]
    },
    {
     "name": "stdout",
     "output_type": "stream",
     "text": [
      "2680\n",
      "16\n",
      "8040 72\n",
      "16\n"
     ]
    },
    {
     "name": "stderr",
     "output_type": "stream",
     "text": [
      "249it [00:00, 2482.77it/s]"
     ]
    },
    {
     "name": "stdout",
     "output_type": "stream",
     "text": [
      "Parsed ../kickoff-detection-data/41c3f1b3-a868-459b-9766-760be49947b2.1.kickoff.rdb in 1.94 s.\n",
      "Contains keys: dict_keys(['right', 'left'])\n",
      "[right] start_ts: 1526316922561 | stop_ts: 1526317521441\n",
      "[left] start_ts: 1526316922655 | stop_ts: 1526317521455\n",
      "../kickoff-detection-data/41c3f1b3-a868-459b-9766-760be49947b2.json\n",
      "[{'phase': 1, 'type': 'start_phase', 'ts': '2018-05-14T17:00:21.871Z', 'kickoff_team_id': 9}, {'phase': 1, 'type': 'end_phase', 'ts': '2018-05-14T17:46:22.241Z'}, {'phase': 2, 'type': 'start_phase', 'ts': '2018-05-14T18:01:26.755Z', 'kickoff_team_id': 1}, {'phase': 2, 'type': 'end_phase', 'ts': '2018-05-14T18:49:29.553Z'}]\n"
     ]
    },
    {
     "name": "stderr",
     "output_type": "stream",
     "text": [
      "14972it [00:07, 1964.52it/s]\n"
     ]
    },
    {
     "name": "stdout",
     "output_type": "stream",
     "text": [
      "2680\n",
      "16\n",
      "8040 72\n",
      "16\n",
      "2\n"
     ]
    },
    {
     "name": "stderr",
     "output_type": "stream",
     "text": [
      "351it [00:00, 3508.46it/s]"
     ]
    },
    {
     "name": "stdout",
     "output_type": "stream",
     "text": [
      "Parsed ../kickoff-detection-data/aadecf3a-0d92-4ace-b643-ced44474e157.2.kickoff.rdb in 0.72 s.\n",
      "Contains keys: dict_keys(['right', 'left'])\n",
      "[right] start_ts: 1524160591665 | stop_ts: 1524160889465\n",
      "[left] start_ts: 1524160591139 | stop_ts: 1524160889179\n",
      "../kickoff-detection-data/aadecf3a-0d92-4ace-b643-ced44474e157.json\n",
      "[{'phase': 1, 'type': 'start_phase', 'ts': '2018-04-19T17:00:01.137Z', 'kickoff_team_id': 15}, {'phase': 1, 'type': 'end_phase', 'ts': '2018-04-19T17:46:04.420Z'}, {'phase': 2, 'type': 'start_phase', 'ts': '2018-04-19T18:01:29.369Z', 'kickoff_team_id': 7}, {'phase': 2, 'type': 'end_phase', 'ts': '2018-04-19T18:49:42.844Z'}]\n"
     ]
    },
    {
     "name": "stderr",
     "output_type": "stream",
     "text": [
      "7446it [00:02, 2843.94it/s]\n"
     ]
    },
    {
     "name": "stdout",
     "output_type": "stream",
     "text": [
      "2680\n",
      "0\n",
      "8040 27\n",
      "0\n"
     ]
    },
    {
     "name": "stderr",
     "output_type": "stream",
     "text": [
      "278it [00:00, 2779.11it/s]"
     ]
    },
    {
     "name": "stdout",
     "output_type": "stream",
     "text": [
      "Parsed ../kickoff-detection-data/24978380-482e-4ba4-a124-5142d43f8c91.1.kickoff.rdb in 1.24 s.\n",
      "Contains keys: dict_keys(['right', 'left'])\n",
      "[right] start_ts: 1527180900976 | stop_ts: 1527181200816\n",
      "[left] start_ts: 1527180904814 | stop_ts: 1527181200734\n",
      "../kickoff-detection-data/24978380-482e-4ba4-a124-5142d43f8c91.json\n",
      "[{'phase': 1, 'type': 'start_phase', 'ts': '2018-05-24T17:00:00.628Z', 'kickoff_team_id': 14}, {'phase': 1, 'type': 'end_phase', 'ts': '2018-05-24T17:45:58.124Z'}, {'phase': 2, 'type': 'start_phase', 'ts': '2018-05-24T18:01:04.269Z', 'kickoff_team_id': 15}, {'phase': 2, 'type': 'end_phase', 'ts': '2018-05-24T18:49:34.388Z'}]\n"
     ]
    },
    {
     "name": "stderr",
     "output_type": "stream",
     "text": [
      "7399it [00:03, 1901.81it/s]\n"
     ]
    },
    {
     "name": "stdout",
     "output_type": "stream",
     "text": [
      "2680\n",
      "0\n",
      "8040 27\n",
      "0\n"
     ]
    },
    {
     "name": "stderr",
     "output_type": "stream",
     "text": [
      "477it [00:00, 2357.85it/s]"
     ]
    },
    {
     "name": "stdout",
     "output_type": "stream",
     "text": [
      "Parsed ../kickoff-detection-data/f9f01fbf-6871-4303-b43f-29c2dd16909d.1.kickoff.rdb in 2.66 s.\n",
      "Contains keys: dict_keys(['right', 'left'])\n",
      "[right] start_ts: 1522673702216 | stop_ts: 1522674302096\n",
      "[left] start_ts: 1522673702294 | stop_ts: 1522674302134\n",
      "../kickoff-detection-data/f9f01fbf-6871-4303-b43f-29c2dd16909d.json\n",
      "[{'phase': 1, 'type': 'start_phase', 'ts': '2018-04-02T13:00:02.978Z', 'kickoff_team_id': 15}, {'phase': 1, 'type': 'end_phase', 'ts': '2018-04-02T13:47:02.983Z'}, {'phase': 2, 'type': 'start_phase', 'ts': '2018-04-02T14:02:01.386Z', 'kickoff_team_id': 4}, {'phase': 2, 'type': 'end_phase', 'ts': '2018-04-02T14:50:07.639Z'}]\n"
     ]
    },
    {
     "name": "stderr",
     "output_type": "stream",
     "text": [
      "14996it [00:08, 1848.60it/s]\n"
     ]
    },
    {
     "name": "stdout",
     "output_type": "stream",
     "text": [
      "2680\n",
      "17\n",
      "8040 72\n",
      "17\n",
      "3\n"
     ]
    },
    {
     "name": "stderr",
     "output_type": "stream",
     "text": [
      "219it [00:00, 1093.46it/s]"
     ]
    },
    {
     "name": "stdout",
     "output_type": "stream",
     "text": [
      "Parsed ../kickoff-detection-data/c0b1883d-4420-48aa-9805-9318a20e56ae.1.kickoff.rdb in 3.04 s.\n",
      "Contains keys: dict_keys(['right', 'left'])\n",
      "[right] start_ts: 1527350105245 | stop_ts: 1527350403085\n",
      "[left] start_ts: 1527350105211 | stop_ts: 1527350403091\n",
      "../kickoff-detection-data/c0b1883d-4420-48aa-9805-9318a20e56ae.json\n",
      "[{'phase': 1, 'type': 'start_phase', 'ts': '2018-05-26T16:00:03.259Z', 'kickoff_team_id': 5}, {'phase': 1, 'type': 'end_phase', 'ts': '2018-05-26T16:46:00.357Z'}, {'phase': 2, 'type': 'start_phase', 'ts': '2018-05-26T17:01:25.967Z', 'kickoff_team_id': 13}, {'phase': 2, 'type': 'end_phase', 'ts': '2018-05-26T17:49:27.835Z'}]\n"
     ]
    },
    {
     "name": "stderr",
     "output_type": "stream",
     "text": [
      "7447it [00:06, 1107.66it/s]\n"
     ]
    },
    {
     "name": "stdout",
     "output_type": "stream",
     "text": [
      "2680\n",
      "0\n",
      "8040 27\n",
      "0\n"
     ]
    },
    {
     "name": "stderr",
     "output_type": "stream",
     "text": [
      "544it [00:00, 2668.22it/s]"
     ]
    },
    {
     "name": "stdout",
     "output_type": "stream",
     "text": [
      "Parsed ../kickoff-detection-data/9ab7ccfb-75cb-4756-9eb5-fe8c29de8fcc.1.kickoff.rdb in 0.82 s.\n",
      "Contains keys: dict_keys(['right', 'left'])\n",
      "[right] start_ts: 1525620373530 | stop_ts: 1525620670290\n",
      "[left] start_ts: 1525620373398 | stop_ts: 1525620670238\n",
      "../kickoff-detection-data/9ab7ccfb-75cb-4756-9eb5-fe8c29de8fcc.json\n",
      "[{'phase': 1, 'type': 'start_phase', 'ts': '2018-05-06T15:31:10.100Z', 'kickoff_team_id': 10}, {'phase': 1, 'type': 'end_phase', 'ts': '2018-05-06T16:16:18.200Z'}, {'phase': 2, 'type': 'start_phase', 'ts': '2018-05-06T16:32:05.306Z', 'kickoff_team_id': 7}, {'phase': 2, 'type': 'end_phase', 'ts': '2018-05-06T17:20:08.236Z'}]\n"
     ]
    },
    {
     "name": "stderr",
     "output_type": "stream",
     "text": [
      "7421it [00:02, 3001.39it/s]\n"
     ]
    },
    {
     "name": "stdout",
     "output_type": "stream",
     "text": [
      "2680\n",
      "0\n",
      "8040 27\n",
      "0\n"
     ]
    },
    {
     "name": "stderr",
     "output_type": "stream",
     "text": [
      "717it [00:00, 3642.58it/s]"
     ]
    },
    {
     "name": "stdout",
     "output_type": "stream",
     "text": [
      "Parsed ../kickoff-detection-data/0ad7e9ee-4ff5-4bfa-b2f6-82a1cde04eeb.2.kickoff.rdb in 1.75 s.\n",
      "Contains keys: dict_keys(['right', 'left'])\n",
      "[right] start_ts: 1524414345649 | stop_ts: 1524414944249\n",
      "[left] start_ts: 1524414345139 | stop_ts: 1524414943979\n",
      "../kickoff-detection-data/0ad7e9ee-4ff5-4bfa-b2f6-82a1cde04eeb.json\n",
      "[{'phase': 1, 'type': 'start_phase', 'ts': '2018-04-22T15:30:02.243Z', 'kickoff_team_id': 14}, {'phase': 1, 'type': 'end_phase', 'ts': '2018-04-22T16:15:07.030Z'}, {'phase': 2, 'type': 'start_phase', 'ts': '2018-04-22T16:30:44.239Z', 'kickoff_team_id': 9}, {'phase': 2, 'type': 'end_phase', 'ts': '2018-04-22T17:20:43.958Z'}]\n"
     ]
    },
    {
     "name": "stderr",
     "output_type": "stream",
     "text": [
      "14966it [00:06, 2493.50it/s]\n"
     ]
    },
    {
     "name": "stdout",
     "output_type": "stream",
     "text": [
      "2680\n",
      "16\n",
      "8040 72\n",
      "16\n",
      "4\n"
     ]
    },
    {
     "name": "stderr",
     "output_type": "stream",
     "text": [
      "359it [00:00, 3580.77it/s]"
     ]
    },
    {
     "name": "stdout",
     "output_type": "stream",
     "text": [
      "Parsed ../kickoff-detection-data/6e26f66b-a921-4919-9d7d-1bd59f935e78.2.kickoff.rdb in 1.76 s.\n",
      "Contains keys: dict_keys(['right', 'left'])\n",
      "[right] start_ts: 1523642362979 | stop_ts: 1523642961819\n",
      "[left] start_ts: 1523642363613 | stop_ts: 1523642962133\n",
      "../kickoff-detection-data/6e26f66b-a921-4919-9d7d-1bd59f935e78.json\n",
      "[{'phase': 1, 'type': 'start_phase', 'ts': '2018-04-13T17:01:26.037Z', 'kickoff_team_id': 3}, {'phase': 1, 'type': 'end_phase', 'ts': '2018-04-13T17:48:25.115Z'}, {'phase': 2, 'type': 'start_phase', 'ts': '2018-04-13T18:04:22.102Z', 'kickoff_team_id': 8}, {'phase': 2, 'type': 'end_phase', 'ts': '2018-04-13T18:52:23.632Z'}]\n"
     ]
    },
    {
     "name": "stderr",
     "output_type": "stream",
     "text": [
      "14964it [00:06, 2300.39it/s]\n"
     ]
    },
    {
     "name": "stdout",
     "output_type": "stream",
     "text": [
      "2680\n",
      "16\n",
      "8040 72\n",
      "16\n",
      "5\n"
     ]
    },
    {
     "name": "stderr",
     "output_type": "stream",
     "text": [
      "334it [00:00, 1666.13it/s]"
     ]
    },
    {
     "name": "stdout",
     "output_type": "stream",
     "text": [
      "Parsed ../kickoff-detection-data/27bea627-3caa-47ee-93c3-67f0e26f3034.2.kickoff.rdb in 2.34 s.\n",
      "Contains keys: dict_keys(['right', 'left'])\n",
      "[right] start_ts: 1523800613851 | stop_ts: 1523801213411\n",
      "[left] start_ts: 1523800614341 | stop_ts: 1523801213661\n",
      "../kickoff-detection-data/27bea627-3caa-47ee-93c3-67f0e26f3034.json\n",
      "[{'phase': 1, 'type': 'start_phase', 'ts': '2018-04-15T13:00:57.169Z', 'kickoff_team_id': 4}, {'phase': 1, 'type': 'end_phase', 'ts': '2018-04-15T13:46:01.064Z'}, {'phase': 2, 'type': 'start_phase', 'ts': '2018-04-15T14:01:53.073Z', 'kickoff_team_id': 9}, {'phase': 2, 'type': 'end_phase', 'ts': '2018-04-15T14:50:42.654Z'}]\n"
     ]
    },
    {
     "name": "stderr",
     "output_type": "stream",
     "text": [
      "14983it [00:07, 2073.70it/s]\n"
     ]
    },
    {
     "name": "stdout",
     "output_type": "stream",
     "text": [
      "2680\n",
      "16\n",
      "8040 72\n",
      "16\n",
      "6\n"
     ]
    },
    {
     "name": "stderr",
     "output_type": "stream",
     "text": [
      "238it [00:00, 2378.57it/s]"
     ]
    },
    {
     "name": "stdout",
     "output_type": "stream",
     "text": [
      "Parsed ../kickoff-detection-data/e40014f3-5c63-4869-94af-75c4e0547de4.1.kickoff.rdb in 1.59 s.\n",
      "Contains keys: dict_keys(['right', 'left'])\n",
      "[right] start_ts: 1527094503764 | stop_ts: 1527094802564\n",
      "[left] start_ts: 1527094503678 | stop_ts: 1527094802558\n",
      "../kickoff-detection-data/e40014f3-5c63-4869-94af-75c4e0547de4.json\n",
      "[{'phase': 1, 'type': 'start_phase', 'ts': '2018-05-23T17:00:02.891Z', 'kickoff_team_id': 4}, {'phase': 1, 'type': 'end_phase', 'ts': '2018-05-23T17:45:05.284Z'}, {'phase': 2, 'type': 'start_phase', 'ts': '2018-05-23T18:02:02.986Z', 'kickoff_team_id': 3}, {'phase': 2, 'type': 'end_phase', 'ts': '2018-05-23T18:51:09.847Z'}]\n"
     ]
    },
    {
     "name": "stderr",
     "output_type": "stream",
     "text": [
      "7471it [00:04, 1700.50it/s]\n"
     ]
    },
    {
     "name": "stdout",
     "output_type": "stream",
     "text": [
      "2680\n",
      "0\n",
      "8040 27\n",
      "0\n"
     ]
    },
    {
     "name": "stderr",
     "output_type": "stream",
     "text": [
      "389it [00:00, 1877.99it/s]"
     ]
    },
    {
     "name": "stdout",
     "output_type": "stream",
     "text": [
      "Parsed ../kickoff-detection-data/536b68b9-507f-408a-9a91-f994667b1d16.2.kickoff.rdb in 0.86 s.\n",
      "Contains keys: dict_keys(['right', 'left'])\n",
      "[right] start_ts: 1526833546293 | stop_ts: 1526833843133\n",
      "[left] start_ts: 1526833546311 | stop_ts: 1526833843111\n",
      "../kickoff-detection-data/536b68b9-507f-408a-9a91-f994667b1d16.json\n",
      "[{'phase': 1, 'type': 'start_phase', 'ts': '2018-05-20T15:30:13.835Z', 'kickoff_team_id': 8}, {'phase': 1, 'type': 'end_phase', 'ts': '2018-05-20T16:15:14.598Z'}, {'phase': 2, 'type': 'start_phase', 'ts': '2018-05-20T16:30:43.121Z', 'kickoff_team_id': 5}, {'phase': 2, 'type': 'end_phase', 'ts': '2018-05-20T17:19:46.634Z'}]\n"
     ]
    },
    {
     "name": "stderr",
     "output_type": "stream",
     "text": [
      "7421it [00:03, 2356.25it/s]\n"
     ]
    },
    {
     "name": "stdout",
     "output_type": "stream",
     "text": [
      "2680\n",
      "0\n",
      "8040 27\n",
      "0\n"
     ]
    },
    {
     "name": "stderr",
     "output_type": "stream",
     "text": [
      "811it [00:00, 4219.30it/s]"
     ]
    },
    {
     "name": "stdout",
     "output_type": "stream",
     "text": [
      "Parsed ../kickoff-detection-data/b0cbf7ed-a9ce-4434-9e4d-072065ee61bc.1.kickoff.rdb in 1.66 s.\n",
      "Contains keys: dict_keys(['right', 'left'])\n",
      "[right] start_ts: 1523706912088 | stop_ts: 1523707510928\n",
      "[left] start_ts: 1523706904558 | stop_ts: 1523707503158\n",
      "../kickoff-detection-data/b0cbf7ed-a9ce-4434-9e4d-072065ee61bc.json\n",
      "[{'phase': 1, 'type': 'start_phase', 'ts': '2018-04-14T12:00:03.074Z', 'kickoff_team_id': 1}, {'phase': 1, 'type': 'end_phase', 'ts': '2018-04-14T12:45:30.997Z'}, {'phase': 2, 'type': 'start_phase', 'ts': '2018-04-14T13:00:50.467Z', 'kickoff_team_id': 7}, {'phase': 2, 'type': 'end_phase', 'ts': '2018-04-14T13:50:58.493Z'}]\n"
     ]
    },
    {
     "name": "stderr",
     "output_type": "stream",
     "text": [
      "14966it [00:05, 2588.01it/s]\n"
     ]
    },
    {
     "name": "stdout",
     "output_type": "stream",
     "text": [
      "2680\n",
      "17\n",
      "8040 72\n",
      "17\n",
      "7\n"
     ]
    },
    {
     "name": "stderr",
     "output_type": "stream",
     "text": [
      "533it [00:00, 2387.36it/s]"
     ]
    },
    {
     "name": "stdout",
     "output_type": "stream",
     "text": [
      "Parsed ../kickoff-detection-data/75366863-8063-4ece-8aca-1dcf75d22448.1.kickoff.rdb in 0.31 s.\n",
      "Contains keys: dict_keys(['right', 'left'])\n",
      "[right] start_ts: 1527181308926 | stop_ts: 1527181605806\n",
      "[left] start_ts: 1527181308818 | stop_ts: 1527181605738\n",
      "../kickoff-detection-data/75366863-8063-4ece-8aca-1dcf75d22448.json\n",
      "[{'phase': 1, 'type': 'start_phase', 'ts': '2018-05-24T17:06:45.366Z', 'kickoff_team_id': 6}, {'phase': 1, 'type': 'end_phase', 'ts': '2018-05-24T17:52:47.009Z'}, {'phase': 2, 'type': 'start_phase', 'ts': '2018-05-24T18:12:56.972Z', 'kickoff_team_id': 11}, {'phase': 2, 'type': 'end_phase', 'ts': '2018-05-24T19:02:55.588Z'}]\n"
     ]
    },
    {
     "name": "stderr",
     "output_type": "stream",
     "text": [
      "7423it [00:00, 8755.58it/s]\n"
     ]
    },
    {
     "name": "stdout",
     "output_type": "stream",
     "text": [
      "2680\n",
      "0\n",
      "8040 27\n",
      "0\n"
     ]
    },
    {
     "name": "stderr",
     "output_type": "stream",
     "text": [
      "370it [00:00, 3693.05it/s]"
     ]
    },
    {
     "name": "stdout",
     "output_type": "stream",
     "text": [
      "Parsed ../kickoff-detection-data/456910d1-b523-4ff2-b60c-fcd1f016b96d.2.kickoff.rdb in 0.70 s.\n",
      "Contains keys: dict_keys(['right', 'left'])\n",
      "[right] start_ts: 1524506250924 | stop_ts: 1524506550764\n",
      "[left] start_ts: 1524506251416 | stop_ts: 1524506551016\n",
      "../kickoff-detection-data/456910d1-b523-4ff2-b60c-fcd1f016b96d.json\n",
      "[{'phase': 1, 'type': 'start_phase', 'ts': '2018-04-23T17:00:01.962Z', 'kickoff_team_id': 7}, {'phase': 1, 'type': 'end_phase', 'ts': '2018-04-23T17:47:08.130Z'}, {'phase': 2, 'type': 'start_phase', 'ts': '2018-04-23T18:02:31.991Z', 'kickoff_team_id': 11}, {'phase': 2, 'type': 'end_phase', 'ts': '2018-04-23T18:50:33.464Z'}]\n"
     ]
    },
    {
     "name": "stderr",
     "output_type": "stream",
     "text": [
      "7490it [00:02, 3305.63it/s]\n"
     ]
    },
    {
     "name": "stdout",
     "output_type": "stream",
     "text": [
      "2680\n",
      "0\n",
      "8040 27\n",
      "0\n"
     ]
    },
    {
     "name": "stderr",
     "output_type": "stream",
     "text": [
      "289it [00:00, 2887.39it/s]"
     ]
    },
    {
     "name": "stdout",
     "output_type": "stream",
     "text": [
      "Parsed ../kickoff-detection-data/0d9e9e30-9d13-4af0-8e41-fe1669e9eeff.1.kickoff.rdb in 2.46 s.\n",
      "Contains keys: dict_keys(['right', 'left'])\n",
      "[right] start_ts: 1523192129071 | stop_ts: 1523192727911\n",
      "[left] start_ts: 1523192129517 | stop_ts: 1523192728157\n",
      "../kickoff-detection-data/0d9e9e30-9d13-4af0-8e41-fe1669e9eeff.json\n",
      "[{'phase': 1, 'type': 'start_phase', 'ts': '2018-04-08T13:00:28.503Z', 'kickoff_team_id': 7}, {'phase': 1, 'type': 'end_phase', 'ts': '2018-04-08T13:47:27.898Z'}, {'phase': 2, 'type': 'start_phase', 'ts': '2018-04-08T14:02:33.117Z', 'kickoff_team_id': 9}, {'phase': 2, 'type': 'end_phase', 'ts': '2018-04-08T14:51:34.402Z'}]\n"
     ]
    },
    {
     "name": "stderr",
     "output_type": "stream",
     "text": [
      "14966it [00:08, 1792.32it/s]\n"
     ]
    },
    {
     "name": "stdout",
     "output_type": "stream",
     "text": [
      "2680\n",
      "17\n",
      "8040 72\n",
      "17\n",
      "8\n"
     ]
    },
    {
     "name": "stderr",
     "output_type": "stream",
     "text": [
      "273it [00:00, 2723.00it/s]"
     ]
    },
    {
     "name": "stdout",
     "output_type": "stream",
     "text": [
      "Parsed ../kickoff-detection-data/b0cbf7ed-a9ce-4434-9e4d-072065ee61bc.2.kickoff.rdb in 1.53 s.\n",
      "Contains keys: dict_keys(['right', 'left'])\n",
      "[right] start_ts: 1523710560128 | stop_ts: 1523711157928\n",
      "[left] start_ts: 1523710552598 | stop_ts: 1523711150158\n",
      "../kickoff-detection-data/b0cbf7ed-a9ce-4434-9e4d-072065ee61bc.json\n",
      "[{'phase': 1, 'type': 'start_phase', 'ts': '2018-04-14T12:00:03.074Z', 'kickoff_team_id': 1}, {'phase': 1, 'type': 'end_phase', 'ts': '2018-04-14T12:45:30.997Z'}, {'phase': 2, 'type': 'start_phase', 'ts': '2018-04-14T13:00:50.467Z', 'kickoff_team_id': 7}, {'phase': 2, 'type': 'end_phase', 'ts': '2018-04-14T13:50:58.493Z'}]\n"
     ]
    },
    {
     "name": "stderr",
     "output_type": "stream",
     "text": [
      "14941it [00:06, 2401.21it/s]\n"
     ]
    },
    {
     "name": "stdout",
     "output_type": "stream",
     "text": [
      "2680\n",
      "16\n",
      "8040 71\n",
      "16\n",
      "9\n"
     ]
    },
    {
     "name": "stderr",
     "output_type": "stream",
     "text": [
      "308it [00:00, 1549.79it/s]"
     ]
    },
    {
     "name": "stdout",
     "output_type": "stream",
     "text": [
      "Parsed ../kickoff-detection-data/d1a98e08-0f21-46fe-8457-01ff183ddbeb.1.kickoff.rdb in 1.37 s.\n",
      "Contains keys: dict_keys(['right', 'left'])\n",
      "[right] start_ts: 1526576105219 | stop_ts: 1526576402099\n",
      "[left] start_ts: 1526576105405 | stop_ts: 1526576402165\n",
      "../kickoff-detection-data/d1a98e08-0f21-46fe-8457-01ff183ddbeb.json\n",
      "[{'phase': 1, 'type': 'start_phase', 'ts': '2018-05-17T17:00:02.362Z', 'kickoff_team_id': 12}, {'phase': 1, 'type': 'end_phase', 'ts': '2018-05-17T17:47:07.092Z'}, {'phase': 2, 'type': 'start_phase', 'ts': '2018-05-17T18:04:02.891Z', 'kickoff_team_id': 11}, {'phase': 2, 'type': 'end_phase', 'ts': '2018-05-17T18:52:06.565Z'}]\n"
     ]
    },
    {
     "name": "stderr",
     "output_type": "stream",
     "text": [
      "7420it [00:05, 1357.19it/s]\n"
     ]
    },
    {
     "name": "stdout",
     "output_type": "stream",
     "text": [
      "2680\n",
      "0\n",
      "8040 27\n",
      "0\n"
     ]
    },
    {
     "name": "stderr",
     "output_type": "stream",
     "text": [
      "404it [00:00, 4032.09it/s]"
     ]
    },
    {
     "name": "stdout",
     "output_type": "stream",
     "text": [
      "Parsed ../kickoff-detection-data/9acafc14-55f4-499e-90d9-4db2f121801b.2.kickoff.rdb in 0.76 s.\n",
      "Contains keys: dict_keys(['right', 'left'])\n",
      "[right] start_ts: 1526229880495 | stop_ts: 1526230177335\n",
      "[left] start_ts: 1526229880539 | stop_ts: 1526230177379\n",
      "../kickoff-detection-data/9acafc14-55f4-499e-90d9-4db2f121801b.json\n",
      "[{'phase': 1, 'type': 'start_phase', 'ts': '2018-05-13T15:45:34.522Z', 'kickoff_team_id': 12}, {'phase': 1, 'type': 'end_phase', 'ts': '2018-05-13T16:33:39.123Z'}, {'phase': 2, 'type': 'start_phase', 'ts': '2018-05-13T16:49:37.864Z', 'kickoff_team_id': 2}, {'phase': 2, 'type': 'end_phase', 'ts': '2018-05-13T17:39:37.349Z'}]\n"
     ]
    },
    {
     "name": "stderr",
     "output_type": "stream",
     "text": [
      "7422it [00:02, 2598.88it/s]\n"
     ]
    },
    {
     "name": "stdout",
     "output_type": "stream",
     "text": [
      "2680\n",
      "0\n",
      "8040 27\n",
      "0\n"
     ]
    },
    {
     "name": "stderr",
     "output_type": "stream",
     "text": [
      "599it [00:00, 2975.74it/s]"
     ]
    },
    {
     "name": "stdout",
     "output_type": "stream",
     "text": [
      "Parsed ../kickoff-detection-data/3d29af74-d98c-415b-a1dc-6b034671d831.2.kickoff.rdb in 1.51 s.\n",
      "Contains keys: dict_keys(['right', 'left'])\n",
      "[right] start_ts: 1527098333133 | stop_ts: 1527098931013\n",
      "[left] start_ts: 1527098333205 | stop_ts: 1527098931045\n",
      "../kickoff-detection-data/3d29af74-d98c-415b-a1dc-6b034671d831.json\n",
      "[{'phase': 1, 'type': 'start_phase', 'ts': '2018-05-23T17:00:29.087Z', 'kickoff_team_id': 10}, {'phase': 1, 'type': 'end_phase', 'ts': '2018-05-23T17:48:32.142Z'}, {'phase': 2, 'type': 'start_phase', 'ts': '2018-05-23T18:03:51.076Z', 'kickoff_team_id': 5}, {'phase': 2, 'type': 'end_phase', 'ts': '2018-05-23T18:54:13.202Z'}]\n"
     ]
    },
    {
     "name": "stderr",
     "output_type": "stream",
     "text": [
      "14946it [00:06, 2401.75it/s]\n"
     ]
    },
    {
     "name": "stdout",
     "output_type": "stream",
     "text": [
      "2680\n",
      "17\n",
      "8040 72\n",
      "17\n",
      "10\n"
     ]
    },
    {
     "name": "stderr",
     "output_type": "stream",
     "text": [
      "840it [00:00, 4208.12it/s]"
     ]
    },
    {
     "name": "stdout",
     "output_type": "stream",
     "text": [
      "Parsed ../kickoff-detection-data/2b8bcfd6-5f57-46de-aacd-e932ac8e1697.1.kickoff.rdb in 1.58 s.\n",
      "Contains keys: dict_keys(['right', 'left'])\n",
      "[right] start_ts: 1523201094061 | stop_ts: 1523201692981\n",
      "[left] start_ts: 1523201092829 | stop_ts: 1523201692349\n",
      "../kickoff-detection-data/2b8bcfd6-5f57-46de-aacd-e932ac8e1697.json\n",
      "[{'phase': 1, 'type': 'start_phase', 'ts': '2018-04-08T15:29:52.779Z', 'kickoff_team_id': 13}, {'phase': 1, 'type': 'end_phase', 'ts': '2018-04-08T16:17:54.242Z'}, {'phase': 2, 'type': 'start_phase', 'ts': '2018-04-08T16:34:19.995Z', 'kickoff_team_id': 16}, {'phase': 2, 'type': 'end_phase', 'ts': '2018-04-08T17:23:20.816Z'}]\n"
     ]
    },
    {
     "name": "stderr",
     "output_type": "stream",
     "text": [
      "14951it [00:07, 1952.29it/s]\n"
     ]
    },
    {
     "name": "stdout",
     "output_type": "stream",
     "text": [
      "2680\n",
      "16\n",
      "8040 71\n",
      "16\n",
      "11\n"
     ]
    },
    {
     "name": "stderr",
     "output_type": "stream",
     "text": [
      "484it [00:00, 4835.97it/s]"
     ]
    },
    {
     "name": "stdout",
     "output_type": "stream",
     "text": [
      "Parsed ../kickoff-detection-data/da82a1ce-2e4c-4337-8ba8-3f2525399e31.2.kickoff.rdb in 0.66 s.\n",
      "Contains keys: dict_keys(['right', 'left'])\n",
      "[right] start_ts: 1525624022583 | stop_ts: 1525624319463\n",
      "[left] start_ts: 1525624022661 | stop_ts: 1525624319501\n",
      "../kickoff-detection-data/da82a1ce-2e4c-4337-8ba8-3f2525399e31.json\n",
      "[{'phase': 1, 'type': 'start_phase', 'ts': '2018-05-06T15:30:55.282Z', 'kickoff_team_id': 14}, {'phase': 1, 'type': 'end_phase', 'ts': '2018-05-06T16:16:55.775Z'}, {'phase': 2, 'type': 'start_phase', 'ts': '2018-05-06T16:31:59.785Z', 'kickoff_team_id': 5}, {'phase': 2, 'type': 'end_phase', 'ts': '2018-05-06T17:19:59.649Z'}]\n"
     ]
    },
    {
     "name": "stderr",
     "output_type": "stream",
     "text": [
      "7421it [00:02, 3321.78it/s]\n"
     ]
    },
    {
     "name": "stdout",
     "output_type": "stream",
     "text": [
      "2680\n",
      "0\n",
      "8040 27\n",
      "0\n"
     ]
    },
    {
     "name": "stderr",
     "output_type": "stream",
     "text": [
      "219it [00:00, 2186.34it/s]"
     ]
    },
    {
     "name": "stdout",
     "output_type": "stream",
     "text": [
      "Parsed ../kickoff-detection-data/4b949eae-068b-4b0a-bc88-f5ef0a97b2ba.2.kickoff.rdb in 0.93 s.\n",
      "Contains keys: dict_keys(['right', 'left'])\n",
      "[right] start_ts: 1524322643076 | stop_ts: 1524322942636\n",
      "[left] start_ts: 1524322642512 | stop_ts: 1524322942312\n",
      "../kickoff-detection-data/4b949eae-068b-4b0a-bc88-f5ef0a97b2ba.json\n",
      "[{'phase': 1, 'type': 'start_phase', 'ts': '2018-04-21T14:00:32.294Z', 'kickoff_team_id': 13}, {'phase': 1, 'type': 'end_phase', 'ts': '2018-04-21T14:45:33.074Z'}, {'phase': 2, 'type': 'start_phase', 'ts': '2018-04-21T15:02:22.137Z', 'kickoff_team_id': 12}, {'phase': 2, 'type': 'end_phase', 'ts': '2018-04-21T15:50:24.649Z'}]\n"
     ]
    },
    {
     "name": "stderr",
     "output_type": "stream",
     "text": [
      "7489it [00:03, 2079.70it/s]\n"
     ]
    },
    {
     "name": "stdout",
     "output_type": "stream",
     "text": [
      "2680\n",
      "0\n",
      "8040 27\n",
      "0\n"
     ]
    },
    {
     "name": "stderr",
     "output_type": "stream",
     "text": [
      "278it [00:00, 1428.04it/s]"
     ]
    },
    {
     "name": "stdout",
     "output_type": "stream",
     "text": [
      "Parsed ../kickoff-detection-data/70593a9a-5258-4f89-a402-b555c8ee3514.1.kickoff.rdb in 1.68 s.\n",
      "Contains keys: dict_keys(['right', 'left'])\n",
      "[right] start_ts: 1525521349195 | stop_ts: 1525521646035\n",
      "[left] start_ts: 1525521349217 | stop_ts: 1525521646057\n",
      "../kickoff-detection-data/70593a9a-5258-4f89-a402-b555c8ee3514.json\n",
      "[{'phase': 1, 'type': 'start_phase', 'ts': '2018-05-05T12:00:46.974Z', 'kickoff_team_id': 3}, {'phase': 1, 'type': 'end_phase', 'ts': '2018-05-05T12:47:24.013Z'}, {'phase': 2, 'type': 'start_phase', 'ts': '2018-05-05T13:03:49.366Z', 'kickoff_team_id': 2}, {'phase': 2, 'type': 'end_phase', 'ts': '2018-05-05T13:51:49.753Z'}]\n"
     ]
    },
    {
     "name": "stderr",
     "output_type": "stream",
     "text": [
      "7422it [00:04, 1614.95it/s]\n"
     ]
    },
    {
     "name": "stdout",
     "output_type": "stream",
     "text": [
      "2680\n",
      "0\n",
      "8040 27\n",
      "0\n"
     ]
    },
    {
     "name": "stderr",
     "output_type": "stream",
     "text": [
      "476it [00:00, 2473.54it/s]"
     ]
    },
    {
     "name": "stdout",
     "output_type": "stream",
     "text": [
      "Parsed ../kickoff-detection-data/050a1fae-5d48-4048-8f66-a3f12eca843d.1.kickoff.rdb in 2.19 s.\n",
      "Contains keys: dict_keys(['right', 'left'])\n",
      "[right] start_ts: 1526225101172 | stop_ts: 1526225700052\n",
      "[left] start_ts: 1526225101102 | stop_ts: 1526225700022\n",
      "../kickoff-detection-data/050a1fae-5d48-4048-8f66-a3f12eca843d.json\n",
      "[{'phase': 1, 'type': 'start_phase', 'ts': '2018-05-13T15:30:00.666Z', 'kickoff_team_id': 14}, {'phase': 1, 'type': 'end_phase', 'ts': '2018-05-13T16:16:59.553Z'}, {'phase': 2, 'type': 'start_phase', 'ts': '2018-05-13T16:32:02.287Z', 'kickoff_team_id': 8}, {'phase': 2, 'type': 'end_phase', 'ts': '2018-05-13T17:20:33.812Z'}]\n"
     ]
    },
    {
     "name": "stderr",
     "output_type": "stream",
     "text": [
      "14972it [00:06, 2163.90it/s]\n"
     ]
    },
    {
     "name": "stdout",
     "output_type": "stream",
     "text": [
      "2680\n",
      "16\n",
      "8040 72\n",
      "16\n",
      "12\n"
     ]
    },
    {
     "name": "stderr",
     "output_type": "stream",
     "text": [
      "501it [00:00, 5009.65it/s]"
     ]
    },
    {
     "name": "stdout",
     "output_type": "stream",
     "text": [
      "Parsed ../kickoff-detection-data/c4b2214b-4e3c-4dfb-a691-a5b008b9d778.1.kickoff.rdb in 0.90 s.\n",
      "Contains keys: dict_keys(['right', 'left'])\n",
      "[right] start_ts: 1525611300264 | stop_ts: 1525611597984\n",
      "[left] start_ts: 1525611301214 | stop_ts: 1525611598494\n",
      "../kickoff-detection-data/c4b2214b-4e3c-4dfb-a691-a5b008b9d778.json\n",
      "[{'phase': 1, 'type': 'start_phase', 'ts': '2018-05-06T12:59:58.803Z', 'kickoff_team_id': 16}, {'phase': 1, 'type': 'end_phase', 'ts': '2018-05-06T13:45:00.746Z'}, {'phase': 2, 'type': 'start_phase', 'ts': '2018-05-06T14:00:42.453Z', 'kickoff_team_id': 9}, {'phase': 2, 'type': 'end_phase', 'ts': '2018-05-06T14:48:47.422Z'}]\n"
     ]
    },
    {
     "name": "stderr",
     "output_type": "stream",
     "text": [
      "7433it [00:03, 2354.16it/s]\n"
     ]
    },
    {
     "name": "stdout",
     "output_type": "stream",
     "text": [
      "2680\n",
      "0\n",
      "8040 27\n",
      "0\n"
     ]
    },
    {
     "name": "stderr",
     "output_type": "stream",
     "text": [
      "419it [00:00, 2107.45it/s]"
     ]
    },
    {
     "name": "stdout",
     "output_type": "stream",
     "text": [
      "Parsed ../kickoff-detection-data/57bf9b24-5c68-464f-9e74-20d0b2508bba.2.kickoff.rdb in 2.16 s.\n",
      "Contains keys: dict_keys(['right', 'left'])\n",
      "[right] start_ts: 1524074286793 | stop_ts: 1524074883313\n",
      "[left] start_ts: 1524074286135 | stop_ts: 1524074882975\n",
      "../kickoff-detection-data/57bf9b24-5c68-464f-9e74-20d0b2508bba.json\n",
      "[{'phase': 1, 'type': 'start_phase', 'ts': '2018-04-18T17:00:28.694Z', 'kickoff_team_id': 11}, {'phase': 1, 'type': 'end_phase', 'ts': '2018-04-18T17:46:35.647Z'}, {'phase': 2, 'type': 'start_phase', 'ts': '2018-04-18T18:03:03.900Z', 'kickoff_team_id': 8}, {'phase': 2, 'type': 'end_phase', 'ts': '2018-04-18T18:52:04.739Z'}]\n"
     ]
    },
    {
     "name": "stderr",
     "output_type": "stream",
     "text": [
      "14914it [00:07, 2010.45it/s]\n"
     ]
    },
    {
     "name": "stdout",
     "output_type": "stream",
     "text": [
      "2680\n",
      "17\n",
      "8040 71\n",
      "17\n",
      "13\n"
     ]
    },
    {
     "name": "stderr",
     "output_type": "stream",
     "text": [
      "348it [00:00, 3470.69it/s]"
     ]
    },
    {
     "name": "stdout",
     "output_type": "stream",
     "text": [
      "Parsed ../kickoff-detection-data/4be6ef54-2541-42d0-a334-e513a535029c.1.kickoff.rdb in 2.01 s.\n",
      "Contains keys: dict_keys(['right', 'left'])\n",
      "[right] start_ts: 1523714121038 | stop_ts: 1523714720678\n",
      "[left] start_ts: 1523714121022 | stop_ts: 1523714720662\n",
      "../kickoff-detection-data/4be6ef54-2541-42d0-a334-e513a535029c.json\n",
      "[{'phase': 1, 'type': 'start_phase', 'ts': '2018-04-14T14:00:20.059Z', 'kickoff_team_id': 16}, {'phase': 1, 'type': 'end_phase', 'ts': '2018-04-14T14:46:37.899Z'}, {'phase': 2, 'type': 'start_phase', 'ts': '2018-04-14T15:02:36.879Z', 'kickoff_team_id': 5}, {'phase': 2, 'type': 'end_phase', 'ts': '2018-04-14T15:51:35.702Z'}]\n"
     ]
    },
    {
     "name": "stderr",
     "output_type": "stream",
     "text": [
      "14991it [00:07, 1908.52it/s]\n"
     ]
    },
    {
     "name": "stdout",
     "output_type": "stream",
     "text": [
      "2680\n",
      "17\n",
      "8040 73\n",
      "17\n",
      "14\n"
     ]
    },
    {
     "name": "stderr",
     "output_type": "stream",
     "text": [
      "297it [00:00, 2969.42it/s]"
     ]
    },
    {
     "name": "stdout",
     "output_type": "stream",
     "text": [
      "Parsed ../kickoff-detection-data/c7acc25c-8411-4683-96ec-e26dee9cec34.2.kickoff.rdb in 0.74 s.\n",
      "Contains keys: dict_keys(['right', 'left'])\n",
      "[right] start_ts: 1524405418777 | stop_ts: 1524405718137\n",
      "[left] start_ts: 1524405418073 | stop_ts: 1524405717793\n",
      "../kickoff-detection-data/c7acc25c-8411-4683-96ec-e26dee9cec34.json\n",
      "[{'phase': 1, 'type': 'start_phase', 'ts': '2018-04-22T13:00:00.017Z', 'kickoff_team_id': 16}, {'phase': 1, 'type': 'end_phase', 'ts': '2018-04-22T13:46:09.238Z'}, {'phase': 2, 'type': 'start_phase', 'ts': '2018-04-22T14:01:57.969Z', 'kickoff_team_id': 3}, {'phase': 2, 'type': 'end_phase', 'ts': '2018-04-22T14:50:02.088Z'}]\n"
     ]
    },
    {
     "name": "stderr",
     "output_type": "stream",
     "text": [
      "7485it [00:02, 2787.23it/s]\n"
     ]
    },
    {
     "name": "stdout",
     "output_type": "stream",
     "text": [
      "2680\n",
      "0\n",
      "8040 27\n",
      "0\n"
     ]
    },
    {
     "name": "stderr",
     "output_type": "stream",
     "text": [
      "313it [00:00, 3120.61it/s]"
     ]
    },
    {
     "name": "stdout",
     "output_type": "stream",
     "text": [
      "Parsed ../kickoff-detection-data/9ab7ccfb-75cb-4756-9eb5-fe8c29de8fcc.2.kickoff.rdb in 0.73 s.\n",
      "Contains keys: dict_keys(['right', 'left'])\n",
      "[right] start_ts: 1525624025530 | stop_ts: 1525624325290\n",
      "[left] start_ts: 1525624025358 | stop_ts: 1525624325238\n",
      "../kickoff-detection-data/9ab7ccfb-75cb-4756-9eb5-fe8c29de8fcc.json\n",
      "[{'phase': 1, 'type': 'start_phase', 'ts': '2018-05-06T15:31:10.100Z', 'kickoff_team_id': 10}, {'phase': 1, 'type': 'end_phase', 'ts': '2018-05-06T16:16:18.200Z'}, {'phase': 2, 'type': 'start_phase', 'ts': '2018-05-06T16:32:05.306Z', 'kickoff_team_id': 7}, {'phase': 2, 'type': 'end_phase', 'ts': '2018-05-06T17:20:08.236Z'}]\n"
     ]
    },
    {
     "name": "stderr",
     "output_type": "stream",
     "text": [
      "7495it [00:02, 2761.15it/s]\n"
     ]
    },
    {
     "name": "stdout",
     "output_type": "stream",
     "text": [
      "2680\n",
      "0\n",
      "8040 27\n",
      "0\n"
     ]
    },
    {
     "name": "stderr",
     "output_type": "stream",
     "text": [
      "240it [00:00, 1191.15it/s]"
     ]
    },
    {
     "name": "stdout",
     "output_type": "stream",
     "text": [
      "Parsed ../kickoff-detection-data/6e26f66b-a921-4919-9d7d-1bd59f935e78.1.kickoff.rdb in 2.10 s.\n",
      "Contains keys: dict_keys(['right', 'left'])\n",
      "[right] start_ts: 1523638586979 | stop_ts: 1523639185819\n",
      "[left] start_ts: 1523638587613 | stop_ts: 1523639186133\n",
      "../kickoff-detection-data/6e26f66b-a921-4919-9d7d-1bd59f935e78.json\n",
      "[{'phase': 1, 'type': 'start_phase', 'ts': '2018-04-13T17:01:26.037Z', 'kickoff_team_id': 3}, {'phase': 1, 'type': 'end_phase', 'ts': '2018-04-13T17:48:25.115Z'}, {'phase': 2, 'type': 'start_phase', 'ts': '2018-04-13T18:04:22.102Z', 'kickoff_team_id': 8}, {'phase': 2, 'type': 'end_phase', 'ts': '2018-04-13T18:52:23.632Z'}]\n"
     ]
    },
    {
     "name": "stderr",
     "output_type": "stream",
     "text": [
      "14963it [00:07, 1877.06it/s]\n"
     ]
    },
    {
     "name": "stdout",
     "output_type": "stream",
     "text": [
      "2680\n",
      "16\n",
      "8040 72\n",
      "16\n",
      "15\n"
     ]
    },
    {
     "name": "stderr",
     "output_type": "stream",
     "text": [
      "\r",
      "0it [00:00, ?it/s]"
     ]
    },
    {
     "name": "stdout",
     "output_type": "stream",
     "text": [
      "Parsed ../kickoff-detection-data/57bf9b24-5c68-464f-9e74-20d0b2508bba.1.kickoff.rdb in 2.01 s.\n",
      "Contains keys: dict_keys(['right', 'left'])\n",
      "[right] start_ts: 1524070530793 | stop_ts: 1524071128313\n",
      "[left] start_ts: 1524070530135 | stop_ts: 1524071127975\n",
      "../kickoff-detection-data/57bf9b24-5c68-464f-9e74-20d0b2508bba.json\n",
      "[{'phase': 1, 'type': 'start_phase', 'ts': '2018-04-18T17:00:28.694Z', 'kickoff_team_id': 11}, {'phase': 1, 'type': 'end_phase', 'ts': '2018-04-18T17:46:35.647Z'}, {'phase': 2, 'type': 'start_phase', 'ts': '2018-04-18T18:03:03.900Z', 'kickoff_team_id': 8}, {'phase': 2, 'type': 'end_phase', 'ts': '2018-04-18T18:52:04.739Z'}]\n"
     ]
    },
    {
     "name": "stderr",
     "output_type": "stream",
     "text": [
      "14939it [00:08, 1666.40it/s]\n"
     ]
    },
    {
     "name": "stdout",
     "output_type": "stream",
     "text": [
      "2680\n",
      "17\n",
      "8040 71\n",
      "17\n",
      "16\n"
     ]
    },
    {
     "name": "stderr",
     "output_type": "stream",
     "text": [
      "409it [00:00, 4083.06it/s]"
     ]
    },
    {
     "name": "stdout",
     "output_type": "stream",
     "text": [
      "Parsed ../kickoff-detection-data/66b6caf7-e5c0-45dd-874f-de8ac2e3c9ff.1.kickoff.rdb in 0.77 s.\n",
      "Contains keys: dict_keys(['right', 'left'])\n",
      "[right] start_ts: 1526921712730 | stop_ts: 1526922009650\n",
      "[left] start_ts: 1526921712782 | stop_ts: 1526922009662\n",
      "../kickoff-detection-data/66b6caf7-e5c0-45dd-874f-de8ac2e3c9ff.json\n",
      "[{'phase': 1, 'type': 'start_phase', 'ts': '2018-05-21T17:00:09.374Z', 'kickoff_team_id': 6}, {'phase': 1, 'type': 'end_phase', 'ts': '2018-05-21T17:46:11.855Z'}, {'phase': 2, 'type': 'start_phase', 'ts': '2018-05-21T18:01:52.583Z', 'kickoff_team_id': 7}, {'phase': 2, 'type': 'end_phase', 'ts': '2018-05-21T18:51:25.546Z'}]\n"
     ]
    },
    {
     "name": "stderr",
     "output_type": "stream",
     "text": [
      "7422it [00:02, 2910.90it/s]\n"
     ]
    },
    {
     "name": "stdout",
     "output_type": "stream",
     "text": [
      "2680\n",
      "0\n",
      "8040 27\n",
      "0\n"
     ]
    },
    {
     "name": "stderr",
     "output_type": "stream",
     "text": [
      "232it [00:00, 2318.72it/s]"
     ]
    },
    {
     "name": "stdout",
     "output_type": "stream",
     "text": [
      "Parsed ../kickoff-detection-data/2b8bcfd6-5f57-46de-aacd-e932ac8e1697.2.kickoff.rdb in 1.98 s.\n",
      "Contains keys: dict_keys(['right', 'left'])\n",
      "[right] start_ts: 1523204962061 | stop_ts: 1523205559981\n",
      "[left] start_ts: 1523204960829 | stop_ts: 1523205559349\n",
      "../kickoff-detection-data/2b8bcfd6-5f57-46de-aacd-e932ac8e1697.json\n",
      "[{'phase': 1, 'type': 'start_phase', 'ts': '2018-04-08T15:29:52.779Z', 'kickoff_team_id': 13}, {'phase': 1, 'type': 'end_phase', 'ts': '2018-04-08T16:17:54.242Z'}, {'phase': 2, 'type': 'start_phase', 'ts': '2018-04-08T16:34:19.995Z', 'kickoff_team_id': 16}, {'phase': 2, 'type': 'end_phase', 'ts': '2018-04-08T17:23:20.816Z'}]\n"
     ]
    },
    {
     "name": "stderr",
     "output_type": "stream",
     "text": [
      "14949it [00:07, 1894.42it/s]\n"
     ]
    },
    {
     "name": "stdout",
     "output_type": "stream",
     "text": [
      "2680\n",
      "17\n",
      "8040 71\n",
      "17\n",
      "17\n"
     ]
    },
    {
     "name": "stderr",
     "output_type": "stream",
     "text": [
      "814it [00:00, 3865.21it/s]"
     ]
    },
    {
     "name": "stdout",
     "output_type": "stream",
     "text": [
      "Parsed ../kickoff-detection-data/23fb8811-638e-4be8-a01d-76cad0f5a5bf.1.kickoff.rdb in 0.94 s.\n",
      "Contains keys: dict_keys(['right', 'left'])\n",
      "[right] start_ts: 1526133303581 | stop_ts: 1526133602461\n",
      "[left] start_ts: 1526133303595 | stop_ts: 1526133602435\n",
      "../kickoff-detection-data/23fb8811-638e-4be8-a01d-76cad0f5a5bf.json\n",
      "[{'phase': 1, 'type': 'start_phase', 'ts': '2018-05-12T14:00:02.187Z', 'kickoff_team_id': 3}, {'phase': 1, 'type': 'end_phase', 'ts': '2018-05-12T14:46:02.666Z'}, {'phase': 2, 'type': 'start_phase', 'ts': '2018-05-12T15:01:23.069Z', 'kickoff_team_id': 15}, {'phase': 2, 'type': 'end_phase', 'ts': '2018-05-12T15:48:40.504Z'}]\n"
     ]
    },
    {
     "name": "stderr",
     "output_type": "stream",
     "text": [
      "7472it [00:02, 2594.36it/s]\n"
     ]
    },
    {
     "name": "stdout",
     "output_type": "stream",
     "text": [
      "2680\n",
      "0\n",
      "8040 27\n",
      "0\n"
     ]
    },
    {
     "name": "stderr",
     "output_type": "stream",
     "text": [
      "187it [00:00, 1868.77it/s]"
     ]
    },
    {
     "name": "stdout",
     "output_type": "stream",
     "text": [
      "Parsed ../kickoff-detection-data/b4dbea7c-c72f-4dd6-b57c-8fb7b8b38eb5.1.kickoff.rdb in 2.62 s.\n",
      "Contains keys: dict_keys(['right', 'left'])\n",
      "[right] start_ts: 1524070510889 | stop_ts: 1524071110729\n",
      "[left] start_ts: 1524070510939 | stop_ts: 1524071110739\n",
      "../kickoff-detection-data/b4dbea7c-c72f-4dd6-b57c-8fb7b8b38eb5.json\n",
      "[{'phase': 1, 'type': 'start_phase', 'ts': '2018-04-18T17:00:10.108Z', 'kickoff_team_id': 13}, {'phase': 1, 'type': 'end_phase', 'ts': '2018-04-18T17:47:10.874Z'}, {'phase': 2, 'type': 'start_phase', 'ts': '2018-04-18T18:02:18.645Z', 'kickoff_team_id': 9}, {'phase': 2, 'type': 'end_phase', 'ts': '2018-04-18T18:49:19.022Z'}]\n"
     ]
    },
    {
     "name": "stderr",
     "output_type": "stream",
     "text": [
      "14996it [00:09, 1573.81it/s]\n"
     ]
    },
    {
     "name": "stdout",
     "output_type": "stream",
     "text": [
      "2680\n",
      "16\n",
      "8040 72\n",
      "16\n",
      "18\n"
     ]
    },
    {
     "name": "stderr",
     "output_type": "stream",
     "text": [
      "385it [00:00, 1916.24it/s]"
     ]
    },
    {
     "name": "stdout",
     "output_type": "stream",
     "text": [
      "Parsed ../kickoff-detection-data/8d6fc150-9f6b-4e5c-8a99-d2ca96b5ffa5.1.kickoff.rdb in 1.58 s.\n",
      "Contains keys: dict_keys(['right', 'left'])\n",
      "[right] start_ts: 1524156948802 | stop_ts: 1524157246362\n",
      "[left] start_ts: 1524156948162 | stop_ts: 1524157246082\n",
      "../kickoff-detection-data/8d6fc150-9f6b-4e5c-8a99-d2ca96b5ffa5.json\n",
      "[{'phase': 1, 'type': 'start_phase', 'ts': '2018-04-19T17:00:46.040Z', 'kickoff_team_id': 4}, {'phase': 1, 'type': 'end_phase', 'ts': '2018-04-19T17:45:47.791Z'}, {'phase': 2, 'type': 'start_phase', 'ts': '2018-04-19T18:01:35.679Z', 'kickoff_team_id': 2}, {'phase': 2, 'type': 'end_phase', 'ts': '2018-04-19T18:51:07.597Z'}]\n"
     ]
    },
    {
     "name": "stderr",
     "output_type": "stream",
     "text": [
      "7440it [00:05, 1407.82it/s]\n"
     ]
    },
    {
     "name": "stdout",
     "output_type": "stream",
     "text": [
      "2680\n",
      "0\n",
      "8040 27\n",
      "0\n"
     ]
    },
    {
     "name": "stderr",
     "output_type": "stream",
     "text": [
      "272it [00:00, 1339.94it/s]"
     ]
    },
    {
     "name": "stdout",
     "output_type": "stream",
     "text": [
      "Parsed ../kickoff-detection-data/cf16ebf4-49fc-4991-a9b8-b9a055dcf2b8.1.kickoff.rdb in 2.18 s.\n",
      "Contains keys: dict_keys(['right', 'left'])\n",
      "[right] start_ts: 1525006796888 | stop_ts: 1525007393688\n",
      "[left] start_ts: 1525006796874 | stop_ts: 1525007393674\n",
      "../kickoff-detection-data/cf16ebf4-49fc-4991-a9b8-b9a055dcf2b8.json\n",
      "[{'phase': 1, 'type': 'start_phase', 'ts': '2018-04-29T13:04:53.610Z', 'kickoff_team_id': 2}, {'phase': 1, 'type': 'end_phase', 'ts': '2018-04-29T13:51:58.173Z'}, {'phase': 2, 'type': 'start_phase', 'ts': '2018-04-29T14:09:35.826Z', 'kickoff_team_id': 11}, {'phase': 2, 'type': 'end_phase', 'ts': '2018-04-29T14:57:43.997Z'}]\n"
     ]
    },
    {
     "name": "stderr",
     "output_type": "stream",
     "text": [
      "14921it [00:07, 1959.58it/s]\n"
     ]
    },
    {
     "name": "stdout",
     "output_type": "stream",
     "text": [
      "2680\n",
      "17\n",
      "8040 72\n",
      "17\n",
      "19\n"
     ]
    },
    {
     "name": "stderr",
     "output_type": "stream",
     "text": [
      "496it [00:00, 2467.95it/s]"
     ]
    },
    {
     "name": "stdout",
     "output_type": "stream",
     "text": [
      "Parsed ../kickoff-detection-data/d092d84a-bfe1-4638-bd6e-7f516a90553a.2.kickoff.rdb in 0.84 s.\n",
      "Contains keys: dict_keys(['right', 'left'])\n",
      "[right] start_ts: 1527346602142 | stop_ts: 1527346899022\n",
      "[left] start_ts: 1527346602172 | stop_ts: 1527346899012\n",
      "../kickoff-detection-data/d092d84a-bfe1-4638-bd6e-7f516a90553a.json\n",
      "[{'phase': 1, 'type': 'start_phase', 'ts': '2018-05-26T14:00:33.777Z', 'kickoff_team_id': 10}, {'phase': 1, 'type': 'end_phase', 'ts': '2018-05-26T14:46:31.767Z'}, {'phase': 2, 'type': 'start_phase', 'ts': '2018-05-26T15:01:39.568Z', 'kickoff_team_id': 4}, {'phase': 2, 'type': 'end_phase', 'ts': '2018-05-26T15:49:43.350Z'}]\n"
     ]
    },
    {
     "name": "stderr",
     "output_type": "stream",
     "text": [
      "7422it [00:03, 2245.36it/s]\n"
     ]
    },
    {
     "name": "stdout",
     "output_type": "stream",
     "text": [
      "2680\n",
      "0\n",
      "8040 27\n",
      "0\n"
     ]
    },
    {
     "name": "stderr",
     "output_type": "stream",
     "text": [
      "243it [00:00, 1240.00it/s]"
     ]
    },
    {
     "name": "stdout",
     "output_type": "stream",
     "text": [
      "Parsed ../kickoff-detection-data/314f4989-398c-45a3-a74f-9f1adac71bf1.1.kickoff.rdb in 2.12 s.\n",
      "Contains keys: dict_keys(['right', 'left'])\n",
      "[right] start_ts: 1522587361602 | stop_ts: 1522587961442\n",
      "[left] start_ts: 1522587361524 | stop_ts: 1522587961404\n",
      "../kickoff-detection-data/314f4989-398c-45a3-a74f-9f1adac71bf1.json\n",
      "[{'phase': 1, 'type': 'start_phase', 'ts': '2018-04-01T13:01:01.209Z', 'kickoff_team_id': 9}, {'phase': 1, 'type': 'end_phase', 'ts': '2018-04-01T13:47:08.486Z'}, {'phase': 2, 'type': 'start_phase', 'ts': '2018-04-01T14:02:47.436Z', 'kickoff_team_id': 5}, {'phase': 2, 'type': 'end_phase', 'ts': '2018-04-01T14:50:51.103Z'}]\n"
     ]
    },
    {
     "name": "stderr",
     "output_type": "stream",
     "text": [
      "14908it [00:07, 1960.45it/s]\n"
     ]
    },
    {
     "name": "stdout",
     "output_type": "stream",
     "text": [
      "2680\n",
      "16\n",
      "8040 71\n",
      "16\n",
      "20\n"
     ]
    },
    {
     "name": "stderr",
     "output_type": "stream",
     "text": [
      "624it [00:00, 6234.43it/s]"
     ]
    },
    {
     "name": "stdout",
     "output_type": "stream",
     "text": [
      "Parsed ../kickoff-detection-data/03d0ac1b-8adb-457d-9519-b6c879a92df3.2.kickoff.rdb in 1.85 s.\n",
      "Contains keys: dict_keys(['right', 'left'])\n",
      "[right] start_ts: 1526825255814 | stop_ts: 1526825853694\n",
      "[left] start_ts: 1526825255686 | stop_ts: 1526825853606\n",
      "../kickoff-detection-data/03d0ac1b-8adb-457d-9519-b6c879a92df3.json\n",
      "[{'phase': 1, 'type': 'start_phase', 'ts': '2018-05-20T13:10:06.054Z', 'kickoff_team_id': 10}, {'phase': 1, 'type': 'end_phase', 'ts': '2018-05-20T13:55:08.940Z'}, {'phase': 2, 'type': 'start_phase', 'ts': '2018-05-20T14:12:33.841Z', 'kickoff_team_id': 2}, {'phase': 2, 'type': 'end_phase', 'ts': '2018-05-20T15:02:18.183Z'}]\n"
     ]
    },
    {
     "name": "stderr",
     "output_type": "stream",
     "text": [
      "14948it [00:06, 2397.27it/s]\n"
     ]
    },
    {
     "name": "stdout",
     "output_type": "stream",
     "text": [
      "2680\n",
      "17\n",
      "8040 71\n",
      "17\n",
      "21\n"
     ]
    },
    {
     "name": "stderr",
     "output_type": "stream",
     "text": [
      "1914it [00:00, 9099.82it/s]"
     ]
    },
    {
     "name": "stdout",
     "output_type": "stream",
     "text": [
      "Parsed ../kickoff-detection-data/8d6fc150-9f6b-4e5c-8a99-d2ca96b5ffa5.2.kickoff.rdb in 0.72 s.\n",
      "Contains keys: dict_keys(['right', 'left'])\n",
      "[right] start_ts: 1524160596802 | stop_ts: 1524160895362\n",
      "[left] start_ts: 1524160596162 | stop_ts: 1524160895082\n",
      "../kickoff-detection-data/8d6fc150-9f6b-4e5c-8a99-d2ca96b5ffa5.json\n",
      "[{'phase': 1, 'type': 'start_phase', 'ts': '2018-04-19T17:00:46.040Z', 'kickoff_team_id': 4}, {'phase': 1, 'type': 'end_phase', 'ts': '2018-04-19T17:45:47.791Z'}, {'phase': 2, 'type': 'start_phase', 'ts': '2018-04-19T18:01:35.679Z', 'kickoff_team_id': 2}, {'phase': 2, 'type': 'end_phase', 'ts': '2018-04-19T18:51:07.597Z'}]\n"
     ]
    },
    {
     "name": "stderr",
     "output_type": "stream",
     "text": [
      "7465it [00:02, 2967.66it/s]\n"
     ]
    },
    {
     "name": "stdout",
     "output_type": "stream",
     "text": [
      "2680\n",
      "0\n",
      "8040 27\n",
      "0\n"
     ]
    },
    {
     "name": "stderr",
     "output_type": "stream",
     "text": [
      "302it [00:00, 3012.12it/s]"
     ]
    },
    {
     "name": "stdout",
     "output_type": "stream",
     "text": [
      "Parsed ../kickoff-detection-data/47ed3e3a-56d1-4eb1-b5d3-9e5f9658fda7.2.kickoff.rdb in 0.88 s.\n",
      "Contains keys: dict_keys(['right', 'left'])\n",
      "[right] start_ts: 1526320594243 | stop_ts: 1526320892163\n",
      "[left] start_ts: 1526320594327 | stop_ts: 1526320892167\n",
      "../kickoff-detection-data/47ed3e3a-56d1-4eb1-b5d3-9e5f9658fda7.json\n",
      "[{'phase': 1, 'type': 'start_phase', 'ts': '2018-05-14T17:00:25.880Z', 'kickoff_team_id': 10}, {'phase': 1, 'type': 'end_phase', 'ts': '2018-05-14T17:46:28.806Z'}, {'phase': 2, 'type': 'start_phase', 'ts': '2018-05-14T18:01:32.219Z', 'kickoff_team_id': 13}, {'phase': 2, 'type': 'end_phase', 'ts': '2018-05-14T18:49:37.209Z'}]\n"
     ]
    },
    {
     "name": "stderr",
     "output_type": "stream",
     "text": [
      "7447it [00:03, 2300.09it/s]\n"
     ]
    },
    {
     "name": "stdout",
     "output_type": "stream",
     "text": [
      "2680\n",
      "0\n",
      "8040 27\n",
      "0\n"
     ]
    },
    {
     "name": "stderr",
     "output_type": "stream",
     "text": [
      "279it [00:00, 1367.33it/s]"
     ]
    },
    {
     "name": "stdout",
     "output_type": "stream",
     "text": [
      "Parsed ../kickoff-detection-data/58bc418b-cf05-415e-9dd1-6f4808535976.1.kickoff.rdb in 2.17 s.\n",
      "Contains keys: dict_keys(['right', 'left'])\n",
      "[right] start_ts: 1523292957288 | stop_ts: 1523293556968\n",
      "[left] start_ts: 1523292956846 | stop_ts: 1523293556726\n",
      "../kickoff-detection-data/58bc418b-cf05-415e-9dd1-6f4808535976.json\n",
      "[{'phase': 1, 'type': 'start_phase', 'ts': '2018-04-09T17:00:56.973Z', 'kickoff_team_id': 8}, {'phase': 1, 'type': 'end_phase', 'ts': '2018-04-09T17:47:19.651Z'}, {'phase': 2, 'type': 'start_phase', 'ts': '2018-04-09T18:08:25.917Z', 'kickoff_team_id': 10}, {'phase': 2, 'type': 'end_phase', 'ts': '2018-04-09T18:57:31.075Z'}]\n"
     ]
    },
    {
     "name": "stderr",
     "output_type": "stream",
     "text": [
      "14992it [00:07, 1938.90it/s]\n"
     ]
    },
    {
     "name": "stdout",
     "output_type": "stream",
     "text": [
      "2680\n",
      "16\n",
      "8040 72\n",
      "16\n",
      "22\n"
     ]
    },
    {
     "name": "stderr",
     "output_type": "stream",
     "text": [
      "434it [00:00, 4331.63it/s]"
     ]
    },
    {
     "name": "stdout",
     "output_type": "stream",
     "text": [
      "Parsed ../kickoff-detection-data/2281c504-baac-4d0b-8cb6-a95c23e3ac87.1.kickoff.rdb in 1.33 s.\n",
      "Contains keys: dict_keys(['right', 'left'])\n",
      "[right] start_ts: 1525096495413 | stop_ts: 1525097093933\n",
      "[left] start_ts: 1525096495433 | stop_ts: 1525097093953\n",
      "../kickoff-detection-data/2281c504-baac-4d0b-8cb6-a95c23e3ac87.json\n",
      "[{'phase': 1, 'type': 'start_phase', 'ts': '2018-04-30T13:59:53.940Z', 'kickoff_team_id': 15}, {'phase': 1, 'type': 'end_phase', 'ts': '2018-04-30T14:47:55.606Z'}, {'phase': 2, 'type': 'start_phase', 'ts': '2018-04-30T15:03:04.304Z', 'kickoff_team_id': 13}, {'phase': 2, 'type': 'end_phase', 'ts': '2018-04-30T15:50:18.572Z'}]\n"
     ]
    },
    {
     "name": "stderr",
     "output_type": "stream",
     "text": [
      "14964it [00:05, 2692.29it/s]\n"
     ]
    },
    {
     "name": "stdout",
     "output_type": "stream",
     "text": [
      "2680\n",
      "16\n",
      "8040 72\n",
      "16\n",
      "23\n"
     ]
    },
    {
     "name": "stderr",
     "output_type": "stream",
     "text": [
      "246it [00:00, 2451.66it/s]"
     ]
    },
    {
     "name": "stdout",
     "output_type": "stream",
     "text": [
      "Parsed ../kickoff-detection-data/916abbb2-57b9-4700-8cc5-3fc01de1a6f8.1.kickoff.rdb in 1.16 s.\n",
      "Contains keys: dict_keys(['right', 'left'])\n",
      "[right] start_ts: 1526745302339 | stop_ts: 1526745601139\n",
      "[left] start_ts: 1526745302179 | stop_ts: 1526745601059\n",
      "../kickoff-detection-data/916abbb2-57b9-4700-8cc5-3fc01de1a6f8.json\n",
      "[{'phase': 1, 'type': 'start_phase', 'ts': '2018-05-19T16:00:01.936Z', 'kickoff_team_id': 16}, {'phase': 1, 'type': 'end_phase', 'ts': '2018-05-19T16:46:01.609Z'}, {'phase': 2, 'type': 'start_phase', 'ts': '2018-05-19T17:02:55.285Z', 'kickoff_team_id': 4}, {'phase': 2, 'type': 'end_phase', 'ts': '2018-05-19T17:51:06.302Z'}]\n"
     ]
    },
    {
     "name": "stderr",
     "output_type": "stream",
     "text": [
      "7467it [00:03, 2056.01it/s]\n"
     ]
    },
    {
     "name": "stdout",
     "output_type": "stream",
     "text": [
      "2680\n",
      "0\n",
      "8040 27\n",
      "0\n"
     ]
    },
    {
     "name": "stderr",
     "output_type": "stream",
     "text": [
      "234it [00:00, 1168.21it/s]"
     ]
    },
    {
     "name": "stdout",
     "output_type": "stream",
     "text": [
      "Parsed ../kickoff-detection-data/d092d84a-bfe1-4638-bd6e-7f516a90553a.1.kickoff.rdb in 1.78 s.\n",
      "Contains keys: dict_keys(['right', 'left'])\n",
      "[right] start_ts: 1527342934142 | stop_ts: 1527343233022\n",
      "[left] start_ts: 1527342934172 | stop_ts: 1527343233012\n",
      "../kickoff-detection-data/d092d84a-bfe1-4638-bd6e-7f516a90553a.json\n",
      "[{'phase': 1, 'type': 'start_phase', 'ts': '2018-05-26T14:00:33.777Z', 'kickoff_team_id': 10}, {'phase': 1, 'type': 'end_phase', 'ts': '2018-05-26T14:46:31.767Z'}, {'phase': 2, 'type': 'start_phase', 'ts': '2018-05-26T15:01:39.568Z', 'kickoff_team_id': 4}, {'phase': 2, 'type': 'end_phase', 'ts': '2018-05-26T15:49:43.350Z'}]\n"
     ]
    },
    {
     "name": "stderr",
     "output_type": "stream",
     "text": [
      "7472it [00:05, 1367.35it/s]\n"
     ]
    },
    {
     "name": "stdout",
     "output_type": "stream",
     "text": [
      "2680\n",
      "0\n",
      "8040 27\n",
      "0\n"
     ]
    },
    {
     "name": "stderr",
     "output_type": "stream",
     "text": [
      "695it [00:00, 6942.67it/s]"
     ]
    },
    {
     "name": "stdout",
     "output_type": "stream",
     "text": [
      "Parsed ../kickoff-detection-data/98894ec5-61dc-4ab5-8829-1601e0d65775.1.kickoff.rdb in 0.82 s.\n",
      "Contains keys: dict_keys(['right', 'left'])\n",
      "[right] start_ts: 1527425703621 | stop_ts: 1527426002501\n",
      "[left] start_ts: 1527425703741 | stop_ts: 1527426002541\n",
      "../kickoff-detection-data/98894ec5-61dc-4ab5-8829-1601e0d65775.json\n",
      "[{'phase': 1, 'type': 'start_phase', 'ts': '2018-05-27T13:00:02.563Z', 'kickoff_team_id': 3}, {'phase': 1, 'type': 'end_phase', 'ts': '2018-05-27T13:46:09.887Z'}, {'phase': 2, 'type': 'start_phase', 'ts': '2018-05-27T14:01:35.210Z', 'kickoff_team_id': 6}, {'phase': 2, 'type': 'end_phase', 'ts': '2018-05-27T14:49:44.679Z'}]\n"
     ]
    },
    {
     "name": "stderr",
     "output_type": "stream",
     "text": [
      "7472it [00:03, 2466.15it/s]\n"
     ]
    },
    {
     "name": "stdout",
     "output_type": "stream",
     "text": [
      "2680\n",
      "0\n",
      "8040 27\n",
      "0\n"
     ]
    },
    {
     "name": "stderr",
     "output_type": "stream",
     "text": [
      "167it [00:00, 831.18it/s]"
     ]
    },
    {
     "name": "stdout",
     "output_type": "stream",
     "text": [
      "Parsed ../kickoff-detection-data/ba34fc2e-bdba-40d8-8cc8-a679c6eecd5a.1.kickoff.rdb in 1.65 s.\n",
      "Contains keys: dict_keys(['right', 'left'])\n",
      "[right] start_ts: 1522596366671 | stop_ts: 1522596965511\n",
      "[left] start_ts: 1522596366681 | stop_ts: 1522596965521\n",
      "../kickoff-detection-data/ba34fc2e-bdba-40d8-8cc8-a679c6eecd5a.json\n",
      "[{'phase': 1, 'type': 'start_phase', 'ts': '2018-04-01T15:31:05.017Z', 'kickoff_team_id': 11}, {'phase': 1, 'type': 'end_phase', 'ts': '2018-04-01T16:16:08.759Z'}, {'phase': 2, 'type': 'start_phase', 'ts': '2018-04-01T16:32:08.446Z', 'kickoff_team_id': 13}, {'phase': 2, 'type': 'end_phase', 'ts': '2018-04-01T17:20:20.880Z'}]\n"
     ]
    },
    {
     "name": "stderr",
     "output_type": "stream",
     "text": [
      "14972it [00:06, 2271.37it/s]\n"
     ]
    },
    {
     "name": "stdout",
     "output_type": "stream",
     "text": [
      "2680\n",
      "16\n",
      "8040 72\n",
      "16\n",
      "24\n"
     ]
    },
    {
     "name": "stderr",
     "output_type": "stream",
     "text": [
      "483it [00:00, 2415.78it/s]"
     ]
    },
    {
     "name": "stdout",
     "output_type": "stream",
     "text": [
      "Parsed ../kickoff-detection-data/c4b2214b-4e3c-4dfb-a691-a5b008b9d778.2.kickoff.rdb in 0.89 s.\n",
      "Contains keys: dict_keys(['right', 'left'])\n",
      "[right] start_ts: 1525614944224 | stop_ts: 1525615241984\n",
      "[left] start_ts: 1525614945214 | stop_ts: 1525615242494\n",
      "../kickoff-detection-data/c4b2214b-4e3c-4dfb-a691-a5b008b9d778.json\n",
      "[{'phase': 1, 'type': 'start_phase', 'ts': '2018-05-06T12:59:58.803Z', 'kickoff_team_id': 16}, {'phase': 1, 'type': 'end_phase', 'ts': '2018-05-06T13:45:00.746Z'}, {'phase': 2, 'type': 'start_phase', 'ts': '2018-05-06T14:00:42.453Z', 'kickoff_team_id': 9}, {'phase': 2, 'type': 'end_phase', 'ts': '2018-05-06T14:48:47.422Z'}]\n"
     ]
    },
    {
     "name": "stderr",
     "output_type": "stream",
     "text": [
      "7433it [00:03, 2356.18it/s]\n"
     ]
    },
    {
     "name": "stdout",
     "output_type": "stream",
     "text": [
      "2680\n",
      "0\n",
      "8040 27\n",
      "0\n"
     ]
    },
    {
     "name": "stderr",
     "output_type": "stream",
     "text": [
      "818it [00:00, 4066.57it/s]"
     ]
    },
    {
     "name": "stdout",
     "output_type": "stream",
     "text": [
      "Parsed ../kickoff-detection-data/05055edf-8142-45b9-954b-52d7caa7ce43.1.kickoff.rdb in 1.30 s.\n",
      "Contains keys: dict_keys(['right', 'left'])\n",
      "[right] start_ts: 1526662503699 | stop_ts: 1526663103219\n",
      "[left] start_ts: 1526662503769 | stop_ts: 1526663103249\n",
      "../kickoff-detection-data/05055edf-8142-45b9-954b-52d7caa7ce43.json\n",
      "[{'phase': 1, 'type': 'start_phase', 'ts': '2018-05-18T17:00:03.739Z', 'kickoff_team_id': 9}, {'phase': 1, 'type': 'end_phase', 'ts': '2018-05-18T17:45:08.881Z'}, {'phase': 2, 'type': 'start_phase', 'ts': '2018-05-18T18:00:30.258Z', 'kickoff_team_id': 15}, {'phase': 2, 'type': 'end_phase', 'ts': '2018-05-18T18:49:44.353Z'}]\n"
     ]
    },
    {
     "name": "stderr",
     "output_type": "stream",
     "text": [
      "14988it [00:04, 3117.72it/s]\n"
     ]
    },
    {
     "name": "stdout",
     "output_type": "stream",
     "text": [
      "2680\n",
      "16\n",
      "8040 72\n",
      "16\n",
      "25\n"
     ]
    },
    {
     "name": "stderr",
     "output_type": "stream",
     "text": [
      "361it [00:00, 3604.92it/s]"
     ]
    },
    {
     "name": "stdout",
     "output_type": "stream",
     "text": [
      "Parsed ../kickoff-detection-data/cbcca433-ff77-4927-a5a3-36ff293c12fd.2.kickoff.rdb in 1.30 s.\n",
      "Contains keys: dict_keys(['right', 'left'])\n",
      "[right] start_ts: 1523296748330 | stop_ts: 1523297346370\n",
      "[left] start_ts: 1523296760048 | stop_ts: 1523297356248\n",
      "../kickoff-detection-data/cbcca433-ff77-4927-a5a3-36ff293c12fd.json\n",
      "[{'phase': 1, 'type': 'start_phase', 'ts': '2018-04-09T17:00:44.667Z', 'kickoff_team_id': 15}, {'phase': 1, 'type': 'end_phase', 'ts': '2018-04-09T17:47:46.113Z'}, {'phase': 2, 'type': 'start_phase', 'ts': '2018-04-09T18:04:16.558Z', 'kickoff_team_id': 5}, {'phase': 2, 'type': 'end_phase', 'ts': '2018-04-09T18:53:12.188Z'}]\n"
     ]
    },
    {
     "name": "stderr",
     "output_type": "stream",
     "text": [
      "14906it [00:05, 2504.51it/s]\n"
     ]
    },
    {
     "name": "stdout",
     "output_type": "stream",
     "text": [
      "2680\n",
      "17\n",
      "8040 70\n",
      "17\n",
      "26\n"
     ]
    },
    {
     "name": "stderr",
     "output_type": "stream",
     "text": [
      "171it [00:00, 831.47it/s]"
     ]
    },
    {
     "name": "stdout",
     "output_type": "stream",
     "text": [
      "Parsed ../kickoff-detection-data/4b949eae-068b-4b0a-bc88-f5ef0a97b2ba.1.kickoff.rdb in 3.26 s.\n",
      "Contains keys: dict_keys(['right', 'left'])\n",
      "[right] start_ts: 1524318935116 | stop_ts: 1524319232636\n",
      "[left] start_ts: 1524318934512 | stop_ts: 1524319232312\n",
      "../kickoff-detection-data/4b949eae-068b-4b0a-bc88-f5ef0a97b2ba.json\n",
      "[{'phase': 1, 'type': 'start_phase', 'ts': '2018-04-21T14:00:32.294Z', 'kickoff_team_id': 13}, {'phase': 1, 'type': 'end_phase', 'ts': '2018-04-21T14:45:33.074Z'}, {'phase': 2, 'type': 'start_phase', 'ts': '2018-04-21T15:02:22.137Z', 'kickoff_team_id': 12}, {'phase': 2, 'type': 'end_phase', 'ts': '2018-04-21T15:50:24.649Z'}]\n"
     ]
    },
    {
     "name": "stderr",
     "output_type": "stream",
     "text": [
      "7440it [00:07, 953.13it/s] \n"
     ]
    },
    {
     "name": "stdout",
     "output_type": "stream",
     "text": [
      "2680\n",
      "0\n",
      "8040 27\n",
      "0\n"
     ]
    },
    {
     "name": "stderr",
     "output_type": "stream",
     "text": [
      "269it [00:00, 1352.02it/s]"
     ]
    },
    {
     "name": "stdout",
     "output_type": "stream",
     "text": [
      "Parsed ../kickoff-detection-data/a185c6c8-7383-4d19-927f-dc8f70726c34.1.kickoff.rdb in 3.44 s.\n",
      "Contains keys: dict_keys(['right', 'left'])\n",
      "[right] start_ts: 1523897795697 | stop_ts: 1523898395297\n",
      "[left] start_ts: 1523897795243 | stop_ts: 1523898395043\n",
      "../kickoff-detection-data/a185c6c8-7383-4d19-927f-dc8f70726c34.json\n",
      "[{'phase': 1, 'type': 'start_phase', 'ts': '2018-04-16T17:01:35.285Z', 'kickoff_team_id': 15}, {'phase': 1, 'type': 'end_phase', 'ts': '2018-04-16T17:46:39.313Z'}, {'phase': 2, 'type': 'start_phase', 'ts': '2018-04-16T18:02:50.296Z', 'kickoff_team_id': 2}, {'phase': 2, 'type': 'end_phase', 'ts': '2018-04-16T18:49:49.424Z'}]\n"
     ]
    },
    {
     "name": "stderr",
     "output_type": "stream",
     "text": [
      "14991it [00:10, 1417.06it/s]\n"
     ]
    },
    {
     "name": "stdout",
     "output_type": "stream",
     "text": [
      "2680\n",
      "16\n",
      "8040 72\n",
      "16\n",
      "27\n"
     ]
    },
    {
     "name": "stderr",
     "output_type": "stream",
     "text": [
      "396it [00:00, 1887.71it/s]"
     ]
    },
    {
     "name": "stdout",
     "output_type": "stream",
     "text": [
      "Parsed ../kickoff-detection-data/a5857e03-10b8-454a-89fb-c201985b04cb.2.kickoff.rdb in 1.80 s.\n",
      "Contains keys: dict_keys(['right', 'left'])\n",
      "[right] start_ts: 1523383083286 | stop_ts: 1523383682846\n",
      "[left] start_ts: 1523383083898 | stop_ts: 1523383683138\n",
      "../kickoff-detection-data/a5857e03-10b8-454a-89fb-c201985b04cb.json\n",
      "[{'phase': 1, 'type': 'start_phase', 'ts': '2018-04-10T17:01:14.985Z', 'kickoff_team_id': 6}, {'phase': 1, 'type': 'end_phase', 'ts': '2018-04-10T17:47:16.674Z'}, {'phase': 2, 'type': 'start_phase', 'ts': '2018-04-10T18:03:03.834Z', 'kickoff_team_id': 2}, {'phase': 2, 'type': 'end_phase', 'ts': '2018-04-10T18:51:05.058Z'}]\n"
     ]
    },
    {
     "name": "stderr",
     "output_type": "stream",
     "text": [
      "14982it [00:07, 2013.32it/s]\n"
     ]
    },
    {
     "name": "stdout",
     "output_type": "stream",
     "text": [
      "2680\n",
      "17\n",
      "8040 72\n",
      "17\n",
      "28\n"
     ]
    },
    {
     "name": "stderr",
     "output_type": "stream",
     "text": [
      "\r",
      "0it [00:00, ?it/s]"
     ]
    },
    {
     "name": "stdout",
     "output_type": "stream",
     "text": [
      "Parsed ../kickoff-detection-data/75366863-8063-4ece-8aca-1dcf75d22448.2.kickoff.rdb in 0.82 s.\n",
      "Contains keys: dict_keys(['right', 'left'])\n",
      "[right] start_ts: 1527185276926 | stop_ts: 1527185576806\n",
      "[left] start_ts: 1527185280818 | stop_ts: 1527185576738\n",
      "../kickoff-detection-data/75366863-8063-4ece-8aca-1dcf75d22448.json\n",
      "[{'phase': 1, 'type': 'start_phase', 'ts': '2018-05-24T17:06:45.366Z', 'kickoff_team_id': 6}, {'phase': 1, 'type': 'end_phase', 'ts': '2018-05-24T17:52:47.009Z'}, {'phase': 2, 'type': 'start_phase', 'ts': '2018-05-24T18:12:56.972Z', 'kickoff_team_id': 11}, {'phase': 2, 'type': 'end_phase', 'ts': '2018-05-24T19:02:55.588Z'}]\n"
     ]
    },
    {
     "name": "stderr",
     "output_type": "stream",
     "text": [
      "7399it [00:03, 2194.14it/s]\n"
     ]
    },
    {
     "name": "stdout",
     "output_type": "stream",
     "text": [
      "2680\n",
      "0\n",
      "8040 27\n",
      "0\n"
     ]
    },
    {
     "name": "stderr",
     "output_type": "stream",
     "text": [
      "296it [00:00, 1493.73it/s]"
     ]
    },
    {
     "name": "stdout",
     "output_type": "stream",
     "text": [
      "Parsed ../kickoff-detection-data/3382a9d0-02ff-4f23-9748-1b715d85b731.1.kickoff.rdb in 2.48 s.\n",
      "Contains keys: dict_keys(['right', 'left'])\n",
      "[right] start_ts: 1523805900650 | stop_ts: 1523806499170\n",
      "[left] start_ts: 1523805900082 | stop_ts: 1523806498882\n",
      "../kickoff-detection-data/3382a9d0-02ff-4f23-9748-1b715d85b731.json\n",
      "[{'phase': 1, 'type': 'start_phase', 'ts': '2018-04-15T15:29:58.007Z', 'kickoff_team_id': 6}, {'phase': 1, 'type': 'end_phase', 'ts': '2018-04-15T16:16:00.459Z'}, {'phase': 2, 'type': 'start_phase', 'ts': '2018-04-15T16:31:33.353Z', 'kickoff_team_id': 13}, {'phase': 2, 'type': 'end_phase', 'ts': '2018-04-15T17:19:35.565Z'}]\n"
     ]
    },
    {
     "name": "stderr",
     "output_type": "stream",
     "text": [
      "14963it [00:10, 1453.08it/s]\n"
     ]
    },
    {
     "name": "stdout",
     "output_type": "stream",
     "text": [
      "2680\n",
      "16\n",
      "8040 71\n",
      "16\n",
      "29\n"
     ]
    },
    {
     "name": "stderr",
     "output_type": "stream",
     "text": [
      "164it [00:00, 1632.53it/s]"
     ]
    },
    {
     "name": "stdout",
     "output_type": "stream",
     "text": [
      "Parsed ../kickoff-detection-data/9d1b40c0-efb0-4eb5-9ff4-bd13a55c0820.2.kickoff.rdb in 0.82 s.\n",
      "Contains keys: dict_keys(['right', 'left'])\n",
      "[right] start_ts: 1525715936409 | stop_ts: 1525716234249\n",
      "[left] start_ts: 1525715936459 | stop_ts: 1525716234259\n",
      "../kickoff-detection-data/9d1b40c0-efb0-4eb5-9ff4-bd13a55c0820.json\n",
      "[{'phase': 1, 'type': 'start_phase', 'ts': '2018-05-07T16:59:57.548Z', 'kickoff_team_id': 6}, {'phase': 1, 'type': 'end_phase', 'ts': '2018-05-07T17:45:00.886Z'}, {'phase': 2, 'type': 'start_phase', 'ts': '2018-05-07T18:03:54.378Z', 'kickoff_team_id': 6}, {'phase': 2, 'type': 'end_phase', 'ts': '2018-05-07T18:53:43.859Z'}]\n"
     ]
    },
    {
     "name": "stderr",
     "output_type": "stream",
     "text": [
      "7446it [00:03, 2011.65it/s]\n"
     ]
    },
    {
     "name": "stdout",
     "output_type": "stream",
     "text": [
      "2680\n",
      "0\n",
      "8040 27\n",
      "0\n"
     ]
    },
    {
     "name": "stderr",
     "output_type": "stream",
     "text": [
      "355it [00:00, 1834.05it/s]"
     ]
    },
    {
     "name": "stdout",
     "output_type": "stream",
     "text": [
      "Parsed ../kickoff-detection-data/19bebd81-3b61-492b-85ed-74ff887cbc45.1.kickoff.rdb in 1.99 s.\n",
      "Contains keys: dict_keys(['right', 'left'])\n",
      "[right] start_ts: 1522587371411 | stop_ts: 1522587968931\n",
      "[left] start_ts: 1522587371575 | stop_ts: 1522587969015\n",
      "../kickoff-detection-data/19bebd81-3b61-492b-85ed-74ff887cbc45.json\n",
      "[{'phase': 1, 'type': 'start_phase', 'ts': '2018-04-01T13:01:09.709Z', 'kickoff_team_id': 1}, {'phase': 1, 'type': 'end_phase', 'ts': '2018-04-01T13:47:53.692Z'}, {'phase': 2, 'type': 'start_phase', 'ts': '2018-04-01T14:05:32.177Z', 'kickoff_team_id': 2}, {'phase': 2, 'type': 'end_phase', 'ts': '2018-04-01T14:53:51.954Z'}]\n"
     ]
    },
    {
     "name": "stderr",
     "output_type": "stream",
     "text": [
      "14937it [00:08, 1660.32it/s]\n"
     ]
    },
    {
     "name": "stdout",
     "output_type": "stream",
     "text": [
      "2680\n",
      "17\n",
      "8040 71\n",
      "17\n",
      "30\n"
     ]
    },
    {
     "name": "stderr",
     "output_type": "stream",
     "text": [
      "240it [00:00, 2392.87it/s]"
     ]
    },
    {
     "name": "stdout",
     "output_type": "stream",
     "text": [
      "Parsed ../kickoff-detection-data/ba34fc2e-bdba-40d8-8cc8-a679c6eecd5a.2.kickoff.rdb in 1.85 s.\n",
      "Contains keys: dict_keys(['right', 'left'])\n",
      "[right] start_ts: 1522600030671 | stop_ts: 1522600628511\n",
      "[left] start_ts: 1522600030721 | stop_ts: 1522600628521\n",
      "../kickoff-detection-data/ba34fc2e-bdba-40d8-8cc8-a679c6eecd5a.json\n",
      "[{'phase': 1, 'type': 'start_phase', 'ts': '2018-04-01T15:31:05.017Z', 'kickoff_team_id': 11}, {'phase': 1, 'type': 'end_phase', 'ts': '2018-04-01T16:16:08.759Z'}, {'phase': 2, 'type': 'start_phase', 'ts': '2018-04-01T16:32:08.446Z', 'kickoff_team_id': 13}, {'phase': 2, 'type': 'end_phase', 'ts': '2018-04-01T17:20:20.880Z'}]\n"
     ]
    },
    {
     "name": "stderr",
     "output_type": "stream",
     "text": [
      "14946it [00:06, 2327.18it/s]\n"
     ]
    },
    {
     "name": "stdout",
     "output_type": "stream",
     "text": [
      "2680\n",
      "17\n",
      "8040 72\n",
      "17\n",
      "31\n"
     ]
    },
    {
     "name": "stderr",
     "output_type": "stream",
     "text": [
      "129it [00:00, 1281.26it/s]"
     ]
    },
    {
     "name": "stdout",
     "output_type": "stream",
     "text": [
      "Parsed ../kickoff-detection-data/2dc12819-d486-4925-a0e2-b8ae9ff1aed5.1.kickoff.rdb in 1.86 s.\n",
      "Contains keys: dict_keys(['right', 'left'])\n",
      "[right] start_ts: 1523192332775 | stop_ts: 1523192929695\n",
      "[left] start_ts: 1523192332019 | stop_ts: 1523192929339\n",
      "../kickoff-detection-data/2dc12819-d486-4925-a0e2-b8ae9ff1aed5.json\n",
      "[{'phase': 1, 'type': 'start_phase', 'ts': '2018-04-08T13:03:49.968Z', 'kickoff_team_id': 11}, {'phase': 1, 'type': 'end_phase', 'ts': '2018-04-08T13:48:52.077Z'}, {'phase': 2, 'type': 'start_phase', 'ts': '2018-04-08T14:05:14.493Z', 'kickoff_team_id': 14}, {'phase': 2, 'type': 'end_phase', 'ts': '2018-04-08T14:53:40.200Z'}]\n"
     ]
    },
    {
     "name": "stderr",
     "output_type": "stream",
     "text": [
      "14925it [00:08, 1746.81it/s]\n"
     ]
    },
    {
     "name": "stdout",
     "output_type": "stream",
     "text": [
      "2680\n",
      "17\n",
      "8040 71\n",
      "17\n",
      "32\n"
     ]
    },
    {
     "name": "stderr",
     "output_type": "stream",
     "text": [
      "712it [00:00, 3525.27it/s]"
     ]
    },
    {
     "name": "stdout",
     "output_type": "stream",
     "text": [
      "Parsed ../kickoff-detection-data/3382a9d0-02ff-4f23-9748-1b715d85b731.2.kickoff.rdb in 1.52 s.\n",
      "Contains keys: dict_keys(['right', 'left'])\n",
      "[right] start_ts: 1523809596650 | stop_ts: 1523810194170\n",
      "[left] start_ts: 1523809596082 | stop_ts: 1523810193882\n",
      "../kickoff-detection-data/3382a9d0-02ff-4f23-9748-1b715d85b731.json\n",
      "[{'phase': 1, 'type': 'start_phase', 'ts': '2018-04-15T15:29:58.007Z', 'kickoff_team_id': 6}, {'phase': 1, 'type': 'end_phase', 'ts': '2018-04-15T16:16:00.459Z'}, {'phase': 2, 'type': 'start_phase', 'ts': '2018-04-15T16:31:33.353Z', 'kickoff_team_id': 13}, {'phase': 2, 'type': 'end_phase', 'ts': '2018-04-15T17:19:35.565Z'}]\n"
     ]
    },
    {
     "name": "stderr",
     "output_type": "stream",
     "text": [
      "14938it [00:06, 2345.90it/s]\n"
     ]
    },
    {
     "name": "stdout",
     "output_type": "stream",
     "text": [
      "2680\n",
      "16\n",
      "8040 71\n",
      "16\n",
      "33\n"
     ]
    },
    {
     "name": "stderr",
     "output_type": "stream",
     "text": [
      "257it [00:00, 2562.05it/s]"
     ]
    },
    {
     "name": "stdout",
     "output_type": "stream",
     "text": [
      "Parsed ../kickoff-detection-data/5c74023d-a59b-49e5-9825-2f481dbebf39.2.kickoff.rdb in 0.79 s.\n",
      "Contains keys: dict_keys(['right', 'left'])\n",
      "[right] start_ts: 1524160664358 | stop_ts: 1524160960878\n",
      "[left] start_ts: 1524160665036 | stop_ts: 1524160961196\n",
      "../kickoff-detection-data/5c74023d-a59b-49e5-9825-2f481dbebf39.json\n",
      "[{'phase': 1, 'type': 'start_phase', 'ts': '2018-04-19T17:00:02.473Z', 'kickoff_team_id': 6}, {'phase': 1, 'type': 'end_phase', 'ts': '2018-04-19T17:47:05.681Z'}, {'phase': 2, 'type': 'start_phase', 'ts': '2018-04-19T18:02:41.621Z', 'kickoff_team_id': 16}, {'phase': 2, 'type': 'end_phase', 'ts': '2018-04-19T18:51:58.634Z'}]\n"
     ]
    },
    {
     "name": "stderr",
     "output_type": "stream",
     "text": [
      "7405it [00:02, 2518.46it/s]\n"
     ]
    },
    {
     "name": "stdout",
     "output_type": "stream",
     "text": [
      "2680\n",
      "0\n",
      "8040 27\n",
      "0\n"
     ]
    },
    {
     "name": "stderr",
     "output_type": "stream",
     "text": [
      "567it [00:00, 2914.03it/s]"
     ]
    },
    {
     "name": "stdout",
     "output_type": "stream",
     "text": [
      "Parsed ../kickoff-detection-data/84e8b33c-d912-495e-9e21-84bdd18e0e04.1.kickoff.rdb in 1.59 s.\n",
      "Contains keys: dict_keys(['right', 'left'])\n",
      "[right] start_ts: 1523638502169 | stop_ts: 1523639099769\n",
      "[left] start_ts: 1523638501659 | stop_ts: 1523639099539\n",
      "../kickoff-detection-data/84e8b33c-d912-495e-9e21-84bdd18e0e04.json\n",
      "[{'phase': 1, 'type': 'start_phase', 'ts': '2018-04-13T16:59:59.946Z', 'kickoff_team_id': 12}, {'phase': 1, 'type': 'end_phase', 'ts': '2018-04-13T17:45:38.365Z'}, {'phase': 2, 'type': 'start_phase', 'ts': '2018-04-13T18:00:40.466Z', 'kickoff_team_id': 14}, {'phase': 2, 'type': 'end_phase', 'ts': '2018-04-13T18:47:41.972Z'}]\n"
     ]
    },
    {
     "name": "stderr",
     "output_type": "stream",
     "text": [
      "14940it [00:07, 2071.58it/s]\n"
     ]
    },
    {
     "name": "stdout",
     "output_type": "stream",
     "text": [
      "2680\n",
      "17\n",
      "8040 71\n",
      "17\n",
      "34\n"
     ]
    },
    {
     "name": "stderr",
     "output_type": "stream",
     "text": [
      "418it [00:00, 2117.96it/s]"
     ]
    },
    {
     "name": "stdout",
     "output_type": "stream",
     "text": [
      "Parsed ../kickoff-detection-data/5c74023d-a59b-49e5-9825-2f481dbebf39.1.kickoff.rdb in 0.98 s.\n",
      "Contains keys: dict_keys(['right', 'left'])\n",
      "[right] start_ts: 1524156904358 | stop_ts: 1524157201878\n",
      "[left] start_ts: 1524156904996 | stop_ts: 1524157202196\n",
      "../kickoff-detection-data/5c74023d-a59b-49e5-9825-2f481dbebf39.json\n",
      "[{'phase': 1, 'type': 'start_phase', 'ts': '2018-04-19T17:00:02.473Z', 'kickoff_team_id': 6}, {'phase': 1, 'type': 'end_phase', 'ts': '2018-04-19T17:47:05.681Z'}, {'phase': 2, 'type': 'start_phase', 'ts': '2018-04-19T18:02:41.621Z', 'kickoff_team_id': 16}, {'phase': 2, 'type': 'end_phase', 'ts': '2018-04-19T18:51:58.634Z'}]\n"
     ]
    },
    {
     "name": "stderr",
     "output_type": "stream",
     "text": [
      "7431it [00:03, 2065.58it/s]\n"
     ]
    },
    {
     "name": "stdout",
     "output_type": "stream",
     "text": [
      "2680\n",
      "0\n",
      "8040 27\n",
      "0\n"
     ]
    },
    {
     "name": "stderr",
     "output_type": "stream",
     "text": [
      "501it [00:00, 2512.64it/s]"
     ]
    },
    {
     "name": "stdout",
     "output_type": "stream",
     "text": [
      "Parsed ../kickoff-detection-data/9e627901-09e2-4c84-bf77-6f0ec289fa5f.2.kickoff.rdb in 1.82 s.\n",
      "Contains keys: dict_keys(['right', 'left'])\n",
      "[right] start_ts: 1522686513973 | stop_ts: 1522687111853\n",
      "[left] start_ts: 1522686514029 | stop_ts: 1522687111869\n",
      "../kickoff-detection-data/9e627901-09e2-4c84-bf77-6f0ec289fa5f.json\n",
      "[{'phase': 1, 'type': 'start_phase', 'ts': '2018-04-02T15:32:25.029Z', 'kickoff_team_id': 7}, {'phase': 1, 'type': 'end_phase', 'ts': '2018-04-02T16:17:34.362Z'}, {'phase': 2, 'type': 'start_phase', 'ts': '2018-04-02T16:33:31.520Z', 'kickoff_team_id': 8}, {'phase': 2, 'type': 'end_phase', 'ts': '2018-04-02T17:22:39.373Z'}]\n"
     ]
    },
    {
     "name": "stderr",
     "output_type": "stream",
     "text": [
      "14946it [00:06, 2343.53it/s]\n"
     ]
    },
    {
     "name": "stdout",
     "output_type": "stream",
     "text": [
      "2680\n",
      "16\n",
      "8040 71\n",
      "16\n",
      "35\n"
     ]
    },
    {
     "name": "stderr",
     "output_type": "stream",
     "text": [
      "507it [00:00, 2493.10it/s]"
     ]
    },
    {
     "name": "stdout",
     "output_type": "stream",
     "text": [
      "Parsed ../kickoff-detection-data/723fa378-2b05-42e0-9631-a05bb1ed5e70.1.kickoff.rdb in 1.56 s.\n",
      "Contains keys: dict_keys(['right', 'left'])\n",
      "[right] start_ts: 1524502496828 | stop_ts: 1524502796348\n",
      "[left] start_ts: 1524502497320 | stop_ts: 1524502796600\n",
      "../kickoff-detection-data/723fa378-2b05-42e0-9631-a05bb1ed5e70.json\n",
      "[{'phase': 1, 'type': 'start_phase', 'ts': '2018-04-23T16:59:56.989Z', 'kickoff_team_id': 4}, {'phase': 1, 'type': 'end_phase', 'ts': '2018-04-23T17:45:26.980Z'}, {'phase': 2, 'type': 'start_phase', 'ts': '2018-04-23T18:01:16.310Z', 'kickoff_team_id': 1}, {'phase': 2, 'type': 'end_phase', 'ts': '2018-04-23T18:51:18.989Z'}]\n"
     ]
    },
    {
     "name": "stderr",
     "output_type": "stream",
     "text": [
      "7482it [00:04, 1680.08it/s]\n"
     ]
    },
    {
     "name": "stdout",
     "output_type": "stream",
     "text": [
      "2680\n",
      "0\n",
      "8040 27\n",
      "0\n"
     ]
    },
    {
     "name": "stderr",
     "output_type": "stream",
     "text": [
      "616it [00:00, 2946.17it/s]"
     ]
    },
    {
     "name": "stdout",
     "output_type": "stream",
     "text": [
      "Parsed ../kickoff-detection-data/4176c56a-b0df-4e64-aaeb-09150829ba15.2.kickoff.rdb in 1.62 s.\n",
      "Contains keys: dict_keys(['right', 'left'])\n",
      "[right] start_ts: 1526741990392 | stop_ts: 1526742590232\n",
      "[left] start_ts: 1526741990412 | stop_ts: 1526742590252\n",
      "../kickoff-detection-data/4176c56a-b0df-4e64-aaeb-09150829ba15.json\n",
      "[{'phase': 1, 'type': 'start_phase', 'ts': '2018-05-19T14:00:22.229Z', 'kickoff_team_id': 3}, {'phase': 1, 'type': 'end_phase', 'ts': '2018-05-19T14:48:34.080Z'}, {'phase': 2, 'type': 'start_phase', 'ts': '2018-05-19T15:04:50.325Z', 'kickoff_team_id': 13}, {'phase': 2, 'type': 'end_phase', 'ts': '2018-05-19T15:53:26.441Z'}]\n"
     ]
    },
    {
     "name": "stderr",
     "output_type": "stream",
     "text": [
      "14996it [00:05, 2618.90it/s]\n"
     ]
    },
    {
     "name": "stdout",
     "output_type": "stream",
     "text": [
      "2680\n",
      "17\n",
      "8040 73\n",
      "17\n",
      "36\n"
     ]
    },
    {
     "name": "stderr",
     "output_type": "stream",
     "text": [
      "580it [00:00, 2935.29it/s]"
     ]
    },
    {
     "name": "stdout",
     "output_type": "stream",
     "text": [
      "Parsed ../kickoff-detection-data/bd6faac0-e5f3-4b84-82a9-400c019ac08d.2.kickoff.rdb in 0.72 s.\n",
      "Contains keys: dict_keys(['right', 'left'])\n",
      "[right] start_ts: 1526320642055 | stop_ts: 1526320941935\n",
      "[left] start_ts: 1526320642105 | stop_ts: 1526320941985\n",
      "../kickoff-detection-data/bd6faac0-e5f3-4b84-82a9-400c019ac08d.json\n",
      "[{'phase': 1, 'type': 'start_phase', 'ts': '2018-05-14T17:00:30.256Z', 'kickoff_team_id': 7}, {'phase': 1, 'type': 'end_phase', 'ts': '2018-05-14T17:46:31.340Z'}, {'phase': 2, 'type': 'start_phase', 'ts': '2018-05-14T18:02:21.290Z', 'kickoff_team_id': 5}, {'phase': 2, 'type': 'end_phase', 'ts': '2018-05-14T18:49:16.627Z'}]\n"
     ]
    },
    {
     "name": "stderr",
     "output_type": "stream",
     "text": [
      "7498it [00:02, 2985.95it/s]\n"
     ]
    },
    {
     "name": "stdout",
     "output_type": "stream",
     "text": [
      "2680\n",
      "0\n",
      "8040 27\n",
      "0\n"
     ]
    },
    {
     "name": "stderr",
     "output_type": "stream",
     "text": [
      "301it [00:00, 3008.38it/s]"
     ]
    },
    {
     "name": "stdout",
     "output_type": "stream",
     "text": [
      "Parsed ../kickoff-detection-data/0d9e9e30-9d13-4af0-8e41-fe1669e9eeff.2.kickoff.rdb in 2.21 s.\n",
      "Contains keys: dict_keys(['right', 'left'])\n",
      "[right] start_ts: 1523195853031 | stop_ts: 1523196452911\n",
      "[left] start_ts: 1523195853517 | stop_ts: 1523196453157\n",
      "../kickoff-detection-data/0d9e9e30-9d13-4af0-8e41-fe1669e9eeff.json\n",
      "[{'phase': 1, 'type': 'start_phase', 'ts': '2018-04-08T13:00:28.503Z', 'kickoff_team_id': 7}, {'phase': 1, 'type': 'end_phase', 'ts': '2018-04-08T13:47:27.898Z'}, {'phase': 2, 'type': 'start_phase', 'ts': '2018-04-08T14:02:33.117Z', 'kickoff_team_id': 9}, {'phase': 2, 'type': 'end_phase', 'ts': '2018-04-08T14:51:34.402Z'}]\n"
     ]
    },
    {
     "name": "stderr",
     "output_type": "stream",
     "text": [
      "14992it [00:07, 1916.83it/s]\n"
     ]
    },
    {
     "name": "stdout",
     "output_type": "stream",
     "text": [
      "2680\n",
      "16\n",
      "8040 72\n",
      "16\n",
      "37\n"
     ]
    },
    {
     "name": "stderr",
     "output_type": "stream",
     "text": [
      "234it [00:00, 2337.56it/s]"
     ]
    },
    {
     "name": "stdout",
     "output_type": "stream",
     "text": [
      "Parsed ../kickoff-detection-data/2ef95134-9901-4550-97c7-74d0c82567d3.1.kickoff.rdb in 2.49 s.\n",
      "Contains keys: dict_keys(['right', 'left'])\n",
      "[right] start_ts: 1527425760258 | stop_ts: 1527426359098\n",
      "[left] start_ts: 1527425760228 | stop_ts: 1527426359108\n",
      "../kickoff-detection-data/2ef95134-9901-4550-97c7-74d0c82567d3.json\n",
      "[{'phase': 1, 'type': 'start_phase', 'ts': '2018-05-27T13:00:59.731Z', 'kickoff_team_id': 8}, {'phase': 1, 'type': 'end_phase', 'ts': '2018-05-27T13:48:03.896Z'}, {'phase': 2, 'type': 'start_phase', 'ts': '2018-05-27T14:04:02.857Z', 'kickoff_team_id': 16}, {'phase': 2, 'type': 'end_phase', 'ts': '2018-05-27T14:53:21.030Z'}]\n"
     ]
    },
    {
     "name": "stderr",
     "output_type": "stream",
     "text": [
      "14973it [00:07, 1880.43it/s]\n"
     ]
    },
    {
     "name": "stdout",
     "output_type": "stream",
     "text": [
      "2680\n",
      "16\n",
      "8040 72\n",
      "16\n",
      "38\n"
     ]
    },
    {
     "name": "stderr",
     "output_type": "stream",
     "text": [
      "470it [00:00, 2331.14it/s]"
     ]
    },
    {
     "name": "stdout",
     "output_type": "stream",
     "text": [
      "Parsed ../kickoff-detection-data/af42c9ca-ae8f-4d69-a671-15950883ecac.2.kickoff.rdb in 2.08 s.\n",
      "Contains keys: dict_keys(['right', 'left'])\n",
      "[right] start_ts: 1524927395612 | stop_ts: 1524927994452\n",
      "[left] start_ts: 1524927395556 | stop_ts: 1524927994436\n",
      "../kickoff-detection-data/af42c9ca-ae8f-4d69-a671-15950883ecac.json\n",
      "[{'phase': 1, 'type': 'start_phase', 'ts': '2018-04-28T14:00:19.834Z', 'kickoff_team_id': 6}, {'phase': 1, 'type': 'end_phase', 'ts': '2018-04-28T14:45:26.494Z'}, {'phase': 2, 'type': 'start_phase', 'ts': '2018-04-28T15:01:34.443Z', 'kickoff_team_id': 5}, {'phase': 2, 'type': 'end_phase', 'ts': '2018-04-28T15:49:36.913Z'}]\n"
     ]
    },
    {
     "name": "stderr",
     "output_type": "stream",
     "text": [
      "14973it [00:06, 2001.03it/s]\n"
     ]
    },
    {
     "name": "stdout",
     "output_type": "stream",
     "text": [
      "2680\n",
      "17\n",
      "8040 73\n",
      "17\n",
      "39\n"
     ]
    },
    {
     "name": "stderr",
     "output_type": "stream",
     "text": [
      "311it [00:00, 1539.35it/s]"
     ]
    },
    {
     "name": "stdout",
     "output_type": "stream",
     "text": [
      "Parsed ../kickoff-detection-data/da82a1ce-2e4c-4337-8ba8-3f2525399e31.1.kickoff.rdb in 1.25 s.\n",
      "Contains keys: dict_keys(['right', 'left'])\n",
      "[right] start_ts: 1525620358583 | stop_ts: 1525620655463\n",
      "[left] start_ts: 1525620358621 | stop_ts: 1525620655501\n",
      "../kickoff-detection-data/da82a1ce-2e4c-4337-8ba8-3f2525399e31.json\n",
      "[{'phase': 1, 'type': 'start_phase', 'ts': '2018-05-06T15:30:55.282Z', 'kickoff_team_id': 14}, {'phase': 1, 'type': 'end_phase', 'ts': '2018-05-06T16:16:55.775Z'}, {'phase': 2, 'type': 'start_phase', 'ts': '2018-05-06T16:31:59.785Z', 'kickoff_team_id': 5}, {'phase': 2, 'type': 'end_phase', 'ts': '2018-05-06T17:19:59.649Z'}]\n"
     ]
    },
    {
     "name": "stderr",
     "output_type": "stream",
     "text": [
      "7422it [00:03, 2093.40it/s]\n"
     ]
    },
    {
     "name": "stdout",
     "output_type": "stream",
     "text": [
      "2680\n",
      "0\n",
      "8040 27\n",
      "0\n"
     ]
    },
    {
     "name": "stderr",
     "output_type": "stream",
     "text": [
      "1068it [00:00, 5430.09it/s]"
     ]
    },
    {
     "name": "stdout",
     "output_type": "stream",
     "text": [
      "Parsed ../kickoff-detection-data/1e67ff07-1ca6-4778-a91e-024007e66974.1.kickoff.rdb in 0.64 s.\n",
      "Contains keys: dict_keys(['right', 'left'])\n",
      "[right] start_ts: 1527180903146 | stop_ts: 1527181202866\n",
      "[left] start_ts: 1527180903130 | stop_ts: 1527181202890\n",
      "../kickoff-detection-data/1e67ff07-1ca6-4778-a91e-024007e66974.json\n",
      "[{'phase': 1, 'type': 'start_phase', 'ts': '2018-05-24T17:00:02.098Z', 'kickoff_team_id': 16}, {'phase': 1, 'type': 'end_phase', 'ts': '2018-05-24T17:47:03.722Z'}, {'phase': 2, 'type': 'start_phase', 'ts': '2018-05-24T18:03:06.263Z', 'kickoff_team_id': 7}, {'phase': 2, 'type': 'end_phase', 'ts': '2018-05-24T18:51:18.432Z'}]\n"
     ]
    },
    {
     "name": "stderr",
     "output_type": "stream",
     "text": [
      "7494it [00:02, 3121.97it/s]\n"
     ]
    },
    {
     "name": "stdout",
     "output_type": "stream",
     "text": [
      "2680\n",
      "0\n",
      "8040 27\n",
      "0\n"
     ]
    },
    {
     "name": "stderr",
     "output_type": "stream",
     "text": [
      "554it [00:00, 2796.13it/s]"
     ]
    },
    {
     "name": "stdout",
     "output_type": "stream",
     "text": [
      "Parsed ../kickoff-detection-data/19bebd81-3b61-492b-85ed-74ff887cbc45.2.kickoff.rdb in 1.77 s.\n",
      "Contains keys: dict_keys(['right', 'left'])\n",
      "[right] start_ts: 1522591235411 | stop_ts: 1522591831931\n",
      "[left] start_ts: 1522591235535 | stop_ts: 1522591832015\n",
      "../kickoff-detection-data/19bebd81-3b61-492b-85ed-74ff887cbc45.json\n",
      "[{'phase': 1, 'type': 'start_phase', 'ts': '2018-04-01T13:01:09.709Z', 'kickoff_team_id': 1}, {'phase': 1, 'type': 'end_phase', 'ts': '2018-04-01T13:47:53.692Z'}, {'phase': 2, 'type': 'start_phase', 'ts': '2018-04-01T14:05:32.177Z', 'kickoff_team_id': 2}, {'phase': 2, 'type': 'end_phase', 'ts': '2018-04-01T14:53:51.954Z'}]\n"
     ]
    },
    {
     "name": "stderr",
     "output_type": "stream",
     "text": [
      "14913it [00:06, 2416.02it/s]\n"
     ]
    },
    {
     "name": "stdout",
     "output_type": "stream",
     "text": [
      "2680\n",
      "16\n",
      "8040 71\n",
      "16\n",
      "40\n"
     ]
    },
    {
     "name": "stderr",
     "output_type": "stream",
     "text": [
      "363it [00:00, 3629.14it/s]"
     ]
    },
    {
     "name": "stdout",
     "output_type": "stream",
     "text": [
      "Parsed ../kickoff-detection-data/d1a98e08-0f21-46fe-8457-01ff183ddbeb.2.kickoff.rdb in 0.77 s.\n",
      "Contains keys: dict_keys(['right', 'left'])\n",
      "[right] start_ts: 1526579945259 | stop_ts: 1526580242099\n",
      "[left] start_ts: 1526579945405 | stop_ts: 1526580242165\n",
      "../kickoff-detection-data/d1a98e08-0f21-46fe-8457-01ff183ddbeb.json\n",
      "[{'phase': 1, 'type': 'start_phase', 'ts': '2018-05-17T17:00:02.362Z', 'kickoff_team_id': 12}, {'phase': 1, 'type': 'end_phase', 'ts': '2018-05-17T17:47:07.092Z'}, {'phase': 2, 'type': 'start_phase', 'ts': '2018-05-17T18:04:02.891Z', 'kickoff_team_id': 11}, {'phase': 2, 'type': 'end_phase', 'ts': '2018-05-17T18:52:06.565Z'}]\n"
     ]
    },
    {
     "name": "stderr",
     "output_type": "stream",
     "text": [
      "7421it [00:02, 2739.35it/s]\n"
     ]
    },
    {
     "name": "stdout",
     "output_type": "stream",
     "text": [
      "2680\n",
      "0\n",
      "8040 27\n",
      "0\n"
     ]
    },
    {
     "name": "stderr",
     "output_type": "stream",
     "text": [
      "596it [00:00, 2963.55it/s]"
     ]
    },
    {
     "name": "stdout",
     "output_type": "stream",
     "text": [
      "Parsed ../kickoff-detection-data/a881fc70-93e4-43d9-b0c5-036f72eaa980.2.kickoff.rdb in 0.84 s.\n",
      "Contains keys: dict_keys(['right', 'left'])\n",
      "[right] start_ts: 1527098146008 | stop_ts: 1527098442848\n",
      "[left] start_ts: 1527098145982 | stop_ts: 1527098442822\n",
      "../kickoff-detection-data/a881fc70-93e4-43d9-b0c5-036f72eaa980.json\n",
      "[{'phase': 1, 'type': 'start_phase', 'ts': '2018-05-23T17:00:00.452Z', 'kickoff_team_id': 1}, {'phase': 1, 'type': 'end_phase', 'ts': '2018-05-23T17:45:22.894Z'}, {'phase': 2, 'type': 'start_phase', 'ts': '2018-05-23T18:00:42.106Z', 'kickoff_team_id': 13}, {'phase': 2, 'type': 'end_phase', 'ts': '2018-05-23T18:48:45.517Z'}]\n"
     ]
    },
    {
     "name": "stderr",
     "output_type": "stream",
     "text": [
      "7421it [00:03, 2249.33it/s]\n"
     ]
    },
    {
     "name": "stdout",
     "output_type": "stream",
     "text": [
      "2680\n",
      "0\n",
      "8040 27\n",
      "0\n"
     ]
    },
    {
     "name": "stderr",
     "output_type": "stream",
     "text": [
      "490it [00:00, 2442.72it/s]"
     ]
    },
    {
     "name": "stdout",
     "output_type": "stream",
     "text": [
      "Parsed ../kickoff-detection-data/3c7f617c-c839-4e5a-9e80-52017fa85d93.2.kickoff.rdb in 1.73 s.\n",
      "Contains keys: dict_keys(['right', 'left'])\n",
      "[right] start_ts: 1525010224933 | stop_ts: 1525010823773\n",
      "[left] start_ts: 1525010224949 | stop_ts: 1525010823789\n",
      "../kickoff-detection-data/3c7f617c-c839-4e5a-9e80-52017fa85d93.json\n",
      "[{'phase': 1, 'type': 'start_phase', 'ts': '2018-04-29T13:00:15.350Z', 'kickoff_team_id': 3}, {'phase': 1, 'type': 'end_phase', 'ts': '2018-04-29T13:46:17.178Z'}, {'phase': 2, 'type': 'start_phase', 'ts': '2018-04-29T14:02:03.347Z', 'kickoff_team_id': 7}, {'phase': 2, 'type': 'end_phase', 'ts': '2018-04-29T14:51:28.061Z'}]\n"
     ]
    },
    {
     "name": "stderr",
     "output_type": "stream",
     "text": [
      "14973it [00:06, 2342.20it/s]\n"
     ]
    },
    {
     "name": "stdout",
     "output_type": "stream",
     "text": [
      "2680\n",
      "16\n",
      "8040 72\n",
      "16\n",
      "41\n"
     ]
    },
    {
     "name": "stderr",
     "output_type": "stream",
     "text": [
      "755it [00:00, 3698.20it/s]"
     ]
    },
    {
     "name": "stdout",
     "output_type": "stream",
     "text": [
      "Parsed ../kickoff-detection-data/03d0ac1b-8adb-457d-9519-b6c879a92df3.1.kickoff.rdb in 1.33 s.\n",
      "Contains keys: dict_keys(['right', 'left'])\n",
      "[right] start_ts: 1526821507814 | stop_ts: 1526822106694\n",
      "[left] start_ts: 1526821507686 | stop_ts: 1526822106606\n",
      "../kickoff-detection-data/03d0ac1b-8adb-457d-9519-b6c879a92df3.json\n",
      "[{'phase': 1, 'type': 'start_phase', 'ts': '2018-05-20T13:10:06.054Z', 'kickoff_team_id': 10}, {'phase': 1, 'type': 'end_phase', 'ts': '2018-05-20T13:55:08.940Z'}, {'phase': 2, 'type': 'start_phase', 'ts': '2018-05-20T14:12:33.841Z', 'kickoff_team_id': 2}, {'phase': 2, 'type': 'end_phase', 'ts': '2018-05-20T15:02:18.183Z'}]\n"
     ]
    },
    {
     "name": "stderr",
     "output_type": "stream",
     "text": [
      "14972it [00:05, 2935.26it/s]\n"
     ]
    },
    {
     "name": "stdout",
     "output_type": "stream",
     "text": [
      "2680\n",
      "17\n",
      "8040 72\n",
      "17\n",
      "42\n"
     ]
    },
    {
     "name": "stderr",
     "output_type": "stream",
     "text": [
      "334it [00:00, 1679.46it/s]"
     ]
    },
    {
     "name": "stdout",
     "output_type": "stream",
     "text": [
      "Parsed ../kickoff-detection-data/4b5dc786-7219-46eb-bc5f-722a77011092.1.kickoff.rdb in 1.55 s.\n",
      "Contains keys: dict_keys(['right', 'left'])\n",
      "[right] start_ts: 1524848141057 | stop_ts: 1524848438937\n",
      "[left] start_ts: 1524848141035 | stop_ts: 1524848438915\n",
      "../kickoff-detection-data/4b5dc786-7219-46eb-bc5f-722a77011092.json\n",
      "[{'phase': 1, 'type': 'start_phase', 'ts': '2018-04-27T17:00:38.529Z', 'kickoff_team_id': 1}, {'phase': 1, 'type': 'end_phase', 'ts': '2018-04-27T17:48:39.186Z'}, {'phase': 2, 'type': 'start_phase', 'ts': '2018-04-27T18:05:12.740Z', 'kickoff_team_id': 10}, {'phase': 2, 'type': 'end_phase', 'ts': '2018-04-27T18:53:12.757Z'}]\n"
     ]
    },
    {
     "name": "stderr",
     "output_type": "stream",
     "text": [
      "7448it [00:04, 1667.00it/s]\n"
     ]
    },
    {
     "name": "stdout",
     "output_type": "stream",
     "text": [
      "2680\n",
      "0\n",
      "8040 27\n",
      "0\n"
     ]
    },
    {
     "name": "stderr",
     "output_type": "stream",
     "text": [
      "516it [00:00, 2512.11it/s]"
     ]
    },
    {
     "name": "stdout",
     "output_type": "stream",
     "text": [
      "Parsed ../kickoff-detection-data/cd6d495b-8fe4-4586-8861-ba579cf3a6e9.2.kickoff.rdb in 1.77 s.\n",
      "Contains keys: dict_keys(['right', 'left'])\n",
      "[right] start_ts: 1523800767317 | stop_ts: 1523801366837\n",
      "[left] start_ts: 1523800767685 | stop_ts: 1523801367045\n",
      "../kickoff-detection-data/cd6d495b-8fe4-4586-8861-ba579cf3a6e9.json\n",
      "[{'phase': 1, 'type': 'start_phase', 'ts': '2018-04-15T13:01:26.995Z', 'kickoff_team_id': None}, {'phase': 1, 'type': 'end_phase', 'ts': '2018-04-15T13:48:30.166Z'}, {'phase': 2, 'type': 'start_phase', 'ts': '2018-04-15T14:04:27.679Z', 'kickoff_team_id': None}, {'phase': 2, 'type': 'end_phase', 'ts': '2018-04-15T14:54:33.364Z'}]\n"
     ]
    },
    {
     "name": "stderr",
     "output_type": "stream",
     "text": [
      "14984it [00:06, 2279.09it/s]\n"
     ]
    },
    {
     "name": "stdout",
     "output_type": "stream",
     "text": [
      "2680\n",
      "17\n",
      "8040 72\n",
      "17\n",
      "43\n"
     ]
    },
    {
     "name": "stderr",
     "output_type": "stream",
     "text": [
      "689it [00:00, 3442.13it/s]"
     ]
    },
    {
     "name": "stdout",
     "output_type": "stream",
     "text": [
      "Parsed ../kickoff-detection-data/4903143c-68be-45f0-9746-e29547b7fa94.2.kickoff.rdb in 0.85 s.\n",
      "Contains keys: dict_keys(['right', 'left'])\n",
      "[right] start_ts: 1525532144685 | stop_ts: 1525532443525\n",
      "[left] start_ts: 1525532144705 | stop_ts: 1525532443545\n",
      "../kickoff-detection-data/4903143c-68be-45f0-9746-e29547b7fa94.json\n",
      "[{'phase': 1, 'type': 'start_phase', 'ts': '2018-05-05T14:00:02.592Z', 'kickoff_team_id': 13}, {'phase': 1, 'type': 'end_phase', 'ts': '2018-05-05T14:45:11.669Z'}, {'phase': 2, 'type': 'start_phase', 'ts': '2018-05-05T15:00:43.104Z', 'kickoff_team_id': 4}, {'phase': 2, 'type': 'end_phase', 'ts': '2018-05-05T15:50:08.057Z'}]\n"
     ]
    },
    {
     "name": "stderr",
     "output_type": "stream",
     "text": [
      "7472it [00:03, 2333.76it/s]\n"
     ]
    },
    {
     "name": "stdout",
     "output_type": "stream",
     "text": [
      "2680\n",
      "0\n",
      "8040 27\n",
      "0\n"
     ]
    },
    {
     "name": "stderr",
     "output_type": "stream",
     "text": [
      "238it [00:00, 1184.47it/s]"
     ]
    },
    {
     "name": "stdout",
     "output_type": "stream",
     "text": [
      "Parsed ../kickoff-detection-data/0281a840-f977-4e8a-86e2-eaf67845b528.1.kickoff.rdb in 2.63 s.\n",
      "Contains keys: dict_keys(['right', 'left'])\n",
      "[right] start_ts: 1525015525634 | stop_ts: 1525016123474\n",
      "[left] start_ts: 1525015525720 | stop_ts: 1525016123520\n",
      "../kickoff-detection-data/0281a840-f977-4e8a-86e2-eaf67845b528.json\n",
      "[{'phase': 1, 'type': 'start_phase', 'ts': '2018-04-29T15:30:23.194Z', 'kickoff_team_id': 9}, {'phase': 1, 'type': 'end_phase', 'ts': '2018-04-29T16:18:22.995Z'}, {'phase': 2, 'type': 'start_phase', 'ts': '2018-04-29T16:33:55.146Z', 'kickoff_team_id': 8}, {'phase': 2, 'type': 'end_phase', 'ts': '2018-04-29T17:21:44.969Z'}]\n"
     ]
    },
    {
     "name": "stderr",
     "output_type": "stream",
     "text": [
      "14947it [00:08, 1737.32it/s]\n"
     ]
    },
    {
     "name": "stdout",
     "output_type": "stream",
     "text": [
      "2680\n",
      "16\n",
      "8040 71\n",
      "16\n",
      "44\n"
     ]
    },
    {
     "name": "stderr",
     "output_type": "stream",
     "text": [
      "920it [00:00, 4736.48it/s]"
     ]
    },
    {
     "name": "stdout",
     "output_type": "stream",
     "text": [
      "Parsed ../kickoff-detection-data/5dcb4696-281c-4bff-9ec7-02322c1b4a67.2.kickoff.rdb in 1.66 s.\n",
      "Contains keys: dict_keys(['right', 'left'])\n",
      "[right] start_ts: 1525019311670 | stop_ts: 1525019910510\n",
      "[left] start_ts: 1525019311714 | stop_ts: 1525019910514\n",
      "../kickoff-detection-data/5dcb4696-281c-4bff-9ec7-02322c1b4a67.json\n",
      "[{'phase': 1, 'type': 'start_phase', 'ts': '2018-04-29T15:30:02.790Z', 'kickoff_team_id': 14}, {'phase': 1, 'type': 'end_phase', 'ts': '2018-04-29T16:17:03.667Z'}, {'phase': 2, 'type': 'start_phase', 'ts': '2018-04-29T16:33:30.971Z', 'kickoff_team_id': 4}, {'phase': 2, 'type': 'end_phase', 'ts': '2018-04-29T17:24:05.565Z'}]\n"
     ]
    },
    {
     "name": "stderr",
     "output_type": "stream",
     "text": [
      "14970it [00:05, 2795.20it/s]\n"
     ]
    },
    {
     "name": "stdout",
     "output_type": "stream",
     "text": [
      "2680\n",
      "17\n",
      "8040 72\n",
      "17\n",
      "45\n"
     ]
    },
    {
     "name": "stderr",
     "output_type": "stream",
     "text": [
      "511it [00:00, 5104.82it/s]"
     ]
    },
    {
     "name": "stdout",
     "output_type": "stream",
     "text": [
      "Parsed ../kickoff-detection-data/456910d1-b523-4ff2-b60c-fcd1f016b96d.1.kickoff.rdb in 0.71 s.\n",
      "Contains keys: dict_keys(['right', 'left'])\n",
      "[right] start_ts: 1524502502884 | stop_ts: 1524502800764\n",
      "[left] start_ts: 1524502503416 | stop_ts: 1524502801016\n",
      "../kickoff-detection-data/456910d1-b523-4ff2-b60c-fcd1f016b96d.json\n",
      "[{'phase': 1, 'type': 'start_phase', 'ts': '2018-04-23T17:00:01.962Z', 'kickoff_team_id': 7}, {'phase': 1, 'type': 'end_phase', 'ts': '2018-04-23T17:47:08.130Z'}, {'phase': 2, 'type': 'start_phase', 'ts': '2018-04-23T18:02:31.991Z', 'kickoff_team_id': 11}, {'phase': 2, 'type': 'end_phase', 'ts': '2018-04-23T18:50:33.464Z'}]\n"
     ]
    },
    {
     "name": "stderr",
     "output_type": "stream",
     "text": [
      "7440it [00:02, 3413.82it/s]\n"
     ]
    },
    {
     "name": "stdout",
     "output_type": "stream",
     "text": [
      "2680\n",
      "0\n",
      "8040 27\n",
      "0\n"
     ]
    },
    {
     "name": "stderr",
     "output_type": "stream",
     "text": [
      "277it [00:00, 1387.03it/s]"
     ]
    },
    {
     "name": "stdout",
     "output_type": "stream",
     "text": [
      "Parsed ../kickoff-detection-data/af42c9ca-ae8f-4d69-a671-15950883ecac.1.kickoff.rdb in 3.40 s.\n",
      "Contains keys: dict_keys(['right', 'left'])\n",
      "[right] start_ts: 1524923719612 | stop_ts: 1524924319452\n",
      "[left] start_ts: 1524923719596 | stop_ts: 1524924319436\n",
      "../kickoff-detection-data/af42c9ca-ae8f-4d69-a671-15950883ecac.json\n",
      "[{'phase': 1, 'type': 'start_phase', 'ts': '2018-04-28T14:00:19.834Z', 'kickoff_team_id': 6}, {'phase': 1, 'type': 'end_phase', 'ts': '2018-04-28T14:45:26.494Z'}, {'phase': 2, 'type': 'start_phase', 'ts': '2018-04-28T15:01:34.443Z', 'kickoff_team_id': 5}, {'phase': 2, 'type': 'end_phase', 'ts': '2018-04-28T15:49:36.913Z'}]\n"
     ]
    },
    {
     "name": "stderr",
     "output_type": "stream",
     "text": [
      "14997it [00:09, 1546.40it/s]\n"
     ]
    },
    {
     "name": "stdout",
     "output_type": "stream",
     "text": [
      "2680\n",
      "16\n",
      "8040 72\n",
      "16\n",
      "46\n"
     ]
    },
    {
     "name": "stderr",
     "output_type": "stream",
     "text": [
      "306it [00:00, 3057.42it/s]"
     ]
    },
    {
     "name": "stdout",
     "output_type": "stream",
     "text": [
      "Parsed ../kickoff-detection-data/0ad7e9ee-4ff5-4bfa-b2f6-82a1cde04eeb.1.kickoff.rdb in 2.15 s.\n",
      "Contains keys: dict_keys(['right', 'left'])\n",
      "[right] start_ts: 1524410705609 | stop_ts: 1524411302249\n",
      "[left] start_ts: 1524410705099 | stop_ts: 1524411301979\n",
      "../kickoff-detection-data/0ad7e9ee-4ff5-4bfa-b2f6-82a1cde04eeb.json\n",
      "[{'phase': 1, 'type': 'start_phase', 'ts': '2018-04-22T15:30:02.243Z', 'kickoff_team_id': 14}, {'phase': 1, 'type': 'end_phase', 'ts': '2018-04-22T16:15:07.030Z'}, {'phase': 2, 'type': 'start_phase', 'ts': '2018-04-22T16:30:44.239Z', 'kickoff_team_id': 9}, {'phase': 2, 'type': 'end_phase', 'ts': '2018-04-22T17:20:43.958Z'}]\n"
     ]
    },
    {
     "name": "stderr",
     "output_type": "stream",
     "text": [
      "14916it [00:06, 2205.62it/s]\n"
     ]
    },
    {
     "name": "stdout",
     "output_type": "stream",
     "text": [
      "2680\n",
      "16\n",
      "8040 71\n",
      "16\n",
      "47\n"
     ]
    },
    {
     "name": "stderr",
     "output_type": "stream",
     "text": [
      "493it [00:00, 2412.39it/s]"
     ]
    },
    {
     "name": "stdout",
     "output_type": "stream",
     "text": [
      "Parsed ../kickoff-detection-data/c79d79f1-5f51-4595-b931-4719f91a4575.2.kickoff.rdb in 1.53 s.\n",
      "Contains keys: dict_keys(['right', 'left'])\n",
      "[right] start_ts: 1525107584005 | stop_ts: 1525108183845\n",
      "[left] start_ts: 1525107583965 | stop_ts: 1525108183805\n",
      "../kickoff-detection-data/c79d79f1-5f51-4595-b931-4719f91a4575.json\n",
      "[{'phase': 1, 'type': 'start_phase', 'ts': '2018-04-30T16:01:44.820Z', 'kickoff_team_id': 12}, {'phase': 1, 'type': 'end_phase', 'ts': '2018-04-30T16:48:14.773Z'}, {'phase': 2, 'type': 'start_phase', 'ts': '2018-04-30T17:04:43.376Z', 'kickoff_team_id': 16}, {'phase': 2, 'type': 'end_phase', 'ts': '2018-04-30T17:54:48.605Z'}]\n"
     ]
    },
    {
     "name": "stderr",
     "output_type": "stream",
     "text": [
      "14997it [00:06, 2171.49it/s]\n"
     ]
    },
    {
     "name": "stdout",
     "output_type": "stream",
     "text": [
      "2680\n",
      "16\n",
      "8040 72\n",
      "16\n",
      "48\n"
     ]
    },
    {
     "name": "stderr",
     "output_type": "stream",
     "text": [
      "310it [00:00, 1526.39it/s]"
     ]
    },
    {
     "name": "stdout",
     "output_type": "stream",
     "text": [
      "Parsed ../kickoff-detection-data/2739587b-312a-4d40-ba1a-9b5e3ebf5c9c.1.kickoff.rdb in 2.91 s.\n",
      "Contains keys: dict_keys(['right', 'left'])\n",
      "[right] start_ts: 1527425706526 | stop_ts: 1527426305406\n",
      "[left] start_ts: 1527425706666 | stop_ts: 1527426305466\n",
      "../kickoff-detection-data/2739587b-312a-4d40-ba1a-9b5e3ebf5c9c.json\n",
      "[{'phase': 1, 'type': 'start_phase', 'ts': '2018-05-27T13:00:05.658Z', 'kickoff_team_id': 2}, {'phase': 1, 'type': 'end_phase', 'ts': '2018-05-27T13:48:06.407Z'}, {'phase': 2, 'type': 'start_phase', 'ts': '2018-05-27T14:05:25.539Z', 'kickoff_team_id': 9}, {'phase': 2, 'type': 'end_phase', 'ts': '2018-05-27T14:54:05.123Z'}]\n"
     ]
    },
    {
     "name": "stderr",
     "output_type": "stream",
     "text": [
      "14971it [00:10, 1411.57it/s]\n"
     ]
    },
    {
     "name": "stdout",
     "output_type": "stream",
     "text": [
      "2680\n",
      "17\n",
      "8040 72\n",
      "17\n",
      "49\n"
     ]
    },
    {
     "name": "stderr",
     "output_type": "stream",
     "text": [
      "202it [00:00, 1007.55it/s]"
     ]
    },
    {
     "name": "stdout",
     "output_type": "stream",
     "text": [
      "Parsed ../kickoff-detection-data/a881fc70-93e4-43d9-b0c5-036f72eaa980.1.kickoff.rdb in 3.11 s.\n",
      "Contains keys: dict_keys(['right', 'left'])\n",
      "[right] start_ts: 1527094502008 | stop_ts: 1527094800848\n",
      "[left] start_ts: 1527094501982 | stop_ts: 1527094800822\n",
      "../kickoff-detection-data/a881fc70-93e4-43d9-b0c5-036f72eaa980.json\n",
      "[{'phase': 1, 'type': 'start_phase', 'ts': '2018-05-23T17:00:00.452Z', 'kickoff_team_id': 1}, {'phase': 1, 'type': 'end_phase', 'ts': '2018-05-23T17:45:22.894Z'}, {'phase': 2, 'type': 'start_phase', 'ts': '2018-05-23T18:00:42.106Z', 'kickoff_team_id': 13}, {'phase': 2, 'type': 'end_phase', 'ts': '2018-05-23T18:48:45.517Z'}]\n"
     ]
    },
    {
     "name": "stderr",
     "output_type": "stream",
     "text": [
      "7472it [00:08, 870.58it/s] \n"
     ]
    },
    {
     "name": "stdout",
     "output_type": "stream",
     "text": [
      "2680\n",
      "0\n",
      "8040 27\n",
      "0\n"
     ]
    },
    {
     "name": "stderr",
     "output_type": "stream",
     "text": [
      "642it [00:00, 3074.13it/s]"
     ]
    },
    {
     "name": "stdout",
     "output_type": "stream",
     "text": [
      "Parsed ../kickoff-detection-data/cd6d495b-8fe4-4586-8861-ba579cf3a6e9.1.kickoff.rdb in 0.72 s.\n",
      "Contains keys: dict_keys(['right', 'left'])\n",
      "[right] start_ts: 1523797351317 | stop_ts: 1523797585837\n",
      "[left] start_ts: 1523797351725 | stop_ts: 1523797586045\n",
      "../kickoff-detection-data/cd6d495b-8fe4-4586-8861-ba579cf3a6e9.json\n",
      "[{'phase': 1, 'type': 'start_phase', 'ts': '2018-04-15T13:01:26.995Z', 'kickoff_team_id': None}, {'phase': 1, 'type': 'end_phase', 'ts': '2018-04-15T13:48:30.166Z'}, {'phase': 2, 'type': 'start_phase', 'ts': '2018-04-15T14:04:27.679Z', 'kickoff_team_id': None}, {'phase': 2, 'type': 'end_phase', 'ts': '2018-04-15T14:54:33.364Z'}]\n"
     ]
    },
    {
     "name": "stderr",
     "output_type": "stream",
     "text": [
      "5860it [00:02, 2656.28it/s]\n"
     ]
    },
    {
     "name": "stdout",
     "output_type": "stream",
     "text": [
      "2680\n",
      "0\n",
      "8040 21\n",
      "0\n"
     ]
    },
    {
     "name": "stderr",
     "output_type": "stream",
     "text": [
      "214it [00:00, 2134.06it/s]"
     ]
    },
    {
     "name": "stdout",
     "output_type": "stream",
     "text": [
      "Parsed ../kickoff-detection-data/2ef95134-9901-4550-97c7-74d0c82567d3.2.kickoff.rdb in 1.52 s.\n",
      "Contains keys: dict_keys(['right', 'left'])\n",
      "[right] start_ts: 1527429544258 | stop_ts: 1527430142098\n",
      "[left] start_ts: 1527429544228 | stop_ts: 1527430142108\n",
      "../kickoff-detection-data/2ef95134-9901-4550-97c7-74d0c82567d3.json\n",
      "[{'phase': 1, 'type': 'start_phase', 'ts': '2018-05-27T13:00:59.731Z', 'kickoff_team_id': 8}, {'phase': 1, 'type': 'end_phase', 'ts': '2018-05-27T13:48:03.896Z'}, {'phase': 2, 'type': 'start_phase', 'ts': '2018-05-27T14:04:02.857Z', 'kickoff_team_id': 16}, {'phase': 2, 'type': 'end_phase', 'ts': '2018-05-27T14:53:21.030Z'}]\n"
     ]
    },
    {
     "name": "stderr",
     "output_type": "stream",
     "text": [
      "14948it [00:06, 2230.07it/s]\n"
     ]
    },
    {
     "name": "stdout",
     "output_type": "stream",
     "text": [
      "2680\n",
      "16\n",
      "8040 72\n",
      "16\n",
      "50\n"
     ]
    },
    {
     "name": "stderr",
     "output_type": "stream",
     "text": [
      "508it [00:00, 5079.06it/s]"
     ]
    },
    {
     "name": "stdout",
     "output_type": "stream",
     "text": [
      "Parsed ../kickoff-detection-data/23fb8811-638e-4be8-a01d-76cad0f5a5bf.2.kickoff.rdb in 0.68 s.\n",
      "Contains keys: dict_keys(['right', 'left'])\n",
      "[right] start_ts: 1526136983581 | stop_ts: 1526137283461\n",
      "[left] start_ts: 1526136983595 | stop_ts: 1526137283435\n",
      "../kickoff-detection-data/23fb8811-638e-4be8-a01d-76cad0f5a5bf.json\n",
      "[{'phase': 1, 'type': 'start_phase', 'ts': '2018-05-12T14:00:02.187Z', 'kickoff_team_id': 3}, {'phase': 1, 'type': 'end_phase', 'ts': '2018-05-12T14:46:02.666Z'}, {'phase': 2, 'type': 'start_phase', 'ts': '2018-05-12T15:01:23.069Z', 'kickoff_team_id': 15}, {'phase': 2, 'type': 'end_phase', 'ts': '2018-05-12T15:48:40.504Z'}]\n"
     ]
    },
    {
     "name": "stderr",
     "output_type": "stream",
     "text": [
      "7497it [00:02, 3171.59it/s]\n"
     ]
    },
    {
     "name": "stdout",
     "output_type": "stream",
     "text": [
      "2680\n",
      "0\n",
      "8040 27\n",
      "0\n"
     ]
    },
    {
     "name": "stderr",
     "output_type": "stream",
     "text": [
      "319it [00:00, 1563.37it/s]"
     ]
    },
    {
     "name": "stdout",
     "output_type": "stream",
     "text": [
      "Parsed ../kickoff-detection-data/13ab8e56-a03f-4b85-a0b2-341d7e633cbe.1.kickoff.rdb in 1.19 s.\n",
      "Contains keys: dict_keys(['right', 'left'])\n",
      "[right] start_ts: 1527008130685 | stop_ts: 1527008428605\n",
      "[left] start_ts: 1527008130907 | stop_ts: 1527008428667\n",
      "../kickoff-detection-data/13ab8e56-a03f-4b85-a0b2-341d7e633cbe.json\n",
      "[{'phase': 1, 'type': 'start_phase', 'ts': '2018-05-22T17:00:28.658Z', 'kickoff_team_id': 12}, {'phase': 1, 'type': 'end_phase', 'ts': '2018-05-22T17:45:23.540Z'}, {'phase': 2, 'type': 'start_phase', 'ts': '2018-05-22T18:00:50.225Z', 'kickoff_team_id': 9}, {'phase': 2, 'type': 'end_phase', 'ts': '2018-05-22T18:49:53.949Z'}]\n"
     ]
    },
    {
     "name": "stderr",
     "output_type": "stream",
     "text": [
      "7445it [00:03, 1919.55it/s]\n"
     ]
    },
    {
     "name": "stdout",
     "output_type": "stream",
     "text": [
      "2680\n",
      "0\n",
      "8040 27\n",
      "0\n"
     ]
    },
    {
     "name": "stderr",
     "output_type": "stream",
     "text": [
      "751it [00:00, 3849.09it/s]"
     ]
    },
    {
     "name": "stdout",
     "output_type": "stream",
     "text": [
      "Parsed ../kickoff-detection-data/13ab8e56-a03f-4b85-a0b2-341d7e633cbe.2.kickoff.rdb in 0.76 s.\n",
      "Contains keys: dict_keys(['right', 'left'])\n",
      "[right] start_ts: 1527011750725 | stop_ts: 1527012050605\n",
      "[left] start_ts: 1527011750867 | stop_ts: 1527012050667\n",
      "../kickoff-detection-data/13ab8e56-a03f-4b85-a0b2-341d7e633cbe.json\n",
      "[{'phase': 1, 'type': 'start_phase', 'ts': '2018-05-22T17:00:28.658Z', 'kickoff_team_id': 12}, {'phase': 1, 'type': 'end_phase', 'ts': '2018-05-22T17:45:23.540Z'}, {'phase': 2, 'type': 'start_phase', 'ts': '2018-05-22T18:00:50.225Z', 'kickoff_team_id': 9}, {'phase': 2, 'type': 'end_phase', 'ts': '2018-05-22T18:49:53.949Z'}]\n"
     ]
    },
    {
     "name": "stderr",
     "output_type": "stream",
     "text": [
      "7496it [00:02, 2695.24it/s]\n"
     ]
    },
    {
     "name": "stdout",
     "output_type": "stream",
     "text": [
      "2680\n",
      "0\n",
      "8040 27\n",
      "0\n"
     ]
    },
    {
     "name": "stderr",
     "output_type": "stream",
     "text": [
      "280it [00:00, 1451.47it/s]"
     ]
    },
    {
     "name": "stdout",
     "output_type": "stream",
     "text": [
      "Parsed ../kickoff-detection-data/adffa69d-f1aa-4aa1-9b15-fab3aa629e4f.1.kickoff.rdb in 2.01 s.\n",
      "Contains keys: dict_keys(['right', 'left'])\n",
      "[right] start_ts: 1526216111185 | stop_ts: 1526216408985\n",
      "[left] start_ts: 1526216111023 | stop_ts: 1526216408903\n",
      "../kickoff-detection-data/adffa69d-f1aa-4aa1-9b15-fab3aa629e4f.json\n",
      "[{'phase': 1, 'type': 'start_phase', 'ts': '2018-05-13T13:00:08.809Z', 'kickoff_team_id': 11}, {'phase': 1, 'type': 'end_phase', 'ts': '2018-05-13T13:47:11.419Z'}, {'phase': 2, 'type': 'start_phase', 'ts': '2018-05-13T14:04:08.880Z', 'kickoff_team_id': 16}, {'phase': 2, 'type': 'end_phase', 'ts': '2018-05-13T14:54:45.215Z'}]\n"
     ]
    },
    {
     "name": "stderr",
     "output_type": "stream",
     "text": [
      "7446it [00:05, 1332.86it/s]\n"
     ]
    },
    {
     "name": "stdout",
     "output_type": "stream",
     "text": [
      "2680\n",
      "0\n",
      "8040 27\n",
      "0\n"
     ]
    },
    {
     "name": "stderr",
     "output_type": "stream",
     "text": [
      "110it [00:00, 1098.60it/s]"
     ]
    },
    {
     "name": "stdout",
     "output_type": "stream",
     "text": [
      "Parsed ../kickoff-detection-data/a01d4b8a-cffb-4778-99c6-d0a53016e129.1.kickoff.rdb in 1.76 s.\n",
      "Contains keys: dict_keys(['right', 'left'])\n",
      "[right] start_ts: 1526489830925 | stop_ts: 1526490129805\n",
      "[left] start_ts: 1526489830965 | stop_ts: 1526490129805\n",
      "../kickoff-detection-data/a01d4b8a-cffb-4778-99c6-d0a53016e129.json\n",
      "[{'phase': 1, 'type': 'start_phase', 'ts': '2018-05-16T17:02:09.192Z', 'kickoff_team_id': 2}, {'phase': 1, 'type': 'end_phase', 'ts': '2018-05-16T17:48:11.998Z'}, {'phase': 2, 'type': 'start_phase', 'ts': '2018-05-16T18:04:31.734Z', 'kickoff_team_id': 8}, {'phase': 2, 'type': 'end_phase', 'ts': '2018-05-16T18:53:55.743Z'}]\n"
     ]
    },
    {
     "name": "stderr",
     "output_type": "stream",
     "text": [
      "7472it [00:05, 1439.58it/s]\n"
     ]
    },
    {
     "name": "stdout",
     "output_type": "stream",
     "text": [
      "2680\n",
      "0\n",
      "8040 27\n",
      "0\n"
     ]
    },
    {
     "name": "stderr",
     "output_type": "stream",
     "text": [
      "258it [00:00, 2574.44it/s]"
     ]
    },
    {
     "name": "stdout",
     "output_type": "stream",
     "text": [
      "Parsed ../kickoff-detection-data/314f4989-398c-45a3-a74f-9f1adac71bf1.2.kickoff.rdb in 1.52 s.\n",
      "Contains keys: dict_keys(['right', 'left'])\n",
      "[right] start_ts: 1522591069602 | stop_ts: 1522591667442\n",
      "[left] start_ts: 1522591069484 | stop_ts: 1522591667404\n",
      "../kickoff-detection-data/314f4989-398c-45a3-a74f-9f1adac71bf1.json\n",
      "[{'phase': 1, 'type': 'start_phase', 'ts': '2018-04-01T13:01:01.209Z', 'kickoff_team_id': 9}, {'phase': 1, 'type': 'end_phase', 'ts': '2018-04-01T13:47:08.486Z'}, {'phase': 2, 'type': 'start_phase', 'ts': '2018-04-01T14:02:47.436Z', 'kickoff_team_id': 5}, {'phase': 2, 'type': 'end_phase', 'ts': '2018-04-01T14:50:51.103Z'}]\n"
     ]
    },
    {
     "name": "stderr",
     "output_type": "stream",
     "text": [
      "14947it [00:05, 2525.99it/s]\n"
     ]
    },
    {
     "name": "stdout",
     "output_type": "stream",
     "text": [
      "2680\n",
      "17\n",
      "8040 72\n",
      "17\n",
      "51\n"
     ]
    },
    {
     "name": "stderr",
     "output_type": "stream",
     "text": [
      "178it [00:00, 1773.87it/s]"
     ]
    },
    {
     "name": "stdout",
     "output_type": "stream",
     "text": [
      "Parsed ../kickoff-detection-data/b4dbea7c-c72f-4dd6-b57c-8fb7b8b38eb5.2.kickoff.rdb in 1.93 s.\n",
      "Contains keys: dict_keys(['right', 'left'])\n",
      "[right] start_ts: 1524074238929 | stop_ts: 1524074838729\n",
      "[left] start_ts: 1524074238899 | stop_ts: 1524074838739\n",
      "../kickoff-detection-data/b4dbea7c-c72f-4dd6-b57c-8fb7b8b38eb5.json\n",
      "[{'phase': 1, 'type': 'start_phase', 'ts': '2018-04-18T17:00:10.108Z', 'kickoff_team_id': 13}, {'phase': 1, 'type': 'end_phase', 'ts': '2018-04-18T17:47:10.874Z'}, {'phase': 2, 'type': 'start_phase', 'ts': '2018-04-18T18:02:18.645Z', 'kickoff_team_id': 9}, {'phase': 2, 'type': 'end_phase', 'ts': '2018-04-18T18:49:19.022Z'}]\n"
     ]
    },
    {
     "name": "stderr",
     "output_type": "stream",
     "text": [
      "14996it [00:08, 1690.24it/s]\n"
     ]
    },
    {
     "name": "stdout",
     "output_type": "stream",
     "text": [
      "2680\n",
      "17\n",
      "8040 73\n",
      "17\n",
      "52\n"
     ]
    },
    {
     "name": "stderr",
     "output_type": "stream",
     "text": [
      "261it [00:00, 2597.22it/s]"
     ]
    },
    {
     "name": "stdout",
     "output_type": "stream",
     "text": [
      "Parsed ../kickoff-detection-data/3d29af74-d98c-415b-a1dc-6b034671d831.1.kickoff.rdb in 1.74 s.\n",
      "Contains keys: dict_keys(['right', 'left'])\n",
      "[right] start_ts: 1527094529133 | stop_ts: 1527095129013\n",
      "[left] start_ts: 1527094529245 | stop_ts: 1527095129045\n",
      "../kickoff-detection-data/3d29af74-d98c-415b-a1dc-6b034671d831.json\n",
      "[{'phase': 1, 'type': 'start_phase', 'ts': '2018-05-23T17:00:29.087Z', 'kickoff_team_id': 10}, {'phase': 1, 'type': 'end_phase', 'ts': '2018-05-23T17:48:32.142Z'}, {'phase': 2, 'type': 'start_phase', 'ts': '2018-05-23T18:03:51.076Z', 'kickoff_team_id': 5}, {'phase': 2, 'type': 'end_phase', 'ts': '2018-05-23T18:54:13.202Z'}]\n"
     ]
    },
    {
     "name": "stderr",
     "output_type": "stream",
     "text": [
      "14997it [00:07, 1882.79it/s]\n"
     ]
    },
    {
     "name": "stdout",
     "output_type": "stream",
     "text": [
      "2680\n",
      "17\n",
      "8040 73\n",
      "17\n",
      "53\n"
     ]
    },
    {
     "name": "stderr",
     "output_type": "stream",
     "text": [
      "507it [00:00, 2584.97it/s]"
     ]
    },
    {
     "name": "stdout",
     "output_type": "stream",
     "text": [
      "Parsed ../kickoff-detection-data/cec6034a-7fbf-483f-8d74-3e24fd6c0bcf.1.kickoff.rdb in 1.10 s.\n",
      "Contains keys: dict_keys(['right', 'left'])\n",
      "[right] start_ts: 1524401708282 | stop_ts: 1524402007842\n",
      "[left] start_ts: 1524401707700 | stop_ts: 1524402007540\n",
      "../kickoff-detection-data/cec6034a-7fbf-483f-8d74-3e24fd6c0bcf.json\n",
      "[{'phase': 1, 'type': 'start_phase', 'ts': '2018-04-22T13:00:07.436Z', 'kickoff_team_id': 5}, {'phase': 1, 'type': 'end_phase', 'ts': '2018-04-22T13:45:17.115Z'}, {'phase': 2, 'type': 'start_phase', 'ts': '2018-04-22T14:01:12.705Z', 'kickoff_team_id': 2}, {'phase': 2, 'type': 'end_phase', 'ts': '2018-04-22T14:51:12.617Z'}]\n"
     ]
    },
    {
     "name": "stderr",
     "output_type": "stream",
     "text": [
      "7489it [00:04, 1862.21it/s]\n"
     ]
    },
    {
     "name": "stdout",
     "output_type": "stream",
     "text": [
      "2680\n",
      "0\n",
      "8040 27\n",
      "0\n"
     ]
    },
    {
     "name": "stderr",
     "output_type": "stream",
     "text": [
      "808it [00:00, 4007.13it/s]"
     ]
    },
    {
     "name": "stdout",
     "output_type": "stream",
     "text": [
      "Parsed ../kickoff-detection-data/bd6faac0-e5f3-4b84-82a9-400c019ac08d.1.kickoff.rdb in 1.05 s.\n",
      "Contains keys: dict_keys(['right', 'left'])\n",
      "[right] start_ts: 1526316934055 | stop_ts: 1526317230935\n",
      "[left] start_ts: 1526316934105 | stop_ts: 1526317230985\n",
      "../kickoff-detection-data/bd6faac0-e5f3-4b84-82a9-400c019ac08d.json\n",
      "[{'phase': 1, 'type': 'start_phase', 'ts': '2018-05-14T17:00:30.256Z', 'kickoff_team_id': 7}, {'phase': 1, 'type': 'end_phase', 'ts': '2018-05-14T17:46:31.340Z'}, {'phase': 2, 'type': 'start_phase', 'ts': '2018-05-14T18:02:21.290Z', 'kickoff_team_id': 5}, {'phase': 2, 'type': 'end_phase', 'ts': '2018-05-14T18:49:16.627Z'}]\n"
     ]
    },
    {
     "name": "stderr",
     "output_type": "stream",
     "text": [
      "7422it [00:04, 1550.92it/s]\n"
     ]
    },
    {
     "name": "stdout",
     "output_type": "stream",
     "text": [
      "2680\n",
      "0\n",
      "8040 27\n",
      "0\n"
     ]
    },
    {
     "name": "stderr",
     "output_type": "stream",
     "text": [
      "201it [00:00, 984.06it/s]"
     ]
    },
    {
     "name": "stdout",
     "output_type": "stream",
     "text": [
      "Parsed ../kickoff-detection-data/76d4b783-ae63-4c60-815f-6a81beef6451.1.kickoff.rdb in 1.90 s.\n",
      "Contains keys: dict_keys(['right', 'left'])\n",
      "[right] start_ts: 1523109442628 | stop_ts: 1523110041148\n",
      "[left] start_ts: 1523109442596 | stop_ts: 1523110041116\n",
      "../kickoff-detection-data/76d4b783-ae63-4c60-815f-6a81beef6451.json\n",
      "[{'phase': 1, 'type': 'start_phase', 'ts': '2018-04-07T14:02:21.372Z', 'kickoff_team_id': 12}, {'phase': 1, 'type': 'end_phase', 'ts': '2018-04-07T14:47:22.773Z'}, {'phase': 2, 'type': 'start_phase', 'ts': '2018-04-07T15:02:55.779Z', 'kickoff_team_id': 4}, {'phase': 2, 'type': 'end_phase', 'ts': '2018-04-07T15:50:52.908Z'}]\n"
     ]
    },
    {
     "name": "stderr",
     "output_type": "stream",
     "text": [
      "14963it [00:09, 1653.69it/s]\n"
     ]
    },
    {
     "name": "stdout",
     "output_type": "stream",
     "text": [
      "2680\n",
      "17\n",
      "8040 73\n",
      "17\n",
      "54\n"
     ]
    },
    {
     "name": "stderr",
     "output_type": "stream",
     "text": [
      "331it [00:00, 1689.64it/s]"
     ]
    },
    {
     "name": "stdout",
     "output_type": "stream",
     "text": [
      "Parsed ../kickoff-detection-data/9d1b40c0-efb0-4eb5-9ff4-bd13a55c0820.1.kickoff.rdb in 1.10 s.\n",
      "Contains keys: dict_keys(['right', 'left'])\n",
      "[right] start_ts: 1525712100409 | stop_ts: 1525712397249\n",
      "[left] start_ts: 1525712100459 | stop_ts: 1525712397259\n",
      "../kickoff-detection-data/9d1b40c0-efb0-4eb5-9ff4-bd13a55c0820.json\n",
      "[{'phase': 1, 'type': 'start_phase', 'ts': '2018-05-07T16:59:57.548Z', 'kickoff_team_id': 6}, {'phase': 1, 'type': 'end_phase', 'ts': '2018-05-07T17:45:00.886Z'}, {'phase': 2, 'type': 'start_phase', 'ts': '2018-05-07T18:03:54.378Z', 'kickoff_team_id': 6}, {'phase': 2, 'type': 'end_phase', 'ts': '2018-05-07T18:53:43.859Z'}]\n"
     ]
    },
    {
     "name": "stderr",
     "output_type": "stream",
     "text": [
      "7421it [00:03, 2175.70it/s]\n"
     ]
    },
    {
     "name": "stdout",
     "output_type": "stream",
     "text": [
      "2680\n",
      "0\n",
      "8040 27\n",
      "0\n"
     ]
    },
    {
     "name": "stderr",
     "output_type": "stream",
     "text": [
      "477it [00:00, 2372.89it/s]"
     ]
    },
    {
     "name": "stdout",
     "output_type": "stream",
     "text": [
      "Parsed ../kickoff-detection-data/4be6ef54-2541-42d0-a334-e513a535029c.2.kickoff.rdb in 1.71 s.\n",
      "Contains keys: dict_keys(['right', 'left'])\n",
      "[right] start_ts: 1523717857078 | stop_ts: 1523718456678\n",
      "[left] start_ts: 1523717857062 | stop_ts: 1523718456662\n",
      "../kickoff-detection-data/4be6ef54-2541-42d0-a334-e513a535029c.json\n",
      "[{'phase': 1, 'type': 'start_phase', 'ts': '2018-04-14T14:00:20.059Z', 'kickoff_team_id': 16}, {'phase': 1, 'type': 'end_phase', 'ts': '2018-04-14T14:46:37.899Z'}, {'phase': 2, 'type': 'start_phase', 'ts': '2018-04-14T15:02:36.879Z', 'kickoff_team_id': 5}, {'phase': 2, 'type': 'end_phase', 'ts': '2018-04-14T15:51:35.702Z'}]\n"
     ]
    },
    {
     "name": "stderr",
     "output_type": "stream",
     "text": [
      "14991it [00:06, 2248.30it/s]\n"
     ]
    },
    {
     "name": "stdout",
     "output_type": "stream",
     "text": [
      "2680\n",
      "17\n",
      "8040 73\n",
      "17\n",
      "55\n"
     ]
    },
    {
     "name": "stderr",
     "output_type": "stream",
     "text": [
      "808it [00:00, 4206.86it/s]"
     ]
    },
    {
     "name": "stdout",
     "output_type": "stream",
     "text": [
      "Parsed ../kickoff-detection-data/536b68b9-507f-408a-9a91-f994667b1d16.1.kickoff.rdb in 1.05 s.\n",
      "Contains keys: dict_keys(['right', 'left'])\n",
      "[right] start_ts: 1526829914293 | stop_ts: 1526830213133\n",
      "[left] start_ts: 1526829914271 | stop_ts: 1526830213111\n",
      "../kickoff-detection-data/536b68b9-507f-408a-9a91-f994667b1d16.json\n",
      "[{'phase': 1, 'type': 'start_phase', 'ts': '2018-05-20T15:30:13.835Z', 'kickoff_team_id': 8}, {'phase': 1, 'type': 'end_phase', 'ts': '2018-05-20T16:15:14.598Z'}, {'phase': 2, 'type': 'start_phase', 'ts': '2018-05-20T16:30:43.121Z', 'kickoff_team_id': 5}, {'phase': 2, 'type': 'end_phase', 'ts': '2018-05-20T17:19:46.634Z'}]\n"
     ]
    },
    {
     "name": "stderr",
     "output_type": "stream",
     "text": [
      "7471it [00:03, 2290.12it/s]\n"
     ]
    },
    {
     "name": "stdout",
     "output_type": "stream",
     "text": [
      "2680\n",
      "0\n",
      "8040 27\n",
      "0\n"
     ]
    },
    {
     "name": "stderr",
     "output_type": "stream",
     "text": [
      "136it [00:00, 1354.78it/s]"
     ]
    },
    {
     "name": "stdout",
     "output_type": "stream",
     "text": [
      "Parsed ../kickoff-detection-data/a5763b80-c4a7-4b45-9c78-4f1c8f72bf60.1.kickoff.rdb in 1.37 s.\n",
      "Contains keys: dict_keys(['right', 'left'])\n",
      "[right] start_ts: 1525366542109 | stop_ts: 1525366840949\n",
      "[left] start_ts: 1525366542119 | stop_ts: 1525366840959\n",
      "../kickoff-detection-data/a5763b80-c4a7-4b45-9c78-4f1c8f72bf60.json\n",
      "[{'phase': 1, 'type': 'start_phase', 'ts': '2018-05-03T17:00:40.389Z', 'kickoff_team_id': 8}, {'phase': 1, 'type': 'end_phase', 'ts': '2018-05-03T17:45:43.538Z'}, {'phase': 2, 'type': 'start_phase', 'ts': '2018-05-03T18:03:07.709Z', 'kickoff_team_id': 11}, {'phase': 2, 'type': 'end_phase', 'ts': '2018-05-03T18:54:18.463Z'}]\n"
     ]
    },
    {
     "name": "stderr",
     "output_type": "stream",
     "text": [
      "7471it [00:04, 1774.99it/s]\n"
     ]
    },
    {
     "name": "stdout",
     "output_type": "stream",
     "text": [
      "2680\n",
      "0\n",
      "8040 27\n",
      "0\n"
     ]
    },
    {
     "name": "stderr",
     "output_type": "stream",
     "text": [
      "1302it [00:00, 6401.43it/s]"
     ]
    },
    {
     "name": "stdout",
     "output_type": "stream",
     "text": [
      "Parsed ../kickoff-detection-data/e4a4d658-8d02-4336-9fa6-b0b1dfcc95ee.1.kickoff.rdb in 0.54 s.\n",
      "Contains keys: dict_keys(['right', 'left'])\n",
      "[right] start_ts: 1525611307081 | stop_ts: 1525611605601\n",
      "[left] start_ts: 1525611307047 | stop_ts: 1525611605607\n",
      "../kickoff-detection-data/e4a4d658-8d02-4336-9fa6-b0b1dfcc95ee.json\n",
      "[{'phase': 1, 'type': 'start_phase', 'ts': '2018-05-06T13:00:05.407Z', 'kickoff_team_id': 15}, {'phase': 1, 'type': 'end_phase', 'ts': '2018-05-06T14:10:37.292Z'}, {'phase': 2, 'type': 'start_phase', 'ts': '2018-05-06T14:25:42.849Z', 'kickoff_team_id': 11}, {'phase': 2, 'type': 'end_phase', 'ts': '2018-05-06T15:14:11.682Z'}]\n"
     ]
    },
    {
     "name": "stderr",
     "output_type": "stream",
     "text": [
      "7464it [00:01, 4581.22it/s]\n"
     ]
    },
    {
     "name": "stdout",
     "output_type": "stream",
     "text": [
      "2680\n",
      "0\n",
      "8040 27\n",
      "0\n"
     ]
    },
    {
     "name": "stderr",
     "output_type": "stream",
     "text": [
      "860it [00:00, 4117.82it/s]"
     ]
    },
    {
     "name": "stdout",
     "output_type": "stream",
     "text": [
      "Parsed ../kickoff-detection-data/3c7f617c-c839-4e5a-9e80-52017fa85d93.1.kickoff.rdb in 1.95 s.\n",
      "Contains keys: dict_keys(['right', 'left'])\n",
      "[right] start_ts: 1525006516933 | stop_ts: 1525007115773\n",
      "[left] start_ts: 1525006516949 | stop_ts: 1525007115789\n",
      "../kickoff-detection-data/3c7f617c-c839-4e5a-9e80-52017fa85d93.json\n",
      "[{'phase': 1, 'type': 'start_phase', 'ts': '2018-04-29T13:00:15.350Z', 'kickoff_team_id': 3}, {'phase': 1, 'type': 'end_phase', 'ts': '2018-04-29T13:46:17.178Z'}, {'phase': 2, 'type': 'start_phase', 'ts': '2018-04-29T14:02:03.347Z', 'kickoff_team_id': 7}, {'phase': 2, 'type': 'end_phase', 'ts': '2018-04-29T14:51:28.061Z'}]\n"
     ]
    },
    {
     "name": "stderr",
     "output_type": "stream",
     "text": [
      "14972it [00:07, 2119.75it/s]\n"
     ]
    },
    {
     "name": "stdout",
     "output_type": "stream",
     "text": [
      "2680\n",
      "16\n",
      "8040 72\n",
      "16\n",
      "56\n"
     ]
    },
    {
     "name": "stderr",
     "output_type": "stream",
     "text": [
      "223it [00:00, 2228.00it/s]"
     ]
    },
    {
     "name": "stdout",
     "output_type": "stream",
     "text": [
      "Parsed ../kickoff-detection-data/c0b1883d-4420-48aa-9805-9318a20e56ae.2.kickoff.rdb in 0.99 s.\n",
      "Contains keys: dict_keys(['right', 'left'])\n",
      "[right] start_ts: 1527353785285 | stop_ts: 1527354085085\n",
      "[left] start_ts: 1527353785251 | stop_ts: 1527354085091\n",
      "../kickoff-detection-data/c0b1883d-4420-48aa-9805-9318a20e56ae.json\n",
      "[{'phase': 1, 'type': 'start_phase', 'ts': '2018-05-26T16:00:03.259Z', 'kickoff_team_id': 5}, {'phase': 1, 'type': 'end_phase', 'ts': '2018-05-26T16:46:00.357Z'}, {'phase': 2, 'type': 'start_phase', 'ts': '2018-05-26T17:01:25.967Z', 'kickoff_team_id': 13}, {'phase': 2, 'type': 'end_phase', 'ts': '2018-05-26T17:49:27.835Z'}]\n"
     ]
    },
    {
     "name": "stderr",
     "output_type": "stream",
     "text": [
      "7497it [00:03, 2463.02it/s]\n"
     ]
    },
    {
     "name": "stdout",
     "output_type": "stream",
     "text": [
      "2680\n",
      "0\n",
      "8040 27\n",
      "0\n"
     ]
    },
    {
     "name": "stderr",
     "output_type": "stream",
     "text": [
      "562it [00:00, 2812.60it/s]"
     ]
    },
    {
     "name": "stdout",
     "output_type": "stream",
     "text": [
      "Parsed ../kickoff-detection-data/1e67ff07-1ca6-4778-a91e-024007e66974.2.kickoff.rdb in 0.63 s.\n",
      "Contains keys: dict_keys(['right', 'left'])\n",
      "[right] start_ts: 1527184687106 | stop_ts: 1527184986866\n",
      "[left] start_ts: 1527184687170 | stop_ts: 1527184986890\n",
      "../kickoff-detection-data/1e67ff07-1ca6-4778-a91e-024007e66974.json\n",
      "[{'phase': 1, 'type': 'start_phase', 'ts': '2018-05-24T17:00:02.098Z', 'kickoff_team_id': 16}, {'phase': 1, 'type': 'end_phase', 'ts': '2018-05-24T17:47:03.722Z'}, {'phase': 2, 'type': 'start_phase', 'ts': '2018-05-24T18:03:06.263Z', 'kickoff_team_id': 7}, {'phase': 2, 'type': 'end_phase', 'ts': '2018-05-24T18:51:18.432Z'}]\n"
     ]
    },
    {
     "name": "stderr",
     "output_type": "stream",
     "text": [
      "7494it [00:02, 2787.57it/s]\n"
     ]
    },
    {
     "name": "stdout",
     "output_type": "stream",
     "text": [
      "2680\n",
      "0\n",
      "8040 27\n",
      "0\n"
     ]
    },
    {
     "name": "stderr",
     "output_type": "stream",
     "text": [
      "1092it [00:00, 5588.17it/s]"
     ]
    },
    {
     "name": "stdout",
     "output_type": "stream",
     "text": [
      "Parsed ../kickoff-detection-data/70593a9a-5258-4f89-a402-b555c8ee3514.2.kickoff.rdb in 0.72 s.\n",
      "Contains keys: dict_keys(['right', 'left'])\n",
      "[right] start_ts: 1525525129235 | stop_ts: 1525525429035\n",
      "[left] start_ts: 1525525129257 | stop_ts: 1525525429057\n",
      "../kickoff-detection-data/70593a9a-5258-4f89-a402-b555c8ee3514.json\n",
      "[{'phase': 1, 'type': 'start_phase', 'ts': '2018-05-05T12:00:46.974Z', 'kickoff_team_id': 3}, {'phase': 1, 'type': 'end_phase', 'ts': '2018-05-05T12:47:24.013Z'}, {'phase': 2, 'type': 'start_phase', 'ts': '2018-05-05T13:03:49.366Z', 'kickoff_team_id': 2}, {'phase': 2, 'type': 'end_phase', 'ts': '2018-05-05T13:51:49.753Z'}]\n"
     ]
    },
    {
     "name": "stderr",
     "output_type": "stream",
     "text": [
      "7496it [00:02, 3244.51it/s]\n"
     ]
    },
    {
     "name": "stdout",
     "output_type": "stream",
     "text": [
      "2680\n",
      "0\n",
      "8040 27\n",
      "0\n"
     ]
    },
    {
     "name": "stderr",
     "output_type": "stream",
     "text": [
      "154it [00:00, 1533.17it/s]"
     ]
    },
    {
     "name": "stdout",
     "output_type": "stream",
     "text": [
      "Parsed ../kickoff-detection-data/47ed3e3a-56d1-4eb1-b5d3-9e5f9658fda7.1.kickoff.rdb in 1.81 s.\n",
      "Contains keys: dict_keys(['right', 'left'])\n",
      "[right] start_ts: 1526316926243 | stop_ts: 1526317225163\n",
      "[left] start_ts: 1526316926287 | stop_ts: 1526317225167\n",
      "../kickoff-detection-data/47ed3e3a-56d1-4eb1-b5d3-9e5f9658fda7.json\n",
      "[{'phase': 1, 'type': 'start_phase', 'ts': '2018-05-14T17:00:25.880Z', 'kickoff_team_id': 10}, {'phase': 1, 'type': 'end_phase', 'ts': '2018-05-14T17:46:28.806Z'}, {'phase': 2, 'type': 'start_phase', 'ts': '2018-05-14T18:01:32.219Z', 'kickoff_team_id': 13}, {'phase': 2, 'type': 'end_phase', 'ts': '2018-05-14T18:49:37.209Z'}]\n"
     ]
    },
    {
     "name": "stderr",
     "output_type": "stream",
     "text": [
      "7473it [00:05, 1469.99it/s]\n"
     ]
    },
    {
     "name": "stdout",
     "output_type": "stream",
     "text": [
      "2680\n",
      "0\n",
      "8040 27\n",
      "0\n"
     ]
    },
    {
     "name": "stderr",
     "output_type": "stream",
     "text": [
      "621it [00:00, 3032.11it/s]"
     ]
    },
    {
     "name": "stdout",
     "output_type": "stream",
     "text": [
      "Parsed ../kickoff-detection-data/e773ac8c-dd65-419c-a734-3bd077a165b6.2.kickoff.rdb in 0.69 s.\n",
      "Contains keys: dict_keys(['right', 'left'])\n",
      "[right] start_ts: 1524506129560 | stop_ts: 1524506428040\n",
      "[left] start_ts: 1524506128932 | stop_ts: 1524506427732\n",
      "../kickoff-detection-data/e773ac8c-dd65-419c-a734-3bd077a165b6.json\n",
      "[{'phase': 1, 'type': 'start_phase', 'ts': '2018-04-23T17:00:04.775Z', 'kickoff_team_id': 15}, {'phase': 1, 'type': 'end_phase', 'ts': '2018-04-23T17:45:08.015Z'}, {'phase': 2, 'type': 'start_phase', 'ts': '2018-04-23T18:00:27.795Z', 'kickoff_team_id': 8}, {'phase': 2, 'type': 'end_phase', 'ts': '2018-04-23T18:49:31.614Z'}]\n"
     ]
    },
    {
     "name": "stderr",
     "output_type": "stream",
     "text": [
      "7463it [00:02, 2595.72it/s]\n"
     ]
    },
    {
     "name": "stdout",
     "output_type": "stream",
     "text": [
      "2680\n",
      "0\n",
      "8040 27\n",
      "0\n"
     ]
    },
    {
     "name": "stderr",
     "output_type": "stream",
     "text": [
      "442it [00:00, 2148.75it/s]"
     ]
    },
    {
     "name": "stdout",
     "output_type": "stream",
     "text": [
      "Parsed ../kickoff-detection-data/27bea627-3caa-47ee-93c3-67f0e26f3034.1.kickoff.rdb in 2.79 s.\n",
      "Contains keys: dict_keys(['right', 'left'])\n",
      "[right] start_ts: 1523796957851 | stop_ts: 1523797557411\n",
      "[left] start_ts: 1523796958381 | stop_ts: 1523797557661\n",
      "../kickoff-detection-data/27bea627-3caa-47ee-93c3-67f0e26f3034.json\n",
      "[{'phase': 1, 'type': 'start_phase', 'ts': '2018-04-15T13:00:57.169Z', 'kickoff_team_id': 4}, {'phase': 1, 'type': 'end_phase', 'ts': '2018-04-15T13:46:01.064Z'}, {'phase': 2, 'type': 'start_phase', 'ts': '2018-04-15T14:01:53.073Z', 'kickoff_team_id': 9}, {'phase': 2, 'type': 'end_phase', 'ts': '2018-04-15T14:50:42.654Z'}]\n"
     ]
    },
    {
     "name": "stderr",
     "output_type": "stream",
     "text": [
      "14984it [00:08, 1833.33it/s]\n"
     ]
    },
    {
     "name": "stdout",
     "output_type": "stream",
     "text": [
      "2680\n",
      "17\n",
      "8040 73\n",
      "17\n",
      "57\n"
     ]
    },
    {
     "name": "stderr",
     "output_type": "stream",
     "text": [
      "520it [00:00, 2626.10it/s]"
     ]
    },
    {
     "name": "stdout",
     "output_type": "stream",
     "text": [
      "Parsed ../kickoff-detection-data/916abbb2-57b9-4700-8cc5-3fc01de1a6f8.2.kickoff.rdb in 0.75 s.\n",
      "Contains keys: dict_keys(['right', 'left'])\n",
      "[right] start_ts: 1526749078339 | stop_ts: 1526749375139\n",
      "[left] start_ts: 1526749078219 | stop_ts: 1526749375059\n",
      "../kickoff-detection-data/916abbb2-57b9-4700-8cc5-3fc01de1a6f8.json\n",
      "[{'phase': 1, 'type': 'start_phase', 'ts': '2018-05-19T16:00:01.936Z', 'kickoff_team_id': 16}, {'phase': 1, 'type': 'end_phase', 'ts': '2018-05-19T16:46:01.609Z'}, {'phase': 2, 'type': 'start_phase', 'ts': '2018-05-19T17:02:55.285Z', 'kickoff_team_id': 4}, {'phase': 2, 'type': 'end_phase', 'ts': '2018-05-19T17:51:06.302Z'}]\n"
     ]
    },
    {
     "name": "stderr",
     "output_type": "stream",
     "text": [
      "7420it [00:02, 2961.67it/s]\n"
     ]
    },
    {
     "name": "stdout",
     "output_type": "stream",
     "text": [
      "2680\n",
      "0\n",
      "8040 27\n",
      "0\n"
     ]
    },
    {
     "name": "stderr",
     "output_type": "stream",
     "text": [
      "352it [00:00, 3518.60it/s]"
     ]
    },
    {
     "name": "stdout",
     "output_type": "stream",
     "text": [
      "Parsed ../kickoff-detection-data/a01d4b8a-cffb-4778-99c6-d0a53016e129.2.kickoff.rdb in 0.78 s.\n",
      "Contains keys: dict_keys(['right', 'left'])\n",
      "[right] start_ts: 1526493574965 | stop_ts: 1526493871805\n",
      "[left] start_ts: 1526493574965 | stop_ts: 1526493871805\n",
      "../kickoff-detection-data/a01d4b8a-cffb-4778-99c6-d0a53016e129.json\n",
      "[{'phase': 1, 'type': 'start_phase', 'ts': '2018-05-16T17:02:09.192Z', 'kickoff_team_id': 2}, {'phase': 1, 'type': 'end_phase', 'ts': '2018-05-16T17:48:11.998Z'}, {'phase': 2, 'type': 'start_phase', 'ts': '2018-05-16T18:04:31.734Z', 'kickoff_team_id': 8}, {'phase': 2, 'type': 'end_phase', 'ts': '2018-05-16T18:53:55.743Z'}]\n"
     ]
    },
    {
     "name": "stderr",
     "output_type": "stream",
     "text": [
      "7422it [00:02, 2580.73it/s]\n"
     ]
    },
    {
     "name": "stdout",
     "output_type": "stream",
     "text": [
      "2680\n",
      "0\n",
      "8040 27\n",
      "0\n"
     ]
    },
    {
     "name": "stderr",
     "output_type": "stream",
     "text": [
      "182it [00:00, 1814.63it/s]"
     ]
    },
    {
     "name": "stdout",
     "output_type": "stream",
     "text": [
      "Parsed ../kickoff-detection-data/e0646790-9750-47eb-85ac-a7065fbcd4dd.1.kickoff.rdb in 1.53 s.\n",
      "Contains keys: dict_keys(['right', 'left'])\n",
      "[right] start_ts: 1524410693864 | stop_ts: 1524410991304\n",
      "[left] start_ts: 1524410694448 | stop_ts: 1524410991608\n",
      "../kickoff-detection-data/e0646790-9750-47eb-85ac-a7065fbcd4dd.json\n",
      "[{'phase': 1, 'type': 'start_phase', 'ts': '2018-04-22T15:29:51.323Z', 'kickoff_team_id': 6}, {'phase': 1, 'type': 'end_phase', 'ts': '2018-04-22T16:18:51.239Z'}, {'phase': 2, 'type': 'start_phase', 'ts': '2018-04-22T16:34:34.675Z', 'kickoff_team_id': 10}, {'phase': 2, 'type': 'end_phase', 'ts': '2018-04-22T17:22:35.491Z'}]\n"
     ]
    },
    {
     "name": "stderr",
     "output_type": "stream",
     "text": [
      "7430it [00:04, 1677.66it/s]\n"
     ]
    },
    {
     "name": "stdout",
     "output_type": "stream",
     "text": [
      "2680\n",
      "0\n",
      "8040 27\n",
      "0\n"
     ]
    },
    {
     "name": "stderr",
     "output_type": "stream",
     "text": [
      "332it [00:00, 1649.79it/s]"
     ]
    },
    {
     "name": "stdout",
     "output_type": "stream",
     "text": [
      "Parsed ../kickoff-detection-data/2739587b-312a-4d40-ba1a-9b5e3ebf5c9c.2.kickoff.rdb in 1.83 s.\n",
      "Contains keys: dict_keys(['right', 'left'])\n",
      "[right] start_ts: 1527429626566 | stop_ts: 1527430225406\n",
      "[left] start_ts: 1527429626666 | stop_ts: 1527430225466\n",
      "../kickoff-detection-data/2739587b-312a-4d40-ba1a-9b5e3ebf5c9c.json\n",
      "[{'phase': 1, 'type': 'start_phase', 'ts': '2018-05-27T13:00:05.658Z', 'kickoff_team_id': 2}, {'phase': 1, 'type': 'end_phase', 'ts': '2018-05-27T13:48:06.407Z'}, {'phase': 2, 'type': 'start_phase', 'ts': '2018-05-27T14:05:25.539Z', 'kickoff_team_id': 9}, {'phase': 2, 'type': 'end_phase', 'ts': '2018-05-27T14:54:05.123Z'}]\n"
     ]
    },
    {
     "name": "stderr",
     "output_type": "stream",
     "text": [
      "14971it [00:08, 1789.75it/s]\n"
     ]
    },
    {
     "name": "stdout",
     "output_type": "stream",
     "text": [
      "2680\n",
      "17\n",
      "8040 73\n",
      "17\n",
      "58\n"
     ]
    },
    {
     "name": "stderr",
     "output_type": "stream",
     "text": [
      "304it [00:00, 3035.16it/s]"
     ]
    },
    {
     "name": "stdout",
     "output_type": "stream",
     "text": [
      "Parsed ../kickoff-detection-data/cec6034a-7fbf-483f-8d74-3e24fd6c0bcf.2.kickoff.rdb in 0.71 s.\n",
      "Contains keys: dict_keys(['right', 'left'])\n",
      "[right] start_ts: 1524405376322 | stop_ts: 1524405672842\n",
      "[left] start_ts: 1524405375740 | stop_ts: 1524405672540\n",
      "../kickoff-detection-data/cec6034a-7fbf-483f-8d74-3e24fd6c0bcf.json\n",
      "[{'phase': 1, 'type': 'start_phase', 'ts': '2018-04-22T13:00:07.436Z', 'kickoff_team_id': 5}, {'phase': 1, 'type': 'end_phase', 'ts': '2018-04-22T13:45:17.115Z'}, {'phase': 2, 'type': 'start_phase', 'ts': '2018-04-22T14:01:12.705Z', 'kickoff_team_id': 2}, {'phase': 2, 'type': 'end_phase', 'ts': '2018-04-22T14:51:12.617Z'}]\n"
     ]
    },
    {
     "name": "stderr",
     "output_type": "stream",
     "text": [
      "7414it [00:02, 2589.37it/s]\n"
     ]
    },
    {
     "name": "stdout",
     "output_type": "stream",
     "text": [
      "2680\n",
      "0\n",
      "8040 27\n",
      "0\n"
     ]
    },
    {
     "name": "stderr",
     "output_type": "stream",
     "text": [
      "368it [00:00, 3678.28it/s]"
     ]
    },
    {
     "name": "stdout",
     "output_type": "stream",
     "text": [
      "Parsed ../kickoff-detection-data/aadecf3a-0d92-4ace-b643-ced44474e157.1.kickoff.rdb in 0.73 s.\n",
      "Contains keys: dict_keys(['right', 'left'])\n",
      "[right] start_ts: 1524156903665 | stop_ts: 1524157201465\n",
      "[left] start_ts: 1524156903139 | stop_ts: 1524157201179\n",
      "../kickoff-detection-data/aadecf3a-0d92-4ace-b643-ced44474e157.json\n",
      "[{'phase': 1, 'type': 'start_phase', 'ts': '2018-04-19T17:00:01.137Z', 'kickoff_team_id': 15}, {'phase': 1, 'type': 'end_phase', 'ts': '2018-04-19T17:46:04.420Z'}, {'phase': 2, 'type': 'start_phase', 'ts': '2018-04-19T18:01:29.369Z', 'kickoff_team_id': 7}, {'phase': 2, 'type': 'end_phase', 'ts': '2018-04-19T18:49:42.844Z'}]\n"
     ]
    },
    {
     "name": "stderr",
     "output_type": "stream",
     "text": [
      "7445it [00:02, 2749.39it/s]\n"
     ]
    },
    {
     "name": "stdout",
     "output_type": "stream",
     "text": [
      "2680\n",
      "0\n",
      "8040 27\n",
      "0\n"
     ]
    },
    {
     "name": "stderr",
     "output_type": "stream",
     "text": [
      "685it [00:00, 3354.55it/s]"
     ]
    },
    {
     "name": "stdout",
     "output_type": "stream",
     "text": [
      "Parsed ../kickoff-detection-data/4501652f-d7e6-4e3e-9ad2-e01198278688.2.kickoff.rdb in 0.84 s.\n",
      "Contains keys: dict_keys(['right', 'left'])\n",
      "[right] start_ts: 1526219862566 | stop_ts: 1526220159406\n",
      "[left] start_ts: 1526219862518 | stop_ts: 1526220159398\n",
      "../kickoff-detection-data/4501652f-d7e6-4e3e-9ad2-e01198278688.json\n",
      "[{'phase': 1, 'type': 'start_phase', 'ts': '2018-05-13T13:00:02.166Z', 'kickoff_team_id': 6}, {'phase': 1, 'type': 'end_phase', 'ts': '2018-05-13T13:46:56.480Z'}, {'phase': 2, 'type': 'start_phase', 'ts': '2018-05-13T14:02:39.958Z', 'kickoff_team_id': 4}, {'phase': 2, 'type': 'end_phase', 'ts': '2018-05-13T14:52:58.982Z'}]\n"
     ]
    },
    {
     "name": "stderr",
     "output_type": "stream",
     "text": [
      "7422it [00:02, 2609.41it/s]\n"
     ]
    },
    {
     "name": "stdout",
     "output_type": "stream",
     "text": [
      "2680\n",
      "0\n",
      "8040 27\n",
      "0\n"
     ]
    },
    {
     "name": "stderr",
     "output_type": "stream",
     "text": [
      "269it [00:00, 2684.88it/s]"
     ]
    },
    {
     "name": "stdout",
     "output_type": "stream",
     "text": [
      "Parsed ../kickoff-detection-data/723fa378-2b05-42e0-9631-a05bb1ed5e70.2.kickoff.rdb in 0.84 s.\n",
      "Contains keys: dict_keys(['right', 'left'])\n",
      "[right] start_ts: 1524506176788 | stop_ts: 1524506476348\n",
      "[left] start_ts: 1524506177320 | stop_ts: 1524506476600\n",
      "../kickoff-detection-data/723fa378-2b05-42e0-9631-a05bb1ed5e70.json\n",
      "[{'phase': 1, 'type': 'start_phase', 'ts': '2018-04-23T16:59:56.989Z', 'kickoff_team_id': 4}, {'phase': 1, 'type': 'end_phase', 'ts': '2018-04-23T17:45:26.980Z'}, {'phase': 2, 'type': 'start_phase', 'ts': '2018-04-23T18:01:16.310Z', 'kickoff_team_id': 1}, {'phase': 2, 'type': 'end_phase', 'ts': '2018-04-23T18:51:18.989Z'}]\n"
     ]
    },
    {
     "name": "stderr",
     "output_type": "stream",
     "text": [
      "7482it [00:02, 2550.69it/s]\n"
     ]
    },
    {
     "name": "stdout",
     "output_type": "stream",
     "text": [
      "2680\n",
      "0\n",
      "8040 27\n",
      "0\n"
     ]
    },
    {
     "name": "stderr",
     "output_type": "stream",
     "text": [
      "461it [00:00, 2320.34it/s]"
     ]
    },
    {
     "name": "stdout",
     "output_type": "stream",
     "text": [
      "Parsed ../kickoff-detection-data/5dcb4696-281c-4bff-9ec7-02322c1b4a67.1.kickoff.rdb in 2.83 s.\n",
      "Contains keys: dict_keys(['right', 'left'])\n",
      "[right] start_ts: 1525015503710 | stop_ts: 1525016102510\n",
      "[left] start_ts: 1525015503674 | stop_ts: 1525016102514\n",
      "../kickoff-detection-data/5dcb4696-281c-4bff-9ec7-02322c1b4a67.json\n",
      "[{'phase': 1, 'type': 'start_phase', 'ts': '2018-04-29T15:30:02.790Z', 'kickoff_team_id': 14}, {'phase': 1, 'type': 'end_phase', 'ts': '2018-04-29T16:17:03.667Z'}, {'phase': 2, 'type': 'start_phase', 'ts': '2018-04-29T16:33:30.971Z', 'kickoff_team_id': 4}, {'phase': 2, 'type': 'end_phase', 'ts': '2018-04-29T17:24:05.565Z'}]\n"
     ]
    },
    {
     "name": "stderr",
     "output_type": "stream",
     "text": [
      "14971it [00:08, 1866.91it/s]\n"
     ]
    },
    {
     "name": "stdout",
     "output_type": "stream",
     "text": [
      "2680\n",
      "17\n",
      "8040 73\n",
      "17\n",
      "59\n"
     ]
    },
    {
     "name": "stderr",
     "output_type": "stream",
     "text": [
      "462it [00:00, 4611.01it/s]"
     ]
    },
    {
     "name": "stdout",
     "output_type": "stream",
     "text": [
      "Parsed ../kickoff-detection-data/98894ec5-61dc-4ab5-8829-1601e0d65775.2.kickoff.rdb in 0.62 s.\n",
      "Contains keys: dict_keys(['right', 'left'])\n",
      "[right] start_ts: 1527429395621 | stop_ts: 1527429695501\n",
      "[left] start_ts: 1527429395741 | stop_ts: 1527429695541\n",
      "../kickoff-detection-data/98894ec5-61dc-4ab5-8829-1601e0d65775.json\n",
      "[{'phase': 1, 'type': 'start_phase', 'ts': '2018-05-27T13:00:02.563Z', 'kickoff_team_id': 3}, {'phase': 1, 'type': 'end_phase', 'ts': '2018-05-27T13:46:09.887Z'}, {'phase': 2, 'type': 'start_phase', 'ts': '2018-05-27T14:01:35.210Z', 'kickoff_team_id': 6}, {'phase': 2, 'type': 'end_phase', 'ts': '2018-05-27T14:49:44.679Z'}]\n"
     ]
    },
    {
     "name": "stderr",
     "output_type": "stream",
     "text": [
      "7497it [00:02, 3546.21it/s]\n"
     ]
    },
    {
     "name": "stdout",
     "output_type": "stream",
     "text": [
      "2680\n",
      "0\n",
      "8040 27\n",
      "0\n"
     ]
    },
    {
     "name": "stderr",
     "output_type": "stream",
     "text": [
      "323it [00:00, 1675.07it/s]"
     ]
    },
    {
     "name": "stdout",
     "output_type": "stream",
     "text": [
      "Parsed ../kickoff-detection-data/9acafc14-55f4-499e-90d9-4db2f121801b.1.kickoff.rdb in 1.41 s.\n",
      "Contains keys: dict_keys(['right', 'left'])\n",
      "[right] start_ts: 1526226036455 | stop_ts: 1526226334335\n",
      "[left] start_ts: 1526226036499 | stop_ts: 1526226334379\n",
      "../kickoff-detection-data/9acafc14-55f4-499e-90d9-4db2f121801b.json\n",
      "[{'phase': 1, 'type': 'start_phase', 'ts': '2018-05-13T15:45:34.522Z', 'kickoff_team_id': 12}, {'phase': 1, 'type': 'end_phase', 'ts': '2018-05-13T16:33:39.123Z'}, {'phase': 2, 'type': 'start_phase', 'ts': '2018-05-13T16:49:37.864Z', 'kickoff_team_id': 2}, {'phase': 2, 'type': 'end_phase', 'ts': '2018-05-13T17:39:37.349Z'}]\n"
     ]
    },
    {
     "name": "stderr",
     "output_type": "stream",
     "text": [
      "7448it [00:04, 1619.98it/s]\n"
     ]
    },
    {
     "name": "stdout",
     "output_type": "stream",
     "text": [
      "2680\n",
      "0\n",
      "8040 27\n",
      "0\n"
     ]
    },
    {
     "name": "stderr",
     "output_type": "stream",
     "text": [
      "747it [00:00, 3698.53it/s]"
     ]
    },
    {
     "name": "stdout",
     "output_type": "stream",
     "text": [
      "Parsed ../kickoff-detection-data/e40014f3-5c63-4869-94af-75c4e0547de4.2.kickoff.rdb in 0.68 s.\n",
      "Contains keys: dict_keys(['right', 'left'])\n",
      "[right] start_ts: 1527098223764 | stop_ts: 1527098522564\n",
      "[left] start_ts: 1527098223718 | stop_ts: 1527098522558\n",
      "../kickoff-detection-data/e40014f3-5c63-4869-94af-75c4e0547de4.json\n",
      "[{'phase': 1, 'type': 'start_phase', 'ts': '2018-05-23T17:00:02.891Z', 'kickoff_team_id': 4}, {'phase': 1, 'type': 'end_phase', 'ts': '2018-05-23T17:45:05.284Z'}, {'phase': 2, 'type': 'start_phase', 'ts': '2018-05-23T18:02:02.986Z', 'kickoff_team_id': 3}, {'phase': 2, 'type': 'end_phase', 'ts': '2018-05-23T18:51:09.847Z'}]\n"
     ]
    },
    {
     "name": "stderr",
     "output_type": "stream",
     "text": [
      "7471it [00:02, 3159.47it/s]\n"
     ]
    },
    {
     "name": "stdout",
     "output_type": "stream",
     "text": [
      "2680\n",
      "0\n",
      "8040 27\n",
      "0\n"
     ]
    },
    {
     "name": "stderr",
     "output_type": "stream",
     "text": [
      "293it [00:00, 1455.75it/s]"
     ]
    },
    {
     "name": "stdout",
     "output_type": "stream",
     "text": [
      "Parsed ../kickoff-detection-data/e773ac8c-dd65-419c-a734-3bd077a165b6.1.kickoff.rdb in 1.41 s.\n",
      "Contains keys: dict_keys(['right', 'left'])\n",
      "[right] start_ts: 1524502505560 | stop_ts: 1524502805040\n",
      "[left] start_ts: 1524502504892 | stop_ts: 1524502804732\n",
      "../kickoff-detection-data/e773ac8c-dd65-419c-a734-3bd077a165b6.json\n",
      "[{'phase': 1, 'type': 'start_phase', 'ts': '2018-04-23T17:00:04.775Z', 'kickoff_team_id': 15}, {'phase': 1, 'type': 'end_phase', 'ts': '2018-04-23T17:45:08.015Z'}, {'phase': 2, 'type': 'start_phase', 'ts': '2018-04-23T18:00:27.795Z', 'kickoff_team_id': 8}, {'phase': 2, 'type': 'end_phase', 'ts': '2018-04-23T18:49:31.614Z'}]\n"
     ]
    },
    {
     "name": "stderr",
     "output_type": "stream",
     "text": [
      "7488it [00:04, 1636.63it/s]\n"
     ]
    },
    {
     "name": "stdout",
     "output_type": "stream",
     "text": [
      "2680\n",
      "0\n",
      "8040 27\n",
      "0\n"
     ]
    },
    {
     "name": "stderr",
     "output_type": "stream",
     "text": [
      "743it [00:00, 3702.60it/s]"
     ]
    },
    {
     "name": "stdout",
     "output_type": "stream",
     "text": [
      "Parsed ../kickoff-detection-data/66b6caf7-e5c0-45dd-874f-de8ac2e3c9ff.2.kickoff.rdb in 0.76 s.\n",
      "Contains keys: dict_keys(['right', 'left'])\n",
      "[right] start_ts: 1526925412770 | stop_ts: 1526925712650\n",
      "[left] start_ts: 1526925412782 | stop_ts: 1526925712662\n",
      "../kickoff-detection-data/66b6caf7-e5c0-45dd-874f-de8ac2e3c9ff.json\n",
      "[{'phase': 1, 'type': 'start_phase', 'ts': '2018-05-21T17:00:09.374Z', 'kickoff_team_id': 6}, {'phase': 1, 'type': 'end_phase', 'ts': '2018-05-21T17:46:11.855Z'}, {'phase': 2, 'type': 'start_phase', 'ts': '2018-05-21T18:01:52.583Z', 'kickoff_team_id': 7}, {'phase': 2, 'type': 'end_phase', 'ts': '2018-05-21T18:51:25.546Z'}]\n"
     ]
    },
    {
     "name": "stderr",
     "output_type": "stream",
     "text": [
      "7498it [00:02, 3186.22it/s]\n"
     ]
    },
    {
     "name": "stdout",
     "output_type": "stream",
     "text": [
      "2680\n",
      "0\n",
      "8040 27\n",
      "0\n"
     ]
    },
    {
     "name": "stderr",
     "output_type": "stream",
     "text": [
      "616it [00:00, 3067.31it/s]"
     ]
    },
    {
     "name": "stdout",
     "output_type": "stream",
     "text": [
      "Parsed ../kickoff-detection-data/bff5f37c-be85-4f08-b6d4-a01e6c22fe0e.2.kickoff.rdb in 1.81 s.\n",
      "Contains keys: dict_keys(['right', 'left'])\n",
      "[right] start_ts: 1523987755569 | stop_ts: 1523988353449\n",
      "[left] start_ts: 1523987756393 | stop_ts: 1523988353873\n",
      "../kickoff-detection-data/bff5f37c-be85-4f08-b6d4-a01e6c22fe0e.json\n",
      "[{'phase': 1, 'type': 'start_phase', 'ts': '2018-04-17T17:00:46.604Z', 'kickoff_team_id': 14}, {'phase': 1, 'type': 'end_phase', 'ts': '2018-04-17T17:45:52.314Z'}, {'phase': 2, 'type': 'start_phase', 'ts': '2018-04-17T18:00:53.147Z', 'kickoff_team_id': 3}, {'phase': 2, 'type': 'end_phase', 'ts': '2018-04-17T18:51:00.072Z'}]\n"
     ]
    },
    {
     "name": "stderr",
     "output_type": "stream",
     "text": [
      "14938it [00:06, 2185.40it/s]\n"
     ]
    },
    {
     "name": "stdout",
     "output_type": "stream",
     "text": [
      "2680\n",
      "17\n",
      "8040 72\n",
      "17\n",
      "60\n"
     ]
    },
    {
     "name": "stderr",
     "output_type": "stream",
     "text": [
      "470it [00:00, 2436.16it/s]"
     ]
    },
    {
     "name": "stdout",
     "output_type": "stream",
     "text": [
      "Parsed ../kickoff-detection-data/0281a840-f977-4e8a-86e2-eaf67845b528.2.kickoff.rdb in 1.63 s.\n",
      "Contains keys: dict_keys(['right', 'left'])\n",
      "[right] start_ts: 1525019337634 | stop_ts: 1525019935474\n",
      "[left] start_ts: 1525019337680 | stop_ts: 1525019935520\n",
      "../kickoff-detection-data/0281a840-f977-4e8a-86e2-eaf67845b528.json\n",
      "[{'phase': 1, 'type': 'start_phase', 'ts': '2018-04-29T15:30:23.194Z', 'kickoff_team_id': 9}, {'phase': 1, 'type': 'end_phase', 'ts': '2018-04-29T16:18:22.995Z'}, {'phase': 2, 'type': 'start_phase', 'ts': '2018-04-29T16:33:55.146Z', 'kickoff_team_id': 8}, {'phase': 2, 'type': 'end_phase', 'ts': '2018-04-29T17:21:44.969Z'}]\n"
     ]
    },
    {
     "name": "stderr",
     "output_type": "stream",
     "text": [
      "14946it [00:07, 1966.62it/s]\n"
     ]
    },
    {
     "name": "stdout",
     "output_type": "stream",
     "text": [
      "2680\n",
      "16\n",
      "8040 71\n",
      "16\n",
      "61\n"
     ]
    },
    {
     "name": "stderr",
     "output_type": "stream",
     "text": [
      "466it [00:00, 2347.70it/s]"
     ]
    },
    {
     "name": "stdout",
     "output_type": "stream",
     "text": [
      "Parsed ../kickoff-detection-data/a5763b80-c4a7-4b45-9c78-4f1c8f72bf60.2.kickoff.rdb in 0.96 s.\n",
      "Contains keys: dict_keys(['right', 'left'])\n",
      "[right] start_ts: 1525370290109 | stop_ts: 1525370587949\n",
      "[left] start_ts: 1525370290159 | stop_ts: 1525370587959\n",
      "../kickoff-detection-data/a5763b80-c4a7-4b45-9c78-4f1c8f72bf60.json\n",
      "[{'phase': 1, 'type': 'start_phase', 'ts': '2018-05-03T17:00:40.389Z', 'kickoff_team_id': 8}, {'phase': 1, 'type': 'end_phase', 'ts': '2018-05-03T17:45:43.538Z'}, {'phase': 2, 'type': 'start_phase', 'ts': '2018-05-03T18:03:07.709Z', 'kickoff_team_id': 11}, {'phase': 2, 'type': 'end_phase', 'ts': '2018-05-03T18:54:18.463Z'}]\n"
     ]
    },
    {
     "name": "stderr",
     "output_type": "stream",
     "text": [
      "7446it [00:03, 2195.21it/s]\n"
     ]
    },
    {
     "name": "stdout",
     "output_type": "stream",
     "text": [
      "2680\n",
      "0\n",
      "8040 27\n",
      "0\n"
     ]
    },
    {
     "name": "stderr",
     "output_type": "stream",
     "text": [
      "723it [00:00, 3489.14it/s]"
     ]
    },
    {
     "name": "stdout",
     "output_type": "stream",
     "text": [
      "Parsed ../kickoff-detection-data/a185c6c8-7383-4d19-927f-dc8f70726c34.2.kickoff.rdb in 1.33 s.\n",
      "Contains keys: dict_keys(['right', 'left'])\n",
      "[right] start_ts: 1523901471657 | stop_ts: 1523902070297\n",
      "[left] start_ts: 1523901471243 | stop_ts: 1523902070043\n",
      "../kickoff-detection-data/a185c6c8-7383-4d19-927f-dc8f70726c34.json\n",
      "[{'phase': 1, 'type': 'start_phase', 'ts': '2018-04-16T17:01:35.285Z', 'kickoff_team_id': 15}, {'phase': 1, 'type': 'end_phase', 'ts': '2018-04-16T17:46:39.313Z'}, {'phase': 2, 'type': 'start_phase', 'ts': '2018-04-16T18:02:50.296Z', 'kickoff_team_id': 2}, {'phase': 2, 'type': 'end_phase', 'ts': '2018-04-16T18:49:49.424Z'}]\n"
     ]
    },
    {
     "name": "stderr",
     "output_type": "stream",
     "text": [
      "14967it [00:05, 2585.44it/s]\n"
     ]
    },
    {
     "name": "stdout",
     "output_type": "stream",
     "text": [
      "2680\n",
      "16\n",
      "8040 72\n",
      "16\n",
      "62\n"
     ]
    },
    {
     "name": "stderr",
     "output_type": "stream",
     "text": [
      "852it [00:00, 4374.26it/s]"
     ]
    },
    {
     "name": "stdout",
     "output_type": "stream",
     "text": [
      "Parsed ../kickoff-detection-data/e4a4d658-8d02-4336-9fa6-b0b1dfcc95ee.2.kickoff.rdb in 0.67 s.\n",
      "Contains keys: dict_keys(['right', 'left'])\n",
      "[right] start_ts: 1525616443081 | stop_ts: 1525616742601\n",
      "[left] start_ts: 1525616443047 | stop_ts: 1525616742607\n",
      "../kickoff-detection-data/e4a4d658-8d02-4336-9fa6-b0b1dfcc95ee.json\n",
      "[{'phase': 1, 'type': 'start_phase', 'ts': '2018-05-06T13:00:05.407Z', 'kickoff_team_id': 15}, {'phase': 1, 'type': 'end_phase', 'ts': '2018-05-06T14:10:37.292Z'}, {'phase': 2, 'type': 'start_phase', 'ts': '2018-05-06T14:25:42.849Z', 'kickoff_team_id': 11}, {'phase': 2, 'type': 'end_phase', 'ts': '2018-05-06T15:14:11.682Z'}]\n"
     ]
    },
    {
     "name": "stderr",
     "output_type": "stream",
     "text": [
      "7489it [00:02, 3185.25it/s]\n"
     ]
    },
    {
     "name": "stdout",
     "output_type": "stream",
     "text": [
      "2680\n",
      "0\n",
      "8040 27\n",
      "0\n"
     ]
    },
    {
     "name": "stderr",
     "output_type": "stream",
     "text": [
      "551it [00:00, 2636.35it/s]"
     ]
    },
    {
     "name": "stdout",
     "output_type": "stream",
     "text": [
      "Parsed ../kickoff-detection-data/9e627901-09e2-4c84-bf77-6f0ec289fa5f.1.kickoff.rdb in 1.95 s.\n",
      "Contains keys: dict_keys(['right', 'left'])\n",
      "[right] start_ts: 1522682845973 | stop_ts: 1522683445853\n",
      "[left] start_ts: 1522682846069 | stop_ts: 1522683445869\n",
      "../kickoff-detection-data/9e627901-09e2-4c84-bf77-6f0ec289fa5f.json\n",
      "[{'phase': 1, 'type': 'start_phase', 'ts': '2018-04-02T15:32:25.029Z', 'kickoff_team_id': 7}, {'phase': 1, 'type': 'end_phase', 'ts': '2018-04-02T16:17:34.362Z'}, {'phase': 2, 'type': 'start_phase', 'ts': '2018-04-02T16:33:31.520Z', 'kickoff_team_id': 8}, {'phase': 2, 'type': 'end_phase', 'ts': '2018-04-02T17:22:39.373Z'}]\n"
     ]
    },
    {
     "name": "stderr",
     "output_type": "stream",
     "text": [
      "14997it [00:05, 2594.94it/s]\n"
     ]
    },
    {
     "name": "stdout",
     "output_type": "stream",
     "text": [
      "2680\n",
      "17\n",
      "8040 73\n",
      "17\n",
      "63\n"
     ]
    },
    {
     "name": "stderr",
     "output_type": "stream",
     "text": [
      "695it [00:00, 6946.26it/s]"
     ]
    },
    {
     "name": "stdout",
     "output_type": "stream",
     "text": [
      "Parsed ../kickoff-detection-data/050a1fae-5d48-4048-8f66-a3f12eca843d.2.kickoff.rdb in 1.30 s.\n",
      "Contains keys: dict_keys(['right', 'left'])\n",
      "[right] start_ts: 1526228825172 | stop_ts: 1526229422052\n",
      "[left] start_ts: 1526228825102 | stop_ts: 1526229422022\n",
      "../kickoff-detection-data/050a1fae-5d48-4048-8f66-a3f12eca843d.json\n",
      "[{'phase': 1, 'type': 'start_phase', 'ts': '2018-05-13T15:30:00.666Z', 'kickoff_team_id': 14}, {'phase': 1, 'type': 'end_phase', 'ts': '2018-05-13T16:16:59.553Z'}, {'phase': 2, 'type': 'start_phase', 'ts': '2018-05-13T16:32:02.287Z', 'kickoff_team_id': 8}, {'phase': 2, 'type': 'end_phase', 'ts': '2018-05-13T17:20:33.812Z'}]\n"
     ]
    },
    {
     "name": "stderr",
     "output_type": "stream",
     "text": [
      "14922it [00:05, 2895.66it/s]\n"
     ]
    },
    {
     "name": "stdout",
     "output_type": "stream",
     "text": [
      "2680\n",
      "17\n",
      "8040 72\n",
      "17\n",
      "64\n"
     ]
    },
    {
     "name": "stderr",
     "output_type": "stream",
     "text": [
      "427it [00:00, 4263.62it/s]"
     ]
    },
    {
     "name": "stdout",
     "output_type": "stream",
     "text": [
      "Parsed ../kickoff-detection-data/4176c56a-b0df-4e64-aaeb-09150829ba15.1.kickoff.rdb in 1.98 s.\n",
      "Contains keys: dict_keys(['right', 'left'])\n",
      "[right] start_ts: 1526738122432 | stop_ts: 1526738722232\n",
      "[left] start_ts: 1526738122412 | stop_ts: 1526738722252\n",
      "../kickoff-detection-data/4176c56a-b0df-4e64-aaeb-09150829ba15.json\n",
      "[{'phase': 1, 'type': 'start_phase', 'ts': '2018-05-19T14:00:22.229Z', 'kickoff_team_id': 3}, {'phase': 1, 'type': 'end_phase', 'ts': '2018-05-19T14:48:34.080Z'}, {'phase': 2, 'type': 'start_phase', 'ts': '2018-05-19T15:04:50.325Z', 'kickoff_team_id': 13}, {'phase': 2, 'type': 'end_phase', 'ts': '2018-05-19T15:53:26.441Z'}]\n"
     ]
    },
    {
     "name": "stderr",
     "output_type": "stream",
     "text": [
      "14996it [00:07, 2088.42it/s]\n"
     ]
    },
    {
     "name": "stdout",
     "output_type": "stream",
     "text": [
      "2680\n",
      "17\n",
      "8040 73\n",
      "17\n",
      "65\n"
     ]
    },
    {
     "name": "stderr",
     "output_type": "stream",
     "text": [
      "413it [00:00, 4127.05it/s]"
     ]
    },
    {
     "name": "stdout",
     "output_type": "stream",
     "text": [
      "Parsed ../kickoff-detection-data/4b5dc786-7219-46eb-bc5f-722a77011092.2.kickoff.rdb in 0.70 s.\n",
      "Contains keys: dict_keys(['right', 'left'])\n",
      "[right] start_ts: 1524852013097 | stop_ts: 1524852312937\n",
      "[left] start_ts: 1524852013035 | stop_ts: 1524852312915\n",
      "../kickoff-detection-data/4b5dc786-7219-46eb-bc5f-722a77011092.json\n",
      "[{'phase': 1, 'type': 'start_phase', 'ts': '2018-04-27T17:00:38.529Z', 'kickoff_team_id': 1}, {'phase': 1, 'type': 'end_phase', 'ts': '2018-04-27T17:48:39.186Z'}, {'phase': 2, 'type': 'start_phase', 'ts': '2018-04-27T18:05:12.740Z', 'kickoff_team_id': 10}, {'phase': 2, 'type': 'end_phase', 'ts': '2018-04-27T18:53:12.757Z'}]\n"
     ]
    },
    {
     "name": "stderr",
     "output_type": "stream",
     "text": [
      "7498it [00:02, 2905.46it/s]\n"
     ]
    },
    {
     "name": "stdout",
     "output_type": "stream",
     "text": [
      "2680\n",
      "0\n",
      "8040 27\n",
      "0\n"
     ]
    },
    {
     "name": "stderr",
     "output_type": "stream",
     "text": [
      "1047it [00:00, 5098.10it/s]"
     ]
    },
    {
     "name": "stdout",
     "output_type": "stream",
     "text": [
      "Parsed ../kickoff-detection-data/84e8b33c-d912-495e-9e21-84bdd18e0e04.2.kickoff.rdb in 1.27 s.\n",
      "Contains keys: dict_keys(['right', 'left'])\n",
      "[right] start_ts: 1523642142209 | stop_ts: 1523642740769\n",
      "[left] start_ts: 1523642141699 | stop_ts: 1523642740539\n",
      "../kickoff-detection-data/84e8b33c-d912-495e-9e21-84bdd18e0e04.json\n",
      "[{'phase': 1, 'type': 'start_phase', 'ts': '2018-04-13T16:59:59.946Z', 'kickoff_team_id': 12}, {'phase': 1, 'type': 'end_phase', 'ts': '2018-04-13T17:45:38.365Z'}, {'phase': 2, 'type': 'start_phase', 'ts': '2018-04-13T18:00:40.466Z', 'kickoff_team_id': 14}, {'phase': 2, 'type': 'end_phase', 'ts': '2018-04-13T18:47:41.972Z'}]\n"
     ]
    },
    {
     "name": "stderr",
     "output_type": "stream",
     "text": [
      "14965it [00:05, 2940.03it/s]\n"
     ]
    },
    {
     "name": "stdout",
     "output_type": "stream",
     "text": [
      "2680\n",
      "16\n",
      "8040 72\n",
      "16\n",
      "66\n"
     ]
    },
    {
     "name": "stderr",
     "output_type": "stream",
     "text": [
      "670it [00:00, 3358.83it/s]"
     ]
    },
    {
     "name": "stdout",
     "output_type": "stream",
     "text": [
      "Parsed ../kickoff-detection-data/05055edf-8142-45b9-954b-52d7caa7ce43.2.kickoff.rdb in 1.39 s.\n",
      "Contains keys: dict_keys(['right', 'left'])\n",
      "[right] start_ts: 1526666131699 | stop_ts: 1526666730219\n",
      "[left] start_ts: 1526666131769 | stop_ts: 1526666730249\n",
      "../kickoff-detection-data/05055edf-8142-45b9-954b-52d7caa7ce43.json\n",
      "[{'phase': 1, 'type': 'start_phase', 'ts': '2018-05-18T17:00:03.739Z', 'kickoff_team_id': 9}, {'phase': 1, 'type': 'end_phase', 'ts': '2018-05-18T17:45:08.881Z'}, {'phase': 2, 'type': 'start_phase', 'ts': '2018-05-18T18:00:30.258Z', 'kickoff_team_id': 15}, {'phase': 2, 'type': 'end_phase', 'ts': '2018-05-18T18:49:44.353Z'}]\n"
     ]
    },
    {
     "name": "stderr",
     "output_type": "stream",
     "text": [
      "14963it [00:05, 2853.31it/s]\n"
     ]
    },
    {
     "name": "stdout",
     "output_type": "stream",
     "text": [
      "2680\n",
      "16\n",
      "8040 72\n",
      "16\n",
      "67\n"
     ]
    },
    {
     "name": "stderr",
     "output_type": "stream",
     "text": [
      "201it [00:00, 988.38it/s]"
     ]
    },
    {
     "name": "stdout",
     "output_type": "stream",
     "text": [
      "Parsed ../kickoff-detection-data/a5857e03-10b8-454a-89fb-c201985b04cb.1.kickoff.rdb in 1.52 s.\n",
      "Contains keys: dict_keys(['right', 'left'])\n",
      "[right] start_ts: 1523379375326 | stop_ts: 1523379973846\n",
      "[left] start_ts: 1523379375938 | stop_ts: 1523379974138\n",
      "../kickoff-detection-data/a5857e03-10b8-454a-89fb-c201985b04cb.json\n",
      "[{'phase': 1, 'type': 'start_phase', 'ts': '2018-04-10T17:01:14.985Z', 'kickoff_team_id': 6}, {'phase': 1, 'type': 'end_phase', 'ts': '2018-04-10T17:47:16.674Z'}, {'phase': 2, 'type': 'start_phase', 'ts': '2018-04-10T18:03:03.834Z', 'kickoff_team_id': 2}, {'phase': 2, 'type': 'end_phase', 'ts': '2018-04-10T18:51:05.058Z'}]\n"
     ]
    },
    {
     "name": "stderr",
     "output_type": "stream",
     "text": [
      "14955it [00:06, 2315.90it/s]\n"
     ]
    },
    {
     "name": "stdout",
     "output_type": "stream",
     "text": [
      "2680\n",
      "17\n",
      "8040 72\n",
      "17\n",
      "68\n"
     ]
    },
    {
     "name": "stderr",
     "output_type": "stream",
     "text": [
      "272it [00:00, 2712.86it/s]"
     ]
    },
    {
     "name": "stdout",
     "output_type": "stream",
     "text": [
      "Parsed ../kickoff-detection-data/2dc12819-d486-4925-a0e2-b8ae9ff1aed5.2.kickoff.rdb in 2.09 s.\n",
      "Contains keys: dict_keys(['right', 'left'])\n",
      "[right] start_ts: 1523196016735 | stop_ts: 1523196614695\n",
      "[left] start_ts: 1523196016019 | stop_ts: 1523196614339\n",
      "../kickoff-detection-data/2dc12819-d486-4925-a0e2-b8ae9ff1aed5.json\n",
      "[{'phase': 1, 'type': 'start_phase', 'ts': '2018-04-08T13:03:49.968Z', 'kickoff_team_id': 11}, {'phase': 1, 'type': 'end_phase', 'ts': '2018-04-08T13:48:52.077Z'}, {'phase': 2, 'type': 'start_phase', 'ts': '2018-04-08T14:05:14.493Z', 'kickoff_team_id': 14}, {'phase': 2, 'type': 'end_phase', 'ts': '2018-04-08T14:53:40.200Z'}]\n"
     ]
    },
    {
     "name": "stderr",
     "output_type": "stream",
     "text": [
      "14949it [00:06, 2281.80it/s]\n"
     ]
    },
    {
     "name": "stdout",
     "output_type": "stream",
     "text": [
      "2680\n",
      "16\n",
      "8040 71\n",
      "16\n",
      "69\n"
     ]
    },
    {
     "name": "stderr",
     "output_type": "stream",
     "text": [
      "211it [00:00, 2107.26it/s]"
     ]
    },
    {
     "name": "stdout",
     "output_type": "stream",
     "text": [
      "Parsed ../kickoff-detection-data/76d4b783-ae63-4c60-815f-6a81beef6451.2.kickoff.rdb in 1.99 s.\n",
      "Contains keys: dict_keys(['right', 'left'])\n",
      "[right] start_ts: 1523113078628 | stop_ts: 1523113675148\n",
      "[left] start_ts: 1523113078596 | stop_ts: 1523113675116\n",
      "../kickoff-detection-data/76d4b783-ae63-4c60-815f-6a81beef6451.json\n",
      "[{'phase': 1, 'type': 'start_phase', 'ts': '2018-04-07T14:02:21.372Z', 'kickoff_team_id': 12}, {'phase': 1, 'type': 'end_phase', 'ts': '2018-04-07T14:47:22.773Z'}, {'phase': 2, 'type': 'start_phase', 'ts': '2018-04-07T15:02:55.779Z', 'kickoff_team_id': 4}, {'phase': 2, 'type': 'end_phase', 'ts': '2018-04-07T15:50:52.908Z'}]\n"
     ]
    },
    {
     "name": "stderr",
     "output_type": "stream",
     "text": [
      "14913it [00:07, 2023.94it/s]\n"
     ]
    },
    {
     "name": "stdout",
     "output_type": "stream",
     "text": [
      "2680\n",
      "16\n",
      "8040 71\n",
      "16\n",
      "70\n"
     ]
    },
    {
     "name": "stderr",
     "output_type": "stream",
     "text": [
      "841it [00:00, 4223.24it/s]"
     ]
    },
    {
     "name": "stdout",
     "output_type": "stream",
     "text": [
      "Parsed ../kickoff-detection-data/cbcca433-ff77-4927-a5a3-36ff293c12fd.1.kickoff.rdb in 1.55 s.\n",
      "Contains keys: dict_keys(['right', 'left'])\n",
      "[right] start_ts: 1523292936370 | stop_ts: 1523293534370\n",
      "[left] start_ts: 1523292948088 | stop_ts: 1523293544248\n",
      "../kickoff-detection-data/cbcca433-ff77-4927-a5a3-36ff293c12fd.json\n",
      "[{'phase': 1, 'type': 'start_phase', 'ts': '2018-04-09T17:00:44.667Z', 'kickoff_team_id': 15}, {'phase': 1, 'type': 'end_phase', 'ts': '2018-04-09T17:47:46.113Z'}, {'phase': 2, 'type': 'start_phase', 'ts': '2018-04-09T18:04:16.558Z', 'kickoff_team_id': 5}, {'phase': 2, 'type': 'end_phase', 'ts': '2018-04-09T18:53:12.188Z'}]\n"
     ]
    },
    {
     "name": "stderr",
     "output_type": "stream",
     "text": [
      "14861it [00:05, 2549.52it/s]\n"
     ]
    },
    {
     "name": "stdout",
     "output_type": "stream",
     "text": [
      "2680\n",
      "16\n",
      "8040 69\n",
      "16\n",
      "71\n"
     ]
    },
    {
     "name": "stderr",
     "output_type": "stream",
     "text": [
      "655it [00:00, 3286.88it/s]"
     ]
    },
    {
     "name": "stdout",
     "output_type": "stream",
     "text": [
      "Parsed ../kickoff-detection-data/adffa69d-f1aa-4aa1-9b15-fab3aa629e4f.2.kickoff.rdb in 0.84 s.\n",
      "Contains keys: dict_keys(['right', 'left'])\n",
      "[right] start_ts: 1526219951185 | stop_ts: 1526220248985\n",
      "[left] start_ts: 1526219951023 | stop_ts: 1526220248903\n",
      "../kickoff-detection-data/adffa69d-f1aa-4aa1-9b15-fab3aa629e4f.json\n",
      "[{'phase': 1, 'type': 'start_phase', 'ts': '2018-05-13T13:00:08.809Z', 'kickoff_team_id': 11}, {'phase': 1, 'type': 'end_phase', 'ts': '2018-05-13T13:47:11.419Z'}, {'phase': 2, 'type': 'start_phase', 'ts': '2018-05-13T14:04:08.880Z', 'kickoff_team_id': 16}, {'phase': 2, 'type': 'end_phase', 'ts': '2018-05-13T14:54:45.215Z'}]\n"
     ]
    },
    {
     "name": "stderr",
     "output_type": "stream",
     "text": [
      "7446it [00:02, 2858.77it/s]\n"
     ]
    },
    {
     "name": "stdout",
     "output_type": "stream",
     "text": [
      "2680\n",
      "0\n",
      "8040 27\n",
      "0\n"
     ]
    },
    {
     "name": "stderr",
     "output_type": "stream",
     "text": [
      "623it [00:00, 3151.92it/s]"
     ]
    },
    {
     "name": "stdout",
     "output_type": "stream",
     "text": [
      "Parsed ../kickoff-detection-data/cf16ebf4-49fc-4991-a9b8-b9a055dcf2b8.2.kickoff.rdb in 1.51 s.\n",
      "Contains keys: dict_keys(['right', 'left'])\n",
      "[right] start_ts: 1525010676848 | stop_ts: 1525011275688\n",
      "[left] start_ts: 1525010676874 | stop_ts: 1525011275674\n",
      "../kickoff-detection-data/cf16ebf4-49fc-4991-a9b8-b9a055dcf2b8.json\n",
      "[{'phase': 1, 'type': 'start_phase', 'ts': '2018-04-29T13:04:53.610Z', 'kickoff_team_id': 2}, {'phase': 1, 'type': 'end_phase', 'ts': '2018-04-29T13:51:58.173Z'}, {'phase': 2, 'type': 'start_phase', 'ts': '2018-04-29T14:09:35.826Z', 'kickoff_team_id': 11}, {'phase': 2, 'type': 'end_phase', 'ts': '2018-04-29T14:57:43.997Z'}]\n"
     ]
    },
    {
     "name": "stderr",
     "output_type": "stream",
     "text": [
      "14971it [00:06, 2274.46it/s]\n"
     ]
    },
    {
     "name": "stdout",
     "output_type": "stream",
     "text": [
      "2680\n",
      "17\n",
      "8040 73\n",
      "17\n",
      "72\n"
     ]
    },
    {
     "name": "stderr",
     "output_type": "stream",
     "text": [
      "294it [00:00, 1445.94it/s]"
     ]
    },
    {
     "name": "stdout",
     "output_type": "stream",
     "text": [
      "Parsed ../kickoff-detection-data/c79d79f1-5f51-4595-b931-4719f91a4575.1.kickoff.rdb in 2.42 s.\n",
      "Contains keys: dict_keys(['right', 'left'])\n",
      "[right] start_ts: 1525103808005 | stop_ts: 1525104404845\n",
      "[left] start_ts: 1525103807965 | stop_ts: 1525104404805\n",
      "../kickoff-detection-data/c79d79f1-5f51-4595-b931-4719f91a4575.json\n",
      "[{'phase': 1, 'type': 'start_phase', 'ts': '2018-04-30T16:01:44.820Z', 'kickoff_team_id': 12}, {'phase': 1, 'type': 'end_phase', 'ts': '2018-04-30T16:48:14.773Z'}, {'phase': 2, 'type': 'start_phase', 'ts': '2018-04-30T17:04:43.376Z', 'kickoff_team_id': 16}, {'phase': 2, 'type': 'end_phase', 'ts': '2018-04-30T17:54:48.605Z'}]\n"
     ]
    },
    {
     "name": "stderr",
     "output_type": "stream",
     "text": [
      "14922it [00:07, 1953.76it/s]\n"
     ]
    },
    {
     "name": "stdout",
     "output_type": "stream",
     "text": [
      "2680\n",
      "16\n",
      "8040 71\n",
      "16\n",
      "73\n"
     ]
    },
    {
     "name": "stderr",
     "output_type": "stream",
     "text": [
      "148it [00:00, 1474.57it/s]"
     ]
    },
    {
     "name": "stdout",
     "output_type": "stream",
     "text": [
      "Parsed ../kickoff-detection-data/4501652f-d7e6-4e3e-9ad2-e01198278688.1.kickoff.rdb in 2.14 s.\n",
      "Contains keys: dict_keys(['right', 'left'])\n",
      "[right] start_ts: 1526216102566 | stop_ts: 1526216402406\n",
      "[left] start_ts: 1526216102558 | stop_ts: 1526216402398\n",
      "../kickoff-detection-data/4501652f-d7e6-4e3e-9ad2-e01198278688.json\n",
      "[{'phase': 1, 'type': 'start_phase', 'ts': '2018-05-13T13:00:02.166Z', 'kickoff_team_id': 6}, {'phase': 1, 'type': 'end_phase', 'ts': '2018-05-13T13:46:56.480Z'}, {'phase': 2, 'type': 'start_phase', 'ts': '2018-05-13T14:02:39.958Z', 'kickoff_team_id': 4}, {'phase': 2, 'type': 'end_phase', 'ts': '2018-05-13T14:52:58.982Z'}]\n"
     ]
    },
    {
     "name": "stderr",
     "output_type": "stream",
     "text": [
      "7498it [00:05, 1290.36it/s]\n"
     ]
    },
    {
     "name": "stdout",
     "output_type": "stream",
     "text": [
      "2680\n",
      "0\n",
      "8040 27\n",
      "0\n"
     ]
    },
    {
     "name": "stderr",
     "output_type": "stream",
     "text": [
      "1247it [00:00, 6502.33it/s]"
     ]
    },
    {
     "name": "stdout",
     "output_type": "stream",
     "text": [
      "Parsed ../kickoff-detection-data/c7acc25c-8411-4683-96ec-e26dee9cec34.1.kickoff.rdb in 0.45 s.\n",
      "Contains keys: dict_keys(['right', 'left'])\n",
      "[right] start_ts: 1524401702817 | stop_ts: 1524402001137\n",
      "[left] start_ts: 1524401702073 | stop_ts: 1524402000793\n",
      "../kickoff-detection-data/c7acc25c-8411-4683-96ec-e26dee9cec34.json\n",
      "[{'phase': 1, 'type': 'start_phase', 'ts': '2018-04-22T13:00:00.017Z', 'kickoff_team_id': 16}, {'phase': 1, 'type': 'end_phase', 'ts': '2018-04-22T13:46:09.238Z'}, {'phase': 2, 'type': 'start_phase', 'ts': '2018-04-22T14:01:57.969Z', 'kickoff_team_id': 3}, {'phase': 2, 'type': 'end_phase', 'ts': '2018-04-22T14:50:02.088Z'}]\n"
     ]
    },
    {
     "name": "stderr",
     "output_type": "stream",
     "text": [
      "7459it [00:01, 5220.29it/s]\n"
     ]
    },
    {
     "name": "stdout",
     "output_type": "stream",
     "text": [
      "2680\n",
      "0\n",
      "8040 27\n",
      "0\n"
     ]
    },
    {
     "name": "stderr",
     "output_type": "stream",
     "text": [
      "821it [00:00, 4043.32it/s]"
     ]
    },
    {
     "name": "stdout",
     "output_type": "stream",
     "text": [
      "Parsed ../kickoff-detection-data/f9f01fbf-6871-4303-b43f-29c2dd16909d.2.kickoff.rdb in 1.90 s.\n",
      "Contains keys: dict_keys(['right', 'left'])\n",
      "[right] start_ts: 1522677422216 | stop_ts: 1522678021096\n",
      "[left] start_ts: 1522677422334 | stop_ts: 1522678021134\n",
      "../kickoff-detection-data/f9f01fbf-6871-4303-b43f-29c2dd16909d.json\n",
      "[{'phase': 1, 'type': 'start_phase', 'ts': '2018-04-02T13:00:02.978Z', 'kickoff_team_id': 15}, {'phase': 1, 'type': 'end_phase', 'ts': '2018-04-02T13:47:02.983Z'}, {'phase': 2, 'type': 'start_phase', 'ts': '2018-04-02T14:02:01.386Z', 'kickoff_team_id': 4}, {'phase': 2, 'type': 'end_phase', 'ts': '2018-04-02T14:50:07.639Z'}]\n"
     ]
    },
    {
     "name": "stderr",
     "output_type": "stream",
     "text": [
      "14971it [00:05, 2602.28it/s]\n"
     ]
    },
    {
     "name": "stdout",
     "output_type": "stream",
     "text": [
      "2680\n",
      "17\n",
      "8040 72\n",
      "17\n",
      "74\n"
     ]
    },
    {
     "name": "stderr",
     "output_type": "stream",
     "text": [
      "301it [00:00, 3009.66it/s]"
     ]
    },
    {
     "name": "stdout",
     "output_type": "stream",
     "text": [
      "Parsed ../kickoff-detection-data/2281c504-baac-4d0b-8cb6-a95c23e3ac87.2.kickoff.rdb in 1.38 s.\n",
      "Contains keys: dict_keys(['right', 'left'])\n",
      "[right] start_ts: 1525100287373 | stop_ts: 1525100884933\n",
      "[left] start_ts: 1525100287393 | stop_ts: 1525100884953\n",
      "../kickoff-detection-data/2281c504-baac-4d0b-8cb6-a95c23e3ac87.json\n",
      "[{'phase': 1, 'type': 'start_phase', 'ts': '2018-04-30T13:59:53.940Z', 'kickoff_team_id': 15}, {'phase': 1, 'type': 'end_phase', 'ts': '2018-04-30T14:47:55.606Z'}, {'phase': 2, 'type': 'start_phase', 'ts': '2018-04-30T15:03:04.304Z', 'kickoff_team_id': 13}, {'phase': 2, 'type': 'end_phase', 'ts': '2018-04-30T15:50:18.572Z'}]\n"
     ]
    },
    {
     "name": "stderr",
     "output_type": "stream",
     "text": [
      "14940it [00:05, 2797.31it/s]\n"
     ]
    },
    {
     "name": "stdout",
     "output_type": "stream",
     "text": [
      "2680\n",
      "17\n",
      "8040 72\n",
      "17\n",
      "75\n"
     ]
    },
    {
     "name": "stderr",
     "output_type": "stream",
     "text": [
      "503it [00:00, 2446.70it/s]"
     ]
    },
    {
     "name": "stdout",
     "output_type": "stream",
     "text": [
      "Parsed ../kickoff-detection-data/41c3f1b3-a868-459b-9766-760be49947b2.2.kickoff.rdb in 1.95 s.\n",
      "Contains keys: dict_keys(['right', 'left'])\n",
      "[right] start_ts: 1526320586601 | stop_ts: 1526321186441\n",
      "[left] start_ts: 1526320586615 | stop_ts: 1526321186455\n",
      "../kickoff-detection-data/41c3f1b3-a868-459b-9766-760be49947b2.json\n",
      "[{'phase': 1, 'type': 'start_phase', 'ts': '2018-05-14T17:00:21.871Z', 'kickoff_team_id': 9}, {'phase': 1, 'type': 'end_phase', 'ts': '2018-05-14T17:46:22.241Z'}, {'phase': 2, 'type': 'start_phase', 'ts': '2018-05-14T18:01:26.755Z', 'kickoff_team_id': 1}, {'phase': 2, 'type': 'end_phase', 'ts': '2018-05-14T18:49:29.553Z'}]\n"
     ]
    },
    {
     "name": "stderr",
     "output_type": "stream",
     "text": [
      "14997it [00:06, 2192.94it/s]\n"
     ]
    },
    {
     "name": "stdout",
     "output_type": "stream",
     "text": [
      "2680\n",
      "16\n",
      "8040 72\n",
      "16\n",
      "76\n"
     ]
    },
    {
     "name": "stderr",
     "output_type": "stream",
     "text": [
      "415it [00:00, 4146.33it/s]"
     ]
    },
    {
     "name": "stdout",
     "output_type": "stream",
     "text": [
      "Parsed ../kickoff-detection-data/58bc418b-cf05-415e-9dd1-6f4808535976.2.kickoff.rdb in 1.53 s.\n",
      "Contains keys: dict_keys(['right', 'left'])\n",
      "[right] start_ts: 1523297009328 | stop_ts: 1523297605968\n",
      "[left] start_ts: 1523297008806 | stop_ts: 1523297605726\n",
      "../kickoff-detection-data/58bc418b-cf05-415e-9dd1-6f4808535976.json\n",
      "[{'phase': 1, 'type': 'start_phase', 'ts': '2018-04-09T17:00:56.973Z', 'kickoff_team_id': 8}, {'phase': 1, 'type': 'end_phase', 'ts': '2018-04-09T17:47:19.651Z'}, {'phase': 2, 'type': 'start_phase', 'ts': '2018-04-09T18:08:25.917Z', 'kickoff_team_id': 10}, {'phase': 2, 'type': 'end_phase', 'ts': '2018-04-09T18:57:31.075Z'}]\n"
     ]
    },
    {
     "name": "stderr",
     "output_type": "stream",
     "text": [
      "14917it [00:05, 2495.12it/s]\n"
     ]
    },
    {
     "name": "stdout",
     "output_type": "stream",
     "text": [
      "2680\n",
      "16\n",
      "8040 71\n",
      "16\n",
      "77\n"
     ]
    },
    {
     "name": "stderr",
     "output_type": "stream",
     "text": [
      "193it [00:00, 961.25it/s]"
     ]
    },
    {
     "name": "stdout",
     "output_type": "stream",
     "text": [
      "Parsed ../kickoff-detection-data/4903143c-68be-45f0-9746-e29547b7fa94.1.kickoff.rdb in 3.34 s.\n",
      "Contains keys: dict_keys(['right', 'left'])\n",
      "[right] start_ts: 1525528504685 | stop_ts: 1525528802525\n",
      "[left] start_ts: 1525528504705 | stop_ts: 1525528802545\n",
      "../kickoff-detection-data/4903143c-68be-45f0-9746-e29547b7fa94.json\n",
      "[{'phase': 1, 'type': 'start_phase', 'ts': '2018-05-05T14:00:02.592Z', 'kickoff_team_id': 13}, {'phase': 1, 'type': 'end_phase', 'ts': '2018-05-05T14:45:11.669Z'}, {'phase': 2, 'type': 'start_phase', 'ts': '2018-05-05T15:00:43.104Z', 'kickoff_team_id': 4}, {'phase': 2, 'type': 'end_phase', 'ts': '2018-05-05T15:50:08.057Z'}]\n"
     ]
    },
    {
     "name": "stderr",
     "output_type": "stream",
     "text": [
      "7447it [00:08, 913.92it/s] "
     ]
    },
    {
     "name": "stdout",
     "output_type": "stream",
     "text": [
      "2680\n",
      "0\n",
      "8040 27\n",
      "0\n"
     ]
    },
    {
     "name": "stderr",
     "output_type": "stream",
     "text": [
      "\n"
     ]
    }
   ],
   "source": [
    "create_dataset(tracks_name,config_name,'../kickoff-detection-data/data.pickle.1.10.mov',10)"
   ]
  },
  {
   "cell_type": "code",
   "execution_count": 20,
   "metadata": {},
   "outputs": [],
   "source": [
    "import random\n",
    "\n",
    "def shuffle_data(X,Y):\n",
    "    shuffle_list=list()\n",
    "    shuffle_X=list()\n",
    "    shuffle_Y=list()\n",
    "    for i in range(len(Y)):\n",
    "        shuffle_list.append([X[i],Y[i]])\n",
    "    random.shuffle(shuffle_list)\n",
    "    for i in range(len(Y)):\n",
    "        shuffle_X.append(shuffle_list[i][0])\n",
    "        shuffle_Y.append(shuffle_list[i][1])\n",
    "    return shuffle_X,shuffle_Y\n",
    "\n",
    "def sequence_kickoff_time(Y):\n",
    "    kickoff_match_i=list()\n",
    "    kickoff_periods=list()\n",
    "    for i in range(len(Y)):\n",
    "        if Y[i]==-1 and len(kickoff_match_i)>0:\n",
    "            kickoff_periods.append(kickoff_match_i)\n",
    "            kickoff_match_i=list()\n",
    "        if Y[i]==1:\n",
    "            kickoff_match_i.append(i)\n",
    "    if len(kickoff_match_i)>0:\n",
    "        kickoff_periods.append(kickoff_match_i)\n",
    "    return kickoff_periods\n",
    "\n"
   ]
  },
  {
   "cell_type": "code",
   "execution_count": 21,
   "metadata": {},
   "outputs": [],
   "source": [
    "from sklearn.ensemble import AdaBoostClassifier, GradientBoostingClassifier, RandomForestClassifier\n",
    "from sklearn.svm import SVC, LinearSVC\n",
    "from sklearn.neighbors import NearestNeighbors\n",
    "from sklearn.tree import DecisionTreeClassifier\n",
    "from datetime import datetime\n",
    "def cross_validation(X,Y,name_classifier,percentage_train,nbre_matches,indices,type_cross):\n",
    "    score_test=0\n",
    "    score_train=0\n",
    "    start=datetime.now()\n",
    "    for i in range(nbre_matches):\n",
    "        start_i=datetime.now()\n",
    "        #Create training and test datasets\n",
    "        x_train1=X[indices[i]:indices[min(i+int(nbre_matches*percentage_train),nbre_matches)]]+X[:indices[max(0,i+int(nbre_matches*percentage_train)-nbre_matches)]]\n",
    "        y_train1=Y[indices[i]:indices[min(i+int(nbre_matches*percentage_train),nbre_matches)]]+Y[:indices[max(0,i+int(nbre_matches*percentage_train)-nbre_matches)]]\n",
    "        x_test1=X[indices[min(i+int(nbre_matches*percentage_train),nbre_matches)]:]+X[indices[max(0,i+int(nbre_matches*percentage_train)-nbre_matches)]:indices[i]]\n",
    "        y_test1=Y[indices[min(i+int(nbre_matches*percentage_train),nbre_matches)]:]+Y[indices[max(0,i+int(nbre_matches*percentage_train)-nbre_matches)]:indices[i]]\n",
    "        \n",
    "        \n",
    "        #Cross_validation kickoff\n",
    "        if type_cross==\"kickoff\":\n",
    "            kickoff_indices=sequence_kickoff_time(y_test1)\n",
    "            x_test2=list()\n",
    "            y_test2=list()\n",
    "            for j in range(len(kickoff_indices)):\n",
    "                y_test2=y_test2+y_test1[kickoff_indices[j][0]:kickoff_indices[j][-1]+1]\n",
    "                x_test2=x_test2+x_test1[kickoff_indices[j][0]:kickoff_indices[j][-1]+1]\n",
    "            y_test=y_test2\n",
    "            x_test=x_test2\n",
    "        \n",
    "        if type_cross==\"no kickoff\":\n",
    "            kickoff_indices=sequence_kickoff_time(y_test1)\n",
    "            x_test2=list()\n",
    "            y_test2=list()\n",
    "            for j in range(len(kickoff_indices)):\n",
    "                if j==0:\n",
    "                    y_test2=y_test1[:kickoff_indices[j][0]]\n",
    "                    x_test2=x_test1[:kickoff_indices[j][0]]\n",
    "                if j>0:\n",
    "                    y_test2=y_test2+y_test1[kickoff_indices[j-1][-1]+1:kickoff_indices[j][0]]\n",
    "                    x_test2=x_test2+x_test1[kickoff_indices[j-1][-1]+1:kickoff_indices[j][0]]\n",
    "                if j==len(kickoff_indices)-1:\n",
    "                    y_test2=y_test2+y_test1[kickoff_indices[j][-1]+1:]\n",
    "                    x_test2=x_test2+x_test1[kickoff_indices[j][-1]+1:]\n",
    "            y_test=y_test2\n",
    "            x_test=x_test2\n",
    "            \n",
    "        #Shuffle data\n",
    "        x_train,y_train=shuffle_data(x_train1,y_train1)\n",
    "        #x_test,y_test=shuffle_data(x_test1,y_test1)\n",
    "        \n",
    "        #Training classifier\n",
    "        if name_classifier=='adaboost':\n",
    "            clf=AdaBoostClassifier()\n",
    "            clf.fit(x_train,y_train)\n",
    "        if name_classifier=='gradaboost':\n",
    "            clf=GradientBoostingClassifier()\n",
    "            clf.fit(x_train,y_train)\n",
    "        if name_classifier=='svm':\n",
    "            clf=SVC()\n",
    "            clf.fit(x_train,y_train)\n",
    "        if name_classifier=='linear_svm':\n",
    "            clf=LinearSVC()\n",
    "            clf.fit(x_train,y_train)\n",
    "        if name_classifier=='knn':\n",
    "            clf=NearestNeighbors()\n",
    "            clf.fit(x_train,y_train)\n",
    "        if name_classifier=='tree':\n",
    "            clf=DecisionTreeClassifier()\n",
    "            clf.fit(x_train,y_train)\n",
    "        if name_classifier=='forest':\n",
    "            clf=RandomForestClassifier(n_estimators=7,max_depth=25)\n",
    "            clf.fit(x_train,y_train)\n",
    "        end_i=datetime.now()\n",
    "        #Test\n",
    "        #print(clf.predict(x_test)*np.array(y_test))\n",
    "        score_test+=clf.score(x_test,y_test)\n",
    "        score_train+=clf.score(x_train,y_train)\n",
    "        print(\"Score for training for iteration {0} is {1}\".format(i,clf.score(x_train,y_train)))\n",
    "        print(\"Score for testing for iteration {0} is {1}\".format(i,clf.score(x_test,y_test)))\n",
    "        print(\"Training time: {0}\".format(end_i-start_i))\n",
    "        print(\"\\n\")\n",
    "    \n",
    "    end=datetime.now()\n",
    "    print(\"Final Score train: {0}\".format(score_train/nbre_matches))\n",
    "    print(\"Final Score test: {0}\".format(score_test/nbre_matches))\n",
    "    print(\"Cross validation time: {0}\".format(end-start))\n",
    "        \n",
    "        \n",
    "        \n",
    "def Classification(dataset,percentage_train,name_classifier,nbre_matches,type_cross=\"\"):\n",
    "    #Create inputs\n",
    "    X=list()\n",
    "    Y=list()\n",
    "    indices=[0]\n",
    "    with open(dataset, 'rb') as f:\n",
    "        for i in range(nbre_matches):\n",
    "            data = pickle.load(f)\n",
    "            X=X+data[0]\n",
    "            Y=Y+data[1]\n",
    "            indices.append(len(Y))\n",
    "    cross_validation(X,Y,name_classifier,percentage_train,nbre_matches,indices,type_cross)\n",
    "\n",
    "    \n",
    "\n"
   ]
  },
  {
   "cell_type": "code",
   "execution_count": 407,
   "metadata": {},
   "outputs": [
    {
     "name": "stdout",
     "output_type": "stream",
     "text": [
      "Score for training for iteration 0 is 0.9951941560938101\n",
      "Score for testing for iteration 0 is 0.875\n",
      "Training time: 0:00:01.270459\n",
      "\n",
      "\n",
      "Score for training for iteration 1 is 0.9961545856566045\n",
      "Score for testing for iteration 1 is 0.6875\n",
      "Training time: 0:00:01.218561\n",
      "\n",
      "\n",
      "Score for training for iteration 2 is 0.9978850221111325\n",
      "Score for testing for iteration 2 is 0.75\n",
      "Training time: 0:00:01.358481\n",
      "\n",
      "\n",
      "Score for training for iteration 3 is 0.9961538461538462\n",
      "Score for testing for iteration 3 is 0.8823529411764706\n",
      "Training time: 0:00:01.210264\n",
      "\n",
      "\n",
      "Score for training for iteration 4 is 0.997500480676793\n",
      "Score for testing for iteration 4 is 0.9375\n",
      "Training time: 0:00:01.253955\n",
      "\n",
      "\n",
      "Score for training for iteration 5 is 0.9946164199192463\n",
      "Score for testing for iteration 5 is 1.0\n",
      "Training time: 0:00:01.225873\n",
      "\n",
      "\n",
      "Score for training for iteration 6 is 0.9957700442222649\n",
      "Score for testing for iteration 6 is 0.9375\n",
      "Training time: 0:00:01.254371\n",
      "\n",
      "\n",
      "Score for training for iteration 7 is 0.9963468563737743\n",
      "Score for testing for iteration 7 is 0.11764705882352941\n",
      "Training time: 0:00:01.237117\n",
      "\n",
      "\n",
      "Score for training for iteration 8 is 0.9957692307692307\n",
      "Score for testing for iteration 8 is 0.23529411764705882\n",
      "Training time: 0:00:01.254364\n",
      "\n",
      "\n",
      "Score for training for iteration 9 is 0.9957708573625529\n",
      "Score for testing for iteration 9 is 0.75\n",
      "Training time: 0:00:01.261960\n",
      "\n",
      "\n",
      "Score for training for iteration 10 is 0.995576923076923\n",
      "Score for testing for iteration 10 is 0.9411764705882353\n",
      "Training time: 0:00:01.251435\n",
      "\n",
      "\n",
      "Score for training for iteration 11 is 0.9969242599000384\n",
      "Score for testing for iteration 11 is 0.875\n",
      "Training time: 0:00:01.238025\n",
      "\n",
      "\n",
      "Score for training for iteration 12 is 0.9973082099596231\n",
      "Score for testing for iteration 12 is 0.8125\n",
      "Training time: 0:00:01.242209\n",
      "\n",
      "\n",
      "Score for training for iteration 13 is 0.997500480676793\n",
      "Score for testing for iteration 13 is 0.6470588235294118\n",
      "Training time: 0:00:01.231324\n",
      "\n",
      "\n",
      "Score for training for iteration 14 is 0.9961538461538462\n",
      "Score for testing for iteration 14 is 0.8235294117647058\n",
      "Training time: 0:00:01.256623\n",
      "\n",
      "\n",
      "Score for training for iteration 15 is 0.9959623149394348\n",
      "Score for testing for iteration 15 is 0.0\n",
      "Training time: 0:00:01.257806\n",
      "\n",
      "\n",
      "Score for training for iteration 16 is 0.9957692307692307\n",
      "Score for testing for iteration 16 is 0.9411764705882353\n",
      "Training time: 0:00:01.207611\n",
      "\n",
      "\n",
      "Score for training for iteration 17 is 0.9942307692307693\n",
      "Score for testing for iteration 17 is 0.8823529411764706\n",
      "Training time: 0:00:01.258625\n",
      "\n",
      "\n",
      "Score for training for iteration 18 is 0.9963468563737743\n",
      "Score for testing for iteration 18 is 0.625\n",
      "Training time: 0:00:01.208702\n",
      "\n",
      "\n",
      "Score for training for iteration 19 is 0.9967313978081138\n",
      "Score for testing for iteration 19 is 0.6470588235294118\n",
      "Training time: 0:00:01.249094\n",
      "\n",
      "\n",
      "Score for training for iteration 20 is 0.9965397923875432\n",
      "Score for testing for iteration 20 is 0.75\n",
      "Training time: 0:00:01.206990\n",
      "\n",
      "\n",
      "Score for training for iteration 21 is 0.9969230769230769\n",
      "Score for testing for iteration 21 is 0.7647058823529411\n",
      "Training time: 0:00:01.202280\n",
      "\n",
      "\n",
      "Score for training for iteration 22 is 0.9957700442222649\n",
      "Score for testing for iteration 22 is 0.8125\n",
      "Training time: 0:00:01.192618\n",
      "\n",
      "\n",
      "Score for training for iteration 23 is 0.9948086906364161\n",
      "Score for testing for iteration 23 is 0.375\n",
      "Training time: 0:00:01.387661\n",
      "\n",
      "\n",
      "Score for training for iteration 24 is 0.9959623149394348\n",
      "Score for testing for iteration 24 is 0.0\n",
      "Training time: 0:00:01.205983\n",
      "\n",
      "\n",
      "Score for training for iteration 25 is 0.9973082099596231\n",
      "Score for testing for iteration 25 is 0.375\n",
      "Training time: 0:00:01.261530\n",
      "\n",
      "\n",
      "Score for training for iteration 26 is 0.9938497020949453\n",
      "Score for testing for iteration 26 is 0.4117647058823529\n",
      "Training time: 0:00:01.212959\n",
      "\n",
      "\n",
      "Score for training for iteration 27 is 0.998269563545472\n",
      "Score for testing for iteration 27 is 0.9375\n",
      "Training time: 0:00:01.238197\n",
      "\n",
      "\n",
      "Score for training for iteration 28 is 0.994423076923077\n",
      "Score for testing for iteration 28 is 0.7647058823529411\n",
      "Training time: 0:00:01.236570\n",
      "\n",
      "\n",
      "Score for training for iteration 29 is 0.9961545856566045\n",
      "Score for testing for iteration 29 is 0.0\n",
      "Training time: 0:00:01.235759\n",
      "\n",
      "\n",
      "Score for training for iteration 30 is 0.9975\n",
      "Score for testing for iteration 30 is 0.7058823529411765\n",
      "Training time: 0:00:01.220692\n",
      "\n",
      "\n",
      "Score for training for iteration 31 is 0.9975\n",
      "Score for testing for iteration 31 is 0.0\n",
      "Training time: 0:00:01.222507\n",
      "\n",
      "\n",
      "Score for training for iteration 32 is 0.9971159392424533\n",
      "Score for testing for iteration 32 is 0.8235294117647058\n",
      "Training time: 0:00:01.228880\n",
      "\n",
      "\n",
      "Score for training for iteration 33 is 0.9973087274125336\n",
      "Score for testing for iteration 33 is 0.0\n",
      "Training time: 0:00:01.232983\n",
      "\n",
      "\n",
      "Score for training for iteration 34 is 0.995576923076923\n",
      "Score for testing for iteration 34 is 0.9411764705882353\n",
      "Training time: 0:00:01.218830\n",
      "\n",
      "\n",
      "Score for training for iteration 35 is 0.996539127090944\n",
      "Score for testing for iteration 35 is 0.8125\n",
      "Training time: 0:00:01.252992\n",
      "\n",
      "\n",
      "Score for training for iteration 36 is 0.9959615384615385\n",
      "Score for testing for iteration 36 is 0.7647058823529411\n",
      "Training time: 0:00:01.205124\n",
      "\n",
      "\n",
      "Score for training for iteration 37 is 0.9946164199192463\n",
      "Score for testing for iteration 37 is 1.0\n",
      "Training time: 0:00:01.253769\n",
      "\n",
      "\n",
      "Score for training for iteration 38 is 0.9967313978081138\n",
      "Score for testing for iteration 38 is 0.875\n",
      "Training time: 0:00:01.240425\n",
      "\n",
      "\n",
      "Score for training for iteration 39 is 0.9973076923076923\n",
      "Score for testing for iteration 39 is 0.8823529411764706\n",
      "Training time: 0:00:01.214636\n",
      "\n",
      "\n",
      "Score for training for iteration 40 is 0.9953863898500577\n",
      "Score for testing for iteration 40 is 1.0\n",
      "Training time: 0:00:01.259087\n",
      "\n",
      "\n",
      "Score for training for iteration 41 is 0.9957700442222649\n",
      "Score for testing for iteration 41 is 0.6875\n",
      "Training time: 0:00:01.209699\n",
      "\n",
      "\n",
      "Score for training for iteration 42 is 0.9965384615384615\n",
      "Score for testing for iteration 42 is 0.0\n",
      "Training time: 0:00:01.228632\n",
      "\n",
      "\n",
      "Score for training for iteration 43 is 0.9975\n",
      "Score for testing for iteration 43 is 0.6470588235294118\n",
      "Training time: 0:00:01.240892\n",
      "\n",
      "\n",
      "Score for training for iteration 44 is 0.9953855027879254\n",
      "Score for testing for iteration 44 is 0.875\n",
      "Training time: 0:00:01.379551\n",
      "\n",
      "\n",
      "Score for training for iteration 45 is 0.9957692307692307\n",
      "Score for testing for iteration 45 is 0.9411764705882353\n",
      "Training time: 0:00:01.216706\n",
      "\n",
      "\n",
      "Score for training for iteration 46 is 0.9973082099596231\n",
      "Score for testing for iteration 46 is 1.0\n",
      "Training time: 0:00:01.216616\n",
      "\n",
      "\n",
      "Score for training for iteration 47 is 0.9953863898500577\n",
      "Score for testing for iteration 47 is 1.0\n",
      "Training time: 0:00:01.265217\n",
      "\n",
      "\n",
      "Score for training for iteration 48 is 0.9963468563737743\n",
      "Score for testing for iteration 48 is 0.9375\n",
      "Training time: 0:00:01.201164\n",
      "\n",
      "\n",
      "Score for training for iteration 49 is 0.9951923076923077\n",
      "Score for testing for iteration 49 is 0.5882352941176471\n",
      "Training time: 0:00:01.224213\n",
      "\n",
      "\n",
      "Score for training for iteration 50 is 0.9969236685252836\n",
      "Score for testing for iteration 50 is 0.4375\n",
      "Training time: 0:00:01.240586\n",
      "\n",
      "\n",
      "Score for training for iteration 51 is 0.9953846153846154\n",
      "Score for testing for iteration 51 is 0.6470588235294118\n",
      "Training time: 0:00:01.255504\n",
      "\n",
      "\n",
      "Score for training for iteration 52 is 0.9963461538461539\n",
      "Score for testing for iteration 52 is 0.47058823529411764\n",
      "Training time: 0:00:01.227465\n",
      "\n",
      "\n",
      "Score for training for iteration 53 is 0.9976923076923077\n",
      "Score for testing for iteration 53 is 0.23529411764705882\n",
      "Training time: 0:00:01.212303\n",
      "\n",
      "\n",
      "Score for training for iteration 54 is 0.9959615384615385\n",
      "Score for testing for iteration 54 is 0.8235294117647058\n",
      "Training time: 0:00:01.282956\n",
      "\n",
      "\n",
      "Score for training for iteration 55 is 0.9965384615384615\n",
      "Score for testing for iteration 55 is 0.7647058823529411\n",
      "Training time: 0:00:01.230687\n",
      "\n",
      "\n",
      "Score for training for iteration 56 is 0.9955777735050951\n",
      "Score for testing for iteration 56 is 0.8125\n",
      "Training time: 0:00:01.210495\n",
      "\n",
      "\n",
      "Score for training for iteration 57 is 0.995\n",
      "Score for testing for iteration 57 is 0.7647058823529411\n",
      "Training time: 0:00:01.205798\n",
      "\n",
      "\n",
      "Score for training for iteration 58 is 0.9963461538461539\n",
      "Score for testing for iteration 58 is 0.5294117647058824\n",
      "Training time: 0:00:01.208490\n",
      "\n",
      "\n",
      "Score for training for iteration 59 is 0.9971153846153846\n",
      "Score for testing for iteration 59 is 0.8235294117647058\n",
      "Training time: 0:00:01.223167\n",
      "\n",
      "\n"
     ]
    },
    {
     "name": "stdout",
     "output_type": "stream",
     "text": [
      "Score for training for iteration 60 is 0.9953855027879254\n",
      "Score for testing for iteration 60 is 0.7058823529411765\n",
      "Training time: 0:00:01.259693\n",
      "\n",
      "\n",
      "Score for training for iteration 61 is 0.9959623149394348\n",
      "Score for testing for iteration 61 is 0.5625\n",
      "Training time: 0:00:01.214444\n",
      "\n",
      "\n",
      "Score for training for iteration 62 is 0.9978850221111325\n",
      "Score for testing for iteration 62 is 0.875\n",
      "Training time: 0:00:01.193667\n",
      "\n",
      "\n",
      "Score for training for iteration 63 is 0.9967307692307692\n",
      "Score for testing for iteration 63 is 0.23529411764705882\n",
      "Training time: 0:00:01.367003\n",
      "\n",
      "\n",
      "Score for training for iteration 64 is 0.9940396077677369\n",
      "Score for testing for iteration 64 is 1.0\n",
      "Training time: 0:00:01.221178\n",
      "\n",
      "\n",
      "Score for training for iteration 65 is 0.9969230769230769\n",
      "Score for testing for iteration 65 is 0.29411764705882354\n",
      "Training time: 0:00:01.230247\n",
      "\n",
      "\n",
      "Score for training for iteration 66 is 0.9959623149394348\n",
      "Score for testing for iteration 66 is 0.5625\n",
      "Training time: 0:00:01.207363\n",
      "\n",
      "\n",
      "Score for training for iteration 67 is 0.9971159392424533\n",
      "Score for testing for iteration 67 is 0.0\n",
      "Training time: 0:00:01.208870\n",
      "\n",
      "\n",
      "Score for training for iteration 68 is 0.9961538461538462\n",
      "Score for testing for iteration 68 is 0.7647058823529411\n",
      "Training time: 0:00:01.233502\n",
      "\n",
      "\n",
      "Score for training for iteration 69 is 0.9969236685252836\n",
      "Score for testing for iteration 69 is 0.75\n",
      "Training time: 0:00:01.202033\n",
      "\n",
      "\n",
      "Score for training for iteration 70 is 0.9976927513939627\n",
      "Score for testing for iteration 70 is 0.75\n",
      "Training time: 0:00:01.212807\n",
      "\n",
      "\n",
      "Score for training for iteration 71 is 0.9963489623366641\n",
      "Score for testing for iteration 71 is 0.0\n",
      "Training time: 0:00:01.249107\n",
      "\n",
      "\n",
      "Score for training for iteration 72 is 0.9959615384615385\n",
      "Score for testing for iteration 72 is 0.6470588235294118\n",
      "Training time: 0:00:01.216939\n",
      "\n",
      "\n",
      "Final Score train: 0.9962518818644882\n",
      "Final Score test: 0.6506345688960515\n",
      "Cross validation time: 0:04:03.344068\n"
     ]
    }
   ],
   "source": [
    "Classification('../kickoff-detection-data/data.pickle.1.10',0.99,'forest',73,\"kickoff\")"
   ]
  },
  {
   "cell_type": "code",
   "execution_count": 22,
   "metadata": {},
   "outputs": [
    {
     "name": "stdout",
     "output_type": "stream",
     "text": [
      "Score for training for iteration 0 is 0.9940073458341387\n",
      "Score for testing for iteration 0 is 0.75\n",
      "Training time: 0:00:03.821164\n",
      "\n",
      "\n",
      "Score for training for iteration 1 is 0.9947795823665894\n",
      "Score for testing for iteration 1 is 0.5625\n",
      "Training time: 0:00:03.634338\n",
      "\n",
      "\n",
      "Score for training for iteration 2 is 0.9947795823665894\n",
      "Score for testing for iteration 2 is 0.75\n",
      "Training time: 0:00:03.925163\n",
      "\n",
      "\n",
      "Score for training for iteration 3 is 0.9953596287703016\n",
      "Score for testing for iteration 3 is 0.7058823529411765\n",
      "Training time: 0:00:03.621578\n",
      "\n",
      "\n",
      "Score for training for iteration 4 is 0.9945862335653519\n",
      "Score for testing for iteration 4 is 0.875\n",
      "Training time: 0:00:03.544042\n",
      "\n",
      "\n",
      "Score for training for iteration 5 is 0.995552977571539\n",
      "Score for testing for iteration 5 is 0.875\n",
      "Training time: 0:00:03.587861\n",
      "\n",
      "\n",
      "Score for training for iteration 6 is 0.9940061871616396\n",
      "Score for testing for iteration 6 is 0.875\n",
      "Training time: 0:00:03.612627\n",
      "\n",
      "\n",
      "Score for training for iteration 7 is 0.992846094354215\n",
      "Score for testing for iteration 7 is 0.7058823529411765\n",
      "Training time: 0:00:03.623854\n",
      "\n",
      "\n",
      "Score for training for iteration 8 is 0.9907192575406032\n",
      "Score for testing for iteration 8 is 0.5294117647058824\n",
      "Training time: 0:00:03.628017\n",
      "\n",
      "\n",
      "Score for training for iteration 9 is 0.9953605258070752\n",
      "Score for testing for iteration 9 is 0.75\n",
      "Training time: 0:00:03.568273\n",
      "\n",
      "\n",
      "Score for training for iteration 10 is 0.9926527455529776\n",
      "Score for testing for iteration 10 is 0.29411764705882354\n",
      "Training time: 0:00:03.596025\n",
      "\n",
      "\n",
      "Score for training for iteration 11 is 0.9959404600811907\n",
      "Score for testing for iteration 11 is 0.6875\n",
      "Training time: 0:00:03.512977\n",
      "\n",
      "\n",
      "Score for training for iteration 12 is 0.9953596287703016\n",
      "Score for testing for iteration 12 is 0.625\n",
      "Training time: 0:00:03.526864\n",
      "\n",
      "\n",
      "Score for training for iteration 13 is 0.99516721438237\n",
      "Score for testing for iteration 13 is 0.9411764705882353\n",
      "Training time: 0:00:03.608102\n",
      "\n",
      "\n",
      "Score for training for iteration 14 is 0.993811641848772\n",
      "Score for testing for iteration 14 is 0.8823529411764706\n",
      "Training time: 0:00:03.660728\n",
      "\n",
      "\n",
      "Score for training for iteration 15 is 0.9932327919566899\n",
      "Score for testing for iteration 15 is 0.4375\n",
      "Training time: 0:00:03.624612\n",
      "\n",
      "\n",
      "Score for training for iteration 16 is 0.9938140344094336\n",
      "Score for testing for iteration 16 is 0.8235294117647058\n",
      "Training time: 0:00:03.605961\n",
      "\n",
      "\n",
      "Score for training for iteration 17 is 0.9938140344094336\n",
      "Score for testing for iteration 17 is 0.8823529411764706\n",
      "Training time: 0:00:03.571758\n",
      "\n",
      "\n",
      "Score for training for iteration 18 is 0.9938128383604021\n",
      "Score for testing for iteration 18 is 0.8125\n",
      "Training time: 0:00:03.693316\n",
      "\n",
      "\n",
      "Score for training for iteration 19 is 0.9959396751740139\n",
      "Score for testing for iteration 19 is 0.8235294117647058\n",
      "Training time: 0:00:03.548727\n",
      "\n",
      "\n",
      "Score for training for iteration 20 is 0.9959404600811907\n",
      "Score for testing for iteration 20 is 0.625\n",
      "Training time: 0:00:03.587126\n",
      "\n",
      "\n",
      "Score for training for iteration 21 is 0.9982601971776532\n",
      "Score for testing for iteration 21 is 0.9411764705882353\n",
      "Training time: 0:00:03.553467\n",
      "\n",
      "\n",
      "Score for training for iteration 22 is 0.9903325599381284\n",
      "Score for testing for iteration 22 is 0.5625\n",
      "Training time: 0:00:03.649026\n",
      "\n",
      "\n",
      "Score for training for iteration 23 is 0.9930394431554525\n",
      "Score for testing for iteration 23 is 0.5\n",
      "Training time: 0:00:03.858629\n",
      "\n",
      "\n",
      "Score for training for iteration 24 is 0.9945862335653519\n",
      "Score for testing for iteration 24 is 0.1875\n",
      "Training time: 0:00:03.586474\n",
      "\n",
      "\n",
      "Score for training for iteration 25 is 0.9970997679814385\n",
      "Score for testing for iteration 25 is 0.0625\n",
      "Training time: 0:00:03.549193\n",
      "\n",
      "\n",
      "Score for training for iteration 26 is 0.9963277928102049\n",
      "Score for testing for iteration 26 is 0.7058823529411765\n",
      "Training time: 0:00:03.633964\n",
      "\n",
      "\n",
      "Score for training for iteration 27 is 0.9930394431554525\n",
      "Score for testing for iteration 27 is 0.9375\n",
      "Training time: 0:00:03.524823\n",
      "\n",
      "\n",
      "Score for training for iteration 28 is 0.9961330239752514\n",
      "Score for testing for iteration 28 is 0.9411764705882353\n",
      "Training time: 0:00:03.547470\n",
      "\n",
      "\n",
      "Score for training for iteration 29 is 0.9940073458341387\n",
      "Score for testing for iteration 29 is 0.0\n",
      "Training time: 0:00:03.556504\n",
      "\n",
      "\n",
      "Score for training for iteration 30 is 0.994200657258844\n",
      "Score for testing for iteration 30 is 0.7058823529411765\n",
      "Training time: 0:00:03.588994\n",
      "\n",
      "\n",
      "Score for training for iteration 31 is 0.9947795823665894\n",
      "Score for testing for iteration 31 is 0.0\n",
      "Training time: 0:00:03.531352\n",
      "\n",
      "\n",
      "Score for training for iteration 32 is 0.9934274115600232\n",
      "Score for testing for iteration 32 is 0.7647058823529411\n",
      "Training time: 0:00:03.605857\n",
      "\n",
      "\n",
      "Score for training for iteration 33 is 0.9965203943553064\n",
      "Score for testing for iteration 33 is 0.0625\n",
      "Training time: 0:00:03.591823\n",
      "\n",
      "\n",
      "Score for training for iteration 34 is 0.9938140344094336\n",
      "Score for testing for iteration 34 is 0.8823529411764706\n",
      "Training time: 0:00:03.602772\n",
      "\n",
      "\n",
      "Score for training for iteration 35 is 0.9938140344094336\n",
      "Score for testing for iteration 35 is 0.6875\n",
      "Training time: 0:00:03.577495\n",
      "\n",
      "\n",
      "Score for training for iteration 36 is 0.9951653451943531\n",
      "Score for testing for iteration 36 is 0.29411764705882354\n",
      "Training time: 0:00:03.581937\n",
      "\n",
      "\n",
      "Score for training for iteration 37 is 0.995552977571539\n",
      "Score for testing for iteration 37 is 1.0\n",
      "Training time: 0:00:03.506517\n",
      "\n",
      "\n",
      "Score for training for iteration 38 is 0.992846094354215\n",
      "Score for testing for iteration 38 is 1.0\n",
      "Training time: 0:00:03.515456\n",
      "\n",
      "\n",
      "Score for training for iteration 39 is 0.9934248694643203\n",
      "Score for testing for iteration 39 is 0.9411764705882353\n",
      "Training time: 0:00:03.569202\n",
      "\n",
      "\n",
      "Score for training for iteration 40 is 0.9930407887106127\n",
      "Score for testing for iteration 40 is 0.9375\n",
      "Training time: 0:00:03.606272\n",
      "\n",
      "\n",
      "Score for training for iteration 41 is 0.9932327919566899\n",
      "Score for testing for iteration 41 is 0.3125\n",
      "Training time: 0:00:03.534967\n",
      "\n",
      "\n",
      "Score for training for iteration 42 is 0.9932327919566899\n",
      "Score for testing for iteration 42 is 0.0\n",
      "Training time: 0:00:03.791914\n",
      "\n",
      "\n",
      "Score for training for iteration 43 is 0.9934261407579273\n",
      "Score for testing for iteration 43 is 0.7058823529411765\n",
      "Training time: 0:00:03.603078\n",
      "\n",
      "\n",
      "Score for training for iteration 44 is 0.994200657258844\n",
      "Score for testing for iteration 44 is 0.9375\n",
      "Training time: 0:00:03.612573\n",
      "\n",
      "\n",
      "Score for training for iteration 45 is 0.9953596287703016\n",
      "Score for testing for iteration 45 is 0.47058823529411764\n",
      "Training time: 0:00:03.562218\n",
      "\n",
      "\n",
      "Score for training for iteration 46 is 0.9930394431554525\n",
      "Score for testing for iteration 46 is 1.0\n",
      "Training time: 0:00:03.614248\n",
      "\n",
      "\n",
      "Score for training for iteration 47 is 0.9957471486564856\n",
      "Score for testing for iteration 47 is 0.8125\n",
      "Training time: 0:00:03.584592\n",
      "\n",
      "\n",
      "Score for training for iteration 48 is 0.9949729311678268\n",
      "Score for testing for iteration 48 is 1.0\n",
      "Training time: 0:00:03.532535\n",
      "\n",
      "\n",
      "Score for training for iteration 49 is 0.9918793503480279\n",
      "Score for testing for iteration 49 is 0.17647058823529413\n",
      "Training time: 0:00:03.608322\n",
      "\n",
      "\n",
      "Score for training for iteration 50 is 0.9940061871616396\n",
      "Score for testing for iteration 50 is 0.0\n",
      "Training time: 0:00:03.574519\n",
      "\n",
      "\n",
      "Score for training for iteration 51 is 0.9957463263727765\n",
      "Score for testing for iteration 51 is 0.4117647058823529\n",
      "Training time: 0:00:03.522794\n",
      "\n",
      "\n",
      "Score for training for iteration 52 is 0.9951653451943531\n",
      "Score for testing for iteration 52 is 0.7058823529411765\n",
      "Training time: 0:00:03.541343\n",
      "\n",
      "\n",
      "Score for training for iteration 53 is 0.9945851866176755\n",
      "Score for testing for iteration 53 is 0.29411764705882354\n",
      "Training time: 0:00:03.588286\n",
      "\n",
      "\n",
      "Score for training for iteration 54 is 0.9963256623477084\n",
      "Score for testing for iteration 54 is 0.7058823529411765\n",
      "Training time: 0:00:03.568427\n",
      "\n",
      "\n",
      "Score for training for iteration 55 is 0.9972925933088378\n",
      "Score for testing for iteration 55 is 0.7058823529411765\n",
      "Training time: 0:00:03.533474\n",
      "\n",
      "\n",
      "Score for training for iteration 56 is 0.9936194895591647\n",
      "Score for testing for iteration 56 is 0.75\n",
      "Training time: 0:00:03.625339\n",
      "\n",
      "\n",
      "Score for training for iteration 57 is 0.9941984142332237\n",
      "Score for testing for iteration 57 is 0.6470588235294118\n",
      "Training time: 0:00:03.625420\n",
      "\n",
      "\n",
      "Score for training for iteration 58 is 0.995358731386579\n",
      "Score for testing for iteration 58 is 0.47058823529411764\n",
      "Training time: 0:00:03.532338\n",
      "\n",
      "\n"
     ]
    },
    {
     "name": "stdout",
     "output_type": "stream",
     "text": [
      "Score for training for iteration 59 is 0.9934248694643203\n",
      "Score for testing for iteration 59 is 0.7058823529411765\n",
      "Training time: 0:00:03.606391\n",
      "\n",
      "\n",
      "Score for training for iteration 60 is 0.9943928847641145\n",
      "Score for testing for iteration 60 is 0.6470588235294118\n",
      "Training time: 0:00:03.627435\n",
      "\n",
      "\n",
      "Score for training for iteration 61 is 0.99516721438237\n",
      "Score for testing for iteration 61 is 0.75\n",
      "Training time: 0:00:03.861743\n",
      "\n",
      "\n",
      "Score for training for iteration 62 is 0.9967130703789636\n",
      "Score for testing for iteration 62 is 0.875\n",
      "Training time: 0:00:03.622725\n",
      "\n",
      "\n",
      "Score for training for iteration 63 is 0.993811641848772\n",
      "Score for testing for iteration 63 is 0.5294117647058824\n",
      "Training time: 0:00:03.626278\n",
      "\n",
      "\n",
      "Score for training for iteration 64 is 0.9932327919566899\n",
      "Score for testing for iteration 64 is 0.8235294117647058\n",
      "Training time: 0:00:03.605791\n",
      "\n",
      "\n",
      "Score for training for iteration 65 is 0.9947785728099013\n",
      "Score for testing for iteration 65 is 1.0\n",
      "Training time: 0:00:03.647716\n",
      "\n",
      "\n",
      "Score for training for iteration 66 is 0.9920726991492653\n",
      "Score for testing for iteration 66 is 0.6875\n",
      "Training time: 0:00:03.640121\n",
      "\n",
      "\n",
      "Score for training for iteration 67 is 0.9930394431554525\n",
      "Score for testing for iteration 67 is 0.0\n",
      "Training time: 0:00:03.606848\n",
      "\n",
      "\n",
      "Score for training for iteration 68 is 0.9940061871616396\n",
      "Score for testing for iteration 68 is 0.8235294117647058\n",
      "Training time: 0:00:03.617519\n",
      "\n",
      "\n",
      "Score for training for iteration 69 is 0.9926541658612024\n",
      "Score for testing for iteration 69 is 0.8125\n",
      "Training time: 0:00:03.559934\n",
      "\n",
      "\n",
      "Score for training for iteration 70 is 0.9920742315870869\n",
      "Score for testing for iteration 70 is 0.75\n",
      "Training time: 0:00:03.618291\n",
      "\n",
      "\n",
      "Score for training for iteration 71 is 0.9947826086956522\n",
      "Score for testing for iteration 71 is 0.0625\n",
      "Training time: 0:00:03.594500\n",
      "\n",
      "\n",
      "Score for training for iteration 72 is 0.9959388899632566\n",
      "Score for testing for iteration 72 is 0.6470588235294118\n",
      "Training time: 0:00:03.639067\n",
      "\n",
      "\n",
      "Final Score train: 0.994361274369883\n",
      "Final Score test: 0.6376410153102336\n",
      "Cross validation time: 0:11:51.812647\n"
     ]
    }
   ],
   "source": [
    "Classification('../kickoff-detection-data/data.pickle.1.10.mov',0.99,'forest',73,\"kickoff\")"
   ]
  },
  {
   "cell_type": "code",
   "execution_count": 272,
   "metadata": {},
   "outputs": [
    {
     "name": "stdout",
     "output_type": "stream",
     "text": [
      "Score for training for iteration 0 is 0.994200657258844\n",
      "Score for testing for iteration 0 is 0.625\n",
      "Training time: 0:00:02.563917\n",
      "\n",
      "\n",
      "Score for training for iteration 1 is 0.9963263727764888\n",
      "Score for testing for iteration 1 is 0.5625\n",
      "Training time: 0:00:02.374928\n",
      "\n",
      "\n",
      "Score for training for iteration 2 is 0.9936194895591647\n",
      "Score for testing for iteration 2 is 0.5625\n",
      "Training time: 0:00:02.690666\n",
      "\n",
      "\n",
      "Score for training for iteration 3 is 0.9965197215777262\n",
      "Score for testing for iteration 3 is 0.6470588235294118\n",
      "Training time: 0:00:02.378758\n",
      "\n",
      "\n",
      "Score for training for iteration 4 is 0.9957463263727765\n",
      "Score for testing for iteration 4 is 0.9375\n",
      "Training time: 0:00:02.413263\n",
      "\n",
      "\n",
      "Score for training for iteration 5 is 0.995552977571539\n",
      "Score for testing for iteration 5 is 1.0\n",
      "Training time: 0:00:02.382416\n",
      "\n",
      "\n",
      "Score for training for iteration 6 is 0.9947795823665894\n",
      "Score for testing for iteration 6 is 0.9375\n",
      "Training time: 0:00:02.425400\n",
      "\n",
      "\n",
      "Score for training for iteration 7 is 0.9936194895591647\n",
      "Score for testing for iteration 7 is 0.8823529411764706\n",
      "Training time: 0:00:02.383291\n",
      "\n",
      "\n",
      "Score for training for iteration 8 is 0.9953596287703016\n",
      "Score for testing for iteration 8 is 0.47058823529411764\n",
      "Training time: 0:00:02.430566\n",
      "\n",
      "\n",
      "Score for training for iteration 9 is 0.99516721438237\n",
      "Score for testing for iteration 9 is 0.4375\n",
      "Training time: 0:00:02.360421\n",
      "\n",
      "\n",
      "Score for training for iteration 10 is 0.9940061871616396\n",
      "Score for testing for iteration 10 is 0.29411764705882354\n",
      "Training time: 0:00:02.413343\n",
      "\n",
      "\n",
      "Score for training for iteration 11 is 0.9967137057800116\n",
      "Score for testing for iteration 11 is 0.8125\n",
      "Training time: 0:00:02.377119\n",
      "\n",
      "\n",
      "Score for training for iteration 12 is 0.994199535962877\n",
      "Score for testing for iteration 12 is 0.5625\n",
      "Training time: 0:00:02.413631\n",
      "\n",
      "\n",
      "Score for training for iteration 13 is 0.9955538372317804\n",
      "Score for testing for iteration 13 is 0.8235294117647058\n",
      "Training time: 0:00:02.479126\n",
      "\n",
      "\n",
      "Score for training for iteration 14 is 0.9955521175788049\n",
      "Score for testing for iteration 14 is 0.9411764705882353\n",
      "Training time: 0:00:02.407535\n",
      "\n",
      "\n",
      "Score for training for iteration 15 is 0.995552977571539\n",
      "Score for testing for iteration 15 is 0.625\n",
      "Training time: 0:00:02.388855\n",
      "\n",
      "\n",
      "Score for training for iteration 16 is 0.994200657258844\n",
      "Score for testing for iteration 16 is 0.8235294117647058\n",
      "Training time: 0:00:02.410024\n",
      "\n",
      "\n",
      "Score for training for iteration 17 is 0.9953605258070752\n",
      "Score for testing for iteration 17 is 0.8823529411764706\n",
      "Training time: 0:00:02.435356\n",
      "\n",
      "\n",
      "Score for training for iteration 18 is 0.995552977571539\n",
      "Score for testing for iteration 18 is 0.875\n",
      "Training time: 0:00:02.409454\n",
      "\n",
      "\n",
      "Score for training for iteration 19 is 0.994199535962877\n",
      "Score for testing for iteration 19 is 0.8235294117647058\n",
      "Training time: 0:00:02.388005\n",
      "\n",
      "\n",
      "Score for training for iteration 20 is 0.99516721438237\n",
      "Score for testing for iteration 20 is 0.625\n",
      "Training time: 0:00:02.441001\n",
      "\n",
      "\n",
      "Score for training for iteration 21 is 0.9947805915329596\n",
      "Score for testing for iteration 21 is 0.8235294117647058\n",
      "Training time: 0:00:02.634408\n",
      "\n",
      "\n",
      "Score for training for iteration 22 is 0.9951662799690641\n",
      "Score for testing for iteration 22 is 0.875\n",
      "Training time: 0:00:02.385418\n",
      "\n",
      "\n",
      "Score for training for iteration 23 is 0.9945862335653519\n",
      "Score for testing for iteration 23 is 0.4375\n",
      "Training time: 0:00:02.400668\n",
      "\n",
      "\n",
      "Score for training for iteration 24 is 0.9957463263727765\n",
      "Score for testing for iteration 24 is 0.0625\n",
      "Training time: 0:00:02.407469\n",
      "\n",
      "\n",
      "Score for training for iteration 25 is 0.9965197215777262\n",
      "Score for testing for iteration 25 is 0.0\n",
      "Training time: 0:00:02.455174\n",
      "\n",
      "\n",
      "Score for training for iteration 26 is 0.9955546965597217\n",
      "Score for testing for iteration 26 is 0.7647058823529411\n",
      "Training time: 0:00:02.406830\n",
      "\n",
      "\n",
      "Score for training for iteration 27 is 0.9961330239752514\n",
      "Score for testing for iteration 27 is 0.875\n",
      "Training time: 0:00:02.375687\n",
      "\n",
      "\n",
      "Score for training for iteration 28 is 0.9938128383604021\n",
      "Score for testing for iteration 28 is 0.7647058823529411\n",
      "Training time: 0:00:02.388125\n",
      "\n",
      "\n",
      "Score for training for iteration 29 is 0.99516721438237\n",
      "Score for testing for iteration 29 is 0.0\n",
      "Training time: 0:00:02.391058\n",
      "\n",
      "\n",
      "Score for training for iteration 30 is 0.9940073458341387\n",
      "Score for testing for iteration 30 is 0.8235294117647058\n",
      "Training time: 0:00:02.392746\n",
      "\n",
      "\n",
      "Score for training for iteration 31 is 0.9949729311678268\n",
      "Score for testing for iteration 31 is 0.0\n",
      "Training time: 0:00:02.412987\n",
      "\n",
      "\n",
      "Score for training for iteration 32 is 0.99516721438237\n",
      "Score for testing for iteration 32 is 1.0\n",
      "Training time: 0:00:02.370985\n",
      "\n",
      "\n",
      "Score for training for iteration 33 is 0.9945872801082544\n",
      "Score for testing for iteration 33 is 0.4375\n",
      "Training time: 0:00:02.369475\n",
      "\n",
      "\n",
      "Score for training for iteration 34 is 0.9934274115600232\n",
      "Score for testing for iteration 34 is 0.8823529411764706\n",
      "Training time: 0:00:02.376784\n",
      "\n",
      "\n",
      "Score for training for iteration 35 is 0.9953605258070752\n",
      "Score for testing for iteration 35 is 0.875\n",
      "Training time: 0:00:02.366133\n",
      "\n",
      "\n",
      "Score for training for iteration 36 is 0.995358731386579\n",
      "Score for testing for iteration 36 is 0.35294117647058826\n",
      "Training time: 0:00:02.350232\n",
      "\n",
      "\n",
      "Score for training for iteration 37 is 0.9947795823665894\n",
      "Score for testing for iteration 37 is 0.9375\n",
      "Training time: 0:00:02.395415\n",
      "\n",
      "\n",
      "Score for training for iteration 38 is 0.9963263727764888\n",
      "Score for testing for iteration 38 is 0.9375\n",
      "Training time: 0:00:02.383449\n",
      "\n",
      "\n",
      "Score for training for iteration 39 is 0.9949719590021272\n",
      "Score for testing for iteration 39 is 0.7058823529411765\n",
      "Training time: 0:00:02.360530\n",
      "\n",
      "\n",
      "Score for training for iteration 40 is 0.9934274115600232\n",
      "Score for testing for iteration 40 is 1.0\n",
      "Training time: 0:00:02.583490\n",
      "\n",
      "\n",
      "Score for training for iteration 41 is 0.9967130703789636\n",
      "Score for testing for iteration 41 is 0.875\n",
      "Training time: 0:00:02.373815\n",
      "\n",
      "\n",
      "Score for training for iteration 42 is 0.9961330239752514\n",
      "Score for testing for iteration 42 is 0.0\n",
      "Training time: 0:00:02.336819\n",
      "\n",
      "\n",
      "Score for training for iteration 43 is 0.9953596287703016\n",
      "Score for testing for iteration 43 is 0.8823529411764706\n",
      "Training time: 0:00:02.440454\n",
      "\n",
      "\n",
      "Score for training for iteration 44 is 0.99516721438237\n",
      "Score for testing for iteration 44 is 0.75\n",
      "Training time: 0:00:02.424301\n",
      "\n",
      "\n",
      "Score for training for iteration 45 is 0.9963263727764888\n",
      "Score for testing for iteration 45 is 0.8235294117647058\n",
      "Training time: 0:00:02.439664\n",
      "\n",
      "\n",
      "Score for training for iteration 46 is 0.9961330239752514\n",
      "Score for testing for iteration 46 is 0.875\n",
      "Training time: 0:00:02.407338\n",
      "\n",
      "\n",
      "Score for training for iteration 47 is 0.993234100135318\n",
      "Score for testing for iteration 47 is 1.0\n",
      "Training time: 0:00:02.428949\n",
      "\n",
      "\n",
      "Score for training for iteration 48 is 0.9957463263727765\n",
      "Score for testing for iteration 48 is 0.9375\n",
      "Training time: 0:00:02.423845\n",
      "\n",
      "\n",
      "Score for training for iteration 49 is 0.9959396751740139\n",
      "Score for testing for iteration 49 is 0.47058823529411764\n",
      "Training time: 0:00:02.427713\n",
      "\n",
      "\n",
      "Score for training for iteration 50 is 0.9951662799690641\n",
      "Score for testing for iteration 50 is 0.3125\n",
      "Training time: 0:00:02.430465\n",
      "\n",
      "\n",
      "Score for training for iteration 51 is 0.9947795823665894\n",
      "Score for testing for iteration 51 is 0.7058823529411765\n",
      "Training time: 0:00:02.439451\n",
      "\n",
      "\n",
      "Score for training for iteration 52 is 0.9951653451943531\n",
      "Score for testing for iteration 52 is 0.6470588235294118\n",
      "Training time: 0:00:02.433515\n",
      "\n",
      "\n",
      "Score for training for iteration 53 is 0.9947785728099013\n",
      "Score for testing for iteration 53 is 0.4117647058823529\n",
      "Training time: 0:00:02.392409\n",
      "\n",
      "\n",
      "Score for training for iteration 54 is 0.9961322761554825\n",
      "Score for testing for iteration 54 is 0.8235294117647058\n",
      "Training time: 0:00:02.391145\n",
      "\n",
      "\n",
      "Score for training for iteration 55 is 0.9949719590021272\n",
      "Score for testing for iteration 55 is 0.7647058823529411\n",
      "Training time: 0:00:02.395404\n",
      "\n",
      "\n",
      "Score for training for iteration 56 is 0.9938128383604021\n",
      "Score for testing for iteration 56 is 0.9375\n",
      "Training time: 0:00:02.356943\n",
      "\n",
      "\n",
      "Score for training for iteration 57 is 0.9972925933088378\n",
      "Score for testing for iteration 57 is 0.5294117647058824\n",
      "Training time: 0:00:02.396350\n",
      "\n",
      "\n",
      "Score for training for iteration 58 is 0.9940050280409979\n",
      "Score for testing for iteration 58 is 0.7647058823529411\n",
      "Training time: 0:00:02.398157\n",
      "\n",
      "\n"
     ]
    },
    {
     "name": "stdout",
     "output_type": "stream",
     "text": [
      "Score for training for iteration 59 is 0.9961322761554825\n",
      "Score for testing for iteration 59 is 0.9411764705882353\n",
      "Training time: 0:00:02.618617\n",
      "\n",
      "\n",
      "Score for training for iteration 60 is 0.995552977571539\n",
      "Score for testing for iteration 60 is 0.6470588235294118\n",
      "Training time: 0:00:02.392947\n",
      "\n",
      "\n",
      "Score for training for iteration 61 is 0.994200657258844\n",
      "Score for testing for iteration 61 is 0.625\n",
      "Training time: 0:00:02.386601\n",
      "\n",
      "\n",
      "Score for training for iteration 62 is 0.9951662799690641\n",
      "Score for testing for iteration 62 is 0.875\n",
      "Training time: 0:00:02.406480\n",
      "\n",
      "\n",
      "Score for training for iteration 63 is 0.9970992071166118\n",
      "Score for testing for iteration 63 is 0.5294117647058824\n",
      "Training time: 0:00:02.374516\n",
      "\n",
      "\n",
      "Score for training for iteration 64 is 0.9959396751740139\n",
      "Score for testing for iteration 64 is 0.7058823529411765\n",
      "Training time: 0:00:02.416369\n",
      "\n",
      "\n",
      "Score for training for iteration 65 is 0.9965190485399342\n",
      "Score for testing for iteration 65 is 1.0\n",
      "Training time: 0:00:02.388237\n",
      "\n",
      "\n",
      "Score for training for iteration 66 is 0.9951662799690641\n",
      "Score for testing for iteration 66 is 0.8125\n",
      "Training time: 0:00:02.388878\n",
      "\n",
      "\n",
      "Score for training for iteration 67 is 0.9961330239752514\n",
      "Score for testing for iteration 67 is 0.0\n",
      "Training time: 0:00:02.391927\n",
      "\n",
      "\n",
      "Score for training for iteration 68 is 0.9943928847641145\n",
      "Score for testing for iteration 68 is 0.8823529411764706\n",
      "Training time: 0:00:02.383630\n",
      "\n",
      "\n",
      "Score for training for iteration 69 is 0.9949739029576647\n",
      "Score for testing for iteration 69 is 0.75\n",
      "Training time: 0:00:02.379748\n",
      "\n",
      "\n",
      "Score for training for iteration 70 is 0.9918809201623816\n",
      "Score for testing for iteration 70 is 0.75\n",
      "Training time: 0:00:02.392810\n",
      "\n",
      "\n",
      "Score for training for iteration 71 is 0.9959420289855072\n",
      "Score for testing for iteration 71 is 0.0625\n",
      "Training time: 0:00:02.403852\n",
      "\n",
      "\n",
      "Score for training for iteration 72 is 0.9957455037710308\n",
      "Score for testing for iteration 72 is 0.7647058823529411\n",
      "Training time: 0:00:02.362801\n",
      "\n",
      "\n",
      "Final Score train: 0.9951850137291842\n",
      "Final Score test: 0.6789383561643837\n",
      "Cross validation time: 0:07:55.283224\n"
     ]
    }
   ],
   "source": [
    "Classification('../kickoff-detection-data/data.pickle.1.10.acc',0.99,'forest',73,\"kickoff\")"
   ]
  }
 ],
 "metadata": {
  "kernelspec": {
   "display_name": "Python 3",
   "language": "python",
   "name": "python3"
  },
  "language_info": {
   "codemirror_mode": {
    "name": "ipython",
    "version": 3
   },
   "file_extension": ".py",
   "mimetype": "text/x-python",
   "name": "python",
   "nbconvert_exporter": "python",
   "pygments_lexer": "ipython3",
   "version": "3.5.2"
  }
 },
 "nbformat": 4,
 "nbformat_minor": 2
}
