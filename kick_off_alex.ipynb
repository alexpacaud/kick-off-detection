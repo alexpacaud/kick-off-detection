{
 "cells": [
  {
   "cell_type": "code",
   "execution_count": 1,
   "metadata": {},
   "outputs": [],
   "source": [
    "import time\n",
    "import pickle\n",
    "import numpy as np\n",
    "import pprint\n",
    "import matplotlib.pyplot as plt\n",
    "from tqdm import tqdm \n",
    "import json\n",
    "from dateutil.parser import parse"
   ]
  },
  {
   "cell_type": "code",
   "execution_count": 2,
   "metadata": {},
   "outputs": [],
   "source": [
    "from rdbtools import RdbParser, RdbCallback\n",
    "from rdbtools.encodehelpers import bytes_to_unicode\n",
    "\n",
    "class PublishCallback(RdbCallback):\n",
    "\n",
    "    def __init__(self, is_unicode=False, start_ts=float('-inf'), stop_ts=float('+inf')):\n",
    "        super(PublishCallback, self).__init__(string_escape=None)\n",
    "        self.ranges = {}\n",
    "        self.start = start_ts\n",
    "        self.stop = stop_ts\n",
    "        self.is_unicode = is_unicode\n",
    "\n",
    "    def encode_key(self, key):\n",
    "        return bytes_to_unicode(key, self._escape, skip_printable=True)\n",
    "\n",
    "    def encode_value(self, val):\n",
    "        if self.is_unicode:\n",
    "            return bytes_to_unicode(val, self._escape)\n",
    "        return val\n",
    "\n",
    "    def start_sorted_set(self, key, length, expiry, info):\n",
    "        self.ranges[self.encode_key(key)] = []\n",
    "\n",
    "    def zadd(self, key, score, member):\n",
    "        if self.start <= score <= self.stop:\n",
    "            self.ranges[self.encode_key(key)].append((self.encode_value(member), round(score)))\n",
    "\n",
    "    def end_sorted_set(self, key):\n",
    "        encoded_key = self.encode_key(key)\n",
    "        self.ranges[encoded_key] = list(reversed(self.ranges[encoded_key]))\n",
    "\n",
    "\n",
    "def parse_dump_file(dump_file, start_ts=float(\"-inf\"), stop_ts=float(\"+inf\")):\n",
    "    \"\"\"Parse a redis dump file (rdb) and return the data within.\n",
    "\n",
    "    Only supports SortedSet.\n",
    "\n",
    "    Args:\n",
    "        dump_file (str): Rdb path\n",
    "        start_ts (float): timestamp of the first value to publish\n",
    "        stop_ts (float): timestamp of the last value to publish\n",
    "\n",
    "    Returns:\n",
    "        ranges (dict): {\n",
    "                'keyA': [(FrameDataDump1A, Score1A), ..., (FrameDataDumpNA, ScoreNA)],\n",
    "                'keyB': [(FrameDataDump1B, Score1B), ..., (FrameDataDumpNB, ScoreNB)],\n",
    "                ...\n",
    "            }\n",
    "    \"\"\"\n",
    "    t0 = time.time()\n",
    "\n",
    "    callback = PublishCallback(start_ts=start_ts, stop_ts=stop_ts)\n",
    "    rdb_parser = RdbParser(callback)\n",
    "    rdb_parser.parse(dump_file)\n",
    "    print(\"Parsed {} in {:.2f} s.\".format(dump_file, time.time() - t0))\n",
    "    print(\"Contains keys:\", callback.ranges.keys())\n",
    "    for k in callback.ranges.keys():\n",
    "        print(\n",
    "            \"[{}] start_ts: {} | stop_ts: {}\".format(\n",
    "                k, callback.ranges[k][0][1], callback.ranges[k][-1][1]\n",
    "            )\n",
    "        )\n",
    "    return callback.ranges"
   ]
  },
  {
   "cell_type": "code",
   "execution_count": 3,
   "metadata": {},
   "outputs": [],
   "source": [
    "from ipywidgets import interact\n",
    "import ipywidgets as widgets"
   ]
  },
  {
   "cell_type": "code",
   "execution_count": 4,
   "metadata": {},
   "outputs": [
    {
     "name": "stdout",
     "output_type": "stream",
     "text": [
      "Parsed ../kickoff-detection-data/cd6d495b-8fe4-4586-8861-ba579cf3a6e9.1.kickoff.rdb in 0.70 s.\n",
      "Contains keys: dict_keys(['left', 'right'])\n",
      "[left] start_ts: 1523797351725 | stop_ts: 1523797586045\n",
      "[right] start_ts: 1523797351317 | stop_ts: 1523797585837\n"
     ]
    }
   ],
   "source": [
    "tracks = parse_dump_file('../kickoff-detection-data/cd6d495b-8fe4-4586-8861-ba579cf3a6e9.1.kickoff.rdb')\n",
    "config = json.load(open('../kickoff-detection-data/cd6d495b-8fe4-4586-8861-ba579cf3a6e9.json', 'r'))"
   ]
  },
  {
   "cell_type": "code",
   "execution_count": 5,
   "metadata": {},
   "outputs": [
    {
     "name": "stdout",
     "output_type": "stream",
     "text": [
      "dict_keys(['packed_rects', 'last', 'mapping', 'valid_frame', 'ts', 'embeddings', 'bboxes', 'player_detections', 'top_view_ball_positions', 'phase_state', 'top_view_player_positions', 'stream_ts', 'features', 'ball_detections'])\n"
     ]
    }
   ],
   "source": [
    "fd, ts = tracks['left'][0]\n",
    "\n",
    "\n",
    "fd = pickle.loads(fd)\n",
    "pprint.pprint(fd.__dict__.keys())"
   ]
  },
  {
   "cell_type": "code",
   "execution_count": 6,
   "metadata": {},
   "outputs": [],
   "source": [
    "kickoff_1 = config['phase_events'][0]['ts']\n",
    "kickoff_time = int(parse(kickoff_1).timestamp()*1000)"
   ]
  },
  {
   "cell_type": "code",
   "execution_count": 7,
   "metadata": {},
   "outputs": [],
   "source": [
    "pitch_size=config['pitch_size']"
   ]
  },
  {
   "cell_type": "code",
   "execution_count": 8,
   "metadata": {
    "scrolled": false
   },
   "outputs": [
    {
     "name": "stderr",
     "output_type": "stream",
     "text": [
      "5860it [00:02, 2745.21it/s]\n"
     ]
    }
   ],
   "source": [
    "detections = {'ball':{'left':{}, 'right':{}}, 'players':{'left':{}, 'right':{}}}\n",
    "\n",
    "timestamps = set()\n",
    "\n",
    "def ball_ok(ball_pos, ball_det):\n",
    "    if ball_pos[0] < 0 or ball_pos[1] < 0:\n",
    "        return False\n",
    "    if ball_det.confidence < 0.7:\n",
    "        return False\n",
    "    return True\n",
    "\n",
    "for (fd_left, ts_left), (fd_right, ts_right) in tqdm(zip(tracks['left'], tracks['right'])):\n",
    "    fd_left = pickle.loads(fd_left)\n",
    "    fd_right = pickle.loads(fd_right)\n",
    "    if np.abs(ts_left - ts_right) < 100:\n",
    "        ts_left = ts_right\n",
    "    timestamps.update({ts_left, ts_right})\n",
    "\n",
    "    detections['players']['left'][ts_left] = fd_left.top_view_player_positions\n",
    "    detections['players']['right'][ts_right] = fd_right.top_view_player_positions\n",
    "    detections['ball']['left'][ts_left] = np.array([bp for bp, bd in zip(fd_left.top_view_ball_positions, fd_left.ball_detections) if ball_ok(bp, bd)])\n",
    "    detections['ball']['right'][ts_right] = np.array([bp for bp, bd in zip(fd_right.top_view_ball_positions, fd_right.ball_detections) if ball_ok(bp, bd)])\n",
    "    "
   ]
  },
  {
   "cell_type": "code",
   "execution_count": 9,
   "metadata": {
    "scrolled": false
   },
   "outputs": [
    {
     "name": "stdout",
     "output_type": "stream",
     "text": [
      "1523797286995 1523797351317\n"
     ]
    },
    {
     "data": {
      "application/javascript": [
       "/* Put everything inside the global mpl namespace */\n",
       "window.mpl = {};\n",
       "\n",
       "\n",
       "mpl.get_websocket_type = function() {\n",
       "    if (typeof(WebSocket) !== 'undefined') {\n",
       "        return WebSocket;\n",
       "    } else if (typeof(MozWebSocket) !== 'undefined') {\n",
       "        return MozWebSocket;\n",
       "    } else {\n",
       "        alert('Your browser does not have WebSocket support.' +\n",
       "              'Please try Chrome, Safari or Firefox ≥ 6. ' +\n",
       "              'Firefox 4 and 5 are also supported but you ' +\n",
       "              'have to enable WebSockets in about:config.');\n",
       "    };\n",
       "}\n",
       "\n",
       "mpl.figure = function(figure_id, websocket, ondownload, parent_element) {\n",
       "    this.id = figure_id;\n",
       "\n",
       "    this.ws = websocket;\n",
       "\n",
       "    this.supports_binary = (this.ws.binaryType != undefined);\n",
       "\n",
       "    if (!this.supports_binary) {\n",
       "        var warnings = document.getElementById(\"mpl-warnings\");\n",
       "        if (warnings) {\n",
       "            warnings.style.display = 'block';\n",
       "            warnings.textContent = (\n",
       "                \"This browser does not support binary websocket messages. \" +\n",
       "                    \"Performance may be slow.\");\n",
       "        }\n",
       "    }\n",
       "\n",
       "    this.imageObj = new Image();\n",
       "\n",
       "    this.context = undefined;\n",
       "    this.message = undefined;\n",
       "    this.canvas = undefined;\n",
       "    this.rubberband_canvas = undefined;\n",
       "    this.rubberband_context = undefined;\n",
       "    this.format_dropdown = undefined;\n",
       "\n",
       "    this.image_mode = 'full';\n",
       "\n",
       "    this.root = $('<div/>');\n",
       "    this._root_extra_style(this.root)\n",
       "    this.root.attr('style', 'display: inline-block');\n",
       "\n",
       "    $(parent_element).append(this.root);\n",
       "\n",
       "    this._init_header(this);\n",
       "    this._init_canvas(this);\n",
       "    this._init_toolbar(this);\n",
       "\n",
       "    var fig = this;\n",
       "\n",
       "    this.waiting = false;\n",
       "\n",
       "    this.ws.onopen =  function () {\n",
       "            fig.send_message(\"supports_binary\", {value: fig.supports_binary});\n",
       "            fig.send_message(\"send_image_mode\", {});\n",
       "            if (mpl.ratio != 1) {\n",
       "                fig.send_message(\"set_dpi_ratio\", {'dpi_ratio': mpl.ratio});\n",
       "            }\n",
       "            fig.send_message(\"refresh\", {});\n",
       "        }\n",
       "\n",
       "    this.imageObj.onload = function() {\n",
       "            if (fig.image_mode == 'full') {\n",
       "                // Full images could contain transparency (where diff images\n",
       "                // almost always do), so we need to clear the canvas so that\n",
       "                // there is no ghosting.\n",
       "                fig.context.clearRect(0, 0, fig.canvas.width, fig.canvas.height);\n",
       "            }\n",
       "            fig.context.drawImage(fig.imageObj, 0, 0);\n",
       "        };\n",
       "\n",
       "    this.imageObj.onunload = function() {\n",
       "        fig.ws.close();\n",
       "    }\n",
       "\n",
       "    this.ws.onmessage = this._make_on_message_function(this);\n",
       "\n",
       "    this.ondownload = ondownload;\n",
       "}\n",
       "\n",
       "mpl.figure.prototype._init_header = function() {\n",
       "    var titlebar = $(\n",
       "        '<div class=\"ui-dialog-titlebar ui-widget-header ui-corner-all ' +\n",
       "        'ui-helper-clearfix\"/>');\n",
       "    var titletext = $(\n",
       "        '<div class=\"ui-dialog-title\" style=\"width: 100%; ' +\n",
       "        'text-align: center; padding: 3px;\"/>');\n",
       "    titlebar.append(titletext)\n",
       "    this.root.append(titlebar);\n",
       "    this.header = titletext[0];\n",
       "}\n",
       "\n",
       "\n",
       "\n",
       "mpl.figure.prototype._canvas_extra_style = function(canvas_div) {\n",
       "\n",
       "}\n",
       "\n",
       "\n",
       "mpl.figure.prototype._root_extra_style = function(canvas_div) {\n",
       "\n",
       "}\n",
       "\n",
       "mpl.figure.prototype._init_canvas = function() {\n",
       "    var fig = this;\n",
       "\n",
       "    var canvas_div = $('<div/>');\n",
       "\n",
       "    canvas_div.attr('style', 'position: relative; clear: both; outline: 0');\n",
       "\n",
       "    function canvas_keyboard_event(event) {\n",
       "        return fig.key_event(event, event['data']);\n",
       "    }\n",
       "\n",
       "    canvas_div.keydown('key_press', canvas_keyboard_event);\n",
       "    canvas_div.keyup('key_release', canvas_keyboard_event);\n",
       "    this.canvas_div = canvas_div\n",
       "    this._canvas_extra_style(canvas_div)\n",
       "    this.root.append(canvas_div);\n",
       "\n",
       "    var canvas = $('<canvas/>');\n",
       "    canvas.addClass('mpl-canvas');\n",
       "    canvas.attr('style', \"left: 0; top: 0; z-index: 0; outline: 0\")\n",
       "\n",
       "    this.canvas = canvas[0];\n",
       "    this.context = canvas[0].getContext(\"2d\");\n",
       "\n",
       "    var backingStore = this.context.backingStorePixelRatio ||\n",
       "\tthis.context.webkitBackingStorePixelRatio ||\n",
       "\tthis.context.mozBackingStorePixelRatio ||\n",
       "\tthis.context.msBackingStorePixelRatio ||\n",
       "\tthis.context.oBackingStorePixelRatio ||\n",
       "\tthis.context.backingStorePixelRatio || 1;\n",
       "\n",
       "    mpl.ratio = (window.devicePixelRatio || 1) / backingStore;\n",
       "\n",
       "    var rubberband = $('<canvas/>');\n",
       "    rubberband.attr('style', \"position: absolute; left: 0; top: 0; z-index: 1;\")\n",
       "\n",
       "    var pass_mouse_events = true;\n",
       "\n",
       "    canvas_div.resizable({\n",
       "        start: function(event, ui) {\n",
       "            pass_mouse_events = false;\n",
       "        },\n",
       "        resize: function(event, ui) {\n",
       "            fig.request_resize(ui.size.width, ui.size.height);\n",
       "        },\n",
       "        stop: function(event, ui) {\n",
       "            pass_mouse_events = true;\n",
       "            fig.request_resize(ui.size.width, ui.size.height);\n",
       "        },\n",
       "    });\n",
       "\n",
       "    function mouse_event_fn(event) {\n",
       "        if (pass_mouse_events)\n",
       "            return fig.mouse_event(event, event['data']);\n",
       "    }\n",
       "\n",
       "    rubberband.mousedown('button_press', mouse_event_fn);\n",
       "    rubberband.mouseup('button_release', mouse_event_fn);\n",
       "    // Throttle sequential mouse events to 1 every 20ms.\n",
       "    rubberband.mousemove('motion_notify', mouse_event_fn);\n",
       "\n",
       "    rubberband.mouseenter('figure_enter', mouse_event_fn);\n",
       "    rubberband.mouseleave('figure_leave', mouse_event_fn);\n",
       "\n",
       "    canvas_div.on(\"wheel\", function (event) {\n",
       "        event = event.originalEvent;\n",
       "        event['data'] = 'scroll'\n",
       "        if (event.deltaY < 0) {\n",
       "            event.step = 1;\n",
       "        } else {\n",
       "            event.step = -1;\n",
       "        }\n",
       "        mouse_event_fn(event);\n",
       "    });\n",
       "\n",
       "    canvas_div.append(canvas);\n",
       "    canvas_div.append(rubberband);\n",
       "\n",
       "    this.rubberband = rubberband;\n",
       "    this.rubberband_canvas = rubberband[0];\n",
       "    this.rubberband_context = rubberband[0].getContext(\"2d\");\n",
       "    this.rubberband_context.strokeStyle = \"#000000\";\n",
       "\n",
       "    this._resize_canvas = function(width, height) {\n",
       "        // Keep the size of the canvas, canvas container, and rubber band\n",
       "        // canvas in synch.\n",
       "        canvas_div.css('width', width)\n",
       "        canvas_div.css('height', height)\n",
       "\n",
       "        canvas.attr('width', width * mpl.ratio);\n",
       "        canvas.attr('height', height * mpl.ratio);\n",
       "        canvas.attr('style', 'width: ' + width + 'px; height: ' + height + 'px;');\n",
       "\n",
       "        rubberband.attr('width', width);\n",
       "        rubberband.attr('height', height);\n",
       "    }\n",
       "\n",
       "    // Set the figure to an initial 600x600px, this will subsequently be updated\n",
       "    // upon first draw.\n",
       "    this._resize_canvas(600, 600);\n",
       "\n",
       "    // Disable right mouse context menu.\n",
       "    $(this.rubberband_canvas).bind(\"contextmenu\",function(e){\n",
       "        return false;\n",
       "    });\n",
       "\n",
       "    function set_focus () {\n",
       "        canvas.focus();\n",
       "        canvas_div.focus();\n",
       "    }\n",
       "\n",
       "    window.setTimeout(set_focus, 100);\n",
       "}\n",
       "\n",
       "mpl.figure.prototype._init_toolbar = function() {\n",
       "    var fig = this;\n",
       "\n",
       "    var nav_element = $('<div/>')\n",
       "    nav_element.attr('style', 'width: 100%');\n",
       "    this.root.append(nav_element);\n",
       "\n",
       "    // Define a callback function for later on.\n",
       "    function toolbar_event(event) {\n",
       "        return fig.toolbar_button_onclick(event['data']);\n",
       "    }\n",
       "    function toolbar_mouse_event(event) {\n",
       "        return fig.toolbar_button_onmouseover(event['data']);\n",
       "    }\n",
       "\n",
       "    for(var toolbar_ind in mpl.toolbar_items) {\n",
       "        var name = mpl.toolbar_items[toolbar_ind][0];\n",
       "        var tooltip = mpl.toolbar_items[toolbar_ind][1];\n",
       "        var image = mpl.toolbar_items[toolbar_ind][2];\n",
       "        var method_name = mpl.toolbar_items[toolbar_ind][3];\n",
       "\n",
       "        if (!name) {\n",
       "            // put a spacer in here.\n",
       "            continue;\n",
       "        }\n",
       "        var button = $('<button/>');\n",
       "        button.addClass('ui-button ui-widget ui-state-default ui-corner-all ' +\n",
       "                        'ui-button-icon-only');\n",
       "        button.attr('role', 'button');\n",
       "        button.attr('aria-disabled', 'false');\n",
       "        button.click(method_name, toolbar_event);\n",
       "        button.mouseover(tooltip, toolbar_mouse_event);\n",
       "\n",
       "        var icon_img = $('<span/>');\n",
       "        icon_img.addClass('ui-button-icon-primary ui-icon');\n",
       "        icon_img.addClass(image);\n",
       "        icon_img.addClass('ui-corner-all');\n",
       "\n",
       "        var tooltip_span = $('<span/>');\n",
       "        tooltip_span.addClass('ui-button-text');\n",
       "        tooltip_span.html(tooltip);\n",
       "\n",
       "        button.append(icon_img);\n",
       "        button.append(tooltip_span);\n",
       "\n",
       "        nav_element.append(button);\n",
       "    }\n",
       "\n",
       "    var fmt_picker_span = $('<span/>');\n",
       "\n",
       "    var fmt_picker = $('<select/>');\n",
       "    fmt_picker.addClass('mpl-toolbar-option ui-widget ui-widget-content');\n",
       "    fmt_picker_span.append(fmt_picker);\n",
       "    nav_element.append(fmt_picker_span);\n",
       "    this.format_dropdown = fmt_picker[0];\n",
       "\n",
       "    for (var ind in mpl.extensions) {\n",
       "        var fmt = mpl.extensions[ind];\n",
       "        var option = $(\n",
       "            '<option/>', {selected: fmt === mpl.default_extension}).html(fmt);\n",
       "        fmt_picker.append(option)\n",
       "    }\n",
       "\n",
       "    // Add hover states to the ui-buttons\n",
       "    $( \".ui-button\" ).hover(\n",
       "        function() { $(this).addClass(\"ui-state-hover\");},\n",
       "        function() { $(this).removeClass(\"ui-state-hover\");}\n",
       "    );\n",
       "\n",
       "    var status_bar = $('<span class=\"mpl-message\"/>');\n",
       "    nav_element.append(status_bar);\n",
       "    this.message = status_bar[0];\n",
       "}\n",
       "\n",
       "mpl.figure.prototype.request_resize = function(x_pixels, y_pixels) {\n",
       "    // Request matplotlib to resize the figure. Matplotlib will then trigger a resize in the client,\n",
       "    // which will in turn request a refresh of the image.\n",
       "    this.send_message('resize', {'width': x_pixels, 'height': y_pixels});\n",
       "}\n",
       "\n",
       "mpl.figure.prototype.send_message = function(type, properties) {\n",
       "    properties['type'] = type;\n",
       "    properties['figure_id'] = this.id;\n",
       "    this.ws.send(JSON.stringify(properties));\n",
       "}\n",
       "\n",
       "mpl.figure.prototype.send_draw_message = function() {\n",
       "    if (!this.waiting) {\n",
       "        this.waiting = true;\n",
       "        this.ws.send(JSON.stringify({type: \"draw\", figure_id: this.id}));\n",
       "    }\n",
       "}\n",
       "\n",
       "\n",
       "mpl.figure.prototype.handle_save = function(fig, msg) {\n",
       "    var format_dropdown = fig.format_dropdown;\n",
       "    var format = format_dropdown.options[format_dropdown.selectedIndex].value;\n",
       "    fig.ondownload(fig, format);\n",
       "}\n",
       "\n",
       "\n",
       "mpl.figure.prototype.handle_resize = function(fig, msg) {\n",
       "    var size = msg['size'];\n",
       "    if (size[0] != fig.canvas.width || size[1] != fig.canvas.height) {\n",
       "        fig._resize_canvas(size[0], size[1]);\n",
       "        fig.send_message(\"refresh\", {});\n",
       "    };\n",
       "}\n",
       "\n",
       "mpl.figure.prototype.handle_rubberband = function(fig, msg) {\n",
       "    var x0 = msg['x0'] / mpl.ratio;\n",
       "    var y0 = (fig.canvas.height - msg['y0']) / mpl.ratio;\n",
       "    var x1 = msg['x1'] / mpl.ratio;\n",
       "    var y1 = (fig.canvas.height - msg['y1']) / mpl.ratio;\n",
       "    x0 = Math.floor(x0) + 0.5;\n",
       "    y0 = Math.floor(y0) + 0.5;\n",
       "    x1 = Math.floor(x1) + 0.5;\n",
       "    y1 = Math.floor(y1) + 0.5;\n",
       "    var min_x = Math.min(x0, x1);\n",
       "    var min_y = Math.min(y0, y1);\n",
       "    var width = Math.abs(x1 - x0);\n",
       "    var height = Math.abs(y1 - y0);\n",
       "\n",
       "    fig.rubberband_context.clearRect(\n",
       "        0, 0, fig.canvas.width, fig.canvas.height);\n",
       "\n",
       "    fig.rubberband_context.strokeRect(min_x, min_y, width, height);\n",
       "}\n",
       "\n",
       "mpl.figure.prototype.handle_figure_label = function(fig, msg) {\n",
       "    // Updates the figure title.\n",
       "    fig.header.textContent = msg['label'];\n",
       "}\n",
       "\n",
       "mpl.figure.prototype.handle_cursor = function(fig, msg) {\n",
       "    var cursor = msg['cursor'];\n",
       "    switch(cursor)\n",
       "    {\n",
       "    case 0:\n",
       "        cursor = 'pointer';\n",
       "        break;\n",
       "    case 1:\n",
       "        cursor = 'default';\n",
       "        break;\n",
       "    case 2:\n",
       "        cursor = 'crosshair';\n",
       "        break;\n",
       "    case 3:\n",
       "        cursor = 'move';\n",
       "        break;\n",
       "    }\n",
       "    fig.rubberband_canvas.style.cursor = cursor;\n",
       "}\n",
       "\n",
       "mpl.figure.prototype.handle_message = function(fig, msg) {\n",
       "    fig.message.textContent = msg['message'];\n",
       "}\n",
       "\n",
       "mpl.figure.prototype.handle_draw = function(fig, msg) {\n",
       "    // Request the server to send over a new figure.\n",
       "    fig.send_draw_message();\n",
       "}\n",
       "\n",
       "mpl.figure.prototype.handle_image_mode = function(fig, msg) {\n",
       "    fig.image_mode = msg['mode'];\n",
       "}\n",
       "\n",
       "mpl.figure.prototype.updated_canvas_event = function() {\n",
       "    // Called whenever the canvas gets updated.\n",
       "    this.send_message(\"ack\", {});\n",
       "}\n",
       "\n",
       "// A function to construct a web socket function for onmessage handling.\n",
       "// Called in the figure constructor.\n",
       "mpl.figure.prototype._make_on_message_function = function(fig) {\n",
       "    return function socket_on_message(evt) {\n",
       "        if (evt.data instanceof Blob) {\n",
       "            /* FIXME: We get \"Resource interpreted as Image but\n",
       "             * transferred with MIME type text/plain:\" errors on\n",
       "             * Chrome.  But how to set the MIME type?  It doesn't seem\n",
       "             * to be part of the websocket stream */\n",
       "            evt.data.type = \"image/png\";\n",
       "\n",
       "            /* Free the memory for the previous frames */\n",
       "            if (fig.imageObj.src) {\n",
       "                (window.URL || window.webkitURL).revokeObjectURL(\n",
       "                    fig.imageObj.src);\n",
       "            }\n",
       "\n",
       "            fig.imageObj.src = (window.URL || window.webkitURL).createObjectURL(\n",
       "                evt.data);\n",
       "            fig.updated_canvas_event();\n",
       "            fig.waiting = false;\n",
       "            return;\n",
       "        }\n",
       "        else if (typeof evt.data === 'string' && evt.data.slice(0, 21) == \"data:image/png;base64\") {\n",
       "            fig.imageObj.src = evt.data;\n",
       "            fig.updated_canvas_event();\n",
       "            fig.waiting = false;\n",
       "            return;\n",
       "        }\n",
       "\n",
       "        var msg = JSON.parse(evt.data);\n",
       "        var msg_type = msg['type'];\n",
       "\n",
       "        // Call the  \"handle_{type}\" callback, which takes\n",
       "        // the figure and JSON message as its only arguments.\n",
       "        try {\n",
       "            var callback = fig[\"handle_\" + msg_type];\n",
       "        } catch (e) {\n",
       "            console.log(\"No handler for the '\" + msg_type + \"' message type: \", msg);\n",
       "            return;\n",
       "        }\n",
       "\n",
       "        if (callback) {\n",
       "            try {\n",
       "                // console.log(\"Handling '\" + msg_type + \"' message: \", msg);\n",
       "                callback(fig, msg);\n",
       "            } catch (e) {\n",
       "                console.log(\"Exception inside the 'handler_\" + msg_type + \"' callback:\", e, e.stack, msg);\n",
       "            }\n",
       "        }\n",
       "    };\n",
       "}\n",
       "\n",
       "// from http://stackoverflow.com/questions/1114465/getting-mouse-location-in-canvas\n",
       "mpl.findpos = function(e) {\n",
       "    //this section is from http://www.quirksmode.org/js/events_properties.html\n",
       "    var targ;\n",
       "    if (!e)\n",
       "        e = window.event;\n",
       "    if (e.target)\n",
       "        targ = e.target;\n",
       "    else if (e.srcElement)\n",
       "        targ = e.srcElement;\n",
       "    if (targ.nodeType == 3) // defeat Safari bug\n",
       "        targ = targ.parentNode;\n",
       "\n",
       "    // jQuery normalizes the pageX and pageY\n",
       "    // pageX,Y are the mouse positions relative to the document\n",
       "    // offset() returns the position of the element relative to the document\n",
       "    var x = e.pageX - $(targ).offset().left;\n",
       "    var y = e.pageY - $(targ).offset().top;\n",
       "\n",
       "    return {\"x\": x, \"y\": y};\n",
       "};\n",
       "\n",
       "/*\n",
       " * return a copy of an object with only non-object keys\n",
       " * we need this to avoid circular references\n",
       " * http://stackoverflow.com/a/24161582/3208463\n",
       " */\n",
       "function simpleKeys (original) {\n",
       "  return Object.keys(original).reduce(function (obj, key) {\n",
       "    if (typeof original[key] !== 'object')\n",
       "        obj[key] = original[key]\n",
       "    return obj;\n",
       "  }, {});\n",
       "}\n",
       "\n",
       "mpl.figure.prototype.mouse_event = function(event, name) {\n",
       "    var canvas_pos = mpl.findpos(event)\n",
       "\n",
       "    if (name === 'button_press')\n",
       "    {\n",
       "        this.canvas.focus();\n",
       "        this.canvas_div.focus();\n",
       "    }\n",
       "\n",
       "    var x = canvas_pos.x * mpl.ratio;\n",
       "    var y = canvas_pos.y * mpl.ratio;\n",
       "\n",
       "    this.send_message(name, {x: x, y: y, button: event.button,\n",
       "                             step: event.step,\n",
       "                             guiEvent: simpleKeys(event)});\n",
       "\n",
       "    /* This prevents the web browser from automatically changing to\n",
       "     * the text insertion cursor when the button is pressed.  We want\n",
       "     * to control all of the cursor setting manually through the\n",
       "     * 'cursor' event from matplotlib */\n",
       "    event.preventDefault();\n",
       "    return false;\n",
       "}\n",
       "\n",
       "mpl.figure.prototype._key_event_extra = function(event, name) {\n",
       "    // Handle any extra behaviour associated with a key event\n",
       "}\n",
       "\n",
       "mpl.figure.prototype.key_event = function(event, name) {\n",
       "\n",
       "    // Prevent repeat events\n",
       "    if (name == 'key_press')\n",
       "    {\n",
       "        if (event.which === this._key)\n",
       "            return;\n",
       "        else\n",
       "            this._key = event.which;\n",
       "    }\n",
       "    if (name == 'key_release')\n",
       "        this._key = null;\n",
       "\n",
       "    var value = '';\n",
       "    if (event.ctrlKey && event.which != 17)\n",
       "        value += \"ctrl+\";\n",
       "    if (event.altKey && event.which != 18)\n",
       "        value += \"alt+\";\n",
       "    if (event.shiftKey && event.which != 16)\n",
       "        value += \"shift+\";\n",
       "\n",
       "    value += 'k';\n",
       "    value += event.which.toString();\n",
       "\n",
       "    this._key_event_extra(event, name);\n",
       "\n",
       "    this.send_message(name, {key: value,\n",
       "                             guiEvent: simpleKeys(event)});\n",
       "    return false;\n",
       "}\n",
       "\n",
       "mpl.figure.prototype.toolbar_button_onclick = function(name) {\n",
       "    if (name == 'download') {\n",
       "        this.handle_save(this, null);\n",
       "    } else {\n",
       "        this.send_message(\"toolbar_button\", {name: name});\n",
       "    }\n",
       "};\n",
       "\n",
       "mpl.figure.prototype.toolbar_button_onmouseover = function(tooltip) {\n",
       "    this.message.textContent = tooltip;\n",
       "};\n",
       "mpl.toolbar_items = [[\"Home\", \"Reset original view\", \"fa fa-home icon-home\", \"home\"], [\"Back\", \"Back to  previous view\", \"fa fa-arrow-left icon-arrow-left\", \"back\"], [\"Forward\", \"Forward to next view\", \"fa fa-arrow-right icon-arrow-right\", \"forward\"], [\"\", \"\", \"\", \"\"], [\"Pan\", \"Pan axes with left mouse, zoom with right\", \"fa fa-arrows icon-move\", \"pan\"], [\"Zoom\", \"Zoom to rectangle\", \"fa fa-square-o icon-check-empty\", \"zoom\"], [\"\", \"\", \"\", \"\"], [\"Download\", \"Download plot\", \"fa fa-floppy-o icon-save\", \"download\"]];\n",
       "\n",
       "mpl.extensions = [\"eps\", \"jpeg\", \"pdf\", \"png\", \"ps\", \"raw\", \"svg\", \"tif\"];\n",
       "\n",
       "mpl.default_extension = \"png\";var comm_websocket_adapter = function(comm) {\n",
       "    // Create a \"websocket\"-like object which calls the given IPython comm\n",
       "    // object with the appropriate methods. Currently this is a non binary\n",
       "    // socket, so there is still some room for performance tuning.\n",
       "    var ws = {};\n",
       "\n",
       "    ws.close = function() {\n",
       "        comm.close()\n",
       "    };\n",
       "    ws.send = function(m) {\n",
       "        //console.log('sending', m);\n",
       "        comm.send(m);\n",
       "    };\n",
       "    // Register the callback with on_msg.\n",
       "    comm.on_msg(function(msg) {\n",
       "        //console.log('receiving', msg['content']['data'], msg);\n",
       "        // Pass the mpl event to the overridden (by mpl) onmessage function.\n",
       "        ws.onmessage(msg['content']['data'])\n",
       "    });\n",
       "    return ws;\n",
       "}\n",
       "\n",
       "mpl.mpl_figure_comm = function(comm, msg) {\n",
       "    // This is the function which gets called when the mpl process\n",
       "    // starts-up an IPython Comm through the \"matplotlib\" channel.\n",
       "\n",
       "    var id = msg.content.data.id;\n",
       "    // Get hold of the div created by the display call when the Comm\n",
       "    // socket was opened in Python.\n",
       "    var element = $(\"#\" + id);\n",
       "    var ws_proxy = comm_websocket_adapter(comm)\n",
       "\n",
       "    function ondownload(figure, format) {\n",
       "        window.open(figure.imageObj.src);\n",
       "    }\n",
       "\n",
       "    var fig = new mpl.figure(id, ws_proxy,\n",
       "                           ondownload,\n",
       "                           element.get(0));\n",
       "\n",
       "    // Call onopen now - mpl needs it, as it is assuming we've passed it a real\n",
       "    // web socket which is closed, not our websocket->open comm proxy.\n",
       "    ws_proxy.onopen();\n",
       "\n",
       "    fig.parent_element = element.get(0);\n",
       "    fig.cell_info = mpl.find_output_cell(\"<div id='\" + id + \"'></div>\");\n",
       "    if (!fig.cell_info) {\n",
       "        console.error(\"Failed to find cell for figure\", id, fig);\n",
       "        return;\n",
       "    }\n",
       "\n",
       "    var output_index = fig.cell_info[2]\n",
       "    var cell = fig.cell_info[0];\n",
       "\n",
       "};\n",
       "\n",
       "mpl.figure.prototype.handle_close = function(fig, msg) {\n",
       "    var width = fig.canvas.width/mpl.ratio\n",
       "    fig.root.unbind('remove')\n",
       "\n",
       "    // Update the output cell to use the data from the current canvas.\n",
       "    fig.push_to_output();\n",
       "    var dataURL = fig.canvas.toDataURL();\n",
       "    // Re-enable the keyboard manager in IPython - without this line, in FF,\n",
       "    // the notebook keyboard shortcuts fail.\n",
       "    IPython.keyboard_manager.enable()\n",
       "    $(fig.parent_element).html('<img src=\"' + dataURL + '\" width=\"' + width + '\">');\n",
       "    fig.close_ws(fig, msg);\n",
       "}\n",
       "\n",
       "mpl.figure.prototype.close_ws = function(fig, msg){\n",
       "    fig.send_message('closing', msg);\n",
       "    // fig.ws.close()\n",
       "}\n",
       "\n",
       "mpl.figure.prototype.push_to_output = function(remove_interactive) {\n",
       "    // Turn the data on the canvas into data in the output cell.\n",
       "    var width = this.canvas.width/mpl.ratio\n",
       "    var dataURL = this.canvas.toDataURL();\n",
       "    this.cell_info[1]['text/html'] = '<img src=\"' + dataURL + '\" width=\"' + width + '\">';\n",
       "}\n",
       "\n",
       "mpl.figure.prototype.updated_canvas_event = function() {\n",
       "    // Tell IPython that the notebook contents must change.\n",
       "    IPython.notebook.set_dirty(true);\n",
       "    this.send_message(\"ack\", {});\n",
       "    var fig = this;\n",
       "    // Wait a second, then push the new image to the DOM so\n",
       "    // that it is saved nicely (might be nice to debounce this).\n",
       "    setTimeout(function () { fig.push_to_output() }, 1000);\n",
       "}\n",
       "\n",
       "mpl.figure.prototype._init_toolbar = function() {\n",
       "    var fig = this;\n",
       "\n",
       "    var nav_element = $('<div/>')\n",
       "    nav_element.attr('style', 'width: 100%');\n",
       "    this.root.append(nav_element);\n",
       "\n",
       "    // Define a callback function for later on.\n",
       "    function toolbar_event(event) {\n",
       "        return fig.toolbar_button_onclick(event['data']);\n",
       "    }\n",
       "    function toolbar_mouse_event(event) {\n",
       "        return fig.toolbar_button_onmouseover(event['data']);\n",
       "    }\n",
       "\n",
       "    for(var toolbar_ind in mpl.toolbar_items){\n",
       "        var name = mpl.toolbar_items[toolbar_ind][0];\n",
       "        var tooltip = mpl.toolbar_items[toolbar_ind][1];\n",
       "        var image = mpl.toolbar_items[toolbar_ind][2];\n",
       "        var method_name = mpl.toolbar_items[toolbar_ind][3];\n",
       "\n",
       "        if (!name) { continue; };\n",
       "\n",
       "        var button = $('<button class=\"btn btn-default\" href=\"#\" title=\"' + name + '\"><i class=\"fa ' + image + ' fa-lg\"></i></button>');\n",
       "        button.click(method_name, toolbar_event);\n",
       "        button.mouseover(tooltip, toolbar_mouse_event);\n",
       "        nav_element.append(button);\n",
       "    }\n",
       "\n",
       "    // Add the status bar.\n",
       "    var status_bar = $('<span class=\"mpl-message\" style=\"text-align:right; float: right;\"/>');\n",
       "    nav_element.append(status_bar);\n",
       "    this.message = status_bar[0];\n",
       "\n",
       "    // Add the close button to the window.\n",
       "    var buttongrp = $('<div class=\"btn-group inline pull-right\"></div>');\n",
       "    var button = $('<button class=\"btn btn-mini btn-primary\" href=\"#\" title=\"Stop Interaction\"><i class=\"fa fa-power-off icon-remove icon-large\"></i></button>');\n",
       "    button.click(function (evt) { fig.handle_close(fig, {}); } );\n",
       "    button.mouseover('Stop Interaction', toolbar_mouse_event);\n",
       "    buttongrp.append(button);\n",
       "    var titlebar = this.root.find($('.ui-dialog-titlebar'));\n",
       "    titlebar.prepend(buttongrp);\n",
       "}\n",
       "\n",
       "mpl.figure.prototype._root_extra_style = function(el){\n",
       "    var fig = this\n",
       "    el.on(\"remove\", function(){\n",
       "\tfig.close_ws(fig, {});\n",
       "    });\n",
       "}\n",
       "\n",
       "mpl.figure.prototype._canvas_extra_style = function(el){\n",
       "    // this is important to make the div 'focusable\n",
       "    el.attr('tabindex', 0)\n",
       "    // reach out to IPython and tell the keyboard manager to turn it's self\n",
       "    // off when our div gets focus\n",
       "\n",
       "    // location in version 3\n",
       "    if (IPython.notebook.keyboard_manager) {\n",
       "        IPython.notebook.keyboard_manager.register_events(el);\n",
       "    }\n",
       "    else {\n",
       "        // location in version 2\n",
       "        IPython.keyboard_manager.register_events(el);\n",
       "    }\n",
       "\n",
       "}\n",
       "\n",
       "mpl.figure.prototype._key_event_extra = function(event, name) {\n",
       "    var manager = IPython.notebook.keyboard_manager;\n",
       "    if (!manager)\n",
       "        manager = IPython.keyboard_manager;\n",
       "\n",
       "    // Check for shift+enter\n",
       "    if (event.shiftKey && event.which == 13) {\n",
       "        this.canvas_div.blur();\n",
       "        event.shiftKey = false;\n",
       "        // Send a \"J\" for go to next cell\n",
       "        event.which = 74;\n",
       "        event.keyCode = 74;\n",
       "        manager.command_mode();\n",
       "        manager.handle_keydown(event);\n",
       "    }\n",
       "}\n",
       "\n",
       "mpl.figure.prototype.handle_save = function(fig, msg) {\n",
       "    fig.ondownload(fig, null);\n",
       "}\n",
       "\n",
       "\n",
       "mpl.find_output_cell = function(html_output) {\n",
       "    // Return the cell and output element which can be found *uniquely* in the notebook.\n",
       "    // Note - this is a bit hacky, but it is done because the \"notebook_saving.Notebook\"\n",
       "    // IPython event is triggered only after the cells have been serialised, which for\n",
       "    // our purposes (turning an active figure into a static one), is too late.\n",
       "    var cells = IPython.notebook.get_cells();\n",
       "    var ncells = cells.length;\n",
       "    for (var i=0; i<ncells; i++) {\n",
       "        var cell = cells[i];\n",
       "        if (cell.cell_type === 'code'){\n",
       "            for (var j=0; j<cell.output_area.outputs.length; j++) {\n",
       "                var data = cell.output_area.outputs[j];\n",
       "                if (data.data) {\n",
       "                    // IPython >= 3 moved mimebundle to data attribute of output\n",
       "                    data = data.data;\n",
       "                }\n",
       "                if (data['text/html'] == html_output) {\n",
       "                    return [cell, data, j];\n",
       "                }\n",
       "            }\n",
       "        }\n",
       "    }\n",
       "}\n",
       "\n",
       "// Register the function which deals with the matplotlib target/channel.\n",
       "// The kernel may be null if the page has been refreshed.\n",
       "if (IPython.notebook.kernel != null) {\n",
       "    IPython.notebook.kernel.comm_manager.register_target('matplotlib', mpl.mpl_figure_comm);\n",
       "}\n"
      ],
      "text/plain": [
       "<IPython.core.display.Javascript object>"
      ]
     },
     "metadata": {},
     "output_type": "display_data"
    },
    {
     "data": {
      "text/html": [
       "<img src=\"data:image/png;base64,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\" width=\"1000\">"
      ],
      "text/plain": [
       "<IPython.core.display.HTML object>"
      ]
     },
     "metadata": {},
     "output_type": "display_data"
    },
    {
     "data": {
      "application/vnd.jupyter.widget-view+json": {
       "model_id": "a8d02ec21f5740cd9c10579ab438b866",
       "version_major": 2,
       "version_minor": 0
      },
      "text/plain": [
       "interactive(children=(SelectionSlider(description='ts', options=(1523797351317, 1523797351357, 1523797351397, …"
      ]
     },
     "metadata": {},
     "output_type": "display_data"
    }
   ],
   "source": [
    "timestamps_list = sorted(list(timestamps))\n",
    "kickoff_time_ind = np.argmin(np.abs(np.subtract(timestamps_list, kickoff_time)))\n",
    "kickoff_time_matched = timestamps_list[kickoff_time_ind]\n",
    "print(kickoff_time, kickoff_time_matched)\n",
    "\n",
    "%matplotlib notebook\n",
    "\n",
    "fig = plt.figure(figsize=(10,6))\n",
    "ax = fig.add_subplot(1, 1, 1)\n",
    "left, = plt.plot([], '*r')\n",
    "right, = plt.plot([], '*r')\n",
    "\n",
    "left_b, = plt.plot([], 'ob')\n",
    "right_b, = plt.plot([], 'ob')\n",
    "\n",
    "plt.xlim([0, 105])\n",
    "plt.ylim([0, 68])\n",
    "\n",
    "def update(ts=kickoff_time_matched):\n",
    "    if ts in detections['players']['left']:\n",
    "        left.set_ydata(detections['players']['left'][ts][:, 1])\n",
    "        left.set_xdata(detections['players']['left'][ts][:, 0])\n",
    "    else:\n",
    "        left.set_ydata([])\n",
    "        left.set_xdata([])\n",
    "        \n",
    "    if ts in detections['players']['right']:\n",
    "        right.set_ydata(detections['players']['right'][ts][:, 1])\n",
    "        right.set_xdata(detections['players']['right'][ts][:, 0])\n",
    "    else:\n",
    "        right.set_ydata([])\n",
    "        right.set_xdata([])\n",
    "\n",
    "    if ts in detections['ball']['left'] and len(detections['ball']['left'][ts]):\n",
    "        left_b.set_ydata(detections['ball']['left'][ts][:, 1])\n",
    "        left_b.set_xdata(detections['ball']['left'][ts][:, 0])\n",
    "    else:\n",
    "        left_b.set_ydata([])\n",
    "        left_b.set_xdata([])        \n",
    "    if ts in detections['ball']['right'] and len(detections['ball']['right'][ts]):\n",
    "        right_b.set_ydata(detections['ball']['right'][ts][:, 1])\n",
    "        right_b.set_xdata(detections['ball']['right'][ts][:, 0])\n",
    "    else:\n",
    "        right_b.set_ydata([])\n",
    "        right_b.set_xdata([])\n",
    "    \n",
    "    \n",
    "wid = widgets.SelectionSlider(\n",
    "    options=timestamps_list,\n",
    "    value=kickoff_time_matched,\n",
    "    continuous_update=True,\n",
    "    orientation='horizontal',\n",
    "    readout=True\n",
    ")\n",
    "    \n",
    "interact(update, ts = wid);"
   ]
  },
  {
   "cell_type": "code",
   "execution_count": 11,
   "metadata": {},
   "outputs": [],
   "source": [
    "# {'id': 'd1a98e08-0f21-46fe-8457-01ff183ddbeb', 'calibration': {'views': ['left', 'right'], 'reference_landmarks': {'object': 'calibrations/tele2_landmarks.json', 'bucket': 'signality.ironfist.models'}}, 'replay_urls': ['//liveplay.signality.com/data/d1a98e08-0f21-46fe-8457-01ff183ddbeb_phase1.data', '//liveplay.signality.com/data/d1a98e08-0f21-46fe-8457-01ff183ddbeb_phase2.data'], 'camera_mode': 'static', 'away_team': {'colors': {'team': '#000000', 'goalkeeper': '#ffff00'}, 'logo_url': 'http://images.signality.com/team-logos/orebro.png', 'name': 'Örebro SK'}, 'phase_events': [{'type': 'start_phase', 'ts': datetime.datetime(2018, 5, 17, 17, 0, 2, 362000, tzinfo=<rethinkdb.ast.RqlTzinfo object at 0x7f4d1c61e4e0>), 'kickoff_team_id': 12, 'phase': 1}, {'type': 'end_phase', 'ts': datetime.datetime(2018, 5, 17, 17, 47, 7, 92000, tzinfo=<rethinkdb.ast.RqlTzinfo object at 0x7f4d1c61e518>), 'phase': 1}, {'type': 'start_phase', 'ts': datetime.datetime(2018, 5, 17, 18, 4, 2, 891000, tzinfo=<rethinkdb.ast.RqlTzinfo object at 0x7f4d1c61e630>), 'kickoff_team_id': 11, 'phase': 2}, {'type': 'end_phase', 'ts': datetime.datetime(2018, 5, 17, 18, 52, 6, 565000, tzinfo=<rethinkdb.ast.RqlTzinfo object at 0x7f4d1c61e6a0>), 'phase': 2}], 'start_time': datetime.datetime(2018, 5, 17, 19, 0, tzinfo=<rethinkdb.ast.RqlTzinfo object at 0x7f4d1c61e780>), 'state': 'Destroyed', 'external_data': {'smc': {'match_id': 3704, 'home_team_id': 11, 'league_id': 12, 'away_team_id': 12}}, 'streams': {'left': {'url': 'https://d35u71x3nb8v2y.cloudfront.net/f75295bb-c143-4472-a151-d849f9916e75/ca074983-09a2-451f-8730-90efa6701dc8/playlist.m3u8', 'utc': datetime.datetime(2018, 5, 17, 16, 45, 41, 197000, tzinfo=<rethinkdb.ast.RqlTzinfo object at 0x7f4d1c61e9e8>)}, 'autofollow_render_segments': {'url': 'https://d35u71x3nb8v2y.cloudfront.net/f75295bb-c143-4472-a151-d849f9916e75/d890161e-59fa-4f39-9758-b9d5b10357af/playlist.m3u8', 'utc': datetime.datetime(2018, 5, 17, 16, 45, 41, 197000, tzinfo=<rethinkdb.ast.RqlTzinfo object at 0x7f4d1c61e9b0>)}, 'virtual_panorama_segments': {'url': 'https://d35u71x3nb8v2y.cloudfront.net/f75295bb-c143-4472-a151-d849f9916e75/b5e093f3-f8e7-4643-a87a-d9a76256a735/playlist.m3u8', 'utc': datetime.datetime(2018, 5, 17, 16, 45, 41, 197000, tzinfo=<rethinkdb.ast.RqlTzinfo object at 0x7f4d1c61ec88>)}, 'goal_south_segments': {'url': 'https://d35u71x3nb8v2y.cloudfront.net/f75295bb-c143-4472-a151-d849f9916e75/c841f705-de34-4428-b56e-7c9803ab4eca/playlist.m3u8', 'utc': datetime.datetime(2018, 5, 17, 16, 45, 41, 143000, tzinfo=<rethinkdb.ast.RqlTzinfo object at 0x7f4d1c61eac8>)}, 'right': {'url': 'https://d35u71x3nb8v2y.cloudfront.net/f75295bb-c143-4472-a151-d849f9916e75/d8112841-7cf8-48ae-89ce-f327c282916c/playlist.m3u8', 'utc': datetime.datetime(2018, 5, 17, 16, 45, 41, 124000, tzinfo=<rethinkdb.ast.RqlTzinfo object at 0x7f4d1c61ea20>)}, 'goal_north_segments': {'url': 'https://d35u71x3nb8v2y.cloudfront.net/f75295bb-c143-4472-a151-d849f9916e75/9a7b8e83-dbc0-436b-a116-7f8d085057c2/playlist.m3u8', 'utc': datetime.datetime(2018, 5, 17, 16, 45, 41, 141000, tzinfo=<rethinkdb.ast.RqlTzinfo object at 0x7f4d1c61ea58>)}}, 'pitch_size': [105, 68], 'home_team': {'colors': {'team': '#5a9dde', 'goalkeeper': '#ffffff'}, 'logo_url': 'http://images.signality.com/team-logos/djurgarden.png', 'name': 'Djurgårdens IF'}, 'referees': {'colors': '#000000'}, 'competition': 'Allsvenskan', 'redis': {'host': 'redis', 'port': 6379}, 'rethinkdb': {'host': 'db.signality.com', 'user': 'game_viewer', 'db': 'livetrack', 'ssl': {'ca_certs': '/home/ubuntu/workspace/ironfist/ironfist/utils/../applications/livetrack/config/db.signality.cert.pem'}, 'password': 'MmPHrqmXaVeu', 'port': 28015}, 'nchan': {'url': 'http://nchan:8080'}, 'arena': 'Tele2 Arena', 'stats': [{'home_team': {'failed_passes': 163, 'possessing_team': 0, 'passes': 181, 'distance': 62777.64480394193, 'possession': 25067, 'packing': 260}, 'source': 'signality', 'phase': 1, 'away_team': {'failed_passes': 163, 'possessing_team': 1, 'passes': 191, 'distance': 60097.76136929008, 'possession': 23934, 'packing': 252}, 'utc_time': 1526579225125, 'match_time': 2822763}, {'home_team': {'failed_passes': 157, 'possessing_team': 0, 'passes': 147, 'distance': 62576.815733754884, 'possession': 20009, 'packing': 196}, 'source': 'signality', 'phase': 2, 'away_team': {'failed_passes': 158, 'possessing_team': 1, 'passes': 206, 'distance': 57684.92804763888, 'possession': 28384, 'packing': 240}, 'utc_time': 1526583124565, 'match_time': 2881674}], 'video_shape': [2160, 3840, 3], 'rdb': [{'key': '20180517.djurgårdens-if-örebro-sk.2.rdb', 'bucket': 'signality.soccer.backup', 'phase': 2}]}"
   ]
  },
  {
   "cell_type": "code",
   "execution_count": 10,
   "metadata": {},
   "outputs": [],
   "source": [
    "def select_time(time_list,detections):\n",
    "    l=list()\n",
    "    truth_list=list()\n",
    "    for i in range(len(time_list)):\n",
    "        truth_list.append(True)\n",
    "        if time_list[i] in detections['players']['left'] and time_list[i] in detections['players']['right']:\n",
    "            l.append([time_list[i],time_list[i]])\n",
    "            truth_list[i]=False\n",
    "        if i>0:\n",
    "            if time_list[i-1] in detections['players']['left'] and time_list[i] in detections['players']['right'] and truth_list[i] and truth_list[i-1] and time_list[i]-time_list[i-1]<=20:\n",
    "                l.append([time_list[i-1],time_list[i]])\n",
    "                truth_list[i]=False\n",
    "            if time_list[i] in detections['players']['left'] and time_list[i-1] in detections['players']['right'] and truth_list[i] and truth_list[i-1] and time_list[i]-time_list[i-1]<=20:\n",
    "                l.append([time_list[i],time_list[i-1]])\n",
    "                truth_list[i]=False\n",
    "    return l\n",
    "\n",
    "l=select_time(timestamps_list,detections)"
   ]
  },
  {
   "cell_type": "code",
   "execution_count": 11,
   "metadata": {},
   "outputs": [],
   "source": [
    "def players_grid(pitch_size,players):\n",
    "    grid=[0 for i in range(32)]\n",
    "    length=pitch_size[0]\n",
    "    width=pitch_size[1]\n",
    "    length_edge=length/8\n",
    "    width_edge=width/4\n",
    "    for i in range(len(players)):\n",
    "        k=0\n",
    "        j=0\n",
    "        if players[i][0]<=length and players[i][1]<=width:\n",
    "            while players[i][0]>(k+1)*length_edge:\n",
    "                k+=1\n",
    "            while players[i][1]>(j+1)*width_edge:\n",
    "                j+=1\n",
    "            grid[4*j+k]+=1\n",
    "    return grid\n",
    "\n",
    "def ball_grid(pitch_size,ball):\n",
    "    grid=[0 for i in range(35)]\n",
    "    length=pitch_size[0]\n",
    "    width=pitch_size[1]\n",
    "    length_edge=length/7\n",
    "    width_edge=width/5\n",
    "    for i in range(len(ball)):\n",
    "        k=0\n",
    "        j=0\n",
    "        if ball[i][0]<=length and ball[i][1]<=width:\n",
    "            while ball[i][0]>(k+1)*length_edge:\n",
    "                k+=1\n",
    "            while ball[i][1]>(j+1)*width_edge:\n",
    "                j+=1\n",
    "            grid[7*j+k]+=1\n",
    "    return grid"
   ]
  },
  {
   "cell_type": "code",
   "execution_count": 12,
   "metadata": {},
   "outputs": [],
   "source": [
    "def pitch_composition_t(time,detections,pitch_size):\n",
    "    compo=list()\n",
    "    if isinstance(detections['ball']['left'][time[0]],list):\n",
    "        compo=compo+ball_grid(pitch_size,detections['ball']['left'][time[0]])\n",
    "    if isinstance(detections['ball']['left'][time[0]],np.ndarray):\n",
    "        compo=compo+ball_grid(pitch_size,detections['ball']['left'][time[0]].tolist())\n",
    "        \n",
    "    if isinstance(detections['ball']['right'][time[1]],list):\n",
    "        compo=compo+ball_grid(pitch_size,detections['ball']['right'][time[1]])\n",
    "    if isinstance(detections['ball']['right'][time[1]],np.ndarray):\n",
    "        compo=compo+ball_grid(pitch_size,detections['ball']['right'][time[1]].tolist())\n",
    "    \n",
    "    if isinstance(detections['players']['left'][time[0]],list):\n",
    "        compo=compo+players_grid(pitch_size,detections['players']['left'][time[0]])\n",
    "    if isinstance(detections['players']['left'][time[0]],np.ndarray):\n",
    "        compo=compo+players_grid(pitch_size,detections['players']['left'][time[0]].tolist())\n",
    "        \n",
    "    if isinstance(detections['players']['right'][time[1]],list):\n",
    "        compo=compo+players_grid(pitch_size,detections['players']['right'][time[1]])\n",
    "    if isinstance(detections['players']['right'][time[1]],np.ndarray):\n",
    "        compo=compo+players_grid(pitch_size,detections['players']['right'][time[1]].tolist())\n",
    "    return compo\n",
    "    \n",
    "def pitch_composition(time_list,detections,pitch_size):\n",
    "    l=select_time(time_list,detections)\n",
    "    seq=list()\n",
    "    for i in range(len(l)):\n",
    "        seq.append(pitch_composition_t(l[i],detections,pitch_size))\n",
    "    return seq\n"
   ]
  },
  {
   "cell_type": "code",
   "execution_count": 13,
   "metadata": {},
   "outputs": [],
   "source": [
    "def movement_sequences(inputs,outputs):\n",
    "    inputs=np.array(inputs)\n",
    "    new_inputs=list()\n",
    "    new_outputs=list()\n",
    "    for i in range(len(outputs)-2):\n",
    "        new_inputs.append(inputs[i+1].tolist()+(inputs[i+1]-inputs[i]).tolist()+(inputs[i+2]-inputs[i]).tolist())\n",
    "        new_outputs.append(outputs[i+1])\n",
    "    return new_inputs,new_outputs\n",
    "\n",
    "def sequence_composition(time_list,detections,pitch_size,size_sequence,diminish_size):\n",
    "    sequences=list()\n",
    "    pitch_compo=pitch_composition(time_list,detections,pitch_size)\n",
    "    for i in range(0,len(pitch_compo)-size_sequence+1,diminish_size):\n",
    "        seq_t=list()\n",
    "        for j in range(0,size_sequence,diminish_size):\n",
    "            seq_t=seq_t+pitch_compo[i+j]\n",
    "        sequences.append(seq_t)\n",
    "    return sequences\n",
    "\n"
   ]
  },
  {
   "cell_type": "code",
   "execution_count": 14,
   "metadata": {},
   "outputs": [],
   "source": [
    "def labels(time_list,detections,pitch_size,size_sequence,diminish_size,kickoff_time):\n",
    "    l=select_time(time_list,detections)\n",
    "    y=list()\n",
    "    for i in range(0,len(l)-size_sequence+1,diminish_size):\n",
    "        if max(l[i][0],l[i][1])<=kickoff_time and kickoff_time+2000<=min(l[i+size_sequence-1][0],l[i+size_sequence-1][1]):\n",
    "            y.append(1)\n",
    "        else:\n",
    "            y.append(-1)\n",
    "    return y\n",
    "\n",
    "def reduce_size(X,Y,reduc_size):\n",
    "    compteur=0\n",
    "    new_X=list()\n",
    "    new_Y=list()\n",
    "    for i in range(len(X)):\n",
    "        if Y[i]==1:\n",
    "            new_Y.append(1)\n",
    "            new_X.append(X[i])\n",
    "            compteur=0\n",
    "        if Y[i]==-1:\n",
    "            compteur+=1\n",
    "        if compteur>=reduc_size:\n",
    "            compteur=0\n",
    "            new_Y.append(Y[i])\n",
    "            new_X.append(X[i])\n",
    "    return new_X,new_Y\n",
    "X=sequence_composition(timestamps_list,detections,pitch_size,250,25)\n",
    "Y=labels(timestamps_list,detections,pitch_size,250,25,kickoff_time_matched)\n",
    "X,Y=reduce_size(X,Y,10)"
   ]
  },
  {
   "cell_type": "code",
   "execution_count": 15,
   "metadata": {},
   "outputs": [],
   "source": [
    "tracks_name=['0281a840-f977-4e8a-86e2-eaf67845b528.1.kickoff.rdb','0d9e9e30-9d13-4af0-8e41-fe1669e9eeff.1.kickoff.rdb',\n",
    "            '19bebd81-3b61-492b-85ed-74ff887cbc45.1.kickoff.rdb','2281c504-baac-4d0b-8cb6-a95c23e3ac87.1.kickoff.rdb',\n",
    "            '27bea627-3caa-47ee-93c3-67f0e26f3034.1.kickoff.rdb','2b8bcfd6-5f57-46de-aacd-e932ac8e1697.1.kickoff.rdb',\n",
    "            '2dc12819-d486-4925-a0e2-b8ae9ff1aed5.1.kickoff.rdb','314f4989-398c-45a3-a74f-9f1adac71bf1.1.kickoff.rdb',\n",
    "            '3382a9d0-02ff-4f23-9748-1b715d85b731.1.kickoff.rdb','3c7f617c-c839-4e5a-9e80-52017fa85d93.1.kickoff.rdb',\n",
    "             '4be6ef54-2541-42d0-a334-e513a535029c.1.kickoff.rdb','57bf9b24-5c68-464f-9e74-20d0b2508bba.1.kickoff.rdb',\n",
    "            '58bc418b-cf05-415e-9dd1-6f4808535976.1.kickoff.rdb','5dcb4696-281c-4bff-9ec7-02322c1b4a67.1.kickoff.rdb',\n",
    "            '6e26f66b-a921-4919-9d7d-1bd59f935e78.1.kickoff.rdb','76d4b783-ae63-4c60-815f-6a81beef6451.1.kickoff.rdb',\n",
    "            '84e8b33c-d912-495e-9e21-84bdd18e0e04.1.kickoff.rdb','9e627901-09e2-4c84-bf77-6f0ec289fa5f.1.kickoff.rdb',\n",
    "             'a185c6c8-7383-4d19-927f-dc8f70726c34.1.kickoff.rdb','a5857e03-10b8-454a-89fb-c201985b04cb.1.kickoff.rdb',\n",
    "            'af42c9ca-ae8f-4d69-a671-15950883ecac.1.kickoff.rdb','b0cbf7ed-a9ce-4434-9e4d-072065ee61bc.1.kickoff.rdb',\n",
    "            'b4dbea7c-c72f-4dd6-b57c-8fb7b8b38eb5.1.kickoff.rdb','ba34fc2e-bdba-40d8-8cc8-a679c6eecd5a.1.kickoff.rdb',\n",
    "            'bff5f37c-be85-4f08-b6d4-a01e6c22fe0e.1.kickoff.rdb','c79d79f1-5f51-4595-b931-4719f91a4575.1.kickoff.rdb',\n",
    "            'cbcca433-ff77-4927-a5a3-36ff293c12fd.1.kickoff.rdb','cf16ebf4-49fc-4991-a9b8-b9a055dcf2b8.1.kickoff.rdb',\n",
    "             'f9f01fbf-6871-4303-b43f-29c2dd16909d.1.kickoff.rdb']        \n",
    "\n",
    "config_name=['0281a840-f977-4e8a-86e2-eaf67845b528.json','0d9e9e30-9d13-4af0-8e41-fe1669e9eeff.json',\n",
    "             '19bebd81-3b61-492b-85ed-74ff887cbc45.json','2281c504-baac-4d0b-8cb6-a95c23e3ac87.json',\n",
    "            '27bea627-3caa-47ee-93c3-67f0e26f3034.json','2b8bcfd6-5f57-46de-aacd-e932ac8e1697.json',\n",
    "             '2dc12819-d486-4925-a0e2-b8ae9ff1aed5.json','314f4989-398c-45a3-a74f-9f1adac71bf1.json',\n",
    "            '3382a9d0-02ff-4f23-9748-1b715d85b731.json','3c7f617c-c839-4e5a-9e80-52017fa85d93.json',\n",
    "            '4be6ef54-2541-42d0-a334-e513a535029c.json','57bf9b24-5c68-464f-9e74-20d0b2508bba.json',\n",
    "            '58bc418b-cf05-415e-9dd1-6f4808535976.json','5dcb4696-281c-4bff-9ec7-02322c1b4a67.json',\n",
    "            '6e26f66b-a921-4919-9d7d-1bd59f935e78.json','76d4b783-ae63-4c60-815f-6a81beef6451.json',\n",
    "            '84e8b33c-d912-495e-9e21-84bdd18e0e04.json','9e627901-09e2-4c84-bf77-6f0ec289fa5f.json',\n",
    "            'a185c6c8-7383-4d19-927f-dc8f70726c34.json','a5857e03-10b8-454a-89fb-c201985b04cb.json',\n",
    "            'af42c9ca-ae8f-4d69-a671-15950883ecac.json','b0cbf7ed-a9ce-4434-9e4d-072065ee61bc.json',\n",
    "            'b4dbea7c-c72f-4dd6-b57c-8fb7b8b38eb5.json','ba34fc2e-bdba-40d8-8cc8-a679c6eecd5a.json',\n",
    "            'bff5f37c-be85-4f08-b6d4-a01e6c22fe0e.json','c79d79f1-5f51-4595-b931-4719f91a4575.json',\n",
    "            'cbcca433-ff77-4927-a5a3-36ff293c12fd.json','cf16ebf4-49fc-4991-a9b8-b9a055dcf2b8.json',\n",
    "             'f9f01fbf-6871-4303-b43f-29c2dd16909d.json']          "
   ]
  },
  {
   "cell_type": "code",
   "execution_count": 16,
   "metadata": {},
   "outputs": [],
   "source": [
    "import pickle"
   ]
  },
  {
   "cell_type": "code",
   "execution_count": 17,
   "metadata": {},
   "outputs": [],
   "source": [
    "def create_dataset(tracks_name,config_name,file_name,reduc_size):\n",
    "    for i in range(len(tracks_name)):\n",
    "        tracks = parse_dump_file('../kickoff-detection-data/'+tracks_name[i])\n",
    "        config = json.load(open('../kickoff-detection-data/'+config_name[i], 'r'))\n",
    "        fd, ts = tracks['left'][0]\n",
    "        fd = pickle.loads(fd)\n",
    "        kickoff_1 = config['phase_events'][0]['ts']\n",
    "        kickoff_time = int(parse(kickoff_1).timestamp()*1000)\n",
    "        pitch_size=config['pitch_size']\n",
    "        detections = {'ball':{'left':{}, 'right':{}}, 'players':{'left':{}, 'right':{}}}\n",
    "        timestamps = set()\n",
    "        for (fd_left, ts_left), (fd_right, ts_right) in tqdm(zip(tracks['left'], tracks['right'])):\n",
    "            fd_left = pickle.loads(fd_left)\n",
    "            fd_right = pickle.loads(fd_right)\n",
    "            if np.abs(ts_left - ts_right) < 100:\n",
    "                ts_left = ts_right\n",
    "            timestamps.update({ts_left, ts_right})\n",
    "            detections['players']['left'][ts_left] = fd_left.top_view_player_positions\n",
    "            detections['players']['right'][ts_right] = fd_right.top_view_player_positions\n",
    "            detections['ball']['left'][ts_left] = np.array([bp for bp, bd in zip(fd_left.top_view_ball_positions, fd_left.ball_detections) if ball_ok(bp, bd)])\n",
    "            detections['ball']['right'][ts_right] = np.array([bp for bp, bd in zip(fd_right.top_view_ball_positions, fd_right.ball_detections) if ball_ok(bp, bd)])\n",
    "        timestamps_list = sorted(list(timestamps))\n",
    "        kickoff_time_ind = np.argmin(np.abs(np.subtract(timestamps_list, kickoff_time)))\n",
    "        kickoff_time_matched = timestamps_list[kickoff_time_ind]\n",
    "        \n",
    "        #Create inputs\n",
    "        X=sequence_composition(timestamps_list,detections,pitch_size,500,25)\n",
    "        Y=labels(timestamps_list,detections,pitch_size,500,25,kickoff_time_matched)\n",
    "        X,Y=movement_sequences(X,Y)\n",
    "        X,Y=reduce_size(X,Y,reduc_size)\n",
    "        print(len(X[0]),len(Y))\n",
    "        print(Y.count(1))\n",
    "        \n",
    "        #Create file\n",
    "        if i==0:\n",
    "            with open(file_name, 'wb') as f:\n",
    "                # Pickle the 'data' dictionary using the highest protocol available.\n",
    "                pickle.dump([X,Y], f)\n",
    "        if i>0:\n",
    "            with open(file_name, 'ab') as f:\n",
    "                # Pickle the 'data' dictionary using the highest protocol available.\n",
    "                pickle.dump([X,Y], f)\n",
    "            \n",
    "        "
   ]
  },
  {
   "cell_type": "code",
   "execution_count": 266,
   "metadata": {},
   "outputs": [
    {
     "name": "stderr",
     "output_type": "stream",
     "text": [
      "239it [00:00, 1186.65it/s]"
     ]
    },
    {
     "name": "stdout",
     "output_type": "stream",
     "text": [
      "Parsed ../kickoff-detection-data/0281a840-f977-4e8a-86e2-eaf67845b528.1.kickoff.rdb in 1.76 s.\n",
      "Contains keys: dict_keys(['left', 'right'])\n",
      "[left] start_ts: 1525015525720 | stop_ts: 1525016123520\n",
      "[right] start_ts: 1525015525634 | stop_ts: 1525016123474\n"
     ]
    },
    {
     "name": "stderr",
     "output_type": "stream",
     "text": [
      "14947it [00:08, 1699.13it/s]\n"
     ]
    },
    {
     "name": "stdout",
     "output_type": "stream",
     "text": [
      "8040 72\n",
      "18\n"
     ]
    },
    {
     "name": "stderr",
     "output_type": "stream",
     "text": [
      "487it [00:00, 2491.24it/s]"
     ]
    },
    {
     "name": "stdout",
     "output_type": "stream",
     "text": [
      "Parsed ../kickoff-detection-data/0d9e9e30-9d13-4af0-8e41-fe1669e9eeff.1.kickoff.rdb in 1.85 s.\n",
      "Contains keys: dict_keys(['left', 'right'])\n",
      "[left] start_ts: 1523192129517 | stop_ts: 1523192728157\n",
      "[right] start_ts: 1523192129071 | stop_ts: 1523192727911\n"
     ]
    },
    {
     "name": "stderr",
     "output_type": "stream",
     "text": [
      "14966it [00:08, 1744.40it/s]\n"
     ]
    },
    {
     "name": "stdout",
     "output_type": "stream",
     "text": [
      "8040 73\n",
      "18\n"
     ]
    },
    {
     "name": "stderr",
     "output_type": "stream",
     "text": [
      "405it [00:00, 2107.52it/s]"
     ]
    },
    {
     "name": "stdout",
     "output_type": "stream",
     "text": [
      "Parsed ../kickoff-detection-data/19bebd81-3b61-492b-85ed-74ff887cbc45.1.kickoff.rdb in 1.97 s.\n",
      "Contains keys: dict_keys(['left', 'right'])\n",
      "[left] start_ts: 1522587371575 | stop_ts: 1522587969015\n",
      "[right] start_ts: 1522587371411 | stop_ts: 1522587968931\n"
     ]
    },
    {
     "name": "stderr",
     "output_type": "stream",
     "text": [
      "14937it [00:08, 1785.78it/s]\n"
     ]
    },
    {
     "name": "stdout",
     "output_type": "stream",
     "text": [
      "8040 72\n",
      "18\n"
     ]
    },
    {
     "name": "stderr",
     "output_type": "stream",
     "text": [
      "400it [00:00, 3993.02it/s]"
     ]
    },
    {
     "name": "stdout",
     "output_type": "stream",
     "text": [
      "Parsed ../kickoff-detection-data/2281c504-baac-4d0b-8cb6-a95c23e3ac87.1.kickoff.rdb in 1.10 s.\n",
      "Contains keys: dict_keys(['left', 'right'])\n",
      "[left] start_ts: 1525096495433 | stop_ts: 1525097093953\n",
      "[right] start_ts: 1525096495413 | stop_ts: 1525097093933\n"
     ]
    },
    {
     "name": "stderr",
     "output_type": "stream",
     "text": [
      "14964it [00:05, 2680.82it/s]\n"
     ]
    },
    {
     "name": "stdout",
     "output_type": "stream",
     "text": [
      "8040 73\n",
      "18\n"
     ]
    },
    {
     "name": "stderr",
     "output_type": "stream",
     "text": [
      "452it [00:00, 2251.61it/s]"
     ]
    },
    {
     "name": "stdout",
     "output_type": "stream",
     "text": [
      "Parsed ../kickoff-detection-data/27bea627-3caa-47ee-93c3-67f0e26f3034.1.kickoff.rdb in 1.79 s.\n",
      "Contains keys: dict_keys(['left', 'right'])\n",
      "[left] start_ts: 1523796958381 | stop_ts: 1523797557661\n",
      "[right] start_ts: 1523796957851 | stop_ts: 1523797557411\n"
     ]
    },
    {
     "name": "stderr",
     "output_type": "stream",
     "text": [
      "14984it [00:08, 1792.82it/s]\n"
     ]
    },
    {
     "name": "stdout",
     "output_type": "stream",
     "text": [
      "8040 73\n",
      "18\n"
     ]
    },
    {
     "name": "stderr",
     "output_type": "stream",
     "text": [
      "758it [00:00, 3647.85it/s]"
     ]
    },
    {
     "name": "stdout",
     "output_type": "stream",
     "text": [
      "Parsed ../kickoff-detection-data/2b8bcfd6-5f57-46de-aacd-e932ac8e1697.1.kickoff.rdb in 1.54 s.\n",
      "Contains keys: dict_keys(['left', 'right'])\n",
      "[left] start_ts: 1523201092829 | stop_ts: 1523201692349\n",
      "[right] start_ts: 1523201094061 | stop_ts: 1523201692981\n"
     ]
    },
    {
     "name": "stderr",
     "output_type": "stream",
     "text": [
      "14951it [00:08, 1864.09it/s]\n"
     ]
    },
    {
     "name": "stdout",
     "output_type": "stream",
     "text": [
      "8040 73\n",
      "18\n"
     ]
    },
    {
     "name": "stderr",
     "output_type": "stream",
     "text": [
      "258it [00:00, 1283.54it/s]"
     ]
    },
    {
     "name": "stdout",
     "output_type": "stream",
     "text": [
      "Parsed ../kickoff-detection-data/2dc12819-d486-4925-a0e2-b8ae9ff1aed5.1.kickoff.rdb in 1.99 s.\n",
      "Contains keys: dict_keys(['left', 'right'])\n",
      "[left] start_ts: 1523192332019 | stop_ts: 1523192929339\n",
      "[right] start_ts: 1523192332775 | stop_ts: 1523192929695\n"
     ]
    },
    {
     "name": "stderr",
     "output_type": "stream",
     "text": [
      "14925it [00:09, 1629.73it/s]\n"
     ]
    },
    {
     "name": "stdout",
     "output_type": "stream",
     "text": [
      "8040 72\n",
      "18\n"
     ]
    },
    {
     "name": "stderr",
     "output_type": "stream",
     "text": [
      "119it [00:00, 1186.14it/s]"
     ]
    },
    {
     "name": "stdout",
     "output_type": "stream",
     "text": [
      "Parsed ../kickoff-detection-data/314f4989-398c-45a3-a74f-9f1adac71bf1.1.kickoff.rdb in 1.80 s.\n",
      "Contains keys: dict_keys(['left', 'right'])\n",
      "[left] start_ts: 1522587361524 | stop_ts: 1522587961404\n",
      "[right] start_ts: 1522587361602 | stop_ts: 1522587961442\n"
     ]
    },
    {
     "name": "stderr",
     "output_type": "stream",
     "text": [
      "14908it [00:08, 1859.05it/s]\n"
     ]
    },
    {
     "name": "stdout",
     "output_type": "stream",
     "text": [
      "8040 73\n",
      "18\n"
     ]
    },
    {
     "name": "stderr",
     "output_type": "stream",
     "text": [
      "145it [00:00, 1449.02it/s]"
     ]
    },
    {
     "name": "stdout",
     "output_type": "stream",
     "text": [
      "Parsed ../kickoff-detection-data/3382a9d0-02ff-4f23-9748-1b715d85b731.1.kickoff.rdb in 2.28 s.\n",
      "Contains keys: dict_keys(['left', 'right'])\n",
      "[left] start_ts: 1523805900082 | stop_ts: 1523806498882\n",
      "[right] start_ts: 1523805900650 | stop_ts: 1523806499170\n"
     ]
    },
    {
     "name": "stderr",
     "output_type": "stream",
     "text": [
      "14963it [00:10, 1406.47it/s]\n"
     ]
    },
    {
     "name": "stdout",
     "output_type": "stream",
     "text": [
      "8040 72\n",
      "18\n"
     ]
    },
    {
     "name": "stderr",
     "output_type": "stream",
     "text": [
      "822it [00:00, 4228.65it/s]"
     ]
    },
    {
     "name": "stdout",
     "output_type": "stream",
     "text": [
      "Parsed ../kickoff-detection-data/3c7f617c-c839-4e5a-9e80-52017fa85d93.1.kickoff.rdb in 1.47 s.\n",
      "Contains keys: dict_keys(['left', 'right'])\n",
      "[left] start_ts: 1525006516949 | stop_ts: 1525007115789\n",
      "[right] start_ts: 1525006516933 | stop_ts: 1525007115773\n"
     ]
    },
    {
     "name": "stderr",
     "output_type": "stream",
     "text": [
      "14972it [00:07, 2034.08it/s]\n"
     ]
    },
    {
     "name": "stdout",
     "output_type": "stream",
     "text": [
      "8040 73\n",
      "18\n"
     ]
    },
    {
     "name": "stderr",
     "output_type": "stream",
     "text": [
      "319it [00:00, 3185.87it/s]"
     ]
    },
    {
     "name": "stdout",
     "output_type": "stream",
     "text": [
      "Parsed ../kickoff-detection-data/4be6ef54-2541-42d0-a334-e513a535029c.1.kickoff.rdb in 1.58 s.\n",
      "Contains keys: dict_keys(['left', 'right'])\n",
      "[left] start_ts: 1523714121022 | stop_ts: 1523714720662\n",
      "[right] start_ts: 1523714121038 | stop_ts: 1523714720678\n"
     ]
    },
    {
     "name": "stderr",
     "output_type": "stream",
     "text": [
      "14991it [00:08, 1793.65it/s]\n"
     ]
    },
    {
     "name": "stdout",
     "output_type": "stream",
     "text": [
      "8040 74\n",
      "18\n"
     ]
    },
    {
     "name": "stderr",
     "output_type": "stream",
     "text": [
      "228it [00:00, 1116.62it/s]"
     ]
    },
    {
     "name": "stdout",
     "output_type": "stream",
     "text": [
      "Parsed ../kickoff-detection-data/57bf9b24-5c68-464f-9e74-20d0b2508bba.1.kickoff.rdb in 1.90 s.\n",
      "Contains keys: dict_keys(['left', 'right'])\n",
      "[left] start_ts: 1524070530135 | stop_ts: 1524071127975\n",
      "[right] start_ts: 1524070530793 | stop_ts: 1524071128313\n"
     ]
    },
    {
     "name": "stderr",
     "output_type": "stream",
     "text": [
      "14939it [00:09, 1594.36it/s]\n"
     ]
    },
    {
     "name": "stdout",
     "output_type": "stream",
     "text": [
      "8040 72\n",
      "18\n"
     ]
    },
    {
     "name": "stderr",
     "output_type": "stream",
     "text": [
      "262it [00:00, 1270.29it/s]"
     ]
    },
    {
     "name": "stdout",
     "output_type": "stream",
     "text": [
      "Parsed ../kickoff-detection-data/58bc418b-cf05-415e-9dd1-6f4808535976.1.kickoff.rdb in 1.76 s.\n",
      "Contains keys: dict_keys(['left', 'right'])\n",
      "[left] start_ts: 1523292956846 | stop_ts: 1523293556726\n",
      "[right] start_ts: 1523292957288 | stop_ts: 1523293556968\n"
     ]
    },
    {
     "name": "stderr",
     "output_type": "stream",
     "text": [
      "14992it [00:08, 1797.60it/s]\n"
     ]
    },
    {
     "name": "stdout",
     "output_type": "stream",
     "text": [
      "8040 73\n",
      "18\n"
     ]
    },
    {
     "name": "stderr",
     "output_type": "stream",
     "text": [
      "402it [00:00, 1972.38it/s]"
     ]
    },
    {
     "name": "stdout",
     "output_type": "stream",
     "text": [
      "Parsed ../kickoff-detection-data/5dcb4696-281c-4bff-9ec7-02322c1b4a67.1.kickoff.rdb in 1.97 s.\n",
      "Contains keys: dict_keys(['left', 'right'])\n",
      "[left] start_ts: 1525015503674 | stop_ts: 1525016102514\n",
      "[right] start_ts: 1525015503710 | stop_ts: 1525016102510\n"
     ]
    },
    {
     "name": "stderr",
     "output_type": "stream",
     "text": [
      "14971it [00:08, 1755.58it/s]\n"
     ]
    },
    {
     "name": "stdout",
     "output_type": "stream",
     "text": [
      "8040 73\n",
      "18\n"
     ]
    },
    {
     "name": "stderr",
     "output_type": "stream",
     "text": [
      "228it [00:00, 1133.00it/s]"
     ]
    },
    {
     "name": "stdout",
     "output_type": "stream",
     "text": [
      "Parsed ../kickoff-detection-data/6e26f66b-a921-4919-9d7d-1bd59f935e78.1.kickoff.rdb in 1.69 s.\n",
      "Contains keys: dict_keys(['left', 'right'])\n",
      "[left] start_ts: 1523638587613 | stop_ts: 1523639186133\n",
      "[right] start_ts: 1523638586979 | stop_ts: 1523639185819\n"
     ]
    },
    {
     "name": "stderr",
     "output_type": "stream",
     "text": [
      "14963it [00:08, 1782.06it/s]\n"
     ]
    },
    {
     "name": "stdout",
     "output_type": "stream",
     "text": [
      "8040 73\n",
      "18\n"
     ]
    },
    {
     "name": "stderr",
     "output_type": "stream",
     "text": [
      "82it [00:00, 818.91it/s]"
     ]
    },
    {
     "name": "stdout",
     "output_type": "stream",
     "text": [
      "Parsed ../kickoff-detection-data/76d4b783-ae63-4c60-815f-6a81beef6451.1.kickoff.rdb in 1.86 s.\n",
      "Contains keys: dict_keys(['left', 'right'])\n",
      "[left] start_ts: 1523109442596 | stop_ts: 1523110041116\n",
      "[right] start_ts: 1523109442628 | stop_ts: 1523110041148\n"
     ]
    },
    {
     "name": "stderr",
     "output_type": "stream",
     "text": [
      "14963it [00:09, 1574.12it/s]\n"
     ]
    },
    {
     "name": "stdout",
     "output_type": "stream",
     "text": [
      "8040 73\n",
      "18\n"
     ]
    },
    {
     "name": "stderr",
     "output_type": "stream",
     "text": [
      "538it [00:00, 2789.74it/s]"
     ]
    },
    {
     "name": "stdout",
     "output_type": "stream",
     "text": [
      "Parsed ../kickoff-detection-data/84e8b33c-d912-495e-9e21-84bdd18e0e04.1.kickoff.rdb in 1.62 s.\n",
      "Contains keys: dict_keys(['left', 'right'])\n",
      "[left] start_ts: 1523638501659 | stop_ts: 1523639099539\n",
      "[right] start_ts: 1523638502169 | stop_ts: 1523639099769\n"
     ]
    },
    {
     "name": "stderr",
     "output_type": "stream",
     "text": [
      "14940it [00:07, 1981.79it/s]\n"
     ]
    },
    {
     "name": "stdout",
     "output_type": "stream",
     "text": [
      "8040 72\n",
      "18\n"
     ]
    },
    {
     "name": "stderr",
     "output_type": "stream",
     "text": [
      "231it [00:00, 2304.31it/s]"
     ]
    },
    {
     "name": "stdout",
     "output_type": "stream",
     "text": [
      "Parsed ../kickoff-detection-data/9e627901-09e2-4c84-bf77-6f0ec289fa5f.1.kickoff.rdb in 1.62 s.\n",
      "Contains keys: dict_keys(['left', 'right'])\n",
      "[left] start_ts: 1522682846069 | stop_ts: 1522683445869\n",
      "[right] start_ts: 1522682845973 | stop_ts: 1522683445853\n"
     ]
    },
    {
     "name": "stderr",
     "output_type": "stream",
     "text": [
      "14997it [00:06, 2438.82it/s]\n"
     ]
    },
    {
     "name": "stdout",
     "output_type": "stream",
     "text": [
      "8040 74\n",
      "18\n"
     ]
    },
    {
     "name": "stderr",
     "output_type": "stream",
     "text": [
      "254it [00:00, 1277.63it/s]"
     ]
    },
    {
     "name": "stdout",
     "output_type": "stream",
     "text": [
      "Parsed ../kickoff-detection-data/a185c6c8-7383-4d19-927f-dc8f70726c34.1.kickoff.rdb in 2.24 s.\n",
      "Contains keys: dict_keys(['left', 'right'])\n",
      "[left] start_ts: 1523897795243 | stop_ts: 1523898395043\n",
      "[right] start_ts: 1523897795697 | stop_ts: 1523898395297\n"
     ]
    },
    {
     "name": "stderr",
     "output_type": "stream",
     "text": [
      "14991it [00:10, 1371.65it/s]\n"
     ]
    },
    {
     "name": "stdout",
     "output_type": "stream",
     "text": [
      "8040 73\n",
      "18\n"
     ]
    },
    {
     "name": "stderr",
     "output_type": "stream",
     "text": [
      "181it [00:00, 867.86it/s]"
     ]
    },
    {
     "name": "stdout",
     "output_type": "stream",
     "text": [
      "Parsed ../kickoff-detection-data/a5857e03-10b8-454a-89fb-c201985b04cb.1.kickoff.rdb in 1.42 s.\n",
      "Contains keys: dict_keys(['left', 'right'])\n",
      "[left] start_ts: 1523379375938 | stop_ts: 1523379974138\n",
      "[right] start_ts: 1523379375326 | stop_ts: 1523379973846\n"
     ]
    },
    {
     "name": "stderr",
     "output_type": "stream",
     "text": [
      "14955it [00:06, 2181.51it/s]\n"
     ]
    },
    {
     "name": "stdout",
     "output_type": "stream",
     "text": [
      "8040 73\n",
      "18\n"
     ]
    },
    {
     "name": "stderr",
     "output_type": "stream",
     "text": [
      "261it [00:00, 1295.56it/s]"
     ]
    },
    {
     "name": "stdout",
     "output_type": "stream",
     "text": [
      "Parsed ../kickoff-detection-data/af42c9ca-ae8f-4d69-a671-15950883ecac.1.kickoff.rdb in 2.26 s.\n",
      "Contains keys: dict_keys(['left', 'right'])\n",
      "[left] start_ts: 1524923719596 | stop_ts: 1524924319436\n",
      "[right] start_ts: 1524923719612 | stop_ts: 1524924319452\n"
     ]
    },
    {
     "name": "stderr",
     "output_type": "stream",
     "text": [
      "14997it [00:10, 1476.01it/s]\n"
     ]
    },
    {
     "name": "stdout",
     "output_type": "stream",
     "text": [
      "8040 73\n",
      "18\n"
     ]
    },
    {
     "name": "stderr",
     "output_type": "stream",
     "text": [
      "793it [00:00, 4122.08it/s]"
     ]
    },
    {
     "name": "stdout",
     "output_type": "stream",
     "text": [
      "Parsed ../kickoff-detection-data/b0cbf7ed-a9ce-4434-9e4d-072065ee61bc.1.kickoff.rdb in 1.36 s.\n",
      "Contains keys: dict_keys(['left', 'right'])\n",
      "[left] start_ts: 1523706904558 | stop_ts: 1523707503158\n",
      "[right] start_ts: 1523706912088 | stop_ts: 1523707510928\n"
     ]
    },
    {
     "name": "stderr",
     "output_type": "stream",
     "text": [
      "14966it [00:05, 2508.08it/s]\n"
     ]
    },
    {
     "name": "stdout",
     "output_type": "stream",
     "text": [
      "8040 72\n",
      "18\n"
     ]
    },
    {
     "name": "stderr",
     "output_type": "stream",
     "text": [
      "347it [00:00, 1673.74it/s]"
     ]
    },
    {
     "name": "stdout",
     "output_type": "stream",
     "text": [
      "Parsed ../kickoff-detection-data/b4dbea7c-c72f-4dd6-b57c-8fb7b8b38eb5.1.kickoff.rdb in 2.20 s.\n",
      "Contains keys: dict_keys(['left', 'right'])\n",
      "[left] start_ts: 1524070510939 | stop_ts: 1524071110739\n",
      "[right] start_ts: 1524070510889 | stop_ts: 1524071110729\n"
     ]
    },
    {
     "name": "stderr",
     "output_type": "stream",
     "text": [
      "14996it [00:10, 1482.62it/s]\n"
     ]
    },
    {
     "name": "stdout",
     "output_type": "stream",
     "text": [
      "8040 73\n",
      "18\n"
     ]
    },
    {
     "name": "stderr",
     "output_type": "stream",
     "text": [
      "158it [00:00, 570.86it/s]"
     ]
    },
    {
     "name": "stdout",
     "output_type": "stream",
     "text": [
      "Parsed ../kickoff-detection-data/ba34fc2e-bdba-40d8-8cc8-a679c6eecd5a.1.kickoff.rdb in 1.39 s.\n",
      "Contains keys: dict_keys(['left', 'right'])\n",
      "[left] start_ts: 1522596366681 | stop_ts: 1522596965521\n",
      "[right] start_ts: 1522596366671 | stop_ts: 1522596965511\n"
     ]
    },
    {
     "name": "stderr",
     "output_type": "stream",
     "text": [
      "14972it [00:06, 2157.63it/s]\n"
     ]
    },
    {
     "name": "stdout",
     "output_type": "stream",
     "text": [
      "8040 73\n",
      "18\n"
     ]
    },
    {
     "name": "stderr",
     "output_type": "stream",
     "text": [
      "380it [00:00, 3790.91it/s]"
     ]
    },
    {
     "name": "stdout",
     "output_type": "stream",
     "text": [
      "Parsed ../kickoff-detection-data/bff5f37c-be85-4f08-b6d4-a01e6c22fe0e.1.kickoff.rdb in 1.62 s.\n",
      "Contains keys: dict_keys(['left', 'right'])\n",
      "[left] start_ts: 1523984148353 | stop_ts: 1523984746873\n",
      "[right] start_ts: 1523984147529 | stop_ts: 1523984746449\n"
     ]
    },
    {
     "name": "stderr",
     "output_type": "stream",
     "text": [
      "14964it [00:08, 1866.19it/s]\n"
     ]
    },
    {
     "name": "stdout",
     "output_type": "stream",
     "text": [
      "8040 73\n",
      "18\n"
     ]
    },
    {
     "name": "stderr",
     "output_type": "stream",
     "text": [
      "\r",
      "0it [00:00, ?it/s]"
     ]
    },
    {
     "name": "stdout",
     "output_type": "stream",
     "text": [
      "Parsed ../kickoff-detection-data/c79d79f1-5f51-4595-b931-4719f91a4575.1.kickoff.rdb in 1.74 s.\n",
      "Contains keys: dict_keys(['left', 'right'])\n",
      "[left] start_ts: 1525103807965 | stop_ts: 1525104404805\n",
      "[right] start_ts: 1525103808005 | stop_ts: 1525104404845\n"
     ]
    },
    {
     "name": "stderr",
     "output_type": "stream",
     "text": [
      "14922it [00:07, 1866.04it/s]\n"
     ]
    },
    {
     "name": "stdout",
     "output_type": "stream",
     "text": [
      "8040 72\n",
      "18\n"
     ]
    },
    {
     "name": "stderr",
     "output_type": "stream",
     "text": [
      "384it [00:00, 3831.45it/s]"
     ]
    },
    {
     "name": "stdout",
     "output_type": "stream",
     "text": [
      "Parsed ../kickoff-detection-data/cbcca433-ff77-4927-a5a3-36ff293c12fd.1.kickoff.rdb in 1.34 s.\n",
      "Contains keys: dict_keys(['left', 'right'])\n",
      "[left] start_ts: 1523292948088 | stop_ts: 1523293544248\n",
      "[right] start_ts: 1523292936370 | stop_ts: 1523293534370\n"
     ]
    },
    {
     "name": "stderr",
     "output_type": "stream",
     "text": [
      "14861it [00:06, 2426.72it/s]\n"
     ]
    },
    {
     "name": "stdout",
     "output_type": "stream",
     "text": [
      "8040 71\n",
      "18\n"
     ]
    },
    {
     "name": "stderr",
     "output_type": "stream",
     "text": [
      "248it [00:00, 1202.60it/s]"
     ]
    },
    {
     "name": "stdout",
     "output_type": "stream",
     "text": [
      "Parsed ../kickoff-detection-data/cf16ebf4-49fc-4991-a9b8-b9a055dcf2b8.1.kickoff.rdb in 1.78 s.\n",
      "Contains keys: dict_keys(['left', 'right'])\n",
      "[left] start_ts: 1525006796874 | stop_ts: 1525007393674\n",
      "[right] start_ts: 1525006796888 | stop_ts: 1525007393688\n"
     ]
    },
    {
     "name": "stderr",
     "output_type": "stream",
     "text": [
      "14921it [00:08, 1847.01it/s]\n"
     ]
    },
    {
     "name": "stdout",
     "output_type": "stream",
     "text": [
      "8040 72\n",
      "18\n"
     ]
    },
    {
     "name": "stderr",
     "output_type": "stream",
     "text": [
      "413it [00:00, 2032.07it/s]"
     ]
    },
    {
     "name": "stdout",
     "output_type": "stream",
     "text": [
      "Parsed ../kickoff-detection-data/f9f01fbf-6871-4303-b43f-29c2dd16909d.1.kickoff.rdb in 1.85 s.\n",
      "Contains keys: dict_keys(['left', 'right'])\n",
      "[left] start_ts: 1522673702294 | stop_ts: 1522674302134\n",
      "[right] start_ts: 1522673702216 | stop_ts: 1522674302096\n"
     ]
    },
    {
     "name": "stderr",
     "output_type": "stream",
     "text": [
      "14996it [00:08, 1751.73it/s]\n"
     ]
    },
    {
     "name": "stdout",
     "output_type": "stream",
     "text": [
      "8040 73\n",
      "18\n"
     ]
    }
   ],
   "source": [
    "create_dataset(tracks_name,config_name,'../kickoff-detection-data/data.pickle_reduce10movaccbis',10)"
   ]
  },
  {
   "cell_type": "code",
   "execution_count": 18,
   "metadata": {},
   "outputs": [],
   "source": [
    "import random\n",
    "\n",
    "def shuffle_data(X,Y):\n",
    "    shuffle_list=list()\n",
    "    shuffle_X=list()\n",
    "    shuffle_Y=list()\n",
    "    for i in range(len(Y)):\n",
    "        shuffle_list.append([X[i],Y[i]])\n",
    "    random.shuffle(shuffle_list)\n",
    "    for i in range(len(Y)):\n",
    "        shuffle_X.append(shuffle_list[i][0])\n",
    "        shuffle_Y.append(shuffle_list[i][1])\n",
    "    return shuffle_X,shuffle_Y\n",
    "\n",
    "def sequence_kickoff_time(Y):\n",
    "    kickoff_match_i=list()\n",
    "    kickoff_periods=list()\n",
    "    for i in range(len(Y)):\n",
    "        if Y[i]==-1 and len(kickoff_match_i)>0:\n",
    "            kickoff_periods.append(kickoff_match_i)\n",
    "            kickoff_match_i=list()\n",
    "        if Y[i]==1:\n",
    "            kickoff_match_i.append(i)\n",
    "    if len(kickoff_match_i)>0:\n",
    "        kickoff_periods.append(kickoff_match_i)\n",
    "    return kickoff_periods\n",
    "\n"
   ]
  },
  {
   "cell_type": "code",
   "execution_count": 19,
   "metadata": {},
   "outputs": [],
   "source": [
    "from sklearn.ensemble import AdaBoostClassifier, GradientBoostingClassifier, RandomForestClassifier\n",
    "from sklearn.svm import SVC, LinearSVC\n",
    "from sklearn.neighbors import NearestNeighbors\n",
    "from sklearn.tree import DecisionTreeClassifier\n",
    "from datetime import datetime\n",
    "def cross_validation(X,Y,name_classifier,percentage_train,nbre_matches,indices,type_cross):\n",
    "    score_test=0\n",
    "    score_train=0\n",
    "    start=datetime.now()\n",
    "    for i in range(nbre_matches):\n",
    "        start_i=datetime.now()\n",
    "        #Create training and test datasets\n",
    "        x_train1=X[indices[i]:indices[min(i+int(nbre_matches*percentage_train),nbre_matches)]]+X[:indices[max(0,i+int(nbre_matches*percentage_train)-nbre_matches)]]\n",
    "        y_train1=Y[indices[i]:indices[min(i+int(nbre_matches*percentage_train),nbre_matches)]]+Y[:indices[max(0,i+int(nbre_matches*percentage_train)-nbre_matches)]]\n",
    "        x_test1=X[indices[min(i+int(nbre_matches*percentage_train),nbre_matches)]:]+X[indices[max(0,i+int(nbre_matches*percentage_train)-nbre_matches)]:indices[i]]\n",
    "        y_test1=Y[indices[min(i+int(nbre_matches*percentage_train),nbre_matches)]:]+Y[indices[max(0,i+int(nbre_matches*percentage_train)-nbre_matches)]:indices[i]]\n",
    "        \n",
    "        \n",
    "        #Cross_validation kickoff\n",
    "        if type_cross==\"kickoff\":\n",
    "            kickoff_indices=sequence_kickoff_time(y_test1)\n",
    "            x_test2=list()\n",
    "            y_test2=list()\n",
    "            for j in range(len(kickoff_indices)):\n",
    "                y_test2=y_test2+y_test1[kickoff_indices[j][0]:kickoff_indices[j][-1]+1]\n",
    "                x_test2=x_test2+x_test1[kickoff_indices[j][0]:kickoff_indices[j][-1]+1]\n",
    "            y_test=y_test2\n",
    "            x_test=x_test2\n",
    "        \n",
    "        if type_cross==\"no kickoff\":\n",
    "            kickoff_indices=sequence_kickoff_time(y_test1)\n",
    "            x_test2=list()\n",
    "            y_test2=list()\n",
    "            for j in range(len(kickoff_indices)):\n",
    "                if j==0:\n",
    "                    y_test2=y_test1[:kickoff_indices[j][0]]\n",
    "                    x_test2=x_test1[:kickoff_indices[j][0]]\n",
    "                if j>0:\n",
    "                    y_test2=y_test2+y_test1[kickoff_indices[j-1][-1]+1:kickoff_indices[j][0]]\n",
    "                    x_test2=x_test2+x_test1[kickoff_indices[j-1][-1]+1:kickoff_indices[j][0]]\n",
    "                if j==len(kickoff_indices)-1:\n",
    "                    y_test2=y_test2+y_test1[kickoff_indices[j][-1]+1:]\n",
    "                    x_test2=x_test2+x_test1[kickoff_indices[j][-1]+1:]\n",
    "            y_test=y_test2\n",
    "            x_test=x_test2\n",
    "            \n",
    "        #Shuffle data\n",
    "        x_train,y_train=shuffle_data(x_train1,y_train1)\n",
    "        #x_test,y_test=shuffle_data(x_test1,y_test1)\n",
    "        \n",
    "        #Training classifier\n",
    "        if name_classifier=='adaboost':\n",
    "            clf=AdaBoostClassifier()\n",
    "            clf.fit(x_train,y_train)\n",
    "        if name_classifier=='gradaboost':\n",
    "            clf=GradientBoostingClassifier()\n",
    "            clf.fit(x_train,y_train)\n",
    "        if name_classifier=='svm':\n",
    "            clf=SVC()\n",
    "            clf.fit(x_train,y_train)\n",
    "        if name_classifier=='linear_svm':\n",
    "            clf=LinearSVC()\n",
    "            clf.fit(x_train,y_train)\n",
    "        if name_classifier=='knn':\n",
    "            clf=NearestNeighbors()\n",
    "            clf.fit(x_train,y_train)\n",
    "        if name_classifier=='tree':\n",
    "            clf=DecisionTreeClassifier()\n",
    "            clf.fit(x_train,y_train)\n",
    "        if name_classifier=='forest':\n",
    "            clf=RandomForestClassifier(n_estimators=7,max_depth=20)\n",
    "            clf.fit(x_train,y_train)\n",
    "        end_i=datetime.now()\n",
    "        #Test\n",
    "        #print(clf.predict(x_test)*np.array(y_test))\n",
    "        score_test+=clf.score(x_test,y_test)\n",
    "        score_train+=clf.score(x_train,y_train)\n",
    "        print(\"Score for training for iteration {0} is {1}\".format(i,clf.score(x_train,y_train)))\n",
    "        print(\"Score for testing for iteration {0} is {1}\".format(i,clf.score(x_test,y_test)))\n",
    "        print(\"Training time: {0}\".format(end_i-start_i))\n",
    "        print(\"\\n\")\n",
    "    \n",
    "    end=datetime.now()\n",
    "    print(\"Final Score train: {0}\".format(score_train/nbre_matches))\n",
    "    print(\"Final Score test: {0}\".format(score_test/nbre_matches))\n",
    "    print(\"Cross validation time: {0}\".format(end-start))\n",
    "        \n",
    "        \n",
    "        \n",
    "def Classification(dataset,percentage_train,name_classifier,nbre_matches,type_cross=\"\"):\n",
    "    #Create inputs\n",
    "    X=list()\n",
    "    Y=list()\n",
    "    indices=[0]\n",
    "    with open(dataset, 'rb') as f:\n",
    "        for i in range(nbre_matches):\n",
    "            data = pickle.load(f)\n",
    "            X=X+data[0]\n",
    "            Y=Y+data[1]\n",
    "            indices.append(len(Y))\n",
    "    cross_validation(X,Y,name_classifier,percentage_train,nbre_matches,indices,type_cross)\n",
    "\n",
    "    \n",
    "\n"
   ]
  },
  {
   "cell_type": "code",
   "execution_count": 20,
   "metadata": {},
   "outputs": [
    {
     "name": "stdout",
     "output_type": "stream",
     "text": [
      "Score for training for iteration 0 is 0.9933367503844183\n",
      "Score for testing for iteration 0 is 0.7857142857142857\n",
      "Training time: 0:00:01.352532\n",
      "\n",
      "\n",
      "Score for training for iteration 1 is 0.9953869810353665\n",
      "Score for testing for iteration 1 is 0.07142857142857142\n",
      "Training time: 0:00:01.268563\n",
      "\n",
      "\n",
      "Score for training for iteration 2 is 0.9943618657098924\n",
      "Score for testing for iteration 2 is 0.0\n",
      "Training time: 0:00:01.236200\n",
      "\n",
      "\n",
      "Score for training for iteration 3 is 0.9969246540235777\n",
      "Score for testing for iteration 3 is 0.6428571428571429\n",
      "Training time: 0:00:01.244493\n",
      "\n",
      "\n",
      "Score for training for iteration 4 is 0.9979497693490518\n",
      "Score for testing for iteration 4 is 0.0\n",
      "Training time: 0:00:01.264804\n",
      "\n",
      "\n",
      "Score for training for iteration 5 is 0.9969246540235777\n",
      "Score for testing for iteration 5 is 1.0\n",
      "Training time: 0:00:01.256242\n",
      "\n",
      "\n",
      "Score for training for iteration 6 is 0.9959016393442623\n",
      "Score for testing for iteration 6 is 0.35714285714285715\n",
      "Training time: 0:00:01.243832\n",
      "\n",
      "\n",
      "Score for training for iteration 7 is 0.9969262295081968\n",
      "Score for testing for iteration 7 is 1.0\n",
      "Training time: 0:00:01.258447\n",
      "\n",
      "\n",
      "Score for training for iteration 8 is 0.9974385245901639\n",
      "Score for testing for iteration 8 is 0.6428571428571429\n",
      "Training time: 0:00:01.257954\n",
      "\n",
      "\n",
      "Score for training for iteration 9 is 0.9964120963608406\n",
      "Score for testing for iteration 9 is 0.21428571428571427\n",
      "Training time: 0:00:01.259449\n",
      "\n",
      "\n",
      "Score for training for iteration 10 is 0.9958995386981035\n",
      "Score for testing for iteration 10 is 0.0\n",
      "Training time: 0:00:01.234258\n",
      "\n",
      "\n",
      "Score for training for iteration 11 is 0.9938493080471553\n",
      "Score for testing for iteration 11 is 0.8571428571428571\n",
      "Training time: 0:00:01.250991\n",
      "\n",
      "\n",
      "Score for training for iteration 12 is 0.9964120963608406\n",
      "Score for testing for iteration 12 is 0.9285714285714286\n",
      "Training time: 0:00:01.271739\n",
      "\n",
      "\n",
      "Score for training for iteration 13 is 0.9933367503844183\n",
      "Score for testing for iteration 13 is 0.7142857142857143\n",
      "Training time: 0:00:01.275500\n",
      "\n",
      "\n",
      "Score for training for iteration 14 is 0.9953869810353665\n",
      "Score for testing for iteration 14 is 0.21428571428571427\n",
      "Training time: 0:00:01.251260\n",
      "\n",
      "\n",
      "Score for training for iteration 15 is 0.9953869810353665\n",
      "Score for testing for iteration 15 is 0.0\n",
      "Training time: 0:00:01.226885\n",
      "\n",
      "\n",
      "Score for training for iteration 16 is 0.9943618657098924\n",
      "Score for testing for iteration 16 is 0.7142857142857143\n",
      "Training time: 0:00:01.244120\n",
      "\n",
      "\n",
      "Score for training for iteration 17 is 0.9948744233726294\n",
      "Score for testing for iteration 17 is 0.8571428571428571\n",
      "Training time: 0:00:01.238514\n",
      "\n",
      "\n",
      "Score for training for iteration 18 is 0.9958995386981035\n",
      "Score for testing for iteration 18 is 0.35714285714285715\n",
      "Training time: 0:00:01.244722\n",
      "\n",
      "\n",
      "Score for training for iteration 19 is 0.9943618657098924\n",
      "Score for testing for iteration 19 is 0.9285714285714286\n",
      "Training time: 0:00:01.262568\n",
      "\n",
      "\n",
      "Score for training for iteration 20 is 0.9958995386981035\n",
      "Score for testing for iteration 20 is 0.8571428571428571\n",
      "Training time: 0:00:01.249660\n",
      "\n",
      "\n",
      "Score for training for iteration 21 is 0.9958995386981035\n",
      "Score for testing for iteration 21 is 0.8571428571428571\n",
      "Training time: 0:00:01.235963\n",
      "\n",
      "\n",
      "Score for training for iteration 22 is 0.9948770491803278\n",
      "Score for testing for iteration 22 is 0.6428571428571429\n",
      "Training time: 0:00:01.260231\n",
      "\n",
      "\n",
      "Score for training for iteration 23 is 0.9943618657098924\n",
      "Score for testing for iteration 23 is 1.0\n",
      "Training time: 0:00:01.257249\n",
      "\n",
      "\n",
      "Score for training for iteration 24 is 0.9948744233726294\n",
      "Score for testing for iteration 24 is 0.0\n",
      "Training time: 0:00:01.259383\n",
      "\n",
      "\n",
      "Score for training for iteration 25 is 0.9964120963608406\n",
      "Score for testing for iteration 25 is 0.21428571428571427\n",
      "Training time: 0:00:01.257358\n",
      "\n",
      "\n",
      "Score for training for iteration 26 is 0.9964139344262295\n",
      "Score for testing for iteration 26 is 0.07142857142857142\n",
      "Training time: 0:00:01.264235\n",
      "\n",
      "\n",
      "Score for training for iteration 27 is 0.9923234390992836\n",
      "Score for testing for iteration 27 is 0.0\n",
      "Training time: 0:00:01.278012\n",
      "\n",
      "\n",
      "Score for training for iteration 28 is 0.9969262295081968\n",
      "Score for testing for iteration 28 is 0.2857142857142857\n",
      "Training time: 0:00:01.253083\n",
      "\n",
      "\n",
      "Final Score train: 0.9954938147736111\n",
      "Final Score test: 0.49014778325123154\n",
      "Cross validation time: 0:01:44.018657\n"
     ]
    }
   ],
   "source": [
    "Classification('../kickoff-detection-data/data.pickle_reduce10movacc',0.97,'forest',29,\"kickoff\")"
   ]
  },
  {
   "cell_type": "code",
   "execution_count": 90,
   "metadata": {},
   "outputs": [
    {
     "data": {
      "text/plain": [
       "array([3, 4])"
      ]
     },
     "execution_count": 90,
     "metadata": {},
     "output_type": "execute_result"
    }
   ],
   "source": [
    "np.array([1,2])*np.array([3,2])"
   ]
  },
  {
   "cell_type": "code",
   "execution_count": 187,
   "metadata": {},
   "outputs": [
    {
     "data": {
      "text/plain": [
       "array([-3, -1])"
      ]
     },
     "execution_count": 187,
     "metadata": {},
     "output_type": "execute_result"
    }
   ],
   "source": [
    "np.array([1,2])-np.array([4,3])"
   ]
  }
 ],
 "metadata": {
  "kernelspec": {
   "display_name": "Python 3",
   "language": "python",
   "name": "python3"
  },
  "language_info": {
   "codemirror_mode": {
    "name": "ipython",
    "version": 3
   },
   "file_extension": ".py",
   "mimetype": "text/x-python",
   "name": "python",
   "nbconvert_exporter": "python",
   "pygments_lexer": "ipython3",
   "version": "3.5.2"
  }
 },
 "nbformat": 4,
 "nbformat_minor": 2
}
