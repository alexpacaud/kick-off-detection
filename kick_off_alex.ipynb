{
 "cells": [
  {
   "cell_type": "code",
   "execution_count": 1,
   "metadata": {},
   "outputs": [],
   "source": [
    "import time\n",
    "import pickle\n",
    "import numpy as np\n",
    "import pprint\n",
    "import matplotlib.pyplot as plt\n",
    "from tqdm import tqdm \n",
    "import json\n",
    "from dateutil.parser import parse"
   ]
  },
  {
   "cell_type": "code",
   "execution_count": 2,
   "metadata": {},
   "outputs": [],
   "source": [
    "from rdbtools import RdbParser, RdbCallback\n",
    "from rdbtools.encodehelpers import bytes_to_unicode\n",
    "\n",
    "class PublishCallback(RdbCallback):\n",
    "\n",
    "    def __init__(self, is_unicode=False, start_ts=float('-inf'), stop_ts=float('+inf')):\n",
    "        super(PublishCallback, self).__init__(string_escape=None)\n",
    "        self.ranges = {}\n",
    "        self.start = start_ts\n",
    "        self.stop = stop_ts\n",
    "        self.is_unicode = is_unicode\n",
    "\n",
    "    def encode_key(self, key):\n",
    "        return bytes_to_unicode(key, self._escape, skip_printable=True)\n",
    "\n",
    "    def encode_value(self, val):\n",
    "        if self.is_unicode:\n",
    "            return bytes_to_unicode(val, self._escape)\n",
    "        return val\n",
    "\n",
    "    def start_sorted_set(self, key, length, expiry, info):\n",
    "        self.ranges[self.encode_key(key)] = []\n",
    "\n",
    "    def zadd(self, key, score, member):\n",
    "        if self.start <= score <= self.stop:\n",
    "            self.ranges[self.encode_key(key)].append((self.encode_value(member), round(score)))\n",
    "\n",
    "    def end_sorted_set(self, key):\n",
    "        encoded_key = self.encode_key(key)\n",
    "        self.ranges[encoded_key] = list(reversed(self.ranges[encoded_key]))\n",
    "\n",
    "\n",
    "def parse_dump_file(dump_file, start_ts=float(\"-inf\"), stop_ts=float(\"+inf\")):\n",
    "    \"\"\"Parse a redis dump file (rdb) and return the data within.\n",
    "\n",
    "    Only supports SortedSet.\n",
    "\n",
    "    Args:\n",
    "        dump_file (str): Rdb path\n",
    "        start_ts (float): timestamp of the first value to publish\n",
    "        stop_ts (float): timestamp of the last value to publish\n",
    "\n",
    "    Returns:\n",
    "        ranges (dict): {\n",
    "                'keyA': [(FrameDataDump1A, Score1A), ..., (FrameDataDumpNA, ScoreNA)],\n",
    "                'keyB': [(FrameDataDump1B, Score1B), ..., (FrameDataDumpNB, ScoreNB)],\n",
    "                ...\n",
    "            }\n",
    "    \"\"\"\n",
    "    t0 = time.time()\n",
    "\n",
    "    callback = PublishCallback(start_ts=start_ts, stop_ts=stop_ts)\n",
    "    rdb_parser = RdbParser(callback)\n",
    "    rdb_parser.parse(dump_file)\n",
    "    print(\"Parsed {} in {:.2f} s.\".format(dump_file, time.time() - t0))\n",
    "    print(\"Contains keys:\", callback.ranges.keys())\n",
    "    for k in callback.ranges.keys():\n",
    "        print(\n",
    "            \"[{}] start_ts: {} | stop_ts: {}\".format(\n",
    "                k, callback.ranges[k][0][1], callback.ranges[k][-1][1]\n",
    "            )\n",
    "        )\n",
    "    return callback.ranges"
   ]
  },
  {
   "cell_type": "code",
   "execution_count": 3,
   "metadata": {},
   "outputs": [],
   "source": [
    "from ipywidgets import interact\n",
    "import ipywidgets as widgets"
   ]
  },
  {
   "cell_type": "code",
   "execution_count": 208,
   "metadata": {},
   "outputs": [
    {
     "name": "stdout",
     "output_type": "stream",
     "text": [
      "Parsed ../kickoff-detection-data/cbcca433-ff77-4927-a5a3-36ff293c12fd.2.kickoff.rdb in 1.41 s.\n",
      "Contains keys: dict_keys(['right', 'left'])\n",
      "[right] start_ts: 1523296748330 | stop_ts: 1523297346370\n",
      "[left] start_ts: 1523296760048 | stop_ts: 1523297356248\n"
     ]
    }
   ],
   "source": [
    "tracks = parse_dump_file('../kickoff-detection-data/cbcca433-ff77-4927-a5a3-36ff293c12fd.2.kickoff.rdb')\n",
    "config = json.load(open('../kickoff-detection-data/cbcca433-ff77-4927-a5a3-36ff293c12fd.json', 'r'))"
   ]
  },
  {
   "cell_type": "code",
   "execution_count": 209,
   "metadata": {},
   "outputs": [
    {
     "name": "stdout",
     "output_type": "stream",
     "text": [
      "dict_keys(['valid_frame', 'ball_detections', 'phase_state', 'player_detections', 'features', 'mapping', 'stream_ts', 'bboxes', 'top_view_ball_positions', 'top_view_player_positions', 'ts', 'last', 'embeddings', 'packed_rects'])\n"
     ]
    }
   ],
   "source": [
    "fd, ts = tracks['left'][0]\n",
    "\n",
    "\n",
    "fd = pickle.loads(fd)\n",
    "pprint.pprint(fd.__dict__.keys())"
   ]
  },
  {
   "cell_type": "code",
   "execution_count": 210,
   "metadata": {},
   "outputs": [],
   "source": [
    "kickoff_1 = config['phase_events'][2]['ts']\n",
    "kickoff_time = int(parse(kickoff_1).timestamp()*1000)"
   ]
  },
  {
   "cell_type": "code",
   "execution_count": 211,
   "metadata": {},
   "outputs": [
    {
     "data": {
      "text/plain": [
       "[{'kickoff_team_id': 15,\n",
       "  'phase': 1,\n",
       "  'ts': '2018-04-09T17:00:44.667Z',\n",
       "  'type': 'start_phase'},\n",
       " {'phase': 1, 'ts': '2018-04-09T17:47:46.113Z', 'type': 'end_phase'},\n",
       " {'kickoff_team_id': 5,\n",
       "  'phase': 2,\n",
       "  'ts': '2018-04-09T18:04:16.558Z',\n",
       "  'type': 'start_phase'},\n",
       " {'phase': 2, 'ts': '2018-04-09T18:53:12.188Z', 'type': 'end_phase'}]"
      ]
     },
     "execution_count": 211,
     "metadata": {},
     "output_type": "execute_result"
    }
   ],
   "source": [
    "config['phase_events']"
   ]
  },
  {
   "cell_type": "code",
   "execution_count": 212,
   "metadata": {},
   "outputs": [],
   "source": [
    "pitch_size=config['pitch_size']"
   ]
  },
  {
   "cell_type": "code",
   "execution_count": 213,
   "metadata": {
    "scrolled": false
   },
   "outputs": [
    {
     "name": "stderr",
     "output_type": "stream",
     "text": [
      "14906it [00:06, 2457.35it/s]\n"
     ]
    }
   ],
   "source": [
    "detections = {'ball':{'left':{}, 'right':{}}, 'players':{'left':{}, 'right':{}}}\n",
    "\n",
    "timestamps = set()\n",
    "\n",
    "def ball_ok(ball_pos, ball_det):\n",
    "    if ball_pos[0] < 0 or ball_pos[1] < 0:\n",
    "        return False\n",
    "    if ball_det.confidence < 0.7:\n",
    "        return False\n",
    "    return True\n",
    "\n",
    "for (fd_left, ts_left), (fd_right, ts_right) in tqdm(zip(tracks['left'], tracks['right'])):\n",
    "    fd_left = pickle.loads(fd_left)\n",
    "    fd_right = pickle.loads(fd_right)\n",
    "    if np.abs(ts_left - ts_right) < 100:\n",
    "        ts_left = ts_right\n",
    "    timestamps.update({ts_left, ts_right})\n",
    "\n",
    "    detections['players']['left'][ts_left] = fd_left.top_view_player_positions\n",
    "    detections['players']['right'][ts_right] = fd_right.top_view_player_positions\n",
    "    detections['ball']['left'][ts_left] = np.array([bp for bp, bd in zip(fd_left.top_view_ball_positions, fd_left.ball_detections) if ball_ok(bp, bd)])\n",
    "    detections['ball']['right'][ts_right] = np.array([bp for bp, bd in zip(fd_right.top_view_ball_positions, fd_right.ball_detections) if ball_ok(bp, bd)])\n",
    "    "
   ]
  },
  {
   "cell_type": "code",
   "execution_count": 214,
   "metadata": {
    "scrolled": false
   },
   "outputs": [
    {
     "name": "stdout",
     "output_type": "stream",
     "text": [
      "1523297056558 1523297056568\n"
     ]
    },
    {
     "data": {
      "application/javascript": [
       "/* Put everything inside the global mpl namespace */\n",
       "window.mpl = {};\n",
       "\n",
       "\n",
       "mpl.get_websocket_type = function() {\n",
       "    if (typeof(WebSocket) !== 'undefined') {\n",
       "        return WebSocket;\n",
       "    } else if (typeof(MozWebSocket) !== 'undefined') {\n",
       "        return MozWebSocket;\n",
       "    } else {\n",
       "        alert('Your browser does not have WebSocket support.' +\n",
       "              'Please try Chrome, Safari or Firefox ≥ 6. ' +\n",
       "              'Firefox 4 and 5 are also supported but you ' +\n",
       "              'have to enable WebSockets in about:config.');\n",
       "    };\n",
       "}\n",
       "\n",
       "mpl.figure = function(figure_id, websocket, ondownload, parent_element) {\n",
       "    this.id = figure_id;\n",
       "\n",
       "    this.ws = websocket;\n",
       "\n",
       "    this.supports_binary = (this.ws.binaryType != undefined);\n",
       "\n",
       "    if (!this.supports_binary) {\n",
       "        var warnings = document.getElementById(\"mpl-warnings\");\n",
       "        if (warnings) {\n",
       "            warnings.style.display = 'block';\n",
       "            warnings.textContent = (\n",
       "                \"This browser does not support binary websocket messages. \" +\n",
       "                    \"Performance may be slow.\");\n",
       "        }\n",
       "    }\n",
       "\n",
       "    this.imageObj = new Image();\n",
       "\n",
       "    this.context = undefined;\n",
       "    this.message = undefined;\n",
       "    this.canvas = undefined;\n",
       "    this.rubberband_canvas = undefined;\n",
       "    this.rubberband_context = undefined;\n",
       "    this.format_dropdown = undefined;\n",
       "\n",
       "    this.image_mode = 'full';\n",
       "\n",
       "    this.root = $('<div/>');\n",
       "    this._root_extra_style(this.root)\n",
       "    this.root.attr('style', 'display: inline-block');\n",
       "\n",
       "    $(parent_element).append(this.root);\n",
       "\n",
       "    this._init_header(this);\n",
       "    this._init_canvas(this);\n",
       "    this._init_toolbar(this);\n",
       "\n",
       "    var fig = this;\n",
       "\n",
       "    this.waiting = false;\n",
       "\n",
       "    this.ws.onopen =  function () {\n",
       "            fig.send_message(\"supports_binary\", {value: fig.supports_binary});\n",
       "            fig.send_message(\"send_image_mode\", {});\n",
       "            if (mpl.ratio != 1) {\n",
       "                fig.send_message(\"set_dpi_ratio\", {'dpi_ratio': mpl.ratio});\n",
       "            }\n",
       "            fig.send_message(\"refresh\", {});\n",
       "        }\n",
       "\n",
       "    this.imageObj.onload = function() {\n",
       "            if (fig.image_mode == 'full') {\n",
       "                // Full images could contain transparency (where diff images\n",
       "                // almost always do), so we need to clear the canvas so that\n",
       "                // there is no ghosting.\n",
       "                fig.context.clearRect(0, 0, fig.canvas.width, fig.canvas.height);\n",
       "            }\n",
       "            fig.context.drawImage(fig.imageObj, 0, 0);\n",
       "        };\n",
       "\n",
       "    this.imageObj.onunload = function() {\n",
       "        fig.ws.close();\n",
       "    }\n",
       "\n",
       "    this.ws.onmessage = this._make_on_message_function(this);\n",
       "\n",
       "    this.ondownload = ondownload;\n",
       "}\n",
       "\n",
       "mpl.figure.prototype._init_header = function() {\n",
       "    var titlebar = $(\n",
       "        '<div class=\"ui-dialog-titlebar ui-widget-header ui-corner-all ' +\n",
       "        'ui-helper-clearfix\"/>');\n",
       "    var titletext = $(\n",
       "        '<div class=\"ui-dialog-title\" style=\"width: 100%; ' +\n",
       "        'text-align: center; padding: 3px;\"/>');\n",
       "    titlebar.append(titletext)\n",
       "    this.root.append(titlebar);\n",
       "    this.header = titletext[0];\n",
       "}\n",
       "\n",
       "\n",
       "\n",
       "mpl.figure.prototype._canvas_extra_style = function(canvas_div) {\n",
       "\n",
       "}\n",
       "\n",
       "\n",
       "mpl.figure.prototype._root_extra_style = function(canvas_div) {\n",
       "\n",
       "}\n",
       "\n",
       "mpl.figure.prototype._init_canvas = function() {\n",
       "    var fig = this;\n",
       "\n",
       "    var canvas_div = $('<div/>');\n",
       "\n",
       "    canvas_div.attr('style', 'position: relative; clear: both; outline: 0');\n",
       "\n",
       "    function canvas_keyboard_event(event) {\n",
       "        return fig.key_event(event, event['data']);\n",
       "    }\n",
       "\n",
       "    canvas_div.keydown('key_press', canvas_keyboard_event);\n",
       "    canvas_div.keyup('key_release', canvas_keyboard_event);\n",
       "    this.canvas_div = canvas_div\n",
       "    this._canvas_extra_style(canvas_div)\n",
       "    this.root.append(canvas_div);\n",
       "\n",
       "    var canvas = $('<canvas/>');\n",
       "    canvas.addClass('mpl-canvas');\n",
       "    canvas.attr('style', \"left: 0; top: 0; z-index: 0; outline: 0\")\n",
       "\n",
       "    this.canvas = canvas[0];\n",
       "    this.context = canvas[0].getContext(\"2d\");\n",
       "\n",
       "    var backingStore = this.context.backingStorePixelRatio ||\n",
       "\tthis.context.webkitBackingStorePixelRatio ||\n",
       "\tthis.context.mozBackingStorePixelRatio ||\n",
       "\tthis.context.msBackingStorePixelRatio ||\n",
       "\tthis.context.oBackingStorePixelRatio ||\n",
       "\tthis.context.backingStorePixelRatio || 1;\n",
       "\n",
       "    mpl.ratio = (window.devicePixelRatio || 1) / backingStore;\n",
       "\n",
       "    var rubberband = $('<canvas/>');\n",
       "    rubberband.attr('style', \"position: absolute; left: 0; top: 0; z-index: 1;\")\n",
       "\n",
       "    var pass_mouse_events = true;\n",
       "\n",
       "    canvas_div.resizable({\n",
       "        start: function(event, ui) {\n",
       "            pass_mouse_events = false;\n",
       "        },\n",
       "        resize: function(event, ui) {\n",
       "            fig.request_resize(ui.size.width, ui.size.height);\n",
       "        },\n",
       "        stop: function(event, ui) {\n",
       "            pass_mouse_events = true;\n",
       "            fig.request_resize(ui.size.width, ui.size.height);\n",
       "        },\n",
       "    });\n",
       "\n",
       "    function mouse_event_fn(event) {\n",
       "        if (pass_mouse_events)\n",
       "            return fig.mouse_event(event, event['data']);\n",
       "    }\n",
       "\n",
       "    rubberband.mousedown('button_press', mouse_event_fn);\n",
       "    rubberband.mouseup('button_release', mouse_event_fn);\n",
       "    // Throttle sequential mouse events to 1 every 20ms.\n",
       "    rubberband.mousemove('motion_notify', mouse_event_fn);\n",
       "\n",
       "    rubberband.mouseenter('figure_enter', mouse_event_fn);\n",
       "    rubberband.mouseleave('figure_leave', mouse_event_fn);\n",
       "\n",
       "    canvas_div.on(\"wheel\", function (event) {\n",
       "        event = event.originalEvent;\n",
       "        event['data'] = 'scroll'\n",
       "        if (event.deltaY < 0) {\n",
       "            event.step = 1;\n",
       "        } else {\n",
       "            event.step = -1;\n",
       "        }\n",
       "        mouse_event_fn(event);\n",
       "    });\n",
       "\n",
       "    canvas_div.append(canvas);\n",
       "    canvas_div.append(rubberband);\n",
       "\n",
       "    this.rubberband = rubberband;\n",
       "    this.rubberband_canvas = rubberband[0];\n",
       "    this.rubberband_context = rubberband[0].getContext(\"2d\");\n",
       "    this.rubberband_context.strokeStyle = \"#000000\";\n",
       "\n",
       "    this._resize_canvas = function(width, height) {\n",
       "        // Keep the size of the canvas, canvas container, and rubber band\n",
       "        // canvas in synch.\n",
       "        canvas_div.css('width', width)\n",
       "        canvas_div.css('height', height)\n",
       "\n",
       "        canvas.attr('width', width * mpl.ratio);\n",
       "        canvas.attr('height', height * mpl.ratio);\n",
       "        canvas.attr('style', 'width: ' + width + 'px; height: ' + height + 'px;');\n",
       "\n",
       "        rubberband.attr('width', width);\n",
       "        rubberband.attr('height', height);\n",
       "    }\n",
       "\n",
       "    // Set the figure to an initial 600x600px, this will subsequently be updated\n",
       "    // upon first draw.\n",
       "    this._resize_canvas(600, 600);\n",
       "\n",
       "    // Disable right mouse context menu.\n",
       "    $(this.rubberband_canvas).bind(\"contextmenu\",function(e){\n",
       "        return false;\n",
       "    });\n",
       "\n",
       "    function set_focus () {\n",
       "        canvas.focus();\n",
       "        canvas_div.focus();\n",
       "    }\n",
       "\n",
       "    window.setTimeout(set_focus, 100);\n",
       "}\n",
       "\n",
       "mpl.figure.prototype._init_toolbar = function() {\n",
       "    var fig = this;\n",
       "\n",
       "    var nav_element = $('<div/>')\n",
       "    nav_element.attr('style', 'width: 100%');\n",
       "    this.root.append(nav_element);\n",
       "\n",
       "    // Define a callback function for later on.\n",
       "    function toolbar_event(event) {\n",
       "        return fig.toolbar_button_onclick(event['data']);\n",
       "    }\n",
       "    function toolbar_mouse_event(event) {\n",
       "        return fig.toolbar_button_onmouseover(event['data']);\n",
       "    }\n",
       "\n",
       "    for(var toolbar_ind in mpl.toolbar_items) {\n",
       "        var name = mpl.toolbar_items[toolbar_ind][0];\n",
       "        var tooltip = mpl.toolbar_items[toolbar_ind][1];\n",
       "        var image = mpl.toolbar_items[toolbar_ind][2];\n",
       "        var method_name = mpl.toolbar_items[toolbar_ind][3];\n",
       "\n",
       "        if (!name) {\n",
       "            // put a spacer in here.\n",
       "            continue;\n",
       "        }\n",
       "        var button = $('<button/>');\n",
       "        button.addClass('ui-button ui-widget ui-state-default ui-corner-all ' +\n",
       "                        'ui-button-icon-only');\n",
       "        button.attr('role', 'button');\n",
       "        button.attr('aria-disabled', 'false');\n",
       "        button.click(method_name, toolbar_event);\n",
       "        button.mouseover(tooltip, toolbar_mouse_event);\n",
       "\n",
       "        var icon_img = $('<span/>');\n",
       "        icon_img.addClass('ui-button-icon-primary ui-icon');\n",
       "        icon_img.addClass(image);\n",
       "        icon_img.addClass('ui-corner-all');\n",
       "\n",
       "        var tooltip_span = $('<span/>');\n",
       "        tooltip_span.addClass('ui-button-text');\n",
       "        tooltip_span.html(tooltip);\n",
       "\n",
       "        button.append(icon_img);\n",
       "        button.append(tooltip_span);\n",
       "\n",
       "        nav_element.append(button);\n",
       "    }\n",
       "\n",
       "    var fmt_picker_span = $('<span/>');\n",
       "\n",
       "    var fmt_picker = $('<select/>');\n",
       "    fmt_picker.addClass('mpl-toolbar-option ui-widget ui-widget-content');\n",
       "    fmt_picker_span.append(fmt_picker);\n",
       "    nav_element.append(fmt_picker_span);\n",
       "    this.format_dropdown = fmt_picker[0];\n",
       "\n",
       "    for (var ind in mpl.extensions) {\n",
       "        var fmt = mpl.extensions[ind];\n",
       "        var option = $(\n",
       "            '<option/>', {selected: fmt === mpl.default_extension}).html(fmt);\n",
       "        fmt_picker.append(option)\n",
       "    }\n",
       "\n",
       "    // Add hover states to the ui-buttons\n",
       "    $( \".ui-button\" ).hover(\n",
       "        function() { $(this).addClass(\"ui-state-hover\");},\n",
       "        function() { $(this).removeClass(\"ui-state-hover\");}\n",
       "    );\n",
       "\n",
       "    var status_bar = $('<span class=\"mpl-message\"/>');\n",
       "    nav_element.append(status_bar);\n",
       "    this.message = status_bar[0];\n",
       "}\n",
       "\n",
       "mpl.figure.prototype.request_resize = function(x_pixels, y_pixels) {\n",
       "    // Request matplotlib to resize the figure. Matplotlib will then trigger a resize in the client,\n",
       "    // which will in turn request a refresh of the image.\n",
       "    this.send_message('resize', {'width': x_pixels, 'height': y_pixels});\n",
       "}\n",
       "\n",
       "mpl.figure.prototype.send_message = function(type, properties) {\n",
       "    properties['type'] = type;\n",
       "    properties['figure_id'] = this.id;\n",
       "    this.ws.send(JSON.stringify(properties));\n",
       "}\n",
       "\n",
       "mpl.figure.prototype.send_draw_message = function() {\n",
       "    if (!this.waiting) {\n",
       "        this.waiting = true;\n",
       "        this.ws.send(JSON.stringify({type: \"draw\", figure_id: this.id}));\n",
       "    }\n",
       "}\n",
       "\n",
       "\n",
       "mpl.figure.prototype.handle_save = function(fig, msg) {\n",
       "    var format_dropdown = fig.format_dropdown;\n",
       "    var format = format_dropdown.options[format_dropdown.selectedIndex].value;\n",
       "    fig.ondownload(fig, format);\n",
       "}\n",
       "\n",
       "\n",
       "mpl.figure.prototype.handle_resize = function(fig, msg) {\n",
       "    var size = msg['size'];\n",
       "    if (size[0] != fig.canvas.width || size[1] != fig.canvas.height) {\n",
       "        fig._resize_canvas(size[0], size[1]);\n",
       "        fig.send_message(\"refresh\", {});\n",
       "    };\n",
       "}\n",
       "\n",
       "mpl.figure.prototype.handle_rubberband = function(fig, msg) {\n",
       "    var x0 = msg['x0'] / mpl.ratio;\n",
       "    var y0 = (fig.canvas.height - msg['y0']) / mpl.ratio;\n",
       "    var x1 = msg['x1'] / mpl.ratio;\n",
       "    var y1 = (fig.canvas.height - msg['y1']) / mpl.ratio;\n",
       "    x0 = Math.floor(x0) + 0.5;\n",
       "    y0 = Math.floor(y0) + 0.5;\n",
       "    x1 = Math.floor(x1) + 0.5;\n",
       "    y1 = Math.floor(y1) + 0.5;\n",
       "    var min_x = Math.min(x0, x1);\n",
       "    var min_y = Math.min(y0, y1);\n",
       "    var width = Math.abs(x1 - x0);\n",
       "    var height = Math.abs(y1 - y0);\n",
       "\n",
       "    fig.rubberband_context.clearRect(\n",
       "        0, 0, fig.canvas.width, fig.canvas.height);\n",
       "\n",
       "    fig.rubberband_context.strokeRect(min_x, min_y, width, height);\n",
       "}\n",
       "\n",
       "mpl.figure.prototype.handle_figure_label = function(fig, msg) {\n",
       "    // Updates the figure title.\n",
       "    fig.header.textContent = msg['label'];\n",
       "}\n",
       "\n",
       "mpl.figure.prototype.handle_cursor = function(fig, msg) {\n",
       "    var cursor = msg['cursor'];\n",
       "    switch(cursor)\n",
       "    {\n",
       "    case 0:\n",
       "        cursor = 'pointer';\n",
       "        break;\n",
       "    case 1:\n",
       "        cursor = 'default';\n",
       "        break;\n",
       "    case 2:\n",
       "        cursor = 'crosshair';\n",
       "        break;\n",
       "    case 3:\n",
       "        cursor = 'move';\n",
       "        break;\n",
       "    }\n",
       "    fig.rubberband_canvas.style.cursor = cursor;\n",
       "}\n",
       "\n",
       "mpl.figure.prototype.handle_message = function(fig, msg) {\n",
       "    fig.message.textContent = msg['message'];\n",
       "}\n",
       "\n",
       "mpl.figure.prototype.handle_draw = function(fig, msg) {\n",
       "    // Request the server to send over a new figure.\n",
       "    fig.send_draw_message();\n",
       "}\n",
       "\n",
       "mpl.figure.prototype.handle_image_mode = function(fig, msg) {\n",
       "    fig.image_mode = msg['mode'];\n",
       "}\n",
       "\n",
       "mpl.figure.prototype.updated_canvas_event = function() {\n",
       "    // Called whenever the canvas gets updated.\n",
       "    this.send_message(\"ack\", {});\n",
       "}\n",
       "\n",
       "// A function to construct a web socket function for onmessage handling.\n",
       "// Called in the figure constructor.\n",
       "mpl.figure.prototype._make_on_message_function = function(fig) {\n",
       "    return function socket_on_message(evt) {\n",
       "        if (evt.data instanceof Blob) {\n",
       "            /* FIXME: We get \"Resource interpreted as Image but\n",
       "             * transferred with MIME type text/plain:\" errors on\n",
       "             * Chrome.  But how to set the MIME type?  It doesn't seem\n",
       "             * to be part of the websocket stream */\n",
       "            evt.data.type = \"image/png\";\n",
       "\n",
       "            /* Free the memory for the previous frames */\n",
       "            if (fig.imageObj.src) {\n",
       "                (window.URL || window.webkitURL).revokeObjectURL(\n",
       "                    fig.imageObj.src);\n",
       "            }\n",
       "\n",
       "            fig.imageObj.src = (window.URL || window.webkitURL).createObjectURL(\n",
       "                evt.data);\n",
       "            fig.updated_canvas_event();\n",
       "            fig.waiting = false;\n",
       "            return;\n",
       "        }\n",
       "        else if (typeof evt.data === 'string' && evt.data.slice(0, 21) == \"data:image/png;base64\") {\n",
       "            fig.imageObj.src = evt.data;\n",
       "            fig.updated_canvas_event();\n",
       "            fig.waiting = false;\n",
       "            return;\n",
       "        }\n",
       "\n",
       "        var msg = JSON.parse(evt.data);\n",
       "        var msg_type = msg['type'];\n",
       "\n",
       "        // Call the  \"handle_{type}\" callback, which takes\n",
       "        // the figure and JSON message as its only arguments.\n",
       "        try {\n",
       "            var callback = fig[\"handle_\" + msg_type];\n",
       "        } catch (e) {\n",
       "            console.log(\"No handler for the '\" + msg_type + \"' message type: \", msg);\n",
       "            return;\n",
       "        }\n",
       "\n",
       "        if (callback) {\n",
       "            try {\n",
       "                // console.log(\"Handling '\" + msg_type + \"' message: \", msg);\n",
       "                callback(fig, msg);\n",
       "            } catch (e) {\n",
       "                console.log(\"Exception inside the 'handler_\" + msg_type + \"' callback:\", e, e.stack, msg);\n",
       "            }\n",
       "        }\n",
       "    };\n",
       "}\n",
       "\n",
       "// from http://stackoverflow.com/questions/1114465/getting-mouse-location-in-canvas\n",
       "mpl.findpos = function(e) {\n",
       "    //this section is from http://www.quirksmode.org/js/events_properties.html\n",
       "    var targ;\n",
       "    if (!e)\n",
       "        e = window.event;\n",
       "    if (e.target)\n",
       "        targ = e.target;\n",
       "    else if (e.srcElement)\n",
       "        targ = e.srcElement;\n",
       "    if (targ.nodeType == 3) // defeat Safari bug\n",
       "        targ = targ.parentNode;\n",
       "\n",
       "    // jQuery normalizes the pageX and pageY\n",
       "    // pageX,Y are the mouse positions relative to the document\n",
       "    // offset() returns the position of the element relative to the document\n",
       "    var x = e.pageX - $(targ).offset().left;\n",
       "    var y = e.pageY - $(targ).offset().top;\n",
       "\n",
       "    return {\"x\": x, \"y\": y};\n",
       "};\n",
       "\n",
       "/*\n",
       " * return a copy of an object with only non-object keys\n",
       " * we need this to avoid circular references\n",
       " * http://stackoverflow.com/a/24161582/3208463\n",
       " */\n",
       "function simpleKeys (original) {\n",
       "  return Object.keys(original).reduce(function (obj, key) {\n",
       "    if (typeof original[key] !== 'object')\n",
       "        obj[key] = original[key]\n",
       "    return obj;\n",
       "  }, {});\n",
       "}\n",
       "\n",
       "mpl.figure.prototype.mouse_event = function(event, name) {\n",
       "    var canvas_pos = mpl.findpos(event)\n",
       "\n",
       "    if (name === 'button_press')\n",
       "    {\n",
       "        this.canvas.focus();\n",
       "        this.canvas_div.focus();\n",
       "    }\n",
       "\n",
       "    var x = canvas_pos.x * mpl.ratio;\n",
       "    var y = canvas_pos.y * mpl.ratio;\n",
       "\n",
       "    this.send_message(name, {x: x, y: y, button: event.button,\n",
       "                             step: event.step,\n",
       "                             guiEvent: simpleKeys(event)});\n",
       "\n",
       "    /* This prevents the web browser from automatically changing to\n",
       "     * the text insertion cursor when the button is pressed.  We want\n",
       "     * to control all of the cursor setting manually through the\n",
       "     * 'cursor' event from matplotlib */\n",
       "    event.preventDefault();\n",
       "    return false;\n",
       "}\n",
       "\n",
       "mpl.figure.prototype._key_event_extra = function(event, name) {\n",
       "    // Handle any extra behaviour associated with a key event\n",
       "}\n",
       "\n",
       "mpl.figure.prototype.key_event = function(event, name) {\n",
       "\n",
       "    // Prevent repeat events\n",
       "    if (name == 'key_press')\n",
       "    {\n",
       "        if (event.which === this._key)\n",
       "            return;\n",
       "        else\n",
       "            this._key = event.which;\n",
       "    }\n",
       "    if (name == 'key_release')\n",
       "        this._key = null;\n",
       "\n",
       "    var value = '';\n",
       "    if (event.ctrlKey && event.which != 17)\n",
       "        value += \"ctrl+\";\n",
       "    if (event.altKey && event.which != 18)\n",
       "        value += \"alt+\";\n",
       "    if (event.shiftKey && event.which != 16)\n",
       "        value += \"shift+\";\n",
       "\n",
       "    value += 'k';\n",
       "    value += event.which.toString();\n",
       "\n",
       "    this._key_event_extra(event, name);\n",
       "\n",
       "    this.send_message(name, {key: value,\n",
       "                             guiEvent: simpleKeys(event)});\n",
       "    return false;\n",
       "}\n",
       "\n",
       "mpl.figure.prototype.toolbar_button_onclick = function(name) {\n",
       "    if (name == 'download') {\n",
       "        this.handle_save(this, null);\n",
       "    } else {\n",
       "        this.send_message(\"toolbar_button\", {name: name});\n",
       "    }\n",
       "};\n",
       "\n",
       "mpl.figure.prototype.toolbar_button_onmouseover = function(tooltip) {\n",
       "    this.message.textContent = tooltip;\n",
       "};\n",
       "mpl.toolbar_items = [[\"Home\", \"Reset original view\", \"fa fa-home icon-home\", \"home\"], [\"Back\", \"Back to  previous view\", \"fa fa-arrow-left icon-arrow-left\", \"back\"], [\"Forward\", \"Forward to next view\", \"fa fa-arrow-right icon-arrow-right\", \"forward\"], [\"\", \"\", \"\", \"\"], [\"Pan\", \"Pan axes with left mouse, zoom with right\", \"fa fa-arrows icon-move\", \"pan\"], [\"Zoom\", \"Zoom to rectangle\", \"fa fa-square-o icon-check-empty\", \"zoom\"], [\"\", \"\", \"\", \"\"], [\"Download\", \"Download plot\", \"fa fa-floppy-o icon-save\", \"download\"]];\n",
       "\n",
       "mpl.extensions = [\"eps\", \"jpeg\", \"pdf\", \"png\", \"ps\", \"raw\", \"svg\", \"tif\"];\n",
       "\n",
       "mpl.default_extension = \"png\";var comm_websocket_adapter = function(comm) {\n",
       "    // Create a \"websocket\"-like object which calls the given IPython comm\n",
       "    // object with the appropriate methods. Currently this is a non binary\n",
       "    // socket, so there is still some room for performance tuning.\n",
       "    var ws = {};\n",
       "\n",
       "    ws.close = function() {\n",
       "        comm.close()\n",
       "    };\n",
       "    ws.send = function(m) {\n",
       "        //console.log('sending', m);\n",
       "        comm.send(m);\n",
       "    };\n",
       "    // Register the callback with on_msg.\n",
       "    comm.on_msg(function(msg) {\n",
       "        //console.log('receiving', msg['content']['data'], msg);\n",
       "        // Pass the mpl event to the overridden (by mpl) onmessage function.\n",
       "        ws.onmessage(msg['content']['data'])\n",
       "    });\n",
       "    return ws;\n",
       "}\n",
       "\n",
       "mpl.mpl_figure_comm = function(comm, msg) {\n",
       "    // This is the function which gets called when the mpl process\n",
       "    // starts-up an IPython Comm through the \"matplotlib\" channel.\n",
       "\n",
       "    var id = msg.content.data.id;\n",
       "    // Get hold of the div created by the display call when the Comm\n",
       "    // socket was opened in Python.\n",
       "    var element = $(\"#\" + id);\n",
       "    var ws_proxy = comm_websocket_adapter(comm)\n",
       "\n",
       "    function ondownload(figure, format) {\n",
       "        window.open(figure.imageObj.src);\n",
       "    }\n",
       "\n",
       "    var fig = new mpl.figure(id, ws_proxy,\n",
       "                           ondownload,\n",
       "                           element.get(0));\n",
       "\n",
       "    // Call onopen now - mpl needs it, as it is assuming we've passed it a real\n",
       "    // web socket which is closed, not our websocket->open comm proxy.\n",
       "    ws_proxy.onopen();\n",
       "\n",
       "    fig.parent_element = element.get(0);\n",
       "    fig.cell_info = mpl.find_output_cell(\"<div id='\" + id + \"'></div>\");\n",
       "    if (!fig.cell_info) {\n",
       "        console.error(\"Failed to find cell for figure\", id, fig);\n",
       "        return;\n",
       "    }\n",
       "\n",
       "    var output_index = fig.cell_info[2]\n",
       "    var cell = fig.cell_info[0];\n",
       "\n",
       "};\n",
       "\n",
       "mpl.figure.prototype.handle_close = function(fig, msg) {\n",
       "    var width = fig.canvas.width/mpl.ratio\n",
       "    fig.root.unbind('remove')\n",
       "\n",
       "    // Update the output cell to use the data from the current canvas.\n",
       "    fig.push_to_output();\n",
       "    var dataURL = fig.canvas.toDataURL();\n",
       "    // Re-enable the keyboard manager in IPython - without this line, in FF,\n",
       "    // the notebook keyboard shortcuts fail.\n",
       "    IPython.keyboard_manager.enable()\n",
       "    $(fig.parent_element).html('<img src=\"' + dataURL + '\" width=\"' + width + '\">');\n",
       "    fig.close_ws(fig, msg);\n",
       "}\n",
       "\n",
       "mpl.figure.prototype.close_ws = function(fig, msg){\n",
       "    fig.send_message('closing', msg);\n",
       "    // fig.ws.close()\n",
       "}\n",
       "\n",
       "mpl.figure.prototype.push_to_output = function(remove_interactive) {\n",
       "    // Turn the data on the canvas into data in the output cell.\n",
       "    var width = this.canvas.width/mpl.ratio\n",
       "    var dataURL = this.canvas.toDataURL();\n",
       "    this.cell_info[1]['text/html'] = '<img src=\"' + dataURL + '\" width=\"' + width + '\">';\n",
       "}\n",
       "\n",
       "mpl.figure.prototype.updated_canvas_event = function() {\n",
       "    // Tell IPython that the notebook contents must change.\n",
       "    IPython.notebook.set_dirty(true);\n",
       "    this.send_message(\"ack\", {});\n",
       "    var fig = this;\n",
       "    // Wait a second, then push the new image to the DOM so\n",
       "    // that it is saved nicely (might be nice to debounce this).\n",
       "    setTimeout(function () { fig.push_to_output() }, 1000);\n",
       "}\n",
       "\n",
       "mpl.figure.prototype._init_toolbar = function() {\n",
       "    var fig = this;\n",
       "\n",
       "    var nav_element = $('<div/>')\n",
       "    nav_element.attr('style', 'width: 100%');\n",
       "    this.root.append(nav_element);\n",
       "\n",
       "    // Define a callback function for later on.\n",
       "    function toolbar_event(event) {\n",
       "        return fig.toolbar_button_onclick(event['data']);\n",
       "    }\n",
       "    function toolbar_mouse_event(event) {\n",
       "        return fig.toolbar_button_onmouseover(event['data']);\n",
       "    }\n",
       "\n",
       "    for(var toolbar_ind in mpl.toolbar_items){\n",
       "        var name = mpl.toolbar_items[toolbar_ind][0];\n",
       "        var tooltip = mpl.toolbar_items[toolbar_ind][1];\n",
       "        var image = mpl.toolbar_items[toolbar_ind][2];\n",
       "        var method_name = mpl.toolbar_items[toolbar_ind][3];\n",
       "\n",
       "        if (!name) { continue; };\n",
       "\n",
       "        var button = $('<button class=\"btn btn-default\" href=\"#\" title=\"' + name + '\"><i class=\"fa ' + image + ' fa-lg\"></i></button>');\n",
       "        button.click(method_name, toolbar_event);\n",
       "        button.mouseover(tooltip, toolbar_mouse_event);\n",
       "        nav_element.append(button);\n",
       "    }\n",
       "\n",
       "    // Add the status bar.\n",
       "    var status_bar = $('<span class=\"mpl-message\" style=\"text-align:right; float: right;\"/>');\n",
       "    nav_element.append(status_bar);\n",
       "    this.message = status_bar[0];\n",
       "\n",
       "    // Add the close button to the window.\n",
       "    var buttongrp = $('<div class=\"btn-group inline pull-right\"></div>');\n",
       "    var button = $('<button class=\"btn btn-mini btn-primary\" href=\"#\" title=\"Stop Interaction\"><i class=\"fa fa-power-off icon-remove icon-large\"></i></button>');\n",
       "    button.click(function (evt) { fig.handle_close(fig, {}); } );\n",
       "    button.mouseover('Stop Interaction', toolbar_mouse_event);\n",
       "    buttongrp.append(button);\n",
       "    var titlebar = this.root.find($('.ui-dialog-titlebar'));\n",
       "    titlebar.prepend(buttongrp);\n",
       "}\n",
       "\n",
       "mpl.figure.prototype._root_extra_style = function(el){\n",
       "    var fig = this\n",
       "    el.on(\"remove\", function(){\n",
       "\tfig.close_ws(fig, {});\n",
       "    });\n",
       "}\n",
       "\n",
       "mpl.figure.prototype._canvas_extra_style = function(el){\n",
       "    // this is important to make the div 'focusable\n",
       "    el.attr('tabindex', 0)\n",
       "    // reach out to IPython and tell the keyboard manager to turn it's self\n",
       "    // off when our div gets focus\n",
       "\n",
       "    // location in version 3\n",
       "    if (IPython.notebook.keyboard_manager) {\n",
       "        IPython.notebook.keyboard_manager.register_events(el);\n",
       "    }\n",
       "    else {\n",
       "        // location in version 2\n",
       "        IPython.keyboard_manager.register_events(el);\n",
       "    }\n",
       "\n",
       "}\n",
       "\n",
       "mpl.figure.prototype._key_event_extra = function(event, name) {\n",
       "    var manager = IPython.notebook.keyboard_manager;\n",
       "    if (!manager)\n",
       "        manager = IPython.keyboard_manager;\n",
       "\n",
       "    // Check for shift+enter\n",
       "    if (event.shiftKey && event.which == 13) {\n",
       "        this.canvas_div.blur();\n",
       "        event.shiftKey = false;\n",
       "        // Send a \"J\" for go to next cell\n",
       "        event.which = 74;\n",
       "        event.keyCode = 74;\n",
       "        manager.command_mode();\n",
       "        manager.handle_keydown(event);\n",
       "    }\n",
       "}\n",
       "\n",
       "mpl.figure.prototype.handle_save = function(fig, msg) {\n",
       "    fig.ondownload(fig, null);\n",
       "}\n",
       "\n",
       "\n",
       "mpl.find_output_cell = function(html_output) {\n",
       "    // Return the cell and output element which can be found *uniquely* in the notebook.\n",
       "    // Note - this is a bit hacky, but it is done because the \"notebook_saving.Notebook\"\n",
       "    // IPython event is triggered only after the cells have been serialised, which for\n",
       "    // our purposes (turning an active figure into a static one), is too late.\n",
       "    var cells = IPython.notebook.get_cells();\n",
       "    var ncells = cells.length;\n",
       "    for (var i=0; i<ncells; i++) {\n",
       "        var cell = cells[i];\n",
       "        if (cell.cell_type === 'code'){\n",
       "            for (var j=0; j<cell.output_area.outputs.length; j++) {\n",
       "                var data = cell.output_area.outputs[j];\n",
       "                if (data.data) {\n",
       "                    // IPython >= 3 moved mimebundle to data attribute of output\n",
       "                    data = data.data;\n",
       "                }\n",
       "                if (data['text/html'] == html_output) {\n",
       "                    return [cell, data, j];\n",
       "                }\n",
       "            }\n",
       "        }\n",
       "    }\n",
       "}\n",
       "\n",
       "// Register the function which deals with the matplotlib target/channel.\n",
       "// The kernel may be null if the page has been refreshed.\n",
       "if (IPython.notebook.kernel != null) {\n",
       "    IPython.notebook.kernel.comm_manager.register_target('matplotlib', mpl.mpl_figure_comm);\n",
       "}\n"
      ],
      "text/plain": [
       "<IPython.core.display.Javascript object>"
      ]
     },
     "metadata": {},
     "output_type": "display_data"
    },
    {
     "data": {
      "text/html": [
       "<img src=\"data:image/png;base64,iVBORw0KGgoAAAANSUhEUgAAA+gAAAJYCAYAAADxHswlAAAgAElEQVR4Xu3dC7CdZXk37juRCXhoYCgkgNnkYxAF9VPMgQLaKgUa47SOClJqZiSUsTNYiGBoEKdImNGP04waqcETNcyUg8p4GITUavkEJYyGgBWHQnX8GhOBIpVEGCdJY/Kfd/nfEUgwe4d1730/e11rhtlhs/az7vf6vU/IL2utd03avn379nAjQIAAAQIECBAgQIAAAQIExlVgkoI+rv4enAABAgQIECBAgAABAgQI9AQUdCcCAQIECBAgQIAAAQIECBAoIKCgFwjBCAQIECBAgAABAgQIECBAQEF3DhAgQIAAAQIECBAgQIAAgQICCnqBEIxAgAABAgQIECBAgAABAgQUdOcAAQIECBAgQIAAAQIECBAoIKCgFwjBCAQIECBAgAABAgQIECBAQEF3DhAgQIAAAQIECBAgQIAAgQICCnqBEIxAgAABAgQIECBAgAABAgQUdOcAAQIECBAgQIAAAQIECBAoIKCgFwjBCAQIECBAgAABAgQIECBAQEF3DhAgQIAAAQIECBAgQIAAgQICCnqBEIxAgAABAgQIECBAgAABAgQUdOcAAQIECBAgQIAAAQIECBAoIKCgFwjBCAQIECBAgAABAgQIECBAQEF3DhAgQIAAAQIECBAgQIAAgQICCnqBEIxAgAABAgQIECBAgAABAgQUdOcAAQIECBAgQIAAAQIECBAoIKCgFwjBCAQIECBAgAABAgQIECBAQEF3DhAgQIAAAQIECBAgQIAAgQICCnqBEIxAgAABAgQIECBAgAABAgQUdOcAAQIECBAgQIAAAQIECBAoIKCgFwjBCAQIECBAgAABAgQIECBAQEF3DhAgQIAAAQIECBAgQIAAgQICCnqBEIxAgAABAgQIECBAgAABAgQUdOcAAQIECBAgQIAAAQIECBAoIKCgFwjBCAQIECBAgAABAgQIECBAQEF3DhAgQIAAAQIECBAgQIAAgQICCnqBEIxAgAABAgQIECBAgAABAgQUdOcAAQIECBAgQIAAAQIECBAoIKCgFwjBCAQIECBAgAABAgQIECBAQEF3DhAgQIAAAQIECBAgQIAAgQICCnqBEIxAgAABAgQIECBAgAABAgQUdOcAAQIECBAgQIAAAQIECBAoIKCgFwjBCAQIECBAgAABAgQIECBAQEF3DhAgQIAAAQIECBAgQIAAgQICCnqBEIxAgAABAgQIECBAgAABAgQUdOcAAQIECBAgQIAAAQIECBAoIKCgFwjBCAQIECBAgAABAgQIECBAQEF3DhAgQIAAAQIECBAgQIAAgQICCnqBEIxAgAABAgQIECBAgAABAgQUdOcAAQIECBAgQIAAAQIECBAoIKCgFwjBCAQIECBAgAABAgQIECBAQEF3DhAgQIAAAQIECBAgQIAAgQICCnqBEIxAgAABAgQIECBAgAABAgQUdOcAAQIECBAgQIAAAQIECBAoIKCgFwjBCAQIECBAgAABAgQIECBAQEF3DhAgQIAAAQIECBAgQIAAgQICCnqBEIxAgAABAgQIECBAgAABAgQUdOcAAQIECBAgQIAAAQIECBAoIKCgFwjBCAQIECBAgAABAgQIECBAQEF3DhAgQIAAAQIECBAgQIAAgQICCnqBEIxAgAABAgQIECBAgAABAgQUdOcAAQIECBAgQIAAAQIECBAoIKCgFwjBCAQIECBAgAABAgQIECBAQEF3DhAgQIAAAQIECBAgQIAAgQICCnqBEIxAgAABAgQIECBAgAABAgQUdOcAAQIECBAgQIAAAQIECBAoIKCgFwjBCAQIECBAgAABAgQIECBAQEF3DhAgQIAAAQIECBAgQIAAgQICCnqBEIxAgAABAgQIECBAgAABAgQUdOcAAQIECBAgQIAAAQIECBAoIKCgFwjBCAQIECBAgAABAgQIECBAQEF3DhAgQIAAAQIECBAgQIAAgQICCnqBEIxAgAABAgQIECBAgAABAgQUdOcAAQIECBAgQIAAAQIECBAoIKCgFwjBCAQIECBAgAABAgQIECBAQEF3DhAgQIAAAQIECBAgQIAAgQICCnqBEIxAgAABAgQIECBAgAABAgQUdOcAAQIECBAgQIAAAQIECBAoIKCgFwhhLEfYtm1bPPzww/EHf/AHMWnSpLF8aI9FgAABAgQIECBAgEAhge3bt8eTTz4ZhxxySEyePLnQZIM7ioI+YNmvX78+hoaGBuyoHS4BAgQIECBAgAABAs8lsG7dupgxYwagAgIKeoEQxnKEjRs3xn777RfdJpw6depYPrTHIkCAAAECBAgQIECgkMCvfvWr3pN3GzZsiH333bfQZIM7ioI+YNl3m7DbfF1RV9AHLHyHS4AAAQIECBAgQOBpArpBvdNBQa+XSepENmEqr8UJECBAgAABAgQINCOgG9SLSkGvl0nqRDZhKq/FCRAgQIAAAQIECDQjoBvUi0pBr5dJ6kQ2YSqvxQkQIECAAAECBAg0I6Ab1ItKQa+XSepENmEqr8UJECBAgAABAgQINCOgG9SLSkGvl0nqRDZhKq/FCRAgQIAAAQIECDQjoBvUi0pBr5dJ6kQ2YSqvxQkQIECAAAECBAg0I6Ab1ItKQa+XSepENmEqr8UJECBAgAABAgQINCOgG9SLSkGvl0nqRDZhKq/FCRAgQIAAAQIECDQjoBvUi0pBr5dJ6kQ2YSqvxQkQIECAAAECBAg0I6Ab1ItKQa+XSepENmEqr8UJECBAgAABAgQINCOgG9SLSkGvl0nqRDZhKq/FCRAgQIAAAQIECDQjoBvUi0pBr5dJ6kQ2YSqvxQkQIECAAAECBAg0I6Ab1ItKQa+XSepENmEqr8UJECBAgAABAgQINCOgG9SLSkGvl0nqRDZhKq/FCRAgQIAAAQIECDQjoBvUi0pBr5dJ6kQ2YSqvxQkQIECAAAECBAg0I6Ab1ItKQa+XSepENmEqr8UJECBAgAABAgQINCOgG9SLSkGvl0nqRDZhKq/FCRAgQIAAAQIECDQjoBvUi0pBr5dJ6kQ2YSqvxQkQIECAAAECBAg0I6Ab1ItKQa+XSepENmEqr8UJECBAgAABAgQINCOgG9SLSkGvl0nqRDZhKq/FCRAgQIAAAQIECDQjoBvUi0pBr5dJ6kQ2YSqvxQkQIECAAAECBAg0I6Ab1ItKQa+XSepENmEqr8UJECBAgAABAgQINCOgG9SLSkGvl0nqRDZhKq/FCRAgQIAAAQIECDQjoBvUi0pBr5dJ6kQ2YSqvxQkQIDC+AvfcE7FkScSVV0bMmTO+s3h0AgQIECgvoBvUi0hBr5dJ6kQ2YSqvxQkQIDC+AosWRVx9dUT3ddmy8Z3FoxMgQIBAeQHdoF5ECnq9TFInsglTeS1OgACBsRdYuzbi8ccjJk2KmD8/4rHHIqZNi1i5MmL79ogDDoiYOXPs5/KIBAgQIFBeQDeoF5GCXi+T1IlswlReixMgQGDsBbpiPnzrft2V8uGvw9/vvudGgAABAgSeJaAb1DslFPR6maROZBOm8lqcAAECYy9w/fURCxdGbN2682PvtVfEihURCxaM/VwekQABAgTKC+gG9SJS0OtlkjqRTZjKa3ECBAiMj8C990bMnr3zY69ZEzFr1vjM5FEJECBAoLyAblAvIgW9XiapE9mEqbwWJ0CAwPgIDBf0yZMjtm2LGP6qoI9PHh6VAAECjQjoBvWCUtDrZZI6kU2YymtxAgQIjI/A+vURc+dGDA1FnHVWxLXXRqxbF7F6dcSMGeMzk0clQIAAgfICukG9iBT0epmkTmQTpvJanAABAuMnsHlzxJQpv7tA3JYtEXvvPX7zeGQCBAgQKC+gG9SLSEGvl0nqRDZhKq/FCRAgQIAAAQIECDQjoBvUi0pBr5dJ6kQ2YSqvxQkQIECAAAECBAg0I6Ab1ItKQa+XSepENmEqr8UJECBAgAABAgQINCOgG9SLSkGvl0nqRDZhKq/FCRAgQIAAAQIECDQjoBvUi0pBr5dJ6kQ2YSqvxQkQIECAAAECBAg0I6Ab1ItKQa+XSepENmEqr8UJECBAgAABAgQINCOgG9SLSkGvl0nqRDZhKq/FCRAgQIAAAQIECDQjoBvUi0pBr5dJ6kQ2YSqvxQkQIECAAAECBAg0I6Ab1ItKQa+XSepENmEqr8UJECBAgAABAgQINCOgG9SLSkGvl0nqRDZhKq/FCRAgQIAAAQIECDQjoBvUi0pBr5dJ6kQ2YSqvxQkQIECAAAECBAg0I6Ab1ItKQa+XSepENmEqr8UJECBAgAABAgQINCOgG9SLSkGvl0nqRDZhKq/FCRAgQIAAAQIECDQjoBvUi0pBr5dJ6kQ2YSqvxQkQIECAAAECBAg0I6Ab1ItKQa+XSepENmEqr8UJECBAgAABAgQINCOgG9SLSkEvlsnPf/7zuPDCC2PlypXx61//Ol72spfF5z//+ZgzZ05v0u3bt8cll1wSn/3sZ2PDhg3x+te/Pq655po44ogjRnQkNuGImNyJAAECBAgQIECAwIQX0A3qRaygF8rkiSeeiNe97nVxwgknxNlnnx0HHnhg/PjHP47DDz+89093u+KKK+Kyyy6L6667Lg477LC4+OKL4/77748HHngg9tlnn90ejU24WyJ3IECAAAECBAgQIDAQArpBvZgV9EKZfOADH4i77rorvvOd7+xyqu7Z80MOOSQWL14cF1xwQe8+GzdujOnTp8eKFSvi9NNP3+3R2IS7JXIHAgQIECBAgAABAgMhoBvUi1lBL5TJK1/5ypg3b16sX78+7rjjjnjpS18a733ve+M973lPb8qf/vSnvWfS77vvvjj66KN3TP7GN76x9+/Lli3b6Wg2b94c3T/Dt24TDg0N9Yr91KlTCx29UQgQIECAAAECBAgQGEsBBX0stUf2WAr6yJzG5F7DL1F///vfH+985ztj9erV8b73vS8+9alPxRlnnBGrVq3qvef84YcfjoMPPnjHTKeddlpMmjQpvvCFL+w059KlS+PSSy/d6fsK+phE6kEIECBAgAABAgQIlBVQ0OtFo6AXymTKlCm9i8F1RXz4tmjRol5Rv/vuu/eooHsGvVDARiFAgAABAgQIECBQSEBBLxTG/z+Kgl4ok5kzZ8bJJ58cn/vc53ZM1V2h/cMf/nB0V3ffk5e4P/vwbMJCgRuFAAECBAgQIECAwDgK6AbjiP8cD62gF8rkXe96V6xbt+4ZF4k7//zz43vf+17v2fPhi8R1F4jrLhTX3bpNNW3aNBeJK5SjUQgQIECAAAECBAi0IKCg10tJQS+USfdS9uOPP773nvHufeXf//73exeI+8xnPhMLFizoTdp9zNrll1/+jI9Z++EPf+hj1grlaBQCBAgQIECAAAECLQgo6PVSUtCLZfL1r389Lrroot7nn3efc95dMG74Ku7dqN2z6JdcckmvtG/YsCHe8IY3xPLly+PlL3/5iI7EJhwRkzsRIECAAAECBAgQmPACukG9iBX0epmkTmQTpvJanAABAgQIECBAgEAzArpBvagU9HqZpE5kE6byWpwAAQIECBAgQIBAMwK6Qb2oFPR6maROZBOm8lqcAAECBAgQIECAQDMCukG9qBT0epmkTmQTpvJanAABAgQIECBAgEAzArpBvagU9HqZpE5kE6byWpwAAQIECBAgQIBAMwK6Qb2oFPR6maROZBOm8lqcAAECBAgQIECAQDMCukG9qBT0epmkTmQTpvJanAABAgQIECBAgEAzArpBvagU9HqZpE5kE6byWpwAAQIECBAgQIBAMwK6Qb2oFPR6maROZBOm8lqcAAECBAgQIECAQDMCukG9qBT0epmkTmQTpvJanAABAgQIECBAgEAzArpBvagU9HqZpE5kE6byWpwAAQIECBAgQIBAMwK6Qb2oFPR6maROZBOm8lqcAAECBAgQIECAQDMCukG9qBT0epmkTmQTpvJanAABAgQIECBAgEAzArpBvagU9HqZpE5kE6byWpwAAQIECBAgQIBAMwK6Qb2oFPR6maROZBOm8lqcAAECBAgQIECAQDMCukG9qBT0epmkTmQTpvJanAABAgQIECBAgEAzArpBvagU9HqZpE5kE6byWpwAAQIECBAgQIBAMwK6Qb2oFPR6maROZBOm8lqcAAECBAgQIECAQDMCukG9qBT0epmkTmQTpvJanAABAgQIECBAgEAzArpBvagU9HqZpE5kE6byWpwAAQIECBAgQIBAMwK6Qb2oFPR6maROZBOm8lqcAAECBAgQIECAQDMCukG9qBT0epmkTmQTpvJanAABAgQIECBAgEAzArpBvagU9HqZpE5kE6byWpwAAQIECBAgQIBAMwK6Qb2oFPR6maROZBOm8lqcAAECBAgQIECAQDMCukG9qBT0epmkTmQTpvJanAABAgQIECBAgEAzArpBvagU9HqZpE5kE6byWpwAAQIECBAgQIBAMwK6Qb2oFPR6maROZBOm8lqcAAECBAgQIECAQDMCukG9qBT0epmkTmQTpvJanAABAgQIECBAgEAzArpBvagU9HqZpE5kE6byWpwAAQIECBAgQIBAMwK6Qb2oFPR6maROZBOm8lqcAAECBAgQIECAQDMCukG9qBT0epmkTmQTpvJanAABAgQIECBAgEAzArpBvagU9HqZpE5kE6byWpwAAQIECBAgQIBAMwK6Qb2oFPR6maROZBOm8lqcAAECBAgQIECAQDMCukG9qBT0epmkTmQTpvJanAABAgQIECBAgEAzArpBvagU9HqZpE5kE6byWpwAAQIECBAgQIBAMwK6Qb2oFPR6maROZBOm8lqcAAECBAgQIECAQDMCukG9qBT0epmkTmQTpvJanAABAgQIECBAgEAzArpBvagU9HqZpE5kE6byWpwAAQIECBAgQIBAMwK6Qb2oFPR6maROZBOm8lqcAAECBAgQIECAQDMCukG9qBT0epmkTmQTpvJanAABAgQIECBAgEAzArpBvagU9HqZpE5kE6byWpwAAQIECBAgQIBAMwK6Qb2oFPR6maROZBOm8lqcAAECBAgQIECAQDMCukG9qBT0epmkTmQTpvJanAABAgQIECBAgEAzArpBvagU9HqZpE5kE6byWpwAAQIECBAgQIBAMwK6Qb2oFPR6maROZBOm8lqcAAECBAgQIECAQDMCukG9qBT0epmkTmQTpvJanAABAgQIECBAgEAzArpBvagU9HqZpE5kE6byWpwAAQIECBAgQIBAMwK6Qb2oFPR6maROZBOm8lqcAAECBAgQIECAQDMCukG9qBT0epmkTmQTpvJanAABAgQIECBAgEAzArpBvagU9HqZpE5kE6byWpwAAQIECBAgQIBAMwK6Qb2oFPR6maROZBOm8lqcAAECBAgQIECAQDMCukG9qBT0epmkTmQTpvJanAABAgQIECBAgEAzArpBvagU9HqZpE5kE6byWpwAAQIECBAgQIBAMwK6Qb2oFPR6maROZBOm8lqcAAECBAgQIECAQDMCukG9qBT0epmkTmQTpvJanAABAgQIECBAgEAzArpBvagU9HqZpE5kE6byWpwAAQIECBAgQIBAMwK6Qb2oFPR6maROZBOm8lqcAAECBAgQIECAQDMCukG9qBT0epmkTmQTpvJanAABAgQIECBAgEAzArpBvagU9EKZLF26NC699NJnTPSKV7wiHnzwwd73Nm3aFIsXL46bbropNm/eHPPmzYvly5fH9OnTR3wUNuGIqdyRAAECBAgQIECAwIQW0A3qxaugF8qkK+g333xzfOtb39ox1V577RUHHHBA79/PPvvsuPXWW2PFihWx7777xjnnnBOTJ0+Ou+66a8RHYROOmModCRAgQIAAAQIECExoAd2gXrwKeqFMuoL+1a9+NX7wgx/sNNXGjRvjwAMPjBtuuCFOPfXU3n/vnlk/6qij4u67745jjz12REdiE46IyZ0IECBAgAABAgQITHgB3aBexAp6oUy6gn7VVVf1nh3fZ5994rjjjovLLrssDj300Lj99tvjxBNPjCeeeCL222+/HVPPnDkzzjvvvDj//PN3eSTdS+G7f4Zv3SYcGhqKrvBPnTq10NEbhQABAgQIECBAgACBsRRQ0MdSe2SPpaCPzGlM7rVy5cp46qmnonvf+SOPPNJ7P/rPf/7z+NGPfhS33HJLnHnmmc8o291QxxxzTJxwwglxxRVX7HLGXb2vvbujgj4mkXoQAgQIECBAgAABAmUFFPR60Sjo9TLZMdGGDRuie4b8ox/9aLzwhS/co4LuGfTCARuNAAECBAgQIECAwDgKKOjjiP8cD62g18vkGRPNnTs3TjrppDj55JP36CXuzz48m7B44MYjQIAAAQIECBAgMEYCusEYQY/iYRT0UWCN9V27l7t37z/vXqZ+xhln9C4Sd+ONN8Ypp5zSG+Whhx6KI4880kXixjoYj0eAAAECBAgQIEBgAggo6PVCVNALZXLBBRfEX/zFX/Re1v7www/HJZdc0rui+wMPPNAr593HrN122229j1nrLvB27rnn9qZftWrViI/CJhwxlTsSIECAAAECBAgQmNACukG9eBX0Qpmcfvrpceedd8Z///d/9wr5G97whvjIRz4Shx9+eG/KTZs2xeLFi3vPonfvLZ83b14sX748DjrooBEfhU04Yip3JECAAAECBAgQIDChBXSDevEq6PUySZ3IJkzltTgBAgQIECBAgACBZgR0g3pRKej1MkmdyCZM5bU4AQIECBAgQIAAgWYEdIN6USno9TJJncgmTOW1OAECBAgQIECAAIFmBHSDelEp6PUySZ3IJkzltTgBAgQIECBAgACBZgR0g3pRKej1MkmdyCZM5bU4AQIECBAgQIAAgWYEdIN6USno9TJJncgmTOW1OAECBAgQIECAAIFmBHSDelEp6PUySZ3IJkzltTgBAgQIECBAgACBZgR0g3pRKej1MkmdyCZM5bU4AQIECBAgQIAAgWYEdIN6USno9TJJncgmTOW1OAECBAgQIECAAIFmBHSDelEp6PUySZ3IJkzltTgBAgQIECBAgACBZgR0g3pRKej1MkmdyCZM5bU4AQIECBAgQIAAgWYEdIN6USno9TJJncgmTOW1OAECBAgQIECAAIFmBHSDelEp6PUySZ3IJkzltTgBAgQIECBAgACBZgR0g3pRKej1MkmdyCZM5bU4AQIECBAgQIAAgWYEdIN6USno9TJJncgmTOW1OAECBAgQIECAAIFmBHSDelEp6PUySZ3IJkzltTgBAgQIECBAgACBZgR0g3pRKej1MkmdyCZM5bU4AQIEJqbAPfdELFkSceWVEXPmTMxjdFQECBAYQAHdoF7oCnq9TFInsglTeS1OgACBiSmwaFHE1VdHdF+XLZuYx+ioCBAgMIACukG90BX0epmkTmQTpvJanAABAhNHYO3aiMcfj5g0KWL+/IjHHouYNi1i5cqI7dsjDjggYubMiXO8joQAAQIDKKAb1AtdQa+XSepENmEqr8UJECAwcQS6Yj58637dlfLhr8Pf777nRoAAAQLNCugG9aJT0OtlkjqRTZjKa3ECBAhMHIHrr49YuDBi69adj2mvvSJWrIhYsGDiHK8jIUCAwAAK6Ab1QlfQ62WSOpFNmMprcQIECEwsgXvvjZg9e+djWrMmYtasiXWsjoYAAQIDKKAb1AtdQa+XSepENmEqr8UJECAwsQSGC/rkyRHbtkUMf1XQJ1bOjoYAgYEV0A3qRa+g18skdSKbMJXX4gQIEJhYAuvXR8ydGzE0FHHWWRHXXhuxbl3E6tURM2ZMrGN1NAQIEBhAAd2gXugKer1MUieyCVN5LU6AAIGJJ7B5c8SUKb+7QNyWLRF77z3xjtMRESBAYAAFdIN6oSvo9TJJncgmTOW1OAECBAgQIECAAIFmBHSDelEp6PUySZ3IJkzltTgBAgQIECBAgACBZgR0g3pRKej1MkmdyCZM5bU4AQIECBAgQIAAgWYEdIN6USno9TJJncgmTOW1OAECBAgQIECAAIFmBHSDelEp6PUySZ3IJkzltTgBAgQIECBAgACBZgR0g3pRKej1MkmdyCZM5bU4gXYE7rknYsmSiCuvjJgzp525TUqAAAECBAj0TUA36Btl3xZS0PtG2cZCNmEbOZmSQLrAokURV18d0X1dtiz94TwAAQIECBAgUE9AN6iXiYJeL5PUiWzCVF6LE6gtsHZtxOOP//bzrOfPj3jssYhp0yJWrozYvj3igAMiZs6sfQymI0CAAAECBPomoBv0jbJvCynofaNsYyGbsI2cTEkgRaAr5sO37tddKR/+Ovz97ntuBAgQIECAwEAI6Ab1YlbQ62WSOpFNmMprcQK1Ba6/PmLhwoitW3eec6+9IlasiFiwoPYxmI4AAQIECBDom4Bu0DfKvi2koPeNso2FbMI2cjIlgTSBe++NmD175+XXrImYNSvtYS1MgAABAgQI1BPQDeploqDXyyR1IpswldfiBOoLDBf0yZMjtm2LGP6qoNfPzoQECBAgQKDPArpBn0H7sJyC3gfElpawCVtKy6wEEgTWr4+YOzdiaCjirLMirr02Yt26iNWrI2bMSHhASxIgQIAAAQJVBXSDesko6PUySZ3IJkzltTiBNgQ2b46YMuV3F4jbsiVi773bmN2UBAgQIECAQN8EdIO+UfZtIQW9b5RtLGQTtpGTKQkQIECAAAECBAhkC+gG2cKjX19BH71Z0z9hEzYdn+EJECBAgAABAgQI9E1AN+gbZd8WUtD7RtnGQjZhGzmZkgABAgQIECBAgEC2gG6QLTz69RX00Zs1/RM2YdPxGZ4AAQIECBAgQIBA3wR0g75R9m0hBb1vlG0sZBO2kZMpCRAgQIAAAQIECGQL6AbZwqNfX0EfvVnTP2ETNh2f4QkQIECAAAECBAj0TUA36Btl3xZS0PtG2cZCNmEbOZmSAAECBAgQIECAQLaAbpAtPPr1FWCvi/MAACAASURBVPTRmzX9EzZh0/EZngABAgQIECBAgEDfBHSDvlH2bSEFvW+UbSxkE7aRkykJECBAgAABAgQIZAvoBtnCo19fQR+9WdM/YRM2HZ/hCRAgQIAAAQIECPRNQDfoG2XfFlLQ+0bZxkI2YRs5mZIAAQIECBAgQIBAtoBukC08+vUV9NGbNf0TNmHT8RmeAAECBAgQIECAQN8EdIO+UfZtIQW9b5RtLGQTtpGTKQkQIECAAAECBAhkC+gG2cKjX19BH71Z0z9hEzYdn+EJECBAgAABAgQI9E1AN+gbZd8WUtD7RtnGQjZhGzmZkgABAgQIECBAgEC2gG6QLTz69RX00Zs1/RM2YdPxGZ4AAQIECBAgQIBA3wR0g75R9m0hBb1vlG0sZBO2kZMpCRAgQIAAAQIECGQL6AbZwqNfX0EfvVnTP2ETNh2f4QkQIECAAAECBAj0TUA36Btl3xZS0PtG2cZCNmEbOZmSAAECBAgQIECAQLaAbpAtPPr1FfTRm43JT1x++eVx0UUXxfve9774+Mc/3nvMTZs2xeLFi+Omm26KzZs3x7x582L58uUxffr0Ec9kE46Yyh0JECBAgAABAgQITGgB3aBevAp6vUxi9erVcdppp8XUqVPjhBNO2FHQzz777Lj11ltjxYoVse+++8Y555wTkydPjrvuumvER2ETjpjKHQkQIECAAAECBAhMaAHdoF68CnqxTJ566qmYNWtW75nxD3/4w3H00Uf3CvrGjRvjwAMPjBtuuCFOPfXU3tQPPvhgHHXUUXH33XfHscceO6IjsQlHxOROBAgQIECAAAECBCa8gG5QL2IFvVgmZ5xxRuy///7xsY99LN70pjftKOi33357nHjiifHEE0/Efvvtt2PqmTNnxnnnnRfnn3/+Lo+keyl898/wrduEQ0NDvcLfPUPvRoAAAQIECBAgQIDAYAoo6PVyV9ALZdK9t/wjH/lI7yXu++yzzzMKevfM+ZlnnvmMst2Nfswxx/ReBn/FFVfs8kiWLl0al1566U7/TUEvFLxRCBAgQIAAAQIECIyDgII+Dui7eUgFvUgm69atizlz5sQ3v/nNeM1rXtOb6unPoO9pQfcMepGAjUGAAAECBAgQIECgmICCXiyQiFDQi2Ty1a9+Nd7+9rfHC17wgh0T/eY3v4lJkyb1LgT3jW98I0466aRRv8T92YdnExYJ3BgECBAgQIAAAQIExllANxjnAHbx8Ap6kUyefPLJWLt27TOm6V7SfuSRR8aFF17Ye994d5G4G2+8MU455ZTe/R566KHef3eRuCIhGoMAAQIECBAgQIBAQwIKer2wFPR6meyY6Okvce++2X3M2m233db7mLXuAm/nnntu776rVq0a8VHYhCOmckcCBAgQIECAAAECE1pAN6gXr4JeL5PnLOibNm2KxYsX955F795bPm/evN7HsR100EEjPgqbcMRU7kiAAAECBAgQIEBgQgvoBvXiVdDrZZI6kU2YymtxAgQIECBAgAABAs0I6Ab1olLQ62WSOpFNmMprcQIECBAgQIAAAQLNCOgG9aJS0OtlkjqRTZjKa3ECBAgQIECAAAECzQjoBvWiUtDrZZI6kU2YymtxAgQIECBAgAABAs0I6Ab1olLQ62WSOpFNmMprcQIECBAgQIAAAQLNCOgG9aJS0OtlkjqRTZjKa3ECBAgQIECAAAECzQjoBvWiUtDrZZI6kU2YymtxAgQqCdxzT8SSJRFXXhkxZ06lycxCgAABAgRKCOgGJWJ4xhAKer1MUieyCVN5LU6AQCWBRYsirr46ovu6bFmlycxCgAABAgRKCOgGJWJQ0OvFMHYT2YRjZ+2RCBAYB4G1ayMefzxi0qSI+fMjHnssYtq0iJUrI7ZvjzjggIiZM8dhMA9JgAABAgTqCegG9TLxDHq9TFInsglTeS1OgMB4C3TFfPjW/bor5cNfh7/ffc+NAAECBAgQCN2g3kmgoNfLJHUimzCV1+IECIy3wPXXRyxcGLF1686T7LVXxIoVEQsWjPeUHp8AAQIECJQQ0A1KxPCMIRT0epmkTmQTpvJanACBCgL33hsxe/bOk6xZEzFrVoUJzUCAAAECBEoI6AYlYlDQ68UwdhPZhGNn7ZEIEBgngeGCPnlyxLZtEcNfFfRxCsTDEiBAgEBVAd2gXjKeQa+XSepENmEqr8UJEKggsH59xNy5EUNDEWedFXHttRHr1kWsXh0xY0aFCc1AgAABAgRKCOgGJWLwDHq9GMZuIptw7Kw9EgEC4yiweXPElCm/u0Dcli0Re+89jgN5aAIECBAgUE9AN6iXiWfQ62WSOpFNmMprcQIECgn85jcR3/lOxCOPRBx8cMQf/3HEC15QaECjECBAgACBcRbQDcY5gF08vIJeL5PUiWzCVF6LEyBQRODLX4543/siule7D9+6V7cvWxbxjncUGdIYBAgQIEBgnAV0g3EOQEGvF8BYT2QTjrW4xyNAYKwFunJ+6qm//Qj0p9+GPyL95puV9LHOxOMRIECAQE0B3aBeLp5Br5dJ6kQ2YSqvxQkQGGeB7mXt/+t/PfOZ82eX9O6Z9P/3/7zcfZyj8vAECBAgUEBANygQwrNGUNDrZZI6kU2YymtxAgTGWeDb34444YTdD/F//2/Em960+/u5BwECBAgQmMgCukG9dBX0epmkTmQTpvJanACBcRa48caId71r90PccEPEX/3V7u/nHgQIECBAYCIL6Ab10lXQ62WSOpFNmMprcQIExlnAM+jjHICHJ0CAAIGmBHSDenEp6PUySZ3IJkzltTgBAuMsMPwe9J//fOeLxHWjdReK8x70cQ7JwxMgQIBAGQHdoEwUOwZR0OtlkjqRTZjKa3ECBAoIDF/FvRvl6VdydxX3AuEYgQABAgRKCegGpeLoDaOg18skdSKbMJXX4gQIFBHY1eegDw1FfPzjPmKtSETGIECAAIECArpBgRCeNYKCXi+T1IlswlReixMgUEige7n7d74T8cgjEQcfHPHHf+yj1QrFYxQCBAgQKCCgGxQIQUGvF8JYTmQTjqW2xyJAgAABAgQIECBQV0A3qJeNZ9DrZZI6kU3YR9577olYsiTiyisj5szp48KWIkCAAAECBAgQIJAvoBvkG4/2ERT00Yo1fn+bsI8BLloUcfXVEd3XZcv6uLClCBAgQIAAAQIECOQL6Ab5xqN9BAV9tGKN398mfJ4Brl0b8fjjv/2spvnzIx57LGLatIiVK397uegDDoiYOfN5PogfJ0CAwDgKeHXQOOJ7aAIECIytgG4wtt4jeTQFfSRKE+g+NuHzDHP4c5q6Zbpfd6V8+Ovw0k//XKfn+XB+nAABAmMu4NVBY07uAQkQIDBeArrBeMk/9+Mq6PUySZ3IJnyevNdfH7FwYcTWrTsvtNdeEStWRCxY8DwfxI8TIEBgjAW8OmiMwT0cAQIEagjoBjVyePoUCnq9TFInsgn7wHvvvRGzZ++80Jo1EbNm9eEBLEGAAIExFvDqoDEG93AECBCoIaAb1MhBQa+Xw5hNZBP2gXq4oE+eHLFtW8TwVwW9D7iWIEBgXAS8Omhc2D0oAQIExltANxjvBHZ+fM+g18skdSKbsA+869dHzJ0bMTQUcdZZEddeG7FuXcTq1REzZvThASxBgACBcRDw6qBxQPeQBAgQGF8B3WB8/Xf16Ap6vUxSJ7IJ+8S7eXPElCm/u0Dcli0Re+/dp8UtQ4AAgXEQ8OqgcUD3kAQIEBhfAd1gfP0V9Hr+Yz6RTTjm5B6QAAECbQh4dVAbOZmSAAECfRTQDfqI2aelPIPeJ8hWlrEJW0nKnAQIEBgHAa8OGgd0D0mAAIHxE9ANxs/+uR5ZQa+XSepENmEqr8UJECBAgAABAgQINCOgG9SLSkGvl0nqRDZhKq/FCRAgQIAAAQIECDQjoBvUi0pBr5dJ6kQ2YSqvxQkQIECAAAECBAg0I6Ab1ItKQa+XSepENmEqr8UJECBAgAABAgQINCOgG9SLSkGvl0nqRDZhKq/FCRAgQIAAAQIECDQjoBvUi0pBr5dJ6kQ2YSqvxQkQIECAAAECBAg0I6Ab1ItKQa+XSepENmEqr8UJECBAgAABAgQINCOgG9SLSkGvl0nqRDZhKq/FCRAgQIAAAQIECDQjoBvUi0pBr5dJ6kQ2YSqvxQkQIECAAAECBAg0I6Ab1ItKQa+XSepENmEqr8UJECBAgAABAgQINCOgG9SLSkGvl0nqRDZhKq/FCRAgQIAAAQIECDQjoBvUi0pBr5dJ6kQ2YSqvxQkQIECAAAECBAg0I6Ab1ItKQa+XSepENmEqr8UJECBAgAABAgQINCOgG9SLSkGvl0nqRDZhKq/FCRAgQIAAAQIECDQjoBvUi0pBr5dJ6kQ2YSqvxQkQIECAAAECBAg0I6Ab1ItKQa+XSepENmEqr8UJECBAgAABAgQINCOgG9SLSkGvl0nqRDZhKq/FCRAgQIAAAQIECDQjoBvUi0pBr5dJ6kQ2YSqvxQkQIECAAAECBAg0I6Ab1ItKQa+XSepENmEqr8UJECBAgAABAgQINCOgG9SLSkGvl0nqRDZhKq/FCRAgQIAAAQIECDQjoBvUi0pBL5TJNddcE90///mf/9mb6lWvelV86EMfivnz5/f+fdOmTbF48eK46aabYvPmzTFv3rxYvnx5TJ8+fcRHYROOmModCRAgQIAAAQIECExoAd2gXrwKeqFMbrnllnjBC14QRxxxRGzfvj2uu+66uOqqq+K+++7rlfWzzz47br311lixYkXsu+++cc4558TkyZPjrrvuGvFR2IQjpnJHAgQIECBAgAABAhNaQDeoF6+CXi+TZ0y0//7790r6qaeeGgceeGDccMMNvV93twcffDCOOuqouPvuu+PYY48d0ZHYhCNicicCBAgQIECAAAECE15AN6gXsYJeL5PeRL/5zW/iS1/6Upxxxhm9Z9AfffTROPHEE+OJJ56I/fbbb8fUM2fOjPPOOy/OP//8XR5J91L47p/hW7cJh4aGYuPGjTF16tSiR28sAgQIECBAgAABAgSyBRT0bOHRr6+gj94s9Sfuv//+OO6443rvN3/JS17Se8b8LW95S+/rmWee+Yyy3Q1yzDHHxAknnBBXXHHFLudaunRpXHrppTv9NwU9NUaLEyDQusA990QsWRJx5ZURc+a0fjTmJ0CAAAECuxRQ0OudGAp6sUy2bNkSP/vZz3rPcN98883xuc99Lu644474wQ9+sEcF3TPoxQI2DoHxEFA2R6++aFHE1VdHdF+XLRv9z/sJAgQIECDQgICCXi8kBb1eJs+Y6KSTTorDDz88/vIv/3KPXuL+7MOzCYsHbjwCGQLK5shU166NePzxiEmTIrpPz3jssYhp0yJWrozYvj3igAMiZs4c2VruRYAAAQIEGhDQDeqFpKDXy+QZE/3pn/5pHHroobFs2bLeReJuvPHGOOWUU3r3eeihh+LII490kbjiGRqPwLgIKJujZ++K+fCt+3VXyoe/Dn+/+54bAQIECBCYIAIKer0gFfRCmVx00UW9zzzvCvmTTz7Ze995997yb3zjG3HyySf3Pmbttttu633MWneBt3PPPbc3/apVq0Z8FDbhiKnckUDbAsrm6PO7/vqIhQsjtm7d+Wf32itixYqIBQtGv66fIECAAAECRQV0g3rBKOiFMjnrrLPiX//1X+ORRx7pfc75a17zmrjwwgt75by7dReOW7x4ce9Z9O695fPmzYvly5fHQQcdNOKjsAlHTOWOBNoWUDb3LL97742YPXvnn12zJmLWrD1b008RIECAAIGiArpBvWAU9HqZpE5kE6byWpxALQFlc/R5DJtNnhyxbVvE8FcFffSWfoIAAQIEygvoBvUiUtDrZZI6kU2YymtxArUElM3R57F+fcTcuRFDQxFnnRVx7bUR69ZFrF4dMWPG6NfzEwQIECBAoLCAblAvHAW9XiapE9mEqbwWJ1BLQNncszw2b46YMuV3F4jbsiVi7733bC0/RYAAAQIECgvoBvXCUdDrZZI6kU2YymtxAvUElM16mZiIAAECBAgUEdANigTxtDEU9HqZpE5kE6byWpwAAQIECBAgQIBAMwK6Qb2oFPR6maROZBOm8lqcAAECBAgQIECAQDMCukG9qBT0epmkTmQTpvJanAABAgQIECBAgEAzArpBvagU9HqZpE5kE6byWpwAAQIECBAgQIBAMwK6Qb2oFPR6maROZBOm8lqcAAECBAgQIECAQDMCukG9qBT0epmkTmQTpvJanAABAgQIECBAgEAzArpBvagU9HqZpE5kE6byWpwAAQIECBAgQIBAMwK6Qb2oFPR6maROZBOm8lqcAAECBAgQIECAQDMCukG9qBT0epmkTmQTpvJanAABAgQIECBAgEAzArpBvagU9HqZpE5kE6byWpwAAQIECBAgQIBAMwK6Qb2oFPR6maROZBOm8lqcAAECBAgQIECAQDMCukG9qBT0epmkTmQTpvJanAABArkC99wTsWRJxJVXRsyZk/tYVidAgACBCS+gG9SLWEGvl0nqRDZhKq/FCRAgkCuwaFHE1VdHdF+XLct9LKsTIECAwIQX0A3qRayg18skdSKbMJXX4gQIEOi/wNq1EY8/HjFpUsT8+RGPPRYxbVrEypUR27dHHHBAxMyZ/X9cKxIgQIDAhBfQDepFrKDXyyR1IpswldfiBAgQ6L9AV8yHb92vu1I+/HX4+9333AgQIECAwCgFdINRgo3B3RX0MUCu9BA2YaU0zEKAAIERCFx/fcTChRFbt+585732ilixImLBghEs5C4ECBAgQOCZArpBvTNCQa+XSepENmEqr8UJECCQI3DvvRGzZ++89po1EbNm5TymVQkQIEBgwgvoBvUiVtDrZZI6kU2YymtxAgQI5AgMF/TJkyO2bYsY/qqg53hblQABAgMioBvUC1pBr5dJ6kQ2YSqvxQkQIJAjsH59xNy5EUNDEWedFXHttRHr1kWsXh0xY0bOY1qVAAECBCa8gG5QL2IFvV4mqRPZhKm8FidAgECewObNEVOm/O4CcVu2ROy9d97jWZkAAQIEJryAblAvYgW9XiapE9mEqbwWJ0CAAAECBAgQINCMgG5QLyoFvV4mqRPZhKm8FidAgAABAgQIECDQjIBuUC8qBb1eJqkT2YSpvBYnQIAAAQIECBAg0IyAblAvKgW9XiapE9mEqbwWJ0CAAAECBAgQINCMgG5QLyoFvV4mqRPZhKm8FidAgAABAgQIECDQjIBuUC8qBb1eJqkT2YSpvBYnQIAAAQIECBAg0IyAblAvKgW9XiapE9mEqbwWJ0CAAAECBAgQINCMgG5QLyoFvV4mqRPZhKm8FidAgAABAgQIECDQjIBuUC8qBb1eJqkT2YSpvBYnQIAAgd0J3HNPxJIlEVdeGTFnzu7u7b8TIECAQKKAbpCIu4dLK+h7CNfqj9mErSZnbgIECEwQgUWLIq6+OqL7umzZBDkoh0GAAIE2BXSDerkp6PUySZ3IJkzltTgBAgQI7Epg7dqIxx+PmDQpYv78iMcei5g2LWLlyojt2yMOOCBi5kx2BAgQIDDGArrBGIOP4OEU9BEgTaS72IQTKU3HQoAAgUYEumI+fOt+3ZXy4a/D3+++50aAAAECYyqgG4wp94geTEEfEdPEuZNNOHGydCQECBBoRuD66yMWLozYunXnkffaK2LFiogFC5o5HIMSIEBgogjoBvWSVNDrZZI6kU2YymtxAgQIEHgugXvvjZg9e+f/umZNxKxZ3AgQIEBgHAR0g3FA381DKuj1MkmdyCZM5bU4AQIECOyuoE+eHLFtW8TwVwXdOUOAAIFxE9ANxo3+OR9YQa+XSepENmEqr8UJECBA4LkE1q+PmDs3Ymgo4qyzIq69NmLduojVqyNmzOBGgAABAuMgoBuMA/puHlJBr5dJ6kQ2YSqvxQkQIEDg9wls3hwxZcrvLhC3ZUvE3nszI0CAAIFxEtANxgn+9zysgl4vk9SJbMJUXosTIECAAAECBAgQaEZAN6gXlYJeL5PUiWzCVF6LEyBAgAABAgQIEGhGQDeoF5WCXi+T1IlswlReixMgQIAAAQIECBBoRkA3qBeVgl4vk9SJbMJUXosTIECAAAECBAgQaEZAN6gXlYJeL5PUiWzCVF6LEyBAYGII3HNPxJIlEVdeGTFnzsQ4JkdBgAABAjsJ6Ab1TgoFvV4mqRPZhKm8FidAgMDEEFi0KOLqqyO6r8uWTYxjchQECBAgoKA3cA4o6A2E1M8RFfR+alqLAAECE0hg7dqIxx//7UegzZ8f8dhjEdOmRaxcGbF9e8QBB0TMnDmBDtihECBAgIBuUO8cUNDrZZI6kU2YymtxAgQItCvQFfPhW/frrpQPfx3+fvc9NwIECBCYMAK6Qb0oFfR6maROZBOm8lqcAAEC7Qpcf33EwoURW7fufAx77RWxYkXEggXtHp/JCRAgQGAnAd2g3kmhoNfLJHUimzCV1+IECBBoW+DeeyNmz975GNasiZg1q+1jMz0BAgQIKOgNnAMKegMh9XNEBb2fmtYiQIDABBMYLuiTJ0ds2xYx/FVBn2BBOxwCBAj8VkA3qHcmKOj1MkmdyCZM5bU4AQIE2hZYvz5i7tyIoaGIs86KuPbaiHXrIlavjpgxo+1jMz0BAgQI7CSgG9Q7KRT0epmkTmQTpvJanAABAm0KPP1zz//3/46YMuV3F4jbsiVi773bPC5TEyBAgMDvFdAN6p0gCnq9TFInsglTeS1OgACBNgV87nmbuZmaAAECz1NAN3iegAk/rqAnoFZe0iasnI7ZCBAgMIYCPvd8DLE9FAECBGoK6Ab1clHQ62WSOpFNmMprcQIECLQj4HPP28nKpAQIEEgS0A2SYJ/Hsgr688Br8UdtwhZTMzMBAgQSBHzueQKqJQkQINCWgG5QLy8FvVAml112WXz5y1+OBx98MF74whfG8ccfH1dccUW84hWv2DHlpk2bYvHixXHTTTfF5s2bY968ebF8+fKYPn36iI7EJhwRkzsRIEBgMAR87vlg5OwoCRAg8BwCukG9U0NBL5TJm9/85jj99NNj7ty5sXXr1vjgBz8YP/rRj+KBBx6IF7/4xb1Jzz777Lj11ltjxYoVse+++8Y555wTkydPjrvuumtER2ITjojJnQgQIDAYAj73fDBydpQECBBQ0Js5BxT0wlH94he/iGnTpsUdd9wRf/InfxIbN26MAw88MG644YY49dRTe5N3z7YfddRRcffdd8exxx6726NR0HdL5A4ECBAYHAGfez44WTtSAgQI7EJAN6h3Wijo9TLZMdFPfvKTOOKII+L++++PV7/61XH77bfHiSeeGE888UTst99+O+43c+bMOO+88+L888/f6Wi6l8F3/wzfuk04NDTUK/tTp04tfPRGI0CAAIExEej+H+Fzz8eE2oMQIECgmoCCXi2RCAW9Xia9ibZt2xZvfetbY8OGDfHd7363973umfMzzzzzGYW7+/4xxxwTJ5xwQu/96s++LV26NC699NKdvq+gFw3eWAQIECBAgAABAgTGSEBBHyPoUTyMgj4KrLG8a/de85UrV/bK+YwZM/a4oHsGfSxT81gECBAgQIAAAQIE2hFQ0OtlpaDXy6R34bevfe1rceedd8Zhhx22Y8I9eYn7sw/PJiwYuJEIECBAgAABAgQIjIOAbjAO6Lt5SAW9UCbbt2+Pc889N77yla/Et7/97d77z59+G75I3I033hinnHJK7z899NBDceSRR7pIXKEcjUKAAAECRQTuuSdiyZKIK6+MmDOnyFDGIECAQB0BBb1OFsOTKOiFMnnve9/be5959+z50z/7vPs4te5z0btb99L32267rfcxa91F3rpC391WrVo1oiOxCUfE5E4ECBAgMBEEFi2KuPrqiO7rsmUT4YgcAwECBPoqoBv0lbMviynofWHszyKTJk3a5UKf//znY+HChb3/tmnTpli8eHF0z6J37y+fN29eLF++PA466KARDWETjojJnQgQIECgVYG1ayMefzyi+3/q/PkRjz0WMW1axMqVEdu3RxxwQMTMma0enbkJECDQVwHdoK+cfVlMQe8LYzuL2ITtZGVSAgQIENgDgaf/ZXf3666UD38dXq77nhsBAgQIhG5Q7yRQ0OtlkjqRTZjKa3ECBAgQGG+B66+P6F51tnXrzpPstVfEihURCxaM95QenwABAiUEdIMSMTxjCAW9XiapE9mEqbwWJ0CAAIEKAvfeGzF79s6TrFkTMWtWhQnNQIAAgRICukGJGBT0ejGM3UQ24dhZeyQCBAgQGCeB4YI+eXLEtm0Rw18V9HEKxMMSIFBVQDeol4xn0OtlkjqRTZjKa3ECBAgQqCCwfn3E3LkRQ0MRZ50Vce21EevWRaxeHTFjRoUJzUCAAIESArpBiRg8g14vhrGbyCYcO2uPRIAAAQLjKLB5c8SUKb+7QNyWLRF77z2OA3loAgQI1BPQDepl4hn0epmkTmQTpvJanAABAgQIECBAgEAzArpBvagU9HqZpE5kE6byWpwAAQIECBAgQIBAMwK6Qb2oFPR6maROZBOm8lqcAAECBAgQIECAQDMCukG9qBT0epmkTmQTpvJanAABAgQIECBAgEAzArpBvagU9HqZpE5kE6byWpwAAQIECBAgQIBAMwK6Qb2oFPR6maROZBOm8lqcAAECBAgQIECAQDMCukG9qBT0epmkTmQTpvJanAABAgQIECBAgEAzArpBvagU9HqZpE5kE6byWpwAAQIECBAgQIBAMwK6Qb2oFPR6maROZBOm8lqcAAECBAgQIECAQDMCukG9qBT0epmkTmQTpvJanAABAgQIECBAgEAzArpBvagU9HqZpE5kE6byWpwAAQIECBAgQIBAMwK6Qb2oFPR6maROZBOm8lqcAAECBAgQIECAQDMCukG9qBT0WohmTwAAHT5JREFUepmkTmQTpvJanAABAgQIECBAgEAzArpBvagU9HqZpE5kE6byWpwAAQIECBAgQIBAMwK6Qb2oFPR6maROZBOm8lqcAAECBAgQIECAQDMCukG9qBT0epmkTmQTpvJanAABAgQIECBAgEAzArpBvagU9HqZpE5kE6byWpwAAQIECBAgQIBAMwK6Qb2oFPR6maROZBOm8lqcAAECBAgQIECAQDMCukG9qBT0epmkTmQTpvJanAABAgQIECBAgEAzArpBvagU9HqZpE5kE6byWpwAAQIECBAgQIBAMwK6Qb2oFPR6maROZBOm8lqcAAECBAgQIECAQDMCukG9qBT0epmkTmQTpvJanAABAgQIECBAgEAzArpBvagU9HqZpE5kE6byWpwAAQIECBAgQIBAMwK6Qb2oFPR6maROZBOm8lqcAAECBAgQIECAQDMCukG9qBT0epmkTmQTpvJanAABAgQIECBAgEAzArpBvagU9HqZpE5kE6byWpwAAQIECBAgQIBAMwK6Qb2oFPR6maROZBOm8lqcAAECBAgQIECAQDMCukG9qBT0epmkTmQTpvJanAABAgQIECBAgEAzArpBvagU9HqZpE5kE6byWpwAAQIECBAgQIBAMwK6Qb2oFPR6maROZBOm8lqcAAECBAgQIECAQDMCukG9qBT0epmkTmQTpvJanAABAgQIECBAgEAzArpBvagU9HqZpE5kE6byWpwAAQIECBAgQIBAMwK6Qb2oFPR6maROZBOm8lqcAAECBAgQIECAQDMCukG9qBT0epmkTmQTpvJanAABAgQIECBAgEAzArpBvagU9HqZpE5kE6byWpwAAQIECBAgQIBAMwK6Qb2oFPR6maROZBOm8lqcAAECBAgQIECAQDMCukG9qBT0epmkTmQTpvJanAABAgQIECBAgEAzArpBvagU9HqZpE5kE6byWpwAAQIECBAgQIBAMwK6Qb2oFPR6maROZBOm8lqcAAECBAgQIECAQDMCukG9qBT0epmkTmQTpvJanAABAgQIECBAgEAzArpBvagU9HqZpE5kE6byWpwAAQIECBAgQIBAMwK6Qb2oFPR6maROZBOm8lqcAAECBAgQIECAQDMCukG9qBT0epmkTmQTpvJanAABAgQIECBAgEAzArpBvagU9HqZpE5kE6byWpwAAQIECBAgQIBAMwK6Qb2oFPR6maROZBOm8lqcAAECBAgQIECAQDMCukG9qBT0epmkTmQTpvJanAABAgQIECBAgEAzArpBvagU9HqZpE5kE6byWpwAAQIECBAgQIBAMwK6Qb2oFPR6maROZBOm8lqcAAECBAgQIECAQDMCukG9qBT0epmkTmQTpvJanAABAgQIECBAgEAzArpBvagU9HqZpE5kE6byWpwAAQIECBAgQIBAMwK6Qb2oFPR6maROZBOm8lqcAAECBAgQIECAQDMCukG9qBT0epmkTmQTpvJanAABAgQIECBAgEAzArpBvagU9EKZ3HnnnXHVVVfFmjVr4pFHHomvfOUr8ba3vW3HhNu3b49LLrkkPvvZz8aGDRvi9a9/fVxzzTVxxBFHjPgobMIRU7kjAQIECBAgQIAAgQktoBvUi1dBL5TJypUr46677orZs2fHO97xjp0K+hVXXBGXXXZZXHfddXHYYYfFxRdfHPfff3888MADsc8++4zoSGzCETG5EwECBAgQIECAAIEJL6Ab1ItYQa+XSW+iSZMmPaOgd8+eH3LIIbF48eK44IILevfZuHFjTJ8+PVasWBGnn376iI7EJhwRkzsRIECAAAECBAgQmPACukG9iBX0epnssqD/9Kc/jcMPPzzuu+++OProo3dM/cY3vrH378uWLdvlkWzevDm6f4Zv3SYcGhrqlfupU6cWPXpjESBAgAABAgQIECCQLaCgZwuPfn0FffRmY/ITz34GfdWqVb33nD/88MNx8MEH75jhtNNO6z3b/oUvfGGXcy1dujQuvfTSnf6bgj4mMXoQAgQIECBAgAABAmUFFPR60Sjo9TLpTdSvgu4Z9KIBG4sAAQIECBAgQIDAOAso6OMcwC4eXkGvl8kuC/qevsT92YdnExYN3FgECBAgQIAAAQIExlhANxhj8BE8nII+AqTxuMtzXSSuu0Bcd6G47tZtqGnTprlI3HgE5DEJECBAgAABAgQINC6goNcLUEEvlMlTTz0VP/nJT3oTve51r4uPfvSjccIJJ8T+++8fhx56aHQfs3b55Zc/42PWfvjDH/qYtUIZGoUAAQIECBAgQIBAKwIKer2kFPRCmXz729/uFfJn384444zes+TdR61dcskl8ZnPfCY2bNgQb3jDG2L58uXx8pe/fMRHYROOmModCRAgQIAAAQIECExoAd2gXrwKer1MUieyCVN5LU6AAAECBAgQIECgGQHdoF5UCnq9TFInsglTeS1OgAABAgQIECBAoBkB3aBeVAp6vUxSJ7IJU3ktToAAAQIECBAgQKAZAd2gXlQKer1MUieyCVN5LU6AAAECBAgQIECgGQHdoF5UCnq9TFInsglTeS1OgAABAgQIECBAoBkB3aBeVAp6vUxSJ7IJU3ktToAAAQIECBAgQKAZAd2gXlQKer1MUieyCVN5LU6AAAECBAgQIECgGQHdoF5UCnq9TFInsglTeS1OgAABAgQIECBAoBkB3aBeVAp6vUxSJ7IJU3ktToAAAQIECBAgQKAZAd2gXlQKer1MUieyCVN5LU6AAAECBAgQIECgGQHdoF5UCnq9TFInsglTeS1OgAABAgQIECBAoBkB3aBeVAp6vUxSJ7IJU3ktToAAAQIECBAgQKAZAd2gXlQKer1MUieyCVN5LU6AAAECBAgQIECgGQHdoF5UCnq9TFInsglTeS1OgAABAgQIECBAoBkB3aBeVAp6vUxSJ7IJU3ktToAAAQIECBAgQKAZAd2gXlQKer1MUieyCVN5LU6AAAECBAgQIECgGQHdoF5UCnq9TFInsglTeS1OgAABAgQIECBAoBkB3aBeVAp6vUxSJ7IJU3ktToAAAQIECBAgQKAZAd2gXlQKer1MUieyCVN5LU6AAAECBAgQIECgGQHdoF5UCnq9TFInsglTeS1OgAABAgQIECBAoBkB3aBeVAp6vUxSJ7IJU3ktToAAAQIECBAgQKAZAd2gXlQKer1MUieyCVN5LU6AAAECBAgQIECgGQHdoF5UCnq9TFInsglTeS1OgAABAgQIECBAoBkB3aBeVAp6vUxSJ7IJU3ktToAAAQIECBAgQKAZAd2gXlQKer1MUieyCVN5LU6AAAECBAgQIECgGQHdoF5UCnq9TFInsglTeS1OgAABAgQIECBAoBkB3aBeVAp6vUxSJ7IJU3ktToAAAQIECBAgQKAZAd2gXlQKer1MUieyCVN5LU6AAAECBAgQIECgGQHdoF5UCnq9TFInsglTeS1OgAABAgQIECBAoBkB3aBeVAp6vUxSJ7IJU3ktToAAAQIECBAgQKAZAd2gXlQKer1MUieyCVN5LU6AAAECBAgQIECgGQHdoF5UCnq9TFInsglTeS1OgAABAgQIECBAoBkB3aBeVAp6vUxSJ7IJU3ktToAAAQIECBAgQKAZAd2gXlQKer1MUieyCVN5LU6AAAECBAgQIECgGQHdoF5UCnq9TFInsglTeS1OgAABAgQIECBAoBkB3aBeVAp6vUxSJ7IJU3ktToAAAQIECBAgQKAZAd2gXlQKer1MUieyCVN5LU6AAAECBAgQIECgGQHdoF5UCnq9TFInsglTeS1OgAABAgQIECBAoBkB3aBeVAp6vUxSJ7IJU3ktToAAAQIECBAgQKAZAd2gXlQKer1MUieyCVN5LU6AAAECBAgQIECgGQHdoF5UCnq9TFInsglTeS1OgAABAgQIECBAoBkB3aBeVAp6vUxSJ7IJU3ktToAAAQIECBAgQKAZAd2gXlQKer1MUieyCVN5LU6AAAECBAgQIECgGQHdoF5UCnq9TFInsglTeS1OgAABAgQIECBAoBkB3aBeVAp6vUxSJ7IJU3ktToAAAQIECBAgQKAZAd2gXlQKer1MUieyCVN5LU6AAAECBAgQIECgGQHdoF5UCnq9TFInsglTeS1OgAABAgQIECBAoBkB3aBeVAp6vUxSJ7IJU3ktToAAAQIECBAgQKAZAd2gXlQKer1MUieyCVN5LU6AAAECBAgQIECgGQHdoF5UCnq9TFInsglTeS1OgAABAgQIECBAoBkB3aBeVAp6vUxSJ7IJU3ktToAAAQIECBAgQKAZAd2gXlQKer1MUieyCVN5LU6AAAECBAgQIECgGQHdoF5UCnq9TFInsglTeS1OgAABAgQIECBAoBkB3aBeVAp6vUxSJ7IJU3ktToAAAQIECBAgQKAZAd2gXlQKer1MUieyCVN5LU6AAAECBAgQIECgGQHdoF5UCnq9TFInsglTeS1OgAABAgQIECBAoBkB3aBeVAp6vUxSJ7IJU3ktToAAAQIECBAgQKAZAd2gXlQKer1MUieyCVN5LU6AAAECBAgQIECgGQHdoF5UCnq9THY70Sc/+cm46qqr4tFHH43Xvva1cfXVV8cxxxyz25/r7mATjojJnQgQIECAAAECBAhMeAHdoF7ECnq9TH7vRF/4whfi3e9+d3zqU5+KP/qjP4qPf/zj8aUvfSkeeuihmDZt2m6PxibcLZE7ECBAgAABAgQIEBgIAd2gXswKer1Mfu9EXSmfO3du/MM//EPvftu2bYuhoaE499xz4wMf+MBuj8Ym3C2ROxAgQIAAAQIECBAYCAHdoF7MCnq9TJ5zoi1btsSLXvSiuPnmm+Ntb3vbjvudccYZsWHDhvja1762089u3rw5un+Gbxs3boxDDz001q1bF1OnTm3o6I1KgAABAgQIECBAgEA/BbqC3j3Z13WJfffdt59LW2sPBRT0PYQbjx97+OGH46UvfWmsWrUqjjvuuB0jLFmyJO6444743ve+t9NYS5cujUsvvXQ8xvWYBAgQIECAAAECBAg0INA9eTdjxowGJp34IyroDWW8JwX92c+gd387NnPmzPjZz37mb8kayr7qqMN/6+oVGVUTamcu51I7WbUwqfOphZTamNG51EZOrUxZ8Xzavn17PPnkk3HIIYfE5MmTW6Gc0HMq6A3FuycvcX/24XmfSUOBNzCq86mBkBoZ0bnUSFCNjOl8aiSoBsZ0LjUQUkMjOp8aCmscR1XQxxF/Tx66u0hc95Fq3UerdbfuInHde8rPOeccF4nbE1A/87wE/I/mefH54acJOJecDv0UcD71U3Ow13IuDXb+/T5651O/RSfmegp6Y7l2H7PWXRTu05/+dK+odx+z9sUvfjEefPDBmD59+m6Pxm8MuyVyh1EIOJ9GgeWuv1fAueQE6aeA86mfmoO9lnNpsPPv99E7n/otOjHXU9AbzLX7iLWrrroqHn300Tj66KPjE5/4RO8z0Udy696Tftlll8VFF10Ue++990h+xH0IPKeA88nJ0S8B51K/JK3TCTifnAf9EnAu9UvSOn5vcg6MVEBBH6mU+xEgQIAAAQIECBAgQIAAgUQBBT0R19IECBAgQIAAAQIECBAgQGCkAgr6SKXcjwABAgQIECBAgAABAgQIJAoo6Im4liZAgAABAgQIECBAgAABAiMVUNBHKuV+BAgQIECAAAECBAgQIEAgUUBBT8StuPQnP/nJHVeAf+1rX9v7PPXu49rcCDyXQHfV/y9/+cu9j/J74QtfGMcff3xcccUV8YpXvGLHj2zatCkWL14cN910U+/qyfPmzYvly5eP6KP/yA+uwOWXX977RIn3ve99vY+M7G7OpcE9H/bkyH/+85/HhRdeGCtXroxf//rX8bKXvSw+//nPx5w5c3rLbd++PS655JL47Gc/Gxs2bIjXv/71cc0118QRRxyxJw/nZyawwG9+85tYunRp/NM//VPvU3IOOeSQWLhwYfz93/99TJo0yfk0gbN/vod255139v5svWbNmnjkkUfiK1/5SrztbW/bsexIfh/65S9/Geeee27ccsstMXny5DjllFNi2bJl8ZKXvOT5jufnGxRQ0BsMbU9H7j5D/d3vfnd86lOf6n0sW/cH4i996Uvx0EMPxbRp0/Z0WT83wQXe/OY3x+mnnx5z586NrVu3xgc/+MH40Y9+FA888EC8+MUv7h392WefHbfeemusWLEi9t133zjnnHN6/4O56667JriOw9tTgdWrV8dpp50WU6dOjRNOOGFHQXcu7ano4P3cE088Ea973et650933hx44IHx4x//OA4//PDeP92t+8vE7i8Zr7vuujjssMPi4osvjvvvv7/3+9c+++wzeGiO+DkF/s//+T/x0Y9+tHeuvOpVr4p77rknzjzzzPjIRz4SixYtcj45d55ToPsLwu7PO7Nnz453vOMdOxX0kfw+NH/+/F65//SnPx3/8z//0zv3uj933XDDDeQHUEBBH6DQu1Lebfbuc9S727Zt22JoaKj3N3Yf+MAHBkjCoT4fgV/84he9v9C544474k/+5E9i48aNvT8Yd/8TOfXUU3tLd8+2H3XUUXH33XfHscce+3wezs9OQIGnnnoqZs2a1XuVxYc//OE4+uijewXduTQBw048pO7/W90fir/zne/s8lG6Z626Z0G7V/dccMEFvft059j06dN7f5nY/cWjG4FhgT//8z/vnRvXXnvtDpTuWczulWPds+rOJ+fKSAS6V1s8/Rn0kZw3//7v/x6vfOUro/uL6+FX//zzP/9zvOUtb4n169f3fh9zGywBBX1A8t6yZUu86EUviptvvvkZL7s544wzei/7+9rXvjYgEg7z+Qr85Cc/6b08tHsW6tWvfnXcfvvtceKJJ0b3bNZ+++23Y/mZM2fGeeedF+eff/7zfUg/P8EEut939t9///jYxz4Wb3rTm3YUdOfSBAs6+XC6P9B2b6fp/gDb/YXhS1/60njve98b73nPe3qP/NOf/rT3TPp9993XO8eGb2984xt7/969fNSNwLBA9wz6Zz7zmfiXf/mXePnLXx7/9m//Fn/2Z3/We1Z9wYIFzienyogEnl3QR/L70D/+4z/2/iKx+3PU8K17xWL3Kp/ula5vf/vbR/TY7jRxBBT0iZPl7z2Shx9+uPeHl1WrVsVxxx23475Llizp/cHme9/73oBIOMznI9C96uKtb31r7y91vvvd7/aW6p45716K1b33/Om37toG3UtPu5d2uREYFuiuU9C9ZLR7pqD7w8fTC7pzyXkyGoHhl6i///3vj3e+8529c6q7nkH3Nq7uL4G6/9917znv/v938MEH71i6e2tF94fo7m1fbgSGBbr/v3Vv4bryyivjBS94QXTvSe9+r+quk9HdnE/OlZEIPLugj+S86f5yqHtrRfeW06ffulcrXnrppb238LgNloCCPiB5K+gDEnTyYXb/k+jea9WV8xkzZijoyd4Tbfl169b1Xr73zW9+M17zmtf0Dk9Bn2gpj93xTJkypXc+dX8AHr517xXuinr39pqR/MF47Kb1SNUFur88/Lu/+7vexb6696D/4Ac/6L0KrHsG3V/4VE+vznwKep0sWp5EQW85vVHM7iXuo8By110KdBd+694K0V2ttLvY0vDNy5KdMCMV+OpXv9p7qV737NTwrXuWqvsDTXdRwW984xtx0kknebvESEEH/H7d22hOPvnk+NznPrdDortCe3ddg+7q7iN5aemAEzr8pwl01+Tprmvwt3/7tzu+251L3fvPu+uqOJ+cLiMR8BL3kSi5z+4EFPTdCU2g/95dJK572XH30WrdrXs516GHHtq74raLxE2goPt8KN0FTroLCXYXPfn2t7+908cTDV/Y68Ybb+x9LEh3616mdeSRR7pIXJ+zaH25J598MtauXfuMw+jeHtGdK91HZXV/QO4uOOhcaj3psZn/Xe96V3Svynj6ReK6a150b9nqnj0fvjhTd4G47v2d3e1Xv/pV7yKXLhI3Nhm19Ch/+Id/2PvLnae/nLj7BIDuY/v+4z/+w/nUUpjjOOtzXSTu9/0+NHyRuO6TA7orwXe37loI3afouEjcOIY5jg+toI8j/lg/dPd+u+5lWt1HOHRFvbtq8he/+MXe3wx3Vy51I7Arge6iS917g7tnz5/+2efdx6l1V7ftbt0faG677bbeH3q7j83qCn13e/pLT+kS2JXA01/i7lxyjoxGoHsp+/HHH997j2b3vvLvf//7vQvEdRf66i7q1d26a2Bcfvnlz/iYtR/+8Ic+Zm000ANy3+4zz7/1rW/1/ozUvcS9u7jg3/zN38Rf//Vf77iWivNpQE6GUR5m98kk3QV0u1v30Y/d2yK6a/B0F0PtnggbyXnTfczaf/3Xf/WuoTH8MWvdW3h8zNoow5ggd1fQJ0iQIz2M7iPWuvdXPfroo72r2H7iE5/ofSa6G4HnEuj+NnhXt+5Zhe4PNN1t06ZNvWeoumc+u4vFdVdW7j5C66CDDgJL4PcKPLugO5ecMKMR+PrXv967iFf3+efdW2+6C8YNX8W9W6d7Fv2SSy7plfbu4pZveMMber83dVfpdiPwdIHuFT4XX3xx79Vijz32WO+jrf7qr/4qPvShD0V3vQPnk/PluQS6Vxd2hfzZt+5Jse6Ji5H8PvTLX/6y94rWW265pfeWr+4Vid2f0V/ykpeAH0ABBX0AQ3fIBAgQIECAAAECBAgQIFBPQEGvl4mJCBAgQIAAAQIECBAgQGAABRT0AQzdIRMgQIAAAQIECBAgQIBAPQEFvV4mJiJAgAABAgQIECBAgACBARRQ0AcwdIdMgAABAgQIECBAgAABAvUEFPR6mZiIAAECBAgQIECAAAECBAZQQEEfwNAdMgECBAgQIECAAAECBAjUE1DQ62ViIgIECBAgQIAAAQIECBAYQAEFfQBDd8gECBAgQIAAAQIECBAgUE9AQa+XiYkIECBAgAABAgQIECBAYAAFFPQBDN0hEyBAgAABAgQIECBAgEA9AQW9XiYmIkCAAAECBAgQIECAAIEBFFDQBzB0h0yAAAECBAgQIECAAAEC9QQU9HqZmIgAAQIECBAgQIAAAQIEBlBAQR/A0B0yAQIECBAgQIAAAQIECNQTUNDrZWIiAgQIECBAgAABAgQIEBhAAQV9AEN3yAQIECBAgAABAgQIECBQT0BBr5eJiQgQIECAAAECBAgQIEBgAAUU9AEM3SETIECAAAECBAgQIECAQD0BBb1eJiYiQIAAAQIECBAgQIAAgQEUUNAHMHSHTIAAAQIECBAgQIAAAQL1BBT0epmYiAABAgQIECBAgAABAgQGUEBBH8DQHTIBAgQIECBAgAABAgQI1BNQ0OtlYiICBAgQIECAAAECBAgQGEABBX0AQ3fIBAgQIECAAAECBAgQIFBPQEGvl4mJCBAgQIAAAQIECBAgQGAABRT0AQzdIRMgQIAAAQIECBAgQIBAPQEFvV4mJiJAgAABAgQIECBAgACBARRQ0AcwdIdMgAABAgQIECBAgAABAvUEFPR6mZiIAAECBAgQIECAAAECBAZQQEEfwNAdMgECBAgQIECAAAECBAjUE1DQ62ViIgIECBAgQIAAAQIECBAYQAEFfQBDd8gECBAgQIAAAQIECBAgUE9AQa+XiYkIECBAgAABAgQIECBAYAAFFPQBDN0hEyBAgAABAgQIECBAgEA9AQW9XiYmIkCAAAECBAgQIECAAIEBFFDQBzB0h0yAAAECBAgQIECAAAEC9QQU9HqZmIgAAQIECBAgQIAAAQIEBlBAQR/A0B0yAQIECBAgQIAAAQIECNQTUNDrZWIiAgQIECBAgAABAgQIEBhAAQV9AEN3yAQIECBAgAABAgQIECBQT0BBr5eJiQgQIECAAAECBAgQIEBgAAUU9AEM3SETIECAAAECBAgQIECAQD0BBb1eJiYiQIAAAQIECBAgQIAAgQEUUNAHMHSHTIAAAQIECBAgQIAAAQL1BP4/x7UojZRzVbEAAAAASUVORK5CYII=\" width=\"1000\">"
      ],
      "text/plain": [
       "<IPython.core.display.HTML object>"
      ]
     },
     "metadata": {},
     "output_type": "display_data"
    },
    {
     "data": {
      "application/vnd.jupyter.widget-view+json": {
       "model_id": "53ecb9fd2e1244c5a564010096d6ab15",
       "version_major": 2,
       "version_minor": 0
      },
      "text/plain": [
       "interactive(children=(SelectionSlider(description='ts', index=15119, options=(1523296748330, 1523296748370, 15…"
      ]
     },
     "metadata": {},
     "output_type": "display_data"
    }
   ],
   "source": [
    "timestamps_list = sorted(list(timestamps))\n",
    "kickoff_time_ind = np.argmin(np.abs(np.subtract(timestamps_list, kickoff_time)))\n",
    "kickoff_time_matched = timestamps_list[kickoff_time_ind]\n",
    "print(kickoff_time, kickoff_time_matched)\n",
    "\n",
    "%matplotlib notebook\n",
    "\n",
    "fig = plt.figure(figsize=(10,6))\n",
    "ax = fig.add_subplot(1, 1, 1)\n",
    "left, = plt.plot([], '*r')\n",
    "right, = plt.plot([], '*r')\n",
    "\n",
    "left_b, = plt.plot([], 'ob')\n",
    "right_b, = plt.plot([], 'ob')\n",
    "\n",
    "plt.xlim([0, 105])\n",
    "plt.ylim([0, 68])\n",
    "\n",
    "def update(ts=kickoff_time_matched):\n",
    "    if ts in detections['players']['left']:\n",
    "        left.set_ydata(detections['players']['left'][ts][:, 1])\n",
    "        left.set_xdata(detections['players']['left'][ts][:, 0])\n",
    "    else:\n",
    "        left.set_ydata([])\n",
    "        left.set_xdata([])\n",
    "        \n",
    "    if ts in detections['players']['right']:\n",
    "        right.set_ydata(detections['players']['right'][ts][:, 1])\n",
    "        right.set_xdata(detections['players']['right'][ts][:, 0])\n",
    "    else:\n",
    "        right.set_ydata([])\n",
    "        right.set_xdata([])\n",
    "\n",
    "    if ts in detections['ball']['left'] and len(detections['ball']['left'][ts]):\n",
    "        left_b.set_ydata(detections['ball']['left'][ts][:, 1])\n",
    "        left_b.set_xdata(detections['ball']['left'][ts][:, 0])\n",
    "    else:\n",
    "        left_b.set_ydata([])\n",
    "        left_b.set_xdata([])        \n",
    "    if ts in detections['ball']['right'] and len(detections['ball']['right'][ts]):\n",
    "        right_b.set_ydata(detections['ball']['right'][ts][:, 1])\n",
    "        right_b.set_xdata(detections['ball']['right'][ts][:, 0])\n",
    "    else:\n",
    "        right_b.set_ydata([])\n",
    "        right_b.set_xdata([])\n",
    "    \n",
    "    \n",
    "wid = widgets.SelectionSlider(\n",
    "    options=timestamps_list,\n",
    "    value=kickoff_time_matched,\n",
    "    continuous_update=True,\n",
    "    orientation='horizontal',\n",
    "    readout=True\n",
    ")\n",
    "    \n",
    "interact(update, ts = wid);"
   ]
  },
  {
   "cell_type": "code",
   "execution_count": 11,
   "metadata": {},
   "outputs": [],
   "source": [
    "# {'id': 'd1a98e08-0f21-46fe-8457-01ff183ddbeb', 'calibration': {'views': ['left', 'right'], 'reference_landmarks': {'object': 'calibrations/tele2_landmarks.json', 'bucket': 'signality.ironfist.models'}}, 'replay_urls': ['//liveplay.signality.com/data/d1a98e08-0f21-46fe-8457-01ff183ddbeb_phase1.data', '//liveplay.signality.com/data/d1a98e08-0f21-46fe-8457-01ff183ddbeb_phase2.data'], 'camera_mode': 'static', 'away_team': {'colors': {'team': '#000000', 'goalkeeper': '#ffff00'}, 'logo_url': 'http://images.signality.com/team-logos/orebro.png', 'name': 'Örebro SK'}, 'phase_events': [{'type': 'start_phase', 'ts': datetime.datetime(2018, 5, 17, 17, 0, 2, 362000, tzinfo=<rethinkdb.ast.RqlTzinfo object at 0x7f4d1c61e4e0>), 'kickoff_team_id': 12, 'phase': 1}, {'type': 'end_phase', 'ts': datetime.datetime(2018, 5, 17, 17, 47, 7, 92000, tzinfo=<rethinkdb.ast.RqlTzinfo object at 0x7f4d1c61e518>), 'phase': 1}, {'type': 'start_phase', 'ts': datetime.datetime(2018, 5, 17, 18, 4, 2, 891000, tzinfo=<rethinkdb.ast.RqlTzinfo object at 0x7f4d1c61e630>), 'kickoff_team_id': 11, 'phase': 2}, {'type': 'end_phase', 'ts': datetime.datetime(2018, 5, 17, 18, 52, 6, 565000, tzinfo=<rethinkdb.ast.RqlTzinfo object at 0x7f4d1c61e6a0>), 'phase': 2}], 'start_time': datetime.datetime(2018, 5, 17, 19, 0, tzinfo=<rethinkdb.ast.RqlTzinfo object at 0x7f4d1c61e780>), 'state': 'Destroyed', 'external_data': {'smc': {'match_id': 3704, 'home_team_id': 11, 'league_id': 12, 'away_team_id': 12}}, 'streams': {'left': {'url': 'https://d35u71x3nb8v2y.cloudfront.net/f75295bb-c143-4472-a151-d849f9916e75/ca074983-09a2-451f-8730-90efa6701dc8/playlist.m3u8', 'utc': datetime.datetime(2018, 5, 17, 16, 45, 41, 197000, tzinfo=<rethinkdb.ast.RqlTzinfo object at 0x7f4d1c61e9e8>)}, 'autofollow_render_segments': {'url': 'https://d35u71x3nb8v2y.cloudfront.net/f75295bb-c143-4472-a151-d849f9916e75/d890161e-59fa-4f39-9758-b9d5b10357af/playlist.m3u8', 'utc': datetime.datetime(2018, 5, 17, 16, 45, 41, 197000, tzinfo=<rethinkdb.ast.RqlTzinfo object at 0x7f4d1c61e9b0>)}, 'virtual_panorama_segments': {'url': 'https://d35u71x3nb8v2y.cloudfront.net/f75295bb-c143-4472-a151-d849f9916e75/b5e093f3-f8e7-4643-a87a-d9a76256a735/playlist.m3u8', 'utc': datetime.datetime(2018, 5, 17, 16, 45, 41, 197000, tzinfo=<rethinkdb.ast.RqlTzinfo object at 0x7f4d1c61ec88>)}, 'goal_south_segments': {'url': 'https://d35u71x3nb8v2y.cloudfront.net/f75295bb-c143-4472-a151-d849f9916e75/c841f705-de34-4428-b56e-7c9803ab4eca/playlist.m3u8', 'utc': datetime.datetime(2018, 5, 17, 16, 45, 41, 143000, tzinfo=<rethinkdb.ast.RqlTzinfo object at 0x7f4d1c61eac8>)}, 'right': {'url': 'https://d35u71x3nb8v2y.cloudfront.net/f75295bb-c143-4472-a151-d849f9916e75/d8112841-7cf8-48ae-89ce-f327c282916c/playlist.m3u8', 'utc': datetime.datetime(2018, 5, 17, 16, 45, 41, 124000, tzinfo=<rethinkdb.ast.RqlTzinfo object at 0x7f4d1c61ea20>)}, 'goal_north_segments': {'url': 'https://d35u71x3nb8v2y.cloudfront.net/f75295bb-c143-4472-a151-d849f9916e75/9a7b8e83-dbc0-436b-a116-7f8d085057c2/playlist.m3u8', 'utc': datetime.datetime(2018, 5, 17, 16, 45, 41, 141000, tzinfo=<rethinkdb.ast.RqlTzinfo object at 0x7f4d1c61ea58>)}}, 'pitch_size': [105, 68], 'home_team': {'colors': {'team': '#5a9dde', 'goalkeeper': '#ffffff'}, 'logo_url': 'http://images.signality.com/team-logos/djurgarden.png', 'name': 'Djurgårdens IF'}, 'referees': {'colors': '#000000'}, 'competition': 'Allsvenskan', 'redis': {'host': 'redis', 'port': 6379}, 'rethinkdb': {'host': 'db.signality.com', 'user': 'game_viewer', 'db': 'livetrack', 'ssl': {'ca_certs': '/home/ubuntu/workspace/ironfist/ironfist/utils/../applications/livetrack/config/db.signality.cert.pem'}, 'password': 'MmPHrqmXaVeu', 'port': 28015}, 'nchan': {'url': 'http://nchan:8080'}, 'arena': 'Tele2 Arena', 'stats': [{'home_team': {'failed_passes': 163, 'possessing_team': 0, 'passes': 181, 'distance': 62777.64480394193, 'possession': 25067, 'packing': 260}, 'source': 'signality', 'phase': 1, 'away_team': {'failed_passes': 163, 'possessing_team': 1, 'passes': 191, 'distance': 60097.76136929008, 'possession': 23934, 'packing': 252}, 'utc_time': 1526579225125, 'match_time': 2822763}, {'home_team': {'failed_passes': 157, 'possessing_team': 0, 'passes': 147, 'distance': 62576.815733754884, 'possession': 20009, 'packing': 196}, 'source': 'signality', 'phase': 2, 'away_team': {'failed_passes': 158, 'possessing_team': 1, 'passes': 206, 'distance': 57684.92804763888, 'possession': 28384, 'packing': 240}, 'utc_time': 1526583124565, 'match_time': 2881674}], 'video_shape': [2160, 3840, 3], 'rdb': [{'key': '20180517.djurgårdens-if-örebro-sk.2.rdb', 'bucket': 'signality.soccer.backup', 'phase': 2}]}"
   ]
  },
  {
   "cell_type": "code",
   "execution_count": 11,
   "metadata": {},
   "outputs": [],
   "source": [
    "def select_time(time_list,detections):\n",
    "    l=list()\n",
    "    truth_list=list()\n",
    "    for i in range(len(time_list)):\n",
    "        truth_list.append(True)\n",
    "        if time_list[i] in detections['players']['left'] and time_list[i] in detections['players']['right']:\n",
    "            l.append([time_list[i],time_list[i]])\n",
    "            truth_list[i]=False\n",
    "        if i>0:\n",
    "            if time_list[i-1] in detections['players']['left'] and time_list[i] in detections['players']['right'] and truth_list[i] and truth_list[i-1] and time_list[i]-time_list[i-1]<=20:\n",
    "                l.append([time_list[i-1],time_list[i]])\n",
    "                truth_list[i]=False\n",
    "            if time_list[i] in detections['players']['left'] and time_list[i-1] in detections['players']['right'] and truth_list[i] and truth_list[i-1] and time_list[i]-time_list[i-1]<=20:\n",
    "                l.append([time_list[i],time_list[i-1]])\n",
    "                truth_list[i]=False\n",
    "    return l\n",
    "\n",
    "l=select_time(timestamps_list,detections)"
   ]
  },
  {
   "cell_type": "code",
   "execution_count": 12,
   "metadata": {},
   "outputs": [],
   "source": [
    "def players_grid(pitch_size,players):\n",
    "    grid=[0 for i in range(32)]\n",
    "    length=pitch_size[0]\n",
    "    width=pitch_size[1]\n",
    "    length_edge=length/8\n",
    "    width_edge=width/4\n",
    "    for i in range(len(players)):\n",
    "        k=0\n",
    "        j=0\n",
    "        if players[i][0]<=length and players[i][1]<=width:\n",
    "            while players[i][0]>(k+1)*length_edge:\n",
    "                k+=1\n",
    "            while players[i][1]>(j+1)*width_edge:\n",
    "                j+=1\n",
    "            grid[4*j+k]+=1\n",
    "    return grid\n",
    "\n",
    "def ball_grid(pitch_size,ball):\n",
    "    grid=[0 for i in range(35)]\n",
    "    length=pitch_size[0]\n",
    "    width=pitch_size[1]\n",
    "    length_edge=length/7\n",
    "    width_edge=width/5\n",
    "    for i in range(len(ball)):\n",
    "        k=0\n",
    "        j=0\n",
    "        if ball[i][0]<=length and ball[i][1]<=width:\n",
    "            while ball[i][0]>(k+1)*length_edge:\n",
    "                k+=1\n",
    "            while ball[i][1]>(j+1)*width_edge:\n",
    "                j+=1\n",
    "            grid[7*j+k]+=1\n",
    "    return grid"
   ]
  },
  {
   "cell_type": "code",
   "execution_count": 13,
   "metadata": {},
   "outputs": [],
   "source": [
    "def pitch_composition_t(time,detections,pitch_size):\n",
    "    compo=list()\n",
    "    if isinstance(detections['ball']['left'][time[0]],list):\n",
    "        compo=compo+ball_grid(pitch_size,detections['ball']['left'][time[0]])\n",
    "    if isinstance(detections['ball']['left'][time[0]],np.ndarray):\n",
    "        compo=compo+ball_grid(pitch_size,detections['ball']['left'][time[0]].tolist())\n",
    "        \n",
    "    if isinstance(detections['ball']['right'][time[1]],list):\n",
    "        compo=compo+ball_grid(pitch_size,detections['ball']['right'][time[1]])\n",
    "    if isinstance(detections['ball']['right'][time[1]],np.ndarray):\n",
    "        compo=compo+ball_grid(pitch_size,detections['ball']['right'][time[1]].tolist())\n",
    "    \n",
    "    if isinstance(detections['players']['left'][time[0]],list):\n",
    "        compo=compo+players_grid(pitch_size,detections['players']['left'][time[0]])\n",
    "    if isinstance(detections['players']['left'][time[0]],np.ndarray):\n",
    "        compo=compo+players_grid(pitch_size,detections['players']['left'][time[0]].tolist())\n",
    "        \n",
    "    if isinstance(detections['players']['right'][time[1]],list):\n",
    "        compo=compo+players_grid(pitch_size,detections['players']['right'][time[1]])\n",
    "    if isinstance(detections['players']['right'][time[1]],np.ndarray):\n",
    "        compo=compo+players_grid(pitch_size,detections['players']['right'][time[1]].tolist())\n",
    "    return compo\n",
    "    \n",
    "def pitch_composition(time_list,detections,pitch_size):\n",
    "    l=select_time(time_list,detections)\n",
    "    seq=list()\n",
    "    for i in range(len(l)):\n",
    "        seq.append(pitch_composition_t(l[i],detections,pitch_size))\n",
    "    return seq\n"
   ]
  },
  {
   "cell_type": "code",
   "execution_count": 162,
   "metadata": {},
   "outputs": [],
   "source": [
    "def movement_sequences(inputs,outputs):\n",
    "    inputs=np.array(inputs)\n",
    "    new_inputs=list()\n",
    "    new_outputs=list()\n",
    "    for i in range(len(outputs)-2):\n",
    "        new_inputs.append(inputs[i+1].tolist()+(inputs[i+2]-inputs[i]).tolist()+(inputs[i+1]-inputs[i]).tolist())\n",
    "        new_outputs.append(outputs[i+1])\n",
    "    return new_inputs,new_outputs\n",
    "\n",
    "def sequence_composition(time_list,detections,pitch_size,size_sequence,diminish_size):\n",
    "    sequences=list()\n",
    "    pitch_compo=pitch_composition(time_list,detections,pitch_size)\n",
    "    for i in range(0,len(pitch_compo)-size_sequence+1,diminish_size):\n",
    "        seq_t=list()\n",
    "        for j in range(0,size_sequence,diminish_size):\n",
    "            seq_t=seq_t+pitch_compo[i+j]\n",
    "        sequences.append(seq_t)\n",
    "    return sequences\n",
    "\n"
   ]
  },
  {
   "cell_type": "code",
   "execution_count": 81,
   "metadata": {},
   "outputs": [
    {
     "data": {
      "text/plain": [
       "57"
      ]
     },
     "execution_count": 81,
     "metadata": {},
     "output_type": "execute_result"
    }
   ],
   "source": [
    "def labels(time_list,detections,pitch_size,size_sequence,diminish_size,kickoff_time):\n",
    "    l=select_time(time_list,detections)\n",
    "    y=list()\n",
    "    for i in range(0,len(l)-size_sequence+1,diminish_size):\n",
    "        if max(l[i][0],l[i][1])+1500<=kickoff_time and kickoff_time+2000<=min(l[i+size_sequence-1][0],l[i+size_sequence-1][1]):\n",
    "            y.append(1)\n",
    "        else:\n",
    "            y.append(-1)\n",
    "    return y\n",
    "\n",
    "def reduce_size(X,Y,reduc_size):\n",
    "    compteur=0\n",
    "    new_X=list()\n",
    "    new_Y=list()\n",
    "    for i in range(len(X)):\n",
    "        if Y[i]==1:\n",
    "            new_Y.append(1)\n",
    "            new_X.append(X[i])\n",
    "            compteur=0\n",
    "        if Y[i]==-1:\n",
    "            compteur+=1\n",
    "        if compteur>=reduc_size:\n",
    "            compteur=0\n",
    "            new_Y.append(Y[i])\n",
    "            new_X.append(X[i])\n",
    "    return new_X,new_Y\n",
    "X=sequence_composition(timestamps_list,detections,pitch_size,250,25)\n",
    "Y=labels(timestamps_list,detections,pitch_size,250,25,kickoff_time_matched)\n",
    "X,Y=movement_sequences(X,Y)\n",
    "X,Y=reduce_size(X,Y,10)\n",
    "Y.count(-1)\n"
   ]
  },
  {
   "cell_type": "code",
   "execution_count": 86,
   "metadata": {},
   "outputs": [],
   "source": [
    "import os\n",
    "liste = os.listdir('../kickoff-detection-data/')\n",
    "liste.sort()\n",
    "config_name = [ f for f in liste if f[-4:]=='json']\n",
    "config_name=config_name+config_name\n",
    "config_name.sort()\n",
    "tracks_name=([f for f in liste if f[-3:]=='rdb'])\n"
   ]
  },
  {
   "cell_type": "code",
   "execution_count": 154,
   "metadata": {},
   "outputs": [
    {
     "data": {
      "text/plain": [
       "1"
      ]
     },
     "execution_count": 154,
     "metadata": {},
     "output_type": "execute_result"
    }
   ],
   "source": [
    "int(tracks_name[0][-13])"
   ]
  },
  {
   "cell_type": "code",
   "execution_count": 87,
   "metadata": {},
   "outputs": [],
   "source": [
    "import pickle"
   ]
  },
  {
   "cell_type": "code",
   "execution_count": 207,
   "metadata": {},
   "outputs": [],
   "source": [
    "def create_dataset(tracks_name,config_name,file_name,reduc_size,problem=1):\n",
    "    compteur=1\n",
    "    for i in range(len(tracks_name)):\n",
    "        tracks = parse_dump_file('../kickoff-detection-data/'+tracks_name[i])\n",
    "        print(config_name[i])\n",
    "        config = json.load(open('../kickoff-detection-data/'+config_name[i], 'r'))\n",
    "        fd, ts = tracks['left'][0]\n",
    "        fd = pickle.loads(fd)\n",
    "        if int(tracks_name[i][-13])==1:\n",
    "            for j in range(len(config['phase_events'])):\n",
    "                if config['phase_events'][j]['phase']==1 and config['phase_events'][j]['type']=='start_phase':\n",
    "                    kickoff_1= config['phase_events'][j]['ts']\n",
    "        if int(tracks_name[i][-13])==2:\n",
    "            for j in range(len(config['phase_events'])):\n",
    "                if config['phase_events'][j]['phase']==2 and config['phase_events'][j]['type']=='start_phase':\n",
    "                    kickoff_1= config['phase_events'][j]['ts']\n",
    "        kickoff_time = int(parse(kickoff_1).timestamp()*1000)\n",
    "        pitch_size=config['pitch_size']\n",
    "        detections = {'ball':{'left':{}, 'right':{}}, 'players':{'left':{}, 'right':{}}}\n",
    "        timestamps = set()\n",
    "        for (fd_left, ts_left), (fd_right, ts_right) in tqdm(zip(tracks['left'], tracks['right'])):\n",
    "            fd_left = pickle.loads(fd_left)\n",
    "            fd_right = pickle.loads(fd_right)\n",
    "            if np.abs(ts_left - ts_right) < 100:\n",
    "                ts_left = ts_right\n",
    "            timestamps.update({ts_left, ts_right})\n",
    "            detections['players']['left'][ts_left] = fd_left.top_view_player_positions\n",
    "            detections['players']['right'][ts_right] = fd_right.top_view_player_positions\n",
    "            detections['ball']['left'][ts_left] = np.array([bp for bp, bd in zip(fd_left.top_view_ball_positions, fd_left.ball_detections) if ball_ok(bp, bd)])\n",
    "            detections['ball']['right'][ts_right] = np.array([bp for bp, bd in zip(fd_right.top_view_ball_positions, fd_right.ball_detections) if ball_ok(bp, bd)])\n",
    "        timestamps_list = sorted(list(timestamps))\n",
    "        kickoff_time_ind = np.argmin(np.abs(np.subtract(timestamps_list, kickoff_time)))\n",
    "        kickoff_time_matched = timestamps_list[kickoff_time_ind]\n",
    "        \n",
    "        #Create inputs\n",
    "        X=sequence_composition(timestamps_list,detections,pitch_size,500,25)\n",
    "        Y=labels(timestamps_list,detections,pitch_size,500,25,kickoff_time_matched)\n",
    "        print(len(X[0]))\n",
    "        X,Y=movement_sequences(X,Y)\n",
    "        print(Y.count(1))\n",
    "        X,Y=reduce_size(X,Y,reduc_size)\n",
    "        if problem==2:\n",
    "            indices_kickoff=sequence_kickoff_time(Y)\n",
    "            X1=X[indices_kickoff[0]:indices_kickoff[-1]+1]\n",
    "            Y1=Y[indices_kickoff[0]:indices_kickoff[-1]+1]\n",
    "            X=X1\n",
    "            Y=Y1\n",
    "        print(len(X[0]),len(Y))\n",
    "        print(Y.count(1))\n",
    "        \n",
    "        #Create file\n",
    "        if i==0:\n",
    "            with open(file_name, 'wb') as f:\n",
    "                # Pickle the 'data' dictionary using the highest protocol available.\n",
    "                pickle.dump([X,Y], f)\n",
    "        if i>0 and Y.count(1)>0:\n",
    "            with open(file_name, 'ab') as f:\n",
    "                # Pickle the 'data' dictionary using the highest protocol available.\n",
    "                pickle.dump([X,Y], f)\n",
    "                compteur+=1\n",
    "                print(compteur)\n",
    "            \n",
    "        "
   ]
  },
  {
   "cell_type": "code",
   "execution_count": 166,
   "metadata": {},
   "outputs": [
    {
     "name": "stderr",
     "output_type": "stream",
     "text": [
      "254it [00:00, 1270.10it/s]"
     ]
    },
    {
     "name": "stdout",
     "output_type": "stream",
     "text": [
      "Parsed ../kickoff-detection-data/0281a840-f977-4e8a-86e2-eaf67845b528.1.kickoff.rdb in 1.81 s.\n",
      "Contains keys: dict_keys(['right', 'left'])\n",
      "[right] start_ts: 1525015525634 | stop_ts: 1525016123474\n",
      "[left] start_ts: 1525015525720 | stop_ts: 1525016123520\n",
      "0281a840-f977-4e8a-86e2-eaf67845b528.json\n"
     ]
    },
    {
     "name": "stderr",
     "output_type": "stream",
     "text": [
      "14947it [00:08, 1848.08it/s]\n"
     ]
    },
    {
     "name": "stdout",
     "output_type": "stream",
     "text": [
      "2680\n",
      "16\n",
      "8040 71\n",
      "16\n"
     ]
    },
    {
     "name": "stderr",
     "output_type": "stream",
     "text": [
      "489it [00:00, 2528.60it/s]"
     ]
    },
    {
     "name": "stdout",
     "output_type": "stream",
     "text": [
      "Parsed ../kickoff-detection-data/0281a840-f977-4e8a-86e2-eaf67845b528.2.kickoff.rdb in 1.65 s.\n",
      "Contains keys: dict_keys(['right', 'left'])\n",
      "[right] start_ts: 1525019337634 | stop_ts: 1525019935474\n",
      "[left] start_ts: 1525019337680 | stop_ts: 1525019935520\n",
      "0281a840-f977-4e8a-86e2-eaf67845b528.json\n"
     ]
    },
    {
     "name": "stderr",
     "output_type": "stream",
     "text": [
      "14946it [00:07, 2049.25it/s]\n"
     ]
    },
    {
     "name": "stdout",
     "output_type": "stream",
     "text": [
      "2680\n",
      "16\n",
      "8040 71\n",
      "16\n",
      "2\n"
     ]
    },
    {
     "name": "stderr",
     "output_type": "stream",
     "text": [
      "771it [00:00, 3799.81it/s]"
     ]
    },
    {
     "name": "stdout",
     "output_type": "stream",
     "text": [
      "Parsed ../kickoff-detection-data/03d0ac1b-8adb-457d-9519-b6c879a92df3.1.kickoff.rdb in 0.55 s.\n",
      "Contains keys: dict_keys(['right', 'left'])\n",
      "[right] start_ts: 1526821507814 | stop_ts: 1526821806694\n",
      "[left] start_ts: 1526821507686 | stop_ts: 1526821806606\n",
      "03d0ac1b-8adb-457d-9519-b6c879a92df3.json\n"
     ]
    },
    {
     "name": "stderr",
     "output_type": "stream",
     "text": [
      "7472it [00:02, 3249.26it/s]\n"
     ]
    },
    {
     "name": "stdout",
     "output_type": "stream",
     "text": [
      "2680\n",
      "0\n",
      "8040 27\n",
      "0\n"
     ]
    },
    {
     "name": "stderr",
     "output_type": "stream",
     "text": [
      "1092it [00:00, 5386.35it/s]"
     ]
    },
    {
     "name": "stdout",
     "output_type": "stream",
     "text": [
      "Parsed ../kickoff-detection-data/03d0ac1b-8adb-457d-9519-b6c879a92df3.2.kickoff.rdb in 0.62 s.\n",
      "Contains keys: dict_keys(['right', 'left'])\n",
      "[right] start_ts: 1526825255814 | stop_ts: 1526825553694\n",
      "[left] start_ts: 1526825255686 | stop_ts: 1526825553606\n",
      "03d0ac1b-8adb-457d-9519-b6c879a92df3.json\n"
     ]
    },
    {
     "name": "stderr",
     "output_type": "stream",
     "text": [
      "7448it [00:02, 2869.25it/s]\n"
     ]
    },
    {
     "name": "stdout",
     "output_type": "stream",
     "text": [
      "2680\n",
      "0\n",
      "8040 27\n",
      "0\n"
     ]
    },
    {
     "name": "stderr",
     "output_type": "stream",
     "text": [
      "488it [00:00, 4877.06it/s]"
     ]
    },
    {
     "name": "stdout",
     "output_type": "stream",
     "text": [
      "Parsed ../kickoff-detection-data/05055edf-8142-45b9-954b-52d7caa7ce43.1.kickoff.rdb in 0.50 s.\n",
      "Contains keys: dict_keys(['right', 'left'])\n",
      "[right] start_ts: 1526662503699 | stop_ts: 1526662803219\n",
      "[left] start_ts: 1526662503769 | stop_ts: 1526662803249\n",
      "05055edf-8142-45b9-954b-52d7caa7ce43.json\n"
     ]
    },
    {
     "name": "stderr",
     "output_type": "stream",
     "text": [
      "7488it [00:01, 3922.58it/s]\n"
     ]
    },
    {
     "name": "stdout",
     "output_type": "stream",
     "text": [
      "2680\n",
      "0\n",
      "8040 27\n",
      "0\n"
     ]
    },
    {
     "name": "stderr",
     "output_type": "stream",
     "text": [
      "690it [00:00, 3467.75it/s]"
     ]
    },
    {
     "name": "stdout",
     "output_type": "stream",
     "text": [
      "Parsed ../kickoff-detection-data/05055edf-8142-45b9-954b-52d7caa7ce43.2.kickoff.rdb in 0.58 s.\n",
      "Contains keys: dict_keys(['right', 'left'])\n",
      "[right] start_ts: 1526666131699 | stop_ts: 1526666430219\n",
      "[left] start_ts: 1526666131769 | stop_ts: 1526666430249\n",
      "05055edf-8142-45b9-954b-52d7caa7ce43.json\n"
     ]
    },
    {
     "name": "stderr",
     "output_type": "stream",
     "text": [
      "7463it [00:02, 2926.99it/s]\n"
     ]
    },
    {
     "name": "stdout",
     "output_type": "stream",
     "text": [
      "2680\n",
      "0\n",
      "8040 27\n",
      "0\n"
     ]
    },
    {
     "name": "stderr",
     "output_type": "stream",
     "text": [
      "498it [00:00, 2591.98it/s]"
     ]
    },
    {
     "name": "stdout",
     "output_type": "stream",
     "text": [
      "Parsed ../kickoff-detection-data/050a1fae-5d48-4048-8f66-a3f12eca843d.1.kickoff.rdb in 0.87 s.\n",
      "Contains keys: dict_keys(['right', 'left'])\n",
      "[right] start_ts: 1526225101172 | stop_ts: 1526225400052\n",
      "[left] start_ts: 1526225101102 | stop_ts: 1526225400022\n",
      "050a1fae-5d48-4048-8f66-a3f12eca843d.json\n"
     ]
    },
    {
     "name": "stderr",
     "output_type": "stream",
     "text": [
      "7472it [00:03, 2080.62it/s]\n"
     ]
    },
    {
     "name": "stdout",
     "output_type": "stream",
     "text": [
      "2680\n",
      "0\n",
      "8040 27\n",
      "0\n"
     ]
    },
    {
     "name": "stderr",
     "output_type": "stream",
     "text": [
      "1229it [00:00, 6394.09it/s]"
     ]
    },
    {
     "name": "stdout",
     "output_type": "stream",
     "text": [
      "Parsed ../kickoff-detection-data/050a1fae-5d48-4048-8f66-a3f12eca843d.2.kickoff.rdb in 0.50 s.\n",
      "Contains keys: dict_keys(['right', 'left'])\n",
      "[right] start_ts: 1526228825172 | stop_ts: 1526229122052\n",
      "[left] start_ts: 1526228825102 | stop_ts: 1526229122022\n",
      "050a1fae-5d48-4048-8f66-a3f12eca843d.json\n"
     ]
    },
    {
     "name": "stderr",
     "output_type": "stream",
     "text": [
      "7423it [00:01, 4165.20it/s]\n"
     ]
    },
    {
     "name": "stdout",
     "output_type": "stream",
     "text": [
      "2680\n",
      "0\n",
      "8040 27\n",
      "0\n"
     ]
    },
    {
     "name": "stderr",
     "output_type": "stream",
     "text": [
      "655it [00:00, 3308.00it/s]"
     ]
    },
    {
     "name": "stdout",
     "output_type": "stream",
     "text": [
      "Parsed ../kickoff-detection-data/0ad7e9ee-4ff5-4bfa-b2f6-82a1cde04eeb.1.kickoff.rdb in 0.90 s.\n",
      "Contains keys: dict_keys(['right', 'left'])\n",
      "[right] start_ts: 1524410705609 | stop_ts: 1524411002249\n",
      "[left] start_ts: 1524410705099 | stop_ts: 1524411001979\n",
      "0ad7e9ee-4ff5-4bfa-b2f6-82a1cde04eeb.json\n"
     ]
    },
    {
     "name": "stderr",
     "output_type": "stream",
     "text": [
      "7416it [00:03, 2113.04it/s]\n"
     ]
    },
    {
     "name": "stdout",
     "output_type": "stream",
     "text": [
      "2680\n",
      "0\n",
      "8040 27\n",
      "0\n"
     ]
    },
    {
     "name": "stderr",
     "output_type": "stream",
     "text": [
      "786it [00:00, 3996.90it/s]"
     ]
    },
    {
     "name": "stdout",
     "output_type": "stream",
     "text": [
      "Parsed ../kickoff-detection-data/0ad7e9ee-4ff5-4bfa-b2f6-82a1cde04eeb.2.kickoff.rdb in 0.67 s.\n",
      "Contains keys: dict_keys(['right', 'left'])\n",
      "[right] start_ts: 1524414345649 | stop_ts: 1524414644249\n",
      "[left] start_ts: 1524414345139 | stop_ts: 1524414643979\n",
      "0ad7e9ee-4ff5-4bfa-b2f6-82a1cde04eeb.json\n"
     ]
    },
    {
     "name": "stderr",
     "output_type": "stream",
     "text": [
      "7466it [00:02, 2890.71it/s]\n"
     ]
    },
    {
     "name": "stdout",
     "output_type": "stream",
     "text": [
      "2680\n",
      "0\n",
      "8040 27\n",
      "0\n"
     ]
    },
    {
     "name": "stderr",
     "output_type": "stream",
     "text": [
      "540it [00:00, 2794.58it/s]"
     ]
    },
    {
     "name": "stdout",
     "output_type": "stream",
     "text": [
      "Parsed ../kickoff-detection-data/0d9e9e30-9d13-4af0-8e41-fe1669e9eeff.1.kickoff.rdb in 2.23 s.\n",
      "Contains keys: dict_keys(['right', 'left'])\n",
      "[right] start_ts: 1523192129071 | stop_ts: 1523192727911\n",
      "[left] start_ts: 1523192129517 | stop_ts: 1523192728157\n",
      "0d9e9e30-9d13-4af0-8e41-fe1669e9eeff.json\n"
     ]
    },
    {
     "name": "stderr",
     "output_type": "stream",
     "text": [
      "14966it [00:08, 1858.46it/s]\n"
     ]
    },
    {
     "name": "stdout",
     "output_type": "stream",
     "text": [
      "2680\n",
      "17\n",
      "8040 72\n",
      "17\n",
      "3\n"
     ]
    },
    {
     "name": "stderr",
     "output_type": "stream",
     "text": [
      "688it [00:00, 3384.92it/s]"
     ]
    },
    {
     "name": "stdout",
     "output_type": "stream",
     "text": [
      "Parsed ../kickoff-detection-data/0d9e9e30-9d13-4af0-8e41-fe1669e9eeff.2.kickoff.rdb in 2.12 s.\n",
      "Contains keys: dict_keys(['right', 'left'])\n",
      "[right] start_ts: 1523195853031 | stop_ts: 1523196452911\n",
      "[left] start_ts: 1523195853517 | stop_ts: 1523196453157\n",
      "0d9e9e30-9d13-4af0-8e41-fe1669e9eeff.json\n"
     ]
    },
    {
     "name": "stderr",
     "output_type": "stream",
     "text": [
      "14992it [00:07, 1988.92it/s]\n"
     ]
    },
    {
     "name": "stdout",
     "output_type": "stream",
     "text": [
      "2680\n",
      "16\n",
      "8040 72\n",
      "16\n",
      "4\n"
     ]
    },
    {
     "name": "stderr",
     "output_type": "stream",
     "text": [
      "343it [00:00, 1676.04it/s]"
     ]
    },
    {
     "name": "stdout",
     "output_type": "stream",
     "text": [
      "Parsed ../kickoff-detection-data/13ab8e56-a03f-4b85-a0b2-341d7e633cbe.1.kickoff.rdb in 1.18 s.\n",
      "Contains keys: dict_keys(['right', 'left'])\n",
      "[right] start_ts: 1527008130685 | stop_ts: 1527008428605\n",
      "[left] start_ts: 1527008130907 | stop_ts: 1527008428667\n",
      "13ab8e56-a03f-4b85-a0b2-341d7e633cbe.json\n"
     ]
    },
    {
     "name": "stderr",
     "output_type": "stream",
     "text": [
      "7445it [00:03, 2046.66it/s]\n"
     ]
    },
    {
     "name": "stdout",
     "output_type": "stream",
     "text": [
      "2680\n",
      "0\n",
      "8040 27\n",
      "0\n"
     ]
    },
    {
     "name": "stderr",
     "output_type": "stream",
     "text": [
      "454it [00:00, 4534.86it/s]"
     ]
    },
    {
     "name": "stdout",
     "output_type": "stream",
     "text": [
      "Parsed ../kickoff-detection-data/13ab8e56-a03f-4b85-a0b2-341d7e633cbe.2.kickoff.rdb in 0.79 s.\n",
      "Contains keys: dict_keys(['right', 'left'])\n",
      "[right] start_ts: 1527011750725 | stop_ts: 1527012050605\n",
      "[left] start_ts: 1527011750867 | stop_ts: 1527012050667\n",
      "13ab8e56-a03f-4b85-a0b2-341d7e633cbe.json\n"
     ]
    },
    {
     "name": "stderr",
     "output_type": "stream",
     "text": [
      "7496it [00:02, 2848.06it/s]\n"
     ]
    },
    {
     "name": "stdout",
     "output_type": "stream",
     "text": [
      "2680\n",
      "0\n",
      "8040 27\n",
      "0\n"
     ]
    },
    {
     "name": "stderr",
     "output_type": "stream",
     "text": [
      "413it [00:00, 2146.53it/s]"
     ]
    },
    {
     "name": "stdout",
     "output_type": "stream",
     "text": [
      "Parsed ../kickoff-detection-data/19bebd81-3b61-492b-85ed-74ff887cbc45.1.kickoff.rdb in 2.80 s.\n",
      "Contains keys: dict_keys(['right', 'left'])\n",
      "[right] start_ts: 1522587371411 | stop_ts: 1522587968931\n",
      "[left] start_ts: 1522587371575 | stop_ts: 1522587969015\n",
      "19bebd81-3b61-492b-85ed-74ff887cbc45.json\n"
     ]
    },
    {
     "name": "stderr",
     "output_type": "stream",
     "text": [
      "14937it [00:08, 1762.43it/s]\n"
     ]
    },
    {
     "name": "stdout",
     "output_type": "stream",
     "text": [
      "2680\n",
      "17\n",
      "8040 71\n",
      "17\n",
      "5\n"
     ]
    },
    {
     "name": "stderr",
     "output_type": "stream",
     "text": [
      "304it [00:00, 3035.53it/s]"
     ]
    },
    {
     "name": "stdout",
     "output_type": "stream",
     "text": [
      "Parsed ../kickoff-detection-data/19bebd81-3b61-492b-85ed-74ff887cbc45.2.kickoff.rdb in 1.43 s.\n",
      "Contains keys: dict_keys(['right', 'left'])\n",
      "[right] start_ts: 1522591235411 | stop_ts: 1522591831931\n",
      "[left] start_ts: 1522591235535 | stop_ts: 1522591832015\n",
      "19bebd81-3b61-492b-85ed-74ff887cbc45.json\n"
     ]
    },
    {
     "name": "stderr",
     "output_type": "stream",
     "text": [
      "14913it [00:05, 2608.05it/s]\n"
     ]
    },
    {
     "name": "stdout",
     "output_type": "stream",
     "text": [
      "2680\n",
      "16\n",
      "8040 71\n",
      "16\n",
      "6\n"
     ]
    },
    {
     "name": "stderr",
     "output_type": "stream",
     "text": [
      "1118it [00:00, 5676.84it/s]"
     ]
    },
    {
     "name": "stdout",
     "output_type": "stream",
     "text": [
      "Parsed ../kickoff-detection-data/1e67ff07-1ca6-4778-a91e-024007e66974.1.kickoff.rdb in 0.63 s.\n",
      "Contains keys: dict_keys(['right', 'left'])\n",
      "[right] start_ts: 1527180903146 | stop_ts: 1527181202866\n",
      "[left] start_ts: 1527180903130 | stop_ts: 1527181202890\n",
      "1e67ff07-1ca6-4778-a91e-024007e66974.json\n"
     ]
    },
    {
     "name": "stderr",
     "output_type": "stream",
     "text": [
      "7494it [00:02, 3284.94it/s]\n"
     ]
    },
    {
     "name": "stdout",
     "output_type": "stream",
     "text": [
      "2680\n",
      "0\n",
      "8040 27\n",
      "0\n"
     ]
    },
    {
     "name": "stderr",
     "output_type": "stream",
     "text": [
      "593it [00:00, 2956.46it/s]"
     ]
    },
    {
     "name": "stdout",
     "output_type": "stream",
     "text": [
      "Parsed ../kickoff-detection-data/1e67ff07-1ca6-4778-a91e-024007e66974.2.kickoff.rdb in 0.54 s.\n",
      "Contains keys: dict_keys(['right', 'left'])\n",
      "[right] start_ts: 1527184687106 | stop_ts: 1527184986866\n",
      "[left] start_ts: 1527184687170 | stop_ts: 1527184986890\n",
      "1e67ff07-1ca6-4778-a91e-024007e66974.json\n"
     ]
    },
    {
     "name": "stderr",
     "output_type": "stream",
     "text": [
      "7494it [00:02, 3019.51it/s]\n"
     ]
    },
    {
     "name": "stdout",
     "output_type": "stream",
     "text": [
      "2680\n",
      "0\n",
      "8040 27\n",
      "0\n"
     ]
    },
    {
     "name": "stderr",
     "output_type": "stream",
     "text": [
      "955it [00:00, 4688.48it/s]"
     ]
    },
    {
     "name": "stdout",
     "output_type": "stream",
     "text": [
      "Parsed ../kickoff-detection-data/2281c504-baac-4d0b-8cb6-a95c23e3ac87.1.kickoff.rdb in 1.32 s.\n",
      "Contains keys: dict_keys(['right', 'left'])\n",
      "[right] start_ts: 1525096495413 | stop_ts: 1525097093933\n",
      "[left] start_ts: 1525096495433 | stop_ts: 1525097093953\n",
      "2281c504-baac-4d0b-8cb6-a95c23e3ac87.json\n"
     ]
    },
    {
     "name": "stderr",
     "output_type": "stream",
     "text": [
      "14964it [00:05, 2878.12it/s]\n"
     ]
    },
    {
     "name": "stdout",
     "output_type": "stream",
     "text": [
      "2680\n",
      "16\n",
      "8040 72\n",
      "16\n",
      "7\n"
     ]
    },
    {
     "name": "stderr",
     "output_type": "stream",
     "text": [
      "660it [00:00, 3264.00it/s]"
     ]
    },
    {
     "name": "stdout",
     "output_type": "stream",
     "text": [
      "Parsed ../kickoff-detection-data/2281c504-baac-4d0b-8cb6-a95c23e3ac87.2.kickoff.rdb in 1.22 s.\n",
      "Contains keys: dict_keys(['right', 'left'])\n",
      "[right] start_ts: 1525100287373 | stop_ts: 1525100884933\n",
      "[left] start_ts: 1525100287393 | stop_ts: 1525100884953\n",
      "2281c504-baac-4d0b-8cb6-a95c23e3ac87.json\n"
     ]
    },
    {
     "name": "stderr",
     "output_type": "stream",
     "text": [
      "14940it [00:05, 2946.56it/s]\n"
     ]
    },
    {
     "name": "stdout",
     "output_type": "stream",
     "text": [
      "2680\n",
      "17\n",
      "8040 72\n",
      "17\n",
      "8\n"
     ]
    },
    {
     "name": "stderr",
     "output_type": "stream",
     "text": [
      "849it [00:00, 4100.32it/s]"
     ]
    },
    {
     "name": "stdout",
     "output_type": "stream",
     "text": [
      "Parsed ../kickoff-detection-data/23fb8811-638e-4be8-a01d-76cad0f5a5bf.1.kickoff.rdb in 0.94 s.\n",
      "Contains keys: dict_keys(['right', 'left'])\n",
      "[right] start_ts: 1526133303581 | stop_ts: 1526133602461\n",
      "[left] start_ts: 1526133303595 | stop_ts: 1526133602435\n",
      "23fb8811-638e-4be8-a01d-76cad0f5a5bf.json\n"
     ]
    },
    {
     "name": "stderr",
     "output_type": "stream",
     "text": [
      "7472it [00:02, 2689.81it/s]\n"
     ]
    },
    {
     "name": "stdout",
     "output_type": "stream",
     "text": [
      "2680\n",
      "0\n",
      "8040 27\n",
      "0\n"
     ]
    },
    {
     "name": "stderr",
     "output_type": "stream",
     "text": [
      "609it [00:00, 6086.94it/s]"
     ]
    },
    {
     "name": "stdout",
     "output_type": "stream",
     "text": [
      "Parsed ../kickoff-detection-data/23fb8811-638e-4be8-a01d-76cad0f5a5bf.2.kickoff.rdb in 0.57 s.\n",
      "Contains keys: dict_keys(['right', 'left'])\n",
      "[right] start_ts: 1526136983581 | stop_ts: 1526137283461\n",
      "[left] start_ts: 1526136983595 | stop_ts: 1526137283435\n",
      "23fb8811-638e-4be8-a01d-76cad0f5a5bf.json\n"
     ]
    },
    {
     "name": "stderr",
     "output_type": "stream",
     "text": [
      "7497it [00:02, 2362.28it/s]\n"
     ]
    },
    {
     "name": "stdout",
     "output_type": "stream",
     "text": [
      "2680\n",
      "0\n",
      "8040 27\n",
      "0\n"
     ]
    },
    {
     "name": "stderr",
     "output_type": "stream",
     "text": [
      "529it [00:00, 2747.97it/s]"
     ]
    },
    {
     "name": "stdout",
     "output_type": "stream",
     "text": [
      "Parsed ../kickoff-detection-data/24978380-482e-4ba4-a124-5142d43f8c91.1.kickoff.rdb in 1.08 s.\n",
      "Contains keys: dict_keys(['right', 'left'])\n",
      "[right] start_ts: 1527180900976 | stop_ts: 1527181200816\n",
      "[left] start_ts: 1527180904814 | stop_ts: 1527181200734\n",
      "24978380-482e-4ba4-a124-5142d43f8c91.json\n"
     ]
    },
    {
     "name": "stderr",
     "output_type": "stream",
     "text": [
      "7399it [00:03, 2022.88it/s]\n"
     ]
    },
    {
     "name": "stdout",
     "output_type": "stream",
     "text": [
      "2680\n",
      "0\n",
      "8040 27\n",
      "0\n"
     ]
    },
    {
     "name": "stderr",
     "output_type": "stream",
     "text": [
      "864it [00:00, 4339.53it/s]"
     ]
    },
    {
     "name": "stdout",
     "output_type": "stream",
     "text": [
      "Parsed ../kickoff-detection-data/24978380-482e-4ba4-a124-5142d43f8c91.2.kickoff.rdb in 0.61 s.\n",
      "Contains keys: dict_keys(['right', 'left'])\n",
      "[right] start_ts: 1527184564976 | stop_ts: 1527184864816\n",
      "[left] start_ts: 1527184568814 | stop_ts: 1527184864734\n",
      "24978380-482e-4ba4-a124-5142d43f8c91.json\n"
     ]
    },
    {
     "name": "stderr",
     "output_type": "stream",
     "text": [
      "7398it [00:02, 3639.14it/s]\n"
     ]
    },
    {
     "name": "stdout",
     "output_type": "stream",
     "text": [
      "2680\n",
      "0\n",
      "8040 27\n",
      "0\n"
     ]
    },
    {
     "name": "stderr",
     "output_type": "stream",
     "text": [
      "491it [00:00, 1638.26it/s]"
     ]
    },
    {
     "name": "stdout",
     "output_type": "stream",
     "text": [
      "Parsed ../kickoff-detection-data/2739587b-312a-4d40-ba1a-9b5e3ebf5c9c.1.kickoff.rdb in 1.40 s.\n",
      "Contains keys: dict_keys(['right', 'left'])\n",
      "[right] start_ts: 1527425706526 | stop_ts: 1527426005406\n",
      "[left] start_ts: 1527425706666 | stop_ts: 1527426005466\n",
      "2739587b-312a-4d40-ba1a-9b5e3ebf5c9c.json\n"
     ]
    },
    {
     "name": "stderr",
     "output_type": "stream",
     "text": [
      "7471it [00:05, 1282.39it/s]\n"
     ]
    },
    {
     "name": "stdout",
     "output_type": "stream",
     "text": [
      "2680\n",
      "0\n",
      "8040 27\n",
      "0\n"
     ]
    },
    {
     "name": "stderr",
     "output_type": "stream",
     "text": [
      "352it [00:00, 1742.31it/s]"
     ]
    },
    {
     "name": "stdout",
     "output_type": "stream",
     "text": [
      "Parsed ../kickoff-detection-data/2739587b-312a-4d40-ba1a-9b5e3ebf5c9c.2.kickoff.rdb in 0.81 s.\n",
      "Contains keys: dict_keys(['right', 'left'])\n",
      "[right] start_ts: 1527429626566 | stop_ts: 1527429925406\n",
      "[left] start_ts: 1527429626666 | stop_ts: 1527429925466\n",
      "2739587b-312a-4d40-ba1a-9b5e3ebf5c9c.json\n"
     ]
    },
    {
     "name": "stderr",
     "output_type": "stream",
     "text": [
      "7471it [00:03, 2006.15it/s]\n"
     ]
    },
    {
     "name": "stdout",
     "output_type": "stream",
     "text": [
      "2680\n",
      "0\n",
      "8040 27\n",
      "0\n"
     ]
    },
    {
     "name": "stderr",
     "output_type": "stream",
     "text": [
      "495it [00:00, 2461.57it/s]"
     ]
    },
    {
     "name": "stdout",
     "output_type": "stream",
     "text": [
      "Parsed ../kickoff-detection-data/27bea627-3caa-47ee-93c3-67f0e26f3034.1.kickoff.rdb in 1.84 s.\n",
      "Contains keys: dict_keys(['right', 'left'])\n",
      "[right] start_ts: 1523796957851 | stop_ts: 1523797557411\n",
      "[left] start_ts: 1523796958381 | stop_ts: 1523797557661\n",
      "27bea627-3caa-47ee-93c3-67f0e26f3034.json\n"
     ]
    },
    {
     "name": "stderr",
     "output_type": "stream",
     "text": [
      "14984it [00:07, 1922.66it/s]\n"
     ]
    },
    {
     "name": "stdout",
     "output_type": "stream",
     "text": [
      "2680\n",
      "17\n",
      "8040 73\n",
      "17\n",
      "9\n"
     ]
    },
    {
     "name": "stderr",
     "output_type": "stream",
     "text": [
      "182it [00:00, 1815.03it/s]"
     ]
    },
    {
     "name": "stdout",
     "output_type": "stream",
     "text": [
      "Parsed ../kickoff-detection-data/27bea627-3caa-47ee-93c3-67f0e26f3034.2.kickoff.rdb in 1.69 s.\n",
      "Contains keys: dict_keys(['right', 'left'])\n",
      "[right] start_ts: 1523800613851 | stop_ts: 1523801213411\n",
      "[left] start_ts: 1523800614341 | stop_ts: 1523801213661\n",
      "27bea627-3caa-47ee-93c3-67f0e26f3034.json\n"
     ]
    },
    {
     "name": "stderr",
     "output_type": "stream",
     "text": [
      "14983it [00:06, 2372.61it/s]\n"
     ]
    },
    {
     "name": "stdout",
     "output_type": "stream",
     "text": [
      "2680\n",
      "16\n",
      "8040 72\n",
      "16\n",
      "10\n"
     ]
    },
    {
     "name": "stderr",
     "output_type": "stream",
     "text": [
      "440it [00:00, 4389.91it/s]"
     ]
    },
    {
     "name": "stdout",
     "output_type": "stream",
     "text": [
      "Parsed ../kickoff-detection-data/2b8bcfd6-5f57-46de-aacd-e932ac8e1697.1.kickoff.rdb in 1.82 s.\n",
      "Contains keys: dict_keys(['right', 'left'])\n",
      "[right] start_ts: 1523201094061 | stop_ts: 1523201692981\n",
      "[left] start_ts: 1523201092829 | stop_ts: 1523201692349\n",
      "2b8bcfd6-5f57-46de-aacd-e932ac8e1697.json\n"
     ]
    },
    {
     "name": "stderr",
     "output_type": "stream",
     "text": [
      "14951it [00:07, 2004.13it/s]\n"
     ]
    },
    {
     "name": "stdout",
     "output_type": "stream",
     "text": [
      "2680\n",
      "16\n",
      "8040 71\n",
      "16\n",
      "11\n"
     ]
    },
    {
     "name": "stderr",
     "output_type": "stream",
     "text": [
      "489it [00:00, 2399.90it/s]"
     ]
    },
    {
     "name": "stdout",
     "output_type": "stream",
     "text": [
      "Parsed ../kickoff-detection-data/2b8bcfd6-5f57-46de-aacd-e932ac8e1697.2.kickoff.rdb in 1.63 s.\n",
      "Contains keys: dict_keys(['right', 'left'])\n",
      "[right] start_ts: 1523204962061 | stop_ts: 1523205559981\n",
      "[left] start_ts: 1523204960829 | stop_ts: 1523205559349\n",
      "2b8bcfd6-5f57-46de-aacd-e932ac8e1697.json\n"
     ]
    },
    {
     "name": "stderr",
     "output_type": "stream",
     "text": [
      "14949it [00:07, 2012.64it/s]\n"
     ]
    },
    {
     "name": "stdout",
     "output_type": "stream",
     "text": [
      "2680\n",
      "17\n",
      "8040 71\n",
      "17\n",
      "12\n"
     ]
    },
    {
     "name": "stderr",
     "output_type": "stream",
     "text": [
      "139it [00:00, 1386.03it/s]"
     ]
    },
    {
     "name": "stdout",
     "output_type": "stream",
     "text": [
      "Parsed ../kickoff-detection-data/2dc12819-d486-4925-a0e2-b8ae9ff1aed5.1.kickoff.rdb in 2.63 s.\n",
      "Contains keys: dict_keys(['right', 'left'])\n",
      "[right] start_ts: 1523192332775 | stop_ts: 1523192929695\n",
      "[left] start_ts: 1523192332019 | stop_ts: 1523192929339\n",
      "2dc12819-d486-4925-a0e2-b8ae9ff1aed5.json\n"
     ]
    },
    {
     "name": "stderr",
     "output_type": "stream",
     "text": [
      "14925it [00:08, 1790.28it/s]\n"
     ]
    },
    {
     "name": "stdout",
     "output_type": "stream",
     "text": [
      "2680\n",
      "17\n",
      "8040 71\n",
      "17\n",
      "13\n"
     ]
    },
    {
     "name": "stderr",
     "output_type": "stream",
     "text": [
      "546it [00:00, 2712.87it/s]"
     ]
    },
    {
     "name": "stdout",
     "output_type": "stream",
     "text": [
      "Parsed ../kickoff-detection-data/2dc12819-d486-4925-a0e2-b8ae9ff1aed5.2.kickoff.rdb in 2.08 s.\n",
      "Contains keys: dict_keys(['right', 'left'])\n",
      "[right] start_ts: 1523196016735 | stop_ts: 1523196614695\n",
      "[left] start_ts: 1523196016019 | stop_ts: 1523196614339\n",
      "2dc12819-d486-4925-a0e2-b8ae9ff1aed5.json\n"
     ]
    },
    {
     "name": "stderr",
     "output_type": "stream",
     "text": [
      "14949it [00:07, 2098.37it/s]\n"
     ]
    },
    {
     "name": "stdout",
     "output_type": "stream",
     "text": [
      "2680\n",
      "16\n",
      "8040 71\n",
      "16\n",
      "14\n"
     ]
    },
    {
     "name": "stderr",
     "output_type": "stream",
     "text": [
      "245it [00:00, 2445.76it/s]"
     ]
    },
    {
     "name": "stdout",
     "output_type": "stream",
     "text": [
      "Parsed ../kickoff-detection-data/2ef95134-9901-4550-97c7-74d0c82567d3.1.kickoff.rdb in 1.48 s.\n",
      "Contains keys: dict_keys(['right', 'left'])\n",
      "[right] start_ts: 1527425760258 | stop_ts: 1527426059098\n",
      "[left] start_ts: 1527425760228 | stop_ts: 1527426059108\n",
      "2ef95134-9901-4550-97c7-74d0c82567d3.json\n"
     ]
    },
    {
     "name": "stderr",
     "output_type": "stream",
     "text": [
      "7473it [00:04, 1659.76it/s]\n"
     ]
    },
    {
     "name": "stdout",
     "output_type": "stream",
     "text": [
      "2680\n",
      "0\n",
      "8040 27\n",
      "0\n"
     ]
    },
    {
     "name": "stderr",
     "output_type": "stream",
     "text": [
      "245it [00:00, 2442.69it/s]"
     ]
    },
    {
     "name": "stdout",
     "output_type": "stream",
     "text": [
      "Parsed ../kickoff-detection-data/2ef95134-9901-4550-97c7-74d0c82567d3.2.kickoff.rdb in 0.80 s.\n",
      "Contains keys: dict_keys(['right', 'left'])\n",
      "[right] start_ts: 1527429544258 | stop_ts: 1527429842098\n",
      "[left] start_ts: 1527429544228 | stop_ts: 1527429842108\n",
      "2ef95134-9901-4550-97c7-74d0c82567d3.json\n"
     ]
    },
    {
     "name": "stderr",
     "output_type": "stream",
     "text": [
      "7447it [00:02, 2502.18it/s]\n"
     ]
    },
    {
     "name": "stdout",
     "output_type": "stream",
     "text": [
      "2680\n",
      "0\n",
      "8040 27\n",
      "0\n"
     ]
    },
    {
     "name": "stderr",
     "output_type": "stream",
     "text": [
      "272it [00:00, 1398.12it/s]"
     ]
    },
    {
     "name": "stdout",
     "output_type": "stream",
     "text": [
      "Parsed ../kickoff-detection-data/314f4989-398c-45a3-a74f-9f1adac71bf1.1.kickoff.rdb in 2.17 s.\n",
      "Contains keys: dict_keys(['right', 'left'])\n",
      "[right] start_ts: 1522587361602 | stop_ts: 1522587961442\n",
      "[left] start_ts: 1522587361524 | stop_ts: 1522587961404\n",
      "314f4989-398c-45a3-a74f-9f1adac71bf1.json\n"
     ]
    },
    {
     "name": "stderr",
     "output_type": "stream",
     "text": [
      "14908it [00:07, 2038.35it/s]\n"
     ]
    },
    {
     "name": "stdout",
     "output_type": "stream",
     "text": [
      "2680\n",
      "16\n",
      "8040 71\n",
      "16\n",
      "15\n"
     ]
    },
    {
     "name": "stderr",
     "output_type": "stream",
     "text": [
      "249it [00:00, 2483.69it/s]"
     ]
    },
    {
     "name": "stdout",
     "output_type": "stream",
     "text": [
      "Parsed ../kickoff-detection-data/314f4989-398c-45a3-a74f-9f1adac71bf1.2.kickoff.rdb in 1.72 s.\n",
      "Contains keys: dict_keys(['right', 'left'])\n",
      "[right] start_ts: 1522591069602 | stop_ts: 1522591667442\n",
      "[left] start_ts: 1522591069484 | stop_ts: 1522591667404\n",
      "314f4989-398c-45a3-a74f-9f1adac71bf1.json\n"
     ]
    },
    {
     "name": "stderr",
     "output_type": "stream",
     "text": [
      "14947it [00:06, 2401.71it/s]\n"
     ]
    },
    {
     "name": "stdout",
     "output_type": "stream",
     "text": [
      "2680\n",
      "17\n",
      "8040 72\n",
      "17\n",
      "16\n"
     ]
    },
    {
     "name": "stderr",
     "output_type": "stream",
     "text": [
      "312it [00:00, 1577.75it/s]"
     ]
    },
    {
     "name": "stdout",
     "output_type": "stream",
     "text": [
      "Parsed ../kickoff-detection-data/3382a9d0-02ff-4f23-9748-1b715d85b731.1.kickoff.rdb in 4.05 s.\n",
      "Contains keys: dict_keys(['right', 'left'])\n",
      "[right] start_ts: 1523805900650 | stop_ts: 1523806499170\n",
      "[left] start_ts: 1523805900082 | stop_ts: 1523806498882\n",
      "3382a9d0-02ff-4f23-9748-1b715d85b731.json\n"
     ]
    },
    {
     "name": "stderr",
     "output_type": "stream",
     "text": [
      "14963it [00:09, 1498.31it/s]\n"
     ]
    },
    {
     "name": "stdout",
     "output_type": "stream",
     "text": [
      "2680\n",
      "16\n",
      "8040 71\n",
      "16\n",
      "17\n"
     ]
    },
    {
     "name": "stderr",
     "output_type": "stream",
     "text": [
      "324it [00:00, 3235.76it/s]"
     ]
    },
    {
     "name": "stdout",
     "output_type": "stream",
     "text": [
      "Parsed ../kickoff-detection-data/3382a9d0-02ff-4f23-9748-1b715d85b731.2.kickoff.rdb in 2.02 s.\n",
      "Contains keys: dict_keys(['right', 'left'])\n",
      "[right] start_ts: 1523809596650 | stop_ts: 1523810194170\n",
      "[left] start_ts: 1523809596082 | stop_ts: 1523810193882\n",
      "3382a9d0-02ff-4f23-9748-1b715d85b731.json\n"
     ]
    },
    {
     "name": "stderr",
     "output_type": "stream",
     "text": [
      "14938it [00:06, 2362.24it/s]\n"
     ]
    },
    {
     "name": "stdout",
     "output_type": "stream",
     "text": [
      "2680\n",
      "16\n",
      "8040 71\n",
      "16\n",
      "18\n"
     ]
    },
    {
     "name": "stderr",
     "output_type": "stream",
     "text": [
      "877it [00:00, 4313.17it/s]"
     ]
    },
    {
     "name": "stdout",
     "output_type": "stream",
     "text": [
      "Parsed ../kickoff-detection-data/3c7f617c-c839-4e5a-9e80-52017fa85d93.1.kickoff.rdb in 1.96 s.\n",
      "Contains keys: dict_keys(['right', 'left'])\n",
      "[right] start_ts: 1525006516933 | stop_ts: 1525007115773\n",
      "[left] start_ts: 1525006516949 | stop_ts: 1525007115789\n",
      "3c7f617c-c839-4e5a-9e80-52017fa85d93.json\n"
     ]
    },
    {
     "name": "stderr",
     "output_type": "stream",
     "text": [
      "14972it [00:06, 2231.02it/s]\n"
     ]
    },
    {
     "name": "stdout",
     "output_type": "stream",
     "text": [
      "2680\n",
      "16\n",
      "8040 72\n",
      "16\n",
      "19\n"
     ]
    },
    {
     "name": "stderr",
     "output_type": "stream",
     "text": [
      "254it [00:00, 2535.17it/s]"
     ]
    },
    {
     "name": "stdout",
     "output_type": "stream",
     "text": [
      "Parsed ../kickoff-detection-data/3c7f617c-c839-4e5a-9e80-52017fa85d93.2.kickoff.rdb in 1.74 s.\n",
      "Contains keys: dict_keys(['right', 'left'])\n",
      "[right] start_ts: 1525010224933 | stop_ts: 1525010823773\n",
      "[left] start_ts: 1525010224949 | stop_ts: 1525010823789\n",
      "3c7f617c-c839-4e5a-9e80-52017fa85d93.json\n"
     ]
    },
    {
     "name": "stderr",
     "output_type": "stream",
     "text": [
      "14973it [00:06, 2470.69it/s]\n"
     ]
    },
    {
     "name": "stdout",
     "output_type": "stream",
     "text": [
      "2680\n",
      "16\n",
      "8040 72\n",
      "16\n",
      "20\n"
     ]
    },
    {
     "name": "stderr",
     "output_type": "stream",
     "text": [
      "280it [00:00, 2779.69it/s]"
     ]
    },
    {
     "name": "stdout",
     "output_type": "stream",
     "text": [
      "Parsed ../kickoff-detection-data/3d29af74-d98c-415b-a1dc-6b034671d831.1.kickoff.rdb in 1.16 s.\n",
      "Contains keys: dict_keys(['right', 'left'])\n",
      "[right] start_ts: 1527094529133 | stop_ts: 1527094829013\n",
      "[left] start_ts: 1527094529245 | stop_ts: 1527094829045\n",
      "3d29af74-d98c-415b-a1dc-6b034671d831.json\n"
     ]
    },
    {
     "name": "stderr",
     "output_type": "stream",
     "text": [
      "7497it [00:04, 1718.63it/s]\n"
     ]
    },
    {
     "name": "stdout",
     "output_type": "stream",
     "text": [
      "2680\n",
      "0\n",
      "8040 27\n",
      "0\n"
     ]
    },
    {
     "name": "stderr",
     "output_type": "stream",
     "text": [
      "323it [00:00, 3221.41it/s]"
     ]
    },
    {
     "name": "stdout",
     "output_type": "stream",
     "text": [
      "Parsed ../kickoff-detection-data/3d29af74-d98c-415b-a1dc-6b034671d831.2.kickoff.rdb in 0.63 s.\n",
      "Contains keys: dict_keys(['right', 'left'])\n",
      "[right] start_ts: 1527098333133 | stop_ts: 1527098631013\n",
      "[left] start_ts: 1527098333205 | stop_ts: 1527098631045\n",
      "3d29af74-d98c-415b-a1dc-6b034671d831.json\n"
     ]
    },
    {
     "name": "stderr",
     "output_type": "stream",
     "text": [
      "7446it [00:02, 2899.06it/s]\n"
     ]
    },
    {
     "name": "stdout",
     "output_type": "stream",
     "text": [
      "2680\n",
      "0\n",
      "8040 27\n",
      "0\n"
     ]
    },
    {
     "name": "stderr",
     "output_type": "stream",
     "text": [
      "783it [00:00, 4068.96it/s]"
     ]
    },
    {
     "name": "stdout",
     "output_type": "stream",
     "text": [
      "Parsed ../kickoff-detection-data/4176c56a-b0df-4e64-aaeb-09150829ba15.1.kickoff.rdb in 0.80 s.\n",
      "Contains keys: dict_keys(['right', 'left'])\n",
      "[right] start_ts: 1526738122432 | stop_ts: 1526738422232\n",
      "[left] start_ts: 1526738122412 | stop_ts: 1526738422252\n",
      "4176c56a-b0df-4e64-aaeb-09150829ba15.json\n"
     ]
    },
    {
     "name": "stderr",
     "output_type": "stream",
     "text": [
      "7496it [00:03, 2148.14it/s]\n"
     ]
    },
    {
     "name": "stdout",
     "output_type": "stream",
     "text": [
      "2680\n",
      "0\n",
      "8040 27\n",
      "0\n"
     ]
    },
    {
     "name": "stderr",
     "output_type": "stream",
     "text": [
      "648it [00:00, 3085.89it/s]"
     ]
    },
    {
     "name": "stdout",
     "output_type": "stream",
     "text": [
      "Parsed ../kickoff-detection-data/4176c56a-b0df-4e64-aaeb-09150829ba15.2.kickoff.rdb in 0.61 s.\n",
      "Contains keys: dict_keys(['right', 'left'])\n",
      "[right] start_ts: 1526741990392 | stop_ts: 1526742290232\n",
      "[left] start_ts: 1526741990412 | stop_ts: 1526742290252\n",
      "4176c56a-b0df-4e64-aaeb-09150829ba15.json\n"
     ]
    },
    {
     "name": "stderr",
     "output_type": "stream",
     "text": [
      "7496it [00:02, 3041.86it/s]\n"
     ]
    },
    {
     "name": "stdout",
     "output_type": "stream",
     "text": [
      "2680\n",
      "0\n",
      "8040 27\n",
      "0\n"
     ]
    },
    {
     "name": "stderr",
     "output_type": "stream",
     "text": [
      "581it [00:00, 2870.31it/s]"
     ]
    },
    {
     "name": "stdout",
     "output_type": "stream",
     "text": [
      "Parsed ../kickoff-detection-data/41c3f1b3-a868-459b-9766-760be49947b2.1.kickoff.rdb in 0.95 s.\n",
      "Contains keys: dict_keys(['right', 'left'])\n",
      "[right] start_ts: 1526316922561 | stop_ts: 1526317221441\n",
      "[left] start_ts: 1526316922655 | stop_ts: 1526317221455\n",
      "41c3f1b3-a868-459b-9766-760be49947b2.json\n"
     ]
    },
    {
     "name": "stderr",
     "output_type": "stream",
     "text": [
      "7472it [00:04, 1744.63it/s]\n"
     ]
    },
    {
     "name": "stdout",
     "output_type": "stream",
     "text": [
      "2680\n",
      "0\n",
      "8040 27\n",
      "0\n"
     ]
    },
    {
     "name": "stderr",
     "output_type": "stream",
     "text": [
      "569it [00:00, 2767.69it/s]"
     ]
    },
    {
     "name": "stdout",
     "output_type": "stream",
     "text": [
      "Parsed ../kickoff-detection-data/41c3f1b3-a868-459b-9766-760be49947b2.2.kickoff.rdb in 0.76 s.\n",
      "Contains keys: dict_keys(['right', 'left'])\n",
      "[right] start_ts: 1526320586601 | stop_ts: 1526320886441\n",
      "[left] start_ts: 1526320586615 | stop_ts: 1526320886455\n",
      "41c3f1b3-a868-459b-9766-760be49947b2.json\n"
     ]
    },
    {
     "name": "stderr",
     "output_type": "stream",
     "text": [
      "7497it [00:03, 2294.58it/s]\n"
     ]
    },
    {
     "name": "stdout",
     "output_type": "stream",
     "text": [
      "2680\n",
      "0\n",
      "8040 27\n",
      "0\n"
     ]
    },
    {
     "name": "stderr",
     "output_type": "stream",
     "text": [
      "290it [00:00, 1483.66it/s]"
     ]
    },
    {
     "name": "stdout",
     "output_type": "stream",
     "text": [
      "Parsed ../kickoff-detection-data/4501652f-d7e6-4e3e-9ad2-e01198278688.1.kickoff.rdb in 1.23 s.\n",
      "Contains keys: dict_keys(['right', 'left'])\n",
      "[right] start_ts: 1526216102566 | stop_ts: 1526216402406\n",
      "[left] start_ts: 1526216102558 | stop_ts: 1526216402398\n",
      "4501652f-d7e6-4e3e-9ad2-e01198278688.json\n"
     ]
    },
    {
     "name": "stderr",
     "output_type": "stream",
     "text": [
      "7498it [00:05, 1362.01it/s]\n"
     ]
    },
    {
     "name": "stdout",
     "output_type": "stream",
     "text": [
      "2680\n",
      "0\n",
      "8040 27\n",
      "0\n"
     ]
    },
    {
     "name": "stderr",
     "output_type": "stream",
     "text": [
      "686it [00:00, 3362.84it/s]"
     ]
    },
    {
     "name": "stdout",
     "output_type": "stream",
     "text": [
      "Parsed ../kickoff-detection-data/4501652f-d7e6-4e3e-9ad2-e01198278688.2.kickoff.rdb in 0.72 s.\n",
      "Contains keys: dict_keys(['right', 'left'])\n",
      "[right] start_ts: 1526219862566 | stop_ts: 1526220159406\n",
      "[left] start_ts: 1526219862518 | stop_ts: 1526220159398\n",
      "4501652f-d7e6-4e3e-9ad2-e01198278688.json\n"
     ]
    },
    {
     "name": "stderr",
     "output_type": "stream",
     "text": [
      "7422it [00:02, 2695.62it/s]\n"
     ]
    },
    {
     "name": "stdout",
     "output_type": "stream",
     "text": [
      "2680\n",
      "0\n",
      "8040 27\n",
      "0\n"
     ]
    },
    {
     "name": "stderr",
     "output_type": "stream",
     "text": [
      "866it [00:00, 4511.21it/s]"
     ]
    },
    {
     "name": "stdout",
     "output_type": "stream",
     "text": [
      "Parsed ../kickoff-detection-data/456910d1-b523-4ff2-b60c-fcd1f016b96d.1.kickoff.rdb in 0.63 s.\n",
      "Contains keys: dict_keys(['right', 'left'])\n",
      "[right] start_ts: 1524502502884 | stop_ts: 1524502800764\n",
      "[left] start_ts: 1524502503416 | stop_ts: 1524502801016\n",
      "456910d1-b523-4ff2-b60c-fcd1f016b96d.json\n"
     ]
    },
    {
     "name": "stderr",
     "output_type": "stream",
     "text": [
      "7440it [00:02, 3599.16it/s]\n"
     ]
    },
    {
     "name": "stdout",
     "output_type": "stream",
     "text": [
      "2680\n",
      "0\n",
      "8040 27\n",
      "0\n"
     ]
    },
    {
     "name": "stderr",
     "output_type": "stream",
     "text": [
      "833it [00:00, 4045.23it/s]"
     ]
    },
    {
     "name": "stdout",
     "output_type": "stream",
     "text": [
      "Parsed ../kickoff-detection-data/456910d1-b523-4ff2-b60c-fcd1f016b96d.2.kickoff.rdb in 0.58 s.\n",
      "Contains keys: dict_keys(['right', 'left'])\n",
      "[right] start_ts: 1524506250924 | stop_ts: 1524506550764\n",
      "[left] start_ts: 1524506251416 | stop_ts: 1524506551016\n",
      "456910d1-b523-4ff2-b60c-fcd1f016b96d.json\n"
     ]
    },
    {
     "name": "stderr",
     "output_type": "stream",
     "text": [
      "7490it [00:02, 3454.98it/s]\n"
     ]
    },
    {
     "name": "stdout",
     "output_type": "stream",
     "text": [
      "2680\n",
      "0\n",
      "8040 27\n",
      "0\n"
     ]
    },
    {
     "name": "stderr",
     "output_type": "stream",
     "text": [
      "170it [00:00, 1699.01it/s]"
     ]
    },
    {
     "name": "stdout",
     "output_type": "stream",
     "text": [
      "Parsed ../kickoff-detection-data/47ed3e3a-56d1-4eb1-b5d3-9e5f9658fda7.1.kickoff.rdb in 1.09 s.\n",
      "Contains keys: dict_keys(['right', 'left'])\n",
      "[right] start_ts: 1526316926243 | stop_ts: 1526317225163\n",
      "[left] start_ts: 1526316926287 | stop_ts: 1526317225167\n",
      "47ed3e3a-56d1-4eb1-b5d3-9e5f9658fda7.json\n"
     ]
    },
    {
     "name": "stderr",
     "output_type": "stream",
     "text": [
      "7473it [00:04, 1556.06it/s]\n"
     ]
    },
    {
     "name": "stdout",
     "output_type": "stream",
     "text": [
      "2680\n",
      "0\n",
      "8040 27\n",
      "0\n"
     ]
    },
    {
     "name": "stderr",
     "output_type": "stream",
     "text": [
      "623it [00:00, 3145.50it/s]"
     ]
    },
    {
     "name": "stdout",
     "output_type": "stream",
     "text": [
      "Parsed ../kickoff-detection-data/47ed3e3a-56d1-4eb1-b5d3-9e5f9658fda7.2.kickoff.rdb in 0.77 s.\n",
      "Contains keys: dict_keys(['right', 'left'])\n",
      "[right] start_ts: 1526320594243 | stop_ts: 1526320892163\n",
      "[left] start_ts: 1526320594327 | stop_ts: 1526320892167\n",
      "47ed3e3a-56d1-4eb1-b5d3-9e5f9658fda7.json\n"
     ]
    },
    {
     "name": "stderr",
     "output_type": "stream",
     "text": [
      "7447it [00:02, 2487.44it/s]\n"
     ]
    },
    {
     "name": "stdout",
     "output_type": "stream",
     "text": [
      "2680\n",
      "0\n",
      "8040 27\n",
      "0\n"
     ]
    },
    {
     "name": "stderr",
     "output_type": "stream",
     "text": [
      "106it [00:00, 1058.16it/s]"
     ]
    },
    {
     "name": "stdout",
     "output_type": "stream",
     "text": [
      "Parsed ../kickoff-detection-data/4903143c-68be-45f0-9746-e29547b7fa94.1.kickoff.rdb in 1.66 s.\n",
      "Contains keys: dict_keys(['right', 'left'])\n",
      "[right] start_ts: 1525528504685 | stop_ts: 1525528802525\n",
      "[left] start_ts: 1525528504705 | stop_ts: 1525528802545\n",
      "4903143c-68be-45f0-9746-e29547b7fa94.json\n"
     ]
    },
    {
     "name": "stderr",
     "output_type": "stream",
     "text": [
      "7447it [00:07, 978.86it/s] \n"
     ]
    },
    {
     "name": "stdout",
     "output_type": "stream",
     "text": [
      "2680\n",
      "0\n",
      "8040 27\n",
      "0\n"
     ]
    },
    {
     "name": "stderr",
     "output_type": "stream",
     "text": [
      "715it [00:00, 3548.65it/s]"
     ]
    },
    {
     "name": "stdout",
     "output_type": "stream",
     "text": [
      "Parsed ../kickoff-detection-data/4903143c-68be-45f0-9746-e29547b7fa94.2.kickoff.rdb in 0.77 s.\n",
      "Contains keys: dict_keys(['right', 'left'])\n",
      "[right] start_ts: 1525532144685 | stop_ts: 1525532443525\n",
      "[left] start_ts: 1525532144705 | stop_ts: 1525532443545\n",
      "4903143c-68be-45f0-9746-e29547b7fa94.json\n"
     ]
    },
    {
     "name": "stderr",
     "output_type": "stream",
     "text": [
      "7472it [00:03, 2415.81it/s]\n"
     ]
    },
    {
     "name": "stdout",
     "output_type": "stream",
     "text": [
      "2680\n",
      "0\n",
      "8040 27\n",
      "0\n"
     ]
    },
    {
     "name": "stderr",
     "output_type": "stream",
     "text": [
      "375it [00:00, 1905.77it/s]"
     ]
    },
    {
     "name": "stdout",
     "output_type": "stream",
     "text": [
      "Parsed ../kickoff-detection-data/4b5dc786-7219-46eb-bc5f-722a77011092.1.kickoff.rdb in 1.02 s.\n",
      "Contains keys: dict_keys(['right', 'left'])\n",
      "[right] start_ts: 1524848141057 | stop_ts: 1524848438937\n",
      "[left] start_ts: 1524848141035 | stop_ts: 1524848438915\n",
      "4b5dc786-7219-46eb-bc5f-722a77011092.json\n"
     ]
    },
    {
     "name": "stderr",
     "output_type": "stream",
     "text": [
      "7448it [00:04, 1721.17it/s]\n"
     ]
    },
    {
     "name": "stdout",
     "output_type": "stream",
     "text": [
      "2680\n",
      "0\n",
      "8040 27\n",
      "0\n"
     ]
    },
    {
     "name": "stderr",
     "output_type": "stream",
     "text": [
      "829it [00:00, 4129.26it/s]"
     ]
    },
    {
     "name": "stdout",
     "output_type": "stream",
     "text": [
      "Parsed ../kickoff-detection-data/4b5dc786-7219-46eb-bc5f-722a77011092.2.kickoff.rdb in 0.60 s.\n",
      "Contains keys: dict_keys(['right', 'left'])\n",
      "[right] start_ts: 1524852013097 | stop_ts: 1524852312937\n",
      "[left] start_ts: 1524852013035 | stop_ts: 1524852312915\n",
      "4b5dc786-7219-46eb-bc5f-722a77011092.json\n"
     ]
    },
    {
     "name": "stderr",
     "output_type": "stream",
     "text": [
      "7498it [00:02, 3056.25it/s]\n"
     ]
    },
    {
     "name": "stdout",
     "output_type": "stream",
     "text": [
      "2680\n",
      "0\n",
      "8040 27\n",
      "0\n"
     ]
    },
    {
     "name": "stderr",
     "output_type": "stream",
     "text": [
      "184it [00:00, 904.99it/s]"
     ]
    },
    {
     "name": "stdout",
     "output_type": "stream",
     "text": [
      "Parsed ../kickoff-detection-data/4b949eae-068b-4b0a-bc88-f5ef0a97b2ba.1.kickoff.rdb in 1.63 s.\n",
      "Contains keys: dict_keys(['right', 'left'])\n",
      "[right] start_ts: 1524318935116 | stop_ts: 1524319232636\n",
      "[left] start_ts: 1524318934512 | stop_ts: 1524319232312\n",
      "4b949eae-068b-4b0a-bc88-f5ef0a97b2ba.json\n"
     ]
    },
    {
     "name": "stderr",
     "output_type": "stream",
     "text": [
      "7440it [00:07, 987.78it/s] \n"
     ]
    },
    {
     "name": "stdout",
     "output_type": "stream",
     "text": [
      "2680\n",
      "0\n",
      "8040 27\n",
      "0\n"
     ]
    },
    {
     "name": "stderr",
     "output_type": "stream",
     "text": [
      "469it [00:00, 2260.77it/s]"
     ]
    },
    {
     "name": "stdout",
     "output_type": "stream",
     "text": [
      "Parsed ../kickoff-detection-data/4b949eae-068b-4b0a-bc88-f5ef0a97b2ba.2.kickoff.rdb in 0.99 s.\n",
      "Contains keys: dict_keys(['right', 'left'])\n",
      "[right] start_ts: 1524322643076 | stop_ts: 1524322942636\n",
      "[left] start_ts: 1524322642512 | stop_ts: 1524322942312\n",
      "4b949eae-068b-4b0a-bc88-f5ef0a97b2ba.json\n"
     ]
    },
    {
     "name": "stderr",
     "output_type": "stream",
     "text": [
      "7489it [00:03, 2224.07it/s]\n"
     ]
    },
    {
     "name": "stdout",
     "output_type": "stream",
     "text": [
      "2680\n",
      "0\n",
      "8040 27\n",
      "0\n"
     ]
    },
    {
     "name": "stderr",
     "output_type": "stream",
     "text": [
      "653it [00:00, 3306.16it/s]"
     ]
    },
    {
     "name": "stdout",
     "output_type": "stream",
     "text": [
      "Parsed ../kickoff-detection-data/4be6ef54-2541-42d0-a334-e513a535029c.1.kickoff.rdb in 2.03 s.\n",
      "Contains keys: dict_keys(['right', 'left'])\n",
      "[right] start_ts: 1523714121038 | stop_ts: 1523714720678\n",
      "[left] start_ts: 1523714121022 | stop_ts: 1523714720662\n",
      "4be6ef54-2541-42d0-a334-e513a535029c.json\n"
     ]
    },
    {
     "name": "stderr",
     "output_type": "stream",
     "text": [
      "14991it [00:07, 1955.41it/s]\n"
     ]
    },
    {
     "name": "stdout",
     "output_type": "stream",
     "text": [
      "2680\n",
      "17\n",
      "8040 73\n",
      "17\n",
      "21\n"
     ]
    },
    {
     "name": "stderr",
     "output_type": "stream",
     "text": [
      "468it [00:00, 2268.00it/s]"
     ]
    },
    {
     "name": "stdout",
     "output_type": "stream",
     "text": [
      "Parsed ../kickoff-detection-data/4be6ef54-2541-42d0-a334-e513a535029c.2.kickoff.rdb in 1.70 s.\n",
      "Contains keys: dict_keys(['right', 'left'])\n",
      "[right] start_ts: 1523717857078 | stop_ts: 1523718456678\n",
      "[left] start_ts: 1523717857062 | stop_ts: 1523718456662\n",
      "4be6ef54-2541-42d0-a334-e513a535029c.json\n"
     ]
    },
    {
     "name": "stderr",
     "output_type": "stream",
     "text": [
      "14991it [00:06, 2332.36it/s]\n"
     ]
    },
    {
     "name": "stdout",
     "output_type": "stream",
     "text": [
      "2680\n",
      "17\n",
      "8040 73\n",
      "17\n",
      "22\n"
     ]
    },
    {
     "name": "stderr",
     "output_type": "stream",
     "text": [
      "810it [00:00, 4215.46it/s]"
     ]
    },
    {
     "name": "stdout",
     "output_type": "stream",
     "text": [
      "Parsed ../kickoff-detection-data/536b68b9-507f-408a-9a91-f994667b1d16.1.kickoff.rdb in 0.99 s.\n",
      "Contains keys: dict_keys(['right', 'left'])\n",
      "[right] start_ts: 1526829914293 | stop_ts: 1526830213133\n",
      "[left] start_ts: 1526829914271 | stop_ts: 1526830213111\n",
      "536b68b9-507f-408a-9a91-f994667b1d16.json\n"
     ]
    },
    {
     "name": "stderr",
     "output_type": "stream",
     "text": [
      "7471it [00:03, 2398.70it/s]\n"
     ]
    },
    {
     "name": "stdout",
     "output_type": "stream",
     "text": [
      "2680\n",
      "0\n",
      "8040 27\n",
      "0\n"
     ]
    },
    {
     "name": "stderr",
     "output_type": "stream",
     "text": [
      "421it [00:00, 2036.99it/s]"
     ]
    },
    {
     "name": "stdout",
     "output_type": "stream",
     "text": [
      "Parsed ../kickoff-detection-data/536b68b9-507f-408a-9a91-f994667b1d16.2.kickoff.rdb in 0.87 s.\n",
      "Contains keys: dict_keys(['right', 'left'])\n",
      "[right] start_ts: 1526833546293 | stop_ts: 1526833843133\n",
      "[left] start_ts: 1526833546311 | stop_ts: 1526833843111\n",
      "536b68b9-507f-408a-9a91-f994667b1d16.json\n"
     ]
    },
    {
     "name": "stderr",
     "output_type": "stream",
     "text": [
      "7421it [00:02, 2494.68it/s]\n"
     ]
    },
    {
     "name": "stdout",
     "output_type": "stream",
     "text": [
      "2680\n",
      "0\n",
      "8040 27\n",
      "0\n"
     ]
    },
    {
     "name": "stderr",
     "output_type": "stream",
     "text": [
      "255it [00:00, 1257.08it/s]"
     ]
    },
    {
     "name": "stdout",
     "output_type": "stream",
     "text": [
      "Parsed ../kickoff-detection-data/57bf9b24-5c68-464f-9e74-20d0b2508bba.1.kickoff.rdb in 2.88 s.\n",
      "Contains keys: dict_keys(['right', 'left'])\n",
      "[right] start_ts: 1524070530793 | stop_ts: 1524071128313\n",
      "[left] start_ts: 1524070530135 | stop_ts: 1524071127975\n",
      "57bf9b24-5c68-464f-9e74-20d0b2508bba.json\n"
     ]
    },
    {
     "name": "stderr",
     "output_type": "stream",
     "text": [
      "14939it [00:08, 1688.80it/s]\n"
     ]
    },
    {
     "name": "stdout",
     "output_type": "stream",
     "text": [
      "2680\n",
      "17\n",
      "8040 71\n",
      "17\n",
      "23\n"
     ]
    },
    {
     "name": "stderr",
     "output_type": "stream",
     "text": [
      "216it [00:00, 2154.72it/s]"
     ]
    },
    {
     "name": "stdout",
     "output_type": "stream",
     "text": [
      "Parsed ../kickoff-detection-data/57bf9b24-5c68-464f-9e74-20d0b2508bba.2.kickoff.rdb in 2.18 s.\n",
      "Contains keys: dict_keys(['right', 'left'])\n",
      "[right] start_ts: 1524074286793 | stop_ts: 1524074883313\n",
      "[left] start_ts: 1524074286135 | stop_ts: 1524074882975\n",
      "57bf9b24-5c68-464f-9e74-20d0b2508bba.json\n"
     ]
    },
    {
     "name": "stderr",
     "output_type": "stream",
     "text": [
      "14914it [00:07, 2088.35it/s]\n"
     ]
    },
    {
     "name": "stdout",
     "output_type": "stream",
     "text": [
      "2680\n",
      "17\n",
      "8040 71\n",
      "17\n",
      "24\n"
     ]
    },
    {
     "name": "stderr",
     "output_type": "stream",
     "text": [
      "291it [00:00, 1431.83it/s]"
     ]
    },
    {
     "name": "stdout",
     "output_type": "stream",
     "text": [
      "Parsed ../kickoff-detection-data/58bc418b-cf05-415e-9dd1-6f4808535976.1.kickoff.rdb in 2.16 s.\n",
      "Contains keys: dict_keys(['right', 'left'])\n",
      "[right] start_ts: 1523292957288 | stop_ts: 1523293556968\n",
      "[left] start_ts: 1523292956846 | stop_ts: 1523293556726\n",
      "58bc418b-cf05-415e-9dd1-6f4808535976.json\n"
     ]
    },
    {
     "name": "stderr",
     "output_type": "stream",
     "text": [
      "14992it [00:07, 1973.78it/s]\n"
     ]
    },
    {
     "name": "stdout",
     "output_type": "stream",
     "text": [
      "2680\n",
      "16\n",
      "8040 72\n",
      "16\n",
      "25\n"
     ]
    },
    {
     "name": "stderr",
     "output_type": "stream",
     "text": [
      "418it [00:00, 4171.59it/s]"
     ]
    },
    {
     "name": "stdout",
     "output_type": "stream",
     "text": [
      "Parsed ../kickoff-detection-data/58bc418b-cf05-415e-9dd1-6f4808535976.2.kickoff.rdb in 1.58 s.\n",
      "Contains keys: dict_keys(['right', 'left'])\n",
      "[right] start_ts: 1523297009328 | stop_ts: 1523297605968\n",
      "[left] start_ts: 1523297008806 | stop_ts: 1523297605726\n",
      "58bc418b-cf05-415e-9dd1-6f4808535976.json\n"
     ]
    },
    {
     "name": "stderr",
     "output_type": "stream",
     "text": [
      "14917it [00:05, 2556.44it/s]\n"
     ]
    },
    {
     "name": "stdout",
     "output_type": "stream",
     "text": [
      "2680\n",
      "16\n",
      "8040 71\n",
      "16\n",
      "26\n"
     ]
    },
    {
     "name": "stderr",
     "output_type": "stream",
     "text": [
      "259it [00:00, 2583.11it/s]"
     ]
    },
    {
     "name": "stdout",
     "output_type": "stream",
     "text": [
      "Parsed ../kickoff-detection-data/5c74023d-a59b-49e5-9825-2f481dbebf39.1.kickoff.rdb in 0.88 s.\n",
      "Contains keys: dict_keys(['right', 'left'])\n",
      "[right] start_ts: 1524156904358 | stop_ts: 1524157201878\n",
      "[left] start_ts: 1524156904996 | stop_ts: 1524157202196\n",
      "5c74023d-a59b-49e5-9825-2f481dbebf39.json\n"
     ]
    },
    {
     "name": "stderr",
     "output_type": "stream",
     "text": [
      "7431it [00:03, 2227.40it/s]\n"
     ]
    },
    {
     "name": "stdout",
     "output_type": "stream",
     "text": [
      "2680\n",
      "0\n",
      "8040 27\n",
      "0\n"
     ]
    },
    {
     "name": "stderr",
     "output_type": "stream",
     "text": [
      "550it [00:00, 2733.61it/s]"
     ]
    },
    {
     "name": "stdout",
     "output_type": "stream",
     "text": [
      "Parsed ../kickoff-detection-data/5c74023d-a59b-49e5-9825-2f481dbebf39.2.kickoff.rdb in 0.78 s.\n",
      "Contains keys: dict_keys(['right', 'left'])\n",
      "[right] start_ts: 1524160664358 | stop_ts: 1524160960878\n",
      "[left] start_ts: 1524160665036 | stop_ts: 1524160961196\n",
      "5c74023d-a59b-49e5-9825-2f481dbebf39.json\n"
     ]
    },
    {
     "name": "stderr",
     "output_type": "stream",
     "text": [
      "7405it [00:02, 3055.50it/s]\n"
     ]
    },
    {
     "name": "stdout",
     "output_type": "stream",
     "text": [
      "2680\n",
      "0\n",
      "8040 27\n",
      "0\n"
     ]
    },
    {
     "name": "stderr",
     "output_type": "stream",
     "text": [
      "455it [00:00, 2284.24it/s]"
     ]
    },
    {
     "name": "stdout",
     "output_type": "stream",
     "text": [
      "Parsed ../kickoff-detection-data/5dcb4696-281c-4bff-9ec7-02322c1b4a67.1.kickoff.rdb in 2.82 s.\n",
      "Contains keys: dict_keys(['right', 'left'])\n",
      "[right] start_ts: 1525015503710 | stop_ts: 1525016102510\n",
      "[left] start_ts: 1525015503674 | stop_ts: 1525016102514\n",
      "5dcb4696-281c-4bff-9ec7-02322c1b4a67.json\n"
     ]
    },
    {
     "name": "stderr",
     "output_type": "stream",
     "text": [
      "14971it [00:07, 1934.81it/s]\n"
     ]
    },
    {
     "name": "stdout",
     "output_type": "stream",
     "text": [
      "2680\n",
      "17\n",
      "8040 73\n",
      "17\n",
      "27\n"
     ]
    },
    {
     "name": "stderr",
     "output_type": "stream",
     "text": [
      "544it [00:00, 5436.56it/s]"
     ]
    },
    {
     "name": "stdout",
     "output_type": "stream",
     "text": [
      "Parsed ../kickoff-detection-data/5dcb4696-281c-4bff-9ec7-02322c1b4a67.2.kickoff.rdb in 1.67 s.\n",
      "Contains keys: dict_keys(['right', 'left'])\n",
      "[right] start_ts: 1525019311670 | stop_ts: 1525019910510\n",
      "[left] start_ts: 1525019311714 | stop_ts: 1525019910514\n",
      "5dcb4696-281c-4bff-9ec7-02322c1b4a67.json\n"
     ]
    },
    {
     "name": "stderr",
     "output_type": "stream",
     "text": [
      "14970it [00:05, 2864.41it/s]\n"
     ]
    },
    {
     "name": "stdout",
     "output_type": "stream",
     "text": [
      "2680\n",
      "17\n",
      "8040 72\n",
      "17\n",
      "28\n"
     ]
    },
    {
     "name": "stderr",
     "output_type": "stream",
     "text": [
      "656it [00:00, 3405.99it/s]"
     ]
    },
    {
     "name": "stdout",
     "output_type": "stream",
     "text": [
      "Parsed ../kickoff-detection-data/66b6caf7-e5c0-45dd-874f-de8ac2e3c9ff.1.kickoff.rdb in 0.93 s.\n",
      "Contains keys: dict_keys(['right', 'left'])\n",
      "[right] start_ts: 1526921712730 | stop_ts: 1526922009650\n",
      "[left] start_ts: 1526921712782 | stop_ts: 1526922009662\n",
      "66b6caf7-e5c0-45dd-874f-de8ac2e3c9ff.json\n"
     ]
    },
    {
     "name": "stderr",
     "output_type": "stream",
     "text": [
      "7422it [00:02, 3057.36it/s]\n"
     ]
    },
    {
     "name": "stdout",
     "output_type": "stream",
     "text": [
      "2680\n",
      "0\n",
      "8040 27\n",
      "0\n"
     ]
    },
    {
     "name": "stderr",
     "output_type": "stream",
     "text": [
      "340it [00:00, 3393.79it/s]"
     ]
    },
    {
     "name": "stdout",
     "output_type": "stream",
     "text": [
      "Parsed ../kickoff-detection-data/66b6caf7-e5c0-45dd-874f-de8ac2e3c9ff.2.kickoff.rdb in 0.72 s.\n",
      "Contains keys: dict_keys(['right', 'left'])\n",
      "[right] start_ts: 1526925412770 | stop_ts: 1526925712650\n",
      "[left] start_ts: 1526925412782 | stop_ts: 1526925712662\n",
      "66b6caf7-e5c0-45dd-874f-de8ac2e3c9ff.json\n"
     ]
    },
    {
     "name": "stderr",
     "output_type": "stream",
     "text": [
      "7498it [00:02, 3291.83it/s]\n"
     ]
    },
    {
     "name": "stdout",
     "output_type": "stream",
     "text": [
      "2680\n",
      "0\n",
      "8040 27\n",
      "0\n"
     ]
    },
    {
     "name": "stderr",
     "output_type": "stream",
     "text": [
      "266it [00:00, 1321.47it/s]"
     ]
    },
    {
     "name": "stdout",
     "output_type": "stream",
     "text": [
      "Parsed ../kickoff-detection-data/6e26f66b-a921-4919-9d7d-1bd59f935e78.1.kickoff.rdb in 2.26 s.\n",
      "Contains keys: dict_keys(['right', 'left'])\n",
      "[right] start_ts: 1523638586979 | stop_ts: 1523639185819\n",
      "[left] start_ts: 1523638587613 | stop_ts: 1523639186133\n",
      "6e26f66b-a921-4919-9d7d-1bd59f935e78.json\n"
     ]
    },
    {
     "name": "stderr",
     "output_type": "stream",
     "text": [
      "14963it [00:07, 1925.84it/s]\n"
     ]
    },
    {
     "name": "stdout",
     "output_type": "stream",
     "text": [
      "2680\n",
      "16\n",
      "8040 72\n",
      "16\n",
      "29\n"
     ]
    },
    {
     "name": "stderr",
     "output_type": "stream",
     "text": [
      "353it [00:00, 3526.15it/s]"
     ]
    },
    {
     "name": "stdout",
     "output_type": "stream",
     "text": [
      "Parsed ../kickoff-detection-data/6e26f66b-a921-4919-9d7d-1bd59f935e78.2.kickoff.rdb in 1.78 s.\n",
      "Contains keys: dict_keys(['right', 'left'])\n",
      "[right] start_ts: 1523642362979 | stop_ts: 1523642961819\n",
      "[left] start_ts: 1523642363613 | stop_ts: 1523642962133\n",
      "6e26f66b-a921-4919-9d7d-1bd59f935e78.json\n"
     ]
    },
    {
     "name": "stderr",
     "output_type": "stream",
     "text": [
      "14964it [00:06, 2366.44it/s]\n"
     ]
    },
    {
     "name": "stdout",
     "output_type": "stream",
     "text": [
      "2680\n",
      "16\n",
      "8040 72\n",
      "16\n",
      "30\n"
     ]
    },
    {
     "name": "stderr",
     "output_type": "stream",
     "text": [
      "157it [00:00, 1565.12it/s]"
     ]
    },
    {
     "name": "stdout",
     "output_type": "stream",
     "text": [
      "Parsed ../kickoff-detection-data/70593a9a-5258-4f89-a402-b555c8ee3514.1.kickoff.rdb in 1.69 s.\n",
      "Contains keys: dict_keys(['right', 'left'])\n",
      "[right] start_ts: 1525521349195 | stop_ts: 1525521646035\n",
      "[left] start_ts: 1525521349217 | stop_ts: 1525521646057\n",
      "70593a9a-5258-4f89-a402-b555c8ee3514.json\n"
     ]
    },
    {
     "name": "stderr",
     "output_type": "stream",
     "text": [
      "7422it [00:04, 1628.67it/s]\n"
     ]
    },
    {
     "name": "stdout",
     "output_type": "stream",
     "text": [
      "2680\n",
      "0\n",
      "8040 27\n",
      "0\n"
     ]
    },
    {
     "name": "stderr",
     "output_type": "stream",
     "text": [
      "1112it [00:00, 5651.64it/s]"
     ]
    },
    {
     "name": "stdout",
     "output_type": "stream",
     "text": [
      "Parsed ../kickoff-detection-data/70593a9a-5258-4f89-a402-b555c8ee3514.2.kickoff.rdb in 0.75 s.\n",
      "Contains keys: dict_keys(['right', 'left'])\n",
      "[right] start_ts: 1525525129235 | stop_ts: 1525525429035\n",
      "[left] start_ts: 1525525129257 | stop_ts: 1525525429057\n",
      "70593a9a-5258-4f89-a402-b555c8ee3514.json\n"
     ]
    },
    {
     "name": "stderr",
     "output_type": "stream",
     "text": [
      "7496it [00:02, 3449.70it/s]\n"
     ]
    },
    {
     "name": "stdout",
     "output_type": "stream",
     "text": [
      "2680\n",
      "0\n",
      "8040 27\n",
      "0\n"
     ]
    },
    {
     "name": "stderr",
     "output_type": "stream",
     "text": [
      "541it [00:00, 2684.27it/s]"
     ]
    },
    {
     "name": "stdout",
     "output_type": "stream",
     "text": [
      "Parsed ../kickoff-detection-data/723fa378-2b05-42e0-9631-a05bb1ed5e70.1.kickoff.rdb in 1.59 s.\n",
      "Contains keys: dict_keys(['right', 'left'])\n",
      "[right] start_ts: 1524502496828 | stop_ts: 1524502796348\n",
      "[left] start_ts: 1524502497320 | stop_ts: 1524502796600\n",
      "723fa378-2b05-42e0-9631-a05bb1ed5e70.json\n"
     ]
    },
    {
     "name": "stderr",
     "output_type": "stream",
     "text": [
      "7482it [00:04, 1709.36it/s]\n"
     ]
    },
    {
     "name": "stdout",
     "output_type": "stream",
     "text": [
      "2680\n",
      "0\n",
      "8040 27\n",
      "0\n"
     ]
    },
    {
     "name": "stderr",
     "output_type": "stream",
     "text": [
      "568it [00:00, 2845.89it/s]"
     ]
    },
    {
     "name": "stdout",
     "output_type": "stream",
     "text": [
      "Parsed ../kickoff-detection-data/723fa378-2b05-42e0-9631-a05bb1ed5e70.2.kickoff.rdb in 0.85 s.\n",
      "Contains keys: dict_keys(['right', 'left'])\n",
      "[right] start_ts: 1524506176788 | stop_ts: 1524506476348\n",
      "[left] start_ts: 1524506177320 | stop_ts: 1524506476600\n",
      "723fa378-2b05-42e0-9631-a05bb1ed5e70.json\n"
     ]
    },
    {
     "name": "stderr",
     "output_type": "stream",
     "text": [
      "7482it [00:02, 2696.80it/s]\n"
     ]
    },
    {
     "name": "stdout",
     "output_type": "stream",
     "text": [
      "2680\n",
      "0\n",
      "8040 27\n",
      "0\n"
     ]
    },
    {
     "name": "stderr",
     "output_type": "stream",
     "text": [
      "549it [00:00, 2441.50it/s]"
     ]
    },
    {
     "name": "stdout",
     "output_type": "stream",
     "text": [
      "Parsed ../kickoff-detection-data/75366863-8063-4ece-8aca-1dcf75d22448.1.kickoff.rdb in 0.35 s.\n",
      "Contains keys: dict_keys(['right', 'left'])\n",
      "[right] start_ts: 1527181308926 | stop_ts: 1527181605806\n",
      "[left] start_ts: 1527181308818 | stop_ts: 1527181605738\n",
      "75366863-8063-4ece-8aca-1dcf75d22448.json\n"
     ]
    },
    {
     "name": "stderr",
     "output_type": "stream",
     "text": [
      "7423it [00:00, 8976.83it/s]\n"
     ]
    },
    {
     "name": "stdout",
     "output_type": "stream",
     "text": [
      "2680\n",
      "0\n",
      "8040 27\n",
      "0\n"
     ]
    },
    {
     "name": "stderr",
     "output_type": "stream",
     "text": [
      "447it [00:00, 2191.27it/s]"
     ]
    },
    {
     "name": "stdout",
     "output_type": "stream",
     "text": [
      "Parsed ../kickoff-detection-data/75366863-8063-4ece-8aca-1dcf75d22448.2.kickoff.rdb in 0.81 s.\n",
      "Contains keys: dict_keys(['right', 'left'])\n",
      "[right] start_ts: 1527185276926 | stop_ts: 1527185576806\n",
      "[left] start_ts: 1527185280818 | stop_ts: 1527185576738\n",
      "75366863-8063-4ece-8aca-1dcf75d22448.json\n"
     ]
    },
    {
     "name": "stderr",
     "output_type": "stream",
     "text": [
      "7399it [00:03, 2315.32it/s]\n"
     ]
    },
    {
     "name": "stdout",
     "output_type": "stream",
     "text": [
      "2680\n",
      "0\n",
      "8040 27\n",
      "0\n"
     ]
    },
    {
     "name": "stderr",
     "output_type": "stream",
     "text": [
      "206it [00:00, 1016.11it/s]"
     ]
    },
    {
     "name": "stdout",
     "output_type": "stream",
     "text": [
      "Parsed ../kickoff-detection-data/76d4b783-ae63-4c60-815f-6a81beef6451.1.kickoff.rdb in 2.79 s.\n",
      "Contains keys: dict_keys(['right', 'left'])\n",
      "[right] start_ts: 1523109442628 | stop_ts: 1523110041148\n",
      "[left] start_ts: 1523109442596 | stop_ts: 1523110041116\n",
      "76d4b783-ae63-4c60-815f-6a81beef6451.json\n"
     ]
    },
    {
     "name": "stderr",
     "output_type": "stream",
     "text": [
      "14963it [00:08, 1719.32it/s]\n"
     ]
    },
    {
     "name": "stdout",
     "output_type": "stream",
     "text": [
      "2680\n",
      "17\n",
      "8040 73\n",
      "17\n",
      "31\n"
     ]
    },
    {
     "name": "stderr",
     "output_type": "stream",
     "text": [
      "227it [00:00, 2262.43it/s]"
     ]
    },
    {
     "name": "stdout",
     "output_type": "stream",
     "text": [
      "Parsed ../kickoff-detection-data/76d4b783-ae63-4c60-815f-6a81beef6451.2.kickoff.rdb in 2.01 s.\n",
      "Contains keys: dict_keys(['right', 'left'])\n",
      "[right] start_ts: 1523113078628 | stop_ts: 1523113675148\n",
      "[left] start_ts: 1523113078596 | stop_ts: 1523113675116\n",
      "76d4b783-ae63-4c60-815f-6a81beef6451.json\n"
     ]
    },
    {
     "name": "stderr",
     "output_type": "stream",
     "text": [
      "14913it [00:07, 2098.19it/s]\n"
     ]
    },
    {
     "name": "stdout",
     "output_type": "stream",
     "text": [
      "2680\n",
      "16\n",
      "8040 71\n",
      "16\n",
      "32\n"
     ]
    },
    {
     "name": "stderr",
     "output_type": "stream",
     "text": [
      "576it [00:00, 2976.06it/s]"
     ]
    },
    {
     "name": "stdout",
     "output_type": "stream",
     "text": [
      "Parsed ../kickoff-detection-data/84e8b33c-d912-495e-9e21-84bdd18e0e04.1.kickoff.rdb in 2.24 s.\n",
      "Contains keys: dict_keys(['right', 'left'])\n",
      "[right] start_ts: 1523638502169 | stop_ts: 1523639099769\n",
      "[left] start_ts: 1523638501659 | stop_ts: 1523639099539\n",
      "84e8b33c-d912-495e-9e21-84bdd18e0e04.json\n"
     ]
    },
    {
     "name": "stderr",
     "output_type": "stream",
     "text": [
      "14940it [00:06, 2153.67it/s]\n"
     ]
    },
    {
     "name": "stdout",
     "output_type": "stream",
     "text": [
      "2680\n",
      "17\n",
      "8040 71\n",
      "17\n",
      "33\n"
     ]
    },
    {
     "name": "stderr",
     "output_type": "stream",
     "text": [
      "992it [00:00, 4860.12it/s]"
     ]
    },
    {
     "name": "stdout",
     "output_type": "stream",
     "text": [
      "Parsed ../kickoff-detection-data/84e8b33c-d912-495e-9e21-84bdd18e0e04.2.kickoff.rdb in 1.43 s.\n",
      "Contains keys: dict_keys(['right', 'left'])\n",
      "[right] start_ts: 1523642142209 | stop_ts: 1523642740769\n",
      "[left] start_ts: 1523642141699 | stop_ts: 1523642740539\n",
      "84e8b33c-d912-495e-9e21-84bdd18e0e04.json\n"
     ]
    },
    {
     "name": "stderr",
     "output_type": "stream",
     "text": [
      "14965it [00:05, 2916.21it/s]\n"
     ]
    },
    {
     "name": "stdout",
     "output_type": "stream",
     "text": [
      "2680\n",
      "16\n",
      "8040 72\n",
      "16\n",
      "34\n"
     ]
    },
    {
     "name": "stderr",
     "output_type": "stream",
     "text": [
      "404it [00:00, 2011.54it/s]"
     ]
    },
    {
     "name": "stdout",
     "output_type": "stream",
     "text": [
      "Parsed ../kickoff-detection-data/8d6fc150-9f6b-4e5c-8a99-d2ca96b5ffa5.1.kickoff.rdb in 1.12 s.\n",
      "Contains keys: dict_keys(['right', 'left'])\n",
      "[right] start_ts: 1524156948802 | stop_ts: 1524157246362\n",
      "[left] start_ts: 1524156948162 | stop_ts: 1524157246082\n",
      "8d6fc150-9f6b-4e5c-8a99-d2ca96b5ffa5.json\n"
     ]
    },
    {
     "name": "stderr",
     "output_type": "stream",
     "text": [
      "7440it [00:05, 1485.81it/s]\n"
     ]
    },
    {
     "name": "stdout",
     "output_type": "stream",
     "text": [
      "2680\n",
      "0\n",
      "8040 27\n",
      "0\n"
     ]
    },
    {
     "name": "stderr",
     "output_type": "stream",
     "text": [
      "1965it [00:00, 9869.69it/s]"
     ]
    },
    {
     "name": "stdout",
     "output_type": "stream",
     "text": [
      "Parsed ../kickoff-detection-data/8d6fc150-9f6b-4e5c-8a99-d2ca96b5ffa5.2.kickoff.rdb in 0.60 s.\n",
      "Contains keys: dict_keys(['right', 'left'])\n",
      "[right] start_ts: 1524160596802 | stop_ts: 1524160895362\n",
      "[left] start_ts: 1524160596162 | stop_ts: 1524160895082\n",
      "8d6fc150-9f6b-4e5c-8a99-d2ca96b5ffa5.json\n"
     ]
    },
    {
     "name": "stderr",
     "output_type": "stream",
     "text": [
      "7465it [00:02, 3111.52it/s]\n"
     ]
    },
    {
     "name": "stdout",
     "output_type": "stream",
     "text": [
      "2680\n",
      "0\n",
      "8040 27\n",
      "0\n"
     ]
    },
    {
     "name": "stderr",
     "output_type": "stream",
     "text": [
      "533it [00:00, 2668.94it/s]"
     ]
    },
    {
     "name": "stdout",
     "output_type": "stream",
     "text": [
      "Parsed ../kickoff-detection-data/916abbb2-57b9-4700-8cc5-3fc01de1a6f8.1.kickoff.rdb in 0.84 s.\n",
      "Contains keys: dict_keys(['right', 'left'])\n",
      "[right] start_ts: 1526745302339 | stop_ts: 1526745601139\n",
      "[left] start_ts: 1526745302179 | stop_ts: 1526745601059\n",
      "916abbb2-57b9-4700-8cc5-3fc01de1a6f8.json\n"
     ]
    },
    {
     "name": "stderr",
     "output_type": "stream",
     "text": [
      "7467it [00:03, 2163.44it/s]\n"
     ]
    },
    {
     "name": "stdout",
     "output_type": "stream",
     "text": [
      "2680\n",
      "0\n",
      "8040 27\n",
      "0\n"
     ]
    },
    {
     "name": "stderr",
     "output_type": "stream",
     "text": [
      "269it [00:00, 2688.82it/s]"
     ]
    },
    {
     "name": "stdout",
     "output_type": "stream",
     "text": [
      "Parsed ../kickoff-detection-data/916abbb2-57b9-4700-8cc5-3fc01de1a6f8.2.kickoff.rdb in 0.66 s.\n",
      "Contains keys: dict_keys(['right', 'left'])\n",
      "[right] start_ts: 1526749078339 | stop_ts: 1526749375139\n",
      "[left] start_ts: 1526749078219 | stop_ts: 1526749375059\n",
      "916abbb2-57b9-4700-8cc5-3fc01de1a6f8.json\n"
     ]
    },
    {
     "name": "stderr",
     "output_type": "stream",
     "text": [
      "7420it [00:02, 3036.34it/s]\n"
     ]
    },
    {
     "name": "stdout",
     "output_type": "stream",
     "text": [
      "2680\n",
      "0\n",
      "8040 27\n",
      "0\n"
     ]
    },
    {
     "name": "stderr",
     "output_type": "stream",
     "text": [
      "904it [00:00, 4601.59it/s]"
     ]
    },
    {
     "name": "stdout",
     "output_type": "stream",
     "text": [
      "Parsed ../kickoff-detection-data/98894ec5-61dc-4ab5-8829-1601e0d65775.1.kickoff.rdb in 0.70 s.\n",
      "Contains keys: dict_keys(['right', 'left'])\n",
      "[right] start_ts: 1527425703621 | stop_ts: 1527426002501\n",
      "[left] start_ts: 1527425703741 | stop_ts: 1527426002541\n",
      "98894ec5-61dc-4ab5-8829-1601e0d65775.json\n"
     ]
    },
    {
     "name": "stderr",
     "output_type": "stream",
     "text": [
      "7472it [00:02, 2539.16it/s]\n"
     ]
    },
    {
     "name": "stdout",
     "output_type": "stream",
     "text": [
      "2680\n",
      "0\n",
      "8040 27\n",
      "0\n"
     ]
    },
    {
     "name": "stderr",
     "output_type": "stream",
     "text": [
      "449it [00:00, 4487.71it/s]"
     ]
    },
    {
     "name": "stdout",
     "output_type": "stream",
     "text": [
      "Parsed ../kickoff-detection-data/98894ec5-61dc-4ab5-8829-1601e0d65775.2.kickoff.rdb in 0.59 s.\n",
      "Contains keys: dict_keys(['right', 'left'])\n",
      "[right] start_ts: 1527429395621 | stop_ts: 1527429695501\n",
      "[left] start_ts: 1527429395741 | stop_ts: 1527429695541\n",
      "98894ec5-61dc-4ab5-8829-1601e0d65775.json\n"
     ]
    },
    {
     "name": "stderr",
     "output_type": "stream",
     "text": [
      "7497it [00:02, 3439.79it/s]\n"
     ]
    },
    {
     "name": "stdout",
     "output_type": "stream",
     "text": [
      "2680\n",
      "0\n",
      "8040 27\n",
      "0\n"
     ]
    },
    {
     "name": "stderr",
     "output_type": "stream",
     "text": [
      "558it [00:00, 2775.84it/s]"
     ]
    },
    {
     "name": "stdout",
     "output_type": "stream",
     "text": [
      "Parsed ../kickoff-detection-data/9ab7ccfb-75cb-4756-9eb5-fe8c29de8fcc.1.kickoff.rdb in 0.70 s.\n",
      "Contains keys: dict_keys(['right', 'left'])\n",
      "[right] start_ts: 1525620373530 | stop_ts: 1525620670290\n",
      "[left] start_ts: 1525620373398 | stop_ts: 1525620670238\n",
      "9ab7ccfb-75cb-4756-9eb5-fe8c29de8fcc.json\n"
     ]
    },
    {
     "name": "stderr",
     "output_type": "stream",
     "text": [
      "7421it [00:02, 3133.12it/s]\n"
     ]
    },
    {
     "name": "stdout",
     "output_type": "stream",
     "text": [
      "2680\n",
      "0\n",
      "8040 27\n",
      "0\n"
     ]
    },
    {
     "name": "stderr",
     "output_type": "stream",
     "text": [
      "345it [00:00, 3439.65it/s]"
     ]
    },
    {
     "name": "stdout",
     "output_type": "stream",
     "text": [
      "Parsed ../kickoff-detection-data/9ab7ccfb-75cb-4756-9eb5-fe8c29de8fcc.2.kickoff.rdb in 0.73 s.\n",
      "Contains keys: dict_keys(['right', 'left'])\n",
      "[right] start_ts: 1525624025530 | stop_ts: 1525624325290\n",
      "[left] start_ts: 1525624025358 | stop_ts: 1525624325238\n",
      "9ab7ccfb-75cb-4756-9eb5-fe8c29de8fcc.json\n"
     ]
    },
    {
     "name": "stderr",
     "output_type": "stream",
     "text": [
      "7495it [00:02, 2940.63it/s]\n"
     ]
    },
    {
     "name": "stdout",
     "output_type": "stream",
     "text": [
      "2680\n",
      "0\n",
      "8040 27\n",
      "0\n"
     ]
    },
    {
     "name": "stderr",
     "output_type": "stream",
     "text": [
      "350it [00:00, 1820.54it/s]"
     ]
    },
    {
     "name": "stdout",
     "output_type": "stream",
     "text": [
      "Parsed ../kickoff-detection-data/9acafc14-55f4-499e-90d9-4db2f121801b.1.kickoff.rdb in 1.41 s.\n",
      "Contains keys: dict_keys(['right', 'left'])\n",
      "[right] start_ts: 1526226036455 | stop_ts: 1526226334335\n",
      "[left] start_ts: 1526226036499 | stop_ts: 1526226334379\n",
      "9acafc14-55f4-499e-90d9-4db2f121801b.json\n"
     ]
    },
    {
     "name": "stderr",
     "output_type": "stream",
     "text": [
      "7448it [00:04, 1698.61it/s]\n"
     ]
    },
    {
     "name": "stdout",
     "output_type": "stream",
     "text": [
      "2680\n",
      "0\n",
      "8040 27\n",
      "0\n"
     ]
    },
    {
     "name": "stderr",
     "output_type": "stream",
     "text": [
      "748it [00:00, 3868.65it/s]"
     ]
    },
    {
     "name": "stdout",
     "output_type": "stream",
     "text": [
      "Parsed ../kickoff-detection-data/9acafc14-55f4-499e-90d9-4db2f121801b.2.kickoff.rdb in 0.80 s.\n",
      "Contains keys: dict_keys(['right', 'left'])\n",
      "[right] start_ts: 1526229880495 | stop_ts: 1526230177335\n",
      "[left] start_ts: 1526229880539 | stop_ts: 1526230177379\n",
      "9acafc14-55f4-499e-90d9-4db2f121801b.json\n"
     ]
    },
    {
     "name": "stderr",
     "output_type": "stream",
     "text": [
      "7422it [00:02, 2735.68it/s]\n"
     ]
    },
    {
     "name": "stdout",
     "output_type": "stream",
     "text": [
      "2680\n",
      "0\n",
      "8040 27\n",
      "0\n"
     ]
    },
    {
     "name": "stderr",
     "output_type": "stream",
     "text": [
      "361it [00:00, 1854.33it/s]"
     ]
    },
    {
     "name": "stdout",
     "output_type": "stream",
     "text": [
      "Parsed ../kickoff-detection-data/9d1b40c0-efb0-4eb5-9ff4-bd13a55c0820.1.kickoff.rdb in 1.09 s.\n",
      "Contains keys: dict_keys(['right', 'left'])\n",
      "[right] start_ts: 1525712100409 | stop_ts: 1525712397249\n",
      "[left] start_ts: 1525712100459 | stop_ts: 1525712397259\n",
      "9d1b40c0-efb0-4eb5-9ff4-bd13a55c0820.json\n"
     ]
    },
    {
     "name": "stderr",
     "output_type": "stream",
     "text": [
      "7421it [00:03, 2319.13it/s]\n"
     ]
    },
    {
     "name": "stdout",
     "output_type": "stream",
     "text": [
      "2680\n",
      "0\n",
      "8040 27\n",
      "0\n"
     ]
    },
    {
     "name": "stderr",
     "output_type": "stream",
     "text": [
      "366it [00:00, 1855.67it/s]"
     ]
    },
    {
     "name": "stdout",
     "output_type": "stream",
     "text": [
      "Parsed ../kickoff-detection-data/9d1b40c0-efb0-4eb5-9ff4-bd13a55c0820.2.kickoff.rdb in 0.95 s.\n",
      "Contains keys: dict_keys(['right', 'left'])\n",
      "[right] start_ts: 1525715936409 | stop_ts: 1525716234249\n",
      "[left] start_ts: 1525715936459 | stop_ts: 1525716234259\n",
      "9d1b40c0-efb0-4eb5-9ff4-bd13a55c0820.json\n"
     ]
    },
    {
     "name": "stderr",
     "output_type": "stream",
     "text": [
      "7446it [00:03, 2138.48it/s]\n"
     ]
    },
    {
     "name": "stdout",
     "output_type": "stream",
     "text": [
      "2680\n",
      "0\n",
      "8040 27\n",
      "0\n"
     ]
    },
    {
     "name": "stderr",
     "output_type": "stream",
     "text": [
      "613it [00:00, 2977.15it/s]"
     ]
    },
    {
     "name": "stdout",
     "output_type": "stream",
     "text": [
      "Parsed ../kickoff-detection-data/9e627901-09e2-4c84-bf77-6f0ec289fa5f.1.kickoff.rdb in 1.96 s.\n",
      "Contains keys: dict_keys(['right', 'left'])\n",
      "[right] start_ts: 1522682845973 | stop_ts: 1522683445853\n",
      "[left] start_ts: 1522682846069 | stop_ts: 1522683445869\n",
      "9e627901-09e2-4c84-bf77-6f0ec289fa5f.json\n"
     ]
    },
    {
     "name": "stderr",
     "output_type": "stream",
     "text": [
      "14997it [00:05, 2741.00it/s]\n"
     ]
    },
    {
     "name": "stdout",
     "output_type": "stream",
     "text": [
      "2680\n",
      "17\n",
      "8040 73\n",
      "17\n",
      "35\n"
     ]
    },
    {
     "name": "stderr",
     "output_type": "stream",
     "text": [
      "265it [00:00, 2647.64it/s]"
     ]
    },
    {
     "name": "stdout",
     "output_type": "stream",
     "text": [
      "Parsed ../kickoff-detection-data/9e627901-09e2-4c84-bf77-6f0ec289fa5f.2.kickoff.rdb in 1.82 s.\n",
      "Contains keys: dict_keys(['right', 'left'])\n",
      "[right] start_ts: 1522686513973 | stop_ts: 1522687111853\n",
      "[left] start_ts: 1522686514029 | stop_ts: 1522687111869\n",
      "9e627901-09e2-4c84-bf77-6f0ec289fa5f.json\n"
     ]
    },
    {
     "name": "stderr",
     "output_type": "stream",
     "text": [
      "14946it [00:06, 2455.32it/s]\n"
     ]
    },
    {
     "name": "stdout",
     "output_type": "stream",
     "text": [
      "2680\n",
      "16\n",
      "8040 71\n",
      "16\n",
      "36\n"
     ]
    },
    {
     "name": "stderr",
     "output_type": "stream",
     "text": [
      "238it [00:00, 1194.46it/s]"
     ]
    },
    {
     "name": "stdout",
     "output_type": "stream",
     "text": [
      "Parsed ../kickoff-detection-data/a01d4b8a-cffb-4778-99c6-d0a53016e129.1.kickoff.rdb in 1.76 s.\n",
      "Contains keys: dict_keys(['right', 'left'])\n",
      "[right] start_ts: 1526489830925 | stop_ts: 1526490129805\n",
      "[left] start_ts: 1526489830965 | stop_ts: 1526490129805\n",
      "a01d4b8a-cffb-4778-99c6-d0a53016e129.json\n"
     ]
    },
    {
     "name": "stderr",
     "output_type": "stream",
     "text": [
      "7472it [00:04, 1513.32it/s]\n"
     ]
    },
    {
     "name": "stdout",
     "output_type": "stream",
     "text": [
      "2680\n",
      "0\n",
      "8040 27\n",
      "0\n"
     ]
    },
    {
     "name": "stderr",
     "output_type": "stream",
     "text": [
      "703it [00:00, 3489.97it/s]"
     ]
    },
    {
     "name": "stdout",
     "output_type": "stream",
     "text": [
      "Parsed ../kickoff-detection-data/a01d4b8a-cffb-4778-99c6-d0a53016e129.2.kickoff.rdb in 0.78 s.\n",
      "Contains keys: dict_keys(['right', 'left'])\n",
      "[right] start_ts: 1526493574965 | stop_ts: 1526493871805\n",
      "[left] start_ts: 1526493574965 | stop_ts: 1526493871805\n",
      "a01d4b8a-cffb-4778-99c6-d0a53016e129.json\n"
     ]
    },
    {
     "name": "stderr",
     "output_type": "stream",
     "text": [
      "7422it [00:02, 2761.84it/s]\n"
     ]
    },
    {
     "name": "stdout",
     "output_type": "stream",
     "text": [
      "2680\n",
      "0\n",
      "8040 27\n",
      "0\n"
     ]
    },
    {
     "name": "stderr",
     "output_type": "stream",
     "text": [
      "276it [00:00, 1376.73it/s]"
     ]
    },
    {
     "name": "stdout",
     "output_type": "stream",
     "text": [
      "Parsed ../kickoff-detection-data/a185c6c8-7383-4d19-927f-dc8f70726c34.1.kickoff.rdb in 3.44 s.\n",
      "Contains keys: dict_keys(['right', 'left'])\n",
      "[right] start_ts: 1523897795697 | stop_ts: 1523898395297\n",
      "[left] start_ts: 1523897795243 | stop_ts: 1523898395043\n",
      "a185c6c8-7383-4d19-927f-dc8f70726c34.json\n"
     ]
    },
    {
     "name": "stderr",
     "output_type": "stream",
     "text": [
      "14991it [00:10, 1452.87it/s]\n"
     ]
    },
    {
     "name": "stdout",
     "output_type": "stream",
     "text": [
      "2680\n",
      "16\n",
      "8040 72\n",
      "16\n",
      "37\n"
     ]
    },
    {
     "name": "stderr",
     "output_type": "stream",
     "text": [
      "702it [00:00, 3383.39it/s]"
     ]
    },
    {
     "name": "stdout",
     "output_type": "stream",
     "text": [
      "Parsed ../kickoff-detection-data/a185c6c8-7383-4d19-927f-dc8f70726c34.2.kickoff.rdb in 1.64 s.\n",
      "Contains keys: dict_keys(['right', 'left'])\n",
      "[right] start_ts: 1523901471657 | stop_ts: 1523902070297\n",
      "[left] start_ts: 1523901471243 | stop_ts: 1523902070043\n",
      "a185c6c8-7383-4d19-927f-dc8f70726c34.json\n"
     ]
    },
    {
     "name": "stderr",
     "output_type": "stream",
     "text": [
      "14967it [00:05, 2616.53it/s]\n"
     ]
    },
    {
     "name": "stdout",
     "output_type": "stream",
     "text": [
      "2680\n",
      "16\n",
      "8040 72\n",
      "16\n",
      "38\n"
     ]
    },
    {
     "name": "stderr",
     "output_type": "stream",
     "text": [
      "289it [00:00, 1394.91it/s]"
     ]
    },
    {
     "name": "stdout",
     "output_type": "stream",
     "text": [
      "Parsed ../kickoff-detection-data/a5763b80-c4a7-4b45-9c78-4f1c8f72bf60.1.kickoff.rdb in 1.37 s.\n",
      "Contains keys: dict_keys(['right', 'left'])\n",
      "[right] start_ts: 1525366542109 | stop_ts: 1525366840949\n",
      "[left] start_ts: 1525366542119 | stop_ts: 1525366840959\n",
      "a5763b80-c4a7-4b45-9c78-4f1c8f72bf60.json\n"
     ]
    },
    {
     "name": "stderr",
     "output_type": "stream",
     "text": [
      "7471it [00:04, 1813.67it/s]\n"
     ]
    },
    {
     "name": "stdout",
     "output_type": "stream",
     "text": [
      "2680\n",
      "0\n",
      "8040 27\n",
      "0\n"
     ]
    },
    {
     "name": "stderr",
     "output_type": "stream",
     "text": [
      "483it [00:00, 2426.83it/s]"
     ]
    },
    {
     "name": "stdout",
     "output_type": "stream",
     "text": [
      "Parsed ../kickoff-detection-data/a5763b80-c4a7-4b45-9c78-4f1c8f72bf60.2.kickoff.rdb in 0.89 s.\n",
      "Contains keys: dict_keys(['right', 'left'])\n",
      "[right] start_ts: 1525370290109 | stop_ts: 1525370587949\n",
      "[left] start_ts: 1525370290159 | stop_ts: 1525370587959\n",
      "a5763b80-c4a7-4b45-9c78-4f1c8f72bf60.json\n"
     ]
    },
    {
     "name": "stderr",
     "output_type": "stream",
     "text": [
      "7446it [00:03, 2262.43it/s]\n"
     ]
    },
    {
     "name": "stdout",
     "output_type": "stream",
     "text": [
      "2680\n",
      "0\n",
      "8040 27\n",
      "0\n"
     ]
    },
    {
     "name": "stderr",
     "output_type": "stream",
     "text": [
      "104it [00:00, 1033.68it/s]"
     ]
    },
    {
     "name": "stdout",
     "output_type": "stream",
     "text": [
      "Parsed ../kickoff-detection-data/a5857e03-10b8-454a-89fb-c201985b04cb.1.kickoff.rdb in 1.63 s.\n",
      "Contains keys: dict_keys(['right', 'left'])\n",
      "[right] start_ts: 1523379375326 | stop_ts: 1523379973846\n",
      "[left] start_ts: 1523379375938 | stop_ts: 1523379974138\n",
      "a5857e03-10b8-454a-89fb-c201985b04cb.json\n"
     ]
    },
    {
     "name": "stderr",
     "output_type": "stream",
     "text": [
      "14955it [00:06, 2404.62it/s]\n"
     ]
    },
    {
     "name": "stdout",
     "output_type": "stream",
     "text": [
      "2680\n",
      "17\n",
      "8040 72\n",
      "17\n",
      "39\n"
     ]
    },
    {
     "name": "stderr",
     "output_type": "stream",
     "text": [
      "428it [00:00, 2091.24it/s]"
     ]
    },
    {
     "name": "stdout",
     "output_type": "stream",
     "text": [
      "Parsed ../kickoff-detection-data/a5857e03-10b8-454a-89fb-c201985b04cb.2.kickoff.rdb in 2.08 s.\n",
      "Contains keys: dict_keys(['right', 'left'])\n",
      "[right] start_ts: 1523383083286 | stop_ts: 1523383682846\n",
      "[left] start_ts: 1523383083898 | stop_ts: 1523383683138\n",
      "a5857e03-10b8-454a-89fb-c201985b04cb.json\n"
     ]
    },
    {
     "name": "stderr",
     "output_type": "stream",
     "text": [
      "14982it [00:07, 2121.32it/s]\n"
     ]
    },
    {
     "name": "stdout",
     "output_type": "stream",
     "text": [
      "2680\n",
      "17\n",
      "8040 72\n",
      "17\n",
      "40\n"
     ]
    },
    {
     "name": "stderr",
     "output_type": "stream",
     "text": [
      "112it [00:00, 1113.61it/s]"
     ]
    },
    {
     "name": "stdout",
     "output_type": "stream",
     "text": [
      "Parsed ../kickoff-detection-data/a881fc70-93e4-43d9-b0c5-036f72eaa980.1.kickoff.rdb in 3.09 s.\n",
      "Contains keys: dict_keys(['right', 'left'])\n",
      "[right] start_ts: 1527094502008 | stop_ts: 1527094800848\n",
      "[left] start_ts: 1527094501982 | stop_ts: 1527094800822\n",
      "a881fc70-93e4-43d9-b0c5-036f72eaa980.json\n"
     ]
    },
    {
     "name": "stderr",
     "output_type": "stream",
     "text": [
      "7472it [00:08, 927.28it/s] \n"
     ]
    },
    {
     "name": "stdout",
     "output_type": "stream",
     "text": [
      "2680\n",
      "0\n",
      "8040 27\n",
      "0\n"
     ]
    },
    {
     "name": "stderr",
     "output_type": "stream",
     "text": [
      "658it [00:00, 3283.94it/s]"
     ]
    },
    {
     "name": "stdout",
     "output_type": "stream",
     "text": [
      "Parsed ../kickoff-detection-data/a881fc70-93e4-43d9-b0c5-036f72eaa980.2.kickoff.rdb in 0.92 s.\n",
      "Contains keys: dict_keys(['right', 'left'])\n",
      "[right] start_ts: 1527098146008 | stop_ts: 1527098442848\n",
      "[left] start_ts: 1527098145982 | stop_ts: 1527098442822\n",
      "a881fc70-93e4-43d9-b0c5-036f72eaa980.json\n"
     ]
    },
    {
     "name": "stderr",
     "output_type": "stream",
     "text": [
      "7421it [00:03, 2343.39it/s]\n"
     ]
    },
    {
     "name": "stdout",
     "output_type": "stream",
     "text": [
      "2680\n",
      "0\n",
      "8040 27\n",
      "0\n"
     ]
    },
    {
     "name": "stderr",
     "output_type": "stream",
     "text": [
      "683it [00:00, 3512.04it/s]"
     ]
    },
    {
     "name": "stdout",
     "output_type": "stream",
     "text": [
      "Parsed ../kickoff-detection-data/aadecf3a-0d92-4ace-b643-ced44474e157.1.kickoff.rdb in 0.74 s.\n",
      "Contains keys: dict_keys(['right', 'left'])\n",
      "[right] start_ts: 1524156903665 | stop_ts: 1524157201465\n",
      "[left] start_ts: 1524156903139 | stop_ts: 1524157201179\n",
      "aadecf3a-0d92-4ace-b643-ced44474e157.json\n"
     ]
    },
    {
     "name": "stderr",
     "output_type": "stream",
     "text": [
      "7445it [00:02, 2812.31it/s]\n"
     ]
    },
    {
     "name": "stdout",
     "output_type": "stream",
     "text": [
      "2680\n",
      "0\n",
      "8040 27\n",
      "0\n"
     ]
    },
    {
     "name": "stderr",
     "output_type": "stream",
     "text": [
      "744it [00:00, 3710.25it/s]"
     ]
    },
    {
     "name": "stdout",
     "output_type": "stream",
     "text": [
      "Parsed ../kickoff-detection-data/aadecf3a-0d92-4ace-b643-ced44474e157.2.kickoff.rdb in 0.69 s.\n",
      "Contains keys: dict_keys(['right', 'left'])\n",
      "[right] start_ts: 1524160591665 | stop_ts: 1524160889465\n",
      "[left] start_ts: 1524160591139 | stop_ts: 1524160889179\n",
      "aadecf3a-0d92-4ace-b643-ced44474e157.json\n"
     ]
    },
    {
     "name": "stderr",
     "output_type": "stream",
     "text": [
      "7446it [00:02, 2906.66it/s]\n"
     ]
    },
    {
     "name": "stdout",
     "output_type": "stream",
     "text": [
      "2680\n",
      "0\n",
      "8040 27\n",
      "0\n"
     ]
    },
    {
     "name": "stderr",
     "output_type": "stream",
     "text": [
      "297it [00:00, 1538.98it/s]"
     ]
    },
    {
     "name": "stdout",
     "output_type": "stream",
     "text": [
      "Parsed ../kickoff-detection-data/adffa69d-f1aa-4aa1-9b15-fab3aa629e4f.1.kickoff.rdb in 2.00 s.\n",
      "Contains keys: dict_keys(['right', 'left'])\n",
      "[right] start_ts: 1526216111185 | stop_ts: 1526216408985\n",
      "[left] start_ts: 1526216111023 | stop_ts: 1526216408903\n",
      "adffa69d-f1aa-4aa1-9b15-fab3aa629e4f.json\n"
     ]
    },
    {
     "name": "stderr",
     "output_type": "stream",
     "text": [
      "7446it [00:05, 1419.53it/s]\n"
     ]
    },
    {
     "name": "stdout",
     "output_type": "stream",
     "text": [
      "2680\n",
      "0\n",
      "8040 27\n",
      "0\n"
     ]
    },
    {
     "name": "stderr",
     "output_type": "stream",
     "text": [
      "363it [00:00, 3629.46it/s]"
     ]
    },
    {
     "name": "stdout",
     "output_type": "stream",
     "text": [
      "Parsed ../kickoff-detection-data/adffa69d-f1aa-4aa1-9b15-fab3aa629e4f.2.kickoff.rdb in 0.81 s.\n",
      "Contains keys: dict_keys(['right', 'left'])\n",
      "[right] start_ts: 1526219951185 | stop_ts: 1526220248985\n",
      "[left] start_ts: 1526219951023 | stop_ts: 1526220248903\n",
      "adffa69d-f1aa-4aa1-9b15-fab3aa629e4f.json\n"
     ]
    },
    {
     "name": "stderr",
     "output_type": "stream",
     "text": [
      "7446it [00:02, 3084.17it/s]\n"
     ]
    },
    {
     "name": "stdout",
     "output_type": "stream",
     "text": [
      "2680\n",
      "0\n",
      "8040 27\n",
      "0\n"
     ]
    },
    {
     "name": "stderr",
     "output_type": "stream",
     "text": [
      "280it [00:00, 1418.18it/s]"
     ]
    },
    {
     "name": "stdout",
     "output_type": "stream",
     "text": [
      "Parsed ../kickoff-detection-data/af42c9ca-ae8f-4d69-a671-15950883ecac.1.kickoff.rdb in 3.39 s.\n",
      "Contains keys: dict_keys(['right', 'left'])\n",
      "[right] start_ts: 1524923719612 | stop_ts: 1524924319452\n",
      "[left] start_ts: 1524923719596 | stop_ts: 1524924319436\n",
      "af42c9ca-ae8f-4d69-a671-15950883ecac.json\n"
     ]
    },
    {
     "name": "stderr",
     "output_type": "stream",
     "text": [
      "14997it [00:09, 1665.87it/s]\n"
     ]
    },
    {
     "name": "stdout",
     "output_type": "stream",
     "text": [
      "2680\n",
      "16\n",
      "8040 72\n",
      "16\n",
      "41\n"
     ]
    },
    {
     "name": "stderr",
     "output_type": "stream",
     "text": [
      "241it [00:00, 2403.84it/s]"
     ]
    },
    {
     "name": "stdout",
     "output_type": "stream",
     "text": [
      "Parsed ../kickoff-detection-data/af42c9ca-ae8f-4d69-a671-15950883ecac.2.kickoff.rdb in 2.08 s.\n",
      "Contains keys: dict_keys(['right', 'left'])\n",
      "[right] start_ts: 1524927395612 | stop_ts: 1524927994452\n",
      "[left] start_ts: 1524927395556 | stop_ts: 1524927994436\n",
      "af42c9ca-ae8f-4d69-a671-15950883ecac.json\n"
     ]
    },
    {
     "name": "stderr",
     "output_type": "stream",
     "text": [
      "14973it [00:06, 2365.38it/s]\n"
     ]
    },
    {
     "name": "stdout",
     "output_type": "stream",
     "text": [
      "2680\n",
      "17\n",
      "8040 73\n",
      "17\n",
      "42\n"
     ]
    },
    {
     "name": "stderr",
     "output_type": "stream",
     "text": [
      "849it [00:00, 4422.02it/s]"
     ]
    },
    {
     "name": "stdout",
     "output_type": "stream",
     "text": [
      "Parsed ../kickoff-detection-data/b0cbf7ed-a9ce-4434-9e4d-072065ee61bc.1.kickoff.rdb in 1.66 s.\n",
      "Contains keys: dict_keys(['right', 'left'])\n",
      "[right] start_ts: 1523706912088 | stop_ts: 1523707510928\n",
      "[left] start_ts: 1523706904558 | stop_ts: 1523707503158\n",
      "b0cbf7ed-a9ce-4434-9e4d-072065ee61bc.json\n"
     ]
    },
    {
     "name": "stderr",
     "output_type": "stream",
     "text": [
      "14966it [00:05, 2668.14it/s]\n"
     ]
    },
    {
     "name": "stdout",
     "output_type": "stream",
     "text": [
      "2680\n",
      "17\n",
      "8040 72\n",
      "17\n",
      "43\n"
     ]
    },
    {
     "name": "stderr",
     "output_type": "stream",
     "text": [
      "321it [00:00, 3203.38it/s]"
     ]
    },
    {
     "name": "stdout",
     "output_type": "stream",
     "text": [
      "Parsed ../kickoff-detection-data/b0cbf7ed-a9ce-4434-9e4d-072065ee61bc.2.kickoff.rdb in 1.82 s.\n",
      "Contains keys: dict_keys(['right', 'left'])\n",
      "[right] start_ts: 1523710560128 | stop_ts: 1523711157928\n",
      "[left] start_ts: 1523710552598 | stop_ts: 1523711150158\n",
      "b0cbf7ed-a9ce-4434-9e4d-072065ee61bc.json\n"
     ]
    },
    {
     "name": "stderr",
     "output_type": "stream",
     "text": [
      "14941it [00:05, 2534.23it/s]\n"
     ]
    },
    {
     "name": "stdout",
     "output_type": "stream",
     "text": [
      "2680\n",
      "16\n",
      "8040 71\n",
      "16\n",
      "44\n"
     ]
    },
    {
     "name": "stderr",
     "output_type": "stream",
     "text": [
      "401it [00:00, 1923.85it/s]"
     ]
    },
    {
     "name": "stdout",
     "output_type": "stream",
     "text": [
      "Parsed ../kickoff-detection-data/b4dbea7c-c72f-4dd6-b57c-8fb7b8b38eb5.1.kickoff.rdb in 2.63 s.\n",
      "Contains keys: dict_keys(['right', 'left'])\n",
      "[right] start_ts: 1524070510889 | stop_ts: 1524071110729\n",
      "[left] start_ts: 1524070510939 | stop_ts: 1524071110739\n",
      "b4dbea7c-c72f-4dd6-b57c-8fb7b8b38eb5.json\n"
     ]
    },
    {
     "name": "stderr",
     "output_type": "stream",
     "text": [
      "14996it [00:09, 1600.21it/s]\n"
     ]
    },
    {
     "name": "stdout",
     "output_type": "stream",
     "text": [
      "2680\n",
      "16\n",
      "8040 72\n",
      "16\n",
      "45\n"
     ]
    },
    {
     "name": "stderr",
     "output_type": "stream",
     "text": [
      "193it [00:00, 1923.90it/s]"
     ]
    },
    {
     "name": "stdout",
     "output_type": "stream",
     "text": [
      "Parsed ../kickoff-detection-data/b4dbea7c-c72f-4dd6-b57c-8fb7b8b38eb5.2.kickoff.rdb in 2.36 s.\n",
      "Contains keys: dict_keys(['right', 'left'])\n",
      "[right] start_ts: 1524074238929 | stop_ts: 1524074838729\n",
      "[left] start_ts: 1524074238899 | stop_ts: 1524074838739\n",
      "b4dbea7c-c72f-4dd6-b57c-8fb7b8b38eb5.json\n"
     ]
    },
    {
     "name": "stderr",
     "output_type": "stream",
     "text": [
      "14996it [00:08, 1762.53it/s]\n"
     ]
    },
    {
     "name": "stdout",
     "output_type": "stream",
     "text": [
      "2680\n",
      "17\n",
      "8040 73\n",
      "17\n",
      "46\n"
     ]
    },
    {
     "name": "stderr",
     "output_type": "stream",
     "text": [
      "87it [00:00, 863.02it/s]"
     ]
    },
    {
     "name": "stdout",
     "output_type": "stream",
     "text": [
      "Parsed ../kickoff-detection-data/ba34fc2e-bdba-40d8-8cc8-a679c6eecd5a.1.kickoff.rdb in 1.85 s.\n",
      "Contains keys: dict_keys(['right', 'left'])\n",
      "[right] start_ts: 1522596366671 | stop_ts: 1522596965511\n",
      "[left] start_ts: 1522596366681 | stop_ts: 1522596965521\n",
      "ba34fc2e-bdba-40d8-8cc8-a679c6eecd5a.json\n"
     ]
    },
    {
     "name": "stderr",
     "output_type": "stream",
     "text": [
      "14972it [00:06, 2383.60it/s]\n"
     ]
    },
    {
     "name": "stdout",
     "output_type": "stream",
     "text": [
      "2680\n",
      "16\n",
      "8040 72\n",
      "16\n",
      "47\n"
     ]
    },
    {
     "name": "stderr",
     "output_type": "stream",
     "text": [
      "551it [00:00, 2773.38it/s]"
     ]
    },
    {
     "name": "stdout",
     "output_type": "stream",
     "text": [
      "Parsed ../kickoff-detection-data/ba34fc2e-bdba-40d8-8cc8-a679c6eecd5a.2.kickoff.rdb in 1.83 s.\n",
      "Contains keys: dict_keys(['right', 'left'])\n",
      "[right] start_ts: 1522600030671 | stop_ts: 1522600628511\n",
      "[left] start_ts: 1522600030721 | stop_ts: 1522600628521\n",
      "ba34fc2e-bdba-40d8-8cc8-a679c6eecd5a.json\n"
     ]
    },
    {
     "name": "stderr",
     "output_type": "stream",
     "text": [
      "14946it [00:06, 2215.03it/s]\n"
     ]
    },
    {
     "name": "stdout",
     "output_type": "stream",
     "text": [
      "2680\n",
      "17\n",
      "8040 72\n",
      "17\n",
      "48\n"
     ]
    },
    {
     "name": "stderr",
     "output_type": "stream",
     "text": [
      "429it [00:00, 4289.28it/s]"
     ]
    },
    {
     "name": "stdout",
     "output_type": "stream",
     "text": [
      "Parsed ../kickoff-detection-data/bd6faac0-e5f3-4b84-82a9-400c019ac08d.1.kickoff.rdb in 1.06 s.\n",
      "Contains keys: dict_keys(['right', 'left'])\n",
      "[right] start_ts: 1526316934055 | stop_ts: 1526317230935\n",
      "[left] start_ts: 1526316934105 | stop_ts: 1526317230985\n",
      "bd6faac0-e5f3-4b84-82a9-400c019ac08d.json\n"
     ]
    },
    {
     "name": "stderr",
     "output_type": "stream",
     "text": [
      "7422it [00:04, 1668.84it/s]\n"
     ]
    },
    {
     "name": "stdout",
     "output_type": "stream",
     "text": [
      "2680\n",
      "0\n",
      "8040 27\n",
      "0\n"
     ]
    },
    {
     "name": "stderr",
     "output_type": "stream",
     "text": [
      "643it [00:00, 3263.94it/s]"
     ]
    },
    {
     "name": "stdout",
     "output_type": "stream",
     "text": [
      "Parsed ../kickoff-detection-data/bd6faac0-e5f3-4b84-82a9-400c019ac08d.2.kickoff.rdb in 0.73 s.\n",
      "Contains keys: dict_keys(['right', 'left'])\n",
      "[right] start_ts: 1526320642055 | stop_ts: 1526320941935\n",
      "[left] start_ts: 1526320642105 | stop_ts: 1526320941985\n",
      "bd6faac0-e5f3-4b84-82a9-400c019ac08d.json\n"
     ]
    },
    {
     "name": "stderr",
     "output_type": "stream",
     "text": [
      "7498it [00:02, 3215.55it/s]\n"
     ]
    },
    {
     "name": "stdout",
     "output_type": "stream",
     "text": [
      "2680\n",
      "0\n",
      "8040 27\n",
      "0\n"
     ]
    },
    {
     "name": "stderr",
     "output_type": "stream",
     "text": [
      "791it [00:00, 4076.42it/s]"
     ]
    },
    {
     "name": "stdout",
     "output_type": "stream",
     "text": [
      "Parsed ../kickoff-detection-data/bff5f37c-be85-4f08-b6d4-a01e6c22fe0e.1.kickoff.rdb in 2.14 s.\n",
      "Contains keys: dict_keys(['right', 'left'])\n",
      "[right] start_ts: 1523984147529 | stop_ts: 1523984746449\n",
      "[left] start_ts: 1523984148353 | stop_ts: 1523984746873\n",
      "bff5f37c-be85-4f08-b6d4-a01e6c22fe0e.json\n"
     ]
    },
    {
     "name": "stderr",
     "output_type": "stream",
     "text": [
      "14964it [00:07, 2039.10it/s]\n"
     ]
    },
    {
     "name": "stdout",
     "output_type": "stream",
     "text": [
      "2680\n",
      "16\n",
      "8040 72\n",
      "16\n",
      "49\n"
     ]
    },
    {
     "name": "stderr",
     "output_type": "stream",
     "text": [
      "689it [00:00, 3417.76it/s]"
     ]
    },
    {
     "name": "stdout",
     "output_type": "stream",
     "text": [
      "Parsed ../kickoff-detection-data/bff5f37c-be85-4f08-b6d4-a01e6c22fe0e.2.kickoff.rdb in 1.84 s.\n",
      "Contains keys: dict_keys(['right', 'left'])\n",
      "[right] start_ts: 1523987755569 | stop_ts: 1523988353449\n",
      "[left] start_ts: 1523987756393 | stop_ts: 1523988353873\n",
      "bff5f37c-be85-4f08-b6d4-a01e6c22fe0e.json\n"
     ]
    },
    {
     "name": "stderr",
     "output_type": "stream",
     "text": [
      "14938it [00:06, 2349.85it/s]\n"
     ]
    },
    {
     "name": "stdout",
     "output_type": "stream",
     "text": [
      "2680\n",
      "17\n",
      "8040 72\n",
      "17\n",
      "50\n"
     ]
    },
    {
     "name": "stderr",
     "output_type": "stream",
     "text": [
      "232it [00:00, 1148.87it/s]"
     ]
    },
    {
     "name": "stdout",
     "output_type": "stream",
     "text": [
      "Parsed ../kickoff-detection-data/c0b1883d-4420-48aa-9805-9318a20e56ae.1.kickoff.rdb in 3.04 s.\n",
      "Contains keys: dict_keys(['right', 'left'])\n",
      "[right] start_ts: 1527350105245 | stop_ts: 1527350403085\n",
      "[left] start_ts: 1527350105211 | stop_ts: 1527350403091\n",
      "c0b1883d-4420-48aa-9805-9318a20e56ae.json\n"
     ]
    },
    {
     "name": "stderr",
     "output_type": "stream",
     "text": [
      "7447it [00:06, 1147.76it/s]\n"
     ]
    },
    {
     "name": "stdout",
     "output_type": "stream",
     "text": [
      "2680\n",
      "0\n",
      "8040 27\n",
      "0\n"
     ]
    },
    {
     "name": "stderr",
     "output_type": "stream",
     "text": [
      "243it [00:00, 2420.30it/s]"
     ]
    },
    {
     "name": "stdout",
     "output_type": "stream",
     "text": [
      "Parsed ../kickoff-detection-data/c0b1883d-4420-48aa-9805-9318a20e56ae.2.kickoff.rdb in 0.87 s.\n",
      "Contains keys: dict_keys(['right', 'left'])\n",
      "[right] start_ts: 1527353785285 | stop_ts: 1527354085085\n",
      "[left] start_ts: 1527353785251 | stop_ts: 1527354085091\n",
      "c0b1883d-4420-48aa-9805-9318a20e56ae.json\n"
     ]
    },
    {
     "name": "stderr",
     "output_type": "stream",
     "text": [
      "7497it [00:02, 2585.44it/s]\n"
     ]
    },
    {
     "name": "stdout",
     "output_type": "stream",
     "text": [
      "2680\n",
      "0\n",
      "8040 27\n",
      "0\n"
     ]
    },
    {
     "name": "stderr",
     "output_type": "stream",
     "text": [
      "539it [00:00, 5385.51it/s]"
     ]
    },
    {
     "name": "stdout",
     "output_type": "stream",
     "text": [
      "Parsed ../kickoff-detection-data/c4b2214b-4e3c-4dfb-a691-a5b008b9d778.1.kickoff.rdb in 0.75 s.\n",
      "Contains keys: dict_keys(['right', 'left'])\n",
      "[right] start_ts: 1525611300264 | stop_ts: 1525611597984\n",
      "[left] start_ts: 1525611301214 | stop_ts: 1525611598494\n",
      "c4b2214b-4e3c-4dfb-a691-a5b008b9d778.json\n"
     ]
    },
    {
     "name": "stderr",
     "output_type": "stream",
     "text": [
      "7433it [00:02, 2512.61it/s]\n"
     ]
    },
    {
     "name": "stdout",
     "output_type": "stream",
     "text": [
      "2680\n",
      "0\n",
      "8040 27\n",
      "0\n"
     ]
    },
    {
     "name": "stderr",
     "output_type": "stream",
     "text": [
      "261it [00:00, 2608.37it/s]"
     ]
    },
    {
     "name": "stdout",
     "output_type": "stream",
     "text": [
      "Parsed ../kickoff-detection-data/c4b2214b-4e3c-4dfb-a691-a5b008b9d778.2.kickoff.rdb in 0.73 s.\n",
      "Contains keys: dict_keys(['right', 'left'])\n",
      "[right] start_ts: 1525614944224 | stop_ts: 1525615241984\n",
      "[left] start_ts: 1525614945214 | stop_ts: 1525615242494\n",
      "c4b2214b-4e3c-4dfb-a691-a5b008b9d778.json\n"
     ]
    },
    {
     "name": "stderr",
     "output_type": "stream",
     "text": [
      "7433it [00:02, 2518.90it/s]\n"
     ]
    },
    {
     "name": "stdout",
     "output_type": "stream",
     "text": [
      "2680\n",
      "0\n",
      "8040 27\n",
      "0\n"
     ]
    },
    {
     "name": "stderr",
     "output_type": "stream",
     "text": [
      "319it [00:00, 1567.80it/s]"
     ]
    },
    {
     "name": "stdout",
     "output_type": "stream",
     "text": [
      "Parsed ../kickoff-detection-data/c79d79f1-5f51-4595-b931-4719f91a4575.1.kickoff.rdb in 2.45 s.\n",
      "Contains keys: dict_keys(['right', 'left'])\n",
      "[right] start_ts: 1525103808005 | stop_ts: 1525104404845\n",
      "[left] start_ts: 1525103807965 | stop_ts: 1525104404805\n",
      "c79d79f1-5f51-4595-b931-4719f91a4575.json\n"
     ]
    },
    {
     "name": "stderr",
     "output_type": "stream",
     "text": [
      "14922it [00:07, 2051.78it/s]\n"
     ]
    },
    {
     "name": "stdout",
     "output_type": "stream",
     "text": [
      "2680\n",
      "16\n",
      "8040 71\n",
      "16\n",
      "51\n"
     ]
    },
    {
     "name": "stderr",
     "output_type": "stream",
     "text": [
      "525it [00:00, 2563.94it/s]"
     ]
    },
    {
     "name": "stdout",
     "output_type": "stream",
     "text": [
      "Parsed ../kickoff-detection-data/c79d79f1-5f51-4595-b931-4719f91a4575.2.kickoff.rdb in 1.89 s.\n",
      "Contains keys: dict_keys(['right', 'left'])\n",
      "[right] start_ts: 1525107584005 | stop_ts: 1525108183845\n",
      "[left] start_ts: 1525107583965 | stop_ts: 1525108183805\n",
      "c79d79f1-5f51-4595-b931-4719f91a4575.json\n"
     ]
    },
    {
     "name": "stderr",
     "output_type": "stream",
     "text": [
      "14997it [00:06, 2314.20it/s]\n"
     ]
    },
    {
     "name": "stdout",
     "output_type": "stream",
     "text": [
      "2680\n",
      "16\n",
      "8040 72\n",
      "16\n",
      "52\n"
     ]
    },
    {
     "name": "stderr",
     "output_type": "stream",
     "text": [
      "1314it [00:00, 6847.65it/s]"
     ]
    },
    {
     "name": "stdout",
     "output_type": "stream",
     "text": [
      "Parsed ../kickoff-detection-data/c7acc25c-8411-4683-96ec-e26dee9cec34.1.kickoff.rdb in 0.44 s.\n",
      "Contains keys: dict_keys(['right', 'left'])\n",
      "[right] start_ts: 1524401702817 | stop_ts: 1524402001137\n",
      "[left] start_ts: 1524401702073 | stop_ts: 1524402000793\n",
      "c7acc25c-8411-4683-96ec-e26dee9cec34.json\n"
     ]
    },
    {
     "name": "stderr",
     "output_type": "stream",
     "text": [
      "7459it [00:01, 5500.66it/s]\n"
     ]
    },
    {
     "name": "stdout",
     "output_type": "stream",
     "text": [
      "2680\n",
      "0\n",
      "8040 27\n",
      "0\n"
     ]
    },
    {
     "name": "stderr",
     "output_type": "stream",
     "text": [
      "660it [00:00, 3266.25it/s]"
     ]
    },
    {
     "name": "stdout",
     "output_type": "stream",
     "text": [
      "Parsed ../kickoff-detection-data/c7acc25c-8411-4683-96ec-e26dee9cec34.2.kickoff.rdb in 0.70 s.\n",
      "Contains keys: dict_keys(['right', 'left'])\n",
      "[right] start_ts: 1524405418777 | stop_ts: 1524405718137\n",
      "[left] start_ts: 1524405418073 | stop_ts: 1524405717793\n",
      "c7acc25c-8411-4683-96ec-e26dee9cec34.json\n"
     ]
    },
    {
     "name": "stderr",
     "output_type": "stream",
     "text": [
      "7485it [00:02, 2867.16it/s]\n"
     ]
    },
    {
     "name": "stdout",
     "output_type": "stream",
     "text": [
      "2680\n",
      "0\n",
      "8040 27\n",
      "0\n"
     ]
    },
    {
     "name": "stderr",
     "output_type": "stream",
     "text": [
      "856it [00:00, 4309.08it/s]"
     ]
    },
    {
     "name": "stdout",
     "output_type": "stream",
     "text": [
      "Parsed ../kickoff-detection-data/cbcca433-ff77-4927-a5a3-36ff293c12fd.1.kickoff.rdb in 1.56 s.\n",
      "Contains keys: dict_keys(['right', 'left'])\n",
      "[right] start_ts: 1523292936370 | stop_ts: 1523293534370\n",
      "[left] start_ts: 1523292948088 | stop_ts: 1523293544248\n",
      "cbcca433-ff77-4927-a5a3-36ff293c12fd.json\n"
     ]
    },
    {
     "name": "stderr",
     "output_type": "stream",
     "text": [
      "14861it [00:05, 2639.54it/s]\n"
     ]
    },
    {
     "name": "stdout",
     "output_type": "stream",
     "text": [
      "2680\n",
      "16\n",
      "8040 69\n",
      "16\n",
      "53\n"
     ]
    },
    {
     "name": "stderr",
     "output_type": "stream",
     "text": [
      "391it [00:00, 3905.92it/s]"
     ]
    },
    {
     "name": "stdout",
     "output_type": "stream",
     "text": [
      "Parsed ../kickoff-detection-data/cbcca433-ff77-4927-a5a3-36ff293c12fd.2.kickoff.rdb in 1.51 s.\n",
      "Contains keys: dict_keys(['right', 'left'])\n",
      "[right] start_ts: 1523296748330 | stop_ts: 1523297346370\n",
      "[left] start_ts: 1523296760048 | stop_ts: 1523297356248\n",
      "cbcca433-ff77-4927-a5a3-36ff293c12fd.json\n"
     ]
    },
    {
     "name": "stderr",
     "output_type": "stream",
     "text": [
      "14906it [00:05, 2668.23it/s]\n"
     ]
    },
    {
     "name": "stdout",
     "output_type": "stream",
     "text": [
      "2680\n",
      "17\n",
      "8040 70\n",
      "17\n",
      "54\n"
     ]
    },
    {
     "name": "stderr",
     "output_type": "stream",
     "text": [
      "659it [00:00, 3186.45it/s]"
     ]
    },
    {
     "name": "stdout",
     "output_type": "stream",
     "text": [
      "Parsed ../kickoff-detection-data/cd6d495b-8fe4-4586-8861-ba579cf3a6e9.1.kickoff.rdb in 0.65 s.\n",
      "Contains keys: dict_keys(['right', 'left'])\n",
      "[right] start_ts: 1523797351317 | stop_ts: 1523797585837\n",
      "[left] start_ts: 1523797351725 | stop_ts: 1523797586045\n",
      "cd6d495b-8fe4-4586-8861-ba579cf3a6e9.json\n"
     ]
    },
    {
     "name": "stderr",
     "output_type": "stream",
     "text": [
      "5860it [00:02, 2724.46it/s]\n"
     ]
    },
    {
     "name": "stdout",
     "output_type": "stream",
     "text": [
      "2680\n",
      "0\n",
      "8040 21\n",
      "0\n"
     ]
    },
    {
     "name": "stderr",
     "output_type": "stream",
     "text": [
      "552it [00:00, 2685.89it/s]"
     ]
    },
    {
     "name": "stdout",
     "output_type": "stream",
     "text": [
      "Parsed ../kickoff-detection-data/cd6d495b-8fe4-4586-8861-ba579cf3a6e9.2.kickoff.rdb in 1.76 s.\n",
      "Contains keys: dict_keys(['right', 'left'])\n",
      "[right] start_ts: 1523800767317 | stop_ts: 1523801366837\n",
      "[left] start_ts: 1523800767685 | stop_ts: 1523801367045\n",
      "cd6d495b-8fe4-4586-8861-ba579cf3a6e9.json\n"
     ]
    },
    {
     "name": "stderr",
     "output_type": "stream",
     "text": [
      "14984it [00:06, 2281.15it/s]\n"
     ]
    },
    {
     "name": "stdout",
     "output_type": "stream",
     "text": [
      "2680\n",
      "17\n",
      "8040 72\n",
      "17\n",
      "55\n"
     ]
    },
    {
     "name": "stderr",
     "output_type": "stream",
     "text": [
      "524it [00:00, 2680.75it/s]"
     ]
    },
    {
     "name": "stdout",
     "output_type": "stream",
     "text": [
      "Parsed ../kickoff-detection-data/cec6034a-7fbf-483f-8d74-3e24fd6c0bcf.1.kickoff.rdb in 1.09 s.\n",
      "Contains keys: dict_keys(['right', 'left'])\n",
      "[right] start_ts: 1524401708282 | stop_ts: 1524402007842\n",
      "[left] start_ts: 1524401707700 | stop_ts: 1524402007540\n",
      "cec6034a-7fbf-483f-8d74-3e24fd6c0bcf.json\n"
     ]
    },
    {
     "name": "stderr",
     "output_type": "stream",
     "text": [
      "7489it [00:03, 1970.83it/s]\n"
     ]
    },
    {
     "name": "stdout",
     "output_type": "stream",
     "text": [
      "2680\n",
      "0\n",
      "8040 27\n",
      "0\n"
     ]
    },
    {
     "name": "stderr",
     "output_type": "stream",
     "text": [
      "708it [00:00, 3487.73it/s]"
     ]
    },
    {
     "name": "stdout",
     "output_type": "stream",
     "text": [
      "Parsed ../kickoff-detection-data/cec6034a-7fbf-483f-8d74-3e24fd6c0bcf.2.kickoff.rdb in 0.70 s.\n",
      "Contains keys: dict_keys(['right', 'left'])\n",
      "[right] start_ts: 1524405376322 | stop_ts: 1524405672842\n",
      "[left] start_ts: 1524405375740 | stop_ts: 1524405672540\n",
      "cec6034a-7fbf-483f-8d74-3e24fd6c0bcf.json\n"
     ]
    },
    {
     "name": "stderr",
     "output_type": "stream",
     "text": [
      "7414it [00:02, 2817.68it/s]\n"
     ]
    },
    {
     "name": "stdout",
     "output_type": "stream",
     "text": [
      "2680\n",
      "0\n",
      "8040 27\n",
      "0\n"
     ]
    },
    {
     "name": "stderr",
     "output_type": "stream",
     "text": [
      "290it [00:00, 1430.70it/s]"
     ]
    },
    {
     "name": "stdout",
     "output_type": "stream",
     "text": [
      "Parsed ../kickoff-detection-data/cf16ebf4-49fc-4991-a9b8-b9a055dcf2b8.1.kickoff.rdb in 2.17 s.\n",
      "Contains keys: dict_keys(['right', 'left'])\n",
      "[right] start_ts: 1525006796888 | stop_ts: 1525007393688\n",
      "[left] start_ts: 1525006796874 | stop_ts: 1525007393674\n",
      "cf16ebf4-49fc-4991-a9b8-b9a055dcf2b8.json\n"
     ]
    },
    {
     "name": "stderr",
     "output_type": "stream",
     "text": [
      "14921it [00:07, 2048.18it/s]\n"
     ]
    },
    {
     "name": "stdout",
     "output_type": "stream",
     "text": [
      "2680\n",
      "17\n",
      "8040 72\n",
      "17\n",
      "56\n"
     ]
    },
    {
     "name": "stderr",
     "output_type": "stream",
     "text": [
      "670it [00:00, 3299.67it/s]"
     ]
    },
    {
     "name": "stdout",
     "output_type": "stream",
     "text": [
      "Parsed ../kickoff-detection-data/cf16ebf4-49fc-4991-a9b8-b9a055dcf2b8.2.kickoff.rdb in 1.87 s.\n",
      "Contains keys: dict_keys(['right', 'left'])\n",
      "[right] start_ts: 1525010676848 | stop_ts: 1525011275688\n",
      "[left] start_ts: 1525010676874 | stop_ts: 1525011275674\n",
      "cf16ebf4-49fc-4991-a9b8-b9a055dcf2b8.json\n"
     ]
    },
    {
     "name": "stderr",
     "output_type": "stream",
     "text": [
      "14971it [00:06, 2426.52it/s]\n"
     ]
    },
    {
     "name": "stdout",
     "output_type": "stream",
     "text": [
      "2680\n",
      "17\n",
      "8040 73\n",
      "17\n",
      "57\n"
     ]
    },
    {
     "name": "stderr",
     "output_type": "stream",
     "text": [
      "125it [00:00, 1249.13it/s]"
     ]
    },
    {
     "name": "stdout",
     "output_type": "stream",
     "text": [
      "Parsed ../kickoff-detection-data/d092d84a-bfe1-4638-bd6e-7f516a90553a.1.kickoff.rdb in 1.78 s.\n",
      "Contains keys: dict_keys(['right', 'left'])\n",
      "[right] start_ts: 1527342934142 | stop_ts: 1527343233022\n",
      "[left] start_ts: 1527342934172 | stop_ts: 1527343233012\n",
      "d092d84a-bfe1-4638-bd6e-7f516a90553a.json\n"
     ]
    },
    {
     "name": "stderr",
     "output_type": "stream",
     "text": [
      "7472it [00:05, 1471.34it/s]\n"
     ]
    },
    {
     "name": "stdout",
     "output_type": "stream",
     "text": [
      "2680\n",
      "0\n",
      "8040 27\n",
      "0\n"
     ]
    },
    {
     "name": "stderr",
     "output_type": "stream",
     "text": [
      "246it [00:00, 2452.19it/s]"
     ]
    },
    {
     "name": "stdout",
     "output_type": "stream",
     "text": [
      "Parsed ../kickoff-detection-data/d092d84a-bfe1-4638-bd6e-7f516a90553a.2.kickoff.rdb in 0.88 s.\n",
      "Contains keys: dict_keys(['right', 'left'])\n",
      "[right] start_ts: 1527346602142 | stop_ts: 1527346899022\n",
      "[left] start_ts: 1527346602172 | stop_ts: 1527346899012\n",
      "d092d84a-bfe1-4638-bd6e-7f516a90553a.json\n"
     ]
    },
    {
     "name": "stderr",
     "output_type": "stream",
     "text": [
      "7422it [00:03, 2402.99it/s]\n"
     ]
    },
    {
     "name": "stdout",
     "output_type": "stream",
     "text": [
      "2680\n",
      "0\n",
      "8040 27\n",
      "0\n"
     ]
    },
    {
     "name": "stderr",
     "output_type": "stream",
     "text": [
      "340it [00:00, 1737.88it/s]"
     ]
    },
    {
     "name": "stdout",
     "output_type": "stream",
     "text": [
      "Parsed ../kickoff-detection-data/d1a98e08-0f21-46fe-8457-01ff183ddbeb.1.kickoff.rdb in 1.87 s.\n",
      "Contains keys: dict_keys(['right', 'left'])\n",
      "[right] start_ts: 1526576105219 | stop_ts: 1526576402099\n",
      "[left] start_ts: 1526576105405 | stop_ts: 1526576402165\n",
      "d1a98e08-0f21-46fe-8457-01ff183ddbeb.json\n"
     ]
    },
    {
     "name": "stderr",
     "output_type": "stream",
     "text": [
      "7420it [00:05, 1442.80it/s]\n"
     ]
    },
    {
     "name": "stdout",
     "output_type": "stream",
     "text": [
      "2680\n",
      "0\n",
      "8040 27\n",
      "0\n"
     ]
    },
    {
     "name": "stderr",
     "output_type": "stream",
     "text": [
      "771it [00:00, 3785.35it/s]"
     ]
    },
    {
     "name": "stdout",
     "output_type": "stream",
     "text": [
      "Parsed ../kickoff-detection-data/d1a98e08-0f21-46fe-8457-01ff183ddbeb.2.kickoff.rdb in 0.79 s.\n",
      "Contains keys: dict_keys(['right', 'left'])\n",
      "[right] start_ts: 1526579945259 | stop_ts: 1526580242099\n",
      "[left] start_ts: 1526579945405 | stop_ts: 1526580242165\n",
      "d1a98e08-0f21-46fe-8457-01ff183ddbeb.json\n"
     ]
    },
    {
     "name": "stderr",
     "output_type": "stream",
     "text": [
      "7421it [00:02, 2871.71it/s]\n"
     ]
    },
    {
     "name": "stdout",
     "output_type": "stream",
     "text": [
      "2680\n",
      "0\n",
      "8040 27\n",
      "0\n"
     ]
    },
    {
     "name": "stderr",
     "output_type": "stream",
     "text": [
      "330it [00:00, 1627.34it/s]"
     ]
    },
    {
     "name": "stdout",
     "output_type": "stream",
     "text": [
      "Parsed ../kickoff-detection-data/da82a1ce-2e4c-4337-8ba8-3f2525399e31.1.kickoff.rdb in 1.24 s.\n",
      "Contains keys: dict_keys(['right', 'left'])\n",
      "[right] start_ts: 1525620358583 | stop_ts: 1525620655463\n",
      "[left] start_ts: 1525620358621 | stop_ts: 1525620655501\n",
      "da82a1ce-2e4c-4337-8ba8-3f2525399e31.json\n"
     ]
    },
    {
     "name": "stderr",
     "output_type": "stream",
     "text": [
      "7422it [00:03, 2124.50it/s]\n"
     ]
    },
    {
     "name": "stdout",
     "output_type": "stream",
     "text": [
      "2680\n",
      "0\n",
      "8040 27\n",
      "0\n"
     ]
    },
    {
     "name": "stderr",
     "output_type": "stream",
     "text": [
      "1136it [00:00, 5508.36it/s]"
     ]
    },
    {
     "name": "stdout",
     "output_type": "stream",
     "text": [
      "Parsed ../kickoff-detection-data/da82a1ce-2e4c-4337-8ba8-3f2525399e31.2.kickoff.rdb in 0.72 s.\n",
      "Contains keys: dict_keys(['right', 'left'])\n",
      "[right] start_ts: 1525624022583 | stop_ts: 1525624319463\n",
      "[left] start_ts: 1525624022661 | stop_ts: 1525624319501\n",
      "da82a1ce-2e4c-4337-8ba8-3f2525399e31.json\n"
     ]
    },
    {
     "name": "stderr",
     "output_type": "stream",
     "text": [
      "7421it [00:02, 3380.57it/s]\n"
     ]
    },
    {
     "name": "stdout",
     "output_type": "stream",
     "text": [
      "2680\n",
      "0\n",
      "8040 27\n",
      "0\n"
     ]
    },
    {
     "name": "stderr",
     "output_type": "stream",
     "text": [
      "199it [00:00, 1987.11it/s]"
     ]
    },
    {
     "name": "stdout",
     "output_type": "stream",
     "text": [
      "Parsed ../kickoff-detection-data/e0646790-9750-47eb-85ac-a7065fbcd4dd.1.kickoff.rdb in 1.51 s.\n",
      "Contains keys: dict_keys(['right', 'left'])\n",
      "[right] start_ts: 1524410693864 | stop_ts: 1524410991304\n",
      "[left] start_ts: 1524410694448 | stop_ts: 1524410991608\n",
      "e0646790-9750-47eb-85ac-a7065fbcd4dd.json\n"
     ]
    },
    {
     "name": "stderr",
     "output_type": "stream",
     "text": [
      "7430it [00:04, 1719.21it/s]\n"
     ]
    },
    {
     "name": "stdout",
     "output_type": "stream",
     "text": [
      "2680\n",
      "0\n",
      "8040 27\n",
      "0\n"
     ]
    },
    {
     "name": "stderr",
     "output_type": "stream",
     "text": [
      "369it [00:00, 3689.25it/s]"
     ]
    },
    {
     "name": "stdout",
     "output_type": "stream",
     "text": [
      "Parsed ../kickoff-detection-data/e0646790-9750-47eb-85ac-a7065fbcd4dd.2.kickoff.rdb in 0.72 s.\n",
      "Contains keys: dict_keys(['right', 'left'])\n",
      "[right] start_ts: 1524414577904 | stop_ts: 1524414874304\n",
      "[left] start_ts: 1524414578448 | stop_ts: 1524414874608\n",
      "e0646790-9750-47eb-85ac-a7065fbcd4dd.json\n"
     ]
    },
    {
     "name": "stderr",
     "output_type": "stream",
     "text": [
      "7405it [00:02, 3112.06it/s]\n"
     ]
    },
    {
     "name": "stdout",
     "output_type": "stream",
     "text": [
      "2680\n",
      "0\n",
      "8040 27\n",
      "0\n"
     ]
    },
    {
     "name": "stderr",
     "output_type": "stream",
     "text": [
      "483it [00:00, 2443.22it/s]"
     ]
    },
    {
     "name": "stdout",
     "output_type": "stream",
     "text": [
      "Parsed ../kickoff-detection-data/e40014f3-5c63-4869-94af-75c4e0547de4.1.kickoff.rdb in 1.59 s.\n",
      "Contains keys: dict_keys(['right', 'left'])\n",
      "[right] start_ts: 1527094503764 | stop_ts: 1527094802564\n",
      "[left] start_ts: 1527094503678 | stop_ts: 1527094802558\n",
      "e40014f3-5c63-4869-94af-75c4e0547de4.json\n"
     ]
    },
    {
     "name": "stderr",
     "output_type": "stream",
     "text": [
      "7471it [00:04, 1742.99it/s]\n"
     ]
    },
    {
     "name": "stdout",
     "output_type": "stream",
     "text": [
      "2680\n",
      "0\n",
      "8040 27\n",
      "0\n"
     ]
    },
    {
     "name": "stderr",
     "output_type": "stream",
     "text": [
      "771it [00:00, 3837.48it/s]"
     ]
    },
    {
     "name": "stdout",
     "output_type": "stream",
     "text": [
      "Parsed ../kickoff-detection-data/e40014f3-5c63-4869-94af-75c4e0547de4.2.kickoff.rdb in 0.73 s.\n",
      "Contains keys: dict_keys(['right', 'left'])\n",
      "[right] start_ts: 1527098223764 | stop_ts: 1527098522564\n",
      "[left] start_ts: 1527098223718 | stop_ts: 1527098522558\n",
      "e40014f3-5c63-4869-94af-75c4e0547de4.json\n"
     ]
    },
    {
     "name": "stderr",
     "output_type": "stream",
     "text": [
      "7471it [00:02, 3221.49it/s]\n"
     ]
    },
    {
     "name": "stdout",
     "output_type": "stream",
     "text": [
      "2680\n",
      "0\n",
      "8040 27\n",
      "0\n"
     ]
    },
    {
     "name": "stderr",
     "output_type": "stream",
     "text": [
      "1345it [00:00, 6645.97it/s]"
     ]
    },
    {
     "name": "stdout",
     "output_type": "stream",
     "text": [
      "Parsed ../kickoff-detection-data/e4a4d658-8d02-4336-9fa6-b0b1dfcc95ee.1.kickoff.rdb in 0.54 s.\n",
      "Contains keys: dict_keys(['right', 'left'])\n",
      "[right] start_ts: 1525611307081 | stop_ts: 1525611605601\n",
      "[left] start_ts: 1525611307047 | stop_ts: 1525611605607\n",
      "e4a4d658-8d02-4336-9fa6-b0b1dfcc95ee.json\n"
     ]
    },
    {
     "name": "stderr",
     "output_type": "stream",
     "text": [
      "7464it [00:01, 4793.51it/s]\n"
     ]
    },
    {
     "name": "stdout",
     "output_type": "stream",
     "text": [
      "2680\n",
      "0\n",
      "8040 27\n",
      "0\n"
     ]
    },
    {
     "name": "stderr",
     "output_type": "stream",
     "text": [
      "715it [00:00, 3382.95it/s]"
     ]
    },
    {
     "name": "stdout",
     "output_type": "stream",
     "text": [
      "Parsed ../kickoff-detection-data/e4a4d658-8d02-4336-9fa6-b0b1dfcc95ee.2.kickoff.rdb in 0.69 s.\n",
      "Contains keys: dict_keys(['right', 'left'])\n",
      "[right] start_ts: 1525616443081 | stop_ts: 1525616742601\n",
      "[left] start_ts: 1525616443047 | stop_ts: 1525616742607\n",
      "e4a4d658-8d02-4336-9fa6-b0b1dfcc95ee.json\n"
     ]
    },
    {
     "name": "stderr",
     "output_type": "stream",
     "text": [
      "7489it [00:02, 3308.06it/s]\n"
     ]
    },
    {
     "name": "stdout",
     "output_type": "stream",
     "text": [
      "2680\n",
      "0\n",
      "8040 27\n",
      "0\n"
     ]
    },
    {
     "name": "stderr",
     "output_type": "stream",
     "text": [
      "299it [00:00, 1493.74it/s]"
     ]
    },
    {
     "name": "stdout",
     "output_type": "stream",
     "text": [
      "Parsed ../kickoff-detection-data/e773ac8c-dd65-419c-a734-3bd077a165b6.1.kickoff.rdb in 1.41 s.\n",
      "Contains keys: dict_keys(['right', 'left'])\n",
      "[right] start_ts: 1524502505560 | stop_ts: 1524502805040\n",
      "[left] start_ts: 1524502504892 | stop_ts: 1524502804732\n",
      "e773ac8c-dd65-419c-a734-3bd077a165b6.json\n"
     ]
    },
    {
     "name": "stderr",
     "output_type": "stream",
     "text": [
      "7488it [00:04, 1701.72it/s]\n"
     ]
    },
    {
     "name": "stdout",
     "output_type": "stream",
     "text": [
      "2680\n",
      "0\n",
      "8040 27\n",
      "0\n"
     ]
    },
    {
     "name": "stderr",
     "output_type": "stream",
     "text": [
      "317it [00:00, 3165.45it/s]"
     ]
    },
    {
     "name": "stdout",
     "output_type": "stream",
     "text": [
      "Parsed ../kickoff-detection-data/e773ac8c-dd65-419c-a734-3bd077a165b6.2.kickoff.rdb in 0.70 s.\n",
      "Contains keys: dict_keys(['right', 'left'])\n",
      "[right] start_ts: 1524506129560 | stop_ts: 1524506428040\n",
      "[left] start_ts: 1524506128932 | stop_ts: 1524506427732\n",
      "e773ac8c-dd65-419c-a734-3bd077a165b6.json\n"
     ]
    },
    {
     "name": "stderr",
     "output_type": "stream",
     "text": [
      "7463it [00:02, 2754.19it/s]\n"
     ]
    },
    {
     "name": "stdout",
     "output_type": "stream",
     "text": [
      "2680\n",
      "0\n",
      "8040 27\n",
      "0\n"
     ]
    },
    {
     "name": "stderr",
     "output_type": "stream",
     "text": [
      "449it [00:00, 2187.87it/s]"
     ]
    },
    {
     "name": "stdout",
     "output_type": "stream",
     "text": [
      "Parsed ../kickoff-detection-data/f9f01fbf-6871-4303-b43f-29c2dd16909d.1.kickoff.rdb in 2.65 s.\n",
      "Contains keys: dict_keys(['right', 'left'])\n",
      "[right] start_ts: 1522673702216 | stop_ts: 1522674302096\n",
      "[left] start_ts: 1522673702294 | stop_ts: 1522674302134\n",
      "f9f01fbf-6871-4303-b43f-29c2dd16909d.json\n"
     ]
    },
    {
     "name": "stderr",
     "output_type": "stream",
     "text": [
      "14996it [00:07, 1911.57it/s]\n"
     ]
    },
    {
     "name": "stdout",
     "output_type": "stream",
     "text": [
      "2680\n",
      "17\n",
      "8040 72\n",
      "17\n",
      "58\n"
     ]
    },
    {
     "name": "stderr",
     "output_type": "stream",
     "text": [
      "343it [00:00, 3427.54it/s]"
     ]
    },
    {
     "name": "stdout",
     "output_type": "stream",
     "text": [
      "Parsed ../kickoff-detection-data/f9f01fbf-6871-4303-b43f-29c2dd16909d.2.kickoff.rdb in 1.79 s.\n",
      "Contains keys: dict_keys(['right', 'left'])\n",
      "[right] start_ts: 1522677422216 | stop_ts: 1522678021096\n",
      "[left] start_ts: 1522677422334 | stop_ts: 1522678021134\n",
      "f9f01fbf-6871-4303-b43f-29c2dd16909d.json\n"
     ]
    },
    {
     "name": "stderr",
     "output_type": "stream",
     "text": [
      "14971it [00:05, 2950.94it/s]\n"
     ]
    },
    {
     "name": "stdout",
     "output_type": "stream",
     "text": [
      "2680\n",
      "17\n",
      "8040 72\n",
      "17\n",
      "59\n"
     ]
    }
   ],
   "source": [
    "create_dataset(tracks_name,config_name,'../kickoff-detection-data/data.pickle.1.10.mov',10)"
   ]
  },
  {
   "cell_type": "code",
   "execution_count": 168,
   "metadata": {},
   "outputs": [],
   "source": [
    "import random\n",
    "\n",
    "def shuffle_data(X,Y):\n",
    "    shuffle_list=list()\n",
    "    shuffle_X=list()\n",
    "    shuffle_Y=list()\n",
    "    for i in range(len(Y)):\n",
    "        shuffle_list.append([X[i],Y[i]])\n",
    "    random.shuffle(shuffle_list)\n",
    "    for i in range(len(Y)):\n",
    "        shuffle_X.append(shuffle_list[i][0])\n",
    "        shuffle_Y.append(shuffle_list[i][1])\n",
    "    return shuffle_X,shuffle_Y\n",
    "\n",
    "def sequence_kickoff_time(Y):\n",
    "    kickoff_match_i=list()\n",
    "    kickoff_periods=list()\n",
    "    for i in range(len(Y)):\n",
    "        if Y[i]==-1 and len(kickoff_match_i)>0:\n",
    "            kickoff_periods.append(kickoff_match_i)\n",
    "            kickoff_match_i=list()\n",
    "        if Y[i]==1:\n",
    "            kickoff_match_i.append(i)\n",
    "    if len(kickoff_match_i)>0:\n",
    "        kickoff_periods.append(kickoff_match_i)\n",
    "    return kickoff_periods\n",
    "\n"
   ]
  },
  {
   "cell_type": "code",
   "execution_count": 174,
   "metadata": {},
   "outputs": [],
   "source": [
    "from sklearn.ensemble import AdaBoostClassifier, GradientBoostingClassifier, RandomForestClassifier\n",
    "from sklearn.svm import SVC, LinearSVC\n",
    "from sklearn.neighbors import NearestNeighbors\n",
    "from sklearn.tree import DecisionTreeClassifier\n",
    "from datetime import datetime\n",
    "def cross_validation(X,Y,name_classifier,percentage_train,nbre_matches,indices,type_cross):\n",
    "    score_test=0\n",
    "    score_train=0\n",
    "    start=datetime.now()\n",
    "    for i in range(nbre_matches):\n",
    "        start_i=datetime.now()\n",
    "        #Create training and test datasets\n",
    "        x_train1=X[indices[i]:indices[min(i+int(nbre_matches*percentage_train),nbre_matches)]]+X[:indices[max(0,i+int(nbre_matches*percentage_train)-nbre_matches)]]\n",
    "        y_train1=Y[indices[i]:indices[min(i+int(nbre_matches*percentage_train),nbre_matches)]]+Y[:indices[max(0,i+int(nbre_matches*percentage_train)-nbre_matches)]]\n",
    "        x_test1=X[indices[min(i+int(nbre_matches*percentage_train),nbre_matches)]:]+X[indices[max(0,i+int(nbre_matches*percentage_train)-nbre_matches)]:indices[i]]\n",
    "        y_test1=Y[indices[min(i+int(nbre_matches*percentage_train),nbre_matches)]:]+Y[indices[max(0,i+int(nbre_matches*percentage_train)-nbre_matches)]:indices[i]]\n",
    "        \n",
    "        \n",
    "        #Cross_validation kickoff\n",
    "        if type_cross==\"kickoff\":\n",
    "            kickoff_indices=sequence_kickoff_time(y_test1)\n",
    "            x_test2=list()\n",
    "            y_test2=list()\n",
    "            for j in range(len(kickoff_indices)):\n",
    "                y_test2=y_test2+y_test1[kickoff_indices[j][0]:kickoff_indices[j][-1]+1]\n",
    "                x_test2=x_test2+x_test1[kickoff_indices[j][0]:kickoff_indices[j][-1]+1]\n",
    "            y_test=y_test2\n",
    "            x_test=x_test2\n",
    "        \n",
    "        if type_cross==\"no kickoff\":\n",
    "            kickoff_indices=sequence_kickoff_time(y_test1)\n",
    "            x_test2=list()\n",
    "            y_test2=list()\n",
    "            for j in range(len(kickoff_indices)):\n",
    "                if j==0:\n",
    "                    y_test2=y_test1[:kickoff_indices[j][0]]\n",
    "                    x_test2=x_test1[:kickoff_indices[j][0]]\n",
    "                if j>0:\n",
    "                    y_test2=y_test2+y_test1[kickoff_indices[j-1][-1]+1:kickoff_indices[j][0]]\n",
    "                    x_test2=x_test2+x_test1[kickoff_indices[j-1][-1]+1:kickoff_indices[j][0]]\n",
    "                if j==len(kickoff_indices)-1:\n",
    "                    y_test2=y_test2+y_test1[kickoff_indices[j][-1]+1:]\n",
    "                    x_test2=x_test2+x_test1[kickoff_indices[j][-1]+1:]\n",
    "            y_test=y_test2\n",
    "            x_test=x_test2\n",
    "            \n",
    "        #Shuffle data\n",
    "        x_train,y_train=shuffle_data(x_train1,y_train1)\n",
    "        #x_test,y_test=shuffle_data(x_test1,y_test1)\n",
    "        \n",
    "        #Training classifier\n",
    "        if name_classifier=='adaboost':\n",
    "            clf=AdaBoostClassifier()\n",
    "            clf.fit(x_train,y_train)\n",
    "        if name_classifier=='gradaboost':\n",
    "            clf=GradientBoostingClassifier()\n",
    "            clf.fit(x_train,y_train)\n",
    "        if name_classifier=='svm':\n",
    "            clf=SVC()\n",
    "            clf.fit(x_train,y_train)\n",
    "        if name_classifier=='linear_svm':\n",
    "            clf=LinearSVC()\n",
    "            clf.fit(x_train,y_train)\n",
    "        if name_classifier=='knn':\n",
    "            clf=NearestNeighbors()\n",
    "            clf.fit(x_train,y_train)\n",
    "        if name_classifier=='tree':\n",
    "            clf=DecisionTreeClassifier()\n",
    "            clf.fit(x_train,y_train)\n",
    "        if name_classifier=='forest':\n",
    "            clf=RandomForestClassifier(n_estimators=7,max_depth=25)\n",
    "            clf.fit(x_train,y_train)\n",
    "        end_i=datetime.now()\n",
    "        #Test\n",
    "        #print(clf.predict(x_test)*np.array(y_test))\n",
    "        score_test+=clf.score(x_test,y_test)\n",
    "        score_train+=clf.score(x_train,y_train)\n",
    "        print(\"Score for training for iteration {0} is {1}\".format(i,clf.score(x_train,y_train)))\n",
    "        print(\"Score for testing for iteration {0} is {1}\".format(i,clf.score(x_test,y_test)))\n",
    "        print(\"Training time: {0}\".format(end_i-start_i))\n",
    "        print(\"\\n\")\n",
    "    \n",
    "    end=datetime.now()\n",
    "    print(\"Final Score train: {0}\".format(score_train/nbre_matches))\n",
    "    print(\"Final Score test: {0}\".format(score_test/nbre_matches))\n",
    "    print(\"Cross validation time: {0}\".format(end-start))\n",
    "        \n",
    "        \n",
    "        \n",
    "def Classification(dataset,percentage_train,name_classifier,nbre_matches,type_cross=\"\"):\n",
    "    #Create inputs\n",
    "    X=list()\n",
    "    Y=list()\n",
    "    indices=[0]\n",
    "    with open(dataset, 'rb') as f:\n",
    "        for i in range(nbre_matches):\n",
    "            data = pickle.load(f)\n",
    "            X=X+data[0]\n",
    "            Y=Y+data[1]\n",
    "            indices.append(len(Y))\n",
    "    cross_validation(X,Y,name_classifier,percentage_train,nbre_matches,indices,type_cross)\n",
    "\n",
    "    \n",
    "\n"
   ]
  },
  {
   "cell_type": "code",
   "execution_count": 175,
   "metadata": {},
   "outputs": [
    {
     "name": "stdout",
     "output_type": "stream",
     "text": [
      "Score for training for iteration 0 is 0.9975544142822206\n",
      "Score for testing for iteration 0 is 0.6470588235294118\n",
      "Training time: 0:00:01.805969\n",
      "\n",
      "\n",
      "Score for training for iteration 1 is 0.9958435207823961\n",
      "Score for testing for iteration 1 is 0.4375\n",
      "Training time: 0:00:02.031767\n",
      "\n",
      "\n",
      "Score for training for iteration 2 is 0.9951100244498777\n",
      "Score for testing for iteration 2 is 0.875\n",
      "Training time: 0:00:01.751853\n",
      "\n",
      "\n",
      "Score for training for iteration 3 is 0.9963316214233309\n",
      "Score for testing for iteration 3 is 0.29411764705882354\n",
      "Training time: 0:00:01.742818\n",
      "\n",
      "\n",
      "Score for training for iteration 4 is 0.995842504279775\n",
      "Score for testing for iteration 4 is 0.9375\n",
      "Training time: 0:00:01.767701\n",
      "\n",
      "\n",
      "Score for training for iteration 5 is 0.9958435207823961\n",
      "Score for testing for iteration 5 is 0.7647058823529411\n",
      "Training time: 0:00:01.794747\n",
      "\n",
      "\n",
      "Score for training for iteration 6 is 0.9953545232273838\n",
      "Score for testing for iteration 6 is 0.9375\n",
      "Training time: 0:00:01.762958\n",
      "\n",
      "\n",
      "Score for training for iteration 7 is 0.9973098557104426\n",
      "Score for testing for iteration 7 is 0.125\n",
      "Training time: 0:00:01.801672\n",
      "\n",
      "\n",
      "Score for training for iteration 8 is 0.9953533871362191\n",
      "Score for testing for iteration 8 is 0.0\n",
      "Training time: 0:00:01.761869\n",
      "\n",
      "\n",
      "Score for training for iteration 9 is 0.9960861056751468\n",
      "Score for testing for iteration 9 is 0.8235294117647058\n",
      "Training time: 0:00:01.761186\n",
      "\n",
      "\n",
      "Score for training for iteration 10 is 0.9946197114208853\n",
      "Score for testing for iteration 10 is 0.875\n",
      "Training time: 0:00:01.779632\n",
      "\n",
      "\n",
      "Score for training for iteration 11 is 0.9968215158924205\n",
      "Score for testing for iteration 11 is 0.75\n",
      "Training time: 0:00:01.731735\n",
      "\n",
      "\n",
      "Score for training for iteration 12 is 0.9960880195599022\n",
      "Score for testing for iteration 12 is 0.8235294117647058\n",
      "Training time: 0:00:01.811728\n",
      "\n",
      "\n",
      "Score for training for iteration 13 is 0.9948655256723716\n",
      "Score for testing for iteration 13 is 0.9411764705882353\n",
      "Training time: 0:00:01.767117\n",
      "\n",
      "\n",
      "Score for training for iteration 14 is 0.9960880195599022\n",
      "Score for testing for iteration 14 is 1.0\n",
      "Training time: 0:00:01.743234\n",
      "\n",
      "\n",
      "Score for training for iteration 15 is 0.9948655256723716\n",
      "Score for testing for iteration 15 is 0.6875\n",
      "Training time: 0:00:01.782353\n",
      "\n",
      "\n",
      "Score for training for iteration 16 is 0.9955979457079971\n",
      "Score for testing for iteration 16 is 0.5294117647058824\n",
      "Training time: 0:00:01.770729\n",
      "\n",
      "\n",
      "Score for training for iteration 17 is 0.9953545232273838\n",
      "Score for testing for iteration 17 is 0.0625\n",
      "Training time: 0:00:01.768201\n",
      "\n",
      "\n",
      "Score for training for iteration 18 is 0.9938875305623472\n",
      "Score for testing for iteration 18 is 0.3125\n",
      "Training time: 0:00:01.772214\n",
      "\n",
      "\n",
      "Score for training for iteration 19 is 0.9960870628515529\n",
      "Score for testing for iteration 19 is 0.0\n",
      "Training time: 0:00:01.775741\n",
      "\n",
      "\n",
      "Score for training for iteration 20 is 0.9965761799951088\n",
      "Score for testing for iteration 20 is 0.3125\n",
      "Training time: 0:00:01.761746\n",
      "\n",
      "\n",
      "Score for training for iteration 21 is 0.9968199608610567\n",
      "Score for testing for iteration 21 is 0.9411764705882353\n",
      "Training time: 0:00:01.779485\n",
      "\n",
      "\n",
      "Score for training for iteration 22 is 0.9958414872798435\n",
      "Score for testing for iteration 22 is 0.5882352941176471\n",
      "Training time: 0:00:01.788748\n",
      "\n",
      "\n",
      "Score for training for iteration 23 is 0.993643031784841\n",
      "Score for testing for iteration 23 is 1.0\n",
      "Training time: 0:00:01.760809\n",
      "\n",
      "\n",
      "Score for training for iteration 24 is 0.9946210268948655\n",
      "Score for testing for iteration 24 is 1.0\n",
      "Training time: 0:00:01.781545\n",
      "\n",
      "\n",
      "Score for training for iteration 25 is 0.9936414771337735\n",
      "Score for testing for iteration 25 is 0.75\n",
      "Training time: 0:00:01.790720\n",
      "\n",
      "\n",
      "Score for training for iteration 26 is 0.9953545232273838\n",
      "Score for testing for iteration 26 is 0.375\n",
      "Training time: 0:00:01.750699\n",
      "\n",
      "\n",
      "Score for training for iteration 27 is 0.9963307240704501\n",
      "Score for testing for iteration 27 is 0.23529411764705882\n",
      "Training time: 0:00:01.759469\n",
      "\n",
      "\n",
      "Score for training for iteration 28 is 0.9965761799951088\n",
      "Score for testing for iteration 28 is 0.47058823529411764\n",
      "Training time: 0:00:01.755962\n",
      "\n",
      "\n",
      "Score for training for iteration 29 is 0.9941305942773294\n",
      "Score for testing for iteration 29 is 0.0\n",
      "Training time: 0:00:01.782965\n",
      "\n",
      "\n",
      "Score for training for iteration 30 is 0.9951088285644412\n",
      "Score for testing for iteration 30 is 0.8125\n",
      "Training time: 0:00:01.768529\n",
      "\n",
      "\n",
      "Score for training for iteration 31 is 0.9965753424657534\n",
      "Score for testing for iteration 31 is 0.5882352941176471\n",
      "Training time: 0:00:01.759862\n",
      "\n",
      "\n",
      "Score for training for iteration 32 is 0.9965770171149144\n",
      "Score for testing for iteration 32 is 0.9375\n",
      "Training time: 0:00:01.780316\n",
      "\n",
      "\n",
      "Score for training for iteration 33 is 0.9938875305623472\n",
      "Score for testing for iteration 33 is 0.7058823529411765\n",
      "Training time: 0:00:01.787204\n",
      "\n",
      "\n",
      "Score for training for iteration 34 is 0.9968207385668868\n",
      "Score for testing for iteration 34 is 0.6875\n",
      "Training time: 0:00:01.764968\n",
      "\n",
      "\n",
      "Score for training for iteration 35 is 0.9936399217221135\n",
      "Score for testing for iteration 35 is 0.47058823529411764\n",
      "Training time: 0:00:01.765433\n",
      "\n",
      "\n",
      "Score for training for iteration 36 is 0.9963325183374083\n",
      "Score for testing for iteration 36 is 0.9375\n",
      "Training time: 0:00:01.791334\n",
      "\n",
      "\n",
      "Score for training for iteration 37 is 0.9946197114208853\n",
      "Score for testing for iteration 37 is 0.9375\n",
      "Training time: 0:00:01.983913\n",
      "\n",
      "\n",
      "Score for training for iteration 38 is 0.9924186842748839\n",
      "Score for testing for iteration 38 is 0.6875\n",
      "Training time: 0:00:01.773227\n",
      "\n",
      "\n",
      "Score for training for iteration 39 is 0.9963316214233309\n",
      "Score for testing for iteration 39 is 0.6470588235294118\n",
      "Training time: 0:00:01.771543\n",
      "\n",
      "\n",
      "Score for training for iteration 40 is 0.9933969185619956\n",
      "Score for testing for iteration 40 is 0.7647058823529411\n",
      "Training time: 0:00:01.792903\n",
      "\n",
      "\n",
      "Score for training for iteration 41 is 0.9970652971386648\n",
      "Score for testing for iteration 41 is 0.5\n",
      "Training time: 0:00:01.759379\n",
      "\n",
      "\n",
      "Score for training for iteration 42 is 0.9963307240704501\n",
      "Score for testing for iteration 42 is 0.8823529411764706\n",
      "Training time: 0:00:01.758038\n",
      "\n",
      "\n",
      "Score for training for iteration 43 is 0.9951088285644412\n",
      "Score for testing for iteration 43 is 0.35294117647058826\n",
      "Training time: 0:00:01.777759\n",
      "\n",
      "\n",
      "Score for training for iteration 44 is 0.9948655256723716\n",
      "Score for testing for iteration 44 is 0.125\n",
      "Training time: 0:00:01.763740\n",
      "\n",
      "\n",
      "Score for training for iteration 45 is 0.9951088285644412\n",
      "Score for testing for iteration 45 is 0.9375\n",
      "Training time: 0:00:01.789455\n",
      "\n",
      "\n",
      "Score for training for iteration 46 is 0.9943737769080235\n",
      "Score for testing for iteration 46 is 0.7058823529411765\n",
      "Training time: 0:00:01.772076\n",
      "\n",
      "\n",
      "Score for training for iteration 47 is 0.9955979457079971\n",
      "Score for testing for iteration 47 is 0.25\n",
      "Training time: 0:00:01.790433\n",
      "\n",
      "\n",
      "Score for training for iteration 48 is 0.9963316214233309\n",
      "Score for testing for iteration 48 is 0.0\n",
      "Training time: 0:00:01.769827\n",
      "\n",
      "\n",
      "Score for training for iteration 49 is 0.995842504279775\n",
      "Score for testing for iteration 49 is 0.4375\n",
      "Training time: 0:00:01.785886\n",
      "\n",
      "\n",
      "Score for training for iteration 50 is 0.995842504279775\n",
      "Score for testing for iteration 50 is 0.35294117647058826\n",
      "Training time: 0:00:01.821535\n",
      "\n",
      "\n",
      "Score for training for iteration 51 is 0.993643031784841\n",
      "Score for testing for iteration 51 is 0.75\n",
      "Training time: 0:00:01.759791\n",
      "\n",
      "\n",
      "Score for training for iteration 52 is 0.9965761799951088\n",
      "Score for testing for iteration 52 is 0.875\n",
      "Training time: 0:00:01.741490\n",
      "\n",
      "\n",
      "Score for training for iteration 53 is 0.9982893450635386\n",
      "Score for testing for iteration 53 is 0.0625\n",
      "Training time: 0:00:01.727495\n",
      "\n",
      "\n",
      "Score for training for iteration 54 is 0.9968222928379369\n",
      "Score for testing for iteration 54 is 0.35294117647058826\n",
      "Training time: 0:00:01.763691\n",
      "\n",
      "\n",
      "Score for training for iteration 55 is 0.9948642699926632\n",
      "Score for testing for iteration 55 is 0.5294117647058824\n",
      "Training time: 0:00:01.795172\n",
      "\n",
      "\n",
      "Score for training for iteration 56 is 0.9938860357055515\n",
      "Score for testing for iteration 56 is 0.6470588235294118\n",
      "Training time: 0:00:01.781635\n",
      "\n",
      "\n",
      "Score for training for iteration 57 is 0.9938845401174168\n",
      "Score for testing for iteration 57 is 0.5882352941176471\n",
      "Training time: 0:00:01.776142\n",
      "\n",
      "\n",
      "Final Score train: 0.9954927953192652\n",
      "Final Score test: 0.5865872210953347\n",
      "Cross validation time: 0:04:45.278567\n"
     ]
    }
   ],
   "source": [
    "Classification('../kickoff-detection-data/data.pickle.1.10',0.99,'forest',58,\"kickoff\")"
   ]
  },
  {
   "cell_type": "code",
   "execution_count": 171,
   "metadata": {},
   "outputs": [
    {
     "name": "stdout",
     "output_type": "stream",
     "text": [
      "Score for training for iteration 0 is 0.9975544142822206\n",
      "Score for testing for iteration 0 is 0.8823529411764706\n",
      "Training time: 0:00:02.803086\n",
      "\n",
      "\n",
      "Score for training for iteration 1 is 0.9948655256723716\n",
      "Score for testing for iteration 1 is 0.625\n",
      "Training time: 0:00:02.649088\n",
      "\n",
      "\n",
      "Score for training for iteration 2 is 0.9951100244498777\n",
      "Score for testing for iteration 2 is 0.3125\n",
      "Training time: 0:00:02.626159\n",
      "\n",
      "\n",
      "Score for training for iteration 3 is 0.9968207385668868\n",
      "Score for testing for iteration 3 is 0.6470588235294118\n",
      "Training time: 0:00:02.659087\n",
      "\n",
      "\n",
      "Score for training for iteration 4 is 0.9953533871362191\n",
      "Score for testing for iteration 4 is 1.0\n",
      "Training time: 0:00:02.620151\n",
      "\n",
      "\n",
      "Score for training for iteration 5 is 0.9951100244498777\n",
      "Score for testing for iteration 5 is 0.7058823529411765\n",
      "Training time: 0:00:02.631306\n",
      "\n",
      "\n",
      "Score for training for iteration 6 is 0.9951100244498777\n",
      "Score for testing for iteration 6 is 0.875\n",
      "Training time: 0:00:02.646264\n",
      "\n",
      "\n",
      "Score for training for iteration 7 is 0.9968207385668868\n",
      "Score for testing for iteration 7 is 0.0625\n",
      "Training time: 0:00:02.642501\n",
      "\n",
      "\n",
      "Score for training for iteration 8 is 0.9953533871362191\n",
      "Score for testing for iteration 8 is 0.0\n",
      "Training time: 0:00:02.627570\n",
      "\n",
      "\n",
      "Score for training for iteration 9 is 0.9943737769080235\n",
      "Score for testing for iteration 9 is 0.5294117647058824\n",
      "Training time: 0:00:02.665690\n",
      "\n",
      "\n",
      "Score for training for iteration 10 is 0.9975544142822206\n",
      "Score for testing for iteration 10 is 1.0\n",
      "Training time: 0:00:02.632481\n",
      "\n",
      "\n",
      "Score for training for iteration 11 is 0.9958435207823961\n",
      "Score for testing for iteration 11 is 0.6875\n",
      "Training time: 0:00:02.661146\n",
      "\n",
      "\n",
      "Score for training for iteration 12 is 0.9948655256723716\n",
      "Score for testing for iteration 12 is 0.7058823529411765\n",
      "Training time: 0:00:02.651153\n",
      "\n",
      "\n",
      "Score for training for iteration 13 is 0.9968215158924205\n",
      "Score for testing for iteration 13 is 0.9411764705882353\n",
      "Training time: 0:00:02.640002\n",
      "\n",
      "\n",
      "Score for training for iteration 14 is 0.9958435207823961\n",
      "Score for testing for iteration 14 is 0.9375\n",
      "Training time: 0:00:02.613728\n",
      "\n",
      "\n",
      "Score for training for iteration 15 is 0.9951100244498777\n",
      "Score for testing for iteration 15 is 0.6875\n",
      "Training time: 0:00:02.652931\n",
      "\n",
      "\n",
      "Score for training for iteration 16 is 0.9960870628515529\n",
      "Score for testing for iteration 16 is 0.7058823529411765\n",
      "Training time: 0:00:02.862668\n",
      "\n",
      "\n",
      "Score for training for iteration 17 is 0.9941320293398533\n",
      "Score for testing for iteration 17 is 0.1875\n",
      "Training time: 0:00:02.632749\n",
      "\n",
      "\n",
      "Score for training for iteration 18 is 0.9968215158924205\n",
      "Score for testing for iteration 18 is 0.25\n",
      "Training time: 0:00:02.619141\n",
      "\n",
      "\n",
      "Score for training for iteration 19 is 0.9953533871362191\n",
      "Score for testing for iteration 19 is 0.1875\n",
      "Training time: 0:00:02.679203\n",
      "\n",
      "\n",
      "Score for training for iteration 20 is 0.9931523599902177\n",
      "Score for testing for iteration 20 is 0.0625\n",
      "Training time: 0:00:02.645095\n",
      "\n",
      "\n",
      "Score for training for iteration 21 is 0.9960861056751468\n",
      "Score for testing for iteration 21 is 0.8235294117647058\n",
      "Training time: 0:00:02.652052\n",
      "\n",
      "\n",
      "Score for training for iteration 22 is 0.9948630136986302\n",
      "Score for testing for iteration 22 is 0.9411764705882353\n",
      "Training time: 0:00:02.688369\n",
      "\n",
      "\n",
      "Score for training for iteration 23 is 0.9970660146699266\n",
      "Score for testing for iteration 23 is 0.8823529411764706\n",
      "Training time: 0:00:02.654379\n",
      "\n",
      "\n",
      "Score for training for iteration 24 is 0.9924205378973106\n",
      "Score for testing for iteration 24 is 0.8235294117647058\n",
      "Training time: 0:00:02.662735\n",
      "\n",
      "\n",
      "Score for training for iteration 25 is 0.9946197114208853\n",
      "Score for testing for iteration 25 is 0.875\n",
      "Training time: 0:00:02.627785\n",
      "\n",
      "\n",
      "Score for training for iteration 26 is 0.9958435207823961\n",
      "Score for testing for iteration 26 is 0.5\n",
      "Training time: 0:00:02.694560\n",
      "\n",
      "\n",
      "Score for training for iteration 27 is 0.9958414872798435\n",
      "Score for testing for iteration 27 is 0.6470588235294118\n",
      "Training time: 0:00:02.676899\n",
      "\n",
      "\n",
      "Score for training for iteration 28 is 0.9943751528491074\n",
      "Score for testing for iteration 28 is 0.5882352941176471\n",
      "Training time: 0:00:02.668123\n",
      "\n",
      "\n",
      "Score for training for iteration 29 is 0.9951088285644412\n",
      "Score for testing for iteration 29 is 0.0625\n",
      "Training time: 0:00:02.655888\n",
      "\n",
      "\n",
      "Score for training for iteration 30 is 0.9946197114208853\n",
      "Score for testing for iteration 30 is 0.9375\n",
      "Training time: 0:00:02.659062\n",
      "\n",
      "\n",
      "Score for training for iteration 31 is 0.9963307240704501\n",
      "Score for testing for iteration 31 is 0.8823529411764706\n",
      "Training time: 0:00:02.644255\n",
      "\n",
      "\n",
      "Score for training for iteration 32 is 0.9953545232273838\n",
      "Score for testing for iteration 32 is 0.75\n",
      "Training time: 0:00:02.618565\n",
      "\n",
      "\n",
      "Score for training for iteration 33 is 0.9965770171149144\n",
      "Score for testing for iteration 33 is 0.8823529411764706\n",
      "Training time: 0:00:02.660690\n",
      "\n",
      "\n",
      "Score for training for iteration 34 is 0.9943751528491074\n",
      "Score for testing for iteration 34 is 0.875\n",
      "Training time: 0:00:02.643297\n",
      "\n",
      "\n",
      "Score for training for iteration 35 is 0.9953522504892368\n",
      "Score for testing for iteration 35 is 0.29411764705882354\n",
      "Training time: 0:00:02.632518\n",
      "\n",
      "\n",
      "Score for training for iteration 36 is 0.9980440097799511\n",
      "Score for testing for iteration 36 is 0.625\n",
      "Training time: 0:00:02.618095\n",
      "\n",
      "\n",
      "Score for training for iteration 37 is 0.995842504279775\n",
      "Score for testing for iteration 37 is 0.9375\n",
      "Training time: 0:00:02.653798\n",
      "\n",
      "\n",
      "Score for training for iteration 38 is 0.9973098557104426\n",
      "Score for testing for iteration 38 is 0.875\n",
      "Training time: 0:00:02.636332\n",
      "\n",
      "\n",
      "Score for training for iteration 39 is 0.9963316214233309\n",
      "Score for testing for iteration 39 is 0.8823529411764706\n",
      "Training time: 0:00:02.653381\n",
      "\n",
      "\n",
      "Score for training for iteration 40 is 0.9960870628515529\n",
      "Score for testing for iteration 40 is 0.7647058823529411\n",
      "Training time: 0:00:02.659830\n",
      "\n",
      "\n",
      "Score for training for iteration 41 is 0.9938860357055515\n",
      "Score for testing for iteration 41 is 0.9375\n",
      "Training time: 0:00:02.692378\n",
      "\n",
      "\n",
      "Score for training for iteration 42 is 0.9941291585127201\n",
      "Score for testing for iteration 42 is 0.7647058823529411\n",
      "Training time: 0:00:02.646338\n",
      "\n",
      "\n",
      "Score for training for iteration 43 is 0.9963316214233309\n",
      "Score for testing for iteration 43 is 0.7647058823529411\n",
      "Training time: 0:00:02.611743\n",
      "\n",
      "\n",
      "Score for training for iteration 44 is 0.9951100244498777\n",
      "Score for testing for iteration 44 is 0.5625\n",
      "Training time: 0:00:02.652780\n",
      "\n",
      "\n",
      "Score for training for iteration 45 is 0.9968207385668868\n",
      "Score for testing for iteration 45 is 0.9375\n",
      "Training time: 0:00:02.656948\n",
      "\n",
      "\n",
      "Score for training for iteration 46 is 0.99706457925636\n",
      "Score for testing for iteration 46 is 0.6470588235294118\n",
      "Training time: 0:00:02.620187\n",
      "\n",
      "\n",
      "Score for training for iteration 47 is 0.9968207385668868\n",
      "Score for testing for iteration 47 is 0.1875\n",
      "Training time: 0:00:02.591928\n",
      "\n",
      "\n",
      "Score for training for iteration 48 is 0.995842504279775\n",
      "Score for testing for iteration 48 is 0.0\n",
      "Training time: 0:00:02.620787\n",
      "\n",
      "\n",
      "Score for training for iteration 49 is 0.9946197114208853\n",
      "Score for testing for iteration 49 is 0.25\n",
      "Training time: 0:00:02.651041\n",
      "\n",
      "\n",
      "Score for training for iteration 50 is 0.995842504279775\n",
      "Score for testing for iteration 50 is 0.29411764705882354\n",
      "Training time: 0:00:02.622002\n",
      "\n",
      "\n",
      "Score for training for iteration 51 is 0.9968215158924205\n",
      "Score for testing for iteration 51 is 0.625\n",
      "Training time: 0:00:02.645308\n",
      "\n",
      "\n",
      "Score for training for iteration 52 is 0.9951088285644412\n",
      "Score for testing for iteration 52 is 0.9375\n",
      "Training time: 0:00:02.603219\n",
      "\n",
      "\n",
      "Score for training for iteration 53 is 0.9943792766373412\n",
      "Score for testing for iteration 53 is 0.0\n",
      "Training time: 0:00:02.908402\n",
      "\n",
      "\n",
      "Score for training for iteration 54 is 0.9970667318504033\n",
      "Score for testing for iteration 54 is 0.47058823529411764\n",
      "Training time: 0:00:02.661186\n",
      "\n",
      "\n",
      "Score for training for iteration 55 is 0.9933969185619956\n",
      "Score for testing for iteration 55 is 0.7647058823529411\n",
      "Training time: 0:00:02.667401\n",
      "\n",
      "\n",
      "Score for training for iteration 56 is 0.9951088285644412\n",
      "Score for testing for iteration 56 is 0.5294117647058824\n",
      "Training time: 0:00:02.695726\n",
      "\n",
      "\n",
      "Score for training for iteration 57 is 0.9955968688845401\n",
      "Score for testing for iteration 57 is 1.0\n",
      "Training time: 0:00:02.651508\n",
      "\n",
      "\n",
      "Final Score train: 0.995594005347634\n",
      "Final Score test: 0.6295638945233267\n",
      "Cross validation time: 0:07:05.364502\n"
     ]
    }
   ],
   "source": [
    "Classification('../kickoff-detection-data/data.pickle.1.10.mov',0.99,'forest',58,\"kickoff\")"
   ]
  },
  {
   "cell_type": "code",
   "execution_count": 172,
   "metadata": {},
   "outputs": [
    {
     "name": "stdout",
     "output_type": "stream",
     "text": [
      "Score for training for iteration 0 is 0.9970652971386648\n",
      "Score for testing for iteration 0 is 0.9411764705882353\n",
      "Training time: 0:00:01.806086\n",
      "\n",
      "\n",
      "Score for training for iteration 1 is 0.9982885085574572\n",
      "Score for testing for iteration 1 is 0.5\n",
      "Training time: 0:00:01.896175\n",
      "\n",
      "\n",
      "Score for training for iteration 2 is 0.9965770171149144\n",
      "Score for testing for iteration 2 is 0.75\n",
      "Training time: 0:00:01.794349\n",
      "\n",
      "\n",
      "Score for training for iteration 3 is 0.9955979457079971\n",
      "Score for testing for iteration 3 is 0.4117647058823529\n",
      "Training time: 0:00:01.798020\n",
      "\n",
      "\n",
      "Score for training for iteration 4 is 0.9955979457079971\n",
      "Score for testing for iteration 4 is 1.0\n",
      "Training time: 0:00:01.764225\n",
      "\n",
      "\n",
      "Score for training for iteration 5 is 0.9958435207823961\n",
      "Score for testing for iteration 5 is 0.8823529411764706\n",
      "Training time: 0:00:01.774990\n",
      "\n",
      "\n",
      "Score for training for iteration 6 is 0.9965770171149144\n",
      "Score for testing for iteration 6 is 0.8125\n",
      "Training time: 0:00:01.787568\n",
      "\n",
      "\n",
      "Score for training for iteration 7 is 0.9955979457079971\n",
      "Score for testing for iteration 7 is 0.0\n",
      "Training time: 0:00:01.783311\n",
      "\n",
      "\n",
      "Score for training for iteration 8 is 0.995842504279775\n",
      "Score for testing for iteration 8 is 0.0\n",
      "Training time: 0:00:01.765977\n",
      "\n",
      "\n",
      "Score for training for iteration 9 is 0.9960861056751468\n",
      "Score for testing for iteration 9 is 0.8823529411764706\n",
      "Training time: 0:00:01.745651\n",
      "\n",
      "\n",
      "Score for training for iteration 10 is 0.9963316214233309\n",
      "Score for testing for iteration 10 is 1.0\n",
      "Training time: 0:00:01.803414\n",
      "\n",
      "\n",
      "Score for training for iteration 11 is 0.9958435207823961\n",
      "Score for testing for iteration 11 is 0.6875\n",
      "Training time: 0:00:01.757997\n",
      "\n",
      "\n",
      "Score for training for iteration 12 is 0.9965770171149144\n",
      "Score for testing for iteration 12 is 0.8823529411764706\n",
      "Training time: 0:00:01.785309\n",
      "\n",
      "\n",
      "Score for training for iteration 13 is 0.9943765281173594\n",
      "Score for testing for iteration 13 is 0.9411764705882353\n",
      "Training time: 0:00:01.762285\n",
      "\n",
      "\n",
      "Score for training for iteration 14 is 0.9980440097799511\n",
      "Score for testing for iteration 14 is 0.8125\n",
      "Training time: 0:00:01.778340\n",
      "\n",
      "\n",
      "Score for training for iteration 15 is 0.9953545232273838\n",
      "Score for testing for iteration 15 is 0.6875\n",
      "Training time: 0:00:01.774341\n",
      "\n",
      "\n",
      "Score for training for iteration 16 is 0.9953533871362191\n",
      "Score for testing for iteration 16 is 0.7058823529411765\n",
      "Training time: 0:00:01.744846\n",
      "\n",
      "\n",
      "Score for training for iteration 17 is 0.9955990220048899\n",
      "Score for testing for iteration 17 is 0.0625\n",
      "Training time: 0:00:01.778619\n",
      "\n",
      "\n",
      "Score for training for iteration 18 is 0.9948655256723716\n",
      "Score for testing for iteration 18 is 0.0\n",
      "Training time: 0:00:01.773277\n",
      "\n",
      "\n",
      "Score for training for iteration 19 is 0.9953533871362191\n",
      "Score for testing for iteration 19 is 0.1875\n",
      "Training time: 0:00:01.782032\n",
      "\n",
      "\n",
      "Score for training for iteration 20 is 0.9973098557104426\n",
      "Score for testing for iteration 20 is 0.25\n",
      "Training time: 0:00:01.789965\n",
      "\n",
      "\n",
      "Score for training for iteration 21 is 0.9965753424657534\n",
      "Score for testing for iteration 21 is 0.8235294117647058\n",
      "Training time: 0:00:01.769951\n",
      "\n",
      "\n",
      "Score for training for iteration 22 is 0.9973091976516634\n",
      "Score for testing for iteration 22 is 0.5882352941176471\n",
      "Training time: 0:00:01.936898\n",
      "\n",
      "\n",
      "Score for training for iteration 23 is 0.9948655256723716\n",
      "Score for testing for iteration 23 is 0.7647058823529411\n",
      "Training time: 0:00:01.795808\n",
      "\n",
      "\n",
      "Score for training for iteration 24 is 0.9973105134474327\n",
      "Score for testing for iteration 24 is 0.9411764705882353\n",
      "Training time: 0:00:01.786383\n",
      "\n",
      "\n",
      "Score for training for iteration 25 is 0.995842504279775\n",
      "Score for testing for iteration 25 is 0.6875\n",
      "Training time: 0:00:01.744938\n",
      "\n",
      "\n",
      "Score for training for iteration 26 is 0.9948655256723716\n",
      "Score for testing for iteration 26 is 0.3125\n",
      "Training time: 0:00:01.751104\n",
      "\n",
      "\n",
      "Score for training for iteration 27 is 0.9943737769080235\n",
      "Score for testing for iteration 27 is 0.7647058823529411\n",
      "Training time: 0:00:01.764622\n",
      "\n",
      "\n",
      "Score for training for iteration 28 is 0.9965761799951088\n",
      "Score for testing for iteration 28 is 0.47058823529411764\n",
      "Training time: 0:00:01.745496\n",
      "\n",
      "\n",
      "Score for training for iteration 29 is 0.9970652971386648\n",
      "Score for testing for iteration 29 is 0.375\n",
      "Training time: 0:00:01.785494\n",
      "\n",
      "\n",
      "Score for training for iteration 30 is 0.9960870628515529\n",
      "Score for testing for iteration 30 is 0.8125\n",
      "Training time: 0:00:01.760190\n",
      "\n",
      "\n",
      "Score for training for iteration 31 is 0.9968199608610567\n",
      "Score for testing for iteration 31 is 0.7058823529411765\n",
      "Training time: 0:00:01.766732\n",
      "\n",
      "\n",
      "Score for training for iteration 32 is 0.9960880195599022\n",
      "Score for testing for iteration 32 is 0.6875\n",
      "Training time: 0:00:01.794061\n",
      "\n",
      "\n",
      "Score for training for iteration 33 is 0.9946210268948655\n",
      "Score for testing for iteration 33 is 0.8823529411764706\n",
      "Training time: 0:00:01.763772\n",
      "\n",
      "\n",
      "Score for training for iteration 34 is 0.9960870628515529\n",
      "Score for testing for iteration 34 is 0.75\n",
      "Training time: 0:00:01.789395\n",
      "\n",
      "\n",
      "Score for training for iteration 35 is 0.9960861056751468\n",
      "Score for testing for iteration 35 is 0.23529411764705882\n",
      "Training time: 0:00:01.780708\n",
      "\n",
      "\n",
      "Score for training for iteration 36 is 0.9955990220048899\n",
      "Score for testing for iteration 36 is 0.6875\n",
      "Training time: 0:00:01.761055\n",
      "\n",
      "\n",
      "Score for training for iteration 37 is 0.9955979457079971\n",
      "Score for testing for iteration 37 is 0.875\n",
      "Training time: 0:00:01.790555\n",
      "\n",
      "\n",
      "Score for training for iteration 38 is 0.9973098557104426\n",
      "Score for testing for iteration 38 is 0.9375\n",
      "Training time: 0:00:01.769858\n",
      "\n",
      "\n",
      "Score for training for iteration 39 is 0.9951088285644412\n",
      "Score for testing for iteration 39 is 0.8823529411764706\n",
      "Training time: 0:00:01.758712\n",
      "\n",
      "\n",
      "Score for training for iteration 40 is 0.9965761799951088\n",
      "Score for testing for iteration 40 is 0.7058823529411765\n",
      "Training time: 0:00:01.776597\n",
      "\n",
      "\n",
      "Score for training for iteration 41 is 0.9960870628515529\n",
      "Score for testing for iteration 41 is 0.75\n",
      "Training time: 0:00:01.765402\n",
      "\n",
      "\n",
      "Score for training for iteration 42 is 0.99706457925636\n",
      "Score for testing for iteration 42 is 0.8823529411764706\n",
      "Training time: 0:00:01.770797\n",
      "\n",
      "\n",
      "Score for training for iteration 43 is 0.9960870628515529\n",
      "Score for testing for iteration 43 is 0.8235294117647058\n",
      "Training time: 0:00:01.810458\n",
      "\n",
      "\n",
      "Score for training for iteration 44 is 0.9963325183374083\n",
      "Score for testing for iteration 44 is 0.4375\n",
      "Training time: 0:00:01.804315\n",
      "\n",
      "\n",
      "Score for training for iteration 45 is 0.9963316214233309\n",
      "Score for testing for iteration 45 is 1.0\n",
      "Training time: 0:00:01.769558\n",
      "\n",
      "\n",
      "Score for training for iteration 46 is 0.9963307240704501\n",
      "Score for testing for iteration 46 is 0.5882352941176471\n",
      "Training time: 0:00:01.773890\n",
      "\n",
      "\n",
      "Score for training for iteration 47 is 0.9955979457079971\n",
      "Score for testing for iteration 47 is 0.0625\n",
      "Training time: 0:00:01.767868\n",
      "\n",
      "\n",
      "Score for training for iteration 48 is 0.9946197114208853\n",
      "Score for testing for iteration 48 is 0.0\n",
      "Training time: 0:00:01.800205\n",
      "\n",
      "\n",
      "Score for training for iteration 49 is 0.9963316214233309\n",
      "Score for testing for iteration 49 is 0.4375\n",
      "Training time: 0:00:01.772651\n",
      "\n",
      "\n",
      "Score for training for iteration 50 is 0.995842504279775\n",
      "Score for testing for iteration 50 is 0.47058823529411764\n",
      "Training time: 0:00:01.773529\n",
      "\n",
      "\n",
      "Score for training for iteration 51 is 0.9951100244498777\n",
      "Score for testing for iteration 51 is 0.75\n",
      "Training time: 0:00:01.772165\n",
      "\n",
      "\n",
      "Score for training for iteration 52 is 0.9960870628515529\n",
      "Score for testing for iteration 52 is 0.9375\n",
      "Training time: 0:00:01.765012\n",
      "\n",
      "\n",
      "Score for training for iteration 53 is 0.9970674486803519\n",
      "Score for testing for iteration 53 is 0.0625\n",
      "Training time: 0:00:01.792436\n",
      "\n",
      "\n",
      "Score for training for iteration 54 is 0.995600097775605\n",
      "Score for testing for iteration 54 is 0.5294117647058824\n",
      "Training time: 0:00:01.814284\n",
      "\n",
      "\n",
      "Score for training for iteration 55 is 0.9973098557104426\n",
      "Score for testing for iteration 55 is 0.6470588235294118\n",
      "Training time: 0:00:01.771954\n",
      "\n",
      "\n",
      "Score for training for iteration 56 is 0.9941305942773294\n",
      "Score for testing for iteration 56 is 0.5294117647058824\n",
      "Training time: 0:00:01.741896\n",
      "\n",
      "\n",
      "Score for training for iteration 57 is 0.9973091976516634\n",
      "Score for testing for iteration 57 is 0.7058823529411765\n",
      "Training time: 0:00:01.765752\n",
      "\n",
      "\n",
      "Final Score train: 0.9960704616003504\n",
      "Final Score test: 0.6189781947261664\n",
      "Cross validation time: 0:04:45.619734\n"
     ]
    }
   ],
   "source": [
    "Classification('../kickoff-detection-data/data.pickle.1.10.acc',0.99,'forest',58,\"kickoff\")"
   ]
  }
 ],
 "metadata": {
  "kernelspec": {
   "display_name": "Python 3",
   "language": "python",
   "name": "python3"
  },
  "language_info": {
   "codemirror_mode": {
    "name": "ipython",
    "version": 3
   },
   "file_extension": ".py",
   "mimetype": "text/x-python",
   "name": "python",
   "nbconvert_exporter": "python",
   "pygments_lexer": "ipython3",
   "version": "3.5.2"
  }
 },
 "nbformat": 4,
 "nbformat_minor": 2
}
