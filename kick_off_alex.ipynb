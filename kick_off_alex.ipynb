{
 "cells": [
  {
   "cell_type": "code",
   "execution_count": 1,
   "metadata": {},
   "outputs": [],
   "source": [
    "import time\n",
    "import pickle\n",
    "import numpy as np\n",
    "import pprint\n",
    "import matplotlib.pyplot as plt\n",
    "from tqdm import tqdm \n",
    "import json\n",
    "from dateutil.parser import parse"
   ]
  },
  {
   "cell_type": "code",
   "execution_count": 2,
   "metadata": {},
   "outputs": [],
   "source": [
    "from rdbtools import RdbParser, RdbCallback\n",
    "from rdbtools.encodehelpers import bytes_to_unicode\n",
    "\n",
    "class PublishCallback(RdbCallback):\n",
    "\n",
    "    def __init__(self, is_unicode=False, start_ts=float('-inf'), stop_ts=float('+inf')):\n",
    "        super(PublishCallback, self).__init__(string_escape=None)\n",
    "        self.ranges = {}\n",
    "        self.start = start_ts\n",
    "        self.stop = stop_ts\n",
    "        self.is_unicode = is_unicode\n",
    "\n",
    "    def encode_key(self, key):\n",
    "        return bytes_to_unicode(key, self._escape, skip_printable=True)\n",
    "\n",
    "    def encode_value(self, val):\n",
    "        if self.is_unicode:\n",
    "            return bytes_to_unicode(val, self._escape)\n",
    "        return val\n",
    "\n",
    "    def start_sorted_set(self, key, length, expiry, info):\n",
    "        self.ranges[self.encode_key(key)] = []\n",
    "\n",
    "    def zadd(self, key, score, member):\n",
    "        if self.start <= score <= self.stop:\n",
    "            self.ranges[self.encode_key(key)].append((self.encode_value(member), round(score)))\n",
    "\n",
    "    def end_sorted_set(self, key):\n",
    "        encoded_key = self.encode_key(key)\n",
    "        self.ranges[encoded_key] = list(reversed(self.ranges[encoded_key]))\n",
    "\n",
    "\n",
    "def parse_dump_file(dump_file, start_ts=float(\"-inf\"), stop_ts=float(\"+inf\")):\n",
    "    \"\"\"Parse a redis dump file (rdb) and return the data within.\n",
    "\n",
    "    Only supports SortedSet.\n",
    "\n",
    "    Args:\n",
    "        dump_file (str): Rdb path\n",
    "        start_ts (float): timestamp of the first value to publish\n",
    "        stop_ts (float): timestamp of the last value to publish\n",
    "\n",
    "    Returns:\n",
    "        ranges (dict): {\n",
    "                'keyA': [(FrameDataDump1A, Score1A), ..., (FrameDataDumpNA, ScoreNA)],\n",
    "                'keyB': [(FrameDataDump1B, Score1B), ..., (FrameDataDumpNB, ScoreNB)],\n",
    "                ...\n",
    "            }\n",
    "    \"\"\"\n",
    "    t0 = time.time()\n",
    "\n",
    "    callback = PublishCallback(start_ts=start_ts, stop_ts=stop_ts)\n",
    "    rdb_parser = RdbParser(callback)\n",
    "    rdb_parser.parse(dump_file)\n",
    "    print(\"Parsed {} in {:.2f} s.\".format(dump_file, time.time() - t0))\n",
    "    print(\"Contains keys:\", callback.ranges.keys())\n",
    "    for k in callback.ranges.keys():\n",
    "        print(\n",
    "            \"[{}] start_ts: {} | stop_ts: {}\".format(\n",
    "                k, callback.ranges[k][0][1], callback.ranges[k][-1][1]\n",
    "            )\n",
    "        )\n",
    "    return callback.ranges"
   ]
  },
  {
   "cell_type": "code",
   "execution_count": 3,
   "metadata": {},
   "outputs": [],
   "source": [
    "from ipywidgets import interact\n",
    "import ipywidgets as widgets"
   ]
  },
  {
   "cell_type": "code",
   "execution_count": 98,
   "metadata": {},
   "outputs": [
    {
     "name": "stdout",
     "output_type": "stream",
     "text": [
      "Parsed ../kickoff-data-corrected/2739587b-312a-4d40-ba1a-9b5e3ebf5c9c.2.kickoff.rdb in 1.81 s.\n",
      "Contains keys: dict_keys(['right', 'left'])\n",
      "[right] start_ts: 1527429626566 | stop_ts: 1527430225406\n",
      "[left] start_ts: 1527429626666 | stop_ts: 1527430225466\n"
     ]
    }
   ],
   "source": [
    "tracks = parse_dump_file('../kickoff-data-corrected/2739587b-312a-4d40-ba1a-9b5e3ebf5c9c.2.kickoff.rdb')\n",
    "config = json.load(open('../kickoff-data-corrected/2739587b-312a-4d40-ba1a-9b5e3ebf5c9c.json', 'r'))"
   ]
  },
  {
   "cell_type": "code",
   "execution_count": 99,
   "metadata": {},
   "outputs": [
    {
     "name": "stdout",
     "output_type": "stream",
     "text": [
      "dict_keys(['features', 'stream_ts', 'player_detections', 'top_view_player_positions', 'valid_frame', 'packed_rects', 'phase_state', 'embeddings', 'ts', 'mapping', 'last', 'bboxes', 'top_view_ball_positions', 'ball_detections'])\n"
     ]
    }
   ],
   "source": [
    "fd, ts = tracks['left'][0]\n",
    "\n",
    "\n",
    "fd = pickle.loads(fd)\n",
    "pprint.pprint(fd.__dict__.keys())"
   ]
  },
  {
   "cell_type": "code",
   "execution_count": 100,
   "metadata": {},
   "outputs": [],
   "source": [
    "kickoff_1 = config['phase_events'][2]['ts']\n",
    "kickoff_time = int(parse(kickoff_1).timestamp()*1000)"
   ]
  },
  {
   "cell_type": "code",
   "execution_count": 101,
   "metadata": {},
   "outputs": [
    {
     "data": {
      "text/plain": [
       "[{'kickoff_team_id': 2,\n",
       "  'phase': 1,\n",
       "  'ts': '2018-05-27T13:00:05.658Z',\n",
       "  'type': 'start_phase'},\n",
       " {'phase': 1, 'ts': '2018-05-27T13:48:06.407Z', 'type': 'end_phase'},\n",
       " {'kickoff_team_id': 9,\n",
       "  'phase': 2,\n",
       "  'ts': '2018-05-27T14:05:25.539Z',\n",
       "  'type': 'start_phase'},\n",
       " {'phase': 2, 'ts': '2018-05-27T14:54:05.123Z', 'type': 'end_phase'}]"
      ]
     },
     "execution_count": 101,
     "metadata": {},
     "output_type": "execute_result"
    }
   ],
   "source": [
    "config['phase_events'] "
   ]
  },
  {
   "cell_type": "code",
   "execution_count": 102,
   "metadata": {},
   "outputs": [
    {
     "name": "stdout",
     "output_type": "stream",
     "text": [
      "[105, 68]\n"
     ]
    }
   ],
   "source": [
    "pitch_size=config['pitch_size']\n",
    "print(pitch_size)"
   ]
  },
  {
   "cell_type": "code",
   "execution_count": 103,
   "metadata": {
    "scrolled": false
   },
   "outputs": [
    {
     "name": "stderr",
     "output_type": "stream",
     "text": [
      "14971it [00:08, 1747.17it/s]\n"
     ]
    }
   ],
   "source": [
    "detections = {'ball':{'left':{}, 'right':{}}, 'players':{'left':{}, 'right':{}}}\n",
    "\n",
    "timestamps = set()\n",
    "\n",
    "def ball_ok(ball_pos, ball_det):\n",
    "    if ball_pos[0] < 0 or ball_pos[1] < 0:\n",
    "        return False\n",
    "    if ball_det.confidence < 0.7:\n",
    "        return False\n",
    "    return True\n",
    "\n",
    "for (fd_left, ts_left), (fd_right, ts_right) in tqdm(zip(tracks['left'], tracks['right'])):\n",
    "    fd_left = pickle.loads(fd_left)\n",
    "    fd_right = pickle.loads(fd_right)\n",
    "    if np.abs(ts_left - ts_right) < 100:\n",
    "        ts_left = ts_right\n",
    "    timestamps.update({ts_left, ts_right})\n",
    "\n",
    "    detections['players']['left'][ts_left] = fd_left.top_view_player_positions\n",
    "    detections['players']['right'][ts_right] = fd_right.top_view_player_positions\n",
    "    detections['ball']['left'][ts_left] = np.array([bp for bp, bd in zip(fd_left.top_view_ball_positions, fd_left.ball_detections) if ball_ok(bp, bd)])\n",
    "    detections['ball']['right'][ts_right] = np.array([bp for bp, bd in zip(fd_right.top_view_ball_positions, fd_right.ball_detections) if ball_ok(bp, bd)])\n",
    "    "
   ]
  },
  {
   "cell_type": "code",
   "execution_count": 94,
   "metadata": {},
   "outputs": [
    {
     "data": {
      "text/plain": [
       "array([[ 7.394484, 34.284893],\n",
       "       [37.32123 , 57.992752],\n",
       "       [45.90547 , 21.31491 ],\n",
       "       [34.46371 , 27.652758],\n",
       "       [34.38209 , 33.645126],\n",
       "       [49.498577, 47.994823],\n",
       "       [50.102806, 34.104763],\n",
       "       [45.99181 , 44.50706 ],\n",
       "       [50.04299 , 24.76843 ],\n",
       "       [42.21014 , 35.25014 ],\n",
       "       [35.00136 , 14.773189],\n",
       "       [33.25241 , 44.585632],\n",
       "       [52.536682, 46.743282],\n",
       "       [50.381153, 22.036879]], dtype=float32)"
      ]
     },
     "execution_count": 94,
     "metadata": {},
     "output_type": "execute_result"
    }
   ],
   "source": [
    "detections['players']['left'][1527426002581]"
   ]
  },
  {
   "cell_type": "code",
   "execution_count": 104,
   "metadata": {
    "scrolled": false
   },
   "outputs": [
    {
     "name": "stdout",
     "output_type": "stream",
     "text": [
      "1527429925539 1527429925546\n"
     ]
    },
    {
     "data": {
      "application/javascript": [
       "/* Put everything inside the global mpl namespace */\n",
       "window.mpl = {};\n",
       "\n",
       "\n",
       "mpl.get_websocket_type = function() {\n",
       "    if (typeof(WebSocket) !== 'undefined') {\n",
       "        return WebSocket;\n",
       "    } else if (typeof(MozWebSocket) !== 'undefined') {\n",
       "        return MozWebSocket;\n",
       "    } else {\n",
       "        alert('Your browser does not have WebSocket support.' +\n",
       "              'Please try Chrome, Safari or Firefox ≥ 6. ' +\n",
       "              'Firefox 4 and 5 are also supported but you ' +\n",
       "              'have to enable WebSockets in about:config.');\n",
       "    };\n",
       "}\n",
       "\n",
       "mpl.figure = function(figure_id, websocket, ondownload, parent_element) {\n",
       "    this.id = figure_id;\n",
       "\n",
       "    this.ws = websocket;\n",
       "\n",
       "    this.supports_binary = (this.ws.binaryType != undefined);\n",
       "\n",
       "    if (!this.supports_binary) {\n",
       "        var warnings = document.getElementById(\"mpl-warnings\");\n",
       "        if (warnings) {\n",
       "            warnings.style.display = 'block';\n",
       "            warnings.textContent = (\n",
       "                \"This browser does not support binary websocket messages. \" +\n",
       "                    \"Performance may be slow.\");\n",
       "        }\n",
       "    }\n",
       "\n",
       "    this.imageObj = new Image();\n",
       "\n",
       "    this.context = undefined;\n",
       "    this.message = undefined;\n",
       "    this.canvas = undefined;\n",
       "    this.rubberband_canvas = undefined;\n",
       "    this.rubberband_context = undefined;\n",
       "    this.format_dropdown = undefined;\n",
       "\n",
       "    this.image_mode = 'full';\n",
       "\n",
       "    this.root = $('<div/>');\n",
       "    this._root_extra_style(this.root)\n",
       "    this.root.attr('style', 'display: inline-block');\n",
       "\n",
       "    $(parent_element).append(this.root);\n",
       "\n",
       "    this._init_header(this);\n",
       "    this._init_canvas(this);\n",
       "    this._init_toolbar(this);\n",
       "\n",
       "    var fig = this;\n",
       "\n",
       "    this.waiting = false;\n",
       "\n",
       "    this.ws.onopen =  function () {\n",
       "            fig.send_message(\"supports_binary\", {value: fig.supports_binary});\n",
       "            fig.send_message(\"send_image_mode\", {});\n",
       "            if (mpl.ratio != 1) {\n",
       "                fig.send_message(\"set_dpi_ratio\", {'dpi_ratio': mpl.ratio});\n",
       "            }\n",
       "            fig.send_message(\"refresh\", {});\n",
       "        }\n",
       "\n",
       "    this.imageObj.onload = function() {\n",
       "            if (fig.image_mode == 'full') {\n",
       "                // Full images could contain transparency (where diff images\n",
       "                // almost always do), so we need to clear the canvas so that\n",
       "                // there is no ghosting.\n",
       "                fig.context.clearRect(0, 0, fig.canvas.width, fig.canvas.height);\n",
       "            }\n",
       "            fig.context.drawImage(fig.imageObj, 0, 0);\n",
       "        };\n",
       "\n",
       "    this.imageObj.onunload = function() {\n",
       "        fig.ws.close();\n",
       "    }\n",
       "\n",
       "    this.ws.onmessage = this._make_on_message_function(this);\n",
       "\n",
       "    this.ondownload = ondownload;\n",
       "}\n",
       "\n",
       "mpl.figure.prototype._init_header = function() {\n",
       "    var titlebar = $(\n",
       "        '<div class=\"ui-dialog-titlebar ui-widget-header ui-corner-all ' +\n",
       "        'ui-helper-clearfix\"/>');\n",
       "    var titletext = $(\n",
       "        '<div class=\"ui-dialog-title\" style=\"width: 100%; ' +\n",
       "        'text-align: center; padding: 3px;\"/>');\n",
       "    titlebar.append(titletext)\n",
       "    this.root.append(titlebar);\n",
       "    this.header = titletext[0];\n",
       "}\n",
       "\n",
       "\n",
       "\n",
       "mpl.figure.prototype._canvas_extra_style = function(canvas_div) {\n",
       "\n",
       "}\n",
       "\n",
       "\n",
       "mpl.figure.prototype._root_extra_style = function(canvas_div) {\n",
       "\n",
       "}\n",
       "\n",
       "mpl.figure.prototype._init_canvas = function() {\n",
       "    var fig = this;\n",
       "\n",
       "    var canvas_div = $('<div/>');\n",
       "\n",
       "    canvas_div.attr('style', 'position: relative; clear: both; outline: 0');\n",
       "\n",
       "    function canvas_keyboard_event(event) {\n",
       "        return fig.key_event(event, event['data']);\n",
       "    }\n",
       "\n",
       "    canvas_div.keydown('key_press', canvas_keyboard_event);\n",
       "    canvas_div.keyup('key_release', canvas_keyboard_event);\n",
       "    this.canvas_div = canvas_div\n",
       "    this._canvas_extra_style(canvas_div)\n",
       "    this.root.append(canvas_div);\n",
       "\n",
       "    var canvas = $('<canvas/>');\n",
       "    canvas.addClass('mpl-canvas');\n",
       "    canvas.attr('style', \"left: 0; top: 0; z-index: 0; outline: 0\")\n",
       "\n",
       "    this.canvas = canvas[0];\n",
       "    this.context = canvas[0].getContext(\"2d\");\n",
       "\n",
       "    var backingStore = this.context.backingStorePixelRatio ||\n",
       "\tthis.context.webkitBackingStorePixelRatio ||\n",
       "\tthis.context.mozBackingStorePixelRatio ||\n",
       "\tthis.context.msBackingStorePixelRatio ||\n",
       "\tthis.context.oBackingStorePixelRatio ||\n",
       "\tthis.context.backingStorePixelRatio || 1;\n",
       "\n",
       "    mpl.ratio = (window.devicePixelRatio || 1) / backingStore;\n",
       "\n",
       "    var rubberband = $('<canvas/>');\n",
       "    rubberband.attr('style', \"position: absolute; left: 0; top: 0; z-index: 1;\")\n",
       "\n",
       "    var pass_mouse_events = true;\n",
       "\n",
       "    canvas_div.resizable({\n",
       "        start: function(event, ui) {\n",
       "            pass_mouse_events = false;\n",
       "        },\n",
       "        resize: function(event, ui) {\n",
       "            fig.request_resize(ui.size.width, ui.size.height);\n",
       "        },\n",
       "        stop: function(event, ui) {\n",
       "            pass_mouse_events = true;\n",
       "            fig.request_resize(ui.size.width, ui.size.height);\n",
       "        },\n",
       "    });\n",
       "\n",
       "    function mouse_event_fn(event) {\n",
       "        if (pass_mouse_events)\n",
       "            return fig.mouse_event(event, event['data']);\n",
       "    }\n",
       "\n",
       "    rubberband.mousedown('button_press', mouse_event_fn);\n",
       "    rubberband.mouseup('button_release', mouse_event_fn);\n",
       "    // Throttle sequential mouse events to 1 every 20ms.\n",
       "    rubberband.mousemove('motion_notify', mouse_event_fn);\n",
       "\n",
       "    rubberband.mouseenter('figure_enter', mouse_event_fn);\n",
       "    rubberband.mouseleave('figure_leave', mouse_event_fn);\n",
       "\n",
       "    canvas_div.on(\"wheel\", function (event) {\n",
       "        event = event.originalEvent;\n",
       "        event['data'] = 'scroll'\n",
       "        if (event.deltaY < 0) {\n",
       "            event.step = 1;\n",
       "        } else {\n",
       "            event.step = -1;\n",
       "        }\n",
       "        mouse_event_fn(event);\n",
       "    });\n",
       "\n",
       "    canvas_div.append(canvas);\n",
       "    canvas_div.append(rubberband);\n",
       "\n",
       "    this.rubberband = rubberband;\n",
       "    this.rubberband_canvas = rubberband[0];\n",
       "    this.rubberband_context = rubberband[0].getContext(\"2d\");\n",
       "    this.rubberband_context.strokeStyle = \"#000000\";\n",
       "\n",
       "    this._resize_canvas = function(width, height) {\n",
       "        // Keep the size of the canvas, canvas container, and rubber band\n",
       "        // canvas in synch.\n",
       "        canvas_div.css('width', width)\n",
       "        canvas_div.css('height', height)\n",
       "\n",
       "        canvas.attr('width', width * mpl.ratio);\n",
       "        canvas.attr('height', height * mpl.ratio);\n",
       "        canvas.attr('style', 'width: ' + width + 'px; height: ' + height + 'px;');\n",
       "\n",
       "        rubberband.attr('width', width);\n",
       "        rubberband.attr('height', height);\n",
       "    }\n",
       "\n",
       "    // Set the figure to an initial 600x600px, this will subsequently be updated\n",
       "    // upon first draw.\n",
       "    this._resize_canvas(600, 600);\n",
       "\n",
       "    // Disable right mouse context menu.\n",
       "    $(this.rubberband_canvas).bind(\"contextmenu\",function(e){\n",
       "        return false;\n",
       "    });\n",
       "\n",
       "    function set_focus () {\n",
       "        canvas.focus();\n",
       "        canvas_div.focus();\n",
       "    }\n",
       "\n",
       "    window.setTimeout(set_focus, 100);\n",
       "}\n",
       "\n",
       "mpl.figure.prototype._init_toolbar = function() {\n",
       "    var fig = this;\n",
       "\n",
       "    var nav_element = $('<div/>')\n",
       "    nav_element.attr('style', 'width: 100%');\n",
       "    this.root.append(nav_element);\n",
       "\n",
       "    // Define a callback function for later on.\n",
       "    function toolbar_event(event) {\n",
       "        return fig.toolbar_button_onclick(event['data']);\n",
       "    }\n",
       "    function toolbar_mouse_event(event) {\n",
       "        return fig.toolbar_button_onmouseover(event['data']);\n",
       "    }\n",
       "\n",
       "    for(var toolbar_ind in mpl.toolbar_items) {\n",
       "        var name = mpl.toolbar_items[toolbar_ind][0];\n",
       "        var tooltip = mpl.toolbar_items[toolbar_ind][1];\n",
       "        var image = mpl.toolbar_items[toolbar_ind][2];\n",
       "        var method_name = mpl.toolbar_items[toolbar_ind][3];\n",
       "\n",
       "        if (!name) {\n",
       "            // put a spacer in here.\n",
       "            continue;\n",
       "        }\n",
       "        var button = $('<button/>');\n",
       "        button.addClass('ui-button ui-widget ui-state-default ui-corner-all ' +\n",
       "                        'ui-button-icon-only');\n",
       "        button.attr('role', 'button');\n",
       "        button.attr('aria-disabled', 'false');\n",
       "        button.click(method_name, toolbar_event);\n",
       "        button.mouseover(tooltip, toolbar_mouse_event);\n",
       "\n",
       "        var icon_img = $('<span/>');\n",
       "        icon_img.addClass('ui-button-icon-primary ui-icon');\n",
       "        icon_img.addClass(image);\n",
       "        icon_img.addClass('ui-corner-all');\n",
       "\n",
       "        var tooltip_span = $('<span/>');\n",
       "        tooltip_span.addClass('ui-button-text');\n",
       "        tooltip_span.html(tooltip);\n",
       "\n",
       "        button.append(icon_img);\n",
       "        button.append(tooltip_span);\n",
       "\n",
       "        nav_element.append(button);\n",
       "    }\n",
       "\n",
       "    var fmt_picker_span = $('<span/>');\n",
       "\n",
       "    var fmt_picker = $('<select/>');\n",
       "    fmt_picker.addClass('mpl-toolbar-option ui-widget ui-widget-content');\n",
       "    fmt_picker_span.append(fmt_picker);\n",
       "    nav_element.append(fmt_picker_span);\n",
       "    this.format_dropdown = fmt_picker[0];\n",
       "\n",
       "    for (var ind in mpl.extensions) {\n",
       "        var fmt = mpl.extensions[ind];\n",
       "        var option = $(\n",
       "            '<option/>', {selected: fmt === mpl.default_extension}).html(fmt);\n",
       "        fmt_picker.append(option)\n",
       "    }\n",
       "\n",
       "    // Add hover states to the ui-buttons\n",
       "    $( \".ui-button\" ).hover(\n",
       "        function() { $(this).addClass(\"ui-state-hover\");},\n",
       "        function() { $(this).removeClass(\"ui-state-hover\");}\n",
       "    );\n",
       "\n",
       "    var status_bar = $('<span class=\"mpl-message\"/>');\n",
       "    nav_element.append(status_bar);\n",
       "    this.message = status_bar[0];\n",
       "}\n",
       "\n",
       "mpl.figure.prototype.request_resize = function(x_pixels, y_pixels) {\n",
       "    // Request matplotlib to resize the figure. Matplotlib will then trigger a resize in the client,\n",
       "    // which will in turn request a refresh of the image.\n",
       "    this.send_message('resize', {'width': x_pixels, 'height': y_pixels});\n",
       "}\n",
       "\n",
       "mpl.figure.prototype.send_message = function(type, properties) {\n",
       "    properties['type'] = type;\n",
       "    properties['figure_id'] = this.id;\n",
       "    this.ws.send(JSON.stringify(properties));\n",
       "}\n",
       "\n",
       "mpl.figure.prototype.send_draw_message = function() {\n",
       "    if (!this.waiting) {\n",
       "        this.waiting = true;\n",
       "        this.ws.send(JSON.stringify({type: \"draw\", figure_id: this.id}));\n",
       "    }\n",
       "}\n",
       "\n",
       "\n",
       "mpl.figure.prototype.handle_save = function(fig, msg) {\n",
       "    var format_dropdown = fig.format_dropdown;\n",
       "    var format = format_dropdown.options[format_dropdown.selectedIndex].value;\n",
       "    fig.ondownload(fig, format);\n",
       "}\n",
       "\n",
       "\n",
       "mpl.figure.prototype.handle_resize = function(fig, msg) {\n",
       "    var size = msg['size'];\n",
       "    if (size[0] != fig.canvas.width || size[1] != fig.canvas.height) {\n",
       "        fig._resize_canvas(size[0], size[1]);\n",
       "        fig.send_message(\"refresh\", {});\n",
       "    };\n",
       "}\n",
       "\n",
       "mpl.figure.prototype.handle_rubberband = function(fig, msg) {\n",
       "    var x0 = msg['x0'] / mpl.ratio;\n",
       "    var y0 = (fig.canvas.height - msg['y0']) / mpl.ratio;\n",
       "    var x1 = msg['x1'] / mpl.ratio;\n",
       "    var y1 = (fig.canvas.height - msg['y1']) / mpl.ratio;\n",
       "    x0 = Math.floor(x0) + 0.5;\n",
       "    y0 = Math.floor(y0) + 0.5;\n",
       "    x1 = Math.floor(x1) + 0.5;\n",
       "    y1 = Math.floor(y1) + 0.5;\n",
       "    var min_x = Math.min(x0, x1);\n",
       "    var min_y = Math.min(y0, y1);\n",
       "    var width = Math.abs(x1 - x0);\n",
       "    var height = Math.abs(y1 - y0);\n",
       "\n",
       "    fig.rubberband_context.clearRect(\n",
       "        0, 0, fig.canvas.width, fig.canvas.height);\n",
       "\n",
       "    fig.rubberband_context.strokeRect(min_x, min_y, width, height);\n",
       "}\n",
       "\n",
       "mpl.figure.prototype.handle_figure_label = function(fig, msg) {\n",
       "    // Updates the figure title.\n",
       "    fig.header.textContent = msg['label'];\n",
       "}\n",
       "\n",
       "mpl.figure.prototype.handle_cursor = function(fig, msg) {\n",
       "    var cursor = msg['cursor'];\n",
       "    switch(cursor)\n",
       "    {\n",
       "    case 0:\n",
       "        cursor = 'pointer';\n",
       "        break;\n",
       "    case 1:\n",
       "        cursor = 'default';\n",
       "        break;\n",
       "    case 2:\n",
       "        cursor = 'crosshair';\n",
       "        break;\n",
       "    case 3:\n",
       "        cursor = 'move';\n",
       "        break;\n",
       "    }\n",
       "    fig.rubberband_canvas.style.cursor = cursor;\n",
       "}\n",
       "\n",
       "mpl.figure.prototype.handle_message = function(fig, msg) {\n",
       "    fig.message.textContent = msg['message'];\n",
       "}\n",
       "\n",
       "mpl.figure.prototype.handle_draw = function(fig, msg) {\n",
       "    // Request the server to send over a new figure.\n",
       "    fig.send_draw_message();\n",
       "}\n",
       "\n",
       "mpl.figure.prototype.handle_image_mode = function(fig, msg) {\n",
       "    fig.image_mode = msg['mode'];\n",
       "}\n",
       "\n",
       "mpl.figure.prototype.updated_canvas_event = function() {\n",
       "    // Called whenever the canvas gets updated.\n",
       "    this.send_message(\"ack\", {});\n",
       "}\n",
       "\n",
       "// A function to construct a web socket function for onmessage handling.\n",
       "// Called in the figure constructor.\n",
       "mpl.figure.prototype._make_on_message_function = function(fig) {\n",
       "    return function socket_on_message(evt) {\n",
       "        if (evt.data instanceof Blob) {\n",
       "            /* FIXME: We get \"Resource interpreted as Image but\n",
       "             * transferred with MIME type text/plain:\" errors on\n",
       "             * Chrome.  But how to set the MIME type?  It doesn't seem\n",
       "             * to be part of the websocket stream */\n",
       "            evt.data.type = \"image/png\";\n",
       "\n",
       "            /* Free the memory for the previous frames */\n",
       "            if (fig.imageObj.src) {\n",
       "                (window.URL || window.webkitURL).revokeObjectURL(\n",
       "                    fig.imageObj.src);\n",
       "            }\n",
       "\n",
       "            fig.imageObj.src = (window.URL || window.webkitURL).createObjectURL(\n",
       "                evt.data);\n",
       "            fig.updated_canvas_event();\n",
       "            fig.waiting = false;\n",
       "            return;\n",
       "        }\n",
       "        else if (typeof evt.data === 'string' && evt.data.slice(0, 21) == \"data:image/png;base64\") {\n",
       "            fig.imageObj.src = evt.data;\n",
       "            fig.updated_canvas_event();\n",
       "            fig.waiting = false;\n",
       "            return;\n",
       "        }\n",
       "\n",
       "        var msg = JSON.parse(evt.data);\n",
       "        var msg_type = msg['type'];\n",
       "\n",
       "        // Call the  \"handle_{type}\" callback, which takes\n",
       "        // the figure and JSON message as its only arguments.\n",
       "        try {\n",
       "            var callback = fig[\"handle_\" + msg_type];\n",
       "        } catch (e) {\n",
       "            console.log(\"No handler for the '\" + msg_type + \"' message type: \", msg);\n",
       "            return;\n",
       "        }\n",
       "\n",
       "        if (callback) {\n",
       "            try {\n",
       "                // console.log(\"Handling '\" + msg_type + \"' message: \", msg);\n",
       "                callback(fig, msg);\n",
       "            } catch (e) {\n",
       "                console.log(\"Exception inside the 'handler_\" + msg_type + \"' callback:\", e, e.stack, msg);\n",
       "            }\n",
       "        }\n",
       "    };\n",
       "}\n",
       "\n",
       "// from http://stackoverflow.com/questions/1114465/getting-mouse-location-in-canvas\n",
       "mpl.findpos = function(e) {\n",
       "    //this section is from http://www.quirksmode.org/js/events_properties.html\n",
       "    var targ;\n",
       "    if (!e)\n",
       "        e = window.event;\n",
       "    if (e.target)\n",
       "        targ = e.target;\n",
       "    else if (e.srcElement)\n",
       "        targ = e.srcElement;\n",
       "    if (targ.nodeType == 3) // defeat Safari bug\n",
       "        targ = targ.parentNode;\n",
       "\n",
       "    // jQuery normalizes the pageX and pageY\n",
       "    // pageX,Y are the mouse positions relative to the document\n",
       "    // offset() returns the position of the element relative to the document\n",
       "    var x = e.pageX - $(targ).offset().left;\n",
       "    var y = e.pageY - $(targ).offset().top;\n",
       "\n",
       "    return {\"x\": x, \"y\": y};\n",
       "};\n",
       "\n",
       "/*\n",
       " * return a copy of an object with only non-object keys\n",
       " * we need this to avoid circular references\n",
       " * http://stackoverflow.com/a/24161582/3208463\n",
       " */\n",
       "function simpleKeys (original) {\n",
       "  return Object.keys(original).reduce(function (obj, key) {\n",
       "    if (typeof original[key] !== 'object')\n",
       "        obj[key] = original[key]\n",
       "    return obj;\n",
       "  }, {});\n",
       "}\n",
       "\n",
       "mpl.figure.prototype.mouse_event = function(event, name) {\n",
       "    var canvas_pos = mpl.findpos(event)\n",
       "\n",
       "    if (name === 'button_press')\n",
       "    {\n",
       "        this.canvas.focus();\n",
       "        this.canvas_div.focus();\n",
       "    }\n",
       "\n",
       "    var x = canvas_pos.x * mpl.ratio;\n",
       "    var y = canvas_pos.y * mpl.ratio;\n",
       "\n",
       "    this.send_message(name, {x: x, y: y, button: event.button,\n",
       "                             step: event.step,\n",
       "                             guiEvent: simpleKeys(event)});\n",
       "\n",
       "    /* This prevents the web browser from automatically changing to\n",
       "     * the text insertion cursor when the button is pressed.  We want\n",
       "     * to control all of the cursor setting manually through the\n",
       "     * 'cursor' event from matplotlib */\n",
       "    event.preventDefault();\n",
       "    return false;\n",
       "}\n",
       "\n",
       "mpl.figure.prototype._key_event_extra = function(event, name) {\n",
       "    // Handle any extra behaviour associated with a key event\n",
       "}\n",
       "\n",
       "mpl.figure.prototype.key_event = function(event, name) {\n",
       "\n",
       "    // Prevent repeat events\n",
       "    if (name == 'key_press')\n",
       "    {\n",
       "        if (event.which === this._key)\n",
       "            return;\n",
       "        else\n",
       "            this._key = event.which;\n",
       "    }\n",
       "    if (name == 'key_release')\n",
       "        this._key = null;\n",
       "\n",
       "    var value = '';\n",
       "    if (event.ctrlKey && event.which != 17)\n",
       "        value += \"ctrl+\";\n",
       "    if (event.altKey && event.which != 18)\n",
       "        value += \"alt+\";\n",
       "    if (event.shiftKey && event.which != 16)\n",
       "        value += \"shift+\";\n",
       "\n",
       "    value += 'k';\n",
       "    value += event.which.toString();\n",
       "\n",
       "    this._key_event_extra(event, name);\n",
       "\n",
       "    this.send_message(name, {key: value,\n",
       "                             guiEvent: simpleKeys(event)});\n",
       "    return false;\n",
       "}\n",
       "\n",
       "mpl.figure.prototype.toolbar_button_onclick = function(name) {\n",
       "    if (name == 'download') {\n",
       "        this.handle_save(this, null);\n",
       "    } else {\n",
       "        this.send_message(\"toolbar_button\", {name: name});\n",
       "    }\n",
       "};\n",
       "\n",
       "mpl.figure.prototype.toolbar_button_onmouseover = function(tooltip) {\n",
       "    this.message.textContent = tooltip;\n",
       "};\n",
       "mpl.toolbar_items = [[\"Home\", \"Reset original view\", \"fa fa-home icon-home\", \"home\"], [\"Back\", \"Back to  previous view\", \"fa fa-arrow-left icon-arrow-left\", \"back\"], [\"Forward\", \"Forward to next view\", \"fa fa-arrow-right icon-arrow-right\", \"forward\"], [\"\", \"\", \"\", \"\"], [\"Pan\", \"Pan axes with left mouse, zoom with right\", \"fa fa-arrows icon-move\", \"pan\"], [\"Zoom\", \"Zoom to rectangle\", \"fa fa-square-o icon-check-empty\", \"zoom\"], [\"\", \"\", \"\", \"\"], [\"Download\", \"Download plot\", \"fa fa-floppy-o icon-save\", \"download\"]];\n",
       "\n",
       "mpl.extensions = [\"eps\", \"jpeg\", \"pdf\", \"png\", \"ps\", \"raw\", \"svg\", \"tif\"];\n",
       "\n",
       "mpl.default_extension = \"png\";var comm_websocket_adapter = function(comm) {\n",
       "    // Create a \"websocket\"-like object which calls the given IPython comm\n",
       "    // object with the appropriate methods. Currently this is a non binary\n",
       "    // socket, so there is still some room for performance tuning.\n",
       "    var ws = {};\n",
       "\n",
       "    ws.close = function() {\n",
       "        comm.close()\n",
       "    };\n",
       "    ws.send = function(m) {\n",
       "        //console.log('sending', m);\n",
       "        comm.send(m);\n",
       "    };\n",
       "    // Register the callback with on_msg.\n",
       "    comm.on_msg(function(msg) {\n",
       "        //console.log('receiving', msg['content']['data'], msg);\n",
       "        // Pass the mpl event to the overridden (by mpl) onmessage function.\n",
       "        ws.onmessage(msg['content']['data'])\n",
       "    });\n",
       "    return ws;\n",
       "}\n",
       "\n",
       "mpl.mpl_figure_comm = function(comm, msg) {\n",
       "    // This is the function which gets called when the mpl process\n",
       "    // starts-up an IPython Comm through the \"matplotlib\" channel.\n",
       "\n",
       "    var id = msg.content.data.id;\n",
       "    // Get hold of the div created by the display call when the Comm\n",
       "    // socket was opened in Python.\n",
       "    var element = $(\"#\" + id);\n",
       "    var ws_proxy = comm_websocket_adapter(comm)\n",
       "\n",
       "    function ondownload(figure, format) {\n",
       "        window.open(figure.imageObj.src);\n",
       "    }\n",
       "\n",
       "    var fig = new mpl.figure(id, ws_proxy,\n",
       "                           ondownload,\n",
       "                           element.get(0));\n",
       "\n",
       "    // Call onopen now - mpl needs it, as it is assuming we've passed it a real\n",
       "    // web socket which is closed, not our websocket->open comm proxy.\n",
       "    ws_proxy.onopen();\n",
       "\n",
       "    fig.parent_element = element.get(0);\n",
       "    fig.cell_info = mpl.find_output_cell(\"<div id='\" + id + \"'></div>\");\n",
       "    if (!fig.cell_info) {\n",
       "        console.error(\"Failed to find cell for figure\", id, fig);\n",
       "        return;\n",
       "    }\n",
       "\n",
       "    var output_index = fig.cell_info[2]\n",
       "    var cell = fig.cell_info[0];\n",
       "\n",
       "};\n",
       "\n",
       "mpl.figure.prototype.handle_close = function(fig, msg) {\n",
       "    var width = fig.canvas.width/mpl.ratio\n",
       "    fig.root.unbind('remove')\n",
       "\n",
       "    // Update the output cell to use the data from the current canvas.\n",
       "    fig.push_to_output();\n",
       "    var dataURL = fig.canvas.toDataURL();\n",
       "    // Re-enable the keyboard manager in IPython - without this line, in FF,\n",
       "    // the notebook keyboard shortcuts fail.\n",
       "    IPython.keyboard_manager.enable()\n",
       "    $(fig.parent_element).html('<img src=\"' + dataURL + '\" width=\"' + width + '\">');\n",
       "    fig.close_ws(fig, msg);\n",
       "}\n",
       "\n",
       "mpl.figure.prototype.close_ws = function(fig, msg){\n",
       "    fig.send_message('closing', msg);\n",
       "    // fig.ws.close()\n",
       "}\n",
       "\n",
       "mpl.figure.prototype.push_to_output = function(remove_interactive) {\n",
       "    // Turn the data on the canvas into data in the output cell.\n",
       "    var width = this.canvas.width/mpl.ratio\n",
       "    var dataURL = this.canvas.toDataURL();\n",
       "    this.cell_info[1]['text/html'] = '<img src=\"' + dataURL + '\" width=\"' + width + '\">';\n",
       "}\n",
       "\n",
       "mpl.figure.prototype.updated_canvas_event = function() {\n",
       "    // Tell IPython that the notebook contents must change.\n",
       "    IPython.notebook.set_dirty(true);\n",
       "    this.send_message(\"ack\", {});\n",
       "    var fig = this;\n",
       "    // Wait a second, then push the new image to the DOM so\n",
       "    // that it is saved nicely (might be nice to debounce this).\n",
       "    setTimeout(function () { fig.push_to_output() }, 1000);\n",
       "}\n",
       "\n",
       "mpl.figure.prototype._init_toolbar = function() {\n",
       "    var fig = this;\n",
       "\n",
       "    var nav_element = $('<div/>')\n",
       "    nav_element.attr('style', 'width: 100%');\n",
       "    this.root.append(nav_element);\n",
       "\n",
       "    // Define a callback function for later on.\n",
       "    function toolbar_event(event) {\n",
       "        return fig.toolbar_button_onclick(event['data']);\n",
       "    }\n",
       "    function toolbar_mouse_event(event) {\n",
       "        return fig.toolbar_button_onmouseover(event['data']);\n",
       "    }\n",
       "\n",
       "    for(var toolbar_ind in mpl.toolbar_items){\n",
       "        var name = mpl.toolbar_items[toolbar_ind][0];\n",
       "        var tooltip = mpl.toolbar_items[toolbar_ind][1];\n",
       "        var image = mpl.toolbar_items[toolbar_ind][2];\n",
       "        var method_name = mpl.toolbar_items[toolbar_ind][3];\n",
       "\n",
       "        if (!name) { continue; };\n",
       "\n",
       "        var button = $('<button class=\"btn btn-default\" href=\"#\" title=\"' + name + '\"><i class=\"fa ' + image + ' fa-lg\"></i></button>');\n",
       "        button.click(method_name, toolbar_event);\n",
       "        button.mouseover(tooltip, toolbar_mouse_event);\n",
       "        nav_element.append(button);\n",
       "    }\n",
       "\n",
       "    // Add the status bar.\n",
       "    var status_bar = $('<span class=\"mpl-message\" style=\"text-align:right; float: right;\"/>');\n",
       "    nav_element.append(status_bar);\n",
       "    this.message = status_bar[0];\n",
       "\n",
       "    // Add the close button to the window.\n",
       "    var buttongrp = $('<div class=\"btn-group inline pull-right\"></div>');\n",
       "    var button = $('<button class=\"btn btn-mini btn-primary\" href=\"#\" title=\"Stop Interaction\"><i class=\"fa fa-power-off icon-remove icon-large\"></i></button>');\n",
       "    button.click(function (evt) { fig.handle_close(fig, {}); } );\n",
       "    button.mouseover('Stop Interaction', toolbar_mouse_event);\n",
       "    buttongrp.append(button);\n",
       "    var titlebar = this.root.find($('.ui-dialog-titlebar'));\n",
       "    titlebar.prepend(buttongrp);\n",
       "}\n",
       "\n",
       "mpl.figure.prototype._root_extra_style = function(el){\n",
       "    var fig = this\n",
       "    el.on(\"remove\", function(){\n",
       "\tfig.close_ws(fig, {});\n",
       "    });\n",
       "}\n",
       "\n",
       "mpl.figure.prototype._canvas_extra_style = function(el){\n",
       "    // this is important to make the div 'focusable\n",
       "    el.attr('tabindex', 0)\n",
       "    // reach out to IPython and tell the keyboard manager to turn it's self\n",
       "    // off when our div gets focus\n",
       "\n",
       "    // location in version 3\n",
       "    if (IPython.notebook.keyboard_manager) {\n",
       "        IPython.notebook.keyboard_manager.register_events(el);\n",
       "    }\n",
       "    else {\n",
       "        // location in version 2\n",
       "        IPython.keyboard_manager.register_events(el);\n",
       "    }\n",
       "\n",
       "}\n",
       "\n",
       "mpl.figure.prototype._key_event_extra = function(event, name) {\n",
       "    var manager = IPython.notebook.keyboard_manager;\n",
       "    if (!manager)\n",
       "        manager = IPython.keyboard_manager;\n",
       "\n",
       "    // Check for shift+enter\n",
       "    if (event.shiftKey && event.which == 13) {\n",
       "        this.canvas_div.blur();\n",
       "        event.shiftKey = false;\n",
       "        // Send a \"J\" for go to next cell\n",
       "        event.which = 74;\n",
       "        event.keyCode = 74;\n",
       "        manager.command_mode();\n",
       "        manager.handle_keydown(event);\n",
       "    }\n",
       "}\n",
       "\n",
       "mpl.figure.prototype.handle_save = function(fig, msg) {\n",
       "    fig.ondownload(fig, null);\n",
       "}\n",
       "\n",
       "\n",
       "mpl.find_output_cell = function(html_output) {\n",
       "    // Return the cell and output element which can be found *uniquely* in the notebook.\n",
       "    // Note - this is a bit hacky, but it is done because the \"notebook_saving.Notebook\"\n",
       "    // IPython event is triggered only after the cells have been serialised, which for\n",
       "    // our purposes (turning an active figure into a static one), is too late.\n",
       "    var cells = IPython.notebook.get_cells();\n",
       "    var ncells = cells.length;\n",
       "    for (var i=0; i<ncells; i++) {\n",
       "        var cell = cells[i];\n",
       "        if (cell.cell_type === 'code'){\n",
       "            for (var j=0; j<cell.output_area.outputs.length; j++) {\n",
       "                var data = cell.output_area.outputs[j];\n",
       "                if (data.data) {\n",
       "                    // IPython >= 3 moved mimebundle to data attribute of output\n",
       "                    data = data.data;\n",
       "                }\n",
       "                if (data['text/html'] == html_output) {\n",
       "                    return [cell, data, j];\n",
       "                }\n",
       "            }\n",
       "        }\n",
       "    }\n",
       "}\n",
       "\n",
       "// Register the function which deals with the matplotlib target/channel.\n",
       "// The kernel may be null if the page has been refreshed.\n",
       "if (IPython.notebook.kernel != null) {\n",
       "    IPython.notebook.kernel.comm_manager.register_target('matplotlib', mpl.mpl_figure_comm);\n",
       "}\n"
      ],
      "text/plain": [
       "<IPython.core.display.Javascript object>"
      ]
     },
     "metadata": {},
     "output_type": "display_data"
    },
    {
     "data": {
      "text/html": [
       "<img src=\"data:image/png;base64,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\" width=\"720\">"
      ],
      "text/plain": [
       "<IPython.core.display.HTML object>"
      ]
     },
     "metadata": {},
     "output_type": "display_data"
    },
    {
     "data": {
      "application/vnd.jupyter.widget-view+json": {
       "model_id": "b42683f8cc2b46f29fe5b4666dd48903",
       "version_major": 2,
       "version_minor": 0
      },
      "text/plain": [
       "interactive(children=(SelectionSlider(description='ts', index=13754, options=(1527429626566, 1527429626606, 15…"
      ]
     },
     "metadata": {},
     "output_type": "display_data"
    },
    {
     "data": {
      "application/javascript": [
       "/* Put everything inside the global mpl namespace */\n",
       "window.mpl = {};\n",
       "\n",
       "\n",
       "mpl.get_websocket_type = function() {\n",
       "    if (typeof(WebSocket) !== 'undefined') {\n",
       "        return WebSocket;\n",
       "    } else if (typeof(MozWebSocket) !== 'undefined') {\n",
       "        return MozWebSocket;\n",
       "    } else {\n",
       "        alert('Your browser does not have WebSocket support.' +\n",
       "              'Please try Chrome, Safari or Firefox ≥ 6. ' +\n",
       "              'Firefox 4 and 5 are also supported but you ' +\n",
       "              'have to enable WebSockets in about:config.');\n",
       "    };\n",
       "}\n",
       "\n",
       "mpl.figure = function(figure_id, websocket, ondownload, parent_element) {\n",
       "    this.id = figure_id;\n",
       "\n",
       "    this.ws = websocket;\n",
       "\n",
       "    this.supports_binary = (this.ws.binaryType != undefined);\n",
       "\n",
       "    if (!this.supports_binary) {\n",
       "        var warnings = document.getElementById(\"mpl-warnings\");\n",
       "        if (warnings) {\n",
       "            warnings.style.display = 'block';\n",
       "            warnings.textContent = (\n",
       "                \"This browser does not support binary websocket messages. \" +\n",
       "                    \"Performance may be slow.\");\n",
       "        }\n",
       "    }\n",
       "\n",
       "    this.imageObj = new Image();\n",
       "\n",
       "    this.context = undefined;\n",
       "    this.message = undefined;\n",
       "    this.canvas = undefined;\n",
       "    this.rubberband_canvas = undefined;\n",
       "    this.rubberband_context = undefined;\n",
       "    this.format_dropdown = undefined;\n",
       "\n",
       "    this.image_mode = 'full';\n",
       "\n",
       "    this.root = $('<div/>');\n",
       "    this._root_extra_style(this.root)\n",
       "    this.root.attr('style', 'display: inline-block');\n",
       "\n",
       "    $(parent_element).append(this.root);\n",
       "\n",
       "    this._init_header(this);\n",
       "    this._init_canvas(this);\n",
       "    this._init_toolbar(this);\n",
       "\n",
       "    var fig = this;\n",
       "\n",
       "    this.waiting = false;\n",
       "\n",
       "    this.ws.onopen =  function () {\n",
       "            fig.send_message(\"supports_binary\", {value: fig.supports_binary});\n",
       "            fig.send_message(\"send_image_mode\", {});\n",
       "            if (mpl.ratio != 1) {\n",
       "                fig.send_message(\"set_dpi_ratio\", {'dpi_ratio': mpl.ratio});\n",
       "            }\n",
       "            fig.send_message(\"refresh\", {});\n",
       "        }\n",
       "\n",
       "    this.imageObj.onload = function() {\n",
       "            if (fig.image_mode == 'full') {\n",
       "                // Full images could contain transparency (where diff images\n",
       "                // almost always do), so we need to clear the canvas so that\n",
       "                // there is no ghosting.\n",
       "                fig.context.clearRect(0, 0, fig.canvas.width, fig.canvas.height);\n",
       "            }\n",
       "            fig.context.drawImage(fig.imageObj, 0, 0);\n",
       "        };\n",
       "\n",
       "    this.imageObj.onunload = function() {\n",
       "        fig.ws.close();\n",
       "    }\n",
       "\n",
       "    this.ws.onmessage = this._make_on_message_function(this);\n",
       "\n",
       "    this.ondownload = ondownload;\n",
       "}\n",
       "\n",
       "mpl.figure.prototype._init_header = function() {\n",
       "    var titlebar = $(\n",
       "        '<div class=\"ui-dialog-titlebar ui-widget-header ui-corner-all ' +\n",
       "        'ui-helper-clearfix\"/>');\n",
       "    var titletext = $(\n",
       "        '<div class=\"ui-dialog-title\" style=\"width: 100%; ' +\n",
       "        'text-align: center; padding: 3px;\"/>');\n",
       "    titlebar.append(titletext)\n",
       "    this.root.append(titlebar);\n",
       "    this.header = titletext[0];\n",
       "}\n",
       "\n",
       "\n",
       "\n",
       "mpl.figure.prototype._canvas_extra_style = function(canvas_div) {\n",
       "\n",
       "}\n",
       "\n",
       "\n",
       "mpl.figure.prototype._root_extra_style = function(canvas_div) {\n",
       "\n",
       "}\n",
       "\n",
       "mpl.figure.prototype._init_canvas = function() {\n",
       "    var fig = this;\n",
       "\n",
       "    var canvas_div = $('<div/>');\n",
       "\n",
       "    canvas_div.attr('style', 'position: relative; clear: both; outline: 0');\n",
       "\n",
       "    function canvas_keyboard_event(event) {\n",
       "        return fig.key_event(event, event['data']);\n",
       "    }\n",
       "\n",
       "    canvas_div.keydown('key_press', canvas_keyboard_event);\n",
       "    canvas_div.keyup('key_release', canvas_keyboard_event);\n",
       "    this.canvas_div = canvas_div\n",
       "    this._canvas_extra_style(canvas_div)\n",
       "    this.root.append(canvas_div);\n",
       "\n",
       "    var canvas = $('<canvas/>');\n",
       "    canvas.addClass('mpl-canvas');\n",
       "    canvas.attr('style', \"left: 0; top: 0; z-index: 0; outline: 0\")\n",
       "\n",
       "    this.canvas = canvas[0];\n",
       "    this.context = canvas[0].getContext(\"2d\");\n",
       "\n",
       "    var backingStore = this.context.backingStorePixelRatio ||\n",
       "\tthis.context.webkitBackingStorePixelRatio ||\n",
       "\tthis.context.mozBackingStorePixelRatio ||\n",
       "\tthis.context.msBackingStorePixelRatio ||\n",
       "\tthis.context.oBackingStorePixelRatio ||\n",
       "\tthis.context.backingStorePixelRatio || 1;\n",
       "\n",
       "    mpl.ratio = (window.devicePixelRatio || 1) / backingStore;\n",
       "\n",
       "    var rubberband = $('<canvas/>');\n",
       "    rubberband.attr('style', \"position: absolute; left: 0; top: 0; z-index: 1;\")\n",
       "\n",
       "    var pass_mouse_events = true;\n",
       "\n",
       "    canvas_div.resizable({\n",
       "        start: function(event, ui) {\n",
       "            pass_mouse_events = false;\n",
       "        },\n",
       "        resize: function(event, ui) {\n",
       "            fig.request_resize(ui.size.width, ui.size.height);\n",
       "        },\n",
       "        stop: function(event, ui) {\n",
       "            pass_mouse_events = true;\n",
       "            fig.request_resize(ui.size.width, ui.size.height);\n",
       "        },\n",
       "    });\n",
       "\n",
       "    function mouse_event_fn(event) {\n",
       "        if (pass_mouse_events)\n",
       "            return fig.mouse_event(event, event['data']);\n",
       "    }\n",
       "\n",
       "    rubberband.mousedown('button_press', mouse_event_fn);\n",
       "    rubberband.mouseup('button_release', mouse_event_fn);\n",
       "    // Throttle sequential mouse events to 1 every 20ms.\n",
       "    rubberband.mousemove('motion_notify', mouse_event_fn);\n",
       "\n",
       "    rubberband.mouseenter('figure_enter', mouse_event_fn);\n",
       "    rubberband.mouseleave('figure_leave', mouse_event_fn);\n",
       "\n",
       "    canvas_div.on(\"wheel\", function (event) {\n",
       "        event = event.originalEvent;\n",
       "        event['data'] = 'scroll'\n",
       "        if (event.deltaY < 0) {\n",
       "            event.step = 1;\n",
       "        } else {\n",
       "            event.step = -1;\n",
       "        }\n",
       "        mouse_event_fn(event);\n",
       "    });\n",
       "\n",
       "    canvas_div.append(canvas);\n",
       "    canvas_div.append(rubberband);\n",
       "\n",
       "    this.rubberband = rubberband;\n",
       "    this.rubberband_canvas = rubberband[0];\n",
       "    this.rubberband_context = rubberband[0].getContext(\"2d\");\n",
       "    this.rubberband_context.strokeStyle = \"#000000\";\n",
       "\n",
       "    this._resize_canvas = function(width, height) {\n",
       "        // Keep the size of the canvas, canvas container, and rubber band\n",
       "        // canvas in synch.\n",
       "        canvas_div.css('width', width)\n",
       "        canvas_div.css('height', height)\n",
       "\n",
       "        canvas.attr('width', width * mpl.ratio);\n",
       "        canvas.attr('height', height * mpl.ratio);\n",
       "        canvas.attr('style', 'width: ' + width + 'px; height: ' + height + 'px;');\n",
       "\n",
       "        rubberband.attr('width', width);\n",
       "        rubberband.attr('height', height);\n",
       "    }\n",
       "\n",
       "    // Set the figure to an initial 600x600px, this will subsequently be updated\n",
       "    // upon first draw.\n",
       "    this._resize_canvas(600, 600);\n",
       "\n",
       "    // Disable right mouse context menu.\n",
       "    $(this.rubberband_canvas).bind(\"contextmenu\",function(e){\n",
       "        return false;\n",
       "    });\n",
       "\n",
       "    function set_focus () {\n",
       "        canvas.focus();\n",
       "        canvas_div.focus();\n",
       "    }\n",
       "\n",
       "    window.setTimeout(set_focus, 100);\n",
       "}\n",
       "\n",
       "mpl.figure.prototype._init_toolbar = function() {\n",
       "    var fig = this;\n",
       "\n",
       "    var nav_element = $('<div/>')\n",
       "    nav_element.attr('style', 'width: 100%');\n",
       "    this.root.append(nav_element);\n",
       "\n",
       "    // Define a callback function for later on.\n",
       "    function toolbar_event(event) {\n",
       "        return fig.toolbar_button_onclick(event['data']);\n",
       "    }\n",
       "    function toolbar_mouse_event(event) {\n",
       "        return fig.toolbar_button_onmouseover(event['data']);\n",
       "    }\n",
       "\n",
       "    for(var toolbar_ind in mpl.toolbar_items) {\n",
       "        var name = mpl.toolbar_items[toolbar_ind][0];\n",
       "        var tooltip = mpl.toolbar_items[toolbar_ind][1];\n",
       "        var image = mpl.toolbar_items[toolbar_ind][2];\n",
       "        var method_name = mpl.toolbar_items[toolbar_ind][3];\n",
       "\n",
       "        if (!name) {\n",
       "            // put a spacer in here.\n",
       "            continue;\n",
       "        }\n",
       "        var button = $('<button/>');\n",
       "        button.addClass('ui-button ui-widget ui-state-default ui-corner-all ' +\n",
       "                        'ui-button-icon-only');\n",
       "        button.attr('role', 'button');\n",
       "        button.attr('aria-disabled', 'false');\n",
       "        button.click(method_name, toolbar_event);\n",
       "        button.mouseover(tooltip, toolbar_mouse_event);\n",
       "\n",
       "        var icon_img = $('<span/>');\n",
       "        icon_img.addClass('ui-button-icon-primary ui-icon');\n",
       "        icon_img.addClass(image);\n",
       "        icon_img.addClass('ui-corner-all');\n",
       "\n",
       "        var tooltip_span = $('<span/>');\n",
       "        tooltip_span.addClass('ui-button-text');\n",
       "        tooltip_span.html(tooltip);\n",
       "\n",
       "        button.append(icon_img);\n",
       "        button.append(tooltip_span);\n",
       "\n",
       "        nav_element.append(button);\n",
       "    }\n",
       "\n",
       "    var fmt_picker_span = $('<span/>');\n",
       "\n",
       "    var fmt_picker = $('<select/>');\n",
       "    fmt_picker.addClass('mpl-toolbar-option ui-widget ui-widget-content');\n",
       "    fmt_picker_span.append(fmt_picker);\n",
       "    nav_element.append(fmt_picker_span);\n",
       "    this.format_dropdown = fmt_picker[0];\n",
       "\n",
       "    for (var ind in mpl.extensions) {\n",
       "        var fmt = mpl.extensions[ind];\n",
       "        var option = $(\n",
       "            '<option/>', {selected: fmt === mpl.default_extension}).html(fmt);\n",
       "        fmt_picker.append(option)\n",
       "    }\n",
       "\n",
       "    // Add hover states to the ui-buttons\n",
       "    $( \".ui-button\" ).hover(\n",
       "        function() { $(this).addClass(\"ui-state-hover\");},\n",
       "        function() { $(this).removeClass(\"ui-state-hover\");}\n",
       "    );\n",
       "\n",
       "    var status_bar = $('<span class=\"mpl-message\"/>');\n",
       "    nav_element.append(status_bar);\n",
       "    this.message = status_bar[0];\n",
       "}\n",
       "\n",
       "mpl.figure.prototype.request_resize = function(x_pixels, y_pixels) {\n",
       "    // Request matplotlib to resize the figure. Matplotlib will then trigger a resize in the client,\n",
       "    // which will in turn request a refresh of the image.\n",
       "    this.send_message('resize', {'width': x_pixels, 'height': y_pixels});\n",
       "}\n",
       "\n",
       "mpl.figure.prototype.send_message = function(type, properties) {\n",
       "    properties['type'] = type;\n",
       "    properties['figure_id'] = this.id;\n",
       "    this.ws.send(JSON.stringify(properties));\n",
       "}\n",
       "\n",
       "mpl.figure.prototype.send_draw_message = function() {\n",
       "    if (!this.waiting) {\n",
       "        this.waiting = true;\n",
       "        this.ws.send(JSON.stringify({type: \"draw\", figure_id: this.id}));\n",
       "    }\n",
       "}\n",
       "\n",
       "\n",
       "mpl.figure.prototype.handle_save = function(fig, msg) {\n",
       "    var format_dropdown = fig.format_dropdown;\n",
       "    var format = format_dropdown.options[format_dropdown.selectedIndex].value;\n",
       "    fig.ondownload(fig, format);\n",
       "}\n",
       "\n",
       "\n",
       "mpl.figure.prototype.handle_resize = function(fig, msg) {\n",
       "    var size = msg['size'];\n",
       "    if (size[0] != fig.canvas.width || size[1] != fig.canvas.height) {\n",
       "        fig._resize_canvas(size[0], size[1]);\n",
       "        fig.send_message(\"refresh\", {});\n",
       "    };\n",
       "}\n",
       "\n",
       "mpl.figure.prototype.handle_rubberband = function(fig, msg) {\n",
       "    var x0 = msg['x0'] / mpl.ratio;\n",
       "    var y0 = (fig.canvas.height - msg['y0']) / mpl.ratio;\n",
       "    var x1 = msg['x1'] / mpl.ratio;\n",
       "    var y1 = (fig.canvas.height - msg['y1']) / mpl.ratio;\n",
       "    x0 = Math.floor(x0) + 0.5;\n",
       "    y0 = Math.floor(y0) + 0.5;\n",
       "    x1 = Math.floor(x1) + 0.5;\n",
       "    y1 = Math.floor(y1) + 0.5;\n",
       "    var min_x = Math.min(x0, x1);\n",
       "    var min_y = Math.min(y0, y1);\n",
       "    var width = Math.abs(x1 - x0);\n",
       "    var height = Math.abs(y1 - y0);\n",
       "\n",
       "    fig.rubberband_context.clearRect(\n",
       "        0, 0, fig.canvas.width, fig.canvas.height);\n",
       "\n",
       "    fig.rubberband_context.strokeRect(min_x, min_y, width, height);\n",
       "}\n",
       "\n",
       "mpl.figure.prototype.handle_figure_label = function(fig, msg) {\n",
       "    // Updates the figure title.\n",
       "    fig.header.textContent = msg['label'];\n",
       "}\n",
       "\n",
       "mpl.figure.prototype.handle_cursor = function(fig, msg) {\n",
       "    var cursor = msg['cursor'];\n",
       "    switch(cursor)\n",
       "    {\n",
       "    case 0:\n",
       "        cursor = 'pointer';\n",
       "        break;\n",
       "    case 1:\n",
       "        cursor = 'default';\n",
       "        break;\n",
       "    case 2:\n",
       "        cursor = 'crosshair';\n",
       "        break;\n",
       "    case 3:\n",
       "        cursor = 'move';\n",
       "        break;\n",
       "    }\n",
       "    fig.rubberband_canvas.style.cursor = cursor;\n",
       "}\n",
       "\n",
       "mpl.figure.prototype.handle_message = function(fig, msg) {\n",
       "    fig.message.textContent = msg['message'];\n",
       "}\n",
       "\n",
       "mpl.figure.prototype.handle_draw = function(fig, msg) {\n",
       "    // Request the server to send over a new figure.\n",
       "    fig.send_draw_message();\n",
       "}\n",
       "\n",
       "mpl.figure.prototype.handle_image_mode = function(fig, msg) {\n",
       "    fig.image_mode = msg['mode'];\n",
       "}\n",
       "\n",
       "mpl.figure.prototype.updated_canvas_event = function() {\n",
       "    // Called whenever the canvas gets updated.\n",
       "    this.send_message(\"ack\", {});\n",
       "}\n",
       "\n",
       "// A function to construct a web socket function for onmessage handling.\n",
       "// Called in the figure constructor.\n",
       "mpl.figure.prototype._make_on_message_function = function(fig) {\n",
       "    return function socket_on_message(evt) {\n",
       "        if (evt.data instanceof Blob) {\n",
       "            /* FIXME: We get \"Resource interpreted as Image but\n",
       "             * transferred with MIME type text/plain:\" errors on\n",
       "             * Chrome.  But how to set the MIME type?  It doesn't seem\n",
       "             * to be part of the websocket stream */\n",
       "            evt.data.type = \"image/png\";\n",
       "\n",
       "            /* Free the memory for the previous frames */\n",
       "            if (fig.imageObj.src) {\n",
       "                (window.URL || window.webkitURL).revokeObjectURL(\n",
       "                    fig.imageObj.src);\n",
       "            }\n",
       "\n",
       "            fig.imageObj.src = (window.URL || window.webkitURL).createObjectURL(\n",
       "                evt.data);\n",
       "            fig.updated_canvas_event();\n",
       "            fig.waiting = false;\n",
       "            return;\n",
       "        }\n",
       "        else if (typeof evt.data === 'string' && evt.data.slice(0, 21) == \"data:image/png;base64\") {\n",
       "            fig.imageObj.src = evt.data;\n",
       "            fig.updated_canvas_event();\n",
       "            fig.waiting = false;\n",
       "            return;\n",
       "        }\n",
       "\n",
       "        var msg = JSON.parse(evt.data);\n",
       "        var msg_type = msg['type'];\n",
       "\n",
       "        // Call the  \"handle_{type}\" callback, which takes\n",
       "        // the figure and JSON message as its only arguments.\n",
       "        try {\n",
       "            var callback = fig[\"handle_\" + msg_type];\n",
       "        } catch (e) {\n",
       "            console.log(\"No handler for the '\" + msg_type + \"' message type: \", msg);\n",
       "            return;\n",
       "        }\n",
       "\n",
       "        if (callback) {\n",
       "            try {\n",
       "                // console.log(\"Handling '\" + msg_type + \"' message: \", msg);\n",
       "                callback(fig, msg);\n",
       "            } catch (e) {\n",
       "                console.log(\"Exception inside the 'handler_\" + msg_type + \"' callback:\", e, e.stack, msg);\n",
       "            }\n",
       "        }\n",
       "    };\n",
       "}\n",
       "\n",
       "// from http://stackoverflow.com/questions/1114465/getting-mouse-location-in-canvas\n",
       "mpl.findpos = function(e) {\n",
       "    //this section is from http://www.quirksmode.org/js/events_properties.html\n",
       "    var targ;\n",
       "    if (!e)\n",
       "        e = window.event;\n",
       "    if (e.target)\n",
       "        targ = e.target;\n",
       "    else if (e.srcElement)\n",
       "        targ = e.srcElement;\n",
       "    if (targ.nodeType == 3) // defeat Safari bug\n",
       "        targ = targ.parentNode;\n",
       "\n",
       "    // jQuery normalizes the pageX and pageY\n",
       "    // pageX,Y are the mouse positions relative to the document\n",
       "    // offset() returns the position of the element relative to the document\n",
       "    var x = e.pageX - $(targ).offset().left;\n",
       "    var y = e.pageY - $(targ).offset().top;\n",
       "\n",
       "    return {\"x\": x, \"y\": y};\n",
       "};\n",
       "\n",
       "/*\n",
       " * return a copy of an object with only non-object keys\n",
       " * we need this to avoid circular references\n",
       " * http://stackoverflow.com/a/24161582/3208463\n",
       " */\n",
       "function simpleKeys (original) {\n",
       "  return Object.keys(original).reduce(function (obj, key) {\n",
       "    if (typeof original[key] !== 'object')\n",
       "        obj[key] = original[key]\n",
       "    return obj;\n",
       "  }, {});\n",
       "}\n",
       "\n",
       "mpl.figure.prototype.mouse_event = function(event, name) {\n",
       "    var canvas_pos = mpl.findpos(event)\n",
       "\n",
       "    if (name === 'button_press')\n",
       "    {\n",
       "        this.canvas.focus();\n",
       "        this.canvas_div.focus();\n",
       "    }\n",
       "\n",
       "    var x = canvas_pos.x * mpl.ratio;\n",
       "    var y = canvas_pos.y * mpl.ratio;\n",
       "\n",
       "    this.send_message(name, {x: x, y: y, button: event.button,\n",
       "                             step: event.step,\n",
       "                             guiEvent: simpleKeys(event)});\n",
       "\n",
       "    /* This prevents the web browser from automatically changing to\n",
       "     * the text insertion cursor when the button is pressed.  We want\n",
       "     * to control all of the cursor setting manually through the\n",
       "     * 'cursor' event from matplotlib */\n",
       "    event.preventDefault();\n",
       "    return false;\n",
       "}\n",
       "\n",
       "mpl.figure.prototype._key_event_extra = function(event, name) {\n",
       "    // Handle any extra behaviour associated with a key event\n",
       "}\n",
       "\n",
       "mpl.figure.prototype.key_event = function(event, name) {\n",
       "\n",
       "    // Prevent repeat events\n",
       "    if (name == 'key_press')\n",
       "    {\n",
       "        if (event.which === this._key)\n",
       "            return;\n",
       "        else\n",
       "            this._key = event.which;\n",
       "    }\n",
       "    if (name == 'key_release')\n",
       "        this._key = null;\n",
       "\n",
       "    var value = '';\n",
       "    if (event.ctrlKey && event.which != 17)\n",
       "        value += \"ctrl+\";\n",
       "    if (event.altKey && event.which != 18)\n",
       "        value += \"alt+\";\n",
       "    if (event.shiftKey && event.which != 16)\n",
       "        value += \"shift+\";\n",
       "\n",
       "    value += 'k';\n",
       "    value += event.which.toString();\n",
       "\n",
       "    this._key_event_extra(event, name);\n",
       "\n",
       "    this.send_message(name, {key: value,\n",
       "                             guiEvent: simpleKeys(event)});\n",
       "    return false;\n",
       "}\n",
       "\n",
       "mpl.figure.prototype.toolbar_button_onclick = function(name) {\n",
       "    if (name == 'download') {\n",
       "        this.handle_save(this, null);\n",
       "    } else {\n",
       "        this.send_message(\"toolbar_button\", {name: name});\n",
       "    }\n",
       "};\n",
       "\n",
       "mpl.figure.prototype.toolbar_button_onmouseover = function(tooltip) {\n",
       "    this.message.textContent = tooltip;\n",
       "};\n",
       "mpl.toolbar_items = [[\"Home\", \"Reset original view\", \"fa fa-home icon-home\", \"home\"], [\"Back\", \"Back to  previous view\", \"fa fa-arrow-left icon-arrow-left\", \"back\"], [\"Forward\", \"Forward to next view\", \"fa fa-arrow-right icon-arrow-right\", \"forward\"], [\"\", \"\", \"\", \"\"], [\"Pan\", \"Pan axes with left mouse, zoom with right\", \"fa fa-arrows icon-move\", \"pan\"], [\"Zoom\", \"Zoom to rectangle\", \"fa fa-square-o icon-check-empty\", \"zoom\"], [\"\", \"\", \"\", \"\"], [\"Download\", \"Download plot\", \"fa fa-floppy-o icon-save\", \"download\"]];\n",
       "\n",
       "mpl.extensions = [\"eps\", \"jpeg\", \"pdf\", \"png\", \"ps\", \"raw\", \"svg\", \"tif\"];\n",
       "\n",
       "mpl.default_extension = \"png\";var comm_websocket_adapter = function(comm) {\n",
       "    // Create a \"websocket\"-like object which calls the given IPython comm\n",
       "    // object with the appropriate methods. Currently this is a non binary\n",
       "    // socket, so there is still some room for performance tuning.\n",
       "    var ws = {};\n",
       "\n",
       "    ws.close = function() {\n",
       "        comm.close()\n",
       "    };\n",
       "    ws.send = function(m) {\n",
       "        //console.log('sending', m);\n",
       "        comm.send(m);\n",
       "    };\n",
       "    // Register the callback with on_msg.\n",
       "    comm.on_msg(function(msg) {\n",
       "        //console.log('receiving', msg['content']['data'], msg);\n",
       "        // Pass the mpl event to the overridden (by mpl) onmessage function.\n",
       "        ws.onmessage(msg['content']['data'])\n",
       "    });\n",
       "    return ws;\n",
       "}\n",
       "\n",
       "mpl.mpl_figure_comm = function(comm, msg) {\n",
       "    // This is the function which gets called when the mpl process\n",
       "    // starts-up an IPython Comm through the \"matplotlib\" channel.\n",
       "\n",
       "    var id = msg.content.data.id;\n",
       "    // Get hold of the div created by the display call when the Comm\n",
       "    // socket was opened in Python.\n",
       "    var element = $(\"#\" + id);\n",
       "    var ws_proxy = comm_websocket_adapter(comm)\n",
       "\n",
       "    function ondownload(figure, format) {\n",
       "        window.open(figure.imageObj.src);\n",
       "    }\n",
       "\n",
       "    var fig = new mpl.figure(id, ws_proxy,\n",
       "                           ondownload,\n",
       "                           element.get(0));\n",
       "\n",
       "    // Call onopen now - mpl needs it, as it is assuming we've passed it a real\n",
       "    // web socket which is closed, not our websocket->open comm proxy.\n",
       "    ws_proxy.onopen();\n",
       "\n",
       "    fig.parent_element = element.get(0);\n",
       "    fig.cell_info = mpl.find_output_cell(\"<div id='\" + id + \"'></div>\");\n",
       "    if (!fig.cell_info) {\n",
       "        console.error(\"Failed to find cell for figure\", id, fig);\n",
       "        return;\n",
       "    }\n",
       "\n",
       "    var output_index = fig.cell_info[2]\n",
       "    var cell = fig.cell_info[0];\n",
       "\n",
       "};\n",
       "\n",
       "mpl.figure.prototype.handle_close = function(fig, msg) {\n",
       "    var width = fig.canvas.width/mpl.ratio\n",
       "    fig.root.unbind('remove')\n",
       "\n",
       "    // Update the output cell to use the data from the current canvas.\n",
       "    fig.push_to_output();\n",
       "    var dataURL = fig.canvas.toDataURL();\n",
       "    // Re-enable the keyboard manager in IPython - without this line, in FF,\n",
       "    // the notebook keyboard shortcuts fail.\n",
       "    IPython.keyboard_manager.enable()\n",
       "    $(fig.parent_element).html('<img src=\"' + dataURL + '\" width=\"' + width + '\">');\n",
       "    fig.close_ws(fig, msg);\n",
       "}\n",
       "\n",
       "mpl.figure.prototype.close_ws = function(fig, msg){\n",
       "    fig.send_message('closing', msg);\n",
       "    // fig.ws.close()\n",
       "}\n",
       "\n",
       "mpl.figure.prototype.push_to_output = function(remove_interactive) {\n",
       "    // Turn the data on the canvas into data in the output cell.\n",
       "    var width = this.canvas.width/mpl.ratio\n",
       "    var dataURL = this.canvas.toDataURL();\n",
       "    this.cell_info[1]['text/html'] = '<img src=\"' + dataURL + '\" width=\"' + width + '\">';\n",
       "}\n",
       "\n",
       "mpl.figure.prototype.updated_canvas_event = function() {\n",
       "    // Tell IPython that the notebook contents must change.\n",
       "    IPython.notebook.set_dirty(true);\n",
       "    this.send_message(\"ack\", {});\n",
       "    var fig = this;\n",
       "    // Wait a second, then push the new image to the DOM so\n",
       "    // that it is saved nicely (might be nice to debounce this).\n",
       "    setTimeout(function () { fig.push_to_output() }, 1000);\n",
       "}\n",
       "\n",
       "mpl.figure.prototype._init_toolbar = function() {\n",
       "    var fig = this;\n",
       "\n",
       "    var nav_element = $('<div/>')\n",
       "    nav_element.attr('style', 'width: 100%');\n",
       "    this.root.append(nav_element);\n",
       "\n",
       "    // Define a callback function for later on.\n",
       "    function toolbar_event(event) {\n",
       "        return fig.toolbar_button_onclick(event['data']);\n",
       "    }\n",
       "    function toolbar_mouse_event(event) {\n",
       "        return fig.toolbar_button_onmouseover(event['data']);\n",
       "    }\n",
       "\n",
       "    for(var toolbar_ind in mpl.toolbar_items){\n",
       "        var name = mpl.toolbar_items[toolbar_ind][0];\n",
       "        var tooltip = mpl.toolbar_items[toolbar_ind][1];\n",
       "        var image = mpl.toolbar_items[toolbar_ind][2];\n",
       "        var method_name = mpl.toolbar_items[toolbar_ind][3];\n",
       "\n",
       "        if (!name) { continue; };\n",
       "\n",
       "        var button = $('<button class=\"btn btn-default\" href=\"#\" title=\"' + name + '\"><i class=\"fa ' + image + ' fa-lg\"></i></button>');\n",
       "        button.click(method_name, toolbar_event);\n",
       "        button.mouseover(tooltip, toolbar_mouse_event);\n",
       "        nav_element.append(button);\n",
       "    }\n",
       "\n",
       "    // Add the status bar.\n",
       "    var status_bar = $('<span class=\"mpl-message\" style=\"text-align:right; float: right;\"/>');\n",
       "    nav_element.append(status_bar);\n",
       "    this.message = status_bar[0];\n",
       "\n",
       "    // Add the close button to the window.\n",
       "    var buttongrp = $('<div class=\"btn-group inline pull-right\"></div>');\n",
       "    var button = $('<button class=\"btn btn-mini btn-primary\" href=\"#\" title=\"Stop Interaction\"><i class=\"fa fa-power-off icon-remove icon-large\"></i></button>');\n",
       "    button.click(function (evt) { fig.handle_close(fig, {}); } );\n",
       "    button.mouseover('Stop Interaction', toolbar_mouse_event);\n",
       "    buttongrp.append(button);\n",
       "    var titlebar = this.root.find($('.ui-dialog-titlebar'));\n",
       "    titlebar.prepend(buttongrp);\n",
       "}\n",
       "\n",
       "mpl.figure.prototype._root_extra_style = function(el){\n",
       "    var fig = this\n",
       "    el.on(\"remove\", function(){\n",
       "\tfig.close_ws(fig, {});\n",
       "    });\n",
       "}\n",
       "\n",
       "mpl.figure.prototype._canvas_extra_style = function(el){\n",
       "    // this is important to make the div 'focusable\n",
       "    el.attr('tabindex', 0)\n",
       "    // reach out to IPython and tell the keyboard manager to turn it's self\n",
       "    // off when our div gets focus\n",
       "\n",
       "    // location in version 3\n",
       "    if (IPython.notebook.keyboard_manager) {\n",
       "        IPython.notebook.keyboard_manager.register_events(el);\n",
       "    }\n",
       "    else {\n",
       "        // location in version 2\n",
       "        IPython.keyboard_manager.register_events(el);\n",
       "    }\n",
       "\n",
       "}\n",
       "\n",
       "mpl.figure.prototype._key_event_extra = function(event, name) {\n",
       "    var manager = IPython.notebook.keyboard_manager;\n",
       "    if (!manager)\n",
       "        manager = IPython.keyboard_manager;\n",
       "\n",
       "    // Check for shift+enter\n",
       "    if (event.shiftKey && event.which == 13) {\n",
       "        this.canvas_div.blur();\n",
       "        event.shiftKey = false;\n",
       "        // Send a \"J\" for go to next cell\n",
       "        event.which = 74;\n",
       "        event.keyCode = 74;\n",
       "        manager.command_mode();\n",
       "        manager.handle_keydown(event);\n",
       "    }\n",
       "}\n",
       "\n",
       "mpl.figure.prototype.handle_save = function(fig, msg) {\n",
       "    fig.ondownload(fig, null);\n",
       "}\n",
       "\n",
       "\n",
       "mpl.find_output_cell = function(html_output) {\n",
       "    // Return the cell and output element which can be found *uniquely* in the notebook.\n",
       "    // Note - this is a bit hacky, but it is done because the \"notebook_saving.Notebook\"\n",
       "    // IPython event is triggered only after the cells have been serialised, which for\n",
       "    // our purposes (turning an active figure into a static one), is too late.\n",
       "    var cells = IPython.notebook.get_cells();\n",
       "    var ncells = cells.length;\n",
       "    for (var i=0; i<ncells; i++) {\n",
       "        var cell = cells[i];\n",
       "        if (cell.cell_type === 'code'){\n",
       "            for (var j=0; j<cell.output_area.outputs.length; j++) {\n",
       "                var data = cell.output_area.outputs[j];\n",
       "                if (data.data) {\n",
       "                    // IPython >= 3 moved mimebundle to data attribute of output\n",
       "                    data = data.data;\n",
       "                }\n",
       "                if (data['text/html'] == html_output) {\n",
       "                    return [cell, data, j];\n",
       "                }\n",
       "            }\n",
       "        }\n",
       "    }\n",
       "}\n",
       "\n",
       "// Register the function which deals with the matplotlib target/channel.\n",
       "// The kernel may be null if the page has been refreshed.\n",
       "if (IPython.notebook.kernel != null) {\n",
       "    IPython.notebook.kernel.comm_manager.register_target('matplotlib', mpl.mpl_figure_comm);\n",
       "}\n"
      ],
      "text/plain": [
       "<IPython.core.display.Javascript object>"
      ]
     },
     "metadata": {},
     "output_type": "display_data"
    },
    {
     "data": {
      "text/html": [
       "<img src=\"data:image/png;base64,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\" width=\"720\">"
      ],
      "text/plain": [
       "<IPython.core.display.HTML object>"
      ]
     },
     "metadata": {},
     "output_type": "display_data"
    }
   ],
   "source": [
    "timestamps_list = sorted(list(timestamps))\n",
    "kickoff_time_ind = np.argmin(np.abs(np.subtract(timestamps_list, kickoff_time)))\n",
    "kickoff_time_matched = timestamps_list[kickoff_time_ind]\n",
    "print(kickoff_time, kickoff_time_matched)\n",
    "\n",
    "%matplotlib notebook\n",
    "\n",
    "fig = plt.figure(figsize=(10,6))\n",
    "ax = fig.add_subplot(1, 1, 1)\n",
    "left, = plt.plot([], '*r')\n",
    "right, = plt.plot([], '*r')\n",
    "\n",
    "left_b, = plt.plot([], 'ob')\n",
    "right_b, = plt.plot([], 'ob')\n",
    "\n",
    "plt.xlim([0, 105])\n",
    "plt.ylim([0, 68])\n",
    "\n",
    "def update(ts=kickoff_time_matched):\n",
    "    if ts in detections['players']['left']:\n",
    "        left.set_ydata(detections['players']['left'][ts][:, 1])\n",
    "        left.set_xdata(detections['players']['left'][ts][:, 0])\n",
    "    else:\n",
    "        left.set_ydata([])\n",
    "        left.set_xdata([])\n",
    "        \n",
    "    if ts in detections['players']['right']:\n",
    "        right.set_ydata(detections['players']['right'][ts][:, 1])\n",
    "        right.set_xdata(detections['players']['right'][ts][:, 0])\n",
    "    else:\n",
    "        right.set_ydata([])\n",
    "        right.set_xdata([])\n",
    "\n",
    "    if ts in detections['ball']['left'] and len(detections['ball']['left'][ts]):\n",
    "        left_b.set_ydata(detections['ball']['left'][ts][:, 1])\n",
    "        left_b.set_xdata(detections['ball']['left'][ts][:, 0])\n",
    "    else:\n",
    "        left_b.set_ydata([])\n",
    "        left_b.set_xdata([])        \n",
    "    if ts in detections['ball']['right'] and len(detections['ball']['right'][ts]):\n",
    "        right_b.set_ydata(detections['ball']['right'][ts][:, 1])\n",
    "        right_b.set_xdata(detections['ball']['right'][ts][:, 0])\n",
    "    else:\n",
    "        right_b.set_ydata([])\n",
    "        right_b.set_xdata([])\n",
    "    \n",
    "    \n",
    "wid = widgets.SelectionSlider(\n",
    "    options=timestamps_list,\n",
    "    value=kickoff_time_matched,\n",
    "    continuous_update=True,\n",
    "    orientation='horizontal',\n",
    "    readout=True\n",
    ")\n",
    "    \n",
    "interact(update, ts = wid);"
   ]
  },
  {
   "cell_type": "code",
   "execution_count": 82,
   "metadata": {},
   "outputs": [],
   "source": [
    "# {'id': 'd1a98e08-0f21-46fe-8457-01ff183ddbeb', 'calibration': {'views': ['left', 'right'], 'reference_landmarks': {'object': 'calibrations/tele2_landmarks.json', 'bucket': 'signality.ironfist.models'}}, 'replay_urls': ['//liveplay.signality.com/data/d1a98e08-0f21-46fe-8457-01ff183ddbeb_phase1.data', '//liveplay.signality.com/data/d1a98e08-0f21-46fe-8457-01ff183ddbeb_phase2.data'], 'camera_mode': 'static', 'away_team': {'colors': {'team': '#000000', 'goalkeeper': '#ffff00'}, 'logo_url': 'http://images.signality.com/team-logos/orebro.png', 'name': 'Örebro SK'}, 'phase_events': [{'type': 'start_phase', 'ts': datetime.datetime(2018, 5, 17, 17, 0, 2, 362000, tzinfo=<rethinkdb.ast.RqlTzinfo object at 0x7f4d1c61e4e0>), 'kickoff_team_id': 12, 'phase': 1}, {'type': 'end_phase', 'ts': datetime.datetime(2018, 5, 17, 17, 47, 7, 92000, tzinfo=<rethinkdb.ast.RqlTzinfo object at 0x7f4d1c61e518>), 'phase': 1}, {'type': 'start_phase', 'ts': datetime.datetime(2018, 5, 17, 18, 4, 2, 891000, tzinfo=<rethinkdb.ast.RqlTzinfo object at 0x7f4d1c61e630>), 'kickoff_team_id': 11, 'phase': 2}, {'type': 'end_phase', 'ts': datetime.datetime(2018, 5, 17, 18, 52, 6, 565000, tzinfo=<rethinkdb.ast.RqlTzinfo object at 0x7f4d1c61e6a0>), 'phase': 2}], 'start_time': datetime.datetime(2018, 5, 17, 19, 0, tzinfo=<rethinkdb.ast.RqlTzinfo object at 0x7f4d1c61e780>), 'state': 'Destroyed', 'external_data': {'smc': {'match_id': 3704, 'home_team_id': 11, 'league_id': 12, 'away_team_id': 12}}, 'streams': {'left': {'url': 'https://d35u71x3nb8v2y.cloudfront.net/f75295bb-c143-4472-a151-d849f9916e75/ca074983-09a2-451f-8730-90efa6701dc8/playlist.m3u8', 'utc': datetime.datetime(2018, 5, 17, 16, 45, 41, 197000, tzinfo=<rethinkdb.ast.RqlTzinfo object at 0x7f4d1c61e9e8>)}, 'autofollow_render_segments': {'url': 'https://d35u71x3nb8v2y.cloudfront.net/f75295bb-c143-4472-a151-d849f9916e75/d890161e-59fa-4f39-9758-b9d5b10357af/playlist.m3u8', 'utc': datetime.datetime(2018, 5, 17, 16, 45, 41, 197000, tzinfo=<rethinkdb.ast.RqlTzinfo object at 0x7f4d1c61e9b0>)}, 'virtual_panorama_segments': {'url': 'https://d35u71x3nb8v2y.cloudfront.net/f75295bb-c143-4472-a151-d849f9916e75/b5e093f3-f8e7-4643-a87a-d9a76256a735/playlist.m3u8', 'utc': datetime.datetime(2018, 5, 17, 16, 45, 41, 197000, tzinfo=<rethinkdb.ast.RqlTzinfo object at 0x7f4d1c61ec88>)}, 'goal_south_segments': {'url': 'https://d35u71x3nb8v2y.cloudfront.net/f75295bb-c143-4472-a151-d849f9916e75/c841f705-de34-4428-b56e-7c9803ab4eca/playlist.m3u8', 'utc': datetime.datetime(2018, 5, 17, 16, 45, 41, 143000, tzinfo=<rethinkdb.ast.RqlTzinfo object at 0x7f4d1c61eac8>)}, 'right': {'url': 'https://d35u71x3nb8v2y.cloudfront.net/f75295bb-c143-4472-a151-d849f9916e75/d8112841-7cf8-48ae-89ce-f327c282916c/playlist.m3u8', 'utc': datetime.datetime(2018, 5, 17, 16, 45, 41, 124000, tzinfo=<rethinkdb.ast.RqlTzinfo object at 0x7f4d1c61ea20>)}, 'goal_north_segments': {'url': 'https://d35u71x3nb8v2y.cloudfront.net/f75295bb-c143-4472-a151-d849f9916e75/9a7b8e83-dbc0-436b-a116-7f8d085057c2/playlist.m3u8', 'utc': datetime.datetime(2018, 5, 17, 16, 45, 41, 141000, tzinfo=<rethinkdb.ast.RqlTzinfo object at 0x7f4d1c61ea58>)}}, 'pitch_size': [105, 68], 'home_team': {'colors': {'team': '#5a9dde', 'goalkeeper': '#ffffff'}, 'logo_url': 'http://images.signality.com/team-logos/djurgarden.png', 'name': 'Djurgårdens IF'}, 'referees': {'colors': '#000000'}, 'competition': 'Allsvenskan', 'redis': {'host': 'redis', 'port': 6379}, 'rethinkdb': {'host': 'db.signality.com', 'user': 'game_viewer', 'db': 'livetrack', 'ssl': {'ca_certs': '/home/ubuntu/workspace/ironfist/ironfist/utils/../applications/livetrack/config/db.signality.cert.pem'}, 'password': 'MmPHrqmXaVeu', 'port': 28015}, 'nchan': {'url': 'http://nchan:8080'}, 'arena': 'Tele2 Arena', 'stats': [{'home_team': {'failed_passes': 163, 'possessing_team': 0, 'passes': 181, 'distance': 62777.64480394193, 'possession': 25067, 'packing': 260}, 'source': 'signality', 'phase': 1, 'away_team': {'failed_passes': 163, 'possessing_team': 1, 'passes': 191, 'distance': 60097.76136929008, 'possession': 23934, 'packing': 252}, 'utc_time': 1526579225125, 'match_time': 2822763}, {'home_team': {'failed_passes': 157, 'possessing_team': 0, 'passes': 147, 'distance': 62576.815733754884, 'possession': 20009, 'packing': 196}, 'source': 'signality', 'phase': 2, 'away_team': {'failed_passes': 158, 'possessing_team': 1, 'passes': 206, 'distance': 57684.92804763888, 'possession': 28384, 'packing': 240}, 'utc_time': 1526583124565, 'match_time': 2881674}], 'video_shape': [2160, 3840, 3], 'rdb': [{'key': '20180517.djurgårdens-if-örebro-sk.2.rdb', 'bucket': 'signality.soccer.backup', 'phase': 2}]}"
   ]
  },
  {
   "cell_type": "code",
   "execution_count": 12,
   "metadata": {},
   "outputs": [],
   "source": [
    "def select_time(time_list,detections):\n",
    "    l=list()\n",
    "    truth_list=list()\n",
    "    for i in range(len(time_list)):\n",
    "        truth_list.append(True)\n",
    "        if time_list[i] in detections['players']['left'] and time_list[i] in detections['players']['right']:\n",
    "            l.append([time_list[i],time_list[i]])\n",
    "            truth_list[i]=False\n",
    "        if i>0:\n",
    "            if time_list[i-1] in detections['players']['left'] and time_list[i] in detections['players']['right'] and truth_list[i] and truth_list[i-1] and time_list[i]-time_list[i-1]<=20:\n",
    "                l.append([time_list[i-1],time_list[i]])\n",
    "                truth_list[i]=False\n",
    "            if time_list[i] in detections['players']['left'] and time_list[i-1] in detections['players']['right'] and truth_list[i] and truth_list[i-1] and time_list[i]-time_list[i-1]<=20:\n",
    "                l.append([time_list[i],time_list[i-1]])\n",
    "                truth_list[i]=False\n",
    "    return l\n",
    "\n",
    "l=select_time(timestamps_list,detections)"
   ]
  },
  {
   "cell_type": "code",
   "execution_count": 13,
   "metadata": {},
   "outputs": [],
   "source": [
    "def players_grid(pitch_size,players):\n",
    "    grid=[0 for i in range(32)]\n",
    "    length=pitch_size[0]\n",
    "    width=pitch_size[1]\n",
    "    length_edge=length/8\n",
    "    width_edge=width/4\n",
    "    for i in range(len(players)):\n",
    "        k=0\n",
    "        j=0\n",
    "        if players[i][0]<=length and players[i][1]<=width and players[i][0]>=0 and players[i][1]>=0 :\n",
    "            while players[i][0]>(k+1)*length_edge:\n",
    "                k+=1\n",
    "            while players[i][1]>(j+1)*width_edge:\n",
    "                j+=1\n",
    "            grid[8*j+k]+=1\n",
    "    return grid\n",
    "\n",
    "def ball_grid(pitch_size,ball):\n",
    "    grid=[0 for i in range(35)]\n",
    "    length=pitch_size[0]\n",
    "    width=pitch_size[1]\n",
    "    length_edge=length/7\n",
    "    width_edge=width/5\n",
    "    for i in range(len(ball)):\n",
    "        k=0\n",
    "        j=0\n",
    "        if ball[i][0]<=length and ball[i][1]<=width and ball[i][0]>=0 and ball[i][1]>=0:\n",
    "            while ball[i][0]>(k+1)*length_edge:\n",
    "                k+=1\n",
    "            while ball[i][1]>(j+1)*width_edge:\n",
    "                j+=1\n",
    "            grid[7*j+k]+=1\n",
    "    return grid"
   ]
  },
  {
   "cell_type": "code",
   "execution_count": 14,
   "metadata": {},
   "outputs": [],
   "source": [
    "def pitch_composition_t(time,detections,pitch_size):\n",
    "    compo=list()\n",
    "    if isinstance(detections['ball']['left'][time[0]],list):\n",
    "        compo=compo+ball_grid(pitch_size,detections['ball']['left'][time[0]])\n",
    "    if isinstance(detections['ball']['left'][time[0]],np.ndarray):\n",
    "        compo=compo+ball_grid(pitch_size,detections['ball']['left'][time[0]].tolist())\n",
    "        \n",
    "    if isinstance(detections['ball']['right'][time[1]],list):\n",
    "        compo=compo+ball_grid(pitch_size,detections['ball']['right'][time[1]])\n",
    "    if isinstance(detections['ball']['right'][time[1]],np.ndarray):\n",
    "        compo=compo+ball_grid(pitch_size,detections['ball']['right'][time[1]].tolist())\n",
    "    \n",
    "    if isinstance(detections['players']['left'][time[0]],list):\n",
    "        compo=compo+players_grid(pitch_size,detections['players']['left'][time[0]])\n",
    "    if isinstance(detections['players']['left'][time[0]],np.ndarray):\n",
    "        compo=compo+players_grid(pitch_size,detections['players']['left'][time[0]].tolist())\n",
    "        \n",
    "    if isinstance(detections['players']['right'][time[1]],list):\n",
    "        compo=compo+players_grid(pitch_size,detections['players']['right'][time[1]])\n",
    "    if isinstance(detections['players']['right'][time[1]],np.ndarray):\n",
    "        compo=compo+players_grid(pitch_size,detections['players']['right'][time[1]].tolist())\n",
    "    return compo\n",
    "    \n",
    "def pitch_composition(time_list,detections,pitch_size):\n",
    "    l=select_time(time_list,detections)\n",
    "    seq=list()\n",
    "    for i in range(len(l)):\n",
    "        seq.append(pitch_composition_t(l[i],detections,pitch_size))\n",
    "    return seq\n"
   ]
  },
  {
   "cell_type": "code",
   "execution_count": 151,
   "metadata": {},
   "outputs": [],
   "source": [
    "def movement_sequences(inputs,outputs,regression_output=[]):\n",
    "    inputs=np.array(inputs)\n",
    "    new_inputs=list()\n",
    "    new_outputs=list()\n",
    "    new_regression_output=list()\n",
    "    for i in range(len(outputs)-2):\n",
    "        new_inputs.append(inputs[i+1].tolist()+(inputs[i+2]-inputs[i]).tolist()) #+(inputs[i+1]-inputs[i]).tolist())\n",
    "        new_outputs.append(outputs[i+1])\n",
    "        if len(regression_output)>0:\n",
    "            new_regression_output.append(regression_output[i+1])\n",
    "    if len(regression_output)>0:\n",
    "        return new_inputs,new_outputs,new_regression_output\n",
    "    return new_inputs,new_outputs\n",
    "\n",
    "def sequence_composition(time_list,detections,pitch_size,size_sequence,diminish_size):\n",
    "    sequences=list()\n",
    "    pitch_compo=pitch_composition(time_list,detections,pitch_size)\n",
    "    for i in range(0,len(pitch_compo)-size_sequence+1,diminish_size):\n",
    "        seq_t=list()\n",
    "        for j in range(0,size_sequence,diminish_size):\n",
    "            seq_t=seq_t+pitch_compo[i+j]\n",
    "        sequences.append(seq_t)\n",
    "    return sequences\n",
    "\n"
   ]
  },
  {
   "cell_type": "code",
   "execution_count": 33,
   "metadata": {},
   "outputs": [],
   "source": [
    "def labels_seq_regression(time_list,detections,pitch_size,diminish_size,kickoff_time):\n",
    "    l=select_time(time_list,detections)\n",
    "    y=list()\n",
    "    for i in range(0,len(l)-diminish_size+1):\n",
    "        if l[i][0]<=kickoff_time and kickoff_time<=l[i+diminish_size-1][0]:\n",
    "            y.append(1)\n",
    "        else:\n",
    "            y.append(0)\n",
    "    return y\n",
    "\n",
    "def labels_regression(time_list,detections,pitch_size,size_sequence,diminish_size,kickoff_time):\n",
    "    label_seq=labels_seq_regression(time_list,detections,pitch_size,diminish_size,kickoff_time)\n",
    "    sequences=list()\n",
    "    for i in range(0,len(label_seq)-size_sequence+1,diminish_size):\n",
    "        seq_t=list()\n",
    "        for j in range(0,size_sequence,diminish_size):\n",
    "            seq_t.append(label_seq[i+j])\n",
    "        sequences.append(seq_t)\n",
    "    return sequences\n",
    "\n",
    "def select_kickoff_sequences(time_list,detections,pitch_size,size_sequence,diminish_size,kickoff_time):\n",
    "    X=sequence_composition(time_list,detections,pitch_size,size_sequence,diminish_size)\n",
    "    Y=labels(time_list,detections,pitch_size,size_sequence,diminish_size,kickoff_time)\n",
    "    y=labels_regression(time_list,detections,pitch_size,size_sequence,diminish_size,kickoff_time)\n",
    "    X,Y,y=movement_sequences(X,Y,y)\n",
    "    new_X=list()\n",
    "    new_y=list()\n",
    "    if Y.count(1)>0:\n",
    "        print(len(y),len(X))\n",
    "        print(Y.index(1))\n",
    "        print(Y.count(1))\n",
    "        new_y=y[Y.index(1):Y.index(1)+Y.count(1)]\n",
    "        new_X=X[Y.index(1):Y.index(1)+Y.count(1)]\n",
    "    return new_X,new_y\n",
    "    \n",
    "def detect_kickofftime(outputs):\n",
    "    new_outputs=list()\n",
    "    for i in range(len(outputs)):\n",
    "        new_outputs.append(len(outputs[i])-1-outputs[i].index(1))\n",
    "    return new_outputs\n",
    "\n"
   ]
  },
  {
   "cell_type": "code",
   "execution_count": 34,
   "metadata": {},
   "outputs": [
    {
     "name": "stdout",
     "output_type": "stream",
     "text": [
      "17\n"
     ]
    },
    {
     "data": {
      "text/plain": [
       "279"
      ]
     },
     "execution_count": 34,
     "metadata": {},
     "output_type": "execute_result"
    }
   ],
   "source": [
    "def labels(time_list,detections,pitch_size,size_sequence,diminish_size,kickoff_time):\n",
    "    l=select_time(time_list,detections)\n",
    "    y=list()\n",
    "    for i in range(0,len(l)-size_sequence+1,diminish_size):\n",
    "        if max(l[i][0],l[i][1])+1500<=kickoff_time and kickoff_time+2000<=min(l[i+size_sequence-1][0],l[i+size_sequence-1][1]):\n",
    "            y.append(1)\n",
    "        else:\n",
    "            y.append(-1)\n",
    "    return y\n",
    "\n",
    "def reduce_size(X,Y,reduc_size):\n",
    "    compteur=0\n",
    "    new_X=list()\n",
    "    new_Y=list()\n",
    "    for i in range(len(X)):\n",
    "        if Y[i]==1:\n",
    "            new_Y.append(1)\n",
    "            new_X.append(X[i])\n",
    "            compteur=0\n",
    "        if Y[i]==-1:\n",
    "            compteur+=1\n",
    "        if compteur>=reduc_size:\n",
    "            compteur=0\n",
    "            new_Y.append(Y[i])\n",
    "            new_X.append(X[i])\n",
    "    return new_X,new_Y\n",
    "X=sequence_composition(timestamps_list,detections,pitch_size,500,25)\n",
    "Y=labels(timestamps_list,detections,pitch_size,500,25,kickoff_time_matched)\n",
    "print(Y.count(1))\n",
    "#X,Y=movement_sequences(X,Y)\n",
    "#X,Y=reduce_size(X,Y,10)\n",
    "Y.index(1)\n"
   ]
  },
  {
   "cell_type": "code",
   "execution_count": 122,
   "metadata": {},
   "outputs": [],
   "source": [
    "import pickle\n",
    "import glob"
   ]
  },
  {
   "cell_type": "code",
   "execution_count": 175,
   "metadata": {},
   "outputs": [],
   "source": [
    "import datetime \n",
    "\n",
    "wrong_kickofftimes=dict()\n",
    "wrong_kickofftimes['../kickoff-data-corrected/2dc12819-d486-4925-a0e2-b8ae9ff1aed5.1']=1523192632495\n",
    "wrong_kickofftimes['../kickoff-data-corrected/ba34fc2e-bdba-40d8-8cc8-a679c6eecd5a.1']=1522596661071\n",
    "wrong_kickofftimes['../kickoff-data-corrected/314f4989-398c-45a3-a74f-9f1adac71bf1.2']=1522591362762\n",
    "wrong_kickofftimes['../kickoff-data-corrected/2739587b-312a-4d40-ba1a-9b5e3ebf5c9c.2']=1527429926306\n",
    "wrong_kickofftimes['../kickoff-data-corrected/0d9e9e30-9d13-4af0-8e41-fe1669e9eeff.2']=1523196154797\n",
    "wrong_kickofftimes['../kickoff-data-corrected/0d9e9e30-9d13-4af0-8e41-fe1669e9eeff.1']=1523192430151\n",
    "wrong_kickofftimes['../kickoff-data-corrected/84e8b33c-d912-495e-9e21-84bdd18e0e04.1']=1523638800979\n",
    "wrong_kickofftimes['../kickoff-data-corrected/57bf9b24-5c68-464f-9e74-20d0b2508bba.2']=1524074584895\n",
    "wrong_kickofftimes['../kickoff-data-corrected/a185c6c8-7383-4d19-927f-dc8f70726c34.1']=1523898096817\n",
    "\n",
    "def correct_kickoff_time(name_file,right_kickoff_time,phase):\n",
    "    jsonFile = open(name_file, \"r\") # Open the JSON file for reading\n",
    "    config = json.load(jsonFile) # Read the JSON into the buffer\n",
    "    k=[i for i in range(4) if config['phase_events'][i]['type'] == 'start_phase' and config['phase_events'][i]['phase'] == int(phase)][0]\n",
    "    jsonFile.close() # Close the JSON file\n",
    "\n",
    "    ## Working with buffered content\n",
    "    tmp = config[\"phase_events\"][k][\"ts\"]\n",
    "    config[\"phase_events\"][k][\"ts\"]=datetime.datetime.fromtimestamp(right_kickoff_time/1000).isoformat()\n",
    "    print(\"Json file edited\")\n",
    "\n",
    "    ## Save our changes to JSON file\n",
    "    jsonFile = open(name_file, \"w+\")\n",
    "    jsonFile.write(json.dumps(config))\n",
    "    jsonFile.close()\n",
    "    \n",
    "def correct_json_files(name_file_rdb):\n",
    "    if name_file_rdb in wrong_kickofftimes.keys():\n",
    "        name_file_json=('..{}.json'.format(name_file_rdb.split('.')[-2]))\n",
    "        phase=name_file_rdb.split('.')[-1]\n",
    "        correct_kickoff_time(name_file_json,wrong_kickofftimes[name_file_rdb],phase)"
   ]
  },
  {
   "cell_type": "code",
   "execution_count": 178,
   "metadata": {},
   "outputs": [],
   "source": [
    "def create_dataset(file_name,reduc_size,problem=\"classification\"):\n",
    "    compteur=0\n",
    "    path_to_rdbs = '../kickoff-data-corrected/*.rdb'\n",
    "    for rdb_file in glob.glob(path_to_rdbs):\n",
    "        #Edit json file\n",
    "        game_half = rdb_file.rstrip('.kickoff.rdb')\n",
    "        phase = game_half.split('.')[-1]\n",
    "        correct_json_files(game_half)\n",
    "        \n",
    "        #Import correct data\n",
    "        tracks = parse_dump_file('{}.kickoff.rdb'.format(game_half))\n",
    "        config = json.load(open('..{}.json'.format(game_half.split('.')[-2]), 'r'))\n",
    "        print('..{}.json'.format(game_half.split('.')[-2]))\n",
    "        print(config['phase_events'])\n",
    "        kickoff_1 = [p_e['ts'] for p_e in config['phase_events'] if p_e['type'] == 'start_phase' and p_e['phase'] == int(phase)][0]\n",
    "        kickoff_time = int(parse(kickoff_1).timestamp()*1000)\n",
    "        print(kickoff_time)\n",
    "        pitch_size=config['pitch_size']\n",
    "        detections = {'ball':{'left':{}, 'right':{}}, 'players':{'left':{}, 'right':{}}}\n",
    "        timestamps = set()\n",
    "        for (fd_left, ts_left), (fd_right, ts_right) in tqdm(zip(tracks['left'], tracks['right'])):\n",
    "            fd_left = pickle.loads(fd_left)\n",
    "            fd_right = pickle.loads(fd_right)\n",
    "            if np.abs(ts_left - ts_right) < 100:\n",
    "                ts_left = ts_right\n",
    "            timestamps.update({ts_left, ts_right})\n",
    "            detections['players']['left'][ts_left] = fd_left.top_view_player_positions\n",
    "            detections['players']['right'][ts_right] = fd_right.top_view_player_positions\n",
    "            detections['ball']['left'][ts_left] = np.array([bp for bp, bd in zip(fd_left.top_view_ball_positions, fd_left.ball_detections) if ball_ok(bp, bd)])\n",
    "            detections['ball']['right'][ts_right] = np.array([bp for bp, bd in zip(fd_right.top_view_ball_positions, fd_right.ball_detections) if ball_ok(bp, bd)])\n",
    "        timestamps_list = sorted(list(timestamps))\n",
    "        kickoff_time_ind = np.argmin(np.abs(np.subtract(timestamps_list, kickoff_time)))\n",
    "        kickoff_time_matched = timestamps_list[kickoff_time_ind]\n",
    "        \n",
    "        #Create inputs\n",
    "        \n",
    "        #Classification\n",
    "        if problem==\"classification\":\n",
    "            X=sequence_composition(timestamps_list,detections,pitch_size,500,25)\n",
    "            Y=labels(timestamps_list,detections,pitch_size,500,25,kickoff_time_matched)\n",
    "            print(len(X[0]))\n",
    "            #X,Y=movement_sequences(X,Y)\n",
    "            print(Y.count(1))\n",
    "            X,Y=reduce_size(X,Y,reduc_size)\n",
    "            print(len(X[0]),len(Y))\n",
    "            print(Y.count(1))\n",
    "            \n",
    "            #Create file\n",
    "            add_data=True\n",
    "            if Y.count(1)>0 and compteur==0:\n",
    "                with open(file_name, 'wb') as f:\n",
    "                    # Pickle the 'data' dictionary using the highest protocol available.\n",
    "                    pickle.dump([X,Y], f)\n",
    "                    compteur+=1\n",
    "                    add_data=False\n",
    "            if Y.count(1)>0 and add_data:\n",
    "                with open(file_name, 'ab') as f:\n",
    "                    # Pickle the 'data' dictionary using the highest protocol available.\n",
    "                    pickle.dump([X,Y], f)\n",
    "                    compteur+=1\n",
    "                    print(compteur)\n",
    "         \n",
    "        #Regression\n",
    "        if problem==\"regression\":\n",
    "            X,y=select_kickoff_sequences(timestamps_list,detections,pitch_size,500,25,kickoff_time_matched)\n",
    "            print(len(X),len(y))\n",
    "            print(y)\n",
    "            y=detect_kickofftime(y)\n",
    "            print(y)\n",
    "        #Create file\n",
    "            add_data=True\n",
    "            if len(y)>0 and compteur==0:\n",
    "                with open(file_name, 'wb') as f:\n",
    "                    # Pickle the 'data' dictionary using the highest protocol available.\n",
    "                    pickle.dump([X,y], f)\n",
    "                    compteur+=1\n",
    "                    add_data=False\n",
    "            if len(y)>0 and add_data:\n",
    "                with open(file_name, 'ab') as f:\n",
    "                    # Pickle the 'data' dictionary using the highest protocol available.\n",
    "                    pickle.dump([X,y], f)\n",
    "                    compteur+=1\n",
    "                    print(compteur)\n",
    "                    "
   ]
  },
  {
   "cell_type": "code",
   "execution_count": 179,
   "metadata": {},
   "outputs": [
    {
     "name": "stderr",
     "output_type": "stream",
     "text": [
      "829it [00:00, 4181.97it/s]"
     ]
    },
    {
     "name": "stdout",
     "output_type": "stream",
     "text": [
      "Parsed ../kickoff-data-corrected/24978380-482e-4ba4-a124-5142d43f8c91.2.kickoff.rdb in 0.60 s.\n",
      "Contains keys: dict_keys(['right', 'left'])\n",
      "[right] start_ts: 1527184564976 | stop_ts: 1527184864816\n",
      "[left] start_ts: 1527184568814 | stop_ts: 1527184864734\n",
      "../kickoff-data-corrected/24978380-482e-4ba4-a124-5142d43f8c91.json\n",
      "[{'type': 'start_phase', 'kickoff_team_id': 14, 'phase': 1, 'ts': '2018-05-24T17:00:00.628Z'}, {'type': 'end_phase', 'phase': 1, 'ts': '2018-05-24T17:45:58.124Z'}, {'type': 'start_phase', 'kickoff_team_id': 15, 'phase': 2, 'ts': '2018-05-24T18:01:04.269Z'}, {'type': 'end_phase', 'phase': 2, 'ts': '2018-05-24T18:49:34.388Z'}]\n",
      "1527184864269\n"
     ]
    },
    {
     "name": "stderr",
     "output_type": "stream",
     "text": [
      "7398it [00:02, 3325.60it/s]\n"
     ]
    },
    {
     "name": "stdout",
     "output_type": "stream",
     "text": [
      "2680\n",
      "0\n",
      "2680 27\n",
      "0\n"
     ]
    },
    {
     "name": "stderr",
     "output_type": "stream",
     "text": [
      "282it [00:00, 2816.52it/s]"
     ]
    },
    {
     "name": "stdout",
     "output_type": "stream",
     "text": [
      "Parsed ../kickoff-data-corrected/24978380-482e-4ba4-a124-5142d43f8c91.1.kickoff.rdb in 0.92 s.\n",
      "Contains keys: dict_keys(['right', 'left'])\n",
      "[right] start_ts: 1527180900976 | stop_ts: 1527181200816\n",
      "[left] start_ts: 1527180904814 | stop_ts: 1527181200734\n",
      "../kickoff-data-corrected/24978380-482e-4ba4-a124-5142d43f8c91.json\n",
      "[{'type': 'start_phase', 'kickoff_team_id': 14, 'phase': 1, 'ts': '2018-05-24T17:00:00.628Z'}, {'type': 'end_phase', 'phase': 1, 'ts': '2018-05-24T17:45:58.124Z'}, {'type': 'start_phase', 'kickoff_team_id': 15, 'phase': 2, 'ts': '2018-05-24T18:01:04.269Z'}, {'type': 'end_phase', 'phase': 2, 'ts': '2018-05-24T18:49:34.388Z'}]\n",
      "1527181200628\n"
     ]
    },
    {
     "name": "stderr",
     "output_type": "stream",
     "text": [
      "7399it [00:03, 1875.49it/s]\n"
     ]
    },
    {
     "name": "stdout",
     "output_type": "stream",
     "text": [
      "2680\n",
      "0\n",
      "2680 27\n",
      "0\n"
     ]
    },
    {
     "name": "stderr",
     "output_type": "stream",
     "text": [
      "742it [00:00, 3788.48it/s]"
     ]
    },
    {
     "name": "stdout",
     "output_type": "stream",
     "text": [
      "Parsed ../kickoff-data-corrected/0ad7e9ee-4ff5-4bfa-b2f6-82a1cde04eeb.2.kickoff.rdb in 1.45 s.\n",
      "Contains keys: dict_keys(['right', 'left'])\n",
      "[right] start_ts: 1524414345649 | stop_ts: 1524414944249\n",
      "[left] start_ts: 1524414345139 | stop_ts: 1524414943979\n",
      "../kickoff-data-corrected/0ad7e9ee-4ff5-4bfa-b2f6-82a1cde04eeb.json\n",
      "[{'type': 'start_phase', 'kickoff_team_id': 14, 'phase': 1, 'ts': '2018-04-22T15:30:02.243Z'}, {'type': 'end_phase', 'phase': 1, 'ts': '2018-04-22T16:15:07.030Z'}, {'type': 'start_phase', 'kickoff_team_id': 9, 'phase': 2, 'ts': '2018-04-22T16:30:44.239Z'}, {'type': 'end_phase', 'phase': 2, 'ts': '2018-04-22T17:20:43.958Z'}]\n",
      "1524414644239\n"
     ]
    },
    {
     "name": "stderr",
     "output_type": "stream",
     "text": [
      "14966it [00:06, 2478.47it/s]\n"
     ]
    },
    {
     "name": "stdout",
     "output_type": "stream",
     "text": [
      "2680\n",
      "16\n",
      "2680 72\n",
      "16\n"
     ]
    },
    {
     "name": "stderr",
     "output_type": "stream",
     "text": [
      "164it [00:00, 1638.00it/s]"
     ]
    },
    {
     "name": "stdout",
     "output_type": "stream",
     "text": [
      "Parsed ../kickoff-data-corrected/27bea627-3caa-47ee-93c3-67f0e26f3034.2.kickoff.rdb in 1.68 s.\n",
      "Contains keys: dict_keys(['right', 'left'])\n",
      "[right] start_ts: 1523800613851 | stop_ts: 1523801213411\n",
      "[left] start_ts: 1523800614341 | stop_ts: 1523801213661\n",
      "../kickoff-data-corrected/27bea627-3caa-47ee-93c3-67f0e26f3034.json\n",
      "[{'type': 'start_phase', 'kickoff_team_id': 4, 'phase': 1, 'ts': '2018-04-15T13:00:57.169Z'}, {'type': 'end_phase', 'phase': 1, 'ts': '2018-04-15T13:46:01.064Z'}, {'type': 'start_phase', 'kickoff_team_id': 9, 'phase': 2, 'ts': '2018-04-15T14:01:53.073Z'}, {'type': 'end_phase', 'phase': 2, 'ts': '2018-04-15T14:50:42.654Z'}]\n",
      "1523800913073\n"
     ]
    },
    {
     "name": "stderr",
     "output_type": "stream",
     "text": [
      "14983it [00:07, 2077.01it/s]\n"
     ]
    },
    {
     "name": "stdout",
     "output_type": "stream",
     "text": [
      "2680\n",
      "16\n",
      "2680 72\n",
      "16\n",
      "2\n",
      "Json file edited\n"
     ]
    },
    {
     "name": "stderr",
     "output_type": "stream",
     "text": [
      "522it [00:00, 2705.18it/s]"
     ]
    },
    {
     "name": "stdout",
     "output_type": "stream",
     "text": [
      "Parsed ../kickoff-data-corrected/0d9e9e30-9d13-4af0-8e41-fe1669e9eeff.1.kickoff.rdb in 1.80 s.\n",
      "Contains keys: dict_keys(['right', 'left'])\n",
      "[right] start_ts: 1523192129071 | stop_ts: 1523192727911\n",
      "[left] start_ts: 1523192129517 | stop_ts: 1523192728157\n",
      "../kickoff-data-corrected/0d9e9e30-9d13-4af0-8e41-fe1669e9eeff.json\n",
      "[{'type': 'start_phase', 'kickoff_team_id': 7, 'phase': 1, 'ts': '2018-04-08T13:00:30.151000'}, {'type': 'end_phase', 'phase': 1, 'ts': '2018-04-08T13:47:27.898Z'}, {'type': 'start_phase', 'kickoff_team_id': 9, 'phase': 2, 'ts': '2018-04-08T14:02:34.797000'}, {'type': 'end_phase', 'phase': 2, 'ts': '2018-04-08T14:51:34.402Z'}]\n",
      "1523192430151\n"
     ]
    },
    {
     "name": "stderr",
     "output_type": "stream",
     "text": [
      "14966it [00:08, 1810.45it/s]\n"
     ]
    },
    {
     "name": "stdout",
     "output_type": "stream",
     "text": [
      "2680\n",
      "16\n",
      "2680 71\n",
      "16\n",
      "3\n",
      "Json file edited\n"
     ]
    },
    {
     "name": "stderr",
     "output_type": "stream",
     "text": [
      "199it [00:00, 1987.73it/s]"
     ]
    },
    {
     "name": "stdout",
     "output_type": "stream",
     "text": [
      "Parsed ../kickoff-data-corrected/57bf9b24-5c68-464f-9e74-20d0b2508bba.2.kickoff.rdb in 1.60 s.\n",
      "Contains keys: dict_keys(['right', 'left'])\n",
      "[right] start_ts: 1524074286793 | stop_ts: 1524074883313\n",
      "[left] start_ts: 1524074286135 | stop_ts: 1524074882975\n",
      "../kickoff-data-corrected/57bf9b24-5c68-464f-9e74-20d0b2508bba.json\n",
      "[{'type': 'start_phase', 'kickoff_team_id': 11, 'phase': 1, 'ts': '2018-04-18T17:00:28.694Z'}, {'type': 'end_phase', 'phase': 1, 'ts': '2018-04-18T17:46:35.647Z'}, {'type': 'start_phase', 'kickoff_team_id': 8, 'phase': 2, 'ts': '2018-04-18T18:03:04.895000'}, {'type': 'end_phase', 'phase': 2, 'ts': '2018-04-18T18:52:04.739Z'}]\n",
      "1524074584895\n"
     ]
    },
    {
     "name": "stderr",
     "output_type": "stream",
     "text": [
      "14914it [00:07, 1976.47it/s]\n"
     ]
    },
    {
     "name": "stdout",
     "output_type": "stream",
     "text": [
      "2680\n",
      "17\n",
      "2680 72\n",
      "17\n",
      "4\n"
     ]
    },
    {
     "name": "stderr",
     "output_type": "stream",
     "text": [
      "304it [00:00, 3033.80it/s]"
     ]
    },
    {
     "name": "stdout",
     "output_type": "stream",
     "text": [
      "Parsed ../kickoff-data-corrected/4be6ef54-2541-42d0-a334-e513a535029c.1.kickoff.rdb in 1.68 s.\n",
      "Contains keys: dict_keys(['left', 'right'])\n",
      "[left] start_ts: 1523714121022 | stop_ts: 1523714720662\n",
      "[right] start_ts: 1523714121038 | stop_ts: 1523714720678\n",
      "../kickoff-data-corrected/4be6ef54-2541-42d0-a334-e513a535029c.json\n",
      "[{'type': 'start_phase', 'kickoff_team_id': 16, 'phase': 1, 'ts': '2018-04-14T14:00:20.059Z'}, {'type': 'end_phase', 'phase': 1, 'ts': '2018-04-14T14:46:37.899Z'}, {'type': 'start_phase', 'kickoff_team_id': 5, 'phase': 2, 'ts': '2018-04-14T15:02:36.879Z'}, {'type': 'end_phase', 'phase': 2, 'ts': '2018-04-14T15:51:35.702Z'}]\n",
      "1523714420059\n"
     ]
    },
    {
     "name": "stderr",
     "output_type": "stream",
     "text": [
      "14991it [00:08, 1849.90it/s]\n"
     ]
    },
    {
     "name": "stdout",
     "output_type": "stream",
     "text": [
      "2680\n",
      "17\n",
      "2680 73\n",
      "17\n",
      "5\n"
     ]
    },
    {
     "name": "stderr",
     "output_type": "stream",
     "text": [
      "235it [00:00, 1161.74it/s]"
     ]
    },
    {
     "name": "stdout",
     "output_type": "stream",
     "text": [
      "Parsed ../kickoff-data-corrected/57bf9b24-5c68-464f-9e74-20d0b2508bba.1.kickoff.rdb in 1.97 s.\n",
      "Contains keys: dict_keys(['left', 'right'])\n",
      "[left] start_ts: 1524070530135 | stop_ts: 1524071127975\n",
      "[right] start_ts: 1524070530793 | stop_ts: 1524071128313\n",
      "../kickoff-data-corrected/57bf9b24-5c68-464f-9e74-20d0b2508bba.json\n",
      "[{'type': 'start_phase', 'kickoff_team_id': 11, 'phase': 1, 'ts': '2018-04-18T17:00:28.694Z'}, {'type': 'end_phase', 'phase': 1, 'ts': '2018-04-18T17:46:35.647Z'}, {'type': 'start_phase', 'kickoff_team_id': 8, 'phase': 2, 'ts': '2018-04-18T18:03:04.895000'}, {'type': 'end_phase', 'phase': 2, 'ts': '2018-04-18T18:52:04.739Z'}]\n",
      "1524070828694\n"
     ]
    },
    {
     "name": "stderr",
     "output_type": "stream",
     "text": [
      "14939it [00:09, 1652.54it/s]\n"
     ]
    },
    {
     "name": "stdout",
     "output_type": "stream",
     "text": [
      "2680\n",
      "17\n",
      "2680 73\n",
      "17\n",
      "6\n"
     ]
    },
    {
     "name": "stderr",
     "output_type": "stream",
     "text": [
      "130it [00:00, 1294.08it/s]"
     ]
    },
    {
     "name": "stdout",
     "output_type": "stream",
     "text": [
      "Parsed ../kickoff-data-corrected/314f4989-398c-45a3-a74f-9f1adac71bf1.1.kickoff.rdb in 1.68 s.\n",
      "Contains keys: dict_keys(['left', 'right'])\n",
      "[left] start_ts: 1522587361524 | stop_ts: 1522587961404\n",
      "[right] start_ts: 1522587361602 | stop_ts: 1522587961442\n",
      "../kickoff-data-corrected/314f4989-398c-45a3-a74f-9f1adac71bf1.json\n",
      "[{'type': 'start_phase', 'kickoff_team_id': 9, 'phase': 1, 'ts': '2018-04-01T13:01:01.209Z'}, {'type': 'end_phase', 'phase': 1, 'ts': '2018-04-01T13:47:08.486Z'}, {'type': 'start_phase', 'kickoff_team_id': 5, 'phase': 2, 'ts': '2018-04-01T14:02:47.436Z'}, {'type': 'end_phase', 'phase': 2, 'ts': '2018-04-01T14:50:51.103Z'}]\n",
      "1522587661209\n"
     ]
    },
    {
     "name": "stderr",
     "output_type": "stream",
     "text": [
      "14908it [00:07, 1904.80it/s]\n"
     ]
    },
    {
     "name": "stdout",
     "output_type": "stream",
     "text": [
      "2680\n",
      "16\n",
      "2680 71\n",
      "16\n",
      "7\n",
      "Json file edited\n"
     ]
    },
    {
     "name": "stderr",
     "output_type": "stream",
     "text": [
      "257it [00:00, 1299.21it/s]"
     ]
    },
    {
     "name": "stdout",
     "output_type": "stream",
     "text": [
      "Parsed ../kickoff-data-corrected/a185c6c8-7383-4d19-927f-dc8f70726c34.1.kickoff.rdb in 2.12 s.\n",
      "Contains keys: dict_keys(['left', 'right'])\n",
      "[left] start_ts: 1523897795243 | stop_ts: 1523898395043\n",
      "[right] start_ts: 1523897795697 | stop_ts: 1523898395297\n",
      "../kickoff-data-corrected/a185c6c8-7383-4d19-927f-dc8f70726c34.json\n",
      "[{'type': 'start_phase', 'kickoff_team_id': 15, 'phase': 1, 'ts': '2018-04-16T17:01:36.817000'}, {'type': 'end_phase', 'phase': 1, 'ts': '2018-04-16T17:46:39.313Z'}, {'type': 'start_phase', 'kickoff_team_id': 2, 'phase': 2, 'ts': '2018-04-16T18:02:50.296Z'}, {'type': 'end_phase', 'phase': 2, 'ts': '2018-04-16T18:49:49.424Z'}]\n",
      "1523898096817\n"
     ]
    },
    {
     "name": "stderr",
     "output_type": "stream",
     "text": [
      "14991it [00:10, 1390.71it/s]\n"
     ]
    },
    {
     "name": "stdout",
     "output_type": "stream",
     "text": [
      "2680\n",
      "17\n",
      "2680 72\n",
      "17\n",
      "8\n"
     ]
    },
    {
     "name": "stderr",
     "output_type": "stream",
     "text": [
      "365it [00:00, 1872.08it/s]"
     ]
    },
    {
     "name": "stdout",
     "output_type": "stream",
     "text": [
      "Parsed ../kickoff-data-corrected/19bebd81-3b61-492b-85ed-74ff887cbc45.1.kickoff.rdb in 1.88 s.\n",
      "Contains keys: dict_keys(['left', 'right'])\n",
      "[left] start_ts: 1522587371575 | stop_ts: 1522587969015\n",
      "[right] start_ts: 1522587371411 | stop_ts: 1522587968931\n",
      "../kickoff-data-corrected/19bebd81-3b61-492b-85ed-74ff887cbc45.json\n",
      "[{'type': 'start_phase', 'kickoff_team_id': 1, 'phase': 1, 'ts': '2018-04-01T13:01:09.709Z'}, {'type': 'end_phase', 'phase': 1, 'ts': '2018-04-01T13:47:53.692Z'}, {'type': 'start_phase', 'kickoff_team_id': 2, 'phase': 2, 'ts': '2018-04-01T14:05:32.177Z'}, {'type': 'end_phase', 'phase': 2, 'ts': '2018-04-01T14:53:51.954Z'}]\n",
      "1522587669709\n"
     ]
    },
    {
     "name": "stderr",
     "output_type": "stream",
     "text": [
      "14937it [00:09, 1643.11it/s]\n"
     ]
    },
    {
     "name": "stdout",
     "output_type": "stream",
     "text": [
      "2680\n",
      "17\n",
      "2680 73\n",
      "17\n",
      "9\n",
      "Json file edited\n"
     ]
    },
    {
     "name": "stderr",
     "output_type": "stream",
     "text": [
      "247it [00:00, 1189.12it/s]"
     ]
    },
    {
     "name": "stdout",
     "output_type": "stream",
     "text": [
      "Parsed ../kickoff-data-corrected/2dc12819-d486-4925-a0e2-b8ae9ff1aed5.1.kickoff.rdb in 1.85 s.\n",
      "Contains keys: dict_keys(['left', 'right'])\n",
      "[left] start_ts: 1523192332019 | stop_ts: 1523192929339\n",
      "[right] start_ts: 1523192332775 | stop_ts: 1523192929695\n",
      "../kickoff-data-corrected/2dc12819-d486-4925-a0e2-b8ae9ff1aed5.json\n",
      "[{'type': 'start_phase', 'kickoff_team_id': 11, 'phase': 1, 'ts': '2018-04-08T13:03:52.495000'}, {'type': 'end_phase', 'phase': 1, 'ts': '2018-04-08T13:48:52.077Z'}, {'type': 'start_phase', 'kickoff_team_id': 14, 'phase': 2, 'ts': '2018-04-08T14:05:14.493Z'}, {'type': 'end_phase', 'phase': 2, 'ts': '2018-04-08T14:53:40.200Z'}]\n",
      "1523192632495\n"
     ]
    },
    {
     "name": "stderr",
     "output_type": "stream",
     "text": [
      "14925it [00:08, 1688.14it/s]\n"
     ]
    },
    {
     "name": "stdout",
     "output_type": "stream",
     "text": [
      "2680\n",
      "16\n",
      "2680 71\n",
      "16\n",
      "10\n"
     ]
    },
    {
     "name": "stderr",
     "output_type": "stream",
     "text": [
      "352it [00:00, 3519.52it/s]"
     ]
    },
    {
     "name": "stdout",
     "output_type": "stream",
     "text": [
      "Parsed ../kickoff-data-corrected/3382a9d0-02ff-4f23-9748-1b715d85b731.2.kickoff.rdb in 1.53 s.\n",
      "Contains keys: dict_keys(['left', 'right'])\n",
      "[left] start_ts: 1523809596082 | stop_ts: 1523810193882\n",
      "[right] start_ts: 1523809596650 | stop_ts: 1523810194170\n",
      "../kickoff-data-corrected/3382a9d0-02ff-4f23-9748-1b715d85b731.json\n",
      "[{'type': 'start_phase', 'kickoff_team_id': 6, 'phase': 1, 'ts': '2018-04-15T15:29:58.007Z'}, {'type': 'end_phase', 'phase': 1, 'ts': '2018-04-15T16:16:00.459Z'}, {'type': 'start_phase', 'kickoff_team_id': 13, 'phase': 2, 'ts': '2018-04-15T16:31:33.353Z'}, {'type': 'end_phase', 'phase': 2, 'ts': '2018-04-15T17:19:35.565Z'}]\n",
      "1523809893353\n"
     ]
    },
    {
     "name": "stderr",
     "output_type": "stream",
     "text": [
      "14938it [00:06, 2280.59it/s]\n"
     ]
    },
    {
     "name": "stdout",
     "output_type": "stream",
     "text": [
      "2680\n",
      "16\n",
      "2680 71\n",
      "16\n",
      "11\n",
      "Json file edited\n"
     ]
    },
    {
     "name": "stderr",
     "output_type": "stream",
     "text": [
      "336it [00:00, 3359.34it/s]"
     ]
    },
    {
     "name": "stdout",
     "output_type": "stream",
     "text": [
      "Parsed ../kickoff-data-corrected/84e8b33c-d912-495e-9e21-84bdd18e0e04.1.kickoff.rdb in 1.68 s.\n",
      "Contains keys: dict_keys(['left', 'right'])\n",
      "[left] start_ts: 1523638501659 | stop_ts: 1523639099539\n",
      "[right] start_ts: 1523638502169 | stop_ts: 1523639099769\n",
      "../kickoff-data-corrected/84e8b33c-d912-495e-9e21-84bdd18e0e04.json\n",
      "[{'type': 'start_phase', 'kickoff_team_id': 12, 'phase': 1, 'ts': '2018-04-13T17:00:00.979000'}, {'type': 'end_phase', 'phase': 1, 'ts': '2018-04-13T17:45:38.365Z'}, {'type': 'start_phase', 'kickoff_team_id': 14, 'phase': 2, 'ts': '2018-04-13T18:00:40.466Z'}, {'type': 'end_phase', 'phase': 2, 'ts': '2018-04-13T18:47:41.972Z'}]\n",
      "1523638800979\n"
     ]
    },
    {
     "name": "stderr",
     "output_type": "stream",
     "text": [
      "14940it [00:07, 2050.48it/s]\n"
     ]
    },
    {
     "name": "stdout",
     "output_type": "stream",
     "text": [
      "2680\n",
      "17\n",
      "2680 72\n",
      "17\n",
      "12\n"
     ]
    },
    {
     "name": "stderr",
     "output_type": "stream",
     "text": [
      "490it [00:00, 2460.48it/s]"
     ]
    },
    {
     "name": "stdout",
     "output_type": "stream",
     "text": [
      "Parsed ../kickoff-data-corrected/9e627901-09e2-4c84-bf77-6f0ec289fa5f.2.kickoff.rdb in 1.47 s.\n",
      "Contains keys: dict_keys(['left', 'right'])\n",
      "[left] start_ts: 1522686514029 | stop_ts: 1522687111869\n",
      "[right] start_ts: 1522686513973 | stop_ts: 1522687111853\n",
      "../kickoff-data-corrected/9e627901-09e2-4c84-bf77-6f0ec289fa5f.json\n",
      "[{'type': 'start_phase', 'kickoff_team_id': 7, 'phase': 1, 'ts': '2018-04-02T15:32:25.029Z'}, {'type': 'end_phase', 'phase': 1, 'ts': '2018-04-02T16:17:34.362Z'}, {'type': 'start_phase', 'kickoff_team_id': 8, 'phase': 2, 'ts': '2018-04-02T16:33:31.520Z'}, {'type': 'end_phase', 'phase': 2, 'ts': '2018-04-02T17:22:39.373Z'}]\n",
      "1522686811520\n"
     ]
    },
    {
     "name": "stderr",
     "output_type": "stream",
     "text": [
      "14946it [00:06, 2306.72it/s]\n"
     ]
    },
    {
     "name": "stdout",
     "output_type": "stream",
     "text": [
      "2680\n",
      "16\n",
      "2680 72\n",
      "16\n",
      "13\n"
     ]
    },
    {
     "name": "stderr",
     "output_type": "stream",
     "text": [
      "467it [00:00, 2280.07it/s]"
     ]
    },
    {
     "name": "stdout",
     "output_type": "stream",
     "text": [
      "Parsed ../kickoff-data-corrected/723fa378-2b05-42e0-9631-a05bb1ed5e70.1.kickoff.rdb in 1.83 s.\n",
      "Contains keys: dict_keys(['right', 'left'])\n",
      "[right] start_ts: 1524502496828 | stop_ts: 1524503096348\n",
      "[left] start_ts: 1524502497320 | stop_ts: 1524503096600\n",
      "../kickoff-data-corrected/723fa378-2b05-42e0-9631-a05bb1ed5e70.json\n",
      "[{'type': 'start_phase', 'kickoff_team_id': 4, 'phase': 1, 'ts': '2018-04-23T16:59:56.989Z'}, {'type': 'end_phase', 'phase': 1, 'ts': '2018-04-23T17:45:26.980Z'}, {'type': 'start_phase', 'kickoff_team_id': 1, 'phase': 2, 'ts': '2018-04-23T18:01:16.310Z'}, {'type': 'end_phase', 'phase': 2, 'ts': '2018-04-23T18:51:18.989Z'}]\n",
      "1524502796989\n"
     ]
    },
    {
     "name": "stderr",
     "output_type": "stream",
     "text": [
      "14982it [00:08, 1846.77it/s]\n"
     ]
    },
    {
     "name": "stdout",
     "output_type": "stream",
     "text": [
      "2680\n",
      "16\n",
      "2680 72\n",
      "16\n",
      "14\n",
      "Json file edited\n"
     ]
    },
    {
     "name": "stderr",
     "output_type": "stream",
     "text": [
      "599it [00:00, 2800.26it/s]"
     ]
    },
    {
     "name": "stdout",
     "output_type": "stream",
     "text": [
      "Parsed ../kickoff-data-corrected/0d9e9e30-9d13-4af0-8e41-fe1669e9eeff.2.kickoff.rdb in 1.77 s.\n",
      "Contains keys: dict_keys(['left', 'right'])\n",
      "[left] start_ts: 1523195853517 | stop_ts: 1523196453157\n",
      "[right] start_ts: 1523195853031 | stop_ts: 1523196452911\n",
      "../kickoff-data-corrected/0d9e9e30-9d13-4af0-8e41-fe1669e9eeff.json\n",
      "[{'type': 'start_phase', 'kickoff_team_id': 7, 'phase': 1, 'ts': '2018-04-08T13:00:30.151000'}, {'type': 'end_phase', 'phase': 1, 'ts': '2018-04-08T13:47:27.898Z'}, {'type': 'start_phase', 'kickoff_team_id': 9, 'phase': 2, 'ts': '2018-04-08T14:02:34.797000'}, {'type': 'end_phase', 'phase': 2, 'ts': '2018-04-08T14:51:34.402Z'}]\n",
      "1523196154797\n"
     ]
    },
    {
     "name": "stderr",
     "output_type": "stream",
     "text": [
      "14992it [00:08, 1869.09it/s]\n"
     ]
    },
    {
     "name": "stdout",
     "output_type": "stream",
     "text": [
      "2680\n",
      "16\n",
      "2680 71\n",
      "16\n",
      "15\n"
     ]
    },
    {
     "name": "stderr",
     "output_type": "stream",
     "text": [
      "391it [00:00, 2010.10it/s]"
     ]
    },
    {
     "name": "stdout",
     "output_type": "stream",
     "text": [
      "Parsed ../kickoff-data-corrected/2ef95134-9901-4550-97c7-74d0c82567d3.1.kickoff.rdb in 1.75 s.\n",
      "Contains keys: dict_keys(['right', 'left'])\n",
      "[right] start_ts: 1527425760258 | stop_ts: 1527426359098\n",
      "[left] start_ts: 1527425760228 | stop_ts: 1527426359108\n",
      "../kickoff-data-corrected/2ef95134-9901-4550-97c7-74d0c82567d3.json\n",
      "[{'type': 'start_phase', 'kickoff_team_id': 8, 'phase': 1, 'ts': '2018-05-27T13:00:59.731Z'}, {'type': 'end_phase', 'phase': 1, 'ts': '2018-05-27T13:48:03.896Z'}, {'type': 'start_phase', 'kickoff_team_id': 16, 'phase': 2, 'ts': '2018-05-27T14:04:02.857Z'}, {'type': 'end_phase', 'phase': 2, 'ts': '2018-05-27T14:53:21.030Z'}]\n",
      "1527426059731\n"
     ]
    },
    {
     "name": "stderr",
     "output_type": "stream",
     "text": [
      "14973it [00:08, 1821.80it/s]\n"
     ]
    },
    {
     "name": "stdout",
     "output_type": "stream",
     "text": [
      "2680\n",
      "16\n",
      "2680 72\n",
      "16\n",
      "16\n"
     ]
    },
    {
     "name": "stderr",
     "output_type": "stream",
     "text": [
      "282it [00:00, 1382.53it/s]"
     ]
    },
    {
     "name": "stdout",
     "output_type": "stream",
     "text": [
      "Parsed ../kickoff-data-corrected/da82a1ce-2e4c-4337-8ba8-3f2525399e31.1.kickoff.rdb in 0.90 s.\n",
      "Contains keys: dict_keys(['right', 'left'])\n",
      "[right] start_ts: 1525620358583 | stop_ts: 1525620655463\n",
      "[left] start_ts: 1525620358621 | stop_ts: 1525620655501\n",
      "../kickoff-data-corrected/da82a1ce-2e4c-4337-8ba8-3f2525399e31.json\n",
      "[{'type': 'start_phase', 'kickoff_team_id': 14, 'phase': 1, 'ts': '2018-05-06T15:30:55.282Z'}, {'type': 'end_phase', 'phase': 1, 'ts': '2018-05-06T16:16:55.775Z'}, {'type': 'start_phase', 'kickoff_team_id': 5, 'phase': 2, 'ts': '2018-05-06T16:31:59.785Z'}, {'type': 'end_phase', 'phase': 2, 'ts': '2018-05-06T17:19:59.649Z'}]\n",
      "1525620655282\n"
     ]
    },
    {
     "name": "stderr",
     "output_type": "stream",
     "text": [
      "7422it [00:03, 2004.97it/s]\n"
     ]
    },
    {
     "name": "stdout",
     "output_type": "stream",
     "text": [
      "2680\n",
      "0\n",
      "2680 27\n",
      "0\n"
     ]
    },
    {
     "name": "stderr",
     "output_type": "stream",
     "text": [
      "1013it [00:00, 5032.67it/s]"
     ]
    },
    {
     "name": "stdout",
     "output_type": "stream",
     "text": [
      "Parsed ../kickoff-data-corrected/1e67ff07-1ca6-4778-a91e-024007e66974.1.kickoff.rdb in 0.58 s.\n",
      "Contains keys: dict_keys(['right', 'left'])\n",
      "[right] start_ts: 1527180903146 | stop_ts: 1527181202866\n",
      "[left] start_ts: 1527180903130 | stop_ts: 1527181202890\n",
      "../kickoff-data-corrected/1e67ff07-1ca6-4778-a91e-024007e66974.json\n",
      "[{'type': 'start_phase', 'kickoff_team_id': 16, 'phase': 1, 'ts': '2018-05-24T17:00:02.098Z'}, {'type': 'end_phase', 'phase': 1, 'ts': '2018-05-24T17:47:03.722Z'}, {'type': 'start_phase', 'kickoff_team_id': 7, 'phase': 2, 'ts': '2018-05-24T18:03:06.263Z'}, {'type': 'end_phase', 'phase': 2, 'ts': '2018-05-24T18:51:18.432Z'}]\n",
      "1527181202098\n"
     ]
    },
    {
     "name": "stderr",
     "output_type": "stream",
     "text": [
      "7494it [00:02, 3068.97it/s]\n"
     ]
    },
    {
     "name": "stdout",
     "output_type": "stream",
     "text": [
      "2680\n",
      "0\n",
      "2680 28\n",
      "0\n"
     ]
    },
    {
     "name": "stderr",
     "output_type": "stream",
     "text": [
      "549it [00:00, 2760.89it/s]"
     ]
    },
    {
     "name": "stdout",
     "output_type": "stream",
     "text": [
      "Parsed ../kickoff-data-corrected/19bebd81-3b61-492b-85ed-74ff887cbc45.2.kickoff.rdb in 1.45 s.\n",
      "Contains keys: dict_keys(['left', 'right'])\n",
      "[left] start_ts: 1522591235535 | stop_ts: 1522591832015\n",
      "[right] start_ts: 1522591235411 | stop_ts: 1522591831931\n",
      "../kickoff-data-corrected/19bebd81-3b61-492b-85ed-74ff887cbc45.json\n",
      "[{'type': 'start_phase', 'kickoff_team_id': 1, 'phase': 1, 'ts': '2018-04-01T13:01:09.709Z'}, {'type': 'end_phase', 'phase': 1, 'ts': '2018-04-01T13:47:53.692Z'}, {'type': 'start_phase', 'kickoff_team_id': 2, 'phase': 2, 'ts': '2018-04-01T14:05:32.177Z'}, {'type': 'end_phase', 'phase': 2, 'ts': '2018-04-01T14:53:51.954Z'}]\n",
      "1522591532177\n"
     ]
    },
    {
     "name": "stderr",
     "output_type": "stream",
     "text": [
      "14913it [00:06, 2277.63it/s]\n"
     ]
    },
    {
     "name": "stdout",
     "output_type": "stream",
     "text": [
      "2680\n",
      "16\n",
      "2680 71\n",
      "16\n",
      "17\n"
     ]
    },
    {
     "name": "stderr",
     "output_type": "stream",
     "text": [
      "514it [00:00, 5139.36it/s]"
     ]
    },
    {
     "name": "stdout",
     "output_type": "stream",
     "text": [
      "Parsed ../kickoff-data-corrected/5dcb4696-281c-4bff-9ec7-02322c1b4a67.2.kickoff.rdb in 1.42 s.\n",
      "Contains keys: dict_keys(['right', 'left'])\n",
      "[right] start_ts: 1525019311670 | stop_ts: 1525019910510\n",
      "[left] start_ts: 1525019311714 | stop_ts: 1525019910514\n",
      "../kickoff-data-corrected/5dcb4696-281c-4bff-9ec7-02322c1b4a67.json\n",
      "[{'type': 'start_phase', 'kickoff_team_id': 14, 'phase': 1, 'ts': '2018-04-29T15:30:02.790Z'}, {'type': 'end_phase', 'phase': 1, 'ts': '2018-04-29T16:17:03.667Z'}, {'type': 'start_phase', 'kickoff_team_id': 4, 'phase': 2, 'ts': '2018-04-29T16:33:30.971Z'}, {'type': 'end_phase', 'phase': 2, 'ts': '2018-04-29T17:24:05.565Z'}]\n",
      "1525019610971\n"
     ]
    },
    {
     "name": "stderr",
     "output_type": "stream",
     "text": [
      "14970it [00:05, 2745.49it/s]\n"
     ]
    },
    {
     "name": "stdout",
     "output_type": "stream",
     "text": [
      "2680\n",
      "17\n",
      "2680 73\n",
      "17\n",
      "18\n"
     ]
    },
    {
     "name": "stderr",
     "output_type": "stream",
     "text": [
      "784it [00:00, 4080.11it/s]"
     ]
    },
    {
     "name": "stdout",
     "output_type": "stream",
     "text": [
      "Parsed ../kickoff-data-corrected/456910d1-b523-4ff2-b60c-fcd1f016b96d.1.kickoff.rdb in 1.37 s.\n",
      "Contains keys: dict_keys(['right', 'left'])\n",
      "[right] start_ts: 1524502502884 | stop_ts: 1524503100764\n",
      "[left] start_ts: 1524502503416 | stop_ts: 1524503101016\n",
      "../kickoff-data-corrected/456910d1-b523-4ff2-b60c-fcd1f016b96d.json\n",
      "[{'type': 'start_phase', 'kickoff_team_id': 7, 'phase': 1, 'ts': '2018-04-23T17:00:01.962Z'}, {'type': 'end_phase', 'phase': 1, 'ts': '2018-04-23T17:47:08.130Z'}, {'type': 'start_phase', 'kickoff_team_id': 11, 'phase': 2, 'ts': '2018-04-23T18:02:31.991Z'}, {'type': 'end_phase', 'phase': 2, 'ts': '2018-04-23T18:50:33.464Z'}]\n",
      "1524502801962\n"
     ]
    },
    {
     "name": "stderr",
     "output_type": "stream",
     "text": [
      "14940it [00:05, 2760.35it/s]\n"
     ]
    },
    {
     "name": "stdout",
     "output_type": "stream",
     "text": [
      "2680\n",
      "16\n",
      "2680 72\n",
      "16\n",
      "19\n"
     ]
    },
    {
     "name": "stderr",
     "output_type": "stream",
     "text": [
      "295it [00:00, 2943.53it/s]"
     ]
    },
    {
     "name": "stdout",
     "output_type": "stream",
     "text": [
      "Parsed ../kickoff-data-corrected/0ad7e9ee-4ff5-4bfa-b2f6-82a1cde04eeb.1.kickoff.rdb in 1.66 s.\n",
      "Contains keys: dict_keys(['right', 'left'])\n",
      "[right] start_ts: 1524410705609 | stop_ts: 1524411302249\n",
      "[left] start_ts: 1524410705099 | stop_ts: 1524411301979\n",
      "../kickoff-data-corrected/0ad7e9ee-4ff5-4bfa-b2f6-82a1cde04eeb.json\n",
      "[{'type': 'start_phase', 'kickoff_team_id': 14, 'phase': 1, 'ts': '2018-04-22T15:30:02.243Z'}, {'type': 'end_phase', 'phase': 1, 'ts': '2018-04-22T16:15:07.030Z'}, {'type': 'start_phase', 'kickoff_team_id': 9, 'phase': 2, 'ts': '2018-04-22T16:30:44.239Z'}, {'type': 'end_phase', 'phase': 2, 'ts': '2018-04-22T17:20:43.958Z'}]\n",
      "1524411002243\n"
     ]
    },
    {
     "name": "stderr",
     "output_type": "stream",
     "text": [
      "14916it [00:06, 2152.41it/s]\n"
     ]
    },
    {
     "name": "stdout",
     "output_type": "stream",
     "text": [
      "2680\n",
      "16\n",
      "2680 71\n",
      "16\n",
      "20\n"
     ]
    },
    {
     "name": "stderr",
     "output_type": "stream",
     "text": [
      "763it [00:00, 3915.87it/s]"
     ]
    },
    {
     "name": "stdout",
     "output_type": "stream",
     "text": [
      "Parsed ../kickoff-data-corrected/13ab8e56-a03f-4b85-a0b2-341d7e633cbe.2.kickoff.rdb in 0.72 s.\n",
      "Contains keys: dict_keys(['right', 'left'])\n",
      "[right] start_ts: 1527011750725 | stop_ts: 1527012050605\n",
      "[left] start_ts: 1527011750867 | stop_ts: 1527012050667\n",
      "../kickoff-data-corrected/13ab8e56-a03f-4b85-a0b2-341d7e633cbe.json\n",
      "[{'type': 'start_phase', 'kickoff_team_id': 12, 'phase': 1, 'ts': '2018-05-22T17:00:28.658Z'}, {'type': 'end_phase', 'phase': 1, 'ts': '2018-05-22T17:45:23.540Z'}, {'type': 'start_phase', 'kickoff_team_id': 9, 'phase': 2, 'ts': '2018-05-22T18:00:50.225Z'}, {'type': 'end_phase', 'phase': 2, 'ts': '2018-05-22T18:49:53.949Z'}]\n",
      "1527012050225\n"
     ]
    },
    {
     "name": "stderr",
     "output_type": "stream",
     "text": [
      "7496it [00:02, 2631.91it/s]\n"
     ]
    },
    {
     "name": "stdout",
     "output_type": "stream",
     "text": [
      "2680\n",
      "0\n",
      "2680 28\n",
      "0\n"
     ]
    },
    {
     "name": "stderr",
     "output_type": "stream",
     "text": [
      "176it [00:00, 1756.32it/s]"
     ]
    },
    {
     "name": "stdout",
     "output_type": "stream",
     "text": [
      "Parsed ../kickoff-data-corrected/b4dbea7c-c72f-4dd6-b57c-8fb7b8b38eb5.2.kickoff.rdb in 1.82 s.\n",
      "Contains keys: dict_keys(['right', 'left'])\n",
      "[right] start_ts: 1524074238929 | stop_ts: 1524074838729\n",
      "[left] start_ts: 1524074238899 | stop_ts: 1524074838739\n",
      "../kickoff-data-corrected/b4dbea7c-c72f-4dd6-b57c-8fb7b8b38eb5.json\n",
      "[{'type': 'start_phase', 'kickoff_team_id': 13, 'phase': 1, 'ts': '2018-04-18T17:00:10.108Z'}, {'type': 'end_phase', 'phase': 1, 'ts': '2018-04-18T17:47:10.874Z'}, {'type': 'start_phase', 'kickoff_team_id': 9, 'phase': 2, 'ts': '2018-04-18T18:02:18.645Z'}, {'type': 'end_phase', 'phase': 2, 'ts': '2018-04-18T18:49:19.022Z'}]\n",
      "1524074538645\n"
     ]
    },
    {
     "name": "stderr",
     "output_type": "stream",
     "text": [
      "14996it [00:08, 1679.32it/s]\n"
     ]
    },
    {
     "name": "stdout",
     "output_type": "stream",
     "text": [
      "2680\n",
      "17\n",
      "2680 73\n",
      "17\n",
      "21\n"
     ]
    },
    {
     "name": "stderr",
     "output_type": "stream",
     "text": [
      "449it [00:00, 2215.23it/s]"
     ]
    },
    {
     "name": "stdout",
     "output_type": "stream",
     "text": [
      "Parsed ../kickoff-data-corrected/4be6ef54-2541-42d0-a334-e513a535029c.2.kickoff.rdb in 1.46 s.\n",
      "Contains keys: dict_keys(['right', 'left'])\n",
      "[right] start_ts: 1523717857078 | stop_ts: 1523718456678\n",
      "[left] start_ts: 1523717857062 | stop_ts: 1523718456662\n",
      "../kickoff-data-corrected/4be6ef54-2541-42d0-a334-e513a535029c.json\n",
      "[{'type': 'start_phase', 'kickoff_team_id': 16, 'phase': 1, 'ts': '2018-04-14T14:00:20.059Z'}, {'type': 'end_phase', 'phase': 1, 'ts': '2018-04-14T14:46:37.899Z'}, {'type': 'start_phase', 'kickoff_team_id': 5, 'phase': 2, 'ts': '2018-04-14T15:02:36.879Z'}, {'type': 'end_phase', 'phase': 2, 'ts': '2018-04-14T15:51:35.702Z'}]\n",
      "1523718156879\n"
     ]
    },
    {
     "name": "stderr",
     "output_type": "stream",
     "text": [
      "14991it [00:06, 2236.02it/s]\n"
     ]
    },
    {
     "name": "stdout",
     "output_type": "stream",
     "text": [
      "2680\n",
      "17\n",
      "2680 73\n",
      "17\n",
      "22\n"
     ]
    },
    {
     "name": "stderr",
     "output_type": "stream",
     "text": [
      "447it [00:00, 4464.72it/s]"
     ]
    },
    {
     "name": "stdout",
     "output_type": "stream",
     "text": [
      "Parsed ../kickoff-data-corrected/536b68b9-507f-408a-9a91-f994667b1d16.1.kickoff.rdb in 1.47 s.\n",
      "Contains keys: dict_keys(['right', 'left'])\n",
      "[right] start_ts: 1526829914293 | stop_ts: 1526830513133\n",
      "[left] start_ts: 1526829914271 | stop_ts: 1526830513111\n",
      "../kickoff-data-corrected/536b68b9-507f-408a-9a91-f994667b1d16.json\n",
      "[{'type': 'start_phase', 'kickoff_team_id': 8, 'phase': 1, 'ts': '2018-05-20T15:30:13.835Z'}, {'type': 'end_phase', 'phase': 1, 'ts': '2018-05-20T16:15:14.598Z'}, {'type': 'start_phase', 'kickoff_team_id': 5, 'phase': 2, 'ts': '2018-05-20T16:30:43.121Z'}, {'type': 'end_phase', 'phase': 2, 'ts': '2018-05-20T17:19:46.634Z'}]\n",
      "1526830213835\n"
     ]
    },
    {
     "name": "stderr",
     "output_type": "stream",
     "text": [
      "14971it [00:05, 2532.83it/s]\n"
     ]
    },
    {
     "name": "stdout",
     "output_type": "stream",
     "text": [
      "2680\n",
      "16\n",
      "2680 72\n",
      "16\n",
      "23\n"
     ]
    },
    {
     "name": "stderr",
     "output_type": "stream",
     "text": [
      "838it [00:00, 4244.68it/s]"
     ]
    },
    {
     "name": "stdout",
     "output_type": "stream",
     "text": [
      "Parsed ../kickoff-data-corrected/3c7f617c-c839-4e5a-9e80-52017fa85d93.1.kickoff.rdb in 1.67 s.\n",
      "Contains keys: dict_keys(['right', 'left'])\n",
      "[right] start_ts: 1525006516933 | stop_ts: 1525007115773\n",
      "[left] start_ts: 1525006516949 | stop_ts: 1525007115789\n",
      "../kickoff-data-corrected/3c7f617c-c839-4e5a-9e80-52017fa85d93.json\n",
      "[{'type': 'start_phase', 'kickoff_team_id': 3, 'phase': 1, 'ts': '2018-04-29T13:00:15.350Z'}, {'type': 'end_phase', 'phase': 1, 'ts': '2018-04-29T13:46:17.178Z'}, {'type': 'start_phase', 'kickoff_team_id': 7, 'phase': 2, 'ts': '2018-04-29T14:02:03.347Z'}, {'type': 'end_phase', 'phase': 2, 'ts': '2018-04-29T14:51:28.061Z'}]\n",
      "1525006815350\n"
     ]
    },
    {
     "name": "stderr",
     "output_type": "stream",
     "text": [
      "14972it [00:06, 2177.30it/s]\n"
     ]
    },
    {
     "name": "stdout",
     "output_type": "stream",
     "text": [
      "2680\n",
      "16\n",
      "2680 72\n",
      "16\n",
      "24\n"
     ]
    },
    {
     "name": "stderr",
     "output_type": "stream",
     "text": [
      "253it [00:00, 2527.97it/s]"
     ]
    },
    {
     "name": "stdout",
     "output_type": "stream",
     "text": [
      "Parsed ../kickoff-data-corrected/1e67ff07-1ca6-4778-a91e-024007e66974.2.kickoff.rdb in 0.57 s.\n",
      "Contains keys: dict_keys(['right', 'left'])\n",
      "[right] start_ts: 1527184687106 | stop_ts: 1527184986866\n",
      "[left] start_ts: 1527184687170 | stop_ts: 1527184986890\n",
      "../kickoff-data-corrected/1e67ff07-1ca6-4778-a91e-024007e66974.json\n",
      "[{'type': 'start_phase', 'kickoff_team_id': 16, 'phase': 1, 'ts': '2018-05-24T17:00:02.098Z'}, {'type': 'end_phase', 'phase': 1, 'ts': '2018-05-24T17:47:03.722Z'}, {'type': 'start_phase', 'kickoff_team_id': 7, 'phase': 2, 'ts': '2018-05-24T18:03:06.263Z'}, {'type': 'end_phase', 'phase': 2, 'ts': '2018-05-24T18:51:18.432Z'}]\n",
      "1527184986263\n"
     ]
    },
    {
     "name": "stderr",
     "output_type": "stream",
     "text": [
      "7494it [00:02, 2714.93it/s]\n"
     ]
    },
    {
     "name": "stdout",
     "output_type": "stream",
     "text": [
      "2680\n",
      "0\n",
      "2680 28\n",
      "0\n"
     ]
    },
    {
     "name": "stderr",
     "output_type": "stream",
     "text": [
      "452it [00:00, 2228.36it/s]"
     ]
    },
    {
     "name": "stdout",
     "output_type": "stream",
     "text": [
      "Parsed ../kickoff-data-corrected/27bea627-3caa-47ee-93c3-67f0e26f3034.1.kickoff.rdb in 1.95 s.\n",
      "Contains keys: dict_keys(['right', 'left'])\n",
      "[right] start_ts: 1523796957851 | stop_ts: 1523797557411\n",
      "[left] start_ts: 1523796958381 | stop_ts: 1523797557661\n",
      "../kickoff-data-corrected/27bea627-3caa-47ee-93c3-67f0e26f3034.json\n",
      "[{'type': 'start_phase', 'kickoff_team_id': 4, 'phase': 1, 'ts': '2018-04-15T13:00:57.169Z'}, {'type': 'end_phase', 'phase': 1, 'ts': '2018-04-15T13:46:01.064Z'}, {'type': 'start_phase', 'kickoff_team_id': 9, 'phase': 2, 'ts': '2018-04-15T14:01:53.073Z'}, {'type': 'end_phase', 'phase': 2, 'ts': '2018-04-15T14:50:42.654Z'}]\n",
      "1523797257169\n"
     ]
    },
    {
     "name": "stderr",
     "output_type": "stream",
     "text": [
      "14984it [00:08, 1831.15it/s]\n"
     ]
    },
    {
     "name": "stdout",
     "output_type": "stream",
     "text": [
      "2680\n",
      "17\n",
      "2680 73\n",
      "17\n",
      "25\n",
      "Json file edited\n"
     ]
    },
    {
     "name": "stderr",
     "output_type": "stream",
     "text": [
      "318it [00:00, 1535.17it/s]"
     ]
    },
    {
     "name": "stdout",
     "output_type": "stream",
     "text": [
      "Parsed ../kickoff-data-corrected/2739587b-312a-4d40-ba1a-9b5e3ebf5c9c.2.kickoff.rdb in 1.86 s.\n",
      "Contains keys: dict_keys(['right', 'left'])\n",
      "[right] start_ts: 1527429626566 | stop_ts: 1527430225406\n",
      "[left] start_ts: 1527429626666 | stop_ts: 1527430225466\n",
      "../kickoff-data-corrected/2739587b-312a-4d40-ba1a-9b5e3ebf5c9c.json\n",
      "[{'type': 'start_phase', 'kickoff_team_id': 2, 'phase': 1, 'ts': '2018-05-27T13:00:05.658Z'}, {'type': 'end_phase', 'phase': 1, 'ts': '2018-05-27T13:48:06.407Z'}, {'type': 'start_phase', 'kickoff_team_id': 9, 'phase': 2, 'ts': '2018-05-27T14:05:26.306000'}, {'type': 'end_phase', 'phase': 2, 'ts': '2018-05-27T14:54:05.123Z'}]\n",
      "1527429926306\n"
     ]
    },
    {
     "name": "stderr",
     "output_type": "stream",
     "text": [
      "14971it [00:08, 1734.88it/s]\n"
     ]
    },
    {
     "name": "stdout",
     "output_type": "stream",
     "text": [
      "2680\n",
      "16\n",
      "2680 72\n",
      "16\n",
      "26\n"
     ]
    },
    {
     "name": "stderr",
     "output_type": "stream",
     "text": [
      "623it [00:00, 2975.54it/s]"
     ]
    },
    {
     "name": "stdout",
     "output_type": "stream",
     "text": [
      "Parsed ../kickoff-data-corrected/a185c6c8-7383-4d19-927f-dc8f70726c34.2.kickoff.rdb in 1.43 s.\n",
      "Contains keys: dict_keys(['right', 'left'])\n",
      "[right] start_ts: 1523901471657 | stop_ts: 1523902070297\n",
      "[left] start_ts: 1523901471243 | stop_ts: 1523902070043\n",
      "../kickoff-data-corrected/a185c6c8-7383-4d19-927f-dc8f70726c34.json\n",
      "[{'type': 'start_phase', 'kickoff_team_id': 15, 'phase': 1, 'ts': '2018-04-16T17:01:36.817000'}, {'type': 'end_phase', 'phase': 1, 'ts': '2018-04-16T17:46:39.313Z'}, {'type': 'start_phase', 'kickoff_team_id': 2, 'phase': 2, 'ts': '2018-04-16T18:02:50.296Z'}, {'type': 'end_phase', 'phase': 2, 'ts': '2018-04-16T18:49:49.424Z'}]\n",
      "1523901770296\n"
     ]
    },
    {
     "name": "stderr",
     "output_type": "stream",
     "text": [
      "14967it [00:06, 2480.97it/s]\n"
     ]
    },
    {
     "name": "stdout",
     "output_type": "stream",
     "text": [
      "2680\n",
      "16\n",
      "2680 72\n",
      "16\n",
      "27\n"
     ]
    },
    {
     "name": "stderr",
     "output_type": "stream",
     "text": [
      "1170it [00:00, 6058.15it/s]"
     ]
    },
    {
     "name": "stdout",
     "output_type": "stream",
     "text": [
      "Parsed ../kickoff-data-corrected/050a1fae-5d48-4048-8f66-a3f12eca843d.2.kickoff.rdb in 1.27 s.\n",
      "Contains keys: dict_keys(['left', 'right'])\n",
      "[left] start_ts: 1526228825102 | stop_ts: 1526229422022\n",
      "[right] start_ts: 1526228825172 | stop_ts: 1526229422052\n",
      "../kickoff-data-corrected/050a1fae-5d48-4048-8f66-a3f12eca843d.json\n",
      "[{'type': 'start_phase', 'kickoff_team_id': 14, 'phase': 1, 'ts': '2018-05-13T15:30:00.666Z'}, {'type': 'end_phase', 'phase': 1, 'ts': '2018-05-13T16:16:59.553Z'}, {'type': 'start_phase', 'kickoff_team_id': 8, 'phase': 2, 'ts': '2018-05-13T16:32:02.287Z'}, {'type': 'end_phase', 'phase': 2, 'ts': '2018-05-13T17:20:33.812Z'}]\n",
      "1526229122287\n"
     ]
    },
    {
     "name": "stderr",
     "output_type": "stream",
     "text": [
      "14922it [00:05, 2813.70it/s]\n"
     ]
    },
    {
     "name": "stdout",
     "output_type": "stream",
     "text": [
      "2680\n",
      "17\n",
      "2680 72\n",
      "17\n",
      "28\n"
     ]
    },
    {
     "name": "stderr",
     "output_type": "stream",
     "text": [
      "920it [00:00, 4582.22it/s]"
     ]
    },
    {
     "name": "stdout",
     "output_type": "stream",
     "text": [
      "Parsed ../kickoff-data-corrected/84e8b33c-d912-495e-9e21-84bdd18e0e04.2.kickoff.rdb in 1.30 s.\n",
      "Contains keys: dict_keys(['right', 'left'])\n",
      "[right] start_ts: 1523642142209 | stop_ts: 1523642740769\n",
      "[left] start_ts: 1523642141699 | stop_ts: 1523642740539\n",
      "../kickoff-data-corrected/84e8b33c-d912-495e-9e21-84bdd18e0e04.json\n",
      "[{'type': 'start_phase', 'kickoff_team_id': 12, 'phase': 1, 'ts': '2018-04-13T17:00:00.979000'}, {'type': 'end_phase', 'phase': 1, 'ts': '2018-04-13T17:45:38.365Z'}, {'type': 'start_phase', 'kickoff_team_id': 14, 'phase': 2, 'ts': '2018-04-13T18:00:40.466Z'}, {'type': 'end_phase', 'phase': 2, 'ts': '2018-04-13T18:47:41.972Z'}]\n",
      "1523642440466\n"
     ]
    },
    {
     "name": "stderr",
     "output_type": "stream",
     "text": [
      "14965it [00:05, 2822.49it/s]\n"
     ]
    },
    {
     "name": "stdout",
     "output_type": "stream",
     "text": [
      "2680\n",
      "16\n",
      "2680 72\n",
      "16\n",
      "29\n"
     ]
    },
    {
     "name": "stderr",
     "output_type": "stream",
     "text": [
      "763it [00:00, 3750.83it/s]"
     ]
    },
    {
     "name": "stdout",
     "output_type": "stream",
     "text": [
      "Parsed ../kickoff-data-corrected/f9f01fbf-6871-4303-b43f-29c2dd16909d.2.kickoff.rdb in 1.41 s.\n",
      "Contains keys: dict_keys(['left', 'right'])\n",
      "[left] start_ts: 1522677422334 | stop_ts: 1522678021134\n",
      "[right] start_ts: 1522677422216 | stop_ts: 1522678021096\n",
      "../kickoff-data-corrected/f9f01fbf-6871-4303-b43f-29c2dd16909d.json\n",
      "[{'type': 'start_phase', 'kickoff_team_id': 15, 'phase': 1, 'ts': '2018-04-02T13:00:02.978Z'}, {'type': 'end_phase', 'phase': 1, 'ts': '2018-04-02T13:47:02.983Z'}, {'type': 'start_phase', 'kickoff_team_id': 4, 'phase': 2, 'ts': '2018-04-02T14:02:01.386Z'}, {'type': 'end_phase', 'phase': 2, 'ts': '2018-04-02T14:50:07.639Z'}]\n",
      "1522677721386\n"
     ]
    },
    {
     "name": "stderr",
     "output_type": "stream",
     "text": [
      "14971it [00:05, 2521.56it/s]\n"
     ]
    },
    {
     "name": "stdout",
     "output_type": "stream",
     "text": [
      "2680\n",
      "17\n",
      "2680 73\n",
      "17\n",
      "30\n"
     ]
    },
    {
     "name": "stderr",
     "output_type": "stream",
     "text": [
      "497it [00:00, 2463.12it/s]"
     ]
    },
    {
     "name": "stdout",
     "output_type": "stream",
     "text": [
      "Parsed ../kickoff-data-corrected/41c3f1b3-a868-459b-9766-760be49947b2.2.kickoff.rdb in 1.56 s.\n",
      "Contains keys: dict_keys(['right', 'left'])\n",
      "[right] start_ts: 1526320586601 | stop_ts: 1526321186441\n",
      "[left] start_ts: 1526320586615 | stop_ts: 1526321186455\n",
      "../kickoff-data-corrected/41c3f1b3-a868-459b-9766-760be49947b2.json\n",
      "[{'type': 'start_phase', 'kickoff_team_id': 9, 'phase': 1, 'ts': '2018-05-14T17:00:21.871Z'}, {'type': 'end_phase', 'phase': 1, 'ts': '2018-05-14T17:46:22.241Z'}, {'type': 'start_phase', 'kickoff_team_id': 1, 'phase': 2, 'ts': '2018-05-14T18:01:26.755Z'}, {'type': 'end_phase', 'phase': 2, 'ts': '2018-05-14T18:49:29.553Z'}]\n",
      "1526320886755\n"
     ]
    },
    {
     "name": "stderr",
     "output_type": "stream",
     "text": [
      "14997it [00:07, 2118.83it/s]\n"
     ]
    },
    {
     "name": "stdout",
     "output_type": "stream",
     "text": [
      "2680\n",
      "16\n",
      "2680 72\n",
      "16\n",
      "31\n"
     ]
    },
    {
     "name": "stderr",
     "output_type": "stream",
     "text": [
      "388it [00:00, 3878.36it/s]"
     ]
    },
    {
     "name": "stdout",
     "output_type": "stream",
     "text": [
      "Parsed ../kickoff-data-corrected/58bc418b-cf05-415e-9dd1-6f4808535976.2.kickoff.rdb in 1.40 s.\n",
      "Contains keys: dict_keys(['left', 'right'])\n",
      "[left] start_ts: 1523297008806 | stop_ts: 1523297605726\n",
      "[right] start_ts: 1523297009328 | stop_ts: 1523297605968\n",
      "../kickoff-data-corrected/58bc418b-cf05-415e-9dd1-6f4808535976.json\n",
      "[{'type': 'start_phase', 'kickoff_team_id': 8, 'phase': 1, 'ts': '2018-04-09T17:00:56.973Z'}, {'type': 'end_phase', 'phase': 1, 'ts': '2018-04-09T17:47:19.651Z'}, {'type': 'start_phase', 'kickoff_team_id': 10, 'phase': 2, 'ts': '2018-04-09T18:08:25.917Z'}, {'type': 'end_phase', 'phase': 2, 'ts': '2018-04-09T18:57:31.075Z'}]\n",
      "1523297305917\n"
     ]
    },
    {
     "name": "stderr",
     "output_type": "stream",
     "text": [
      "14917it [00:06, 2385.05it/s]\n"
     ]
    },
    {
     "name": "stdout",
     "output_type": "stream",
     "text": [
      "2680\n",
      "16\n",
      "2680 71\n",
      "16\n",
      "32\n"
     ]
    }
   ],
   "source": [
    "create_dataset('../kickoff-data-corrected/data.pickle.1.10.classif',10)"
   ]
  },
  {
   "cell_type": "code",
   "execution_count": 64,
   "metadata": {},
   "outputs": [
    {
     "name": "stderr",
     "output_type": "stream",
     "text": [
      "846it [00:00, 4234.27it/s]"
     ]
    },
    {
     "name": "stdout",
     "output_type": "stream",
     "text": [
      "Parsed ../kickoff-detection-data/24978380-482e-4ba4-a124-5142d43f8c91.2.kickoff.rdb in 0.57 s.\n",
      "Contains keys: dict_keys(['right', 'left'])\n",
      "[right] start_ts: 1527184564976 | stop_ts: 1527184864816\n",
      "[left] start_ts: 1527184568814 | stop_ts: 1527184864734\n",
      "../kickoff-detection-data/24978380-482e-4ba4-a124-5142d43f8c91.json\n",
      "[{'kickoff_team_id': 14, 'type': 'start_phase', 'phase': 1, 'ts': '2018-05-24T17:00:00.628Z'}, {'type': 'end_phase', 'phase': 1, 'ts': '2018-05-24T17:45:58.124Z'}, {'kickoff_team_id': 15, 'type': 'start_phase', 'phase': 2, 'ts': '2018-05-24T18:01:04.269Z'}, {'type': 'end_phase', 'phase': 2, 'ts': '2018-05-24T18:49:34.388Z'}]\n",
      "1527184864269\n"
     ]
    },
    {
     "name": "stderr",
     "output_type": "stream",
     "text": [
      "7398it [00:02, 3455.41it/s]\n"
     ]
    },
    {
     "name": "stdout",
     "output_type": "stream",
     "text": [
      "0 0\n",
      "[]\n",
      "[]\n"
     ]
    },
    {
     "name": "stderr",
     "output_type": "stream",
     "text": [
      "385it [00:00, 3849.49it/s]"
     ]
    },
    {
     "name": "stdout",
     "output_type": "stream",
     "text": [
      "Parsed ../kickoff-detection-data/e0646790-9750-47eb-85ac-a7065fbcd4dd.2.kickoff.rdb in 0.65 s.\n",
      "Contains keys: dict_keys(['right', 'left'])\n",
      "[right] start_ts: 1524414577904 | stop_ts: 1524414874304\n",
      "[left] start_ts: 1524414578448 | stop_ts: 1524414874608\n",
      "../kickoff-detection-data/e0646790-9750-47eb-85ac-a7065fbcd4dd.json\n",
      "[{'kickoff_team_id': 6, 'type': 'start_phase', 'phase': 1, 'ts': '2018-04-22T15:29:51.323Z'}, {'type': 'end_phase', 'phase': 1, 'ts': '2018-04-22T16:18:51.239Z'}, {'kickoff_team_id': 10, 'type': 'start_phase', 'phase': 2, 'ts': '2018-04-22T16:34:34.675Z'}, {'type': 'end_phase', 'phase': 2, 'ts': '2018-04-22T17:22:35.491Z'}]\n",
      "1524414874675\n"
     ]
    },
    {
     "name": "stderr",
     "output_type": "stream",
     "text": [
      "7405it [00:02, 3273.94it/s]\n"
     ]
    },
    {
     "name": "stdout",
     "output_type": "stream",
     "text": [
      "0 0\n",
      "[]\n",
      "[]\n"
     ]
    },
    {
     "name": "stderr",
     "output_type": "stream",
     "text": [
      "795it [00:00, 4119.98it/s]"
     ]
    },
    {
     "name": "stdout",
     "output_type": "stream",
     "text": [
      "Parsed ../kickoff-detection-data/bff5f37c-be85-4f08-b6d4-a01e6c22fe0e.1.kickoff.rdb in 1.82 s.\n",
      "Contains keys: dict_keys(['right', 'left'])\n",
      "[right] start_ts: 1523984147529 | stop_ts: 1523984746449\n",
      "[left] start_ts: 1523984148353 | stop_ts: 1523984746873\n",
      "../kickoff-detection-data/bff5f37c-be85-4f08-b6d4-a01e6c22fe0e.json\n",
      "[{'kickoff_team_id': 14, 'type': 'start_phase', 'phase': 1, 'ts': '2018-04-17T17:00:46.604Z'}, {'type': 'end_phase', 'phase': 1, 'ts': '2018-04-17T17:45:52.314Z'}, {'kickoff_team_id': 3, 'type': 'start_phase', 'phase': 2, 'ts': '2018-04-17T18:00:53.147Z'}, {'type': 'end_phase', 'phase': 2, 'ts': '2018-04-17T18:51:00.072Z'}]\n",
      "1523984446604\n"
     ]
    },
    {
     "name": "stderr",
     "output_type": "stream",
     "text": [
      "14964it [00:07, 2031.95it/s]\n"
     ]
    },
    {
     "name": "stdout",
     "output_type": "stream",
     "text": [
      "576 576\n",
      "280\n",
      "16\n",
      "16 16\n",
      "[[0, 0, 0, 0, 0, 0, 0, 0, 0, 0, 0, 0, 0, 0, 0, 0, 0, 1, 0, 0], [0, 0, 0, 0, 0, 0, 0, 0, 0, 0, 0, 0, 0, 0, 0, 0, 1, 0, 0, 0], [0, 0, 0, 0, 0, 0, 0, 0, 0, 0, 0, 0, 0, 0, 0, 1, 0, 0, 0, 0], [0, 0, 0, 0, 0, 0, 0, 0, 0, 0, 0, 0, 0, 0, 1, 0, 0, 0, 0, 0], [0, 0, 0, 0, 0, 0, 0, 0, 0, 0, 0, 0, 0, 1, 0, 0, 0, 0, 0, 0], [0, 0, 0, 0, 0, 0, 0, 0, 0, 0, 0, 0, 1, 0, 0, 0, 0, 0, 0, 0], [0, 0, 0, 0, 0, 0, 0, 0, 0, 0, 0, 1, 0, 0, 0, 0, 0, 0, 0, 0], [0, 0, 0, 0, 0, 0, 0, 0, 0, 0, 1, 0, 0, 0, 0, 0, 0, 0, 0, 0], [0, 0, 0, 0, 0, 0, 0, 0, 0, 1, 0, 0, 0, 0, 0, 0, 0, 0, 0, 0], [0, 0, 0, 0, 0, 0, 0, 0, 1, 0, 0, 0, 0, 0, 0, 0, 0, 0, 0, 0], [0, 0, 0, 0, 0, 0, 0, 1, 0, 0, 0, 0, 0, 0, 0, 0, 0, 0, 0, 0], [0, 0, 0, 0, 0, 0, 1, 0, 0, 0, 0, 0, 0, 0, 0, 0, 0, 0, 0, 0], [0, 0, 0, 0, 0, 1, 0, 0, 0, 0, 0, 0, 0, 0, 0, 0, 0, 0, 0, 0], [0, 0, 0, 0, 1, 0, 0, 0, 0, 0, 0, 0, 0, 0, 0, 0, 0, 0, 0, 0], [0, 0, 0, 1, 0, 0, 0, 0, 0, 0, 0, 0, 0, 0, 0, 0, 0, 0, 0, 0], [0, 0, 1, 0, 0, 0, 0, 0, 0, 0, 0, 0, 0, 0, 0, 0, 0, 0, 0, 0]]\n",
      "[2, 3, 4, 5, 6, 7, 8, 9, 10, 11, 12, 13, 14, 15, 16, 17]\n"
     ]
    },
    {
     "name": "stderr",
     "output_type": "stream",
     "text": [
      "524it [00:00, 2560.89it/s]"
     ]
    },
    {
     "name": "stdout",
     "output_type": "stream",
     "text": [
      "Parsed ../kickoff-detection-data/41c3f1b3-a868-459b-9766-760be49947b2.1.kickoff.rdb in 2.10 s.\n",
      "Contains keys: dict_keys(['right', 'left'])\n",
      "[right] start_ts: 1526316922561 | stop_ts: 1526317521441\n",
      "[left] start_ts: 1526316922655 | stop_ts: 1526317521455\n",
      "../kickoff-detection-data/41c3f1b3-a868-459b-9766-760be49947b2.json\n",
      "[{'kickoff_team_id': 9, 'type': 'start_phase', 'phase': 1, 'ts': '2018-05-14T17:00:21.871Z'}, {'type': 'end_phase', 'phase': 1, 'ts': '2018-05-14T17:46:22.241Z'}, {'kickoff_team_id': 1, 'type': 'start_phase', 'phase': 2, 'ts': '2018-05-14T18:01:26.755Z'}, {'type': 'end_phase', 'phase': 2, 'ts': '2018-05-14T18:49:29.553Z'}]\n",
      "1526317221871\n"
     ]
    },
    {
     "name": "stderr",
     "output_type": "stream",
     "text": [
      "14972it [00:07, 1992.20it/s]\n"
     ]
    },
    {
     "name": "stdout",
     "output_type": "stream",
     "text": [
      "577 577\n",
      "281\n",
      "16\n",
      "16 16\n",
      "[[0, 0, 0, 0, 0, 0, 0, 0, 0, 0, 0, 0, 0, 0, 0, 0, 0, 1, 0, 0], [0, 0, 0, 0, 0, 0, 0, 0, 0, 0, 0, 0, 0, 0, 0, 0, 1, 0, 0, 0], [0, 0, 0, 0, 0, 0, 0, 0, 0, 0, 0, 0, 0, 0, 0, 1, 0, 0, 0, 0], [0, 0, 0, 0, 0, 0, 0, 0, 0, 0, 0, 0, 0, 0, 1, 0, 0, 0, 0, 0], [0, 0, 0, 0, 0, 0, 0, 0, 0, 0, 0, 0, 0, 1, 0, 0, 0, 0, 0, 0], [0, 0, 0, 0, 0, 0, 0, 0, 0, 0, 0, 0, 1, 0, 0, 0, 0, 0, 0, 0], [0, 0, 0, 0, 0, 0, 0, 0, 0, 0, 0, 1, 0, 0, 0, 0, 0, 0, 0, 0], [0, 0, 0, 0, 0, 0, 0, 0, 0, 0, 1, 0, 0, 0, 0, 0, 0, 0, 0, 0], [0, 0, 0, 0, 0, 0, 0, 0, 0, 1, 0, 0, 0, 0, 0, 0, 0, 0, 0, 0], [0, 0, 0, 0, 0, 0, 0, 0, 1, 0, 0, 0, 0, 0, 0, 0, 0, 0, 0, 0], [0, 0, 0, 0, 0, 0, 0, 1, 0, 0, 0, 0, 0, 0, 0, 0, 0, 0, 0, 0], [0, 0, 0, 0, 0, 0, 1, 0, 0, 0, 0, 0, 0, 0, 0, 0, 0, 0, 0, 0], [0, 0, 0, 0, 0, 1, 0, 0, 0, 0, 0, 0, 0, 0, 0, 0, 0, 0, 0, 0], [0, 0, 0, 0, 1, 0, 0, 0, 0, 0, 0, 0, 0, 0, 0, 0, 0, 0, 0, 0], [0, 0, 0, 1, 0, 0, 0, 0, 0, 0, 0, 0, 0, 0, 0, 0, 0, 0, 0, 0], [0, 0, 1, 0, 0, 0, 0, 0, 0, 0, 0, 0, 0, 0, 0, 0, 0, 0, 0, 0]]\n",
      "[2, 3, 4, 5, 6, 7, 8, 9, 10, 11, 12, 13, 14, 15, 16, 17]\n",
      "2\n"
     ]
    },
    {
     "name": "stderr",
     "output_type": "stream",
     "text": [
      "354it [00:00, 3535.79it/s]"
     ]
    },
    {
     "name": "stdout",
     "output_type": "stream",
     "text": [
      "Parsed ../kickoff-detection-data/aadecf3a-0d92-4ace-b643-ced44474e157.2.kickoff.rdb in 0.66 s.\n",
      "Contains keys: dict_keys(['right', 'left'])\n",
      "[right] start_ts: 1524160591665 | stop_ts: 1524160889465\n",
      "[left] start_ts: 1524160591139 | stop_ts: 1524160889179\n",
      "../kickoff-detection-data/aadecf3a-0d92-4ace-b643-ced44474e157.json\n",
      "[{'kickoff_team_id': 15, 'type': 'start_phase', 'phase': 1, 'ts': '2018-04-19T17:00:01.137Z'}, {'type': 'end_phase', 'phase': 1, 'ts': '2018-04-19T17:46:04.420Z'}, {'kickoff_team_id': 7, 'type': 'start_phase', 'phase': 2, 'ts': '2018-04-19T18:01:29.369Z'}, {'type': 'end_phase', 'phase': 2, 'ts': '2018-04-19T18:49:42.844Z'}]\n",
      "1524160889369\n"
     ]
    },
    {
     "name": "stderr",
     "output_type": "stream",
     "text": [
      "7446it [00:02, 2892.80it/s]\n"
     ]
    },
    {
     "name": "stdout",
     "output_type": "stream",
     "text": [
      "0 0\n",
      "[]\n",
      "[]\n"
     ]
    },
    {
     "name": "stderr",
     "output_type": "stream",
     "text": [
      "485it [00:00, 2511.22it/s]"
     ]
    },
    {
     "name": "stdout",
     "output_type": "stream",
     "text": [
      "Parsed ../kickoff-detection-data/24978380-482e-4ba4-a124-5142d43f8c91.1.kickoff.rdb in 1.24 s.\n",
      "Contains keys: dict_keys(['right', 'left'])\n",
      "[right] start_ts: 1527180900976 | stop_ts: 1527181200816\n",
      "[left] start_ts: 1527180904814 | stop_ts: 1527181200734\n",
      "../kickoff-detection-data/24978380-482e-4ba4-a124-5142d43f8c91.json\n",
      "[{'kickoff_team_id': 14, 'type': 'start_phase', 'phase': 1, 'ts': '2018-05-24T17:00:00.628Z'}, {'type': 'end_phase', 'phase': 1, 'ts': '2018-05-24T17:45:58.124Z'}, {'kickoff_team_id': 15, 'type': 'start_phase', 'phase': 2, 'ts': '2018-05-24T18:01:04.269Z'}, {'type': 'end_phase', 'phase': 2, 'ts': '2018-05-24T18:49:34.388Z'}]\n",
      "1527181200628\n"
     ]
    },
    {
     "name": "stderr",
     "output_type": "stream",
     "text": [
      "7399it [00:03, 1933.62it/s]\n"
     ]
    },
    {
     "name": "stdout",
     "output_type": "stream",
     "text": [
      "0 0\n",
      "[]\n",
      "[]\n"
     ]
    },
    {
     "name": "stderr",
     "output_type": "stream",
     "text": [
      "479it [00:00, 2401.33it/s]"
     ]
    },
    {
     "name": "stdout",
     "output_type": "stream",
     "text": [
      "Parsed ../kickoff-detection-data/f9f01fbf-6871-4303-b43f-29c2dd16909d.1.kickoff.rdb in 2.66 s.\n",
      "Contains keys: dict_keys(['right', 'left'])\n",
      "[right] start_ts: 1522673702216 | stop_ts: 1522674302096\n",
      "[left] start_ts: 1522673702294 | stop_ts: 1522674302134\n",
      "../kickoff-detection-data/f9f01fbf-6871-4303-b43f-29c2dd16909d.json\n",
      "[{'kickoff_team_id': 15, 'type': 'start_phase', 'phase': 1, 'ts': '2018-04-02T13:00:02.978Z'}, {'type': 'end_phase', 'phase': 1, 'ts': '2018-04-02T13:47:02.983Z'}, {'kickoff_team_id': 4, 'type': 'start_phase', 'phase': 2, 'ts': '2018-04-02T14:02:01.386Z'}, {'type': 'end_phase', 'phase': 2, 'ts': '2018-04-02T14:50:07.639Z'}]\n",
      "1522674002978\n"
     ]
    },
    {
     "name": "stderr",
     "output_type": "stream",
     "text": [
      "14996it [00:08, 1865.15it/s]\n"
     ]
    },
    {
     "name": "stdout",
     "output_type": "stream",
     "text": [
      "577 577\n",
      "281\n",
      "17\n",
      "17 17\n",
      "[[0, 0, 0, 0, 0, 0, 0, 0, 0, 0, 0, 0, 0, 0, 0, 0, 0, 1, 0, 0], [0, 0, 0, 0, 0, 0, 0, 0, 0, 0, 0, 0, 0, 0, 0, 0, 1, 0, 0, 0], [0, 0, 0, 0, 0, 0, 0, 0, 0, 0, 0, 0, 0, 0, 0, 1, 0, 0, 0, 0], [0, 0, 0, 0, 0, 0, 0, 0, 0, 0, 0, 0, 0, 0, 1, 0, 0, 0, 0, 0], [0, 0, 0, 0, 0, 0, 0, 0, 0, 0, 0, 0, 0, 1, 0, 0, 0, 0, 0, 0], [0, 0, 0, 0, 0, 0, 0, 0, 0, 0, 0, 0, 1, 0, 0, 0, 0, 0, 0, 0], [0, 0, 0, 0, 0, 0, 0, 0, 0, 0, 0, 1, 0, 0, 0, 0, 0, 0, 0, 0], [0, 0, 0, 0, 0, 0, 0, 0, 0, 0, 1, 0, 0, 0, 0, 0, 0, 0, 0, 0], [0, 0, 0, 0, 0, 0, 0, 0, 0, 1, 0, 0, 0, 0, 0, 0, 0, 0, 0, 0], [0, 0, 0, 0, 0, 0, 0, 0, 1, 0, 0, 0, 0, 0, 0, 0, 0, 0, 0, 0], [0, 0, 0, 0, 0, 0, 0, 1, 0, 0, 0, 0, 0, 0, 0, 0, 0, 0, 0, 0], [0, 0, 0, 0, 0, 0, 1, 0, 0, 0, 0, 0, 0, 0, 0, 0, 0, 0, 0, 0], [0, 0, 0, 0, 0, 1, 0, 0, 0, 0, 0, 0, 0, 0, 0, 0, 0, 0, 0, 0], [0, 0, 0, 0, 1, 0, 0, 0, 0, 0, 0, 0, 0, 0, 0, 0, 0, 0, 0, 0], [0, 0, 0, 1, 0, 0, 0, 0, 0, 0, 0, 0, 0, 0, 0, 0, 0, 0, 0, 0], [0, 0, 1, 0, 0, 0, 0, 0, 0, 0, 0, 0, 0, 0, 0, 0, 0, 0, 0, 0], [0, 1, 0, 0, 0, 0, 0, 0, 0, 0, 0, 0, 0, 0, 0, 0, 0, 0, 0, 0]]\n",
      "[2, 3, 4, 5, 6, 7, 8, 9, 10, 11, 12, 13, 14, 15, 16, 17, 18]\n",
      "3\n"
     ]
    },
    {
     "name": "stderr",
     "output_type": "stream",
     "text": [
      "223it [00:00, 1104.22it/s]"
     ]
    },
    {
     "name": "stdout",
     "output_type": "stream",
     "text": [
      "Parsed ../kickoff-detection-data/c0b1883d-4420-48aa-9805-9318a20e56ae.1.kickoff.rdb in 3.03 s.\n",
      "Contains keys: dict_keys(['right', 'left'])\n",
      "[right] start_ts: 1527350105245 | stop_ts: 1527350403085\n",
      "[left] start_ts: 1527350105211 | stop_ts: 1527350403091\n",
      "../kickoff-detection-data/c0b1883d-4420-48aa-9805-9318a20e56ae.json\n",
      "[{'kickoff_team_id': 5, 'type': 'start_phase', 'phase': 1, 'ts': '2018-05-26T16:00:03.259Z'}, {'type': 'end_phase', 'phase': 1, 'ts': '2018-05-26T16:46:00.357Z'}, {'kickoff_team_id': 13, 'type': 'start_phase', 'phase': 2, 'ts': '2018-05-26T17:01:25.967Z'}, {'type': 'end_phase', 'phase': 2, 'ts': '2018-05-26T17:49:27.835Z'}]\n",
      "1527350403259\n"
     ]
    },
    {
     "name": "stderr",
     "output_type": "stream",
     "text": [
      "7447it [00:06, 1120.65it/s]\n"
     ]
    },
    {
     "name": "stdout",
     "output_type": "stream",
     "text": [
      "0 0\n",
      "[]\n",
      "[]\n"
     ]
    },
    {
     "name": "stderr",
     "output_type": "stream",
     "text": [
      "538it [00:00, 2661.33it/s]"
     ]
    },
    {
     "name": "stdout",
     "output_type": "stream",
     "text": [
      "Parsed ../kickoff-detection-data/9ab7ccfb-75cb-4756-9eb5-fe8c29de8fcc.1.kickoff.rdb in 0.79 s.\n",
      "Contains keys: dict_keys(['right', 'left'])\n",
      "[right] start_ts: 1525620373530 | stop_ts: 1525620670290\n",
      "[left] start_ts: 1525620373398 | stop_ts: 1525620670238\n",
      "../kickoff-detection-data/9ab7ccfb-75cb-4756-9eb5-fe8c29de8fcc.json\n",
      "[{'kickoff_team_id': 10, 'type': 'start_phase', 'phase': 1, 'ts': '2018-05-06T15:31:10.100Z'}, {'type': 'end_phase', 'phase': 1, 'ts': '2018-05-06T16:16:18.200Z'}, {'kickoff_team_id': 7, 'type': 'start_phase', 'phase': 2, 'ts': '2018-05-06T16:32:05.306Z'}, {'type': 'end_phase', 'phase': 2, 'ts': '2018-05-06T17:20:08.236Z'}]\n",
      "1525620670100\n"
     ]
    },
    {
     "name": "stderr",
     "output_type": "stream",
     "text": [
      "7421it [00:02, 2933.87it/s]\n"
     ]
    },
    {
     "name": "stdout",
     "output_type": "stream",
     "text": [
      "0 0\n",
      "[]\n",
      "[]\n"
     ]
    },
    {
     "name": "stderr",
     "output_type": "stream",
     "text": [
      "742it [00:00, 3770.60it/s]"
     ]
    },
    {
     "name": "stdout",
     "output_type": "stream",
     "text": [
      "Parsed ../kickoff-detection-data/0ad7e9ee-4ff5-4bfa-b2f6-82a1cde04eeb.2.kickoff.rdb in 1.77 s.\n",
      "Contains keys: dict_keys(['right', 'left'])\n",
      "[right] start_ts: 1524414345649 | stop_ts: 1524414944249\n",
      "[left] start_ts: 1524414345139 | stop_ts: 1524414943979\n",
      "../kickoff-detection-data/0ad7e9ee-4ff5-4bfa-b2f6-82a1cde04eeb.json\n",
      "[{'kickoff_team_id': 14, 'type': 'start_phase', 'phase': 1, 'ts': '2018-04-22T15:30:02.243Z'}, {'type': 'end_phase', 'phase': 1, 'ts': '2018-04-22T16:15:07.030Z'}, {'kickoff_team_id': 9, 'type': 'start_phase', 'phase': 2, 'ts': '2018-04-22T16:30:44.239Z'}, {'type': 'end_phase', 'phase': 2, 'ts': '2018-04-22T17:20:43.958Z'}]\n",
      "1524414644239\n"
     ]
    },
    {
     "name": "stderr",
     "output_type": "stream",
     "text": [
      "14966it [00:06, 2492.60it/s]\n"
     ]
    },
    {
     "name": "stdout",
     "output_type": "stream",
     "text": [
      "576 576\n",
      "280\n",
      "16\n",
      "16 16\n",
      "[[0, 0, 0, 0, 0, 0, 0, 0, 0, 0, 0, 0, 0, 0, 0, 0, 0, 1, 0, 0], [0, 0, 0, 0, 0, 0, 0, 0, 0, 0, 0, 0, 0, 0, 0, 0, 1, 0, 0, 0], [0, 0, 0, 0, 0, 0, 0, 0, 0, 0, 0, 0, 0, 0, 0, 1, 0, 0, 0, 0], [0, 0, 0, 0, 0, 0, 0, 0, 0, 0, 0, 0, 0, 0, 1, 0, 0, 0, 0, 0], [0, 0, 0, 0, 0, 0, 0, 0, 0, 0, 0, 0, 0, 1, 0, 0, 0, 0, 0, 0], [0, 0, 0, 0, 0, 0, 0, 0, 0, 0, 0, 0, 1, 0, 0, 0, 0, 0, 0, 0], [0, 0, 0, 0, 0, 0, 0, 0, 0, 0, 0, 1, 0, 0, 0, 0, 0, 0, 0, 0], [0, 0, 0, 0, 0, 0, 0, 0, 0, 0, 1, 0, 0, 0, 0, 0, 0, 0, 0, 0], [0, 0, 0, 0, 0, 0, 0, 0, 0, 1, 0, 0, 0, 0, 0, 0, 0, 0, 0, 0], [0, 0, 0, 0, 0, 0, 0, 0, 1, 0, 0, 0, 0, 0, 0, 0, 0, 0, 0, 0], [0, 0, 0, 0, 0, 0, 0, 1, 0, 0, 0, 0, 0, 0, 0, 0, 0, 0, 0, 0], [0, 0, 0, 0, 0, 0, 1, 0, 0, 0, 0, 0, 0, 0, 0, 0, 0, 0, 0, 0], [0, 0, 0, 0, 0, 1, 0, 0, 0, 0, 0, 0, 0, 0, 0, 0, 0, 0, 0, 0], [0, 0, 0, 0, 1, 0, 0, 0, 0, 0, 0, 0, 0, 0, 0, 0, 0, 0, 0, 0], [0, 0, 0, 1, 0, 0, 0, 0, 0, 0, 0, 0, 0, 0, 0, 0, 0, 0, 0, 0], [0, 0, 1, 0, 0, 0, 0, 0, 0, 0, 0, 0, 0, 0, 0, 0, 0, 0, 0, 0]]\n",
      "[2, 3, 4, 5, 6, 7, 8, 9, 10, 11, 12, 13, 14, 15, 16, 17]\n",
      "4\n"
     ]
    },
    {
     "name": "stderr",
     "output_type": "stream",
     "text": [
      "343it [00:00, 3421.69it/s]"
     ]
    },
    {
     "name": "stdout",
     "output_type": "stream",
     "text": [
      "Parsed ../kickoff-detection-data/6e26f66b-a921-4919-9d7d-1bd59f935e78.2.kickoff.rdb in 1.76 s.\n",
      "Contains keys: dict_keys(['right', 'left'])\n",
      "[right] start_ts: 1523642362979 | stop_ts: 1523642961819\n",
      "[left] start_ts: 1523642363613 | stop_ts: 1523642962133\n",
      "../kickoff-detection-data/6e26f66b-a921-4919-9d7d-1bd59f935e78.json\n",
      "[{'kickoff_team_id': 3, 'type': 'start_phase', 'phase': 1, 'ts': '2018-04-13T17:01:26.037Z'}, {'type': 'end_phase', 'phase': 1, 'ts': '2018-04-13T17:48:25.115Z'}, {'kickoff_team_id': 8, 'type': 'start_phase', 'phase': 2, 'ts': '2018-04-13T18:04:22.102Z'}, {'type': 'end_phase', 'phase': 2, 'ts': '2018-04-13T18:52:23.632Z'}]\n",
      "1523642662102\n"
     ]
    },
    {
     "name": "stderr",
     "output_type": "stream",
     "text": [
      "14964it [00:06, 2305.12it/s]\n"
     ]
    },
    {
     "name": "stdout",
     "output_type": "stream",
     "text": [
      "576 576\n",
      "280\n",
      "16\n",
      "16 16\n",
      "[[0, 0, 0, 0, 0, 0, 0, 0, 0, 0, 0, 0, 0, 0, 0, 0, 0, 1, 0, 0], [0, 0, 0, 0, 0, 0, 0, 0, 0, 0, 0, 0, 0, 0, 0, 0, 1, 0, 0, 0], [0, 0, 0, 0, 0, 0, 0, 0, 0, 0, 0, 0, 0, 0, 0, 1, 0, 0, 0, 0], [0, 0, 0, 0, 0, 0, 0, 0, 0, 0, 0, 0, 0, 0, 1, 0, 0, 0, 0, 0], [0, 0, 0, 0, 0, 0, 0, 0, 0, 0, 0, 0, 0, 1, 0, 0, 0, 0, 0, 0], [0, 0, 0, 0, 0, 0, 0, 0, 0, 0, 0, 0, 1, 0, 0, 0, 0, 0, 0, 0], [0, 0, 0, 0, 0, 0, 0, 0, 0, 0, 0, 1, 0, 0, 0, 0, 0, 0, 0, 0], [0, 0, 0, 0, 0, 0, 0, 0, 0, 0, 1, 0, 0, 0, 0, 0, 0, 0, 0, 0], [0, 0, 0, 0, 0, 0, 0, 0, 0, 1, 0, 0, 0, 0, 0, 0, 0, 0, 0, 0], [0, 0, 0, 0, 0, 0, 0, 0, 1, 0, 0, 0, 0, 0, 0, 0, 0, 0, 0, 0], [0, 0, 0, 0, 0, 0, 0, 1, 0, 0, 0, 0, 0, 0, 0, 0, 0, 0, 0, 0], [0, 0, 0, 0, 0, 0, 1, 0, 0, 0, 0, 0, 0, 0, 0, 0, 0, 0, 0, 0], [0, 0, 0, 0, 0, 1, 0, 0, 0, 0, 0, 0, 0, 0, 0, 0, 0, 0, 0, 0], [0, 0, 0, 0, 1, 0, 0, 0, 0, 0, 0, 0, 0, 0, 0, 0, 0, 0, 0, 0], [0, 0, 0, 1, 0, 0, 0, 0, 0, 0, 0, 0, 0, 0, 0, 0, 0, 0, 0, 0], [0, 0, 1, 0, 0, 0, 0, 0, 0, 0, 0, 0, 0, 0, 0, 0, 0, 0, 0, 0]]\n",
      "[2, 3, 4, 5, 6, 7, 8, 9, 10, 11, 12, 13, 14, 15, 16, 17]\n",
      "5\n"
     ]
    },
    {
     "name": "stderr",
     "output_type": "stream",
     "text": [
      "170it [00:00, 1692.76it/s]"
     ]
    },
    {
     "name": "stdout",
     "output_type": "stream",
     "text": [
      "Parsed ../kickoff-detection-data/27bea627-3caa-47ee-93c3-67f0e26f3034.2.kickoff.rdb in 2.35 s.\n",
      "Contains keys: dict_keys(['right', 'left'])\n",
      "[right] start_ts: 1523800613851 | stop_ts: 1523801213411\n",
      "[left] start_ts: 1523800614341 | stop_ts: 1523801213661\n",
      "../kickoff-detection-data/27bea627-3caa-47ee-93c3-67f0e26f3034.json\n",
      "[{'kickoff_team_id': 4, 'type': 'start_phase', 'phase': 1, 'ts': '2018-04-15T13:00:57.169Z'}, {'type': 'end_phase', 'phase': 1, 'ts': '2018-04-15T13:46:01.064Z'}, {'kickoff_team_id': 9, 'type': 'start_phase', 'phase': 2, 'ts': '2018-04-15T14:01:53.073Z'}, {'type': 'end_phase', 'phase': 2, 'ts': '2018-04-15T14:50:42.654Z'}]\n",
      "1523800913073\n"
     ]
    },
    {
     "name": "stderr",
     "output_type": "stream",
     "text": [
      "14983it [00:07, 2090.66it/s]\n"
     ]
    },
    {
     "name": "stdout",
     "output_type": "stream",
     "text": [
      "577 577\n",
      "280\n",
      "16\n",
      "16 16\n",
      "[[0, 0, 0, 0, 0, 0, 0, 0, 0, 0, 0, 0, 0, 0, 0, 0, 0, 1, 0, 0], [0, 0, 0, 0, 0, 0, 0, 0, 0, 0, 0, 0, 0, 0, 0, 0, 1, 0, 0, 0], [0, 0, 0, 0, 0, 0, 0, 0, 0, 0, 0, 0, 0, 0, 0, 1, 0, 0, 0, 0], [0, 0, 0, 0, 0, 0, 0, 0, 0, 0, 0, 0, 0, 0, 1, 0, 0, 0, 0, 0], [0, 0, 0, 0, 0, 0, 0, 0, 0, 0, 0, 0, 0, 1, 0, 0, 0, 0, 0, 0], [0, 0, 0, 0, 0, 0, 0, 0, 0, 0, 0, 0, 1, 0, 0, 0, 0, 0, 0, 0], [0, 0, 0, 0, 0, 0, 0, 0, 0, 0, 0, 1, 0, 0, 0, 0, 0, 0, 0, 0], [0, 0, 0, 0, 0, 0, 0, 0, 0, 0, 1, 0, 0, 0, 0, 0, 0, 0, 0, 0], [0, 0, 0, 0, 0, 0, 0, 0, 0, 1, 0, 0, 0, 0, 0, 0, 0, 0, 0, 0], [0, 0, 0, 0, 0, 0, 0, 0, 1, 0, 0, 0, 0, 0, 0, 0, 0, 0, 0, 0], [0, 0, 0, 0, 0, 0, 0, 1, 0, 0, 0, 0, 0, 0, 0, 0, 0, 0, 0, 0], [0, 0, 0, 0, 0, 0, 1, 0, 0, 0, 0, 0, 0, 0, 0, 0, 0, 0, 0, 0], [0, 0, 0, 0, 0, 1, 0, 0, 0, 0, 0, 0, 0, 0, 0, 0, 0, 0, 0, 0], [0, 0, 0, 0, 1, 0, 0, 0, 0, 0, 0, 0, 0, 0, 0, 0, 0, 0, 0, 0], [0, 0, 0, 1, 0, 0, 0, 0, 0, 0, 0, 0, 0, 0, 0, 0, 0, 0, 0, 0], [0, 0, 1, 0, 0, 0, 0, 0, 0, 0, 0, 0, 0, 0, 0, 0, 0, 0, 0, 0]]\n",
      "[2, 3, 4, 5, 6, 7, 8, 9, 10, 11, 12, 13, 14, 15, 16, 17]\n",
      "6\n"
     ]
    },
    {
     "name": "stderr",
     "output_type": "stream",
     "text": [
      "454it [00:00, 2280.06it/s]"
     ]
    },
    {
     "name": "stdout",
     "output_type": "stream",
     "text": [
      "Parsed ../kickoff-detection-data/e40014f3-5c63-4869-94af-75c4e0547de4.1.kickoff.rdb in 1.60 s.\n",
      "Contains keys: dict_keys(['right', 'left'])\n",
      "[right] start_ts: 1527094503764 | stop_ts: 1527094802564\n",
      "[left] start_ts: 1527094503678 | stop_ts: 1527094802558\n",
      "../kickoff-detection-data/e40014f3-5c63-4869-94af-75c4e0547de4.json\n",
      "[{'kickoff_team_id': 4, 'type': 'start_phase', 'phase': 1, 'ts': '2018-05-23T17:00:02.891Z'}, {'type': 'end_phase', 'phase': 1, 'ts': '2018-05-23T17:45:05.284Z'}, {'kickoff_team_id': 3, 'type': 'start_phase', 'phase': 2, 'ts': '2018-05-23T18:02:02.986Z'}, {'type': 'end_phase', 'phase': 2, 'ts': '2018-05-23T18:51:09.847Z'}]\n",
      "1527094802891\n"
     ]
    },
    {
     "name": "stderr",
     "output_type": "stream",
     "text": [
      "7471it [00:04, 1695.83it/s]\n"
     ]
    },
    {
     "name": "stdout",
     "output_type": "stream",
     "text": [
      "0 0\n",
      "[]\n",
      "[]\n"
     ]
    },
    {
     "name": "stderr",
     "output_type": "stream",
     "text": [
      "411it [00:00, 2015.10it/s]"
     ]
    },
    {
     "name": "stdout",
     "output_type": "stream",
     "text": [
      "Parsed ../kickoff-detection-data/536b68b9-507f-408a-9a91-f994667b1d16.2.kickoff.rdb in 0.86 s.\n",
      "Contains keys: dict_keys(['right', 'left'])\n",
      "[right] start_ts: 1526833546293 | stop_ts: 1526833843133\n",
      "[left] start_ts: 1526833546311 | stop_ts: 1526833843111\n",
      "../kickoff-detection-data/536b68b9-507f-408a-9a91-f994667b1d16.json\n",
      "[{'kickoff_team_id': 8, 'type': 'start_phase', 'phase': 1, 'ts': '2018-05-20T15:30:13.835Z'}, {'type': 'end_phase', 'phase': 1, 'ts': '2018-05-20T16:15:14.598Z'}, {'kickoff_team_id': 5, 'type': 'start_phase', 'phase': 2, 'ts': '2018-05-20T16:30:43.121Z'}, {'type': 'end_phase', 'phase': 2, 'ts': '2018-05-20T17:19:46.634Z'}]\n",
      "1526833843121\n"
     ]
    },
    {
     "name": "stderr",
     "output_type": "stream",
     "text": [
      "7421it [00:03, 2351.37it/s]\n"
     ]
    },
    {
     "name": "stdout",
     "output_type": "stream",
     "text": [
      "0 0\n",
      "[]\n",
      "[]\n"
     ]
    },
    {
     "name": "stderr",
     "output_type": "stream",
     "text": [
      "797it [00:00, 4142.58it/s]"
     ]
    },
    {
     "name": "stdout",
     "output_type": "stream",
     "text": [
      "Parsed ../kickoff-detection-data/b0cbf7ed-a9ce-4434-9e4d-072065ee61bc.1.kickoff.rdb in 1.65 s.\n",
      "Contains keys: dict_keys(['right', 'left'])\n",
      "[right] start_ts: 1523706912088 | stop_ts: 1523707510928\n",
      "[left] start_ts: 1523706904558 | stop_ts: 1523707503158\n",
      "../kickoff-detection-data/b0cbf7ed-a9ce-4434-9e4d-072065ee61bc.json\n",
      "[{'kickoff_team_id': 1, 'type': 'start_phase', 'phase': 1, 'ts': '2018-04-14T12:00:03.074Z'}, {'type': 'end_phase', 'phase': 1, 'ts': '2018-04-14T12:45:30.997Z'}, {'kickoff_team_id': 7, 'type': 'start_phase', 'phase': 2, 'ts': '2018-04-14T13:00:50.467Z'}, {'type': 'end_phase', 'phase': 2, 'ts': '2018-04-14T13:50:58.493Z'}]\n",
      "1523707203074\n"
     ]
    },
    {
     "name": "stderr",
     "output_type": "stream",
     "text": [
      "14966it [00:05, 2625.40it/s]\n"
     ]
    },
    {
     "name": "stdout",
     "output_type": "stream",
     "text": [
      "569 569\n",
      "272\n",
      "17\n",
      "17 17\n",
      "[[0, 0, 0, 0, 0, 0, 0, 0, 0, 0, 0, 0, 0, 0, 0, 0, 0, 1, 0, 0], [0, 0, 0, 0, 0, 0, 0, 0, 0, 0, 0, 0, 0, 0, 0, 0, 1, 0, 0, 0], [0, 0, 0, 0, 0, 0, 0, 0, 0, 0, 0, 0, 0, 0, 0, 1, 0, 0, 0, 0], [0, 0, 0, 0, 0, 0, 0, 0, 0, 0, 0, 0, 0, 0, 1, 0, 0, 0, 0, 0], [0, 0, 0, 0, 0, 0, 0, 0, 0, 0, 0, 0, 0, 1, 0, 0, 0, 0, 0, 0], [0, 0, 0, 0, 0, 0, 0, 0, 0, 0, 0, 0, 1, 0, 0, 0, 0, 0, 0, 0], [0, 0, 0, 0, 0, 0, 0, 0, 0, 0, 0, 1, 0, 0, 0, 0, 0, 0, 0, 0], [0, 0, 0, 0, 0, 0, 0, 0, 0, 0, 1, 0, 0, 0, 0, 0, 0, 0, 0, 0], [0, 0, 0, 0, 0, 0, 0, 0, 0, 1, 0, 0, 0, 0, 0, 0, 0, 0, 0, 0], [0, 0, 0, 0, 0, 0, 0, 0, 1, 0, 0, 0, 0, 0, 0, 0, 0, 0, 0, 0], [0, 0, 0, 0, 0, 0, 0, 1, 0, 0, 0, 0, 0, 0, 0, 0, 0, 0, 0, 0], [0, 0, 0, 0, 0, 0, 1, 0, 0, 0, 0, 0, 0, 0, 0, 0, 0, 0, 0, 0], [0, 0, 0, 0, 0, 1, 0, 0, 0, 0, 0, 0, 0, 0, 0, 0, 0, 0, 0, 0], [0, 0, 0, 0, 1, 0, 0, 0, 0, 0, 0, 0, 0, 0, 0, 0, 0, 0, 0, 0], [0, 0, 0, 1, 0, 0, 0, 0, 0, 0, 0, 0, 0, 0, 0, 0, 0, 0, 0, 0], [0, 0, 1, 0, 0, 0, 0, 0, 0, 0, 0, 0, 0, 0, 0, 0, 0, 0, 0, 0], [0, 1, 0, 0, 0, 0, 0, 0, 0, 0, 0, 0, 0, 0, 0, 0, 0, 0, 0, 0]]\n",
      "[2, 3, 4, 5, 6, 7, 8, 9, 10, 11, 12, 13, 14, 15, 16, 17, 18]\n",
      "7\n"
     ]
    },
    {
     "name": "stderr",
     "output_type": "stream",
     "text": [
      "215it [00:00, 2148.72it/s]"
     ]
    },
    {
     "name": "stdout",
     "output_type": "stream",
     "text": [
      "Parsed ../kickoff-detection-data/75366863-8063-4ece-8aca-1dcf75d22448.1.kickoff.rdb in 0.28 s.\n",
      "Contains keys: dict_keys(['right', 'left'])\n",
      "[right] start_ts: 1527181308926 | stop_ts: 1527181605806\n",
      "[left] start_ts: 1527181308818 | stop_ts: 1527181605738\n",
      "../kickoff-detection-data/75366863-8063-4ece-8aca-1dcf75d22448.json\n",
      "[{'kickoff_team_id': 6, 'type': 'start_phase', 'phase': 1, 'ts': '2018-05-24T17:06:45.366Z'}, {'type': 'end_phase', 'phase': 1, 'ts': '2018-05-24T17:52:47.009Z'}, {'kickoff_team_id': 11, 'type': 'start_phase', 'phase': 2, 'ts': '2018-05-24T18:12:56.972Z'}, {'type': 'end_phase', 'phase': 2, 'ts': '2018-05-24T19:02:55.588Z'}]\n",
      "1527181605366\n"
     ]
    },
    {
     "name": "stderr",
     "output_type": "stream",
     "text": [
      "7423it [00:00, 8588.53it/s]\n"
     ]
    },
    {
     "name": "stdout",
     "output_type": "stream",
     "text": [
      "0 0\n",
      "[]\n",
      "[]\n"
     ]
    },
    {
     "name": "stderr",
     "output_type": "stream",
     "text": [
      "809it [00:00, 3957.24it/s]"
     ]
    },
    {
     "name": "stdout",
     "output_type": "stream",
     "text": [
      "Parsed ../kickoff-detection-data/456910d1-b523-4ff2-b60c-fcd1f016b96d.2.kickoff.rdb in 0.65 s.\n",
      "Contains keys: dict_keys(['right', 'left'])\n",
      "[right] start_ts: 1524506250924 | stop_ts: 1524506550764\n",
      "[left] start_ts: 1524506251416 | stop_ts: 1524506551016\n",
      "../kickoff-detection-data/456910d1-b523-4ff2-b60c-fcd1f016b96d.json\n",
      "[{'kickoff_team_id': 7, 'type': 'start_phase', 'phase': 1, 'ts': '2018-04-23T17:00:01.962Z'}, {'type': 'end_phase', 'phase': 1, 'ts': '2018-04-23T17:47:08.130Z'}, {'kickoff_team_id': 11, 'type': 'start_phase', 'phase': 2, 'ts': '2018-04-23T18:02:31.991Z'}, {'type': 'end_phase', 'phase': 2, 'ts': '2018-04-23T18:50:33.464Z'}]\n",
      "1524506551991\n"
     ]
    },
    {
     "name": "stderr",
     "output_type": "stream",
     "text": [
      "7490it [00:02, 3313.72it/s]\n"
     ]
    },
    {
     "name": "stdout",
     "output_type": "stream",
     "text": [
      "0 0\n",
      "[]\n",
      "[]\n"
     ]
    },
    {
     "name": "stderr",
     "output_type": "stream",
     "text": [
      "525it [00:00, 2728.04it/s]"
     ]
    },
    {
     "name": "stdout",
     "output_type": "stream",
     "text": [
      "Parsed ../kickoff-detection-data/0d9e9e30-9d13-4af0-8e41-fe1669e9eeff.1.kickoff.rdb in 2.44 s.\n",
      "Contains keys: dict_keys(['right', 'left'])\n",
      "[right] start_ts: 1523192129071 | stop_ts: 1523192727911\n",
      "[left] start_ts: 1523192129517 | stop_ts: 1523192728157\n",
      "../kickoff-detection-data/0d9e9e30-9d13-4af0-8e41-fe1669e9eeff.json\n",
      "[{'kickoff_team_id': 7, 'type': 'start_phase', 'phase': 1, 'ts': '2018-04-08T13:00:28.503Z'}, {'type': 'end_phase', 'phase': 1, 'ts': '2018-04-08T13:47:27.898Z'}, {'kickoff_team_id': 9, 'type': 'start_phase', 'phase': 2, 'ts': '2018-04-08T14:02:33.117Z'}, {'type': 'end_phase', 'phase': 2, 'ts': '2018-04-08T14:51:34.402Z'}]\n",
      "1523192428503\n"
     ]
    },
    {
     "name": "stderr",
     "output_type": "stream",
     "text": [
      "14966it [00:08, 1814.51it/s]\n"
     ]
    },
    {
     "name": "stdout",
     "output_type": "stream",
     "text": [
      "576 576\n",
      "280\n",
      "17\n",
      "17 17\n",
      "[[0, 0, 0, 0, 0, 0, 0, 0, 0, 0, 0, 0, 0, 0, 0, 0, 0, 1, 0, 0], [0, 0, 0, 0, 0, 0, 0, 0, 0, 0, 0, 0, 0, 0, 0, 0, 1, 0, 0, 0], [0, 0, 0, 0, 0, 0, 0, 0, 0, 0, 0, 0, 0, 0, 0, 1, 0, 0, 0, 0], [0, 0, 0, 0, 0, 0, 0, 0, 0, 0, 0, 0, 0, 0, 1, 0, 0, 0, 0, 0], [0, 0, 0, 0, 0, 0, 0, 0, 0, 0, 0, 0, 0, 1, 0, 0, 0, 0, 0, 0], [0, 0, 0, 0, 0, 0, 0, 0, 0, 0, 0, 0, 1, 0, 0, 0, 0, 0, 0, 0], [0, 0, 0, 0, 0, 0, 0, 0, 0, 0, 0, 1, 0, 0, 0, 0, 0, 0, 0, 0], [0, 0, 0, 0, 0, 0, 0, 0, 0, 0, 1, 0, 0, 0, 0, 0, 0, 0, 0, 0], [0, 0, 0, 0, 0, 0, 0, 0, 0, 1, 0, 0, 0, 0, 0, 0, 0, 0, 0, 0], [0, 0, 0, 0, 0, 0, 0, 0, 1, 0, 0, 0, 0, 0, 0, 0, 0, 0, 0, 0], [0, 0, 0, 0, 0, 0, 0, 1, 0, 0, 0, 0, 0, 0, 0, 0, 0, 0, 0, 0], [0, 0, 0, 0, 0, 0, 1, 0, 0, 0, 0, 0, 0, 0, 0, 0, 0, 0, 0, 0], [0, 0, 0, 0, 0, 1, 0, 0, 0, 0, 0, 0, 0, 0, 0, 0, 0, 0, 0, 0], [0, 0, 0, 0, 1, 0, 0, 0, 0, 0, 0, 0, 0, 0, 0, 0, 0, 0, 0, 0], [0, 0, 0, 1, 0, 0, 0, 0, 0, 0, 0, 0, 0, 0, 0, 0, 0, 0, 0, 0], [0, 0, 1, 0, 0, 0, 0, 0, 0, 0, 0, 0, 0, 0, 0, 0, 0, 0, 0, 0], [0, 1, 0, 0, 0, 0, 0, 0, 0, 0, 0, 0, 0, 0, 0, 0, 0, 0, 0, 0]]\n",
      "[2, 3, 4, 5, 6, 7, 8, 9, 10, 11, 12, 13, 14, 15, 16, 17, 18]\n",
      "8\n"
     ]
    },
    {
     "name": "stderr",
     "output_type": "stream",
     "text": [
      "291it [00:00, 2907.97it/s]"
     ]
    },
    {
     "name": "stdout",
     "output_type": "stream",
     "text": [
      "Parsed ../kickoff-detection-data/b0cbf7ed-a9ce-4434-9e4d-072065ee61bc.2.kickoff.rdb in 1.68 s.\n",
      "Contains keys: dict_keys(['right', 'left'])\n",
      "[right] start_ts: 1523710560128 | stop_ts: 1523711157928\n",
      "[left] start_ts: 1523710552598 | stop_ts: 1523711150158\n",
      "../kickoff-detection-data/b0cbf7ed-a9ce-4434-9e4d-072065ee61bc.json\n",
      "[{'kickoff_team_id': 1, 'type': 'start_phase', 'phase': 1, 'ts': '2018-04-14T12:00:03.074Z'}, {'type': 'end_phase', 'phase': 1, 'ts': '2018-04-14T12:45:30.997Z'}, {'kickoff_team_id': 7, 'type': 'start_phase', 'phase': 2, 'ts': '2018-04-14T13:00:50.467Z'}, {'type': 'end_phase', 'phase': 2, 'ts': '2018-04-14T13:50:58.493Z'}]\n",
      "1523710850467\n"
     ]
    },
    {
     "name": "stderr",
     "output_type": "stream",
     "text": [
      "14941it [00:06, 2425.39it/s]\n"
     ]
    },
    {
     "name": "stdout",
     "output_type": "stream",
     "text": [
      "568 568\n",
      "272\n",
      "16\n",
      "16 16\n",
      "[[0, 0, 0, 0, 0, 0, 0, 0, 0, 0, 0, 0, 0, 0, 0, 0, 0, 1, 0, 0], [0, 0, 0, 0, 0, 0, 0, 0, 0, 0, 0, 0, 0, 0, 0, 0, 1, 0, 0, 0], [0, 0, 0, 0, 0, 0, 0, 0, 0, 0, 0, 0, 0, 0, 0, 1, 0, 0, 0, 0], [0, 0, 0, 0, 0, 0, 0, 0, 0, 0, 0, 0, 0, 0, 1, 0, 0, 0, 0, 0], [0, 0, 0, 0, 0, 0, 0, 0, 0, 0, 0, 0, 0, 1, 0, 0, 0, 0, 0, 0], [0, 0, 0, 0, 0, 0, 0, 0, 0, 0, 0, 0, 1, 0, 0, 0, 0, 0, 0, 0], [0, 0, 0, 0, 0, 0, 0, 0, 0, 0, 0, 1, 0, 0, 0, 0, 0, 0, 0, 0], [0, 0, 0, 0, 0, 0, 0, 0, 0, 0, 1, 0, 0, 0, 0, 0, 0, 0, 0, 0], [0, 0, 0, 0, 0, 0, 0, 0, 0, 1, 0, 0, 0, 0, 0, 0, 0, 0, 0, 0], [0, 0, 0, 0, 0, 0, 0, 0, 1, 0, 0, 0, 0, 0, 0, 0, 0, 0, 0, 0], [0, 0, 0, 0, 0, 0, 0, 1, 0, 0, 0, 0, 0, 0, 0, 0, 0, 0, 0, 0], [0, 0, 0, 0, 0, 0, 1, 0, 0, 0, 0, 0, 0, 0, 0, 0, 0, 0, 0, 0], [0, 0, 0, 0, 0, 1, 0, 0, 0, 0, 0, 0, 0, 0, 0, 0, 0, 0, 0, 0], [0, 0, 0, 0, 1, 0, 0, 0, 0, 0, 0, 0, 0, 0, 0, 0, 0, 0, 0, 0], [0, 0, 0, 1, 0, 0, 0, 0, 0, 0, 0, 0, 0, 0, 0, 0, 0, 0, 0, 0], [0, 0, 1, 0, 0, 0, 0, 0, 0, 0, 0, 0, 0, 0, 0, 0, 0, 0, 0, 0]]\n",
      "[2, 3, 4, 5, 6, 7, 8, 9, 10, 11, 12, 13, 14, 15, 16, 17]\n",
      "9\n"
     ]
    },
    {
     "name": "stderr",
     "output_type": "stream",
     "text": [
      "326it [00:00, 1649.84it/s]"
     ]
    },
    {
     "name": "stdout",
     "output_type": "stream",
     "text": [
      "Parsed ../kickoff-detection-data/d1a98e08-0f21-46fe-8457-01ff183ddbeb.1.kickoff.rdb in 1.86 s.\n",
      "Contains keys: dict_keys(['right', 'left'])\n",
      "[right] start_ts: 1526576105219 | stop_ts: 1526576402099\n",
      "[left] start_ts: 1526576105405 | stop_ts: 1526576402165\n",
      "../kickoff-detection-data/d1a98e08-0f21-46fe-8457-01ff183ddbeb.json\n",
      "[{'kickoff_team_id': 12, 'type': 'start_phase', 'phase': 1, 'ts': '2018-05-17T17:00:02.362Z'}, {'type': 'end_phase', 'phase': 1, 'ts': '2018-05-17T17:47:07.092Z'}, {'kickoff_team_id': 11, 'type': 'start_phase', 'phase': 2, 'ts': '2018-05-17T18:04:02.891Z'}, {'type': 'end_phase', 'phase': 2, 'ts': '2018-05-17T18:52:06.565Z'}]\n",
      "1526576402362\n"
     ]
    },
    {
     "name": "stderr",
     "output_type": "stream",
     "text": [
      "7420it [00:05, 1419.00it/s]\n"
     ]
    },
    {
     "name": "stdout",
     "output_type": "stream",
     "text": [
      "0 0\n",
      "[]\n",
      "[]\n"
     ]
    },
    {
     "name": "stderr",
     "output_type": "stream",
     "text": [
      "716it [00:00, 3711.56it/s]"
     ]
    },
    {
     "name": "stdout",
     "output_type": "stream",
     "text": [
      "Parsed ../kickoff-detection-data/9acafc14-55f4-499e-90d9-4db2f121801b.2.kickoff.rdb in 0.72 s.\n",
      "Contains keys: dict_keys(['right', 'left'])\n",
      "[right] start_ts: 1526229880495 | stop_ts: 1526230177335\n",
      "[left] start_ts: 1526229880539 | stop_ts: 1526230177379\n",
      "../kickoff-detection-data/9acafc14-55f4-499e-90d9-4db2f121801b.json\n",
      "[{'kickoff_team_id': 12, 'type': 'start_phase', 'phase': 1, 'ts': '2018-05-13T15:45:34.522Z'}, {'type': 'end_phase', 'phase': 1, 'ts': '2018-05-13T16:33:39.123Z'}, {'kickoff_team_id': 2, 'type': 'start_phase', 'phase': 2, 'ts': '2018-05-13T16:49:37.864Z'}, {'type': 'end_phase', 'phase': 2, 'ts': '2018-05-13T17:39:37.349Z'}]\n",
      "1526230177864\n"
     ]
    },
    {
     "name": "stderr",
     "output_type": "stream",
     "text": [
      "7422it [00:02, 2619.05it/s]\n"
     ]
    },
    {
     "name": "stdout",
     "output_type": "stream",
     "text": [
      "0 0\n",
      "[]\n",
      "[]\n"
     ]
    },
    {
     "name": "stderr",
     "output_type": "stream",
     "text": [
      "616it [00:00, 3052.14it/s]"
     ]
    },
    {
     "name": "stdout",
     "output_type": "stream",
     "text": [
      "Parsed ../kickoff-detection-data/3d29af74-d98c-415b-a1dc-6b034671d831.2.kickoff.rdb in 1.51 s.\n",
      "Contains keys: dict_keys(['right', 'left'])\n",
      "[right] start_ts: 1527098333133 | stop_ts: 1527098931013\n",
      "[left] start_ts: 1527098333205 | stop_ts: 1527098931045\n",
      "../kickoff-detection-data/3d29af74-d98c-415b-a1dc-6b034671d831.json\n",
      "[{'kickoff_team_id': 10, 'type': 'start_phase', 'phase': 1, 'ts': '2018-05-23T17:00:29.087Z'}, {'type': 'end_phase', 'phase': 1, 'ts': '2018-05-23T17:48:32.142Z'}, {'kickoff_team_id': 5, 'type': 'start_phase', 'phase': 2, 'ts': '2018-05-23T18:03:51.076Z'}, {'type': 'end_phase', 'phase': 2, 'ts': '2018-05-23T18:54:13.202Z'}]\n",
      "1527098631076\n"
     ]
    },
    {
     "name": "stderr",
     "output_type": "stream",
     "text": [
      "14946it [00:06, 2361.85it/s]\n"
     ]
    },
    {
     "name": "stdout",
     "output_type": "stream",
     "text": [
      "576 576\n",
      "279\n",
      "17\n",
      "17 17\n",
      "[[0, 0, 0, 0, 0, 0, 0, 0, 0, 0, 0, 0, 0, 0, 0, 0, 0, 1, 0, 0], [0, 0, 0, 0, 0, 0, 0, 0, 0, 0, 0, 0, 0, 0, 0, 0, 1, 0, 0, 0], [0, 0, 0, 0, 0, 0, 0, 0, 0, 0, 0, 0, 0, 0, 0, 1, 0, 0, 0, 0], [0, 0, 0, 0, 0, 0, 0, 0, 0, 0, 0, 0, 0, 0, 1, 0, 0, 0, 0, 0], [0, 0, 0, 0, 0, 0, 0, 0, 0, 0, 0, 0, 0, 1, 0, 0, 0, 0, 0, 0], [0, 0, 0, 0, 0, 0, 0, 0, 0, 0, 0, 0, 1, 0, 0, 0, 0, 0, 0, 0], [0, 0, 0, 0, 0, 0, 0, 0, 0, 0, 0, 1, 0, 0, 0, 0, 0, 0, 0, 0], [0, 0, 0, 0, 0, 0, 0, 0, 0, 0, 1, 0, 0, 0, 0, 0, 0, 0, 0, 0], [0, 0, 0, 0, 0, 0, 0, 0, 0, 1, 0, 0, 0, 0, 0, 0, 0, 0, 0, 0], [0, 0, 0, 0, 0, 0, 0, 0, 1, 0, 0, 0, 0, 0, 0, 0, 0, 0, 0, 0], [0, 0, 0, 0, 0, 0, 0, 1, 0, 0, 0, 0, 0, 0, 0, 0, 0, 0, 0, 0], [0, 0, 0, 0, 0, 0, 1, 0, 0, 0, 0, 0, 0, 0, 0, 0, 0, 0, 0, 0], [0, 0, 0, 0, 0, 1, 0, 0, 0, 0, 0, 0, 0, 0, 0, 0, 0, 0, 0, 0], [0, 0, 0, 0, 1, 0, 0, 0, 0, 0, 0, 0, 0, 0, 0, 0, 0, 0, 0, 0], [0, 0, 0, 1, 0, 0, 0, 0, 0, 0, 0, 0, 0, 0, 0, 0, 0, 0, 0, 0], [0, 0, 1, 0, 0, 0, 0, 0, 0, 0, 0, 0, 0, 0, 0, 0, 0, 0, 0, 0], [0, 1, 0, 0, 0, 0, 0, 0, 0, 0, 0, 0, 0, 0, 0, 0, 0, 0, 0, 0]]\n",
      "[2, 3, 4, 5, 6, 7, 8, 9, 10, 11, 12, 13, 14, 15, 16, 17, 18]\n",
      "10\n"
     ]
    },
    {
     "name": "stderr",
     "output_type": "stream",
     "text": [
      "808it [00:00, 4004.06it/s]"
     ]
    },
    {
     "name": "stdout",
     "output_type": "stream",
     "text": [
      "Parsed ../kickoff-detection-data/2b8bcfd6-5f57-46de-aacd-e932ac8e1697.1.kickoff.rdb in 2.00 s.\n",
      "Contains keys: dict_keys(['right', 'left'])\n",
      "[right] start_ts: 1523201094061 | stop_ts: 1523201692981\n",
      "[left] start_ts: 1523201092829 | stop_ts: 1523201692349\n",
      "../kickoff-detection-data/2b8bcfd6-5f57-46de-aacd-e932ac8e1697.json\n",
      "[{'kickoff_team_id': 13, 'type': 'start_phase', 'phase': 1, 'ts': '2018-04-08T15:29:52.779Z'}, {'type': 'end_phase', 'phase': 1, 'ts': '2018-04-08T16:17:54.242Z'}, {'kickoff_team_id': 16, 'type': 'start_phase', 'phase': 2, 'ts': '2018-04-08T16:34:19.995Z'}, {'type': 'end_phase', 'phase': 2, 'ts': '2018-04-08T17:23:20.816Z'}]\n",
      "1523201392779\n"
     ]
    },
    {
     "name": "stderr",
     "output_type": "stream",
     "text": [
      "14951it [00:07, 1944.53it/s]\n"
     ]
    },
    {
     "name": "stdout",
     "output_type": "stream",
     "text": [
      "573 573\n",
      "280\n",
      "16\n",
      "16 16\n",
      "[[0, 0, 0, 0, 0, 0, 0, 0, 0, 0, 0, 0, 0, 0, 0, 0, 0, 1, 0, 0], [0, 0, 0, 0, 0, 0, 0, 0, 0, 0, 0, 0, 0, 0, 0, 0, 1, 0, 0, 0], [0, 0, 0, 0, 0, 0, 0, 0, 0, 0, 0, 0, 0, 0, 0, 1, 0, 0, 0, 0], [0, 0, 0, 0, 0, 0, 0, 0, 0, 0, 0, 0, 0, 0, 1, 0, 0, 0, 0, 0], [0, 0, 0, 0, 0, 0, 0, 0, 0, 0, 0, 0, 0, 1, 0, 0, 0, 0, 0, 0], [0, 0, 0, 0, 0, 0, 0, 0, 0, 0, 0, 0, 1, 0, 0, 0, 0, 0, 0, 0], [0, 0, 0, 0, 0, 0, 0, 0, 0, 0, 0, 1, 0, 0, 0, 0, 0, 0, 0, 0], [0, 0, 0, 0, 0, 0, 0, 0, 0, 0, 1, 0, 0, 0, 0, 0, 0, 0, 0, 0], [0, 0, 0, 0, 0, 0, 0, 0, 0, 1, 0, 0, 0, 0, 0, 0, 0, 0, 0, 0], [0, 0, 0, 0, 0, 0, 0, 0, 1, 0, 0, 0, 0, 0, 0, 0, 0, 0, 0, 0], [0, 0, 0, 0, 0, 0, 0, 1, 0, 0, 0, 0, 0, 0, 0, 0, 0, 0, 0, 0], [0, 0, 0, 0, 0, 0, 1, 0, 0, 0, 0, 0, 0, 0, 0, 0, 0, 0, 0, 0], [0, 0, 0, 0, 0, 1, 0, 0, 0, 0, 0, 0, 0, 0, 0, 0, 0, 0, 0, 0], [0, 0, 0, 0, 1, 0, 0, 0, 0, 0, 0, 0, 0, 0, 0, 0, 0, 0, 0, 0], [0, 0, 0, 1, 0, 0, 0, 0, 0, 0, 0, 0, 0, 0, 0, 0, 0, 0, 0, 0], [0, 0, 1, 0, 0, 0, 0, 0, 0, 0, 0, 0, 0, 0, 0, 0, 0, 0, 0, 0]]\n",
      "[2, 3, 4, 5, 6, 7, 8, 9, 10, 11, 12, 13, 14, 15, 16, 17]\n",
      "11\n"
     ]
    },
    {
     "name": "stderr",
     "output_type": "stream",
     "text": [
      "502it [00:00, 5013.32it/s]"
     ]
    },
    {
     "name": "stdout",
     "output_type": "stream",
     "text": [
      "Parsed ../kickoff-detection-data/da82a1ce-2e4c-4337-8ba8-3f2525399e31.2.kickoff.rdb in 0.64 s.\n",
      "Contains keys: dict_keys(['right', 'left'])\n",
      "[right] start_ts: 1525624022583 | stop_ts: 1525624319463\n",
      "[left] start_ts: 1525624022661 | stop_ts: 1525624319501\n",
      "../kickoff-detection-data/da82a1ce-2e4c-4337-8ba8-3f2525399e31.json\n",
      "[{'kickoff_team_id': 14, 'type': 'start_phase', 'phase': 1, 'ts': '2018-05-06T15:30:55.282Z'}, {'type': 'end_phase', 'phase': 1, 'ts': '2018-05-06T16:16:55.775Z'}, {'kickoff_team_id': 5, 'type': 'start_phase', 'phase': 2, 'ts': '2018-05-06T16:31:59.785Z'}, {'type': 'end_phase', 'phase': 2, 'ts': '2018-05-06T17:19:59.649Z'}]\n",
      "1525624319785\n"
     ]
    },
    {
     "name": "stderr",
     "output_type": "stream",
     "text": [
      "7421it [00:02, 3226.86it/s]\n"
     ]
    },
    {
     "name": "stdout",
     "output_type": "stream",
     "text": [
      "0 0\n",
      "[]\n",
      "[]\n"
     ]
    },
    {
     "name": "stderr",
     "output_type": "stream",
     "text": [
      "450it [00:00, 2223.44it/s]"
     ]
    },
    {
     "name": "stdout",
     "output_type": "stream",
     "text": [
      "Parsed ../kickoff-detection-data/4b949eae-068b-4b0a-bc88-f5ef0a97b2ba.2.kickoff.rdb in 0.93 s.\n",
      "Contains keys: dict_keys(['right', 'left'])\n",
      "[right] start_ts: 1524322643076 | stop_ts: 1524322942636\n",
      "[left] start_ts: 1524322642512 | stop_ts: 1524322942312\n",
      "../kickoff-detection-data/4b949eae-068b-4b0a-bc88-f5ef0a97b2ba.json\n",
      "[{'kickoff_team_id': 13, 'type': 'start_phase', 'phase': 1, 'ts': '2018-04-21T14:00:32.294Z'}, {'type': 'end_phase', 'phase': 1, 'ts': '2018-04-21T14:45:33.074Z'}, {'kickoff_team_id': 12, 'type': 'start_phase', 'phase': 2, 'ts': '2018-04-21T15:02:22.137Z'}, {'type': 'end_phase', 'phase': 2, 'ts': '2018-04-21T15:50:24.649Z'}]\n",
      "1524322942137\n"
     ]
    },
    {
     "name": "stderr",
     "output_type": "stream",
     "text": [
      "7489it [00:03, 2081.84it/s]\n"
     ]
    },
    {
     "name": "stdout",
     "output_type": "stream",
     "text": [
      "0 0\n",
      "[]\n",
      "[]\n"
     ]
    },
    {
     "name": "stderr",
     "output_type": "stream",
     "text": [
      "268it [00:00, 1381.24it/s]"
     ]
    },
    {
     "name": "stdout",
     "output_type": "stream",
     "text": [
      "Parsed ../kickoff-detection-data/70593a9a-5258-4f89-a402-b555c8ee3514.1.kickoff.rdb in 1.68 s.\n",
      "Contains keys: dict_keys(['right', 'left'])\n",
      "[right] start_ts: 1525521349195 | stop_ts: 1525521646035\n",
      "[left] start_ts: 1525521349217 | stop_ts: 1525521646057\n",
      "../kickoff-detection-data/70593a9a-5258-4f89-a402-b555c8ee3514.json\n",
      "[{'kickoff_team_id': 3, 'type': 'start_phase', 'phase': 1, 'ts': '2018-05-05T12:00:46.974Z'}, {'type': 'end_phase', 'phase': 1, 'ts': '2018-05-05T12:47:24.013Z'}, {'kickoff_team_id': 2, 'type': 'start_phase', 'phase': 2, 'ts': '2018-05-05T13:03:49.366Z'}, {'type': 'end_phase', 'phase': 2, 'ts': '2018-05-05T13:51:49.753Z'}]\n",
      "1525521646974\n"
     ]
    },
    {
     "name": "stderr",
     "output_type": "stream",
     "text": [
      "7422it [00:04, 1587.08it/s]\n"
     ]
    },
    {
     "name": "stdout",
     "output_type": "stream",
     "text": [
      "0 0\n",
      "[]\n",
      "[]\n"
     ]
    },
    {
     "name": "stderr",
     "output_type": "stream",
     "text": [
      "449it [00:00, 2328.33it/s]"
     ]
    },
    {
     "name": "stdout",
     "output_type": "stream",
     "text": [
      "Parsed ../kickoff-detection-data/050a1fae-5d48-4048-8f66-a3f12eca843d.1.kickoff.rdb in 2.47 s.\n",
      "Contains keys: dict_keys(['right', 'left'])\n",
      "[right] start_ts: 1526225101172 | stop_ts: 1526225700052\n",
      "[left] start_ts: 1526225101102 | stop_ts: 1526225700022\n",
      "../kickoff-detection-data/050a1fae-5d48-4048-8f66-a3f12eca843d.json\n",
      "[{'kickoff_team_id': 14, 'type': 'start_phase', 'phase': 1, 'ts': '2018-05-13T15:30:00.666Z'}, {'type': 'end_phase', 'phase': 1, 'ts': '2018-05-13T16:16:59.553Z'}, {'kickoff_team_id': 8, 'type': 'start_phase', 'phase': 2, 'ts': '2018-05-13T16:32:02.287Z'}, {'type': 'end_phase', 'phase': 2, 'ts': '2018-05-13T17:20:33.812Z'}]\n",
      "1526225400666\n"
     ]
    },
    {
     "name": "stderr",
     "output_type": "stream",
     "text": [
      "14972it [00:07, 2057.90it/s]\n"
     ]
    },
    {
     "name": "stdout",
     "output_type": "stream",
     "text": [
      "577 577\n",
      "281\n",
      "16\n",
      "16 16\n",
      "[[0, 0, 0, 0, 0, 0, 0, 0, 0, 0, 0, 0, 0, 0, 0, 0, 0, 1, 0, 0], [0, 0, 0, 0, 0, 0, 0, 0, 0, 0, 0, 0, 0, 0, 0, 0, 1, 0, 0, 0], [0, 0, 0, 0, 0, 0, 0, 0, 0, 0, 0, 0, 0, 0, 0, 1, 0, 0, 0, 0], [0, 0, 0, 0, 0, 0, 0, 0, 0, 0, 0, 0, 0, 0, 1, 0, 0, 0, 0, 0], [0, 0, 0, 0, 0, 0, 0, 0, 0, 0, 0, 0, 0, 1, 0, 0, 0, 0, 0, 0], [0, 0, 0, 0, 0, 0, 0, 0, 0, 0, 0, 0, 1, 0, 0, 0, 0, 0, 0, 0], [0, 0, 0, 0, 0, 0, 0, 0, 0, 0, 0, 1, 0, 0, 0, 0, 0, 0, 0, 0], [0, 0, 0, 0, 0, 0, 0, 0, 0, 0, 1, 0, 0, 0, 0, 0, 0, 0, 0, 0], [0, 0, 0, 0, 0, 0, 0, 0, 0, 1, 0, 0, 0, 0, 0, 0, 0, 0, 0, 0], [0, 0, 0, 0, 0, 0, 0, 0, 1, 0, 0, 0, 0, 0, 0, 0, 0, 0, 0, 0], [0, 0, 0, 0, 0, 0, 0, 1, 0, 0, 0, 0, 0, 0, 0, 0, 0, 0, 0, 0], [0, 0, 0, 0, 0, 0, 1, 0, 0, 0, 0, 0, 0, 0, 0, 0, 0, 0, 0, 0], [0, 0, 0, 0, 0, 1, 0, 0, 0, 0, 0, 0, 0, 0, 0, 0, 0, 0, 0, 0], [0, 0, 0, 0, 1, 0, 0, 0, 0, 0, 0, 0, 0, 0, 0, 0, 0, 0, 0, 0], [0, 0, 0, 1, 0, 0, 0, 0, 0, 0, 0, 0, 0, 0, 0, 0, 0, 0, 0, 0], [0, 0, 1, 0, 0, 0, 0, 0, 0, 0, 0, 0, 0, 0, 0, 0, 0, 0, 0, 0]]\n",
      "[2, 3, 4, 5, 6, 7, 8, 9, 10, 11, 12, 13, 14, 15, 16, 17]\n",
      "12\n"
     ]
    },
    {
     "name": "stderr",
     "output_type": "stream",
     "text": [
      "1065it [00:00, 5176.03it/s]"
     ]
    },
    {
     "name": "stdout",
     "output_type": "stream",
     "text": [
      "Parsed ../kickoff-detection-data/c4b2214b-4e3c-4dfb-a691-a5b008b9d778.1.kickoff.rdb in 0.77 s.\n",
      "Contains keys: dict_keys(['right', 'left'])\n",
      "[right] start_ts: 1525611300264 | stop_ts: 1525611597984\n",
      "[left] start_ts: 1525611301214 | stop_ts: 1525611598494\n",
      "../kickoff-detection-data/c4b2214b-4e3c-4dfb-a691-a5b008b9d778.json\n",
      "[{'kickoff_team_id': 16, 'type': 'start_phase', 'phase': 1, 'ts': '2018-05-06T12:59:58.803Z'}, {'type': 'end_phase', 'phase': 1, 'ts': '2018-05-06T13:45:00.746Z'}, {'kickoff_team_id': 9, 'type': 'start_phase', 'phase': 2, 'ts': '2018-05-06T14:00:42.453Z'}, {'type': 'end_phase', 'phase': 2, 'ts': '2018-05-06T14:48:47.422Z'}]\n",
      "1525611598803\n"
     ]
    },
    {
     "name": "stderr",
     "output_type": "stream",
     "text": [
      "7433it [00:03, 2397.97it/s]\n"
     ]
    },
    {
     "name": "stdout",
     "output_type": "stream",
     "text": [
      "0 0\n",
      "[]\n",
      "[]\n"
     ]
    },
    {
     "name": "stderr",
     "output_type": "stream",
     "text": [
      "419it [00:00, 2090.57it/s]"
     ]
    },
    {
     "name": "stdout",
     "output_type": "stream",
     "text": [
      "Parsed ../kickoff-detection-data/57bf9b24-5c68-464f-9e74-20d0b2508bba.2.kickoff.rdb in 2.15 s.\n",
      "Contains keys: dict_keys(['right', 'left'])\n",
      "[right] start_ts: 1524074286793 | stop_ts: 1524074883313\n",
      "[left] start_ts: 1524074286135 | stop_ts: 1524074882975\n",
      "../kickoff-detection-data/57bf9b24-5c68-464f-9e74-20d0b2508bba.json\n",
      "[{'kickoff_team_id': 11, 'type': 'start_phase', 'phase': 1, 'ts': '2018-04-18T17:00:28.694Z'}, {'type': 'end_phase', 'phase': 1, 'ts': '2018-04-18T17:46:35.647Z'}, {'kickoff_team_id': 8, 'type': 'start_phase', 'phase': 2, 'ts': '2018-04-18T18:03:03.900Z'}, {'type': 'end_phase', 'phase': 2, 'ts': '2018-04-18T18:52:04.739Z'}]\n",
      "1524074583900\n"
     ]
    },
    {
     "name": "stderr",
     "output_type": "stream",
     "text": [
      "14914it [00:07, 2033.97it/s]\n"
     ]
    },
    {
     "name": "stdout",
     "output_type": "stream",
     "text": [
      "574 574\n",
      "278\n",
      "17\n",
      "17 17\n",
      "[[0, 0, 0, 0, 0, 0, 0, 0, 0, 0, 0, 0, 0, 0, 0, 0, 0, 1, 0, 0], [0, 0, 0, 0, 0, 0, 0, 0, 0, 0, 0, 0, 0, 0, 0, 0, 1, 0, 0, 0], [0, 0, 0, 0, 0, 0, 0, 0, 0, 0, 0, 0, 0, 0, 0, 1, 0, 0, 0, 0], [0, 0, 0, 0, 0, 0, 0, 0, 0, 0, 0, 0, 0, 0, 1, 0, 0, 0, 0, 0], [0, 0, 0, 0, 0, 0, 0, 0, 0, 0, 0, 0, 0, 1, 0, 0, 0, 0, 0, 0], [0, 0, 0, 0, 0, 0, 0, 0, 0, 0, 0, 0, 1, 0, 0, 0, 0, 0, 0, 0], [0, 0, 0, 0, 0, 0, 0, 0, 0, 0, 0, 1, 0, 0, 0, 0, 0, 0, 0, 0], [0, 0, 0, 0, 0, 0, 0, 0, 0, 0, 1, 0, 0, 0, 0, 0, 0, 0, 0, 0], [0, 0, 0, 0, 0, 0, 0, 0, 0, 1, 0, 0, 0, 0, 0, 0, 0, 0, 0, 0], [0, 0, 0, 0, 0, 0, 0, 0, 1, 0, 0, 0, 0, 0, 0, 0, 0, 0, 0, 0], [0, 0, 0, 0, 0, 0, 0, 1, 0, 0, 0, 0, 0, 0, 0, 0, 0, 0, 0, 0], [0, 0, 0, 0, 0, 0, 1, 0, 0, 0, 0, 0, 0, 0, 0, 0, 0, 0, 0, 0], [0, 0, 0, 0, 0, 1, 0, 0, 0, 0, 0, 0, 0, 0, 0, 0, 0, 0, 0, 0], [0, 0, 0, 0, 1, 0, 0, 0, 0, 0, 0, 0, 0, 0, 0, 0, 0, 0, 0, 0], [0, 0, 0, 1, 0, 0, 0, 0, 0, 0, 0, 0, 0, 0, 0, 0, 0, 0, 0, 0], [0, 0, 1, 0, 0, 0, 0, 0, 0, 0, 0, 0, 0, 0, 0, 0, 0, 0, 0, 0], [0, 1, 0, 0, 0, 0, 0, 0, 0, 0, 0, 0, 0, 0, 0, 0, 0, 0, 0, 0]]\n",
      "[2, 3, 4, 5, 6, 7, 8, 9, 10, 11, 12, 13, 14, 15, 16, 17, 18]\n",
      "13\n"
     ]
    },
    {
     "name": "stderr",
     "output_type": "stream",
     "text": [
      "631it [00:00, 3183.97it/s]"
     ]
    },
    {
     "name": "stdout",
     "output_type": "stream",
     "text": [
      "Parsed ../kickoff-detection-data/4be6ef54-2541-42d0-a334-e513a535029c.1.kickoff.rdb in 2.00 s.\n",
      "Contains keys: dict_keys(['right', 'left'])\n",
      "[right] start_ts: 1523714121038 | stop_ts: 1523714720678\n",
      "[left] start_ts: 1523714121022 | stop_ts: 1523714720662\n",
      "../kickoff-detection-data/4be6ef54-2541-42d0-a334-e513a535029c.json\n",
      "[{'kickoff_team_id': 16, 'type': 'start_phase', 'phase': 1, 'ts': '2018-04-14T14:00:20.059Z'}, {'type': 'end_phase', 'phase': 1, 'ts': '2018-04-14T14:46:37.899Z'}, {'kickoff_team_id': 5, 'type': 'start_phase', 'phase': 2, 'ts': '2018-04-14T15:02:36.879Z'}, {'type': 'end_phase', 'phase': 2, 'ts': '2018-04-14T15:51:35.702Z'}]\n",
      "1523714420059\n"
     ]
    },
    {
     "name": "stderr",
     "output_type": "stream",
     "text": [
      "14991it [00:08, 1869.18it/s]\n"
     ]
    },
    {
     "name": "stdout",
     "output_type": "stream",
     "text": [
      "578 578\n",
      "280\n",
      "17\n",
      "17 17\n",
      "[[0, 0, 0, 0, 0, 0, 0, 0, 0, 0, 0, 0, 0, 0, 0, 0, 0, 1, 0, 0], [0, 0, 0, 0, 0, 0, 0, 0, 0, 0, 0, 0, 0, 0, 0, 0, 1, 0, 0, 0], [0, 0, 0, 0, 0, 0, 0, 0, 0, 0, 0, 0, 0, 0, 0, 1, 0, 0, 0, 0], [0, 0, 0, 0, 0, 0, 0, 0, 0, 0, 0, 0, 0, 0, 1, 0, 0, 0, 0, 0], [0, 0, 0, 0, 0, 0, 0, 0, 0, 0, 0, 0, 0, 1, 0, 0, 0, 0, 0, 0], [0, 0, 0, 0, 0, 0, 0, 0, 0, 0, 0, 0, 1, 0, 0, 0, 0, 0, 0, 0], [0, 0, 0, 0, 0, 0, 0, 0, 0, 0, 0, 1, 0, 0, 0, 0, 0, 0, 0, 0], [0, 0, 0, 0, 0, 0, 0, 0, 0, 0, 1, 0, 0, 0, 0, 0, 0, 0, 0, 0], [0, 0, 0, 0, 0, 0, 0, 0, 0, 1, 0, 0, 0, 0, 0, 0, 0, 0, 0, 0], [0, 0, 0, 0, 0, 0, 0, 0, 1, 0, 0, 0, 0, 0, 0, 0, 0, 0, 0, 0], [0, 0, 0, 0, 0, 0, 0, 1, 0, 0, 0, 0, 0, 0, 0, 0, 0, 0, 0, 0], [0, 0, 0, 0, 0, 0, 1, 0, 0, 0, 0, 0, 0, 0, 0, 0, 0, 0, 0, 0], [0, 0, 0, 0, 0, 1, 0, 0, 0, 0, 0, 0, 0, 0, 0, 0, 0, 0, 0, 0], [0, 0, 0, 0, 1, 0, 0, 0, 0, 0, 0, 0, 0, 0, 0, 0, 0, 0, 0, 0], [0, 0, 0, 1, 0, 0, 0, 0, 0, 0, 0, 0, 0, 0, 0, 0, 0, 0, 0, 0], [0, 0, 1, 0, 0, 0, 0, 0, 0, 0, 0, 0, 0, 0, 0, 0, 0, 0, 0, 0], [0, 1, 0, 0, 0, 0, 0, 0, 0, 0, 0, 0, 0, 0, 0, 0, 0, 0, 0, 0]]\n",
      "[2, 3, 4, 5, 6, 7, 8, 9, 10, 11, 12, 13, 14, 15, 16, 17, 18]\n",
      "14\n"
     ]
    },
    {
     "name": "stderr",
     "output_type": "stream",
     "text": [
      "596it [00:00, 2851.71it/s]"
     ]
    },
    {
     "name": "stdout",
     "output_type": "stream",
     "text": [
      "Parsed ../kickoff-detection-data/c7acc25c-8411-4683-96ec-e26dee9cec34.2.kickoff.rdb in 0.65 s.\n",
      "Contains keys: dict_keys(['right', 'left'])\n",
      "[right] start_ts: 1524405418777 | stop_ts: 1524405718137\n",
      "[left] start_ts: 1524405418073 | stop_ts: 1524405717793\n",
      "../kickoff-detection-data/c7acc25c-8411-4683-96ec-e26dee9cec34.json\n",
      "[{'kickoff_team_id': 16, 'type': 'start_phase', 'phase': 1, 'ts': '2018-04-22T13:00:00.017Z'}, {'type': 'end_phase', 'phase': 1, 'ts': '2018-04-22T13:46:09.238Z'}, {'kickoff_team_id': 3, 'type': 'start_phase', 'phase': 2, 'ts': '2018-04-22T14:01:57.969Z'}, {'type': 'end_phase', 'phase': 2, 'ts': '2018-04-22T14:50:02.088Z'}]\n",
      "1524405717969\n"
     ]
    },
    {
     "name": "stderr",
     "output_type": "stream",
     "text": [
      "7485it [00:02, 2718.19it/s]\n"
     ]
    },
    {
     "name": "stdout",
     "output_type": "stream",
     "text": [
      "0 0\n",
      "[]\n",
      "[]\n"
     ]
    },
    {
     "name": "stderr",
     "output_type": "stream",
     "text": [
      "655it [00:00, 3180.53it/s]"
     ]
    },
    {
     "name": "stdout",
     "output_type": "stream",
     "text": [
      "Parsed ../kickoff-detection-data/9ab7ccfb-75cb-4756-9eb5-fe8c29de8fcc.2.kickoff.rdb in 0.70 s.\n",
      "Contains keys: dict_keys(['right', 'left'])\n",
      "[right] start_ts: 1525624025530 | stop_ts: 1525624325290\n",
      "[left] start_ts: 1525624025358 | stop_ts: 1525624325238\n",
      "../kickoff-detection-data/9ab7ccfb-75cb-4756-9eb5-fe8c29de8fcc.json\n",
      "[{'kickoff_team_id': 10, 'type': 'start_phase', 'phase': 1, 'ts': '2018-05-06T15:31:10.100Z'}, {'type': 'end_phase', 'phase': 1, 'ts': '2018-05-06T16:16:18.200Z'}, {'kickoff_team_id': 7, 'type': 'start_phase', 'phase': 2, 'ts': '2018-05-06T16:32:05.306Z'}, {'type': 'end_phase', 'phase': 2, 'ts': '2018-05-06T17:20:08.236Z'}]\n",
      "1525624325306\n"
     ]
    },
    {
     "name": "stderr",
     "output_type": "stream",
     "text": [
      "7495it [00:02, 2785.21it/s]\n"
     ]
    },
    {
     "name": "stdout",
     "output_type": "stream",
     "text": [
      "0 0\n",
      "[]\n",
      "[]\n"
     ]
    },
    {
     "name": "stderr",
     "output_type": "stream",
     "text": [
      "247it [00:00, 1233.01it/s]"
     ]
    },
    {
     "name": "stdout",
     "output_type": "stream",
     "text": [
      "Parsed ../kickoff-detection-data/6e26f66b-a921-4919-9d7d-1bd59f935e78.1.kickoff.rdb in 2.25 s.\n",
      "Contains keys: dict_keys(['right', 'left'])\n",
      "[right] start_ts: 1523638586979 | stop_ts: 1523639185819\n",
      "[left] start_ts: 1523638587613 | stop_ts: 1523639186133\n",
      "../kickoff-detection-data/6e26f66b-a921-4919-9d7d-1bd59f935e78.json\n",
      "[{'kickoff_team_id': 3, 'type': 'start_phase', 'phase': 1, 'ts': '2018-04-13T17:01:26.037Z'}, {'type': 'end_phase', 'phase': 1, 'ts': '2018-04-13T17:48:25.115Z'}, {'kickoff_team_id': 8, 'type': 'start_phase', 'phase': 2, 'ts': '2018-04-13T18:04:22.102Z'}, {'type': 'end_phase', 'phase': 2, 'ts': '2018-04-13T18:52:23.632Z'}]\n",
      "1523638886037\n"
     ]
    },
    {
     "name": "stderr",
     "output_type": "stream",
     "text": [
      "14963it [00:08, 1863.63it/s]\n"
     ]
    },
    {
     "name": "stdout",
     "output_type": "stream",
     "text": [
      "576 576\n",
      "280\n",
      "16\n",
      "16 16\n",
      "[[0, 0, 0, 0, 0, 0, 0, 0, 0, 0, 0, 0, 0, 0, 0, 0, 0, 1, 0, 0], [0, 0, 0, 0, 0, 0, 0, 0, 0, 0, 0, 0, 0, 0, 0, 0, 1, 0, 0, 0], [0, 0, 0, 0, 0, 0, 0, 0, 0, 0, 0, 0, 0, 0, 0, 1, 0, 0, 0, 0], [0, 0, 0, 0, 0, 0, 0, 0, 0, 0, 0, 0, 0, 0, 1, 0, 0, 0, 0, 0], [0, 0, 0, 0, 0, 0, 0, 0, 0, 0, 0, 0, 0, 1, 0, 0, 0, 0, 0, 0], [0, 0, 0, 0, 0, 0, 0, 0, 0, 0, 0, 0, 1, 0, 0, 0, 0, 0, 0, 0], [0, 0, 0, 0, 0, 0, 0, 0, 0, 0, 0, 1, 0, 0, 0, 0, 0, 0, 0, 0], [0, 0, 0, 0, 0, 0, 0, 0, 0, 0, 1, 0, 0, 0, 0, 0, 0, 0, 0, 0], [0, 0, 0, 0, 0, 0, 0, 0, 0, 1, 0, 0, 0, 0, 0, 0, 0, 0, 0, 0], [0, 0, 0, 0, 0, 0, 0, 0, 1, 0, 0, 0, 0, 0, 0, 0, 0, 0, 0, 0], [0, 0, 0, 0, 0, 0, 0, 1, 0, 0, 0, 0, 0, 0, 0, 0, 0, 0, 0, 0], [0, 0, 0, 0, 0, 0, 1, 0, 0, 0, 0, 0, 0, 0, 0, 0, 0, 0, 0, 0], [0, 0, 0, 0, 0, 1, 0, 0, 0, 0, 0, 0, 0, 0, 0, 0, 0, 0, 0, 0], [0, 0, 0, 0, 1, 0, 0, 0, 0, 0, 0, 0, 0, 0, 0, 0, 0, 0, 0, 0], [0, 0, 0, 1, 0, 0, 0, 0, 0, 0, 0, 0, 0, 0, 0, 0, 0, 0, 0, 0], [0, 0, 1, 0, 0, 0, 0, 0, 0, 0, 0, 0, 0, 0, 0, 0, 0, 0, 0, 0]]\n",
      "[2, 3, 4, 5, 6, 7, 8, 9, 10, 11, 12, 13, 14, 15, 16, 17]\n",
      "15\n"
     ]
    },
    {
     "name": "stderr",
     "output_type": "stream",
     "text": [
      "253it [00:00, 1249.64it/s]"
     ]
    },
    {
     "name": "stdout",
     "output_type": "stream",
     "text": [
      "Parsed ../kickoff-detection-data/57bf9b24-5c68-464f-9e74-20d0b2508bba.1.kickoff.rdb in 2.89 s.\n",
      "Contains keys: dict_keys(['right', 'left'])\n",
      "[right] start_ts: 1524070530793 | stop_ts: 1524071128313\n",
      "[left] start_ts: 1524070530135 | stop_ts: 1524071127975\n",
      "../kickoff-detection-data/57bf9b24-5c68-464f-9e74-20d0b2508bba.json\n",
      "[{'kickoff_team_id': 11, 'type': 'start_phase', 'phase': 1, 'ts': '2018-04-18T17:00:28.694Z'}, {'type': 'end_phase', 'phase': 1, 'ts': '2018-04-18T17:46:35.647Z'}, {'kickoff_team_id': 8, 'type': 'start_phase', 'phase': 2, 'ts': '2018-04-18T18:03:03.900Z'}, {'type': 'end_phase', 'phase': 2, 'ts': '2018-04-18T18:52:04.739Z'}]\n",
      "1524070828694\n"
     ]
    },
    {
     "name": "stderr",
     "output_type": "stream",
     "text": [
      "14939it [00:09, 1656.53it/s]\n"
     ]
    },
    {
     "name": "stdout",
     "output_type": "stream",
     "text": [
      "575 575\n",
      "279\n",
      "17\n",
      "17 17\n",
      "[[0, 0, 0, 0, 0, 0, 0, 0, 0, 0, 0, 0, 0, 0, 0, 0, 0, 1, 0, 0], [0, 0, 0, 0, 0, 0, 0, 0, 0, 0, 0, 0, 0, 0, 0, 0, 1, 0, 0, 0], [0, 0, 0, 0, 0, 0, 0, 0, 0, 0, 0, 0, 0, 0, 0, 1, 0, 0, 0, 0], [0, 0, 0, 0, 0, 0, 0, 0, 0, 0, 0, 0, 0, 0, 1, 0, 0, 0, 0, 0], [0, 0, 0, 0, 0, 0, 0, 0, 0, 0, 0, 0, 0, 1, 0, 0, 0, 0, 0, 0], [0, 0, 0, 0, 0, 0, 0, 0, 0, 0, 0, 0, 1, 0, 0, 0, 0, 0, 0, 0], [0, 0, 0, 0, 0, 0, 0, 0, 0, 0, 0, 1, 0, 0, 0, 0, 0, 0, 0, 0], [0, 0, 0, 0, 0, 0, 0, 0, 0, 0, 1, 0, 0, 0, 0, 0, 0, 0, 0, 0], [0, 0, 0, 0, 0, 0, 0, 0, 0, 1, 0, 0, 0, 0, 0, 0, 0, 0, 0, 0], [0, 0, 0, 0, 0, 0, 0, 0, 1, 0, 0, 0, 0, 0, 0, 0, 0, 0, 0, 0], [0, 0, 0, 0, 0, 0, 0, 1, 0, 0, 0, 0, 0, 0, 0, 0, 0, 0, 0, 0], [0, 0, 0, 0, 0, 0, 1, 0, 0, 0, 0, 0, 0, 0, 0, 0, 0, 0, 0, 0], [0, 0, 0, 0, 0, 1, 0, 0, 0, 0, 0, 0, 0, 0, 0, 0, 0, 0, 0, 0], [0, 0, 0, 0, 1, 0, 0, 0, 0, 0, 0, 0, 0, 0, 0, 0, 0, 0, 0, 0], [0, 0, 0, 1, 0, 0, 0, 0, 0, 0, 0, 0, 0, 0, 0, 0, 0, 0, 0, 0], [0, 0, 1, 0, 0, 0, 0, 0, 0, 0, 0, 0, 0, 0, 0, 0, 0, 0, 0, 0], [0, 1, 0, 0, 0, 0, 0, 0, 0, 0, 0, 0, 0, 0, 0, 0, 0, 0, 0, 0]]\n",
      "[2, 3, 4, 5, 6, 7, 8, 9, 10, 11, 12, 13, 14, 15, 16, 17, 18]\n",
      "16\n"
     ]
    },
    {
     "name": "stderr",
     "output_type": "stream",
     "text": [
      "643it [00:00, 3335.54it/s]"
     ]
    },
    {
     "name": "stdout",
     "output_type": "stream",
     "text": [
      "Parsed ../kickoff-detection-data/66b6caf7-e5c0-45dd-874f-de8ac2e3c9ff.1.kickoff.rdb in 0.93 s.\n",
      "Contains keys: dict_keys(['right', 'left'])\n",
      "[right] start_ts: 1526921712730 | stop_ts: 1526922009650\n",
      "[left] start_ts: 1526921712782 | stop_ts: 1526922009662\n",
      "../kickoff-detection-data/66b6caf7-e5c0-45dd-874f-de8ac2e3c9ff.json\n",
      "[{'kickoff_team_id': 6, 'type': 'start_phase', 'phase': 1, 'ts': '2018-05-21T17:00:09.374Z'}, {'type': 'end_phase', 'phase': 1, 'ts': '2018-05-21T17:46:11.855Z'}, {'kickoff_team_id': 7, 'type': 'start_phase', 'phase': 2, 'ts': '2018-05-21T18:01:52.583Z'}, {'type': 'end_phase', 'phase': 2, 'ts': '2018-05-21T18:51:25.546Z'}]\n",
      "1526922009374\n"
     ]
    },
    {
     "name": "stderr",
     "output_type": "stream",
     "text": [
      "7422it [00:02, 2910.53it/s]\n"
     ]
    },
    {
     "name": "stdout",
     "output_type": "stream",
     "text": [
      "0 0\n",
      "[]\n",
      "[]\n"
     ]
    },
    {
     "name": "stderr",
     "output_type": "stream",
     "text": [
      "247it [00:00, 2467.80it/s]"
     ]
    },
    {
     "name": "stdout",
     "output_type": "stream",
     "text": [
      "Parsed ../kickoff-detection-data/2b8bcfd6-5f57-46de-aacd-e932ac8e1697.2.kickoff.rdb in 2.02 s.\n",
      "Contains keys: dict_keys(['right', 'left'])\n",
      "[right] start_ts: 1523204962061 | stop_ts: 1523205559981\n",
      "[left] start_ts: 1523204960829 | stop_ts: 1523205559349\n",
      "../kickoff-detection-data/2b8bcfd6-5f57-46de-aacd-e932ac8e1697.json\n",
      "[{'kickoff_team_id': 13, 'type': 'start_phase', 'phase': 1, 'ts': '2018-04-08T15:29:52.779Z'}, {'type': 'end_phase', 'phase': 1, 'ts': '2018-04-08T16:17:54.242Z'}, {'kickoff_team_id': 16, 'type': 'start_phase', 'phase': 2, 'ts': '2018-04-08T16:34:19.995Z'}, {'type': 'end_phase', 'phase': 2, 'ts': '2018-04-08T17:23:20.816Z'}]\n",
      "1523205259995\n"
     ]
    },
    {
     "name": "stderr",
     "output_type": "stream",
     "text": [
      "14949it [00:07, 1883.51it/s]\n"
     ]
    },
    {
     "name": "stdout",
     "output_type": "stream",
     "text": [
      "575 575\n",
      "279\n",
      "17\n",
      "17 17\n",
      "[[0, 0, 0, 0, 0, 0, 0, 0, 0, 0, 0, 0, 0, 0, 0, 0, 0, 1, 0, 0], [0, 0, 0, 0, 0, 0, 0, 0, 0, 0, 0, 0, 0, 0, 0, 0, 1, 0, 0, 0], [0, 0, 0, 0, 0, 0, 0, 0, 0, 0, 0, 0, 0, 0, 0, 1, 0, 0, 0, 0], [0, 0, 0, 0, 0, 0, 0, 0, 0, 0, 0, 0, 0, 0, 1, 0, 0, 0, 0, 0], [0, 0, 0, 0, 0, 0, 0, 0, 0, 0, 0, 0, 0, 1, 0, 0, 0, 0, 0, 0], [0, 0, 0, 0, 0, 0, 0, 0, 0, 0, 0, 0, 1, 0, 0, 0, 0, 0, 0, 0], [0, 0, 0, 0, 0, 0, 0, 0, 0, 0, 0, 1, 0, 0, 0, 0, 0, 0, 0, 0], [0, 0, 0, 0, 0, 0, 0, 0, 0, 0, 1, 0, 0, 0, 0, 0, 0, 0, 0, 0], [0, 0, 0, 0, 0, 0, 0, 0, 0, 1, 0, 0, 0, 0, 0, 0, 0, 0, 0, 0], [0, 0, 0, 0, 0, 0, 0, 0, 1, 0, 0, 0, 0, 0, 0, 0, 0, 0, 0, 0], [0, 0, 0, 0, 0, 0, 0, 1, 0, 0, 0, 0, 0, 0, 0, 0, 0, 0, 0, 0], [0, 0, 0, 0, 0, 0, 1, 0, 0, 0, 0, 0, 0, 0, 0, 0, 0, 0, 0, 0], [0, 0, 0, 0, 0, 1, 0, 0, 0, 0, 0, 0, 0, 0, 0, 0, 0, 0, 0, 0], [0, 0, 0, 0, 1, 0, 0, 0, 0, 0, 0, 0, 0, 0, 0, 0, 0, 0, 0, 0], [0, 0, 0, 1, 0, 0, 0, 0, 0, 0, 0, 0, 0, 0, 0, 0, 0, 0, 0, 0], [0, 0, 1, 0, 0, 0, 0, 0, 0, 0, 0, 0, 0, 0, 0, 0, 0, 0, 0, 0], [0, 1, 0, 0, 0, 0, 0, 0, 0, 0, 0, 0, 0, 0, 0, 0, 0, 0, 0, 0]]\n",
      "[2, 3, 4, 5, 6, 7, 8, 9, 10, 11, 12, 13, 14, 15, 16, 17, 18]\n",
      "17\n"
     ]
    },
    {
     "name": "stderr",
     "output_type": "stream",
     "text": [
      "812it [00:00, 3859.81it/s]"
     ]
    },
    {
     "name": "stdout",
     "output_type": "stream",
     "text": [
      "Parsed ../kickoff-detection-data/23fb8811-638e-4be8-a01d-76cad0f5a5bf.1.kickoff.rdb in 0.93 s.\n",
      "Contains keys: dict_keys(['right', 'left'])\n",
      "[right] start_ts: 1526133303581 | stop_ts: 1526133602461\n",
      "[left] start_ts: 1526133303595 | stop_ts: 1526133602435\n",
      "../kickoff-detection-data/23fb8811-638e-4be8-a01d-76cad0f5a5bf.json\n",
      "[{'kickoff_team_id': 3, 'type': 'start_phase', 'phase': 1, 'ts': '2018-05-12T14:00:02.187Z'}, {'type': 'end_phase', 'phase': 1, 'ts': '2018-05-12T14:46:02.666Z'}, {'kickoff_team_id': 15, 'type': 'start_phase', 'phase': 2, 'ts': '2018-05-12T15:01:23.069Z'}, {'type': 'end_phase', 'phase': 2, 'ts': '2018-05-12T15:48:40.504Z'}]\n",
      "1526133602187\n"
     ]
    },
    {
     "name": "stderr",
     "output_type": "stream",
     "text": [
      "7472it [00:02, 2529.27it/s]\n"
     ]
    },
    {
     "name": "stdout",
     "output_type": "stream",
     "text": [
      "0 0\n",
      "[]\n",
      "[]\n"
     ]
    },
    {
     "name": "stderr",
     "output_type": "stream",
     "text": [
      "383it [00:00, 1873.74it/s]"
     ]
    },
    {
     "name": "stdout",
     "output_type": "stream",
     "text": [
      "Parsed ../kickoff-detection-data/b4dbea7c-c72f-4dd6-b57c-8fb7b8b38eb5.1.kickoff.rdb in 2.63 s.\n",
      "Contains keys: dict_keys(['right', 'left'])\n",
      "[right] start_ts: 1524070510889 | stop_ts: 1524071110729\n",
      "[left] start_ts: 1524070510939 | stop_ts: 1524071110739\n",
      "../kickoff-detection-data/b4dbea7c-c72f-4dd6-b57c-8fb7b8b38eb5.json\n",
      "[{'kickoff_team_id': 13, 'type': 'start_phase', 'phase': 1, 'ts': '2018-04-18T17:00:10.108Z'}, {'type': 'end_phase', 'phase': 1, 'ts': '2018-04-18T17:47:10.874Z'}, {'kickoff_team_id': 9, 'type': 'start_phase', 'phase': 2, 'ts': '2018-04-18T18:02:18.645Z'}, {'type': 'end_phase', 'phase': 2, 'ts': '2018-04-18T18:49:19.022Z'}]\n",
      "1524070810108\n"
     ]
    },
    {
     "name": "stderr",
     "output_type": "stream",
     "text": [
      "14996it [00:09, 1563.77it/s]\n"
     ]
    },
    {
     "name": "stdout",
     "output_type": "stream",
     "text": [
      "578 578\n",
      "281\n",
      "16\n",
      "16 16\n",
      "[[0, 0, 0, 0, 0, 0, 0, 0, 0, 0, 0, 0, 0, 0, 0, 0, 0, 1, 0, 0], [0, 0, 0, 0, 0, 0, 0, 0, 0, 0, 0, 0, 0, 0, 0, 0, 1, 0, 0, 0], [0, 0, 0, 0, 0, 0, 0, 0, 0, 0, 0, 0, 0, 0, 0, 1, 0, 0, 0, 0], [0, 0, 0, 0, 0, 0, 0, 0, 0, 0, 0, 0, 0, 0, 1, 0, 0, 0, 0, 0], [0, 0, 0, 0, 0, 0, 0, 0, 0, 0, 0, 0, 0, 1, 0, 0, 0, 0, 0, 0], [0, 0, 0, 0, 0, 0, 0, 0, 0, 0, 0, 0, 1, 0, 0, 0, 0, 0, 0, 0], [0, 0, 0, 0, 0, 0, 0, 0, 0, 0, 0, 1, 0, 0, 0, 0, 0, 0, 0, 0], [0, 0, 0, 0, 0, 0, 0, 0, 0, 0, 1, 0, 0, 0, 0, 0, 0, 0, 0, 0], [0, 0, 0, 0, 0, 0, 0, 0, 0, 1, 0, 0, 0, 0, 0, 0, 0, 0, 0, 0], [0, 0, 0, 0, 0, 0, 0, 0, 1, 0, 0, 0, 0, 0, 0, 0, 0, 0, 0, 0], [0, 0, 0, 0, 0, 0, 0, 1, 0, 0, 0, 0, 0, 0, 0, 0, 0, 0, 0, 0], [0, 0, 0, 0, 0, 0, 1, 0, 0, 0, 0, 0, 0, 0, 0, 0, 0, 0, 0, 0], [0, 0, 0, 0, 0, 1, 0, 0, 0, 0, 0, 0, 0, 0, 0, 0, 0, 0, 0, 0], [0, 0, 0, 0, 1, 0, 0, 0, 0, 0, 0, 0, 0, 0, 0, 0, 0, 0, 0, 0], [0, 0, 0, 1, 0, 0, 0, 0, 0, 0, 0, 0, 0, 0, 0, 0, 0, 0, 0, 0], [0, 0, 1, 0, 0, 0, 0, 0, 0, 0, 0, 0, 0, 0, 0, 0, 0, 0, 0, 0]]\n",
      "[2, 3, 4, 5, 6, 7, 8, 9, 10, 11, 12, 13, 14, 15, 16, 17]\n",
      "18\n"
     ]
    },
    {
     "name": "stderr",
     "output_type": "stream",
     "text": [
      "383it [00:00, 1898.47it/s]"
     ]
    },
    {
     "name": "stdout",
     "output_type": "stream",
     "text": [
      "Parsed ../kickoff-detection-data/8d6fc150-9f6b-4e5c-8a99-d2ca96b5ffa5.1.kickoff.rdb in 1.84 s.\n",
      "Contains keys: dict_keys(['right', 'left'])\n",
      "[right] start_ts: 1524156948802 | stop_ts: 1524157246362\n",
      "[left] start_ts: 1524156948162 | stop_ts: 1524157246082\n",
      "../kickoff-detection-data/8d6fc150-9f6b-4e5c-8a99-d2ca96b5ffa5.json\n",
      "[{'kickoff_team_id': 4, 'type': 'start_phase', 'phase': 1, 'ts': '2018-04-19T17:00:46.040Z'}, {'type': 'end_phase', 'phase': 1, 'ts': '2018-04-19T17:45:47.791Z'}, {'kickoff_team_id': 2, 'type': 'start_phase', 'phase': 2, 'ts': '2018-04-19T18:01:35.679Z'}, {'type': 'end_phase', 'phase': 2, 'ts': '2018-04-19T18:51:07.597Z'}]\n",
      "1524157246040\n"
     ]
    },
    {
     "name": "stderr",
     "output_type": "stream",
     "text": [
      "7440it [00:05, 1448.18it/s]\n"
     ]
    },
    {
     "name": "stdout",
     "output_type": "stream",
     "text": [
      "0 0\n",
      "[]\n",
      "[]\n"
     ]
    },
    {
     "name": "stderr",
     "output_type": "stream",
     "text": [
      "278it [00:00, 1370.74it/s]"
     ]
    },
    {
     "name": "stdout",
     "output_type": "stream",
     "text": [
      "Parsed ../kickoff-detection-data/cf16ebf4-49fc-4991-a9b8-b9a055dcf2b8.1.kickoff.rdb in 2.14 s.\n",
      "Contains keys: dict_keys(['right', 'left'])\n",
      "[right] start_ts: 1525006796888 | stop_ts: 1525007393688\n",
      "[left] start_ts: 1525006796874 | stop_ts: 1525007393674\n",
      "../kickoff-detection-data/cf16ebf4-49fc-4991-a9b8-b9a055dcf2b8.json\n",
      "[{'kickoff_team_id': 2, 'type': 'start_phase', 'phase': 1, 'ts': '2018-04-29T13:04:53.610Z'}, {'type': 'end_phase', 'phase': 1, 'ts': '2018-04-29T13:51:58.173Z'}, {'kickoff_team_id': 11, 'type': 'start_phase', 'phase': 2, 'ts': '2018-04-29T14:09:35.826Z'}, {'type': 'end_phase', 'phase': 2, 'ts': '2018-04-29T14:57:43.997Z'}]\n",
      "1525007093610\n"
     ]
    },
    {
     "name": "stderr",
     "output_type": "stream",
     "text": [
      "14921it [00:07, 2059.62it/s]\n"
     ]
    },
    {
     "name": "stdout",
     "output_type": "stream",
     "text": [
      "575 575\n",
      "278\n",
      "17\n",
      "17 17\n",
      "[[0, 0, 0, 0, 0, 0, 0, 0, 0, 0, 0, 0, 0, 0, 0, 0, 0, 1, 0, 0], [0, 0, 0, 0, 0, 0, 0, 0, 0, 0, 0, 0, 0, 0, 0, 0, 1, 0, 0, 0], [0, 0, 0, 0, 0, 0, 0, 0, 0, 0, 0, 0, 0, 0, 0, 1, 0, 0, 0, 0], [0, 0, 0, 0, 0, 0, 0, 0, 0, 0, 0, 0, 0, 0, 1, 0, 0, 0, 0, 0], [0, 0, 0, 0, 0, 0, 0, 0, 0, 0, 0, 0, 0, 1, 0, 0, 0, 0, 0, 0], [0, 0, 0, 0, 0, 0, 0, 0, 0, 0, 0, 0, 1, 0, 0, 0, 0, 0, 0, 0], [0, 0, 0, 0, 0, 0, 0, 0, 0, 0, 0, 1, 0, 0, 0, 0, 0, 0, 0, 0], [0, 0, 0, 0, 0, 0, 0, 0, 0, 0, 1, 0, 0, 0, 0, 0, 0, 0, 0, 0], [0, 0, 0, 0, 0, 0, 0, 0, 0, 1, 0, 0, 0, 0, 0, 0, 0, 0, 0, 0], [0, 0, 0, 0, 0, 0, 0, 0, 1, 0, 0, 0, 0, 0, 0, 0, 0, 0, 0, 0], [0, 0, 0, 0, 0, 0, 0, 1, 0, 0, 0, 0, 0, 0, 0, 0, 0, 0, 0, 0], [0, 0, 0, 0, 0, 0, 1, 0, 0, 0, 0, 0, 0, 0, 0, 0, 0, 0, 0, 0], [0, 0, 0, 0, 0, 1, 0, 0, 0, 0, 0, 0, 0, 0, 0, 0, 0, 0, 0, 0], [0, 0, 0, 0, 1, 0, 0, 0, 0, 0, 0, 0, 0, 0, 0, 0, 0, 0, 0, 0], [0, 0, 0, 1, 0, 0, 0, 0, 0, 0, 0, 0, 0, 0, 0, 0, 0, 0, 0, 0], [0, 0, 1, 0, 0, 0, 0, 0, 0, 0, 0, 0, 0, 0, 0, 0, 0, 0, 0, 0], [0, 1, 0, 0, 0, 0, 0, 0, 0, 0, 0, 0, 0, 0, 0, 0, 0, 0, 0, 0]]\n",
      "[2, 3, 4, 5, 6, 7, 8, 9, 10, 11, 12, 13, 14, 15, 16, 17, 18]\n",
      "19\n"
     ]
    },
    {
     "name": "stderr",
     "output_type": "stream",
     "text": [
      "257it [00:00, 2564.82it/s]"
     ]
    },
    {
     "name": "stdout",
     "output_type": "stream",
     "text": [
      "Parsed ../kickoff-detection-data/d092d84a-bfe1-4638-bd6e-7f516a90553a.2.kickoff.rdb in 0.82 s.\n",
      "Contains keys: dict_keys(['right', 'left'])\n",
      "[right] start_ts: 1527346602142 | stop_ts: 1527346899022\n",
      "[left] start_ts: 1527346602172 | stop_ts: 1527346899012\n",
      "../kickoff-detection-data/d092d84a-bfe1-4638-bd6e-7f516a90553a.json\n",
      "[{'kickoff_team_id': 10, 'type': 'start_phase', 'phase': 1, 'ts': '2018-05-26T14:00:33.777Z'}, {'type': 'end_phase', 'phase': 1, 'ts': '2018-05-26T14:46:31.767Z'}, {'kickoff_team_id': 4, 'type': 'start_phase', 'phase': 2, 'ts': '2018-05-26T15:01:39.568Z'}, {'type': 'end_phase', 'phase': 2, 'ts': '2018-05-26T15:49:43.350Z'}]\n",
      "1527346899568\n"
     ]
    },
    {
     "name": "stderr",
     "output_type": "stream",
     "text": [
      "7422it [00:03, 2276.61it/s]\n"
     ]
    },
    {
     "name": "stdout",
     "output_type": "stream",
     "text": [
      "0 0\n",
      "[]\n",
      "[]\n"
     ]
    },
    {
     "name": "stderr",
     "output_type": "stream",
     "text": [
      "247it [00:00, 1266.15it/s]"
     ]
    },
    {
     "name": "stdout",
     "output_type": "stream",
     "text": [
      "Parsed ../kickoff-detection-data/314f4989-398c-45a3-a74f-9f1adac71bf1.1.kickoff.rdb in 2.12 s.\n",
      "Contains keys: dict_keys(['right', 'left'])\n",
      "[right] start_ts: 1522587361602 | stop_ts: 1522587961442\n",
      "[left] start_ts: 1522587361524 | stop_ts: 1522587961404\n",
      "../kickoff-detection-data/314f4989-398c-45a3-a74f-9f1adac71bf1.json\n",
      "[{'kickoff_team_id': 9, 'type': 'start_phase', 'phase': 1, 'ts': '2018-04-01T13:01:01.209Z'}, {'type': 'end_phase', 'phase': 1, 'ts': '2018-04-01T13:47:08.486Z'}, {'kickoff_team_id': 5, 'type': 'start_phase', 'phase': 2, 'ts': '2018-04-01T14:02:47.436Z'}, {'type': 'end_phase', 'phase': 2, 'ts': '2018-04-01T14:50:51.103Z'}]\n",
      "1522587661209\n"
     ]
    },
    {
     "name": "stderr",
     "output_type": "stream",
     "text": [
      "14908it [00:07, 1912.27it/s]\n"
     ]
    },
    {
     "name": "stdout",
     "output_type": "stream",
     "text": [
      "571 571\n",
      "281\n",
      "16\n",
      "16 16\n",
      "[[0, 0, 0, 0, 0, 0, 0, 0, 0, 0, 0, 0, 0, 0, 0, 0, 0, 1, 0, 0], [0, 0, 0, 0, 0, 0, 0, 0, 0, 0, 0, 0, 0, 0, 0, 0, 1, 0, 0, 0], [0, 0, 0, 0, 0, 0, 0, 0, 0, 0, 0, 0, 0, 0, 0, 1, 0, 0, 0, 0], [0, 0, 0, 0, 0, 0, 0, 0, 0, 0, 0, 0, 0, 0, 1, 0, 0, 0, 0, 0], [0, 0, 0, 0, 0, 0, 0, 0, 0, 0, 0, 0, 0, 1, 0, 0, 0, 0, 0, 0], [0, 0, 0, 0, 0, 0, 0, 0, 0, 0, 0, 0, 1, 0, 0, 0, 0, 0, 0, 0], [0, 0, 0, 0, 0, 0, 0, 0, 0, 0, 0, 1, 0, 0, 0, 0, 0, 0, 0, 0], [0, 0, 0, 0, 0, 0, 0, 0, 0, 0, 1, 0, 0, 0, 0, 0, 0, 0, 0, 0], [0, 0, 0, 0, 0, 0, 0, 0, 0, 1, 0, 0, 0, 0, 0, 0, 0, 0, 0, 0], [0, 0, 0, 0, 0, 0, 0, 0, 1, 0, 0, 0, 0, 0, 0, 0, 0, 0, 0, 0], [0, 0, 0, 0, 0, 0, 0, 1, 0, 0, 0, 0, 0, 0, 0, 0, 0, 0, 0, 0], [0, 0, 0, 0, 0, 0, 1, 0, 0, 0, 0, 0, 0, 0, 0, 0, 0, 0, 0, 0], [0, 0, 0, 0, 0, 1, 0, 0, 0, 0, 0, 0, 0, 0, 0, 0, 0, 0, 0, 0], [0, 0, 0, 0, 1, 0, 0, 0, 0, 0, 0, 0, 0, 0, 0, 0, 0, 0, 0, 0], [0, 0, 0, 1, 0, 0, 0, 0, 0, 0, 0, 0, 0, 0, 0, 0, 0, 0, 0, 0], [0, 0, 1, 0, 0, 0, 0, 0, 0, 0, 0, 0, 0, 0, 0, 0, 0, 0, 0, 0]]\n",
      "[2, 3, 4, 5, 6, 7, 8, 9, 10, 11, 12, 13, 14, 15, 16, 17]\n",
      "20\n"
     ]
    },
    {
     "name": "stderr",
     "output_type": "stream",
     "text": [
      "910it [00:00, 4504.21it/s]"
     ]
    },
    {
     "name": "stdout",
     "output_type": "stream",
     "text": [
      "Parsed ../kickoff-detection-data/03d0ac1b-8adb-457d-9519-b6c879a92df3.2.kickoff.rdb in 1.98 s.\n",
      "Contains keys: dict_keys(['right', 'left'])\n",
      "[right] start_ts: 1526825255814 | stop_ts: 1526825853694\n",
      "[left] start_ts: 1526825255686 | stop_ts: 1526825853606\n",
      "../kickoff-detection-data/03d0ac1b-8adb-457d-9519-b6c879a92df3.json\n",
      "[{'kickoff_team_id': 10, 'type': 'start_phase', 'phase': 1, 'ts': '2018-05-20T13:10:06.054Z'}, {'type': 'end_phase', 'phase': 1, 'ts': '2018-05-20T13:55:08.940Z'}, {'kickoff_team_id': 2, 'type': 'start_phase', 'phase': 2, 'ts': '2018-05-20T14:12:33.841Z'}, {'type': 'end_phase', 'phase': 2, 'ts': '2018-05-20T15:02:18.183Z'}]\n",
      "1526825553841\n"
     ]
    },
    {
     "name": "stderr",
     "output_type": "stream",
     "text": [
      "14948it [00:06, 2217.22it/s]\n"
     ]
    },
    {
     "name": "stdout",
     "output_type": "stream",
     "text": [
      "575 575\n",
      "279\n",
      "17\n",
      "17 17\n",
      "[[0, 0, 0, 0, 0, 0, 0, 0, 0, 0, 0, 0, 0, 0, 0, 0, 0, 1, 0, 0], [0, 0, 0, 0, 0, 0, 0, 0, 0, 0, 0, 0, 0, 0, 0, 0, 1, 0, 0, 0], [0, 0, 0, 0, 0, 0, 0, 0, 0, 0, 0, 0, 0, 0, 0, 1, 0, 0, 0, 0], [0, 0, 0, 0, 0, 0, 0, 0, 0, 0, 0, 0, 0, 0, 1, 0, 0, 0, 0, 0], [0, 0, 0, 0, 0, 0, 0, 0, 0, 0, 0, 0, 0, 1, 0, 0, 0, 0, 0, 0], [0, 0, 0, 0, 0, 0, 0, 0, 0, 0, 0, 0, 1, 0, 0, 0, 0, 0, 0, 0], [0, 0, 0, 0, 0, 0, 0, 0, 0, 0, 0, 1, 0, 0, 0, 0, 0, 0, 0, 0], [0, 0, 0, 0, 0, 0, 0, 0, 0, 0, 1, 0, 0, 0, 0, 0, 0, 0, 0, 0], [0, 0, 0, 0, 0, 0, 0, 0, 0, 1, 0, 0, 0, 0, 0, 0, 0, 0, 0, 0], [0, 0, 0, 0, 0, 0, 0, 0, 1, 0, 0, 0, 0, 0, 0, 0, 0, 0, 0, 0], [0, 0, 0, 0, 0, 0, 0, 1, 0, 0, 0, 0, 0, 0, 0, 0, 0, 0, 0, 0], [0, 0, 0, 0, 0, 0, 1, 0, 0, 0, 0, 0, 0, 0, 0, 0, 0, 0, 0, 0], [0, 0, 0, 0, 0, 1, 0, 0, 0, 0, 0, 0, 0, 0, 0, 0, 0, 0, 0, 0], [0, 0, 0, 0, 1, 0, 0, 0, 0, 0, 0, 0, 0, 0, 0, 0, 0, 0, 0, 0], [0, 0, 0, 1, 0, 0, 0, 0, 0, 0, 0, 0, 0, 0, 0, 0, 0, 0, 0, 0], [0, 0, 1, 0, 0, 0, 0, 0, 0, 0, 0, 0, 0, 0, 0, 0, 0, 0, 0, 0], [0, 1, 0, 0, 0, 0, 0, 0, 0, 0, 0, 0, 0, 0, 0, 0, 0, 0, 0, 0]]\n",
      "[2, 3, 4, 5, 6, 7, 8, 9, 10, 11, 12, 13, 14, 15, 16, 17, 18]\n",
      "21\n"
     ]
    },
    {
     "name": "stderr",
     "output_type": "stream",
     "text": [
      "1909it [00:00, 9249.12it/s]"
     ]
    },
    {
     "name": "stdout",
     "output_type": "stream",
     "text": [
      "Parsed ../kickoff-detection-data/8d6fc150-9f6b-4e5c-8a99-d2ca96b5ffa5.2.kickoff.rdb in 1.76 s.\n",
      "Contains keys: dict_keys(['right', 'left'])\n",
      "[right] start_ts: 1524160596802 | stop_ts: 1524161195362\n",
      "[left] start_ts: 1524160596162 | stop_ts: 1524161195082\n",
      "../kickoff-detection-data/8d6fc150-9f6b-4e5c-8a99-d2ca96b5ffa5.json\n",
      "[{'kickoff_team_id': 4, 'type': 'start_phase', 'phase': 1, 'ts': '2018-04-19T17:00:46.040Z'}, {'type': 'end_phase', 'phase': 1, 'ts': '2018-04-19T17:45:47.791Z'}, {'kickoff_team_id': 2, 'type': 'start_phase', 'phase': 2, 'ts': '2018-04-19T18:01:35.679Z'}, {'type': 'end_phase', 'phase': 2, 'ts': '2018-04-19T18:51:07.597Z'}]\n",
      "1524160895679\n"
     ]
    },
    {
     "name": "stderr",
     "output_type": "stream",
     "text": [
      "14965it [00:06, 2269.74it/s]\n"
     ]
    },
    {
     "name": "stdout",
     "output_type": "stream",
     "text": [
      "576 576\n",
      "280\n",
      "17\n",
      "17 17\n",
      "[[0, 0, 0, 0, 0, 0, 0, 0, 0, 0, 0, 0, 0, 0, 0, 0, 0, 1, 0, 0], [0, 0, 0, 0, 0, 0, 0, 0, 0, 0, 0, 0, 0, 0, 0, 0, 1, 0, 0, 0], [0, 0, 0, 0, 0, 0, 0, 0, 0, 0, 0, 0, 0, 0, 0, 1, 0, 0, 0, 0], [0, 0, 0, 0, 0, 0, 0, 0, 0, 0, 0, 0, 0, 0, 1, 0, 0, 0, 0, 0], [0, 0, 0, 0, 0, 0, 0, 0, 0, 0, 0, 0, 0, 1, 0, 0, 0, 0, 0, 0], [0, 0, 0, 0, 0, 0, 0, 0, 0, 0, 0, 0, 1, 0, 0, 0, 0, 0, 0, 0], [0, 0, 0, 0, 0, 0, 0, 0, 0, 0, 0, 1, 0, 0, 0, 0, 0, 0, 0, 0], [0, 0, 0, 0, 0, 0, 0, 0, 0, 0, 1, 0, 0, 0, 0, 0, 0, 0, 0, 0], [0, 0, 0, 0, 0, 0, 0, 0, 0, 1, 0, 0, 0, 0, 0, 0, 0, 0, 0, 0], [0, 0, 0, 0, 0, 0, 0, 0, 1, 0, 0, 0, 0, 0, 0, 0, 0, 0, 0, 0], [0, 0, 0, 0, 0, 0, 0, 1, 0, 0, 0, 0, 0, 0, 0, 0, 0, 0, 0, 0], [0, 0, 0, 0, 0, 0, 1, 0, 0, 0, 0, 0, 0, 0, 0, 0, 0, 0, 0, 0], [0, 0, 0, 0, 0, 1, 0, 0, 0, 0, 0, 0, 0, 0, 0, 0, 0, 0, 0, 0], [0, 0, 0, 0, 1, 0, 0, 0, 0, 0, 0, 0, 0, 0, 0, 0, 0, 0, 0, 0], [0, 0, 0, 1, 0, 0, 0, 0, 0, 0, 0, 0, 0, 0, 0, 0, 0, 0, 0, 0], [0, 0, 1, 0, 0, 0, 0, 0, 0, 0, 0, 0, 0, 0, 0, 0, 0, 0, 0, 0], [0, 1, 0, 0, 0, 0, 0, 0, 0, 0, 0, 0, 0, 0, 0, 0, 0, 0, 0, 0]]\n",
      "[2, 3, 4, 5, 6, 7, 8, 9, 10, 11, 12, 13, 14, 15, 16, 17, 18]\n",
      "22\n"
     ]
    },
    {
     "name": "stderr",
     "output_type": "stream",
     "text": [
      "300it [00:00, 2993.07it/s]"
     ]
    },
    {
     "name": "stdout",
     "output_type": "stream",
     "text": [
      "Parsed ../kickoff-detection-data/47ed3e3a-56d1-4eb1-b5d3-9e5f9658fda7.2.kickoff.rdb in 0.87 s.\n",
      "Contains keys: dict_keys(['right', 'left'])\n",
      "[right] start_ts: 1526320594243 | stop_ts: 1526320892163\n",
      "[left] start_ts: 1526320594327 | stop_ts: 1526320892167\n",
      "../kickoff-detection-data/47ed3e3a-56d1-4eb1-b5d3-9e5f9658fda7.json\n",
      "[{'kickoff_team_id': 10, 'type': 'start_phase', 'phase': 1, 'ts': '2018-05-14T17:00:25.880Z'}, {'type': 'end_phase', 'phase': 1, 'ts': '2018-05-14T17:46:28.806Z'}, {'kickoff_team_id': 13, 'type': 'start_phase', 'phase': 2, 'ts': '2018-05-14T18:01:32.219Z'}, {'type': 'end_phase', 'phase': 2, 'ts': '2018-05-14T18:49:37.209Z'}]\n",
      "1526320892219\n"
     ]
    },
    {
     "name": "stderr",
     "output_type": "stream",
     "text": [
      "7447it [00:03, 2361.47it/s]\n"
     ]
    },
    {
     "name": "stdout",
     "output_type": "stream",
     "text": [
      "0 0\n",
      "[]\n",
      "[]\n"
     ]
    },
    {
     "name": "stderr",
     "output_type": "stream",
     "text": [
      "277it [00:00, 1366.24it/s]"
     ]
    },
    {
     "name": "stdout",
     "output_type": "stream",
     "text": [
      "Parsed ../kickoff-detection-data/58bc418b-cf05-415e-9dd1-6f4808535976.1.kickoff.rdb in 2.16 s.\n",
      "Contains keys: dict_keys(['right', 'left'])\n",
      "[right] start_ts: 1523292957288 | stop_ts: 1523293556968\n",
      "[left] start_ts: 1523292956846 | stop_ts: 1523293556726\n",
      "../kickoff-detection-data/58bc418b-cf05-415e-9dd1-6f4808535976.json\n",
      "[{'kickoff_team_id': 8, 'type': 'start_phase', 'phase': 1, 'ts': '2018-04-09T17:00:56.973Z'}, {'type': 'end_phase', 'phase': 1, 'ts': '2018-04-09T17:47:19.651Z'}, {'kickoff_team_id': 10, 'type': 'start_phase', 'phase': 2, 'ts': '2018-04-09T18:08:25.917Z'}, {'type': 'end_phase', 'phase': 2, 'ts': '2018-04-09T18:57:31.075Z'}]\n",
      "1523293256973\n"
     ]
    },
    {
     "name": "stderr",
     "output_type": "stream",
     "text": [
      "14992it [00:07, 1903.42it/s]\n"
     ]
    },
    {
     "name": "stdout",
     "output_type": "stream",
     "text": [
      "577 577\n",
      "281\n",
      "16\n",
      "16 16\n",
      "[[0, 0, 0, 0, 0, 0, 0, 0, 0, 0, 0, 0, 0, 0, 0, 0, 0, 1, 0, 0], [0, 0, 0, 0, 0, 0, 0, 0, 0, 0, 0, 0, 0, 0, 0, 0, 1, 0, 0, 0], [0, 0, 0, 0, 0, 0, 0, 0, 0, 0, 0, 0, 0, 0, 0, 1, 0, 0, 0, 0], [0, 0, 0, 0, 0, 0, 0, 0, 0, 0, 0, 0, 0, 0, 1, 0, 0, 0, 0, 0], [0, 0, 0, 0, 0, 0, 0, 0, 0, 0, 0, 0, 0, 1, 0, 0, 0, 0, 0, 0], [0, 0, 0, 0, 0, 0, 0, 0, 0, 0, 0, 0, 1, 0, 0, 0, 0, 0, 0, 0], [0, 0, 0, 0, 0, 0, 0, 0, 0, 0, 0, 1, 0, 0, 0, 0, 0, 0, 0, 0], [0, 0, 0, 0, 0, 0, 0, 0, 0, 0, 1, 0, 0, 0, 0, 0, 0, 0, 0, 0], [0, 0, 0, 0, 0, 0, 0, 0, 0, 1, 0, 0, 0, 0, 0, 0, 0, 0, 0, 0], [0, 0, 0, 0, 0, 0, 0, 0, 1, 0, 0, 0, 0, 0, 0, 0, 0, 0, 0, 0], [0, 0, 0, 0, 0, 0, 0, 1, 0, 0, 0, 0, 0, 0, 0, 0, 0, 0, 0, 0], [0, 0, 0, 0, 0, 0, 1, 0, 0, 0, 0, 0, 0, 0, 0, 0, 0, 0, 0, 0], [0, 0, 0, 0, 0, 1, 0, 0, 0, 0, 0, 0, 0, 0, 0, 0, 0, 0, 0, 0], [0, 0, 0, 0, 1, 0, 0, 0, 0, 0, 0, 0, 0, 0, 0, 0, 0, 0, 0, 0], [0, 0, 0, 1, 0, 0, 0, 0, 0, 0, 0, 0, 0, 0, 0, 0, 0, 0, 0, 0], [0, 0, 1, 0, 0, 0, 0, 0, 0, 0, 0, 0, 0, 0, 0, 0, 0, 0, 0, 0]]\n",
      "[2, 3, 4, 5, 6, 7, 8, 9, 10, 11, 12, 13, 14, 15, 16, 17]\n",
      "23\n"
     ]
    },
    {
     "name": "stderr",
     "output_type": "stream",
     "text": [
      "438it [00:00, 4374.68it/s]"
     ]
    },
    {
     "name": "stdout",
     "output_type": "stream",
     "text": [
      "Parsed ../kickoff-detection-data/2281c504-baac-4d0b-8cb6-a95c23e3ac87.1.kickoff.rdb in 1.27 s.\n",
      "Contains keys: dict_keys(['right', 'left'])\n",
      "[right] start_ts: 1525096495413 | stop_ts: 1525097093933\n",
      "[left] start_ts: 1525096495433 | stop_ts: 1525097093953\n",
      "../kickoff-detection-data/2281c504-baac-4d0b-8cb6-a95c23e3ac87.json\n",
      "[{'kickoff_team_id': 15, 'type': 'start_phase', 'phase': 1, 'ts': '2018-04-30T13:59:53.940Z'}, {'type': 'end_phase', 'phase': 1, 'ts': '2018-04-30T14:47:55.606Z'}, {'kickoff_team_id': 13, 'type': 'start_phase', 'phase': 2, 'ts': '2018-04-30T15:03:04.304Z'}, {'type': 'end_phase', 'phase': 2, 'ts': '2018-04-30T15:50:18.572Z'}]\n",
      "1525096793940\n"
     ]
    },
    {
     "name": "stderr",
     "output_type": "stream",
     "text": [
      "14964it [00:05, 2744.16it/s]\n"
     ]
    },
    {
     "name": "stdout",
     "output_type": "stream",
     "text": [
      "577 577\n",
      "280\n",
      "16\n",
      "16 16\n",
      "[[0, 0, 0, 0, 0, 0, 0, 0, 0, 0, 0, 0, 0, 0, 0, 0, 0, 1, 0, 0], [0, 0, 0, 0, 0, 0, 0, 0, 0, 0, 0, 0, 0, 0, 0, 0, 1, 0, 0, 0], [0, 0, 0, 0, 0, 0, 0, 0, 0, 0, 0, 0, 0, 0, 0, 1, 0, 0, 0, 0], [0, 0, 0, 0, 0, 0, 0, 0, 0, 0, 0, 0, 0, 0, 1, 0, 0, 0, 0, 0], [0, 0, 0, 0, 0, 0, 0, 0, 0, 0, 0, 0, 0, 1, 0, 0, 0, 0, 0, 0], [0, 0, 0, 0, 0, 0, 0, 0, 0, 0, 0, 0, 1, 0, 0, 0, 0, 0, 0, 0], [0, 0, 0, 0, 0, 0, 0, 0, 0, 0, 0, 1, 0, 0, 0, 0, 0, 0, 0, 0], [0, 0, 0, 0, 0, 0, 0, 0, 0, 0, 1, 0, 0, 0, 0, 0, 0, 0, 0, 0], [0, 0, 0, 0, 0, 0, 0, 0, 0, 1, 0, 0, 0, 0, 0, 0, 0, 0, 0, 0], [0, 0, 0, 0, 0, 0, 0, 0, 1, 0, 0, 0, 0, 0, 0, 0, 0, 0, 0, 0], [0, 0, 0, 0, 0, 0, 0, 1, 0, 0, 0, 0, 0, 0, 0, 0, 0, 0, 0, 0], [0, 0, 0, 0, 0, 0, 1, 0, 0, 0, 0, 0, 0, 0, 0, 0, 0, 0, 0, 0], [0, 0, 0, 0, 0, 1, 0, 0, 0, 0, 0, 0, 0, 0, 0, 0, 0, 0, 0, 0], [0, 0, 0, 0, 1, 0, 0, 0, 0, 0, 0, 0, 0, 0, 0, 0, 0, 0, 0, 0], [0, 0, 0, 1, 0, 0, 0, 0, 0, 0, 0, 0, 0, 0, 0, 0, 0, 0, 0, 0], [0, 0, 1, 0, 0, 0, 0, 0, 0, 0, 0, 0, 0, 0, 0, 0, 0, 0, 0, 0]]\n",
      "[2, 3, 4, 5, 6, 7, 8, 9, 10, 11, 12, 13, 14, 15, 16, 17]\n",
      "24\n"
     ]
    },
    {
     "name": "stderr",
     "output_type": "stream",
     "text": [
      "490it [00:00, 2455.80it/s]"
     ]
    },
    {
     "name": "stdout",
     "output_type": "stream",
     "text": [
      "Parsed ../kickoff-detection-data/916abbb2-57b9-4700-8cc5-3fc01de1a6f8.1.kickoff.rdb in 2.26 s.\n",
      "Contains keys: dict_keys(['right', 'left'])\n",
      "[right] start_ts: 1526745302339 | stop_ts: 1526745901139\n",
      "[left] start_ts: 1526745302179 | stop_ts: 1526745901059\n",
      "../kickoff-detection-data/916abbb2-57b9-4700-8cc5-3fc01de1a6f8.json\n",
      "[{'kickoff_team_id': 16, 'type': 'start_phase', 'phase': 1, 'ts': '2018-05-19T16:00:01.936Z'}, {'type': 'end_phase', 'phase': 1, 'ts': '2018-05-19T16:46:01.609Z'}, {'kickoff_team_id': 4, 'type': 'start_phase', 'phase': 2, 'ts': '2018-05-19T17:02:55.285Z'}, {'type': 'end_phase', 'phase': 2, 'ts': '2018-05-19T17:51:06.302Z'}]\n",
      "1526745601936\n"
     ]
    },
    {
     "name": "stderr",
     "output_type": "stream",
     "text": [
      "14967it [00:07, 2096.91it/s]\n"
     ]
    },
    {
     "name": "stdout",
     "output_type": "stream",
     "text": [
      "577 577\n",
      "281\n",
      "16\n",
      "16 16\n",
      "[[0, 0, 0, 0, 0, 0, 0, 0, 0, 0, 0, 0, 0, 0, 0, 0, 0, 1, 0, 0], [0, 0, 0, 0, 0, 0, 0, 0, 0, 0, 0, 0, 0, 0, 0, 0, 1, 0, 0, 0], [0, 0, 0, 0, 0, 0, 0, 0, 0, 0, 0, 0, 0, 0, 0, 1, 0, 0, 0, 0], [0, 0, 0, 0, 0, 0, 0, 0, 0, 0, 0, 0, 0, 0, 1, 0, 0, 0, 0, 0], [0, 0, 0, 0, 0, 0, 0, 0, 0, 0, 0, 0, 0, 1, 0, 0, 0, 0, 0, 0], [0, 0, 0, 0, 0, 0, 0, 0, 0, 0, 0, 0, 1, 0, 0, 0, 0, 0, 0, 0], [0, 0, 0, 0, 0, 0, 0, 0, 0, 0, 0, 1, 0, 0, 0, 0, 0, 0, 0, 0], [0, 0, 0, 0, 0, 0, 0, 0, 0, 0, 1, 0, 0, 0, 0, 0, 0, 0, 0, 0], [0, 0, 0, 0, 0, 0, 0, 0, 0, 1, 0, 0, 0, 0, 0, 0, 0, 0, 0, 0], [0, 0, 0, 0, 0, 0, 0, 0, 1, 0, 0, 0, 0, 0, 0, 0, 0, 0, 0, 0], [0, 0, 0, 0, 0, 0, 0, 1, 0, 0, 0, 0, 0, 0, 0, 0, 0, 0, 0, 0], [0, 0, 0, 0, 0, 0, 1, 0, 0, 0, 0, 0, 0, 0, 0, 0, 0, 0, 0, 0], [0, 0, 0, 0, 0, 1, 0, 0, 0, 0, 0, 0, 0, 0, 0, 0, 0, 0, 0, 0], [0, 0, 0, 0, 1, 0, 0, 0, 0, 0, 0, 0, 0, 0, 0, 0, 0, 0, 0, 0], [0, 0, 0, 1, 0, 0, 0, 0, 0, 0, 0, 0, 0, 0, 0, 0, 0, 0, 0, 0], [0, 0, 1, 0, 0, 0, 0, 0, 0, 0, 0, 0, 0, 0, 0, 0, 0, 0, 0, 0]]\n",
      "[2, 3, 4, 5, 6, 7, 8, 9, 10, 11, 12, 13, 14, 15, 16, 17]\n",
      "25\n"
     ]
    },
    {
     "name": "stderr",
     "output_type": "stream",
     "text": [
      "230it [00:00, 1146.28it/s]"
     ]
    },
    {
     "name": "stdout",
     "output_type": "stream",
     "text": [
      "Parsed ../kickoff-detection-data/d092d84a-bfe1-4638-bd6e-7f516a90553a.1.kickoff.rdb in 1.78 s.\n",
      "Contains keys: dict_keys(['right', 'left'])\n",
      "[right] start_ts: 1527342934142 | stop_ts: 1527343233022\n",
      "[left] start_ts: 1527342934172 | stop_ts: 1527343233012\n",
      "../kickoff-detection-data/d092d84a-bfe1-4638-bd6e-7f516a90553a.json\n",
      "[{'kickoff_team_id': 10, 'type': 'start_phase', 'phase': 1, 'ts': '2018-05-26T14:00:33.777Z'}, {'type': 'end_phase', 'phase': 1, 'ts': '2018-05-26T14:46:31.767Z'}, {'kickoff_team_id': 4, 'type': 'start_phase', 'phase': 2, 'ts': '2018-05-26T15:01:39.568Z'}, {'type': 'end_phase', 'phase': 2, 'ts': '2018-05-26T15:49:43.350Z'}]\n",
      "1527343233777\n"
     ]
    },
    {
     "name": "stderr",
     "output_type": "stream",
     "text": [
      "7472it [00:05, 1404.07it/s]\n"
     ]
    },
    {
     "name": "stdout",
     "output_type": "stream",
     "text": [
      "0 0\n",
      "[]\n",
      "[]\n"
     ]
    },
    {
     "name": "stderr",
     "output_type": "stream",
     "text": [
      "589it [00:00, 5885.91it/s]"
     ]
    },
    {
     "name": "stdout",
     "output_type": "stream",
     "text": [
      "Parsed ../kickoff-detection-data/98894ec5-61dc-4ab5-8829-1601e0d65775.1.kickoff.rdb in 1.79 s.\n",
      "Contains keys: dict_keys(['right', 'left'])\n",
      "[right] start_ts: 1527425703621 | stop_ts: 1527426302501\n",
      "[left] start_ts: 1527425703741 | stop_ts: 1527426302541\n",
      "../kickoff-detection-data/98894ec5-61dc-4ab5-8829-1601e0d65775.json\n",
      "[{'kickoff_team_id': 3, 'type': 'start_phase', 'phase': 1, 'ts': '2018-05-27T13:00:02.563Z'}, {'type': 'end_phase', 'phase': 1, 'ts': '2018-05-27T13:46:09.887Z'}, {'kickoff_team_id': 6, 'type': 'start_phase', 'phase': 2, 'ts': '2018-05-27T14:01:35.210Z'}, {'type': 'end_phase', 'phase': 2, 'ts': '2018-05-27T14:49:44.679Z'}]\n",
      "1527426002563\n"
     ]
    },
    {
     "name": "stderr",
     "output_type": "stream",
     "text": [
      "14972it [00:06, 2308.78it/s]\n"
     ]
    },
    {
     "name": "stdout",
     "output_type": "stream",
     "text": [
      "576 576\n",
      "280\n",
      "16\n",
      "16 16\n",
      "[[0, 0, 0, 0, 0, 0, 0, 0, 0, 0, 0, 0, 0, 0, 0, 0, 0, 1, 0, 0], [0, 0, 0, 0, 0, 0, 0, 0, 0, 0, 0, 0, 0, 0, 0, 0, 1, 0, 0, 0], [0, 0, 0, 0, 0, 0, 0, 0, 0, 0, 0, 0, 0, 0, 0, 1, 0, 0, 0, 0], [0, 0, 0, 0, 0, 0, 0, 0, 0, 0, 0, 0, 0, 0, 1, 0, 0, 0, 0, 0], [0, 0, 0, 0, 0, 0, 0, 0, 0, 0, 0, 0, 0, 1, 0, 0, 0, 0, 0, 0], [0, 0, 0, 0, 0, 0, 0, 0, 0, 0, 0, 0, 1, 0, 0, 0, 0, 0, 0, 0], [0, 0, 0, 0, 0, 0, 0, 0, 0, 0, 0, 1, 0, 0, 0, 0, 0, 0, 0, 0], [0, 0, 0, 0, 0, 0, 0, 0, 0, 0, 1, 0, 0, 0, 0, 0, 0, 0, 0, 0], [0, 0, 0, 0, 0, 0, 0, 0, 0, 1, 0, 0, 0, 0, 0, 0, 0, 0, 0, 0], [0, 0, 0, 0, 0, 0, 0, 0, 1, 0, 0, 0, 0, 0, 0, 0, 0, 0, 0, 0], [0, 0, 0, 0, 0, 0, 0, 1, 0, 0, 0, 0, 0, 0, 0, 0, 0, 0, 0, 0], [0, 0, 0, 0, 0, 0, 1, 0, 0, 0, 0, 0, 0, 0, 0, 0, 0, 0, 0, 0], [0, 0, 0, 0, 0, 1, 0, 0, 0, 0, 0, 0, 0, 0, 0, 0, 0, 0, 0, 0], [0, 0, 0, 0, 1, 0, 0, 0, 0, 0, 0, 0, 0, 0, 0, 0, 0, 0, 0, 0], [0, 0, 0, 1, 0, 0, 0, 0, 0, 0, 0, 0, 0, 0, 0, 0, 0, 0, 0, 0], [0, 0, 1, 0, 0, 0, 0, 0, 0, 0, 0, 0, 0, 0, 0, 0, 0, 0, 0, 0]]\n",
      "[2, 3, 4, 5, 6, 7, 8, 9, 10, 11, 12, 13, 14, 15, 16, 17]\n",
      "26\n",
      "1\n",
      "Json file edited\n"
     ]
    },
    {
     "name": "stderr",
     "output_type": "stream",
     "text": [
      "169it [00:00, 845.06it/s]"
     ]
    },
    {
     "name": "stdout",
     "output_type": "stream",
     "text": [
      "Parsed ../kickoff-detection-data/ba34fc2e-bdba-40d8-8cc8-a679c6eecd5a.1.kickoff.rdb in 1.83 s.\n",
      "Contains keys: dict_keys(['right', 'left'])\n",
      "[right] start_ts: 1522596366671 | stop_ts: 1522596965511\n",
      "[left] start_ts: 1522596366681 | stop_ts: 1522596965521\n",
      "../kickoff-detection-data/ba34fc2e-bdba-40d8-8cc8-a679c6eecd5a.json\n",
      "[{'kickoff_team_id': 11, 'type': 'start_phase', 'phase': 1, 'ts': '2018-04-01T15:31:01.071000'}, {'type': 'end_phase', 'phase': 1, 'ts': '2018-04-01T16:16:08.759Z'}, {'kickoff_team_id': 13, 'type': 'start_phase', 'phase': 2, 'ts': '2018-04-01T16:32:08.446Z'}, {'type': 'end_phase', 'phase': 2, 'ts': '2018-04-01T17:20:20.880Z'}]\n",
      "1522596661071\n"
     ]
    },
    {
     "name": "stderr",
     "output_type": "stream",
     "text": [
      "14972it [00:06, 2272.27it/s]\n"
     ]
    },
    {
     "name": "stdout",
     "output_type": "stream",
     "text": [
      "577 577\n",
      "276\n",
      "16\n",
      "16 16\n",
      "[[0, 0, 0, 0, 0, 0, 0, 0, 0, 0, 0, 0, 0, 0, 0, 0, 0, 1, 0, 0], [0, 0, 0, 0, 0, 0, 0, 0, 0, 0, 0, 0, 0, 0, 0, 0, 1, 0, 0, 0], [0, 0, 0, 0, 0, 0, 0, 0, 0, 0, 0, 0, 0, 0, 0, 1, 0, 0, 0, 0], [0, 0, 0, 0, 0, 0, 0, 0, 0, 0, 0, 0, 0, 0, 1, 0, 0, 0, 0, 0], [0, 0, 0, 0, 0, 0, 0, 0, 0, 0, 0, 0, 0, 1, 0, 0, 0, 0, 0, 0], [0, 0, 0, 0, 0, 0, 0, 0, 0, 0, 0, 0, 1, 0, 0, 0, 0, 0, 0, 0], [0, 0, 0, 0, 0, 0, 0, 0, 0, 0, 0, 1, 0, 0, 0, 0, 0, 0, 0, 0], [0, 0, 0, 0, 0, 0, 0, 0, 0, 0, 1, 0, 0, 0, 0, 0, 0, 0, 0, 0], [0, 0, 0, 0, 0, 0, 0, 0, 0, 1, 0, 0, 0, 0, 0, 0, 0, 0, 0, 0], [0, 0, 0, 0, 0, 0, 0, 0, 1, 0, 0, 0, 0, 0, 0, 0, 0, 0, 0, 0], [0, 0, 0, 0, 0, 0, 0, 1, 0, 0, 0, 0, 0, 0, 0, 0, 0, 0, 0, 0], [0, 0, 0, 0, 0, 0, 1, 0, 0, 0, 0, 0, 0, 0, 0, 0, 0, 0, 0, 0], [0, 0, 0, 0, 0, 1, 0, 0, 0, 0, 0, 0, 0, 0, 0, 0, 0, 0, 0, 0], [0, 0, 0, 0, 1, 0, 0, 0, 0, 0, 0, 0, 0, 0, 0, 0, 0, 0, 0, 0], [0, 0, 0, 1, 0, 0, 0, 0, 0, 0, 0, 0, 0, 0, 0, 0, 0, 0, 0, 0], [0, 0, 1, 0, 0, 0, 0, 0, 0, 0, 0, 0, 0, 0, 0, 0, 0, 0, 0, 0]]\n",
      "[2, 3, 4, 5, 6, 7, 8, 9, 10, 11, 12, 13, 14, 15, 16, 17]\n",
      "27\n"
     ]
    },
    {
     "name": "stderr",
     "output_type": "stream",
     "text": [
      "458it [00:00, 2290.78it/s]"
     ]
    },
    {
     "name": "stdout",
     "output_type": "stream",
     "text": [
      "Parsed ../kickoff-detection-data/c4b2214b-4e3c-4dfb-a691-a5b008b9d778.2.kickoff.rdb in 0.79 s.\n",
      "Contains keys: dict_keys(['right', 'left'])\n",
      "[right] start_ts: 1525614944224 | stop_ts: 1525615241984\n",
      "[left] start_ts: 1525614945214 | stop_ts: 1525615242494\n",
      "../kickoff-detection-data/c4b2214b-4e3c-4dfb-a691-a5b008b9d778.json\n",
      "[{'kickoff_team_id': 16, 'type': 'start_phase', 'phase': 1, 'ts': '2018-05-06T12:59:58.803Z'}, {'type': 'end_phase', 'phase': 1, 'ts': '2018-05-06T13:45:00.746Z'}, {'kickoff_team_id': 9, 'type': 'start_phase', 'phase': 2, 'ts': '2018-05-06T14:00:42.453Z'}, {'type': 'end_phase', 'phase': 2, 'ts': '2018-05-06T14:48:47.422Z'}]\n",
      "1525615242453\n"
     ]
    },
    {
     "name": "stderr",
     "output_type": "stream",
     "text": [
      "7433it [00:03, 2335.82it/s]\n"
     ]
    },
    {
     "name": "stdout",
     "output_type": "stream",
     "text": [
      "0 0\n",
      "[]\n",
      "[]\n"
     ]
    },
    {
     "name": "stderr",
     "output_type": "stream",
     "text": [
      "859it [00:00, 4269.32it/s]"
     ]
    },
    {
     "name": "stdout",
     "output_type": "stream",
     "text": [
      "Parsed ../kickoff-detection-data/05055edf-8142-45b9-954b-52d7caa7ce43.1.kickoff.rdb in 1.31 s.\n",
      "Contains keys: dict_keys(['right', 'left'])\n",
      "[right] start_ts: 1526662503699 | stop_ts: 1526663103219\n",
      "[left] start_ts: 1526662503769 | stop_ts: 1526663103249\n",
      "../kickoff-detection-data/05055edf-8142-45b9-954b-52d7caa7ce43.json\n",
      "[{'kickoff_team_id': 9, 'type': 'start_phase', 'phase': 1, 'ts': '2018-05-18T17:00:03.739Z'}, {'type': 'end_phase', 'phase': 1, 'ts': '2018-05-18T17:45:08.881Z'}, {'kickoff_team_id': 15, 'type': 'start_phase', 'phase': 2, 'ts': '2018-05-18T18:00:30.258Z'}, {'type': 'end_phase', 'phase': 2, 'ts': '2018-05-18T18:49:44.353Z'}]\n",
      "1526662803739\n"
     ]
    },
    {
     "name": "stderr",
     "output_type": "stream",
     "text": [
      "14988it [00:04, 3044.90it/s]\n"
     ]
    },
    {
     "name": "stdout",
     "output_type": "stream",
     "text": [
      "577 577\n",
      "281\n",
      "16\n",
      "16 16\n",
      "[[0, 0, 0, 0, 0, 0, 0, 0, 0, 0, 0, 0, 0, 0, 0, 0, 0, 1, 0, 0], [0, 0, 0, 0, 0, 0, 0, 0, 0, 0, 0, 0, 0, 0, 0, 0, 1, 0, 0, 0], [0, 0, 0, 0, 0, 0, 0, 0, 0, 0, 0, 0, 0, 0, 0, 1, 0, 0, 0, 0], [0, 0, 0, 0, 0, 0, 0, 0, 0, 0, 0, 0, 0, 0, 1, 0, 0, 0, 0, 0], [0, 0, 0, 0, 0, 0, 0, 0, 0, 0, 0, 0, 0, 1, 0, 0, 0, 0, 0, 0], [0, 0, 0, 0, 0, 0, 0, 0, 0, 0, 0, 0, 1, 0, 0, 0, 0, 0, 0, 0], [0, 0, 0, 0, 0, 0, 0, 0, 0, 0, 0, 1, 0, 0, 0, 0, 0, 0, 0, 0], [0, 0, 0, 0, 0, 0, 0, 0, 0, 0, 1, 0, 0, 0, 0, 0, 0, 0, 0, 0], [0, 0, 0, 0, 0, 0, 0, 0, 0, 1, 0, 0, 0, 0, 0, 0, 0, 0, 0, 0], [0, 0, 0, 0, 0, 0, 0, 0, 1, 0, 0, 0, 0, 0, 0, 0, 0, 0, 0, 0], [0, 0, 0, 0, 0, 0, 0, 1, 0, 0, 0, 0, 0, 0, 0, 0, 0, 0, 0, 0], [0, 0, 0, 0, 0, 0, 1, 0, 0, 0, 0, 0, 0, 0, 0, 0, 0, 0, 0, 0], [0, 0, 0, 0, 0, 1, 0, 0, 0, 0, 0, 0, 0, 0, 0, 0, 0, 0, 0, 0], [0, 0, 0, 0, 1, 0, 0, 0, 0, 0, 0, 0, 0, 0, 0, 0, 0, 0, 0, 0], [0, 0, 0, 1, 0, 0, 0, 0, 0, 0, 0, 0, 0, 0, 0, 0, 0, 0, 0, 0], [0, 0, 1, 0, 0, 0, 0, 0, 0, 0, 0, 0, 0, 0, 0, 0, 0, 0, 0, 0]]\n",
      "[2, 3, 4, 5, 6, 7, 8, 9, 10, 11, 12, 13, 14, 15, 16, 17]\n",
      "28\n"
     ]
    },
    {
     "name": "stderr",
     "output_type": "stream",
     "text": [
      "477it [00:00, 4767.65it/s]"
     ]
    },
    {
     "name": "stdout",
     "output_type": "stream",
     "text": [
      "Parsed ../kickoff-detection-data/cbcca433-ff77-4927-a5a3-36ff293c12fd.2.kickoff.rdb in 1.52 s.\n",
      "Contains keys: dict_keys(['right', 'left'])\n",
      "[right] start_ts: 1523296748330 | stop_ts: 1523297346370\n",
      "[left] start_ts: 1523296760048 | stop_ts: 1523297356248\n",
      "../kickoff-detection-data/cbcca433-ff77-4927-a5a3-36ff293c12fd.json\n",
      "[{'kickoff_team_id': 15, 'type': 'start_phase', 'phase': 1, 'ts': '2018-04-09T17:00:44.667Z'}, {'type': 'end_phase', 'phase': 1, 'ts': '2018-04-09T17:47:46.113Z'}, {'kickoff_team_id': 5, 'type': 'start_phase', 'phase': 2, 'ts': '2018-04-09T18:04:16.558Z'}, {'type': 'end_phase', 'phase': 2, 'ts': '2018-04-09T18:53:12.188Z'}]\n",
      "1523297056558\n"
     ]
    },
    {
     "name": "stderr",
     "output_type": "stream",
     "text": [
      "14906it [00:05, 2593.41it/s]\n"
     ]
    },
    {
     "name": "stdout",
     "output_type": "stream",
     "text": [
      "563 563\n",
      "278\n",
      "17\n",
      "17 17\n",
      "[[0, 0, 0, 0, 0, 0, 0, 0, 0, 0, 0, 0, 0, 0, 0, 0, 0, 1, 0, 0], [0, 0, 0, 0, 0, 0, 0, 0, 0, 0, 0, 0, 0, 0, 0, 0, 1, 0, 0, 0], [0, 0, 0, 0, 0, 0, 0, 0, 0, 0, 0, 0, 0, 0, 0, 1, 0, 0, 0, 0], [0, 0, 0, 0, 0, 0, 0, 0, 0, 0, 0, 0, 0, 0, 1, 0, 0, 0, 0, 0], [0, 0, 0, 0, 0, 0, 0, 0, 0, 0, 0, 0, 0, 1, 0, 0, 0, 0, 0, 0], [0, 0, 0, 0, 0, 0, 0, 0, 0, 0, 0, 0, 1, 0, 0, 0, 0, 0, 0, 0], [0, 0, 0, 0, 0, 0, 0, 0, 0, 0, 0, 1, 0, 0, 0, 0, 0, 0, 0, 0], [0, 0, 0, 0, 0, 0, 0, 0, 0, 0, 1, 0, 0, 0, 0, 0, 0, 0, 0, 0], [0, 0, 0, 0, 0, 0, 0, 0, 0, 1, 0, 0, 0, 0, 0, 0, 0, 0, 0, 0], [0, 0, 0, 0, 0, 0, 0, 0, 1, 0, 0, 0, 0, 0, 0, 0, 0, 0, 0, 0], [0, 0, 0, 0, 0, 0, 0, 1, 0, 0, 0, 0, 0, 0, 0, 0, 0, 0, 0, 0], [0, 0, 0, 0, 0, 0, 1, 0, 0, 0, 0, 0, 0, 0, 0, 0, 0, 0, 0, 0], [0, 0, 0, 0, 0, 1, 0, 0, 0, 0, 0, 0, 0, 0, 0, 0, 0, 0, 0, 0], [0, 0, 0, 0, 1, 0, 0, 0, 0, 0, 0, 0, 0, 0, 0, 0, 0, 0, 0, 0], [0, 0, 0, 1, 0, 0, 0, 0, 0, 0, 0, 0, 0, 0, 0, 0, 0, 0, 0, 0], [0, 0, 1, 0, 0, 0, 0, 0, 0, 0, 0, 0, 0, 0, 0, 0, 0, 0, 0, 0], [0, 1, 0, 0, 0, 0, 0, 0, 0, 0, 0, 0, 0, 0, 0, 0, 0, 0, 0, 0]]\n",
      "[2, 3, 4, 5, 6, 7, 8, 9, 10, 11, 12, 13, 14, 15, 16, 17, 18]\n",
      "29\n"
     ]
    },
    {
     "name": "stderr",
     "output_type": "stream",
     "text": [
      "169it [00:00, 830.65it/s]"
     ]
    },
    {
     "name": "stdout",
     "output_type": "stream",
     "text": [
      "Parsed ../kickoff-detection-data/4b949eae-068b-4b0a-bc88-f5ef0a97b2ba.1.kickoff.rdb in 3.23 s.\n",
      "Contains keys: dict_keys(['right', 'left'])\n",
      "[right] start_ts: 1524318935116 | stop_ts: 1524319232636\n",
      "[left] start_ts: 1524318934512 | stop_ts: 1524319232312\n",
      "../kickoff-detection-data/4b949eae-068b-4b0a-bc88-f5ef0a97b2ba.json\n",
      "[{'kickoff_team_id': 13, 'type': 'start_phase', 'phase': 1, 'ts': '2018-04-21T14:00:32.294Z'}, {'type': 'end_phase', 'phase': 1, 'ts': '2018-04-21T14:45:33.074Z'}, {'kickoff_team_id': 12, 'type': 'start_phase', 'phase': 2, 'ts': '2018-04-21T15:02:22.137Z'}, {'type': 'end_phase', 'phase': 2, 'ts': '2018-04-21T15:50:24.649Z'}]\n",
      "1524319232294\n"
     ]
    },
    {
     "name": "stderr",
     "output_type": "stream",
     "text": [
      "7440it [00:07, 960.42it/s] \n"
     ]
    },
    {
     "name": "stdout",
     "output_type": "stream",
     "text": [
      "0 0\n",
      "[]\n",
      "[]\n"
     ]
    },
    {
     "name": "stderr",
     "output_type": "stream",
     "text": [
      "259it [00:00, 1299.38it/s]"
     ]
    },
    {
     "name": "stdout",
     "output_type": "stream",
     "text": [
      "Parsed ../kickoff-detection-data/a185c6c8-7383-4d19-927f-dc8f70726c34.1.kickoff.rdb in 3.44 s.\n",
      "Contains keys: dict_keys(['right', 'left'])\n",
      "[right] start_ts: 1523897795697 | stop_ts: 1523898395297\n",
      "[left] start_ts: 1523897795243 | stop_ts: 1523898395043\n",
      "../kickoff-detection-data/a185c6c8-7383-4d19-927f-dc8f70726c34.json\n",
      "[{'kickoff_team_id': 15, 'type': 'start_phase', 'phase': 1, 'ts': '2018-04-16T17:01:35.285Z'}, {'type': 'end_phase', 'phase': 1, 'ts': '2018-04-16T17:46:39.313Z'}, {'kickoff_team_id': 2, 'type': 'start_phase', 'phase': 2, 'ts': '2018-04-16T18:02:50.296Z'}, {'type': 'end_phase', 'phase': 2, 'ts': '2018-04-16T18:49:49.424Z'}]\n",
      "1523898095285\n"
     ]
    },
    {
     "name": "stderr",
     "output_type": "stream",
     "text": [
      "14991it [00:10, 1402.25it/s]\n"
     ]
    },
    {
     "name": "stdout",
     "output_type": "stream",
     "text": [
      "577 577\n",
      "281\n",
      "16\n",
      "16 16\n",
      "[[0, 0, 0, 0, 0, 0, 0, 0, 0, 0, 0, 0, 0, 0, 0, 0, 0, 1, 0, 0], [0, 0, 0, 0, 0, 0, 0, 0, 0, 0, 0, 0, 0, 0, 0, 0, 1, 0, 0, 0], [0, 0, 0, 0, 0, 0, 0, 0, 0, 0, 0, 0, 0, 0, 0, 1, 0, 0, 0, 0], [0, 0, 0, 0, 0, 0, 0, 0, 0, 0, 0, 0, 0, 0, 1, 0, 0, 0, 0, 0], [0, 0, 0, 0, 0, 0, 0, 0, 0, 0, 0, 0, 0, 1, 0, 0, 0, 0, 0, 0], [0, 0, 0, 0, 0, 0, 0, 0, 0, 0, 0, 0, 1, 0, 0, 0, 0, 0, 0, 0], [0, 0, 0, 0, 0, 0, 0, 0, 0, 0, 0, 1, 0, 0, 0, 0, 0, 0, 0, 0], [0, 0, 0, 0, 0, 0, 0, 0, 0, 0, 1, 0, 0, 0, 0, 0, 0, 0, 0, 0], [0, 0, 0, 0, 0, 0, 0, 0, 0, 1, 0, 0, 0, 0, 0, 0, 0, 0, 0, 0], [0, 0, 0, 0, 0, 0, 0, 0, 1, 0, 0, 0, 0, 0, 0, 0, 0, 0, 0, 0], [0, 0, 0, 0, 0, 0, 0, 1, 0, 0, 0, 0, 0, 0, 0, 0, 0, 0, 0, 0], [0, 0, 0, 0, 0, 0, 1, 0, 0, 0, 0, 0, 0, 0, 0, 0, 0, 0, 0, 0], [0, 0, 0, 0, 0, 1, 0, 0, 0, 0, 0, 0, 0, 0, 0, 0, 0, 0, 0, 0], [0, 0, 0, 0, 1, 0, 0, 0, 0, 0, 0, 0, 0, 0, 0, 0, 0, 0, 0, 0], [0, 0, 0, 1, 0, 0, 0, 0, 0, 0, 0, 0, 0, 0, 0, 0, 0, 0, 0, 0], [0, 0, 1, 0, 0, 0, 0, 0, 0, 0, 0, 0, 0, 0, 0, 0, 0, 0, 0, 0]]\n",
      "[2, 3, 4, 5, 6, 7, 8, 9, 10, 11, 12, 13, 14, 15, 16, 17]\n",
      "30\n"
     ]
    },
    {
     "name": "stderr",
     "output_type": "stream",
     "text": [
      "196it [00:00, 1952.30it/s]"
     ]
    },
    {
     "name": "stdout",
     "output_type": "stream",
     "text": [
      "Parsed ../kickoff-detection-data/a5857e03-10b8-454a-89fb-c201985b04cb.2.kickoff.rdb in 2.08 s.\n",
      "Contains keys: dict_keys(['right', 'left'])\n",
      "[right] start_ts: 1523383083286 | stop_ts: 1523383682846\n",
      "[left] start_ts: 1523383083898 | stop_ts: 1523383683138\n",
      "../kickoff-detection-data/a5857e03-10b8-454a-89fb-c201985b04cb.json\n",
      "[{'kickoff_team_id': 6, 'type': 'start_phase', 'phase': 1, 'ts': '2018-04-10T17:01:14.985Z'}, {'type': 'end_phase', 'phase': 1, 'ts': '2018-04-10T17:47:16.674Z'}, {'kickoff_team_id': 2, 'type': 'start_phase', 'phase': 2, 'ts': '2018-04-10T18:03:03.834Z'}, {'type': 'end_phase', 'phase': 2, 'ts': '2018-04-10T18:51:05.058Z'}]\n",
      "1523383383834\n"
     ]
    },
    {
     "name": "stderr",
     "output_type": "stream",
     "text": [
      "14982it [00:07, 2021.64it/s]\n"
     ]
    },
    {
     "name": "stdout",
     "output_type": "stream",
     "text": [
      "577 577\n",
      "281\n",
      "17\n",
      "17 17\n",
      "[[0, 0, 0, 0, 0, 0, 0, 0, 0, 0, 0, 0, 0, 0, 0, 0, 0, 1, 0, 0], [0, 0, 0, 0, 0, 0, 0, 0, 0, 0, 0, 0, 0, 0, 0, 0, 1, 0, 0, 0], [0, 0, 0, 0, 0, 0, 0, 0, 0, 0, 0, 0, 0, 0, 0, 1, 0, 0, 0, 0], [0, 0, 0, 0, 0, 0, 0, 0, 0, 0, 0, 0, 0, 0, 1, 0, 0, 0, 0, 0], [0, 0, 0, 0, 0, 0, 0, 0, 0, 0, 0, 0, 0, 1, 0, 0, 0, 0, 0, 0], [0, 0, 0, 0, 0, 0, 0, 0, 0, 0, 0, 0, 1, 0, 0, 0, 0, 0, 0, 0], [0, 0, 0, 0, 0, 0, 0, 0, 0, 0, 0, 1, 0, 0, 0, 0, 0, 0, 0, 0], [0, 0, 0, 0, 0, 0, 0, 0, 0, 0, 1, 0, 0, 0, 0, 0, 0, 0, 0, 0], [0, 0, 0, 0, 0, 0, 0, 0, 0, 1, 0, 0, 0, 0, 0, 0, 0, 0, 0, 0], [0, 0, 0, 0, 0, 0, 0, 0, 1, 0, 0, 0, 0, 0, 0, 0, 0, 0, 0, 0], [0, 0, 0, 0, 0, 0, 0, 1, 0, 0, 0, 0, 0, 0, 0, 0, 0, 0, 0, 0], [0, 0, 0, 0, 0, 0, 1, 0, 0, 0, 0, 0, 0, 0, 0, 0, 0, 0, 0, 0], [0, 0, 0, 0, 0, 1, 0, 0, 0, 0, 0, 0, 0, 0, 0, 0, 0, 0, 0, 0], [0, 0, 0, 0, 1, 0, 0, 0, 0, 0, 0, 0, 0, 0, 0, 0, 0, 0, 0, 0], [0, 0, 0, 1, 0, 0, 0, 0, 0, 0, 0, 0, 0, 0, 0, 0, 0, 0, 0, 0], [0, 0, 1, 0, 0, 0, 0, 0, 0, 0, 0, 0, 0, 0, 0, 0, 0, 0, 0, 0], [0, 1, 0, 0, 0, 0, 0, 0, 0, 0, 0, 0, 0, 0, 0, 0, 0, 0, 0, 0]]\n",
      "[2, 3, 4, 5, 6, 7, 8, 9, 10, 11, 12, 13, 14, 15, 16, 17, 18]\n",
      "31\n"
     ]
    },
    {
     "name": "stderr",
     "output_type": "stream",
     "text": [
      "387it [00:00, 1868.22it/s]"
     ]
    },
    {
     "name": "stdout",
     "output_type": "stream",
     "text": [
      "Parsed ../kickoff-detection-data/75366863-8063-4ece-8aca-1dcf75d22448.2.kickoff.rdb in 0.83 s.\n",
      "Contains keys: dict_keys(['right', 'left'])\n",
      "[right] start_ts: 1527185276926 | stop_ts: 1527185576806\n",
      "[left] start_ts: 1527185280818 | stop_ts: 1527185576738\n",
      "../kickoff-detection-data/75366863-8063-4ece-8aca-1dcf75d22448.json\n",
      "[{'kickoff_team_id': 6, 'type': 'start_phase', 'phase': 1, 'ts': '2018-05-24T17:06:45.366Z'}, {'type': 'end_phase', 'phase': 1, 'ts': '2018-05-24T17:52:47.009Z'}, {'kickoff_team_id': 11, 'type': 'start_phase', 'phase': 2, 'ts': '2018-05-24T18:12:56.972Z'}, {'type': 'end_phase', 'phase': 2, 'ts': '2018-05-24T19:02:55.588Z'}]\n",
      "1527185576972\n"
     ]
    },
    {
     "name": "stderr",
     "output_type": "stream",
     "text": [
      "7399it [00:03, 2172.84it/s]\n"
     ]
    },
    {
     "name": "stdout",
     "output_type": "stream",
     "text": [
      "0 0\n",
      "[]\n",
      "[]\n"
     ]
    },
    {
     "name": "stderr",
     "output_type": "stream",
     "text": [
      "284it [00:00, 1431.90it/s]"
     ]
    },
    {
     "name": "stdout",
     "output_type": "stream",
     "text": [
      "Parsed ../kickoff-detection-data/3382a9d0-02ff-4f23-9748-1b715d85b731.1.kickoff.rdb in 4.05 s.\n",
      "Contains keys: dict_keys(['right', 'left'])\n",
      "[right] start_ts: 1523805900650 | stop_ts: 1523806499170\n",
      "[left] start_ts: 1523805900082 | stop_ts: 1523806498882\n",
      "../kickoff-detection-data/3382a9d0-02ff-4f23-9748-1b715d85b731.json\n",
      "[{'kickoff_team_id': 6, 'type': 'start_phase', 'phase': 1, 'ts': '2018-04-15T15:29:58.007Z'}, {'type': 'end_phase', 'phase': 1, 'ts': '2018-04-15T16:16:00.459Z'}, {'kickoff_team_id': 13, 'type': 'start_phase', 'phase': 2, 'ts': '2018-04-15T16:31:33.353Z'}, {'type': 'end_phase', 'phase': 2, 'ts': '2018-04-15T17:19:35.565Z'}]\n",
      "1523806198007\n"
     ]
    },
    {
     "name": "stderr",
     "output_type": "stream",
     "text": [
      "14963it [00:10, 1457.74it/s]\n"
     ]
    },
    {
     "name": "stdout",
     "output_type": "stream",
     "text": [
      "576 576\n",
      "279\n",
      "16\n",
      "16 16\n",
      "[[0, 0, 0, 0, 0, 0, 0, 0, 0, 0, 0, 0, 0, 0, 0, 0, 0, 1, 0, 0], [0, 0, 0, 0, 0, 0, 0, 0, 0, 0, 0, 0, 0, 0, 0, 0, 1, 0, 0, 0], [0, 0, 0, 0, 0, 0, 0, 0, 0, 0, 0, 0, 0, 0, 0, 1, 0, 0, 0, 0], [0, 0, 0, 0, 0, 0, 0, 0, 0, 0, 0, 0, 0, 0, 1, 0, 0, 0, 0, 0], [0, 0, 0, 0, 0, 0, 0, 0, 0, 0, 0, 0, 0, 1, 0, 0, 0, 0, 0, 0], [0, 0, 0, 0, 0, 0, 0, 0, 0, 0, 0, 0, 1, 0, 0, 0, 0, 0, 0, 0], [0, 0, 0, 0, 0, 0, 0, 0, 0, 0, 0, 1, 0, 0, 0, 0, 0, 0, 0, 0], [0, 0, 0, 0, 0, 0, 0, 0, 0, 0, 1, 0, 0, 0, 0, 0, 0, 0, 0, 0], [0, 0, 0, 0, 0, 0, 0, 0, 0, 1, 0, 0, 0, 0, 0, 0, 0, 0, 0, 0], [0, 0, 0, 0, 0, 0, 0, 0, 1, 0, 0, 0, 0, 0, 0, 0, 0, 0, 0, 0], [0, 0, 0, 0, 0, 0, 0, 1, 0, 0, 0, 0, 0, 0, 0, 0, 0, 0, 0, 0], [0, 0, 0, 0, 0, 0, 1, 0, 0, 0, 0, 0, 0, 0, 0, 0, 0, 0, 0, 0], [0, 0, 0, 0, 0, 1, 0, 0, 0, 0, 0, 0, 0, 0, 0, 0, 0, 0, 0, 0], [0, 0, 0, 0, 1, 0, 0, 0, 0, 0, 0, 0, 0, 0, 0, 0, 0, 0, 0, 0], [0, 0, 0, 1, 0, 0, 0, 0, 0, 0, 0, 0, 0, 0, 0, 0, 0, 0, 0, 0], [0, 0, 1, 0, 0, 0, 0, 0, 0, 0, 0, 0, 0, 0, 0, 0, 0, 0, 0, 0]]\n",
      "[2, 3, 4, 5, 6, 7, 8, 9, 10, 11, 12, 13, 14, 15, 16, 17]\n",
      "32\n"
     ]
    },
    {
     "name": "stderr",
     "output_type": "stream",
     "text": [
      "178it [00:00, 1777.25it/s]"
     ]
    },
    {
     "name": "stdout",
     "output_type": "stream",
     "text": [
      "Parsed ../kickoff-detection-data/9d1b40c0-efb0-4eb5-9ff4-bd13a55c0820.2.kickoff.rdb in 0.98 s.\n",
      "Contains keys: dict_keys(['right', 'left'])\n",
      "[right] start_ts: 1525715936409 | stop_ts: 1525716234249\n",
      "[left] start_ts: 1525715936459 | stop_ts: 1525716234259\n",
      "../kickoff-detection-data/9d1b40c0-efb0-4eb5-9ff4-bd13a55c0820.json\n",
      "[{'kickoff_team_id': 6, 'type': 'start_phase', 'phase': 1, 'ts': '2018-05-07T16:59:57.548Z'}, {'type': 'end_phase', 'phase': 1, 'ts': '2018-05-07T17:45:00.886Z'}, {'kickoff_team_id': 6, 'type': 'start_phase', 'phase': 2, 'ts': '2018-05-07T18:03:54.378Z'}, {'type': 'end_phase', 'phase': 2, 'ts': '2018-05-07T18:53:43.859Z'}]\n",
      "1525716234378\n"
     ]
    },
    {
     "name": "stderr",
     "output_type": "stream",
     "text": [
      "7446it [00:03, 1974.75it/s]\n"
     ]
    },
    {
     "name": "stdout",
     "output_type": "stream",
     "text": [
      "0 0\n",
      "[]\n",
      "[]\n"
     ]
    },
    {
     "name": "stderr",
     "output_type": "stream",
     "text": [
      "367it [00:00, 1895.07it/s]"
     ]
    },
    {
     "name": "stdout",
     "output_type": "stream",
     "text": [
      "Parsed ../kickoff-detection-data/19bebd81-3b61-492b-85ed-74ff887cbc45.1.kickoff.rdb in 2.84 s.\n",
      "Contains keys: dict_keys(['right', 'left'])\n",
      "[right] start_ts: 1522587371411 | stop_ts: 1522587968931\n",
      "[left] start_ts: 1522587371575 | stop_ts: 1522587969015\n",
      "../kickoff-detection-data/19bebd81-3b61-492b-85ed-74ff887cbc45.json\n",
      "[{'kickoff_team_id': 1, 'type': 'start_phase', 'phase': 1, 'ts': '2018-04-01T13:01:09.709Z'}, {'type': 'end_phase', 'phase': 1, 'ts': '2018-04-01T13:47:53.692Z'}, {'kickoff_team_id': 2, 'type': 'start_phase', 'phase': 2, 'ts': '2018-04-01T14:05:32.177Z'}, {'type': 'end_phase', 'phase': 2, 'ts': '2018-04-01T14:53:51.954Z'}]\n",
      "1522587669709\n"
     ]
    },
    {
     "name": "stderr",
     "output_type": "stream",
     "text": [
      "14937it [00:08, 1661.05it/s]\n"
     ]
    },
    {
     "name": "stdout",
     "output_type": "stream",
     "text": [
      "575 575\n",
      "279\n",
      "17\n",
      "17 17\n",
      "[[0, 0, 0, 0, 0, 0, 0, 0, 0, 0, 0, 0, 0, 0, 0, 0, 0, 1, 0, 0], [0, 0, 0, 0, 0, 0, 0, 0, 0, 0, 0, 0, 0, 0, 0, 0, 1, 0, 0, 0], [0, 0, 0, 0, 0, 0, 0, 0, 0, 0, 0, 0, 0, 0, 0, 1, 0, 0, 0, 0], [0, 0, 0, 0, 0, 0, 0, 0, 0, 0, 0, 0, 0, 0, 1, 0, 0, 0, 0, 0], [0, 0, 0, 0, 0, 0, 0, 0, 0, 0, 0, 0, 0, 1, 0, 0, 0, 0, 0, 0], [0, 0, 0, 0, 0, 0, 0, 0, 0, 0, 0, 0, 1, 0, 0, 0, 0, 0, 0, 0], [0, 0, 0, 0, 0, 0, 0, 0, 0, 0, 0, 1, 0, 0, 0, 0, 0, 0, 0, 0], [0, 0, 0, 0, 0, 0, 0, 0, 0, 0, 1, 0, 0, 0, 0, 0, 0, 0, 0, 0], [0, 0, 0, 0, 0, 0, 0, 0, 0, 1, 0, 0, 0, 0, 0, 0, 0, 0, 0, 0], [0, 0, 0, 0, 0, 0, 0, 0, 1, 0, 0, 0, 0, 0, 0, 0, 0, 0, 0, 0], [0, 0, 0, 0, 0, 0, 0, 1, 0, 0, 0, 0, 0, 0, 0, 0, 0, 0, 0, 0], [0, 0, 0, 0, 0, 0, 1, 0, 0, 0, 0, 0, 0, 0, 0, 0, 0, 0, 0, 0], [0, 0, 0, 0, 0, 1, 0, 0, 0, 0, 0, 0, 0, 0, 0, 0, 0, 0, 0, 0], [0, 0, 0, 0, 1, 0, 0, 0, 0, 0, 0, 0, 0, 0, 0, 0, 0, 0, 0, 0], [0, 0, 0, 1, 0, 0, 0, 0, 0, 0, 0, 0, 0, 0, 0, 0, 0, 0, 0, 0], [0, 0, 1, 0, 0, 0, 0, 0, 0, 0, 0, 0, 0, 0, 0, 0, 0, 0, 0, 0], [0, 1, 0, 0, 0, 0, 0, 0, 0, 0, 0, 0, 0, 0, 0, 0, 0, 0, 0, 0]]\n",
      "[2, 3, 4, 5, 6, 7, 8, 9, 10, 11, 12, 13, 14, 15, 16, 17, 18]\n",
      "33\n"
     ]
    },
    {
     "name": "stderr",
     "output_type": "stream",
     "text": [
      "530it [00:00, 2603.30it/s]"
     ]
    },
    {
     "name": "stdout",
     "output_type": "stream",
     "text": [
      "Parsed ../kickoff-detection-data/ba34fc2e-bdba-40d8-8cc8-a679c6eecd5a.2.kickoff.rdb in 1.82 s.\n",
      "Contains keys: dict_keys(['right', 'left'])\n",
      "[right] start_ts: 1522600030671 | stop_ts: 1522600628511\n",
      "[left] start_ts: 1522600030721 | stop_ts: 1522600628521\n",
      "../kickoff-detection-data/ba34fc2e-bdba-40d8-8cc8-a679c6eecd5a.json\n",
      "[{'kickoff_team_id': 11, 'type': 'start_phase', 'phase': 1, 'ts': '2018-04-01T15:31:01.071000'}, {'type': 'end_phase', 'phase': 1, 'ts': '2018-04-01T16:16:08.759Z'}, {'kickoff_team_id': 13, 'type': 'start_phase', 'phase': 2, 'ts': '2018-04-01T16:32:08.446Z'}, {'type': 'end_phase', 'phase': 2, 'ts': '2018-04-01T17:20:20.880Z'}]\n",
      "1522600328446\n"
     ]
    },
    {
     "name": "stderr",
     "output_type": "stream",
     "text": [
      "14946it [00:06, 2159.97it/s]\n"
     ]
    },
    {
     "name": "stdout",
     "output_type": "stream",
     "text": [
      "576 576\n",
      "279\n",
      "17\n",
      "17 17\n",
      "[[0, 0, 0, 0, 0, 0, 0, 0, 0, 0, 0, 0, 0, 0, 0, 0, 0, 1, 0, 0], [0, 0, 0, 0, 0, 0, 0, 0, 0, 0, 0, 0, 0, 0, 0, 0, 1, 0, 0, 0], [0, 0, 0, 0, 0, 0, 0, 0, 0, 0, 0, 0, 0, 0, 0, 1, 0, 0, 0, 0], [0, 0, 0, 0, 0, 0, 0, 0, 0, 0, 0, 0, 0, 0, 1, 0, 0, 0, 0, 0], [0, 0, 0, 0, 0, 0, 0, 0, 0, 0, 0, 0, 0, 1, 0, 0, 0, 0, 0, 0], [0, 0, 0, 0, 0, 0, 0, 0, 0, 0, 0, 0, 1, 0, 0, 0, 0, 0, 0, 0], [0, 0, 0, 0, 0, 0, 0, 0, 0, 0, 0, 1, 0, 0, 0, 0, 0, 0, 0, 0], [0, 0, 0, 0, 0, 0, 0, 0, 0, 0, 1, 0, 0, 0, 0, 0, 0, 0, 0, 0], [0, 0, 0, 0, 0, 0, 0, 0, 0, 1, 0, 0, 0, 0, 0, 0, 0, 0, 0, 0], [0, 0, 0, 0, 0, 0, 0, 0, 1, 0, 0, 0, 0, 0, 0, 0, 0, 0, 0, 0], [0, 0, 0, 0, 0, 0, 0, 1, 0, 0, 0, 0, 0, 0, 0, 0, 0, 0, 0, 0], [0, 0, 0, 0, 0, 0, 1, 0, 0, 0, 0, 0, 0, 0, 0, 0, 0, 0, 0, 0], [0, 0, 0, 0, 0, 1, 0, 0, 0, 0, 0, 0, 0, 0, 0, 0, 0, 0, 0, 0], [0, 0, 0, 0, 1, 0, 0, 0, 0, 0, 0, 0, 0, 0, 0, 0, 0, 0, 0, 0], [0, 0, 0, 1, 0, 0, 0, 0, 0, 0, 0, 0, 0, 0, 0, 0, 0, 0, 0, 0], [0, 0, 1, 0, 0, 0, 0, 0, 0, 0, 0, 0, 0, 0, 0, 0, 0, 0, 0, 0], [0, 1, 0, 0, 0, 0, 0, 0, 0, 0, 0, 0, 0, 0, 0, 0, 0, 0, 0, 0]]\n",
      "[2, 3, 4, 5, 6, 7, 8, 9, 10, 11, 12, 13, 14, 15, 16, 17, 18]\n",
      "34\n",
      "1\n",
      "Json file edited\n"
     ]
    },
    {
     "name": "stderr",
     "output_type": "stream",
     "text": [
      "129it [00:00, 1281.22it/s]"
     ]
    },
    {
     "name": "stdout",
     "output_type": "stream",
     "text": [
      "Parsed ../kickoff-detection-data/2dc12819-d486-4925-a0e2-b8ae9ff1aed5.1.kickoff.rdb in 2.63 s.\n",
      "Contains keys: dict_keys(['right', 'left'])\n",
      "[right] start_ts: 1523192332775 | stop_ts: 1523192929695\n",
      "[left] start_ts: 1523192332019 | stop_ts: 1523192929339\n",
      "../kickoff-detection-data/2dc12819-d486-4925-a0e2-b8ae9ff1aed5.json\n",
      "[{'kickoff_team_id': 11, 'type': 'start_phase', 'phase': 1, 'ts': '2018-04-08T13:03:52.495000'}, {'type': 'end_phase', 'phase': 1, 'ts': '2018-04-08T13:48:52.077Z'}, {'kickoff_team_id': 14, 'type': 'start_phase', 'phase': 2, 'ts': '2018-04-08T13:03:52.495000'}, {'type': 'end_phase', 'phase': 2, 'ts': '2018-04-08T14:53:40.200Z'}]\n",
      "1523192632495\n"
     ]
    },
    {
     "name": "stderr",
     "output_type": "stream",
     "text": [
      "14925it [00:08, 1688.93it/s]\n"
     ]
    },
    {
     "name": "stdout",
     "output_type": "stream",
     "text": [
      "574 574\n",
      "281\n",
      "16\n",
      "16 16\n",
      "[[0, 0, 0, 0, 0, 0, 0, 0, 0, 0, 0, 0, 0, 0, 0, 0, 0, 1, 0, 0], [0, 0, 0, 0, 0, 0, 0, 0, 0, 0, 0, 0, 0, 0, 0, 0, 1, 0, 0, 0], [0, 0, 0, 0, 0, 0, 0, 0, 0, 0, 0, 0, 0, 0, 0, 1, 0, 0, 0, 0], [0, 0, 0, 0, 0, 0, 0, 0, 0, 0, 0, 0, 0, 0, 1, 0, 0, 0, 0, 0], [0, 0, 0, 0, 0, 0, 0, 0, 0, 0, 0, 0, 0, 1, 0, 0, 0, 0, 0, 0], [0, 0, 0, 0, 0, 0, 0, 0, 0, 0, 0, 0, 1, 0, 0, 0, 0, 0, 0, 0], [0, 0, 0, 0, 0, 0, 0, 0, 0, 0, 0, 1, 0, 0, 0, 0, 0, 0, 0, 0], [0, 0, 0, 0, 0, 0, 0, 0, 0, 0, 1, 0, 0, 0, 0, 0, 0, 0, 0, 0], [0, 0, 0, 0, 0, 0, 0, 0, 0, 1, 0, 0, 0, 0, 0, 0, 0, 0, 0, 0], [0, 0, 0, 0, 0, 0, 0, 0, 1, 0, 0, 0, 0, 0, 0, 0, 0, 0, 0, 0], [0, 0, 0, 0, 0, 0, 0, 1, 0, 0, 0, 0, 0, 0, 0, 0, 0, 0, 0, 0], [0, 0, 0, 0, 0, 0, 1, 0, 0, 0, 0, 0, 0, 0, 0, 0, 0, 0, 0, 0], [0, 0, 0, 0, 0, 1, 0, 0, 0, 0, 0, 0, 0, 0, 0, 0, 0, 0, 0, 0], [0, 0, 0, 0, 1, 0, 0, 0, 0, 0, 0, 0, 0, 0, 0, 0, 0, 0, 0, 0], [0, 0, 0, 1, 0, 0, 0, 0, 0, 0, 0, 0, 0, 0, 0, 0, 0, 0, 0, 0], [0, 0, 1, 0, 0, 0, 0, 0, 0, 0, 0, 0, 0, 0, 0, 0, 0, 0, 0, 0]]\n",
      "[2, 3, 4, 5, 6, 7, 8, 9, 10, 11, 12, 13, 14, 15, 16, 17]\n",
      "35\n"
     ]
    },
    {
     "name": "stderr",
     "output_type": "stream",
     "text": [
      "691it [00:00, 3459.74it/s]"
     ]
    },
    {
     "name": "stdout",
     "output_type": "stream",
     "text": [
      "Parsed ../kickoff-detection-data/3382a9d0-02ff-4f23-9748-1b715d85b731.2.kickoff.rdb in 1.96 s.\n",
      "Contains keys: dict_keys(['right', 'left'])\n",
      "[right] start_ts: 1523809596650 | stop_ts: 1523810194170\n",
      "[left] start_ts: 1523809596082 | stop_ts: 1523810193882\n",
      "../kickoff-detection-data/3382a9d0-02ff-4f23-9748-1b715d85b731.json\n",
      "[{'kickoff_team_id': 6, 'type': 'start_phase', 'phase': 1, 'ts': '2018-04-15T15:29:58.007Z'}, {'type': 'end_phase', 'phase': 1, 'ts': '2018-04-15T16:16:00.459Z'}, {'kickoff_team_id': 13, 'type': 'start_phase', 'phase': 2, 'ts': '2018-04-15T16:31:33.353Z'}, {'type': 'end_phase', 'phase': 2, 'ts': '2018-04-15T17:19:35.565Z'}]\n",
      "1523809893353\n"
     ]
    },
    {
     "name": "stderr",
     "output_type": "stream",
     "text": [
      "14938it [00:06, 2316.48it/s]\n"
     ]
    },
    {
     "name": "stdout",
     "output_type": "stream",
     "text": [
      "575 575\n",
      "278\n",
      "16\n",
      "16 16\n",
      "[[0, 0, 0, 0, 0, 0, 0, 0, 0, 0, 0, 0, 0, 0, 0, 0, 0, 1, 0, 0], [0, 0, 0, 0, 0, 0, 0, 0, 0, 0, 0, 0, 0, 0, 0, 0, 1, 0, 0, 0], [0, 0, 0, 0, 0, 0, 0, 0, 0, 0, 0, 0, 0, 0, 0, 1, 0, 0, 0, 0], [0, 0, 0, 0, 0, 0, 0, 0, 0, 0, 0, 0, 0, 0, 1, 0, 0, 0, 0, 0], [0, 0, 0, 0, 0, 0, 0, 0, 0, 0, 0, 0, 0, 1, 0, 0, 0, 0, 0, 0], [0, 0, 0, 0, 0, 0, 0, 0, 0, 0, 0, 0, 1, 0, 0, 0, 0, 0, 0, 0], [0, 0, 0, 0, 0, 0, 0, 0, 0, 0, 0, 1, 0, 0, 0, 0, 0, 0, 0, 0], [0, 0, 0, 0, 0, 0, 0, 0, 0, 0, 1, 0, 0, 0, 0, 0, 0, 0, 0, 0], [0, 0, 0, 0, 0, 0, 0, 0, 0, 1, 0, 0, 0, 0, 0, 0, 0, 0, 0, 0], [0, 0, 0, 0, 0, 0, 0, 0, 1, 0, 0, 0, 0, 0, 0, 0, 0, 0, 0, 0], [0, 0, 0, 0, 0, 0, 0, 1, 0, 0, 0, 0, 0, 0, 0, 0, 0, 0, 0, 0], [0, 0, 0, 0, 0, 0, 1, 0, 0, 0, 0, 0, 0, 0, 0, 0, 0, 0, 0, 0], [0, 0, 0, 0, 0, 1, 0, 0, 0, 0, 0, 0, 0, 0, 0, 0, 0, 0, 0, 0], [0, 0, 0, 0, 1, 0, 0, 0, 0, 0, 0, 0, 0, 0, 0, 0, 0, 0, 0, 0], [0, 0, 0, 1, 0, 0, 0, 0, 0, 0, 0, 0, 0, 0, 0, 0, 0, 0, 0, 0], [0, 0, 1, 0, 0, 0, 0, 0, 0, 0, 0, 0, 0, 0, 0, 0, 0, 0, 0, 0]]\n",
      "[2, 3, 4, 5, 6, 7, 8, 9, 10, 11, 12, 13, 14, 15, 16, 17]\n",
      "36\n"
     ]
    },
    {
     "name": "stderr",
     "output_type": "stream",
     "text": [
      "250it [00:00, 2492.59it/s]"
     ]
    },
    {
     "name": "stdout",
     "output_type": "stream",
     "text": [
      "Parsed ../kickoff-detection-data/5c74023d-a59b-49e5-9825-2f481dbebf39.2.kickoff.rdb in 0.79 s.\n",
      "Contains keys: dict_keys(['right', 'left'])\n",
      "[right] start_ts: 1524160664358 | stop_ts: 1524160960878\n",
      "[left] start_ts: 1524160665036 | stop_ts: 1524160961196\n",
      "../kickoff-detection-data/5c74023d-a59b-49e5-9825-2f481dbebf39.json\n",
      "[{'kickoff_team_id': 6, 'type': 'start_phase', 'phase': 1, 'ts': '2018-04-19T17:00:02.473Z'}, {'type': 'end_phase', 'phase': 1, 'ts': '2018-04-19T17:47:05.681Z'}, {'kickoff_team_id': 16, 'type': 'start_phase', 'phase': 2, 'ts': '2018-04-19T18:02:41.621Z'}, {'type': 'end_phase', 'phase': 2, 'ts': '2018-04-19T18:51:58.634Z'}]\n",
      "1524160961621\n"
     ]
    },
    {
     "name": "stderr",
     "output_type": "stream",
     "text": [
      "7405it [00:02, 2529.27it/s]\n"
     ]
    },
    {
     "name": "stdout",
     "output_type": "stream",
     "text": [
      "0 0\n",
      "[]\n",
      "[]\n"
     ]
    },
    {
     "name": "stderr",
     "output_type": "stream",
     "text": [
      "361it [00:00, 3598.89it/s]"
     ]
    },
    {
     "name": "stdout",
     "output_type": "stream",
     "text": [
      "Parsed ../kickoff-detection-data/84e8b33c-d912-495e-9e21-84bdd18e0e04.1.kickoff.rdb in 2.22 s.\n",
      "Contains keys: dict_keys(['right', 'left'])\n",
      "[right] start_ts: 1523638502169 | stop_ts: 1523639099769\n",
      "[left] start_ts: 1523638501659 | stop_ts: 1523639099539\n",
      "../kickoff-detection-data/84e8b33c-d912-495e-9e21-84bdd18e0e04.json\n",
      "[{'kickoff_team_id': 12, 'type': 'start_phase', 'phase': 1, 'ts': '2018-04-13T16:59:59.946Z'}, {'type': 'end_phase', 'phase': 1, 'ts': '2018-04-13T17:45:38.365Z'}, {'kickoff_team_id': 14, 'type': 'start_phase', 'phase': 2, 'ts': '2018-04-13T18:00:40.466Z'}, {'type': 'end_phase', 'phase': 2, 'ts': '2018-04-13T18:47:41.972Z'}]\n",
      "1523638799946\n"
     ]
    },
    {
     "name": "stderr",
     "output_type": "stream",
     "text": [
      "14940it [00:07, 2065.19it/s]\n"
     ]
    },
    {
     "name": "stdout",
     "output_type": "stream",
     "text": [
      "575 575\n",
      "279\n",
      "17\n",
      "17 17\n",
      "[[0, 0, 0, 0, 0, 0, 0, 0, 0, 0, 0, 0, 0, 0, 0, 0, 0, 1, 0, 0], [0, 0, 0, 0, 0, 0, 0, 0, 0, 0, 0, 0, 0, 0, 0, 0, 1, 0, 0, 0], [0, 0, 0, 0, 0, 0, 0, 0, 0, 0, 0, 0, 0, 0, 0, 1, 0, 0, 0, 0], [0, 0, 0, 0, 0, 0, 0, 0, 0, 0, 0, 0, 0, 0, 1, 0, 0, 0, 0, 0], [0, 0, 0, 0, 0, 0, 0, 0, 0, 0, 0, 0, 0, 1, 0, 0, 0, 0, 0, 0], [0, 0, 0, 0, 0, 0, 0, 0, 0, 0, 0, 0, 1, 0, 0, 0, 0, 0, 0, 0], [0, 0, 0, 0, 0, 0, 0, 0, 0, 0, 0, 1, 0, 0, 0, 0, 0, 0, 0, 0], [0, 0, 0, 0, 0, 0, 0, 0, 0, 0, 1, 0, 0, 0, 0, 0, 0, 0, 0, 0], [0, 0, 0, 0, 0, 0, 0, 0, 0, 1, 0, 0, 0, 0, 0, 0, 0, 0, 0, 0], [0, 0, 0, 0, 0, 0, 0, 0, 1, 0, 0, 0, 0, 0, 0, 0, 0, 0, 0, 0], [0, 0, 0, 0, 0, 0, 0, 1, 0, 0, 0, 0, 0, 0, 0, 0, 0, 0, 0, 0], [0, 0, 0, 0, 0, 0, 1, 0, 0, 0, 0, 0, 0, 0, 0, 0, 0, 0, 0, 0], [0, 0, 0, 0, 0, 1, 0, 0, 0, 0, 0, 0, 0, 0, 0, 0, 0, 0, 0, 0], [0, 0, 0, 0, 1, 0, 0, 0, 0, 0, 0, 0, 0, 0, 0, 0, 0, 0, 0, 0], [0, 0, 0, 1, 0, 0, 0, 0, 0, 0, 0, 0, 0, 0, 0, 0, 0, 0, 0, 0], [0, 0, 1, 0, 0, 0, 0, 0, 0, 0, 0, 0, 0, 0, 0, 0, 0, 0, 0, 0], [0, 1, 0, 0, 0, 0, 0, 0, 0, 0, 0, 0, 0, 0, 0, 0, 0, 0, 0, 0]]\n",
      "[2, 3, 4, 5, 6, 7, 8, 9, 10, 11, 12, 13, 14, 15, 16, 17, 18]\n",
      "37\n"
     ]
    },
    {
     "name": "stderr",
     "output_type": "stream",
     "text": [
      "420it [00:00, 2157.58it/s]"
     ]
    },
    {
     "name": "stdout",
     "output_type": "stream",
     "text": [
      "Parsed ../kickoff-detection-data/5c74023d-a59b-49e5-9825-2f481dbebf39.1.kickoff.rdb in 0.87 s.\n",
      "Contains keys: dict_keys(['right', 'left'])\n",
      "[right] start_ts: 1524156904358 | stop_ts: 1524157201878\n",
      "[left] start_ts: 1524156904996 | stop_ts: 1524157202196\n",
      "../kickoff-detection-data/5c74023d-a59b-49e5-9825-2f481dbebf39.json\n",
      "[{'kickoff_team_id': 6, 'type': 'start_phase', 'phase': 1, 'ts': '2018-04-19T17:00:02.473Z'}, {'type': 'end_phase', 'phase': 1, 'ts': '2018-04-19T17:47:05.681Z'}, {'kickoff_team_id': 16, 'type': 'start_phase', 'phase': 2, 'ts': '2018-04-19T18:02:41.621Z'}, {'type': 'end_phase', 'phase': 2, 'ts': '2018-04-19T18:51:58.634Z'}]\n",
      "1524157202473\n"
     ]
    },
    {
     "name": "stderr",
     "output_type": "stream",
     "text": [
      "7431it [00:03, 2084.75it/s]\n"
     ]
    },
    {
     "name": "stdout",
     "output_type": "stream",
     "text": [
      "0 0\n",
      "[]\n",
      "[]\n"
     ]
    },
    {
     "name": "stderr",
     "output_type": "stream",
     "text": [
      "498it [00:00, 2499.29it/s]"
     ]
    },
    {
     "name": "stdout",
     "output_type": "stream",
     "text": [
      "Parsed ../kickoff-detection-data/9e627901-09e2-4c84-bf77-6f0ec289fa5f.2.kickoff.rdb in 1.81 s.\n",
      "Contains keys: dict_keys(['right', 'left'])\n",
      "[right] start_ts: 1522686513973 | stop_ts: 1522687111853\n",
      "[left] start_ts: 1522686514029 | stop_ts: 1522687111869\n",
      "../kickoff-detection-data/9e627901-09e2-4c84-bf77-6f0ec289fa5f.json\n",
      "[{'kickoff_team_id': 7, 'type': 'start_phase', 'phase': 1, 'ts': '2018-04-02T15:32:25.029Z'}, {'type': 'end_phase', 'phase': 1, 'ts': '2018-04-02T16:17:34.362Z'}, {'kickoff_team_id': 8, 'type': 'start_phase', 'phase': 2, 'ts': '2018-04-02T16:33:31.520Z'}, {'type': 'end_phase', 'phase': 2, 'ts': '2018-04-02T17:22:39.373Z'}]\n",
      "1522686811520\n"
     ]
    },
    {
     "name": "stderr",
     "output_type": "stream",
     "text": [
      "14946it [00:06, 2331.77it/s]\n"
     ]
    },
    {
     "name": "stdout",
     "output_type": "stream",
     "text": [
      "576 576\n",
      "279\n",
      "16\n",
      "16 16\n",
      "[[0, 0, 0, 0, 0, 0, 0, 0, 0, 0, 0, 0, 0, 0, 0, 0, 0, 1, 0, 0], [0, 0, 0, 0, 0, 0, 0, 0, 0, 0, 0, 0, 0, 0, 0, 0, 1, 0, 0, 0], [0, 0, 0, 0, 0, 0, 0, 0, 0, 0, 0, 0, 0, 0, 0, 1, 0, 0, 0, 0], [0, 0, 0, 0, 0, 0, 0, 0, 0, 0, 0, 0, 0, 0, 1, 0, 0, 0, 0, 0], [0, 0, 0, 0, 0, 0, 0, 0, 0, 0, 0, 0, 0, 1, 0, 0, 0, 0, 0, 0], [0, 0, 0, 0, 0, 0, 0, 0, 0, 0, 0, 0, 1, 0, 0, 0, 0, 0, 0, 0], [0, 0, 0, 0, 0, 0, 0, 0, 0, 0, 0, 1, 0, 0, 0, 0, 0, 0, 0, 0], [0, 0, 0, 0, 0, 0, 0, 0, 0, 0, 1, 0, 0, 0, 0, 0, 0, 0, 0, 0], [0, 0, 0, 0, 0, 0, 0, 0, 0, 1, 0, 0, 0, 0, 0, 0, 0, 0, 0, 0], [0, 0, 0, 0, 0, 0, 0, 0, 1, 0, 0, 0, 0, 0, 0, 0, 0, 0, 0, 0], [0, 0, 0, 0, 0, 0, 0, 1, 0, 0, 0, 0, 0, 0, 0, 0, 0, 0, 0, 0], [0, 0, 0, 0, 0, 0, 1, 0, 0, 0, 0, 0, 0, 0, 0, 0, 0, 0, 0, 0], [0, 0, 0, 0, 0, 1, 0, 0, 0, 0, 0, 0, 0, 0, 0, 0, 0, 0, 0, 0], [0, 0, 0, 0, 1, 0, 0, 0, 0, 0, 0, 0, 0, 0, 0, 0, 0, 0, 0, 0], [0, 0, 0, 1, 0, 0, 0, 0, 0, 0, 0, 0, 0, 0, 0, 0, 0, 0, 0, 0], [0, 0, 1, 0, 0, 0, 0, 0, 0, 0, 0, 0, 0, 0, 0, 0, 0, 0, 0, 0]]\n",
      "[2, 3, 4, 5, 6, 7, 8, 9, 10, 11, 12, 13, 14, 15, 16, 17]\n",
      "38\n"
     ]
    },
    {
     "name": "stderr",
     "output_type": "stream",
     "text": [
      "481it [00:00, 2375.74it/s]"
     ]
    },
    {
     "name": "stdout",
     "output_type": "stream",
     "text": [
      "Parsed ../kickoff-detection-data/723fa378-2b05-42e0-9631-a05bb1ed5e70.1.kickoff.rdb in 2.66 s.\n",
      "Contains keys: dict_keys(['right', 'left'])\n",
      "[right] start_ts: 1524502496828 | stop_ts: 1524503096348\n",
      "[left] start_ts: 1524502497320 | stop_ts: 1524503096600\n",
      "../kickoff-detection-data/723fa378-2b05-42e0-9631-a05bb1ed5e70.json\n",
      "[{'kickoff_team_id': 4, 'type': 'start_phase', 'phase': 1, 'ts': '2018-04-23T16:59:56.989Z'}, {'type': 'end_phase', 'phase': 1, 'ts': '2018-04-23T17:45:26.980Z'}, {'kickoff_team_id': 1, 'type': 'start_phase', 'phase': 2, 'ts': '2018-04-23T18:01:16.310Z'}, {'type': 'end_phase', 'phase': 2, 'ts': '2018-04-23T18:51:18.989Z'}]\n",
      "1524502796989\n"
     ]
    },
    {
     "name": "stderr",
     "output_type": "stream",
     "text": [
      "14982it [00:08, 1856.14it/s]\n"
     ]
    },
    {
     "name": "stdout",
     "output_type": "stream",
     "text": [
      "577 577\n",
      "281\n",
      "16\n",
      "16 16\n",
      "[[0, 0, 0, 0, 0, 0, 0, 0, 0, 0, 0, 0, 0, 0, 0, 0, 0, 1, 0, 0], [0, 0, 0, 0, 0, 0, 0, 0, 0, 0, 0, 0, 0, 0, 0, 0, 1, 0, 0, 0], [0, 0, 0, 0, 0, 0, 0, 0, 0, 0, 0, 0, 0, 0, 0, 1, 0, 0, 0, 0], [0, 0, 0, 0, 0, 0, 0, 0, 0, 0, 0, 0, 0, 0, 1, 0, 0, 0, 0, 0], [0, 0, 0, 0, 0, 0, 0, 0, 0, 0, 0, 0, 0, 1, 0, 0, 0, 0, 0, 0], [0, 0, 0, 0, 0, 0, 0, 0, 0, 0, 0, 0, 1, 0, 0, 0, 0, 0, 0, 0], [0, 0, 0, 0, 0, 0, 0, 0, 0, 0, 0, 1, 0, 0, 0, 0, 0, 0, 0, 0], [0, 0, 0, 0, 0, 0, 0, 0, 0, 0, 1, 0, 0, 0, 0, 0, 0, 0, 0, 0], [0, 0, 0, 0, 0, 0, 0, 0, 0, 1, 0, 0, 0, 0, 0, 0, 0, 0, 0, 0], [0, 0, 0, 0, 0, 0, 0, 0, 1, 0, 0, 0, 0, 0, 0, 0, 0, 0, 0, 0], [0, 0, 0, 0, 0, 0, 0, 1, 0, 0, 0, 0, 0, 0, 0, 0, 0, 0, 0, 0], [0, 0, 0, 0, 0, 0, 1, 0, 0, 0, 0, 0, 0, 0, 0, 0, 0, 0, 0, 0], [0, 0, 0, 0, 0, 1, 0, 0, 0, 0, 0, 0, 0, 0, 0, 0, 0, 0, 0, 0], [0, 0, 0, 0, 1, 0, 0, 0, 0, 0, 0, 0, 0, 0, 0, 0, 0, 0, 0, 0], [0, 0, 0, 1, 0, 0, 0, 0, 0, 0, 0, 0, 0, 0, 0, 0, 0, 0, 0, 0], [0, 0, 1, 0, 0, 0, 0, 0, 0, 0, 0, 0, 0, 0, 0, 0, 0, 0, 0, 0]]\n",
      "[2, 3, 4, 5, 6, 7, 8, 9, 10, 11, 12, 13, 14, 15, 16, 17]\n",
      "39\n"
     ]
    },
    {
     "name": "stderr",
     "output_type": "stream",
     "text": [
      "311it [00:00, 3100.93it/s]"
     ]
    },
    {
     "name": "stdout",
     "output_type": "stream",
     "text": [
      "Parsed ../kickoff-detection-data/4176c56a-b0df-4e64-aaeb-09150829ba15.2.kickoff.rdb in 1.68 s.\n",
      "Contains keys: dict_keys(['right', 'left'])\n",
      "[right] start_ts: 1526741990392 | stop_ts: 1526742590232\n",
      "[left] start_ts: 1526741990412 | stop_ts: 1526742590252\n",
      "../kickoff-detection-data/4176c56a-b0df-4e64-aaeb-09150829ba15.json\n",
      "[{'kickoff_team_id': 3, 'type': 'start_phase', 'phase': 1, 'ts': '2018-05-19T14:00:22.229Z'}, {'type': 'end_phase', 'phase': 1, 'ts': '2018-05-19T14:48:34.080Z'}, {'kickoff_team_id': 13, 'type': 'start_phase', 'phase': 2, 'ts': '2018-05-19T15:04:50.325Z'}, {'type': 'end_phase', 'phase': 2, 'ts': '2018-05-19T15:53:26.441Z'}]\n",
      "1526742290325\n"
     ]
    },
    {
     "name": "stderr",
     "output_type": "stream",
     "text": [
      "14996it [00:05, 2581.31it/s]\n"
     ]
    },
    {
     "name": "stdout",
     "output_type": "stream",
     "text": [
      "578 578\n",
      "281\n",
      "17\n",
      "17 17\n",
      "[[0, 0, 0, 0, 0, 0, 0, 0, 0, 0, 0, 0, 0, 0, 0, 0, 0, 1, 0, 0], [0, 0, 0, 0, 0, 0, 0, 0, 0, 0, 0, 0, 0, 0, 0, 0, 1, 0, 0, 0], [0, 0, 0, 0, 0, 0, 0, 0, 0, 0, 0, 0, 0, 0, 0, 1, 0, 0, 0, 0], [0, 0, 0, 0, 0, 0, 0, 0, 0, 0, 0, 0, 0, 0, 1, 0, 0, 0, 0, 0], [0, 0, 0, 0, 0, 0, 0, 0, 0, 0, 0, 0, 0, 1, 0, 0, 0, 0, 0, 0], [0, 0, 0, 0, 0, 0, 0, 0, 0, 0, 0, 0, 1, 0, 0, 0, 0, 0, 0, 0], [0, 0, 0, 0, 0, 0, 0, 0, 0, 0, 0, 1, 0, 0, 0, 0, 0, 0, 0, 0], [0, 0, 0, 0, 0, 0, 0, 0, 0, 0, 1, 0, 0, 0, 0, 0, 0, 0, 0, 0], [0, 0, 0, 0, 0, 0, 0, 0, 0, 1, 0, 0, 0, 0, 0, 0, 0, 0, 0, 0], [0, 0, 0, 0, 0, 0, 0, 0, 1, 0, 0, 0, 0, 0, 0, 0, 0, 0, 0, 0], [0, 0, 0, 0, 0, 0, 0, 1, 0, 0, 0, 0, 0, 0, 0, 0, 0, 0, 0, 0], [0, 0, 0, 0, 0, 0, 1, 0, 0, 0, 0, 0, 0, 0, 0, 0, 0, 0, 0, 0], [0, 0, 0, 0, 0, 1, 0, 0, 0, 0, 0, 0, 0, 0, 0, 0, 0, 0, 0, 0], [0, 0, 0, 0, 1, 0, 0, 0, 0, 0, 0, 0, 0, 0, 0, 0, 0, 0, 0, 0], [0, 0, 0, 1, 0, 0, 0, 0, 0, 0, 0, 0, 0, 0, 0, 0, 0, 0, 0, 0], [0, 0, 1, 0, 0, 0, 0, 0, 0, 0, 0, 0, 0, 0, 0, 0, 0, 0, 0, 0], [0, 1, 0, 0, 0, 0, 0, 0, 0, 0, 0, 0, 0, 0, 0, 0, 0, 0, 0, 0]]\n",
      "[2, 3, 4, 5, 6, 7, 8, 9, 10, 11, 12, 13, 14, 15, 16, 17, 18]\n",
      "40\n"
     ]
    },
    {
     "name": "stderr",
     "output_type": "stream",
     "text": [
      "595it [00:00, 3019.52it/s]"
     ]
    },
    {
     "name": "stdout",
     "output_type": "stream",
     "text": [
      "Parsed ../kickoff-detection-data/bd6faac0-e5f3-4b84-82a9-400c019ac08d.2.kickoff.rdb in 0.69 s.\n",
      "Contains keys: dict_keys(['right', 'left'])\n",
      "[right] start_ts: 1526320642055 | stop_ts: 1526320941935\n",
      "[left] start_ts: 1526320642105 | stop_ts: 1526320941985\n",
      "../kickoff-detection-data/bd6faac0-e5f3-4b84-82a9-400c019ac08d.json\n",
      "[{'kickoff_team_id': 7, 'type': 'start_phase', 'phase': 1, 'ts': '2018-05-14T17:00:30.256Z'}, {'type': 'end_phase', 'phase': 1, 'ts': '2018-05-14T17:46:31.340Z'}, {'kickoff_team_id': 5, 'type': 'start_phase', 'phase': 2, 'ts': '2018-05-14T18:02:21.290Z'}, {'type': 'end_phase', 'phase': 2, 'ts': '2018-05-14T18:49:16.627Z'}]\n",
      "1526320941290\n"
     ]
    },
    {
     "name": "stderr",
     "output_type": "stream",
     "text": [
      "7498it [00:02, 2988.76it/s]\n"
     ]
    },
    {
     "name": "stdout",
     "output_type": "stream",
     "text": [
      "0 0\n",
      "[]\n",
      "[]\n"
     ]
    },
    {
     "name": "stderr",
     "output_type": "stream",
     "text": [
      "636it [00:00, 3023.21it/s]"
     ]
    },
    {
     "name": "stdout",
     "output_type": "stream",
     "text": [
      "Parsed ../kickoff-detection-data/0d9e9e30-9d13-4af0-8e41-fe1669e9eeff.2.kickoff.rdb in 2.11 s.\n",
      "Contains keys: dict_keys(['right', 'left'])\n",
      "[right] start_ts: 1523195853031 | stop_ts: 1523196452911\n",
      "[left] start_ts: 1523195853517 | stop_ts: 1523196453157\n",
      "../kickoff-detection-data/0d9e9e30-9d13-4af0-8e41-fe1669e9eeff.json\n",
      "[{'kickoff_team_id': 7, 'type': 'start_phase', 'phase': 1, 'ts': '2018-04-08T13:00:28.503Z'}, {'type': 'end_phase', 'phase': 1, 'ts': '2018-04-08T13:47:27.898Z'}, {'kickoff_team_id': 9, 'type': 'start_phase', 'phase': 2, 'ts': '2018-04-08T14:02:33.117Z'}, {'type': 'end_phase', 'phase': 2, 'ts': '2018-04-08T14:51:34.402Z'}]\n",
      "1523196153117\n"
     ]
    },
    {
     "name": "stderr",
     "output_type": "stream",
     "text": [
      "14992it [00:08, 1873.23it/s]\n"
     ]
    },
    {
     "name": "stdout",
     "output_type": "stream",
     "text": [
      "577 577\n",
      "281\n",
      "16\n",
      "16 16\n",
      "[[0, 0, 0, 0, 0, 0, 0, 0, 0, 0, 0, 0, 0, 0, 0, 0, 0, 1, 0, 0], [0, 0, 0, 0, 0, 0, 0, 0, 0, 0, 0, 0, 0, 0, 0, 0, 1, 0, 0, 0], [0, 0, 0, 0, 0, 0, 0, 0, 0, 0, 0, 0, 0, 0, 0, 1, 0, 0, 0, 0], [0, 0, 0, 0, 0, 0, 0, 0, 0, 0, 0, 0, 0, 0, 1, 0, 0, 0, 0, 0], [0, 0, 0, 0, 0, 0, 0, 0, 0, 0, 0, 0, 0, 1, 0, 0, 0, 0, 0, 0], [0, 0, 0, 0, 0, 0, 0, 0, 0, 0, 0, 0, 1, 0, 0, 0, 0, 0, 0, 0], [0, 0, 0, 0, 0, 0, 0, 0, 0, 0, 0, 1, 0, 0, 0, 0, 0, 0, 0, 0], [0, 0, 0, 0, 0, 0, 0, 0, 0, 0, 1, 0, 0, 0, 0, 0, 0, 0, 0, 0], [0, 0, 0, 0, 0, 0, 0, 0, 0, 1, 0, 0, 0, 0, 0, 0, 0, 0, 0, 0], [0, 0, 0, 0, 0, 0, 0, 0, 1, 0, 0, 0, 0, 0, 0, 0, 0, 0, 0, 0], [0, 0, 0, 0, 0, 0, 0, 1, 0, 0, 0, 0, 0, 0, 0, 0, 0, 0, 0, 0], [0, 0, 0, 0, 0, 0, 1, 0, 0, 0, 0, 0, 0, 0, 0, 0, 0, 0, 0, 0], [0, 0, 0, 0, 0, 1, 0, 0, 0, 0, 0, 0, 0, 0, 0, 0, 0, 0, 0, 0], [0, 0, 0, 0, 1, 0, 0, 0, 0, 0, 0, 0, 0, 0, 0, 0, 0, 0, 0, 0], [0, 0, 0, 1, 0, 0, 0, 0, 0, 0, 0, 0, 0, 0, 0, 0, 0, 0, 0, 0], [0, 0, 1, 0, 0, 0, 0, 0, 0, 0, 0, 0, 0, 0, 0, 0, 0, 0, 0, 0]]\n",
      "[2, 3, 4, 5, 6, 7, 8, 9, 10, 11, 12, 13, 14, 15, 16, 17]\n",
      "41\n"
     ]
    },
    {
     "name": "stderr",
     "output_type": "stream",
     "text": [
      "390it [00:00, 2027.58it/s]"
     ]
    },
    {
     "name": "stdout",
     "output_type": "stream",
     "text": [
      "Parsed ../kickoff-detection-data/2ef95134-9901-4550-97c7-74d0c82567d3.1.kickoff.rdb in 2.48 s.\n",
      "Contains keys: dict_keys(['right', 'left'])\n",
      "[right] start_ts: 1527425760258 | stop_ts: 1527426359098\n",
      "[left] start_ts: 1527425760228 | stop_ts: 1527426359108\n",
      "../kickoff-detection-data/2ef95134-9901-4550-97c7-74d0c82567d3.json\n",
      "[{'kickoff_team_id': 8, 'type': 'start_phase', 'phase': 1, 'ts': '2018-05-27T13:00:59.731Z'}, {'type': 'end_phase', 'phase': 1, 'ts': '2018-05-27T13:48:03.896Z'}, {'kickoff_team_id': 16, 'type': 'start_phase', 'phase': 2, 'ts': '2018-05-27T14:04:02.857Z'}, {'type': 'end_phase', 'phase': 2, 'ts': '2018-05-27T14:53:21.030Z'}]\n",
      "1527426059731\n"
     ]
    },
    {
     "name": "stderr",
     "output_type": "stream",
     "text": [
      "14973it [00:07, 1892.96it/s]\n"
     ]
    },
    {
     "name": "stdout",
     "output_type": "stream",
     "text": [
      "577 577\n",
      "281\n",
      "16\n",
      "16 16\n",
      "[[0, 0, 0, 0, 0, 0, 0, 0, 0, 0, 0, 0, 0, 0, 0, 0, 0, 1, 0, 0], [0, 0, 0, 0, 0, 0, 0, 0, 0, 0, 0, 0, 0, 0, 0, 0, 1, 0, 0, 0], [0, 0, 0, 0, 0, 0, 0, 0, 0, 0, 0, 0, 0, 0, 0, 1, 0, 0, 0, 0], [0, 0, 0, 0, 0, 0, 0, 0, 0, 0, 0, 0, 0, 0, 1, 0, 0, 0, 0, 0], [0, 0, 0, 0, 0, 0, 0, 0, 0, 0, 0, 0, 0, 1, 0, 0, 0, 0, 0, 0], [0, 0, 0, 0, 0, 0, 0, 0, 0, 0, 0, 0, 1, 0, 0, 0, 0, 0, 0, 0], [0, 0, 0, 0, 0, 0, 0, 0, 0, 0, 0, 1, 0, 0, 0, 0, 0, 0, 0, 0], [0, 0, 0, 0, 0, 0, 0, 0, 0, 0, 1, 0, 0, 0, 0, 0, 0, 0, 0, 0], [0, 0, 0, 0, 0, 0, 0, 0, 0, 1, 0, 0, 0, 0, 0, 0, 0, 0, 0, 0], [0, 0, 0, 0, 0, 0, 0, 0, 1, 0, 0, 0, 0, 0, 0, 0, 0, 0, 0, 0], [0, 0, 0, 0, 0, 0, 0, 1, 0, 0, 0, 0, 0, 0, 0, 0, 0, 0, 0, 0], [0, 0, 0, 0, 0, 0, 1, 0, 0, 0, 0, 0, 0, 0, 0, 0, 0, 0, 0, 0], [0, 0, 0, 0, 0, 1, 0, 0, 0, 0, 0, 0, 0, 0, 0, 0, 0, 0, 0, 0], [0, 0, 0, 0, 1, 0, 0, 0, 0, 0, 0, 0, 0, 0, 0, 0, 0, 0, 0, 0], [0, 0, 0, 1, 0, 0, 0, 0, 0, 0, 0, 0, 0, 0, 0, 0, 0, 0, 0, 0], [0, 0, 1, 0, 0, 0, 0, 0, 0, 0, 0, 0, 0, 0, 0, 0, 0, 0, 0, 0]]\n",
      "[2, 3, 4, 5, 6, 7, 8, 9, 10, 11, 12, 13, 14, 15, 16, 17]\n",
      "42\n"
     ]
    },
    {
     "name": "stderr",
     "output_type": "stream",
     "text": [
      "453it [00:00, 2251.90it/s]"
     ]
    },
    {
     "name": "stdout",
     "output_type": "stream",
     "text": [
      "Parsed ../kickoff-detection-data/af42c9ca-ae8f-4d69-a671-15950883ecac.2.kickoff.rdb in 2.06 s.\n",
      "Contains keys: dict_keys(['right', 'left'])\n",
      "[right] start_ts: 1524927395612 | stop_ts: 1524927994452\n",
      "[left] start_ts: 1524927395556 | stop_ts: 1524927994436\n",
      "../kickoff-detection-data/af42c9ca-ae8f-4d69-a671-15950883ecac.json\n",
      "[{'kickoff_team_id': 6, 'type': 'start_phase', 'phase': 1, 'ts': '2018-04-28T14:00:19.834Z'}, {'type': 'end_phase', 'phase': 1, 'ts': '2018-04-28T14:45:26.494Z'}, {'kickoff_team_id': 5, 'type': 'start_phase', 'phase': 2, 'ts': '2018-04-28T15:01:34.443Z'}, {'type': 'end_phase', 'phase': 2, 'ts': '2018-04-28T15:49:36.913Z'}]\n",
      "1524927694443\n"
     ]
    },
    {
     "name": "stderr",
     "output_type": "stream",
     "text": [
      "14973it [00:07, 2134.57it/s]\n"
     ]
    },
    {
     "name": "stdout",
     "output_type": "stream",
     "text": [
      "577 577\n",
      "280\n",
      "17\n",
      "17 17\n",
      "[[0, 0, 0, 0, 0, 0, 0, 0, 0, 0, 0, 0, 0, 0, 0, 0, 0, 1, 0, 0], [0, 0, 0, 0, 0, 0, 0, 0, 0, 0, 0, 0, 0, 0, 0, 0, 1, 0, 0, 0], [0, 0, 0, 0, 0, 0, 0, 0, 0, 0, 0, 0, 0, 0, 0, 1, 0, 0, 0, 0], [0, 0, 0, 0, 0, 0, 0, 0, 0, 0, 0, 0, 0, 0, 1, 0, 0, 0, 0, 0], [0, 0, 0, 0, 0, 0, 0, 0, 0, 0, 0, 0, 0, 1, 0, 0, 0, 0, 0, 0], [0, 0, 0, 0, 0, 0, 0, 0, 0, 0, 0, 0, 1, 0, 0, 0, 0, 0, 0, 0], [0, 0, 0, 0, 0, 0, 0, 0, 0, 0, 0, 1, 0, 0, 0, 0, 0, 0, 0, 0], [0, 0, 0, 0, 0, 0, 0, 0, 0, 0, 1, 0, 0, 0, 0, 0, 0, 0, 0, 0], [0, 0, 0, 0, 0, 0, 0, 0, 0, 1, 0, 0, 0, 0, 0, 0, 0, 0, 0, 0], [0, 0, 0, 0, 0, 0, 0, 0, 1, 0, 0, 0, 0, 0, 0, 0, 0, 0, 0, 0], [0, 0, 0, 0, 0, 0, 0, 1, 0, 0, 0, 0, 0, 0, 0, 0, 0, 0, 0, 0], [0, 0, 0, 0, 0, 0, 1, 0, 0, 0, 0, 0, 0, 0, 0, 0, 0, 0, 0, 0], [0, 0, 0, 0, 0, 1, 0, 0, 0, 0, 0, 0, 0, 0, 0, 0, 0, 0, 0, 0], [0, 0, 0, 0, 1, 0, 0, 0, 0, 0, 0, 0, 0, 0, 0, 0, 0, 0, 0, 0], [0, 0, 0, 1, 0, 0, 0, 0, 0, 0, 0, 0, 0, 0, 0, 0, 0, 0, 0, 0], [0, 0, 1, 0, 0, 0, 0, 0, 0, 0, 0, 0, 0, 0, 0, 0, 0, 0, 0, 0], [0, 1, 0, 0, 0, 0, 0, 0, 0, 0, 0, 0, 0, 0, 0, 0, 0, 0, 0, 0]]\n",
      "[2, 3, 4, 5, 6, 7, 8, 9, 10, 11, 12, 13, 14, 15, 16, 17, 18]\n",
      "43\n"
     ]
    },
    {
     "name": "stderr",
     "output_type": "stream",
     "text": [
      "321it [00:00, 1586.88it/s]"
     ]
    },
    {
     "name": "stdout",
     "output_type": "stream",
     "text": [
      "Parsed ../kickoff-detection-data/da82a1ce-2e4c-4337-8ba8-3f2525399e31.1.kickoff.rdb in 1.23 s.\n",
      "Contains keys: dict_keys(['right', 'left'])\n",
      "[right] start_ts: 1525620358583 | stop_ts: 1525620655463\n",
      "[left] start_ts: 1525620358621 | stop_ts: 1525620655501\n",
      "../kickoff-detection-data/da82a1ce-2e4c-4337-8ba8-3f2525399e31.json\n",
      "[{'kickoff_team_id': 14, 'type': 'start_phase', 'phase': 1, 'ts': '2018-05-06T15:30:55.282Z'}, {'type': 'end_phase', 'phase': 1, 'ts': '2018-05-06T16:16:55.775Z'}, {'kickoff_team_id': 5, 'type': 'start_phase', 'phase': 2, 'ts': '2018-05-06T16:31:59.785Z'}, {'type': 'end_phase', 'phase': 2, 'ts': '2018-05-06T17:19:59.649Z'}]\n",
      "1525620655282\n"
     ]
    },
    {
     "name": "stderr",
     "output_type": "stream",
     "text": [
      "7422it [00:03, 2058.32it/s]\n"
     ]
    },
    {
     "name": "stdout",
     "output_type": "stream",
     "text": [
      "0 0\n",
      "[]\n",
      "[]\n"
     ]
    },
    {
     "name": "stderr",
     "output_type": "stream",
     "text": [
      "1029it [00:00, 5307.25it/s]"
     ]
    },
    {
     "name": "stdout",
     "output_type": "stream",
     "text": [
      "Parsed ../kickoff-detection-data/1e67ff07-1ca6-4778-a91e-024007e66974.1.kickoff.rdb in 0.64 s.\n",
      "Contains keys: dict_keys(['right', 'left'])\n",
      "[right] start_ts: 1527180903146 | stop_ts: 1527181202866\n",
      "[left] start_ts: 1527180903130 | stop_ts: 1527181202890\n",
      "../kickoff-detection-data/1e67ff07-1ca6-4778-a91e-024007e66974.json\n",
      "[{'kickoff_team_id': 16, 'type': 'start_phase', 'phase': 1, 'ts': '2018-05-24T17:00:02.098Z'}, {'type': 'end_phase', 'phase': 1, 'ts': '2018-05-24T17:47:03.722Z'}, {'kickoff_team_id': 7, 'type': 'start_phase', 'phase': 2, 'ts': '2018-05-24T18:03:06.263Z'}, {'type': 'end_phase', 'phase': 2, 'ts': '2018-05-24T18:51:18.432Z'}]\n",
      "1527181202098\n"
     ]
    },
    {
     "name": "stderr",
     "output_type": "stream",
     "text": [
      "7494it [00:02, 3050.55it/s]\n"
     ]
    },
    {
     "name": "stdout",
     "output_type": "stream",
     "text": [
      "0 0\n",
      "[]\n",
      "[]\n"
     ]
    },
    {
     "name": "stderr",
     "output_type": "stream",
     "text": [
      "519it [00:00, 2606.88it/s]"
     ]
    },
    {
     "name": "stdout",
     "output_type": "stream",
     "text": [
      "Parsed ../kickoff-detection-data/19bebd81-3b61-492b-85ed-74ff887cbc45.2.kickoff.rdb in 1.71 s.\n",
      "Contains keys: dict_keys(['right', 'left'])\n",
      "[right] start_ts: 1522591235411 | stop_ts: 1522591831931\n",
      "[left] start_ts: 1522591235535 | stop_ts: 1522591832015\n",
      "../kickoff-detection-data/19bebd81-3b61-492b-85ed-74ff887cbc45.json\n",
      "[{'kickoff_team_id': 1, 'type': 'start_phase', 'phase': 1, 'ts': '2018-04-01T13:01:09.709Z'}, {'type': 'end_phase', 'phase': 1, 'ts': '2018-04-01T13:47:53.692Z'}, {'kickoff_team_id': 2, 'type': 'start_phase', 'phase': 2, 'ts': '2018-04-01T14:05:32.177Z'}, {'type': 'end_phase', 'phase': 2, 'ts': '2018-04-01T14:53:51.954Z'}]\n",
      "1522591532177\n"
     ]
    },
    {
     "name": "stderr",
     "output_type": "stream",
     "text": [
      "14913it [00:06, 2319.13it/s]\n"
     ]
    },
    {
     "name": "stdout",
     "output_type": "stream",
     "text": [
      "574 574\n",
      "278\n",
      "16\n",
      "16 16\n",
      "[[0, 0, 0, 0, 0, 0, 0, 0, 0, 0, 0, 0, 0, 0, 0, 0, 0, 1, 0, 0], [0, 0, 0, 0, 0, 0, 0, 0, 0, 0, 0, 0, 0, 0, 0, 0, 1, 0, 0, 0], [0, 0, 0, 0, 0, 0, 0, 0, 0, 0, 0, 0, 0, 0, 0, 1, 0, 0, 0, 0], [0, 0, 0, 0, 0, 0, 0, 0, 0, 0, 0, 0, 0, 0, 1, 0, 0, 0, 0, 0], [0, 0, 0, 0, 0, 0, 0, 0, 0, 0, 0, 0, 0, 1, 0, 0, 0, 0, 0, 0], [0, 0, 0, 0, 0, 0, 0, 0, 0, 0, 0, 0, 1, 0, 0, 0, 0, 0, 0, 0], [0, 0, 0, 0, 0, 0, 0, 0, 0, 0, 0, 1, 0, 0, 0, 0, 0, 0, 0, 0], [0, 0, 0, 0, 0, 0, 0, 0, 0, 0, 1, 0, 0, 0, 0, 0, 0, 0, 0, 0], [0, 0, 0, 0, 0, 0, 0, 0, 0, 1, 0, 0, 0, 0, 0, 0, 0, 0, 0, 0], [0, 0, 0, 0, 0, 0, 0, 0, 1, 0, 0, 0, 0, 0, 0, 0, 0, 0, 0, 0], [0, 0, 0, 0, 0, 0, 0, 1, 0, 0, 0, 0, 0, 0, 0, 0, 0, 0, 0, 0], [0, 0, 0, 0, 0, 0, 1, 0, 0, 0, 0, 0, 0, 0, 0, 0, 0, 0, 0, 0], [0, 0, 0, 0, 0, 1, 0, 0, 0, 0, 0, 0, 0, 0, 0, 0, 0, 0, 0, 0], [0, 0, 0, 0, 1, 0, 0, 0, 0, 0, 0, 0, 0, 0, 0, 0, 0, 0, 0, 0], [0, 0, 0, 1, 0, 0, 0, 0, 0, 0, 0, 0, 0, 0, 0, 0, 0, 0, 0, 0], [0, 0, 1, 0, 0, 0, 0, 0, 0, 0, 0, 0, 0, 0, 0, 0, 0, 0, 0, 0]]\n",
      "[2, 3, 4, 5, 6, 7, 8, 9, 10, 11, 12, 13, 14, 15, 16, 17]\n",
      "44\n"
     ]
    },
    {
     "name": "stderr",
     "output_type": "stream",
     "text": [
      "365it [00:00, 3649.46it/s]"
     ]
    },
    {
     "name": "stdout",
     "output_type": "stream",
     "text": [
      "Parsed ../kickoff-detection-data/d1a98e08-0f21-46fe-8457-01ff183ddbeb.2.kickoff.rdb in 0.73 s.\n",
      "Contains keys: dict_keys(['right', 'left'])\n",
      "[right] start_ts: 1526579945259 | stop_ts: 1526580242099\n",
      "[left] start_ts: 1526579945405 | stop_ts: 1526580242165\n",
      "../kickoff-detection-data/d1a98e08-0f21-46fe-8457-01ff183ddbeb.json\n",
      "[{'kickoff_team_id': 12, 'type': 'start_phase', 'phase': 1, 'ts': '2018-05-17T17:00:02.362Z'}, {'type': 'end_phase', 'phase': 1, 'ts': '2018-05-17T17:47:07.092Z'}, {'kickoff_team_id': 11, 'type': 'start_phase', 'phase': 2, 'ts': '2018-05-17T18:04:02.891Z'}, {'type': 'end_phase', 'phase': 2, 'ts': '2018-05-17T18:52:06.565Z'}]\n",
      "1526580242891\n"
     ]
    },
    {
     "name": "stderr",
     "output_type": "stream",
     "text": [
      "7421it [00:02, 2759.76it/s]\n"
     ]
    },
    {
     "name": "stdout",
     "output_type": "stream",
     "text": [
      "0 0\n",
      "[]\n",
      "[]\n"
     ]
    },
    {
     "name": "stderr",
     "output_type": "stream",
     "text": [
      "309it [00:00, 3083.82it/s]"
     ]
    },
    {
     "name": "stdout",
     "output_type": "stream",
     "text": [
      "Parsed ../kickoff-detection-data/a881fc70-93e4-43d9-b0c5-036f72eaa980.2.kickoff.rdb in 0.83 s.\n",
      "Contains keys: dict_keys(['right', 'left'])\n",
      "[right] start_ts: 1527098146008 | stop_ts: 1527098442848\n",
      "[left] start_ts: 1527098145982 | stop_ts: 1527098442822\n",
      "../kickoff-detection-data/a881fc70-93e4-43d9-b0c5-036f72eaa980.json\n",
      "[{'kickoff_team_id': 1, 'type': 'start_phase', 'phase': 1, 'ts': '2018-05-23T17:00:00.452Z'}, {'type': 'end_phase', 'phase': 1, 'ts': '2018-05-23T17:45:22.894Z'}, {'kickoff_team_id': 13, 'type': 'start_phase', 'phase': 2, 'ts': '2018-05-23T18:00:42.106Z'}, {'type': 'end_phase', 'phase': 2, 'ts': '2018-05-23T18:48:45.517Z'}]\n",
      "1527098442106\n"
     ]
    },
    {
     "name": "stderr",
     "output_type": "stream",
     "text": [
      "7421it [00:03, 2208.09it/s]\n"
     ]
    },
    {
     "name": "stdout",
     "output_type": "stream",
     "text": [
      "0 0\n",
      "[]\n",
      "[]\n"
     ]
    },
    {
     "name": "stderr",
     "output_type": "stream",
     "text": [
      "555it [00:00, 2795.80it/s]"
     ]
    },
    {
     "name": "stdout",
     "output_type": "stream",
     "text": [
      "Parsed ../kickoff-detection-data/3c7f617c-c839-4e5a-9e80-52017fa85d93.2.kickoff.rdb in 1.74 s.\n",
      "Contains keys: dict_keys(['right', 'left'])\n",
      "[right] start_ts: 1525010224933 | stop_ts: 1525010823773\n",
      "[left] start_ts: 1525010224949 | stop_ts: 1525010823789\n",
      "../kickoff-detection-data/3c7f617c-c839-4e5a-9e80-52017fa85d93.json\n",
      "[{'kickoff_team_id': 3, 'type': 'start_phase', 'phase': 1, 'ts': '2018-04-29T13:00:15.350Z'}, {'type': 'end_phase', 'phase': 1, 'ts': '2018-04-29T13:46:17.178Z'}, {'kickoff_team_id': 7, 'type': 'start_phase', 'phase': 2, 'ts': '2018-04-29T14:02:03.347Z'}, {'type': 'end_phase', 'phase': 2, 'ts': '2018-04-29T14:51:28.061Z'}]\n",
      "1525010523347\n"
     ]
    },
    {
     "name": "stderr",
     "output_type": "stream",
     "text": [
      "14973it [00:06, 2370.19it/s]\n"
     ]
    },
    {
     "name": "stdout",
     "output_type": "stream",
     "text": [
      "577 577\n",
      "280\n",
      "16\n",
      "16 16\n",
      "[[0, 0, 0, 0, 0, 0, 0, 0, 0, 0, 0, 0, 0, 0, 0, 0, 0, 1, 0, 0], [0, 0, 0, 0, 0, 0, 0, 0, 0, 0, 0, 0, 0, 0, 0, 0, 1, 0, 0, 0], [0, 0, 0, 0, 0, 0, 0, 0, 0, 0, 0, 0, 0, 0, 0, 1, 0, 0, 0, 0], [0, 0, 0, 0, 0, 0, 0, 0, 0, 0, 0, 0, 0, 0, 1, 0, 0, 0, 0, 0], [0, 0, 0, 0, 0, 0, 0, 0, 0, 0, 0, 0, 0, 1, 0, 0, 0, 0, 0, 0], [0, 0, 0, 0, 0, 0, 0, 0, 0, 0, 0, 0, 1, 0, 0, 0, 0, 0, 0, 0], [0, 0, 0, 0, 0, 0, 0, 0, 0, 0, 0, 1, 0, 0, 0, 0, 0, 0, 0, 0], [0, 0, 0, 0, 0, 0, 0, 0, 0, 0, 1, 0, 0, 0, 0, 0, 0, 0, 0, 0], [0, 0, 0, 0, 0, 0, 0, 0, 0, 1, 0, 0, 0, 0, 0, 0, 0, 0, 0, 0], [0, 0, 0, 0, 0, 0, 0, 0, 1, 0, 0, 0, 0, 0, 0, 0, 0, 0, 0, 0], [0, 0, 0, 0, 0, 0, 0, 1, 0, 0, 0, 0, 0, 0, 0, 0, 0, 0, 0, 0], [0, 0, 0, 0, 0, 0, 1, 0, 0, 0, 0, 0, 0, 0, 0, 0, 0, 0, 0, 0], [0, 0, 0, 0, 0, 1, 0, 0, 0, 0, 0, 0, 0, 0, 0, 0, 0, 0, 0, 0], [0, 0, 0, 0, 1, 0, 0, 0, 0, 0, 0, 0, 0, 0, 0, 0, 0, 0, 0, 0], [0, 0, 0, 1, 0, 0, 0, 0, 0, 0, 0, 0, 0, 0, 0, 0, 0, 0, 0, 0], [0, 0, 1, 0, 0, 0, 0, 0, 0, 0, 0, 0, 0, 0, 0, 0, 0, 0, 0, 0]]\n",
      "[2, 3, 4, 5, 6, 7, 8, 9, 10, 11, 12, 13, 14, 15, 16, 17]\n",
      "45\n",
      "Parsed ../kickoff-detection-data/03d0ac1b-8adb-457d-9519-b6c879a92df3.1.kickoff.rdb in 0.00 s.\n",
      "Contains keys: dict_keys([])\n",
      "../kickoff-detection-data/03d0ac1b-8adb-457d-9519-b6c879a92df3.json\n",
      "[{'kickoff_team_id': 10, 'type': 'start_phase', 'phase': 1, 'ts': '2018-05-20T13:10:06.054Z'}, {'type': 'end_phase', 'phase': 1, 'ts': '2018-05-20T13:55:08.940Z'}, {'kickoff_team_id': 2, 'type': 'start_phase', 'phase': 2, 'ts': '2018-05-20T14:12:33.841Z'}, {'type': 'end_phase', 'phase': 2, 'ts': '2018-05-20T15:02:18.183Z'}]\n",
      "1526821806054\n"
     ]
    },
    {
     "ename": "KeyError",
     "evalue": "'left'",
     "output_type": "error",
     "traceback": [
      "\u001b[0;31m---------------------------------------------------------------------------\u001b[0m",
      "\u001b[0;31mKeyError\u001b[0m                                  Traceback (most recent call last)",
      "\u001b[0;32m<ipython-input-64-61ba459d4e54>\u001b[0m in \u001b[0;36m<module>\u001b[0;34m()\u001b[0m\n\u001b[0;32m----> 1\u001b[0;31m \u001b[0mcreate_dataset\u001b[0m\u001b[0;34m(\u001b[0m\u001b[0;34m'../kickoff-detection-data/data.pickle.1.10.acc.regression'\u001b[0m\u001b[0;34m,\u001b[0m\u001b[0;36m10\u001b[0m\u001b[0;34m,\u001b[0m\u001b[0;34m\"regression\"\u001b[0m\u001b[0;34m)\u001b[0m\u001b[0;34m\u001b[0m\u001b[0m\n\u001b[0m",
      "\u001b[0;32m<ipython-input-63-945c819573c2>\u001b[0m in \u001b[0;36mcreate_dataset\u001b[0;34m(file_name, reduc_size, problem)\u001b[0m\n\u001b[1;32m     19\u001b[0m         \u001b[0mdetections\u001b[0m \u001b[0;34m=\u001b[0m \u001b[0;34m{\u001b[0m\u001b[0;34m'ball'\u001b[0m\u001b[0;34m:\u001b[0m\u001b[0;34m{\u001b[0m\u001b[0;34m'left'\u001b[0m\u001b[0;34m:\u001b[0m\u001b[0;34m{\u001b[0m\u001b[0;34m}\u001b[0m\u001b[0;34m,\u001b[0m \u001b[0;34m'right'\u001b[0m\u001b[0;34m:\u001b[0m\u001b[0;34m{\u001b[0m\u001b[0;34m}\u001b[0m\u001b[0;34m}\u001b[0m\u001b[0;34m,\u001b[0m \u001b[0;34m'players'\u001b[0m\u001b[0;34m:\u001b[0m\u001b[0;34m{\u001b[0m\u001b[0;34m'left'\u001b[0m\u001b[0;34m:\u001b[0m\u001b[0;34m{\u001b[0m\u001b[0;34m}\u001b[0m\u001b[0;34m,\u001b[0m \u001b[0;34m'right'\u001b[0m\u001b[0;34m:\u001b[0m\u001b[0;34m{\u001b[0m\u001b[0;34m}\u001b[0m\u001b[0;34m}\u001b[0m\u001b[0;34m}\u001b[0m\u001b[0;34m\u001b[0m\u001b[0m\n\u001b[1;32m     20\u001b[0m         \u001b[0mtimestamps\u001b[0m \u001b[0;34m=\u001b[0m \u001b[0mset\u001b[0m\u001b[0;34m(\u001b[0m\u001b[0;34m)\u001b[0m\u001b[0;34m\u001b[0m\u001b[0m\n\u001b[0;32m---> 21\u001b[0;31m         \u001b[0;32mfor\u001b[0m \u001b[0;34m(\u001b[0m\u001b[0mfd_left\u001b[0m\u001b[0;34m,\u001b[0m \u001b[0mts_left\u001b[0m\u001b[0;34m)\u001b[0m\u001b[0;34m,\u001b[0m \u001b[0;34m(\u001b[0m\u001b[0mfd_right\u001b[0m\u001b[0;34m,\u001b[0m \u001b[0mts_right\u001b[0m\u001b[0;34m)\u001b[0m \u001b[0;32min\u001b[0m \u001b[0mtqdm\u001b[0m\u001b[0;34m(\u001b[0m\u001b[0mzip\u001b[0m\u001b[0;34m(\u001b[0m\u001b[0mtracks\u001b[0m\u001b[0;34m[\u001b[0m\u001b[0;34m'left'\u001b[0m\u001b[0;34m]\u001b[0m\u001b[0;34m,\u001b[0m \u001b[0mtracks\u001b[0m\u001b[0;34m[\u001b[0m\u001b[0;34m'right'\u001b[0m\u001b[0;34m]\u001b[0m\u001b[0;34m)\u001b[0m\u001b[0;34m)\u001b[0m\u001b[0;34m:\u001b[0m\u001b[0;34m\u001b[0m\u001b[0m\n\u001b[0m\u001b[1;32m     22\u001b[0m             \u001b[0mfd_left\u001b[0m \u001b[0;34m=\u001b[0m \u001b[0mpickle\u001b[0m\u001b[0;34m.\u001b[0m\u001b[0mloads\u001b[0m\u001b[0;34m(\u001b[0m\u001b[0mfd_left\u001b[0m\u001b[0;34m)\u001b[0m\u001b[0;34m\u001b[0m\u001b[0m\n\u001b[1;32m     23\u001b[0m             \u001b[0mfd_right\u001b[0m \u001b[0;34m=\u001b[0m \u001b[0mpickle\u001b[0m\u001b[0;34m.\u001b[0m\u001b[0mloads\u001b[0m\u001b[0;34m(\u001b[0m\u001b[0mfd_right\u001b[0m\u001b[0;34m)\u001b[0m\u001b[0;34m\u001b[0m\u001b[0m\n",
      "\u001b[0;31mKeyError\u001b[0m: 'left'"
     ]
    }
   ],
   "source": [
    "create_dataset('../kickoff-data-corrected/data.pickle.1.10.acc.regression',10,\"regression\")"
   ]
  },
  {
   "cell_type": "code",
   "execution_count": 156,
   "metadata": {},
   "outputs": [],
   "source": [
    "import random\n",
    "\n",
    "def shuffle_data(X,Y):\n",
    "    shuffle_list=list()\n",
    "    shuffle_X=list()\n",
    "    shuffle_Y=list()\n",
    "    for i in range(len(Y)):\n",
    "        shuffle_list.append([X[i],Y[i]])\n",
    "    random.shuffle(shuffle_list)\n",
    "    for i in range(len(Y)):\n",
    "        shuffle_X.append(shuffle_list[i][0])\n",
    "        shuffle_Y.append(shuffle_list[i][1])\n",
    "    return shuffle_X,shuffle_Y\n",
    "\n",
    "def sequence_kickoff_time(Y):\n",
    "    kickoff_match_i=list()\n",
    "    kickoff_periods=list()\n",
    "    for i in range(len(Y)):\n",
    "        if Y[i]==-1 and len(kickoff_match_i)>0:\n",
    "            kickoff_periods.append(kickoff_match_i)\n",
    "            kickoff_match_i=list()\n",
    "        if Y[i]==1:\n",
    "            kickoff_match_i.append(i)\n",
    "    if len(kickoff_match_i)>0:\n",
    "        kickoff_periods.append(kickoff_match_i)\n",
    "    return kickoff_periods\n",
    "\n"
   ]
  },
  {
   "cell_type": "code",
   "execution_count": 157,
   "metadata": {},
   "outputs": [],
   "source": [
    "import sklearn\n",
    "def Roc_curves(clf,x_test,y_test,name_classifier,nbre_matches):    \n",
    "    %matplotlib inline\n",
    "    predict = clf.predict_proba(x_test)\n",
    "    fpr, tpr, thresholds= sklearn.metrics.roc_curve(y_test,predict[:, 1])\n",
    "    auc = sklearn.metrics.auc(fpr,tpr)\n",
    "    plt.plot(fpr, tpr, label=\"{1} classifier: area({0})\".format(auc,name_classifier))\n",
    "    plt.xlabel(\"False Positive rate\")\n",
    "    plt.ylabel(\"True Positive rate\")\n",
    "    plt.title(\"Receiver operating characteristic\")\n",
    "    plt.legend(bbox_to_anchor=(1.05, 1), loc=2, borderaxespad=0.)\n",
    "    plt.xlim([0,1])\n",
    "    plt.ylim([0,1])\n",
    "    plt.show()\n",
    "    "
   ]
  },
  {
   "cell_type": "code",
   "execution_count": 200,
   "metadata": {},
   "outputs": [],
   "source": [
    "from sklearn.ensemble import AdaBoostClassifier, GradientBoostingClassifier, RandomForestClassifier\n",
    "from sklearn.svm import SVC, LinearSVC\n",
    "from sklearn.neighbors import NearestNeighbors\n",
    "from sklearn.tree import DecisionTreeClassifier\n",
    "import datetime\n",
    "def cross_validation(X,Y,name_classifier,percentage_train,nbre_matches,indices,type_cross,roc_curve):\n",
    "    score_test=0\n",
    "    score_train=0\n",
    "    start=datetime.datetime.now()\n",
    "    for i in range(nbre_matches):\n",
    "        start_i=datetime.datetime.now()\n",
    "        #Create training and test datasets\n",
    "        x_train1=X[indices[i]:indices[min(i+int(nbre_matches*percentage_train),nbre_matches)]]+X[:indices[max(0,i+int(nbre_matches*percentage_train)-nbre_matches)]]\n",
    "        y_train1=Y[indices[i]:indices[min(i+int(nbre_matches*percentage_train),nbre_matches)]]+Y[:indices[max(0,i+int(nbre_matches*percentage_train)-nbre_matches)]]\n",
    "        x_test1=X[indices[min(i+int(nbre_matches*percentage_train),nbre_matches)]:]+X[indices[max(0,i+int(nbre_matches*percentage_train)-nbre_matches)]:indices[i]]\n",
    "        y_test1=Y[indices[min(i+int(nbre_matches*percentage_train),nbre_matches)]:]+Y[indices[max(0,i+int(nbre_matches*percentage_train)-nbre_matches)]:indices[i]]\n",
    "        \n",
    "        #Cross_validation kickoff\n",
    "        if type_cross==\"kickoff\":\n",
    "            kickoff_indices=sequence_kickoff_time(y_test1)\n",
    "            x_test2=list()\n",
    "            y_test2=list()\n",
    "            for j in range(len(kickoff_indices)):\n",
    "                y_test2=y_test2+y_test1[kickoff_indices[j][0]:kickoff_indices[j][-1]+1]\n",
    "                x_test2=x_test2+x_test1[kickoff_indices[j][0]:kickoff_indices[j][-1]+1]\n",
    "            y_test=y_test2\n",
    "            x_test=x_test2\n",
    "        \n",
    "        if type_cross==\"no kickoff\":\n",
    "            kickoff_indices=sequence_kickoff_time(y_test1)\n",
    "            x_test2=list()\n",
    "            y_test2=list()\n",
    "            for j in range(len(kickoff_indices)):\n",
    "                if j==0:\n",
    "                    y_test2=y_test1[:kickoff_indices[j][0]]\n",
    "                    x_test2=x_test1[:kickoff_indices[j][0]]\n",
    "                if j>0:\n",
    "                    y_test2=y_test2+y_test1[kickoff_indices[j-1][-1]+1:kickoff_indices[j][0]]\n",
    "                    x_test2=x_test2+x_test1[kickoff_indices[j-1][-1]+1:kickoff_indices[j][0]]\n",
    "                if j==len(kickoff_indices)-1:\n",
    "                    y_test2=y_test2+y_test1[kickoff_indices[j][-1]+1:]\n",
    "                    x_test2=x_test2+x_test1[kickoff_indices[j][-1]+1:]\n",
    "            y_test=y_test2\n",
    "            x_test=x_test2\n",
    "            \n",
    "        #Shuffle data\n",
    "        x_train,y_train=shuffle_data(x_train1,y_train1)\n",
    "        x_test,y_test=shuffle_data(x_test1,y_test1)\n",
    "        \n",
    "        #Training classifier\n",
    "        if name_classifier=='adaboost':\n",
    "            clf=AdaBoostClassifier()\n",
    "            clf.fit(x_train,y_train)\n",
    "        if name_classifier=='gradaboost':\n",
    "            clf=GradientBoostingClassifier()\n",
    "            clf.fit(x_train,y_train)\n",
    "        if name_classifier=='svm':\n",
    "            clf=SVC()\n",
    "            clf.fit(x_train,y_train)\n",
    "        if name_classifier=='linear_svm':\n",
    "            clf=LinearSVC()\n",
    "            clf.fit(x_train,y_train)\n",
    "        if name_classifier=='knn':\n",
    "            clf=NearestNeighbors()\n",
    "            clf.fit(x_train,y_train)\n",
    "        if name_classifier=='tree':\n",
    "            clf=DecisionTreeClassifier()\n",
    "            clf.fit(x_train,y_train)\n",
    "        if name_classifier=='forest':\n",
    "            clf=RandomForestClassifier(n_estimators=3,max_depth=10)\n",
    "            clf.fit(x_train,y_train)\n",
    "        end_i=datetime.datetime.now()\n",
    "        #Test\n",
    "        #print(clf.predict(x_test)*np.array(y_test))\n",
    "        if roc_curve==\"\":\n",
    "            score_test+=clf.score(x_test,y_test)\n",
    "            score_train+=clf.score(x_train,y_train)\n",
    "            print(\"Score for training for iteration {0} is {1}\".format(i,clf.score(x_train,y_train)))\n",
    "            print(\"Score for testing for iteration {0} is {1}\".format(i,clf.score(x_test,y_test)))\n",
    "            print(\"Training time: {0}\".format(end_i-start_i))\n",
    "            print(\"\\n\")\n",
    "        \n",
    "        #Roc_curves\n",
    "        if roc_curve==\"roc\":\n",
    "            print(\"Roc curve for testing for iteration {0}\".format(i))\n",
    "            Roc_curves(clf,x_test,y_test,name_classifier,nbre_matches)\n",
    "            print(\"Roc curve for training for iteration {0}\".format(i))\n",
    "            Roc_curves(clf,x_train,y_train,name_classifier,nbre_matches)\n",
    "            print(\"Training time: {0}\".format(end_i-start_i))\n",
    "            print(\"\\n\")\n",
    "    \n",
    "    end=datetime.datetime.now()\n",
    "    if roc_curve==\"\":\n",
    "        print(\"Final Score train: {0}\".format(score_train/nbre_matches))\n",
    "        print(\"Final Score test: {0}\".format(score_test/nbre_matches))\n",
    "    print(\"Cross validation time: {0}\".format(end-start))\n",
    "        \n",
    "        \n",
    "        \n",
    "def Classification(dataset,percentage_train,name_classifier,nbre_matches,type_cross=\"\",roc_curve=\"\"):\n",
    "    #Create inputs\n",
    "    X=list()\n",
    "    Y=list()\n",
    "    indices=[0]\n",
    "    with open(dataset, 'rb') as f:\n",
    "        for i in range(nbre_matches):\n",
    "            data = pickle.load(f)\n",
    "            X=X+data[0]\n",
    "            Y=Y+data[1]\n",
    "            indices.append(len(Y))\n",
    "    cross_validation(X,Y,name_classifier,percentage_train,nbre_matches,indices,type_cross,roc_curve)\n",
    "\n",
    "    \n",
    "\n"
   ]
  },
  {
   "cell_type": "code",
   "execution_count": 201,
   "metadata": {},
   "outputs": [
    {
     "name": "stdout",
     "output_type": "stream",
     "text": [
      "Score for training for iteration 0 is 0.9816390506045678\n",
      "Score for testing for iteration 0 is 0.8450704225352113\n",
      "Training time: 0:00:00.454994\n",
      "\n",
      "\n",
      "Score for training for iteration 1 is 0.9735663082437276\n",
      "Score for testing for iteration 1 is 0.9583333333333334\n",
      "Training time: 0:00:00.448120\n",
      "\n",
      "\n",
      "Score for training for iteration 2 is 0.9811827956989247\n",
      "Score for testing for iteration 2 is 0.9166666666666666\n",
      "Training time: 0:00:00.452277\n",
      "\n",
      "\n",
      "Score for training for iteration 3 is 0.9767129422301836\n",
      "Score for testing for iteration 3 is 0.8873239436619719\n",
      "Training time: 0:00:00.464014\n",
      "\n",
      "\n",
      "Score for training for iteration 4 is 0.9802867383512545\n",
      "Score for testing for iteration 4 is 0.8888888888888888\n",
      "Training time: 0:00:00.456380\n",
      "\n",
      "\n",
      "Score for training for iteration 5 is 0.9798296727924698\n",
      "Score for testing for iteration 5 is 0.9863013698630136\n",
      "Training time: 0:00:00.454295\n",
      "\n",
      "\n",
      "Score for training for iteration 6 is 0.9771402958314657\n",
      "Score for testing for iteration 6 is 0.9315068493150684\n",
      "Training time: 0:00:00.448831\n",
      "\n",
      "\n",
      "Score for training for iteration 7 is 0.9704433497536946\n",
      "Score for testing for iteration 7 is 0.8309859154929577\n",
      "Training time: 0:00:00.452876\n",
      "\n",
      "\n",
      "Score for training for iteration 8 is 0.9731182795698925\n",
      "Score for testing for iteration 8 is 0.8194444444444444\n",
      "Training time: 0:00:00.473761\n",
      "\n",
      "\n",
      "Score for training for iteration 9 is 0.9757956073509637\n",
      "Score for testing for iteration 9 is 0.9315068493150684\n",
      "Training time: 0:00:00.453711\n",
      "\n",
      "\n",
      "Score for training for iteration 10 is 0.9762651141961487\n",
      "Score for testing for iteration 10 is 0.8169014084507042\n",
      "Training time: 0:00:00.462780\n",
      "\n",
      "\n",
      "Score for training for iteration 11 is 0.9816390506045678\n",
      "Score for testing for iteration 11 is 0.7746478873239436\n",
      "Training time: 0:00:00.462965\n",
      "\n",
      "\n",
      "Score for training for iteration 12 is 0.9744623655913979\n",
      "Score for testing for iteration 12 is 0.9305555555555556\n",
      "Training time: 0:00:00.466005\n",
      "\n",
      "\n",
      "Score for training for iteration 13 is 0.9690860215053764\n",
      "Score for testing for iteration 13 is 0.8472222222222222\n",
      "Training time: 0:00:00.450671\n",
      "\n",
      "\n",
      "Score for training for iteration 14 is 0.9695340501792115\n",
      "Score for testing for iteration 14 is 0.75\n",
      "Training time: 0:00:00.461466\n",
      "\n",
      "\n",
      "Score for training for iteration 15 is 0.9771607702642185\n",
      "Score for testing for iteration 15 is 0.9859154929577465\n",
      "Training time: 0:00:00.471029\n",
      "\n",
      "\n",
      "Score for training for iteration 16 is 0.9740143369175627\n",
      "Score for testing for iteration 16 is 0.8333333333333334\n",
      "Training time: 0:00:00.444030\n",
      "\n",
      "\n",
      "Score for training for iteration 17 is 0.9722346618898343\n",
      "Score for testing for iteration 17 is 0.9577464788732394\n",
      "Training time: 0:00:00.452115\n",
      "\n",
      "\n",
      "Score for training for iteration 18 is 0.9757956073509637\n",
      "Score for testing for iteration 18 is 0.7808219178082192\n",
      "Training time: 0:00:00.455583\n",
      "\n",
      "\n",
      "Score for training for iteration 19 is 0.9717741935483871\n",
      "Score for testing for iteration 19 is 0.9444444444444444\n",
      "Training time: 0:00:00.454760\n",
      "\n",
      "\n",
      "Score for training for iteration 20 is 0.9673085535154501\n",
      "Score for testing for iteration 20 is 0.9436619718309859\n",
      "Training time: 0:00:00.462701\n",
      "\n",
      "\n",
      "Score for training for iteration 21 is 0.9757956073509637\n",
      "Score for testing for iteration 21 is 0.7945205479452054\n",
      "Training time: 0:00:00.473636\n",
      "\n",
      "\n",
      "Score for training for iteration 22 is 0.9784849843119677\n",
      "Score for testing for iteration 22 is 0.9041095890410958\n",
      "Training time: 0:00:00.466402\n",
      "\n",
      "\n",
      "Score for training for iteration 23 is 0.9668458781362007\n",
      "Score for testing for iteration 23 is 0.9166666666666666\n",
      "Training time: 0:00:00.471406\n",
      "\n",
      "\n",
      "Score for training for iteration 24 is 0.967741935483871\n",
      "Score for testing for iteration 24 is 0.8055555555555556\n",
      "Training time: 0:00:00.462784\n",
      "\n",
      "\n",
      "Score for training for iteration 25 is 0.974002689376961\n",
      "Score for testing for iteration 25 is 0.8493150684931506\n",
      "Training time: 0:00:00.446841\n",
      "\n",
      "\n",
      "Score for training for iteration 26 is 0.9735663082437276\n",
      "Score for testing for iteration 26 is 0.9722222222222222\n",
      "Training time: 0:00:00.452802\n",
      "\n",
      "\n",
      "Score for training for iteration 27 is 0.975358422939068\n",
      "Score for testing for iteration 27 is 0.9722222222222222\n",
      "Training time: 0:00:00.452915\n",
      "\n",
      "\n",
      "Score for training for iteration 28 is 0.9708781362007168\n",
      "Score for testing for iteration 28 is 0.7638888888888888\n",
      "Training time: 0:00:00.457828\n",
      "\n",
      "\n",
      "Score for training for iteration 29 is 0.9686379928315412\n",
      "Score for testing for iteration 29 is 0.7777777777777778\n",
      "Training time: 0:00:00.459139\n",
      "\n",
      "\n",
      "Score for training for iteration 30 is 0.9677274764679515\n",
      "Score for testing for iteration 30 is 0.8904109589041096\n",
      "Training time: 0:00:00.461277\n",
      "\n",
      "\n",
      "Score for training for iteration 31 is 0.975358422939068\n",
      "Score for testing for iteration 31 is 0.8472222222222222\n",
      "Training time: 0:00:00.452704\n",
      "\n",
      "\n",
      "Final Score train: 0.9741683631335095\n",
      "Final Score test: 0.8767247223830041\n",
      "Cross validation time: 0:00:43.071621\n"
     ]
    }
   ],
   "source": [
    "Classification('../kickoff-data-corrected/data.pickle.1.10.classif',0.99,'forest',32,\"\")"
   ]
  },
  {
   "cell_type": "code",
   "execution_count": 164,
   "metadata": {},
   "outputs": [
    {
     "name": "stdout",
     "output_type": "stream",
     "text": [
      "Score for training for iteration 0 is 0.9921636917718764\n",
      "Score for testing for iteration 0 is 0.8028169014084507\n",
      "Training time: 0:00:01.432472\n",
      "\n",
      "\n",
      "Score for training for iteration 1 is 0.9939024390243902\n",
      "Score for testing for iteration 1 is 0.8055555555555556\n",
      "Training time: 0:00:01.481534\n",
      "\n",
      "\n",
      "Score for training for iteration 2 is 0.9917247386759582\n",
      "Score for testing for iteration 2 is 0.9583333333333334\n",
      "Training time: 0:00:01.438133\n",
      "\n",
      "\n",
      "Score for training for iteration 3 is 0.9943379790940766\n",
      "Score for testing for iteration 3 is 0.9444444444444444\n",
      "Training time: 0:00:01.508135\n",
      "\n",
      "\n",
      "Score for training for iteration 4 is 0.9947757945145842\n",
      "Score for testing for iteration 4 is 0.9014084507042254\n",
      "Training time: 0:00:01.452129\n",
      "\n",
      "\n",
      "Score for training for iteration 5 is 0.996078431372549\n",
      "Score for testing for iteration 5 is 0.9041095890410958\n",
      "Training time: 0:00:01.452771\n",
      "\n",
      "\n",
      "Score for training for iteration 6 is 0.9939050936003483\n",
      "Score for testing for iteration 6 is 0.9577464788732394\n",
      "Training time: 0:00:01.472867\n",
      "\n",
      "\n",
      "Score for training for iteration 7 is 0.9943404440574662\n",
      "Score for testing for iteration 7 is 0.8169014084507042\n",
      "Training time: 0:00:01.458742\n",
      "\n",
      "\n",
      "Score for training for iteration 8 is 0.9947735191637631\n",
      "Score for testing for iteration 8 is 0.7361111111111112\n",
      "Training time: 0:00:01.463339\n",
      "\n",
      "\n",
      "Score for training for iteration 9 is 0.992595818815331\n",
      "Score for testing for iteration 9 is 0.8611111111111112\n",
      "Training time: 0:00:01.476563\n",
      "\n",
      "\n",
      "Score for training for iteration 10 is 0.9904222899434044\n",
      "Score for testing for iteration 10 is 0.9014084507042254\n",
      "Training time: 0:00:01.458045\n",
      "\n",
      "\n",
      "Score for training for iteration 11 is 0.9921636917718764\n",
      "Score for testing for iteration 11 is 0.8450704225352113\n",
      "Training time: 0:00:01.426252\n",
      "\n",
      "\n",
      "Score for training for iteration 12 is 0.9943404440574662\n",
      "Score for testing for iteration 12 is 0.7746478873239436\n",
      "Training time: 0:00:01.446762\n",
      "\n",
      "\n",
      "Score for training for iteration 13 is 0.9939050936003483\n",
      "Score for testing for iteration 13 is 0.9014084507042254\n",
      "Training time: 0:00:01.443990\n",
      "\n",
      "\n",
      "Score for training for iteration 14 is 0.9943404440574662\n",
      "Score for testing for iteration 14 is 0.8309859154929577\n",
      "Training time: 0:00:01.454428\n",
      "\n",
      "\n",
      "Score for training for iteration 15 is 0.9908536585365854\n",
      "Score for testing for iteration 15 is 0.7777777777777778\n",
      "Training time: 0:00:01.478017\n",
      "\n",
      "\n",
      "Score for training for iteration 16 is 0.9939024390243902\n",
      "Score for testing for iteration 16 is 0.9583333333333334\n",
      "Training time: 0:00:01.447934\n",
      "\n",
      "\n",
      "Score for training for iteration 17 is 0.9912891986062717\n",
      "Score for testing for iteration 17 is 0.9166666666666666\n",
      "Training time: 0:00:01.457747\n",
      "\n",
      "\n",
      "Score for training for iteration 18 is 0.9947757945145842\n",
      "Score for testing for iteration 18 is 0.8873239436619719\n",
      "Training time: 0:00:01.436108\n",
      "\n",
      "\n",
      "Score for training for iteration 19 is 0.9917247386759582\n",
      "Score for testing for iteration 19 is 0.7638888888888888\n",
      "Training time: 0:00:01.480717\n",
      "\n",
      "\n",
      "Score for training for iteration 20 is 0.9943404440574662\n",
      "Score for testing for iteration 20 is 0.7746478873239436\n",
      "Training time: 0:00:01.466425\n",
      "\n",
      "\n",
      "Score for training for iteration 21 is 0.9925990422289943\n",
      "Score for testing for iteration 21 is 0.8732394366197183\n",
      "Training time: 0:00:01.491358\n",
      "\n",
      "\n",
      "Score for training for iteration 22 is 0.9930283224400871\n",
      "Score for testing for iteration 22 is 0.821917808219178\n",
      "Training time: 0:00:01.476202\n",
      "\n",
      "\n",
      "Score for training for iteration 23 is 0.9925925925925926\n",
      "Score for testing for iteration 23 is 0.7945205479452054\n",
      "Training time: 0:00:01.462332\n",
      "\n",
      "\n",
      "Score for training for iteration 24 is 0.9891114982578397\n",
      "Score for testing for iteration 24 is 0.9027777777777778\n",
      "Training time: 0:00:01.476806\n",
      "\n",
      "\n",
      "Score for training for iteration 25 is 0.9943379790940766\n",
      "Score for testing for iteration 25 is 0.9166666666666666\n",
      "Training time: 0:00:01.453141\n",
      "\n",
      "\n",
      "Score for training for iteration 26 is 0.9917211328976034\n",
      "Score for testing for iteration 26 is 0.958904109589041\n",
      "Training time: 0:00:01.519970\n",
      "\n",
      "\n",
      "Score for training for iteration 27 is 0.9939024390243902\n",
      "Score for testing for iteration 27 is 0.9027777777777778\n",
      "Training time: 0:00:01.485477\n",
      "\n",
      "\n",
      "Score for training for iteration 28 is 0.9939024390243902\n",
      "Score for testing for iteration 28 is 0.9027777777777778\n",
      "Training time: 0:00:01.453646\n",
      "\n",
      "\n",
      "Score for training for iteration 29 is 0.9908536585365854\n",
      "Score for testing for iteration 29 is 0.7916666666666666\n",
      "Training time: 0:00:01.464601\n",
      "\n",
      "\n",
      "Score for training for iteration 30 is 0.9934668989547039\n",
      "Score for testing for iteration 30 is 0.8194444444444444\n",
      "Training time: 0:00:01.470879\n",
      "\n",
      "\n",
      "Score for training for iteration 31 is 0.9917247386759582\n",
      "Score for testing for iteration 31 is 0.8055555555555556\n",
      "Training time: 0:00:01.468599\n",
      "\n",
      "\n",
      "Score for training for iteration 32 is 0.9943379790940766\n",
      "Score for testing for iteration 32 is 0.875\n",
      "Training time: 0:00:01.455245\n",
      "\n",
      "\n",
      "Final Score train: 0.993098027507802\n",
      "Final Score test: 0.8601801993177648\n",
      "Cross validation time: 0:02:20.963749\n"
     ]
    }
   ],
   "source": [
    "Classification('../kickoff-data-corrected/data.pickle.1.10.mov.classif',0.99,'forest',32,\"kickoff\")"
   ]
  },
  {
   "cell_type": "code",
   "execution_count": 199,
   "metadata": {},
   "outputs": [
    {
     "name": "stdout",
     "output_type": "stream",
     "text": [
      "Score for training for iteration 0 is 0.9887589928057554\n",
      "Score for testing for iteration 0 is 0.8591549295774648\n",
      "Training time: 0:00:00.920948\n",
      "\n",
      "\n",
      "Score for training for iteration 1 is 0.9833558254610886\n",
      "Score for testing for iteration 1 is 0.9027777777777778\n",
      "Training time: 0:00:00.968069\n",
      "\n",
      "\n",
      "Score for training for iteration 2 is 0.9793072424651372\n",
      "Score for testing for iteration 2 is 0.9027777777777778\n",
      "Training time: 0:00:00.919697\n",
      "\n",
      "\n",
      "Score for training for iteration 3 is 0.9802158273381295\n",
      "Score for testing for iteration 3 is 0.7746478873239436\n",
      "Training time: 0:00:00.905965\n",
      "\n",
      "\n",
      "Score for training for iteration 4 is 0.9820143884892086\n",
      "Score for testing for iteration 4 is 0.8873239436619719\n",
      "Training time: 0:00:00.928799\n",
      "\n",
      "\n",
      "Score for training for iteration 5 is 0.9842484248424842\n",
      "Score for testing for iteration 5 is 0.9726027397260274\n",
      "Training time: 0:00:00.930800\n",
      "\n",
      "\n",
      "Score for training for iteration 6 is 0.9815647482014388\n",
      "Score for testing for iteration 6 is 0.9295774647887324\n",
      "Training time: 0:00:00.936905\n",
      "\n",
      "\n",
      "Score for training for iteration 7 is 0.9829136690647482\n",
      "Score for testing for iteration 7 is 0.8450704225352113\n",
      "Training time: 0:00:00.928849\n",
      "\n",
      "\n",
      "Score for training for iteration 8 is 0.9820062977957715\n",
      "Score for testing for iteration 8 is 0.8472222222222222\n",
      "Training time: 0:00:00.926556\n",
      "\n",
      "\n",
      "Score for training for iteration 9 is 0.9860611510791367\n",
      "Score for testing for iteration 9 is 0.9436619718309859\n",
      "Training time: 0:00:00.919893\n",
      "\n",
      "\n",
      "Score for training for iteration 10 is 0.9806654676258992\n",
      "Score for testing for iteration 10 is 0.8732394366197183\n",
      "Training time: 0:00:00.939035\n",
      "\n",
      "\n",
      "Score for training for iteration 11 is 0.9824640287769785\n",
      "Score for testing for iteration 11 is 0.7746478873239436\n",
      "Training time: 0:00:00.910906\n",
      "\n",
      "\n",
      "Score for training for iteration 12 is 0.9734592892487629\n",
      "Score for testing for iteration 12 is 0.9166666666666666\n",
      "Training time: 0:00:00.888364\n",
      "\n",
      "\n",
      "Score for training for iteration 13 is 0.9847122302158273\n",
      "Score for testing for iteration 13 is 0.9154929577464789\n",
      "Training time: 0:00:00.905209\n",
      "\n",
      "\n",
      "Score for training for iteration 14 is 0.9788573999100315\n",
      "Score for testing for iteration 14 is 0.7777777777777778\n",
      "Training time: 0:00:00.918984\n",
      "\n",
      "\n",
      "Score for training for iteration 15 is 0.9766187050359713\n",
      "Score for testing for iteration 15 is 0.971830985915493\n",
      "Training time: 0:00:00.892672\n",
      "\n",
      "\n",
      "Score for training for iteration 16 is 0.9793072424651372\n",
      "Score for testing for iteration 16 is 0.9305555555555556\n",
      "Training time: 0:00:00.919259\n",
      "\n",
      "\n",
      "Score for training for iteration 17 is 0.9779676258992805\n",
      "Score for testing for iteration 17 is 0.9577464788732394\n",
      "Training time: 0:00:00.909575\n",
      "\n",
      "\n",
      "Score for training for iteration 18 is 0.9788573999100315\n",
      "Score for testing for iteration 18 is 0.875\n",
      "Training time: 0:00:00.932299\n",
      "\n",
      "\n",
      "Score for training for iteration 19 is 0.9838129496402878\n",
      "Score for testing for iteration 19 is 0.9014084507042254\n",
      "Training time: 0:00:00.904285\n",
      "\n",
      "\n",
      "Score for training for iteration 20 is 0.977068345323741\n",
      "Score for testing for iteration 20 is 0.9577464788732394\n",
      "Training time: 0:00:00.898776\n",
      "\n",
      "\n",
      "Score for training for iteration 21 is 0.9810981098109811\n",
      "Score for testing for iteration 21 is 0.8356164383561644\n",
      "Training time: 0:00:00.884589\n",
      "\n",
      "\n",
      "Score for training for iteration 22 is 0.9810981098109811\n",
      "Score for testing for iteration 22 is 0.821917808219178\n",
      "Training time: 0:00:00.899847\n",
      "\n",
      "\n",
      "Score for training for iteration 23 is 0.9820062977957715\n",
      "Score for testing for iteration 23 is 0.9166666666666666\n",
      "Training time: 0:00:00.937517\n",
      "\n",
      "\n",
      "Score for training for iteration 24 is 0.9847053531264057\n",
      "Score for testing for iteration 24 is 0.7777777777777778\n",
      "Training time: 0:00:00.924841\n",
      "\n",
      "\n",
      "Score for training for iteration 25 is 0.9783978397839784\n",
      "Score for testing for iteration 25 is 0.9452054794520548\n",
      "Training time: 0:00:00.910281\n",
      "\n",
      "\n",
      "Score for training for iteration 26 is 0.9838056680161943\n",
      "Score for testing for iteration 26 is 0.8611111111111112\n",
      "Training time: 0:00:00.897957\n",
      "\n",
      "\n",
      "Score for training for iteration 27 is 0.9779577147998201\n",
      "Score for testing for iteration 27 is 0.9166666666666666\n",
      "Training time: 0:00:00.932167\n",
      "\n",
      "\n",
      "Score for training for iteration 28 is 0.9815564552406658\n",
      "Score for testing for iteration 28 is 0.9166666666666666\n",
      "Training time: 0:00:00.900207\n",
      "\n",
      "\n",
      "Score for training for iteration 29 is 0.9770580296896086\n",
      "Score for testing for iteration 29 is 0.8055555555555556\n",
      "Training time: 0:00:00.904013\n",
      "\n",
      "\n",
      "Score for training for iteration 30 is 0.9824561403508771\n",
      "Score for testing for iteration 30 is 0.7222222222222222\n",
      "Training time: 0:00:00.914988\n",
      "\n",
      "\n",
      "Score for training for iteration 31 is 0.9779577147998201\n",
      "Score for testing for iteration 31 is 0.8611111111111112\n",
      "Training time: 0:00:00.935200\n",
      "\n",
      "\n",
      "Final Score train: 0.9810104589006235\n",
      "Final Score test: 0.8780452286588635\n",
      "Cross validation time: 0:01:25.743419\n"
     ]
    }
   ],
   "source": [
    "Classification('../kickoff-data-corrected/data.pickle.1.10.acc.classif',0.99,'forest',32,\"\")"
   ]
  },
  {
   "cell_type": "code",
   "execution_count": 97,
   "metadata": {},
   "outputs": [],
   "source": [
    "from sklearn.ensemble import RandomForestRegressor\n",
    "from sklearn.svm import SVR\n",
    "def cross_validation_regressor(X,Y,name_regressor,percentage_train,nbre_matches,indices):\n",
    "    score_test=0\n",
    "    score_train=0\n",
    "    start=datetime.now()\n",
    "    for i in range(nbre_matches):\n",
    "        start_i=datetime.now()\n",
    "        #Create training and test datasets\n",
    "        x_train1=X[indices[i]:indices[min(i+int(nbre_matches*percentage_train),nbre_matches)]]+X[:indices[max(0,i+int(nbre_matches*percentage_train)-nbre_matches)]]\n",
    "        y_train1=Y[indices[i]:indices[min(i+int(nbre_matches*percentage_train),nbre_matches)]]+Y[:indices[max(0,i+int(nbre_matches*percentage_train)-nbre_matches)]]\n",
    "        x_test1=X[indices[min(i+int(nbre_matches*percentage_train),nbre_matches)]:]+X[indices[max(0,i+int(nbre_matches*percentage_train)-nbre_matches)]:indices[i]]\n",
    "        y_test1=Y[indices[min(i+int(nbre_matches*percentage_train),nbre_matches)]:]+Y[indices[max(0,i+int(nbre_matches*percentage_train)-nbre_matches)]:indices[i]]\n",
    "        \n",
    "        #Shuffle data\n",
    "        x_train,y_train=shuffle_data(x_train1,y_train1)\n",
    "        x_test,y_test=shuffle_data(x_test1,y_test1)\n",
    "        \n",
    "        #Train regressor\n",
    "        if name_regressor==\"forest\":\n",
    "            regr=RandomForestRegressor()\n",
    "        if name_regressor==\"svm\":\n",
    "            regr=SVR()\n",
    "        regr.fit(x_train,y_train)\n",
    "        end_i=datetime.now()\n",
    "        \n",
    "        #Test\n",
    "        score_test+=regr.score(x_test,y_test)\n",
    "        score_train+=regr.score(x_train,y_train)\n",
    "        print(\"Score for training for iteration {0} is {1}\".format(i,regr.score(x_train,y_train)))\n",
    "        print(\"Score for testing for iteration {0} is {1}\".format(i,regr.score(x_test,y_test)))\n",
    "        print(\"Training time: {0}\".format(end_i-start_i))\n",
    "        print(\"\\n\")\n",
    "        \n",
    "    end=datetime.now()\n",
    "    print(\"Final Score train: {0}\".format(score_train/nbre_matches))\n",
    "    print(\"Final Score test: {0}\".format(score_test/nbre_matches))\n",
    "    print(\"Cross validation time: {0}\".format(end-start))\n",
    "    \n",
    "        \n",
    "def Regression(dataset,percentage_train,name_regressor,nbre_matches):\n",
    "    #Create inputs\n",
    "    X=list()\n",
    "    Y=list()\n",
    "    indices=[0]\n",
    "    with open(dataset, 'rb') as f:\n",
    "        for i in range(nbre_matches):\n",
    "            data = pickle.load(f)\n",
    "            X=X+data[0]\n",
    "            Y=Y+data[1]\n",
    "            indices.append(len(Y))\n",
    "    cross_validation_regressor(X,Y,name_regressor,percentage_train,nbre_matches,indices)"
   ]
  },
  {
   "cell_type": "code",
   "execution_count": 150,
   "metadata": {},
   "outputs": [
    {
     "name": "stdout",
     "output_type": "stream",
     "text": [
      "Score for training for iteration 0 is 0.9444093435546904\n",
      "Score for testing for iteration 0 is 0.8479411764705883\n",
      "Training time: 0:00:07.249076\n",
      "\n",
      "\n",
      "Score for training for iteration 1 is 0.9494268901662225\n",
      "Score for testing for iteration 1 is 0.6946764705882353\n",
      "Training time: 0:00:07.178266\n",
      "\n",
      "\n",
      "Score for training for iteration 2 is 0.9434641725390887\n",
      "Score for testing for iteration 2 is 0.7962941176470588\n",
      "Training time: 0:00:07.255417\n",
      "\n",
      "\n",
      "Score for training for iteration 3 is 0.9397289488422959\n",
      "Score for testing for iteration 3 is 0.6720343137254904\n",
      "Training time: 0:00:07.192833\n",
      "\n",
      "\n",
      "Score for training for iteration 4 is 0.9488909917674243\n",
      "Score for testing for iteration 4 is 0.8712941176470589\n",
      "Training time: 0:00:07.393444\n",
      "\n",
      "\n",
      "Score for training for iteration 5 is 0.948162893520956\n",
      "Score for testing for iteration 5 is 0.8039705882352942\n",
      "Training time: 0:00:07.248097\n",
      "\n",
      "\n",
      "Score for training for iteration 6 is 0.9459857053305403\n",
      "Score for testing for iteration 6 is 0.9177058823529411\n",
      "Training time: 0:00:07.257766\n",
      "\n",
      "\n",
      "Score for training for iteration 7 is 0.9502802352835001\n",
      "Score for testing for iteration 7 is 0.2525245098039216\n",
      "Training time: 0:00:07.261582\n",
      "\n",
      "\n",
      "Score for training for iteration 8 is 0.9422822746940932\n",
      "Score for testing for iteration 8 is 0.9121323529411764\n",
      "Training time: 0:00:07.420299\n",
      "\n",
      "\n",
      "Score for training for iteration 9 is 0.9462473555433351\n",
      "Score for testing for iteration 9 is 0.8081764705882352\n",
      "Training time: 0:00:07.122324\n",
      "\n",
      "\n",
      "Score for training for iteration 10 is 0.9490163600298654\n",
      "Score for testing for iteration 10 is 0.6195588235294118\n",
      "Training time: 0:00:07.255424\n",
      "\n",
      "\n",
      "Score for training for iteration 11 is 0.9529636903883086\n",
      "Score for testing for iteration 11 is 0.6807647058823529\n",
      "Training time: 0:00:07.408907\n",
      "\n",
      "\n",
      "Score for training for iteration 12 is 0.9425994347370497\n",
      "Score for testing for iteration 12 is 0.6278529411764706\n",
      "Training time: 0:00:07.299687\n",
      "\n",
      "\n",
      "Score for training for iteration 13 is 0.9489308930557467\n",
      "Score for testing for iteration 13 is -0.31301470588235336\n",
      "Training time: 0:00:07.137526\n",
      "\n",
      "\n",
      "Score for training for iteration 14 is 0.9462325323387782\n",
      "Score for testing for iteration 14 is 0.7005392156862743\n",
      "Training time: 0:00:07.269525\n",
      "\n",
      "\n",
      "Score for training for iteration 15 is 0.9400291251775339\n",
      "Score for testing for iteration 15 is 0.7469117647058824\n",
      "Training time: 0:00:07.253521\n",
      "\n",
      "\n",
      "Score for training for iteration 16 is 0.9430000030335676\n",
      "Score for testing for iteration 16 is 0.9333088235294118\n",
      "Training time: 0:00:07.090842\n",
      "\n",
      "\n",
      "Score for training for iteration 17 is 0.9423496123100655\n",
      "Score for testing for iteration 17 is 0.7016666666666665\n",
      "Training time: 0:00:07.251745\n",
      "\n",
      "\n",
      "Score for training for iteration 18 is 0.9435429906278812\n",
      "Score for testing for iteration 18 is 0.9113823529411765\n",
      "Training time: 0:00:07.317213\n",
      "\n",
      "\n",
      "Score for training for iteration 19 is 0.9432800368692218\n",
      "Score for testing for iteration 19 is 0.9215686274509803\n",
      "Training time: 0:00:07.247528\n",
      "\n",
      "\n",
      "Score for training for iteration 20 is 0.9491897898499368\n",
      "Score for testing for iteration 20 is 0.52\n",
      "Training time: 0:00:07.330275\n",
      "\n",
      "\n",
      "Score for training for iteration 21 is 0.9476339964712025\n",
      "Score for testing for iteration 21 is 0.47394607843137265\n",
      "Training time: 0:00:07.211190\n",
      "\n",
      "\n",
      "Score for training for iteration 22 is 0.9460279295825545\n",
      "Score for testing for iteration 22 is 0.6661764705882351\n",
      "Training time: 0:00:07.421414\n",
      "\n",
      "\n",
      "Score for training for iteration 23 is 0.9483702755414674\n",
      "Score for testing for iteration 23 is 0.7743823529411764\n",
      "Training time: 0:00:07.296475\n",
      "\n",
      "\n",
      "Score for training for iteration 24 is 0.9480188243914418\n",
      "Score for testing for iteration 24 is 0.5708529411764707\n",
      "Training time: 0:00:07.014478\n",
      "\n",
      "\n",
      "Score for training for iteration 25 is 0.9458613407232243\n",
      "Score for testing for iteration 25 is 0.7945882352941176\n",
      "Training time: 0:00:07.129952\n",
      "\n",
      "\n",
      "Score for training for iteration 26 is 0.95010330442004\n",
      "Score for testing for iteration 26 is 0.5533235294117647\n",
      "Training time: 0:00:07.132317\n",
      "\n",
      "\n",
      "Score for training for iteration 27 is 0.9480759998083117\n",
      "Score for testing for iteration 27 is 0.3184411764705882\n",
      "Training time: 0:00:07.235423\n",
      "\n",
      "\n",
      "Score for training for iteration 28 is 0.9475669124807012\n",
      "Score for testing for iteration 28 is 0.5261470588235293\n",
      "Training time: 0:00:07.231545\n",
      "\n",
      "\n",
      "Score for training for iteration 29 is 0.9493766810230252\n",
      "Score for testing for iteration 29 is -0.45401960784313716\n",
      "Training time: 0:00:07.313293\n",
      "\n",
      "\n",
      "Score for training for iteration 30 is 0.9494404572142933\n",
      "Score for testing for iteration 30 is 0.9291470588235294\n",
      "Training time: 0:00:07.307606\n",
      "\n",
      "\n",
      "Score for training for iteration 31 is 0.9468058732901581\n",
      "Score for testing for iteration 31 is 0.6820833333333334\n",
      "Training time: 0:00:07.354957\n",
      "\n",
      "\n",
      "Score for training for iteration 32 is 0.9541708346416592\n",
      "Score for testing for iteration 32 is 0.02938235294117653\n",
      "Training time: 0:00:07.232691\n",
      "\n",
      "\n",
      "Score for training for iteration 33 is 0.9470687489832809\n",
      "Score for testing for iteration 33 is 0.6123039215686275\n",
      "Training time: 0:00:07.339765\n",
      "\n",
      "\n",
      "Score for training for iteration 34 is 0.9419248673477785\n",
      "Score for testing for iteration 34 is 0.2448529411764705\n",
      "Training time: 0:00:07.226470\n",
      "\n",
      "\n",
      "Score for training for iteration 35 is 0.946248071788618\n",
      "Score for testing for iteration 35 is 0.9481127450980392\n",
      "Training time: 0:00:07.378060\n",
      "\n",
      "\n",
      "Score for training for iteration 36 is 0.945601951685108\n",
      "Score for testing for iteration 36 is -0.019911764705882407\n",
      "Training time: 0:00:07.178997\n",
      "\n",
      "\n",
      "Score for training for iteration 37 is 0.9454286895481084\n",
      "Score for testing for iteration 37 is 0.8883823529411765\n",
      "Training time: 0:00:07.332674\n",
      "\n",
      "\n",
      "Score for training for iteration 38 is 0.9462728745147064\n",
      "Score for testing for iteration 38 is 0.8485588235294117\n",
      "Training time: 0:00:07.334731\n",
      "\n",
      "\n",
      "Score for training for iteration 39 is 0.9483586466431209\n",
      "Score for testing for iteration 39 is -0.9183529411764706\n",
      "Training time: 0:00:07.192756\n",
      "\n",
      "\n",
      "Score for training for iteration 40 is 0.9447103137315573\n",
      "Score for testing for iteration 40 is 0.2597549019607842\n",
      "Training time: 0:00:07.261903\n",
      "\n",
      "\n",
      "Score for training for iteration 41 is 0.9454120130121163\n",
      "Score for testing for iteration 41 is 0.8670294117647059\n",
      "Training time: 0:00:07.456696\n",
      "\n",
      "\n",
      "Score for training for iteration 42 is 0.9487966684808365\n",
      "Score for testing for iteration 42 is 0.34358823529411764\n",
      "Training time: 0:00:07.262537\n",
      "\n",
      "\n",
      "Score for training for iteration 43 is 0.944596681504604\n",
      "Score for testing for iteration 43 is 0.7594852941176471\n",
      "Training time: 0:00:07.359165\n",
      "\n",
      "\n",
      "Score for training for iteration 44 is 0.9410850937523807\n",
      "Score for testing for iteration 44 is 0.6555588235294119\n",
      "Training time: 0:00:07.243779\n",
      "\n",
      "\n",
      "Score for training for iteration 45 is 0.9489759473303441\n",
      "Score for testing for iteration 45 is 0.5529411764705883\n",
      "Training time: 0:00:07.298875\n",
      "\n",
      "\n",
      "Score for training for iteration 46 is 0.9466877087236681\n",
      "Score for testing for iteration 46 is -0.3683823529411767\n",
      "Training time: 0:00:07.367817\n",
      "\n",
      "\n",
      "Score for training for iteration 47 is 0.9459223908190595\n",
      "Score for testing for iteration 47 is 0.5596323529411764\n",
      "Training time: 0:00:07.394618\n",
      "\n",
      "\n",
      "Score for training for iteration 48 is 0.9441935628853733\n",
      "Score for testing for iteration 48 is 0.5669705882352942\n",
      "Training time: 0:00:07.459774\n",
      "\n",
      "\n",
      "Score for training for iteration 49 is 0.9452208494065014\n",
      "Score for testing for iteration 49 is 0.7415931372549021\n",
      "Training time: 0:00:07.245103\n",
      "\n",
      "\n",
      "Score for training for iteration 50 is 0.9476844935639818\n",
      "Score for testing for iteration 50 is 0.8840294117647058\n",
      "Training time: 0:00:07.252180\n",
      "\n",
      "\n",
      "Score for training for iteration 51 is 0.9441218513455703\n",
      "Score for testing for iteration 51 is 0.8604117647058824\n",
      "Training time: 0:00:07.266188\n",
      "\n",
      "\n",
      "Score for training for iteration 52 is 0.9415563871603654\n",
      "Score for testing for iteration 52 is 0.9099117647058824\n",
      "Training time: 0:00:07.244117\n",
      "\n",
      "\n",
      "Score for training for iteration 53 is 0.947656713417932\n",
      "Score for testing for iteration 53 is 0.5732058823529411\n",
      "Training time: 0:00:07.455363\n",
      "\n",
      "\n",
      "Score for training for iteration 54 is 0.9512902995230853\n",
      "Score for testing for iteration 54 is 0.9200735294117647\n",
      "Training time: 0:00:07.342931\n",
      "\n",
      "\n",
      "Score for training for iteration 55 is 0.949396202795586\n",
      "Score for testing for iteration 55 is 0.8754705882352942\n",
      "Training time: 0:00:07.322798\n",
      "\n",
      "\n"
     ]
    },
    {
     "name": "stdout",
     "output_type": "stream",
     "text": [
      "Score for training for iteration 56 is 0.9521326671998162\n",
      "Score for testing for iteration 56 is 0.19632352941176479\n",
      "Training time: 0:00:07.042057\n",
      "\n",
      "\n",
      "Score for training for iteration 57 is 0.9436620483444494\n",
      "Score for testing for iteration 57 is 0.875343137254902\n",
      "Training time: 0:00:07.286764\n",
      "\n",
      "\n",
      "Score for training for iteration 58 is 0.9473202938275621\n",
      "Score for testing for iteration 58 is 0.8464705882352942\n",
      "Training time: 0:00:07.308116\n",
      "\n",
      "\n",
      "Score for training for iteration 59 is 0.950385450308457\n",
      "Score for testing for iteration 59 is 0.8699509803921569\n",
      "Training time: 0:00:07.416143\n",
      "\n",
      "\n",
      "Score for training for iteration 60 is 0.9476977729632533\n",
      "Score for testing for iteration 60 is 0.729436274509804\n",
      "Training time: 0:00:07.317601\n",
      "\n",
      "\n",
      "Score for training for iteration 61 is 0.9458180553793792\n",
      "Score for testing for iteration 61 is 0.9086176470588235\n",
      "Training time: 0:00:07.310764\n",
      "\n",
      "\n",
      "Score for training for iteration 62 is 0.9439936104388054\n",
      "Score for testing for iteration 62 is 0.6883823529411766\n",
      "Training time: 0:00:07.269905\n",
      "\n",
      "\n",
      "Score for training for iteration 63 is 0.9455957386338859\n",
      "Score for testing for iteration 63 is 0.8155392156862746\n",
      "Training time: 0:00:07.491278\n",
      "\n",
      "\n",
      "Score for training for iteration 64 is 0.9428915506232275\n",
      "Score for testing for iteration 64 is 0.8770098039215686\n",
      "Training time: 0:00:07.294184\n",
      "\n",
      "\n",
      "Score for training for iteration 65 is 0.9446306740511285\n",
      "Score for testing for iteration 65 is 0.8935539215686275\n",
      "Training time: 0:00:07.226124\n",
      "\n",
      "\n",
      "Score for training for iteration 66 is 0.9431844329288661\n",
      "Score for testing for iteration 66 is 0.18247058823529416\n",
      "Training time: 0:00:07.177619\n",
      "\n",
      "\n",
      "Score for training for iteration 67 is 0.9502630771409688\n",
      "Score for testing for iteration 67 is 0.5280147058823528\n",
      "Training time: 0:00:07.245482\n",
      "\n",
      "\n",
      "Score for training for iteration 68 is 0.9476793251647168\n",
      "Score for testing for iteration 68 is 0.6237058823529412\n",
      "Training time: 0:00:07.308724\n",
      "\n",
      "\n",
      "Score for training for iteration 69 is 0.9469786840393442\n",
      "Score for testing for iteration 69 is 0.9676470588235294\n",
      "Training time: 0:00:07.380527\n",
      "\n",
      "\n",
      "Score for training for iteration 70 is 0.9451431521573026\n",
      "Score for testing for iteration 70 is 0.24313725490196084\n",
      "Training time: 0:00:07.454613\n",
      "\n",
      "\n",
      "Score for training for iteration 71 is 0.9482387400608003\n",
      "Score for testing for iteration 71 is 0.970857843137255\n",
      "Training time: 0:00:07.594921\n",
      "\n",
      "\n",
      "Score for training for iteration 72 is 0.9445753147610745\n",
      "Score for testing for iteration 72 is 0.879264705882353\n",
      "Training time: 0:00:07.456779\n",
      "\n",
      "\n",
      "Score for training for iteration 73 is 0.941746002808403\n",
      "Score for testing for iteration 73 is 0.6361470588235294\n",
      "Training time: 0:00:07.360015\n",
      "\n",
      "\n",
      "Score for training for iteration 74 is 0.9428129542316883\n",
      "Score for testing for iteration 74 is 0.20291176470588235\n",
      "Training time: 0:00:07.142490\n",
      "\n",
      "\n",
      "Score for training for iteration 75 is 0.9468003697350065\n",
      "Score for testing for iteration 75 is 0.7516176470588235\n",
      "Training time: 0:00:07.355250\n",
      "\n",
      "\n",
      "Score for training for iteration 76 is 0.9476925691878335\n",
      "Score for testing for iteration 76 is 0.6203235294117648\n",
      "Training time: 0:00:07.293713\n",
      "\n",
      "\n",
      "Score for training for iteration 77 is 0.9479987968442896\n",
      "Score for testing for iteration 77 is 0.8160588235294117\n",
      "Training time: 0:00:07.183989\n",
      "\n",
      "\n",
      "Score for training for iteration 78 is 0.9465009301322781\n",
      "Score for testing for iteration 78 is -1.245029411764706\n",
      "Training time: 0:00:07.229251\n",
      "\n",
      "\n",
      "Score for training for iteration 79 is 0.9467213775316543\n",
      "Score for testing for iteration 79 is 0.9643382352941177\n",
      "Training time: 0:00:07.205944\n",
      "\n",
      "\n",
      "Score for training for iteration 80 is 0.9447646710041648\n",
      "Score for testing for iteration 80 is 0.8573529411764705\n",
      "Training time: 0:00:07.418785\n",
      "\n",
      "\n",
      "Score for training for iteration 81 is 0.9430560098006984\n",
      "Score for testing for iteration 81 is 0.9002205882352942\n",
      "Training time: 0:00:07.468396\n",
      "\n",
      "\n",
      "Score for training for iteration 82 is 0.9466601909479102\n",
      "Score for testing for iteration 82 is 0.4592156862745098\n",
      "Training time: 0:00:07.270481\n",
      "\n",
      "\n",
      "Score for training for iteration 83 is 0.9457431135900355\n",
      "Score for testing for iteration 83 is 0.8163529411764704\n",
      "Training time: 0:00:07.455925\n",
      "\n",
      "\n",
      "Final Score train: 0.9463138608458198\n",
      "Final Score test: 0.6063356676003734\n",
      "Cross validation time: 0:12:24.282336\n"
     ]
    }
   ],
   "source": [
    "Regression('../kickoff-detection-data/data.pickle.1.10.mov.regression',0.99,\"forest\",84)"
   ]
  },
  {
   "cell_type": "code",
   "execution_count": 41,
   "metadata": {},
   "outputs": [
    {
     "name": "stdout",
     "output_type": "stream",
     "text": [
      "Score for training for iteration 0 is 0.9469147250984388\n",
      "Score for testing for iteration 0 is 0.835735294117647\n",
      "Training time: 0:00:04.878666\n",
      "\n",
      "\n",
      "Score for training for iteration 1 is 0.9468126492129534\n",
      "Score for testing for iteration 1 is 0.39891176470588235\n",
      "Training time: 0:00:04.837282\n",
      "\n",
      "\n",
      "Score for training for iteration 2 is 0.9461869498769244\n",
      "Score for testing for iteration 2 is 0.7658823529411765\n",
      "Training time: 0:00:04.713535\n",
      "\n",
      "\n",
      "Score for training for iteration 3 is 0.9458540819874721\n",
      "Score for testing for iteration 3 is 0.6925245098039216\n",
      "Training time: 0:00:04.743842\n",
      "\n",
      "\n",
      "Score for training for iteration 4 is 0.9473750356579851\n",
      "Score for testing for iteration 4 is 0.8704411764705882\n",
      "Training time: 0:00:04.834134\n",
      "\n",
      "\n",
      "Score for training for iteration 5 is 0.9487201115667225\n",
      "Score for testing for iteration 5 is 0.5243823529411764\n",
      "Training time: 0:00:04.907288\n",
      "\n",
      "\n",
      "Score for training for iteration 6 is 0.9506308041700324\n",
      "Score for testing for iteration 6 is 0.8889705882352941\n",
      "Training time: 0:00:04.781576\n",
      "\n",
      "\n",
      "Score for training for iteration 7 is 0.9479127353527035\n",
      "Score for testing for iteration 7 is 0.20700980392156876\n",
      "Training time: 0:00:04.632254\n",
      "\n",
      "\n",
      "Score for training for iteration 8 is 0.9483390990076821\n",
      "Score for testing for iteration 8 is 0.925\n",
      "Training time: 0:00:04.772741\n",
      "\n",
      "\n",
      "Score for training for iteration 9 is 0.9475717578550122\n",
      "Score for testing for iteration 9 is 0.6155882352941175\n",
      "Training time: 0:00:04.849930\n",
      "\n",
      "\n",
      "Score for training for iteration 10 is 0.9469936416423886\n",
      "Score for testing for iteration 10 is 0.6715686274509803\n",
      "Training time: 0:00:04.751563\n",
      "\n",
      "\n",
      "Score for training for iteration 11 is 0.9517445942116575\n",
      "Score for testing for iteration 11 is 0.5892058823529411\n",
      "Training time: 0:00:04.785349\n",
      "\n",
      "\n",
      "Score for training for iteration 12 is 0.9431866941035445\n",
      "Score for testing for iteration 12 is 0.7374999999999999\n",
      "Training time: 0:00:04.711619\n",
      "\n",
      "\n",
      "Score for training for iteration 13 is 0.9516532104245515\n",
      "Score for testing for iteration 13 is -0.05171568627450984\n",
      "Training time: 0:00:04.746966\n",
      "\n",
      "\n",
      "Score for training for iteration 14 is 0.9476922694081017\n",
      "Score for testing for iteration 14 is 0.784485294117647\n",
      "Training time: 0:00:04.719176\n",
      "\n",
      "\n",
      "Score for training for iteration 15 is 0.9531297252146993\n",
      "Score for testing for iteration 15 is 0.6206764705882353\n",
      "Training time: 0:00:04.882652\n",
      "\n",
      "\n",
      "Score for training for iteration 16 is 0.9505596216420777\n",
      "Score for testing for iteration 16 is 0.9426715686274508\n",
      "Training time: 0:00:04.820033\n",
      "\n",
      "\n",
      "Score for training for iteration 17 is 0.9465543284458768\n",
      "Score for testing for iteration 17 is 0.7757352941176471\n",
      "Training time: 0:00:04.866429\n",
      "\n",
      "\n",
      "Score for training for iteration 18 is 0.9523418673517284\n",
      "Score for testing for iteration 18 is 0.8580294117647058\n",
      "Training time: 0:00:04.760958\n",
      "\n",
      "\n",
      "Score for training for iteration 19 is 0.9465251919774272\n",
      "Score for testing for iteration 19 is 0.9474019607843138\n",
      "Training time: 0:00:04.797452\n",
      "\n",
      "\n",
      "Score for training for iteration 20 is 0.9454559444058694\n",
      "Score for testing for iteration 20 is 0.5383529411764707\n",
      "Training time: 0:00:04.735097\n",
      "\n",
      "\n",
      "Score for training for iteration 21 is 0.9473672359156198\n",
      "Score for testing for iteration 21 is 0.28107843137254906\n",
      "Training time: 0:00:04.782113\n",
      "\n",
      "\n",
      "Score for training for iteration 22 is 0.9467660534499437\n",
      "Score for testing for iteration 22 is 0.7724509803921569\n",
      "Training time: 0:00:04.812795\n",
      "\n",
      "\n",
      "Score for training for iteration 23 is 0.952162911527175\n",
      "Score for testing for iteration 23 is 0.8935294117647059\n",
      "Training time: 0:00:04.795798\n",
      "\n",
      "\n",
      "Score for training for iteration 24 is 0.9458665091224894\n",
      "Score for testing for iteration 24 is 0.29694117647058815\n",
      "Training time: 0:00:04.718645\n",
      "\n",
      "\n",
      "Score for training for iteration 25 is 0.9483095468501026\n",
      "Score for testing for iteration 25 is 0.8067647058823529\n",
      "Training time: 0:00:04.767019\n",
      "\n",
      "\n",
      "Score for training for iteration 26 is 0.9502622326974413\n",
      "Score for testing for iteration 26 is 0.43752941176470583\n",
      "Training time: 0:00:04.716205\n",
      "\n",
      "\n",
      "Score for training for iteration 27 is 0.952024010796926\n",
      "Score for testing for iteration 27 is 0.2490882352941176\n",
      "Training time: 0:00:04.814819\n",
      "\n",
      "\n",
      "Score for training for iteration 28 is 0.9506392028188382\n",
      "Score for testing for iteration 28 is 0.4646764705882353\n",
      "Training time: 0:00:04.695099\n",
      "\n",
      "\n",
      "Score for training for iteration 29 is 0.9512711989493239\n",
      "Score for testing for iteration 29 is -0.39093137254901955\n",
      "Training time: 0:00:04.869171\n",
      "\n",
      "\n",
      "Score for training for iteration 30 is 0.9511641183691981\n",
      "Score for testing for iteration 30 is 0.9354117647058824\n",
      "Training time: 0:00:04.882257\n",
      "\n",
      "\n",
      "Score for training for iteration 31 is 0.9535979078242912\n",
      "Score for testing for iteration 31 is 0.5664460784313725\n",
      "Training time: 0:00:04.856340\n",
      "\n",
      "\n",
      "Score for training for iteration 32 is 0.9527391880452316\n",
      "Score for testing for iteration 32 is 0.0958529411764707\n",
      "Training time: 0:00:04.815237\n",
      "\n",
      "\n",
      "Score for training for iteration 33 is 0.9501216033997192\n",
      "Score for testing for iteration 33 is 0.6780147058823529\n",
      "Training time: 0:00:04.924504\n",
      "\n",
      "\n",
      "Score for training for iteration 34 is 0.9488985192019139\n",
      "Score for testing for iteration 34 is 0.32421568627450964\n",
      "Training time: 0:00:04.769442\n",
      "\n",
      "\n",
      "Score for training for iteration 35 is 0.9477188159682446\n",
      "Score for testing for iteration 35 is 0.9728186274509804\n",
      "Training time: 0:00:04.856987\n",
      "\n",
      "\n",
      "Score for training for iteration 36 is 0.9508643512118233\n",
      "Score for testing for iteration 36 is 0.09994117647058831\n",
      "Training time: 0:00:04.776059\n",
      "\n",
      "\n",
      "Score for training for iteration 37 is 0.9457349462053672\n",
      "Score for testing for iteration 37 is 0.893235294117647\n",
      "Training time: 0:00:04.764461\n",
      "\n",
      "\n",
      "Score for training for iteration 38 is 0.9509312173773152\n",
      "Score for testing for iteration 38 is 0.8082941176470588\n",
      "Training time: 0:00:04.797162\n",
      "\n",
      "\n",
      "Score for training for iteration 39 is 0.9499272558200732\n",
      "Score for testing for iteration 39 is -1.0002352941176471\n",
      "Training time: 0:00:04.710228\n",
      "\n",
      "\n",
      "Score for training for iteration 40 is 0.9504861329938771\n",
      "Score for testing for iteration 40 is 0.26754901960784316\n",
      "Training time: 0:00:04.770281\n",
      "\n",
      "\n",
      "Score for training for iteration 41 is 0.9514903735728063\n",
      "Score for testing for iteration 41 is 0.9258235294117648\n",
      "Training time: 0:00:04.829169\n",
      "\n",
      "\n",
      "Score for training for iteration 42 is 0.9463297269066223\n",
      "Score for testing for iteration 42 is 0.3911176470588235\n",
      "Training time: 0:00:04.769370\n",
      "\n",
      "\n",
      "Score for training for iteration 43 is 0.9528199641166876\n",
      "Score for testing for iteration 43 is 0.7237254901960783\n",
      "Training time: 0:00:04.861611\n",
      "\n",
      "\n",
      "Score for training for iteration 44 is 0.9500428987536294\n",
      "Score for testing for iteration 44 is 0.5605294117647059\n",
      "Training time: 0:00:04.735389\n",
      "\n",
      "\n",
      "Score for training for iteration 45 is 0.9496723891313138\n",
      "Score for testing for iteration 45 is 0.610235294117647\n",
      "Training time: 0:00:04.652108\n",
      "\n",
      "\n",
      "Score for training for iteration 46 is 0.9524262980540802\n",
      "Score for testing for iteration 46 is -0.26968137254901947\n",
      "Training time: 0:00:04.725097\n",
      "\n",
      "\n",
      "Score for training for iteration 47 is 0.949433659005771\n",
      "Score for testing for iteration 47 is 0.7578431372549019\n",
      "Training time: 0:00:04.739111\n",
      "\n",
      "\n",
      "Score for training for iteration 48 is 0.952573799268749\n",
      "Score for testing for iteration 48 is 0.7014411764705881\n",
      "Training time: 0:00:04.779983\n",
      "\n",
      "\n",
      "Score for training for iteration 49 is 0.9469415197377178\n",
      "Score for testing for iteration 49 is 0.8524754901960785\n",
      "Training time: 0:00:04.840332\n",
      "\n",
      "\n",
      "Score for training for iteration 50 is 0.9492065871475484\n",
      "Score for testing for iteration 50 is 0.8989411764705882\n",
      "Training time: 0:00:04.675127\n",
      "\n",
      "\n",
      "Score for training for iteration 51 is 0.9503449270856825\n",
      "Score for testing for iteration 51 is 0.8122352941176472\n",
      "Training time: 0:00:04.641659\n",
      "\n",
      "\n",
      "Score for training for iteration 52 is 0.9444329243763373\n",
      "Score for testing for iteration 52 is 0.7525882352941178\n",
      "Training time: 0:00:04.803735\n",
      "\n",
      "\n",
      "Score for training for iteration 53 is 0.9442607520758193\n",
      "Score for testing for iteration 53 is 0.7283235294117647\n",
      "Training time: 0:00:04.955035\n",
      "\n",
      "\n",
      "Score for training for iteration 54 is 0.9501581858545503\n",
      "Score for testing for iteration 54 is 0.934485294117647\n",
      "Training time: 0:00:04.829285\n",
      "\n",
      "\n",
      "Score for training for iteration 55 is 0.9489824078294254\n",
      "Score for testing for iteration 55 is 0.8775882352941177\n",
      "Training time: 0:00:04.824770\n",
      "\n",
      "\n"
     ]
    },
    {
     "name": "stdout",
     "output_type": "stream",
     "text": [
      "Score for training for iteration 56 is 0.9511698687868271\n",
      "Score for testing for iteration 56 is 0.06370098039215688\n",
      "Training time: 0:00:04.795861\n",
      "\n",
      "\n",
      "Score for training for iteration 57 is 0.9521375232778911\n",
      "Score for testing for iteration 57 is 0.8728186274509804\n",
      "Training time: 0:00:04.821995\n",
      "\n",
      "\n",
      "Score for training for iteration 58 is 0.9487554267679726\n",
      "Score for testing for iteration 58 is 0.7973774509803921\n",
      "Training time: 0:00:05.051257\n",
      "\n",
      "\n",
      "Score for training for iteration 59 is 0.9506098011155186\n",
      "Score for testing for iteration 59 is 0.8342647058823529\n",
      "Training time: 0:00:04.850544\n",
      "\n",
      "\n",
      "Score for training for iteration 60 is 0.9486123343340315\n",
      "Score for testing for iteration 60 is 0.6529901960784315\n",
      "Training time: 0:00:04.779567\n",
      "\n",
      "\n",
      "Score for training for iteration 61 is 0.9503110094655055\n",
      "Score for testing for iteration 61 is 0.8566176470588235\n",
      "Training time: 0:00:04.866019\n",
      "\n",
      "\n",
      "Score for training for iteration 62 is 0.9439070397511153\n",
      "Score for testing for iteration 62 is 0.3690882352941177\n",
      "Training time: 0:00:05.022479\n",
      "\n",
      "\n",
      "Score for training for iteration 63 is 0.9470399362533697\n",
      "Score for testing for iteration 63 is 0.7877941176470589\n",
      "Training time: 0:00:04.980627\n",
      "\n",
      "\n",
      "Score for training for iteration 64 is 0.9517105121458357\n",
      "Score for testing for iteration 64 is 0.8462990196078432\n",
      "Training time: 0:00:04.832327\n",
      "\n",
      "\n",
      "Score for training for iteration 65 is 0.9515836066388109\n",
      "Score for testing for iteration 65 is 0.8588480392156863\n",
      "Training time: 0:00:04.756929\n",
      "\n",
      "\n",
      "Score for training for iteration 66 is 0.9546527878731281\n",
      "Score for testing for iteration 66 is -0.03638235294117642\n",
      "Training time: 0:00:04.892812\n",
      "\n",
      "\n",
      "Score for training for iteration 67 is 0.9538963947566301\n",
      "Score for testing for iteration 67 is 0.43404411764705875\n",
      "Training time: 0:00:04.792235\n",
      "\n",
      "\n",
      "Score for training for iteration 68 is 0.9491419821567348\n",
      "Score for testing for iteration 68 is 0.6838823529411764\n",
      "Training time: 0:00:04.907228\n",
      "\n",
      "\n",
      "Score for training for iteration 69 is 0.9431295186866747\n",
      "Score for testing for iteration 69 is 0.985\n",
      "Training time: 0:00:04.864008\n",
      "\n",
      "\n",
      "Score for training for iteration 70 is 0.952166012269264\n",
      "Score for testing for iteration 70 is 0.5799754901960784\n",
      "Training time: 0:00:04.806676\n",
      "\n",
      "\n",
      "Score for training for iteration 71 is 0.9491973298727912\n",
      "Score for testing for iteration 71 is 0.9356372549019608\n",
      "Training time: 0:00:04.880259\n",
      "\n",
      "\n",
      "Score for training for iteration 72 is 0.9521180989655914\n",
      "Score for testing for iteration 72 is 0.8822794117647059\n",
      "Training time: 0:00:04.739120\n",
      "\n",
      "\n",
      "Score for training for iteration 73 is 0.9454969685750361\n",
      "Score for testing for iteration 73 is 0.5155294117647059\n",
      "Training time: 0:00:04.743778\n",
      "\n",
      "\n",
      "Score for training for iteration 74 is 0.9507293267810231\n",
      "Score for testing for iteration 74 is 0.3034117647058824\n",
      "Training time: 0:00:04.810734\n",
      "\n",
      "\n",
      "Score for training for iteration 75 is 0.94769453557787\n",
      "Score for testing for iteration 75 is 0.6672794117647058\n",
      "Training time: 0:00:04.640042\n",
      "\n",
      "\n",
      "Score for training for iteration 76 is 0.9512939744007332\n",
      "Score for testing for iteration 76 is 0.6757058823529412\n",
      "Training time: 0:00:04.648109\n",
      "\n",
      "\n",
      "Score for training for iteration 77 is 0.9456701099504162\n",
      "Score for testing for iteration 77 is 0.8627058823529412\n",
      "Training time: 0:00:04.772719\n",
      "\n",
      "\n",
      "Score for training for iteration 78 is 0.9512009432139616\n",
      "Score for testing for iteration 78 is -1.2221176470588233\n",
      "Training time: 0:00:04.749166\n",
      "\n",
      "\n",
      "Score for training for iteration 79 is 0.9485197451120695\n",
      "Score for testing for iteration 79 is 0.9412009803921568\n",
      "Training time: 0:00:04.747071\n",
      "\n",
      "\n",
      "Score for training for iteration 80 is 0.9509551212239161\n",
      "Score for testing for iteration 80 is 0.8575588235294117\n",
      "Training time: 0:00:04.739756\n",
      "\n",
      "\n",
      "Score for training for iteration 81 is 0.9515182114540686\n",
      "Score for testing for iteration 81 is 0.8222058823529412\n",
      "Training time: 0:00:04.796926\n",
      "\n",
      "\n",
      "Score for training for iteration 82 is 0.9449213912585476\n",
      "Score for testing for iteration 82 is 0.21892156862745082\n",
      "Training time: 0:00:04.787500\n",
      "\n",
      "\n",
      "Score for training for iteration 83 is 0.9510003447174857\n",
      "Score for testing for iteration 83 is 0.7797647058823529\n",
      "Training time: 0:00:04.798377\n",
      "\n",
      "\n",
      "Final Score train: 0.9492531460173608\n",
      "Final Score test: 0.5913702731092437\n",
      "Cross validation time: 0:08:11.914735\n"
     ]
    }
   ],
   "source": [
    "Regression('../kickoff-detection-data/data.pickle.1.10.acc.regression',0.99,\"forest\",84)"
   ]
  }
 ],
 "metadata": {
  "kernelspec": {
   "display_name": "Python 3",
   "language": "python",
   "name": "python3"
  },
  "language_info": {
   "codemirror_mode": {
    "name": "ipython",
    "version": 3
   },
   "file_extension": ".py",
   "mimetype": "text/x-python",
   "name": "python",
   "nbconvert_exporter": "python",
   "pygments_lexer": "ipython3",
   "version": "3.5.2"
  }
 },
 "nbformat": 4,
 "nbformat_minor": 2
}
