{
 "cells": [
  {
   "cell_type": "code",
   "execution_count": 1,
   "metadata": {},
   "outputs": [],
   "source": [
    "import time\n",
    "import pickle\n",
    "import numpy as np\n",
    "import pprint\n",
    "import matplotlib.pyplot as plt\n",
    "from tqdm import tqdm \n",
    "import json\n",
    "from dateutil.parser import parse"
   ]
  },
  {
   "cell_type": "code",
   "execution_count": 2,
   "metadata": {},
   "outputs": [],
   "source": [
    "from rdbtools import RdbParser, RdbCallback\n",
    "from rdbtools.encodehelpers import bytes_to_unicode\n",
    "\n",
    "class PublishCallback(RdbCallback):\n",
    "\n",
    "    def __init__(self, is_unicode=False, start_ts=float('-inf'), stop_ts=float('+inf')):\n",
    "        super(PublishCallback, self).__init__(string_escape=None)\n",
    "        self.ranges = {}\n",
    "        self.start = start_ts\n",
    "        self.stop = stop_ts\n",
    "        self.is_unicode = is_unicode\n",
    "\n",
    "    def encode_key(self, key):\n",
    "        return bytes_to_unicode(key, self._escape, skip_printable=True)\n",
    "\n",
    "    def encode_value(self, val):\n",
    "        if self.is_unicode:\n",
    "            return bytes_to_unicode(val, self._escape)\n",
    "        return val\n",
    "\n",
    "    def start_sorted_set(self, key, length, expiry, info):\n",
    "        self.ranges[self.encode_key(key)] = []\n",
    "\n",
    "    def zadd(self, key, score, member):\n",
    "        if self.start <= score <= self.stop:\n",
    "            self.ranges[self.encode_key(key)].append((self.encode_value(member), round(score)))\n",
    "\n",
    "    def end_sorted_set(self, key):\n",
    "        encoded_key = self.encode_key(key)\n",
    "        self.ranges[encoded_key] = list(reversed(self.ranges[encoded_key]))\n",
    "\n",
    "\n",
    "def parse_dump_file(dump_file, start_ts=float(\"-inf\"), stop_ts=float(\"+inf\")):\n",
    "    \"\"\"Parse a redis dump file (rdb) and return the data within.\n",
    "\n",
    "    Only supports SortedSet.\n",
    "\n",
    "    Args:\n",
    "        dump_file (str): Rdb path\n",
    "        start_ts (float): timestamp of the first value to publish\n",
    "        stop_ts (float): timestamp of the last value to publish\n",
    "\n",
    "    Returns:\n",
    "        ranges (dict): {\n",
    "                'keyA': [(FrameDataDump1A, Score1A), ..., (FrameDataDumpNA, ScoreNA)],\n",
    "                'keyB': [(FrameDataDump1B, Score1B), ..., (FrameDataDumpNB, ScoreNB)],\n",
    "                ...\n",
    "            }\n",
    "    \"\"\"\n",
    "    t0 = time.time()\n",
    "\n",
    "    callback = PublishCallback(start_ts=start_ts, stop_ts=stop_ts)\n",
    "    rdb_parser = RdbParser(callback)\n",
    "    rdb_parser.parse(dump_file)\n",
    "    print(\"Parsed {} in {:.2f} s.\".format(dump_file, time.time() - t0))\n",
    "    print(\"Contains keys:\", callback.ranges.keys())\n",
    "    for k in callback.ranges.keys():\n",
    "        print(\n",
    "            \"[{}] start_ts: {} | stop_ts: {}\".format(\n",
    "                k, callback.ranges[k][0][1], callback.ranges[k][-1][1]\n",
    "            )\n",
    "        )\n",
    "    return callback.ranges"
   ]
  },
  {
   "cell_type": "code",
   "execution_count": 3,
   "metadata": {},
   "outputs": [],
   "source": [
    "from ipywidgets import interact\n",
    "import ipywidgets as widgets"
   ]
  },
  {
   "cell_type": "code",
   "execution_count": 4,
   "metadata": {},
   "outputs": [
    {
     "name": "stdout",
     "output_type": "stream",
     "text": [
      "Parsed ../kickoff-data-corrected/f9f01fbf-6871-4303-b43f-29c2dd16909d.2.kickoff.rdb in 1.73 s.\n",
      "Contains keys: dict_keys(['right', 'left'])\n",
      "[right] start_ts: 1522677422216 | stop_ts: 1522678021096\n",
      "[left] start_ts: 1522677422334 | stop_ts: 1522678021134\n"
     ]
    }
   ],
   "source": [
    "tracks = parse_dump_file('../kickoff-data-corrected/f9f01fbf-6871-4303-b43f-29c2dd16909d.2.kickoff.rdb')\n",
    "config = json.load(open('../kickoff-data-corrected/f9f01fbf-6871-4303-b43f-29c2dd16909d.json', 'r'))"
   ]
  },
  {
   "cell_type": "code",
   "execution_count": 46,
   "metadata": {},
   "outputs": [
    {
     "name": "stdout",
     "output_type": "stream",
     "text": [
      "dict_keys(['stream_ts', 'last', 'ball_detections', 'phase_state', 'mapping', 'top_view_ball_positions', 'features', 'bboxes', 'valid_frame', 'embeddings', 'ts', 'top_view_player_positions', 'player_detections', 'packed_rects'])\n",
      "[0, 0, 0, 0, 0, 0]\n"
     ]
    }
   ],
   "source": [
    "\n",
    "fd, ts = tracks['left'][4000]\n",
    "\n",
    "\n",
    "fd = pickle.loads(fd)\n",
    "pprint.pprint(fd.__dict__.keys())\n",
    "print([fd.player_detections[i].confidence for i in range(len(fd.player_detections))])"
   ]
  },
  {
   "cell_type": "code",
   "execution_count": 6,
   "metadata": {},
   "outputs": [],
   "source": [
    "kickoff_1 = config['phase_events'][2]['ts']\n",
    "kickoff_time = int(parse(kickoff_1).timestamp()*1000)"
   ]
  },
  {
   "cell_type": "code",
   "execution_count": 7,
   "metadata": {},
   "outputs": [
    {
     "data": {
      "text/plain": [
       "[{'kickoff_team_id': 15,\n",
       "  'phase': 1,\n",
       "  'ts': '2018-04-02T13:00:04.376000',\n",
       "  'type': 'start_phase'},\n",
       " {'phase': 1, 'ts': '2018-04-02T13:47:02.983Z', 'type': 'end_phase'},\n",
       " {'kickoff_team_id': 4,\n",
       "  'phase': 2,\n",
       "  'ts': '2018-04-02T14:02:02.696000',\n",
       "  'type': 'start_phase'},\n",
       " {'phase': 2, 'ts': '2018-04-02T14:50:07.639Z', 'type': 'end_phase'}]"
      ]
     },
     "execution_count": 7,
     "metadata": {},
     "output_type": "execute_result"
    }
   ],
   "source": [
    "config['phase_events'] "
   ]
  },
  {
   "cell_type": "code",
   "execution_count": 8,
   "metadata": {},
   "outputs": [
    {
     "name": "stdout",
     "output_type": "stream",
     "text": [
      "[105, 68]\n"
     ]
    }
   ],
   "source": [
    "pitch_size=config['pitch_size']\n",
    "print(pitch_size)"
   ]
  },
  {
   "cell_type": "code",
   "execution_count": 9,
   "metadata": {
    "scrolled": false
   },
   "outputs": [
    {
     "name": "stderr",
     "output_type": "stream",
     "text": [
      "14971it [00:05, 2700.56it/s]\n"
     ]
    }
   ],
   "source": [
    "detections = {'ball':{'left':{}, 'right':{}}, 'players':{'left':{}, 'right':{}}}\n",
    "\n",
    "timestamps = set()\n",
    "\n",
    "def ball_ok(ball_pos, ball_det):\n",
    "    if ball_pos[0] < 0 or ball_pos[1] < 0:\n",
    "        return False\n",
    "    if ball_det.confidence < 0.7:\n",
    "        return False\n",
    "    return True\n",
    "\n",
    "for (fd_left, ts_left), (fd_right, ts_right) in tqdm(zip(tracks['left'], tracks['right'])):\n",
    "    fd_left = pickle.loads(fd_left)\n",
    "    fd_right = pickle.loads(fd_right)\n",
    "    if np.abs(ts_left - ts_right) < 100:\n",
    "        ts_left = ts_right\n",
    "    timestamps.update({ts_left, ts_right})\n",
    "\n",
    "    detections['players']['left'][ts_left] = fd_left.top_view_player_positions\n",
    "    detections['players']['right'][ts_right] = fd_right.top_view_player_positions\n",
    "    detections['ball']['left'][ts_left] = np.array([bp for bp, bd in zip(fd_left.top_view_ball_positions, fd_left.ball_detections) if ball_ok(bp, bd)])\n",
    "    detections['ball']['right'][ts_right] = np.array([bp for bp, bd in zip(fd_right.top_view_ball_positions, fd_right.ball_detections) if ball_ok(bp, bd)])\n",
    "    "
   ]
  },
  {
   "cell_type": "code",
   "execution_count": 147,
   "metadata": {},
   "outputs": [
    {
     "ename": "KeyError",
     "evalue": "1527429925546",
     "output_type": "error",
     "traceback": [
      "\u001b[0;31m---------------------------------------------------------------------------\u001b[0m",
      "\u001b[0;31mKeyError\u001b[0m                                  Traceback (most recent call last)",
      "\u001b[0;32m<ipython-input-147-53a3f20a03c9>\u001b[0m in \u001b[0;36m<module>\u001b[0;34m()\u001b[0m\n\u001b[0;32m----> 1\u001b[0;31m \u001b[0mprint\u001b[0m\u001b[0;34m(\u001b[0m\u001b[0mdetections\u001b[0m\u001b[0;34m[\u001b[0m\u001b[0;34m'players'\u001b[0m\u001b[0;34m]\u001b[0m\u001b[0;34m[\u001b[0m\u001b[0;34m'left'\u001b[0m\u001b[0;34m]\u001b[0m\u001b[0;34m[\u001b[0m\u001b[0;36m1527429925546\u001b[0m\u001b[0;34m]\u001b[0m\u001b[0;34m)\u001b[0m\u001b[0;34m\u001b[0m\u001b[0m\n\u001b[0m",
      "\u001b[0;31mKeyError\u001b[0m: 1527429925546"
     ]
    }
   ],
   "source": [
    "print(detections['players']['left'][1527429925546])"
   ]
  },
  {
   "cell_type": "code",
   "execution_count": 10,
   "metadata": {
    "scrolled": false
   },
   "outputs": [
    {
     "name": "stdout",
     "output_type": "stream",
     "text": [
      "1522677722696 1522677722696\n"
     ]
    },
    {
     "data": {
      "application/javascript": [
       "/* Put everything inside the global mpl namespace */\n",
       "window.mpl = {};\n",
       "\n",
       "\n",
       "mpl.get_websocket_type = function() {\n",
       "    if (typeof(WebSocket) !== 'undefined') {\n",
       "        return WebSocket;\n",
       "    } else if (typeof(MozWebSocket) !== 'undefined') {\n",
       "        return MozWebSocket;\n",
       "    } else {\n",
       "        alert('Your browser does not have WebSocket support.' +\n",
       "              'Please try Chrome, Safari or Firefox ≥ 6. ' +\n",
       "              'Firefox 4 and 5 are also supported but you ' +\n",
       "              'have to enable WebSockets in about:config.');\n",
       "    };\n",
       "}\n",
       "\n",
       "mpl.figure = function(figure_id, websocket, ondownload, parent_element) {\n",
       "    this.id = figure_id;\n",
       "\n",
       "    this.ws = websocket;\n",
       "\n",
       "    this.supports_binary = (this.ws.binaryType != undefined);\n",
       "\n",
       "    if (!this.supports_binary) {\n",
       "        var warnings = document.getElementById(\"mpl-warnings\");\n",
       "        if (warnings) {\n",
       "            warnings.style.display = 'block';\n",
       "            warnings.textContent = (\n",
       "                \"This browser does not support binary websocket messages. \" +\n",
       "                    \"Performance may be slow.\");\n",
       "        }\n",
       "    }\n",
       "\n",
       "    this.imageObj = new Image();\n",
       "\n",
       "    this.context = undefined;\n",
       "    this.message = undefined;\n",
       "    this.canvas = undefined;\n",
       "    this.rubberband_canvas = undefined;\n",
       "    this.rubberband_context = undefined;\n",
       "    this.format_dropdown = undefined;\n",
       "\n",
       "    this.image_mode = 'full';\n",
       "\n",
       "    this.root = $('<div/>');\n",
       "    this._root_extra_style(this.root)\n",
       "    this.root.attr('style', 'display: inline-block');\n",
       "\n",
       "    $(parent_element).append(this.root);\n",
       "\n",
       "    this._init_header(this);\n",
       "    this._init_canvas(this);\n",
       "    this._init_toolbar(this);\n",
       "\n",
       "    var fig = this;\n",
       "\n",
       "    this.waiting = false;\n",
       "\n",
       "    this.ws.onopen =  function () {\n",
       "            fig.send_message(\"supports_binary\", {value: fig.supports_binary});\n",
       "            fig.send_message(\"send_image_mode\", {});\n",
       "            if (mpl.ratio != 1) {\n",
       "                fig.send_message(\"set_dpi_ratio\", {'dpi_ratio': mpl.ratio});\n",
       "            }\n",
       "            fig.send_message(\"refresh\", {});\n",
       "        }\n",
       "\n",
       "    this.imageObj.onload = function() {\n",
       "            if (fig.image_mode == 'full') {\n",
       "                // Full images could contain transparency (where diff images\n",
       "                // almost always do), so we need to clear the canvas so that\n",
       "                // there is no ghosting.\n",
       "                fig.context.clearRect(0, 0, fig.canvas.width, fig.canvas.height);\n",
       "            }\n",
       "            fig.context.drawImage(fig.imageObj, 0, 0);\n",
       "        };\n",
       "\n",
       "    this.imageObj.onunload = function() {\n",
       "        fig.ws.close();\n",
       "    }\n",
       "\n",
       "    this.ws.onmessage = this._make_on_message_function(this);\n",
       "\n",
       "    this.ondownload = ondownload;\n",
       "}\n",
       "\n",
       "mpl.figure.prototype._init_header = function() {\n",
       "    var titlebar = $(\n",
       "        '<div class=\"ui-dialog-titlebar ui-widget-header ui-corner-all ' +\n",
       "        'ui-helper-clearfix\"/>');\n",
       "    var titletext = $(\n",
       "        '<div class=\"ui-dialog-title\" style=\"width: 100%; ' +\n",
       "        'text-align: center; padding: 3px;\"/>');\n",
       "    titlebar.append(titletext)\n",
       "    this.root.append(titlebar);\n",
       "    this.header = titletext[0];\n",
       "}\n",
       "\n",
       "\n",
       "\n",
       "mpl.figure.prototype._canvas_extra_style = function(canvas_div) {\n",
       "\n",
       "}\n",
       "\n",
       "\n",
       "mpl.figure.prototype._root_extra_style = function(canvas_div) {\n",
       "\n",
       "}\n",
       "\n",
       "mpl.figure.prototype._init_canvas = function() {\n",
       "    var fig = this;\n",
       "\n",
       "    var canvas_div = $('<div/>');\n",
       "\n",
       "    canvas_div.attr('style', 'position: relative; clear: both; outline: 0');\n",
       "\n",
       "    function canvas_keyboard_event(event) {\n",
       "        return fig.key_event(event, event['data']);\n",
       "    }\n",
       "\n",
       "    canvas_div.keydown('key_press', canvas_keyboard_event);\n",
       "    canvas_div.keyup('key_release', canvas_keyboard_event);\n",
       "    this.canvas_div = canvas_div\n",
       "    this._canvas_extra_style(canvas_div)\n",
       "    this.root.append(canvas_div);\n",
       "\n",
       "    var canvas = $('<canvas/>');\n",
       "    canvas.addClass('mpl-canvas');\n",
       "    canvas.attr('style', \"left: 0; top: 0; z-index: 0; outline: 0\")\n",
       "\n",
       "    this.canvas = canvas[0];\n",
       "    this.context = canvas[0].getContext(\"2d\");\n",
       "\n",
       "    var backingStore = this.context.backingStorePixelRatio ||\n",
       "\tthis.context.webkitBackingStorePixelRatio ||\n",
       "\tthis.context.mozBackingStorePixelRatio ||\n",
       "\tthis.context.msBackingStorePixelRatio ||\n",
       "\tthis.context.oBackingStorePixelRatio ||\n",
       "\tthis.context.backingStorePixelRatio || 1;\n",
       "\n",
       "    mpl.ratio = (window.devicePixelRatio || 1) / backingStore;\n",
       "\n",
       "    var rubberband = $('<canvas/>');\n",
       "    rubberband.attr('style', \"position: absolute; left: 0; top: 0; z-index: 1;\")\n",
       "\n",
       "    var pass_mouse_events = true;\n",
       "\n",
       "    canvas_div.resizable({\n",
       "        start: function(event, ui) {\n",
       "            pass_mouse_events = false;\n",
       "        },\n",
       "        resize: function(event, ui) {\n",
       "            fig.request_resize(ui.size.width, ui.size.height);\n",
       "        },\n",
       "        stop: function(event, ui) {\n",
       "            pass_mouse_events = true;\n",
       "            fig.request_resize(ui.size.width, ui.size.height);\n",
       "        },\n",
       "    });\n",
       "\n",
       "    function mouse_event_fn(event) {\n",
       "        if (pass_mouse_events)\n",
       "            return fig.mouse_event(event, event['data']);\n",
       "    }\n",
       "\n",
       "    rubberband.mousedown('button_press', mouse_event_fn);\n",
       "    rubberband.mouseup('button_release', mouse_event_fn);\n",
       "    // Throttle sequential mouse events to 1 every 20ms.\n",
       "    rubberband.mousemove('motion_notify', mouse_event_fn);\n",
       "\n",
       "    rubberband.mouseenter('figure_enter', mouse_event_fn);\n",
       "    rubberband.mouseleave('figure_leave', mouse_event_fn);\n",
       "\n",
       "    canvas_div.on(\"wheel\", function (event) {\n",
       "        event = event.originalEvent;\n",
       "        event['data'] = 'scroll'\n",
       "        if (event.deltaY < 0) {\n",
       "            event.step = 1;\n",
       "        } else {\n",
       "            event.step = -1;\n",
       "        }\n",
       "        mouse_event_fn(event);\n",
       "    });\n",
       "\n",
       "    canvas_div.append(canvas);\n",
       "    canvas_div.append(rubberband);\n",
       "\n",
       "    this.rubberband = rubberband;\n",
       "    this.rubberband_canvas = rubberband[0];\n",
       "    this.rubberband_context = rubberband[0].getContext(\"2d\");\n",
       "    this.rubberband_context.strokeStyle = \"#000000\";\n",
       "\n",
       "    this._resize_canvas = function(width, height) {\n",
       "        // Keep the size of the canvas, canvas container, and rubber band\n",
       "        // canvas in synch.\n",
       "        canvas_div.css('width', width)\n",
       "        canvas_div.css('height', height)\n",
       "\n",
       "        canvas.attr('width', width * mpl.ratio);\n",
       "        canvas.attr('height', height * mpl.ratio);\n",
       "        canvas.attr('style', 'width: ' + width + 'px; height: ' + height + 'px;');\n",
       "\n",
       "        rubberband.attr('width', width);\n",
       "        rubberband.attr('height', height);\n",
       "    }\n",
       "\n",
       "    // Set the figure to an initial 600x600px, this will subsequently be updated\n",
       "    // upon first draw.\n",
       "    this._resize_canvas(600, 600);\n",
       "\n",
       "    // Disable right mouse context menu.\n",
       "    $(this.rubberband_canvas).bind(\"contextmenu\",function(e){\n",
       "        return false;\n",
       "    });\n",
       "\n",
       "    function set_focus () {\n",
       "        canvas.focus();\n",
       "        canvas_div.focus();\n",
       "    }\n",
       "\n",
       "    window.setTimeout(set_focus, 100);\n",
       "}\n",
       "\n",
       "mpl.figure.prototype._init_toolbar = function() {\n",
       "    var fig = this;\n",
       "\n",
       "    var nav_element = $('<div/>')\n",
       "    nav_element.attr('style', 'width: 100%');\n",
       "    this.root.append(nav_element);\n",
       "\n",
       "    // Define a callback function for later on.\n",
       "    function toolbar_event(event) {\n",
       "        return fig.toolbar_button_onclick(event['data']);\n",
       "    }\n",
       "    function toolbar_mouse_event(event) {\n",
       "        return fig.toolbar_button_onmouseover(event['data']);\n",
       "    }\n",
       "\n",
       "    for(var toolbar_ind in mpl.toolbar_items) {\n",
       "        var name = mpl.toolbar_items[toolbar_ind][0];\n",
       "        var tooltip = mpl.toolbar_items[toolbar_ind][1];\n",
       "        var image = mpl.toolbar_items[toolbar_ind][2];\n",
       "        var method_name = mpl.toolbar_items[toolbar_ind][3];\n",
       "\n",
       "        if (!name) {\n",
       "            // put a spacer in here.\n",
       "            continue;\n",
       "        }\n",
       "        var button = $('<button/>');\n",
       "        button.addClass('ui-button ui-widget ui-state-default ui-corner-all ' +\n",
       "                        'ui-button-icon-only');\n",
       "        button.attr('role', 'button');\n",
       "        button.attr('aria-disabled', 'false');\n",
       "        button.click(method_name, toolbar_event);\n",
       "        button.mouseover(tooltip, toolbar_mouse_event);\n",
       "\n",
       "        var icon_img = $('<span/>');\n",
       "        icon_img.addClass('ui-button-icon-primary ui-icon');\n",
       "        icon_img.addClass(image);\n",
       "        icon_img.addClass('ui-corner-all');\n",
       "\n",
       "        var tooltip_span = $('<span/>');\n",
       "        tooltip_span.addClass('ui-button-text');\n",
       "        tooltip_span.html(tooltip);\n",
       "\n",
       "        button.append(icon_img);\n",
       "        button.append(tooltip_span);\n",
       "\n",
       "        nav_element.append(button);\n",
       "    }\n",
       "\n",
       "    var fmt_picker_span = $('<span/>');\n",
       "\n",
       "    var fmt_picker = $('<select/>');\n",
       "    fmt_picker.addClass('mpl-toolbar-option ui-widget ui-widget-content');\n",
       "    fmt_picker_span.append(fmt_picker);\n",
       "    nav_element.append(fmt_picker_span);\n",
       "    this.format_dropdown = fmt_picker[0];\n",
       "\n",
       "    for (var ind in mpl.extensions) {\n",
       "        var fmt = mpl.extensions[ind];\n",
       "        var option = $(\n",
       "            '<option/>', {selected: fmt === mpl.default_extension}).html(fmt);\n",
       "        fmt_picker.append(option)\n",
       "    }\n",
       "\n",
       "    // Add hover states to the ui-buttons\n",
       "    $( \".ui-button\" ).hover(\n",
       "        function() { $(this).addClass(\"ui-state-hover\");},\n",
       "        function() { $(this).removeClass(\"ui-state-hover\");}\n",
       "    );\n",
       "\n",
       "    var status_bar = $('<span class=\"mpl-message\"/>');\n",
       "    nav_element.append(status_bar);\n",
       "    this.message = status_bar[0];\n",
       "}\n",
       "\n",
       "mpl.figure.prototype.request_resize = function(x_pixels, y_pixels) {\n",
       "    // Request matplotlib to resize the figure. Matplotlib will then trigger a resize in the client,\n",
       "    // which will in turn request a refresh of the image.\n",
       "    this.send_message('resize', {'width': x_pixels, 'height': y_pixels});\n",
       "}\n",
       "\n",
       "mpl.figure.prototype.send_message = function(type, properties) {\n",
       "    properties['type'] = type;\n",
       "    properties['figure_id'] = this.id;\n",
       "    this.ws.send(JSON.stringify(properties));\n",
       "}\n",
       "\n",
       "mpl.figure.prototype.send_draw_message = function() {\n",
       "    if (!this.waiting) {\n",
       "        this.waiting = true;\n",
       "        this.ws.send(JSON.stringify({type: \"draw\", figure_id: this.id}));\n",
       "    }\n",
       "}\n",
       "\n",
       "\n",
       "mpl.figure.prototype.handle_save = function(fig, msg) {\n",
       "    var format_dropdown = fig.format_dropdown;\n",
       "    var format = format_dropdown.options[format_dropdown.selectedIndex].value;\n",
       "    fig.ondownload(fig, format);\n",
       "}\n",
       "\n",
       "\n",
       "mpl.figure.prototype.handle_resize = function(fig, msg) {\n",
       "    var size = msg['size'];\n",
       "    if (size[0] != fig.canvas.width || size[1] != fig.canvas.height) {\n",
       "        fig._resize_canvas(size[0], size[1]);\n",
       "        fig.send_message(\"refresh\", {});\n",
       "    };\n",
       "}\n",
       "\n",
       "mpl.figure.prototype.handle_rubberband = function(fig, msg) {\n",
       "    var x0 = msg['x0'] / mpl.ratio;\n",
       "    var y0 = (fig.canvas.height - msg['y0']) / mpl.ratio;\n",
       "    var x1 = msg['x1'] / mpl.ratio;\n",
       "    var y1 = (fig.canvas.height - msg['y1']) / mpl.ratio;\n",
       "    x0 = Math.floor(x0) + 0.5;\n",
       "    y0 = Math.floor(y0) + 0.5;\n",
       "    x1 = Math.floor(x1) + 0.5;\n",
       "    y1 = Math.floor(y1) + 0.5;\n",
       "    var min_x = Math.min(x0, x1);\n",
       "    var min_y = Math.min(y0, y1);\n",
       "    var width = Math.abs(x1 - x0);\n",
       "    var height = Math.abs(y1 - y0);\n",
       "\n",
       "    fig.rubberband_context.clearRect(\n",
       "        0, 0, fig.canvas.width, fig.canvas.height);\n",
       "\n",
       "    fig.rubberband_context.strokeRect(min_x, min_y, width, height);\n",
       "}\n",
       "\n",
       "mpl.figure.prototype.handle_figure_label = function(fig, msg) {\n",
       "    // Updates the figure title.\n",
       "    fig.header.textContent = msg['label'];\n",
       "}\n",
       "\n",
       "mpl.figure.prototype.handle_cursor = function(fig, msg) {\n",
       "    var cursor = msg['cursor'];\n",
       "    switch(cursor)\n",
       "    {\n",
       "    case 0:\n",
       "        cursor = 'pointer';\n",
       "        break;\n",
       "    case 1:\n",
       "        cursor = 'default';\n",
       "        break;\n",
       "    case 2:\n",
       "        cursor = 'crosshair';\n",
       "        break;\n",
       "    case 3:\n",
       "        cursor = 'move';\n",
       "        break;\n",
       "    }\n",
       "    fig.rubberband_canvas.style.cursor = cursor;\n",
       "}\n",
       "\n",
       "mpl.figure.prototype.handle_message = function(fig, msg) {\n",
       "    fig.message.textContent = msg['message'];\n",
       "}\n",
       "\n",
       "mpl.figure.prototype.handle_draw = function(fig, msg) {\n",
       "    // Request the server to send over a new figure.\n",
       "    fig.send_draw_message();\n",
       "}\n",
       "\n",
       "mpl.figure.prototype.handle_image_mode = function(fig, msg) {\n",
       "    fig.image_mode = msg['mode'];\n",
       "}\n",
       "\n",
       "mpl.figure.prototype.updated_canvas_event = function() {\n",
       "    // Called whenever the canvas gets updated.\n",
       "    this.send_message(\"ack\", {});\n",
       "}\n",
       "\n",
       "// A function to construct a web socket function for onmessage handling.\n",
       "// Called in the figure constructor.\n",
       "mpl.figure.prototype._make_on_message_function = function(fig) {\n",
       "    return function socket_on_message(evt) {\n",
       "        if (evt.data instanceof Blob) {\n",
       "            /* FIXME: We get \"Resource interpreted as Image but\n",
       "             * transferred with MIME type text/plain:\" errors on\n",
       "             * Chrome.  But how to set the MIME type?  It doesn't seem\n",
       "             * to be part of the websocket stream */\n",
       "            evt.data.type = \"image/png\";\n",
       "\n",
       "            /* Free the memory for the previous frames */\n",
       "            if (fig.imageObj.src) {\n",
       "                (window.URL || window.webkitURL).revokeObjectURL(\n",
       "                    fig.imageObj.src);\n",
       "            }\n",
       "\n",
       "            fig.imageObj.src = (window.URL || window.webkitURL).createObjectURL(\n",
       "                evt.data);\n",
       "            fig.updated_canvas_event();\n",
       "            fig.waiting = false;\n",
       "            return;\n",
       "        }\n",
       "        else if (typeof evt.data === 'string' && evt.data.slice(0, 21) == \"data:image/png;base64\") {\n",
       "            fig.imageObj.src = evt.data;\n",
       "            fig.updated_canvas_event();\n",
       "            fig.waiting = false;\n",
       "            return;\n",
       "        }\n",
       "\n",
       "        var msg = JSON.parse(evt.data);\n",
       "        var msg_type = msg['type'];\n",
       "\n",
       "        // Call the  \"handle_{type}\" callback, which takes\n",
       "        // the figure and JSON message as its only arguments.\n",
       "        try {\n",
       "            var callback = fig[\"handle_\" + msg_type];\n",
       "        } catch (e) {\n",
       "            console.log(\"No handler for the '\" + msg_type + \"' message type: \", msg);\n",
       "            return;\n",
       "        }\n",
       "\n",
       "        if (callback) {\n",
       "            try {\n",
       "                // console.log(\"Handling '\" + msg_type + \"' message: \", msg);\n",
       "                callback(fig, msg);\n",
       "            } catch (e) {\n",
       "                console.log(\"Exception inside the 'handler_\" + msg_type + \"' callback:\", e, e.stack, msg);\n",
       "            }\n",
       "        }\n",
       "    };\n",
       "}\n",
       "\n",
       "// from http://stackoverflow.com/questions/1114465/getting-mouse-location-in-canvas\n",
       "mpl.findpos = function(e) {\n",
       "    //this section is from http://www.quirksmode.org/js/events_properties.html\n",
       "    var targ;\n",
       "    if (!e)\n",
       "        e = window.event;\n",
       "    if (e.target)\n",
       "        targ = e.target;\n",
       "    else if (e.srcElement)\n",
       "        targ = e.srcElement;\n",
       "    if (targ.nodeType == 3) // defeat Safari bug\n",
       "        targ = targ.parentNode;\n",
       "\n",
       "    // jQuery normalizes the pageX and pageY\n",
       "    // pageX,Y are the mouse positions relative to the document\n",
       "    // offset() returns the position of the element relative to the document\n",
       "    var x = e.pageX - $(targ).offset().left;\n",
       "    var y = e.pageY - $(targ).offset().top;\n",
       "\n",
       "    return {\"x\": x, \"y\": y};\n",
       "};\n",
       "\n",
       "/*\n",
       " * return a copy of an object with only non-object keys\n",
       " * we need this to avoid circular references\n",
       " * http://stackoverflow.com/a/24161582/3208463\n",
       " */\n",
       "function simpleKeys (original) {\n",
       "  return Object.keys(original).reduce(function (obj, key) {\n",
       "    if (typeof original[key] !== 'object')\n",
       "        obj[key] = original[key]\n",
       "    return obj;\n",
       "  }, {});\n",
       "}\n",
       "\n",
       "mpl.figure.prototype.mouse_event = function(event, name) {\n",
       "    var canvas_pos = mpl.findpos(event)\n",
       "\n",
       "    if (name === 'button_press')\n",
       "    {\n",
       "        this.canvas.focus();\n",
       "        this.canvas_div.focus();\n",
       "    }\n",
       "\n",
       "    var x = canvas_pos.x * mpl.ratio;\n",
       "    var y = canvas_pos.y * mpl.ratio;\n",
       "\n",
       "    this.send_message(name, {x: x, y: y, button: event.button,\n",
       "                             step: event.step,\n",
       "                             guiEvent: simpleKeys(event)});\n",
       "\n",
       "    /* This prevents the web browser from automatically changing to\n",
       "     * the text insertion cursor when the button is pressed.  We want\n",
       "     * to control all of the cursor setting manually through the\n",
       "     * 'cursor' event from matplotlib */\n",
       "    event.preventDefault();\n",
       "    return false;\n",
       "}\n",
       "\n",
       "mpl.figure.prototype._key_event_extra = function(event, name) {\n",
       "    // Handle any extra behaviour associated with a key event\n",
       "}\n",
       "\n",
       "mpl.figure.prototype.key_event = function(event, name) {\n",
       "\n",
       "    // Prevent repeat events\n",
       "    if (name == 'key_press')\n",
       "    {\n",
       "        if (event.which === this._key)\n",
       "            return;\n",
       "        else\n",
       "            this._key = event.which;\n",
       "    }\n",
       "    if (name == 'key_release')\n",
       "        this._key = null;\n",
       "\n",
       "    var value = '';\n",
       "    if (event.ctrlKey && event.which != 17)\n",
       "        value += \"ctrl+\";\n",
       "    if (event.altKey && event.which != 18)\n",
       "        value += \"alt+\";\n",
       "    if (event.shiftKey && event.which != 16)\n",
       "        value += \"shift+\";\n",
       "\n",
       "    value += 'k';\n",
       "    value += event.which.toString();\n",
       "\n",
       "    this._key_event_extra(event, name);\n",
       "\n",
       "    this.send_message(name, {key: value,\n",
       "                             guiEvent: simpleKeys(event)});\n",
       "    return false;\n",
       "}\n",
       "\n",
       "mpl.figure.prototype.toolbar_button_onclick = function(name) {\n",
       "    if (name == 'download') {\n",
       "        this.handle_save(this, null);\n",
       "    } else {\n",
       "        this.send_message(\"toolbar_button\", {name: name});\n",
       "    }\n",
       "};\n",
       "\n",
       "mpl.figure.prototype.toolbar_button_onmouseover = function(tooltip) {\n",
       "    this.message.textContent = tooltip;\n",
       "};\n",
       "mpl.toolbar_items = [[\"Home\", \"Reset original view\", \"fa fa-home icon-home\", \"home\"], [\"Back\", \"Back to  previous view\", \"fa fa-arrow-left icon-arrow-left\", \"back\"], [\"Forward\", \"Forward to next view\", \"fa fa-arrow-right icon-arrow-right\", \"forward\"], [\"\", \"\", \"\", \"\"], [\"Pan\", \"Pan axes with left mouse, zoom with right\", \"fa fa-arrows icon-move\", \"pan\"], [\"Zoom\", \"Zoom to rectangle\", \"fa fa-square-o icon-check-empty\", \"zoom\"], [\"\", \"\", \"\", \"\"], [\"Download\", \"Download plot\", \"fa fa-floppy-o icon-save\", \"download\"]];\n",
       "\n",
       "mpl.extensions = [\"eps\", \"jpeg\", \"pdf\", \"png\", \"ps\", \"raw\", \"svg\", \"tif\"];\n",
       "\n",
       "mpl.default_extension = \"png\";var comm_websocket_adapter = function(comm) {\n",
       "    // Create a \"websocket\"-like object which calls the given IPython comm\n",
       "    // object with the appropriate methods. Currently this is a non binary\n",
       "    // socket, so there is still some room for performance tuning.\n",
       "    var ws = {};\n",
       "\n",
       "    ws.close = function() {\n",
       "        comm.close()\n",
       "    };\n",
       "    ws.send = function(m) {\n",
       "        //console.log('sending', m);\n",
       "        comm.send(m);\n",
       "    };\n",
       "    // Register the callback with on_msg.\n",
       "    comm.on_msg(function(msg) {\n",
       "        //console.log('receiving', msg['content']['data'], msg);\n",
       "        // Pass the mpl event to the overridden (by mpl) onmessage function.\n",
       "        ws.onmessage(msg['content']['data'])\n",
       "    });\n",
       "    return ws;\n",
       "}\n",
       "\n",
       "mpl.mpl_figure_comm = function(comm, msg) {\n",
       "    // This is the function which gets called when the mpl process\n",
       "    // starts-up an IPython Comm through the \"matplotlib\" channel.\n",
       "\n",
       "    var id = msg.content.data.id;\n",
       "    // Get hold of the div created by the display call when the Comm\n",
       "    // socket was opened in Python.\n",
       "    var element = $(\"#\" + id);\n",
       "    var ws_proxy = comm_websocket_adapter(comm)\n",
       "\n",
       "    function ondownload(figure, format) {\n",
       "        window.open(figure.imageObj.src);\n",
       "    }\n",
       "\n",
       "    var fig = new mpl.figure(id, ws_proxy,\n",
       "                           ondownload,\n",
       "                           element.get(0));\n",
       "\n",
       "    // Call onopen now - mpl needs it, as it is assuming we've passed it a real\n",
       "    // web socket which is closed, not our websocket->open comm proxy.\n",
       "    ws_proxy.onopen();\n",
       "\n",
       "    fig.parent_element = element.get(0);\n",
       "    fig.cell_info = mpl.find_output_cell(\"<div id='\" + id + \"'></div>\");\n",
       "    if (!fig.cell_info) {\n",
       "        console.error(\"Failed to find cell for figure\", id, fig);\n",
       "        return;\n",
       "    }\n",
       "\n",
       "    var output_index = fig.cell_info[2]\n",
       "    var cell = fig.cell_info[0];\n",
       "\n",
       "};\n",
       "\n",
       "mpl.figure.prototype.handle_close = function(fig, msg) {\n",
       "    var width = fig.canvas.width/mpl.ratio\n",
       "    fig.root.unbind('remove')\n",
       "\n",
       "    // Update the output cell to use the data from the current canvas.\n",
       "    fig.push_to_output();\n",
       "    var dataURL = fig.canvas.toDataURL();\n",
       "    // Re-enable the keyboard manager in IPython - without this line, in FF,\n",
       "    // the notebook keyboard shortcuts fail.\n",
       "    IPython.keyboard_manager.enable()\n",
       "    $(fig.parent_element).html('<img src=\"' + dataURL + '\" width=\"' + width + '\">');\n",
       "    fig.close_ws(fig, msg);\n",
       "}\n",
       "\n",
       "mpl.figure.prototype.close_ws = function(fig, msg){\n",
       "    fig.send_message('closing', msg);\n",
       "    // fig.ws.close()\n",
       "}\n",
       "\n",
       "mpl.figure.prototype.push_to_output = function(remove_interactive) {\n",
       "    // Turn the data on the canvas into data in the output cell.\n",
       "    var width = this.canvas.width/mpl.ratio\n",
       "    var dataURL = this.canvas.toDataURL();\n",
       "    this.cell_info[1]['text/html'] = '<img src=\"' + dataURL + '\" width=\"' + width + '\">';\n",
       "}\n",
       "\n",
       "mpl.figure.prototype.updated_canvas_event = function() {\n",
       "    // Tell IPython that the notebook contents must change.\n",
       "    IPython.notebook.set_dirty(true);\n",
       "    this.send_message(\"ack\", {});\n",
       "    var fig = this;\n",
       "    // Wait a second, then push the new image to the DOM so\n",
       "    // that it is saved nicely (might be nice to debounce this).\n",
       "    setTimeout(function () { fig.push_to_output() }, 1000);\n",
       "}\n",
       "\n",
       "mpl.figure.prototype._init_toolbar = function() {\n",
       "    var fig = this;\n",
       "\n",
       "    var nav_element = $('<div/>')\n",
       "    nav_element.attr('style', 'width: 100%');\n",
       "    this.root.append(nav_element);\n",
       "\n",
       "    // Define a callback function for later on.\n",
       "    function toolbar_event(event) {\n",
       "        return fig.toolbar_button_onclick(event['data']);\n",
       "    }\n",
       "    function toolbar_mouse_event(event) {\n",
       "        return fig.toolbar_button_onmouseover(event['data']);\n",
       "    }\n",
       "\n",
       "    for(var toolbar_ind in mpl.toolbar_items){\n",
       "        var name = mpl.toolbar_items[toolbar_ind][0];\n",
       "        var tooltip = mpl.toolbar_items[toolbar_ind][1];\n",
       "        var image = mpl.toolbar_items[toolbar_ind][2];\n",
       "        var method_name = mpl.toolbar_items[toolbar_ind][3];\n",
       "\n",
       "        if (!name) { continue; };\n",
       "\n",
       "        var button = $('<button class=\"btn btn-default\" href=\"#\" title=\"' + name + '\"><i class=\"fa ' + image + ' fa-lg\"></i></button>');\n",
       "        button.click(method_name, toolbar_event);\n",
       "        button.mouseover(tooltip, toolbar_mouse_event);\n",
       "        nav_element.append(button);\n",
       "    }\n",
       "\n",
       "    // Add the status bar.\n",
       "    var status_bar = $('<span class=\"mpl-message\" style=\"text-align:right; float: right;\"/>');\n",
       "    nav_element.append(status_bar);\n",
       "    this.message = status_bar[0];\n",
       "\n",
       "    // Add the close button to the window.\n",
       "    var buttongrp = $('<div class=\"btn-group inline pull-right\"></div>');\n",
       "    var button = $('<button class=\"btn btn-mini btn-primary\" href=\"#\" title=\"Stop Interaction\"><i class=\"fa fa-power-off icon-remove icon-large\"></i></button>');\n",
       "    button.click(function (evt) { fig.handle_close(fig, {}); } );\n",
       "    button.mouseover('Stop Interaction', toolbar_mouse_event);\n",
       "    buttongrp.append(button);\n",
       "    var titlebar = this.root.find($('.ui-dialog-titlebar'));\n",
       "    titlebar.prepend(buttongrp);\n",
       "}\n",
       "\n",
       "mpl.figure.prototype._root_extra_style = function(el){\n",
       "    var fig = this\n",
       "    el.on(\"remove\", function(){\n",
       "\tfig.close_ws(fig, {});\n",
       "    });\n",
       "}\n",
       "\n",
       "mpl.figure.prototype._canvas_extra_style = function(el){\n",
       "    // this is important to make the div 'focusable\n",
       "    el.attr('tabindex', 0)\n",
       "    // reach out to IPython and tell the keyboard manager to turn it's self\n",
       "    // off when our div gets focus\n",
       "\n",
       "    // location in version 3\n",
       "    if (IPython.notebook.keyboard_manager) {\n",
       "        IPython.notebook.keyboard_manager.register_events(el);\n",
       "    }\n",
       "    else {\n",
       "        // location in version 2\n",
       "        IPython.keyboard_manager.register_events(el);\n",
       "    }\n",
       "\n",
       "}\n",
       "\n",
       "mpl.figure.prototype._key_event_extra = function(event, name) {\n",
       "    var manager = IPython.notebook.keyboard_manager;\n",
       "    if (!manager)\n",
       "        manager = IPython.keyboard_manager;\n",
       "\n",
       "    // Check for shift+enter\n",
       "    if (event.shiftKey && event.which == 13) {\n",
       "        this.canvas_div.blur();\n",
       "        event.shiftKey = false;\n",
       "        // Send a \"J\" for go to next cell\n",
       "        event.which = 74;\n",
       "        event.keyCode = 74;\n",
       "        manager.command_mode();\n",
       "        manager.handle_keydown(event);\n",
       "    }\n",
       "}\n",
       "\n",
       "mpl.figure.prototype.handle_save = function(fig, msg) {\n",
       "    fig.ondownload(fig, null);\n",
       "}\n",
       "\n",
       "\n",
       "mpl.find_output_cell = function(html_output) {\n",
       "    // Return the cell and output element which can be found *uniquely* in the notebook.\n",
       "    // Note - this is a bit hacky, but it is done because the \"notebook_saving.Notebook\"\n",
       "    // IPython event is triggered only after the cells have been serialised, which for\n",
       "    // our purposes (turning an active figure into a static one), is too late.\n",
       "    var cells = IPython.notebook.get_cells();\n",
       "    var ncells = cells.length;\n",
       "    for (var i=0; i<ncells; i++) {\n",
       "        var cell = cells[i];\n",
       "        if (cell.cell_type === 'code'){\n",
       "            for (var j=0; j<cell.output_area.outputs.length; j++) {\n",
       "                var data = cell.output_area.outputs[j];\n",
       "                if (data.data) {\n",
       "                    // IPython >= 3 moved mimebundle to data attribute of output\n",
       "                    data = data.data;\n",
       "                }\n",
       "                if (data['text/html'] == html_output) {\n",
       "                    return [cell, data, j];\n",
       "                }\n",
       "            }\n",
       "        }\n",
       "    }\n",
       "}\n",
       "\n",
       "// Register the function which deals with the matplotlib target/channel.\n",
       "// The kernel may be null if the page has been refreshed.\n",
       "if (IPython.notebook.kernel != null) {\n",
       "    IPython.notebook.kernel.comm_manager.register_target('matplotlib', mpl.mpl_figure_comm);\n",
       "}\n"
      ],
      "text/plain": [
       "<IPython.core.display.Javascript object>"
      ]
     },
     "metadata": {},
     "output_type": "display_data"
    },
    {
     "data": {
      "text/html": [
       "<img src=\"data:image/png;base64,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\" width=\"1000\">"
      ],
      "text/plain": [
       "<IPython.core.display.HTML object>"
      ]
     },
     "metadata": {},
     "output_type": "display_data"
    },
    {
     "data": {
      "application/vnd.jupyter.widget-view+json": {
       "model_id": "eb2c468d8064405890bbe6c614be5af0",
       "version_major": 2,
       "version_minor": 0
      },
      "text/plain": [
       "interactive(children=(SelectionSlider(description='ts', index=10035, options=(1522677422216, 1522677422256, 15…"
      ]
     },
     "metadata": {},
     "output_type": "display_data"
    }
   ],
   "source": [
    "timestamps_list = sorted(list(timestamps))\n",
    "kickoff_time_ind = np.argmin(np.abs(np.subtract(timestamps_list, kickoff_time)))\n",
    "kickoff_time_matched = timestamps_list[kickoff_time_ind]\n",
    "print(kickoff_time, kickoff_time_matched)\n",
    "\n",
    "%matplotlib notebook\n",
    "\n",
    "fig = plt.figure(figsize=(10,6))\n",
    "ax = fig.add_subplot(1, 1, 1)\n",
    "left, = plt.plot([], '*r')\n",
    "right, = plt.plot([], '*r')\n",
    "\n",
    "left_b, = plt.plot([], 'ob')\n",
    "right_b, = plt.plot([], 'ob')\n",
    "\n",
    "plt.xlim([0, 105])\n",
    "plt.ylim([0, 68])\n",
    "\n",
    "def update(ts=kickoff_time_matched):\n",
    "    if ts in detections['players']['left']:\n",
    "        left.set_ydata(detections['players']['left'][ts][:, 1])\n",
    "        left.set_xdata(detections['players']['left'][ts][:, 0])\n",
    "    else:\n",
    "        left.set_ydata([])\n",
    "        left.set_xdata([])\n",
    "        \n",
    "    if ts in detections['players']['right']:\n",
    "        right.set_ydata(detections['players']['right'][ts][:, 1])\n",
    "        right.set_xdata(detections['players']['right'][ts][:, 0])\n",
    "    else:\n",
    "        right.set_ydata([])\n",
    "        right.set_xdata([])\n",
    "\n",
    "    if ts in detections['ball']['left'] and len(detections['ball']['left'][ts]):\n",
    "        left_b.set_ydata(detections['ball']['left'][ts][:, 1])\n",
    "        left_b.set_xdata(detections['ball']['left'][ts][:, 0])\n",
    "    else:\n",
    "        left_b.set_ydata([])\n",
    "        left_b.set_xdata([])        \n",
    "    if ts in detections['ball']['right'] and len(detections['ball']['right'][ts]):\n",
    "        right_b.set_ydata(detections['ball']['right'][ts][:, 1])\n",
    "        right_b.set_xdata(detections['ball']['right'][ts][:, 0])\n",
    "    else:\n",
    "        right_b.set_ydata([])\n",
    "        right_b.set_xdata([])\n",
    "    \n",
    "    \n",
    "wid = widgets.SelectionSlider(\n",
    "    options=timestamps_list,\n",
    "    value=kickoff_time_matched,\n",
    "    continuous_update=True,\n",
    "    orientation='horizontal',\n",
    "    readout=True\n",
    ")\n",
    "    \n",
    "interact(update, ts = wid);"
   ]
  },
  {
   "cell_type": "code",
   "execution_count": null,
   "metadata": {},
   "outputs": [],
   "source": [
    "# {'id': 'd1a98e08-0f21-46fe-8457-01ff183ddbeb', 'calibration': {'views': ['left', 'right'], 'reference_landmarks': {'object': 'calibrations/tele2_landmarks.json', 'bucket': 'signality.ironfist.models'}}, 'replay_urls': ['//liveplay.signality.com/data/d1a98e08-0f21-46fe-8457-01ff183ddbeb_phase1.data', '//liveplay.signality.com/data/d1a98e08-0f21-46fe-8457-01ff183ddbeb_phase2.data'], 'camera_mode': 'static', 'away_team': {'colors': {'team': '#000000', 'goalkeeper': '#ffff00'}, 'logo_url': 'http://images.signality.com/team-logos/orebro.png', 'name': 'Örebro SK'}, 'phase_events': [{'type': 'start_phase', 'ts': datetime.datetime(2018, 5, 17, 17, 0, 2, 362000, tzinfo=<rethinkdb.ast.RqlTzinfo object at 0x7f4d1c61e4e0>), 'kickoff_team_id': 12, 'phase': 1}, {'type': 'end_phase', 'ts': datetime.datetime(2018, 5, 17, 17, 47, 7, 92000, tzinfo=<rethinkdb.ast.RqlTzinfo object at 0x7f4d1c61e518>), 'phase': 1}, {'type': 'start_phase', 'ts': datetime.datetime(2018, 5, 17, 18, 4, 2, 891000, tzinfo=<rethinkdb.ast.RqlTzinfo object at 0x7f4d1c61e630>), 'kickoff_team_id': 11, 'phase': 2}, {'type': 'end_phase', 'ts': datetime.datetime(2018, 5, 17, 18, 52, 6, 565000, tzinfo=<rethinkdb.ast.RqlTzinfo object at 0x7f4d1c61e6a0>), 'phase': 2}], 'start_time': datetime.datetime(2018, 5, 17, 19, 0, tzinfo=<rethinkdb.ast.RqlTzinfo object at 0x7f4d1c61e780>), 'state': 'Destroyed', 'external_data': {'smc': {'match_id': 3704, 'home_team_id': 11, 'league_id': 12, 'away_team_id': 12}}, 'streams': {'left': {'url': 'https://d35u71x3nb8v2y.cloudfront.net/f75295bb-c143-4472-a151-d849f9916e75/ca074983-09a2-451f-8730-90efa6701dc8/playlist.m3u8', 'utc': datetime.datetime(2018, 5, 17, 16, 45, 41, 197000, tzinfo=<rethinkdb.ast.RqlTzinfo object at 0x7f4d1c61e9e8>)}, 'autofollow_render_segments': {'url': 'https://d35u71x3nb8v2y.cloudfront.net/f75295bb-c143-4472-a151-d849f9916e75/d890161e-59fa-4f39-9758-b9d5b10357af/playlist.m3u8', 'utc': datetime.datetime(2018, 5, 17, 16, 45, 41, 197000, tzinfo=<rethinkdb.ast.RqlTzinfo object at 0x7f4d1c61e9b0>)}, 'virtual_panorama_segments': {'url': 'https://d35u71x3nb8v2y.cloudfront.net/f75295bb-c143-4472-a151-d849f9916e75/b5e093f3-f8e7-4643-a87a-d9a76256a735/playlist.m3u8', 'utc': datetime.datetime(2018, 5, 17, 16, 45, 41, 197000, tzinfo=<rethinkdb.ast.RqlTzinfo object at 0x7f4d1c61ec88>)}, 'goal_south_segments': {'url': 'https://d35u71x3nb8v2y.cloudfront.net/f75295bb-c143-4472-a151-d849f9916e75/c841f705-de34-4428-b56e-7c9803ab4eca/playlist.m3u8', 'utc': datetime.datetime(2018, 5, 17, 16, 45, 41, 143000, tzinfo=<rethinkdb.ast.RqlTzinfo object at 0x7f4d1c61eac8>)}, 'right': {'url': 'https://d35u71x3nb8v2y.cloudfront.net/f75295bb-c143-4472-a151-d849f9916e75/d8112841-7cf8-48ae-89ce-f327c282916c/playlist.m3u8', 'utc': datetime.datetime(2018, 5, 17, 16, 45, 41, 124000, tzinfo=<rethinkdb.ast.RqlTzinfo object at 0x7f4d1c61ea20>)}, 'goal_north_segments': {'url': 'https://d35u71x3nb8v2y.cloudfront.net/f75295bb-c143-4472-a151-d849f9916e75/9a7b8e83-dbc0-436b-a116-7f8d085057c2/playlist.m3u8', 'utc': datetime.datetime(2018, 5, 17, 16, 45, 41, 141000, tzinfo=<rethinkdb.ast.RqlTzinfo object at 0x7f4d1c61ea58>)}}, 'pitch_size': [105, 68], 'home_team': {'colors': {'team': '#5a9dde', 'goalkeeper': '#ffffff'}, 'logo_url': 'http://images.signality.com/team-logos/djurgarden.png', 'name': 'Djurgårdens IF'}, 'referees': {'colors': '#000000'}, 'competition': 'Allsvenskan', 'redis': {'host': 'redis', 'port': 6379}, 'rethinkdb': {'host': 'db.signality.com', 'user': 'game_viewer', 'db': 'livetrack', 'ssl': {'ca_certs': '/home/ubuntu/workspace/ironfist/ironfist/utils/../applications/livetrack/config/db.signality.cert.pem'}, 'password': 'MmPHrqmXaVeu', 'port': 28015}, 'nchan': {'url': 'http://nchan:8080'}, 'arena': 'Tele2 Arena', 'stats': [{'home_team': {'failed_passes': 163, 'possessing_team': 0, 'passes': 181, 'distance': 62777.64480394193, 'possession': 25067, 'packing': 260}, 'source': 'signality', 'phase': 1, 'away_team': {'failed_passes': 163, 'possessing_team': 1, 'passes': 191, 'distance': 60097.76136929008, 'possession': 23934, 'packing': 252}, 'utc_time': 1526579225125, 'match_time': 2822763}, {'home_team': {'failed_passes': 157, 'possessing_team': 0, 'passes': 147, 'distance': 62576.815733754884, 'possession': 20009, 'packing': 196}, 'source': 'signality', 'phase': 2, 'away_team': {'failed_passes': 158, 'possessing_team': 1, 'passes': 206, 'distance': 57684.92804763888, 'possession': 28384, 'packing': 240}, 'utc_time': 1526583124565, 'match_time': 2881674}], 'video_shape': [2160, 3840, 3], 'rdb': [{'key': '20180517.djurgårdens-if-örebro-sk.2.rdb', 'bucket': 'signality.soccer.backup', 'phase': 2}]}"
   ]
  },
  {
   "cell_type": "code",
   "execution_count": 14,
   "metadata": {},
   "outputs": [],
   "source": [
    "def select_time(time_list,detections):\n",
    "    l=list()\n",
    "    truth_list=list()\n",
    "    for i in range(len(time_list)):\n",
    "        truth_list.append(True)\n",
    "        if time_list[i] in detections['players']['left'] and time_list[i] in detections['players']['right']:\n",
    "            l.append([time_list[i],time_list[i]])\n",
    "            truth_list[i]=False\n",
    "        if i>0:\n",
    "            if time_list[i-1] in detections['players']['left'] and time_list[i] in detections['players']['right'] and truth_list[i] and truth_list[i-1] and time_list[i]-time_list[i-1]<=20:\n",
    "                l.append([time_list[i-1],time_list[i]])\n",
    "                truth_list[i]=False\n",
    "            if time_list[i] in detections['players']['left'] and time_list[i-1] in detections['players']['right'] and truth_list[i] and truth_list[i-1] and time_list[i]-time_list[i-1]<=20:\n",
    "                l.append([time_list[i],time_list[i-1]])\n",
    "                truth_list[i]=False\n",
    "    return l\n",
    "\n",
    "l=select_time(timestamps_list,detections)"
   ]
  },
  {
   "cell_type": "code",
   "execution_count": 15,
   "metadata": {},
   "outputs": [],
   "source": [
    "def players_grid(pitch_size,players):\n",
    "    compteur=0\n",
    "    grid=[0 for i in range(32)]\n",
    "    length=pitch_size[0]\n",
    "    width=pitch_size[1]\n",
    "    length_edge=length/8\n",
    "    width_edge=width/4\n",
    "    for i in range(len(players)):\n",
    "        k=0\n",
    "        j=0\n",
    "        if players[i][0]<=length and players[i][1]<=width and players[i][0]>=0 and players[i][1]>=0 :\n",
    "            compteur+=1\n",
    "            while players[i][0]>(k+1)*length_edge:\n",
    "                k+=1\n",
    "            while players[i][1]>(j+1)*width_edge:\n",
    "                j+=1\n",
    "            grid[8*j+k]+=1\n",
    "    if compteur>0:\n",
    "        new_grid=[float(grid[i])/float(compteur) for i in range(32)]\n",
    "    else:\n",
    "        new_grid=grid\n",
    "    return new_grid\n",
    "\n",
    "def ball_grid(pitch_size,ball):\n",
    "    grid=[0 for i in range(35)]\n",
    "    length=pitch_size[0]\n",
    "    width=pitch_size[1]\n",
    "    length_edge=length/7\n",
    "    width_edge=width/5\n",
    "    for i in range(len(ball)):\n",
    "        k=0\n",
    "        j=0\n",
    "        if ball[i][0]<=length and ball[i][1]<=width and ball[i][0]>=0 and ball[i][1]>=0:\n",
    "            while ball[i][0]>(k+1)*length_edge:\n",
    "                k+=1\n",
    "            while ball[i][1]>(j+1)*width_edge:\n",
    "                j+=1\n",
    "            grid[7*j+k]+=1\n",
    "    return grid"
   ]
  },
  {
   "cell_type": "code",
   "execution_count": 16,
   "metadata": {},
   "outputs": [],
   "source": [
    "def pitch_composition_t(time,detections,pitch_size):\n",
    "    compo=list()\n",
    "    if isinstance(detections['ball']['left'][time[0]],list):\n",
    "        compo=compo+ball_grid(pitch_size,detections['ball']['left'][time[0]])\n",
    "    if isinstance(detections['ball']['left'][time[0]],np.ndarray):\n",
    "        compo=compo+ball_grid(pitch_size,detections['ball']['left'][time[0]].tolist())\n",
    "        \n",
    "    if isinstance(detections['ball']['right'][time[1]],list):\n",
    "        compo=compo+ball_grid(pitch_size,detections['ball']['right'][time[1]])\n",
    "    if isinstance(detections['ball']['right'][time[1]],np.ndarray):\n",
    "        compo=compo+ball_grid(pitch_size,detections['ball']['right'][time[1]].tolist())\n",
    "    \n",
    "    if isinstance(detections['players']['left'][time[0]],list):\n",
    "        compo=compo+players_grid(pitch_size,detections['players']['left'][time[0]])\n",
    "    if isinstance(detections['players']['left'][time[0]],np.ndarray):\n",
    "        compo=compo+players_grid(pitch_size,detections['players']['left'][time[0]].tolist())\n",
    "        \n",
    "    if isinstance(detections['players']['right'][time[1]],list):\n",
    "        compo=compo+players_grid(pitch_size,detections['players']['right'][time[1]])\n",
    "    if isinstance(detections['players']['right'][time[1]],np.ndarray):\n",
    "        compo=compo+players_grid(pitch_size,detections['players']['right'][time[1]].tolist())\n",
    "    return compo\n",
    "    \n",
    "def pitch_composition(time_list,detections,pitch_size):\n",
    "    l=select_time(time_list,detections)\n",
    "    seq=list()\n",
    "    for i in range(len(l)):\n",
    "        seq.append(pitch_composition_t(l[i],detections,pitch_size))\n",
    "    return seq\n"
   ]
  },
  {
   "cell_type": "code",
   "execution_count": 17,
   "metadata": {},
   "outputs": [],
   "source": [
    "def movement_sequences(inputs,outputs,regression_output=[]):\n",
    "    inputs=np.array(inputs)\n",
    "    new_inputs=list()\n",
    "    new_outputs=list()\n",
    "    new_regression_output=list()\n",
    "    for i in range(len(outputs)-2):\n",
    "        new_inputs.append(inputs[i+1].tolist()+(inputs[i+2]-inputs[i]).tolist()+(inputs[i+1]-inputs[i]).tolist())\n",
    "        new_outputs.append(outputs[i+1])\n",
    "        if len(regression_output)>0:\n",
    "            new_regression_output.append(regression_output[i+1])\n",
    "    if len(regression_output)>0:\n",
    "        return new_inputs,new_outputs,new_regression_output\n",
    "    return new_inputs,new_outputs\n",
    "\n",
    "def sequence_composition(time_list,detections,pitch_size,size_sequence,diminish_size):\n",
    "    sequences=list()\n",
    "    pitch_compo=pitch_composition(time_list,detections,pitch_size)\n",
    "    for i in range(0,len(pitch_compo)-size_sequence+1,diminish_size):\n",
    "        seq_t=list()\n",
    "        for j in range(0,size_sequence,diminish_size):\n",
    "            seq_t=seq_t+pitch_compo[i+j]\n",
    "        sequences.append(seq_t)\n",
    "    return sequences\n",
    "\n"
   ]
  },
  {
   "cell_type": "code",
   "execution_count": 18,
   "metadata": {},
   "outputs": [],
   "source": [
    "def labels_seq_regression(time_list,detections,pitch_size,diminish_size,kickoff_time):\n",
    "    l=select_time(time_list,detections)\n",
    "    y=list()\n",
    "    for i in range(0,len(l)-diminish_size+1):\n",
    "        if l[i][0]<=kickoff_time and kickoff_time<=l[i+diminish_size-1][0]:\n",
    "            y.append(1)\n",
    "        else:\n",
    "            y.append(0)\n",
    "    return y\n",
    "\n",
    "def labels_regression(time_list,detections,pitch_size,size_sequence,diminish_size,kickoff_time):\n",
    "    label_seq=labels_seq_regression(time_list,detections,pitch_size,diminish_size,kickoff_time)\n",
    "    sequences=list()\n",
    "    for i in range(0,len(label_seq)-size_sequence+1,diminish_size):\n",
    "        seq_t=list()\n",
    "        for j in range(0,size_sequence,diminish_size):\n",
    "            seq_t.append(label_seq[i+j])\n",
    "        sequences.append(seq_t)\n",
    "    return sequences\n",
    "\n",
    "def select_kickoff_sequences(time_list,detections,pitch_size,size_sequence,diminish_size,kickoff_time):\n",
    "    X=sequence_composition(time_list,detections,pitch_size,size_sequence,diminish_size)\n",
    "    Y=labels(time_list,detections,pitch_size,size_sequence,diminish_size,kickoff_time)\n",
    "    y=labels_regression(time_list,detections,pitch_size,size_sequence,diminish_size,kickoff_time)\n",
    "    X,Y,y=movement_sequences(X,Y,y)\n",
    "    new_X=list()\n",
    "    new_y=list()\n",
    "    if Y.count(1)>0:\n",
    "        print(len(y),len(X))\n",
    "        print(Y.index(1))\n",
    "        print(Y.count(1))\n",
    "        new_y=y[Y.index(1):Y.index(1)+Y.count(1)]\n",
    "        new_X=X[Y.index(1):Y.index(1)+Y.count(1)]\n",
    "    return new_X,new_y\n",
    "    \n",
    "def detect_kickofftime(outputs):\n",
    "    new_outputs=list()\n",
    "    for i in range(len(outputs)):\n",
    "        new_outputs.append(len(outputs[i])-1-outputs[i].index(1))\n",
    "    return new_outputs\n",
    "\n"
   ]
  },
  {
   "cell_type": "code",
   "execution_count": 21,
   "metadata": {},
   "outputs": [
    {
     "name": "stdout",
     "output_type": "stream",
     "text": [
      "16\n"
     ]
    },
    {
     "data": {
      "text/plain": [
       "283"
      ]
     },
     "execution_count": 21,
     "metadata": {},
     "output_type": "execute_result"
    }
   ],
   "source": [
    "def labels(time_list,detections,pitch_size,size_sequence,diminish_size,kickoff_time):\n",
    "    l=select_time(time_list,detections)\n",
    "    y=list()\n",
    "    for i in range(0,len(l)-size_sequence+1,diminish_size):\n",
    "        if max(l[i][0],l[i][1])+1500<=kickoff_time and kickoff_time+2000<=min(l[i+size_sequence-1][0],l[i+size_sequence-1][1]):\n",
    "            y.append(1)\n",
    "        else:\n",
    "            y.append(-1)\n",
    "    return y\n",
    "\n",
    "def reduce_size(X,Y,reduc_size):\n",
    "    compteur=0\n",
    "    new_X=list()\n",
    "    new_Y=list()\n",
    "    for i in range(len(X)):\n",
    "        if Y[i]==1:\n",
    "            new_Y.append(1)\n",
    "            new_X.append(X[i])\n",
    "            compteur=0\n",
    "        if Y[i]==-1:\n",
    "            compteur+=1\n",
    "        if compteur>=reduc_size:\n",
    "            compteur=0\n",
    "            new_Y.append(Y[i])\n",
    "            new_X.append(X[i])\n",
    "    return new_X,new_Y\n",
    "X=sequence_composition(timestamps_list,detections,pitch_size,500,25)\n",
    "Y=labels(timestamps_list,detections,pitch_size,500,25,kickoff_time_matched)\n",
    "print(Y.count(1))\n",
    "#X,Y=movement_sequences(X,Y)\n",
    "#X,Y=reduce_size(X,Y,10)\n",
    "Y.index(1)\n"
   ]
  },
  {
   "cell_type": "code",
   "execution_count": 20,
   "metadata": {},
   "outputs": [],
   "source": [
    "import pickle\n",
    "import glob"
   ]
  },
  {
   "cell_type": "code",
   "execution_count": 22,
   "metadata": {},
   "outputs": [],
   "source": [
    "import datetime \n",
    "\n",
    "wrong_kickofftimes=dict()\n",
    "wrong_kickofftimes['../kickoff-data-corrected/2739587b-312a-4d40-ba1a-9b5e3ebf5c9c.2']=1527429926306\n",
    "wrong_kickofftimes['../kickoff-data-corrected/0d9e9e30-9d13-4af0-8e41-fe1669e9eeff.1']=1523192430151\n",
    "wrong_kickofftimes['../kickoff-data-corrected/b0cbf7ed-a9ce-4434-9e4d-072065ee61bc.2']=0\n",
    "wrong_kickofftimes['../kickoff-data-corrected/58bc418b-cf05-415e-9dd1-6f4808535976.2']=0\n",
    "wrong_kickofftimes['../kickoff-data-corrected/314f4989-398c-45a3-a74f-9f1adac71bf1.2']=0\n",
    "wrong_kickofftimes['../kickoff-data-corrected/19bebd81-3b61-492b-85ed-74ff887cbc45.1']=0\n",
    "wrong_kickofftimes['../kickoff-data-corrected/41c3f1b3-a868-459b-9766-760be49947b2.1']=0\n",
    "wrong_kickofftimes['../kickoff-data-corrected/a5857e03-10b8-454a-89fb-c201985b04cb.1']=0\n",
    "wrong_kickofftimes['../kickoff-data-corrected/2b8bcfd6-5f57-46de-aacd-e932ac8e1697.1']=0\n",
    "wrong_kickofftimes['../kickoff-data-corrected/3382a9d0-02ff-4f23-9748-1b715d85b731.1']=0\n",
    "wrong_kickofftimes['../kickoff-data-corrected/cbcca433-ff77-4927-a5a3-36ff293c12fd.1']=0\n",
    "wrong_kickofftimes['../kickoff-data-corrected/3382a9d0-02ff-4f23-9748-1b715d85b731.2']=0\n",
    "\n",
    "#Kickoff dataset 1\n",
    "wrong_kickofftimes['../kickoff-data-corrected/f9f01fbf-6871-4303-b43f-29c2dd16909d.1']=1522674004376\n",
    "wrong_kickofftimes['../kickoff-data-corrected/6e26f66b-a921-4919-9d7d-1bd59f935e78.2']=1523642663619\n",
    "wrong_kickofftimes['../kickoff-data-corrected/27bea627-3caa-47ee-93c3-67f0e26f3034.2']=1523800915381\n",
    "wrong_kickofftimes['../kickoff-data-corrected/050a1fae-5d48-4048-8f66-a3f12eca843d.1']=1526225401862\n",
    "wrong_kickofftimes['../kickoff-data-corrected/57bf9b24-5c68-464f-9e74-20d0b2508bba.2']=1524074585473\n",
    "wrong_kickofftimes['../kickoff-data-corrected/4be6ef54-2541-42d0-a334-e513a535029c.1']=1523714421598\n",
    "wrong_kickofftimes['../kickoff-data-corrected/57bf9b24-5c68-464f-9e74-20d0b2508bba.1']=1524070829775\n",
    "wrong_kickofftimes['../kickoff-data-corrected/2b8bcfd6-5f57-46de-aacd-e932ac8e1697.2']=1523205262301\n",
    "wrong_kickofftimes['../kickoff-data-corrected/b4dbea7c-c72f-4dd6-b57c-8fb7b8b38eb5.1']=1524070811969\n",
    "wrong_kickofftimes['../kickoff-data-corrected/314f4989-398c-45a3-a74f-9f1adac71bf1.1']=1522587657284\n",
    "wrong_kickofftimes['../kickoff-data-corrected/03d0ac1b-8adb-457d-9519-b6c879a92df3.2']=1526825556446\n",
    "wrong_kickofftimes['../kickoff-data-corrected/cbcca433-ff77-4927-a5a3-36ff293c12fd.2']=1523297060408\n",
    "wrong_kickofftimes['../kickoff-data-corrected/a185c6c8-7383-4d19-927f-dc8f70726c34.1']=1523898097097\n",
    "wrong_kickofftimes['../kickoff-data-corrected/a5857e03-10b8-454a-89fb-c201985b04cb.2']=1523383385406\n",
    "wrong_kickofftimes['../kickoff-data-corrected/2dc12819-d486-4925-a0e2-b8ae9ff1aed5.1']=1523192632775\n",
    "wrong_kickofftimes['../kickoff-data-corrected/84e8b33c-d912-495e-9e21-84bdd18e0e04.1']=1523638801059\n",
    "wrong_kickofftimes['../kickoff-data-corrected/9e627901-09e2-4c84-bf77-6f0ec289fa5f.2']=1522686812893\n",
    "wrong_kickofftimes['../kickoff-data-corrected/0d9e9e30-9d13-4af0-8e41-fe1669e9eeff.2']=1523196155117\n",
    "wrong_kickofftimes['../kickoff-data-corrected/19bebd81-3b61-492b-85ed-74ff887cbc45.2']=1522591530455\n",
    "wrong_kickofftimes['../kickoff-data-corrected/cd6d495b-8fe4-4586-8861-ba579cf3a6e9.2']=1523801069565\n",
    "wrong_kickofftimes['../kickoff-data-corrected/2739587b-312a-4d40-ba1a-9b5e3ebf5c9c.1']=1527426007786\n",
    "wrong_kickofftimes['../kickoff-data-corrected/b4dbea7c-c72f-4dd6-b57c-8fb7b8b38eb5.2']=1524074540169\n",
    "wrong_kickofftimes['../kickoff-data-corrected/76d4b783-ae63-4c60-815f-6a81beef6451.1']=1523109744428\n",
    "wrong_kickofftimes['../kickoff-data-corrected/4be6ef54-2541-42d0-a334-e513a535029c.2']=1523718158518\n",
    "wrong_kickofftimes['../kickoff-data-corrected/27bea627-3caa-47ee-93c3-67f0e26f3034.1']=1523797259341\n",
    "wrong_kickofftimes['../kickoff-data-corrected/a185c6c8-7383-4d19-927f-dc8f70726c34.2']=1523901771643\n",
    "wrong_kickofftimes['../kickoff-data-corrected/9e627901-09e2-4c84-bf77-6f0ec289fa5f.1']=1522683146973\n",
    "wrong_kickofftimes['../kickoff-data-corrected/84e8b33c-d912-495e-9e21-84bdd18e0e04.2']=1523642441739\n",
    "wrong_kickofftimes['../kickoff-data-corrected/2dc12819-d486-4925-a0e2-b8ae9ff1aed5.2']=1523196316815\n",
    "wrong_kickofftimes['../kickoff-data-corrected/76d4b783-ae63-4c60-815f-6a81beef6451.2']=1523113379828\n",
    "wrong_kickofftimes['../kickoff-data-corrected/f9f01fbf-6871-4303-b43f-29c2dd16909d.2']=1522677722696\n",
    "wrong_kickofftimes['../kickoff-data-corrected/bff5f37c-be85-4f08-b6d4-a01e6c22fe0e.1']=1523984448769\n",
    "\n",
    "def correct_kickoff_time(name_file,right_kickoff_time,phase):\n",
    "    jsonFile = open(name_file, \"r\") # Open the JSON file for reading\n",
    "    config = json.load(jsonFile) # Read the JSON into the buffer\n",
    "    k=[i for i in range(4) if config['phase_events'][i]['type'] == 'start_phase' and config['phase_events'][i]['phase'] == int(phase)][0]\n",
    "    jsonFile.close() # Close the JSON file\n",
    "\n",
    "    ## Working with buffered content\n",
    "    tmp = config[\"phase_events\"][k][\"ts\"]\n",
    "    config[\"phase_events\"][k][\"ts\"]=datetime.datetime.fromtimestamp(right_kickoff_time/1000).isoformat()\n",
    "    print(\"Json file edited\")\n",
    "\n",
    "    ## Save our changes to JSON file\n",
    "    jsonFile = open(name_file, \"w+\")\n",
    "    jsonFile.write(json.dumps(config))\n",
    "    jsonFile.close()\n",
    "    \n",
    "def correct_json_files(name_file_rdb):\n",
    "    if name_file_rdb in wrong_kickofftimes.keys():\n",
    "        name_file_json=('..{}.json'.format(name_file_rdb.split('.')[-2]))\n",
    "        phase=name_file_rdb.split('.')[-1]\n",
    "        correct_kickoff_time(name_file_json,wrong_kickofftimes[name_file_rdb],phase)"
   ]
  },
  {
   "cell_type": "code",
   "execution_count": 36,
   "metadata": {},
   "outputs": [],
   "source": [
    "def create_dataset(file_name,reduc_size,problem=\"classification\"):\n",
    "    compteur=0\n",
    "    path_to_rdbs = '../kickoff-data-corrected/*.rdb'\n",
    "    for rdb_file in glob.glob(path_to_rdbs):\n",
    "        #Edit json file\n",
    "        game_half = rdb_file.rstrip('.kickoff.rdb')\n",
    "        phase = game_half.split('.')[-1]\n",
    "        correct_json_files(game_half)\n",
    "        \n",
    "        #Import correct data\n",
    "        tracks = parse_dump_file('{}.kickoff.rdb'.format(game_half))\n",
    "        config = json.load(open('..{}.json'.format(game_half.split('.')[-2]), 'r'))\n",
    "        print('..{}.json'.format(game_half.split('.')[-2]))\n",
    "        print(config['phase_events'])\n",
    "        kickoff_1 = [p_e['ts'] for p_e in config['phase_events'] if p_e['type'] == 'start_phase' and p_e['phase'] == int(phase)][0]\n",
    "        kickoff_time = int(parse(kickoff_1).timestamp()*1000)\n",
    "        print(kickoff_time)\n",
    "        pitch_size=config['pitch_size']\n",
    "        detections = {'ball':{'left':{}, 'right':{}}, 'players':{'left':{}, 'right':{}}}\n",
    "        timestamps = set()\n",
    "        for (fd_left, ts_left), (fd_right, ts_right) in tqdm(zip(tracks['left'], tracks['right'])):\n",
    "            fd_left = pickle.loads(fd_left)\n",
    "            fd_right = pickle.loads(fd_right)\n",
    "            if np.abs(ts_left - ts_right) < 100:\n",
    "                ts_left = ts_right\n",
    "            timestamps.update({ts_left, ts_right})\n",
    "            detections['players']['left'][ts_left] = fd_left.top_view_player_positions\n",
    "            detections['players']['right'][ts_right] = fd_right.top_view_player_positions\n",
    "            detections['ball']['left'][ts_left] = np.array([bp for bp, bd in zip(fd_left.top_view_ball_positions, fd_left.ball_detections) if ball_ok(bp, bd)])\n",
    "            detections['ball']['right'][ts_right] = np.array([bp for bp, bd in zip(fd_right.top_view_ball_positions, fd_right.ball_detections) if ball_ok(bp, bd)])\n",
    "        timestamps_list = sorted(list(timestamps))\n",
    "        kickoff_time_ind = np.argmin(np.abs(np.subtract(timestamps_list, kickoff_time)))\n",
    "        kickoff_time_matched = timestamps_list[kickoff_time_ind]\n",
    "        \n",
    "        #Create inputs\n",
    "        \n",
    "        #Classification\n",
    "        if problem==\"classification\":\n",
    "            X=sequence_composition(timestamps_list,detections,pitch_size,150,5)\n",
    "            Y=labels(timestamps_list,detections,pitch_size,150,5,kickoff_time_matched)\n",
    "            print(len(X[0]))\n",
    "            X,Y=movement_sequences(X,Y)\n",
    "            print(Y.count(1))\n",
    "            X,Y=reduce_size(X,Y,reduc_size)\n",
    "            print(len(X[0]),len(Y))\n",
    "            print(Y.count(1))\n",
    "            \n",
    "            #Create file\n",
    "            add_data=True\n",
    "            if Y.count(1)>0 and compteur==0:\n",
    "                with open(file_name, 'wb') as f:\n",
    "                    # Pickle the 'data' dictionary using the highest protocol available.\n",
    "                    pickle.dump([X,Y], f)\n",
    "                    compteur+=1\n",
    "                    add_data=False\n",
    "            if Y.count(1)>0 and add_data:\n",
    "                with open(file_name, 'ab') as f:\n",
    "                    # Pickle the 'data' dictionary using the highest protocol available.\n",
    "                    pickle.dump([X,Y], f)\n",
    "                    compteur+=1\n",
    "                    print(compteur)\n",
    "         \n",
    "        #Regression\n",
    "        if problem==\"regression\":\n",
    "            X,y=select_kickoff_sequences(timestamps_list,detections,pitch_size,500,25,kickoff_time_matched)\n",
    "            print(len(X),len(y))\n",
    "            print(y)\n",
    "            y=detect_kickofftime(y)\n",
    "            print(y)\n",
    "        #Create file\n",
    "            add_data=True\n",
    "            if len(y)>0 and compteur==0:\n",
    "                with open(file_name, 'wb') as f:\n",
    "                    # Pickle the 'data' dictionary using the highest protocol available.\n",
    "                    pickle.dump([X,y], f)\n",
    "                    compteur+=1\n",
    "                    add_data=False\n",
    "            if len(y)>0 and add_data:\n",
    "                with open(file_name, 'ab') as f:\n",
    "                    # Pickle the 'data' dictionary using the highest protocol available.\n",
    "                    pickle.dump([X,y], f)\n",
    "                    compteur+=1\n",
    "                    print(compteur)\n",
    "                    "
   ]
  },
  {
   "cell_type": "code",
   "execution_count": 37,
   "metadata": {},
   "outputs": [
    {
     "name": "stdout",
     "output_type": "stream",
     "text": [
      "Json file edited\n"
     ]
    },
    {
     "name": "stderr",
     "output_type": "stream",
     "text": [
      "774it [00:00, 3984.10it/s]"
     ]
    },
    {
     "name": "stdout",
     "output_type": "stream",
     "text": [
      "Parsed ../kickoff-data-corrected/bff5f37c-be85-4f08-b6d4-a01e6c22fe0e.1.kickoff.rdb in 2.15 s.\n",
      "Contains keys: dict_keys(['left', 'right'])\n",
      "[left] start_ts: 1523984148353 | stop_ts: 1523984746873\n",
      "[right] start_ts: 1523984147529 | stop_ts: 1523984746449\n",
      "../kickoff-data-corrected/bff5f37c-be85-4f08-b6d4-a01e6c22fe0e.json\n",
      "[{'phase': 1, 'ts': '2018-04-17T17:00:48.769000', 'kickoff_team_id': 14, 'type': 'start_phase'}, {'phase': 1, 'ts': '2018-04-17T17:45:52.314Z', 'type': 'end_phase'}, {'phase': 2, 'ts': '2018-04-17T18:00:53.147Z', 'kickoff_team_id': 3, 'type': 'start_phase'}, {'phase': 2, 'ts': '2018-04-17T18:51:00.072Z', 'type': 'end_phase'}]\n",
      "1523984448769\n"
     ]
    },
    {
     "name": "stderr",
     "output_type": "stream",
     "text": [
      "14964it [00:07, 2086.23it/s]\n"
     ]
    },
    {
     "name": "stdout",
     "output_type": "stream",
     "text": [
      "4020\n",
      "12\n",
      "12060 70\n",
      "12\n",
      "Json file edited\n"
     ]
    },
    {
     "name": "stderr",
     "output_type": "stream",
     "text": [
      "526it [00:00, 2535.75it/s]"
     ]
    },
    {
     "name": "stdout",
     "output_type": "stream",
     "text": [
      "Parsed ../kickoff-data-corrected/41c3f1b3-a868-459b-9766-760be49947b2.1.kickoff.rdb in 2.43 s.\n",
      "Contains keys: dict_keys(['left', 'right'])\n",
      "[left] start_ts: 1526316922655 | stop_ts: 1526317521455\n",
      "[right] start_ts: 1526316922561 | stop_ts: 1526317521441\n",
      "../kickoff-data-corrected/41c3f1b3-a868-459b-9766-760be49947b2.json\n",
      "[{'phase': 1, 'ts': '1970-01-01T00:00:00', 'kickoff_team_id': 9, 'type': 'start_phase'}, {'phase': 1, 'ts': '2018-05-14T17:46:22.241Z', 'type': 'end_phase'}, {'phase': 2, 'ts': '2018-05-14T18:01:26.755Z', 'kickoff_team_id': 1, 'type': 'start_phase'}, {'phase': 2, 'ts': '2018-05-14T18:49:29.553Z', 'type': 'end_phase'}]\n",
      "0\n"
     ]
    },
    {
     "name": "stderr",
     "output_type": "stream",
     "text": [
      "14972it [00:08, 1787.18it/s]\n"
     ]
    },
    {
     "name": "stdout",
     "output_type": "stream",
     "text": [
      "4020\n",
      "0\n",
      "12060 59\n",
      "0\n",
      "Json file edited\n"
     ]
    },
    {
     "name": "stderr",
     "output_type": "stream",
     "text": [
      "476it [00:00, 2374.92it/s]"
     ]
    },
    {
     "name": "stdout",
     "output_type": "stream",
     "text": [
      "Parsed ../kickoff-data-corrected/f9f01fbf-6871-4303-b43f-29c2dd16909d.1.kickoff.rdb in 2.00 s.\n",
      "Contains keys: dict_keys(['right', 'left'])\n",
      "[right] start_ts: 1522673702216 | stop_ts: 1522674302096\n",
      "[left] start_ts: 1522673702294 | stop_ts: 1522674302134\n",
      "../kickoff-data-corrected/f9f01fbf-6871-4303-b43f-29c2dd16909d.json\n",
      "[{'phase': 1, 'ts': '2018-04-02T13:00:04.376000', 'kickoff_team_id': 15, 'type': 'start_phase'}, {'phase': 1, 'ts': '2018-04-02T13:47:02.983Z', 'type': 'end_phase'}, {'phase': 2, 'ts': '2018-04-02T14:02:02.696000', 'kickoff_team_id': 4, 'type': 'start_phase'}, {'phase': 2, 'ts': '2018-04-02T14:50:07.639Z', 'type': 'end_phase'}]\n",
      "1522674004376\n"
     ]
    },
    {
     "name": "stderr",
     "output_type": "stream",
     "text": [
      "14996it [00:07, 1909.29it/s]\n"
     ]
    },
    {
     "name": "stdout",
     "output_type": "stream",
     "text": [
      "4020\n",
      "13\n",
      "12060 71\n",
      "13\n",
      "2\n",
      "Json file edited\n"
     ]
    },
    {
     "name": "stderr",
     "output_type": "stream",
     "text": [
      "289it [00:00, 2885.75it/s]"
     ]
    },
    {
     "name": "stdout",
     "output_type": "stream",
     "text": [
      "Parsed ../kickoff-data-corrected/6e26f66b-a921-4919-9d7d-1bd59f935e78.2.kickoff.rdb in 1.65 s.\n",
      "Contains keys: dict_keys(['left', 'right'])\n",
      "[left] start_ts: 1523642363613 | stop_ts: 1523642962133\n",
      "[right] start_ts: 1523642362979 | stop_ts: 1523642961819\n",
      "../kickoff-data-corrected/6e26f66b-a921-4919-9d7d-1bd59f935e78.json\n",
      "[{'phase': 1, 'ts': '2018-04-13T17:01:26.037Z', 'kickoff_team_id': 3, 'type': 'start_phase'}, {'phase': 1, 'ts': '2018-04-13T17:48:25.115Z', 'type': 'end_phase'}, {'phase': 2, 'ts': '2018-04-13T18:04:23.619000', 'kickoff_team_id': 8, 'type': 'start_phase'}, {'phase': 2, 'ts': '2018-04-13T18:52:23.632Z', 'type': 'end_phase'}]\n",
      "1523642663619\n"
     ]
    },
    {
     "name": "stderr",
     "output_type": "stream",
     "text": [
      "14964it [00:06, 2317.98it/s]\n"
     ]
    },
    {
     "name": "stdout",
     "output_type": "stream",
     "text": [
      "4020\n",
      "12\n",
      "12060 70\n",
      "12\n",
      "3\n",
      "Json file edited\n"
     ]
    },
    {
     "name": "stderr",
     "output_type": "stream",
     "text": [
      "337it [00:00, 1682.03it/s]"
     ]
    },
    {
     "name": "stdout",
     "output_type": "stream",
     "text": [
      "Parsed ../kickoff-data-corrected/27bea627-3caa-47ee-93c3-67f0e26f3034.2.kickoff.rdb in 1.73 s.\n",
      "Contains keys: dict_keys(['left', 'right'])\n",
      "[left] start_ts: 1523800614341 | stop_ts: 1523801213661\n",
      "[right] start_ts: 1523800613851 | stop_ts: 1523801213411\n",
      "../kickoff-data-corrected/27bea627-3caa-47ee-93c3-67f0e26f3034.json\n",
      "[{'phase': 1, 'ts': '2018-04-15T13:00:59.341000', 'kickoff_team_id': 4, 'type': 'start_phase'}, {'phase': 1, 'ts': '2018-04-15T13:46:01.064Z', 'type': 'end_phase'}, {'phase': 2, 'ts': '2018-04-15T14:01:55.381000', 'kickoff_team_id': 9, 'type': 'start_phase'}, {'phase': 2, 'ts': '2018-04-15T14:50:42.654Z', 'type': 'end_phase'}]\n",
      "1523800915381\n"
     ]
    },
    {
     "name": "stderr",
     "output_type": "stream",
     "text": [
      "14983it [00:07, 2077.22it/s]\n"
     ]
    },
    {
     "name": "stdout",
     "output_type": "stream",
     "text": [
      "4020\n",
      "13\n",
      "12060 71\n",
      "13\n",
      "4\n"
     ]
    },
    {
     "name": "stderr",
     "output_type": "stream",
     "text": [
      "578it [00:00, 5778.88it/s]"
     ]
    },
    {
     "name": "stdout",
     "output_type": "stream",
     "text": [
      "Parsed ../kickoff-data-corrected/b0cbf7ed-a9ce-4434-9e4d-072065ee61bc.1.kickoff.rdb in 1.86 s.\n",
      "Contains keys: dict_keys(['right', 'left'])\n",
      "[right] start_ts: 1523706912088 | stop_ts: 1523707510928\n",
      "[left] start_ts: 1523706904558 | stop_ts: 1523707503158\n",
      "../kickoff-data-corrected/b0cbf7ed-a9ce-4434-9e4d-072065ee61bc.json\n",
      "[{'phase': 1, 'ts': '2018-04-14T12:00:03.074Z', 'kickoff_team_id': 1, 'type': 'start_phase'}, {'phase': 1, 'ts': '2018-04-14T12:45:30.997Z', 'type': 'end_phase'}, {'phase': 2, 'ts': '1970-01-01T00:00:00', 'kickoff_team_id': 7, 'type': 'start_phase'}, {'phase': 2, 'ts': '2018-04-14T13:50:58.493Z', 'type': 'end_phase'}]\n",
      "1523707203074\n"
     ]
    },
    {
     "name": "stderr",
     "output_type": "stream",
     "text": [
      "14966it [00:05, 2712.71it/s]\n"
     ]
    },
    {
     "name": "stdout",
     "output_type": "stream",
     "text": [
      "4020\n",
      "12\n",
      "12060 69\n",
      "12\n",
      "5\n",
      "Json file edited\n"
     ]
    },
    {
     "name": "stderr",
     "output_type": "stream",
     "text": [
      "523it [00:00, 2713.84it/s]"
     ]
    },
    {
     "name": "stdout",
     "output_type": "stream",
     "text": [
      "Parsed ../kickoff-data-corrected/0d9e9e30-9d13-4af0-8e41-fe1669e9eeff.1.kickoff.rdb in 2.70 s.\n",
      "Contains keys: dict_keys(['left', 'right'])\n",
      "[left] start_ts: 1523192129517 | stop_ts: 1523192728157\n",
      "[right] start_ts: 1523192129071 | stop_ts: 1523192727911\n",
      "../kickoff-data-corrected/0d9e9e30-9d13-4af0-8e41-fe1669e9eeff.json\n",
      "[{'phase': 1, 'ts': '2018-04-08T13:00:30.151000', 'kickoff_team_id': 7, 'type': 'start_phase'}, {'phase': 1, 'ts': '2018-04-08T13:47:27.898Z', 'type': 'end_phase'}, {'phase': 2, 'ts': '2018-04-08T14:02:35.117000', 'kickoff_team_id': 9, 'type': 'start_phase'}, {'phase': 2, 'ts': '2018-04-08T14:51:34.402Z', 'type': 'end_phase'}]\n",
      "1523192430151\n"
     ]
    },
    {
     "name": "stderr",
     "output_type": "stream",
     "text": [
      "14966it [00:08, 1788.77it/s]\n"
     ]
    },
    {
     "name": "stdout",
     "output_type": "stream",
     "text": [
      "4020\n",
      "13\n",
      "12060 71\n",
      "13\n",
      "6\n",
      "Json file edited\n"
     ]
    },
    {
     "name": "stderr",
     "output_type": "stream",
     "text": [
      "257it [00:00, 2565.80it/s]"
     ]
    },
    {
     "name": "stdout",
     "output_type": "stream",
     "text": [
      "Parsed ../kickoff-data-corrected/b0cbf7ed-a9ce-4434-9e4d-072065ee61bc.2.kickoff.rdb in 1.69 s.\n",
      "Contains keys: dict_keys(['left', 'right'])\n",
      "[left] start_ts: 1523710552598 | stop_ts: 1523711150158\n",
      "[right] start_ts: 1523710560128 | stop_ts: 1523711157928\n",
      "../kickoff-data-corrected/b0cbf7ed-a9ce-4434-9e4d-072065ee61bc.json\n",
      "[{'phase': 1, 'ts': '2018-04-14T12:00:03.074Z', 'kickoff_team_id': 1, 'type': 'start_phase'}, {'phase': 1, 'ts': '2018-04-14T12:45:30.997Z', 'type': 'end_phase'}, {'phase': 2, 'ts': '1970-01-01T00:00:00', 'kickoff_team_id': 7, 'type': 'start_phase'}, {'phase': 2, 'ts': '2018-04-14T13:50:58.493Z', 'type': 'end_phase'}]\n",
      "0\n"
     ]
    },
    {
     "name": "stderr",
     "output_type": "stream",
     "text": [
      "14941it [00:06, 2469.55it/s]\n"
     ]
    },
    {
     "name": "stdout",
     "output_type": "stream",
     "text": [
      "4020\n",
      "0\n",
      "12060 58\n",
      "0\n",
      "Json file edited\n"
     ]
    },
    {
     "name": "stderr",
     "output_type": "stream",
     "text": [
      "859it [00:00, 4303.39it/s]"
     ]
    },
    {
     "name": "stdout",
     "output_type": "stream",
     "text": [
      "Parsed ../kickoff-data-corrected/2b8bcfd6-5f57-46de-aacd-e932ac8e1697.1.kickoff.rdb in 1.98 s.\n",
      "Contains keys: dict_keys(['right', 'left'])\n",
      "[right] start_ts: 1523201094061 | stop_ts: 1523201692981\n",
      "[left] start_ts: 1523201092829 | stop_ts: 1523201692349\n",
      "../kickoff-data-corrected/2b8bcfd6-5f57-46de-aacd-e932ac8e1697.json\n",
      "[{'phase': 1, 'ts': '1970-01-01T00:00:00', 'kickoff_team_id': 13, 'type': 'start_phase'}, {'phase': 1, 'ts': '2018-04-08T16:17:54.242Z', 'type': 'end_phase'}, {'phase': 2, 'ts': '2018-04-08T16:34:22.301000', 'kickoff_team_id': 16, 'type': 'start_phase'}, {'phase': 2, 'ts': '2018-04-08T17:23:20.816Z', 'type': 'end_phase'}]\n",
      "0\n"
     ]
    },
    {
     "name": "stderr",
     "output_type": "stream",
     "text": [
      "14951it [00:07, 1985.27it/s]\n"
     ]
    },
    {
     "name": "stdout",
     "output_type": "stream",
     "text": [
      "4020\n",
      "0\n",
      "12060 58\n",
      "0\n",
      "Json file edited\n"
     ]
    },
    {
     "name": "stderr",
     "output_type": "stream",
     "text": [
      "471it [00:00, 2451.02it/s]"
     ]
    },
    {
     "name": "stdout",
     "output_type": "stream",
     "text": [
      "Parsed ../kickoff-data-corrected/050a1fae-5d48-4048-8f66-a3f12eca843d.1.kickoff.rdb in 2.47 s.\n",
      "Contains keys: dict_keys(['right', 'left'])\n",
      "[right] start_ts: 1526225101172 | stop_ts: 1526225700052\n",
      "[left] start_ts: 1526225101102 | stop_ts: 1526225700022\n",
      "../kickoff-data-corrected/050a1fae-5d48-4048-8f66-a3f12eca843d.json\n",
      "[{'phase': 1, 'ts': '2018-05-13T15:30:01.862000', 'kickoff_team_id': 14, 'type': 'start_phase'}, {'phase': 1, 'ts': '2018-05-13T16:16:59.553Z', 'type': 'end_phase'}, {'phase': 2, 'ts': '2018-05-13T16:32:02.287Z', 'kickoff_team_id': 8, 'type': 'start_phase'}, {'phase': 2, 'ts': '2018-05-13T17:20:33.812Z', 'type': 'end_phase'}]\n",
      "1526225401862\n"
     ]
    },
    {
     "name": "stderr",
     "output_type": "stream",
     "text": [
      "14972it [00:06, 2139.49it/s]\n"
     ]
    },
    {
     "name": "stdout",
     "output_type": "stream",
     "text": [
      "4020\n",
      "12\n",
      "12060 70\n",
      "12\n",
      "7\n",
      "Json file edited\n"
     ]
    },
    {
     "name": "stderr",
     "output_type": "stream",
     "text": [
      "195it [00:00, 1945.58it/s]"
     ]
    },
    {
     "name": "stdout",
     "output_type": "stream",
     "text": [
      "Parsed ../kickoff-data-corrected/57bf9b24-5c68-464f-9e74-20d0b2508bba.2.kickoff.rdb in 2.16 s.\n",
      "Contains keys: dict_keys(['left', 'right'])\n",
      "[left] start_ts: 1524074286135 | stop_ts: 1524074882975\n",
      "[right] start_ts: 1524074286793 | stop_ts: 1524074883313\n",
      "../kickoff-data-corrected/57bf9b24-5c68-464f-9e74-20d0b2508bba.json\n",
      "[{'phase': 1, 'ts': '2018-04-18T17:00:29.775000', 'kickoff_team_id': 11, 'type': 'start_phase'}, {'phase': 1, 'ts': '2018-04-18T17:46:35.647Z', 'type': 'end_phase'}, {'phase': 2, 'ts': '2018-04-18T18:03:05.473000', 'kickoff_team_id': 8, 'type': 'start_phase'}, {'phase': 2, 'ts': '2018-04-18T18:52:04.739Z', 'type': 'end_phase'}]\n",
      "1524074585473\n"
     ]
    },
    {
     "name": "stderr",
     "output_type": "stream",
     "text": [
      "14914it [00:07, 1964.99it/s]\n"
     ]
    },
    {
     "name": "stdout",
     "output_type": "stream",
     "text": [
      "4020\n",
      "12\n",
      "12060 70\n",
      "12\n",
      "8\n",
      "Json file edited\n"
     ]
    },
    {
     "name": "stderr",
     "output_type": "stream",
     "text": [
      "667it [00:00, 3415.47it/s]"
     ]
    },
    {
     "name": "stdout",
     "output_type": "stream",
     "text": [
      "Parsed ../kickoff-data-corrected/4be6ef54-2541-42d0-a334-e513a535029c.1.kickoff.rdb in 2.04 s.\n",
      "Contains keys: dict_keys(['right', 'left'])\n",
      "[right] start_ts: 1523714121038 | stop_ts: 1523714720678\n",
      "[left] start_ts: 1523714121022 | stop_ts: 1523714720662\n",
      "../kickoff-data-corrected/4be6ef54-2541-42d0-a334-e513a535029c.json\n",
      "[{'phase': 1, 'ts': '2018-04-14T14:00:21.598000', 'kickoff_team_id': 16, 'type': 'start_phase'}, {'phase': 1, 'ts': '2018-04-14T14:46:37.899Z', 'type': 'end_phase'}, {'phase': 2, 'ts': '2018-04-14T15:02:38.518000', 'kickoff_team_id': 5, 'type': 'start_phase'}, {'phase': 2, 'ts': '2018-04-14T15:51:35.702Z', 'type': 'end_phase'}]\n",
      "1523714421598\n"
     ]
    },
    {
     "name": "stderr",
     "output_type": "stream",
     "text": [
      "14991it [00:07, 1891.29it/s]\n"
     ]
    },
    {
     "name": "stdout",
     "output_type": "stream",
     "text": [
      "4020\n",
      "12\n",
      "12060 70\n",
      "12\n",
      "9\n",
      "Json file edited\n"
     ]
    },
    {
     "name": "stderr",
     "output_type": "stream",
     "text": [
      "109it [00:00, 1084.41it/s]"
     ]
    },
    {
     "name": "stdout",
     "output_type": "stream",
     "text": [
      "Parsed ../kickoff-data-corrected/57bf9b24-5c68-464f-9e74-20d0b2508bba.1.kickoff.rdb in 4.52 s.\n",
      "Contains keys: dict_keys(['right', 'left'])\n",
      "[right] start_ts: 1524070530793 | stop_ts: 1524071128313\n",
      "[left] start_ts: 1524070530135 | stop_ts: 1524071127975\n",
      "../kickoff-data-corrected/57bf9b24-5c68-464f-9e74-20d0b2508bba.json\n",
      "[{'phase': 1, 'ts': '2018-04-18T17:00:29.775000', 'kickoff_team_id': 11, 'type': 'start_phase'}, {'phase': 1, 'ts': '2018-04-18T17:46:35.647Z', 'type': 'end_phase'}, {'phase': 2, 'ts': '2018-04-18T18:03:05.473000', 'kickoff_team_id': 8, 'type': 'start_phase'}, {'phase': 2, 'ts': '2018-04-18T18:52:04.739Z', 'type': 'end_phase'}]\n",
      "1524070829775\n"
     ]
    },
    {
     "name": "stderr",
     "output_type": "stream",
     "text": [
      "14939it [00:08, 1680.38it/s]\n"
     ]
    },
    {
     "name": "stdout",
     "output_type": "stream",
     "text": [
      "4020\n",
      "13\n",
      "12060 71\n",
      "13\n",
      "10\n",
      "Json file edited\n"
     ]
    },
    {
     "name": "stderr",
     "output_type": "stream",
     "text": [
      "\r",
      "0it [00:00, ?it/s]"
     ]
    },
    {
     "name": "stdout",
     "output_type": "stream",
     "text": [
      "Parsed ../kickoff-data-corrected/2b8bcfd6-5f57-46de-aacd-e932ac8e1697.2.kickoff.rdb in 2.19 s.\n",
      "Contains keys: dict_keys(['left', 'right'])\n",
      "[left] start_ts: 1523204960829 | stop_ts: 1523205559349\n",
      "[right] start_ts: 1523204962061 | stop_ts: 1523205559981\n",
      "../kickoff-data-corrected/2b8bcfd6-5f57-46de-aacd-e932ac8e1697.json\n",
      "[{'phase': 1, 'ts': '1970-01-01T00:00:00', 'kickoff_team_id': 13, 'type': 'start_phase'}, {'phase': 1, 'ts': '2018-04-08T16:17:54.242Z', 'type': 'end_phase'}, {'phase': 2, 'ts': '2018-04-08T16:34:22.301000', 'kickoff_team_id': 16, 'type': 'start_phase'}, {'phase': 2, 'ts': '2018-04-08T17:23:20.816Z', 'type': 'end_phase'}]\n",
      "1523205262301\n"
     ]
    },
    {
     "name": "stderr",
     "output_type": "stream",
     "text": [
      "14949it [00:07, 1951.51it/s]\n"
     ]
    },
    {
     "name": "stdout",
     "output_type": "stream",
     "text": [
      "4020\n",
      "12\n",
      "12060 70\n",
      "12\n",
      "11\n",
      "Json file edited\n"
     ]
    },
    {
     "name": "stderr",
     "output_type": "stream",
     "text": [
      "181it [00:00, 1807.35it/s]"
     ]
    },
    {
     "name": "stdout",
     "output_type": "stream",
     "text": [
      "Parsed ../kickoff-data-corrected/b4dbea7c-c72f-4dd6-b57c-8fb7b8b38eb5.1.kickoff.rdb in 2.62 s.\n",
      "Contains keys: dict_keys(['left', 'right'])\n",
      "[left] start_ts: 1524070510939 | stop_ts: 1524071110739\n",
      "[right] start_ts: 1524070510889 | stop_ts: 1524071110729\n",
      "../kickoff-data-corrected/b4dbea7c-c72f-4dd6-b57c-8fb7b8b38eb5.json\n",
      "[{'phase': 1, 'ts': '2018-04-18T17:00:11.969000', 'kickoff_team_id': 13, 'type': 'start_phase'}, {'phase': 1, 'ts': '2018-04-18T17:47:10.874Z', 'type': 'end_phase'}, {'phase': 2, 'ts': '2018-04-18T18:02:20.169000', 'kickoff_team_id': 9, 'type': 'start_phase'}, {'phase': 2, 'ts': '2018-04-18T18:49:19.022Z', 'type': 'end_phase'}]\n",
      "1524070811969\n"
     ]
    },
    {
     "name": "stderr",
     "output_type": "stream",
     "text": [
      "14996it [00:09, 1584.54it/s]\n"
     ]
    },
    {
     "name": "stdout",
     "output_type": "stream",
     "text": [
      "4020\n",
      "13\n",
      "12060 71\n",
      "13\n",
      "12\n",
      "Json file edited\n"
     ]
    },
    {
     "name": "stderr",
     "output_type": "stream",
     "text": [
      "134it [00:00, 1333.34it/s]"
     ]
    },
    {
     "name": "stdout",
     "output_type": "stream",
     "text": [
      "Parsed ../kickoff-data-corrected/314f4989-398c-45a3-a74f-9f1adac71bf1.1.kickoff.rdb in 2.16 s.\n",
      "Contains keys: dict_keys(['right', 'left'])\n",
      "[right] start_ts: 1522587361602 | stop_ts: 1522587961442\n",
      "[left] start_ts: 1522587361524 | stop_ts: 1522587961404\n",
      "../kickoff-data-corrected/314f4989-398c-45a3-a74f-9f1adac71bf1.json\n",
      "[{'phase': 1, 'ts': '2018-04-01T13:00:57.284000', 'kickoff_team_id': 9, 'type': 'start_phase'}, {'phase': 1, 'ts': '2018-04-01T13:47:08.486Z', 'type': 'end_phase'}, {'phase': 2, 'ts': '1970-01-01T00:00:00', 'kickoff_team_id': 5, 'type': 'start_phase'}, {'phase': 2, 'ts': '2018-04-01T14:50:51.103Z', 'type': 'end_phase'}]\n",
      "1522587657284\n"
     ]
    },
    {
     "name": "stderr",
     "output_type": "stream",
     "text": [
      "14908it [00:07, 1934.57it/s]\n"
     ]
    },
    {
     "name": "stdout",
     "output_type": "stream",
     "text": [
      "4020\n",
      "12\n",
      "12060 70\n",
      "12\n",
      "13\n",
      "Json file edited\n"
     ]
    },
    {
     "name": "stderr",
     "output_type": "stream",
     "text": [
      "641it [00:00, 2990.91it/s]"
     ]
    },
    {
     "name": "stdout",
     "output_type": "stream",
     "text": [
      "Parsed ../kickoff-data-corrected/03d0ac1b-8adb-457d-9519-b6c879a92df3.2.kickoff.rdb in 2.00 s.\n",
      "Contains keys: dict_keys(['right', 'left'])\n",
      "[right] start_ts: 1526825255814 | stop_ts: 1526825853694\n",
      "[left] start_ts: 1526825255686 | stop_ts: 1526825853606\n",
      "../kickoff-data-corrected/03d0ac1b-8adb-457d-9519-b6c879a92df3.json\n",
      "[{'phase': 1, 'ts': '2018-05-20T13:10:06.054Z', 'kickoff_team_id': 10, 'type': 'start_phase'}, {'phase': 1, 'ts': '2018-05-20T13:55:08.940Z', 'type': 'end_phase'}, {'phase': 2, 'ts': '2018-05-20T14:12:36.446000', 'kickoff_team_id': 2, 'type': 'start_phase'}, {'phase': 2, 'ts': '2018-05-20T15:02:18.183Z', 'type': 'end_phase'}]\n",
      "1526825556446\n"
     ]
    },
    {
     "name": "stderr",
     "output_type": "stream",
     "text": [
      "14948it [00:07, 2078.02it/s]\n"
     ]
    },
    {
     "name": "stdout",
     "output_type": "stream",
     "text": [
      "4020\n",
      "12\n",
      "12060 70\n",
      "12\n",
      "14\n",
      "Json file edited\n"
     ]
    },
    {
     "name": "stderr",
     "output_type": "stream",
     "text": [
      "292it [00:00, 2912.76it/s]"
     ]
    },
    {
     "name": "stdout",
     "output_type": "stream",
     "text": [
      "Parsed ../kickoff-data-corrected/cbcca433-ff77-4927-a5a3-36ff293c12fd.2.kickoff.rdb in 1.53 s.\n",
      "Contains keys: dict_keys(['right', 'left'])\n",
      "[right] start_ts: 1523296748330 | stop_ts: 1523297346370\n",
      "[left] start_ts: 1523296760048 | stop_ts: 1523297356248\n",
      "../kickoff-data-corrected/cbcca433-ff77-4927-a5a3-36ff293c12fd.json\n",
      "[{'phase': 1, 'ts': '1970-01-01T00:00:00', 'kickoff_team_id': 15, 'type': 'start_phase'}, {'phase': 1, 'ts': '2018-04-09T17:47:46.113Z', 'type': 'end_phase'}, {'phase': 2, 'ts': '2018-04-09T18:04:20.408000', 'kickoff_team_id': 5, 'type': 'start_phase'}, {'phase': 2, 'ts': '2018-04-09T18:53:12.188Z', 'type': 'end_phase'}]\n",
      "1523297060408\n"
     ]
    },
    {
     "name": "stderr",
     "output_type": "stream",
     "text": [
      "14906it [00:05, 2605.02it/s]\n"
     ]
    },
    {
     "name": "stdout",
     "output_type": "stream",
     "text": [
      "4020\n",
      "13\n",
      "12060 69\n",
      "13\n",
      "15\n",
      "Json file edited\n"
     ]
    },
    {
     "name": "stderr",
     "output_type": "stream",
     "text": [
      "266it [00:00, 1339.07it/s]"
     ]
    },
    {
     "name": "stdout",
     "output_type": "stream",
     "text": [
      "Parsed ../kickoff-data-corrected/a185c6c8-7383-4d19-927f-dc8f70726c34.1.kickoff.rdb in 3.43 s.\n",
      "Contains keys: dict_keys(['right', 'left'])\n",
      "[right] start_ts: 1523897795697 | stop_ts: 1523898395297\n",
      "[left] start_ts: 1523897795243 | stop_ts: 1523898395043\n",
      "../kickoff-data-corrected/a185c6c8-7383-4d19-927f-dc8f70726c34.json\n",
      "[{'phase': 1, 'ts': '2018-04-16T17:01:37.097000', 'kickoff_team_id': 15, 'type': 'start_phase'}, {'phase': 1, 'ts': '2018-04-16T17:46:39.313Z', 'type': 'end_phase'}, {'phase': 2, 'ts': '2018-04-16T18:02:51.643000', 'kickoff_team_id': 2, 'type': 'start_phase'}, {'phase': 2, 'ts': '2018-04-16T18:49:49.424Z', 'type': 'end_phase'}]\n",
      "1523898097097\n"
     ]
    },
    {
     "name": "stderr",
     "output_type": "stream",
     "text": [
      "14991it [00:10, 1400.80it/s]\n"
     ]
    },
    {
     "name": "stdout",
     "output_type": "stream",
     "text": [
      "4020\n",
      "12\n",
      "12060 70\n",
      "12\n",
      "16\n",
      "Json file edited\n"
     ]
    },
    {
     "name": "stderr",
     "output_type": "stream",
     "text": [
      "177it [00:00, 1766.45it/s]"
     ]
    },
    {
     "name": "stdout",
     "output_type": "stream",
     "text": [
      "Parsed ../kickoff-data-corrected/a5857e03-10b8-454a-89fb-c201985b04cb.2.kickoff.rdb in 2.25 s.\n",
      "Contains keys: dict_keys(['right', 'left'])\n",
      "[right] start_ts: 1523383083286 | stop_ts: 1523383682846\n",
      "[left] start_ts: 1523383083898 | stop_ts: 1523383683138\n",
      "../kickoff-data-corrected/a5857e03-10b8-454a-89fb-c201985b04cb.json\n",
      "[{'phase': 1, 'ts': '1970-01-01T00:00:00', 'kickoff_team_id': 6, 'type': 'start_phase'}, {'phase': 1, 'ts': '2018-04-10T17:47:16.674Z', 'type': 'end_phase'}, {'phase': 2, 'ts': '2018-04-10T18:03:05.406000', 'kickoff_team_id': 2, 'type': 'start_phase'}, {'phase': 2, 'ts': '2018-04-10T18:51:05.058Z', 'type': 'end_phase'}]\n",
      "1523383385406\n"
     ]
    },
    {
     "name": "stderr",
     "output_type": "stream",
     "text": [
      "14982it [00:07, 2084.37it/s]\n"
     ]
    },
    {
     "name": "stdout",
     "output_type": "stream",
     "text": [
      "4020\n",
      "13\n",
      "12060 71\n",
      "13\n",
      "17\n",
      "Json file edited\n"
     ]
    },
    {
     "name": "stderr",
     "output_type": "stream",
     "text": [
      "145it [00:00, 1448.98it/s]"
     ]
    },
    {
     "name": "stdout",
     "output_type": "stream",
     "text": [
      "Parsed ../kickoff-data-corrected/3382a9d0-02ff-4f23-9748-1b715d85b731.1.kickoff.rdb in 4.24 s.\n",
      "Contains keys: dict_keys(['right', 'left'])\n",
      "[right] start_ts: 1523805900650 | stop_ts: 1523806499170\n",
      "[left] start_ts: 1523805900082 | stop_ts: 1523806498882\n",
      "../kickoff-data-corrected/3382a9d0-02ff-4f23-9748-1b715d85b731.json\n",
      "[{'phase': 1, 'ts': '1970-01-01T00:00:00', 'kickoff_team_id': 6, 'type': 'start_phase'}, {'phase': 1, 'ts': '2018-04-15T16:16:00.459Z', 'type': 'end_phase'}, {'phase': 2, 'ts': '1970-01-01T00:00:00', 'kickoff_team_id': 13, 'type': 'start_phase'}, {'phase': 2, 'ts': '2018-04-15T17:19:35.565Z', 'type': 'end_phase'}]\n",
      "0\n"
     ]
    },
    {
     "name": "stderr",
     "output_type": "stream",
     "text": [
      "14963it [00:10, 1484.10it/s]\n"
     ]
    },
    {
     "name": "stdout",
     "output_type": "stream",
     "text": [
      "4020\n",
      "0\n",
      "12060 59\n",
      "0\n",
      "Json file edited\n"
     ]
    },
    {
     "name": "stderr",
     "output_type": "stream",
     "text": [
      "203it [00:00, 2028.62it/s]"
     ]
    },
    {
     "name": "stdout",
     "output_type": "stream",
     "text": [
      "Parsed ../kickoff-data-corrected/19bebd81-3b61-492b-85ed-74ff887cbc45.1.kickoff.rdb in 2.98 s.\n",
      "Contains keys: dict_keys(['right', 'left'])\n",
      "[right] start_ts: 1522587371411 | stop_ts: 1522587968931\n",
      "[left] start_ts: 1522587371575 | stop_ts: 1522587969015\n",
      "../kickoff-data-corrected/19bebd81-3b61-492b-85ed-74ff887cbc45.json\n",
      "[{'phase': 1, 'ts': '1970-01-01T00:00:00', 'kickoff_team_id': 1, 'type': 'start_phase'}, {'phase': 1, 'ts': '2018-04-01T13:47:53.692Z', 'type': 'end_phase'}, {'phase': 2, 'ts': '2018-04-01T14:05:30.455000', 'kickoff_team_id': 2, 'type': 'start_phase'}, {'phase': 2, 'ts': '2018-04-01T14:53:51.954Z', 'type': 'end_phase'}]\n",
      "0\n"
     ]
    },
    {
     "name": "stderr",
     "output_type": "stream",
     "text": [
      "14937it [00:08, 1705.00it/s]\n"
     ]
    },
    {
     "name": "stdout",
     "output_type": "stream",
     "text": [
      "4020\n",
      "0\n",
      "12060 58\n",
      "0\n",
      "Json file edited\n"
     ]
    },
    {
     "name": "stderr",
     "output_type": "stream",
     "text": [
      "123it [00:00, 1222.26it/s]"
     ]
    },
    {
     "name": "stdout",
     "output_type": "stream",
     "text": [
      "Parsed ../kickoff-data-corrected/2dc12819-d486-4925-a0e2-b8ae9ff1aed5.1.kickoff.rdb in 2.64 s.\n",
      "Contains keys: dict_keys(['right', 'left'])\n",
      "[right] start_ts: 1523192332775 | stop_ts: 1523192929695\n",
      "[left] start_ts: 1523192332019 | stop_ts: 1523192929339\n",
      "../kickoff-data-corrected/2dc12819-d486-4925-a0e2-b8ae9ff1aed5.json\n",
      "[{'phase': 1, 'ts': '2018-04-08T13:03:52.775000', 'kickoff_team_id': 11, 'type': 'start_phase'}, {'phase': 1, 'ts': '2018-04-08T13:48:52.077Z', 'type': 'end_phase'}, {'phase': 2, 'ts': '2018-04-08T14:05:16.815000', 'kickoff_team_id': 14, 'type': 'start_phase'}, {'phase': 2, 'ts': '2018-04-08T14:53:40.200Z', 'type': 'end_phase'}]\n",
      "1523192632775\n"
     ]
    },
    {
     "name": "stderr",
     "output_type": "stream",
     "text": [
      "14925it [00:08, 1671.93it/s]\n"
     ]
    },
    {
     "name": "stdout",
     "output_type": "stream",
     "text": [
      "4020\n",
      "13\n",
      "12060 71\n",
      "13\n",
      "18\n",
      "Json file edited\n"
     ]
    },
    {
     "name": "stderr",
     "output_type": "stream",
     "text": [
      "367it [00:00, 3665.62it/s]"
     ]
    },
    {
     "name": "stdout",
     "output_type": "stream",
     "text": [
      "Parsed ../kickoff-data-corrected/3382a9d0-02ff-4f23-9748-1b715d85b731.2.kickoff.rdb in 1.97 s.\n",
      "Contains keys: dict_keys(['right', 'left'])\n",
      "[right] start_ts: 1523809596650 | stop_ts: 1523810194170\n",
      "[left] start_ts: 1523809596082 | stop_ts: 1523810193882\n",
      "../kickoff-data-corrected/3382a9d0-02ff-4f23-9748-1b715d85b731.json\n",
      "[{'phase': 1, 'ts': '1970-01-01T00:00:00', 'kickoff_team_id': 6, 'type': 'start_phase'}, {'phase': 1, 'ts': '2018-04-15T16:16:00.459Z', 'type': 'end_phase'}, {'phase': 2, 'ts': '1970-01-01T00:00:00', 'kickoff_team_id': 13, 'type': 'start_phase'}, {'phase': 2, 'ts': '2018-04-15T17:19:35.565Z', 'type': 'end_phase'}]\n",
      "0\n"
     ]
    },
    {
     "name": "stderr",
     "output_type": "stream",
     "text": [
      "14938it [00:06, 2377.64it/s]\n"
     ]
    },
    {
     "name": "stdout",
     "output_type": "stream",
     "text": [
      "4020\n",
      "0\n",
      "12060 59\n",
      "0\n",
      "Json file edited\n"
     ]
    },
    {
     "name": "stderr",
     "output_type": "stream",
     "text": [
      "356it [00:00, 3547.16it/s]"
     ]
    },
    {
     "name": "stdout",
     "output_type": "stream",
     "text": [
      "Parsed ../kickoff-data-corrected/84e8b33c-d912-495e-9e21-84bdd18e0e04.1.kickoff.rdb in 2.22 s.\n",
      "Contains keys: dict_keys(['right', 'left'])\n",
      "[right] start_ts: 1523638502169 | stop_ts: 1523639099769\n",
      "[left] start_ts: 1523638501659 | stop_ts: 1523639099539\n",
      "../kickoff-data-corrected/84e8b33c-d912-495e-9e21-84bdd18e0e04.json\n",
      "[{'phase': 1, 'ts': '2018-04-13T17:00:01.059000', 'kickoff_team_id': 12, 'type': 'start_phase'}, {'phase': 1, 'ts': '2018-04-13T17:45:38.365Z', 'type': 'end_phase'}, {'phase': 2, 'ts': '2018-04-13T18:00:41.739000', 'kickoff_team_id': 14, 'type': 'start_phase'}, {'phase': 2, 'ts': '2018-04-13T18:47:41.972Z', 'type': 'end_phase'}]\n",
      "1523638801059\n"
     ]
    },
    {
     "name": "stderr",
     "output_type": "stream",
     "text": [
      "14940it [00:07, 2067.07it/s]\n"
     ]
    },
    {
     "name": "stdout",
     "output_type": "stream",
     "text": [
      "4020\n",
      "12\n",
      "12060 70\n",
      "12\n",
      "19\n",
      "Json file edited\n"
     ]
    },
    {
     "name": "stderr",
     "output_type": "stream",
     "text": [
      "439it [00:00, 2174.38it/s]"
     ]
    },
    {
     "name": "stdout",
     "output_type": "stream",
     "text": [
      "Parsed ../kickoff-data-corrected/9e627901-09e2-4c84-bf77-6f0ec289fa5f.2.kickoff.rdb in 1.81 s.\n",
      "Contains keys: dict_keys(['right', 'left'])\n",
      "[right] start_ts: 1522686513973 | stop_ts: 1522687111853\n",
      "[left] start_ts: 1522686514029 | stop_ts: 1522687111869\n",
      "../kickoff-data-corrected/9e627901-09e2-4c84-bf77-6f0ec289fa5f.json\n",
      "[{'phase': 1, 'ts': '2018-04-02T15:32:26.973000', 'kickoff_team_id': 7, 'type': 'start_phase'}, {'phase': 1, 'ts': '2018-04-02T16:17:34.362Z', 'type': 'end_phase'}, {'phase': 2, 'ts': '2018-04-02T16:33:32.893000', 'kickoff_team_id': 8, 'type': 'start_phase'}, {'phase': 2, 'ts': '2018-04-02T17:22:39.373Z', 'type': 'end_phase'}]\n",
      "1522686812893\n"
     ]
    },
    {
     "name": "stderr",
     "output_type": "stream",
     "text": [
      "14946it [00:06, 2196.91it/s]\n"
     ]
    },
    {
     "name": "stdout",
     "output_type": "stream",
     "text": [
      "4020\n",
      "12\n",
      "12060 70\n",
      "12\n",
      "20\n",
      "Json file edited\n"
     ]
    },
    {
     "name": "stderr",
     "output_type": "stream",
     "text": [
      "658it [00:00, 3200.72it/s]"
     ]
    },
    {
     "name": "stdout",
     "output_type": "stream",
     "text": [
      "Parsed ../kickoff-data-corrected/0d9e9e30-9d13-4af0-8e41-fe1669e9eeff.2.kickoff.rdb in 2.12 s.\n",
      "Contains keys: dict_keys(['right', 'left'])\n",
      "[right] start_ts: 1523195853031 | stop_ts: 1523196452911\n",
      "[left] start_ts: 1523195853517 | stop_ts: 1523196453157\n",
      "../kickoff-data-corrected/0d9e9e30-9d13-4af0-8e41-fe1669e9eeff.json\n",
      "[{'phase': 1, 'ts': '2018-04-08T13:00:30.151000', 'kickoff_team_id': 7, 'type': 'start_phase'}, {'phase': 1, 'ts': '2018-04-08T13:47:27.898Z', 'type': 'end_phase'}, {'phase': 2, 'ts': '2018-04-08T14:02:35.117000', 'kickoff_team_id': 9, 'type': 'start_phase'}, {'phase': 2, 'ts': '2018-04-08T14:51:34.402Z', 'type': 'end_phase'}]\n",
      "1523196155117\n"
     ]
    },
    {
     "name": "stderr",
     "output_type": "stream",
     "text": [
      "14992it [00:08, 1704.88it/s]\n"
     ]
    },
    {
     "name": "stdout",
     "output_type": "stream",
     "text": [
      "4020\n",
      "12\n",
      "12060 70\n",
      "12\n",
      "21\n",
      "Json file edited\n"
     ]
    },
    {
     "name": "stderr",
     "output_type": "stream",
     "text": [
      "231it [00:00, 2307.01it/s]"
     ]
    },
    {
     "name": "stdout",
     "output_type": "stream",
     "text": [
      "Parsed ../kickoff-data-corrected/19bebd81-3b61-492b-85ed-74ff887cbc45.2.kickoff.rdb in 2.05 s.\n",
      "Contains keys: dict_keys(['right', 'left'])\n",
      "[right] start_ts: 1522591235411 | stop_ts: 1522591831931\n",
      "[left] start_ts: 1522591235535 | stop_ts: 1522591832015\n",
      "../kickoff-data-corrected/19bebd81-3b61-492b-85ed-74ff887cbc45.json\n",
      "[{'phase': 1, 'ts': '1970-01-01T00:00:00', 'kickoff_team_id': 1, 'type': 'start_phase'}, {'phase': 1, 'ts': '2018-04-01T13:47:53.692Z', 'type': 'end_phase'}, {'phase': 2, 'ts': '2018-04-01T14:05:30.455000', 'kickoff_team_id': 2, 'type': 'start_phase'}, {'phase': 2, 'ts': '2018-04-01T14:53:51.954Z', 'type': 'end_phase'}]\n",
      "1522591530455\n"
     ]
    },
    {
     "name": "stderr",
     "output_type": "stream",
     "text": [
      "14913it [00:07, 2089.86it/s]\n"
     ]
    },
    {
     "name": "stdout",
     "output_type": "stream",
     "text": [
      "4020\n",
      "12\n",
      "12060 70\n",
      "12\n",
      "22\n",
      "Json file edited\n"
     ]
    },
    {
     "name": "stderr",
     "output_type": "stream",
     "text": [
      "461it [00:00, 2342.83it/s]"
     ]
    },
    {
     "name": "stdout",
     "output_type": "stream",
     "text": [
      "Parsed ../kickoff-data-corrected/cd6d495b-8fe4-4586-8861-ba579cf3a6e9.2.kickoff.rdb in 2.08 s.\n",
      "Contains keys: dict_keys(['left', 'right'])\n",
      "[left] start_ts: 1523800767685 | stop_ts: 1523801367045\n",
      "[right] start_ts: 1523800767317 | stop_ts: 1523801366837\n",
      "../kickoff-data-corrected/cd6d495b-8fe4-4586-8861-ba579cf3a6e9.json\n",
      "[{'phase': 1, 'ts': '2018-04-15T13:01:26.995Z', 'kickoff_team_id': None, 'type': 'start_phase'}, {'phase': 1, 'ts': '2018-04-15T13:48:30.166Z', 'type': 'end_phase'}, {'phase': 2, 'ts': '2018-04-15T14:04:29.565000', 'kickoff_team_id': None, 'type': 'start_phase'}, {'phase': 2, 'ts': '2018-04-15T14:54:33.364Z', 'type': 'end_phase'}]\n",
      "1523801069565\n"
     ]
    },
    {
     "name": "stderr",
     "output_type": "stream",
     "text": [
      "14984it [00:07, 2131.60it/s]\n"
     ]
    },
    {
     "name": "stdout",
     "output_type": "stream",
     "text": [
      "4020\n",
      "12\n",
      "12060 70\n",
      "12\n",
      "23\n",
      "Json file edited\n"
     ]
    },
    {
     "name": "stderr",
     "output_type": "stream",
     "text": [
      "\r",
      "0it [00:00, ?it/s]"
     ]
    },
    {
     "name": "stdout",
     "output_type": "stream",
     "text": [
      "Parsed ../kickoff-data-corrected/2739587b-312a-4d40-ba1a-9b5e3ebf5c9c.1.kickoff.rdb in 2.90 s.\n",
      "Contains keys: dict_keys(['left', 'right'])\n",
      "[left] start_ts: 1527425706666 | stop_ts: 1527426305466\n",
      "[right] start_ts: 1527425706526 | stop_ts: 1527426305406\n",
      "../kickoff-data-corrected/2739587b-312a-4d40-ba1a-9b5e3ebf5c9c.json\n",
      "[{'phase': 1, 'ts': '2018-05-27T13:00:07.786000', 'kickoff_team_id': 2, 'type': 'start_phase'}, {'phase': 1, 'ts': '2018-05-27T13:48:06.407Z', 'type': 'end_phase'}, {'phase': 2, 'ts': '2018-05-27T14:05:26.306000', 'kickoff_team_id': 9, 'type': 'start_phase'}, {'phase': 2, 'ts': '2018-05-27T14:54:05.123Z', 'type': 'end_phase'}]\n",
      "1527426007786\n"
     ]
    },
    {
     "name": "stderr",
     "output_type": "stream",
     "text": [
      "14971it [00:10, 1398.84it/s]\n"
     ]
    },
    {
     "name": "stdout",
     "output_type": "stream",
     "text": [
      "4020\n",
      "13\n",
      "12060 71\n",
      "13\n",
      "24\n",
      "Json file edited\n"
     ]
    },
    {
     "name": "stderr",
     "output_type": "stream",
     "text": [
      "259it [00:00, 2581.97it/s]"
     ]
    },
    {
     "name": "stdout",
     "output_type": "stream",
     "text": [
      "Parsed ../kickoff-data-corrected/314f4989-398c-45a3-a74f-9f1adac71bf1.2.kickoff.rdb in 1.65 s.\n",
      "Contains keys: dict_keys(['right', 'left'])\n",
      "[right] start_ts: 1522591069602 | stop_ts: 1522591667442\n",
      "[left] start_ts: 1522591069484 | stop_ts: 1522591667404\n",
      "../kickoff-data-corrected/314f4989-398c-45a3-a74f-9f1adac71bf1.json\n",
      "[{'phase': 1, 'ts': '2018-04-01T13:00:57.284000', 'kickoff_team_id': 9, 'type': 'start_phase'}, {'phase': 1, 'ts': '2018-04-01T13:47:08.486Z', 'type': 'end_phase'}, {'phase': 2, 'ts': '1970-01-01T00:00:00', 'kickoff_team_id': 5, 'type': 'start_phase'}, {'phase': 2, 'ts': '2018-04-01T14:50:51.103Z', 'type': 'end_phase'}]\n",
      "0\n"
     ]
    },
    {
     "name": "stderr",
     "output_type": "stream",
     "text": [
      "14947it [00:06, 2312.05it/s]\n"
     ]
    },
    {
     "name": "stdout",
     "output_type": "stream",
     "text": [
      "4020\n",
      "0\n",
      "12060 59\n",
      "0\n",
      "Json file edited\n"
     ]
    },
    {
     "name": "stderr",
     "output_type": "stream",
     "text": [
      "348it [00:00, 1754.16it/s]"
     ]
    },
    {
     "name": "stdout",
     "output_type": "stream",
     "text": [
      "Parsed ../kickoff-data-corrected/b4dbea7c-c72f-4dd6-b57c-8fb7b8b38eb5.2.kickoff.rdb in 2.35 s.\n",
      "Contains keys: dict_keys(['left', 'right'])\n",
      "[left] start_ts: 1524074238899 | stop_ts: 1524074838739\n",
      "[right] start_ts: 1524074238929 | stop_ts: 1524074838729\n",
      "../kickoff-data-corrected/b4dbea7c-c72f-4dd6-b57c-8fb7b8b38eb5.json\n",
      "[{'phase': 1, 'ts': '2018-04-18T17:00:11.969000', 'kickoff_team_id': 13, 'type': 'start_phase'}, {'phase': 1, 'ts': '2018-04-18T17:47:10.874Z', 'type': 'end_phase'}, {'phase': 2, 'ts': '2018-04-18T18:02:20.169000', 'kickoff_team_id': 9, 'type': 'start_phase'}, {'phase': 2, 'ts': '2018-04-18T18:49:19.022Z', 'type': 'end_phase'}]\n",
      "1524074540169\n"
     ]
    },
    {
     "name": "stderr",
     "output_type": "stream",
     "text": [
      "14996it [00:09, 1614.42it/s]\n"
     ]
    },
    {
     "name": "stdout",
     "output_type": "stream",
     "text": [
      "4020\n",
      "13\n",
      "12060 71\n",
      "13\n",
      "25\n",
      "Json file edited\n"
     ]
    },
    {
     "name": "stderr",
     "output_type": "stream",
     "text": [
      "96it [00:00, 954.46it/s]"
     ]
    },
    {
     "name": "stdout",
     "output_type": "stream",
     "text": [
      "Parsed ../kickoff-data-corrected/76d4b783-ae63-4c60-815f-6a81beef6451.1.kickoff.rdb in 4.19 s.\n",
      "Contains keys: dict_keys(['left', 'right'])\n",
      "[left] start_ts: 1523109442596 | stop_ts: 1523110041116\n",
      "[right] start_ts: 1523109442628 | stop_ts: 1523110041148\n",
      "../kickoff-data-corrected/76d4b783-ae63-4c60-815f-6a81beef6451.json\n",
      "[{'phase': 1, 'ts': '2018-04-07T14:02:24.428000', 'kickoff_team_id': 12, 'type': 'start_phase'}, {'phase': 1, 'ts': '2018-04-07T14:47:22.773Z', 'type': 'end_phase'}, {'phase': 2, 'ts': '2018-04-07T15:02:59.828000', 'kickoff_team_id': 4, 'type': 'start_phase'}, {'phase': 2, 'ts': '2018-04-07T15:50:52.908Z', 'type': 'end_phase'}]\n",
      "1523109744428\n"
     ]
    },
    {
     "name": "stderr",
     "output_type": "stream",
     "text": [
      "14963it [00:08, 1663.42it/s]\n"
     ]
    },
    {
     "name": "stdout",
     "output_type": "stream",
     "text": [
      "4020\n",
      "12\n",
      "12060 70\n",
      "12\n",
      "26\n",
      "Json file edited\n"
     ]
    },
    {
     "name": "stderr",
     "output_type": "stream",
     "text": [
      "460it [00:00, 2206.59it/s]"
     ]
    },
    {
     "name": "stdout",
     "output_type": "stream",
     "text": [
      "Parsed ../kickoff-data-corrected/4be6ef54-2541-42d0-a334-e513a535029c.2.kickoff.rdb in 1.75 s.\n",
      "Contains keys: dict_keys(['left', 'right'])\n",
      "[left] start_ts: 1523717857062 | stop_ts: 1523718456662\n",
      "[right] start_ts: 1523717857078 | stop_ts: 1523718456678\n",
      "../kickoff-data-corrected/4be6ef54-2541-42d0-a334-e513a535029c.json\n",
      "[{'phase': 1, 'ts': '2018-04-14T14:00:21.598000', 'kickoff_team_id': 16, 'type': 'start_phase'}, {'phase': 1, 'ts': '2018-04-14T14:46:37.899Z', 'type': 'end_phase'}, {'phase': 2, 'ts': '2018-04-14T15:02:38.518000', 'kickoff_team_id': 5, 'type': 'start_phase'}, {'phase': 2, 'ts': '2018-04-14T15:51:35.702Z', 'type': 'end_phase'}]\n",
      "1523718158518\n"
     ]
    },
    {
     "name": "stderr",
     "output_type": "stream",
     "text": [
      "14991it [00:06, 2292.45it/s]\n"
     ]
    },
    {
     "name": "stdout",
     "output_type": "stream",
     "text": [
      "4020\n",
      "13\n",
      "12060 71\n",
      "13\n",
      "27\n",
      "Json file edited\n"
     ]
    },
    {
     "name": "stderr",
     "output_type": "stream",
     "text": [
      "209it [00:00, 2083.48it/s]"
     ]
    },
    {
     "name": "stdout",
     "output_type": "stream",
     "text": [
      "Parsed ../kickoff-data-corrected/27bea627-3caa-47ee-93c3-67f0e26f3034.1.kickoff.rdb in 4.42 s.\n",
      "Contains keys: dict_keys(['left', 'right'])\n",
      "[left] start_ts: 1523796958381 | stop_ts: 1523797557661\n",
      "[right] start_ts: 1523796957851 | stop_ts: 1523797557411\n",
      "../kickoff-data-corrected/27bea627-3caa-47ee-93c3-67f0e26f3034.json\n",
      "[{'phase': 1, 'ts': '2018-04-15T13:00:59.341000', 'kickoff_team_id': 4, 'type': 'start_phase'}, {'phase': 1, 'ts': '2018-04-15T13:46:01.064Z', 'type': 'end_phase'}, {'phase': 2, 'ts': '2018-04-15T14:01:55.381000', 'kickoff_team_id': 9, 'type': 'start_phase'}, {'phase': 2, 'ts': '2018-04-15T14:50:42.654Z', 'type': 'end_phase'}]\n",
      "1523797259341\n"
     ]
    },
    {
     "name": "stderr",
     "output_type": "stream",
     "text": [
      "14984it [00:07, 1893.09it/s]\n"
     ]
    },
    {
     "name": "stdout",
     "output_type": "stream",
     "text": [
      "4020\n",
      "12\n",
      "12060 70\n",
      "12\n",
      "28\n",
      "Json file edited\n"
     ]
    },
    {
     "name": "stderr",
     "output_type": "stream",
     "text": [
      "164it [00:00, 1629.90it/s]"
     ]
    },
    {
     "name": "stdout",
     "output_type": "stream",
     "text": [
      "Parsed ../kickoff-data-corrected/2739587b-312a-4d40-ba1a-9b5e3ebf5c9c.2.kickoff.rdb in 2.73 s.\n",
      "Contains keys: dict_keys(['left', 'right'])\n",
      "[left] start_ts: 1527429626666 | stop_ts: 1527430225466\n",
      "[right] start_ts: 1527429626566 | stop_ts: 1527430225406\n",
      "../kickoff-data-corrected/2739587b-312a-4d40-ba1a-9b5e3ebf5c9c.json\n",
      "[{'phase': 1, 'ts': '2018-05-27T13:00:07.786000', 'kickoff_team_id': 2, 'type': 'start_phase'}, {'phase': 1, 'ts': '2018-05-27T13:48:06.407Z', 'type': 'end_phase'}, {'phase': 2, 'ts': '2018-05-27T14:05:26.306000', 'kickoff_team_id': 9, 'type': 'start_phase'}, {'phase': 2, 'ts': '2018-05-27T14:54:05.123Z', 'type': 'end_phase'}]\n",
      "1527429926306\n"
     ]
    },
    {
     "name": "stderr",
     "output_type": "stream",
     "text": [
      "14971it [00:08, 1790.22it/s]\n"
     ]
    },
    {
     "name": "stdout",
     "output_type": "stream",
     "text": [
      "4020\n",
      "12\n",
      "12060 70\n",
      "12\n",
      "29\n",
      "Json file edited\n"
     ]
    },
    {
     "name": "stderr",
     "output_type": "stream",
     "text": [
      "\r",
      "0it [00:00, ?it/s]"
     ]
    },
    {
     "name": "stdout",
     "output_type": "stream",
     "text": [
      "Parsed ../kickoff-data-corrected/a185c6c8-7383-4d19-927f-dc8f70726c34.2.kickoff.rdb in 1.60 s.\n",
      "Contains keys: dict_keys(['left', 'right'])\n",
      "[left] start_ts: 1523901471243 | stop_ts: 1523902070043\n",
      "[right] start_ts: 1523901471657 | stop_ts: 1523902070297\n",
      "../kickoff-data-corrected/a185c6c8-7383-4d19-927f-dc8f70726c34.json\n",
      "[{'phase': 1, 'ts': '2018-04-16T17:01:37.097000', 'kickoff_team_id': 15, 'type': 'start_phase'}, {'phase': 1, 'ts': '2018-04-16T17:46:39.313Z', 'type': 'end_phase'}, {'phase': 2, 'ts': '2018-04-16T18:02:51.643000', 'kickoff_team_id': 2, 'type': 'start_phase'}, {'phase': 2, 'ts': '2018-04-16T18:49:49.424Z', 'type': 'end_phase'}]\n",
      "1523901771643\n"
     ]
    },
    {
     "name": "stderr",
     "output_type": "stream",
     "text": [
      "14967it [00:05, 2557.19it/s]\n"
     ]
    },
    {
     "name": "stdout",
     "output_type": "stream",
     "text": [
      "4020\n",
      "13\n",
      "12060 71\n",
      "13\n",
      "30\n",
      "Json file edited\n"
     ]
    },
    {
     "name": "stderr",
     "output_type": "stream",
     "text": [
      "582it [00:00, 2826.05it/s]"
     ]
    },
    {
     "name": "stdout",
     "output_type": "stream",
     "text": [
      "Parsed ../kickoff-data-corrected/9e627901-09e2-4c84-bf77-6f0ec289fa5f.1.kickoff.rdb in 1.94 s.\n",
      "Contains keys: dict_keys(['left', 'right'])\n",
      "[left] start_ts: 1522682846069 | stop_ts: 1522683445869\n",
      "[right] start_ts: 1522682845973 | stop_ts: 1522683445853\n",
      "../kickoff-data-corrected/9e627901-09e2-4c84-bf77-6f0ec289fa5f.json\n",
      "[{'phase': 1, 'ts': '2018-04-02T15:32:26.973000', 'kickoff_team_id': 7, 'type': 'start_phase'}, {'phase': 1, 'ts': '2018-04-02T16:17:34.362Z', 'type': 'end_phase'}, {'phase': 2, 'ts': '2018-04-02T16:33:32.893000', 'kickoff_team_id': 8, 'type': 'start_phase'}, {'phase': 2, 'ts': '2018-04-02T17:22:39.373Z', 'type': 'end_phase'}]\n",
      "1522683146973\n"
     ]
    },
    {
     "name": "stderr",
     "output_type": "stream",
     "text": [
      "14997it [00:05, 2606.07it/s]\n"
     ]
    },
    {
     "name": "stdout",
     "output_type": "stream",
     "text": [
      "4020\n",
      "13\n",
      "12060 71\n",
      "13\n",
      "31\n",
      "Json file edited\n"
     ]
    },
    {
     "name": "stderr",
     "output_type": "stream",
     "text": [
      "951it [00:00, 4613.93it/s]"
     ]
    },
    {
     "name": "stdout",
     "output_type": "stream",
     "text": [
      "Parsed ../kickoff-data-corrected/84e8b33c-d912-495e-9e21-84bdd18e0e04.2.kickoff.rdb in 1.58 s.\n",
      "Contains keys: dict_keys(['left', 'right'])\n",
      "[left] start_ts: 1523642141699 | stop_ts: 1523642740539\n",
      "[right] start_ts: 1523642142209 | stop_ts: 1523642740769\n",
      "../kickoff-data-corrected/84e8b33c-d912-495e-9e21-84bdd18e0e04.json\n",
      "[{'phase': 1, 'ts': '2018-04-13T17:00:01.059000', 'kickoff_team_id': 12, 'type': 'start_phase'}, {'phase': 1, 'ts': '2018-04-13T17:45:38.365Z', 'type': 'end_phase'}, {'phase': 2, 'ts': '2018-04-13T18:00:41.739000', 'kickoff_team_id': 14, 'type': 'start_phase'}, {'phase': 2, 'ts': '2018-04-13T18:47:41.972Z', 'type': 'end_phase'}]\n",
      "1523642441739\n"
     ]
    },
    {
     "name": "stderr",
     "output_type": "stream",
     "text": [
      "14965it [00:05, 2891.95it/s]\n"
     ]
    },
    {
     "name": "stdout",
     "output_type": "stream",
     "text": [
      "4020\n",
      "12\n",
      "12060 70\n",
      "12\n",
      "32\n",
      "Json file edited\n"
     ]
    },
    {
     "name": "stderr",
     "output_type": "stream",
     "text": [
      "104it [00:00, 1034.79it/s]"
     ]
    },
    {
     "name": "stdout",
     "output_type": "stream",
     "text": [
      "Parsed ../kickoff-data-corrected/a5857e03-10b8-454a-89fb-c201985b04cb.1.kickoff.rdb in 1.65 s.\n",
      "Contains keys: dict_keys(['right', 'left'])\n",
      "[right] start_ts: 1523379375326 | stop_ts: 1523379973846\n",
      "[left] start_ts: 1523379375938 | stop_ts: 1523379974138\n",
      "../kickoff-data-corrected/a5857e03-10b8-454a-89fb-c201985b04cb.json\n",
      "[{'phase': 1, 'ts': '1970-01-01T00:00:00', 'kickoff_team_id': 6, 'type': 'start_phase'}, {'phase': 1, 'ts': '2018-04-10T17:47:16.674Z', 'type': 'end_phase'}, {'phase': 2, 'ts': '2018-04-10T18:03:05.406000', 'kickoff_team_id': 2, 'type': 'start_phase'}, {'phase': 2, 'ts': '2018-04-10T18:51:05.058Z', 'type': 'end_phase'}]\n",
      "0\n"
     ]
    },
    {
     "name": "stderr",
     "output_type": "stream",
     "text": [
      "14955it [00:06, 2343.75it/s]\n"
     ]
    },
    {
     "name": "stdout",
     "output_type": "stream",
     "text": [
      "4020\n",
      "0\n",
      "12060 59\n",
      "0\n",
      "Json file edited\n"
     ]
    },
    {
     "name": "stderr",
     "output_type": "stream",
     "text": [
      "261it [00:00, 2605.47it/s]"
     ]
    },
    {
     "name": "stdout",
     "output_type": "stream",
     "text": [
      "Parsed ../kickoff-data-corrected/2dc12819-d486-4925-a0e2-b8ae9ff1aed5.2.kickoff.rdb in 2.04 s.\n",
      "Contains keys: dict_keys(['right', 'left'])\n",
      "[right] start_ts: 1523196016735 | stop_ts: 1523196614695\n",
      "[left] start_ts: 1523196016019 | stop_ts: 1523196614339\n",
      "../kickoff-data-corrected/2dc12819-d486-4925-a0e2-b8ae9ff1aed5.json\n",
      "[{'phase': 1, 'ts': '2018-04-08T13:03:52.775000', 'kickoff_team_id': 11, 'type': 'start_phase'}, {'phase': 1, 'ts': '2018-04-08T13:48:52.077Z', 'type': 'end_phase'}, {'phase': 2, 'ts': '2018-04-08T14:05:16.815000', 'kickoff_team_id': 14, 'type': 'start_phase'}, {'phase': 2, 'ts': '2018-04-08T14:53:40.200Z', 'type': 'end_phase'}]\n",
      "1523196316815\n"
     ]
    },
    {
     "name": "stderr",
     "output_type": "stream",
     "text": [
      "14949it [00:07, 2074.28it/s]\n"
     ]
    },
    {
     "name": "stdout",
     "output_type": "stream",
     "text": [
      "4020\n",
      "13\n",
      "12060 71\n",
      "13\n",
      "33\n",
      "Json file edited\n"
     ]
    },
    {
     "name": "stderr",
     "output_type": "stream",
     "text": [
      "218it [00:00, 2179.99it/s]"
     ]
    },
    {
     "name": "stdout",
     "output_type": "stream",
     "text": [
      "Parsed ../kickoff-data-corrected/76d4b783-ae63-4c60-815f-6a81beef6451.2.kickoff.rdb in 1.62 s.\n",
      "Contains keys: dict_keys(['left', 'right'])\n",
      "[left] start_ts: 1523113078596 | stop_ts: 1523113675116\n",
      "[right] start_ts: 1523113078628 | stop_ts: 1523113675148\n",
      "../kickoff-data-corrected/76d4b783-ae63-4c60-815f-6a81beef6451.json\n",
      "[{'phase': 1, 'ts': '2018-04-07T14:02:24.428000', 'kickoff_team_id': 12, 'type': 'start_phase'}, {'phase': 1, 'ts': '2018-04-07T14:47:22.773Z', 'type': 'end_phase'}, {'phase': 2, 'ts': '2018-04-07T15:02:59.828000', 'kickoff_team_id': 4, 'type': 'start_phase'}, {'phase': 2, 'ts': '2018-04-07T15:50:52.908Z', 'type': 'end_phase'}]\n",
      "1523113379828\n"
     ]
    },
    {
     "name": "stderr",
     "output_type": "stream",
     "text": [
      "14913it [00:07, 2049.56it/s]\n"
     ]
    },
    {
     "name": "stdout",
     "output_type": "stream",
     "text": [
      "4020\n",
      "13\n",
      "12060 71\n",
      "13\n",
      "34\n",
      "Json file edited\n"
     ]
    },
    {
     "name": "stderr",
     "output_type": "stream",
     "text": [
      "430it [00:00, 4299.20it/s]"
     ]
    },
    {
     "name": "stdout",
     "output_type": "stream",
     "text": [
      "Parsed ../kickoff-data-corrected/cbcca433-ff77-4927-a5a3-36ff293c12fd.1.kickoff.rdb in 1.86 s.\n",
      "Contains keys: dict_keys(['left', 'right'])\n",
      "[left] start_ts: 1523292948088 | stop_ts: 1523293544248\n",
      "[right] start_ts: 1523292936370 | stop_ts: 1523293534370\n",
      "../kickoff-data-corrected/cbcca433-ff77-4927-a5a3-36ff293c12fd.json\n",
      "[{'phase': 1, 'ts': '1970-01-01T00:00:00', 'kickoff_team_id': 15, 'type': 'start_phase'}, {'phase': 1, 'ts': '2018-04-09T17:47:46.113Z', 'type': 'end_phase'}, {'phase': 2, 'ts': '2018-04-09T18:04:20.408000', 'kickoff_team_id': 5, 'type': 'start_phase'}, {'phase': 2, 'ts': '2018-04-09T18:53:12.188Z', 'type': 'end_phase'}]\n",
      "0\n"
     ]
    },
    {
     "name": "stderr",
     "output_type": "stream",
     "text": [
      "14861it [00:05, 2533.80it/s]\n"
     ]
    },
    {
     "name": "stdout",
     "output_type": "stream",
     "text": [
      "4020\n",
      "0\n",
      "12060 57\n",
      "0\n",
      "Json file edited\n"
     ]
    },
    {
     "name": "stderr",
     "output_type": "stream",
     "text": [
      "\r",
      "0it [00:00, ?it/s]"
     ]
    },
    {
     "name": "stdout",
     "output_type": "stream",
     "text": [
      "Parsed ../kickoff-data-corrected/f9f01fbf-6871-4303-b43f-29c2dd16909d.2.kickoff.rdb in 2.11 s.\n",
      "Contains keys: dict_keys(['right', 'left'])\n",
      "[right] start_ts: 1522677422216 | stop_ts: 1522678021096\n",
      "[left] start_ts: 1522677422334 | stop_ts: 1522678021134\n",
      "../kickoff-data-corrected/f9f01fbf-6871-4303-b43f-29c2dd16909d.json\n",
      "[{'phase': 1, 'ts': '2018-04-02T13:00:04.376000', 'kickoff_team_id': 15, 'type': 'start_phase'}, {'phase': 1, 'ts': '2018-04-02T13:47:02.983Z', 'type': 'end_phase'}, {'phase': 2, 'ts': '2018-04-02T14:02:02.696000', 'kickoff_team_id': 4, 'type': 'start_phase'}, {'phase': 2, 'ts': '2018-04-02T14:50:07.639Z', 'type': 'end_phase'}]\n",
      "1522677722696\n"
     ]
    },
    {
     "name": "stderr",
     "output_type": "stream",
     "text": [
      "14971it [00:05, 2634.21it/s]\n"
     ]
    },
    {
     "name": "stdout",
     "output_type": "stream",
     "text": [
      "4020\n",
      "12\n",
      "12060 70\n",
      "12\n",
      "35\n",
      "Json file edited\n"
     ]
    },
    {
     "name": "stderr",
     "output_type": "stream",
     "text": [
      "439it [00:00, 4387.31it/s]"
     ]
    },
    {
     "name": "stdout",
     "output_type": "stream",
     "text": [
      "Parsed ../kickoff-data-corrected/58bc418b-cf05-415e-9dd1-6f4808535976.2.kickoff.rdb in 1.46 s.\n",
      "Contains keys: dict_keys(['right', 'left'])\n",
      "[right] start_ts: 1523297009328 | stop_ts: 1523297605968\n",
      "[left] start_ts: 1523297008806 | stop_ts: 1523297605726\n",
      "../kickoff-data-corrected/58bc418b-cf05-415e-9dd1-6f4808535976.json\n",
      "[{'phase': 1, 'ts': '2018-04-09T17:00:56.973Z', 'kickoff_team_id': 8, 'type': 'start_phase'}, {'phase': 1, 'ts': '2018-04-09T17:47:19.651Z', 'type': 'end_phase'}, {'phase': 2, 'ts': '1970-01-01T00:00:00', 'kickoff_team_id': 10, 'type': 'start_phase'}, {'phase': 2, 'ts': '2018-04-09T18:57:31.075Z', 'type': 'end_phase'}]\n",
      "0\n"
     ]
    },
    {
     "name": "stderr",
     "output_type": "stream",
     "text": [
      "14917it [00:06, 2426.15it/s]\n"
     ]
    },
    {
     "name": "stdout",
     "output_type": "stream",
     "text": [
      "4020\n",
      "0\n",
      "12060 58\n",
      "0\n"
     ]
    }
   ],
   "source": [
    "create_dataset('../kickoff-data-corrected/data.pickle.1.10.mov.classif.5',50)"
   ]
  },
  {
   "cell_type": "code",
   "execution_count": 23,
   "metadata": {},
   "outputs": [
    {
     "name": "stderr",
     "output_type": "stream",
     "text": [
      "815it [00:00, 4224.87it/s]"
     ]
    },
    {
     "name": "stdout",
     "output_type": "stream",
     "text": [
      "Parsed ../kickoff-data-corrected/bff5f37c-be85-4f08-b6d4-a01e6c22fe0e.1.kickoff.rdb in 2.16 s.\n",
      "Contains keys: dict_keys(['left', 'right'])\n",
      "[left] start_ts: 1523984148353 | stop_ts: 1523984746873\n",
      "[right] start_ts: 1523984147529 | stop_ts: 1523984746449\n",
      "../kickoff-data-corrected/bff5f37c-be85-4f08-b6d4-a01e6c22fe0e.json\n",
      "[{'kickoff_team_id': 14, 'ts': '2018-04-17T17:00:46.604Z', 'type': 'start_phase', 'phase': 1}, {'ts': '2018-04-17T17:45:52.314Z', 'type': 'end_phase', 'phase': 1}, {'kickoff_team_id': 3, 'ts': '2018-04-17T18:00:53.147Z', 'type': 'start_phase', 'phase': 2}, {'ts': '2018-04-17T18:51:00.072Z', 'type': 'end_phase', 'phase': 2}]\n",
      "1523984446604\n"
     ]
    },
    {
     "name": "stderr",
     "output_type": "stream",
     "text": [
      "14964it [00:07, 2024.73it/s]\n"
     ]
    },
    {
     "name": "stdout",
     "output_type": "stream",
     "text": [
      "576 576\n",
      "280\n",
      "16\n",
      "16 16\n",
      "[[0, 0, 0, 0, 0, 0, 0, 0, 0, 0, 0, 0, 0, 0, 0, 0, 0, 1, 0, 0], [0, 0, 0, 0, 0, 0, 0, 0, 0, 0, 0, 0, 0, 0, 0, 0, 1, 0, 0, 0], [0, 0, 0, 0, 0, 0, 0, 0, 0, 0, 0, 0, 0, 0, 0, 1, 0, 0, 0, 0], [0, 0, 0, 0, 0, 0, 0, 0, 0, 0, 0, 0, 0, 0, 1, 0, 0, 0, 0, 0], [0, 0, 0, 0, 0, 0, 0, 0, 0, 0, 0, 0, 0, 1, 0, 0, 0, 0, 0, 0], [0, 0, 0, 0, 0, 0, 0, 0, 0, 0, 0, 0, 1, 0, 0, 0, 0, 0, 0, 0], [0, 0, 0, 0, 0, 0, 0, 0, 0, 0, 0, 1, 0, 0, 0, 0, 0, 0, 0, 0], [0, 0, 0, 0, 0, 0, 0, 0, 0, 0, 1, 0, 0, 0, 0, 0, 0, 0, 0, 0], [0, 0, 0, 0, 0, 0, 0, 0, 0, 1, 0, 0, 0, 0, 0, 0, 0, 0, 0, 0], [0, 0, 0, 0, 0, 0, 0, 0, 1, 0, 0, 0, 0, 0, 0, 0, 0, 0, 0, 0], [0, 0, 0, 0, 0, 0, 0, 1, 0, 0, 0, 0, 0, 0, 0, 0, 0, 0, 0, 0], [0, 0, 0, 0, 0, 0, 1, 0, 0, 0, 0, 0, 0, 0, 0, 0, 0, 0, 0, 0], [0, 0, 0, 0, 0, 1, 0, 0, 0, 0, 0, 0, 0, 0, 0, 0, 0, 0, 0, 0], [0, 0, 0, 0, 1, 0, 0, 0, 0, 0, 0, 0, 0, 0, 0, 0, 0, 0, 0, 0], [0, 0, 0, 1, 0, 0, 0, 0, 0, 0, 0, 0, 0, 0, 0, 0, 0, 0, 0, 0], [0, 0, 1, 0, 0, 0, 0, 0, 0, 0, 0, 0, 0, 0, 0, 0, 0, 0, 0, 0]]\n",
      "[2, 3, 4, 5, 6, 7, 8, 9, 10, 11, 12, 13, 14, 15, 16, 17]\n",
      "Json file edited\n"
     ]
    },
    {
     "name": "stderr",
     "output_type": "stream",
     "text": [
      "557it [00:00, 2739.47it/s]"
     ]
    },
    {
     "name": "stdout",
     "output_type": "stream",
     "text": [
      "Parsed ../kickoff-data-corrected/41c3f1b3-a868-459b-9766-760be49947b2.1.kickoff.rdb in 2.47 s.\n",
      "Contains keys: dict_keys(['left', 'right'])\n",
      "[left] start_ts: 1526316922655 | stop_ts: 1526317521455\n",
      "[right] start_ts: 1526316922561 | stop_ts: 1526317521441\n",
      "../kickoff-data-corrected/41c3f1b3-a868-459b-9766-760be49947b2.json\n",
      "[{'kickoff_team_id': 9, 'type': 'start_phase', 'phase': 1, 'ts': '1970-01-01T00:00:00'}, {'type': 'end_phase', 'phase': 1, 'ts': '2018-05-14T17:46:22.241Z'}, {'kickoff_team_id': 1, 'type': 'start_phase', 'phase': 2, 'ts': '2018-05-14T18:01:26.755Z'}, {'type': 'end_phase', 'phase': 2, 'ts': '2018-05-14T18:49:29.553Z'}]\n",
      "0\n"
     ]
    },
    {
     "name": "stderr",
     "output_type": "stream",
     "text": [
      "14972it [00:07, 2016.20it/s]\n"
     ]
    },
    {
     "name": "stdout",
     "output_type": "stream",
     "text": [
      "0 0\n",
      "[]\n",
      "[]\n",
      "Json file edited\n"
     ]
    },
    {
     "name": "stderr",
     "output_type": "stream",
     "text": [
      "240it [00:00, 2398.65it/s]"
     ]
    },
    {
     "name": "stdout",
     "output_type": "stream",
     "text": [
      "Parsed ../kickoff-data-corrected/f9f01fbf-6871-4303-b43f-29c2dd16909d.1.kickoff.rdb in 2.66 s.\n",
      "Contains keys: dict_keys(['right', 'left'])\n",
      "[right] start_ts: 1522673702216 | stop_ts: 1522674302096\n",
      "[left] start_ts: 1522673702294 | stop_ts: 1522674302134\n",
      "../kickoff-data-corrected/f9f01fbf-6871-4303-b43f-29c2dd16909d.json\n",
      "[{'kickoff_team_id': 15, 'type': 'start_phase', 'phase': 1, 'ts': '2018-04-02T13:00:04.376000'}, {'type': 'end_phase', 'phase': 1, 'ts': '2018-04-02T13:47:02.983Z'}, {'kickoff_team_id': 4, 'type': 'start_phase', 'phase': 2, 'ts': '2018-04-02T14:02:01.386Z'}, {'type': 'end_phase', 'phase': 2, 'ts': '2018-04-02T14:50:07.639Z'}]\n",
      "1522674004376\n"
     ]
    },
    {
     "name": "stderr",
     "output_type": "stream",
     "text": [
      "14996it [00:07, 1955.98it/s]\n"
     ]
    },
    {
     "name": "stdout",
     "output_type": "stream",
     "text": [
      "577 577\n",
      "283\n",
      "16\n",
      "16 16\n",
      "[[0, 0, 0, 0, 0, 0, 0, 0, 0, 0, 0, 0, 0, 0, 0, 0, 0, 1, 0, 0], [0, 0, 0, 0, 0, 0, 0, 0, 0, 0, 0, 0, 0, 0, 0, 0, 1, 0, 0, 0], [0, 0, 0, 0, 0, 0, 0, 0, 0, 0, 0, 0, 0, 0, 0, 1, 0, 0, 0, 0], [0, 0, 0, 0, 0, 0, 0, 0, 0, 0, 0, 0, 0, 0, 1, 0, 0, 0, 0, 0], [0, 0, 0, 0, 0, 0, 0, 0, 0, 0, 0, 0, 0, 1, 0, 0, 0, 0, 0, 0], [0, 0, 0, 0, 0, 0, 0, 0, 0, 0, 0, 0, 1, 0, 0, 0, 0, 0, 0, 0], [0, 0, 0, 0, 0, 0, 0, 0, 0, 0, 0, 1, 0, 0, 0, 0, 0, 0, 0, 0], [0, 0, 0, 0, 0, 0, 0, 0, 0, 0, 1, 0, 0, 0, 0, 0, 0, 0, 0, 0], [0, 0, 0, 0, 0, 0, 0, 0, 0, 1, 0, 0, 0, 0, 0, 0, 0, 0, 0, 0], [0, 0, 0, 0, 0, 0, 0, 0, 1, 0, 0, 0, 0, 0, 0, 0, 0, 0, 0, 0], [0, 0, 0, 0, 0, 0, 0, 1, 0, 0, 0, 0, 0, 0, 0, 0, 0, 0, 0, 0], [0, 0, 0, 0, 0, 0, 1, 0, 0, 0, 0, 0, 0, 0, 0, 0, 0, 0, 0, 0], [0, 0, 0, 0, 0, 1, 0, 0, 0, 0, 0, 0, 0, 0, 0, 0, 0, 0, 0, 0], [0, 0, 0, 0, 1, 0, 0, 0, 0, 0, 0, 0, 0, 0, 0, 0, 0, 0, 0, 0], [0, 0, 0, 1, 0, 0, 0, 0, 0, 0, 0, 0, 0, 0, 0, 0, 0, 0, 0, 0], [0, 0, 1, 0, 0, 0, 0, 0, 0, 0, 0, 0, 0, 0, 0, 0, 0, 0, 0, 0]]\n",
      "[2, 3, 4, 5, 6, 7, 8, 9, 10, 11, 12, 13, 14, 15, 16, 17]\n",
      "2\n",
      "Json file edited\n"
     ]
    },
    {
     "name": "stderr",
     "output_type": "stream",
     "text": [
      "384it [00:00, 3832.13it/s]"
     ]
    },
    {
     "name": "stdout",
     "output_type": "stream",
     "text": [
      "Parsed ../kickoff-data-corrected/6e26f66b-a921-4919-9d7d-1bd59f935e78.2.kickoff.rdb in 1.34 s.\n",
      "Contains keys: dict_keys(['left', 'right'])\n",
      "[left] start_ts: 1523642363613 | stop_ts: 1523642962133\n",
      "[right] start_ts: 1523642362979 | stop_ts: 1523642961819\n",
      "../kickoff-data-corrected/6e26f66b-a921-4919-9d7d-1bd59f935e78.json\n",
      "[{'kickoff_team_id': 3, 'type': 'start_phase', 'phase': 1, 'ts': '2018-04-13T17:01:26.037Z'}, {'type': 'end_phase', 'phase': 1, 'ts': '2018-04-13T17:48:25.115Z'}, {'kickoff_team_id': 8, 'type': 'start_phase', 'phase': 2, 'ts': '2018-04-13T18:04:23.619000'}, {'type': 'end_phase', 'phase': 2, 'ts': '2018-04-13T18:52:23.632Z'}]\n",
      "1523642663619\n"
     ]
    },
    {
     "name": "stderr",
     "output_type": "stream",
     "text": [
      "14964it [00:06, 2444.65it/s]\n"
     ]
    },
    {
     "name": "stdout",
     "output_type": "stream",
     "text": [
      "576 576\n",
      "281\n",
      "17\n",
      "17 17\n",
      "[[0, 0, 0, 0, 0, 0, 0, 0, 0, 0, 0, 0, 0, 0, 0, 0, 0, 1, 0, 0], [0, 0, 0, 0, 0, 0, 0, 0, 0, 0, 0, 0, 0, 0, 0, 0, 1, 0, 0, 0], [0, 0, 0, 0, 0, 0, 0, 0, 0, 0, 0, 0, 0, 0, 0, 1, 0, 0, 0, 0], [0, 0, 0, 0, 0, 0, 0, 0, 0, 0, 0, 0, 0, 0, 1, 0, 0, 0, 0, 0], [0, 0, 0, 0, 0, 0, 0, 0, 0, 0, 0, 0, 0, 1, 0, 0, 0, 0, 0, 0], [0, 0, 0, 0, 0, 0, 0, 0, 0, 0, 0, 0, 1, 0, 0, 0, 0, 0, 0, 0], [0, 0, 0, 0, 0, 0, 0, 0, 0, 0, 0, 1, 0, 0, 0, 0, 0, 0, 0, 0], [0, 0, 0, 0, 0, 0, 0, 0, 0, 0, 1, 0, 0, 0, 0, 0, 0, 0, 0, 0], [0, 0, 0, 0, 0, 0, 0, 0, 0, 1, 0, 0, 0, 0, 0, 0, 0, 0, 0, 0], [0, 0, 0, 0, 0, 0, 0, 0, 1, 0, 0, 0, 0, 0, 0, 0, 0, 0, 0, 0], [0, 0, 0, 0, 0, 0, 0, 1, 0, 0, 0, 0, 0, 0, 0, 0, 0, 0, 0, 0], [0, 0, 0, 0, 0, 0, 1, 0, 0, 0, 0, 0, 0, 0, 0, 0, 0, 0, 0, 0], [0, 0, 0, 0, 0, 1, 0, 0, 0, 0, 0, 0, 0, 0, 0, 0, 0, 0, 0, 0], [0, 0, 0, 0, 1, 0, 0, 0, 0, 0, 0, 0, 0, 0, 0, 0, 0, 0, 0, 0], [0, 0, 0, 1, 0, 0, 0, 0, 0, 0, 0, 0, 0, 0, 0, 0, 0, 0, 0, 0], [0, 0, 1, 0, 0, 0, 0, 0, 0, 0, 0, 0, 0, 0, 0, 0, 0, 0, 0, 0], [0, 1, 0, 0, 0, 0, 0, 0, 0, 0, 0, 0, 0, 0, 0, 0, 0, 0, 0, 0]]\n",
      "[2, 3, 4, 5, 6, 7, 8, 9, 10, 11, 12, 13, 14, 15, 16, 17, 18]\n",
      "3\n",
      "Json file edited\n"
     ]
    },
    {
     "name": "stderr",
     "output_type": "stream",
     "text": [
      "181it [00:00, 1800.51it/s]"
     ]
    },
    {
     "name": "stdout",
     "output_type": "stream",
     "text": [
      "Parsed ../kickoff-data-corrected/27bea627-3caa-47ee-93c3-67f0e26f3034.2.kickoff.rdb in 1.54 s.\n",
      "Contains keys: dict_keys(['left', 'right'])\n",
      "[left] start_ts: 1523800614341 | stop_ts: 1523801213661\n",
      "[right] start_ts: 1523800613851 | stop_ts: 1523801213411\n",
      "../kickoff-data-corrected/27bea627-3caa-47ee-93c3-67f0e26f3034.json\n",
      "[{'kickoff_team_id': 4, 'type': 'start_phase', 'phase': 1, 'ts': '2018-04-15T13:00:57.169Z'}, {'type': 'end_phase', 'phase': 1, 'ts': '2018-04-15T13:46:01.064Z'}, {'kickoff_team_id': 9, 'type': 'start_phase', 'phase': 2, 'ts': '2018-04-15T14:01:55.381000'}, {'type': 'end_phase', 'phase': 2, 'ts': '2018-04-15T14:50:42.654Z'}]\n",
      "1523800915381\n"
     ]
    },
    {
     "name": "stderr",
     "output_type": "stream",
     "text": [
      "14983it [00:06, 2225.29it/s]\n"
     ]
    },
    {
     "name": "stdout",
     "output_type": "stream",
     "text": [
      "577 577\n",
      "282\n",
      "17\n",
      "17 17\n",
      "[[0, 0, 0, 0, 0, 0, 0, 0, 0, 0, 0, 0, 0, 0, 0, 0, 0, 1, 0, 0], [0, 0, 0, 0, 0, 0, 0, 0, 0, 0, 0, 0, 0, 0, 0, 0, 1, 0, 0, 0], [0, 0, 0, 0, 0, 0, 0, 0, 0, 0, 0, 0, 0, 0, 0, 1, 0, 0, 0, 0], [0, 0, 0, 0, 0, 0, 0, 0, 0, 0, 0, 0, 0, 0, 1, 0, 0, 0, 0, 0], [0, 0, 0, 0, 0, 0, 0, 0, 0, 0, 0, 0, 0, 1, 0, 0, 0, 0, 0, 0], [0, 0, 0, 0, 0, 0, 0, 0, 0, 0, 0, 0, 1, 0, 0, 0, 0, 0, 0, 0], [0, 0, 0, 0, 0, 0, 0, 0, 0, 0, 0, 1, 0, 0, 0, 0, 0, 0, 0, 0], [0, 0, 0, 0, 0, 0, 0, 0, 0, 0, 1, 0, 0, 0, 0, 0, 0, 0, 0, 0], [0, 0, 0, 0, 0, 0, 0, 0, 0, 1, 0, 0, 0, 0, 0, 0, 0, 0, 0, 0], [0, 0, 0, 0, 0, 0, 0, 0, 1, 0, 0, 0, 0, 0, 0, 0, 0, 0, 0, 0], [0, 0, 0, 0, 0, 0, 0, 1, 0, 0, 0, 0, 0, 0, 0, 0, 0, 0, 0, 0], [0, 0, 0, 0, 0, 0, 1, 0, 0, 0, 0, 0, 0, 0, 0, 0, 0, 0, 0, 0], [0, 0, 0, 0, 0, 1, 0, 0, 0, 0, 0, 0, 0, 0, 0, 0, 0, 0, 0, 0], [0, 0, 0, 0, 1, 0, 0, 0, 0, 0, 0, 0, 0, 0, 0, 0, 0, 0, 0, 0], [0, 0, 0, 1, 0, 0, 0, 0, 0, 0, 0, 0, 0, 0, 0, 0, 0, 0, 0, 0], [0, 0, 1, 0, 0, 0, 0, 0, 0, 0, 0, 0, 0, 0, 0, 0, 0, 0, 0, 0], [0, 1, 0, 0, 0, 0, 0, 0, 0, 0, 0, 0, 0, 0, 0, 0, 0, 0, 0, 0]]\n",
      "[2, 3, 4, 5, 6, 7, 8, 9, 10, 11, 12, 13, 14, 15, 16, 17, 18]\n",
      "4\n"
     ]
    },
    {
     "name": "stderr",
     "output_type": "stream",
     "text": [
      "881it [00:00, 4585.11it/s]"
     ]
    },
    {
     "name": "stdout",
     "output_type": "stream",
     "text": [
      "Parsed ../kickoff-data-corrected/b0cbf7ed-a9ce-4434-9e4d-072065ee61bc.1.kickoff.rdb in 1.85 s.\n",
      "Contains keys: dict_keys(['right', 'left'])\n",
      "[right] start_ts: 1523706912088 | stop_ts: 1523707510928\n",
      "[left] start_ts: 1523706904558 | stop_ts: 1523707503158\n",
      "../kickoff-data-corrected/b0cbf7ed-a9ce-4434-9e4d-072065ee61bc.json\n",
      "[{'kickoff_team_id': 1, 'type': 'start_phase', 'ts': '2018-04-14T12:00:03.074Z', 'phase': 1}, {'type': 'end_phase', 'ts': '2018-04-14T12:45:30.997Z', 'phase': 1}, {'kickoff_team_id': 7, 'type': 'start_phase', 'ts': '1970-01-01T00:00:00', 'phase': 2}, {'type': 'end_phase', 'ts': '2018-04-14T13:50:58.493Z', 'phase': 2}]\n",
      "1523707203074\n"
     ]
    },
    {
     "name": "stderr",
     "output_type": "stream",
     "text": [
      "14966it [00:05, 2749.52it/s]\n"
     ]
    },
    {
     "name": "stdout",
     "output_type": "stream",
     "text": [
      "569 569\n",
      "272\n",
      "17\n",
      "17 17\n",
      "[[0, 0, 0, 0, 0, 0, 0, 0, 0, 0, 0, 0, 0, 0, 0, 0, 0, 1, 0, 0], [0, 0, 0, 0, 0, 0, 0, 0, 0, 0, 0, 0, 0, 0, 0, 0, 1, 0, 0, 0], [0, 0, 0, 0, 0, 0, 0, 0, 0, 0, 0, 0, 0, 0, 0, 1, 0, 0, 0, 0], [0, 0, 0, 0, 0, 0, 0, 0, 0, 0, 0, 0, 0, 0, 1, 0, 0, 0, 0, 0], [0, 0, 0, 0, 0, 0, 0, 0, 0, 0, 0, 0, 0, 1, 0, 0, 0, 0, 0, 0], [0, 0, 0, 0, 0, 0, 0, 0, 0, 0, 0, 0, 1, 0, 0, 0, 0, 0, 0, 0], [0, 0, 0, 0, 0, 0, 0, 0, 0, 0, 0, 1, 0, 0, 0, 0, 0, 0, 0, 0], [0, 0, 0, 0, 0, 0, 0, 0, 0, 0, 1, 0, 0, 0, 0, 0, 0, 0, 0, 0], [0, 0, 0, 0, 0, 0, 0, 0, 0, 1, 0, 0, 0, 0, 0, 0, 0, 0, 0, 0], [0, 0, 0, 0, 0, 0, 0, 0, 1, 0, 0, 0, 0, 0, 0, 0, 0, 0, 0, 0], [0, 0, 0, 0, 0, 0, 0, 1, 0, 0, 0, 0, 0, 0, 0, 0, 0, 0, 0, 0], [0, 0, 0, 0, 0, 0, 1, 0, 0, 0, 0, 0, 0, 0, 0, 0, 0, 0, 0, 0], [0, 0, 0, 0, 0, 1, 0, 0, 0, 0, 0, 0, 0, 0, 0, 0, 0, 0, 0, 0], [0, 0, 0, 0, 1, 0, 0, 0, 0, 0, 0, 0, 0, 0, 0, 0, 0, 0, 0, 0], [0, 0, 0, 1, 0, 0, 0, 0, 0, 0, 0, 0, 0, 0, 0, 0, 0, 0, 0, 0], [0, 0, 1, 0, 0, 0, 0, 0, 0, 0, 0, 0, 0, 0, 0, 0, 0, 0, 0, 0], [0, 1, 0, 0, 0, 0, 0, 0, 0, 0, 0, 0, 0, 0, 0, 0, 0, 0, 0, 0]]\n",
      "[2, 3, 4, 5, 6, 7, 8, 9, 10, 11, 12, 13, 14, 15, 16, 17, 18]\n",
      "5\n",
      "Json file edited\n"
     ]
    },
    {
     "name": "stderr",
     "output_type": "stream",
     "text": [
      "527it [00:00, 2736.74it/s]"
     ]
    },
    {
     "name": "stdout",
     "output_type": "stream",
     "text": [
      "Parsed ../kickoff-data-corrected/0d9e9e30-9d13-4af0-8e41-fe1669e9eeff.1.kickoff.rdb in 1.73 s.\n",
      "Contains keys: dict_keys(['left', 'right'])\n",
      "[left] start_ts: 1523192129517 | stop_ts: 1523192728157\n",
      "[right] start_ts: 1523192129071 | stop_ts: 1523192727911\n",
      "../kickoff-data-corrected/0d9e9e30-9d13-4af0-8e41-fe1669e9eeff.json\n",
      "[{'kickoff_team_id': 7, 'type': 'start_phase', 'phase': 1, 'ts': '2018-04-08T13:00:30.151000'}, {'type': 'end_phase', 'phase': 1, 'ts': '2018-04-08T13:47:27.898Z'}, {'kickoff_team_id': 9, 'type': 'start_phase', 'phase': 2, 'ts': '2018-04-08T14:02:34.797000'}, {'type': 'end_phase', 'phase': 2, 'ts': '2018-04-08T14:51:34.402Z'}]\n",
      "1523192430151\n"
     ]
    },
    {
     "name": "stderr",
     "output_type": "stream",
     "text": [
      "14966it [00:08, 1862.03it/s]\n"
     ]
    },
    {
     "name": "stdout",
     "output_type": "stream",
     "text": [
      "576 576\n",
      "282\n",
      "16\n",
      "16 16\n",
      "[[0, 0, 0, 0, 0, 0, 0, 0, 0, 0, 0, 0, 0, 0, 0, 0, 0, 1, 0, 0], [0, 0, 0, 0, 0, 0, 0, 0, 0, 0, 0, 0, 0, 0, 0, 0, 1, 0, 0, 0], [0, 0, 0, 0, 0, 0, 0, 0, 0, 0, 0, 0, 0, 0, 0, 1, 0, 0, 0, 0], [0, 0, 0, 0, 0, 0, 0, 0, 0, 0, 0, 0, 0, 0, 1, 0, 0, 0, 0, 0], [0, 0, 0, 0, 0, 0, 0, 0, 0, 0, 0, 0, 0, 1, 0, 0, 0, 0, 0, 0], [0, 0, 0, 0, 0, 0, 0, 0, 0, 0, 0, 0, 1, 0, 0, 0, 0, 0, 0, 0], [0, 0, 0, 0, 0, 0, 0, 0, 0, 0, 0, 1, 0, 0, 0, 0, 0, 0, 0, 0], [0, 0, 0, 0, 0, 0, 0, 0, 0, 0, 1, 0, 0, 0, 0, 0, 0, 0, 0, 0], [0, 0, 0, 0, 0, 0, 0, 0, 0, 1, 0, 0, 0, 0, 0, 0, 0, 0, 0, 0], [0, 0, 0, 0, 0, 0, 0, 0, 1, 0, 0, 0, 0, 0, 0, 0, 0, 0, 0, 0], [0, 0, 0, 0, 0, 0, 0, 1, 0, 0, 0, 0, 0, 0, 0, 0, 0, 0, 0, 0], [0, 0, 0, 0, 0, 0, 1, 0, 0, 0, 0, 0, 0, 0, 0, 0, 0, 0, 0, 0], [0, 0, 0, 0, 0, 1, 0, 0, 0, 0, 0, 0, 0, 0, 0, 0, 0, 0, 0, 0], [0, 0, 0, 0, 1, 0, 0, 0, 0, 0, 0, 0, 0, 0, 0, 0, 0, 0, 0, 0], [0, 0, 0, 1, 0, 0, 0, 0, 0, 0, 0, 0, 0, 0, 0, 0, 0, 0, 0, 0], [0, 0, 1, 0, 0, 0, 0, 0, 0, 0, 0, 0, 0, 0, 0, 0, 0, 0, 0, 0]]\n",
      "[2, 3, 4, 5, 6, 7, 8, 9, 10, 11, 12, 13, 14, 15, 16, 17]\n",
      "6\n",
      "Json file edited\n"
     ]
    },
    {
     "name": "stderr",
     "output_type": "stream",
     "text": [
      "637it [00:00, 3192.84it/s]"
     ]
    },
    {
     "name": "stdout",
     "output_type": "stream",
     "text": [
      "Parsed ../kickoff-data-corrected/b0cbf7ed-a9ce-4434-9e4d-072065ee61bc.2.kickoff.rdb in 1.74 s.\n",
      "Contains keys: dict_keys(['left', 'right'])\n",
      "[left] start_ts: 1523710552598 | stop_ts: 1523711150158\n",
      "[right] start_ts: 1523710560128 | stop_ts: 1523711157928\n",
      "../kickoff-data-corrected/b0cbf7ed-a9ce-4434-9e4d-072065ee61bc.json\n",
      "[{'kickoff_team_id': 1, 'type': 'start_phase', 'phase': 1, 'ts': '2018-04-14T12:00:03.074Z'}, {'type': 'end_phase', 'phase': 1, 'ts': '2018-04-14T12:45:30.997Z'}, {'kickoff_team_id': 7, 'type': 'start_phase', 'phase': 2, 'ts': '1970-01-01T00:00:00'}, {'type': 'end_phase', 'phase': 2, 'ts': '2018-04-14T13:50:58.493Z'}]\n",
      "0\n"
     ]
    },
    {
     "name": "stderr",
     "output_type": "stream",
     "text": [
      "14941it [00:05, 2593.82it/s]\n"
     ]
    },
    {
     "name": "stdout",
     "output_type": "stream",
     "text": [
      "0 0\n",
      "[]\n",
      "[]\n",
      "Json file edited\n"
     ]
    },
    {
     "name": "stderr",
     "output_type": "stream",
     "text": [
      "865it [00:00, 4385.71it/s]"
     ]
    },
    {
     "name": "stdout",
     "output_type": "stream",
     "text": [
      "Parsed ../kickoff-data-corrected/2b8bcfd6-5f57-46de-aacd-e932ac8e1697.1.kickoff.rdb in 1.98 s.\n",
      "Contains keys: dict_keys(['right', 'left'])\n",
      "[right] start_ts: 1523201094061 | stop_ts: 1523201692981\n",
      "[left] start_ts: 1523201092829 | stop_ts: 1523201692349\n",
      "../kickoff-data-corrected/2b8bcfd6-5f57-46de-aacd-e932ac8e1697.json\n",
      "[{'kickoff_team_id': 13, 'type': 'start_phase', 'phase': 1, 'ts': '1970-01-01T00:00:00'}, {'type': 'end_phase', 'phase': 1, 'ts': '2018-04-08T16:17:54.242Z'}, {'kickoff_team_id': 16, 'type': 'start_phase', 'phase': 2, 'ts': '2018-04-08T16:34:19.995Z'}, {'type': 'end_phase', 'phase': 2, 'ts': '2018-04-08T17:23:20.816Z'}]\n",
      "0\n"
     ]
    },
    {
     "name": "stderr",
     "output_type": "stream",
     "text": [
      "14951it [00:07, 2006.71it/s]\n"
     ]
    },
    {
     "name": "stdout",
     "output_type": "stream",
     "text": [
      "0 0\n",
      "[]\n",
      "[]\n",
      "Json file edited\n"
     ]
    },
    {
     "name": "stderr",
     "output_type": "stream",
     "text": [
      "413it [00:00, 2080.51it/s]"
     ]
    },
    {
     "name": "stdout",
     "output_type": "stream",
     "text": [
      "Parsed ../kickoff-data-corrected/050a1fae-5d48-4048-8f66-a3f12eca843d.1.kickoff.rdb in 2.56 s.\n",
      "Contains keys: dict_keys(['right', 'left'])\n",
      "[right] start_ts: 1526225101172 | stop_ts: 1526225700052\n",
      "[left] start_ts: 1526225101102 | stop_ts: 1526225700022\n",
      "../kickoff-data-corrected/050a1fae-5d48-4048-8f66-a3f12eca843d.json\n",
      "[{'kickoff_team_id': 14, 'type': 'start_phase', 'phase': 1, 'ts': '2018-05-13T15:30:01.862000'}, {'type': 'end_phase', 'phase': 1, 'ts': '2018-05-13T16:16:59.553Z'}, {'kickoff_team_id': 8, 'type': 'start_phase', 'phase': 2, 'ts': '2018-05-13T16:32:02.287Z'}, {'type': 'end_phase', 'phase': 2, 'ts': '2018-05-13T17:20:33.812Z'}]\n",
      "1526225401862\n"
     ]
    },
    {
     "name": "stderr",
     "output_type": "stream",
     "text": [
      "14972it [00:07, 2070.55it/s]\n"
     ]
    },
    {
     "name": "stdout",
     "output_type": "stream",
     "text": [
      "577 577\n",
      "282\n",
      "16\n",
      "16 16\n",
      "[[0, 0, 0, 0, 0, 0, 0, 0, 0, 0, 0, 0, 0, 0, 0, 0, 0, 1, 0, 0], [0, 0, 0, 0, 0, 0, 0, 0, 0, 0, 0, 0, 0, 0, 0, 0, 1, 0, 0, 0], [0, 0, 0, 0, 0, 0, 0, 0, 0, 0, 0, 0, 0, 0, 0, 1, 0, 0, 0, 0], [0, 0, 0, 0, 0, 0, 0, 0, 0, 0, 0, 0, 0, 0, 1, 0, 0, 0, 0, 0], [0, 0, 0, 0, 0, 0, 0, 0, 0, 0, 0, 0, 0, 1, 0, 0, 0, 0, 0, 0], [0, 0, 0, 0, 0, 0, 0, 0, 0, 0, 0, 0, 1, 0, 0, 0, 0, 0, 0, 0], [0, 0, 0, 0, 0, 0, 0, 0, 0, 0, 0, 1, 0, 0, 0, 0, 0, 0, 0, 0], [0, 0, 0, 0, 0, 0, 0, 0, 0, 0, 1, 0, 0, 0, 0, 0, 0, 0, 0, 0], [0, 0, 0, 0, 0, 0, 0, 0, 0, 1, 0, 0, 0, 0, 0, 0, 0, 0, 0, 0], [0, 0, 0, 0, 0, 0, 0, 0, 1, 0, 0, 0, 0, 0, 0, 0, 0, 0, 0, 0], [0, 0, 0, 0, 0, 0, 0, 1, 0, 0, 0, 0, 0, 0, 0, 0, 0, 0, 0, 0], [0, 0, 0, 0, 0, 0, 1, 0, 0, 0, 0, 0, 0, 0, 0, 0, 0, 0, 0, 0], [0, 0, 0, 0, 0, 1, 0, 0, 0, 0, 0, 0, 0, 0, 0, 0, 0, 0, 0, 0], [0, 0, 0, 0, 1, 0, 0, 0, 0, 0, 0, 0, 0, 0, 0, 0, 0, 0, 0, 0], [0, 0, 0, 1, 0, 0, 0, 0, 0, 0, 0, 0, 0, 0, 0, 0, 0, 0, 0, 0], [0, 0, 1, 0, 0, 0, 0, 0, 0, 0, 0, 0, 0, 0, 0, 0, 0, 0, 0, 0]]\n",
      "[2, 3, 4, 5, 6, 7, 8, 9, 10, 11, 12, 13, 14, 15, 16, 17]\n",
      "7\n",
      "Json file edited\n"
     ]
    },
    {
     "name": "stderr",
     "output_type": "stream",
     "text": [
      "215it [00:00, 2146.61it/s]"
     ]
    },
    {
     "name": "stdout",
     "output_type": "stream",
     "text": [
      "Parsed ../kickoff-data-corrected/57bf9b24-5c68-464f-9e74-20d0b2508bba.2.kickoff.rdb in 1.59 s.\n",
      "Contains keys: dict_keys(['left', 'right'])\n",
      "[left] start_ts: 1524074286135 | stop_ts: 1524074882975\n",
      "[right] start_ts: 1524074286793 | stop_ts: 1524074883313\n",
      "../kickoff-data-corrected/57bf9b24-5c68-464f-9e74-20d0b2508bba.json\n",
      "[{'kickoff_team_id': 11, 'type': 'start_phase', 'phase': 1, 'ts': '2018-04-18T17:00:28.694Z'}, {'type': 'end_phase', 'phase': 1, 'ts': '2018-04-18T17:46:35.647Z'}, {'kickoff_team_id': 8, 'type': 'start_phase', 'phase': 2, 'ts': '2018-04-18T18:03:05.473000'}, {'type': 'end_phase', 'phase': 2, 'ts': '2018-04-18T18:52:04.739Z'}]\n",
      "1524074585473\n"
     ]
    },
    {
     "name": "stderr",
     "output_type": "stream",
     "text": [
      "14914it [00:07, 2114.93it/s]\n"
     ]
    },
    {
     "name": "stdout",
     "output_type": "stream",
     "text": [
      "574 574\n",
      "280\n",
      "16\n",
      "16 16\n",
      "[[0, 0, 0, 0, 0, 0, 0, 0, 0, 0, 0, 0, 0, 0, 0, 0, 0, 1, 0, 0], [0, 0, 0, 0, 0, 0, 0, 0, 0, 0, 0, 0, 0, 0, 0, 0, 1, 0, 0, 0], [0, 0, 0, 0, 0, 0, 0, 0, 0, 0, 0, 0, 0, 0, 0, 1, 0, 0, 0, 0], [0, 0, 0, 0, 0, 0, 0, 0, 0, 0, 0, 0, 0, 0, 1, 0, 0, 0, 0, 0], [0, 0, 0, 0, 0, 0, 0, 0, 0, 0, 0, 0, 0, 1, 0, 0, 0, 0, 0, 0], [0, 0, 0, 0, 0, 0, 0, 0, 0, 0, 0, 0, 1, 0, 0, 0, 0, 0, 0, 0], [0, 0, 0, 0, 0, 0, 0, 0, 0, 0, 0, 1, 0, 0, 0, 0, 0, 0, 0, 0], [0, 0, 0, 0, 0, 0, 0, 0, 0, 0, 1, 0, 0, 0, 0, 0, 0, 0, 0, 0], [0, 0, 0, 0, 0, 0, 0, 0, 0, 1, 0, 0, 0, 0, 0, 0, 0, 0, 0, 0], [0, 0, 0, 0, 0, 0, 0, 0, 1, 0, 0, 0, 0, 0, 0, 0, 0, 0, 0, 0], [0, 0, 0, 0, 0, 0, 0, 1, 0, 0, 0, 0, 0, 0, 0, 0, 0, 0, 0, 0], [0, 0, 0, 0, 0, 0, 1, 0, 0, 0, 0, 0, 0, 0, 0, 0, 0, 0, 0, 0], [0, 0, 0, 0, 0, 1, 0, 0, 0, 0, 0, 0, 0, 0, 0, 0, 0, 0, 0, 0], [0, 0, 0, 0, 1, 0, 0, 0, 0, 0, 0, 0, 0, 0, 0, 0, 0, 0, 0, 0], [0, 0, 0, 1, 0, 0, 0, 0, 0, 0, 0, 0, 0, 0, 0, 0, 0, 0, 0, 0], [0, 0, 1, 0, 0, 0, 0, 0, 0, 0, 0, 0, 0, 0, 0, 0, 0, 0, 0, 0]]\n",
      "[2, 3, 4, 5, 6, 7, 8, 9, 10, 11, 12, 13, 14, 15, 16, 17]\n",
      "8\n",
      "Json file edited\n"
     ]
    },
    {
     "name": "stderr",
     "output_type": "stream",
     "text": [
      "709it [00:00, 3596.97it/s]"
     ]
    },
    {
     "name": "stdout",
     "output_type": "stream",
     "text": [
      "Parsed ../kickoff-data-corrected/4be6ef54-2541-42d0-a334-e513a535029c.1.kickoff.rdb in 2.01 s.\n",
      "Contains keys: dict_keys(['right', 'left'])\n",
      "[right] start_ts: 1523714121038 | stop_ts: 1523714720678\n",
      "[left] start_ts: 1523714121022 | stop_ts: 1523714720662\n",
      "../kickoff-data-corrected/4be6ef54-2541-42d0-a334-e513a535029c.json\n",
      "[{'kickoff_team_id': 16, 'type': 'start_phase', 'phase': 1, 'ts': '2018-04-14T14:00:21.598000'}, {'type': 'end_phase', 'phase': 1, 'ts': '2018-04-14T14:46:37.899Z'}, {'kickoff_team_id': 5, 'type': 'start_phase', 'phase': 2, 'ts': '2018-04-14T15:02:36.879Z'}, {'type': 'end_phase', 'phase': 2, 'ts': '2018-04-14T15:51:35.702Z'}]\n",
      "1523714421598\n"
     ]
    },
    {
     "name": "stderr",
     "output_type": "stream",
     "text": [
      "14991it [00:07, 2019.03it/s]\n"
     ]
    },
    {
     "name": "stdout",
     "output_type": "stream",
     "text": [
      "578 578\n",
      "282\n",
      "16\n",
      "16 16\n",
      "[[0, 0, 0, 0, 0, 0, 0, 0, 0, 0, 0, 0, 0, 0, 0, 0, 0, 1, 0, 0], [0, 0, 0, 0, 0, 0, 0, 0, 0, 0, 0, 0, 0, 0, 0, 0, 1, 0, 0, 0], [0, 0, 0, 0, 0, 0, 0, 0, 0, 0, 0, 0, 0, 0, 0, 1, 0, 0, 0, 0], [0, 0, 0, 0, 0, 0, 0, 0, 0, 0, 0, 0, 0, 0, 1, 0, 0, 0, 0, 0], [0, 0, 0, 0, 0, 0, 0, 0, 0, 0, 0, 0, 0, 1, 0, 0, 0, 0, 0, 0], [0, 0, 0, 0, 0, 0, 0, 0, 0, 0, 0, 0, 1, 0, 0, 0, 0, 0, 0, 0], [0, 0, 0, 0, 0, 0, 0, 0, 0, 0, 0, 1, 0, 0, 0, 0, 0, 0, 0, 0], [0, 0, 0, 0, 0, 0, 0, 0, 0, 0, 1, 0, 0, 0, 0, 0, 0, 0, 0, 0], [0, 0, 0, 0, 0, 0, 0, 0, 0, 1, 0, 0, 0, 0, 0, 0, 0, 0, 0, 0], [0, 0, 0, 0, 0, 0, 0, 0, 1, 0, 0, 0, 0, 0, 0, 0, 0, 0, 0, 0], [0, 0, 0, 0, 0, 0, 0, 1, 0, 0, 0, 0, 0, 0, 0, 0, 0, 0, 0, 0], [0, 0, 0, 0, 0, 0, 1, 0, 0, 0, 0, 0, 0, 0, 0, 0, 0, 0, 0, 0], [0, 0, 0, 0, 0, 1, 0, 0, 0, 0, 0, 0, 0, 0, 0, 0, 0, 0, 0, 0], [0, 0, 0, 0, 1, 0, 0, 0, 0, 0, 0, 0, 0, 0, 0, 0, 0, 0, 0, 0], [0, 0, 0, 1, 0, 0, 0, 0, 0, 0, 0, 0, 0, 0, 0, 0, 0, 0, 0, 0], [0, 0, 1, 0, 0, 0, 0, 0, 0, 0, 0, 0, 0, 0, 0, 0, 0, 0, 0, 0]]\n",
      "[2, 3, 4, 5, 6, 7, 8, 9, 10, 11, 12, 13, 14, 15, 16, 17]\n",
      "9\n",
      "Json file edited\n"
     ]
    },
    {
     "name": "stderr",
     "output_type": "stream",
     "text": [
      "113it [00:00, 1125.16it/s]"
     ]
    },
    {
     "name": "stdout",
     "output_type": "stream",
     "text": [
      "Parsed ../kickoff-data-corrected/57bf9b24-5c68-464f-9e74-20d0b2508bba.1.kickoff.rdb in 2.89 s.\n",
      "Contains keys: dict_keys(['right', 'left'])\n",
      "[right] start_ts: 1524070530793 | stop_ts: 1524071128313\n",
      "[left] start_ts: 1524070530135 | stop_ts: 1524071127975\n",
      "../kickoff-data-corrected/57bf9b24-5c68-464f-9e74-20d0b2508bba.json\n",
      "[{'kickoff_team_id': 11, 'type': 'start_phase', 'ts': '2018-04-18T17:00:29.775000', 'phase': 1}, {'type': 'end_phase', 'ts': '2018-04-18T17:46:35.647Z', 'phase': 1}, {'kickoff_team_id': 8, 'type': 'start_phase', 'ts': '2018-04-18T18:03:05.473000', 'phase': 2}, {'type': 'end_phase', 'ts': '2018-04-18T18:52:04.739Z', 'phase': 2}]\n",
      "1524070829775\n"
     ]
    },
    {
     "name": "stderr",
     "output_type": "stream",
     "text": [
      "14939it [00:08, 1677.36it/s]\n"
     ]
    },
    {
     "name": "stdout",
     "output_type": "stream",
     "text": [
      "575 575\n",
      "280\n",
      "17\n",
      "17 17\n",
      "[[0, 0, 0, 0, 0, 0, 0, 0, 0, 0, 0, 0, 0, 0, 0, 0, 0, 1, 0, 0], [0, 0, 0, 0, 0, 0, 0, 0, 0, 0, 0, 0, 0, 0, 0, 0, 1, 0, 0, 0], [0, 0, 0, 0, 0, 0, 0, 0, 0, 0, 0, 0, 0, 0, 0, 1, 0, 0, 0, 0], [0, 0, 0, 0, 0, 0, 0, 0, 0, 0, 0, 0, 0, 0, 1, 0, 0, 0, 0, 0], [0, 0, 0, 0, 0, 0, 0, 0, 0, 0, 0, 0, 0, 1, 0, 0, 0, 0, 0, 0], [0, 0, 0, 0, 0, 0, 0, 0, 0, 0, 0, 0, 1, 0, 0, 0, 0, 0, 0, 0], [0, 0, 0, 0, 0, 0, 0, 0, 0, 0, 0, 1, 0, 0, 0, 0, 0, 0, 0, 0], [0, 0, 0, 0, 0, 0, 0, 0, 0, 0, 1, 0, 0, 0, 0, 0, 0, 0, 0, 0], [0, 0, 0, 0, 0, 0, 0, 0, 0, 1, 0, 0, 0, 0, 0, 0, 0, 0, 0, 0], [0, 0, 0, 0, 0, 0, 0, 0, 1, 0, 0, 0, 0, 0, 0, 0, 0, 0, 0, 0], [0, 0, 0, 0, 0, 0, 0, 1, 0, 0, 0, 0, 0, 0, 0, 0, 0, 0, 0, 0], [0, 0, 0, 0, 0, 0, 1, 0, 0, 0, 0, 0, 0, 0, 0, 0, 0, 0, 0, 0], [0, 0, 0, 0, 0, 1, 0, 0, 0, 0, 0, 0, 0, 0, 0, 0, 0, 0, 0, 0], [0, 0, 0, 0, 1, 0, 0, 0, 0, 0, 0, 0, 0, 0, 0, 0, 0, 0, 0, 0], [0, 0, 0, 1, 0, 0, 0, 0, 0, 0, 0, 0, 0, 0, 0, 0, 0, 0, 0, 0], [0, 0, 1, 0, 0, 0, 0, 0, 0, 0, 0, 0, 0, 0, 0, 0, 0, 0, 0, 0], [0, 1, 0, 0, 0, 0, 0, 0, 0, 0, 0, 0, 0, 0, 0, 0, 0, 0, 0, 0]]\n",
      "[2, 3, 4, 5, 6, 7, 8, 9, 10, 11, 12, 13, 14, 15, 16, 17, 18]\n",
      "10\n",
      "Json file edited\n"
     ]
    },
    {
     "name": "stderr",
     "output_type": "stream",
     "text": [
      "246it [00:00, 2452.03it/s]"
     ]
    },
    {
     "name": "stdout",
     "output_type": "stream",
     "text": [
      "Parsed ../kickoff-data-corrected/2b8bcfd6-5f57-46de-aacd-e932ac8e1697.2.kickoff.rdb in 1.62 s.\n",
      "Contains keys: dict_keys(['left', 'right'])\n",
      "[left] start_ts: 1523204960829 | stop_ts: 1523205559349\n",
      "[right] start_ts: 1523204962061 | stop_ts: 1523205559981\n",
      "../kickoff-data-corrected/2b8bcfd6-5f57-46de-aacd-e932ac8e1697.json\n",
      "[{'kickoff_team_id': 13, 'type': 'start_phase', 'phase': 1, 'ts': '1970-01-01T00:00:00'}, {'type': 'end_phase', 'phase': 1, 'ts': '2018-04-08T16:17:54.242Z'}, {'kickoff_team_id': 16, 'type': 'start_phase', 'phase': 2, 'ts': '2018-04-08T16:34:22.301000'}, {'type': 'end_phase', 'phase': 2, 'ts': '2018-04-08T17:23:20.816Z'}]\n",
      "1523205262301\n"
     ]
    },
    {
     "name": "stderr",
     "output_type": "stream",
     "text": [
      "14949it [00:07, 1903.31it/s]\n"
     ]
    },
    {
     "name": "stdout",
     "output_type": "stream",
     "text": [
      "575 575\n",
      "282\n",
      "16\n",
      "16 16\n",
      "[[0, 0, 0, 0, 0, 0, 0, 0, 0, 0, 0, 0, 0, 0, 0, 0, 0, 1, 0, 0], [0, 0, 0, 0, 0, 0, 0, 0, 0, 0, 0, 0, 0, 0, 0, 0, 1, 0, 0, 0], [0, 0, 0, 0, 0, 0, 0, 0, 0, 0, 0, 0, 0, 0, 0, 1, 0, 0, 0, 0], [0, 0, 0, 0, 0, 0, 0, 0, 0, 0, 0, 0, 0, 0, 1, 0, 0, 0, 0, 0], [0, 0, 0, 0, 0, 0, 0, 0, 0, 0, 0, 0, 0, 1, 0, 0, 0, 0, 0, 0], [0, 0, 0, 0, 0, 0, 0, 0, 0, 0, 0, 0, 1, 0, 0, 0, 0, 0, 0, 0], [0, 0, 0, 0, 0, 0, 0, 0, 0, 0, 0, 1, 0, 0, 0, 0, 0, 0, 0, 0], [0, 0, 0, 0, 0, 0, 0, 0, 0, 0, 1, 0, 0, 0, 0, 0, 0, 0, 0, 0], [0, 0, 0, 0, 0, 0, 0, 0, 0, 1, 0, 0, 0, 0, 0, 0, 0, 0, 0, 0], [0, 0, 0, 0, 0, 0, 0, 0, 1, 0, 0, 0, 0, 0, 0, 0, 0, 0, 0, 0], [0, 0, 0, 0, 0, 0, 0, 1, 0, 0, 0, 0, 0, 0, 0, 0, 0, 0, 0, 0], [0, 0, 0, 0, 0, 0, 1, 0, 0, 0, 0, 0, 0, 0, 0, 0, 0, 0, 0, 0], [0, 0, 0, 0, 0, 1, 0, 0, 0, 0, 0, 0, 0, 0, 0, 0, 0, 0, 0, 0], [0, 0, 0, 0, 1, 0, 0, 0, 0, 0, 0, 0, 0, 0, 0, 0, 0, 0, 0, 0], [0, 0, 0, 1, 0, 0, 0, 0, 0, 0, 0, 0, 0, 0, 0, 0, 0, 0, 0, 0], [0, 0, 1, 0, 0, 0, 0, 0, 0, 0, 0, 0, 0, 0, 0, 0, 0, 0, 0, 0]]\n",
      "[2, 3, 4, 5, 6, 7, 8, 9, 10, 11, 12, 13, 14, 15, 16, 17]\n",
      "11\n",
      "Json file edited\n"
     ]
    },
    {
     "name": "stderr",
     "output_type": "stream",
     "text": [
      "156it [00:00, 806.12it/s]"
     ]
    },
    {
     "name": "stdout",
     "output_type": "stream",
     "text": [
      "Parsed ../kickoff-data-corrected/b4dbea7c-c72f-4dd6-b57c-8fb7b8b38eb5.1.kickoff.rdb in 2.62 s.\n",
      "Contains keys: dict_keys(['left', 'right'])\n",
      "[left] start_ts: 1524070510939 | stop_ts: 1524071110739\n",
      "[right] start_ts: 1524070510889 | stop_ts: 1524071110729\n",
      "../kickoff-data-corrected/b4dbea7c-c72f-4dd6-b57c-8fb7b8b38eb5.json\n",
      "[{'kickoff_team_id': 13, 'type': 'start_phase', 'phase': 1, 'ts': '2018-04-18T17:00:11.969000'}, {'type': 'end_phase', 'phase': 1, 'ts': '2018-04-18T17:47:10.874Z'}, {'kickoff_team_id': 9, 'type': 'start_phase', 'phase': 2, 'ts': '2018-04-18T18:02:18.645Z'}, {'type': 'end_phase', 'phase': 2, 'ts': '2018-04-18T18:49:19.022Z'}]\n",
      "1524070811969\n"
     ]
    },
    {
     "name": "stderr",
     "output_type": "stream",
     "text": [
      "14996it [00:09, 1592.60it/s]\n"
     ]
    },
    {
     "name": "stdout",
     "output_type": "stream",
     "text": [
      "578 578\n",
      "282\n",
      "17\n",
      "17 17\n",
      "[[0, 0, 0, 0, 0, 0, 0, 0, 0, 0, 0, 0, 0, 0, 0, 0, 0, 1, 0, 0], [0, 0, 0, 0, 0, 0, 0, 0, 0, 0, 0, 0, 0, 0, 0, 0, 1, 0, 0, 0], [0, 0, 0, 0, 0, 0, 0, 0, 0, 0, 0, 0, 0, 0, 0, 1, 0, 0, 0, 0], [0, 0, 0, 0, 0, 0, 0, 0, 0, 0, 0, 0, 0, 0, 1, 0, 0, 0, 0, 0], [0, 0, 0, 0, 0, 0, 0, 0, 0, 0, 0, 0, 0, 1, 0, 0, 0, 0, 0, 0], [0, 0, 0, 0, 0, 0, 0, 0, 0, 0, 0, 0, 1, 0, 0, 0, 0, 0, 0, 0], [0, 0, 0, 0, 0, 0, 0, 0, 0, 0, 0, 1, 0, 0, 0, 0, 0, 0, 0, 0], [0, 0, 0, 0, 0, 0, 0, 0, 0, 0, 1, 0, 0, 0, 0, 0, 0, 0, 0, 0], [0, 0, 0, 0, 0, 0, 0, 0, 0, 1, 0, 0, 0, 0, 0, 0, 0, 0, 0, 0], [0, 0, 0, 0, 0, 0, 0, 0, 1, 0, 0, 0, 0, 0, 0, 0, 0, 0, 0, 0], [0, 0, 0, 0, 0, 0, 0, 1, 0, 0, 0, 0, 0, 0, 0, 0, 0, 0, 0, 0], [0, 0, 0, 0, 0, 0, 1, 0, 0, 0, 0, 0, 0, 0, 0, 0, 0, 0, 0, 0], [0, 0, 0, 0, 0, 1, 0, 0, 0, 0, 0, 0, 0, 0, 0, 0, 0, 0, 0, 0], [0, 0, 0, 0, 1, 0, 0, 0, 0, 0, 0, 0, 0, 0, 0, 0, 0, 0, 0, 0], [0, 0, 0, 1, 0, 0, 0, 0, 0, 0, 0, 0, 0, 0, 0, 0, 0, 0, 0, 0], [0, 0, 1, 0, 0, 0, 0, 0, 0, 0, 0, 0, 0, 0, 0, 0, 0, 0, 0, 0], [0, 1, 0, 0, 0, 0, 0, 0, 0, 0, 0, 0, 0, 0, 0, 0, 0, 0, 0, 0]]\n",
      "[2, 3, 4, 5, 6, 7, 8, 9, 10, 11, 12, 13, 14, 15, 16, 17, 18]\n",
      "12\n",
      "Json file edited\n"
     ]
    },
    {
     "name": "stderr",
     "output_type": "stream",
     "text": [
      "254it [00:00, 1298.77it/s]"
     ]
    },
    {
     "name": "stdout",
     "output_type": "stream",
     "text": [
      "Parsed ../kickoff-data-corrected/314f4989-398c-45a3-a74f-9f1adac71bf1.1.kickoff.rdb in 2.12 s.\n",
      "Contains keys: dict_keys(['right', 'left'])\n",
      "[right] start_ts: 1522587361602 | stop_ts: 1522587961442\n",
      "[left] start_ts: 1522587361524 | stop_ts: 1522587961404\n",
      "../kickoff-data-corrected/314f4989-398c-45a3-a74f-9f1adac71bf1.json\n",
      "[{'kickoff_team_id': 9, 'type': 'start_phase', 'phase': 1, 'ts': '2018-04-01T13:00:57.284000'}, {'type': 'end_phase', 'phase': 1, 'ts': '2018-04-01T13:47:08.486Z'}, {'kickoff_team_id': 5, 'type': 'start_phase', 'phase': 2, 'ts': '1970-01-01T00:00:00'}, {'type': 'end_phase', 'phase': 2, 'ts': '2018-04-01T14:50:51.103Z'}]\n",
      "1522587657284\n"
     ]
    },
    {
     "name": "stderr",
     "output_type": "stream",
     "text": [
      "14908it [00:07, 2009.93it/s]\n"
     ]
    },
    {
     "name": "stdout",
     "output_type": "stream",
     "text": [
      "571 571\n",
      "277\n",
      "16\n",
      "16 16\n",
      "[[0, 0, 0, 0, 0, 0, 0, 0, 0, 0, 0, 0, 0, 0, 0, 0, 0, 1, 0, 0], [0, 0, 0, 0, 0, 0, 0, 0, 0, 0, 0, 0, 0, 0, 0, 0, 1, 0, 0, 0], [0, 0, 0, 0, 0, 0, 0, 0, 0, 0, 0, 0, 0, 0, 0, 1, 0, 0, 0, 0], [0, 0, 0, 0, 0, 0, 0, 0, 0, 0, 0, 0, 0, 0, 1, 0, 0, 0, 0, 0], [0, 0, 0, 0, 0, 0, 0, 0, 0, 0, 0, 0, 0, 1, 0, 0, 0, 0, 0, 0], [0, 0, 0, 0, 0, 0, 0, 0, 0, 0, 0, 0, 1, 0, 0, 0, 0, 0, 0, 0], [0, 0, 0, 0, 0, 0, 0, 0, 0, 0, 0, 1, 0, 0, 0, 0, 0, 0, 0, 0], [0, 0, 0, 0, 0, 0, 0, 0, 0, 0, 1, 0, 0, 0, 0, 0, 0, 0, 0, 0], [0, 0, 0, 0, 0, 0, 0, 0, 0, 1, 0, 0, 0, 0, 0, 0, 0, 0, 0, 0], [0, 0, 0, 0, 0, 0, 0, 0, 1, 0, 0, 0, 0, 0, 0, 0, 0, 0, 0, 0], [0, 0, 0, 0, 0, 0, 0, 1, 0, 0, 0, 0, 0, 0, 0, 0, 0, 0, 0, 0], [0, 0, 0, 0, 0, 0, 1, 0, 0, 0, 0, 0, 0, 0, 0, 0, 0, 0, 0, 0], [0, 0, 0, 0, 0, 1, 0, 0, 0, 0, 0, 0, 0, 0, 0, 0, 0, 0, 0, 0], [0, 0, 0, 0, 1, 0, 0, 0, 0, 0, 0, 0, 0, 0, 0, 0, 0, 0, 0, 0], [0, 0, 0, 1, 0, 0, 0, 0, 0, 0, 0, 0, 0, 0, 0, 0, 0, 0, 0, 0], [0, 0, 1, 0, 0, 0, 0, 0, 0, 0, 0, 0, 0, 0, 0, 0, 0, 0, 0, 0]]\n",
      "[2, 3, 4, 5, 6, 7, 8, 9, 10, 11, 12, 13, 14, 15, 16, 17]\n",
      "13\n",
      "Json file edited\n"
     ]
    },
    {
     "name": "stderr",
     "output_type": "stream",
     "text": [
      "465it [00:00, 4648.70it/s]"
     ]
    },
    {
     "name": "stdout",
     "output_type": "stream",
     "text": [
      "Parsed ../kickoff-data-corrected/03d0ac1b-8adb-457d-9519-b6c879a92df3.2.kickoff.rdb in 1.43 s.\n",
      "Contains keys: dict_keys(['right', 'left'])\n",
      "[right] start_ts: 1526825255814 | stop_ts: 1526825853694\n",
      "[left] start_ts: 1526825255686 | stop_ts: 1526825853606\n",
      "../kickoff-data-corrected/03d0ac1b-8adb-457d-9519-b6c879a92df3.json\n",
      "[{'kickoff_team_id': 10, 'type': 'start_phase', 'phase': 1, 'ts': '2018-05-20T13:10:06.054Z'}, {'type': 'end_phase', 'phase': 1, 'ts': '2018-05-20T13:55:08.940Z'}, {'kickoff_team_id': 2, 'type': 'start_phase', 'phase': 2, 'ts': '2018-05-20T14:12:36.446000'}, {'type': 'end_phase', 'phase': 2, 'ts': '2018-05-20T15:02:18.183Z'}]\n",
      "1526825556446\n"
     ]
    },
    {
     "name": "stderr",
     "output_type": "stream",
     "text": [
      "14948it [00:06, 2253.21it/s]\n"
     ]
    },
    {
     "name": "stdout",
     "output_type": "stream",
     "text": [
      "575 575\n",
      "282\n",
      "16\n",
      "16 16\n",
      "[[0, 0, 0, 0, 0, 0, 0, 0, 0, 0, 0, 0, 0, 0, 0, 0, 0, 1, 0, 0], [0, 0, 0, 0, 0, 0, 0, 0, 0, 0, 0, 0, 0, 0, 0, 0, 1, 0, 0, 0], [0, 0, 0, 0, 0, 0, 0, 0, 0, 0, 0, 0, 0, 0, 0, 1, 0, 0, 0, 0], [0, 0, 0, 0, 0, 0, 0, 0, 0, 0, 0, 0, 0, 0, 1, 0, 0, 0, 0, 0], [0, 0, 0, 0, 0, 0, 0, 0, 0, 0, 0, 0, 0, 1, 0, 0, 0, 0, 0, 0], [0, 0, 0, 0, 0, 0, 0, 0, 0, 0, 0, 0, 1, 0, 0, 0, 0, 0, 0, 0], [0, 0, 0, 0, 0, 0, 0, 0, 0, 0, 0, 1, 0, 0, 0, 0, 0, 0, 0, 0], [0, 0, 0, 0, 0, 0, 0, 0, 0, 0, 1, 0, 0, 0, 0, 0, 0, 0, 0, 0], [0, 0, 0, 0, 0, 0, 0, 0, 0, 1, 0, 0, 0, 0, 0, 0, 0, 0, 0, 0], [0, 0, 0, 0, 0, 0, 0, 0, 1, 0, 0, 0, 0, 0, 0, 0, 0, 0, 0, 0], [0, 0, 0, 0, 0, 0, 0, 1, 0, 0, 0, 0, 0, 0, 0, 0, 0, 0, 0, 0], [0, 0, 0, 0, 0, 0, 1, 0, 0, 0, 0, 0, 0, 0, 0, 0, 0, 0, 0, 0], [0, 0, 0, 0, 0, 1, 0, 0, 0, 0, 0, 0, 0, 0, 0, 0, 0, 0, 0, 0], [0, 0, 0, 0, 1, 0, 0, 0, 0, 0, 0, 0, 0, 0, 0, 0, 0, 0, 0, 0], [0, 0, 0, 1, 0, 0, 0, 0, 0, 0, 0, 0, 0, 0, 0, 0, 0, 0, 0, 0], [0, 0, 1, 0, 0, 0, 0, 0, 0, 0, 0, 0, 0, 0, 0, 0, 0, 0, 0, 0]]\n",
      "[2, 3, 4, 5, 6, 7, 8, 9, 10, 11, 12, 13, 14, 15, 16, 17]\n",
      "14\n",
      "Json file edited\n"
     ]
    },
    {
     "name": "stderr",
     "output_type": "stream",
     "text": [
      "422it [00:00, 4205.36it/s]"
     ]
    },
    {
     "name": "stdout",
     "output_type": "stream",
     "text": [
      "Parsed ../kickoff-data-corrected/cbcca433-ff77-4927-a5a3-36ff293c12fd.2.kickoff.rdb in 1.22 s.\n",
      "Contains keys: dict_keys(['right', 'left'])\n",
      "[right] start_ts: 1523296748330 | stop_ts: 1523297346370\n",
      "[left] start_ts: 1523296760048 | stop_ts: 1523297356248\n",
      "../kickoff-data-corrected/cbcca433-ff77-4927-a5a3-36ff293c12fd.json\n",
      "[{'kickoff_team_id': 15, 'type': 'start_phase', 'phase': 1, 'ts': '2018-04-09T17:00:44.667Z'}, {'type': 'end_phase', 'phase': 1, 'ts': '2018-04-09T17:47:46.113Z'}, {'kickoff_team_id': 5, 'type': 'start_phase', 'phase': 2, 'ts': '2018-04-09T18:04:20.408000'}, {'type': 'end_phase', 'phase': 2, 'ts': '2018-04-09T18:53:12.188Z'}]\n",
      "1523297060408\n"
     ]
    },
    {
     "name": "stderr",
     "output_type": "stream",
     "text": [
      "14906it [00:05, 2808.93it/s]\n"
     ]
    },
    {
     "name": "stdout",
     "output_type": "stream",
     "text": [
      "563 563\n",
      "282\n",
      "16\n",
      "16 16\n",
      "[[0, 0, 0, 0, 0, 0, 0, 0, 0, 0, 0, 0, 0, 0, 0, 0, 0, 1, 0, 0], [0, 0, 0, 0, 0, 0, 0, 0, 0, 0, 0, 0, 0, 0, 0, 0, 1, 0, 0, 0], [0, 0, 0, 0, 0, 0, 0, 0, 0, 0, 0, 0, 0, 0, 0, 1, 0, 0, 0, 0], [0, 0, 0, 0, 0, 0, 0, 0, 0, 0, 0, 0, 0, 0, 1, 0, 0, 0, 0, 0], [0, 0, 0, 0, 0, 0, 0, 0, 0, 0, 0, 0, 0, 1, 0, 0, 0, 0, 0, 0], [0, 0, 0, 0, 0, 0, 0, 0, 0, 0, 0, 0, 1, 0, 0, 0, 0, 0, 0, 0], [0, 0, 0, 0, 0, 0, 0, 0, 0, 0, 0, 1, 0, 0, 0, 0, 0, 0, 0, 0], [0, 0, 0, 0, 0, 0, 0, 0, 0, 0, 1, 0, 0, 0, 0, 0, 0, 0, 0, 0], [0, 0, 0, 0, 0, 0, 0, 0, 0, 1, 0, 0, 0, 0, 0, 0, 0, 0, 0, 0], [0, 0, 0, 0, 0, 0, 0, 0, 1, 0, 0, 0, 0, 0, 0, 0, 0, 0, 0, 0], [0, 0, 0, 0, 0, 0, 0, 1, 0, 0, 0, 0, 0, 0, 0, 0, 0, 0, 0, 0], [0, 0, 0, 0, 0, 0, 1, 0, 0, 0, 0, 0, 0, 0, 0, 0, 0, 0, 0, 0], [0, 0, 0, 0, 0, 1, 0, 0, 0, 0, 0, 0, 0, 0, 0, 0, 0, 0, 0, 0], [0, 0, 0, 0, 1, 0, 0, 0, 0, 0, 0, 0, 0, 0, 0, 0, 0, 0, 0, 0], [0, 0, 0, 1, 0, 0, 0, 0, 0, 0, 0, 0, 0, 0, 0, 0, 0, 0, 0, 0], [0, 0, 1, 0, 0, 0, 0, 0, 0, 0, 0, 0, 0, 0, 0, 0, 0, 0, 0, 0]]\n",
      "[2, 3, 4, 5, 6, 7, 8, 9, 10, 11, 12, 13, 14, 15, 16, 17]\n",
      "15\n",
      "Json file edited\n"
     ]
    },
    {
     "name": "stderr",
     "output_type": "stream",
     "text": [
      "278it [00:00, 1414.64it/s]"
     ]
    },
    {
     "name": "stdout",
     "output_type": "stream",
     "text": [
      "Parsed ../kickoff-data-corrected/a185c6c8-7383-4d19-927f-dc8f70726c34.1.kickoff.rdb in 3.42 s.\n",
      "Contains keys: dict_keys(['right', 'left'])\n",
      "[right] start_ts: 1523897795697 | stop_ts: 1523898395297\n",
      "[left] start_ts: 1523897795243 | stop_ts: 1523898395043\n",
      "../kickoff-data-corrected/a185c6c8-7383-4d19-927f-dc8f70726c34.json\n",
      "[{'kickoff_team_id': 15, 'type': 'start_phase', 'phase': 1, 'ts': '2018-04-16T17:01:37.097000'}, {'type': 'end_phase', 'phase': 1, 'ts': '2018-04-16T17:46:39.313Z'}, {'kickoff_team_id': 2, 'type': 'start_phase', 'phase': 2, 'ts': '2018-04-16T18:02:50.296Z'}, {'type': 'end_phase', 'phase': 2, 'ts': '2018-04-16T18:49:49.424Z'}]\n",
      "1523898097097\n"
     ]
    },
    {
     "name": "stderr",
     "output_type": "stream",
     "text": [
      "14991it [00:10, 1436.75it/s]\n"
     ]
    },
    {
     "name": "stdout",
     "output_type": "stream",
     "text": [
      "577 577\n",
      "283\n",
      "16\n",
      "16 16\n",
      "[[0, 0, 0, 0, 0, 0, 0, 0, 0, 0, 0, 0, 0, 0, 0, 0, 0, 1, 0, 0], [0, 0, 0, 0, 0, 0, 0, 0, 0, 0, 0, 0, 0, 0, 0, 0, 1, 0, 0, 0], [0, 0, 0, 0, 0, 0, 0, 0, 0, 0, 0, 0, 0, 0, 0, 1, 0, 0, 0, 0], [0, 0, 0, 0, 0, 0, 0, 0, 0, 0, 0, 0, 0, 0, 1, 0, 0, 0, 0, 0], [0, 0, 0, 0, 0, 0, 0, 0, 0, 0, 0, 0, 0, 1, 0, 0, 0, 0, 0, 0], [0, 0, 0, 0, 0, 0, 0, 0, 0, 0, 0, 0, 1, 0, 0, 0, 0, 0, 0, 0], [0, 0, 0, 0, 0, 0, 0, 0, 0, 0, 0, 1, 0, 0, 0, 0, 0, 0, 0, 0], [0, 0, 0, 0, 0, 0, 0, 0, 0, 0, 1, 0, 0, 0, 0, 0, 0, 0, 0, 0], [0, 0, 0, 0, 0, 0, 0, 0, 0, 1, 0, 0, 0, 0, 0, 0, 0, 0, 0, 0], [0, 0, 0, 0, 0, 0, 0, 0, 1, 0, 0, 0, 0, 0, 0, 0, 0, 0, 0, 0], [0, 0, 0, 0, 0, 0, 0, 1, 0, 0, 0, 0, 0, 0, 0, 0, 0, 0, 0, 0], [0, 0, 0, 0, 0, 0, 1, 0, 0, 0, 0, 0, 0, 0, 0, 0, 0, 0, 0, 0], [0, 0, 0, 0, 0, 1, 0, 0, 0, 0, 0, 0, 0, 0, 0, 0, 0, 0, 0, 0], [0, 0, 0, 0, 1, 0, 0, 0, 0, 0, 0, 0, 0, 0, 0, 0, 0, 0, 0, 0], [0, 0, 0, 1, 0, 0, 0, 0, 0, 0, 0, 0, 0, 0, 0, 0, 0, 0, 0, 0], [0, 0, 1, 0, 0, 0, 0, 0, 0, 0, 0, 0, 0, 0, 0, 0, 0, 0, 0, 0]]\n",
      "[2, 3, 4, 5, 6, 7, 8, 9, 10, 11, 12, 13, 14, 15, 16, 17]\n",
      "16\n",
      "Json file edited\n"
     ]
    },
    {
     "name": "stderr",
     "output_type": "stream",
     "text": [
      "436it [00:00, 2116.90it/s]"
     ]
    },
    {
     "name": "stdout",
     "output_type": "stream",
     "text": [
      "Parsed ../kickoff-data-corrected/a5857e03-10b8-454a-89fb-c201985b04cb.2.kickoff.rdb in 1.61 s.\n",
      "Contains keys: dict_keys(['right', 'left'])\n",
      "[right] start_ts: 1523383083286 | stop_ts: 1523383682846\n",
      "[left] start_ts: 1523383083898 | stop_ts: 1523383683138\n",
      "../kickoff-data-corrected/a5857e03-10b8-454a-89fb-c201985b04cb.json\n",
      "[{'kickoff_team_id': 6, 'type': 'start_phase', 'phase': 1, 'ts': '1970-01-01T00:00:00'}, {'type': 'end_phase', 'phase': 1, 'ts': '2018-04-10T17:47:16.674Z'}, {'kickoff_team_id': 2, 'type': 'start_phase', 'phase': 2, 'ts': '2018-04-10T18:03:05.406000'}, {'type': 'end_phase', 'phase': 2, 'ts': '2018-04-10T18:51:05.058Z'}]\n",
      "1523383385406\n"
     ]
    },
    {
     "name": "stderr",
     "output_type": "stream",
     "text": [
      "14982it [00:07, 2134.61it/s]\n"
     ]
    },
    {
     "name": "stdout",
     "output_type": "stream",
     "text": [
      "577 577\n",
      "283\n",
      "16\n",
      "16 16\n",
      "[[0, 0, 0, 0, 0, 0, 0, 0, 0, 0, 0, 0, 0, 0, 0, 0, 0, 1, 0, 0], [0, 0, 0, 0, 0, 0, 0, 0, 0, 0, 0, 0, 0, 0, 0, 0, 1, 0, 0, 0], [0, 0, 0, 0, 0, 0, 0, 0, 0, 0, 0, 0, 0, 0, 0, 1, 0, 0, 0, 0], [0, 0, 0, 0, 0, 0, 0, 0, 0, 0, 0, 0, 0, 0, 1, 0, 0, 0, 0, 0], [0, 0, 0, 0, 0, 0, 0, 0, 0, 0, 0, 0, 0, 1, 0, 0, 0, 0, 0, 0], [0, 0, 0, 0, 0, 0, 0, 0, 0, 0, 0, 0, 1, 0, 0, 0, 0, 0, 0, 0], [0, 0, 0, 0, 0, 0, 0, 0, 0, 0, 0, 1, 0, 0, 0, 0, 0, 0, 0, 0], [0, 0, 0, 0, 0, 0, 0, 0, 0, 0, 1, 0, 0, 0, 0, 0, 0, 0, 0, 0], [0, 0, 0, 0, 0, 0, 0, 0, 0, 1, 0, 0, 0, 0, 0, 0, 0, 0, 0, 0], [0, 0, 0, 0, 0, 0, 0, 0, 1, 0, 0, 0, 0, 0, 0, 0, 0, 0, 0, 0], [0, 0, 0, 0, 0, 0, 0, 1, 0, 0, 0, 0, 0, 0, 0, 0, 0, 0, 0, 0], [0, 0, 0, 0, 0, 0, 1, 0, 0, 0, 0, 0, 0, 0, 0, 0, 0, 0, 0, 0], [0, 0, 0, 0, 0, 1, 0, 0, 0, 0, 0, 0, 0, 0, 0, 0, 0, 0, 0, 0], [0, 0, 0, 0, 1, 0, 0, 0, 0, 0, 0, 0, 0, 0, 0, 0, 0, 0, 0, 0], [0, 0, 0, 1, 0, 0, 0, 0, 0, 0, 0, 0, 0, 0, 0, 0, 0, 0, 0, 0], [0, 0, 1, 0, 0, 0, 0, 0, 0, 0, 0, 0, 0, 0, 0, 0, 0, 0, 0, 0]]\n",
      "[2, 3, 4, 5, 6, 7, 8, 9, 10, 11, 12, 13, 14, 15, 16, 17]\n",
      "17\n",
      "Json file edited\n"
     ]
    },
    {
     "name": "stderr",
     "output_type": "stream",
     "text": [
      "275it [00:00, 1345.29it/s]"
     ]
    },
    {
     "name": "stdout",
     "output_type": "stream",
     "text": [
      "Parsed ../kickoff-data-corrected/3382a9d0-02ff-4f23-9748-1b715d85b731.1.kickoff.rdb in 4.15 s.\n",
      "Contains keys: dict_keys(['right', 'left'])\n",
      "[right] start_ts: 1523805900650 | stop_ts: 1523806499170\n",
      "[left] start_ts: 1523805900082 | stop_ts: 1523806498882\n",
      "../kickoff-data-corrected/3382a9d0-02ff-4f23-9748-1b715d85b731.json\n",
      "[{'kickoff_team_id': 6, 'type': 'start_phase', 'phase': 1, 'ts': '1970-01-01T00:00:00'}, {'type': 'end_phase', 'phase': 1, 'ts': '2018-04-15T16:16:00.459Z'}, {'kickoff_team_id': 13, 'type': 'start_phase', 'phase': 2, 'ts': '2018-04-15T16:31:33.353Z'}, {'type': 'end_phase', 'phase': 2, 'ts': '2018-04-15T17:19:35.565Z'}]\n",
      "0\n"
     ]
    },
    {
     "name": "stderr",
     "output_type": "stream",
     "text": [
      "14963it [00:09, 1532.19it/s]\n"
     ]
    },
    {
     "name": "stdout",
     "output_type": "stream",
     "text": [
      "0 0\n",
      "[]\n",
      "[]\n",
      "Json file edited\n"
     ]
    },
    {
     "name": "stderr",
     "output_type": "stream",
     "text": [
      "374it [00:00, 1917.99it/s]"
     ]
    },
    {
     "name": "stdout",
     "output_type": "stream",
     "text": [
      "Parsed ../kickoff-data-corrected/19bebd81-3b61-492b-85ed-74ff887cbc45.1.kickoff.rdb in 1.94 s.\n",
      "Contains keys: dict_keys(['right', 'left'])\n",
      "[right] start_ts: 1522587371411 | stop_ts: 1522587968931\n",
      "[left] start_ts: 1522587371575 | stop_ts: 1522587969015\n",
      "../kickoff-data-corrected/19bebd81-3b61-492b-85ed-74ff887cbc45.json\n",
      "[{'kickoff_team_id': 1, 'type': 'start_phase', 'phase': 1, 'ts': '1970-01-01T00:00:00'}, {'type': 'end_phase', 'phase': 1, 'ts': '2018-04-01T13:47:53.692Z'}, {'kickoff_team_id': 2, 'type': 'start_phase', 'phase': 2, 'ts': '2018-04-01T14:05:32.177Z'}, {'type': 'end_phase', 'phase': 2, 'ts': '2018-04-01T14:53:51.954Z'}]\n",
      "0\n"
     ]
    },
    {
     "name": "stderr",
     "output_type": "stream",
     "text": [
      "14937it [00:08, 1733.57it/s]\n"
     ]
    },
    {
     "name": "stdout",
     "output_type": "stream",
     "text": [
      "0 0\n",
      "[]\n",
      "[]\n",
      "Json file edited\n"
     ]
    },
    {
     "name": "stderr",
     "output_type": "stream",
     "text": [
      "130it [00:00, 1296.18it/s]"
     ]
    },
    {
     "name": "stdout",
     "output_type": "stream",
     "text": [
      "Parsed ../kickoff-data-corrected/2dc12819-d486-4925-a0e2-b8ae9ff1aed5.1.kickoff.rdb in 2.64 s.\n",
      "Contains keys: dict_keys(['right', 'left'])\n",
      "[right] start_ts: 1523192332775 | stop_ts: 1523192929695\n",
      "[left] start_ts: 1523192332019 | stop_ts: 1523192929339\n",
      "../kickoff-data-corrected/2dc12819-d486-4925-a0e2-b8ae9ff1aed5.json\n",
      "[{'kickoff_team_id': 11, 'type': 'start_phase', 'phase': 1, 'ts': '2018-04-08T13:03:52.775000'}, {'type': 'end_phase', 'phase': 1, 'ts': '2018-04-08T13:48:52.077Z'}, {'kickoff_team_id': 14, 'type': 'start_phase', 'phase': 2, 'ts': '2018-04-08T14:05:14.493Z'}, {'type': 'end_phase', 'phase': 2, 'ts': '2018-04-08T14:53:40.200Z'}]\n",
      "1523192632775\n"
     ]
    },
    {
     "name": "stderr",
     "output_type": "stream",
     "text": [
      "14925it [00:08, 1742.21it/s]\n"
     ]
    },
    {
     "name": "stdout",
     "output_type": "stream",
     "text": [
      "574 574\n",
      "281\n",
      "17\n",
      "17 17\n",
      "[[0, 0, 0, 0, 0, 0, 0, 0, 0, 0, 0, 0, 0, 0, 0, 0, 0, 1, 0, 0], [0, 0, 0, 0, 0, 0, 0, 0, 0, 0, 0, 0, 0, 0, 0, 0, 1, 0, 0, 0], [0, 0, 0, 0, 0, 0, 0, 0, 0, 0, 0, 0, 0, 0, 0, 1, 0, 0, 0, 0], [0, 0, 0, 0, 0, 0, 0, 0, 0, 0, 0, 0, 0, 0, 1, 0, 0, 0, 0, 0], [0, 0, 0, 0, 0, 0, 0, 0, 0, 0, 0, 0, 0, 1, 0, 0, 0, 0, 0, 0], [0, 0, 0, 0, 0, 0, 0, 0, 0, 0, 0, 0, 1, 0, 0, 0, 0, 0, 0, 0], [0, 0, 0, 0, 0, 0, 0, 0, 0, 0, 0, 1, 0, 0, 0, 0, 0, 0, 0, 0], [0, 0, 0, 0, 0, 0, 0, 0, 0, 0, 1, 0, 0, 0, 0, 0, 0, 0, 0, 0], [0, 0, 0, 0, 0, 0, 0, 0, 0, 1, 0, 0, 0, 0, 0, 0, 0, 0, 0, 0], [0, 0, 0, 0, 0, 0, 0, 0, 1, 0, 0, 0, 0, 0, 0, 0, 0, 0, 0, 0], [0, 0, 0, 0, 0, 0, 0, 1, 0, 0, 0, 0, 0, 0, 0, 0, 0, 0, 0, 0], [0, 0, 0, 0, 0, 0, 1, 0, 0, 0, 0, 0, 0, 0, 0, 0, 0, 0, 0, 0], [0, 0, 0, 0, 0, 1, 0, 0, 0, 0, 0, 0, 0, 0, 0, 0, 0, 0, 0, 0], [0, 0, 0, 0, 1, 0, 0, 0, 0, 0, 0, 0, 0, 0, 0, 0, 0, 0, 0, 0], [0, 0, 0, 1, 0, 0, 0, 0, 0, 0, 0, 0, 0, 0, 0, 0, 0, 0, 0, 0], [0, 0, 1, 0, 0, 0, 0, 0, 0, 0, 0, 0, 0, 0, 0, 0, 0, 0, 0, 0], [0, 1, 0, 0, 0, 0, 0, 0, 0, 0, 0, 0, 0, 0, 0, 0, 0, 0, 0, 0]]\n",
      "[2, 3, 4, 5, 6, 7, 8, 9, 10, 11, 12, 13, 14, 15, 16, 17, 18]\n",
      "18\n",
      "Json file edited\n"
     ]
    },
    {
     "name": "stderr",
     "output_type": "stream",
     "text": [
      "347it [00:00, 3464.88it/s]"
     ]
    },
    {
     "name": "stdout",
     "output_type": "stream",
     "text": [
      "Parsed ../kickoff-data-corrected/3382a9d0-02ff-4f23-9748-1b715d85b731.2.kickoff.rdb in 1.49 s.\n",
      "Contains keys: dict_keys(['right', 'left'])\n",
      "[right] start_ts: 1523809596650 | stop_ts: 1523810194170\n",
      "[left] start_ts: 1523809596082 | stop_ts: 1523810193882\n",
      "../kickoff-data-corrected/3382a9d0-02ff-4f23-9748-1b715d85b731.json\n",
      "[{'kickoff_team_id': 6, 'type': 'start_phase', 'phase': 1, 'ts': '1970-01-01T00:00:00'}, {'type': 'end_phase', 'phase': 1, 'ts': '2018-04-15T16:16:00.459Z'}, {'kickoff_team_id': 13, 'type': 'start_phase', 'phase': 2, 'ts': '1970-01-01T00:00:00'}, {'type': 'end_phase', 'phase': 2, 'ts': '2018-04-15T17:19:35.565Z'}]\n",
      "0\n"
     ]
    },
    {
     "name": "stderr",
     "output_type": "stream",
     "text": [
      "14938it [00:06, 2425.49it/s]\n"
     ]
    },
    {
     "name": "stdout",
     "output_type": "stream",
     "text": [
      "0 0\n",
      "[]\n",
      "[]\n",
      "Json file edited\n"
     ]
    },
    {
     "name": "stderr",
     "output_type": "stream",
     "text": [
      "380it [00:00, 3798.10it/s]"
     ]
    },
    {
     "name": "stdout",
     "output_type": "stream",
     "text": [
      "Parsed ../kickoff-data-corrected/84e8b33c-d912-495e-9e21-84bdd18e0e04.1.kickoff.rdb in 2.21 s.\n",
      "Contains keys: dict_keys(['right', 'left'])\n",
      "[right] start_ts: 1523638502169 | stop_ts: 1523639099769\n",
      "[left] start_ts: 1523638501659 | stop_ts: 1523639099539\n",
      "../kickoff-data-corrected/84e8b33c-d912-495e-9e21-84bdd18e0e04.json\n",
      "[{'kickoff_team_id': 12, 'type': 'start_phase', 'phase': 1, 'ts': '2018-04-13T17:00:01.059000'}, {'type': 'end_phase', 'phase': 1, 'ts': '2018-04-13T17:45:38.365Z'}, {'kickoff_team_id': 14, 'type': 'start_phase', 'phase': 2, 'ts': '2018-04-13T18:00:40.466Z'}, {'type': 'end_phase', 'phase': 2, 'ts': '2018-04-13T18:47:41.972Z'}]\n",
      "1523638801059\n"
     ]
    },
    {
     "name": "stderr",
     "output_type": "stream",
     "text": [
      "14940it [00:06, 2144.34it/s]\n"
     ]
    },
    {
     "name": "stdout",
     "output_type": "stream",
     "text": [
      "575 575\n",
      "280\n",
      "17\n",
      "17 17\n",
      "[[0, 0, 0, 0, 0, 0, 0, 0, 0, 0, 0, 0, 0, 0, 0, 0, 0, 1, 0, 0], [0, 0, 0, 0, 0, 0, 0, 0, 0, 0, 0, 0, 0, 0, 0, 0, 1, 0, 0, 0], [0, 0, 0, 0, 0, 0, 0, 0, 0, 0, 0, 0, 0, 0, 0, 1, 0, 0, 0, 0], [0, 0, 0, 0, 0, 0, 0, 0, 0, 0, 0, 0, 0, 0, 1, 0, 0, 0, 0, 0], [0, 0, 0, 0, 0, 0, 0, 0, 0, 0, 0, 0, 0, 1, 0, 0, 0, 0, 0, 0], [0, 0, 0, 0, 0, 0, 0, 0, 0, 0, 0, 0, 1, 0, 0, 0, 0, 0, 0, 0], [0, 0, 0, 0, 0, 0, 0, 0, 0, 0, 0, 1, 0, 0, 0, 0, 0, 0, 0, 0], [0, 0, 0, 0, 0, 0, 0, 0, 0, 0, 1, 0, 0, 0, 0, 0, 0, 0, 0, 0], [0, 0, 0, 0, 0, 0, 0, 0, 0, 1, 0, 0, 0, 0, 0, 0, 0, 0, 0, 0], [0, 0, 0, 0, 0, 0, 0, 0, 1, 0, 0, 0, 0, 0, 0, 0, 0, 0, 0, 0], [0, 0, 0, 0, 0, 0, 0, 1, 0, 0, 0, 0, 0, 0, 0, 0, 0, 0, 0, 0], [0, 0, 0, 0, 0, 0, 1, 0, 0, 0, 0, 0, 0, 0, 0, 0, 0, 0, 0, 0], [0, 0, 0, 0, 0, 1, 0, 0, 0, 0, 0, 0, 0, 0, 0, 0, 0, 0, 0, 0], [0, 0, 0, 0, 1, 0, 0, 0, 0, 0, 0, 0, 0, 0, 0, 0, 0, 0, 0, 0], [0, 0, 0, 1, 0, 0, 0, 0, 0, 0, 0, 0, 0, 0, 0, 0, 0, 0, 0, 0], [0, 0, 1, 0, 0, 0, 0, 0, 0, 0, 0, 0, 0, 0, 0, 0, 0, 0, 0, 0], [0, 1, 0, 0, 0, 0, 0, 0, 0, 0, 0, 0, 0, 0, 0, 0, 0, 0, 0, 0]]\n",
      "[2, 3, 4, 5, 6, 7, 8, 9, 10, 11, 12, 13, 14, 15, 16, 17, 18]\n",
      "19\n",
      "Json file edited\n"
     ]
    },
    {
     "name": "stderr",
     "output_type": "stream",
     "text": [
      "253it [00:00, 2526.27it/s]"
     ]
    },
    {
     "name": "stdout",
     "output_type": "stream",
     "text": [
      "Parsed ../kickoff-data-corrected/9e627901-09e2-4c84-bf77-6f0ec289fa5f.2.kickoff.rdb in 1.74 s.\n",
      "Contains keys: dict_keys(['right', 'left'])\n",
      "[right] start_ts: 1522686513973 | stop_ts: 1522687111853\n",
      "[left] start_ts: 1522686514029 | stop_ts: 1522687111869\n",
      "../kickoff-data-corrected/9e627901-09e2-4c84-bf77-6f0ec289fa5f.json\n",
      "[{'kickoff_team_id': 7, 'type': 'start_phase', 'phase': 1, 'ts': '2018-04-02T15:32:25.029Z'}, {'type': 'end_phase', 'phase': 1, 'ts': '2018-04-02T16:17:34.362Z'}, {'kickoff_team_id': 8, 'type': 'start_phase', 'phase': 2, 'ts': '2018-04-02T16:33:32.893000'}, {'type': 'end_phase', 'phase': 2, 'ts': '2018-04-02T17:22:39.373Z'}]\n",
      "1522686812893\n"
     ]
    },
    {
     "name": "stderr",
     "output_type": "stream",
     "text": [
      "14946it [00:06, 2439.69it/s]\n"
     ]
    },
    {
     "name": "stdout",
     "output_type": "stream",
     "text": [
      "576 576\n",
      "280\n",
      "17\n",
      "17 17\n",
      "[[0, 0, 0, 0, 0, 0, 0, 0, 0, 0, 0, 0, 0, 0, 0, 0, 0, 1, 0, 0], [0, 0, 0, 0, 0, 0, 0, 0, 0, 0, 0, 0, 0, 0, 0, 0, 1, 0, 0, 0], [0, 0, 0, 0, 0, 0, 0, 0, 0, 0, 0, 0, 0, 0, 0, 1, 0, 0, 0, 0], [0, 0, 0, 0, 0, 0, 0, 0, 0, 0, 0, 0, 0, 0, 1, 0, 0, 0, 0, 0], [0, 0, 0, 0, 0, 0, 0, 0, 0, 0, 0, 0, 0, 1, 0, 0, 0, 0, 0, 0], [0, 0, 0, 0, 0, 0, 0, 0, 0, 0, 0, 0, 1, 0, 0, 0, 0, 0, 0, 0], [0, 0, 0, 0, 0, 0, 0, 0, 0, 0, 0, 1, 0, 0, 0, 0, 0, 0, 0, 0], [0, 0, 0, 0, 0, 0, 0, 0, 0, 0, 1, 0, 0, 0, 0, 0, 0, 0, 0, 0], [0, 0, 0, 0, 0, 0, 0, 0, 0, 1, 0, 0, 0, 0, 0, 0, 0, 0, 0, 0], [0, 0, 0, 0, 0, 0, 0, 0, 1, 0, 0, 0, 0, 0, 0, 0, 0, 0, 0, 0], [0, 0, 0, 0, 0, 0, 0, 1, 0, 0, 0, 0, 0, 0, 0, 0, 0, 0, 0, 0], [0, 0, 0, 0, 0, 0, 1, 0, 0, 0, 0, 0, 0, 0, 0, 0, 0, 0, 0, 0], [0, 0, 0, 0, 0, 1, 0, 0, 0, 0, 0, 0, 0, 0, 0, 0, 0, 0, 0, 0], [0, 0, 0, 0, 1, 0, 0, 0, 0, 0, 0, 0, 0, 0, 0, 0, 0, 0, 0, 0], [0, 0, 0, 1, 0, 0, 0, 0, 0, 0, 0, 0, 0, 0, 0, 0, 0, 0, 0, 0], [0, 0, 1, 0, 0, 0, 0, 0, 0, 0, 0, 0, 0, 0, 0, 0, 0, 0, 0, 0], [0, 1, 0, 0, 0, 0, 0, 0, 0, 0, 0, 0, 0, 0, 0, 0, 0, 0, 0, 0]]\n",
      "[2, 3, 4, 5, 6, 7, 8, 9, 10, 11, 12, 13, 14, 15, 16, 17, 18]\n",
      "20\n",
      "Json file edited\n"
     ]
    },
    {
     "name": "stderr",
     "output_type": "stream",
     "text": [
      "345it [00:00, 3443.21it/s]"
     ]
    },
    {
     "name": "stdout",
     "output_type": "stream",
     "text": [
      "Parsed ../kickoff-data-corrected/0d9e9e30-9d13-4af0-8e41-fe1669e9eeff.2.kickoff.rdb in 1.63 s.\n",
      "Contains keys: dict_keys(['right', 'left'])\n",
      "[right] start_ts: 1523195853031 | stop_ts: 1523196452911\n",
      "[left] start_ts: 1523195853517 | stop_ts: 1523196453157\n",
      "../kickoff-data-corrected/0d9e9e30-9d13-4af0-8e41-fe1669e9eeff.json\n",
      "[{'kickoff_team_id': 7, 'type': 'start_phase', 'ts': '2018-04-08T13:00:30.151000', 'phase': 1}, {'type': 'end_phase', 'phase': 1, 'ts': '2018-04-08T13:47:27.898Z'}, {'kickoff_team_id': 9, 'type': 'start_phase', 'ts': '2018-04-08T14:02:35.117000', 'phase': 2}, {'type': 'end_phase', 'phase': 2, 'ts': '2018-04-08T14:51:34.402Z'}]\n",
      "1523196155117\n"
     ]
    },
    {
     "name": "stderr",
     "output_type": "stream",
     "text": [
      "14992it [00:08, 1782.45it/s]\n"
     ]
    },
    {
     "name": "stdout",
     "output_type": "stream",
     "text": [
      "577 577\n",
      "283\n",
      "16\n",
      "16 16\n",
      "[[0, 0, 0, 0, 0, 0, 0, 0, 0, 0, 0, 0, 0, 0, 0, 0, 0, 1, 0, 0], [0, 0, 0, 0, 0, 0, 0, 0, 0, 0, 0, 0, 0, 0, 0, 0, 1, 0, 0, 0], [0, 0, 0, 0, 0, 0, 0, 0, 0, 0, 0, 0, 0, 0, 0, 1, 0, 0, 0, 0], [0, 0, 0, 0, 0, 0, 0, 0, 0, 0, 0, 0, 0, 0, 1, 0, 0, 0, 0, 0], [0, 0, 0, 0, 0, 0, 0, 0, 0, 0, 0, 0, 0, 1, 0, 0, 0, 0, 0, 0], [0, 0, 0, 0, 0, 0, 0, 0, 0, 0, 0, 0, 1, 0, 0, 0, 0, 0, 0, 0], [0, 0, 0, 0, 0, 0, 0, 0, 0, 0, 0, 1, 0, 0, 0, 0, 0, 0, 0, 0], [0, 0, 0, 0, 0, 0, 0, 0, 0, 0, 1, 0, 0, 0, 0, 0, 0, 0, 0, 0], [0, 0, 0, 0, 0, 0, 0, 0, 0, 1, 0, 0, 0, 0, 0, 0, 0, 0, 0, 0], [0, 0, 0, 0, 0, 0, 0, 0, 1, 0, 0, 0, 0, 0, 0, 0, 0, 0, 0, 0], [0, 0, 0, 0, 0, 0, 0, 1, 0, 0, 0, 0, 0, 0, 0, 0, 0, 0, 0, 0], [0, 0, 0, 0, 0, 0, 1, 0, 0, 0, 0, 0, 0, 0, 0, 0, 0, 0, 0, 0], [0, 0, 0, 0, 0, 1, 0, 0, 0, 0, 0, 0, 0, 0, 0, 0, 0, 0, 0, 0], [0, 0, 0, 0, 1, 0, 0, 0, 0, 0, 0, 0, 0, 0, 0, 0, 0, 0, 0, 0], [0, 0, 0, 1, 0, 0, 0, 0, 0, 0, 0, 0, 0, 0, 0, 0, 0, 0, 0, 0], [0, 0, 1, 0, 0, 0, 0, 0, 0, 0, 0, 0, 0, 0, 0, 0, 0, 0, 0, 0]]\n",
      "[2, 3, 4, 5, 6, 7, 8, 9, 10, 11, 12, 13, 14, 15, 16, 17]\n",
      "21\n",
      "Json file edited\n"
     ]
    },
    {
     "name": "stderr",
     "output_type": "stream",
     "text": [
      "585it [00:00, 2913.67it/s]"
     ]
    },
    {
     "name": "stdout",
     "output_type": "stream",
     "text": [
      "Parsed ../kickoff-data-corrected/19bebd81-3b61-492b-85ed-74ff887cbc45.2.kickoff.rdb in 1.34 s.\n",
      "Contains keys: dict_keys(['right', 'left'])\n",
      "[right] start_ts: 1522591235411 | stop_ts: 1522591831931\n",
      "[left] start_ts: 1522591235535 | stop_ts: 1522591832015\n",
      "../kickoff-data-corrected/19bebd81-3b61-492b-85ed-74ff887cbc45.json\n",
      "[{'kickoff_team_id': 1, 'type': 'start_phase', 'phase': 1, 'ts': '1970-01-01T00:00:00'}, {'type': 'end_phase', 'phase': 1, 'ts': '2018-04-01T13:47:53.692Z'}, {'kickoff_team_id': 2, 'type': 'start_phase', 'phase': 2, 'ts': '2018-04-01T14:05:30.455000'}, {'type': 'end_phase', 'phase': 2, 'ts': '2018-04-01T14:53:51.954Z'}]\n",
      "1522591530455\n"
     ]
    },
    {
     "name": "stderr",
     "output_type": "stream",
     "text": [
      "14913it [00:06, 2364.90it/s]\n"
     ]
    },
    {
     "name": "stdout",
     "output_type": "stream",
     "text": [
      "574 574\n",
      "276\n",
      "17\n",
      "17 17\n",
      "[[0, 0, 0, 0, 0, 0, 0, 0, 0, 0, 0, 0, 0, 0, 0, 0, 0, 1, 0, 0], [0, 0, 0, 0, 0, 0, 0, 0, 0, 0, 0, 0, 0, 0, 0, 0, 1, 0, 0, 0], [0, 0, 0, 0, 0, 0, 0, 0, 0, 0, 0, 0, 0, 0, 0, 1, 0, 0, 0, 0], [0, 0, 0, 0, 0, 0, 0, 0, 0, 0, 0, 0, 0, 0, 1, 0, 0, 0, 0, 0], [0, 0, 0, 0, 0, 0, 0, 0, 0, 0, 0, 0, 0, 1, 0, 0, 0, 0, 0, 0], [0, 0, 0, 0, 0, 0, 0, 0, 0, 0, 0, 0, 1, 0, 0, 0, 0, 0, 0, 0], [0, 0, 0, 0, 0, 0, 0, 0, 0, 0, 0, 1, 0, 0, 0, 0, 0, 0, 0, 0], [0, 0, 0, 0, 0, 0, 0, 0, 0, 0, 1, 0, 0, 0, 0, 0, 0, 0, 0, 0], [0, 0, 0, 0, 0, 0, 0, 0, 0, 1, 0, 0, 0, 0, 0, 0, 0, 0, 0, 0], [0, 0, 0, 0, 0, 0, 0, 0, 1, 0, 0, 0, 0, 0, 0, 0, 0, 0, 0, 0], [0, 0, 0, 0, 0, 0, 0, 1, 0, 0, 0, 0, 0, 0, 0, 0, 0, 0, 0, 0], [0, 0, 0, 0, 0, 0, 1, 0, 0, 0, 0, 0, 0, 0, 0, 0, 0, 0, 0, 0], [0, 0, 0, 0, 0, 1, 0, 0, 0, 0, 0, 0, 0, 0, 0, 0, 0, 0, 0, 0], [0, 0, 0, 0, 1, 0, 0, 0, 0, 0, 0, 0, 0, 0, 0, 0, 0, 0, 0, 0], [0, 0, 0, 1, 0, 0, 0, 0, 0, 0, 0, 0, 0, 0, 0, 0, 0, 0, 0, 0], [0, 0, 1, 0, 0, 0, 0, 0, 0, 0, 0, 0, 0, 0, 0, 0, 0, 0, 0, 0], [0, 1, 0, 0, 0, 0, 0, 0, 0, 0, 0, 0, 0, 0, 0, 0, 0, 0, 0, 0]]\n",
      "[2, 3, 4, 5, 6, 7, 8, 9, 10, 11, 12, 13, 14, 15, 16, 17, 18]\n",
      "22\n",
      "Json file edited\n"
     ]
    },
    {
     "name": "stderr",
     "output_type": "stream",
     "text": [
      "522it [00:00, 2600.72it/s]"
     ]
    },
    {
     "name": "stdout",
     "output_type": "stream",
     "text": [
      "Parsed ../kickoff-data-corrected/cd6d495b-8fe4-4586-8861-ba579cf3a6e9.2.kickoff.rdb in 1.48 s.\n",
      "Contains keys: dict_keys(['left', 'right'])\n",
      "[left] start_ts: 1523800767685 | stop_ts: 1523801367045\n",
      "[right] start_ts: 1523800767317 | stop_ts: 1523801366837\n",
      "../kickoff-data-corrected/cd6d495b-8fe4-4586-8861-ba579cf3a6e9.json\n",
      "[{'kickoff_team_id': None, 'type': 'start_phase', 'phase': 1, 'ts': '2018-04-15T13:01:26.995Z'}, {'type': 'end_phase', 'phase': 1, 'ts': '2018-04-15T13:48:30.166Z'}, {'kickoff_team_id': None, 'type': 'start_phase', 'phase': 2, 'ts': '2018-04-15T14:04:29.565000'}, {'type': 'end_phase', 'phase': 2, 'ts': '2018-04-15T14:54:33.364Z'}]\n",
      "1523801069565\n"
     ]
    },
    {
     "name": "stderr",
     "output_type": "stream",
     "text": [
      "14984it [00:06, 2281.26it/s]\n"
     ]
    },
    {
     "name": "stdout",
     "output_type": "stream",
     "text": [
      "577 577\n",
      "283\n",
      "17\n",
      "17 17\n",
      "[[0, 0, 0, 0, 0, 0, 0, 0, 0, 0, 0, 0, 0, 0, 0, 0, 0, 1, 0, 0], [0, 0, 0, 0, 0, 0, 0, 0, 0, 0, 0, 0, 0, 0, 0, 0, 1, 0, 0, 0], [0, 0, 0, 0, 0, 0, 0, 0, 0, 0, 0, 0, 0, 0, 0, 1, 0, 0, 0, 0], [0, 0, 0, 0, 0, 0, 0, 0, 0, 0, 0, 0, 0, 0, 1, 0, 0, 0, 0, 0], [0, 0, 0, 0, 0, 0, 0, 0, 0, 0, 0, 0, 0, 1, 0, 0, 0, 0, 0, 0], [0, 0, 0, 0, 0, 0, 0, 0, 0, 0, 0, 0, 1, 0, 0, 0, 0, 0, 0, 0], [0, 0, 0, 0, 0, 0, 0, 0, 0, 0, 0, 1, 0, 0, 0, 0, 0, 0, 0, 0], [0, 0, 0, 0, 0, 0, 0, 0, 0, 0, 1, 0, 0, 0, 0, 0, 0, 0, 0, 0], [0, 0, 0, 0, 0, 0, 0, 0, 0, 1, 0, 0, 0, 0, 0, 0, 0, 0, 0, 0], [0, 0, 0, 0, 0, 0, 0, 0, 1, 0, 0, 0, 0, 0, 0, 0, 0, 0, 0, 0], [0, 0, 0, 0, 0, 0, 0, 1, 0, 0, 0, 0, 0, 0, 0, 0, 0, 0, 0, 0], [0, 0, 0, 0, 0, 0, 1, 0, 0, 0, 0, 0, 0, 0, 0, 0, 0, 0, 0, 0], [0, 0, 0, 0, 0, 1, 0, 0, 0, 0, 0, 0, 0, 0, 0, 0, 0, 0, 0, 0], [0, 0, 0, 0, 1, 0, 0, 0, 0, 0, 0, 0, 0, 0, 0, 0, 0, 0, 0, 0], [0, 0, 0, 1, 0, 0, 0, 0, 0, 0, 0, 0, 0, 0, 0, 0, 0, 0, 0, 0], [0, 0, 1, 0, 0, 0, 0, 0, 0, 0, 0, 0, 0, 0, 0, 0, 0, 0, 0, 0], [0, 1, 0, 0, 0, 0, 0, 0, 0, 0, 0, 0, 0, 0, 0, 0, 0, 0, 0, 0]]\n",
      "[2, 3, 4, 5, 6, 7, 8, 9, 10, 11, 12, 13, 14, 15, 16, 17, 18]\n",
      "23\n",
      "Json file edited\n"
     ]
    },
    {
     "name": "stderr",
     "output_type": "stream",
     "text": [
      "304it [00:00, 1499.03it/s]"
     ]
    },
    {
     "name": "stdout",
     "output_type": "stream",
     "text": [
      "Parsed ../kickoff-data-corrected/2739587b-312a-4d40-ba1a-9b5e3ebf5c9c.1.kickoff.rdb in 2.90 s.\n",
      "Contains keys: dict_keys(['left', 'right'])\n",
      "[left] start_ts: 1527425706666 | stop_ts: 1527426305466\n",
      "[right] start_ts: 1527425706526 | stop_ts: 1527426305406\n",
      "../kickoff-data-corrected/2739587b-312a-4d40-ba1a-9b5e3ebf5c9c.json\n",
      "[{'kickoff_team_id': 2, 'type': 'start_phase', 'phase': 1, 'ts': '2018-05-27T13:00:07.786000'}, {'type': 'end_phase', 'phase': 1, 'ts': '2018-05-27T13:48:06.407Z'}, {'kickoff_team_id': 9, 'type': 'start_phase', 'phase': 2, 'ts': '2018-05-27T14:05:26.306000'}, {'type': 'end_phase', 'phase': 2, 'ts': '2018-05-27T14:54:05.123Z'}]\n",
      "1527426007786\n"
     ]
    },
    {
     "name": "stderr",
     "output_type": "stream",
     "text": [
      "14971it [00:10, 1380.75it/s]\n"
     ]
    },
    {
     "name": "stdout",
     "output_type": "stream",
     "text": [
      "576 576\n",
      "282\n",
      "17\n",
      "17 17\n",
      "[[0, 0, 0, 0, 0, 0, 0, 0, 0, 0, 0, 0, 0, 0, 0, 0, 0, 1, 0, 0], [0, 0, 0, 0, 0, 0, 0, 0, 0, 0, 0, 0, 0, 0, 0, 0, 1, 0, 0, 0], [0, 0, 0, 0, 0, 0, 0, 0, 0, 0, 0, 0, 0, 0, 0, 1, 0, 0, 0, 0], [0, 0, 0, 0, 0, 0, 0, 0, 0, 0, 0, 0, 0, 0, 1, 0, 0, 0, 0, 0], [0, 0, 0, 0, 0, 0, 0, 0, 0, 0, 0, 0, 0, 1, 0, 0, 0, 0, 0, 0], [0, 0, 0, 0, 0, 0, 0, 0, 0, 0, 0, 0, 1, 0, 0, 0, 0, 0, 0, 0], [0, 0, 0, 0, 0, 0, 0, 0, 0, 0, 0, 1, 0, 0, 0, 0, 0, 0, 0, 0], [0, 0, 0, 0, 0, 0, 0, 0, 0, 0, 1, 0, 0, 0, 0, 0, 0, 0, 0, 0], [0, 0, 0, 0, 0, 0, 0, 0, 0, 1, 0, 0, 0, 0, 0, 0, 0, 0, 0, 0], [0, 0, 0, 0, 0, 0, 0, 0, 1, 0, 0, 0, 0, 0, 0, 0, 0, 0, 0, 0], [0, 0, 0, 0, 0, 0, 0, 1, 0, 0, 0, 0, 0, 0, 0, 0, 0, 0, 0, 0], [0, 0, 0, 0, 0, 0, 1, 0, 0, 0, 0, 0, 0, 0, 0, 0, 0, 0, 0, 0], [0, 0, 0, 0, 0, 1, 0, 0, 0, 0, 0, 0, 0, 0, 0, 0, 0, 0, 0, 0], [0, 0, 0, 0, 1, 0, 0, 0, 0, 0, 0, 0, 0, 0, 0, 0, 0, 0, 0, 0], [0, 0, 0, 1, 0, 0, 0, 0, 0, 0, 0, 0, 0, 0, 0, 0, 0, 0, 0, 0], [0, 0, 1, 0, 0, 0, 0, 0, 0, 0, 0, 0, 0, 0, 0, 0, 0, 0, 0, 0], [0, 1, 0, 0, 0, 0, 0, 0, 0, 0, 0, 0, 0, 0, 0, 0, 0, 0, 0, 0]]\n",
      "[2, 3, 4, 5, 6, 7, 8, 9, 10, 11, 12, 13, 14, 15, 16, 17, 18]\n",
      "24\n",
      "Json file edited\n"
     ]
    },
    {
     "name": "stderr",
     "output_type": "stream",
     "text": [
      "511it [00:00, 2518.32it/s]"
     ]
    },
    {
     "name": "stdout",
     "output_type": "stream",
     "text": [
      "Parsed ../kickoff-data-corrected/314f4989-398c-45a3-a74f-9f1adac71bf1.2.kickoff.rdb in 1.62 s.\n",
      "Contains keys: dict_keys(['right', 'left'])\n",
      "[right] start_ts: 1522591069602 | stop_ts: 1522591667442\n",
      "[left] start_ts: 1522591069484 | stop_ts: 1522591667404\n",
      "../kickoff-data-corrected/314f4989-398c-45a3-a74f-9f1adac71bf1.json\n",
      "[{'kickoff_team_id': 9, 'type': 'start_phase', 'ts': '2018-04-01T13:00:57.284000', 'phase': 1}, {'type': 'end_phase', 'phase': 1, 'ts': '2018-04-01T13:47:08.486Z'}, {'kickoff_team_id': 5, 'type': 'start_phase', 'ts': '1970-01-01T00:00:00', 'phase': 2}, {'type': 'end_phase', 'phase': 2, 'ts': '2018-04-01T14:50:51.103Z'}]\n",
      "0\n"
     ]
    },
    {
     "name": "stderr",
     "output_type": "stream",
     "text": [
      "14947it [00:06, 2376.17it/s]\n"
     ]
    },
    {
     "name": "stdout",
     "output_type": "stream",
     "text": [
      "0 0\n",
      "[]\n",
      "[]\n",
      "Json file edited\n"
     ]
    },
    {
     "name": "stderr",
     "output_type": "stream",
     "text": [
      "181it [00:00, 1804.03it/s]"
     ]
    },
    {
     "name": "stdout",
     "output_type": "stream",
     "text": [
      "Parsed ../kickoff-data-corrected/b4dbea7c-c72f-4dd6-b57c-8fb7b8b38eb5.2.kickoff.rdb in 2.34 s.\n",
      "Contains keys: dict_keys(['left', 'right'])\n",
      "[left] start_ts: 1524074238899 | stop_ts: 1524074838739\n",
      "[right] start_ts: 1524074238929 | stop_ts: 1524074838729\n",
      "../kickoff-data-corrected/b4dbea7c-c72f-4dd6-b57c-8fb7b8b38eb5.json\n",
      "[{'kickoff_team_id': 13, 'type': 'start_phase', 'ts': '2018-04-18T17:00:11.969000', 'phase': 1}, {'type': 'end_phase', 'phase': 1, 'ts': '2018-04-18T17:47:10.874Z'}, {'kickoff_team_id': 9, 'type': 'start_phase', 'ts': '2018-04-18T18:02:20.169000', 'phase': 2}, {'type': 'end_phase', 'phase': 2, 'ts': '2018-04-18T18:49:19.022Z'}]\n",
      "1524074540169\n"
     ]
    },
    {
     "name": "stderr",
     "output_type": "stream",
     "text": [
      "14996it [00:08, 1720.46it/s]\n"
     ]
    },
    {
     "name": "stdout",
     "output_type": "stream",
     "text": [
      "578 578\n",
      "283\n",
      "16\n",
      "16 16\n",
      "[[0, 0, 0, 0, 0, 0, 0, 0, 0, 0, 0, 0, 0, 0, 0, 0, 0, 1, 0, 0], [0, 0, 0, 0, 0, 0, 0, 0, 0, 0, 0, 0, 0, 0, 0, 0, 1, 0, 0, 0], [0, 0, 0, 0, 0, 0, 0, 0, 0, 0, 0, 0, 0, 0, 0, 1, 0, 0, 0, 0], [0, 0, 0, 0, 0, 0, 0, 0, 0, 0, 0, 0, 0, 0, 1, 0, 0, 0, 0, 0], [0, 0, 0, 0, 0, 0, 0, 0, 0, 0, 0, 0, 0, 1, 0, 0, 0, 0, 0, 0], [0, 0, 0, 0, 0, 0, 0, 0, 0, 0, 0, 0, 1, 0, 0, 0, 0, 0, 0, 0], [0, 0, 0, 0, 0, 0, 0, 0, 0, 0, 0, 1, 0, 0, 0, 0, 0, 0, 0, 0], [0, 0, 0, 0, 0, 0, 0, 0, 0, 0, 1, 0, 0, 0, 0, 0, 0, 0, 0, 0], [0, 0, 0, 0, 0, 0, 0, 0, 0, 1, 0, 0, 0, 0, 0, 0, 0, 0, 0, 0], [0, 0, 0, 0, 0, 0, 0, 0, 1, 0, 0, 0, 0, 0, 0, 0, 0, 0, 0, 0], [0, 0, 0, 0, 0, 0, 0, 1, 0, 0, 0, 0, 0, 0, 0, 0, 0, 0, 0, 0], [0, 0, 0, 0, 0, 0, 1, 0, 0, 0, 0, 0, 0, 0, 0, 0, 0, 0, 0, 0], [0, 0, 0, 0, 0, 1, 0, 0, 0, 0, 0, 0, 0, 0, 0, 0, 0, 0, 0, 0], [0, 0, 0, 0, 1, 0, 0, 0, 0, 0, 0, 0, 0, 0, 0, 0, 0, 0, 0, 0], [0, 0, 0, 1, 0, 0, 0, 0, 0, 0, 0, 0, 0, 0, 0, 0, 0, 0, 0, 0], [0, 0, 1, 0, 0, 0, 0, 0, 0, 0, 0, 0, 0, 0, 0, 0, 0, 0, 0, 0]]\n",
      "[2, 3, 4, 5, 6, 7, 8, 9, 10, 11, 12, 13, 14, 15, 16, 17]\n",
      "25\n",
      "Json file edited\n"
     ]
    },
    {
     "name": "stderr",
     "output_type": "stream",
     "text": [
      "202it [00:00, 1005.65it/s]"
     ]
    },
    {
     "name": "stdout",
     "output_type": "stream",
     "text": [
      "Parsed ../kickoff-data-corrected/76d4b783-ae63-4c60-815f-6a81beef6451.1.kickoff.rdb in 2.79 s.\n",
      "Contains keys: dict_keys(['left', 'right'])\n",
      "[left] start_ts: 1523109442596 | stop_ts: 1523110041116\n",
      "[right] start_ts: 1523109442628 | stop_ts: 1523110041148\n",
      "../kickoff-data-corrected/76d4b783-ae63-4c60-815f-6a81beef6451.json\n",
      "[{'kickoff_team_id': 12, 'type': 'start_phase', 'phase': 1, 'ts': '2018-04-07T14:02:24.428000'}, {'type': 'end_phase', 'phase': 1, 'ts': '2018-04-07T14:47:22.773Z'}, {'kickoff_team_id': 4, 'type': 'start_phase', 'phase': 2, 'ts': '2018-04-07T15:02:55.779Z'}, {'type': 'end_phase', 'phase': 2, 'ts': '2018-04-07T15:50:52.908Z'}]\n",
      "1523109744428\n"
     ]
    },
    {
     "name": "stderr",
     "output_type": "stream",
     "text": [
      "14963it [00:08, 2153.11it/s]\n"
     ]
    },
    {
     "name": "stdout",
     "output_type": "stream",
     "text": [
      "577 577\n",
      "283\n",
      "17\n",
      "17 17\n",
      "[[0, 0, 0, 0, 0, 0, 0, 0, 0, 0, 0, 0, 0, 0, 0, 0, 0, 1, 0, 0], [0, 0, 0, 0, 0, 0, 0, 0, 0, 0, 0, 0, 0, 0, 0, 0, 1, 0, 0, 0], [0, 0, 0, 0, 0, 0, 0, 0, 0, 0, 0, 0, 0, 0, 0, 1, 0, 0, 0, 0], [0, 0, 0, 0, 0, 0, 0, 0, 0, 0, 0, 0, 0, 0, 1, 0, 0, 0, 0, 0], [0, 0, 0, 0, 0, 0, 0, 0, 0, 0, 0, 0, 0, 1, 0, 0, 0, 0, 0, 0], [0, 0, 0, 0, 0, 0, 0, 0, 0, 0, 0, 0, 1, 0, 0, 0, 0, 0, 0, 0], [0, 0, 0, 0, 0, 0, 0, 0, 0, 0, 0, 1, 0, 0, 0, 0, 0, 0, 0, 0], [0, 0, 0, 0, 0, 0, 0, 0, 0, 0, 1, 0, 0, 0, 0, 0, 0, 0, 0, 0], [0, 0, 0, 0, 0, 0, 0, 0, 0, 1, 0, 0, 0, 0, 0, 0, 0, 0, 0, 0], [0, 0, 0, 0, 0, 0, 0, 0, 1, 0, 0, 0, 0, 0, 0, 0, 0, 0, 0, 0], [0, 0, 0, 0, 0, 0, 0, 1, 0, 0, 0, 0, 0, 0, 0, 0, 0, 0, 0, 0], [0, 0, 0, 0, 0, 0, 1, 0, 0, 0, 0, 0, 0, 0, 0, 0, 0, 0, 0, 0], [0, 0, 0, 0, 0, 1, 0, 0, 0, 0, 0, 0, 0, 0, 0, 0, 0, 0, 0, 0], [0, 0, 0, 0, 1, 0, 0, 0, 0, 0, 0, 0, 0, 0, 0, 0, 0, 0, 0, 0], [0, 0, 0, 1, 0, 0, 0, 0, 0, 0, 0, 0, 0, 0, 0, 0, 0, 0, 0, 0], [0, 0, 1, 0, 0, 0, 0, 0, 0, 0, 0, 0, 0, 0, 0, 0, 0, 0, 0, 0], [0, 1, 0, 0, 0, 0, 0, 0, 0, 0, 0, 0, 0, 0, 0, 0, 0, 0, 0, 0]]\n",
      "[2, 3, 4, 5, 6, 7, 8, 9, 10, 11, 12, 13, 14, 15, 16, 17, 18]\n",
      "26\n",
      "Json file edited\n"
     ]
    },
    {
     "name": "stderr",
     "output_type": "stream",
     "text": [
      "222it [00:00, 2219.50it/s]"
     ]
    },
    {
     "name": "stdout",
     "output_type": "stream",
     "text": [
      "Parsed ../kickoff-data-corrected/4be6ef54-2541-42d0-a334-e513a535029c.2.kickoff.rdb in 1.88 s.\n",
      "Contains keys: dict_keys(['left', 'right'])\n",
      "[left] start_ts: 1523717857062 | stop_ts: 1523718456662\n",
      "[right] start_ts: 1523717857078 | stop_ts: 1523718456678\n",
      "../kickoff-data-corrected/4be6ef54-2541-42d0-a334-e513a535029c.json\n",
      "[{'kickoff_team_id': 16, 'type': 'start_phase', 'ts': '2018-04-14T14:00:21.598000', 'phase': 1}, {'type': 'end_phase', 'phase': 1, 'ts': '2018-04-14T14:46:37.899Z'}, {'kickoff_team_id': 5, 'type': 'start_phase', 'ts': '2018-04-14T15:02:38.518000', 'phase': 2}, {'type': 'end_phase', 'phase': 2, 'ts': '2018-04-14T15:51:35.702Z'}]\n",
      "1523718158518\n"
     ]
    },
    {
     "name": "stderr",
     "output_type": "stream",
     "text": [
      "14991it [00:06, 2333.24it/s]\n"
     ]
    },
    {
     "name": "stdout",
     "output_type": "stream",
     "text": [
      "578 578\n",
      "283\n",
      "16\n",
      "16 16\n",
      "[[0, 0, 0, 0, 0, 0, 0, 0, 0, 0, 0, 0, 0, 0, 0, 0, 0, 1, 0, 0], [0, 0, 0, 0, 0, 0, 0, 0, 0, 0, 0, 0, 0, 0, 0, 0, 1, 0, 0, 0], [0, 0, 0, 0, 0, 0, 0, 0, 0, 0, 0, 0, 0, 0, 0, 1, 0, 0, 0, 0], [0, 0, 0, 0, 0, 0, 0, 0, 0, 0, 0, 0, 0, 0, 1, 0, 0, 0, 0, 0], [0, 0, 0, 0, 0, 0, 0, 0, 0, 0, 0, 0, 0, 1, 0, 0, 0, 0, 0, 0], [0, 0, 0, 0, 0, 0, 0, 0, 0, 0, 0, 0, 1, 0, 0, 0, 0, 0, 0, 0], [0, 0, 0, 0, 0, 0, 0, 0, 0, 0, 0, 1, 0, 0, 0, 0, 0, 0, 0, 0], [0, 0, 0, 0, 0, 0, 0, 0, 0, 0, 1, 0, 0, 0, 0, 0, 0, 0, 0, 0], [0, 0, 0, 0, 0, 0, 0, 0, 0, 1, 0, 0, 0, 0, 0, 0, 0, 0, 0, 0], [0, 0, 0, 0, 0, 0, 0, 0, 1, 0, 0, 0, 0, 0, 0, 0, 0, 0, 0, 0], [0, 0, 0, 0, 0, 0, 0, 1, 0, 0, 0, 0, 0, 0, 0, 0, 0, 0, 0, 0], [0, 0, 0, 0, 0, 0, 1, 0, 0, 0, 0, 0, 0, 0, 0, 0, 0, 0, 0, 0], [0, 0, 0, 0, 0, 1, 0, 0, 0, 0, 0, 0, 0, 0, 0, 0, 0, 0, 0, 0], [0, 0, 0, 0, 1, 0, 0, 0, 0, 0, 0, 0, 0, 0, 0, 0, 0, 0, 0, 0], [0, 0, 0, 1, 0, 0, 0, 0, 0, 0, 0, 0, 0, 0, 0, 0, 0, 0, 0, 0], [0, 0, 1, 0, 0, 0, 0, 0, 0, 0, 0, 0, 0, 0, 0, 0, 0, 0, 0, 0]]\n",
      "[2, 3, 4, 5, 6, 7, 8, 9, 10, 11, 12, 13, 14, 15, 16, 17]\n",
      "27\n",
      "Json file edited\n"
     ]
    },
    {
     "name": "stderr",
     "output_type": "stream",
     "text": [
      "245it [00:00, 2447.45it/s]"
     ]
    },
    {
     "name": "stdout",
     "output_type": "stream",
     "text": [
      "Parsed ../kickoff-data-corrected/27bea627-3caa-47ee-93c3-67f0e26f3034.1.kickoff.rdb in 2.79 s.\n",
      "Contains keys: dict_keys(['left', 'right'])\n",
      "[left] start_ts: 1523796958381 | stop_ts: 1523797557661\n",
      "[right] start_ts: 1523796957851 | stop_ts: 1523797557411\n",
      "../kickoff-data-corrected/27bea627-3caa-47ee-93c3-67f0e26f3034.json\n",
      "[{'kickoff_team_id': 4, 'type': 'start_phase', 'ts': '2018-04-15T13:00:59.341000', 'phase': 1}, {'type': 'end_phase', 'phase': 1, 'ts': '2018-04-15T13:46:01.064Z'}, {'kickoff_team_id': 9, 'type': 'start_phase', 'ts': '2018-04-15T14:01:55.381000', 'phase': 2}, {'type': 'end_phase', 'phase': 2, 'ts': '2018-04-15T14:50:42.654Z'}]\n",
      "1523797259341\n"
     ]
    },
    {
     "name": "stderr",
     "output_type": "stream",
     "text": [
      "14984it [00:07, 1893.93it/s]\n"
     ]
    },
    {
     "name": "stdout",
     "output_type": "stream",
     "text": [
      "577 577\n",
      "282\n",
      "17\n",
      "17 17\n",
      "[[0, 0, 0, 0, 0, 0, 0, 0, 0, 0, 0, 0, 0, 0, 0, 0, 0, 1, 0, 0], [0, 0, 0, 0, 0, 0, 0, 0, 0, 0, 0, 0, 0, 0, 0, 0, 1, 0, 0, 0], [0, 0, 0, 0, 0, 0, 0, 0, 0, 0, 0, 0, 0, 0, 0, 1, 0, 0, 0, 0], [0, 0, 0, 0, 0, 0, 0, 0, 0, 0, 0, 0, 0, 0, 1, 0, 0, 0, 0, 0], [0, 0, 0, 0, 0, 0, 0, 0, 0, 0, 0, 0, 0, 1, 0, 0, 0, 0, 0, 0], [0, 0, 0, 0, 0, 0, 0, 0, 0, 0, 0, 0, 1, 0, 0, 0, 0, 0, 0, 0], [0, 0, 0, 0, 0, 0, 0, 0, 0, 0, 0, 1, 0, 0, 0, 0, 0, 0, 0, 0], [0, 0, 0, 0, 0, 0, 0, 0, 0, 0, 1, 0, 0, 0, 0, 0, 0, 0, 0, 0], [0, 0, 0, 0, 0, 0, 0, 0, 0, 1, 0, 0, 0, 0, 0, 0, 0, 0, 0, 0], [0, 0, 0, 0, 0, 0, 0, 0, 1, 0, 0, 0, 0, 0, 0, 0, 0, 0, 0, 0], [0, 0, 0, 0, 0, 0, 0, 1, 0, 0, 0, 0, 0, 0, 0, 0, 0, 0, 0, 0], [0, 0, 0, 0, 0, 0, 1, 0, 0, 0, 0, 0, 0, 0, 0, 0, 0, 0, 0, 0], [0, 0, 0, 0, 0, 1, 0, 0, 0, 0, 0, 0, 0, 0, 0, 0, 0, 0, 0, 0], [0, 0, 0, 0, 1, 0, 0, 0, 0, 0, 0, 0, 0, 0, 0, 0, 0, 0, 0, 0], [0, 0, 0, 1, 0, 0, 0, 0, 0, 0, 0, 0, 0, 0, 0, 0, 0, 0, 0, 0], [0, 0, 1, 0, 0, 0, 0, 0, 0, 0, 0, 0, 0, 0, 0, 0, 0, 0, 0, 0], [0, 1, 0, 0, 0, 0, 0, 0, 0, 0, 0, 0, 0, 0, 0, 0, 0, 0, 0, 0]]\n",
      "[2, 3, 4, 5, 6, 7, 8, 9, 10, 11, 12, 13, 14, 15, 16, 17, 18]\n",
      "28\n",
      "Json file edited\n"
     ]
    },
    {
     "name": "stderr",
     "output_type": "stream",
     "text": [
      "327it [00:00, 1568.55it/s]"
     ]
    },
    {
     "name": "stdout",
     "output_type": "stream",
     "text": [
      "Parsed ../kickoff-data-corrected/2739587b-312a-4d40-ba1a-9b5e3ebf5c9c.2.kickoff.rdb in 2.24 s.\n",
      "Contains keys: dict_keys(['left', 'right'])\n",
      "[left] start_ts: 1527429626666 | stop_ts: 1527430225466\n",
      "[right] start_ts: 1527429626566 | stop_ts: 1527430225406\n",
      "../kickoff-data-corrected/2739587b-312a-4d40-ba1a-9b5e3ebf5c9c.json\n",
      "[{'kickoff_team_id': 2, 'type': 'start_phase', 'phase': 1, 'ts': '2018-05-27T13:00:07.786000'}, {'type': 'end_phase', 'phase': 1, 'ts': '2018-05-27T13:48:06.407Z'}, {'kickoff_team_id': 9, 'type': 'start_phase', 'phase': 2, 'ts': '2018-05-27T14:05:26.306000'}, {'type': 'end_phase', 'phase': 2, 'ts': '2018-05-27T14:54:05.123Z'}]\n",
      "1527429926306\n"
     ]
    },
    {
     "name": "stderr",
     "output_type": "stream",
     "text": [
      "14971it [00:08, 1713.18it/s]\n"
     ]
    },
    {
     "name": "stdout",
     "output_type": "stream",
     "text": [
      "577 577\n",
      "281\n",
      "16\n",
      "16 16\n",
      "[[0, 0, 0, 0, 0, 0, 0, 0, 0, 0, 0, 0, 0, 0, 0, 0, 0, 1, 0, 0], [0, 0, 0, 0, 0, 0, 0, 0, 0, 0, 0, 0, 0, 0, 0, 0, 1, 0, 0, 0], [0, 0, 0, 0, 0, 0, 0, 0, 0, 0, 0, 0, 0, 0, 0, 1, 0, 0, 0, 0], [0, 0, 0, 0, 0, 0, 0, 0, 0, 0, 0, 0, 0, 0, 1, 0, 0, 0, 0, 0], [0, 0, 0, 0, 0, 0, 0, 0, 0, 0, 0, 0, 0, 1, 0, 0, 0, 0, 0, 0], [0, 0, 0, 0, 0, 0, 0, 0, 0, 0, 0, 0, 1, 0, 0, 0, 0, 0, 0, 0], [0, 0, 0, 0, 0, 0, 0, 0, 0, 0, 0, 1, 0, 0, 0, 0, 0, 0, 0, 0], [0, 0, 0, 0, 0, 0, 0, 0, 0, 0, 1, 0, 0, 0, 0, 0, 0, 0, 0, 0], [0, 0, 0, 0, 0, 0, 0, 0, 0, 1, 0, 0, 0, 0, 0, 0, 0, 0, 0, 0], [0, 0, 0, 0, 0, 0, 0, 0, 1, 0, 0, 0, 0, 0, 0, 0, 0, 0, 0, 0], [0, 0, 0, 0, 0, 0, 0, 1, 0, 0, 0, 0, 0, 0, 0, 0, 0, 0, 0, 0], [0, 0, 0, 0, 0, 0, 1, 0, 0, 0, 0, 0, 0, 0, 0, 0, 0, 0, 0, 0], [0, 0, 0, 0, 0, 1, 0, 0, 0, 0, 0, 0, 0, 0, 0, 0, 0, 0, 0, 0], [0, 0, 0, 0, 1, 0, 0, 0, 0, 0, 0, 0, 0, 0, 0, 0, 0, 0, 0, 0], [0, 0, 0, 1, 0, 0, 0, 0, 0, 0, 0, 0, 0, 0, 0, 0, 0, 0, 0, 0], [0, 0, 1, 0, 0, 0, 0, 0, 0, 0, 0, 0, 0, 0, 0, 0, 0, 0, 0, 0]]\n",
      "[2, 3, 4, 5, 6, 7, 8, 9, 10, 11, 12, 13, 14, 15, 16, 17]\n",
      "29\n",
      "Json file edited\n"
     ]
    },
    {
     "name": "stderr",
     "output_type": "stream",
     "text": [
      "345it [00:00, 3445.33it/s]"
     ]
    },
    {
     "name": "stdout",
     "output_type": "stream",
     "text": [
      "Parsed ../kickoff-data-corrected/a185c6c8-7383-4d19-927f-dc8f70726c34.2.kickoff.rdb in 1.57 s.\n",
      "Contains keys: dict_keys(['left', 'right'])\n",
      "[left] start_ts: 1523901471243 | stop_ts: 1523902070043\n",
      "[right] start_ts: 1523901471657 | stop_ts: 1523902070297\n",
      "../kickoff-data-corrected/a185c6c8-7383-4d19-927f-dc8f70726c34.json\n",
      "[{'kickoff_team_id': 15, 'type': 'start_phase', 'ts': '2018-04-16T17:01:37.097000', 'phase': 1}, {'type': 'end_phase', 'phase': 1, 'ts': '2018-04-16T17:46:39.313Z'}, {'kickoff_team_id': 2, 'type': 'start_phase', 'ts': '2018-04-16T18:02:51.643000', 'phase': 2}, {'type': 'end_phase', 'phase': 2, 'ts': '2018-04-16T18:49:49.424Z'}]\n",
      "1523901771643\n"
     ]
    },
    {
     "name": "stderr",
     "output_type": "stream",
     "text": [
      "14967it [00:05, 2581.05it/s]\n"
     ]
    },
    {
     "name": "stdout",
     "output_type": "stream",
     "text": [
      "576 576\n",
      "281\n",
      "17\n",
      "17 17\n",
      "[[0, 0, 0, 0, 0, 0, 0, 0, 0, 0, 0, 0, 0, 0, 0, 0, 0, 1, 0, 0], [0, 0, 0, 0, 0, 0, 0, 0, 0, 0, 0, 0, 0, 0, 0, 0, 1, 0, 0, 0], [0, 0, 0, 0, 0, 0, 0, 0, 0, 0, 0, 0, 0, 0, 0, 1, 0, 0, 0, 0], [0, 0, 0, 0, 0, 0, 0, 0, 0, 0, 0, 0, 0, 0, 1, 0, 0, 0, 0, 0], [0, 0, 0, 0, 0, 0, 0, 0, 0, 0, 0, 0, 0, 1, 0, 0, 0, 0, 0, 0], [0, 0, 0, 0, 0, 0, 0, 0, 0, 0, 0, 0, 1, 0, 0, 0, 0, 0, 0, 0], [0, 0, 0, 0, 0, 0, 0, 0, 0, 0, 0, 1, 0, 0, 0, 0, 0, 0, 0, 0], [0, 0, 0, 0, 0, 0, 0, 0, 0, 0, 1, 0, 0, 0, 0, 0, 0, 0, 0, 0], [0, 0, 0, 0, 0, 0, 0, 0, 0, 1, 0, 0, 0, 0, 0, 0, 0, 0, 0, 0], [0, 0, 0, 0, 0, 0, 0, 0, 1, 0, 0, 0, 0, 0, 0, 0, 0, 0, 0, 0], [0, 0, 0, 0, 0, 0, 0, 1, 0, 0, 0, 0, 0, 0, 0, 0, 0, 0, 0, 0], [0, 0, 0, 0, 0, 0, 1, 0, 0, 0, 0, 0, 0, 0, 0, 0, 0, 0, 0, 0], [0, 0, 0, 0, 0, 1, 0, 0, 0, 0, 0, 0, 0, 0, 0, 0, 0, 0, 0, 0], [0, 0, 0, 0, 1, 0, 0, 0, 0, 0, 0, 0, 0, 0, 0, 0, 0, 0, 0, 0], [0, 0, 0, 1, 0, 0, 0, 0, 0, 0, 0, 0, 0, 0, 0, 0, 0, 0, 0, 0], [0, 0, 1, 0, 0, 0, 0, 0, 0, 0, 0, 0, 0, 0, 0, 0, 0, 0, 0, 0], [0, 1, 0, 0, 0, 0, 0, 0, 0, 0, 0, 0, 0, 0, 0, 0, 0, 0, 0, 0]]\n",
      "[2, 3, 4, 5, 6, 7, 8, 9, 10, 11, 12, 13, 14, 15, 16, 17, 18]\n",
      "30\n",
      "Json file edited\n"
     ]
    },
    {
     "name": "stderr",
     "output_type": "stream",
     "text": [
      "600it [00:00, 2909.99it/s]"
     ]
    },
    {
     "name": "stdout",
     "output_type": "stream",
     "text": [
      "Parsed ../kickoff-data-corrected/9e627901-09e2-4c84-bf77-6f0ec289fa5f.1.kickoff.rdb in 1.94 s.\n",
      "Contains keys: dict_keys(['left', 'right'])\n",
      "[left] start_ts: 1522682846069 | stop_ts: 1522683445869\n",
      "[right] start_ts: 1522682845973 | stop_ts: 1522683445853\n",
      "../kickoff-data-corrected/9e627901-09e2-4c84-bf77-6f0ec289fa5f.json\n",
      "[{'kickoff_team_id': 7, 'type': 'start_phase', 'ts': '2018-04-02T15:32:26.973000', 'phase': 1}, {'type': 'end_phase', 'phase': 1, 'ts': '2018-04-02T16:17:34.362Z'}, {'kickoff_team_id': 8, 'type': 'start_phase', 'ts': '2018-04-02T16:33:32.893000', 'phase': 2}, {'type': 'end_phase', 'phase': 2, 'ts': '2018-04-02T17:22:39.373Z'}]\n",
      "1522683146973\n"
     ]
    },
    {
     "name": "stderr",
     "output_type": "stream",
     "text": [
      "14997it [00:05, 2633.79it/s]\n"
     ]
    },
    {
     "name": "stdout",
     "output_type": "stream",
     "text": [
      "578 578\n",
      "282\n",
      "17\n",
      "17 17\n",
      "[[0, 0, 0, 0, 0, 0, 0, 0, 0, 0, 0, 0, 0, 0, 0, 0, 0, 1, 0, 0], [0, 0, 0, 0, 0, 0, 0, 0, 0, 0, 0, 0, 0, 0, 0, 0, 1, 0, 0, 0], [0, 0, 0, 0, 0, 0, 0, 0, 0, 0, 0, 0, 0, 0, 0, 1, 0, 0, 0, 0], [0, 0, 0, 0, 0, 0, 0, 0, 0, 0, 0, 0, 0, 0, 1, 0, 0, 0, 0, 0], [0, 0, 0, 0, 0, 0, 0, 0, 0, 0, 0, 0, 0, 1, 0, 0, 0, 0, 0, 0], [0, 0, 0, 0, 0, 0, 0, 0, 0, 0, 0, 0, 1, 0, 0, 0, 0, 0, 0, 0], [0, 0, 0, 0, 0, 0, 0, 0, 0, 0, 0, 1, 0, 0, 0, 0, 0, 0, 0, 0], [0, 0, 0, 0, 0, 0, 0, 0, 0, 0, 1, 0, 0, 0, 0, 0, 0, 0, 0, 0], [0, 0, 0, 0, 0, 0, 0, 0, 0, 1, 0, 0, 0, 0, 0, 0, 0, 0, 0, 0], [0, 0, 0, 0, 0, 0, 0, 0, 1, 0, 0, 0, 0, 0, 0, 0, 0, 0, 0, 0], [0, 0, 0, 0, 0, 0, 0, 1, 0, 0, 0, 0, 0, 0, 0, 0, 0, 0, 0, 0], [0, 0, 0, 0, 0, 0, 1, 0, 0, 0, 0, 0, 0, 0, 0, 0, 0, 0, 0, 0], [0, 0, 0, 0, 0, 1, 0, 0, 0, 0, 0, 0, 0, 0, 0, 0, 0, 0, 0, 0], [0, 0, 0, 0, 1, 0, 0, 0, 0, 0, 0, 0, 0, 0, 0, 0, 0, 0, 0, 0], [0, 0, 0, 1, 0, 0, 0, 0, 0, 0, 0, 0, 0, 0, 0, 0, 0, 0, 0, 0], [0, 0, 1, 0, 0, 0, 0, 0, 0, 0, 0, 0, 0, 0, 0, 0, 0, 0, 0, 0], [0, 1, 0, 0, 0, 0, 0, 0, 0, 0, 0, 0, 0, 0, 0, 0, 0, 0, 0, 0]]\n",
      "[2, 3, 4, 5, 6, 7, 8, 9, 10, 11, 12, 13, 14, 15, 16, 17, 18]\n",
      "31\n",
      "Json file edited\n"
     ]
    },
    {
     "name": "stderr",
     "output_type": "stream",
     "text": [
      "991it [00:00, 4859.88it/s]"
     ]
    },
    {
     "name": "stdout",
     "output_type": "stream",
     "text": [
      "Parsed ../kickoff-data-corrected/84e8b33c-d912-495e-9e21-84bdd18e0e04.2.kickoff.rdb in 1.53 s.\n",
      "Contains keys: dict_keys(['left', 'right'])\n",
      "[left] start_ts: 1523642141699 | stop_ts: 1523642740539\n",
      "[right] start_ts: 1523642142209 | stop_ts: 1523642740769\n",
      "../kickoff-data-corrected/84e8b33c-d912-495e-9e21-84bdd18e0e04.json\n",
      "[{'kickoff_team_id': 12, 'type': 'start_phase', 'ts': '2018-04-13T17:00:01.059000', 'phase': 1}, {'type': 'end_phase', 'phase': 1, 'ts': '2018-04-13T17:45:38.365Z'}, {'kickoff_team_id': 14, 'type': 'start_phase', 'ts': '2018-04-13T18:00:41.739000', 'phase': 2}, {'type': 'end_phase', 'phase': 2, 'ts': '2018-04-13T18:47:41.972Z'}]\n",
      "1523642441739\n"
     ]
    },
    {
     "name": "stderr",
     "output_type": "stream",
     "text": [
      "14965it [00:05, 2904.47it/s]\n"
     ]
    },
    {
     "name": "stdout",
     "output_type": "stream",
     "text": [
      "576 576\n",
      "281\n",
      "16\n",
      "16 16\n",
      "[[0, 0, 0, 0, 0, 0, 0, 0, 0, 0, 0, 0, 0, 0, 0, 0, 0, 1, 0, 0], [0, 0, 0, 0, 0, 0, 0, 0, 0, 0, 0, 0, 0, 0, 0, 0, 1, 0, 0, 0], [0, 0, 0, 0, 0, 0, 0, 0, 0, 0, 0, 0, 0, 0, 0, 1, 0, 0, 0, 0], [0, 0, 0, 0, 0, 0, 0, 0, 0, 0, 0, 0, 0, 0, 1, 0, 0, 0, 0, 0], [0, 0, 0, 0, 0, 0, 0, 0, 0, 0, 0, 0, 0, 1, 0, 0, 0, 0, 0, 0], [0, 0, 0, 0, 0, 0, 0, 0, 0, 0, 0, 0, 1, 0, 0, 0, 0, 0, 0, 0], [0, 0, 0, 0, 0, 0, 0, 0, 0, 0, 0, 1, 0, 0, 0, 0, 0, 0, 0, 0], [0, 0, 0, 0, 0, 0, 0, 0, 0, 0, 1, 0, 0, 0, 0, 0, 0, 0, 0, 0], [0, 0, 0, 0, 0, 0, 0, 0, 0, 1, 0, 0, 0, 0, 0, 0, 0, 0, 0, 0], [0, 0, 0, 0, 0, 0, 0, 0, 1, 0, 0, 0, 0, 0, 0, 0, 0, 0, 0, 0], [0, 0, 0, 0, 0, 0, 0, 1, 0, 0, 0, 0, 0, 0, 0, 0, 0, 0, 0, 0], [0, 0, 0, 0, 0, 0, 1, 0, 0, 0, 0, 0, 0, 0, 0, 0, 0, 0, 0, 0], [0, 0, 0, 0, 0, 1, 0, 0, 0, 0, 0, 0, 0, 0, 0, 0, 0, 0, 0, 0], [0, 0, 0, 0, 1, 0, 0, 0, 0, 0, 0, 0, 0, 0, 0, 0, 0, 0, 0, 0], [0, 0, 0, 1, 0, 0, 0, 0, 0, 0, 0, 0, 0, 0, 0, 0, 0, 0, 0, 0], [0, 0, 1, 0, 0, 0, 0, 0, 0, 0, 0, 0, 0, 0, 0, 0, 0, 0, 0, 0]]\n",
      "[2, 3, 4, 5, 6, 7, 8, 9, 10, 11, 12, 13, 14, 15, 16, 17]\n",
      "32\n",
      "Json file edited\n"
     ]
    },
    {
     "name": "stderr",
     "output_type": "stream",
     "text": [
      "106it [00:00, 1059.23it/s]"
     ]
    },
    {
     "name": "stdout",
     "output_type": "stream",
     "text": [
      "Parsed ../kickoff-data-corrected/a5857e03-10b8-454a-89fb-c201985b04cb.1.kickoff.rdb in 1.62 s.\n",
      "Contains keys: dict_keys(['right', 'left'])\n",
      "[right] start_ts: 1523379375326 | stop_ts: 1523379973846\n",
      "[left] start_ts: 1523379375938 | stop_ts: 1523379974138\n",
      "../kickoff-data-corrected/a5857e03-10b8-454a-89fb-c201985b04cb.json\n",
      "[{'kickoff_team_id': 6, 'type': 'start_phase', 'ts': '1970-01-01T00:00:00', 'phase': 1}, {'type': 'end_phase', 'phase': 1, 'ts': '2018-04-10T17:47:16.674Z'}, {'kickoff_team_id': 2, 'type': 'start_phase', 'ts': '2018-04-10T18:03:05.406000', 'phase': 2}, {'type': 'end_phase', 'phase': 2, 'ts': '2018-04-10T18:51:05.058Z'}]\n",
      "0\n"
     ]
    },
    {
     "name": "stderr",
     "output_type": "stream",
     "text": [
      "14955it [00:06, 2296.46it/s]\n"
     ]
    },
    {
     "name": "stdout",
     "output_type": "stream",
     "text": [
      "0 0\n",
      "[]\n",
      "[]\n",
      "Json file edited\n"
     ]
    },
    {
     "name": "stderr",
     "output_type": "stream",
     "text": [
      "585it [00:00, 2939.78it/s]"
     ]
    },
    {
     "name": "stdout",
     "output_type": "stream",
     "text": [
      "Parsed ../kickoff-data-corrected/2dc12819-d486-4925-a0e2-b8ae9ff1aed5.2.kickoff.rdb in 2.04 s.\n",
      "Contains keys: dict_keys(['right', 'left'])\n",
      "[right] start_ts: 1523196016735 | stop_ts: 1523196614695\n",
      "[left] start_ts: 1523196016019 | stop_ts: 1523196614339\n",
      "../kickoff-data-corrected/2dc12819-d486-4925-a0e2-b8ae9ff1aed5.json\n",
      "[{'kickoff_team_id': 11, 'type': 'start_phase', 'ts': '2018-04-08T13:03:52.775000', 'phase': 1}, {'type': 'end_phase', 'phase': 1, 'ts': '2018-04-08T13:48:52.077Z'}, {'kickoff_team_id': 14, 'type': 'start_phase', 'ts': '2018-04-08T14:05:16.815000', 'phase': 2}, {'type': 'end_phase', 'phase': 2, 'ts': '2018-04-08T14:53:40.200Z'}]\n",
      "1523196316815\n"
     ]
    },
    {
     "name": "stderr",
     "output_type": "stream",
     "text": [
      "14949it [00:07, 2075.51it/s]\n"
     ]
    },
    {
     "name": "stdout",
     "output_type": "stream",
     "text": [
      "575 575\n",
      "281\n",
      "17\n",
      "17 17\n",
      "[[0, 0, 0, 0, 0, 0, 0, 0, 0, 0, 0, 0, 0, 0, 0, 0, 0, 1, 0, 0], [0, 0, 0, 0, 0, 0, 0, 0, 0, 0, 0, 0, 0, 0, 0, 0, 1, 0, 0, 0], [0, 0, 0, 0, 0, 0, 0, 0, 0, 0, 0, 0, 0, 0, 0, 1, 0, 0, 0, 0], [0, 0, 0, 0, 0, 0, 0, 0, 0, 0, 0, 0, 0, 0, 1, 0, 0, 0, 0, 0], [0, 0, 0, 0, 0, 0, 0, 0, 0, 0, 0, 0, 0, 1, 0, 0, 0, 0, 0, 0], [0, 0, 0, 0, 0, 0, 0, 0, 0, 0, 0, 0, 1, 0, 0, 0, 0, 0, 0, 0], [0, 0, 0, 0, 0, 0, 0, 0, 0, 0, 0, 1, 0, 0, 0, 0, 0, 0, 0, 0], [0, 0, 0, 0, 0, 0, 0, 0, 0, 0, 1, 0, 0, 0, 0, 0, 0, 0, 0, 0], [0, 0, 0, 0, 0, 0, 0, 0, 0, 1, 0, 0, 0, 0, 0, 0, 0, 0, 0, 0], [0, 0, 0, 0, 0, 0, 0, 0, 1, 0, 0, 0, 0, 0, 0, 0, 0, 0, 0, 0], [0, 0, 0, 0, 0, 0, 0, 1, 0, 0, 0, 0, 0, 0, 0, 0, 0, 0, 0, 0], [0, 0, 0, 0, 0, 0, 1, 0, 0, 0, 0, 0, 0, 0, 0, 0, 0, 0, 0, 0], [0, 0, 0, 0, 0, 1, 0, 0, 0, 0, 0, 0, 0, 0, 0, 0, 0, 0, 0, 0], [0, 0, 0, 0, 1, 0, 0, 0, 0, 0, 0, 0, 0, 0, 0, 0, 0, 0, 0, 0], [0, 0, 0, 1, 0, 0, 0, 0, 0, 0, 0, 0, 0, 0, 0, 0, 0, 0, 0, 0], [0, 0, 1, 0, 0, 0, 0, 0, 0, 0, 0, 0, 0, 0, 0, 0, 0, 0, 0, 0], [0, 1, 0, 0, 0, 0, 0, 0, 0, 0, 0, 0, 0, 0, 0, 0, 0, 0, 0, 0]]\n",
      "[2, 3, 4, 5, 6, 7, 8, 9, 10, 11, 12, 13, 14, 15, 16, 17, 18]\n",
      "33\n",
      "Json file edited\n"
     ]
    },
    {
     "name": "stderr",
     "output_type": "stream",
     "text": [
      "228it [00:00, 2273.43it/s]"
     ]
    },
    {
     "name": "stdout",
     "output_type": "stream",
     "text": [
      "Parsed ../kickoff-data-corrected/76d4b783-ae63-4c60-815f-6a81beef6451.2.kickoff.rdb in 1.96 s.\n",
      "Contains keys: dict_keys(['left', 'right'])\n",
      "[left] start_ts: 1523113078596 | stop_ts: 1523113675116\n",
      "[right] start_ts: 1523113078628 | stop_ts: 1523113675148\n",
      "../kickoff-data-corrected/76d4b783-ae63-4c60-815f-6a81beef6451.json\n",
      "[{'kickoff_team_id': 12, 'type': 'start_phase', 'phase': 1, 'ts': '2018-04-07T14:02:24.428000'}, {'type': 'end_phase', 'phase': 1, 'ts': '2018-04-07T14:47:22.773Z'}, {'kickoff_team_id': 4, 'type': 'start_phase', 'phase': 2, 'ts': '2018-04-07T15:02:59.828000'}, {'type': 'end_phase', 'phase': 2, 'ts': '2018-04-07T15:50:52.908Z'}]\n",
      "1523113379828\n"
     ]
    },
    {
     "name": "stderr",
     "output_type": "stream",
     "text": [
      "14913it [00:06, 2140.54it/s]\n"
     ]
    },
    {
     "name": "stdout",
     "output_type": "stream",
     "text": [
      "575 575\n",
      "283\n",
      "16\n",
      "16 16\n",
      "[[0, 0, 0, 0, 0, 0, 0, 0, 0, 0, 0, 0, 0, 0, 0, 0, 0, 1, 0, 0], [0, 0, 0, 0, 0, 0, 0, 0, 0, 0, 0, 0, 0, 0, 0, 0, 1, 0, 0, 0], [0, 0, 0, 0, 0, 0, 0, 0, 0, 0, 0, 0, 0, 0, 0, 1, 0, 0, 0, 0], [0, 0, 0, 0, 0, 0, 0, 0, 0, 0, 0, 0, 0, 0, 1, 0, 0, 0, 0, 0], [0, 0, 0, 0, 0, 0, 0, 0, 0, 0, 0, 0, 0, 1, 0, 0, 0, 0, 0, 0], [0, 0, 0, 0, 0, 0, 0, 0, 0, 0, 0, 0, 1, 0, 0, 0, 0, 0, 0, 0], [0, 0, 0, 0, 0, 0, 0, 0, 0, 0, 0, 1, 0, 0, 0, 0, 0, 0, 0, 0], [0, 0, 0, 0, 0, 0, 0, 0, 0, 0, 1, 0, 0, 0, 0, 0, 0, 0, 0, 0], [0, 0, 0, 0, 0, 0, 0, 0, 0, 1, 0, 0, 0, 0, 0, 0, 0, 0, 0, 0], [0, 0, 0, 0, 0, 0, 0, 0, 1, 0, 0, 0, 0, 0, 0, 0, 0, 0, 0, 0], [0, 0, 0, 0, 0, 0, 0, 1, 0, 0, 0, 0, 0, 0, 0, 0, 0, 0, 0, 0], [0, 0, 0, 0, 0, 0, 1, 0, 0, 0, 0, 0, 0, 0, 0, 0, 0, 0, 0, 0], [0, 0, 0, 0, 0, 1, 0, 0, 0, 0, 0, 0, 0, 0, 0, 0, 0, 0, 0, 0], [0, 0, 0, 0, 1, 0, 0, 0, 0, 0, 0, 0, 0, 0, 0, 0, 0, 0, 0, 0], [0, 0, 0, 1, 0, 0, 0, 0, 0, 0, 0, 0, 0, 0, 0, 0, 0, 0, 0, 0], [0, 0, 1, 0, 0, 0, 0, 0, 0, 0, 0, 0, 0, 0, 0, 0, 0, 0, 0, 0]]\n",
      "[2, 3, 4, 5, 6, 7, 8, 9, 10, 11, 12, 13, 14, 15, 16, 17]\n",
      "34\n",
      "Json file edited\n"
     ]
    },
    {
     "name": "stderr",
     "output_type": "stream",
     "text": [
      "931it [00:00, 4692.24it/s]"
     ]
    },
    {
     "name": "stdout",
     "output_type": "stream",
     "text": [
      "Parsed ../kickoff-data-corrected/cbcca433-ff77-4927-a5a3-36ff293c12fd.1.kickoff.rdb in 1.57 s.\n",
      "Contains keys: dict_keys(['left', 'right'])\n",
      "[left] start_ts: 1523292948088 | stop_ts: 1523293544248\n",
      "[right] start_ts: 1523292936370 | stop_ts: 1523293534370\n",
      "../kickoff-data-corrected/cbcca433-ff77-4927-a5a3-36ff293c12fd.json\n",
      "[{'kickoff_team_id': 15, 'type': 'start_phase', 'ts': '1970-01-01T00:00:00', 'phase': 1}, {'type': 'end_phase', 'phase': 1, 'ts': '2018-04-09T17:47:46.113Z'}, {'kickoff_team_id': 5, 'type': 'start_phase', 'ts': '2018-04-09T18:04:20.408000', 'phase': 2}, {'type': 'end_phase', 'phase': 2, 'ts': '2018-04-09T18:53:12.188Z'}]\n",
      "0\n"
     ]
    },
    {
     "name": "stderr",
     "output_type": "stream",
     "text": [
      "14861it [00:05, 2681.37it/s]\n"
     ]
    },
    {
     "name": "stdout",
     "output_type": "stream",
     "text": [
      "0 0\n",
      "[]\n",
      "[]\n",
      "Json file edited\n"
     ]
    },
    {
     "name": "stderr",
     "output_type": "stream",
     "text": [
      "927it [00:00, 4547.02it/s]"
     ]
    },
    {
     "name": "stdout",
     "output_type": "stream",
     "text": [
      "Parsed ../kickoff-data-corrected/f9f01fbf-6871-4303-b43f-29c2dd16909d.2.kickoff.rdb in 1.78 s.\n",
      "Contains keys: dict_keys(['right', 'left'])\n",
      "[right] start_ts: 1522677422216 | stop_ts: 1522678021096\n",
      "[left] start_ts: 1522677422334 | stop_ts: 1522678021134\n",
      "../kickoff-data-corrected/f9f01fbf-6871-4303-b43f-29c2dd16909d.json\n",
      "[{'kickoff_team_id': 15, 'type': 'start_phase', 'ts': '2018-04-02T13:00:04.376000', 'phase': 1}, {'type': 'end_phase', 'phase': 1, 'ts': '2018-04-02T13:47:02.983Z'}, {'kickoff_team_id': 4, 'type': 'start_phase', 'ts': '2018-04-02T14:02:02.696000', 'phase': 2}, {'type': 'end_phase', 'phase': 2, 'ts': '2018-04-02T14:50:07.639Z'}]\n",
      "1522677722696\n"
     ]
    },
    {
     "name": "stderr",
     "output_type": "stream",
     "text": [
      "14971it [00:06, 2459.18it/s]\n"
     ]
    },
    {
     "name": "stdout",
     "output_type": "stream",
     "text": [
      "576 576\n",
      "282\n",
      "16\n",
      "16 16\n",
      "[[0, 0, 0, 0, 0, 0, 0, 0, 0, 0, 0, 0, 0, 0, 0, 0, 0, 1, 0, 0], [0, 0, 0, 0, 0, 0, 0, 0, 0, 0, 0, 0, 0, 0, 0, 0, 1, 0, 0, 0], [0, 0, 0, 0, 0, 0, 0, 0, 0, 0, 0, 0, 0, 0, 0, 1, 0, 0, 0, 0], [0, 0, 0, 0, 0, 0, 0, 0, 0, 0, 0, 0, 0, 0, 1, 0, 0, 0, 0, 0], [0, 0, 0, 0, 0, 0, 0, 0, 0, 0, 0, 0, 0, 1, 0, 0, 0, 0, 0, 0], [0, 0, 0, 0, 0, 0, 0, 0, 0, 0, 0, 0, 1, 0, 0, 0, 0, 0, 0, 0], [0, 0, 0, 0, 0, 0, 0, 0, 0, 0, 0, 1, 0, 0, 0, 0, 0, 0, 0, 0], [0, 0, 0, 0, 0, 0, 0, 0, 0, 0, 1, 0, 0, 0, 0, 0, 0, 0, 0, 0], [0, 0, 0, 0, 0, 0, 0, 0, 0, 1, 0, 0, 0, 0, 0, 0, 0, 0, 0, 0], [0, 0, 0, 0, 0, 0, 0, 0, 1, 0, 0, 0, 0, 0, 0, 0, 0, 0, 0, 0], [0, 0, 0, 0, 0, 0, 0, 1, 0, 0, 0, 0, 0, 0, 0, 0, 0, 0, 0, 0], [0, 0, 0, 0, 0, 0, 1, 0, 0, 0, 0, 0, 0, 0, 0, 0, 0, 0, 0, 0], [0, 0, 0, 0, 0, 1, 0, 0, 0, 0, 0, 0, 0, 0, 0, 0, 0, 0, 0, 0], [0, 0, 0, 0, 1, 0, 0, 0, 0, 0, 0, 0, 0, 0, 0, 0, 0, 0, 0, 0], [0, 0, 0, 1, 0, 0, 0, 0, 0, 0, 0, 0, 0, 0, 0, 0, 0, 0, 0, 0], [0, 0, 1, 0, 0, 0, 0, 0, 0, 0, 0, 0, 0, 0, 0, 0, 0, 0, 0, 0]]\n",
      "[2, 3, 4, 5, 6, 7, 8, 9, 10, 11, 12, 13, 14, 15, 16, 17]\n",
      "35\n",
      "Json file edited\n"
     ]
    },
    {
     "name": "stderr",
     "output_type": "stream",
     "text": [
      "514it [00:00, 5134.10it/s]"
     ]
    },
    {
     "name": "stdout",
     "output_type": "stream",
     "text": [
      "Parsed ../kickoff-data-corrected/58bc418b-cf05-415e-9dd1-6f4808535976.2.kickoff.rdb in 1.48 s.\n",
      "Contains keys: dict_keys(['right', 'left'])\n",
      "[right] start_ts: 1523297009328 | stop_ts: 1523297605968\n",
      "[left] start_ts: 1523297008806 | stop_ts: 1523297605726\n",
      "../kickoff-data-corrected/58bc418b-cf05-415e-9dd1-6f4808535976.json\n",
      "[{'kickoff_team_id': 8, 'type': 'start_phase', 'phase': 1, 'ts': '2018-04-09T17:00:56.973Z'}, {'type': 'end_phase', 'phase': 1, 'ts': '2018-04-09T17:47:19.651Z'}, {'kickoff_team_id': 10, 'type': 'start_phase', 'phase': 2, 'ts': '1970-01-01T00:00:00'}, {'type': 'end_phase', 'phase': 2, 'ts': '2018-04-09T18:57:31.075Z'}]\n",
      "0\n"
     ]
    },
    {
     "name": "stderr",
     "output_type": "stream",
     "text": [
      "14917it [00:05, 2637.30it/s]\n"
     ]
    },
    {
     "name": "stdout",
     "output_type": "stream",
     "text": [
      "0 0\n",
      "[]\n",
      "[]\n"
     ]
    }
   ],
   "source": [
    "create_dataset('../kickoff-data-corrected/data.pickle.1.10.mov.regression',10,\"regression\")"
   ]
  },
  {
   "cell_type": "code",
   "execution_count": 24,
   "metadata": {},
   "outputs": [],
   "source": [
    "import random\n",
    "\n",
    "def shuffle_data(X,Y):\n",
    "    shuffle_list=list()\n",
    "    shuffle_X=list()\n",
    "    shuffle_Y=list()\n",
    "    for i in range(len(Y)):\n",
    "        shuffle_list.append([X[i],Y[i]])\n",
    "    random.shuffle(shuffle_list)\n",
    "    for i in range(len(Y)):\n",
    "        shuffle_X.append(shuffle_list[i][0])\n",
    "        shuffle_Y.append(shuffle_list[i][1])\n",
    "    return shuffle_X,shuffle_Y\n",
    "\n",
    "def sequence_kickoff_time(Y):\n",
    "    kickoff_match_i=list()\n",
    "    kickoff_periods=list()\n",
    "    for i in range(len(Y)):\n",
    "        if Y[i]==-1 and len(kickoff_match_i)>0:\n",
    "            kickoff_periods.append(kickoff_match_i)\n",
    "            kickoff_match_i=list()\n",
    "        if Y[i]==1:\n",
    "            kickoff_match_i.append(i)\n",
    "    if len(kickoff_match_i)>0:\n",
    "        kickoff_periods.append(kickoff_match_i)\n",
    "    return kickoff_periods\n",
    "\n"
   ]
  },
  {
   "cell_type": "code",
   "execution_count": 25,
   "metadata": {},
   "outputs": [],
   "source": [
    "import sklearn\n",
    "def Roc_curves(clf,x_test,y_test,name_classifier,nbre_matches):    \n",
    "    %matplotlib inline\n",
    "    predict = clf.predict_proba(x_test)\n",
    "    fpr, tpr, thresholds= sklearn.metrics.roc_curve(y_test,predict[:, 1])\n",
    "    auc = sklearn.metrics.auc(fpr,tpr)\n",
    "    plt.plot(fpr, tpr, label=\"{1} classifier: area({0})\".format(auc,name_classifier))\n",
    "    plt.xlabel(\"False Positive rate\")\n",
    "    plt.ylabel(\"True Positive rate\")\n",
    "    plt.title(\"Receiver operating characteristic\")\n",
    "    plt.legend(bbox_to_anchor=(1.05, 1), loc=2, borderaxespad=0.)\n",
    "    plt.xlim([0,1])\n",
    "    plt.ylim([0,1])\n",
    "    plt.show()\n",
    "    "
   ]
  },
  {
   "cell_type": "code",
   "execution_count": 26,
   "metadata": {},
   "outputs": [],
   "source": [
    "from sklearn.ensemble import AdaBoostClassifier, GradientBoostingClassifier, RandomForestClassifier\n",
    "from sklearn.svm import SVC, LinearSVC\n",
    "from sklearn.neighbors import NearestNeighbors\n",
    "from sklearn.tree import DecisionTreeClassifier\n",
    "import datetime\n",
    "def cross_validation(X,Y,name_classifier,percentage_train,nbre_matches,indices,type_cross,roc_curve,nbre_trees,depth):\n",
    "    score_test=0\n",
    "    score_train=0\n",
    "    start=datetime.datetime.now()\n",
    "    for i in range(nbre_matches):\n",
    "        start_i=datetime.datetime.now()\n",
    "        #Create training and test datasets\n",
    "        x_train1=X[indices[i]:indices[min(i+int(nbre_matches*percentage_train),nbre_matches)]]+X[:indices[max(0,i+int(nbre_matches*percentage_train)-nbre_matches)]]\n",
    "        y_train1=Y[indices[i]:indices[min(i+int(nbre_matches*percentage_train),nbre_matches)]]+Y[:indices[max(0,i+int(nbre_matches*percentage_train)-nbre_matches)]]\n",
    "        x_test1=X[indices[min(i+int(nbre_matches*percentage_train),nbre_matches)]:]+X[indices[max(0,i+int(nbre_matches*percentage_train)-nbre_matches)]:indices[i]]\n",
    "        y_test1=Y[indices[min(i+int(nbre_matches*percentage_train),nbre_matches)]:]+Y[indices[max(0,i+int(nbre_matches*percentage_train)-nbre_matches)]:indices[i]]\n",
    "        \n",
    "        #Cross_validation kickoff\n",
    "        if type_cross==\"kickoff\":\n",
    "            kickoff_indices=sequence_kickoff_time(y_test1)\n",
    "            x_test2=list()\n",
    "            y_test2=list()\n",
    "            for j in range(len(kickoff_indices)):\n",
    "                y_test2=y_test2+y_test1[kickoff_indices[j][0]:kickoff_indices[j][-1]+1]\n",
    "                x_test2=x_test2+x_test1[kickoff_indices[j][0]:kickoff_indices[j][-1]+1]\n",
    "            y_test=y_test2\n",
    "            x_test=x_test2\n",
    "        \n",
    "        if type_cross==\"no kickoff\":\n",
    "            kickoff_indices=sequence_kickoff_time(y_test1)\n",
    "            x_test2=list()\n",
    "            y_test2=list()\n",
    "            for j in range(len(kickoff_indices)):\n",
    "                if j==0:\n",
    "                    y_test2=y_test1[:kickoff_indices[j][0]]\n",
    "                    x_test2=x_test1[:kickoff_indices[j][0]]\n",
    "                if j>0:\n",
    "                    y_test2=y_test2+y_test1[kickoff_indices[j-1][-1]+1:kickoff_indices[j][0]]\n",
    "                    x_test2=x_test2+x_test1[kickoff_indices[j-1][-1]+1:kickoff_indices[j][0]]\n",
    "                if j==len(kickoff_indices)-1:\n",
    "                    y_test2=y_test2+y_test1[kickoff_indices[j][-1]+1:]\n",
    "                    x_test2=x_test2+x_test1[kickoff_indices[j][-1]+1:]\n",
    "            y_test=y_test2\n",
    "            x_test=x_test2\n",
    "            \n",
    "        #Shuffle data\n",
    "        x_train,y_train=shuffle_data(x_train1,y_train1)\n",
    "        #x_test,y_test=shuffle_data(x_test1,y_test1)\n",
    "        \n",
    "        #Training classifier\n",
    "        if name_classifier=='adaboost':\n",
    "            clf=AdaBoostClassifier()\n",
    "            clf.fit(x_train,y_train)\n",
    "        if name_classifier=='gradaboost':\n",
    "            clf=GradientBoostingClassifier()\n",
    "            clf.fit(x_train,y_train)\n",
    "        if name_classifier=='svm':\n",
    "            clf=SVC()\n",
    "            clf.fit(x_train,y_train)\n",
    "        if name_classifier=='linear_svm':\n",
    "            clf=LinearSVC()\n",
    "            clf.fit(x_train,y_train)\n",
    "        if name_classifier=='knn':\n",
    "            clf=NearestNeighbors()\n",
    "            clf.fit(x_train,y_train)\n",
    "        if name_classifier=='tree':\n",
    "            clf=DecisionTreeClassifier(max_depth=3)\n",
    "            clf.fit(x_train,y_train)\n",
    "        if name_classifier=='forest':\n",
    "            clf=RandomForestClassifier(n_estimators=nbre_trees,max_depth=depth)\n",
    "            clf.fit(x_train,y_train)\n",
    "        end_i=datetime.datetime.now()\n",
    "        #Test\n",
    "        #print(clf.predict(x_test)*np.array(y_test))\n",
    "        if roc_curve==\"\":\n",
    "            score_test+=clf.score(x_test,y_test)\n",
    "            score_train+=clf.score(x_train,y_train)\n",
    "            print(\"Score for training for iteration {0} is {1}\".format(i,clf.score(x_train,y_train)))\n",
    "            print(\"Score for testing for iteration {0} is {1}\".format(i,clf.score(x_test,y_test)))\n",
    "            print(\"Training time: {0}\".format(end_i-start_i))\n",
    "            print(\"\\n\")\n",
    "        \n",
    "        #Roc_curves\n",
    "        if roc_curve==\"roc\":\n",
    "            print(\"Roc curve for testing for iteration {0}\".format(i))\n",
    "            Roc_curves(clf,x_test,y_test,name_classifier,nbre_matches)\n",
    "            print(\"Roc curve for training for iteration {0}\".format(i))\n",
    "            Roc_curves(clf,x_train,y_train,name_classifier,nbre_matches)\n",
    "            print(\"Training time: {0}\".format(end_i-start_i))\n",
    "            print(\"\\n\")\n",
    "    \n",
    "    end=datetime.datetime.now()\n",
    "    if roc_curve==\"\":\n",
    "        print(\"Final Score train: {0}\".format(score_train/nbre_matches))\n",
    "        print(\"Final Score test: {0}\".format(score_test/nbre_matches))\n",
    "    print(\"Cross validation time: {0}\".format(end-start))\n",
    "    return score_test/nbre_matches\n",
    "        \n",
    "        \n",
    "        \n",
    "def Classification(dataset,percentage_train,name_classifier,nbre_matches,nbre_trees,depth,type_cross=\"\",roc_curve=\"\"):\n",
    "    #Create inputs\n",
    "    X=list()\n",
    "    Y=list()\n",
    "    indices=[0]\n",
    "    with open(dataset, 'rb') as f:\n",
    "        for i in range(nbre_matches):\n",
    "            data = pickle.load(f)\n",
    "            X=X+data[0]\n",
    "            Y=Y+data[1]\n",
    "            indices.append(len(Y))\n",
    "    return cross_validation(X,Y,name_classifier,percentage_train,nbre_matches,indices,type_cross,roc_curve,nbre_trees,depth)\n",
    "\n",
    "    \n",
    "\n"
   ]
  },
  {
   "cell_type": "code",
   "execution_count": 58,
   "metadata": {},
   "outputs": [
    {
     "name": "stdout",
     "output_type": "stream",
     "text": [
      "Final Score train: 0.9626302500738453\n",
      "Final Score test: 0.573469387755102\n",
      "Cross validation time: 0:00:06.755823\n",
      "3 7 0.573469387755102\n",
      "Final Score train: 0.9690251891915238\n",
      "Final Score test: 0.6244897959183674\n",
      "Cross validation time: 0:00:06.823646\n",
      "3 8 0.6244897959183674\n",
      "Final Score train: 0.9735411005862153\n",
      "Final Score test: 0.6414965986394559\n",
      "Cross validation time: 0:00:06.654025\n",
      "3 9 0.6414965986394559\n",
      "Final Score train: 0.9780331126301284\n",
      "Final Score test: 0.5884353741496599\n",
      "Cross validation time: 0:00:06.702003\n",
      "3 10 0.5884353741496599\n",
      "Final Score train: 0.9811323499409288\n",
      "Final Score test: 0.5585034013605441\n",
      "Cross validation time: 0:00:06.586648\n",
      "3 11 0.5585034013605441\n",
      "Final Score train: 0.9817915867573549\n",
      "Final Score test: 0.6183673469387755\n",
      "Cross validation time: 0:00:06.755612\n",
      "3 12 0.6183673469387755\n",
      "Final Score train: 0.9815231118261112\n",
      "Final Score test: 0.6129251700680273\n",
      "Cross validation time: 0:00:06.794126\n",
      "3 13 0.6129251700680273\n",
      "Final Score train: 0.9832319091967943\n",
      "Final Score test: 0.6122448979591837\n",
      "Cross validation time: 0:00:06.902094\n",
      "3 14 0.6122448979591837\n",
      "Final Score train: 0.9835003208187353\n",
      "Final Score test: 0.535374149659864\n",
      "Cross validation time: 0:00:06.902081\n",
      "3 15 0.535374149659864\n",
      "Final Score train: 0.983988450062894\n",
      "Final Score test: 0.5068027210884353\n",
      "Cross validation time: 0:00:07.066223\n",
      "3 16 0.5068027210884353\n",
      "Final Score train: 0.9834021612927655\n",
      "Final Score test: 0.5149659863945578\n",
      "Cross validation time: 0:00:06.987291\n",
      "3 17 0.5149659863945578\n",
      "Final Score train: 0.9834025990130716\n",
      "Final Score test: 0.595918367346939\n",
      "Cross validation time: 0:00:06.800929\n",
      "3 18 0.595918367346939\n",
      "Final Score train: 0.9843541671224029\n",
      "Final Score test: 0.5537414965986395\n",
      "Cross validation time: 0:00:06.961757\n",
      "3 19 0.5537414965986395\n",
      "Final Score train: 0.9836952222974494\n",
      "Final Score test: 0.5748299319727891\n",
      "Cross validation time: 0:00:07.060637\n",
      "3 20 0.5748299319727891\n",
      "Final Score train: 0.9840371027816777\n",
      "Final Score test: 0.5585034013605442\n",
      "Cross validation time: 0:00:06.742806\n",
      "3 21 0.5585034013605442\n",
      "Final Score train: 0.9835980841900346\n",
      "Final Score test: 0.6333333333333334\n",
      "Cross validation time: 0:00:06.685602\n",
      "3 22 0.6333333333333334\n",
      "Final Score train: 0.9832805408124768\n",
      "Final Score test: 0.5700680272108843\n",
      "Cross validation time: 0:00:06.925685\n",
      "3 23 0.5700680272108843\n",
      "Final Score train: 0.9842807817828437\n",
      "Final Score test: 0.5999999999999999\n",
      "Cross validation time: 0:00:06.999871\n",
      "3 24 0.5999999999999999\n",
      "Final Score train: 0.9687569656469667\n",
      "Final Score test: 0.4387755102040816\n",
      "Cross validation time: 0:00:06.937647\n",
      "4 7 0.4387755102040816\n",
      "Final Score train: 0.9766413385327528\n",
      "Final Score test: 0.5367346938775511\n",
      "Cross validation time: 0:00:07.066546\n",
      "4 8 0.5367346938775511\n",
      "Final Score train: 0.9773498316593536\n",
      "Final Score test: 0.4768707482993196\n",
      "Cross validation time: 0:00:06.890624\n",
      "4 9 0.4768707482993196\n",
      "Final Score train: 0.9808877956414993\n",
      "Final Score test: 0.4850340136054421\n",
      "Cross validation time: 0:00:06.859464\n",
      "4 10 0.4850340136054421\n",
      "Final Score train: 0.9815475112812356\n",
      "Final Score test: 0.47551020408163275\n",
      "Cross validation time: 0:00:06.963895\n",
      "4 11 0.47551020408163275\n",
      "Final Score train: 0.9817183056521677\n",
      "Final Score test: 0.3843537414965987\n",
      "Cross validation time: 0:00:07.027257\n",
      "4 12 0.3843537414965987\n",
      "Final Score train: 0.9821335082022397\n",
      "Final Score test: 0.416326530612245\n",
      "Cross validation time: 0:00:06.902388\n",
      "4 13 0.416326530612245\n",
      "Final Score train: 0.9825722767239159\n",
      "Final Score test: 0.4061224489795918\n",
      "Cross validation time: 0:00:07.161175\n",
      "4 14 0.4061224489795918\n",
      "Final Score train: 0.9819868839992824\n",
      "Final Score test: 0.37210884353741486\n",
      "Cross validation time: 0:00:07.005925\n",
      "4 15 0.37210884353741486\n",
      "Final Score train: 0.9821574073394952\n",
      "Final Score test: 0.44489795918367353\n",
      "Cross validation time: 0:00:06.849816\n",
      "4 16 0.44489795918367353\n",
      "Final Score train: 0.9814743765454484\n",
      "Final Score test: 0.35850340136054426\n",
      "Cross validation time: 0:00:06.966382\n",
      "4 17 0.35850340136054426\n",
      "Final Score train: 0.9827919526737371\n",
      "Final Score test: 0.31972789115646266\n",
      "Cross validation time: 0:00:06.963086\n",
      "4 18 0.31972789115646266\n",
      "Final Score train: 0.9827918693289439\n",
      "Final Score test: 0.4904761904761906\n",
      "Cross validation time: 0:00:07.126044\n",
      "4 19 0.4904761904761906\n",
      "Final Score train: 0.9822060178876646\n",
      "Final Score test: 0.3870748299319729\n",
      "Cross validation time: 0:00:07.062514\n",
      "4 20 0.3870748299319729\n",
      "Final Score train: 0.9809620769553791\n",
      "Final Score test: 0.32517006802721077\n",
      "Cross validation time: 0:00:06.921054\n",
      "4 21 0.32517006802721077\n",
      "Final Score train: 0.9825232491314978\n",
      "Final Score test: 0.35578231292517004\n",
      "Cross validation time: 0:00:06.883612\n",
      "4 22 0.35578231292517004\n",
      "Final Score train: 0.9807908661451762\n",
      "Final Score test: 0.3238095238095238\n",
      "Cross validation time: 0:00:07.487372\n",
      "4 23 0.3238095238095238\n",
      "Final Score train: 0.9817427677048544\n",
      "Final Score test: 0.4666666666666666\n",
      "Cross validation time: 0:00:07.486679\n",
      "4 24 0.4666666666666666\n",
      "Final Score train: 0.9771059028729171\n",
      "Final Score test: 0.5591836734693876\n",
      "Cross validation time: 0:00:07.239207\n",
      "5 7 0.5591836734693876\n",
      "Final Score train: 0.9818894336157955\n",
      "Final Score test: 0.6156462585034014\n",
      "Cross validation time: 0:00:07.178212\n",
      "5 8 0.6156462585034014\n",
      "Final Score train: 0.9866004547444233\n",
      "Final Score test: 0.6428571428571428\n",
      "Cross validation time: 0:00:07.379543\n",
      "5 9 0.6428571428571428\n",
      "Final Score train: 0.988357758073033\n",
      "Final Score test: 0.5340136054421768\n",
      "Cross validation time: 0:00:07.487561\n",
      "5 10 0.5340136054421768\n",
      "Final Score train: 0.9896995666109898\n",
      "Final Score test: 0.6299319727891156\n",
      "Cross validation time: 0:00:07.281340\n",
      "5 11 0.6299319727891156\n",
      "Final Score train: 0.9910662745304823\n",
      "Final Score test: 0.5986394557823131\n",
      "Cross validation time: 0:00:07.373559\n",
      "5 12 0.5986394557823131\n",
      "Final Score train: 0.9925798993561445\n",
      "Final Score test: 0.5863945578231294\n",
      "Cross validation time: 0:00:07.421060\n",
      "5 13 0.5863945578231294\n",
      "Final Score train: 0.9918474860959478\n",
      "Final Score test: 0.5428571428571429\n",
      "Cross validation time: 0:00:07.347308\n",
      "5 14 0.5428571428571429\n",
      "Final Score train: 0.9920182385809618\n",
      "Final Score test: 0.5414965986394558\n",
      "Cross validation time: 0:00:07.167219\n",
      "5 15 0.5414965986394558\n",
      "Final Score train: 0.9936297306564255\n",
      "Final Score test: 0.5802721088435372\n",
      "Cross validation time: 0:00:07.289003\n",
      "5 16 0.5802721088435372\n",
      "Final Score train: 0.992823807608872\n",
      "Final Score test: 0.5292517006802722\n",
      "Cross validation time: 0:00:07.160255\n",
      "5 17 0.5292517006802722\n",
      "Final Score train: 0.9928484570272023\n",
      "Final Score test: 0.5564625850340136\n",
      "Cross validation time: 0:00:06.999947\n",
      "5 18 0.5564625850340136\n",
      "Final Score train: 0.9931905040230818\n",
      "Final Score test: 0.5598639455782314\n",
      "Cross validation time: 0:00:07.312507\n",
      "5 19 0.5598639455782314\n",
      "Final Score train: 0.9939226667862674\n",
      "Final Score test: 0.6149659863945579\n",
      "Cross validation time: 0:00:07.467057\n",
      "5 20 0.6149659863945579\n",
      "Final Score train: 0.993922416573953\n",
      "Final Score test: 0.553061224489796\n",
      "Cross validation time: 0:00:07.159420\n",
      "5 21 0.553061224489796\n",
      "Final Score train: 0.99336077679511\n",
      "Final Score test: 0.5319727891156462\n",
      "Cross validation time: 0:00:07.190024\n",
      "5 22 0.5319727891156462\n",
      "Final Score train: 0.9931169729902767\n",
      "Final Score test: 0.5918367346938774\n",
      "Cross validation time: 0:00:07.257871\n",
      "5 23 0.5918367346938774\n",
      "Final Score train: 0.9933854471030189\n",
      "Final Score test: 0.5360544217687075\n",
      "Cross validation time: 0:00:07.150025\n",
      "5 24 0.5360544217687075\n",
      "Final Score train: 0.9786428419988021\n",
      "Final Score test: 0.5687074829931973\n",
      "Cross validation time: 0:00:07.200782\n",
      "6 7 0.5687074829931973\n",
      "Final Score train: 0.9842320669647157\n",
      "Final Score test: 0.5142857142857143\n",
      "Cross validation time: 0:00:07.567165\n",
      "6 8 0.5142857142857143\n",
      "Final Score train: 0.9879673712038338\n",
      "Final Score test: 0.585034013605442\n",
      "Cross validation time: 0:00:07.406286\n",
      "6 9 0.585034013605442\n",
      "Final Score train: 0.9911151357535971\n",
      "Final Score test: 0.5095238095238095\n",
      "Cross validation time: 0:00:07.471553\n",
      "6 10 0.5095238095238095\n",
      "Final Score train: 0.9905783327943151\n",
      "Final Score test: 0.4727891156462585\n",
      "Cross validation time: 0:00:07.590238\n",
      "6 11 0.4727891156462585\n",
      "Final Score train: 0.9914813524548212\n",
      "Final Score test: 0.46530612244897956\n",
      "Cross validation time: 0:00:07.567619\n",
      "6 12 0.46530612244897956\n"
     ]
    },
    {
     "name": "stdout",
     "output_type": "stream",
     "text": [
      "Final Score train: 0.991993922826501\n",
      "Final Score test: 0.4727891156462585\n",
      "Cross validation time: 0:00:07.410378\n",
      "6 13 0.4727891156462585\n",
      "Final Score train: 0.9916765041814368\n",
      "Final Score test: 0.4272108843537414\n",
      "Cross validation time: 0:00:07.741947\n",
      "6 14 0.4272108843537414\n",
      "Final Score train: 0.9909930354891486\n",
      "Final Score test: 0.4741496598639456\n",
      "Cross validation time: 0:00:07.618854\n",
      "6 15 0.4741496598639456\n",
      "Final Score train: 0.9918232536862803\n",
      "Final Score test: 0.4591836734693878\n",
      "Cross validation time: 0:00:07.303271\n",
      "6 16 0.4591836734693878\n",
      "Final Score train: 0.9931412885668022\n",
      "Final Score test: 0.42925170068027213\n",
      "Cross validation time: 0:00:07.411159\n",
      "6 17 0.42925170068027213\n",
      "Final Score train: 0.9917746431025244\n",
      "Final Score test: 0.4734693877551021\n",
      "Cross validation time: 0:00:07.386417\n",
      "6 18 0.4734693877551021\n",
      "Final Score train: 0.99189632635831\n",
      "Final Score test: 0.44693877551020406\n",
      "Cross validation time: 0:00:07.599496\n",
      "6 19 0.44693877551020406\n",
      "Final Score train: 0.9920185930276487\n",
      "Final Score test: 0.4272108843537414\n",
      "Cross validation time: 0:00:07.278383\n",
      "6 20 0.4272108843537414\n",
      "Final Score train: 0.9920183013564594\n",
      "Final Score test: 0.3761904761904762\n",
      "Cross validation time: 0:00:07.393826\n",
      "6 21 0.3761904761904762\n",
      "Final Score train: 0.9919209339618957\n",
      "Final Score test: 0.4482993197278912\n",
      "Cross validation time: 0:00:07.518375\n",
      "6 22 0.4482993197278912\n",
      "Final Score train: 0.9921649672318131\n",
      "Final Score test: 0.4258503401360544\n",
      "Cross validation time: 0:00:07.640977\n",
      "6 23 0.4258503401360544\n",
      "Final Score train: 0.9917256984990293\n",
      "Final Score test: 0.4884353741496599\n",
      "Cross validation time: 0:00:07.429738\n",
      "6 24 0.4884353741496599\n",
      "Final Score train: 0.9837933822504636\n",
      "Final Score test: 0.6639455782312925\n",
      "Cross validation time: 0:00:07.460656\n",
      "7 7 0.6639455782312925\n",
      "Final Score train: 0.987893005904594\n",
      "Final Score test: 0.5455782312925168\n",
      "Cross validation time: 0:00:07.457535\n",
      "7 8 0.5455782312925168\n",
      "Final Score train: 0.9906765343841384\n",
      "Final Score test: 0.6557823129251701\n",
      "Cross validation time: 0:00:07.650265\n",
      "7 9 0.6557823129251701\n",
      "Final Score train: 0.9925557292949301\n",
      "Final Score test: 0.6551020408163265\n",
      "Cross validation time: 0:00:07.729599\n",
      "7 10 0.6551020408163265\n",
      "Final Score train: 0.9937515182533442\n",
      "Final Score test: 0.5755102040816327\n",
      "Cross validation time: 0:00:07.658283\n",
      "7 11 0.5755102040816327\n",
      "Final Score train: 0.9955573698528438\n",
      "Final Score test: 0.5775510204081633\n",
      "Cross validation time: 0:00:07.625204\n",
      "7 12 0.5775510204081633\n",
      "Final Score train: 0.9953382359288747\n",
      "Final Score test: 0.5163265306122449\n",
      "Cross validation time: 0:00:07.622988\n",
      "7 13 0.5163265306122449\n",
      "Final Score train: 0.9960457910528884\n",
      "Final Score test: 0.5455782312925169\n",
      "Cross validation time: 0:00:07.854476\n",
      "7 14 0.5455782312925169\n",
      "Final Score train: 0.9966561456498586\n",
      "Final Score test: 0.5115646258503401\n",
      "Cross validation time: 0:00:07.473742\n",
      "7 15 0.5115646258503401\n",
      "Final Score train: 0.9962897201951949\n",
      "Final Score test: 0.6149659863945579\n",
      "Cross validation time: 0:00:07.549161\n",
      "7 16 0.6149659863945579\n",
      "Final Score train: 0.9965586740209227\n",
      "Final Score test: 0.5782312925170068\n",
      "Cross validation time: 0:00:07.409936\n",
      "7 17 0.5782312925170068\n",
      "Final Score train: 0.9969734601317246\n",
      "Final Score test: 0.5585034013605441\n",
      "Cross validation time: 0:00:07.849767\n",
      "7 18 0.5585034013605441\n",
      "Final Score train: 0.9969004917652406\n",
      "Final Score test: 0.5612244897959184\n",
      "Cross validation time: 0:00:07.590038\n",
      "7 19 0.5612244897959184\n",
      "Final Score train: 0.9966314129579098\n",
      "Final Score test: 0.5537414965986395\n",
      "Cross validation time: 0:00:07.483220\n",
      "7 20 0.5537414965986395\n",
      "Final Score train: 0.9966071388402582\n",
      "Final Score test: 0.6183673469387757\n",
      "Cross validation time: 0:00:07.470709\n",
      "7 21 0.6183673469387757\n",
      "Final Score train: 0.9968756757284987\n",
      "Final Score test: 0.5952380952380952\n",
      "Cross validation time: 0:00:07.531284\n",
      "7 22 0.5952380952380952\n",
      "Final Score train: 0.9967537631499767\n",
      "Final Score test: 0.6319727891156464\n",
      "Cross validation time: 0:00:07.594417\n",
      "7 23 0.6319727891156464\n",
      "Final Score train: 0.9971441290940102\n",
      "Final Score test: 0.6034013605442178\n",
      "Cross validation time: 0:00:07.614248\n",
      "7 24 0.6034013605442178\n",
      "Final Score train: 0.9854771544039199\n",
      "Final Score test: 0.5714285714285714\n",
      "Cross validation time: 0:00:07.877671\n",
      "8 7 0.5714285714285714\n",
      "Final Score train: 0.9886986791668769\n",
      "Final Score test: 0.601360544217687\n",
      "Cross validation time: 0:00:07.738288\n",
      "8 8 0.601360544217687\n",
      "Final Score train: 0.9927995334556339\n",
      "Final Score test: 0.6312925170068028\n",
      "Cross validation time: 0:00:07.955905\n",
      "8 9 0.6312925170068028\n",
      "Final Score train: 0.9949229079345693\n",
      "Final Score test: 0.5108843537414965\n",
      "Cross validation time: 0:00:07.935975\n",
      "8 10 0.5108843537414965\n",
      "Final Score train: 0.9947521970507777\n",
      "Final Score test: 0.6210884353741497\n",
      "Cross validation time: 0:00:07.726946\n",
      "8 11 0.6210884353741497\n",
      "Final Score train: 0.994898821324909\n",
      "Final Score test: 0.5428571428571427\n",
      "Cross validation time: 0:00:07.858342\n",
      "8 12 0.5428571428571427\n",
      "Final Score train: 0.9956798450265136\n",
      "Final Score test: 0.49387755102040815\n",
      "Cross validation time: 0:00:07.817916\n",
      "8 13 0.49387755102040815\n",
      "Final Score train: 0.9961680162633522\n",
      "Final Score test: 0.4598639455782313\n",
      "Cross validation time: 0:00:07.937811\n",
      "8 14 0.4598639455782313\n",
      "Final Score train: 0.9959239620682686\n",
      "Final Score test: 0.46530612244897956\n",
      "Cross validation time: 0:00:07.915119\n",
      "8 15 0.46530612244897956\n",
      "Final Score train: 0.996533899656577\n",
      "Final Score test: 0.4782312925170068\n",
      "Cross validation time: 0:00:08.091245\n",
      "8 16 0.4782312925170068\n",
      "Final Score train: 0.9963145572994508\n",
      "Final Score test: 0.4591836734693877\n",
      "Cross validation time: 0:00:07.802917\n",
      "8 17 0.4591836734693877\n",
      "Final Score train: 0.9955821026159672\n",
      "Final Score test: 0.4952380952380951\n",
      "Cross validation time: 0:00:07.851871\n",
      "8 18 0.4952380952380951\n",
      "Final Score train: 0.9958504934550904\n",
      "Final Score test: 0.4578231292517007\n",
      "Cross validation time: 0:00:07.764944\n",
      "8 19 0.4578231292517007\n",
      "Final Score train: 0.9957042234497109\n",
      "Final Score test: 0.42040816326530606\n",
      "Cross validation time: 0:00:07.663775\n",
      "8 20 0.42040816326530606\n",
      "Final Score train: 0.9956066683692207\n",
      "Final Score test: 0.5061224489795918\n",
      "Cross validation time: 0:00:08.000337\n",
      "8 21 0.5061224489795918\n",
      "Final Score train: 0.996240942743917\n",
      "Final Score test: 0.491156462585034\n",
      "Cross validation time: 0:00:07.837695\n",
      "8 22 0.491156462585034\n",
      "Final Score train: 0.9962656964322063\n",
      "Final Score test: 0.3884353741496598\n",
      "Cross validation time: 0:00:07.947304\n",
      "8 23 0.3884353741496598\n",
      "Final Score train: 0.9967049023539057\n",
      "Final Score test: 0.3741496598639455\n",
      "Cross validation time: 0:00:07.788880\n",
      "8 24 0.3741496598639455\n",
      "Final Score train: 0.9855993795076229\n",
      "Final Score test: 0.5421768707482993\n",
      "Cross validation time: 0:00:07.771615\n",
      "9 7 0.5421768707482993\n",
      "Final Score train: 0.9908715605953463\n",
      "Final Score test: 0.5748299319727892\n",
      "Cross validation time: 0:00:07.646051\n",
      "9 8 0.5748299319727892\n",
      "Final Score train: 0.9934339119579414\n",
      "Final Score test: 0.6217687074829931\n",
      "Cross validation time: 0:00:07.704941\n",
      "9 9 0.6217687074829931\n",
      "Final Score train: 0.995630713128549\n",
      "Final Score test: 0.6142857142857142\n",
      "Cross validation time: 0:00:07.721439\n",
      "9 10 0.6142857142857142\n",
      "Final Score train: 0.9968024365092303\n",
      "Final Score test: 0.5877551020408163\n",
      "Cross validation time: 0:00:08.097373\n",
      "9 11 0.5877551020408163\n",
      "Final Score train: 0.9968024365092305\n",
      "Final Score test: 0.5993197278911566\n",
      "Cross validation time: 0:00:08.019356\n",
      "9 12 0.5993197278911566\n",
      "Final Score train: 0.9974615060310902\n",
      "Final Score test: 0.5972789115646261\n",
      "Cross validation time: 0:00:07.846497\n",
      "9 13 0.5972789115646261\n",
      "Final Score train: 0.9977058730716379\n",
      "Final Score test: 0.5734693877551021\n",
      "Cross validation time: 0:00:07.927777\n",
      "9 14 0.5734693877551021\n",
      "Final Score train: 0.9979742847647531\n",
      "Final Score test: 0.5693877551020406\n",
      "Cross validation time: 0:00:07.863151\n",
      "9 15 0.5693877551020406\n",
      "Final Score train: 0.9977543170013943\n",
      "Final Score test: 0.5462585034013605\n",
      "Cross validation time: 0:00:07.789248\n",
      "9 16 0.5462585034013605\n",
      "Final Score train: 0.9979496354887709\n",
      "Final Score test: 0.5455782312925171\n",
      "Cross validation time: 0:00:07.966839\n",
      "9 17 0.5455782312925171\n",
      "Final Score train: 0.9981694156729644\n",
      "Final Score test: 0.5482993197278911\n",
      "Cross validation time: 0:00:08.112759\n",
      "9 18 0.5482993197278911\n"
     ]
    },
    {
     "name": "stdout",
     "output_type": "stream",
     "text": [
      "Final Score train: 0.9979983921216439\n",
      "Final Score test: 0.5353741496598641\n",
      "Cross validation time: 0:00:08.165179\n",
      "9 19 0.5353741496598641\n",
      "Final Score train: 0.9984134282668252\n",
      "Final Score test: 0.5326530612244897\n",
      "Cross validation time: 0:00:08.085104\n",
      "9 20 0.5326530612244897\n",
      "Final Score train: 0.9985355909153136\n",
      "Final Score test: 0.5319727891156462\n",
      "Cross validation time: 0:00:08.120862\n",
      "9 21 0.5319727891156462\n",
      "Final Score train: 0.9983159149299053\n",
      "Final Score test: 0.5761904761904761\n",
      "Cross validation time: 0:00:07.911419\n",
      "9 22 0.5761904761904761\n",
      "Final Score train: 0.9980716104869203\n",
      "Final Score test: 0.5278911564625851\n",
      "Cross validation time: 0:00:07.932974\n",
      "9 23 0.5278911564625851\n",
      "Final Score train: 0.9980960722193237\n",
      "Final Score test: 0.5965986394557825\n",
      "Cross validation time: 0:00:07.849408\n",
      "9 24 0.5965986394557825\n"
     ]
    }
   ],
   "source": [
    "optimal_values=list()\n",
    "score_max=0\n",
    "for k in range(3,10):\n",
    "    for dep in range(7,25):\n",
    "        new_score=Classification('../kickoff-data-corrected/data.pickle.1.10.acc.classif3',0.99,'forest',35,k,dep,\"kickoff\")\n",
    "        print(k,dep,new_score)\n",
    "        if new_score>score_max:\n",
    "            score_max=new_score\n",
    "            optimal_values=[k,dep]\n",
    "            "
   ]
  },
  {
   "cell_type": "code",
   "execution_count": 60,
   "metadata": {},
   "outputs": [
    {
     "data": {
      "text/plain": [
       "0.6639455782312925"
      ]
     },
     "execution_count": 60,
     "metadata": {},
     "output_type": "execute_result"
    }
   ],
   "source": [
    "score_max\n"
   ]
  },
  {
   "cell_type": "code",
   "execution_count": 47,
   "metadata": {},
   "outputs": [
    {
     "name": "stdout",
     "output_type": "stream",
     "text": [
      "Score for training for iteration 0 is 0.966339723584485\n",
      "Score for testing for iteration 0 is 0.0\n",
      "Training time: 0:00:06.242749\n",
      "\n",
      "\n",
      "Score for training for iteration 1 is 0.9679001337494427\n",
      "Score for testing for iteration 1 is 0.9324324324324325\n",
      "Training time: 0:00:04.104538\n",
      "\n",
      "\n",
      "Score for training for iteration 2 is 0.9676772180115916\n",
      "Score for testing for iteration 2 is 1.0\n",
      "Training time: 0:00:04.049393\n",
      "\n",
      "\n",
      "Score for training for iteration 3 is 0.9665626393223361\n",
      "Score for testing for iteration 3 is 1.0\n",
      "Training time: 0:00:04.190078\n",
      "\n",
      "\n",
      "Score for training for iteration 4 is 0.9692376281765492\n",
      "Score for testing for iteration 4 is 1.0\n",
      "Training time: 0:00:04.242509\n",
      "\n",
      "\n",
      "Score for training for iteration 5 is 0.9661243592600847\n",
      "Score for testing for iteration 5 is 1.0\n",
      "Training time: 0:00:04.227601\n",
      "\n",
      "\n",
      "Score for training for iteration 6 is 0.9679001337494427\n",
      "Score for testing for iteration 6 is 0.14864864864864866\n",
      "Training time: 0:00:04.036199\n",
      "\n",
      "\n",
      "Score for training for iteration 7 is 0.9647793134195274\n",
      "Score for testing for iteration 7 is 1.0\n",
      "Training time: 0:00:04.105457\n",
      "\n",
      "\n",
      "Score for training for iteration 8 is 0.9703522068658047\n",
      "Score for testing for iteration 8 is 1.0\n",
      "Training time: 0:00:04.103088\n",
      "\n",
      "\n",
      "Score for training for iteration 9 is 0.9696834596522514\n",
      "Score for testing for iteration 9 is 1.0\n",
      "Training time: 0:00:04.218618\n",
      "\n",
      "\n",
      "Score for training for iteration 10 is 0.9665626393223361\n",
      "Score for testing for iteration 10 is 1.0\n",
      "Training time: 0:00:04.118580\n",
      "\n",
      "\n",
      "Score for training for iteration 11 is 0.9714667855550602\n",
      "Score for testing for iteration 11 is 1.0\n",
      "Training time: 0:00:04.055743\n",
      "\n",
      "\n",
      "Score for training for iteration 12 is 0.9681230494872938\n",
      "Score for testing for iteration 12 is 1.0\n",
      "Training time: 0:00:04.125538\n",
      "\n",
      "\n",
      "Score for training for iteration 13 is 0.9723584485064646\n",
      "Score for testing for iteration 13 is 1.0\n",
      "Training time: 0:00:04.115482\n",
      "\n",
      "\n",
      "Score for training for iteration 14 is 0.9623272403031654\n",
      "Score for testing for iteration 14 is 0.8648648648648649\n",
      "Training time: 0:00:04.121750\n",
      "\n",
      "\n",
      "Score for training for iteration 15 is 0.9663472253175841\n",
      "Score for testing for iteration 15 is 1.0\n",
      "Training time: 0:00:04.054859\n",
      "\n",
      "\n",
      "Score for training for iteration 16 is 0.966116807846634\n",
      "Score for testing for iteration 16 is 1.0\n",
      "Training time: 0:00:04.072022\n",
      "\n",
      "\n",
      "Score for training for iteration 17 is 0.9692376281765492\n",
      "Score for testing for iteration 17 is 1.0\n",
      "Training time: 0:00:04.075279\n",
      "\n",
      "\n",
      "Score for training for iteration 18 is 0.9670084707980383\n",
      "Score for testing for iteration 18 is 1.0\n",
      "Training time: 0:00:04.163504\n",
      "\n",
      "\n",
      "Score for training for iteration 19 is 0.9681230494872938\n",
      "Score for testing for iteration 19 is 1.0\n",
      "Training time: 0:00:04.102220\n",
      "\n",
      "\n",
      "Score for training for iteration 20 is 0.9696834596522514\n",
      "Score for testing for iteration 20 is 0.7702702702702703\n",
      "Training time: 0:00:04.111527\n",
      "\n",
      "\n",
      "Score for training for iteration 21 is 0.9672313865358895\n",
      "Score for testing for iteration 21 is 1.0\n",
      "Training time: 0:00:04.095063\n",
      "\n",
      "\n",
      "Score for training for iteration 22 is 0.9699063753901025\n",
      "Score for testing for iteration 22 is 1.0\n",
      "Training time: 0:00:04.149657\n",
      "\n",
      "\n",
      "Score for training for iteration 23 is 0.968791796700847\n",
      "Score for testing for iteration 23 is 1.0\n",
      "Training time: 0:00:04.088042\n",
      "\n",
      "\n",
      "Score for training for iteration 24 is 0.9692376281765492\n",
      "Score for testing for iteration 24 is 0.0\n",
      "Training time: 0:00:04.083095\n",
      "\n",
      "\n",
      "Score for training for iteration 25 is 0.9694605439144004\n",
      "Score for testing for iteration 25 is 0.8648648648648649\n",
      "Training time: 0:00:04.141728\n",
      "\n",
      "\n",
      "Score for training for iteration 26 is 0.9670084707980383\n",
      "Score for testing for iteration 26 is 1.0\n",
      "Training time: 0:00:04.132195\n",
      "\n",
      "\n",
      "Score for training for iteration 27 is 0.9676772180115916\n",
      "Score for testing for iteration 27 is 1.0\n",
      "Training time: 0:00:04.108713\n",
      "\n",
      "\n",
      "Score for training for iteration 28 is 0.9701292911279537\n",
      "Score for testing for iteration 28 is 0.9054054054054054\n",
      "Training time: 0:00:04.223661\n",
      "\n",
      "\n",
      "Score for training for iteration 29 is 0.9658938921087828\n",
      "Score for testing for iteration 29 is 0.6621621621621622\n",
      "Training time: 0:00:04.135553\n",
      "\n",
      "\n",
      "Score for training for iteration 30 is 0.9707980383415069\n",
      "Score for testing for iteration 30 is 0.9459459459459459\n",
      "Training time: 0:00:04.078968\n",
      "\n",
      "\n",
      "Score for training for iteration 31 is 0.9716897012929113\n",
      "Score for testing for iteration 31 is 0.8783783783783784\n",
      "Training time: 0:00:04.112412\n",
      "\n",
      "\n",
      "Score for training for iteration 32 is 0.9690147124386982\n",
      "Score for testing for iteration 32 is 1.0\n",
      "Training time: 0:00:03.994765\n",
      "\n",
      "\n",
      "Score for training for iteration 33 is 0.9694605439144004\n",
      "Score for testing for iteration 33 is 0.7162162162162162\n",
      "Training time: 0:00:04.056618\n",
      "\n",
      "\n",
      "Score for training for iteration 34 is 0.9667855550601873\n",
      "Score for testing for iteration 34 is 0.04054054054054054\n",
      "Training time: 0:00:04.036938\n",
      "\n",
      "\n",
      "Final Score train: 0.9681999078301731\n",
      "Final Score test: 0.8494208494208495\n",
      "Cross validation time: 0:06:47.727062\n"
     ]
    },
    {
     "data": {
      "text/plain": [
       "0.8494208494208495"
      ]
     },
     "execution_count": 47,
     "metadata": {},
     "output_type": "execute_result"
    }
   ],
   "source": [
    "Classification('../kickoff-data-corrected/data.pickle.1.10.classif.3',0.99,'forest',35,7,7,\"kickoff\")"
   ]
  },
  {
   "cell_type": "code",
   "execution_count": 49,
   "metadata": {},
   "outputs": [
    {
     "name": "stdout",
     "output_type": "stream",
     "text": [
      "Score for training for iteration 0 is 0.9627405696689761\n",
      "Score for testing for iteration 0 is 0.0\n",
      "Training time: 0:00:06.033365\n",
      "\n",
      "\n",
      "Score for training for iteration 1 is 0.9645881447267128\n",
      "Score for testing for iteration 1 is 0.0\n",
      "Training time: 0:00:06.123968\n",
      "\n",
      "\n",
      "Score for training for iteration 2 is 0.966743648960739\n",
      "Score for testing for iteration 2 is 1.0\n",
      "Training time: 0:00:06.571839\n",
      "\n",
      "\n",
      "Score for training for iteration 3 is 0.965050038491147\n",
      "Score for testing for iteration 3 is 1.0\n",
      "Training time: 0:00:05.984167\n",
      "\n",
      "\n",
      "Score for training for iteration 4 is 0.9627405696689761\n",
      "Score for testing for iteration 4 is 1.0\n",
      "Training time: 0:00:05.942669\n",
      "\n",
      "\n",
      "Score for training for iteration 5 is 0.9616687192118226\n",
      "Score for testing for iteration 5 is 1.0\n",
      "Training time: 0:00:05.886219\n",
      "\n",
      "\n",
      "Score for training for iteration 6 is 0.958891454965358\n",
      "Score for testing for iteration 6 is 0.02702702702702703\n",
      "Training time: 0:00:05.899267\n",
      "\n",
      "\n",
      "Score for training for iteration 7 is 0.9670515781370285\n",
      "Score for testing for iteration 7 is 1.0\n",
      "Training time: 0:00:05.753922\n",
      "\n",
      "\n",
      "Score for training for iteration 8 is 0.9604371921182266\n",
      "Score for testing for iteration 8 is 1.0\n",
      "Training time: 0:00:05.895216\n",
      "\n",
      "\n",
      "Score for training for iteration 9 is 0.9610409608869726\n",
      "Score for testing for iteration 9 is 1.0\n",
      "Training time: 0:00:05.838113\n",
      "\n",
      "\n",
      "Score for training for iteration 10 is 0.9625866050808314\n",
      "Score for testing for iteration 10 is 1.0\n",
      "Training time: 0:00:05.851807\n",
      "\n",
      "\n",
      "Score for training for iteration 11 is 0.9638183217859893\n",
      "Score for testing for iteration 11 is 1.0\n",
      "Training time: 0:00:05.843132\n",
      "\n",
      "\n",
      "Score for training for iteration 12 is 0.9627348321527563\n",
      "Score for testing for iteration 12 is 1.0\n",
      "Training time: 0:00:05.915758\n",
      "\n",
      "\n",
      "Score for training for iteration 13 is 0.9652093596059114\n",
      "Score for testing for iteration 13 is 1.0\n",
      "Training time: 0:00:05.861275\n",
      "\n",
      "\n",
      "Score for training for iteration 14 is 0.9607390300230947\n",
      "Score for testing for iteration 14 is 0.7837837837837838\n",
      "Training time: 0:00:05.853515\n",
      "\n",
      "\n",
      "Score for training for iteration 15 is 0.9605971987070956\n",
      "Score for testing for iteration 15 is 0.6486486486486487\n",
      "Training time: 0:00:05.951264\n",
      "\n",
      "\n",
      "Score for training for iteration 16 is 0.967359507313318\n",
      "Score for testing for iteration 16 is 1.0\n",
      "Training time: 0:00:05.863560\n",
      "\n",
      "\n",
      "Score for training for iteration 17 is 0.9696689761354889\n",
      "Score for testing for iteration 17 is 0.25675675675675674\n",
      "Training time: 0:00:06.517471\n",
      "\n",
      "\n",
      "Score for training for iteration 18 is 0.9619707467282526\n",
      "Score for testing for iteration 18 is 1.0\n",
      "Training time: 0:00:05.876241\n",
      "\n",
      "\n",
      "Score for training for iteration 19 is 0.9632024634334103\n",
      "Score for testing for iteration 19 is 0.9864864864864865\n",
      "Training time: 0:00:05.910933\n",
      "\n",
      "\n",
      "Score for training for iteration 20 is 0.9619648906683093\n",
      "Score for testing for iteration 20 is 0.05405405405405406\n",
      "Training time: 0:00:05.876798\n",
      "\n",
      "\n",
      "Score for training for iteration 21 is 0.9608929946112394\n",
      "Score for testing for iteration 21 is 1.0\n",
      "Training time: 0:00:06.507623\n",
      "\n",
      "\n",
      "Score for training for iteration 22 is 0.9641262509622787\n",
      "Score for testing for iteration 22 is 1.0\n",
      "Training time: 0:00:05.935420\n",
      "\n",
      "\n",
      "Score for training for iteration 23 is 0.9645881447267128\n",
      "Score for testing for iteration 23 is 0.8513513513513513\n",
      "Training time: 0:00:05.960220\n",
      "\n",
      "\n",
      "Score for training for iteration 24 is 0.9632024634334103\n",
      "Score for testing for iteration 24 is 0.013513513513513514\n",
      "Training time: 0:00:05.911920\n",
      "\n",
      "\n",
      "Score for training for iteration 25 is 0.9644287034185401\n",
      "Score for testing for iteration 25 is 0.8918918918918919\n",
      "Training time: 0:00:05.884729\n",
      "\n",
      "\n",
      "Score for training for iteration 26 is 0.9605850654349499\n",
      "Score for testing for iteration 26 is 1.0\n",
      "Training time: 0:00:05.872636\n",
      "\n",
      "\n",
      "Score for training for iteration 27 is 0.9653579676674365\n",
      "Score for testing for iteration 27 is 0.5540540540540541\n",
      "Training time: 0:00:05.918299\n",
      "\n",
      "\n",
      "Score for training for iteration 28 is 0.9648960739030024\n",
      "Score for testing for iteration 28 is 0.6351351351351351\n",
      "Training time: 0:00:05.900865\n",
      "\n",
      "\n",
      "Score for training for iteration 29 is 0.9642747151216507\n",
      "Score for testing for iteration 29 is 0.581081081081081\n",
      "Training time: 0:00:05.903839\n",
      "\n",
      "\n",
      "Score for training for iteration 30 is 0.9644341801385681\n",
      "Score for testing for iteration 30 is 0.7162162162162162\n",
      "Training time: 0:00:05.951597\n",
      "\n",
      "\n",
      "Score for training for iteration 31 is 0.9651986449029873\n",
      "Score for testing for iteration 31 is 0.5540540540540541\n",
      "Training time: 0:00:05.908578\n",
      "\n",
      "\n",
      "Score for training for iteration 32 is 0.9659738260200154\n",
      "Score for testing for iteration 32 is 0.8513513513513513\n",
      "Training time: 0:00:06.470816\n",
      "\n",
      "\n",
      "Score for training for iteration 33 is 0.9653579676674365\n",
      "Score for testing for iteration 33 is 0.2702702702702703\n",
      "Training time: 0:00:05.883935\n",
      "\n",
      "\n",
      "Score for training for iteration 34 is 0.9602771362586605\n",
      "Score for testing for iteration 34 is 0.17567567567567569\n",
      "Training time: 0:00:05.887717\n",
      "\n",
      "\n",
      "Final Score train: 0.9635542555067801\n",
      "Final Score test: 0.71003861003861\n",
      "Cross validation time: 0:09:42.902535\n"
     ]
    },
    {
     "data": {
      "text/plain": [
       "0.71003861003861"
      ]
     },
     "execution_count": 49,
     "metadata": {},
     "output_type": "execute_result"
    }
   ],
   "source": [
    "Classification('../kickoff-data-corrected/data.pickle.1.10.classif.2',0.99,'forest',35,7,7,\"kickoff\")"
   ]
  },
  {
   "cell_type": "code",
   "execution_count": 42,
   "metadata": {},
   "outputs": [
    {
     "name": "stdout",
     "output_type": "stream",
     "text": [
      "Score for training for iteration 0 is 0.9862040133779264\n",
      "Score for testing for iteration 0 is 0.0\n",
      "Training time: 0:00:01.099293\n",
      "\n",
      "\n",
      "Score for training for iteration 1 is 0.9761705685618729\n",
      "Score for testing for iteration 1 is 0.3333333333333333\n",
      "Training time: 0:00:01.273504\n",
      "\n",
      "\n",
      "Score for training for iteration 2 is 0.9866164784608951\n",
      "Score for testing for iteration 2 is 0.8461538461538461\n",
      "Training time: 0:00:01.054933\n",
      "\n",
      "\n",
      "Score for training for iteration 3 is 0.9832775919732442\n",
      "Score for testing for iteration 3 is 1.0\n",
      "Training time: 0:00:01.129378\n",
      "\n",
      "\n",
      "Score for training for iteration 4 is 0.9828523630280217\n",
      "Score for testing for iteration 4 is 0.7692307692307693\n",
      "Training time: 0:00:01.131181\n",
      "\n",
      "\n",
      "Score for training for iteration 5 is 0.9874634350188048\n",
      "Score for testing for iteration 5 is 0.4166666666666667\n",
      "Training time: 0:00:01.032053\n",
      "\n",
      "\n",
      "Score for training for iteration 6 is 0.9845253032204099\n",
      "Score for testing for iteration 6 is 0.07692307692307693\n",
      "Training time: 0:00:01.024257\n",
      "\n",
      "\n",
      "Score for training for iteration 7 is 0.9895484949832776\n",
      "Score for testing for iteration 7 is 0.3333333333333333\n",
      "Training time: 0:00:01.034924\n",
      "\n",
      "\n",
      "Score for training for iteration 8 is 0.9811872909698997\n",
      "Score for testing for iteration 8 is 0.9166666666666666\n",
      "Training time: 0:00:01.120253\n",
      "\n",
      "\n",
      "Score for training for iteration 9 is 0.9795150501672241\n",
      "Score for testing for iteration 9 is 0.9166666666666666\n",
      "Training time: 0:00:01.043392\n",
      "\n",
      "\n",
      "Score for training for iteration 10 is 0.9845253032204099\n",
      "Score for testing for iteration 10 is 0.7692307692307693\n",
      "Training time: 0:00:01.099470\n",
      "\n",
      "\n",
      "Score for training for iteration 11 is 0.9828595317725752\n",
      "Score for testing for iteration 11 is 0.4166666666666667\n",
      "Training time: 0:00:01.039964\n",
      "\n",
      "\n",
      "Score for training for iteration 12 is 0.9870347135089921\n",
      "Score for testing for iteration 12 is 0.7692307692307693\n",
      "Training time: 0:00:01.031657\n",
      "\n",
      "\n",
      "Score for training for iteration 13 is 0.9866220735785953\n",
      "Score for testing for iteration 13 is 0.8333333333333334\n",
      "Training time: 0:00:01.042487\n",
      "\n",
      "\n",
      "Score for training for iteration 14 is 0.9862040133779264\n",
      "Score for testing for iteration 14 is 0.08333333333333333\n",
      "Training time: 0:00:01.110091\n",
      "\n",
      "\n",
      "Score for training for iteration 15 is 0.9870455495194317\n",
      "Score for testing for iteration 15 is 0.5384615384615384\n",
      "Training time: 0:00:01.047453\n",
      "\n",
      "\n",
      "Score for training for iteration 16 is 0.9836956521739131\n",
      "Score for testing for iteration 16 is 0.6666666666666666\n",
      "Training time: 0:00:01.028475\n",
      "\n",
      "\n",
      "Score for training for iteration 17 is 0.9749058971141782\n",
      "Score for testing for iteration 17 is 0.38461538461538464\n",
      "Training time: 0:00:01.086024\n",
      "\n",
      "\n",
      "Score for training for iteration 18 is 0.9841070681723129\n",
      "Score for testing for iteration 18 is 0.7692307692307693\n",
      "Training time: 0:00:01.049863\n",
      "\n",
      "\n",
      "Score for training for iteration 19 is 0.9862040133779264\n",
      "Score for testing for iteration 19 is 0.6666666666666666\n",
      "Training time: 0:00:01.039818\n",
      "\n",
      "\n",
      "Score for training for iteration 20 is 0.9820234113712375\n",
      "Score for testing for iteration 20 is 0.16666666666666666\n",
      "Training time: 0:00:01.079059\n",
      "\n",
      "\n",
      "Score for training for iteration 21 is 0.9803511705685619\n",
      "Score for testing for iteration 21 is 0.8333333333333334\n",
      "Training time: 0:00:01.054938\n",
      "\n",
      "\n",
      "Score for training for iteration 22 is 0.9811872909698997\n",
      "Score for testing for iteration 22 is 1.0\n",
      "Training time: 0:00:01.117482\n",
      "\n",
      "\n",
      "Score for training for iteration 23 is 0.9828595317725752\n",
      "Score for testing for iteration 23 is 0.4166666666666667\n",
      "Training time: 0:00:01.057311\n",
      "\n",
      "\n",
      "Score for training for iteration 24 is 0.9749058971141782\n",
      "Score for testing for iteration 24 is 0.0\n",
      "Training time: 0:00:01.047553\n",
      "\n",
      "\n",
      "Score for training for iteration 25 is 0.9853617733166039\n",
      "Score for testing for iteration 25 is 0.6923076923076923\n",
      "Training time: 0:00:01.030191\n",
      "\n",
      "\n",
      "Score for training for iteration 26 is 0.9862040133779264\n",
      "Score for testing for iteration 26 is 0.25\n",
      "Training time: 0:00:01.106839\n",
      "\n",
      "\n",
      "Score for training for iteration 27 is 0.9903805938937683\n",
      "Score for testing for iteration 27 is 0.8461538461538461\n",
      "Training time: 0:00:01.097755\n",
      "\n",
      "\n",
      "Score for training for iteration 28 is 0.9807692307692307\n",
      "Score for testing for iteration 28 is 0.4166666666666667\n",
      "Training time: 0:00:01.038891\n",
      "\n",
      "\n",
      "Score for training for iteration 29 is 0.9816053511705686\n",
      "Score for testing for iteration 29 is 0.3333333333333333\n",
      "Training time: 0:00:01.092110\n",
      "\n",
      "\n",
      "Score for training for iteration 30 is 0.9799247176913425\n",
      "Score for testing for iteration 30 is 0.9230769230769231\n",
      "Training time: 0:00:01.026595\n",
      "\n",
      "\n",
      "Score for training for iteration 31 is 0.9807611877875366\n",
      "Score for testing for iteration 31 is 0.6923076923076923\n",
      "Training time: 0:00:01.023910\n",
      "\n",
      "\n",
      "Score for training for iteration 32 is 0.9828595317725752\n",
      "Score for testing for iteration 32 is 0.08333333333333333\n",
      "Training time: 0:00:01.048655\n",
      "\n",
      "\n",
      "Score for training for iteration 33 is 0.9841070681723129\n",
      "Score for testing for iteration 33 is 0.38461538461538464\n",
      "Training time: 0:00:01.064367\n",
      "\n",
      "\n",
      "Score for training for iteration 34 is 0.9824341279799247\n",
      "Score for testing for iteration 34 is 0.07692307692307693\n",
      "Training time: 0:00:01.033607\n",
      "\n",
      "\n",
      "Final Score train: 0.9833228372373165\n",
      "Final Score test: 0.5320512820512819\n",
      "Cross validation time: 0:01:40.907927\n"
     ]
    },
    {
     "data": {
      "text/plain": [
       "0.5320512820512819"
      ]
     },
     "execution_count": 42,
     "metadata": {},
     "output_type": "execute_result"
    }
   ],
   "source": [
    "Classification('../kickoff-data-corrected/data.pickle.1.10.mov.classif.5',0.99,'forest',35,6,7,\"kickoff\")"
   ]
  },
  {
   "cell_type": "code",
   "execution_count": 107,
   "metadata": {},
   "outputs": [],
   "source": [
    "from sklearn.ensemble import RandomForestRegressor\n",
    "from sklearn.svm import SVR\n",
    "def cross_validation_regressor(X,Y,name_regressor,percentage_train,nbre_matches,indices,nbre_trees,depth):\n",
    "    score_test=0\n",
    "    score_train=0\n",
    "    start=datetime.datetime.now()\n",
    "    for i in range(nbre_matches):\n",
    "        start_i=datetime.datetime.now()\n",
    "        #Create training and test datasets\n",
    "        x_train1=X[indices[i]:indices[min(i+int(nbre_matches*percentage_train),nbre_matches)]]+X[:indices[max(0,i+int(nbre_matches*percentage_train)-nbre_matches)]]\n",
    "        y_train1=Y[indices[i]:indices[min(i+int(nbre_matches*percentage_train),nbre_matches)]]+Y[:indices[max(0,i+int(nbre_matches*percentage_train)-nbre_matches)]]\n",
    "        x_test1=X[indices[min(i+int(nbre_matches*percentage_train),nbre_matches)]:]+X[indices[max(0,i+int(nbre_matches*percentage_train)-nbre_matches)]:indices[i]]\n",
    "        y_test1=Y[indices[min(i+int(nbre_matches*percentage_train),nbre_matches)]:]+Y[indices[max(0,i+int(nbre_matches*percentage_train)-nbre_matches)]:indices[i]]\n",
    "        \n",
    "        #Shuffle data\n",
    "        x_train,y_train=shuffle_data(x_train1,y_train1)\n",
    "        x_test,y_test=shuffle_data(x_test1,y_test1)\n",
    "        \n",
    "        #Train regressor\n",
    "        if name_regressor==\"forest\":\n",
    "            regr=RandomForestRegressor(n_estimators=nbre_trees,max_depth=depth)\n",
    "        if name_regressor==\"svm\":\n",
    "            regr=SVR()\n",
    "        regr.fit(x_train,y_train)\n",
    "        end_i=datetime.datetime.now()\n",
    "        \n",
    "        #Test\n",
    "        score_test+=regr.score(x_test,y_test)\n",
    "        score_train+=regr.score(x_train,y_train)\n",
    "        print(np.array(regr.predict(x_test))-np.array(y_test))\n",
    "        print(\"Score for training for iteration {0} is {1}\".format(i,regr.score(x_train,y_train)))\n",
    "        print(\"Score for testing for iteration {0} is {1}\".format(i,regr.score(x_test,y_test)))\n",
    "        print(\"Training time: {0}\".format(end_i-start_i))\n",
    "        print(\"\\n\")\n",
    "        \n",
    "    end=datetime.datetime.now()\n",
    "    print(\"Final Score train: {0}\".format(score_train/nbre_matches))\n",
    "    print(\"Final Score test: {0}\".format(score_test/nbre_matches))\n",
    "    print(\"Cross validation time: {0}\".format(end-start))\n",
    "    return score_test/nbre_matches\n",
    "        \n",
    "def Regression(dataset,percentage_train,name_regressor,nbre_matches,nbre_trees,depth):\n",
    "    #Create inputs\n",
    "    X=list()\n",
    "    Y=list()\n",
    "    indices=[0]\n",
    "    with open(dataset, 'rb') as f:\n",
    "        for i in range(nbre_matches):\n",
    "            data = pickle.load(f)\n",
    "            X=X+data[0]\n",
    "            Y=Y+data[1]\n",
    "            indices.append(len(Y))\n",
    "    return cross_validation_regressor(X,Y,name_regressor,percentage_train,nbre_matches,indices,nbre_trees,depth)"
   ]
  },
  {
   "cell_type": "code",
   "execution_count": 35,
   "metadata": {},
   "outputs": [
    {
     "name": "stdout",
     "output_type": "stream",
     "text": [
      "Score for training for iteration 0 is 0.9569987562358462\n",
      "Score for testing for iteration 0 is -0.060155544097632685\n",
      "Training time: 0:00:02.153757\n",
      "\n",
      "\n",
      "Score for training for iteration 1 is 0.9562073312925817\n",
      "Score for testing for iteration 1 is 0.7563176219098084\n",
      "Training time: 0:00:02.057184\n",
      "\n",
      "\n",
      "Score for training for iteration 2 is 0.9611374446517891\n",
      "Score for testing for iteration 2 is 0.5503609946348548\n",
      "Training time: 0:00:02.052433\n",
      "\n",
      "\n",
      "Score for training for iteration 3 is 0.9453480470521978\n",
      "Score for testing for iteration 3 is 0.6241034994066093\n",
      "Training time: 0:00:02.024836\n",
      "\n",
      "\n",
      "Score for training for iteration 4 is 0.9497898985293831\n",
      "Score for testing for iteration 4 is 0.9647295349774099\n",
      "Training time: 0:00:02.128930\n",
      "\n",
      "\n",
      "Score for training for iteration 5 is 0.9575121529684044\n",
      "Score for testing for iteration 5 is -0.14216005634570217\n",
      "Training time: 0:00:02.143517\n",
      "\n",
      "\n",
      "Score for training for iteration 6 is 0.9434578351892947\n",
      "Score for testing for iteration 6 is 0.6912283829742096\n",
      "Training time: 0:00:02.054294\n",
      "\n",
      "\n",
      "Score for training for iteration 7 is 0.9631006805400423\n",
      "Score for testing for iteration 7 is 0.802516737473381\n",
      "Training time: 0:00:02.023207\n",
      "\n",
      "\n",
      "Score for training for iteration 8 is 0.9524986357420816\n",
      "Score for testing for iteration 8 is 0.3513236269142924\n",
      "Training time: 0:00:02.091624\n",
      "\n",
      "\n",
      "Score for training for iteration 9 is 0.9567488434109719\n",
      "Score for testing for iteration 9 is 0.7361946119309063\n",
      "Training time: 0:00:02.101796\n",
      "\n",
      "\n",
      "Score for training for iteration 10 is 0.9560478100511387\n",
      "Score for testing for iteration 10 is 0.9198393707197914\n",
      "Training time: 0:00:02.041111\n",
      "\n",
      "\n",
      "Score for training for iteration 11 is 0.9504736741039556\n",
      "Score for testing for iteration 11 is 0.5421216221782935\n",
      "Training time: 0:00:02.056228\n",
      "\n",
      "\n",
      "Score for training for iteration 12 is 0.9495590087574572\n",
      "Score for testing for iteration 12 is 0.9079097594731477\n",
      "Training time: 0:00:02.085193\n",
      "\n",
      "\n",
      "Score for training for iteration 13 is 0.9560215453483665\n",
      "Score for testing for iteration 13 is 0.46491439329608336\n",
      "Training time: 0:00:02.020276\n",
      "\n",
      "\n",
      "Score for training for iteration 14 is 0.9519607622255435\n",
      "Score for testing for iteration 14 is 0.1945397749618668\n",
      "Training time: 0:00:02.040089\n",
      "\n",
      "\n",
      "Score for training for iteration 15 is 0.9609977407379664\n",
      "Score for testing for iteration 15 is 0.4496549922559406\n",
      "Training time: 0:00:02.050939\n",
      "\n",
      "\n",
      "Score for training for iteration 16 is 0.9477005705511864\n",
      "Score for testing for iteration 16 is 0.6937222566968078\n",
      "Training time: 0:00:02.161339\n",
      "\n",
      "\n",
      "Score for training for iteration 17 is 0.9539496013908288\n",
      "Score for testing for iteration 17 is -0.2069626775880422\n",
      "Training time: 0:00:02.068395\n",
      "\n",
      "\n",
      "Score for training for iteration 18 is 0.943762746885015\n",
      "Score for testing for iteration 18 is 0.9605170810392142\n",
      "Training time: 0:00:02.051851\n",
      "\n",
      "\n",
      "Score for training for iteration 19 is 0.9467084687513663\n",
      "Score for testing for iteration 19 is 0.7902470830328551\n",
      "Training time: 0:00:02.102006\n",
      "\n",
      "\n",
      "Score for training for iteration 20 is 0.954127414727383\n",
      "Score for testing for iteration 20 is 0.7996561227796903\n",
      "Training time: 0:00:02.176104\n",
      "\n",
      "\n",
      "Score for training for iteration 21 is 0.9527176509085481\n",
      "Score for testing for iteration 21 is 0.8830575878627288\n",
      "Training time: 0:00:02.033694\n",
      "\n",
      "\n",
      "Score for training for iteration 22 is 0.9577125292734446\n",
      "Score for testing for iteration 22 is 0.4902341707204128\n",
      "Training time: 0:00:02.044685\n",
      "\n",
      "\n",
      "Score for training for iteration 23 is 0.9492352473692985\n",
      "Score for testing for iteration 23 is 0.7646822084800923\n",
      "Training time: 0:00:02.367410\n",
      "\n",
      "\n",
      "Score for training for iteration 24 is 0.9559078964730033\n",
      "Score for testing for iteration 24 is 0.8150255102040816\n",
      "Training time: 0:00:02.067842\n",
      "\n",
      "\n",
      "Score for training for iteration 25 is 0.9394372930985934\n",
      "Score for testing for iteration 25 is 0.79472573954951\n",
      "Training time: 0:00:02.120437\n",
      "\n",
      "\n",
      "Score for training for iteration 26 is 0.951042226127297\n",
      "Score for testing for iteration 26 is 0.854479034022511\n",
      "Training time: 0:00:02.178830\n",
      "\n",
      "\n",
      "Score for training for iteration 27 is 0.956460269145643\n",
      "Score for testing for iteration 27 is 0.7046958656043394\n",
      "Training time: 0:00:02.099683\n",
      "\n",
      "\n",
      "Score for training for iteration 28 is 0.9480628394487571\n",
      "Score for testing for iteration 28 is 0.9681723549689033\n",
      "Training time: 0:00:02.036221\n",
      "\n",
      "\n",
      "Score for training for iteration 29 is 0.9485753245232161\n",
      "Score for testing for iteration 29 is 0.44078315367143744\n",
      "Training time: 0:00:02.330101\n",
      "\n",
      "\n",
      "Score for training for iteration 30 is 0.9571675018445137\n",
      "Score for testing for iteration 30 is 0.9462236092611787\n",
      "Training time: 0:00:02.092987\n",
      "\n",
      "\n",
      "Score for training for iteration 31 is 0.9568166243985882\n",
      "Score for testing for iteration 31 is 0.4665030874889262\n",
      "Training time: 0:00:02.003067\n",
      "\n",
      "\n",
      "Score for training for iteration 32 is 0.963772673337496\n",
      "Score for testing for iteration 32 is 0.4293143428788675\n",
      "Training time: 0:00:02.079260\n",
      "\n",
      "\n",
      "Score for training for iteration 33 is 0.954989286658847\n",
      "Score for testing for iteration 33 is 0.33608073825353346\n",
      "Training time: 0:00:02.010466\n",
      "\n",
      "\n",
      "Score for training for iteration 34 is 0.9609347856691859\n",
      "Score for testing for iteration 34 is 0.8884921136922059\n",
      "Training time: 0:00:02.068902\n",
      "\n",
      "\n",
      "Final Score train: 0.9533411747834066\n",
      "Final Score test: 0.6163739630080718\n",
      "Cross validation time: 0:01:22.743529\n"
     ]
    }
   ],
   "source": [
    "Regression('../kickoff-data-corrected/data.pickle.1.10.mov.regression',0.99,\"forest\",35)"
   ]
  },
  {
   "cell_type": "code",
   "execution_count": 48,
   "metadata": {},
   "outputs": [
    {
     "name": "stdout",
     "output_type": "stream",
     "text": [
      "[ 4.3  4.4  0.8 -1.7  1.4  3.4  0.9  6.5  0.4  0.6  4.5  6.2  8.3 -1.3\n",
      "  1.7  1.5]\n",
      "Score for training for iteration 0 is 0.9655687941536909\n",
      "Score for testing for iteration 0 is 0.3150294117647059\n",
      "Training time: 0:00:00.961877\n",
      "\n",
      "\n",
      "[-0.4  4.9  1.2  3.5 -1.2  5.1  2.2  1.7  4.7  4.2 -0.5 -0.4  2.5  4.4\n",
      "  5.9  2.7]\n",
      "Score for training for iteration 1 is 0.9650633920847751\n",
      "Score for testing for iteration 1 is 0.46797058823529414\n",
      "Training time: 0:00:00.956449\n",
      "\n",
      "\n",
      "[ 2.9 -2.7  0.6  2.5 -3.8  1.6 -1.3  3.2 -1.1 -5.7  6.6 -0.8 -1.5  4.6\n",
      " -7.   7.3]\n",
      "Score for training for iteration 2 is 0.965405583189158\n",
      "Score for testing for iteration 2 is 0.2504705882352942\n",
      "Training time: 0:00:00.993859\n",
      "\n",
      "\n",
      "[-1.   3.4 -1.   1.7 -1.2  0.  -7.  -3.4 -2.6  2.1 -1.3 -0.4 -3.1 -3.9\n",
      " -2.8 -5.6 -1.7]\n",
      "Score for training for iteration 3 is 0.9696091908219411\n",
      "Score for testing for iteration 3 is 0.6118137254901961\n",
      "Training time: 0:00:00.953465\n",
      "\n",
      "\n",
      "[-0.5 -0.2 -0.6  0.1  0.9  0.5  1.4 -1.  -1.4 -1.8 -1.2 -0.4 -0.5 -0.4\n",
      " -0.2 -0.8 -1.1]\n",
      "Score for training for iteration 4 is 0.9678112839639231\n",
      "Score for testing for iteration 4 is 0.9662254901960784\n",
      "Training time: 0:00:00.984983\n",
      "\n",
      "\n",
      "[  5.1 -11.2  -2.3   1.    0.4   3.5  -4.2  -7.4 -10.9  -5.7   0.2  -3.5\n",
      "  -8.1  -1.1   3.7   1.3  -5.6]\n",
      "Score for training for iteration 5 is 0.9737559504225992\n",
      "Score for testing for iteration 5 is -0.2737745098039215\n",
      "Training time: 0:00:00.964185\n",
      "\n",
      "\n",
      "[ 0.7 -0.3  0.2  0.9  2.1  0.2  1.2 -0.5  1.9  2.3 -0.1  0.2  4.   2.2\n",
      " -0.9  3. ]\n",
      "Score for training for iteration 6 is 0.9595102769968281\n",
      "Score for testing for iteration 6 is 0.8612647058823529\n",
      "Training time: 0:00:00.946072\n",
      "\n",
      "\n",
      "[ 2.2 -0.7  4.1  1.7  3.7 -1.8  2.3  2.2  0.9  1.4  4.   4.2  0.   0.6\n",
      "  1.7  5.7]\n",
      "Score for training for iteration 7 is 0.9666726364258938\n",
      "Score for testing for iteration 7 is 0.6345882352941177\n",
      "Training time: 0:00:00.954999\n",
      "\n",
      "\n",
      "[-3.7 -0.2 -6.2  0.4 -6.  -6.3 -3.9 -0.9  1.5 -1.5  1.   1.3 -6.1 -2.8\n",
      " -5.9 -3.3]\n",
      "Score for training for iteration 8 is 0.9676566329656862\n",
      "Score for testing for iteration 8 is 0.2882941176470588\n",
      "Training time: 0:00:00.997733\n",
      "\n",
      "\n",
      "[ 1.9  1.1  0.5 -3.9  0.8 -4.1 -2.2  1.   2.  -3.9  1.5  0.8 -3.5 -3.6\n",
      "  0.  -4.3]\n",
      "Score for training for iteration 9 is 0.9659985041810842\n",
      "Score for testing for iteration 9 is 0.6783235294117647\n",
      "Training time: 0:00:01.004027\n",
      "\n",
      "\n",
      "[-1.  -0.1 -3.9 -3.  -2.7 -1.7 -0.4 -0.7 -0.5  0.1 -0.8 -0.5 -0.9 -0.5\n",
      "  0.6 -2.1 -0.4]\n",
      "Score for training for iteration 10 is 0.9742632962731862\n",
      "Score for testing for iteration 10 is 0.8941421568627451\n",
      "Training time: 0:00:00.985273\n",
      "\n",
      "\n",
      "[ 1.3  0.8  0.8  0.6  0.1  0.5  0.1 -2.7  0.2  3.5 -0.7  0.8  5.7  7.1\n",
      " 10.5  1.1]\n",
      "Score for training for iteration 11 is 0.97068352616782\n",
      "Score for testing for iteration 11 is 0.3568529411764706\n",
      "Training time: 0:00:00.947862\n",
      "\n",
      "\n",
      "[-0.4 -2.4 -1.5 -1.1 -0.9 -2.  -1.7 -1.  -0.8 -2.6 -2.6 -1.8 -1.8 -1.2\n",
      "  0.2 -3.1 -2.3]\n",
      "Score for training for iteration 12 is 0.969214412331953\n",
      "Score for testing for iteration 12 is 0.8649509803921569\n",
      "Training time: 0:00:00.975134\n",
      "\n",
      "\n",
      "[-2.7  0.3  1.8  3.7  1.8  2.2  0.3 -4.9  0.2 -4.1  2.1  3.3 -3.5 -0.4\n",
      "  1.1  2. ]\n",
      "Score for training for iteration 13 is 0.9650231806877163\n",
      "Score for testing for iteration 13 is 0.6874705882352941\n",
      "Training time: 0:00:00.934124\n",
      "\n",
      "\n",
      "[ 2.3 -0.2 -7.9  4.9 -4.5  1.8 -0.7  2.7 -7.1 -1.5 -0.6  0.7  0.4  3.1\n",
      "  0.9  5.3]\n",
      "Score for training for iteration 14 is 0.9655475057670126\n",
      "Score for testing for iteration 14 is 0.36705882352941166\n",
      "Training time: 0:00:00.972975\n",
      "\n",
      "\n",
      "[-2.6  2.5 -9.  -1.6 -0.7 -4.2  4.9 -6.4 -1.5 -5.7 -4.3 -3.5 -0.2 -0.1\n",
      " -1.1  4.9]\n",
      "Score for training for iteration 15 is 0.968089496828143\n",
      "Score for testing for iteration 15 is 0.2046470588235292\n",
      "Training time: 0:00:00.958983\n",
      "\n",
      "\n",
      "[ 0.   0.2  0.5  1.2 -5.3  0.9  0.5  1.3  0.4 -1.6  0.2 -0.1  1.2 -0.6\n",
      "  0.3 -0.1]\n",
      "Score for training for iteration 16 is 0.9695355302047288\n",
      "Score for testing for iteration 16 is 0.8904705882352941\n",
      "Training time: 0:00:00.969043\n",
      "\n",
      "\n",
      "[ 2.1  2.8 10.3  5.1  9.4  2.2  0.7 -0.8  4.3 -3.2 -3.3  8.7  0.4  7.\n",
      "  2.3  2. ]\n",
      "Score for training for iteration 17 is 0.97020177786188\n",
      "Score for testing for iteration 17 is -0.21305882352941197\n",
      "Training time: 0:00:00.992523\n",
      "\n",
      "\n",
      "[ 1.3  2.1  0.   0.1  0.7  0.2  1.7  1.5  0.2  1.4  0.4 -1.6  0.7  1.2\n",
      "  0.3  0.6 -0.5]\n",
      "Score for training for iteration 18 is 0.9687839610868455\n",
      "Score for testing for iteration 18 is 0.9531127450980392\n",
      "Training time: 0:00:00.974065\n",
      "\n",
      "\n",
      "[ 1.   2.2 -1.   0.3 -0.7  0.9  1.8 -1.7 -0.2 -0.3 -0.3 -0.9  1.7  0.6\n",
      " -0.6 -0.6  0.6]\n",
      "Score for training for iteration 19 is 0.9689694594134665\n",
      "Score for testing for iteration 19 is 0.9516666666666665\n",
      "Training time: 0:00:00.965902\n",
      "\n",
      "\n",
      "[ 0.5  0.1  0.9 -0.2 -2.7 -0.1 -3.4 -3.6 -0.3 -0.3  0.4 -2.3 -0.7 -2.6\n",
      " -0.8  0.   0.1]\n",
      "Score for training for iteration 20 is 0.9702806313460776\n",
      "Score for testing for iteration 20 is 0.8861274509803923\n",
      "Training time: 0:00:00.955039\n",
      "\n",
      "\n",
      "[ 0.5  0.4 -1.1  0.5  0.3  0.8 -2.6  0.7 -2.3 -1.1  0.6  0.1  0.6 -0.8\n",
      "  0.5 -2.3]\n",
      "Score for training for iteration 21 is 0.9633114367070358\n",
      "Score for testing for iteration 21 is 0.9315882352941177\n",
      "Training time: 0:00:00.971184\n",
      "\n",
      "\n",
      "[-0.3 -3.4  0.4 -5.9  1.1 -5.3 -2.5  1.1  1.  -5.1 -4.1  1.3 -8.2  1.4\n",
      " -4.4 -1.6 -0.6]\n",
      "Score for training for iteration 22 is 0.9727697969255205\n",
      "Score for testing for iteration 22 is 0.4598774509803921\n",
      "Training time: 0:00:00.943107\n",
      "\n",
      "\n",
      "[-4.4  0.4  1.9  1.  -2.6 -0.5 -2.7  0.9  1.4  1.5  0.1 -1.3 -0.1  0.2\n",
      "  1.3 -0.5  0.3]\n",
      "Score for training for iteration 23 is 0.9667672613307619\n",
      "Score for testing for iteration 23 is 0.8842401960784315\n",
      "Training time: 0:00:00.985910\n",
      "\n",
      "\n",
      "[-0.5 -2.8  0.8  0.3  1.6 -1.4  1.2 -4.5  1.4  1.4  1.4  2.1  1.9  0.7\n",
      "  3.3  0.8  3.7]\n",
      "Score for training for iteration 24 is 0.9645896378126949\n",
      "Score for testing for iteration 24 is 0.8170588235294116\n",
      "Training time: 0:00:00.984318\n",
      "\n",
      "\n",
      "[-1.6  5.2  4.3 -0.7  0.3 -1.2  3.4  3.3  0.7 -1.5  2.2 -1.  -1.5 -2.2\n",
      " -1.4 -1.4]\n",
      "Score for training for iteration 25 is 0.9649096426254326\n",
      "Score for testing for iteration 25 is 0.7289705882352941\n",
      "Training time: 0:00:00.959303\n",
      "\n",
      "\n",
      "[ 1.6  0.5 -2.4 -1.1  0.6 -2.   0.6 -2.7 -1.2  0.4  0.  -0.1  0.4  1.3\n",
      " -0.3  0.4 -0.8]\n",
      "Score for training for iteration 26 is 0.9658239151398265\n",
      "Score for testing for iteration 26 is 0.9359313725490196\n",
      "Training time: 0:00:00.976502\n",
      "\n",
      "\n",
      "[-4.   0.3  0.9 -3.1 -2.6  1.8 -6.4 -0.6  0.4  0.7 -3.9 -0.8  0.4 -0.8\n",
      "  1.1  0.1]\n",
      "Score for training for iteration 27 is 0.9686146103662053\n",
      "Score for testing for iteration 27 is 0.7166176470588235\n",
      "Training time: 0:00:01.027430\n",
      "\n",
      "\n",
      "[-0.7 -0.7  0.8  0.5 -0.3 -2.3  0.4 -0.8 -0.1  1.   0.3 -0.3  1.2 -0.5\n",
      " -0.8 -0.6  0.1]\n",
      "Score for training for iteration 28 is 0.9701094021215044\n",
      "Score for testing for iteration 28 is 0.970735294117647\n",
      "Training time: 0:00:00.999175\n",
      "\n",
      "\n",
      "[ 0.5 -1.9  0.7 -2.6 -2.6  0.2  0.   0.9  1.  -4.7 -2.1  0.8 -1.9  0.9\n",
      " -3.8 -1.3]\n",
      "Score for training for iteration 29 is 0.9723030204728952\n",
      "Score for testing for iteration 29 is 0.8017352941176471\n",
      "Training time: 0:00:00.969350\n",
      "\n",
      "\n",
      "[-1.6  1.3 -1.7  1.   1.3 -0.3  0.7 -0.7 -0.8 -1.3 -0.2  0.5 -3.2  2.\n",
      "  0.6  0.7 -4.9]\n",
      "Score for training for iteration 30 is 0.964748976118895\n",
      "Score for testing for iteration 30 is 0.8710294117647058\n",
      "Training time: 0:00:00.982803\n",
      "\n",
      "\n",
      "[-4.2  2.3  1.6 -0.3  0.  -0.9 -3.1 -1.8 -0.2  1.9 -0.2  3.4  3.6  5.1\n",
      "  5.   0.1 -1.1]\n",
      "Score for training for iteration 31 is 0.9692397796244824\n",
      "Score for testing for iteration 31 is 0.7066666666666667\n",
      "Training time: 0:00:00.926700\n",
      "\n",
      "\n",
      "[ 4.3  3.5  5.5  3.7  5.2  3.8 -0.5  0.4  3.8  3.5  0.9  2.2  4.2  4.1\n",
      "  1.3  2.1]\n",
      "Score for training for iteration 32 is 0.9738373612312572\n",
      "Score for testing for iteration 32 is 0.4427647058823529\n",
      "Training time: 0:00:00.954622\n",
      "\n",
      "\n",
      "[ 8.8  3.  -2.5  2.   1.   0.7  0.7  0.1  3.6 -3.2  0.   6.5  4.4  1.7\n",
      "  1.8 -5.8  3.8]\n",
      "Score for training for iteration 33 is 0.9691938014067729\n",
      "Score for testing for iteration 33 is 0.4174019607843138\n",
      "Training time: 0:00:01.062745\n",
      "\n",
      "\n",
      "[ 0.1  1.5  0.6  1.2  0.9  2.4 -1.   0.7  0.4  0.9 -0.2  0.6  0.7  1.4\n",
      "  1.  -0.2]\n",
      "Score for training for iteration 34 is 0.9680658430651674\n",
      "Score for testing for iteration 34 is 0.9500588235294117\n",
      "Training time: 0:00:00.963071\n",
      "\n",
      "\n",
      "Final Score train: 0.9680551288035103\n",
      "Final Score test: 0.6365235294117646\n",
      "Cross validation time: 0:00:41.345885\n"
     ]
    }
   ],
   "source": [
    "Regression('../kickoff-data-corrected/data.pickle.1.10.regression',0.99,\"forest\",35)"
   ]
  },
  {
   "cell_type": "code",
   "execution_count": 108,
   "metadata": {},
   "outputs": [
    {
     "name": "stdout",
     "output_type": "stream",
     "text": [
      "[-0.3 -0.9  2.1 -1.3 -1.4  0.1]\n",
      "Score for training for iteration 0 is 0.9264237728517589\n",
      "Score for testing for iteration 0 is 0.4874285714285715\n",
      "Training time: 0:00:00.151604\n",
      "\n",
      "\n",
      "[ 2.3  0.  -1.1  0.8  1.7  2.8]\n",
      "Score for training for iteration 1 is 0.9197677956976662\n",
      "Score for testing for iteration 1 is -0.021142857142856908\n",
      "Training time: 0:00:00.156574\n",
      "\n",
      "\n",
      "[ 2.8  0.3  1.5 -0.1 -1.1  3. ]\n",
      "Score for training for iteration 2 is 0.9304534069895368\n",
      "Score for testing for iteration 2 is -0.1657142857142857\n",
      "Training time: 0:00:00.155855\n",
      "\n",
      "\n",
      "[-0.8 -0.4  1.7 -1.4 -1.6  0.1 -0.2]\n",
      "Score for training for iteration 3 is 0.9178505274450206\n",
      "Score for testing for iteration 3 is 0.705\n",
      "Training time: 0:00:00.155482\n",
      "\n",
      "\n",
      "[-1.4 -1.2 -1.2  0.5 -0.5 -0.3 -0.6]\n",
      "Score for training for iteration 4 is 0.9393733237976043\n",
      "Score for testing for iteration 4 is 0.7932142857142856\n",
      "Training time: 0:00:00.157560\n",
      "\n",
      "\n",
      "[ 2.4 -2.3 -1.2 -3.7  2.  -3.   0.7]\n",
      "Score for training for iteration 5 is 0.9107632755229752\n",
      "Score for testing for iteration 5 is -0.41678571428571454\n",
      "Training time: 0:00:00.147437\n",
      "\n",
      "\n",
      "[ 1.   0.1 -1.1 -0.7 -1.  -0.3]\n",
      "Score for training for iteration 6 is 0.9199222864633317\n",
      "Score for testing for iteration 6 is 0.7828571428571429\n",
      "Training time: 0:00:00.156808\n",
      "\n",
      "\n",
      "[-1.2  0.6  0.3  2.9  2.5 -0.5]\n",
      "Score for training for iteration 7 is 0.9327707684745208\n",
      "Score for testing for iteration 7 is 0.0399999999999997\n",
      "Training time: 0:00:00.151053\n",
      "\n",
      "\n",
      "[ 0.6  0.4 -0.5 -1.  -1.5  0.8]\n",
      "Score for training for iteration 8 is 0.9284064043444675\n",
      "Score for testing for iteration 8 is 0.7337142857142858\n",
      "Training time: 0:00:00.161288\n",
      "\n",
      "\n",
      "[ 0.7  0.1 -1.6  0.4  0.8 -0.2]\n",
      "Score for training for iteration 9 is 0.9255869478710705\n",
      "Score for testing for iteration 9 is 0.7771428571428572\n",
      "Training time: 0:00:00.163587\n",
      "\n",
      "\n",
      "[ 0.3 -0.6 -0.4 -2.3 -0.2  0.3 -0.2]\n",
      "Score for training for iteration 10 is 0.9230713391739674\n",
      "Score for testing for iteration 10 is 0.7832142857142858\n",
      "Training time: 0:00:00.159979\n",
      "\n",
      "\n",
      "[-0.9 -1.5 -0.7 -0.8  1.6  0.5]\n",
      "Score for training for iteration 11 is 0.9242351536714964\n",
      "Score for testing for iteration 11 is 0.5999999999999999\n",
      "Training time: 0:00:00.155575\n",
      "\n",
      "\n",
      "[-2.  -0.7 -0.7 -1.7 -1.9  0.2 -0.7]\n",
      "Score for training for iteration 12 is 0.9286315036652958\n",
      "Score for testing for iteration 12 is 0.5710714285714285\n",
      "Training time: 0:00:00.160312\n",
      "\n",
      "\n",
      "[ 0.6  3.   0.7 -2.  -0.7  1.8]\n",
      "Score for training for iteration 13 is 0.9268486224573395\n",
      "Score for testing for iteration 13 is -0.004571428571428449\n",
      "Training time: 0:00:00.162185\n",
      "\n",
      "\n",
      "[-1.1  1.4 -0.3  0.2  0.2 -0.4]\n",
      "Score for training for iteration 14 is 0.9234755740736406\n",
      "Score for testing for iteration 14 is 0.8\n",
      "Training time: 0:00:00.153603\n",
      "\n",
      "\n",
      "[-4.1 -0.1  0.9  0.3 -0.9 -0.2]\n",
      "Score for training for iteration 15 is 0.940533929449217\n",
      "Score for testing for iteration 15 is -0.06114285714285716\n",
      "Training time: 0:00:00.156557\n",
      "\n",
      "\n",
      "[ 0.6  0.2 -0.5  1.3  0.5 -0.6]\n",
      "Score for training for iteration 16 is 0.9245570094332998\n",
      "Score for testing for iteration 16 is 0.8314285714285714\n",
      "Training time: 0:00:00.153725\n",
      "\n",
      "\n",
      "[-0.9 -1.6  3.5  2.6  1.   0.1]\n",
      "Score for training for iteration 17 is 0.9371093841436295\n",
      "Score for testing for iteration 17 is -0.3365714285714283\n",
      "Training time: 0:00:00.163984\n",
      "\n",
      "\n",
      "[-0.2  1.   0.5  0.9 -1.6  1.   0.7]\n",
      "Score for training for iteration 18 is 0.9069259789021991\n",
      "Score for testing for iteration 18 is 0.7803571428571429\n",
      "Training time: 0:00:00.161722\n",
      "\n",
      "\n",
      "[-1.1 -1.2 -0.6 -1.5 -0.3  0.7 -0.5]\n",
      "Score for training for iteration 19 is 0.9387859824780976\n",
      "Score for testing for iteration 19 is 0.7825\n",
      "Training time: 0:00:00.159721\n",
      "\n",
      "\n",
      "[-2.4 -0.2  0.3 -0.7  0.4 -0.5 -1.4]\n",
      "Score for training for iteration 20 is 0.9263735025925264\n",
      "Score for testing for iteration 20 is 0.6874999999999999\n",
      "Training time: 0:00:00.156260\n",
      "\n",
      "\n",
      "[ 0.5  0.8  0.2  0.3  0.8 -0.1]\n",
      "Score for training for iteration 21 is 0.9182615107324267\n",
      "Score for testing for iteration 21 is 0.9045714285714286\n",
      "Training time: 0:00:00.160185\n",
      "\n",
      "\n",
      "[-1.8 -1.1  0.8  1.  -2.5 -0.2  0.1]\n",
      "Score for training for iteration 22 is 0.926647595208296\n",
      "Score for testing for iteration 22 is 0.5575000000000001\n",
      "Training time: 0:00:00.158620\n",
      "\n",
      "\n",
      "[ 0.   0.7  0.7 -0.2  0.4 -1.5 -0.3]\n",
      "Score for training for iteration 23 is 0.9256556409797961\n",
      "Score for testing for iteration 23 is 0.8742857142857143\n",
      "Training time: 0:00:00.158959\n",
      "\n",
      "\n",
      "[-0.9 -2.8  0.4  0.3  0.  -0.9 -0.4]\n",
      "Score for training for iteration 24 is 0.9273654568210263\n",
      "Score for testing for iteration 24 is 0.6475\n",
      "Training time: 0:00:00.164336\n",
      "\n",
      "\n",
      "[ 1.1 -0.9  2.9  1.  -0.6  1.6]\n",
      "Score for training for iteration 25 is 0.9439456005243323\n",
      "Score for testing for iteration 25 is 0.18000000000000005\n",
      "Training time: 0:00:00.160765\n",
      "\n",
      "\n",
      "[ 0.6 -2.3 -1.3  0.1 -0.8  1.  -1.5]\n",
      "Score for training for iteration 26 is 0.9189730019667441\n",
      "Score for testing for iteration 26 is 0.5985714285714286\n",
      "Training time: 0:00:00.162681\n",
      "\n",
      "\n",
      "[ 0.3  0.5 -0.5 -0.9  0.5  1.3]\n",
      "Score for training for iteration 27 is 0.9418985978792631\n",
      "Score for testing for iteration 27 is 0.8091428571428572\n",
      "Training time: 0:00:00.160666\n",
      "\n",
      "\n",
      "[ 0.3  0.5  1.  -0.2 -2.6 -0.2 -0.3]\n",
      "Score for training for iteration 28 is 0.9169890935097443\n",
      "Score for testing for iteration 28 is 0.7046428571428572\n",
      "Training time: 0:00:00.156966\n",
      "\n",
      "\n",
      "[-1.3 -0.2 -1.2  1.2  0.7  0.9]\n",
      "Score for training for iteration 29 is 0.9282390393483299\n",
      "Score for testing for iteration 29 is 0.6622857142857141\n",
      "Training time: 0:00:00.161353\n",
      "\n",
      "\n",
      "[-1.2 -0.7 -1.8 -0.7 -1.1  0.5 -0.6]\n",
      "Score for training for iteration 30 is 0.92159645986054\n",
      "Score for testing for iteration 30 is 0.7328571428571429\n",
      "Training time: 0:00:00.161325\n",
      "\n",
      "\n",
      "[ 2.7 -2.6  2.7 -1.2  0.2  0.1  0. ]\n",
      "Score for training for iteration 31 is 0.9221576971214018\n",
      "Score for testing for iteration 31 is 0.1846428571428571\n",
      "Training time: 0:00:00.155991\n",
      "\n",
      "\n",
      "[ 2.2  0.2 -0.5  2.1  1.3 -1. ]\n",
      "Score for training for iteration 32 is 0.9364270499286066\n",
      "Score for testing for iteration 32 is 0.30114285714285727\n",
      "Training time: 0:00:00.161022\n",
      "\n",
      "\n",
      "[-1.1 -1.2  0.   1.   0.4  0.9  2.9]\n",
      "Score for training for iteration 33 is 0.9297278741283748\n",
      "Score for testing for iteration 33 is 0.5346428571428571\n",
      "Training time: 0:00:00.149383\n",
      "\n",
      "\n",
      "[ 0.2  0.4  0.5  0.5  0.7 -0.4]\n",
      "Score for training for iteration 34 is 0.9211195898972403\n",
      "Score for testing for iteration 34 is 0.9228571428571428\n",
      "Training time: 0:00:00.163951\n",
      "\n",
      "\n",
      "Final Score train: 0.9265963056401367\n",
      "Final Score test: 0.5075469387755102\n",
      "Cross validation time: 0:00:07.152923\n"
     ]
    },
    {
     "data": {
      "text/plain": [
       "0.5075469387755102"
      ]
     },
     "execution_count": 108,
     "metadata": {},
     "output_type": "execute_result"
    }
   ],
   "source": [
    "Regression('../kickoff-data-corrected/data.pickle.1.10.regression2',0.99,\"forest\",35,10,23)"
   ]
  }
 ],
 "metadata": {
  "kernelspec": {
   "display_name": "Python 3",
   "language": "python",
   "name": "python3"
  },
  "language_info": {
   "codemirror_mode": {
    "name": "ipython",
    "version": 3
   },
   "file_extension": ".py",
   "mimetype": "text/x-python",
   "name": "python",
   "nbconvert_exporter": "python",
   "pygments_lexer": "ipython3",
   "version": "3.5.2"
  }
 },
 "nbformat": 4,
 "nbformat_minor": 2
}
